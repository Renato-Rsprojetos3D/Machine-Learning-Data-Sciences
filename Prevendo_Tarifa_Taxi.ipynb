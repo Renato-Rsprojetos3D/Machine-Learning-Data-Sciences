{
 "cells": [
  {
   "cell_type": "markdown",
   "metadata": {},
   "source": [
    "<img src='taxi.jpg' />"
   ]
  },
  {
   "cell_type": "code",
   "execution_count": 33,
   "metadata": {},
   "outputs": [
    {
     "data": {
      "text/html": [
       "        <script type=\"text/javascript\">\n",
       "        window.PlotlyConfig = {MathJaxConfig: 'local'};\n",
       "        if (window.MathJax) {MathJax.Hub.Config({SVG: {font: \"STIX-Web\"}});}\n",
       "        if (typeof require !== 'undefined') {\n",
       "        require.undef(\"plotly\");\n",
       "        requirejs.config({\n",
       "            paths: {\n",
       "                'plotly': ['https://cdn.plot.ly/plotly-latest.min']\n",
       "            }\n",
       "        });\n",
       "        require(['plotly'], function(Plotly) {\n",
       "            window._Plotly = Plotly;\n",
       "        });\n",
       "        }\n",
       "        </script>\n",
       "        "
      ]
     },
     "metadata": {},
     "output_type": "display_data"
    }
   ],
   "source": [
    "# Importing Libraries\n",
    "import pandas as pd\n",
    "import folium\n",
    "import numpy as np\n",
    "import datetime as dt\n",
    "import plotly as py\n",
    "import plotly.express as px\n",
    "import plotly.graph_objs as go\n",
    "from plotly.subplots import make_subplots\n",
    "from plotly.offline import download_plotlyjs\n",
    "from plotly.offline import init_notebook_mode\n",
    "from plotly.offline import plot,iplot\n",
    "init_notebook_mode(connected=True)\n",
    "import matplotlib.pyplot as plt\n",
    "%matplotlib inline"
   ]
  },
  {
   "cell_type": "code",
   "execution_count": 34,
   "metadata": {},
   "outputs": [
    {
     "data": {
      "text/html": [
       "<div>\n",
       "<style scoped>\n",
       "    .dataframe tbody tr th:only-of-type {\n",
       "        vertical-align: middle;\n",
       "    }\n",
       "\n",
       "    .dataframe tbody tr th {\n",
       "        vertical-align: top;\n",
       "    }\n",
       "\n",
       "    .dataframe thead th {\n",
       "        text-align: right;\n",
       "    }\n",
       "</style>\n",
       "<table border=\"1\" class=\"dataframe\">\n",
       "  <thead>\n",
       "    <tr style=\"text-align: right;\">\n",
       "      <th></th>\n",
       "      <th>key</th>\n",
       "      <th>fare_amount</th>\n",
       "      <th>pickup_datetime</th>\n",
       "      <th>pickup_longitude</th>\n",
       "      <th>pickup_latitude</th>\n",
       "      <th>dropoff_longitude</th>\n",
       "      <th>dropoff_latitude</th>\n",
       "      <th>passenger_count</th>\n",
       "    </tr>\n",
       "  </thead>\n",
       "  <tbody>\n",
       "    <tr>\n",
       "      <td>0</td>\n",
       "      <td>2011-06-21 16:15:00.000000730</td>\n",
       "      <td>7.3</td>\n",
       "      <td>2011-06-21 16:15:00+00:00</td>\n",
       "      <td>-73.991875</td>\n",
       "      <td>40.754437</td>\n",
       "      <td>-73.977230</td>\n",
       "      <td>40.774323</td>\n",
       "      <td>3</td>\n",
       "    </tr>\n",
       "    <tr>\n",
       "      <td>1</td>\n",
       "      <td>2009-06-06 23:56:00.000000150</td>\n",
       "      <td>5.7</td>\n",
       "      <td>2009-06-06 23:56:00+00:00</td>\n",
       "      <td>-73.982357</td>\n",
       "      <td>40.762498</td>\n",
       "      <td>-73.973210</td>\n",
       "      <td>40.755345</td>\n",
       "      <td>2</td>\n",
       "    </tr>\n",
       "    <tr>\n",
       "      <td>2</td>\n",
       "      <td>2012-04-25 16:19:00.000000106</td>\n",
       "      <td>5.3</td>\n",
       "      <td>2012-04-25 16:19:00+00:00</td>\n",
       "      <td>-73.971913</td>\n",
       "      <td>40.759250</td>\n",
       "      <td>-73.962905</td>\n",
       "      <td>40.772160</td>\n",
       "      <td>1</td>\n",
       "    </tr>\n",
       "    <tr>\n",
       "      <td>3</td>\n",
       "      <td>2009-09-02 05:18:10.000000100</td>\n",
       "      <td>25.7</td>\n",
       "      <td>2009-09-02 05:18:10+00:00</td>\n",
       "      <td>-73.991729</td>\n",
       "      <td>40.760501</td>\n",
       "      <td>-73.861246</td>\n",
       "      <td>40.767619</td>\n",
       "      <td>1</td>\n",
       "    </tr>\n",
       "    <tr>\n",
       "      <td>4</td>\n",
       "      <td>2011-09-24 22:57:00.000000290</td>\n",
       "      <td>4.1</td>\n",
       "      <td>2011-09-24 22:57:00+00:00</td>\n",
       "      <td>-74.000685</td>\n",
       "      <td>40.742238</td>\n",
       "      <td>-74.000355</td>\n",
       "      <td>40.735275</td>\n",
       "      <td>2</td>\n",
       "    </tr>\n",
       "  </tbody>\n",
       "</table>\n",
       "</div>"
      ],
      "text/plain": [
       "                            key  fare_amount           pickup_datetime  \\\n",
       "0 2011-06-21 16:15:00.000000730          7.3 2011-06-21 16:15:00+00:00   \n",
       "1 2009-06-06 23:56:00.000000150          5.7 2009-06-06 23:56:00+00:00   \n",
       "2 2012-04-25 16:19:00.000000106          5.3 2012-04-25 16:19:00+00:00   \n",
       "3 2009-09-02 05:18:10.000000100         25.7 2009-09-02 05:18:10+00:00   \n",
       "4 2011-09-24 22:57:00.000000290          4.1 2011-09-24 22:57:00+00:00   \n",
       "\n",
       "   pickup_longitude  pickup_latitude  dropoff_longitude  dropoff_latitude  \\\n",
       "0        -73.991875        40.754437         -73.977230         40.774323   \n",
       "1        -73.982357        40.762498         -73.973210         40.755345   \n",
       "2        -73.971913        40.759250         -73.962905         40.772160   \n",
       "3        -73.991729        40.760501         -73.861246         40.767619   \n",
       "4        -74.000685        40.742238         -74.000355         40.735275   \n",
       "\n",
       "   passenger_count  \n",
       "0                3  \n",
       "1                2  \n",
       "2                1  \n",
       "3                1  \n",
       "4                2  "
      ]
     },
     "execution_count": 34,
     "metadata": {},
     "output_type": "execute_result"
    }
   ],
   "source": [
    "# Loading Data\n",
    "\n",
    "df_train = pd.read_csv('train-sample-250000.csv',parse_dates=['key','pickup_datetime'])\n",
    "df_train.head()"
   ]
  },
  {
   "cell_type": "code",
   "execution_count": 35,
   "metadata": {},
   "outputs": [
    {
     "data": {
      "text/html": [
       "<div>\n",
       "<style scoped>\n",
       "    .dataframe tbody tr th:only-of-type {\n",
       "        vertical-align: middle;\n",
       "    }\n",
       "\n",
       "    .dataframe tbody tr th {\n",
       "        vertical-align: top;\n",
       "    }\n",
       "\n",
       "    .dataframe thead th {\n",
       "        text-align: right;\n",
       "    }\n",
       "</style>\n",
       "<table border=\"1\" class=\"dataframe\">\n",
       "  <thead>\n",
       "    <tr style=\"text-align: right;\">\n",
       "      <th></th>\n",
       "      <th>key</th>\n",
       "      <th>fare_amount</th>\n",
       "      <th>pickup_datetime</th>\n",
       "      <th>pickup_longitude</th>\n",
       "      <th>pickup_latitude</th>\n",
       "      <th>dropoff_longitude</th>\n",
       "      <th>dropoff_latitude</th>\n",
       "      <th>passenger_count</th>\n",
       "    </tr>\n",
       "  </thead>\n",
       "  <tbody>\n",
       "    <tr>\n",
       "      <td>0</td>\n",
       "      <td>21/06/11 16:15:00</td>\n",
       "      <td>7.3</td>\n",
       "      <td>21/06/11 16:15:00</td>\n",
       "      <td>-73.991875</td>\n",
       "      <td>40.754437</td>\n",
       "      <td>-73.977230</td>\n",
       "      <td>40.774323</td>\n",
       "      <td>3</td>\n",
       "    </tr>\n",
       "    <tr>\n",
       "      <td>1</td>\n",
       "      <td>06/06/09 23:56:00</td>\n",
       "      <td>5.7</td>\n",
       "      <td>06/06/09 23:56:00</td>\n",
       "      <td>-73.982357</td>\n",
       "      <td>40.762498</td>\n",
       "      <td>-73.973210</td>\n",
       "      <td>40.755345</td>\n",
       "      <td>2</td>\n",
       "    </tr>\n",
       "    <tr>\n",
       "      <td>2</td>\n",
       "      <td>25/04/12 16:19:00</td>\n",
       "      <td>5.3</td>\n",
       "      <td>25/04/12 16:19:00</td>\n",
       "      <td>-73.971913</td>\n",
       "      <td>40.759250</td>\n",
       "      <td>-73.962905</td>\n",
       "      <td>40.772160</td>\n",
       "      <td>1</td>\n",
       "    </tr>\n",
       "    <tr>\n",
       "      <td>3</td>\n",
       "      <td>02/09/09 05:18:10</td>\n",
       "      <td>25.7</td>\n",
       "      <td>02/09/09 05:18:10</td>\n",
       "      <td>-73.991729</td>\n",
       "      <td>40.760501</td>\n",
       "      <td>-73.861246</td>\n",
       "      <td>40.767619</td>\n",
       "      <td>1</td>\n",
       "    </tr>\n",
       "    <tr>\n",
       "      <td>4</td>\n",
       "      <td>24/09/11 22:57:00</td>\n",
       "      <td>4.1</td>\n",
       "      <td>24/09/11 22:57:00</td>\n",
       "      <td>-74.000685</td>\n",
       "      <td>40.742238</td>\n",
       "      <td>-74.000355</td>\n",
       "      <td>40.735275</td>\n",
       "      <td>2</td>\n",
       "    </tr>\n",
       "  </tbody>\n",
       "</table>\n",
       "</div>"
      ],
      "text/plain": [
       "                 key  fare_amount    pickup_datetime  pickup_longitude  \\\n",
       "0  21/06/11 16:15:00          7.3  21/06/11 16:15:00        -73.991875   \n",
       "1  06/06/09 23:56:00          5.7  06/06/09 23:56:00        -73.982357   \n",
       "2  25/04/12 16:19:00          5.3  25/04/12 16:19:00        -73.971913   \n",
       "3  02/09/09 05:18:10         25.7  02/09/09 05:18:10        -73.991729   \n",
       "4  24/09/11 22:57:00          4.1  24/09/11 22:57:00        -74.000685   \n",
       "\n",
       "   pickup_latitude  dropoff_longitude  dropoff_latitude  passenger_count  \n",
       "0        40.754437         -73.977230         40.774323                3  \n",
       "1        40.762498         -73.973210         40.755345                2  \n",
       "2        40.759250         -73.962905         40.772160                1  \n",
       "3        40.760501         -73.861246         40.767619                1  \n",
       "4        40.742238         -74.000355         40.735275                2  "
      ]
     },
     "execution_count": 35,
     "metadata": {},
     "output_type": "execute_result"
    }
   ],
   "source": [
    "# Removing milliseconds from the key variable\n",
    "df_train['key'] = df_train.key.dt.strftime('%d/%m/%y %H:%M:%S')\n",
    "\n",
    "# Removing milliseconds from the pickup_datetime variable\n",
    "df_train['pickup_datetime'] = df_train.pickup_datetime.dt.strftime('%d/%m/%y %H:%M:%S')\n",
    "\n",
    "df_train.head()"
   ]
  },
  {
   "cell_type": "code",
   "execution_count": 36,
   "metadata": {},
   "outputs": [
    {
     "name": "stdout",
     "output_type": "stream",
     "text": [
      "True    250000\n",
      "dtype: int64\n"
     ]
    },
    {
     "data": {
      "text/html": [
       "<div>\n",
       "<style scoped>\n",
       "    .dataframe tbody tr th:only-of-type {\n",
       "        vertical-align: middle;\n",
       "    }\n",
       "\n",
       "    .dataframe tbody tr th {\n",
       "        vertical-align: top;\n",
       "    }\n",
       "\n",
       "    .dataframe thead th {\n",
       "        text-align: right;\n",
       "    }\n",
       "</style>\n",
       "<table border=\"1\" class=\"dataframe\">\n",
       "  <thead>\n",
       "    <tr style=\"text-align: right;\">\n",
       "      <th></th>\n",
       "      <th>fare_amount</th>\n",
       "      <th>pickup_datetime</th>\n",
       "      <th>pickup_longitude</th>\n",
       "      <th>pickup_latitude</th>\n",
       "      <th>dropoff_longitude</th>\n",
       "      <th>dropoff_latitude</th>\n",
       "      <th>passenger_count</th>\n",
       "    </tr>\n",
       "  </thead>\n",
       "  <tbody>\n",
       "    <tr>\n",
       "      <td>0</td>\n",
       "      <td>7.3</td>\n",
       "      <td>21/06/11 16:15:00</td>\n",
       "      <td>-73.991875</td>\n",
       "      <td>40.754437</td>\n",
       "      <td>-73.977230</td>\n",
       "      <td>40.774323</td>\n",
       "      <td>3</td>\n",
       "    </tr>\n",
       "    <tr>\n",
       "      <td>1</td>\n",
       "      <td>5.7</td>\n",
       "      <td>06/06/09 23:56:00</td>\n",
       "      <td>-73.982357</td>\n",
       "      <td>40.762498</td>\n",
       "      <td>-73.973210</td>\n",
       "      <td>40.755345</td>\n",
       "      <td>2</td>\n",
       "    </tr>\n",
       "    <tr>\n",
       "      <td>2</td>\n",
       "      <td>5.3</td>\n",
       "      <td>25/04/12 16:19:00</td>\n",
       "      <td>-73.971913</td>\n",
       "      <td>40.759250</td>\n",
       "      <td>-73.962905</td>\n",
       "      <td>40.772160</td>\n",
       "      <td>1</td>\n",
       "    </tr>\n",
       "    <tr>\n",
       "      <td>3</td>\n",
       "      <td>25.7</td>\n",
       "      <td>02/09/09 05:18:10</td>\n",
       "      <td>-73.991729</td>\n",
       "      <td>40.760501</td>\n",
       "      <td>-73.861246</td>\n",
       "      <td>40.767619</td>\n",
       "      <td>1</td>\n",
       "    </tr>\n",
       "    <tr>\n",
       "      <td>4</td>\n",
       "      <td>4.1</td>\n",
       "      <td>24/09/11 22:57:00</td>\n",
       "      <td>-74.000685</td>\n",
       "      <td>40.742238</td>\n",
       "      <td>-74.000355</td>\n",
       "      <td>40.735275</td>\n",
       "      <td>2</td>\n",
       "    </tr>\n",
       "  </tbody>\n",
       "</table>\n",
       "</div>"
      ],
      "text/plain": [
       "   fare_amount    pickup_datetime  pickup_longitude  pickup_latitude  \\\n",
       "0          7.3  21/06/11 16:15:00        -73.991875        40.754437   \n",
       "1          5.7  06/06/09 23:56:00        -73.982357        40.762498   \n",
       "2          5.3  25/04/12 16:19:00        -73.971913        40.759250   \n",
       "3         25.7  02/09/09 05:18:10        -73.991729        40.760501   \n",
       "4          4.1  24/09/11 22:57:00        -74.000685        40.742238   \n",
       "\n",
       "   dropoff_longitude  dropoff_latitude  passenger_count  \n",
       "0         -73.977230         40.774323                3  \n",
       "1         -73.973210         40.755345                2  \n",
       "2         -73.962905         40.772160                1  \n",
       "3         -73.861246         40.767619                1  \n",
       "4         -74.000355         40.735275                2  "
      ]
     },
     "execution_count": 36,
     "metadata": {},
     "output_type": "execute_result"
    }
   ],
   "source": [
    "# Checking if the variable key and pickup_datetime are the same\n",
    "print((df_train['key'] == df_train['pickup_datetime']).value_counts())\n",
    "\n",
    "# After checking the variables are the same, then I will dropping the \"key\" variable\n",
    "df_train = df_train.drop('key', axis = 1)\n",
    "\n",
    "df_train.head()"
   ]
  },
  {
   "cell_type": "code",
   "execution_count": 37,
   "metadata": {},
   "outputs": [
    {
     "data": {
      "text/plain": [
       "fare_amount          0\n",
       "pickup_datetime      0\n",
       "pickup_longitude     0\n",
       "pickup_latitude      0\n",
       "dropoff_longitude    0\n",
       "dropoff_latitude     0\n",
       "passenger_count      0\n",
       "dtype: int64"
      ]
     },
     "execution_count": 37,
     "metadata": {},
     "output_type": "execute_result"
    }
   ],
   "source": [
    "# Checking for missing values\n",
    "df_train.isnull().sum()"
   ]
  },
  {
   "cell_type": "code",
   "execution_count": 38,
   "metadata": {},
   "outputs": [
    {
     "name": "stdout",
     "output_type": "stream",
     "text": [
      "<class 'pandas.core.frame.DataFrame'>\n",
      "RangeIndex: 250000 entries, 0 to 249999\n",
      "Data columns (total 7 columns):\n",
      "fare_amount          250000 non-null float64\n",
      "pickup_datetime      250000 non-null object\n",
      "pickup_longitude     250000 non-null float64\n",
      "pickup_latitude      250000 non-null float64\n",
      "dropoff_longitude    250000 non-null float64\n",
      "dropoff_latitude     250000 non-null float64\n",
      "passenger_count      250000 non-null int64\n",
      "dtypes: float64(5), int64(1), object(1)\n",
      "memory usage: 13.4+ MB\n"
     ]
    }
   ],
   "source": [
    "# Checking the types of variables\n",
    "df_train.info()"
   ]
  },
  {
   "cell_type": "markdown",
   "metadata": {},
   "source": [
    "# Checking Inconsistency of Values"
   ]
  },
  {
   "cell_type": "code",
   "execution_count": 39,
   "metadata": {},
   "outputs": [
    {
     "data": {
      "text/plain": [
       "count    250000.000000\n",
       "mean        -72.507156\n",
       "std          15.715593\n",
       "min       -3384.713027\n",
       "25%         -73.992075\n",
       "50%         -73.981814\n",
       "75%         -73.967022\n",
       "max        2889.983960\n",
       "Name: pickup_longitude, dtype: float64"
      ]
     },
     "execution_count": 39,
     "metadata": {},
     "output_type": "execute_result"
    }
   ],
   "source": [
    "df_train.pickup_longitude.describe()"
   ]
  },
  {
   "cell_type": "code",
   "execution_count": 40,
   "metadata": {},
   "outputs": [],
   "source": [
    "plon = df_train['pickup_longitude']"
   ]
  },
  {
   "cell_type": "code",
   "execution_count": 41,
   "metadata": {},
   "outputs": [
    {
     "data": {
      "text/plain": [
       "(array([1.00000e+00, 0.00000e+00, 0.00000e+00, 0.00000e+00, 0.00000e+00,\n",
       "        0.00000e+00, 0.00000e+00, 0.00000e+00, 0.00000e+00, 0.00000e+00,\n",
       "        0.00000e+00, 0.00000e+00, 0.00000e+00, 0.00000e+00, 0.00000e+00,\n",
       "        0.00000e+00, 0.00000e+00, 0.00000e+00, 0.00000e+00, 0.00000e+00,\n",
       "        0.00000e+00, 0.00000e+00, 0.00000e+00, 0.00000e+00, 1.00000e+00,\n",
       "        0.00000e+00, 0.00000e+00, 0.00000e+00, 1.00000e+00, 0.00000e+00,\n",
       "        0.00000e+00, 0.00000e+00, 0.00000e+00, 0.00000e+00, 0.00000e+00,\n",
       "        1.00000e+00, 0.00000e+00, 0.00000e+00, 0.00000e+00, 0.00000e+00,\n",
       "        0.00000e+00, 0.00000e+00, 2.00000e+00, 0.00000e+00, 0.00000e+00,\n",
       "        0.00000e+00, 0.00000e+00, 0.00000e+00, 0.00000e+00, 0.00000e+00,\n",
       "        0.00000e+00, 1.00000e+00, 2.45048e+05, 4.82300e+03, 1.20000e+02,\n",
       "        0.00000e+00, 0.00000e+00, 0.00000e+00, 0.00000e+00, 0.00000e+00,\n",
       "        0.00000e+00, 0.00000e+00, 0.00000e+00, 0.00000e+00, 0.00000e+00,\n",
       "        0.00000e+00, 0.00000e+00, 0.00000e+00, 0.00000e+00, 0.00000e+00,\n",
       "        0.00000e+00, 0.00000e+00, 0.00000e+00, 0.00000e+00, 0.00000e+00,\n",
       "        0.00000e+00, 0.00000e+00, 0.00000e+00, 0.00000e+00, 0.00000e+00,\n",
       "        0.00000e+00, 0.00000e+00, 0.00000e+00, 0.00000e+00, 0.00000e+00,\n",
       "        0.00000e+00, 0.00000e+00, 0.00000e+00, 0.00000e+00, 0.00000e+00,\n",
       "        0.00000e+00, 0.00000e+00, 0.00000e+00, 0.00000e+00, 1.00000e+00,\n",
       "        0.00000e+00, 0.00000e+00, 0.00000e+00, 0.00000e+00, 1.00000e+00]),\n",
       " array([-3384.713027  , -3321.96605713, -3259.21908726, -3196.47211739,\n",
       "        -3133.72514752, -3070.97817765, -3008.23120778, -2945.48423791,\n",
       "        -2882.73726804, -2819.99029817, -2757.2433283 , -2694.49635843,\n",
       "        -2631.74938856, -2569.00241869, -2506.25544882, -2443.50847895,\n",
       "        -2380.76150908, -2318.01453921, -2255.26756934, -2192.52059947,\n",
       "        -2129.7736296 , -2067.02665973, -2004.27968986, -1941.53271999,\n",
       "        -1878.78575012, -1816.03878025, -1753.29181038, -1690.54484051,\n",
       "        -1627.79787064, -1565.05090077, -1502.3039309 , -1439.55696103,\n",
       "        -1376.80999116, -1314.06302129, -1251.31605142, -1188.56908155,\n",
       "        -1125.82211168, -1063.07514181, -1000.32817194,  -937.58120207,\n",
       "         -874.8342322 ,  -812.08726233,  -749.34029246,  -686.59332259,\n",
       "         -623.84635272,  -561.09938285,  -498.35241298,  -435.60544311,\n",
       "         -372.85847324,  -310.11150337,  -247.3645335 ,  -184.61756363,\n",
       "         -121.87059376,   -59.12362389,     3.62334598,    66.37031585,\n",
       "          129.11728572,   191.86425559,   254.61122546,   317.35819533,\n",
       "          380.1051652 ,   442.85213507,   505.59910494,   568.34607481,\n",
       "          631.09304468,   693.84001455,   756.58698442,   819.33395429,\n",
       "          882.08092416,   944.82789403,  1007.5748639 ,  1070.32183377,\n",
       "         1133.06880364,  1195.81577351,  1258.56274338,  1321.30971325,\n",
       "         1384.05668312,  1446.80365299,  1509.55062286,  1572.29759273,\n",
       "         1635.0445626 ,  1697.79153247,  1760.53850234,  1823.28547221,\n",
       "         1886.03244208,  1948.77941195,  2011.52638182,  2074.27335169,\n",
       "         2137.02032156,  2199.76729143,  2262.5142613 ,  2325.26123117,\n",
       "         2388.00820104,  2450.75517091,  2513.50214078,  2576.24911065,\n",
       "         2638.99608052,  2701.74305039,  2764.49002026,  2827.23699013,\n",
       "         2889.98396   ]),\n",
       " <a list of 100 Patch objects>)"
      ]
     },
     "execution_count": 41,
     "metadata": {},
     "output_type": "execute_result"
    },
    {
     "data": {
      "image/png": "[encoded data removed]",
      "text/plain": [
       "<Figure size 432x288 with 1 Axes>"
      ]
     },
     "metadata": {
      "needs_background": "light"
     },
     "output_type": "display_data"
    }
   ],
   "source": [
    "# Viewing the distribution of pickup_longitude values\n",
    "plt.hist(plon, bins= 100)"
   ]
  },
  {
   "cell_type": "code",
   "execution_count": 42,
   "metadata": {},
   "outputs": [
    {
     "data": {
      "text/plain": [
       "(array([1.00000e+00, 0.00000e+00, 0.00000e+00, 1.00000e+00, 0.00000e+00,\n",
       "        1.00000e+00, 0.00000e+00, 0.00000e+00, 0.00000e+00, 0.00000e+00,\n",
       "        0.00000e+00, 0.00000e+00, 9.00000e+00, 7.00000e+00, 1.00000e+00,\n",
       "        1.00000e+00, 0.00000e+00, 0.00000e+00, 0.00000e+00, 0.00000e+00,\n",
       "        0.00000e+00, 0.00000e+00, 0.00000e+00, 0.00000e+00, 1.00000e+00,\n",
       "        1.10000e+01, 0.00000e+00, 1.00000e+00, 0.00000e+00, 1.00000e+00,\n",
       "        2.00000e+00, 1.00000e+00, 7.00000e+00, 9.00000e+00, 1.60000e+01,\n",
       "        4.20000e+01, 2.40000e+01, 8.80000e+01, 1.07923e+05, 1.24961e+05,\n",
       "        2.54700e+03, 5.10400e+03, 4.09700e+03, 4.20000e+01, 2.20000e+01,\n",
       "        6.00000e+00, 4.00000e+00, 1.00000e+01, 0.00000e+00, 5.00000e+00,\n",
       "        2.00000e+00, 0.00000e+00, 1.00000e+00, 0.00000e+00, 8.10000e+01,\n",
       "        1.00000e+00, 1.00000e+00, 0.00000e+00, 0.00000e+00, 1.00000e+00,\n",
       "        0.00000e+00, 0.00000e+00, 0.00000e+00, 0.00000e+00, 0.00000e+00,\n",
       "        0.00000e+00, 0.00000e+00, 0.00000e+00, 0.00000e+00, 1.00000e+00,\n",
       "        0.00000e+00, 0.00000e+00, 0.00000e+00, 0.00000e+00, 0.00000e+00,\n",
       "        0.00000e+00, 1.00000e+00, 0.00000e+00, 0.00000e+00, 1.00000e+00]),\n",
       " array([-76.082568  , -76.02876886, -75.97496973, -75.92117059,\n",
       "        -75.86737145, -75.81357231, -75.75977318, -75.70597404,\n",
       "        -75.6521749 , -75.59837576, -75.54457663, -75.49077749,\n",
       "        -75.43697835, -75.38317921, -75.32938008, -75.27558094,\n",
       "        -75.2217818 , -75.16798266, -75.11418353, -75.06038439,\n",
       "        -75.00658525, -74.95278611, -74.89898698, -74.84518784,\n",
       "        -74.7913887 , -74.73758956, -74.68379043, -74.62999129,\n",
       "        -74.57619215, -74.52239301, -74.46859388, -74.41479474,\n",
       "        -74.3609956 , -74.30719646, -74.25339733, -74.19959819,\n",
       "        -74.14579905, -74.09199991, -74.03820078, -73.98440164,\n",
       "        -73.9306025 , -73.87680336, -73.82300423, -73.76920509,\n",
       "        -73.71540595, -73.66160681, -73.60780768, -73.55400854,\n",
       "        -73.5002094 , -73.44641026, -73.39261113, -73.33881199,\n",
       "        -73.28501285, -73.23121371, -73.17741458, -73.12361544,\n",
       "        -73.0698163 , -73.01601716, -72.96221803, -72.90841889,\n",
       "        -72.85461975, -72.80082061, -72.74702148, -72.69322234,\n",
       "        -72.6394232 , -72.58562406, -72.53182493, -72.47802579,\n",
       "        -72.42422665, -72.37042751, -72.31662838, -72.26282924,\n",
       "        -72.2090301 , -72.15523096, -72.10143183, -72.04763269,\n",
       "        -71.99383355, -71.94003441, -71.88623528, -71.83243614,\n",
       "        -71.778637  ]),\n",
       " <a list of 80 Patch objects>)"
      ]
     },
     "execution_count": 42,
     "metadata": {},
     "output_type": "execute_result"
    },
    {
     "data": {
      "image/png": "[encoded data removed]",
      "text/plain": [
       "<Figure size 432x288 with 1 Axes>"
      ]
     },
     "metadata": {
      "needs_background": "light"
     },
     "output_type": "display_data"
    }
   ],
   "source": [
    "# Zooming to validate whether the data is inconsistent or not\n",
    "plt.hist(plon[(plon > plon.median() - 2.5) & (plon < plon.median() + 2.5)], bins=80)"
   ]
  },
  {
   "cell_type": "code",
   "execution_count": 43,
   "metadata": {},
   "outputs": [
    {
     "name": "stdout",
     "output_type": "stream",
     "text": [
      "Numeric value \n",
      " True     244905\n",
      "False      5095\n",
      "Name: pickup_longitude, dtype: int64 \n",
      " Percentage value  \n",
      " True     97.962\n",
      "False     2.038\n",
      "Name: pickup_longitude, dtype: float64\n"
     ]
    }
   ],
   "source": [
    "# Creating the plon_val variable to store values that will be within the condition\n",
    "plon_val = (plon > plon.median() - 0.5) & (plon < plon.median() + 0.5)\n",
    "\n",
    "# Checking the amount of true false records\n",
    "print(\"Numeric value\",\"\\n\",plon_val.value_counts(),\"\\n\",\"Percentage value \" , \"\\n\" ,plon_val.value_counts(normalize=True)*100)"
   ]
  },
  {
   "cell_type": "code",
   "execution_count": 44,
   "metadata": {},
   "outputs": [
    {
     "data": {
      "text/plain": [
       "count    250000.000000\n",
       "mean         39.920927\n",
       "std           8.901278\n",
       "min       -2108.157765\n",
       "25%          40.734967\n",
       "50%          40.752640\n",
       "75%          40.767147\n",
       "max        1978.490050\n",
       "Name: pickup_latitude, dtype: float64"
      ]
     },
     "execution_count": 44,
     "metadata": {},
     "output_type": "execute_result"
    }
   ],
   "source": [
    "df_train.pickup_latitude.describe()"
   ]
  },
  {
   "cell_type": "code",
   "execution_count": 45,
   "metadata": {},
   "outputs": [],
   "source": [
    "lat = df_train['pickup_latitude']"
   ]
  },
  {
   "cell_type": "code",
   "execution_count": 46,
   "metadata": {},
   "outputs": [
    {
     "data": {
      "text/plain": [
       "(array([1.00000e+00, 0.00000e+00, 0.00000e+00, 0.00000e+00, 0.00000e+00,\n",
       "        0.00000e+00, 0.00000e+00, 0.00000e+00, 0.00000e+00, 0.00000e+00,\n",
       "        0.00000e+00, 0.00000e+00, 0.00000e+00, 0.00000e+00, 0.00000e+00,\n",
       "        0.00000e+00, 0.00000e+00, 0.00000e+00, 0.00000e+00, 0.00000e+00,\n",
       "        0.00000e+00, 0.00000e+00, 0.00000e+00, 0.00000e+00, 0.00000e+00,\n",
       "        0.00000e+00, 0.00000e+00, 0.00000e+00, 0.00000e+00, 0.00000e+00,\n",
       "        0.00000e+00, 0.00000e+00, 0.00000e+00, 0.00000e+00, 0.00000e+00,\n",
       "        0.00000e+00, 0.00000e+00, 0.00000e+00, 0.00000e+00, 0.00000e+00,\n",
       "        1.00000e+00, 0.00000e+00, 0.00000e+00, 0.00000e+00, 0.00000e+00,\n",
       "        0.00000e+00, 0.00000e+00, 0.00000e+00, 0.00000e+00, 1.19000e+02,\n",
       "        0.00000e+00, 4.78900e+03, 2.45086e+05, 0.00000e+00, 0.00000e+00,\n",
       "        0.00000e+00, 0.00000e+00, 0.00000e+00, 0.00000e+00, 0.00000e+00,\n",
       "        0.00000e+00, 1.00000e+00, 0.00000e+00, 1.00000e+00, 0.00000e+00,\n",
       "        0.00000e+00, 0.00000e+00, 0.00000e+00, 0.00000e+00, 0.00000e+00,\n",
       "        0.00000e+00, 0.00000e+00, 0.00000e+00, 0.00000e+00, 0.00000e+00,\n",
       "        0.00000e+00, 0.00000e+00, 0.00000e+00, 0.00000e+00, 0.00000e+00,\n",
       "        0.00000e+00, 0.00000e+00, 1.00000e+00, 0.00000e+00, 0.00000e+00,\n",
       "        0.00000e+00, 0.00000e+00, 0.00000e+00, 0.00000e+00, 0.00000e+00,\n",
       "        0.00000e+00, 0.00000e+00, 0.00000e+00, 0.00000e+00, 0.00000e+00,\n",
       "        0.00000e+00, 0.00000e+00, 0.00000e+00, 0.00000e+00, 1.00000e+00]),\n",
       " array([-2108.157765  , -2067.29128685, -2026.4248087 , -1985.55833055,\n",
       "        -1944.6918524 , -1903.82537425, -1862.9588961 , -1822.09241795,\n",
       "        -1781.2259398 , -1740.35946165, -1699.4929835 , -1658.62650535,\n",
       "        -1617.7600272 , -1576.89354905, -1536.0270709 , -1495.16059275,\n",
       "        -1454.2941146 , -1413.42763645, -1372.5611583 , -1331.69468015,\n",
       "        -1290.828202  , -1249.96172385, -1209.0952457 , -1168.22876755,\n",
       "        -1127.3622894 , -1086.49581125, -1045.6293331 , -1004.76285495,\n",
       "         -963.8963768 ,  -923.02989865,  -882.1634205 ,  -841.29694235,\n",
       "         -800.4304642 ,  -759.56398605,  -718.6975079 ,  -677.83102975,\n",
       "         -636.9645516 ,  -596.09807345,  -555.2315953 ,  -514.36511715,\n",
       "         -473.498639  ,  -432.63216085,  -391.7656827 ,  -350.89920455,\n",
       "         -310.0327264 ,  -269.16624825,  -228.2997701 ,  -187.43329195,\n",
       "         -146.5668138 ,  -105.70033565,   -64.8338575 ,   -23.96737935,\n",
       "           16.8990988 ,    57.76557695,    98.6320551 ,   139.49853325,\n",
       "          180.3650114 ,   221.23148955,   262.0979677 ,   302.96444585,\n",
       "          343.830924  ,   384.69740215,   425.5638803 ,   466.43035845,\n",
       "          507.2968366 ,   548.16331475,   589.0297929 ,   629.89627105,\n",
       "          670.7627492 ,   711.62922735,   752.4957055 ,   793.36218365,\n",
       "          834.2286618 ,   875.09513995,   915.9616181 ,   956.82809625,\n",
       "          997.6945744 ,  1038.56105255,  1079.4275307 ,  1120.29400885,\n",
       "         1161.160487  ,  1202.02696515,  1242.8934433 ,  1283.75992145,\n",
       "         1324.6263996 ,  1365.49287775,  1406.3593559 ,  1447.22583405,\n",
       "         1488.0923122 ,  1528.95879035,  1569.8252685 ,  1610.69174665,\n",
       "         1651.5582248 ,  1692.42470295,  1733.2911811 ,  1774.15765925,\n",
       "         1815.0241374 ,  1855.89061555,  1896.7570937 ,  1937.62357185,\n",
       "         1978.49005   ]),\n",
       " <a list of 100 Patch objects>)"
      ]
     },
     "execution_count": 46,
     "metadata": {},
     "output_type": "execute_result"
    },
    {
     "data": {
      "image/png": "[encoded data removed]",
      "text/plain": [
       "<Figure size 432x288 with 1 Axes>"
      ]
     },
     "metadata": {
      "needs_background": "light"
     },
     "output_type": "display_data"
    }
   ],
   "source": [
    "# Viewing the distribution of pickup_latitude values\n",
    "plt.hist(lat, bins= 100)"
   ]
  },
  {
   "cell_type": "code",
   "execution_count": 47,
   "metadata": {},
   "outputs": [
    {
     "data": {
      "text/plain": [
       "(array([1.00000e+00, 0.00000e+00, 0.00000e+00, 0.00000e+00, 1.00000e+00,\n",
       "        0.00000e+00, 0.00000e+00, 0.00000e+00, 0.00000e+00, 0.00000e+00,\n",
       "        1.00000e+00, 0.00000e+00, 0.00000e+00, 1.00000e+00, 1.00000e+00,\n",
       "        0.00000e+00, 0.00000e+00, 0.00000e+00, 0.00000e+00, 0.00000e+00,\n",
       "        0.00000e+00, 1.00000e+00, 0.00000e+00, 0.00000e+00, 0.00000e+00,\n",
       "        0.00000e+00, 2.20000e+01, 1.00000e+00, 0.00000e+00, 0.00000e+00,\n",
       "        0.00000e+00, 0.00000e+00, 1.00000e+00, 0.00000e+00, 1.00000e+00,\n",
       "        1.00000e+00, 2.00000e+00, 1.20000e+01, 0.00000e+00, 4.00000e+00,\n",
       "        4.00000e+00, 5.00000e+00, 4.00000e+00, 8.00000e+00, 1.10000e+01,\n",
       "        9.90000e+01, 4.54000e+03, 3.30870e+04, 1.77896e+05, 2.87370e+04,\n",
       "        4.82000e+02, 3.50000e+01, 1.00000e+01, 6.00000e+00, 1.30000e+01,\n",
       "        2.00000e+00, 2.00000e+00, 0.00000e+00, 1.00000e+00, 0.00000e+00,\n",
       "        7.90000e+01, 1.00000e+00, 2.00000e+00, 0.00000e+00, 0.00000e+00,\n",
       "        0.00000e+00, 0.00000e+00, 0.00000e+00, 1.00000e+00, 0.00000e+00,\n",
       "        0.00000e+00, 0.00000e+00, 0.00000e+00, 0.00000e+00, 0.00000e+00,\n",
       "        0.00000e+00, 0.00000e+00, 1.00000e+00, 0.00000e+00, 2.00000e+00]),\n",
       " array([38.255737  , 38.30721533, 38.35869365, 38.41017198, 38.4616503 ,\n",
       "        38.51312863, 38.56460695, 38.61608528, 38.6675636 , 38.71904193,\n",
       "        38.77052025, 38.82199858, 38.8734769 , 38.92495523, 38.97643355,\n",
       "        39.02791188, 39.0793902 , 39.13086853, 39.18234685, 39.23382517,\n",
       "        39.2853035 , 39.33678183, 39.38826015, 39.43973848, 39.4912168 ,\n",
       "        39.54269513, 39.59417345, 39.64565178, 39.6971301 , 39.74860843,\n",
       "        39.80008675, 39.85156508, 39.9030434 , 39.95452172, 40.00600005,\n",
       "        40.05747838, 40.1089567 , 40.16043503, 40.21191335, 40.26339168,\n",
       "        40.31487   , 40.36634833, 40.41782665, 40.46930498, 40.5207833 ,\n",
       "        40.57226163, 40.62373995, 40.67521828, 40.7266966 , 40.77817493,\n",
       "        40.82965325, 40.88113158, 40.9326099 , 40.98408823, 41.03556655,\n",
       "        41.08704488, 41.1385232 , 41.19000152, 41.24147985, 41.29295818,\n",
       "        41.3444365 , 41.39591483, 41.44739315, 41.49887148, 41.5503498 ,\n",
       "        41.60182813, 41.65330645, 41.70478478, 41.7562631 , 41.80774143,\n",
       "        41.85921975, 41.91069807, 41.9621764 , 42.01365473, 42.06513305,\n",
       "        42.11661138, 42.1680897 , 42.21956803, 42.27104635, 42.32252468,\n",
       "        42.374003  ]),\n",
       " <a list of 80 Patch objects>)"
      ]
     },
     "execution_count": 47,
     "metadata": {},
     "output_type": "execute_result"
    },
    {
     "data": {
      "image/png": "[encoded data removed]",
      "text/plain": [
       "<Figure size 432x288 with 1 Axes>"
      ]
     },
     "metadata": {
      "needs_background": "light"
     },
     "output_type": "display_data"
    }
   ],
   "source": [
    "# Zooming to validate whether the data is inconsistent or not\n",
    "plt.hist(lat[(lat > lat.median() - 2.5) & (lat < lat.median() + 2.5)], bins=80)"
   ]
  },
  {
   "cell_type": "code",
   "execution_count": 48,
   "metadata": {},
   "outputs": [
    {
     "name": "stdout",
     "output_type": "stream",
     "text": [
      "Numeric value \n",
      " True     244945\n",
      "False      5055\n",
      "Name: pickup_latitude, dtype: int64 \n",
      " Percentage value  \n",
      " True     97.978\n",
      "False     2.022\n",
      "Name: pickup_latitude, dtype: float64\n"
     ]
    }
   ],
   "source": [
    "# Creating the lat_val variable to store values that will be within the condition\n",
    "lat_val = (lat > lat.median() - 0.5) & (lat < lat.median() + 0.5)\n",
    "\n",
    "# Checking the amount of true false records\n",
    "print(\"Numeric value\",\"\\n\",lat_val.value_counts(),\"\\n\",\"Percentage value \" , \"\\n\" ,lat_val.value_counts(normalize=True)*100)"
   ]
  },
  {
   "cell_type": "code",
   "execution_count": 49,
   "metadata": {},
   "outputs": [
    {
     "data": {
      "text/plain": [
       "count    250000.000000\n",
       "mean        -72.524178\n",
       "std          14.205741\n",
       "min       -3047.714955\n",
       "25%         -73.991404\n",
       "50%         -73.980100\n",
       "75%         -73.963635\n",
       "max        2554.397307\n",
       "Name: dropoff_longitude, dtype: float64"
      ]
     },
     "execution_count": 49,
     "metadata": {},
     "output_type": "execute_result"
    }
   ],
   "source": [
    "df_train.dropoff_longitude.describe()"
   ]
  },
  {
   "cell_type": "code",
   "execution_count": 50,
   "metadata": {},
   "outputs": [],
   "source": [
    "dlon = df_train['dropoff_longitude']"
   ]
  },
  {
   "cell_type": "code",
   "execution_count": 51,
   "metadata": {},
   "outputs": [
    {
     "data": {
      "text/plain": [
       "(array([1.00000e+00, 0.00000e+00, 0.00000e+00, 0.00000e+00, 0.00000e+00,\n",
       "        0.00000e+00, 0.00000e+00, 0.00000e+00, 1.00000e+00, 4.00000e+00,\n",
       "        2.00000e+00, 1.00000e+00, 1.00000e+00, 0.00000e+00, 0.00000e+00,\n",
       "        0.00000e+00, 0.00000e+00, 0.00000e+00, 0.00000e+00, 1.00000e+00,\n",
       "        0.00000e+00, 0.00000e+00, 0.00000e+00, 0.00000e+00, 1.20000e+01,\n",
       "        1.00000e+00, 0.00000e+00, 2.00000e+00, 2.00000e+00, 2.00000e+00,\n",
       "        3.00000e+00, 7.00000e+00, 1.70000e+01, 1.90000e+01, 3.74000e+02,\n",
       "        3.80000e+01, 8.40000e+01, 1.14520e+04, 1.87251e+05, 3.60670e+04,\n",
       "        5.68200e+03, 1.27400e+03, 2.35800e+03, 2.15000e+02, 5.60000e+01,\n",
       "        2.10000e+01, 1.40000e+01, 1.00000e+01, 5.00000e+00, 7.00000e+00,\n",
       "        3.00000e+00, 4.00000e+00, 1.00000e+00, 1.00000e+00, 0.00000e+00,\n",
       "        6.10000e+01, 0.00000e+00, 1.00000e+00, 0.00000e+00, 0.00000e+00,\n",
       "        1.00000e+00, 0.00000e+00, 0.00000e+00, 0.00000e+00, 0.00000e+00,\n",
       "        0.00000e+00, 0.00000e+00, 0.00000e+00, 0.00000e+00, 0.00000e+00,\n",
       "        1.00000e+00, 0.00000e+00, 0.00000e+00, 0.00000e+00, 0.00000e+00,\n",
       "        0.00000e+00, 0.00000e+00, 0.00000e+00, 0.00000e+00, 1.00000e+00]),\n",
       " array([-75.862675  , -75.81385725, -75.7650395 , -75.71622175,\n",
       "        -75.667404  , -75.61858625, -75.5697685 , -75.52095075,\n",
       "        -75.472133  , -75.42331525, -75.3744975 , -75.32567975,\n",
       "        -75.276862  , -75.22804425, -75.1792265 , -75.13040875,\n",
       "        -75.081591  , -75.03277325, -74.9839555 , -74.93513775,\n",
       "        -74.88632   , -74.83750225, -74.7886845 , -74.73986675,\n",
       "        -74.691049  , -74.64223125, -74.5934135 , -74.54459575,\n",
       "        -74.495778  , -74.44696025, -74.3981425 , -74.34932475,\n",
       "        -74.300507  , -74.25168925, -74.2028715 , -74.15405375,\n",
       "        -74.105236  , -74.05641825, -74.0076005 , -73.95878275,\n",
       "        -73.909965  , -73.86114725, -73.8123295 , -73.76351175,\n",
       "        -73.714694  , -73.66587625, -73.6170585 , -73.56824075,\n",
       "        -73.519423  , -73.47060525, -73.4217875 , -73.37296975,\n",
       "        -73.324152  , -73.27533425, -73.2265165 , -73.17769875,\n",
       "        -73.128881  , -73.08006325, -73.0312455 , -72.98242775,\n",
       "        -72.93361   , -72.88479225, -72.8359745 , -72.78715675,\n",
       "        -72.738339  , -72.68952125, -72.6407035 , -72.59188575,\n",
       "        -72.543068  , -72.49425025, -72.4454325 , -72.39661475,\n",
       "        -72.347797  , -72.29897925, -72.2501615 , -72.20134375,\n",
       "        -72.152526  , -72.10370825, -72.0548905 , -72.00607275,\n",
       "        -71.957255  ]),\n",
       " <a list of 80 Patch objects>)"
      ]
     },
     "execution_count": 51,
     "metadata": {},
     "output_type": "execute_result"
    },
    {
     "data": {
      "image/png": "[encoded data removed]",
      "text/plain": [
       "<Figure size 1080x360 with 2 Axes>"
      ]
     },
     "metadata": {
      "needs_background": "light"
     },
     "output_type": "display_data"
    }
   ],
   "source": [
    "fig , ax = plt.subplots(1, 2 , figsize = (15,5))\n",
    "ax[0].hist(dlon, bins=100)\n",
    "ax[1].hist(dlon[(dlon > dlon.median() - 2.5) & (dlon < dlon.median() + 2.5)], bins=80)"
   ]
  },
  {
   "cell_type": "code",
   "execution_count": 52,
   "metadata": {},
   "outputs": [
    {
     "name": "stdout",
     "output_type": "stream",
     "text": [
      "Numeric value \n",
      " True     244950\n",
      "False      5050\n",
      "Name: dropoff_longitude, dtype: int64 \n",
      " Percentage value  \n",
      " True     97.98\n",
      "False     2.02\n",
      "Name: dropoff_longitude, dtype: float64\n"
     ]
    }
   ],
   "source": [
    "# Creating the dlon_val variable to store values that will be within the condition\n",
    "dlon_val = (dlon > dlon.median() - 0.5) & (dlon < dlon.median() + 0.5)\n",
    "\n",
    "# Checking the amount of true false records\n",
    "print(\"Numeric value\",\"\\n\",dlon_val.value_counts(),\"\\n\",\"Percentage value \" , \"\\n\" ,dlon_val.value_counts(normalize=True)*100)"
   ]
  },
  {
   "cell_type": "code",
   "execution_count": 53,
   "metadata": {},
   "outputs": [
    {
     "data": {
      "text/plain": [
       "count    250000.000000\n",
       "mean         39.929391\n",
       "std          10.503590\n",
       "min       -2450.704857\n",
       "25%          40.734032\n",
       "50%          40.753296\n",
       "75%          40.768162\n",
       "max        2561.559055\n",
       "Name: dropoff_latitude, dtype: float64"
      ]
     },
     "execution_count": 53,
     "metadata": {},
     "output_type": "execute_result"
    }
   ],
   "source": [
    "df_train.dropoff_latitude.describe()"
   ]
  },
  {
   "cell_type": "code",
   "execution_count": 54,
   "metadata": {},
   "outputs": [
    {
     "data": {
      "text/plain": [
       "(array([1.00000e+00, 0.00000e+00, 0.00000e+00, 0.00000e+00, 0.00000e+00,\n",
       "        0.00000e+00, 0.00000e+00, 0.00000e+00, 1.00000e+00, 4.00000e+00,\n",
       "        2.00000e+00, 1.00000e+00, 1.00000e+00, 0.00000e+00, 0.00000e+00,\n",
       "        0.00000e+00, 0.00000e+00, 0.00000e+00, 0.00000e+00, 1.00000e+00,\n",
       "        0.00000e+00, 0.00000e+00, 0.00000e+00, 0.00000e+00, 1.20000e+01,\n",
       "        1.00000e+00, 0.00000e+00, 2.00000e+00, 2.00000e+00, 2.00000e+00,\n",
       "        3.00000e+00, 7.00000e+00, 1.70000e+01, 1.90000e+01, 3.74000e+02,\n",
       "        3.80000e+01, 8.40000e+01, 1.14520e+04, 1.87251e+05, 3.60670e+04,\n",
       "        5.68200e+03, 1.27400e+03, 2.35800e+03, 2.15000e+02, 5.60000e+01,\n",
       "        2.10000e+01, 1.40000e+01, 1.00000e+01, 5.00000e+00, 7.00000e+00,\n",
       "        3.00000e+00, 4.00000e+00, 1.00000e+00, 1.00000e+00, 0.00000e+00,\n",
       "        6.10000e+01, 0.00000e+00, 1.00000e+00, 0.00000e+00, 0.00000e+00,\n",
       "        1.00000e+00, 0.00000e+00, 0.00000e+00, 0.00000e+00, 0.00000e+00,\n",
       "        0.00000e+00, 0.00000e+00, 0.00000e+00, 0.00000e+00, 0.00000e+00,\n",
       "        1.00000e+00, 0.00000e+00, 0.00000e+00, 0.00000e+00, 0.00000e+00,\n",
       "        0.00000e+00, 0.00000e+00, 0.00000e+00, 0.00000e+00, 1.00000e+00]),\n",
       " array([-75.862675  , -75.81385725, -75.7650395 , -75.71622175,\n",
       "        -75.667404  , -75.61858625, -75.5697685 , -75.52095075,\n",
       "        -75.472133  , -75.42331525, -75.3744975 , -75.32567975,\n",
       "        -75.276862  , -75.22804425, -75.1792265 , -75.13040875,\n",
       "        -75.081591  , -75.03277325, -74.9839555 , -74.93513775,\n",
       "        -74.88632   , -74.83750225, -74.7886845 , -74.73986675,\n",
       "        -74.691049  , -74.64223125, -74.5934135 , -74.54459575,\n",
       "        -74.495778  , -74.44696025, -74.3981425 , -74.34932475,\n",
       "        -74.300507  , -74.25168925, -74.2028715 , -74.15405375,\n",
       "        -74.105236  , -74.05641825, -74.0076005 , -73.95878275,\n",
       "        -73.909965  , -73.86114725, -73.8123295 , -73.76351175,\n",
       "        -73.714694  , -73.66587625, -73.6170585 , -73.56824075,\n",
       "        -73.519423  , -73.47060525, -73.4217875 , -73.37296975,\n",
       "        -73.324152  , -73.27533425, -73.2265165 , -73.17769875,\n",
       "        -73.128881  , -73.08006325, -73.0312455 , -72.98242775,\n",
       "        -72.93361   , -72.88479225, -72.8359745 , -72.78715675,\n",
       "        -72.738339  , -72.68952125, -72.6407035 , -72.59188575,\n",
       "        -72.543068  , -72.49425025, -72.4454325 , -72.39661475,\n",
       "        -72.347797  , -72.29897925, -72.2501615 , -72.20134375,\n",
       "        -72.152526  , -72.10370825, -72.0548905 , -72.00607275,\n",
       "        -71.957255  ]),\n",
       " <a list of 80 Patch objects>)"
      ]
     },
     "execution_count": 54,
     "metadata": {},
     "output_type": "execute_result"
    },
    {
     "data": {
      "image/png": "[encoded data removed]",
      "text/plain": [
       "<Figure size 1080x360 with 2 Axes>"
      ]
     },
     "metadata": {
      "needs_background": "light"
     },
     "output_type": "display_data"
    }
   ],
   "source": [
    "dlat = df_train['dropoff_longitude']\n",
    "\n",
    "fig , ax = plt.subplots(1, 2 , figsize = (15,5))\n",
    "ax[0].hist(dlat, bins=100)\n",
    "ax[1].hist(dlat[(dlat > dlat.median() - 2.5) & (dlat < dlat.median() + 2.5)], bins=80)"
   ]
  },
  {
   "cell_type": "code",
   "execution_count": 55,
   "metadata": {},
   "outputs": [
    {
     "name": "stdout",
     "output_type": "stream",
     "text": [
      "Numeric value \n",
      " True     244950\n",
      "False      5050\n",
      "Name: dropoff_longitude, dtype: int64 \n",
      " Percentage value  \n",
      " True     97.98\n",
      "False     2.02\n",
      "Name: dropoff_longitude, dtype: float64\n"
     ]
    }
   ],
   "source": [
    "# Creating the dlat_val variable to store values that will be within the condition\n",
    "dlat_val = (dlat > dlat.median() - 0.5) & (dlat < dlat.median() + 0.5)\n",
    "\n",
    "# Checking the amount of true false records\n",
    "print(\"Numeric value\",\"\\n\",dlat_val.value_counts(),\"\\n\",\"Percentage value \" , \"\\n\" ,dlat_val.value_counts(normalize=True)*100)"
   ]
  },
  {
   "cell_type": "code",
   "execution_count": 56,
   "metadata": {},
   "outputs": [
    {
     "data": {
      "text/plain": [
       "count    250000.000000\n",
       "mean          1.688128\n",
       "std           1.375412\n",
       "min           0.000000\n",
       "25%           1.000000\n",
       "50%           1.000000\n",
       "75%           2.000000\n",
       "max         208.000000\n",
       "Name: passenger_count, dtype: float64"
      ]
     },
     "execution_count": 56,
     "metadata": {},
     "output_type": "execute_result"
    }
   ],
   "source": [
    "pass_count = df_train['passenger_count']\n",
    "pass_count.describe()"
   ]
  },
  {
   "cell_type": "code",
   "execution_count": 57,
   "metadata": {},
   "outputs": [
    {
     "name": "stdout",
     "output_type": "stream",
     "text": [
      "Number of times we have zero 861 \n",
      " Average times we have zero 0.003444\n"
     ]
    }
   ],
   "source": [
    "print(\"Number of times we have zero\",(pass_count == 0).sum(),\"\\n\",\"Average times we have zero\",(pass_count == 0).mean())"
   ]
  },
  {
   "cell_type": "code",
   "execution_count": 58,
   "metadata": {},
   "outputs": [
    {
     "data": {
      "text/plain": [
       "(array([   861.,      0.,      0.,      0.,      0.,      0.,      0.,\n",
       "             0.,      0.,      0.,      0.,      0.,      0., 172964.,\n",
       "             0.,      0.,      0.,      0.,      0.,      0.,      0.,\n",
       "             0.,      0.,      0.,      0.,      0.,  36686.,      0.,\n",
       "             0.,      0.,      0.,      0.,      0.,      0.,      0.,\n",
       "             0.,      0.,      0.,      0.,      0.,  11001.,      0.,\n",
       "             0.,      0.,      0.,      0.,      0.,      0.,      0.,\n",
       "             0.,      0.,      0.,      0.,   5338.,      0.,      0.,\n",
       "             0.,      0.,      0.,      0.,      0.,      0.,      0.,\n",
       "             0.,      0.,      0.,  17761.,      0.,      0.,      0.,\n",
       "             0.,      0.,      0.,      0.,      0.,      0.,      0.,\n",
       "             0.,      0.,   5388.]),\n",
       " array([0.   , 0.075, 0.15 , 0.225, 0.3  , 0.375, 0.45 , 0.525, 0.6  ,\n",
       "        0.675, 0.75 , 0.825, 0.9  , 0.975, 1.05 , 1.125, 1.2  , 1.275,\n",
       "        1.35 , 1.425, 1.5  , 1.575, 1.65 , 1.725, 1.8  , 1.875, 1.95 ,\n",
       "        2.025, 2.1  , 2.175, 2.25 , 2.325, 2.4  , 2.475, 2.55 , 2.625,\n",
       "        2.7  , 2.775, 2.85 , 2.925, 3.   , 3.075, 3.15 , 3.225, 3.3  ,\n",
       "        3.375, 3.45 , 3.525, 3.6  , 3.675, 3.75 , 3.825, 3.9  , 3.975,\n",
       "        4.05 , 4.125, 4.2  , 4.275, 4.35 , 4.425, 4.5  , 4.575, 4.65 ,\n",
       "        4.725, 4.8  , 4.875, 4.95 , 5.025, 5.1  , 5.175, 5.25 , 5.325,\n",
       "        5.4  , 5.475, 5.55 , 5.625, 5.7  , 5.775, 5.85 , 5.925, 6.   ]),\n",
       " <a list of 80 Patch objects>)"
      ]
     },
     "execution_count": 58,
     "metadata": {},
     "output_type": "execute_result"
    },
    {
     "data": {
      "image/png": "[encoded data removed]",
      "text/plain": [
       "<Figure size 1080x360 with 2 Axes>"
      ]
     },
     "metadata": {
      "needs_background": "light"
     },
     "output_type": "display_data"
    }
   ],
   "source": [
    "# Viewing the distribution of passenger_count values\n",
    "# Zooming to validate whether the data is inconsistent or not\n",
    "fig , ax = plt.subplots(1, 2 , figsize = (15,5))\n",
    "ax[0].hist(pass_count, bins=100)\n",
    "ax[1].hist(pass_count[pass_count < 20] , bins=80)"
   ]
  },
  {
   "cell_type": "code",
   "execution_count": 59,
   "metadata": {},
   "outputs": [
    {
     "name": "stdout",
     "output_type": "stream",
     "text": [
      "Numeric value \n",
      " True     249138\n",
      "False       862\n",
      "Name: passenger_count, dtype: int64 \n",
      " Percentage value  \n",
      " True     99.6552\n",
      "False     0.3448\n",
      "Name: passenger_count, dtype: float64\n"
     ]
    }
   ],
   "source": [
    "# Creating the pass_count_val variable to store values that will be within the condition\n",
    "pass_count_val = (pass_count >= 1) & (pass_count <= 6)\n",
    "\n",
    "# Checking the amount of true false records\n",
    "print(\"Numeric value\",\"\\n\",pass_count_val.value_counts(),\"\\n\",\"Percentage value \" , \"\\n\" ,pass_count_val.value_counts(normalize=True)*100)"
   ]
  },
  {
   "cell_type": "code",
   "execution_count": 60,
   "metadata": {},
   "outputs": [
    {
     "data": {
      "text/plain": [
       "count    250000.000000\n",
       "mean         11.328223\n",
       "std           9.699374\n",
       "min          -7.700000\n",
       "25%           6.000000\n",
       "50%           8.500000\n",
       "75%          12.500000\n",
       "max         400.000000\n",
       "Name: fare_amount, dtype: float64"
      ]
     },
     "execution_count": 60,
     "metadata": {},
     "output_type": "execute_result"
    }
   ],
   "source": [
    "fare = df_train['fare_amount']\n",
    "fare.describe()"
   ]
  },
  {
   "cell_type": "code",
   "execution_count": 63,
   "metadata": {},
   "outputs": [
    {
     "data": {
      "text/plain": [
       "(array([1.0000e+00, 1.0000e+00, 0.0000e+00, 1.0000e+00, 0.0000e+00,\n",
       "        0.0000e+00, 0.0000e+00, 0.0000e+00, 0.0000e+00, 1.0000e+00,\n",
       "        0.0000e+00, 0.0000e+00, 0.0000e+00, 0.0000e+00, 0.0000e+00,\n",
       "        0.0000e+00, 0.0000e+00, 0.0000e+00, 1.0000e+00, 0.0000e+00,\n",
       "        0.0000e+00, 1.0000e+00, 0.0000e+00, 2.0000e+00, 0.0000e+00,\n",
       "        0.0000e+00, 0.0000e+00, 0.0000e+00, 0.0000e+00, 0.0000e+00,\n",
       "        0.0000e+00, 0.0000e+00, 0.0000e+00, 0.0000e+00, 8.0000e+00,\n",
       "        0.0000e+00, 0.0000e+00, 1.0000e+00, 0.0000e+00, 0.0000e+00,\n",
       "        0.0000e+00, 0.0000e+00, 0.0000e+00, 1.0000e+00, 0.0000e+00,\n",
       "        0.0000e+00, 9.9700e+02, 6.0400e+02, 4.6900e+02, 1.8680e+03,\n",
       "        1.3090e+03, 3.7130e+03, 2.5960e+03, 5.4430e+03, 1.3000e+01,\n",
       "        1.0297e+04, 7.0520e+03, 4.6480e+03, 7.2610e+03, 5.0590e+03,\n",
       "        7.3090e+03, 5.3350e+03, 7.2090e+03, 4.6000e+01, 1.2295e+04,\n",
       "        5.2000e+01, 1.1699e+04, 6.2180e+03, 5.0400e+03, 5.7150e+03,\n",
       "        1.1400e+02, 9.9410e+03, 3.1000e+01, 9.5790e+03, 3.3000e+01,\n",
       "        8.7560e+03, 4.0240e+03, 4.0020e+03, 3.6830e+03, 7.6000e+01]),\n",
       " array([-7.7     , -7.478875, -7.25775 , -7.036625, -6.8155  , -6.594375,\n",
       "        -6.37325 , -6.152125, -5.931   , -5.709875, -5.48875 , -5.267625,\n",
       "        -5.0465  , -4.825375, -4.60425 , -4.383125, -4.162   , -3.940875,\n",
       "        -3.71975 , -3.498625, -3.2775  , -3.056375, -2.83525 , -2.614125,\n",
       "        -2.393   , -2.171875, -1.95075 , -1.729625, -1.5085  , -1.287375,\n",
       "        -1.06625 , -0.845125, -0.624   , -0.402875, -0.18175 ,  0.039375,\n",
       "         0.2605  ,  0.481625,  0.70275 ,  0.923875,  1.145   ,  1.366125,\n",
       "         1.58725 ,  1.808375,  2.0295  ,  2.250625,  2.47175 ,  2.692875,\n",
       "         2.914   ,  3.135125,  3.35625 ,  3.577375,  3.7985  ,  4.019625,\n",
       "         4.24075 ,  4.461875,  4.683   ,  4.904125,  5.12525 ,  5.346375,\n",
       "         5.5675  ,  5.788625,  6.00975 ,  6.230875,  6.452   ,  6.673125,\n",
       "         6.89425 ,  7.115375,  7.3365  ,  7.557625,  7.77875 ,  7.999875,\n",
       "         8.221   ,  8.442125,  8.66325 ,  8.884375,  9.1055  ,  9.326625,\n",
       "         9.54775 ,  9.768875,  9.99    ]),\n",
       " <a list of 80 Patch objects>)"
      ]
     },
     "execution_count": 63,
     "metadata": {},
     "output_type": "execute_result"
    },
    {
     "data": {
      "image/png": "[encoded data removed]",
      "text/plain": [
       "<Figure size 1080x360 with 2 Axes>"
      ]
     },
     "metadata": {
      "needs_background": "light"
     },
     "output_type": "display_data"
    }
   ],
   "source": [
    "# Viewing the distribution of passenger_count values\n",
    "# Zooming to validate whether the data is inconsistent or not\n",
    "fig , ax = plt.subplots(1, 2 , figsize = (15,5))\n",
    "ax[0].hist(fare, bins=100)\n",
    "ax[1].hist(fare[fare < 10] , bins=80)"
   ]
  },
  {
   "cell_type": "code",
   "execution_count": 64,
   "metadata": {},
   "outputs": [
    {
     "data": {
      "text/plain": [
       "(array([7.500e+02, 1.662e+03, 1.730e+02, 1.200e+02, 7.800e+01, 5.800e+01,\n",
       "        6.700e+01, 4.400e+01, 3.700e+01, 2.600e+01, 1.900e+01, 2.000e+01,\n",
       "        1.100e+01, 9.000e+00, 9.000e+00, 8.000e+00, 5.000e+00, 2.000e+00,\n",
       "        6.000e+00, 5.000e+00, 5.000e+00, 2.000e+00, 3.000e+00, 1.000e+00,\n",
       "        1.000e+00, 3.000e+00, 1.000e+00, 1.000e+00, 0.000e+00, 2.000e+00,\n",
       "        0.000e+00, 3.000e+00, 0.000e+00, 0.000e+00, 2.000e+00, 0.000e+00,\n",
       "        0.000e+00, 1.000e+00, 0.000e+00, 0.000e+00, 0.000e+00, 0.000e+00,\n",
       "        1.000e+00, 0.000e+00, 0.000e+00, 0.000e+00, 0.000e+00, 0.000e+00,\n",
       "        0.000e+00, 0.000e+00, 1.000e+00, 0.000e+00, 0.000e+00, 0.000e+00,\n",
       "        0.000e+00, 0.000e+00, 0.000e+00, 0.000e+00, 0.000e+00, 0.000e+00,\n",
       "        0.000e+00, 0.000e+00, 0.000e+00, 0.000e+00, 0.000e+00, 0.000e+00,\n",
       "        0.000e+00, 0.000e+00, 0.000e+00, 0.000e+00, 0.000e+00, 0.000e+00,\n",
       "        0.000e+00, 0.000e+00, 0.000e+00, 0.000e+00, 0.000e+00, 0.000e+00,\n",
       "        0.000e+00, 1.000e+00]),\n",
       " array([ 50.04  ,  54.4145,  58.789 ,  63.1635,  67.538 ,  71.9125,\n",
       "         76.287 ,  80.6615,  85.036 ,  89.4105,  93.785 ,  98.1595,\n",
       "        102.534 , 106.9085, 111.283 , 115.6575, 120.032 , 124.4065,\n",
       "        128.781 , 133.1555, 137.53  , 141.9045, 146.279 , 150.6535,\n",
       "        155.028 , 159.4025, 163.777 , 168.1515, 172.526 , 176.9005,\n",
       "        181.275 , 185.6495, 190.024 , 194.3985, 198.773 , 203.1475,\n",
       "        207.522 , 211.8965, 216.271 , 220.6455, 225.02  , 229.3945,\n",
       "        233.769 , 238.1435, 242.518 , 246.8925, 251.267 , 255.6415,\n",
       "        260.016 , 264.3905, 268.765 , 273.1395, 277.514 , 281.8885,\n",
       "        286.263 , 290.6375, 295.012 , 299.3865, 303.761 , 308.1355,\n",
       "        312.51  , 316.8845, 321.259 , 325.6335, 330.008 , 334.3825,\n",
       "        338.757 , 343.1315, 347.506 , 351.8805, 356.255 , 360.6295,\n",
       "        365.004 , 369.3785, 373.753 , 378.1275, 382.502 , 386.8765,\n",
       "        391.251 , 395.6255, 400.    ]),\n",
       " <a list of 80 Patch objects>)"
      ]
     },
     "execution_count": 64,
     "metadata": {},
     "output_type": "execute_result"
    },
    {
     "data": {
      "image/png": "[encoded data removed]",
      "text/plain": [
       "<Figure size 432x288 with 1 Axes>"
      ]
     },
     "metadata": {
      "needs_background": "light"
     },
     "output_type": "display_data"
    }
   ],
   "source": [
    "plt.hist(fare[fare > 50] , bins=80)"
   ]
  },
  {
   "cell_type": "code",
   "execution_count": 65,
   "metadata": {},
   "outputs": [
    {
     "name": "stdout",
     "output_type": "stream",
     "text": [
      "Numeric value \n",
      " True     249963\n",
      "False        37\n",
      "Name: fare_amount, dtype: int64 \n",
      " Percentage value  \n",
      " True     99.9852\n",
      "False     0.0148\n",
      "Name: fare_amount, dtype: float64\n"
     ]
    }
   ],
   "source": [
    "# Creating the fare_val variable to store values that will be within the condition\n",
    "fare_val = (fare > 2) & (fare < 150)\n",
    "\n",
    "# Checking the amount of true false records\n",
    "print(\"Numeric value\",\"\\n\",fare_val.value_counts(),\"\\n\",\"Percentage value \" , \"\\n\" ,fare_val.value_counts(normalize=True)*100)"
   ]
  },
  {
   "cell_type": "code",
   "execution_count": 67,
   "metadata": {},
   "outputs": [
    {
     "name": "stdout",
     "output_type": "stream",
     "text": [
      "Numeric value \n",
      " True     243744\n",
      "False      6256\n",
      "dtype: int64 \n",
      " Percentage value  \n",
      " True     97.4976\n",
      "False     2.5024\n",
      "dtype: float64\n"
     ]
    }
   ],
   "source": [
    "# Concatenating the variables\n",
    "val_entries = plon_val & lat_val & dlon_val & dlat_val & pass_count_val & fare_val\n",
    "\n",
    "# Checking the amount of true false records\n",
    "print(\"Numeric value\",\"\\n\",val_entries.value_counts(),\"\\n\",\"Percentage value \" , \"\\n\" ,val_entries.value_counts(normalize=True)*100)"
   ]
  },
  {
   "cell_type": "code",
   "execution_count": 68,
   "metadata": {},
   "outputs": [
    {
     "data": {
      "text/html": [
       "<div>\n",
       "<style scoped>\n",
       "    .dataframe tbody tr th:only-of-type {\n",
       "        vertical-align: middle;\n",
       "    }\n",
       "\n",
       "    .dataframe tbody tr th {\n",
       "        vertical-align: top;\n",
       "    }\n",
       "\n",
       "    .dataframe thead th {\n",
       "        text-align: right;\n",
       "    }\n",
       "</style>\n",
       "<table border=\"1\" class=\"dataframe\">\n",
       "  <thead>\n",
       "    <tr style=\"text-align: right;\">\n",
       "      <th></th>\n",
       "      <th>fare_amount</th>\n",
       "      <th>pickup_datetime</th>\n",
       "      <th>pickup_longitude</th>\n",
       "      <th>pickup_latitude</th>\n",
       "      <th>dropoff_longitude</th>\n",
       "      <th>dropoff_latitude</th>\n",
       "      <th>passenger_count</th>\n",
       "    </tr>\n",
       "  </thead>\n",
       "  <tbody>\n",
       "    <tr>\n",
       "      <td>0</td>\n",
       "      <td>7.3</td>\n",
       "      <td>21/06/11 16:15:00</td>\n",
       "      <td>-73.991875</td>\n",
       "      <td>40.754437</td>\n",
       "      <td>-73.977230</td>\n",
       "      <td>40.774323</td>\n",
       "      <td>3</td>\n",
       "    </tr>\n",
       "    <tr>\n",
       "      <td>1</td>\n",
       "      <td>5.7</td>\n",
       "      <td>06/06/09 23:56:00</td>\n",
       "      <td>-73.982357</td>\n",
       "      <td>40.762498</td>\n",
       "      <td>-73.973210</td>\n",
       "      <td>40.755345</td>\n",
       "      <td>2</td>\n",
       "    </tr>\n",
       "    <tr>\n",
       "      <td>2</td>\n",
       "      <td>5.3</td>\n",
       "      <td>25/04/12 16:19:00</td>\n",
       "      <td>-73.971913</td>\n",
       "      <td>40.759250</td>\n",
       "      <td>-73.962905</td>\n",
       "      <td>40.772160</td>\n",
       "      <td>1</td>\n",
       "    </tr>\n",
       "    <tr>\n",
       "      <td>3</td>\n",
       "      <td>25.7</td>\n",
       "      <td>02/09/09 05:18:10</td>\n",
       "      <td>-73.991729</td>\n",
       "      <td>40.760501</td>\n",
       "      <td>-73.861246</td>\n",
       "      <td>40.767619</td>\n",
       "      <td>1</td>\n",
       "    </tr>\n",
       "    <tr>\n",
       "      <td>4</td>\n",
       "      <td>4.1</td>\n",
       "      <td>24/09/11 22:57:00</td>\n",
       "      <td>-74.000685</td>\n",
       "      <td>40.742238</td>\n",
       "      <td>-74.000355</td>\n",
       "      <td>40.735275</td>\n",
       "      <td>2</td>\n",
       "    </tr>\n",
       "  </tbody>\n",
       "</table>\n",
       "</div>"
      ],
      "text/plain": [
       "   fare_amount    pickup_datetime  pickup_longitude  pickup_latitude  \\\n",
       "0          7.3  21/06/11 16:15:00        -73.991875        40.754437   \n",
       "1          5.7  06/06/09 23:56:00        -73.982357        40.762498   \n",
       "2          5.3  25/04/12 16:19:00        -73.971913        40.759250   \n",
       "3         25.7  02/09/09 05:18:10        -73.991729        40.760501   \n",
       "4          4.1  24/09/11 22:57:00        -74.000685        40.742238   \n",
       "\n",
       "   dropoff_longitude  dropoff_latitude  passenger_count  \n",
       "0         -73.977230         40.774323                3  \n",
       "1         -73.973210         40.755345                2  \n",
       "2         -73.962905         40.772160                1  \n",
       "3         -73.861246         40.767619                1  \n",
       "4         -74.000355         40.735275                2  "
      ]
     },
     "execution_count": 68,
     "metadata": {},
     "output_type": "execute_result"
    }
   ],
   "source": [
    "# Dropping records corresponding to \"False\"\n",
    "df_train = df_train.drop(val_entries[val_entries == False].index)\n",
    "\n",
    "df_train.head()"
   ]
  },
  {
   "cell_type": "code",
   "execution_count": 69,
   "metadata": {},
   "outputs": [
    {
     "name": "stdout",
     "output_type": "stream",
     "text": [
      "Number of Rows 243744 \n",
      " Number of Columns 7\n"
     ]
    }
   ],
   "source": [
    "print(\"Number of Rows\",df_train.shape[0],\"\\n\",\"Number of Columns\",df_train.shape[1])"
   ]
  }
 ],
 "metadata": {
  "kernelspec": {
   "display_name": "Python 3",
   "language": "python",
   "name": "python3"
  },
  "language_info": {
   "codemirror_mode": {
    "name": "ipython",
    "version": 3
   },
   "file_extension": ".py",
   "mimetype": "text/x-python",
   "name": "python",
   "nbconvert_exporter": "python",
   "pygments_lexer": "ipython3",
   "version": "3.7.4"
  }
 },
 "nbformat": 4,
 "nbformat_minor": 4
}
