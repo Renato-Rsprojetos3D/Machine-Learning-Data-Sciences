{
 "cells": [
  {
   "cell_type": "markdown",
   "metadata": {},
   "source": [
    "<img src='Departamento.jpg' />"
   ]
  },
  {
   "cell_type": "code",
   "execution_count": 187,
   "metadata": {},
   "outputs": [
    {
     "data": {
      "text/html": [
       "\n",
       "        <script src=\"/static/components/requirejs/require.js\"></script>\n",
       "        <script>\n",
       "          requirejs.config({\n",
       "            paths: {\n",
       "              base: '/static/base',\n",
       "              plotly: 'https://cdn.plot.ly/plotly-latest.min.js?noext',\n",
       "            },\n",
       "          });\n",
       "        </script>\n",
       "        "
      ],
      "text/plain": [
       "<IPython.core.display.HTML object>"
      ]
     },
     "metadata": {},
     "output_type": "display_data"
    },
    {
     "data": {
      "text/html": [
       "\n",
       "        <script src=\"/static/components/requirejs/require.js\"></script>\n",
       "        <script>\n",
       "          requirejs.config({\n",
       "            paths: {\n",
       "              base: '/static/base',\n",
       "              plotly: 'https://cdn.plot.ly/plotly-latest.min.js?noext',\n",
       "            },\n",
       "          });\n",
       "        </script>\n",
       "        "
      ],
      "text/plain": [
       "<IPython.core.display.HTML object>"
      ]
     },
     "metadata": {},
     "output_type": "display_data"
    },
    {
     "data": {
      "text/html": [
       "\n",
       "        <script src=\"/static/components/requirejs/require.js\"></script>\n",
       "        <script>\n",
       "          requirejs.config({\n",
       "            paths: {\n",
       "              base: '/static/base',\n",
       "              plotly: 'https://cdn.plot.ly/plotly-latest.min.js?noext',\n",
       "            },\n",
       "          });\n",
       "        </script>\n",
       "        "
      ],
      "text/plain": [
       "<IPython.core.display.HTML object>"
      ]
     },
     "metadata": {},
     "output_type": "display_data"
    },
    {
     "data": {
      "text/html": [
       "\n",
       "        <script src=\"/static/components/requirejs/require.js\"></script>\n",
       "        <script>\n",
       "          requirejs.config({\n",
       "            paths: {\n",
       "              base: '/static/base',\n",
       "              plotly: 'https://cdn.plot.ly/plotly-latest.min.js?noext',\n",
       "            },\n",
       "          });\n",
       "        </script>\n",
       "        "
      ],
      "text/plain": [
       "<IPython.core.display.HTML object>"
      ]
     },
     "metadata": {},
     "output_type": "display_data"
    },
    {
     "data": {
      "text/html": [
       "\n",
       "        <script src=\"/static/components/requirejs/require.js\"></script>\n",
       "        <script>\n",
       "          requirejs.config({\n",
       "            paths: {\n",
       "              base: '/static/base',\n",
       "              plotly: 'https://cdn.plot.ly/plotly-latest.min.js?noext',\n",
       "            },\n",
       "          });\n",
       "        </script>\n",
       "        "
      ],
      "text/plain": [
       "<IPython.core.display.HTML object>"
      ]
     },
     "metadata": {},
     "output_type": "display_data"
    },
    {
     "data": {
      "text/html": [
       "\n",
       "        <script src=\"/static/components/requirejs/require.js\"></script>\n",
       "        <script>\n",
       "          requirejs.config({\n",
       "            paths: {\n",
       "              base: '/static/base',\n",
       "              plotly: 'https://cdn.plot.ly/plotly-latest.min.js?noext',\n",
       "            },\n",
       "          });\n",
       "        </script>\n",
       "        "
      ],
      "text/plain": [
       "<IPython.core.display.HTML object>"
      ]
     },
     "metadata": {},
     "output_type": "display_data"
    },
    {
     "data": {
      "text/html": [
       "\n",
       "        <script src=\"/static/components/requirejs/require.js\"></script>\n",
       "        <script>\n",
       "          requirejs.config({\n",
       "            paths: {\n",
       "              base: '/static/base',\n",
       "              plotly: 'https://cdn.plot.ly/plotly-latest.min.js?noext',\n",
       "            },\n",
       "          });\n",
       "        </script>\n",
       "        "
      ],
      "text/plain": [
       "<IPython.core.display.HTML object>"
      ]
     },
     "metadata": {},
     "output_type": "display_data"
    },
    {
     "data": {
      "text/html": [
       "\n",
       "        <script src=\"/static/components/requirejs/require.js\"></script>\n",
       "        <script>\n",
       "          requirejs.config({\n",
       "            paths: {\n",
       "              base: '/static/base',\n",
       "              plotly: 'https://cdn.plot.ly/plotly-latest.min.js?noext',\n",
       "            },\n",
       "          });\n",
       "        </script>\n",
       "        "
      ],
      "text/plain": [
       "<IPython.core.display.HTML object>"
      ]
     },
     "metadata": {},
     "output_type": "display_data"
    },
    {
     "data": {
      "text/html": [
       "\n",
       "        <script src=\"/static/components/requirejs/require.js\"></script>\n",
       "        <script>\n",
       "          requirejs.config({\n",
       "            paths: {\n",
       "              base: '/static/base',\n",
       "              plotly: 'https://cdn.plot.ly/plotly-latest.min.js?noext',\n",
       "            },\n",
       "          });\n",
       "        </script>\n",
       "        "
      ],
      "text/plain": [
       "<IPython.core.display.HTML object>"
      ]
     },
     "metadata": {},
     "output_type": "display_data"
    },
    {
     "data": {
      "text/html": [
       "\n",
       "        <script src=\"/static/components/requirejs/require.js\"></script>\n",
       "        <script>\n",
       "          requirejs.config({\n",
       "            paths: {\n",
       "              base: '/static/base',\n",
       "              plotly: 'https://cdn.plot.ly/plotly-latest.min.js?noext',\n",
       "            },\n",
       "          });\n",
       "        </script>\n",
       "        "
      ],
      "text/plain": [
       "<IPython.core.display.HTML object>"
      ]
     },
     "metadata": {},
     "output_type": "display_data"
    },
    {
     "data": {
      "text/html": [
       "\n",
       "        <script src=\"/static/components/requirejs/require.js\"></script>\n",
       "        <script>\n",
       "          requirejs.config({\n",
       "            paths: {\n",
       "              base: '/static/base',\n",
       "              plotly: 'https://cdn.plot.ly/plotly-latest.min.js?noext',\n",
       "            },\n",
       "          });\n",
       "        </script>\n",
       "        "
      ],
      "text/plain": [
       "<IPython.core.display.HTML object>"
      ]
     },
     "metadata": {},
     "output_type": "display_data"
    },
    {
     "data": {
      "text/html": [
       "\n",
       "        <script src=\"/static/components/requirejs/require.js\"></script>\n",
       "        <script>\n",
       "          requirejs.config({\n",
       "            paths: {\n",
       "              base: '/static/base',\n",
       "              plotly: 'https://cdn.plot.ly/plotly-latest.min.js?noext',\n",
       "            },\n",
       "          });\n",
       "        </script>\n",
       "        "
      ],
      "text/plain": [
       "<IPython.core.display.HTML object>"
      ]
     },
     "metadata": {},
     "output_type": "display_data"
    },
    {
     "data": {
      "text/html": [
       "        <script type=\"text/javascript\">\n",
       "        window.PlotlyConfig = {MathJaxConfig: 'local'};\n",
       "        if (window.MathJax) {MathJax.Hub.Config({SVG: {font: \"STIX-Web\"}});}\n",
       "        if (typeof require !== 'undefined') {\n",
       "        require.undef(\"plotly\");\n",
       "        requirejs.config({\n",
       "            paths: {\n",
       "                'plotly': ['https://cdn.plot.ly/plotly-latest.min']\n",
       "            }\n",
       "        });\n",
       "        require(['plotly'], function(Plotly) {\n",
       "            window._Plotly = Plotly;\n",
       "        });\n",
       "        }\n",
       "        </script>\n",
       "        "
      ]
     },
     "metadata": {},
     "output_type": "display_data"
    },
    {
     "data": {
      "text/html": [
       "\n",
       "        <script src=\"/static/components/requirejs/require.js\"></script>\n",
       "        <script>\n",
       "          requirejs.config({\n",
       "            paths: {\n",
       "              base: '/static/base',\n",
       "              plotly: 'https://cdn.plot.ly/plotly-latest.min.js?noext',\n",
       "            },\n",
       "          });\n",
       "        </script>\n",
       "        "
      ],
      "text/plain": [
       "<IPython.core.display.HTML object>"
      ]
     },
     "metadata": {},
     "output_type": "display_data"
    }
   ],
   "source": [
    "# importing libraries\n",
    "import pandas as pd\n",
    "import numpy as np\n",
    "import folium\n",
    "import datetime as dt\n",
    "import plotly as py\n",
    "import plotly.express as px\n",
    "import plotly.graph_objs as go\n",
    "from plotly.subplots import make_subplots\n",
    "from plotly.offline import download_plotlyjs\n",
    "from plotly.offline import init_notebook_mode\n",
    "from plotly.offline import plot,iplot\n",
    "init_notebook_mode(connected=True)\n",
    "def configure_plotly_browser_state():\n",
    "    import IPython\n",
    "    display(IPython.core.display.HTML('''\n",
    "        <script src=\"/static/components/requirejs/require.js\"></script>\n",
    "        <script>\n",
    "          requirejs.config({\n",
    "            paths: {\n",
    "              base: '/static/base',\n",
    "              plotly: 'https://cdn.plot.ly/plotly-latest.min.js?noext',\n",
    "            },\n",
    "          });\n",
    "        </script>\n",
    "        '''))\n",
    "configure_plotly_browser_state()\n",
    "import IPython\n",
    "\n",
    "IPython.get_ipython().events.register('pre_run_cell', configure_plotly_browser_state)\n",
    "from IPython.core.display import HTML"
   ]
  },
  {
   "cell_type": "code",
   "execution_count": 188,
   "metadata": {},
   "outputs": [
    {
     "data": {
      "text/html": [
       "\n",
       "        <script src=\"/static/components/requirejs/require.js\"></script>\n",
       "        <script>\n",
       "          requirejs.config({\n",
       "            paths: {\n",
       "              base: '/static/base',\n",
       "              plotly: 'https://cdn.plot.ly/plotly-latest.min.js?noext',\n",
       "            },\n",
       "          });\n",
       "        </script>\n",
       "        "
      ],
      "text/plain": [
       "<IPython.core.display.HTML object>"
      ]
     },
     "metadata": {},
     "output_type": "display_data"
    },
    {
     "data": {
      "text/html": [
       "\n",
       "        <script src=\"/static/components/requirejs/require.js\"></script>\n",
       "        <script>\n",
       "          requirejs.config({\n",
       "            paths: {\n",
       "              base: '/static/base',\n",
       "              plotly: 'https://cdn.plot.ly/plotly-latest.min.js?noext',\n",
       "            },\n",
       "          });\n",
       "        </script>\n",
       "        "
      ],
      "text/plain": [
       "<IPython.core.display.HTML object>"
      ]
     },
     "metadata": {},
     "output_type": "display_data"
    },
    {
     "data": {
      "text/html": [
       "\n",
       "        <script src=\"/static/components/requirejs/require.js\"></script>\n",
       "        <script>\n",
       "          requirejs.config({\n",
       "            paths: {\n",
       "              base: '/static/base',\n",
       "              plotly: 'https://cdn.plot.ly/plotly-latest.min.js?noext',\n",
       "            },\n",
       "          });\n",
       "        </script>\n",
       "        "
      ],
      "text/plain": [
       "<IPython.core.display.HTML object>"
      ]
     },
     "metadata": {},
     "output_type": "display_data"
    },
    {
     "data": {
      "text/html": [
       "\n",
       "        <script src=\"/static/components/requirejs/require.js\"></script>\n",
       "        <script>\n",
       "          requirejs.config({\n",
       "            paths: {\n",
       "              base: '/static/base',\n",
       "              plotly: 'https://cdn.plot.ly/plotly-latest.min.js?noext',\n",
       "            },\n",
       "          });\n",
       "        </script>\n",
       "        "
      ],
      "text/plain": [
       "<IPython.core.display.HTML object>"
      ]
     },
     "metadata": {},
     "output_type": "display_data"
    },
    {
     "data": {
      "text/html": [
       "\n",
       "        <script src=\"/static/components/requirejs/require.js\"></script>\n",
       "        <script>\n",
       "          requirejs.config({\n",
       "            paths: {\n",
       "              base: '/static/base',\n",
       "              plotly: 'https://cdn.plot.ly/plotly-latest.min.js?noext',\n",
       "            },\n",
       "          });\n",
       "        </script>\n",
       "        "
      ],
      "text/plain": [
       "<IPython.core.display.HTML object>"
      ]
     },
     "metadata": {},
     "output_type": "display_data"
    },
    {
     "data": {
      "text/html": [
       "\n",
       "        <script src=\"/static/components/requirejs/require.js\"></script>\n",
       "        <script>\n",
       "          requirejs.config({\n",
       "            paths: {\n",
       "              base: '/static/base',\n",
       "              plotly: 'https://cdn.plot.ly/plotly-latest.min.js?noext',\n",
       "            },\n",
       "          });\n",
       "        </script>\n",
       "        "
      ],
      "text/plain": [
       "<IPython.core.display.HTML object>"
      ]
     },
     "metadata": {},
     "output_type": "display_data"
    },
    {
     "data": {
      "text/html": [
       "\n",
       "        <script src=\"/static/components/requirejs/require.js\"></script>\n",
       "        <script>\n",
       "          requirejs.config({\n",
       "            paths: {\n",
       "              base: '/static/base',\n",
       "              plotly: 'https://cdn.plot.ly/plotly-latest.min.js?noext',\n",
       "            },\n",
       "          });\n",
       "        </script>\n",
       "        "
      ],
      "text/plain": [
       "<IPython.core.display.HTML object>"
      ]
     },
     "metadata": {},
     "output_type": "display_data"
    },
    {
     "data": {
      "text/html": [
       "\n",
       "        <script src=\"/static/components/requirejs/require.js\"></script>\n",
       "        <script>\n",
       "          requirejs.config({\n",
       "            paths: {\n",
       "              base: '/static/base',\n",
       "              plotly: 'https://cdn.plot.ly/plotly-latest.min.js?noext',\n",
       "            },\n",
       "          });\n",
       "        </script>\n",
       "        "
      ],
      "text/plain": [
       "<IPython.core.display.HTML object>"
      ]
     },
     "metadata": {},
     "output_type": "display_data"
    },
    {
     "data": {
      "text/html": [
       "\n",
       "        <script src=\"/static/components/requirejs/require.js\"></script>\n",
       "        <script>\n",
       "          requirejs.config({\n",
       "            paths: {\n",
       "              base: '/static/base',\n",
       "              plotly: 'https://cdn.plot.ly/plotly-latest.min.js?noext',\n",
       "            },\n",
       "          });\n",
       "        </script>\n",
       "        "
      ],
      "text/plain": [
       "<IPython.core.display.HTML object>"
      ]
     },
     "metadata": {},
     "output_type": "display_data"
    },
    {
     "data": {
      "text/html": [
       "\n",
       "        <script src=\"/static/components/requirejs/require.js\"></script>\n",
       "        <script>\n",
       "          requirejs.config({\n",
       "            paths: {\n",
       "              base: '/static/base',\n",
       "              plotly: 'https://cdn.plot.ly/plotly-latest.min.js?noext',\n",
       "            },\n",
       "          });\n",
       "        </script>\n",
       "        "
      ],
      "text/plain": [
       "<IPython.core.display.HTML object>"
      ]
     },
     "metadata": {},
     "output_type": "display_data"
    },
    {
     "data": {
      "text/html": [
       "\n",
       "        <script src=\"/static/components/requirejs/require.js\"></script>\n",
       "        <script>\n",
       "          requirejs.config({\n",
       "            paths: {\n",
       "              base: '/static/base',\n",
       "              plotly: 'https://cdn.plot.ly/plotly-latest.min.js?noext',\n",
       "            },\n",
       "          });\n",
       "        </script>\n",
       "        "
      ],
      "text/plain": [
       "<IPython.core.display.HTML object>"
      ]
     },
     "metadata": {},
     "output_type": "display_data"
    },
    {
     "data": {
      "text/html": [
       "\n",
       "        <script src=\"/static/components/requirejs/require.js\"></script>\n",
       "        <script>\n",
       "          requirejs.config({\n",
       "            paths: {\n",
       "              base: '/static/base',\n",
       "              plotly: 'https://cdn.plot.ly/plotly-latest.min.js?noext',\n",
       "            },\n",
       "          });\n",
       "        </script>\n",
       "        "
      ],
      "text/plain": [
       "<IPython.core.display.HTML object>"
      ]
     },
     "metadata": {},
     "output_type": "display_data"
    },
    {
     "data": {
      "text/html": [
       "\n",
       "        <script src=\"/static/components/requirejs/require.js\"></script>\n",
       "        <script>\n",
       "          requirejs.config({\n",
       "            paths: {\n",
       "              base: '/static/base',\n",
       "              plotly: 'https://cdn.plot.ly/plotly-latest.min.js?noext',\n",
       "            },\n",
       "          });\n",
       "        </script>\n",
       "        "
      ],
      "text/plain": [
       "<IPython.core.display.HTML object>"
      ]
     },
     "metadata": {},
     "output_type": "display_data"
    },
    {
     "data": {
      "text/html": [
       "<div>\n",
       "<style scoped>\n",
       "    .dataframe tbody tr th:only-of-type {\n",
       "        vertical-align: middle;\n",
       "    }\n",
       "\n",
       "    .dataframe tbody tr th {\n",
       "        vertical-align: top;\n",
       "    }\n",
       "\n",
       "    .dataframe thead th {\n",
       "        text-align: right;\n",
       "    }\n",
       "</style>\n",
       "<table border=\"1\" class=\"dataframe\">\n",
       "  <thead>\n",
       "    <tr style=\"text-align: right;\">\n",
       "      <th></th>\n",
       "      <th>IncidntNum</th>\n",
       "      <th>Category</th>\n",
       "      <th>Descript</th>\n",
       "      <th>DayOfWeek</th>\n",
       "      <th>Date</th>\n",
       "      <th>Time</th>\n",
       "      <th>PdDistrict</th>\n",
       "      <th>Resolution</th>\n",
       "      <th>Address</th>\n",
       "      <th>X</th>\n",
       "      <th>Y</th>\n",
       "      <th>Location</th>\n",
       "      <th>PdId</th>\n",
       "    </tr>\n",
       "  </thead>\n",
       "  <tbody>\n",
       "    <tr>\n",
       "      <td>0</td>\n",
       "      <td>120058272</td>\n",
       "      <td>WEAPON LAWS</td>\n",
       "      <td>POSS OF PROHIBITED WEAPON</td>\n",
       "      <td>Friday</td>\n",
       "      <td>2016-01-29</td>\n",
       "      <td>11:00</td>\n",
       "      <td>SOUTHERN</td>\n",
       "      <td>ARREST, BOOKED</td>\n",
       "      <td>800 Block of BRYANT ST</td>\n",
       "      <td>-122.403405</td>\n",
       "      <td>37.775421</td>\n",
       "      <td>(37.775420706711, -122.403404791479)</td>\n",
       "      <td>12005827212120</td>\n",
       "    </tr>\n",
       "    <tr>\n",
       "      <td>1</td>\n",
       "      <td>120058272</td>\n",
       "      <td>WEAPON LAWS</td>\n",
       "      <td>FIREARM, LOADED, IN VEHICLE, POSSESSION OR USE</td>\n",
       "      <td>Friday</td>\n",
       "      <td>2016-01-29</td>\n",
       "      <td>11:00</td>\n",
       "      <td>SOUTHERN</td>\n",
       "      <td>ARREST, BOOKED</td>\n",
       "      <td>800 Block of BRYANT ST</td>\n",
       "      <td>-122.403405</td>\n",
       "      <td>37.775421</td>\n",
       "      <td>(37.775420706711, -122.403404791479)</td>\n",
       "      <td>12005827212168</td>\n",
       "    </tr>\n",
       "    <tr>\n",
       "      <td>2</td>\n",
       "      <td>141059263</td>\n",
       "      <td>WARRANTS</td>\n",
       "      <td>WARRANT ARREST</td>\n",
       "      <td>Monday</td>\n",
       "      <td>2016-04-25</td>\n",
       "      <td>14:59</td>\n",
       "      <td>BAYVIEW</td>\n",
       "      <td>ARREST, BOOKED</td>\n",
       "      <td>KEITH ST / SHAFTER AV</td>\n",
       "      <td>-122.388856</td>\n",
       "      <td>37.729981</td>\n",
       "      <td>(37.7299809672996, -122.388856204292)</td>\n",
       "      <td>14105926363010</td>\n",
       "    </tr>\n",
       "    <tr>\n",
       "      <td>3</td>\n",
       "      <td>160013662</td>\n",
       "      <td>NON-CRIMINAL</td>\n",
       "      <td>LOST PROPERTY</td>\n",
       "      <td>Tuesday</td>\n",
       "      <td>2016-01-05</td>\n",
       "      <td>23:50</td>\n",
       "      <td>TENDERLOIN</td>\n",
       "      <td>NONE</td>\n",
       "      <td>JONES ST / OFARRELL ST</td>\n",
       "      <td>-122.412971</td>\n",
       "      <td>37.785788</td>\n",
       "      <td>(37.7857883766888, -122.412970537591)</td>\n",
       "      <td>16001366271000</td>\n",
       "    </tr>\n",
       "    <tr>\n",
       "      <td>4</td>\n",
       "      <td>160002740</td>\n",
       "      <td>NON-CRIMINAL</td>\n",
       "      <td>LOST PROPERTY</td>\n",
       "      <td>Friday</td>\n",
       "      <td>2016-01-01</td>\n",
       "      <td>00:30</td>\n",
       "      <td>MISSION</td>\n",
       "      <td>NONE</td>\n",
       "      <td>16TH ST / MISSION ST</td>\n",
       "      <td>-122.419672</td>\n",
       "      <td>37.765050</td>\n",
       "      <td>(37.7650501214668, -122.419671780296)</td>\n",
       "      <td>16000274071000</td>\n",
       "    </tr>\n",
       "  </tbody>\n",
       "</table>\n",
       "</div>"
      ],
      "text/plain": [
       "   IncidntNum      Category                                        Descript  \\\n",
       "0   120058272   WEAPON LAWS                       POSS OF PROHIBITED WEAPON   \n",
       "1   120058272   WEAPON LAWS  FIREARM, LOADED, IN VEHICLE, POSSESSION OR USE   \n",
       "2   141059263      WARRANTS                                  WARRANT ARREST   \n",
       "3   160013662  NON-CRIMINAL                                   LOST PROPERTY   \n",
       "4   160002740  NON-CRIMINAL                                   LOST PROPERTY   \n",
       "\n",
       "  DayOfWeek       Date   Time  PdDistrict      Resolution  \\\n",
       "0    Friday 2016-01-29  11:00    SOUTHERN  ARREST, BOOKED   \n",
       "1    Friday 2016-01-29  11:00    SOUTHERN  ARREST, BOOKED   \n",
       "2    Monday 2016-04-25  14:59     BAYVIEW  ARREST, BOOKED   \n",
       "3   Tuesday 2016-01-05  23:50  TENDERLOIN            NONE   \n",
       "4    Friday 2016-01-01  00:30     MISSION            NONE   \n",
       "\n",
       "                  Address           X          Y  \\\n",
       "0  800 Block of BRYANT ST -122.403405  37.775421   \n",
       "1  800 Block of BRYANT ST -122.403405  37.775421   \n",
       "2   KEITH ST / SHAFTER AV -122.388856  37.729981   \n",
       "3  JONES ST / OFARRELL ST -122.412971  37.785788   \n",
       "4    16TH ST / MISSION ST -122.419672  37.765050   \n",
       "\n",
       "                                Location            PdId  \n",
       "0   (37.775420706711, -122.403404791479)  12005827212120  \n",
       "1   (37.775420706711, -122.403404791479)  12005827212168  \n",
       "2  (37.7299809672996, -122.388856204292)  14105926363010  \n",
       "3  (37.7857883766888, -122.412970537591)  16001366271000  \n",
       "4  (37.7650501214668, -122.419671780296)  16000274071000  "
      ]
     },
     "execution_count": 188,
     "metadata": {},
     "output_type": "execute_result"
    }
   ],
   "source": [
    "# Loading data\n",
    "incidents = pd.read_csv('Police_Department_Incidents.csv', parse_dates=['Date'])\n",
    "incidents.head()"
   ]
  },
  {
   "cell_type": "markdown",
   "metadata": {},
   "source": [
    "So each row consists of 13 features:\n",
    "> 1. **IncidntNum**: Incident Number\n",
    "> 2. **Category**: Category of crime or incident\n",
    "> 3. **Descript**: Description of the crime or incident\n",
    "> 4. **DayOfWeek**: The day of week on which the incident occurred\n",
    "> 5. **Date**: The Date on which the incident occurred\n",
    "> 6. **Time**: The time of day on which the incident occurred\n",
    "> 7. **PdDistrict**: The police department district\n",
    "> 8. **Resolution**: The resolution of the crime in terms whether the perpetrator was arrested or not\n",
    "> 9. **Address**: The closest address to where the incident took place\n",
    "> 10. **X**: The longitude value of the crime location \n",
    "> 11. **Y**: The latitude value of the crime location\n",
    "> 12. **Location**: A tuple of the latitude and the longitude values\n",
    "> 13. **PdId**: The police department ID"
   ]
  },
  {
   "cell_type": "markdown",
   "metadata": {},
   "source": [
    "# EDA"
   ]
  },
  {
   "cell_type": "code",
   "execution_count": 189,
   "metadata": {},
   "outputs": [
    {
     "data": {
      "text/html": [
       "\n",
       "        <script src=\"/static/components/requirejs/require.js\"></script>\n",
       "        <script>\n",
       "          requirejs.config({\n",
       "            paths: {\n",
       "              base: '/static/base',\n",
       "              plotly: 'https://cdn.plot.ly/plotly-latest.min.js?noext',\n",
       "            },\n",
       "          });\n",
       "        </script>\n",
       "        "
      ],
      "text/plain": [
       "<IPython.core.display.HTML object>"
      ]
     },
     "metadata": {},
     "output_type": "display_data"
    },
    {
     "data": {
      "text/html": [
       "\n",
       "        <script src=\"/static/components/requirejs/require.js\"></script>\n",
       "        <script>\n",
       "          requirejs.config({\n",
       "            paths: {\n",
       "              base: '/static/base',\n",
       "              plotly: 'https://cdn.plot.ly/plotly-latest.min.js?noext',\n",
       "            },\n",
       "          });\n",
       "        </script>\n",
       "        "
      ],
      "text/plain": [
       "<IPython.core.display.HTML object>"
      ]
     },
     "metadata": {},
     "output_type": "display_data"
    },
    {
     "data": {
      "text/html": [
       "\n",
       "        <script src=\"/static/components/requirejs/require.js\"></script>\n",
       "        <script>\n",
       "          requirejs.config({\n",
       "            paths: {\n",
       "              base: '/static/base',\n",
       "              plotly: 'https://cdn.plot.ly/plotly-latest.min.js?noext',\n",
       "            },\n",
       "          });\n",
       "        </script>\n",
       "        "
      ],
      "text/plain": [
       "<IPython.core.display.HTML object>"
      ]
     },
     "metadata": {},
     "output_type": "display_data"
    },
    {
     "data": {
      "text/html": [
       "\n",
       "        <script src=\"/static/components/requirejs/require.js\"></script>\n",
       "        <script>\n",
       "          requirejs.config({\n",
       "            paths: {\n",
       "              base: '/static/base',\n",
       "              plotly: 'https://cdn.plot.ly/plotly-latest.min.js?noext',\n",
       "            },\n",
       "          });\n",
       "        </script>\n",
       "        "
      ],
      "text/plain": [
       "<IPython.core.display.HTML object>"
      ]
     },
     "metadata": {},
     "output_type": "display_data"
    },
    {
     "data": {
      "text/html": [
       "\n",
       "        <script src=\"/static/components/requirejs/require.js\"></script>\n",
       "        <script>\n",
       "          requirejs.config({\n",
       "            paths: {\n",
       "              base: '/static/base',\n",
       "              plotly: 'https://cdn.plot.ly/plotly-latest.min.js?noext',\n",
       "            },\n",
       "          });\n",
       "        </script>\n",
       "        "
      ],
      "text/plain": [
       "<IPython.core.display.HTML object>"
      ]
     },
     "metadata": {},
     "output_type": "display_data"
    },
    {
     "data": {
      "text/html": [
       "\n",
       "        <script src=\"/static/components/requirejs/require.js\"></script>\n",
       "        <script>\n",
       "          requirejs.config({\n",
       "            paths: {\n",
       "              base: '/static/base',\n",
       "              plotly: 'https://cdn.plot.ly/plotly-latest.min.js?noext',\n",
       "            },\n",
       "          });\n",
       "        </script>\n",
       "        "
      ],
      "text/plain": [
       "<IPython.core.display.HTML object>"
      ]
     },
     "metadata": {},
     "output_type": "display_data"
    },
    {
     "data": {
      "text/html": [
       "\n",
       "        <script src=\"/static/components/requirejs/require.js\"></script>\n",
       "        <script>\n",
       "          requirejs.config({\n",
       "            paths: {\n",
       "              base: '/static/base',\n",
       "              plotly: 'https://cdn.plot.ly/plotly-latest.min.js?noext',\n",
       "            },\n",
       "          });\n",
       "        </script>\n",
       "        "
      ],
      "text/plain": [
       "<IPython.core.display.HTML object>"
      ]
     },
     "metadata": {},
     "output_type": "display_data"
    },
    {
     "data": {
      "text/html": [
       "\n",
       "        <script src=\"/static/components/requirejs/require.js\"></script>\n",
       "        <script>\n",
       "          requirejs.config({\n",
       "            paths: {\n",
       "              base: '/static/base',\n",
       "              plotly: 'https://cdn.plot.ly/plotly-latest.min.js?noext',\n",
       "            },\n",
       "          });\n",
       "        </script>\n",
       "        "
      ],
      "text/plain": [
       "<IPython.core.display.HTML object>"
      ]
     },
     "metadata": {},
     "output_type": "display_data"
    },
    {
     "data": {
      "text/html": [
       "\n",
       "        <script src=\"/static/components/requirejs/require.js\"></script>\n",
       "        <script>\n",
       "          requirejs.config({\n",
       "            paths: {\n",
       "              base: '/static/base',\n",
       "              plotly: 'https://cdn.plot.ly/plotly-latest.min.js?noext',\n",
       "            },\n",
       "          });\n",
       "        </script>\n",
       "        "
      ],
      "text/plain": [
       "<IPython.core.display.HTML object>"
      ]
     },
     "metadata": {},
     "output_type": "display_data"
    },
    {
     "data": {
      "text/html": [
       "\n",
       "        <script src=\"/static/components/requirejs/require.js\"></script>\n",
       "        <script>\n",
       "          requirejs.config({\n",
       "            paths: {\n",
       "              base: '/static/base',\n",
       "              plotly: 'https://cdn.plot.ly/plotly-latest.min.js?noext',\n",
       "            },\n",
       "          });\n",
       "        </script>\n",
       "        "
      ],
      "text/plain": [
       "<IPython.core.display.HTML object>"
      ]
     },
     "metadata": {},
     "output_type": "display_data"
    },
    {
     "data": {
      "text/html": [
       "\n",
       "        <script src=\"/static/components/requirejs/require.js\"></script>\n",
       "        <script>\n",
       "          requirejs.config({\n",
       "            paths: {\n",
       "              base: '/static/base',\n",
       "              plotly: 'https://cdn.plot.ly/plotly-latest.min.js?noext',\n",
       "            },\n",
       "          });\n",
       "        </script>\n",
       "        "
      ],
      "text/plain": [
       "<IPython.core.display.HTML object>"
      ]
     },
     "metadata": {},
     "output_type": "display_data"
    },
    {
     "data": {
      "text/html": [
       "\n",
       "        <script src=\"/static/components/requirejs/require.js\"></script>\n",
       "        <script>\n",
       "          requirejs.config({\n",
       "            paths: {\n",
       "              base: '/static/base',\n",
       "              plotly: 'https://cdn.plot.ly/plotly-latest.min.js?noext',\n",
       "            },\n",
       "          });\n",
       "        </script>\n",
       "        "
      ],
      "text/plain": [
       "<IPython.core.display.HTML object>"
      ]
     },
     "metadata": {},
     "output_type": "display_data"
    },
    {
     "data": {
      "text/html": [
       "\n",
       "        <script src=\"/static/components/requirejs/require.js\"></script>\n",
       "        <script>\n",
       "          requirejs.config({\n",
       "            paths: {\n",
       "              base: '/static/base',\n",
       "              plotly: 'https://cdn.plot.ly/plotly-latest.min.js?noext',\n",
       "            },\n",
       "          });\n",
       "        </script>\n",
       "        "
      ],
      "text/plain": [
       "<IPython.core.display.HTML object>"
      ]
     },
     "metadata": {},
     "output_type": "display_data"
    },
    {
     "data": {
      "text/plain": [
       "Friday       23371\n",
       "Saturday     22172\n",
       "Thursday     21395\n",
       "Wednesday    21332\n",
       "Tuesday      21242\n",
       "Monday       20783\n",
       "Sunday       20205\n",
       "Name: DayOfWeek, dtype: int64"
      ]
     },
     "execution_count": 189,
     "metadata": {},
     "output_type": "execute_result"
    }
   ],
   "source": [
    "# Number of Incidents per Day od Week\n",
    "incidents['DayOfWeek'].value_counts()"
   ]
  },
  {
   "cell_type": "code",
   "execution_count": 190,
   "metadata": {},
   "outputs": [
    {
     "data": {
      "text/html": [
       "\n",
       "        <script src=\"/static/components/requirejs/require.js\"></script>\n",
       "        <script>\n",
       "          requirejs.config({\n",
       "            paths: {\n",
       "              base: '/static/base',\n",
       "              plotly: 'https://cdn.plot.ly/plotly-latest.min.js?noext',\n",
       "            },\n",
       "          });\n",
       "        </script>\n",
       "        "
      ],
      "text/plain": [
       "<IPython.core.display.HTML object>"
      ]
     },
     "metadata": {},
     "output_type": "display_data"
    },
    {
     "data": {
      "text/html": [
       "\n",
       "        <script src=\"/static/components/requirejs/require.js\"></script>\n",
       "        <script>\n",
       "          requirejs.config({\n",
       "            paths: {\n",
       "              base: '/static/base',\n",
       "              plotly: 'https://cdn.plot.ly/plotly-latest.min.js?noext',\n",
       "            },\n",
       "          });\n",
       "        </script>\n",
       "        "
      ],
      "text/plain": [
       "<IPython.core.display.HTML object>"
      ]
     },
     "metadata": {},
     "output_type": "display_data"
    },
    {
     "data": {
      "text/html": [
       "\n",
       "        <script src=\"/static/components/requirejs/require.js\"></script>\n",
       "        <script>\n",
       "          requirejs.config({\n",
       "            paths: {\n",
       "              base: '/static/base',\n",
       "              plotly: 'https://cdn.plot.ly/plotly-latest.min.js?noext',\n",
       "            },\n",
       "          });\n",
       "        </script>\n",
       "        "
      ],
      "text/plain": [
       "<IPython.core.display.HTML object>"
      ]
     },
     "metadata": {},
     "output_type": "display_data"
    },
    {
     "data": {
      "text/html": [
       "\n",
       "        <script src=\"/static/components/requirejs/require.js\"></script>\n",
       "        <script>\n",
       "          requirejs.config({\n",
       "            paths: {\n",
       "              base: '/static/base',\n",
       "              plotly: 'https://cdn.plot.ly/plotly-latest.min.js?noext',\n",
       "            },\n",
       "          });\n",
       "        </script>\n",
       "        "
      ],
      "text/plain": [
       "<IPython.core.display.HTML object>"
      ]
     },
     "metadata": {},
     "output_type": "display_data"
    },
    {
     "data": {
      "text/html": [
       "\n",
       "        <script src=\"/static/components/requirejs/require.js\"></script>\n",
       "        <script>\n",
       "          requirejs.config({\n",
       "            paths: {\n",
       "              base: '/static/base',\n",
       "              plotly: 'https://cdn.plot.ly/plotly-latest.min.js?noext',\n",
       "            },\n",
       "          });\n",
       "        </script>\n",
       "        "
      ],
      "text/plain": [
       "<IPython.core.display.HTML object>"
      ]
     },
     "metadata": {},
     "output_type": "display_data"
    },
    {
     "data": {
      "text/html": [
       "\n",
       "        <script src=\"/static/components/requirejs/require.js\"></script>\n",
       "        <script>\n",
       "          requirejs.config({\n",
       "            paths: {\n",
       "              base: '/static/base',\n",
       "              plotly: 'https://cdn.plot.ly/plotly-latest.min.js?noext',\n",
       "            },\n",
       "          });\n",
       "        </script>\n",
       "        "
      ],
      "text/plain": [
       "<IPython.core.display.HTML object>"
      ]
     },
     "metadata": {},
     "output_type": "display_data"
    },
    {
     "data": {
      "text/html": [
       "\n",
       "        <script src=\"/static/components/requirejs/require.js\"></script>\n",
       "        <script>\n",
       "          requirejs.config({\n",
       "            paths: {\n",
       "              base: '/static/base',\n",
       "              plotly: 'https://cdn.plot.ly/plotly-latest.min.js?noext',\n",
       "            },\n",
       "          });\n",
       "        </script>\n",
       "        "
      ],
      "text/plain": [
       "<IPython.core.display.HTML object>"
      ]
     },
     "metadata": {},
     "output_type": "display_data"
    },
    {
     "data": {
      "text/html": [
       "\n",
       "        <script src=\"/static/components/requirejs/require.js\"></script>\n",
       "        <script>\n",
       "          requirejs.config({\n",
       "            paths: {\n",
       "              base: '/static/base',\n",
       "              plotly: 'https://cdn.plot.ly/plotly-latest.min.js?noext',\n",
       "            },\n",
       "          });\n",
       "        </script>\n",
       "        "
      ],
      "text/plain": [
       "<IPython.core.display.HTML object>"
      ]
     },
     "metadata": {},
     "output_type": "display_data"
    },
    {
     "data": {
      "text/html": [
       "\n",
       "        <script src=\"/static/components/requirejs/require.js\"></script>\n",
       "        <script>\n",
       "          requirejs.config({\n",
       "            paths: {\n",
       "              base: '/static/base',\n",
       "              plotly: 'https://cdn.plot.ly/plotly-latest.min.js?noext',\n",
       "            },\n",
       "          });\n",
       "        </script>\n",
       "        "
      ],
      "text/plain": [
       "<IPython.core.display.HTML object>"
      ]
     },
     "metadata": {},
     "output_type": "display_data"
    },
    {
     "data": {
      "text/html": [
       "\n",
       "        <script src=\"/static/components/requirejs/require.js\"></script>\n",
       "        <script>\n",
       "          requirejs.config({\n",
       "            paths: {\n",
       "              base: '/static/base',\n",
       "              plotly: 'https://cdn.plot.ly/plotly-latest.min.js?noext',\n",
       "            },\n",
       "          });\n",
       "        </script>\n",
       "        "
      ],
      "text/plain": [
       "<IPython.core.display.HTML object>"
      ]
     },
     "metadata": {},
     "output_type": "display_data"
    },
    {
     "data": {
      "text/html": [
       "\n",
       "        <script src=\"/static/components/requirejs/require.js\"></script>\n",
       "        <script>\n",
       "          requirejs.config({\n",
       "            paths: {\n",
       "              base: '/static/base',\n",
       "              plotly: 'https://cdn.plot.ly/plotly-latest.min.js?noext',\n",
       "            },\n",
       "          });\n",
       "        </script>\n",
       "        "
      ],
      "text/plain": [
       "<IPython.core.display.HTML object>"
      ]
     },
     "metadata": {},
     "output_type": "display_data"
    },
    {
     "data": {
      "text/html": [
       "\n",
       "        <script src=\"/static/components/requirejs/require.js\"></script>\n",
       "        <script>\n",
       "          requirejs.config({\n",
       "            paths: {\n",
       "              base: '/static/base',\n",
       "              plotly: 'https://cdn.plot.ly/plotly-latest.min.js?noext',\n",
       "            },\n",
       "          });\n",
       "        </script>\n",
       "        "
      ],
      "text/plain": [
       "<IPython.core.display.HTML object>"
      ]
     },
     "metadata": {},
     "output_type": "display_data"
    },
    {
     "data": {
      "text/html": [
       "\n",
       "        <script src=\"/static/components/requirejs/require.js\"></script>\n",
       "        <script>\n",
       "          requirejs.config({\n",
       "            paths: {\n",
       "              base: '/static/base',\n",
       "              plotly: 'https://cdn.plot.ly/plotly-latest.min.js?noext',\n",
       "            },\n",
       "          });\n",
       "        </script>\n",
       "        "
      ],
      "text/plain": [
       "<IPython.core.display.HTML object>"
      ]
     },
     "metadata": {},
     "output_type": "display_data"
    },
    {
     "data": {
      "application/vnd.plotly.v1+json": {
       "config": {
        "linkText": "Export to plot.ly",
        "plotlyServerURL": "https://plot.ly",
        "showLink": false
       },
       "data": [
        {
         "marker": {
          "color": [
           23371,
           22172,
           21395,
           21332,
           21242,
           20783,
           20205
          ],
          "colorscale": [
           [
            0,
            "#00224e"
           ],
           [
            0.1111111111111111,
            "#123570"
           ],
           [
            0.2222222222222222,
            "#3b496c"
           ],
           [
            0.3333333333333333,
            "#575d6d"
           ],
           [
            0.4444444444444444,
            "#707173"
           ],
           [
            0.5555555555555556,
            "#8a8678"
           ],
           [
            0.6666666666666666,
            "#a59c74"
           ],
           [
            0.7777777777777778,
            "#c3b369"
           ],
           [
            0.8888888888888888,
            "#e1cc55"
           ],
           [
            1,
            "#fee838"
           ]
          ]
         },
         "text": [
          23371,
          22172,
          21395,
          21332,
          21242,
          20783,
          20205
         ],
         "textposition": "outside",
         "type": "bar",
         "x": [
          "Friday",
          "Saturday",
          "Thursday",
          "Wednesday",
          "Tuesday",
          "Monday",
          "Sunday"
         ],
         "y": [
          23371,
          22172,
          21395,
          21332,
          21242,
          20783,
          20205
         ]
        }
       ],
       "layout": {
        "template": {
         "data": {
          "bar": [
           {
            "error_x": {
             "color": "#2a3f5f"
            },
            "error_y": {
             "color": "#2a3f5f"
            },
            "marker": {
             "line": {
              "color": "#E5ECF6",
              "width": 0.5
             }
            },
            "type": "bar"
           }
          ],
          "barpolar": [
           {
            "marker": {
             "line": {
              "color": "#E5ECF6",
              "width": 0.5
             }
            },
            "type": "barpolar"
           }
          ],
          "carpet": [
           {
            "aaxis": {
             "endlinecolor": "#2a3f5f",
             "gridcolor": "white",
             "linecolor": "white",
             "minorgridcolor": "white",
             "startlinecolor": "#2a3f5f"
            },
            "baxis": {
             "endlinecolor": "#2a3f5f",
             "gridcolor": "white",
             "linecolor": "white",
             "minorgridcolor": "white",
             "startlinecolor": "#2a3f5f"
            },
            "type": "carpet"
           }
          ],
          "choropleth": [
           {
            "colorbar": {
             "outlinewidth": 0,
             "ticks": ""
            },
            "type": "choropleth"
           }
          ],
          "contour": [
           {
            "colorbar": {
             "outlinewidth": 0,
             "ticks": ""
            },
            "colorscale": [
             [
              0,
              "#0d0887"
             ],
             [
              0.1111111111111111,
              "#46039f"
             ],
             [
              0.2222222222222222,
              "#7201a8"
             ],
             [
              0.3333333333333333,
              "#9c179e"
             ],
             [
              0.4444444444444444,
              "#bd3786"
             ],
             [
              0.5555555555555556,
              "#d8576b"
             ],
             [
              0.6666666666666666,
              "#ed7953"
             ],
             [
              0.7777777777777778,
              "#fb9f3a"
             ],
             [
              0.8888888888888888,
              "#fdca26"
             ],
             [
              1,
              "#f0f921"
             ]
            ],
            "type": "contour"
           }
          ],
          "contourcarpet": [
           {
            "colorbar": {
             "outlinewidth": 0,
             "ticks": ""
            },
            "type": "contourcarpet"
           }
          ],
          "heatmap": [
           {
            "colorbar": {
             "outlinewidth": 0,
             "ticks": ""
            },
            "colorscale": [
             [
              0,
              "#0d0887"
             ],
             [
              0.1111111111111111,
              "#46039f"
             ],
             [
              0.2222222222222222,
              "#7201a8"
             ],
             [
              0.3333333333333333,
              "#9c179e"
             ],
             [
              0.4444444444444444,
              "#bd3786"
             ],
             [
              0.5555555555555556,
              "#d8576b"
             ],
             [
              0.6666666666666666,
              "#ed7953"
             ],
             [
              0.7777777777777778,
              "#fb9f3a"
             ],
             [
              0.8888888888888888,
              "#fdca26"
             ],
             [
              1,
              "#f0f921"
             ]
            ],
            "type": "heatmap"
           }
          ],
          "heatmapgl": [
           {
            "colorbar": {
             "outlinewidth": 0,
             "ticks": ""
            },
            "colorscale": [
             [
              0,
              "#0d0887"
             ],
             [
              0.1111111111111111,
              "#46039f"
             ],
             [
              0.2222222222222222,
              "#7201a8"
             ],
             [
              0.3333333333333333,
              "#9c179e"
             ],
             [
              0.4444444444444444,
              "#bd3786"
             ],
             [
              0.5555555555555556,
              "#d8576b"
             ],
             [
              0.6666666666666666,
              "#ed7953"
             ],
             [
              0.7777777777777778,
              "#fb9f3a"
             ],
             [
              0.8888888888888888,
              "#fdca26"
             ],
             [
              1,
              "#f0f921"
             ]
            ],
            "type": "heatmapgl"
           }
          ],
          "histogram": [
           {
            "marker": {
             "colorbar": {
              "outlinewidth": 0,
              "ticks": ""
             }
            },
            "type": "histogram"
           }
          ],
          "histogram2d": [
           {
            "colorbar": {
             "outlinewidth": 0,
             "ticks": ""
            },
            "colorscale": [
             [
              0,
              "#0d0887"
             ],
             [
              0.1111111111111111,
              "#46039f"
             ],
             [
              0.2222222222222222,
              "#7201a8"
             ],
             [
              0.3333333333333333,
              "#9c179e"
             ],
             [
              0.4444444444444444,
              "#bd3786"
             ],
             [
              0.5555555555555556,
              "#d8576b"
             ],
             [
              0.6666666666666666,
              "#ed7953"
             ],
             [
              0.7777777777777778,
              "#fb9f3a"
             ],
             [
              0.8888888888888888,
              "#fdca26"
             ],
             [
              1,
              "#f0f921"
             ]
            ],
            "type": "histogram2d"
           }
          ],
          "histogram2dcontour": [
           {
            "colorbar": {
             "outlinewidth": 0,
             "ticks": ""
            },
            "colorscale": [
             [
              0,
              "#0d0887"
             ],
             [
              0.1111111111111111,
              "#46039f"
             ],
             [
              0.2222222222222222,
              "#7201a8"
             ],
             [
              0.3333333333333333,
              "#9c179e"
             ],
             [
              0.4444444444444444,
              "#bd3786"
             ],
             [
              0.5555555555555556,
              "#d8576b"
             ],
             [
              0.6666666666666666,
              "#ed7953"
             ],
             [
              0.7777777777777778,
              "#fb9f3a"
             ],
             [
              0.8888888888888888,
              "#fdca26"
             ],
             [
              1,
              "#f0f921"
             ]
            ],
            "type": "histogram2dcontour"
           }
          ],
          "mesh3d": [
           {
            "colorbar": {
             "outlinewidth": 0,
             "ticks": ""
            },
            "type": "mesh3d"
           }
          ],
          "parcoords": [
           {
            "line": {
             "colorbar": {
              "outlinewidth": 0,
              "ticks": ""
             }
            },
            "type": "parcoords"
           }
          ],
          "pie": [
           {
            "automargin": true,
            "type": "pie"
           }
          ],
          "scatter": [
           {
            "marker": {
             "colorbar": {
              "outlinewidth": 0,
              "ticks": ""
             }
            },
            "type": "scatter"
           }
          ],
          "scatter3d": [
           {
            "line": {
             "colorbar": {
              "outlinewidth": 0,
              "ticks": ""
             }
            },
            "marker": {
             "colorbar": {
              "outlinewidth": 0,
              "ticks": ""
             }
            },
            "type": "scatter3d"
           }
          ],
          "scattercarpet": [
           {
            "marker": {
             "colorbar": {
              "outlinewidth": 0,
              "ticks": ""
             }
            },
            "type": "scattercarpet"
           }
          ],
          "scattergeo": [
           {
            "marker": {
             "colorbar": {
              "outlinewidth": 0,
              "ticks": ""
             }
            },
            "type": "scattergeo"
           }
          ],
          "scattergl": [
           {
            "marker": {
             "colorbar": {
              "outlinewidth": 0,
              "ticks": ""
             }
            },
            "type": "scattergl"
           }
          ],
          "scattermapbox": [
           {
            "marker": {
             "colorbar": {
              "outlinewidth": 0,
              "ticks": ""
             }
            },
            "type": "scattermapbox"
           }
          ],
          "scatterpolar": [
           {
            "marker": {
             "colorbar": {
              "outlinewidth": 0,
              "ticks": ""
             }
            },
            "type": "scatterpolar"
           }
          ],
          "scatterpolargl": [
           {
            "marker": {
             "colorbar": {
              "outlinewidth": 0,
              "ticks": ""
             }
            },
            "type": "scatterpolargl"
           }
          ],
          "scatterternary": [
           {
            "marker": {
             "colorbar": {
              "outlinewidth": 0,
              "ticks": ""
             }
            },
            "type": "scatterternary"
           }
          ],
          "surface": [
           {
            "colorbar": {
             "outlinewidth": 0,
             "ticks": ""
            },
            "colorscale": [
             [
              0,
              "#0d0887"
             ],
             [
              0.1111111111111111,
              "#46039f"
             ],
             [
              0.2222222222222222,
              "#7201a8"
             ],
             [
              0.3333333333333333,
              "#9c179e"
             ],
             [
              0.4444444444444444,
              "#bd3786"
             ],
             [
              0.5555555555555556,
              "#d8576b"
             ],
             [
              0.6666666666666666,
              "#ed7953"
             ],
             [
              0.7777777777777778,
              "#fb9f3a"
             ],
             [
              0.8888888888888888,
              "#fdca26"
             ],
             [
              1,
              "#f0f921"
             ]
            ],
            "type": "surface"
           }
          ],
          "table": [
           {
            "cells": {
             "fill": {
              "color": "#EBF0F8"
             },
             "line": {
              "color": "white"
             }
            },
            "header": {
             "fill": {
              "color": "#C8D4E3"
             },
             "line": {
              "color": "white"
             }
            },
            "type": "table"
           }
          ]
         },
         "layout": {
          "annotationdefaults": {
           "arrowcolor": "#2a3f5f",
           "arrowhead": 0,
           "arrowwidth": 1
          },
          "coloraxis": {
           "colorbar": {
            "outlinewidth": 0,
            "ticks": ""
           }
          },
          "colorscale": {
           "diverging": [
            [
             0,
             "#8e0152"
            ],
            [
             0.1,
             "#c51b7d"
            ],
            [
             0.2,
             "#de77ae"
            ],
            [
             0.3,
             "#f1b6da"
            ],
            [
             0.4,
             "#fde0ef"
            ],
            [
             0.5,
             "#f7f7f7"
            ],
            [
             0.6,
             "#e6f5d0"
            ],
            [
             0.7,
             "#b8e186"
            ],
            [
             0.8,
             "#7fbc41"
            ],
            [
             0.9,
             "#4d9221"
            ],
            [
             1,
             "#276419"
            ]
           ],
           "sequential": [
            [
             0,
             "#0d0887"
            ],
            [
             0.1111111111111111,
             "#46039f"
            ],
            [
             0.2222222222222222,
             "#7201a8"
            ],
            [
             0.3333333333333333,
             "#9c179e"
            ],
            [
             0.4444444444444444,
             "#bd3786"
            ],
            [
             0.5555555555555556,
             "#d8576b"
            ],
            [
             0.6666666666666666,
             "#ed7953"
            ],
            [
             0.7777777777777778,
             "#fb9f3a"
            ],
            [
             0.8888888888888888,
             "#fdca26"
            ],
            [
             1,
             "#f0f921"
            ]
           ],
           "sequentialminus": [
            [
             0,
             "#0d0887"
            ],
            [
             0.1111111111111111,
             "#46039f"
            ],
            [
             0.2222222222222222,
             "#7201a8"
            ],
            [
             0.3333333333333333,
             "#9c179e"
            ],
            [
             0.4444444444444444,
             "#bd3786"
            ],
            [
             0.5555555555555556,
             "#d8576b"
            ],
            [
             0.6666666666666666,
             "#ed7953"
            ],
            [
             0.7777777777777778,
             "#fb9f3a"
            ],
            [
             0.8888888888888888,
             "#fdca26"
            ],
            [
             1,
             "#f0f921"
            ]
           ]
          },
          "colorway": [
           "#636efa",
           "#EF553B",
           "#00cc96",
           "#ab63fa",
           "#FFA15A",
           "#19d3f3",
           "#FF6692",
           "#B6E880",
           "#FF97FF",
           "#FECB52"
          ],
          "font": {
           "color": "#2a3f5f"
          },
          "geo": {
           "bgcolor": "white",
           "lakecolor": "white",
           "landcolor": "#E5ECF6",
           "showlakes": true,
           "showland": true,
           "subunitcolor": "white"
          },
          "hoverlabel": {
           "align": "left"
          },
          "hovermode": "closest",
          "mapbox": {
           "style": "light"
          },
          "paper_bgcolor": "white",
          "plot_bgcolor": "#E5ECF6",
          "polar": {
           "angularaxis": {
            "gridcolor": "white",
            "linecolor": "white",
            "ticks": ""
           },
           "bgcolor": "#E5ECF6",
           "radialaxis": {
            "gridcolor": "white",
            "linecolor": "white",
            "ticks": ""
           }
          },
          "scene": {
           "xaxis": {
            "backgroundcolor": "#E5ECF6",
            "gridcolor": "white",
            "gridwidth": 2,
            "linecolor": "white",
            "showbackground": true,
            "ticks": "",
            "zerolinecolor": "white"
           },
           "yaxis": {
            "backgroundcolor": "#E5ECF6",
            "gridcolor": "white",
            "gridwidth": 2,
            "linecolor": "white",
            "showbackground": true,
            "ticks": "",
            "zerolinecolor": "white"
           },
           "zaxis": {
            "backgroundcolor": "#E5ECF6",
            "gridcolor": "white",
            "gridwidth": 2,
            "linecolor": "white",
            "showbackground": true,
            "ticks": "",
            "zerolinecolor": "white"
           }
          },
          "shapedefaults": {
           "line": {
            "color": "#2a3f5f"
           }
          },
          "ternary": {
           "aaxis": {
            "gridcolor": "white",
            "linecolor": "white",
            "ticks": ""
           },
           "baxis": {
            "gridcolor": "white",
            "linecolor": "white",
            "ticks": ""
           },
           "bgcolor": "#E5ECF6",
           "caxis": {
            "gridcolor": "white",
            "linecolor": "white",
            "ticks": ""
           }
          },
          "title": {
           "x": 0.05
          },
          "xaxis": {
           "automargin": true,
           "gridcolor": "white",
           "linecolor": "white",
           "ticks": "",
           "title": {
            "standoff": 15
           },
           "zerolinecolor": "white",
           "zerolinewidth": 2
          },
          "yaxis": {
           "automargin": true,
           "gridcolor": "white",
           "linecolor": "white",
           "ticks": "",
           "title": {
            "standoff": 15
           },
           "zerolinecolor": "white",
           "zerolinewidth": 2
          }
         }
        },
        "title": {
         "text": "Figure 1 - Number of Incidents per Day od Week",
         "x": 0.5
        },
        "xaxis": {
         "title": {
          "text": "Day of Week"
         }
        },
        "yaxis": {
         "title": {
          "text": "Number of Incidents"
         }
        }
       }
      },
      "text/html": [
       "<div>\n",
       "        \n",
       "        \n",
       "            <div id=\"e760cb91-8449-4a48-abf1-54a487d46317\" class=\"plotly-graph-div\" style=\"height:525px; width:100%;\"></div>\n",
       "            <script type=\"text/javascript\">\n",
       "                require([\"plotly\"], function(Plotly) {\n",
       "                    window.PLOTLYENV=window.PLOTLYENV || {};\n",
       "                    \n",
       "                if (document.getElementById(\"e760cb91-8449-4a48-abf1-54a487d46317\")) {\n",
       "                    Plotly.newPlot(\n",
       "                        'e760cb91-8449-4a48-abf1-54a487d46317',\n",
       "                        [{\"marker\": {\"color\": [23371, 22172, 21395, 21332, 21242, 20783, 20205], \"colorscale\": [[0.0, \"#00224e\"], [0.1111111111111111, \"#123570\"], [0.2222222222222222, \"#3b496c\"], [0.3333333333333333, \"#575d6d\"], [0.4444444444444444, \"#707173\"], [0.5555555555555556, \"#8a8678\"], [0.6666666666666666, \"#a59c74\"], [0.7777777777777778, \"#c3b369\"], [0.8888888888888888, \"#e1cc55\"], [1.0, \"#fee838\"]]}, \"text\": [23371.0, 22172.0, 21395.0, 21332.0, 21242.0, 20783.0, 20205.0], \"textposition\": \"outside\", \"type\": \"bar\", \"x\": [\"Friday\", \"Saturday\", \"Thursday\", \"Wednesday\", \"Tuesday\", \"Monday\", \"Sunday\"], \"y\": [23371, 22172, 21395, 21332, 21242, 20783, 20205]}],\n",
       "                        {\"template\": {\"data\": {\"bar\": [{\"error_x\": {\"color\": \"#2a3f5f\"}, \"error_y\": {\"color\": \"#2a3f5f\"}, \"marker\": {\"line\": {\"color\": \"#E5ECF6\", \"width\": 0.5}}, \"type\": \"bar\"}], \"barpolar\": [{\"marker\": {\"line\": {\"color\": \"#E5ECF6\", \"width\": 0.5}}, \"type\": \"barpolar\"}], \"carpet\": [{\"aaxis\": {\"endlinecolor\": \"#2a3f5f\", \"gridcolor\": \"white\", \"linecolor\": \"white\", \"minorgridcolor\": \"white\", \"startlinecolor\": \"#2a3f5f\"}, \"baxis\": {\"endlinecolor\": \"#2a3f5f\", \"gridcolor\": \"white\", \"linecolor\": \"white\", \"minorgridcolor\": \"white\", \"startlinecolor\": \"#2a3f5f\"}, \"type\": \"carpet\"}], \"choropleth\": [{\"colorbar\": {\"outlinewidth\": 0, \"ticks\": \"\"}, \"type\": \"choropleth\"}], \"contour\": [{\"colorbar\": {\"outlinewidth\": 0, \"ticks\": \"\"}, \"colorscale\": [[0.0, \"#0d0887\"], [0.1111111111111111, \"#46039f\"], [0.2222222222222222, \"#7201a8\"], [0.3333333333333333, \"#9c179e\"], [0.4444444444444444, \"#bd3786\"], [0.5555555555555556, \"#d8576b\"], [0.6666666666666666, \"#ed7953\"], [0.7777777777777778, \"#fb9f3a\"], [0.8888888888888888, \"#fdca26\"], [1.0, \"#f0f921\"]], \"type\": \"contour\"}], \"contourcarpet\": [{\"colorbar\": {\"outlinewidth\": 0, \"ticks\": \"\"}, \"type\": \"contourcarpet\"}], \"heatmap\": [{\"colorbar\": {\"outlinewidth\": 0, \"ticks\": \"\"}, \"colorscale\": [[0.0, \"#0d0887\"], [0.1111111111111111, \"#46039f\"], [0.2222222222222222, \"#7201a8\"], [0.3333333333333333, \"#9c179e\"], [0.4444444444444444, \"#bd3786\"], [0.5555555555555556, \"#d8576b\"], [0.6666666666666666, \"#ed7953\"], [0.7777777777777778, \"#fb9f3a\"], [0.8888888888888888, \"#fdca26\"], [1.0, \"#f0f921\"]], \"type\": \"heatmap\"}], \"heatmapgl\": [{\"colorbar\": {\"outlinewidth\": 0, \"ticks\": \"\"}, \"colorscale\": [[0.0, \"#0d0887\"], [0.1111111111111111, \"#46039f\"], [0.2222222222222222, \"#7201a8\"], [0.3333333333333333, \"#9c179e\"], [0.4444444444444444, \"#bd3786\"], [0.5555555555555556, \"#d8576b\"], [0.6666666666666666, \"#ed7953\"], [0.7777777777777778, \"#fb9f3a\"], [0.8888888888888888, \"#fdca26\"], [1.0, \"#f0f921\"]], \"type\": \"heatmapgl\"}], \"histogram\": [{\"marker\": {\"colorbar\": {\"outlinewidth\": 0, \"ticks\": \"\"}}, \"type\": \"histogram\"}], \"histogram2d\": [{\"colorbar\": {\"outlinewidth\": 0, \"ticks\": \"\"}, \"colorscale\": [[0.0, \"#0d0887\"], [0.1111111111111111, \"#46039f\"], [0.2222222222222222, \"#7201a8\"], [0.3333333333333333, \"#9c179e\"], [0.4444444444444444, \"#bd3786\"], [0.5555555555555556, \"#d8576b\"], [0.6666666666666666, \"#ed7953\"], [0.7777777777777778, \"#fb9f3a\"], [0.8888888888888888, \"#fdca26\"], [1.0, \"#f0f921\"]], \"type\": \"histogram2d\"}], \"histogram2dcontour\": [{\"colorbar\": {\"outlinewidth\": 0, \"ticks\": \"\"}, \"colorscale\": [[0.0, \"#0d0887\"], [0.1111111111111111, \"#46039f\"], [0.2222222222222222, \"#7201a8\"], [0.3333333333333333, \"#9c179e\"], [0.4444444444444444, \"#bd3786\"], [0.5555555555555556, \"#d8576b\"], [0.6666666666666666, \"#ed7953\"], [0.7777777777777778, \"#fb9f3a\"], [0.8888888888888888, \"#fdca26\"], [1.0, \"#f0f921\"]], \"type\": \"histogram2dcontour\"}], \"mesh3d\": [{\"colorbar\": {\"outlinewidth\": 0, \"ticks\": \"\"}, \"type\": \"mesh3d\"}], \"parcoords\": [{\"line\": {\"colorbar\": {\"outlinewidth\": 0, \"ticks\": \"\"}}, \"type\": \"parcoords\"}], \"pie\": [{\"automargin\": true, \"type\": \"pie\"}], \"scatter\": [{\"marker\": {\"colorbar\": {\"outlinewidth\": 0, \"ticks\": \"\"}}, \"type\": \"scatter\"}], \"scatter3d\": [{\"line\": {\"colorbar\": {\"outlinewidth\": 0, \"ticks\": \"\"}}, \"marker\": {\"colorbar\": {\"outlinewidth\": 0, \"ticks\": \"\"}}, \"type\": \"scatter3d\"}], \"scattercarpet\": [{\"marker\": {\"colorbar\": {\"outlinewidth\": 0, \"ticks\": \"\"}}, \"type\": \"scattercarpet\"}], \"scattergeo\": [{\"marker\": {\"colorbar\": {\"outlinewidth\": 0, \"ticks\": \"\"}}, \"type\": \"scattergeo\"}], \"scattergl\": [{\"marker\": {\"colorbar\": {\"outlinewidth\": 0, \"ticks\": \"\"}}, \"type\": \"scattergl\"}], \"scattermapbox\": [{\"marker\": {\"colorbar\": {\"outlinewidth\": 0, \"ticks\": \"\"}}, \"type\": \"scattermapbox\"}], \"scatterpolar\": [{\"marker\": {\"colorbar\": {\"outlinewidth\": 0, \"ticks\": \"\"}}, \"type\": \"scatterpolar\"}], \"scatterpolargl\": [{\"marker\": {\"colorbar\": {\"outlinewidth\": 0, \"ticks\": \"\"}}, \"type\": \"scatterpolargl\"}], \"scatterternary\": [{\"marker\": {\"colorbar\": {\"outlinewidth\": 0, \"ticks\": \"\"}}, \"type\": \"scatterternary\"}], \"surface\": [{\"colorbar\": {\"outlinewidth\": 0, \"ticks\": \"\"}, \"colorscale\": [[0.0, \"#0d0887\"], [0.1111111111111111, \"#46039f\"], [0.2222222222222222, \"#7201a8\"], [0.3333333333333333, \"#9c179e\"], [0.4444444444444444, \"#bd3786\"], [0.5555555555555556, \"#d8576b\"], [0.6666666666666666, \"#ed7953\"], [0.7777777777777778, \"#fb9f3a\"], [0.8888888888888888, \"#fdca26\"], [1.0, \"#f0f921\"]], \"type\": \"surface\"}], \"table\": [{\"cells\": {\"fill\": {\"color\": \"#EBF0F8\"}, \"line\": {\"color\": \"white\"}}, \"header\": {\"fill\": {\"color\": \"#C8D4E3\"}, \"line\": {\"color\": \"white\"}}, \"type\": \"table\"}]}, \"layout\": {\"annotationdefaults\": {\"arrowcolor\": \"#2a3f5f\", \"arrowhead\": 0, \"arrowwidth\": 1}, \"coloraxis\": {\"colorbar\": {\"outlinewidth\": 0, \"ticks\": \"\"}}, \"colorscale\": {\"diverging\": [[0, \"#8e0152\"], [0.1, \"#c51b7d\"], [0.2, \"#de77ae\"], [0.3, \"#f1b6da\"], [0.4, \"#fde0ef\"], [0.5, \"#f7f7f7\"], [0.6, \"#e6f5d0\"], [0.7, \"#b8e186\"], [0.8, \"#7fbc41\"], [0.9, \"#4d9221\"], [1, \"#276419\"]], \"sequential\": [[0.0, \"#0d0887\"], [0.1111111111111111, \"#46039f\"], [0.2222222222222222, \"#7201a8\"], [0.3333333333333333, \"#9c179e\"], [0.4444444444444444, \"#bd3786\"], [0.5555555555555556, \"#d8576b\"], [0.6666666666666666, \"#ed7953\"], [0.7777777777777778, \"#fb9f3a\"], [0.8888888888888888, \"#fdca26\"], [1.0, \"#f0f921\"]], \"sequentialminus\": [[0.0, \"#0d0887\"], [0.1111111111111111, \"#46039f\"], [0.2222222222222222, \"#7201a8\"], [0.3333333333333333, \"#9c179e\"], [0.4444444444444444, \"#bd3786\"], [0.5555555555555556, \"#d8576b\"], [0.6666666666666666, \"#ed7953\"], [0.7777777777777778, \"#fb9f3a\"], [0.8888888888888888, \"#fdca26\"], [1.0, \"#f0f921\"]]}, \"colorway\": [\"#636efa\", \"#EF553B\", \"#00cc96\", \"#ab63fa\", \"#FFA15A\", \"#19d3f3\", \"#FF6692\", \"#B6E880\", \"#FF97FF\", \"#FECB52\"], \"font\": {\"color\": \"#2a3f5f\"}, \"geo\": {\"bgcolor\": \"white\", \"lakecolor\": \"white\", \"landcolor\": \"#E5ECF6\", \"showlakes\": true, \"showland\": true, \"subunitcolor\": \"white\"}, \"hoverlabel\": {\"align\": \"left\"}, \"hovermode\": \"closest\", \"mapbox\": {\"style\": \"light\"}, \"paper_bgcolor\": \"white\", \"plot_bgcolor\": \"#E5ECF6\", \"polar\": {\"angularaxis\": {\"gridcolor\": \"white\", \"linecolor\": \"white\", \"ticks\": \"\"}, \"bgcolor\": \"#E5ECF6\", \"radialaxis\": {\"gridcolor\": \"white\", \"linecolor\": \"white\", \"ticks\": \"\"}}, \"scene\": {\"xaxis\": {\"backgroundcolor\": \"#E5ECF6\", \"gridcolor\": \"white\", \"gridwidth\": 2, \"linecolor\": \"white\", \"showbackground\": true, \"ticks\": \"\", \"zerolinecolor\": \"white\"}, \"yaxis\": {\"backgroundcolor\": \"#E5ECF6\", \"gridcolor\": \"white\", \"gridwidth\": 2, \"linecolor\": \"white\", \"showbackground\": true, \"ticks\": \"\", \"zerolinecolor\": \"white\"}, \"zaxis\": {\"backgroundcolor\": \"#E5ECF6\", \"gridcolor\": \"white\", \"gridwidth\": 2, \"linecolor\": \"white\", \"showbackground\": true, \"ticks\": \"\", \"zerolinecolor\": \"white\"}}, \"shapedefaults\": {\"line\": {\"color\": \"#2a3f5f\"}}, \"ternary\": {\"aaxis\": {\"gridcolor\": \"white\", \"linecolor\": \"white\", \"ticks\": \"\"}, \"baxis\": {\"gridcolor\": \"white\", \"linecolor\": \"white\", \"ticks\": \"\"}, \"bgcolor\": \"#E5ECF6\", \"caxis\": {\"gridcolor\": \"white\", \"linecolor\": \"white\", \"ticks\": \"\"}}, \"title\": {\"x\": 0.05}, \"xaxis\": {\"automargin\": true, \"gridcolor\": \"white\", \"linecolor\": \"white\", \"ticks\": \"\", \"title\": {\"standoff\": 15}, \"zerolinecolor\": \"white\", \"zerolinewidth\": 2}, \"yaxis\": {\"automargin\": true, \"gridcolor\": \"white\", \"linecolor\": \"white\", \"ticks\": \"\", \"title\": {\"standoff\": 15}, \"zerolinecolor\": \"white\", \"zerolinewidth\": 2}}}, \"title\": {\"text\": \"Figure 1 - Number of Incidents per Day od Week\", \"x\": 0.5}, \"xaxis\": {\"title\": {\"text\": \"Day of Week\"}}, \"yaxis\": {\"title\": {\"text\": \"Number of Incidents\"}}},\n",
       "                        {\"responsive\": true}\n",
       "                    ).then(function(){\n",
       "                            \n",
       "var gd = document.getElementById('e760cb91-8449-4a48-abf1-54a487d46317');\n",
       "var x = new MutationObserver(function (mutations, observer) {{\n",
       "        var display = window.getComputedStyle(gd).display;\n",
       "        if (!display || display === 'none') {{\n",
       "            console.log([gd, 'removed!']);\n",
       "            Plotly.purge(gd);\n",
       "            observer.disconnect();\n",
       "        }}\n",
       "}});\n",
       "\n",
       "// Listen for the removal of the full notebook cells\n",
       "var notebookContainer = gd.closest('#notebook-container');\n",
       "if (notebookContainer) {{\n",
       "    x.observe(notebookContainer, {childList: true});\n",
       "}}\n",
       "\n",
       "// Listen for the clearing of the current output cell\n",
       "var outputEl = gd.closest('.output');\n",
       "if (outputEl) {{\n",
       "    x.observe(outputEl, {childList: true});\n",
       "}}\n",
       "\n",
       "                        })\n",
       "                };\n",
       "                });\n",
       "            </script>\n",
       "        </div>"
      ]
     },
     "metadata": {},
     "output_type": "display_data"
    },
    {
     "data": {
      "image/png": "[encoded data removed]"
     },
     "metadata": {},
     "output_type": "display_data"
    }
   ],
   "source": [
    "# Plotting Number of Incidents per Day od Week\n",
    "value = incidents['DayOfWeek'].value_counts().round(0)\n",
    "label = value.index\n",
    "trace = go.Bar(y=value, \n",
    "               x=label,text = value,textposition= \"outside\",\n",
    "               marker={'color': value,\n",
    "                   'colorscale': 'Cividis'})\n",
    "layout = go.Layout(title=\"Figure 1 - Number of Incidents per Day od Week\", \n",
    "                   xaxis={'title' : \"Day of Week\"},\n",
    "                  yaxis={'title' : \"Number of Incidents\"},\n",
    "                  title_x=0.5)\n",
    "fig = go.Figure(data=trace, layout=layout)\n",
    "iplot(fig)\n",
    "fig.show('png')"
   ]
  },
  {
   "cell_type": "code",
   "execution_count": 191,
   "metadata": {},
   "outputs": [
    {
     "data": {
      "text/html": [
       "\n",
       "        <script src=\"/static/components/requirejs/require.js\"></script>\n",
       "        <script>\n",
       "          requirejs.config({\n",
       "            paths: {\n",
       "              base: '/static/base',\n",
       "              plotly: 'https://cdn.plot.ly/plotly-latest.min.js?noext',\n",
       "            },\n",
       "          });\n",
       "        </script>\n",
       "        "
      ],
      "text/plain": [
       "<IPython.core.display.HTML object>"
      ]
     },
     "metadata": {},
     "output_type": "display_data"
    },
    {
     "data": {
      "text/html": [
       "\n",
       "        <script src=\"/static/components/requirejs/require.js\"></script>\n",
       "        <script>\n",
       "          requirejs.config({\n",
       "            paths: {\n",
       "              base: '/static/base',\n",
       "              plotly: 'https://cdn.plot.ly/plotly-latest.min.js?noext',\n",
       "            },\n",
       "          });\n",
       "        </script>\n",
       "        "
      ],
      "text/plain": [
       "<IPython.core.display.HTML object>"
      ]
     },
     "metadata": {},
     "output_type": "display_data"
    },
    {
     "data": {
      "text/html": [
       "\n",
       "        <script src=\"/static/components/requirejs/require.js\"></script>\n",
       "        <script>\n",
       "          requirejs.config({\n",
       "            paths: {\n",
       "              base: '/static/base',\n",
       "              plotly: 'https://cdn.plot.ly/plotly-latest.min.js?noext',\n",
       "            },\n",
       "          });\n",
       "        </script>\n",
       "        "
      ],
      "text/plain": [
       "<IPython.core.display.HTML object>"
      ]
     },
     "metadata": {},
     "output_type": "display_data"
    },
    {
     "data": {
      "text/html": [
       "\n",
       "        <script src=\"/static/components/requirejs/require.js\"></script>\n",
       "        <script>\n",
       "          requirejs.config({\n",
       "            paths: {\n",
       "              base: '/static/base',\n",
       "              plotly: 'https://cdn.plot.ly/plotly-latest.min.js?noext',\n",
       "            },\n",
       "          });\n",
       "        </script>\n",
       "        "
      ],
      "text/plain": [
       "<IPython.core.display.HTML object>"
      ]
     },
     "metadata": {},
     "output_type": "display_data"
    },
    {
     "data": {
      "text/html": [
       "\n",
       "        <script src=\"/static/components/requirejs/require.js\"></script>\n",
       "        <script>\n",
       "          requirejs.config({\n",
       "            paths: {\n",
       "              base: '/static/base',\n",
       "              plotly: 'https://cdn.plot.ly/plotly-latest.min.js?noext',\n",
       "            },\n",
       "          });\n",
       "        </script>\n",
       "        "
      ],
      "text/plain": [
       "<IPython.core.display.HTML object>"
      ]
     },
     "metadata": {},
     "output_type": "display_data"
    },
    {
     "data": {
      "text/html": [
       "\n",
       "        <script src=\"/static/components/requirejs/require.js\"></script>\n",
       "        <script>\n",
       "          requirejs.config({\n",
       "            paths: {\n",
       "              base: '/static/base',\n",
       "              plotly: 'https://cdn.plot.ly/plotly-latest.min.js?noext',\n",
       "            },\n",
       "          });\n",
       "        </script>\n",
       "        "
      ],
      "text/plain": [
       "<IPython.core.display.HTML object>"
      ]
     },
     "metadata": {},
     "output_type": "display_data"
    },
    {
     "data": {
      "text/html": [
       "\n",
       "        <script src=\"/static/components/requirejs/require.js\"></script>\n",
       "        <script>\n",
       "          requirejs.config({\n",
       "            paths: {\n",
       "              base: '/static/base',\n",
       "              plotly: 'https://cdn.plot.ly/plotly-latest.min.js?noext',\n",
       "            },\n",
       "          });\n",
       "        </script>\n",
       "        "
      ],
      "text/plain": [
       "<IPython.core.display.HTML object>"
      ]
     },
     "metadata": {},
     "output_type": "display_data"
    },
    {
     "data": {
      "text/html": [
       "\n",
       "        <script src=\"/static/components/requirejs/require.js\"></script>\n",
       "        <script>\n",
       "          requirejs.config({\n",
       "            paths: {\n",
       "              base: '/static/base',\n",
       "              plotly: 'https://cdn.plot.ly/plotly-latest.min.js?noext',\n",
       "            },\n",
       "          });\n",
       "        </script>\n",
       "        "
      ],
      "text/plain": [
       "<IPython.core.display.HTML object>"
      ]
     },
     "metadata": {},
     "output_type": "display_data"
    },
    {
     "data": {
      "text/html": [
       "\n",
       "        <script src=\"/static/components/requirejs/require.js\"></script>\n",
       "        <script>\n",
       "          requirejs.config({\n",
       "            paths: {\n",
       "              base: '/static/base',\n",
       "              plotly: 'https://cdn.plot.ly/plotly-latest.min.js?noext',\n",
       "            },\n",
       "          });\n",
       "        </script>\n",
       "        "
      ],
      "text/plain": [
       "<IPython.core.display.HTML object>"
      ]
     },
     "metadata": {},
     "output_type": "display_data"
    },
    {
     "data": {
      "text/html": [
       "\n",
       "        <script src=\"/static/components/requirejs/require.js\"></script>\n",
       "        <script>\n",
       "          requirejs.config({\n",
       "            paths: {\n",
       "              base: '/static/base',\n",
       "              plotly: 'https://cdn.plot.ly/plotly-latest.min.js?noext',\n",
       "            },\n",
       "          });\n",
       "        </script>\n",
       "        "
      ],
      "text/plain": [
       "<IPython.core.display.HTML object>"
      ]
     },
     "metadata": {},
     "output_type": "display_data"
    },
    {
     "data": {
      "text/html": [
       "\n",
       "        <script src=\"/static/components/requirejs/require.js\"></script>\n",
       "        <script>\n",
       "          requirejs.config({\n",
       "            paths: {\n",
       "              base: '/static/base',\n",
       "              plotly: 'https://cdn.plot.ly/plotly-latest.min.js?noext',\n",
       "            },\n",
       "          });\n",
       "        </script>\n",
       "        "
      ],
      "text/plain": [
       "<IPython.core.display.HTML object>"
      ]
     },
     "metadata": {},
     "output_type": "display_data"
    },
    {
     "data": {
      "text/html": [
       "\n",
       "        <script src=\"/static/components/requirejs/require.js\"></script>\n",
       "        <script>\n",
       "          requirejs.config({\n",
       "            paths: {\n",
       "              base: '/static/base',\n",
       "              plotly: 'https://cdn.plot.ly/plotly-latest.min.js?noext',\n",
       "            },\n",
       "          });\n",
       "        </script>\n",
       "        "
      ],
      "text/plain": [
       "<IPython.core.display.HTML object>"
      ]
     },
     "metadata": {},
     "output_type": "display_data"
    },
    {
     "data": {
      "text/html": [
       "\n",
       "        <script src=\"/static/components/requirejs/require.js\"></script>\n",
       "        <script>\n",
       "          requirejs.config({\n",
       "            paths: {\n",
       "              base: '/static/base',\n",
       "              plotly: 'https://cdn.plot.ly/plotly-latest.min.js?noext',\n",
       "            },\n",
       "          });\n",
       "        </script>\n",
       "        "
      ],
      "text/plain": [
       "<IPython.core.display.HTML object>"
      ]
     },
     "metadata": {},
     "output_type": "display_data"
    },
    {
     "data": {
      "text/plain": [
       "LARCENY/THEFT                  40409\n",
       "OTHER OFFENSES                 19599\n",
       "NON-CRIMINAL                   17866\n",
       "ASSAULT                        13577\n",
       "VANDALISM                       8589\n",
       "VEHICLE THEFT                   6419\n",
       "WARRANTS                        5914\n",
       "BURGLARY                        5802\n",
       "SUSPICIOUS OCC                  5782\n",
       "MISSING PERSON                  4338\n",
       "DRUG/NARCOTIC                   4243\n",
       "ROBBERY                         3299\n",
       "FRAUD                           2635\n",
       "SECONDARY CODES                 1841\n",
       "TRESPASS                        1812\n",
       "WEAPON LAWS                     1658\n",
       "SEX OFFENSES, FORCIBLE           940\n",
       "STOLEN PROPERTY                  882\n",
       "RECOVERED VEHICLE                736\n",
       "DISORDERLY CONDUCT               658\n",
       "PROSTITUTION                     641\n",
       "FORGERY/COUNTERFEITING           619\n",
       "DRUNKENNESS                      465\n",
       "DRIVING UNDER THE INFLUENCE      378\n",
       "ARSON                            286\n",
       "KIDNAPPING                       257\n",
       "EMBEZZLEMENT                     168\n",
       "LIQUOR LAWS                      156\n",
       "RUNAWAY                          140\n",
       "SUICIDE                           69\n",
       "BRIBERY                           66\n",
       "EXTORTION                         60\n",
       "FAMILY OFFENSES                   53\n",
       "LOITERING                         42\n",
       "SEX OFFENSES, NON FORCIBLE        40\n",
       "BAD CHECKS                        34\n",
       "GAMBLING                          20\n",
       "PORNOGRAPHY/OBSCENE MAT            4\n",
       "TREA                               3\n",
       "Name: Category, dtype: int64"
      ]
     },
     "execution_count": 191,
     "metadata": {},
     "output_type": "execute_result"
    }
   ],
   "source": [
    "# Number of Incidents per Category\n",
    "incidents['Category'].value_counts()"
   ]
  },
  {
   "cell_type": "code",
   "execution_count": 192,
   "metadata": {},
   "outputs": [
    {
     "data": {
      "text/html": [
       "\n",
       "        <script src=\"/static/components/requirejs/require.js\"></script>\n",
       "        <script>\n",
       "          requirejs.config({\n",
       "            paths: {\n",
       "              base: '/static/base',\n",
       "              plotly: 'https://cdn.plot.ly/plotly-latest.min.js?noext',\n",
       "            },\n",
       "          });\n",
       "        </script>\n",
       "        "
      ],
      "text/plain": [
       "<IPython.core.display.HTML object>"
      ]
     },
     "metadata": {},
     "output_type": "display_data"
    },
    {
     "data": {
      "text/html": [
       "\n",
       "        <script src=\"/static/components/requirejs/require.js\"></script>\n",
       "        <script>\n",
       "          requirejs.config({\n",
       "            paths: {\n",
       "              base: '/static/base',\n",
       "              plotly: 'https://cdn.plot.ly/plotly-latest.min.js?noext',\n",
       "            },\n",
       "          });\n",
       "        </script>\n",
       "        "
      ],
      "text/plain": [
       "<IPython.core.display.HTML object>"
      ]
     },
     "metadata": {},
     "output_type": "display_data"
    },
    {
     "data": {
      "text/html": [
       "\n",
       "        <script src=\"/static/components/requirejs/require.js\"></script>\n",
       "        <script>\n",
       "          requirejs.config({\n",
       "            paths: {\n",
       "              base: '/static/base',\n",
       "              plotly: 'https://cdn.plot.ly/plotly-latest.min.js?noext',\n",
       "            },\n",
       "          });\n",
       "        </script>\n",
       "        "
      ],
      "text/plain": [
       "<IPython.core.display.HTML object>"
      ]
     },
     "metadata": {},
     "output_type": "display_data"
    },
    {
     "data": {
      "text/html": [
       "\n",
       "        <script src=\"/static/components/requirejs/require.js\"></script>\n",
       "        <script>\n",
       "          requirejs.config({\n",
       "            paths: {\n",
       "              base: '/static/base',\n",
       "              plotly: 'https://cdn.plot.ly/plotly-latest.min.js?noext',\n",
       "            },\n",
       "          });\n",
       "        </script>\n",
       "        "
      ],
      "text/plain": [
       "<IPython.core.display.HTML object>"
      ]
     },
     "metadata": {},
     "output_type": "display_data"
    },
    {
     "data": {
      "text/html": [
       "\n",
       "        <script src=\"/static/components/requirejs/require.js\"></script>\n",
       "        <script>\n",
       "          requirejs.config({\n",
       "            paths: {\n",
       "              base: '/static/base',\n",
       "              plotly: 'https://cdn.plot.ly/plotly-latest.min.js?noext',\n",
       "            },\n",
       "          });\n",
       "        </script>\n",
       "        "
      ],
      "text/plain": [
       "<IPython.core.display.HTML object>"
      ]
     },
     "metadata": {},
     "output_type": "display_data"
    },
    {
     "data": {
      "text/html": [
       "\n",
       "        <script src=\"/static/components/requirejs/require.js\"></script>\n",
       "        <script>\n",
       "          requirejs.config({\n",
       "            paths: {\n",
       "              base: '/static/base',\n",
       "              plotly: 'https://cdn.plot.ly/plotly-latest.min.js?noext',\n",
       "            },\n",
       "          });\n",
       "        </script>\n",
       "        "
      ],
      "text/plain": [
       "<IPython.core.display.HTML object>"
      ]
     },
     "metadata": {},
     "output_type": "display_data"
    },
    {
     "data": {
      "text/html": [
       "\n",
       "        <script src=\"/static/components/requirejs/require.js\"></script>\n",
       "        <script>\n",
       "          requirejs.config({\n",
       "            paths: {\n",
       "              base: '/static/base',\n",
       "              plotly: 'https://cdn.plot.ly/plotly-latest.min.js?noext',\n",
       "            },\n",
       "          });\n",
       "        </script>\n",
       "        "
      ],
      "text/plain": [
       "<IPython.core.display.HTML object>"
      ]
     },
     "metadata": {},
     "output_type": "display_data"
    },
    {
     "data": {
      "text/html": [
       "\n",
       "        <script src=\"/static/components/requirejs/require.js\"></script>\n",
       "        <script>\n",
       "          requirejs.config({\n",
       "            paths: {\n",
       "              base: '/static/base',\n",
       "              plotly: 'https://cdn.plot.ly/plotly-latest.min.js?noext',\n",
       "            },\n",
       "          });\n",
       "        </script>\n",
       "        "
      ],
      "text/plain": [
       "<IPython.core.display.HTML object>"
      ]
     },
     "metadata": {},
     "output_type": "display_data"
    },
    {
     "data": {
      "text/html": [
       "\n",
       "        <script src=\"/static/components/requirejs/require.js\"></script>\n",
       "        <script>\n",
       "          requirejs.config({\n",
       "            paths: {\n",
       "              base: '/static/base',\n",
       "              plotly: 'https://cdn.plot.ly/plotly-latest.min.js?noext',\n",
       "            },\n",
       "          });\n",
       "        </script>\n",
       "        "
      ],
      "text/plain": [
       "<IPython.core.display.HTML object>"
      ]
     },
     "metadata": {},
     "output_type": "display_data"
    },
    {
     "data": {
      "text/html": [
       "\n",
       "        <script src=\"/static/components/requirejs/require.js\"></script>\n",
       "        <script>\n",
       "          requirejs.config({\n",
       "            paths: {\n",
       "              base: '/static/base',\n",
       "              plotly: 'https://cdn.plot.ly/plotly-latest.min.js?noext',\n",
       "            },\n",
       "          });\n",
       "        </script>\n",
       "        "
      ],
      "text/plain": [
       "<IPython.core.display.HTML object>"
      ]
     },
     "metadata": {},
     "output_type": "display_data"
    },
    {
     "data": {
      "text/html": [
       "\n",
       "        <script src=\"/static/components/requirejs/require.js\"></script>\n",
       "        <script>\n",
       "          requirejs.config({\n",
       "            paths: {\n",
       "              base: '/static/base',\n",
       "              plotly: 'https://cdn.plot.ly/plotly-latest.min.js?noext',\n",
       "            },\n",
       "          });\n",
       "        </script>\n",
       "        "
      ],
      "text/plain": [
       "<IPython.core.display.HTML object>"
      ]
     },
     "metadata": {},
     "output_type": "display_data"
    },
    {
     "data": {
      "text/html": [
       "\n",
       "        <script src=\"/static/components/requirejs/require.js\"></script>\n",
       "        <script>\n",
       "          requirejs.config({\n",
       "            paths: {\n",
       "              base: '/static/base',\n",
       "              plotly: 'https://cdn.plot.ly/plotly-latest.min.js?noext',\n",
       "            },\n",
       "          });\n",
       "        </script>\n",
       "        "
      ],
      "text/plain": [
       "<IPython.core.display.HTML object>"
      ]
     },
     "metadata": {},
     "output_type": "display_data"
    },
    {
     "data": {
      "text/html": [
       "\n",
       "        <script src=\"/static/components/requirejs/require.js\"></script>\n",
       "        <script>\n",
       "          requirejs.config({\n",
       "            paths: {\n",
       "              base: '/static/base',\n",
       "              plotly: 'https://cdn.plot.ly/plotly-latest.min.js?noext',\n",
       "            },\n",
       "          });\n",
       "        </script>\n",
       "        "
      ],
      "text/plain": [
       "<IPython.core.display.HTML object>"
      ]
     },
     "metadata": {},
     "output_type": "display_data"
    },
    {
     "data": {
      "application/vnd.plotly.v1+json": {
       "config": {
        "linkText": "Export to plot.ly",
        "plotlyServerURL": "https://plot.ly",
        "showLink": false
       },
       "data": [
        {
         "marker": {
          "color": [
           40409,
           19599,
           17866,
           13577,
           8589,
           6419,
           5914,
           5802,
           5782,
           4338
          ],
          "colorscale": [
           [
            0,
            "#440154"
           ],
           [
            0.1111111111111111,
            "#482878"
           ],
           [
            0.2222222222222222,
            "#3e4989"
           ],
           [
            0.3333333333333333,
            "#31688e"
           ],
           [
            0.4444444444444444,
            "#26828e"
           ],
           [
            0.5555555555555556,
            "#1f9e89"
           ],
           [
            0.6666666666666666,
            "#35b779"
           ],
           [
            0.7777777777777778,
            "#6ece58"
           ],
           [
            0.8888888888888888,
            "#b5de2b"
           ],
           [
            1,
            "#fde725"
           ]
          ]
         },
         "text": [
          40409,
          19599,
          17866,
          13577,
          8589,
          6419,
          5914,
          5802,
          5782,
          4338
         ],
         "textposition": "outside",
         "type": "bar",
         "x": [
          "LARCENY/THEFT",
          "OTHER OFFENSES",
          "NON-CRIMINAL",
          "ASSAULT",
          "VANDALISM",
          "VEHICLE THEFT",
          "WARRANTS",
          "BURGLARY",
          "SUSPICIOUS OCC",
          "MISSING PERSON"
         ],
         "y": [
          40409,
          19599,
          17866,
          13577,
          8589,
          6419,
          5914,
          5802,
          5782,
          4338
         ]
        }
       ],
       "layout": {
        "template": {
         "data": {
          "bar": [
           {
            "error_x": {
             "color": "#2a3f5f"
            },
            "error_y": {
             "color": "#2a3f5f"
            },
            "marker": {
             "line": {
              "color": "#E5ECF6",
              "width": 0.5
             }
            },
            "type": "bar"
           }
          ],
          "barpolar": [
           {
            "marker": {
             "line": {
              "color": "#E5ECF6",
              "width": 0.5
             }
            },
            "type": "barpolar"
           }
          ],
          "carpet": [
           {
            "aaxis": {
             "endlinecolor": "#2a3f5f",
             "gridcolor": "white",
             "linecolor": "white",
             "minorgridcolor": "white",
             "startlinecolor": "#2a3f5f"
            },
            "baxis": {
             "endlinecolor": "#2a3f5f",
             "gridcolor": "white",
             "linecolor": "white",
             "minorgridcolor": "white",
             "startlinecolor": "#2a3f5f"
            },
            "type": "carpet"
           }
          ],
          "choropleth": [
           {
            "colorbar": {
             "outlinewidth": 0,
             "ticks": ""
            },
            "type": "choropleth"
           }
          ],
          "contour": [
           {
            "colorbar": {
             "outlinewidth": 0,
             "ticks": ""
            },
            "colorscale": [
             [
              0,
              "#0d0887"
             ],
             [
              0.1111111111111111,
              "#46039f"
             ],
             [
              0.2222222222222222,
              "#7201a8"
             ],
             [
              0.3333333333333333,
              "#9c179e"
             ],
             [
              0.4444444444444444,
              "#bd3786"
             ],
             [
              0.5555555555555556,
              "#d8576b"
             ],
             [
              0.6666666666666666,
              "#ed7953"
             ],
             [
              0.7777777777777778,
              "#fb9f3a"
             ],
             [
              0.8888888888888888,
              "#fdca26"
             ],
             [
              1,
              "#f0f921"
             ]
            ],
            "type": "contour"
           }
          ],
          "contourcarpet": [
           {
            "colorbar": {
             "outlinewidth": 0,
             "ticks": ""
            },
            "type": "contourcarpet"
           }
          ],
          "heatmap": [
           {
            "colorbar": {
             "outlinewidth": 0,
             "ticks": ""
            },
            "colorscale": [
             [
              0,
              "#0d0887"
             ],
             [
              0.1111111111111111,
              "#46039f"
             ],
             [
              0.2222222222222222,
              "#7201a8"
             ],
             [
              0.3333333333333333,
              "#9c179e"
             ],
             [
              0.4444444444444444,
              "#bd3786"
             ],
             [
              0.5555555555555556,
              "#d8576b"
             ],
             [
              0.6666666666666666,
              "#ed7953"
             ],
             [
              0.7777777777777778,
              "#fb9f3a"
             ],
             [
              0.8888888888888888,
              "#fdca26"
             ],
             [
              1,
              "#f0f921"
             ]
            ],
            "type": "heatmap"
           }
          ],
          "heatmapgl": [
           {
            "colorbar": {
             "outlinewidth": 0,
             "ticks": ""
            },
            "colorscale": [
             [
              0,
              "#0d0887"
             ],
             [
              0.1111111111111111,
              "#46039f"
             ],
             [
              0.2222222222222222,
              "#7201a8"
             ],
             [
              0.3333333333333333,
              "#9c179e"
             ],
             [
              0.4444444444444444,
              "#bd3786"
             ],
             [
              0.5555555555555556,
              "#d8576b"
             ],
             [
              0.6666666666666666,
              "#ed7953"
             ],
             [
              0.7777777777777778,
              "#fb9f3a"
             ],
             [
              0.8888888888888888,
              "#fdca26"
             ],
             [
              1,
              "#f0f921"
             ]
            ],
            "type": "heatmapgl"
           }
          ],
          "histogram": [
           {
            "marker": {
             "colorbar": {
              "outlinewidth": 0,
              "ticks": ""
             }
            },
            "type": "histogram"
           }
          ],
          "histogram2d": [
           {
            "colorbar": {
             "outlinewidth": 0,
             "ticks": ""
            },
            "colorscale": [
             [
              0,
              "#0d0887"
             ],
             [
              0.1111111111111111,
              "#46039f"
             ],
             [
              0.2222222222222222,
              "#7201a8"
             ],
             [
              0.3333333333333333,
              "#9c179e"
             ],
             [
              0.4444444444444444,
              "#bd3786"
             ],
             [
              0.5555555555555556,
              "#d8576b"
             ],
             [
              0.6666666666666666,
              "#ed7953"
             ],
             [
              0.7777777777777778,
              "#fb9f3a"
             ],
             [
              0.8888888888888888,
              "#fdca26"
             ],
             [
              1,
              "#f0f921"
             ]
            ],
            "type": "histogram2d"
           }
          ],
          "histogram2dcontour": [
           {
            "colorbar": {
             "outlinewidth": 0,
             "ticks": ""
            },
            "colorscale": [
             [
              0,
              "#0d0887"
             ],
             [
              0.1111111111111111,
              "#46039f"
             ],
             [
              0.2222222222222222,
              "#7201a8"
             ],
             [
              0.3333333333333333,
              "#9c179e"
             ],
             [
              0.4444444444444444,
              "#bd3786"
             ],
             [
              0.5555555555555556,
              "#d8576b"
             ],
             [
              0.6666666666666666,
              "#ed7953"
             ],
             [
              0.7777777777777778,
              "#fb9f3a"
             ],
             [
              0.8888888888888888,
              "#fdca26"
             ],
             [
              1,
              "#f0f921"
             ]
            ],
            "type": "histogram2dcontour"
           }
          ],
          "mesh3d": [
           {
            "colorbar": {
             "outlinewidth": 0,
             "ticks": ""
            },
            "type": "mesh3d"
           }
          ],
          "parcoords": [
           {
            "line": {
             "colorbar": {
              "outlinewidth": 0,
              "ticks": ""
             }
            },
            "type": "parcoords"
           }
          ],
          "pie": [
           {
            "automargin": true,
            "type": "pie"
           }
          ],
          "scatter": [
           {
            "marker": {
             "colorbar": {
              "outlinewidth": 0,
              "ticks": ""
             }
            },
            "type": "scatter"
           }
          ],
          "scatter3d": [
           {
            "line": {
             "colorbar": {
              "outlinewidth": 0,
              "ticks": ""
             }
            },
            "marker": {
             "colorbar": {
              "outlinewidth": 0,
              "ticks": ""
             }
            },
            "type": "scatter3d"
           }
          ],
          "scattercarpet": [
           {
            "marker": {
             "colorbar": {
              "outlinewidth": 0,
              "ticks": ""
             }
            },
            "type": "scattercarpet"
           }
          ],
          "scattergeo": [
           {
            "marker": {
             "colorbar": {
              "outlinewidth": 0,
              "ticks": ""
             }
            },
            "type": "scattergeo"
           }
          ],
          "scattergl": [
           {
            "marker": {
             "colorbar": {
              "outlinewidth": 0,
              "ticks": ""
             }
            },
            "type": "scattergl"
           }
          ],
          "scattermapbox": [
           {
            "marker": {
             "colorbar": {
              "outlinewidth": 0,
              "ticks": ""
             }
            },
            "type": "scattermapbox"
           }
          ],
          "scatterpolar": [
           {
            "marker": {
             "colorbar": {
              "outlinewidth": 0,
              "ticks": ""
             }
            },
            "type": "scatterpolar"
           }
          ],
          "scatterpolargl": [
           {
            "marker": {
             "colorbar": {
              "outlinewidth": 0,
              "ticks": ""
             }
            },
            "type": "scatterpolargl"
           }
          ],
          "scatterternary": [
           {
            "marker": {
             "colorbar": {
              "outlinewidth": 0,
              "ticks": ""
             }
            },
            "type": "scatterternary"
           }
          ],
          "surface": [
           {
            "colorbar": {
             "outlinewidth": 0,
             "ticks": ""
            },
            "colorscale": [
             [
              0,
              "#0d0887"
             ],
             [
              0.1111111111111111,
              "#46039f"
             ],
             [
              0.2222222222222222,
              "#7201a8"
             ],
             [
              0.3333333333333333,
              "#9c179e"
             ],
             [
              0.4444444444444444,
              "#bd3786"
             ],
             [
              0.5555555555555556,
              "#d8576b"
             ],
             [
              0.6666666666666666,
              "#ed7953"
             ],
             [
              0.7777777777777778,
              "#fb9f3a"
             ],
             [
              0.8888888888888888,
              "#fdca26"
             ],
             [
              1,
              "#f0f921"
             ]
            ],
            "type": "surface"
           }
          ],
          "table": [
           {
            "cells": {
             "fill": {
              "color": "#EBF0F8"
             },
             "line": {
              "color": "white"
             }
            },
            "header": {
             "fill": {
              "color": "#C8D4E3"
             },
             "line": {
              "color": "white"
             }
            },
            "type": "table"
           }
          ]
         },
         "layout": {
          "annotationdefaults": {
           "arrowcolor": "#2a3f5f",
           "arrowhead": 0,
           "arrowwidth": 1
          },
          "coloraxis": {
           "colorbar": {
            "outlinewidth": 0,
            "ticks": ""
           }
          },
          "colorscale": {
           "diverging": [
            [
             0,
             "#8e0152"
            ],
            [
             0.1,
             "#c51b7d"
            ],
            [
             0.2,
             "#de77ae"
            ],
            [
             0.3,
             "#f1b6da"
            ],
            [
             0.4,
             "#fde0ef"
            ],
            [
             0.5,
             "#f7f7f7"
            ],
            [
             0.6,
             "#e6f5d0"
            ],
            [
             0.7,
             "#b8e186"
            ],
            [
             0.8,
             "#7fbc41"
            ],
            [
             0.9,
             "#4d9221"
            ],
            [
             1,
             "#276419"
            ]
           ],
           "sequential": [
            [
             0,
             "#0d0887"
            ],
            [
             0.1111111111111111,
             "#46039f"
            ],
            [
             0.2222222222222222,
             "#7201a8"
            ],
            [
             0.3333333333333333,
             "#9c179e"
            ],
            [
             0.4444444444444444,
             "#bd3786"
            ],
            [
             0.5555555555555556,
             "#d8576b"
            ],
            [
             0.6666666666666666,
             "#ed7953"
            ],
            [
             0.7777777777777778,
             "#fb9f3a"
            ],
            [
             0.8888888888888888,
             "#fdca26"
            ],
            [
             1,
             "#f0f921"
            ]
           ],
           "sequentialminus": [
            [
             0,
             "#0d0887"
            ],
            [
             0.1111111111111111,
             "#46039f"
            ],
            [
             0.2222222222222222,
             "#7201a8"
            ],
            [
             0.3333333333333333,
             "#9c179e"
            ],
            [
             0.4444444444444444,
             "#bd3786"
            ],
            [
             0.5555555555555556,
             "#d8576b"
            ],
            [
             0.6666666666666666,
             "#ed7953"
            ],
            [
             0.7777777777777778,
             "#fb9f3a"
            ],
            [
             0.8888888888888888,
             "#fdca26"
            ],
            [
             1,
             "#f0f921"
            ]
           ]
          },
          "colorway": [
           "#636efa",
           "#EF553B",
           "#00cc96",
           "#ab63fa",
           "#FFA15A",
           "#19d3f3",
           "#FF6692",
           "#B6E880",
           "#FF97FF",
           "#FECB52"
          ],
          "font": {
           "color": "#2a3f5f"
          },
          "geo": {
           "bgcolor": "white",
           "lakecolor": "white",
           "landcolor": "#E5ECF6",
           "showlakes": true,
           "showland": true,
           "subunitcolor": "white"
          },
          "hoverlabel": {
           "align": "left"
          },
          "hovermode": "closest",
          "mapbox": {
           "style": "light"
          },
          "paper_bgcolor": "white",
          "plot_bgcolor": "#E5ECF6",
          "polar": {
           "angularaxis": {
            "gridcolor": "white",
            "linecolor": "white",
            "ticks": ""
           },
           "bgcolor": "#E5ECF6",
           "radialaxis": {
            "gridcolor": "white",
            "linecolor": "white",
            "ticks": ""
           }
          },
          "scene": {
           "xaxis": {
            "backgroundcolor": "#E5ECF6",
            "gridcolor": "white",
            "gridwidth": 2,
            "linecolor": "white",
            "showbackground": true,
            "ticks": "",
            "zerolinecolor": "white"
           },
           "yaxis": {
            "backgroundcolor": "#E5ECF6",
            "gridcolor": "white",
            "gridwidth": 2,
            "linecolor": "white",
            "showbackground": true,
            "ticks": "",
            "zerolinecolor": "white"
           },
           "zaxis": {
            "backgroundcolor": "#E5ECF6",
            "gridcolor": "white",
            "gridwidth": 2,
            "linecolor": "white",
            "showbackground": true,
            "ticks": "",
            "zerolinecolor": "white"
           }
          },
          "shapedefaults": {
           "line": {
            "color": "#2a3f5f"
           }
          },
          "ternary": {
           "aaxis": {
            "gridcolor": "white",
            "linecolor": "white",
            "ticks": ""
           },
           "baxis": {
            "gridcolor": "white",
            "linecolor": "white",
            "ticks": ""
           },
           "bgcolor": "#E5ECF6",
           "caxis": {
            "gridcolor": "white",
            "linecolor": "white",
            "ticks": ""
           }
          },
          "title": {
           "x": 0.05
          },
          "xaxis": {
           "automargin": true,
           "gridcolor": "white",
           "linecolor": "white",
           "ticks": "",
           "title": {
            "standoff": 15
           },
           "zerolinecolor": "white",
           "zerolinewidth": 2
          },
          "yaxis": {
           "automargin": true,
           "gridcolor": "white",
           "linecolor": "white",
           "ticks": "",
           "title": {
            "standoff": 15
           },
           "zerolinecolor": "white",
           "zerolinewidth": 2
          }
         }
        },
        "title": {
         "text": "Figure 2 - Top 10 by Category ",
         "x": 0.5
        },
        "xaxis": {
         "title": {
          "text": "Category"
         }
        },
        "yaxis": {
         "title": {
          "text": "Number of Incidents"
         }
        }
       }
      },
      "text/html": [
       "<div>\n",
       "        \n",
       "        \n",
       "            <div id=\"6970411d-c941-4e02-aa0e-60278b0d6b71\" class=\"plotly-graph-div\" style=\"height:525px; width:100%;\"></div>\n",
       "            <script type=\"text/javascript\">\n",
       "                require([\"plotly\"], function(Plotly) {\n",
       "                    window.PLOTLYENV=window.PLOTLYENV || {};\n",
       "                    \n",
       "                if (document.getElementById(\"6970411d-c941-4e02-aa0e-60278b0d6b71\")) {\n",
       "                    Plotly.newPlot(\n",
       "                        '6970411d-c941-4e02-aa0e-60278b0d6b71',\n",
       "                        [{\"marker\": {\"color\": [40409, 19599, 17866, 13577, 8589, 6419, 5914, 5802, 5782, 4338], \"colorscale\": [[0.0, \"#440154\"], [0.1111111111111111, \"#482878\"], [0.2222222222222222, \"#3e4989\"], [0.3333333333333333, \"#31688e\"], [0.4444444444444444, \"#26828e\"], [0.5555555555555556, \"#1f9e89\"], [0.6666666666666666, \"#35b779\"], [0.7777777777777778, \"#6ece58\"], [0.8888888888888888, \"#b5de2b\"], [1.0, \"#fde725\"]]}, \"text\": [40409.0, 19599.0, 17866.0, 13577.0, 8589.0, 6419.0, 5914.0, 5802.0, 5782.0, 4338.0], \"textposition\": \"outside\", \"type\": \"bar\", \"x\": [\"LARCENY/THEFT\", \"OTHER OFFENSES\", \"NON-CRIMINAL\", \"ASSAULT\", \"VANDALISM\", \"VEHICLE THEFT\", \"WARRANTS\", \"BURGLARY\", \"SUSPICIOUS OCC\", \"MISSING PERSON\"], \"y\": [40409, 19599, 17866, 13577, 8589, 6419, 5914, 5802, 5782, 4338]}],\n",
       "                        {\"template\": {\"data\": {\"bar\": [{\"error_x\": {\"color\": \"#2a3f5f\"}, \"error_y\": {\"color\": \"#2a3f5f\"}, \"marker\": {\"line\": {\"color\": \"#E5ECF6\", \"width\": 0.5}}, \"type\": \"bar\"}], \"barpolar\": [{\"marker\": {\"line\": {\"color\": \"#E5ECF6\", \"width\": 0.5}}, \"type\": \"barpolar\"}], \"carpet\": [{\"aaxis\": {\"endlinecolor\": \"#2a3f5f\", \"gridcolor\": \"white\", \"linecolor\": \"white\", \"minorgridcolor\": \"white\", \"startlinecolor\": \"#2a3f5f\"}, \"baxis\": {\"endlinecolor\": \"#2a3f5f\", \"gridcolor\": \"white\", \"linecolor\": \"white\", \"minorgridcolor\": \"white\", \"startlinecolor\": \"#2a3f5f\"}, \"type\": \"carpet\"}], \"choropleth\": [{\"colorbar\": {\"outlinewidth\": 0, \"ticks\": \"\"}, \"type\": \"choropleth\"}], \"contour\": [{\"colorbar\": {\"outlinewidth\": 0, \"ticks\": \"\"}, \"colorscale\": [[0.0, \"#0d0887\"], [0.1111111111111111, \"#46039f\"], [0.2222222222222222, \"#7201a8\"], [0.3333333333333333, \"#9c179e\"], [0.4444444444444444, \"#bd3786\"], [0.5555555555555556, \"#d8576b\"], [0.6666666666666666, \"#ed7953\"], [0.7777777777777778, \"#fb9f3a\"], [0.8888888888888888, \"#fdca26\"], [1.0, \"#f0f921\"]], \"type\": \"contour\"}], \"contourcarpet\": [{\"colorbar\": {\"outlinewidth\": 0, \"ticks\": \"\"}, \"type\": \"contourcarpet\"}], \"heatmap\": [{\"colorbar\": {\"outlinewidth\": 0, \"ticks\": \"\"}, \"colorscale\": [[0.0, \"#0d0887\"], [0.1111111111111111, \"#46039f\"], [0.2222222222222222, \"#7201a8\"], [0.3333333333333333, \"#9c179e\"], [0.4444444444444444, \"#bd3786\"], [0.5555555555555556, \"#d8576b\"], [0.6666666666666666, \"#ed7953\"], [0.7777777777777778, \"#fb9f3a\"], [0.8888888888888888, \"#fdca26\"], [1.0, \"#f0f921\"]], \"type\": \"heatmap\"}], \"heatmapgl\": [{\"colorbar\": {\"outlinewidth\": 0, \"ticks\": \"\"}, \"colorscale\": [[0.0, \"#0d0887\"], [0.1111111111111111, \"#46039f\"], [0.2222222222222222, \"#7201a8\"], [0.3333333333333333, \"#9c179e\"], [0.4444444444444444, \"#bd3786\"], [0.5555555555555556, \"#d8576b\"], [0.6666666666666666, \"#ed7953\"], [0.7777777777777778, \"#fb9f3a\"], [0.8888888888888888, \"#fdca26\"], [1.0, \"#f0f921\"]], \"type\": \"heatmapgl\"}], \"histogram\": [{\"marker\": {\"colorbar\": {\"outlinewidth\": 0, \"ticks\": \"\"}}, \"type\": \"histogram\"}], \"histogram2d\": [{\"colorbar\": {\"outlinewidth\": 0, \"ticks\": \"\"}, \"colorscale\": [[0.0, \"#0d0887\"], [0.1111111111111111, \"#46039f\"], [0.2222222222222222, \"#7201a8\"], [0.3333333333333333, \"#9c179e\"], [0.4444444444444444, \"#bd3786\"], [0.5555555555555556, \"#d8576b\"], [0.6666666666666666, \"#ed7953\"], [0.7777777777777778, \"#fb9f3a\"], [0.8888888888888888, \"#fdca26\"], [1.0, \"#f0f921\"]], \"type\": \"histogram2d\"}], \"histogram2dcontour\": [{\"colorbar\": {\"outlinewidth\": 0, \"ticks\": \"\"}, \"colorscale\": [[0.0, \"#0d0887\"], [0.1111111111111111, \"#46039f\"], [0.2222222222222222, \"#7201a8\"], [0.3333333333333333, \"#9c179e\"], [0.4444444444444444, \"#bd3786\"], [0.5555555555555556, \"#d8576b\"], [0.6666666666666666, \"#ed7953\"], [0.7777777777777778, \"#fb9f3a\"], [0.8888888888888888, \"#fdca26\"], [1.0, \"#f0f921\"]], \"type\": \"histogram2dcontour\"}], \"mesh3d\": [{\"colorbar\": {\"outlinewidth\": 0, \"ticks\": \"\"}, \"type\": \"mesh3d\"}], \"parcoords\": [{\"line\": {\"colorbar\": {\"outlinewidth\": 0, \"ticks\": \"\"}}, \"type\": \"parcoords\"}], \"pie\": [{\"automargin\": true, \"type\": \"pie\"}], \"scatter\": [{\"marker\": {\"colorbar\": {\"outlinewidth\": 0, \"ticks\": \"\"}}, \"type\": \"scatter\"}], \"scatter3d\": [{\"line\": {\"colorbar\": {\"outlinewidth\": 0, \"ticks\": \"\"}}, \"marker\": {\"colorbar\": {\"outlinewidth\": 0, \"ticks\": \"\"}}, \"type\": \"scatter3d\"}], \"scattercarpet\": [{\"marker\": {\"colorbar\": {\"outlinewidth\": 0, \"ticks\": \"\"}}, \"type\": \"scattercarpet\"}], \"scattergeo\": [{\"marker\": {\"colorbar\": {\"outlinewidth\": 0, \"ticks\": \"\"}}, \"type\": \"scattergeo\"}], \"scattergl\": [{\"marker\": {\"colorbar\": {\"outlinewidth\": 0, \"ticks\": \"\"}}, \"type\": \"scattergl\"}], \"scattermapbox\": [{\"marker\": {\"colorbar\": {\"outlinewidth\": 0, \"ticks\": \"\"}}, \"type\": \"scattermapbox\"}], \"scatterpolar\": [{\"marker\": {\"colorbar\": {\"outlinewidth\": 0, \"ticks\": \"\"}}, \"type\": \"scatterpolar\"}], \"scatterpolargl\": [{\"marker\": {\"colorbar\": {\"outlinewidth\": 0, \"ticks\": \"\"}}, \"type\": \"scatterpolargl\"}], \"scatterternary\": [{\"marker\": {\"colorbar\": {\"outlinewidth\": 0, \"ticks\": \"\"}}, \"type\": \"scatterternary\"}], \"surface\": [{\"colorbar\": {\"outlinewidth\": 0, \"ticks\": \"\"}, \"colorscale\": [[0.0, \"#0d0887\"], [0.1111111111111111, \"#46039f\"], [0.2222222222222222, \"#7201a8\"], [0.3333333333333333, \"#9c179e\"], [0.4444444444444444, \"#bd3786\"], [0.5555555555555556, \"#d8576b\"], [0.6666666666666666, \"#ed7953\"], [0.7777777777777778, \"#fb9f3a\"], [0.8888888888888888, \"#fdca26\"], [1.0, \"#f0f921\"]], \"type\": \"surface\"}], \"table\": [{\"cells\": {\"fill\": {\"color\": \"#EBF0F8\"}, \"line\": {\"color\": \"white\"}}, \"header\": {\"fill\": {\"color\": \"#C8D4E3\"}, \"line\": {\"color\": \"white\"}}, \"type\": \"table\"}]}, \"layout\": {\"annotationdefaults\": {\"arrowcolor\": \"#2a3f5f\", \"arrowhead\": 0, \"arrowwidth\": 1}, \"coloraxis\": {\"colorbar\": {\"outlinewidth\": 0, \"ticks\": \"\"}}, \"colorscale\": {\"diverging\": [[0, \"#8e0152\"], [0.1, \"#c51b7d\"], [0.2, \"#de77ae\"], [0.3, \"#f1b6da\"], [0.4, \"#fde0ef\"], [0.5, \"#f7f7f7\"], [0.6, \"#e6f5d0\"], [0.7, \"#b8e186\"], [0.8, \"#7fbc41\"], [0.9, \"#4d9221\"], [1, \"#276419\"]], \"sequential\": [[0.0, \"#0d0887\"], [0.1111111111111111, \"#46039f\"], [0.2222222222222222, \"#7201a8\"], [0.3333333333333333, \"#9c179e\"], [0.4444444444444444, \"#bd3786\"], [0.5555555555555556, \"#d8576b\"], [0.6666666666666666, \"#ed7953\"], [0.7777777777777778, \"#fb9f3a\"], [0.8888888888888888, \"#fdca26\"], [1.0, \"#f0f921\"]], \"sequentialminus\": [[0.0, \"#0d0887\"], [0.1111111111111111, \"#46039f\"], [0.2222222222222222, \"#7201a8\"], [0.3333333333333333, \"#9c179e\"], [0.4444444444444444, \"#bd3786\"], [0.5555555555555556, \"#d8576b\"], [0.6666666666666666, \"#ed7953\"], [0.7777777777777778, \"#fb9f3a\"], [0.8888888888888888, \"#fdca26\"], [1.0, \"#f0f921\"]]}, \"colorway\": [\"#636efa\", \"#EF553B\", \"#00cc96\", \"#ab63fa\", \"#FFA15A\", \"#19d3f3\", \"#FF6692\", \"#B6E880\", \"#FF97FF\", \"#FECB52\"], \"font\": {\"color\": \"#2a3f5f\"}, \"geo\": {\"bgcolor\": \"white\", \"lakecolor\": \"white\", \"landcolor\": \"#E5ECF6\", \"showlakes\": true, \"showland\": true, \"subunitcolor\": \"white\"}, \"hoverlabel\": {\"align\": \"left\"}, \"hovermode\": \"closest\", \"mapbox\": {\"style\": \"light\"}, \"paper_bgcolor\": \"white\", \"plot_bgcolor\": \"#E5ECF6\", \"polar\": {\"angularaxis\": {\"gridcolor\": \"white\", \"linecolor\": \"white\", \"ticks\": \"\"}, \"bgcolor\": \"#E5ECF6\", \"radialaxis\": {\"gridcolor\": \"white\", \"linecolor\": \"white\", \"ticks\": \"\"}}, \"scene\": {\"xaxis\": {\"backgroundcolor\": \"#E5ECF6\", \"gridcolor\": \"white\", \"gridwidth\": 2, \"linecolor\": \"white\", \"showbackground\": true, \"ticks\": \"\", \"zerolinecolor\": \"white\"}, \"yaxis\": {\"backgroundcolor\": \"#E5ECF6\", \"gridcolor\": \"white\", \"gridwidth\": 2, \"linecolor\": \"white\", \"showbackground\": true, \"ticks\": \"\", \"zerolinecolor\": \"white\"}, \"zaxis\": {\"backgroundcolor\": \"#E5ECF6\", \"gridcolor\": \"white\", \"gridwidth\": 2, \"linecolor\": \"white\", \"showbackground\": true, \"ticks\": \"\", \"zerolinecolor\": \"white\"}}, \"shapedefaults\": {\"line\": {\"color\": \"#2a3f5f\"}}, \"ternary\": {\"aaxis\": {\"gridcolor\": \"white\", \"linecolor\": \"white\", \"ticks\": \"\"}, \"baxis\": {\"gridcolor\": \"white\", \"linecolor\": \"white\", \"ticks\": \"\"}, \"bgcolor\": \"#E5ECF6\", \"caxis\": {\"gridcolor\": \"white\", \"linecolor\": \"white\", \"ticks\": \"\"}}, \"title\": {\"x\": 0.05}, \"xaxis\": {\"automargin\": true, \"gridcolor\": \"white\", \"linecolor\": \"white\", \"ticks\": \"\", \"title\": {\"standoff\": 15}, \"zerolinecolor\": \"white\", \"zerolinewidth\": 2}, \"yaxis\": {\"automargin\": true, \"gridcolor\": \"white\", \"linecolor\": \"white\", \"ticks\": \"\", \"title\": {\"standoff\": 15}, \"zerolinecolor\": \"white\", \"zerolinewidth\": 2}}}, \"title\": {\"text\": \"Figure 2 - Top 10 by Category \", \"x\": 0.5}, \"xaxis\": {\"title\": {\"text\": \"Category\"}}, \"yaxis\": {\"title\": {\"text\": \"Number of Incidents\"}}},\n",
       "                        {\"responsive\": true}\n",
       "                    ).then(function(){\n",
       "                            \n",
       "var gd = document.getElementById('6970411d-c941-4e02-aa0e-60278b0d6b71');\n",
       "var x = new MutationObserver(function (mutations, observer) {{\n",
       "        var display = window.getComputedStyle(gd).display;\n",
       "        if (!display || display === 'none') {{\n",
       "            console.log([gd, 'removed!']);\n",
       "            Plotly.purge(gd);\n",
       "            observer.disconnect();\n",
       "        }}\n",
       "}});\n",
       "\n",
       "// Listen for the removal of the full notebook cells\n",
       "var notebookContainer = gd.closest('#notebook-container');\n",
       "if (notebookContainer) {{\n",
       "    x.observe(notebookContainer, {childList: true});\n",
       "}}\n",
       "\n",
       "// Listen for the clearing of the current output cell\n",
       "var outputEl = gd.closest('.output');\n",
       "if (outputEl) {{\n",
       "    x.observe(outputEl, {childList: true});\n",
       "}}\n",
       "\n",
       "                        })\n",
       "                };\n",
       "                });\n",
       "            </script>\n",
       "        </div>"
      ]
     },
     "metadata": {},
     "output_type": "display_data"
    },
    {
     "data": {
      "image/png": "[encoded data removed]"
     },
     "metadata": {},
     "output_type": "display_data"
    }
   ],
   "source": [
    "# Plotting Top 10 by Category\n",
    "value = incidents['Category'].value_counts().round(0).nlargest(10)\n",
    "label = value.index\n",
    "trace = go.Bar(y=value, \n",
    "               x=label,text = value,textposition= \"outside\",\n",
    "               marker={'color': value,\n",
    "                   'colorscale': 'Viridis'})\n",
    "layout = go.Layout(title=\"Figure 2 - Top 10 by Category \", \n",
    "                   xaxis={'title' : \"Category\"},\n",
    "                  yaxis={'title' : \"Number of Incidents\"},\n",
    "                  title_x=0.5)\n",
    "fig = go.Figure(data=trace, layout=layout)\n",
    "iplot(fig)\n",
    "fig.show('png')"
   ]
  },
  {
   "cell_type": "code",
   "execution_count": 193,
   "metadata": {},
   "outputs": [
    {
     "data": {
      "text/html": [
       "\n",
       "        <script src=\"/static/components/requirejs/require.js\"></script>\n",
       "        <script>\n",
       "          requirejs.config({\n",
       "            paths: {\n",
       "              base: '/static/base',\n",
       "              plotly: 'https://cdn.plot.ly/plotly-latest.min.js?noext',\n",
       "            },\n",
       "          });\n",
       "        </script>\n",
       "        "
      ],
      "text/plain": [
       "<IPython.core.display.HTML object>"
      ]
     },
     "metadata": {},
     "output_type": "display_data"
    },
    {
     "data": {
      "text/html": [
       "\n",
       "        <script src=\"/static/components/requirejs/require.js\"></script>\n",
       "        <script>\n",
       "          requirejs.config({\n",
       "            paths: {\n",
       "              base: '/static/base',\n",
       "              plotly: 'https://cdn.plot.ly/plotly-latest.min.js?noext',\n",
       "            },\n",
       "          });\n",
       "        </script>\n",
       "        "
      ],
      "text/plain": [
       "<IPython.core.display.HTML object>"
      ]
     },
     "metadata": {},
     "output_type": "display_data"
    },
    {
     "data": {
      "text/html": [
       "\n",
       "        <script src=\"/static/components/requirejs/require.js\"></script>\n",
       "        <script>\n",
       "          requirejs.config({\n",
       "            paths: {\n",
       "              base: '/static/base',\n",
       "              plotly: 'https://cdn.plot.ly/plotly-latest.min.js?noext',\n",
       "            },\n",
       "          });\n",
       "        </script>\n",
       "        "
      ],
      "text/plain": [
       "<IPython.core.display.HTML object>"
      ]
     },
     "metadata": {},
     "output_type": "display_data"
    },
    {
     "data": {
      "text/html": [
       "\n",
       "        <script src=\"/static/components/requirejs/require.js\"></script>\n",
       "        <script>\n",
       "          requirejs.config({\n",
       "            paths: {\n",
       "              base: '/static/base',\n",
       "              plotly: 'https://cdn.plot.ly/plotly-latest.min.js?noext',\n",
       "            },\n",
       "          });\n",
       "        </script>\n",
       "        "
      ],
      "text/plain": [
       "<IPython.core.display.HTML object>"
      ]
     },
     "metadata": {},
     "output_type": "display_data"
    },
    {
     "data": {
      "text/html": [
       "\n",
       "        <script src=\"/static/components/requirejs/require.js\"></script>\n",
       "        <script>\n",
       "          requirejs.config({\n",
       "            paths: {\n",
       "              base: '/static/base',\n",
       "              plotly: 'https://cdn.plot.ly/plotly-latest.min.js?noext',\n",
       "            },\n",
       "          });\n",
       "        </script>\n",
       "        "
      ],
      "text/plain": [
       "<IPython.core.display.HTML object>"
      ]
     },
     "metadata": {},
     "output_type": "display_data"
    },
    {
     "data": {
      "text/html": [
       "\n",
       "        <script src=\"/static/components/requirejs/require.js\"></script>\n",
       "        <script>\n",
       "          requirejs.config({\n",
       "            paths: {\n",
       "              base: '/static/base',\n",
       "              plotly: 'https://cdn.plot.ly/plotly-latest.min.js?noext',\n",
       "            },\n",
       "          });\n",
       "        </script>\n",
       "        "
      ],
      "text/plain": [
       "<IPython.core.display.HTML object>"
      ]
     },
     "metadata": {},
     "output_type": "display_data"
    },
    {
     "data": {
      "text/html": [
       "\n",
       "        <script src=\"/static/components/requirejs/require.js\"></script>\n",
       "        <script>\n",
       "          requirejs.config({\n",
       "            paths: {\n",
       "              base: '/static/base',\n",
       "              plotly: 'https://cdn.plot.ly/plotly-latest.min.js?noext',\n",
       "            },\n",
       "          });\n",
       "        </script>\n",
       "        "
      ],
      "text/plain": [
       "<IPython.core.display.HTML object>"
      ]
     },
     "metadata": {},
     "output_type": "display_data"
    },
    {
     "data": {
      "text/html": [
       "\n",
       "        <script src=\"/static/components/requirejs/require.js\"></script>\n",
       "        <script>\n",
       "          requirejs.config({\n",
       "            paths: {\n",
       "              base: '/static/base',\n",
       "              plotly: 'https://cdn.plot.ly/plotly-latest.min.js?noext',\n",
       "            },\n",
       "          });\n",
       "        </script>\n",
       "        "
      ],
      "text/plain": [
       "<IPython.core.display.HTML object>"
      ]
     },
     "metadata": {},
     "output_type": "display_data"
    },
    {
     "data": {
      "text/html": [
       "\n",
       "        <script src=\"/static/components/requirejs/require.js\"></script>\n",
       "        <script>\n",
       "          requirejs.config({\n",
       "            paths: {\n",
       "              base: '/static/base',\n",
       "              plotly: 'https://cdn.plot.ly/plotly-latest.min.js?noext',\n",
       "            },\n",
       "          });\n",
       "        </script>\n",
       "        "
      ],
      "text/plain": [
       "<IPython.core.display.HTML object>"
      ]
     },
     "metadata": {},
     "output_type": "display_data"
    },
    {
     "data": {
      "text/html": [
       "\n",
       "        <script src=\"/static/components/requirejs/require.js\"></script>\n",
       "        <script>\n",
       "          requirejs.config({\n",
       "            paths: {\n",
       "              base: '/static/base',\n",
       "              plotly: 'https://cdn.plot.ly/plotly-latest.min.js?noext',\n",
       "            },\n",
       "          });\n",
       "        </script>\n",
       "        "
      ],
      "text/plain": [
       "<IPython.core.display.HTML object>"
      ]
     },
     "metadata": {},
     "output_type": "display_data"
    },
    {
     "data": {
      "text/html": [
       "\n",
       "        <script src=\"/static/components/requirejs/require.js\"></script>\n",
       "        <script>\n",
       "          requirejs.config({\n",
       "            paths: {\n",
       "              base: '/static/base',\n",
       "              plotly: 'https://cdn.plot.ly/plotly-latest.min.js?noext',\n",
       "            },\n",
       "          });\n",
       "        </script>\n",
       "        "
      ],
      "text/plain": [
       "<IPython.core.display.HTML object>"
      ]
     },
     "metadata": {},
     "output_type": "display_data"
    },
    {
     "data": {
      "text/html": [
       "\n",
       "        <script src=\"/static/components/requirejs/require.js\"></script>\n",
       "        <script>\n",
       "          requirejs.config({\n",
       "            paths: {\n",
       "              base: '/static/base',\n",
       "              plotly: 'https://cdn.plot.ly/plotly-latest.min.js?noext',\n",
       "            },\n",
       "          });\n",
       "        </script>\n",
       "        "
      ],
      "text/plain": [
       "<IPython.core.display.HTML object>"
      ]
     },
     "metadata": {},
     "output_type": "display_data"
    },
    {
     "data": {
      "text/html": [
       "\n",
       "        <script src=\"/static/components/requirejs/require.js\"></script>\n",
       "        <script>\n",
       "          requirejs.config({\n",
       "            paths: {\n",
       "              base: '/static/base',\n",
       "              plotly: 'https://cdn.plot.ly/plotly-latest.min.js?noext',\n",
       "            },\n",
       "          });\n",
       "        </script>\n",
       "        "
      ],
      "text/plain": [
       "<IPython.core.display.HTML object>"
      ]
     },
     "metadata": {},
     "output_type": "display_data"
    },
    {
     "data": {
      "text/plain": [
       "12:00    3842\n",
       "00:01    3397\n",
       "18:00    3165\n",
       "19:00    2912\n",
       "20:00    2902\n",
       "17:00    2830\n",
       "21:00    2590\n",
       "22:00    2479\n",
       "16:00    2443\n",
       "15:00    2406\n",
       "Name: Time, dtype: int64"
      ]
     },
     "execution_count": 193,
     "metadata": {},
     "output_type": "execute_result"
    }
   ],
   "source": [
    "# Top 10 by Time\n",
    "incidents['Time'].value_counts().nlargest(10)"
   ]
  },
  {
   "cell_type": "code",
   "execution_count": 194,
   "metadata": {},
   "outputs": [
    {
     "data": {
      "text/html": [
       "\n",
       "        <script src=\"/static/components/requirejs/require.js\"></script>\n",
       "        <script>\n",
       "          requirejs.config({\n",
       "            paths: {\n",
       "              base: '/static/base',\n",
       "              plotly: 'https://cdn.plot.ly/plotly-latest.min.js?noext',\n",
       "            },\n",
       "          });\n",
       "        </script>\n",
       "        "
      ],
      "text/plain": [
       "<IPython.core.display.HTML object>"
      ]
     },
     "metadata": {},
     "output_type": "display_data"
    },
    {
     "data": {
      "text/html": [
       "\n",
       "        <script src=\"/static/components/requirejs/require.js\"></script>\n",
       "        <script>\n",
       "          requirejs.config({\n",
       "            paths: {\n",
       "              base: '/static/base',\n",
       "              plotly: 'https://cdn.plot.ly/plotly-latest.min.js?noext',\n",
       "            },\n",
       "          });\n",
       "        </script>\n",
       "        "
      ],
      "text/plain": [
       "<IPython.core.display.HTML object>"
      ]
     },
     "metadata": {},
     "output_type": "display_data"
    },
    {
     "data": {
      "text/html": [
       "\n",
       "        <script src=\"/static/components/requirejs/require.js\"></script>\n",
       "        <script>\n",
       "          requirejs.config({\n",
       "            paths: {\n",
       "              base: '/static/base',\n",
       "              plotly: 'https://cdn.plot.ly/plotly-latest.min.js?noext',\n",
       "            },\n",
       "          });\n",
       "        </script>\n",
       "        "
      ],
      "text/plain": [
       "<IPython.core.display.HTML object>"
      ]
     },
     "metadata": {},
     "output_type": "display_data"
    },
    {
     "data": {
      "text/html": [
       "\n",
       "        <script src=\"/static/components/requirejs/require.js\"></script>\n",
       "        <script>\n",
       "          requirejs.config({\n",
       "            paths: {\n",
       "              base: '/static/base',\n",
       "              plotly: 'https://cdn.plot.ly/plotly-latest.min.js?noext',\n",
       "            },\n",
       "          });\n",
       "        </script>\n",
       "        "
      ],
      "text/plain": [
       "<IPython.core.display.HTML object>"
      ]
     },
     "metadata": {},
     "output_type": "display_data"
    },
    {
     "data": {
      "text/html": [
       "\n",
       "        <script src=\"/static/components/requirejs/require.js\"></script>\n",
       "        <script>\n",
       "          requirejs.config({\n",
       "            paths: {\n",
       "              base: '/static/base',\n",
       "              plotly: 'https://cdn.plot.ly/plotly-latest.min.js?noext',\n",
       "            },\n",
       "          });\n",
       "        </script>\n",
       "        "
      ],
      "text/plain": [
       "<IPython.core.display.HTML object>"
      ]
     },
     "metadata": {},
     "output_type": "display_data"
    },
    {
     "data": {
      "text/html": [
       "\n",
       "        <script src=\"/static/components/requirejs/require.js\"></script>\n",
       "        <script>\n",
       "          requirejs.config({\n",
       "            paths: {\n",
       "              base: '/static/base',\n",
       "              plotly: 'https://cdn.plot.ly/plotly-latest.min.js?noext',\n",
       "            },\n",
       "          });\n",
       "        </script>\n",
       "        "
      ],
      "text/plain": [
       "<IPython.core.display.HTML object>"
      ]
     },
     "metadata": {},
     "output_type": "display_data"
    },
    {
     "data": {
      "text/html": [
       "\n",
       "        <script src=\"/static/components/requirejs/require.js\"></script>\n",
       "        <script>\n",
       "          requirejs.config({\n",
       "            paths: {\n",
       "              base: '/static/base',\n",
       "              plotly: 'https://cdn.plot.ly/plotly-latest.min.js?noext',\n",
       "            },\n",
       "          });\n",
       "        </script>\n",
       "        "
      ],
      "text/plain": [
       "<IPython.core.display.HTML object>"
      ]
     },
     "metadata": {},
     "output_type": "display_data"
    },
    {
     "data": {
      "text/html": [
       "\n",
       "        <script src=\"/static/components/requirejs/require.js\"></script>\n",
       "        <script>\n",
       "          requirejs.config({\n",
       "            paths: {\n",
       "              base: '/static/base',\n",
       "              plotly: 'https://cdn.plot.ly/plotly-latest.min.js?noext',\n",
       "            },\n",
       "          });\n",
       "        </script>\n",
       "        "
      ],
      "text/plain": [
       "<IPython.core.display.HTML object>"
      ]
     },
     "metadata": {},
     "output_type": "display_data"
    },
    {
     "data": {
      "text/html": [
       "\n",
       "        <script src=\"/static/components/requirejs/require.js\"></script>\n",
       "        <script>\n",
       "          requirejs.config({\n",
       "            paths: {\n",
       "              base: '/static/base',\n",
       "              plotly: 'https://cdn.plot.ly/plotly-latest.min.js?noext',\n",
       "            },\n",
       "          });\n",
       "        </script>\n",
       "        "
      ],
      "text/plain": [
       "<IPython.core.display.HTML object>"
      ]
     },
     "metadata": {},
     "output_type": "display_data"
    },
    {
     "data": {
      "text/html": [
       "\n",
       "        <script src=\"/static/components/requirejs/require.js\"></script>\n",
       "        <script>\n",
       "          requirejs.config({\n",
       "            paths: {\n",
       "              base: '/static/base',\n",
       "              plotly: 'https://cdn.plot.ly/plotly-latest.min.js?noext',\n",
       "            },\n",
       "          });\n",
       "        </script>\n",
       "        "
      ],
      "text/plain": [
       "<IPython.core.display.HTML object>"
      ]
     },
     "metadata": {},
     "output_type": "display_data"
    },
    {
     "data": {
      "text/html": [
       "\n",
       "        <script src=\"/static/components/requirejs/require.js\"></script>\n",
       "        <script>\n",
       "          requirejs.config({\n",
       "            paths: {\n",
       "              base: '/static/base',\n",
       "              plotly: 'https://cdn.plot.ly/plotly-latest.min.js?noext',\n",
       "            },\n",
       "          });\n",
       "        </script>\n",
       "        "
      ],
      "text/plain": [
       "<IPython.core.display.HTML object>"
      ]
     },
     "metadata": {},
     "output_type": "display_data"
    },
    {
     "data": {
      "text/html": [
       "\n",
       "        <script src=\"/static/components/requirejs/require.js\"></script>\n",
       "        <script>\n",
       "          requirejs.config({\n",
       "            paths: {\n",
       "              base: '/static/base',\n",
       "              plotly: 'https://cdn.plot.ly/plotly-latest.min.js?noext',\n",
       "            },\n",
       "          });\n",
       "        </script>\n",
       "        "
      ],
      "text/plain": [
       "<IPython.core.display.HTML object>"
      ]
     },
     "metadata": {},
     "output_type": "display_data"
    },
    {
     "data": {
      "text/html": [
       "\n",
       "        <script src=\"/static/components/requirejs/require.js\"></script>\n",
       "        <script>\n",
       "          requirejs.config({\n",
       "            paths: {\n",
       "              base: '/static/base',\n",
       "              plotly: 'https://cdn.plot.ly/plotly-latest.min.js?noext',\n",
       "            },\n",
       "          });\n",
       "        </script>\n",
       "        "
      ],
      "text/plain": [
       "<IPython.core.display.HTML object>"
      ]
     },
     "metadata": {},
     "output_type": "display_data"
    },
    {
     "data": {
      "application/vnd.plotly.v1+json": {
       "config": {
        "linkText": "Export to plot.ly",
        "plotlyServerURL": "https://plot.ly",
        "showLink": false
       },
       "data": [
        {
         "marker": {
          "color": [
           3842,
           3397,
           3165,
           2912,
           2902,
           2830,
           2590,
           2479,
           2443,
           2406
          ],
          "colorscale": [
           [
            0,
            "rgb(161, 105, 40)"
           ],
           [
            0.16666666666666666,
            "rgb(189, 146, 90)"
           ],
           [
            0.3333333333333333,
            "rgb(214, 189, 141)"
           ],
           [
            0.5,
            "rgb(237, 234, 194)"
           ],
           [
            0.6666666666666666,
            "rgb(181, 200, 184)"
           ],
           [
            0.8333333333333334,
            "rgb(121, 167, 172)"
           ],
           [
            1,
            "rgb(40, 135, 161)"
           ]
          ]
         },
         "text": [
          3842,
          3397,
          3165,
          2912,
          2902,
          2830,
          2590,
          2479,
          2443,
          2406
         ],
         "textposition": "outside",
         "type": "bar",
         "x": [
          "12:00",
          "00:01",
          "18:00",
          "19:00",
          "20:00",
          "17:00",
          "21:00",
          "22:00",
          "16:00",
          "15:00"
         ],
         "y": [
          3842,
          3397,
          3165,
          2912,
          2902,
          2830,
          2590,
          2479,
          2443,
          2406
         ]
        }
       ],
       "layout": {
        "template": {
         "data": {
          "bar": [
           {
            "error_x": {
             "color": "#2a3f5f"
            },
            "error_y": {
             "color": "#2a3f5f"
            },
            "marker": {
             "line": {
              "color": "#E5ECF6",
              "width": 0.5
             }
            },
            "type": "bar"
           }
          ],
          "barpolar": [
           {
            "marker": {
             "line": {
              "color": "#E5ECF6",
              "width": 0.5
             }
            },
            "type": "barpolar"
           }
          ],
          "carpet": [
           {
            "aaxis": {
             "endlinecolor": "#2a3f5f",
             "gridcolor": "white",
             "linecolor": "white",
             "minorgridcolor": "white",
             "startlinecolor": "#2a3f5f"
            },
            "baxis": {
             "endlinecolor": "#2a3f5f",
             "gridcolor": "white",
             "linecolor": "white",
             "minorgridcolor": "white",
             "startlinecolor": "#2a3f5f"
            },
            "type": "carpet"
           }
          ],
          "choropleth": [
           {
            "colorbar": {
             "outlinewidth": 0,
             "ticks": ""
            },
            "type": "choropleth"
           }
          ],
          "contour": [
           {
            "colorbar": {
             "outlinewidth": 0,
             "ticks": ""
            },
            "colorscale": [
             [
              0,
              "#0d0887"
             ],
             [
              0.1111111111111111,
              "#46039f"
             ],
             [
              0.2222222222222222,
              "#7201a8"
             ],
             [
              0.3333333333333333,
              "#9c179e"
             ],
             [
              0.4444444444444444,
              "#bd3786"
             ],
             [
              0.5555555555555556,
              "#d8576b"
             ],
             [
              0.6666666666666666,
              "#ed7953"
             ],
             [
              0.7777777777777778,
              "#fb9f3a"
             ],
             [
              0.8888888888888888,
              "#fdca26"
             ],
             [
              1,
              "#f0f921"
             ]
            ],
            "type": "contour"
           }
          ],
          "contourcarpet": [
           {
            "colorbar": {
             "outlinewidth": 0,
             "ticks": ""
            },
            "type": "contourcarpet"
           }
          ],
          "heatmap": [
           {
            "colorbar": {
             "outlinewidth": 0,
             "ticks": ""
            },
            "colorscale": [
             [
              0,
              "#0d0887"
             ],
             [
              0.1111111111111111,
              "#46039f"
             ],
             [
              0.2222222222222222,
              "#7201a8"
             ],
             [
              0.3333333333333333,
              "#9c179e"
             ],
             [
              0.4444444444444444,
              "#bd3786"
             ],
             [
              0.5555555555555556,
              "#d8576b"
             ],
             [
              0.6666666666666666,
              "#ed7953"
             ],
             [
              0.7777777777777778,
              "#fb9f3a"
             ],
             [
              0.8888888888888888,
              "#fdca26"
             ],
             [
              1,
              "#f0f921"
             ]
            ],
            "type": "heatmap"
           }
          ],
          "heatmapgl": [
           {
            "colorbar": {
             "outlinewidth": 0,
             "ticks": ""
            },
            "colorscale": [
             [
              0,
              "#0d0887"
             ],
             [
              0.1111111111111111,
              "#46039f"
             ],
             [
              0.2222222222222222,
              "#7201a8"
             ],
             [
              0.3333333333333333,
              "#9c179e"
             ],
             [
              0.4444444444444444,
              "#bd3786"
             ],
             [
              0.5555555555555556,
              "#d8576b"
             ],
             [
              0.6666666666666666,
              "#ed7953"
             ],
             [
              0.7777777777777778,
              "#fb9f3a"
             ],
             [
              0.8888888888888888,
              "#fdca26"
             ],
             [
              1,
              "#f0f921"
             ]
            ],
            "type": "heatmapgl"
           }
          ],
          "histogram": [
           {
            "marker": {
             "colorbar": {
              "outlinewidth": 0,
              "ticks": ""
             }
            },
            "type": "histogram"
           }
          ],
          "histogram2d": [
           {
            "colorbar": {
             "outlinewidth": 0,
             "ticks": ""
            },
            "colorscale": [
             [
              0,
              "#0d0887"
             ],
             [
              0.1111111111111111,
              "#46039f"
             ],
             [
              0.2222222222222222,
              "#7201a8"
             ],
             [
              0.3333333333333333,
              "#9c179e"
             ],
             [
              0.4444444444444444,
              "#bd3786"
             ],
             [
              0.5555555555555556,
              "#d8576b"
             ],
             [
              0.6666666666666666,
              "#ed7953"
             ],
             [
              0.7777777777777778,
              "#fb9f3a"
             ],
             [
              0.8888888888888888,
              "#fdca26"
             ],
             [
              1,
              "#f0f921"
             ]
            ],
            "type": "histogram2d"
           }
          ],
          "histogram2dcontour": [
           {
            "colorbar": {
             "outlinewidth": 0,
             "ticks": ""
            },
            "colorscale": [
             [
              0,
              "#0d0887"
             ],
             [
              0.1111111111111111,
              "#46039f"
             ],
             [
              0.2222222222222222,
              "#7201a8"
             ],
             [
              0.3333333333333333,
              "#9c179e"
             ],
             [
              0.4444444444444444,
              "#bd3786"
             ],
             [
              0.5555555555555556,
              "#d8576b"
             ],
             [
              0.6666666666666666,
              "#ed7953"
             ],
             [
              0.7777777777777778,
              "#fb9f3a"
             ],
             [
              0.8888888888888888,
              "#fdca26"
             ],
             [
              1,
              "#f0f921"
             ]
            ],
            "type": "histogram2dcontour"
           }
          ],
          "mesh3d": [
           {
            "colorbar": {
             "outlinewidth": 0,
             "ticks": ""
            },
            "type": "mesh3d"
           }
          ],
          "parcoords": [
           {
            "line": {
             "colorbar": {
              "outlinewidth": 0,
              "ticks": ""
             }
            },
            "type": "parcoords"
           }
          ],
          "pie": [
           {
            "automargin": true,
            "type": "pie"
           }
          ],
          "scatter": [
           {
            "marker": {
             "colorbar": {
              "outlinewidth": 0,
              "ticks": ""
             }
            },
            "type": "scatter"
           }
          ],
          "scatter3d": [
           {
            "line": {
             "colorbar": {
              "outlinewidth": 0,
              "ticks": ""
             }
            },
            "marker": {
             "colorbar": {
              "outlinewidth": 0,
              "ticks": ""
             }
            },
            "type": "scatter3d"
           }
          ],
          "scattercarpet": [
           {
            "marker": {
             "colorbar": {
              "outlinewidth": 0,
              "ticks": ""
             }
            },
            "type": "scattercarpet"
           }
          ],
          "scattergeo": [
           {
            "marker": {
             "colorbar": {
              "outlinewidth": 0,
              "ticks": ""
             }
            },
            "type": "scattergeo"
           }
          ],
          "scattergl": [
           {
            "marker": {
             "colorbar": {
              "outlinewidth": 0,
              "ticks": ""
             }
            },
            "type": "scattergl"
           }
          ],
          "scattermapbox": [
           {
            "marker": {
             "colorbar": {
              "outlinewidth": 0,
              "ticks": ""
             }
            },
            "type": "scattermapbox"
           }
          ],
          "scatterpolar": [
           {
            "marker": {
             "colorbar": {
              "outlinewidth": 0,
              "ticks": ""
             }
            },
            "type": "scatterpolar"
           }
          ],
          "scatterpolargl": [
           {
            "marker": {
             "colorbar": {
              "outlinewidth": 0,
              "ticks": ""
             }
            },
            "type": "scatterpolargl"
           }
          ],
          "scatterternary": [
           {
            "marker": {
             "colorbar": {
              "outlinewidth": 0,
              "ticks": ""
             }
            },
            "type": "scatterternary"
           }
          ],
          "surface": [
           {
            "colorbar": {
             "outlinewidth": 0,
             "ticks": ""
            },
            "colorscale": [
             [
              0,
              "#0d0887"
             ],
             [
              0.1111111111111111,
              "#46039f"
             ],
             [
              0.2222222222222222,
              "#7201a8"
             ],
             [
              0.3333333333333333,
              "#9c179e"
             ],
             [
              0.4444444444444444,
              "#bd3786"
             ],
             [
              0.5555555555555556,
              "#d8576b"
             ],
             [
              0.6666666666666666,
              "#ed7953"
             ],
             [
              0.7777777777777778,
              "#fb9f3a"
             ],
             [
              0.8888888888888888,
              "#fdca26"
             ],
             [
              1,
              "#f0f921"
             ]
            ],
            "type": "surface"
           }
          ],
          "table": [
           {
            "cells": {
             "fill": {
              "color": "#EBF0F8"
             },
             "line": {
              "color": "white"
             }
            },
            "header": {
             "fill": {
              "color": "#C8D4E3"
             },
             "line": {
              "color": "white"
             }
            },
            "type": "table"
           }
          ]
         },
         "layout": {
          "annotationdefaults": {
           "arrowcolor": "#2a3f5f",
           "arrowhead": 0,
           "arrowwidth": 1
          },
          "coloraxis": {
           "colorbar": {
            "outlinewidth": 0,
            "ticks": ""
           }
          },
          "colorscale": {
           "diverging": [
            [
             0,
             "#8e0152"
            ],
            [
             0.1,
             "#c51b7d"
            ],
            [
             0.2,
             "#de77ae"
            ],
            [
             0.3,
             "#f1b6da"
            ],
            [
             0.4,
             "#fde0ef"
            ],
            [
             0.5,
             "#f7f7f7"
            ],
            [
             0.6,
             "#e6f5d0"
            ],
            [
             0.7,
             "#b8e186"
            ],
            [
             0.8,
             "#7fbc41"
            ],
            [
             0.9,
             "#4d9221"
            ],
            [
             1,
             "#276419"
            ]
           ],
           "sequential": [
            [
             0,
             "#0d0887"
            ],
            [
             0.1111111111111111,
             "#46039f"
            ],
            [
             0.2222222222222222,
             "#7201a8"
            ],
            [
             0.3333333333333333,
             "#9c179e"
            ],
            [
             0.4444444444444444,
             "#bd3786"
            ],
            [
             0.5555555555555556,
             "#d8576b"
            ],
            [
             0.6666666666666666,
             "#ed7953"
            ],
            [
             0.7777777777777778,
             "#fb9f3a"
            ],
            [
             0.8888888888888888,
             "#fdca26"
            ],
            [
             1,
             "#f0f921"
            ]
           ],
           "sequentialminus": [
            [
             0,
             "#0d0887"
            ],
            [
             0.1111111111111111,
             "#46039f"
            ],
            [
             0.2222222222222222,
             "#7201a8"
            ],
            [
             0.3333333333333333,
             "#9c179e"
            ],
            [
             0.4444444444444444,
             "#bd3786"
            ],
            [
             0.5555555555555556,
             "#d8576b"
            ],
            [
             0.6666666666666666,
             "#ed7953"
            ],
            [
             0.7777777777777778,
             "#fb9f3a"
            ],
            [
             0.8888888888888888,
             "#fdca26"
            ],
            [
             1,
             "#f0f921"
            ]
           ]
          },
          "colorway": [
           "#636efa",
           "#EF553B",
           "#00cc96",
           "#ab63fa",
           "#FFA15A",
           "#19d3f3",
           "#FF6692",
           "#B6E880",
           "#FF97FF",
           "#FECB52"
          ],
          "font": {
           "color": "#2a3f5f"
          },
          "geo": {
           "bgcolor": "white",
           "lakecolor": "white",
           "landcolor": "#E5ECF6",
           "showlakes": true,
           "showland": true,
           "subunitcolor": "white"
          },
          "hoverlabel": {
           "align": "left"
          },
          "hovermode": "closest",
          "mapbox": {
           "style": "light"
          },
          "paper_bgcolor": "white",
          "plot_bgcolor": "#E5ECF6",
          "polar": {
           "angularaxis": {
            "gridcolor": "white",
            "linecolor": "white",
            "ticks": ""
           },
           "bgcolor": "#E5ECF6",
           "radialaxis": {
            "gridcolor": "white",
            "linecolor": "white",
            "ticks": ""
           }
          },
          "scene": {
           "xaxis": {
            "backgroundcolor": "#E5ECF6",
            "gridcolor": "white",
            "gridwidth": 2,
            "linecolor": "white",
            "showbackground": true,
            "ticks": "",
            "zerolinecolor": "white"
           },
           "yaxis": {
            "backgroundcolor": "#E5ECF6",
            "gridcolor": "white",
            "gridwidth": 2,
            "linecolor": "white",
            "showbackground": true,
            "ticks": "",
            "zerolinecolor": "white"
           },
           "zaxis": {
            "backgroundcolor": "#E5ECF6",
            "gridcolor": "white",
            "gridwidth": 2,
            "linecolor": "white",
            "showbackground": true,
            "ticks": "",
            "zerolinecolor": "white"
           }
          },
          "shapedefaults": {
           "line": {
            "color": "#2a3f5f"
           }
          },
          "ternary": {
           "aaxis": {
            "gridcolor": "white",
            "linecolor": "white",
            "ticks": ""
           },
           "baxis": {
            "gridcolor": "white",
            "linecolor": "white",
            "ticks": ""
           },
           "bgcolor": "#E5ECF6",
           "caxis": {
            "gridcolor": "white",
            "linecolor": "white",
            "ticks": ""
           }
          },
          "title": {
           "x": 0.05
          },
          "xaxis": {
           "automargin": true,
           "gridcolor": "white",
           "linecolor": "white",
           "ticks": "",
           "title": {
            "standoff": 15
           },
           "zerolinecolor": "white",
           "zerolinewidth": 2
          },
          "yaxis": {
           "automargin": true,
           "gridcolor": "white",
           "linecolor": "white",
           "ticks": "",
           "title": {
            "standoff": 15
           },
           "zerolinecolor": "white",
           "zerolinewidth": 2
          }
         }
        },
        "title": {
         "text": "Figure 3 - Top 10 by Time ",
         "x": 0.5
        },
        "xaxis": {
         "title": {
          "text": "Time"
         }
        },
        "yaxis": {
         "title": {
          "text": "Number of Incidents"
         }
        }
       }
      },
      "text/html": [
       "<div>\n",
       "        \n",
       "        \n",
       "            <div id=\"5d81ab19-f1a8-4ea5-a5be-b583a5788248\" class=\"plotly-graph-div\" style=\"height:525px; width:100%;\"></div>\n",
       "            <script type=\"text/javascript\">\n",
       "                require([\"plotly\"], function(Plotly) {\n",
       "                    window.PLOTLYENV=window.PLOTLYENV || {};\n",
       "                    \n",
       "                if (document.getElementById(\"5d81ab19-f1a8-4ea5-a5be-b583a5788248\")) {\n",
       "                    Plotly.newPlot(\n",
       "                        '5d81ab19-f1a8-4ea5-a5be-b583a5788248',\n",
       "                        [{\"marker\": {\"color\": [3842, 3397, 3165, 2912, 2902, 2830, 2590, 2479, 2443, 2406], \"colorscale\": [[0.0, \"rgb(161, 105, 40)\"], [0.16666666666666666, \"rgb(189, 146, 90)\"], [0.3333333333333333, \"rgb(214, 189, 141)\"], [0.5, \"rgb(237, 234, 194)\"], [0.6666666666666666, \"rgb(181, 200, 184)\"], [0.8333333333333334, \"rgb(121, 167, 172)\"], [1.0, \"rgb(40, 135, 161)\"]]}, \"text\": [3842.0, 3397.0, 3165.0, 2912.0, 2902.0, 2830.0, 2590.0, 2479.0, 2443.0, 2406.0], \"textposition\": \"outside\", \"type\": \"bar\", \"x\": [\"12:00\", \"00:01\", \"18:00\", \"19:00\", \"20:00\", \"17:00\", \"21:00\", \"22:00\", \"16:00\", \"15:00\"], \"y\": [3842, 3397, 3165, 2912, 2902, 2830, 2590, 2479, 2443, 2406]}],\n",
       "                        {\"template\": {\"data\": {\"bar\": [{\"error_x\": {\"color\": \"#2a3f5f\"}, \"error_y\": {\"color\": \"#2a3f5f\"}, \"marker\": {\"line\": {\"color\": \"#E5ECF6\", \"width\": 0.5}}, \"type\": \"bar\"}], \"barpolar\": [{\"marker\": {\"line\": {\"color\": \"#E5ECF6\", \"width\": 0.5}}, \"type\": \"barpolar\"}], \"carpet\": [{\"aaxis\": {\"endlinecolor\": \"#2a3f5f\", \"gridcolor\": \"white\", \"linecolor\": \"white\", \"minorgridcolor\": \"white\", \"startlinecolor\": \"#2a3f5f\"}, \"baxis\": {\"endlinecolor\": \"#2a3f5f\", \"gridcolor\": \"white\", \"linecolor\": \"white\", \"minorgridcolor\": \"white\", \"startlinecolor\": \"#2a3f5f\"}, \"type\": \"carpet\"}], \"choropleth\": [{\"colorbar\": {\"outlinewidth\": 0, \"ticks\": \"\"}, \"type\": \"choropleth\"}], \"contour\": [{\"colorbar\": {\"outlinewidth\": 0, \"ticks\": \"\"}, \"colorscale\": [[0.0, \"#0d0887\"], [0.1111111111111111, \"#46039f\"], [0.2222222222222222, \"#7201a8\"], [0.3333333333333333, \"#9c179e\"], [0.4444444444444444, \"#bd3786\"], [0.5555555555555556, \"#d8576b\"], [0.6666666666666666, \"#ed7953\"], [0.7777777777777778, \"#fb9f3a\"], [0.8888888888888888, \"#fdca26\"], [1.0, \"#f0f921\"]], \"type\": \"contour\"}], \"contourcarpet\": [{\"colorbar\": {\"outlinewidth\": 0, \"ticks\": \"\"}, \"type\": \"contourcarpet\"}], \"heatmap\": [{\"colorbar\": {\"outlinewidth\": 0, \"ticks\": \"\"}, \"colorscale\": [[0.0, \"#0d0887\"], [0.1111111111111111, \"#46039f\"], [0.2222222222222222, \"#7201a8\"], [0.3333333333333333, \"#9c179e\"], [0.4444444444444444, \"#bd3786\"], [0.5555555555555556, \"#d8576b\"], [0.6666666666666666, \"#ed7953\"], [0.7777777777777778, \"#fb9f3a\"], [0.8888888888888888, \"#fdca26\"], [1.0, \"#f0f921\"]], \"type\": \"heatmap\"}], \"heatmapgl\": [{\"colorbar\": {\"outlinewidth\": 0, \"ticks\": \"\"}, \"colorscale\": [[0.0, \"#0d0887\"], [0.1111111111111111, \"#46039f\"], [0.2222222222222222, \"#7201a8\"], [0.3333333333333333, \"#9c179e\"], [0.4444444444444444, \"#bd3786\"], [0.5555555555555556, \"#d8576b\"], [0.6666666666666666, \"#ed7953\"], [0.7777777777777778, \"#fb9f3a\"], [0.8888888888888888, \"#fdca26\"], [1.0, \"#f0f921\"]], \"type\": \"heatmapgl\"}], \"histogram\": [{\"marker\": {\"colorbar\": {\"outlinewidth\": 0, \"ticks\": \"\"}}, \"type\": \"histogram\"}], \"histogram2d\": [{\"colorbar\": {\"outlinewidth\": 0, \"ticks\": \"\"}, \"colorscale\": [[0.0, \"#0d0887\"], [0.1111111111111111, \"#46039f\"], [0.2222222222222222, \"#7201a8\"], [0.3333333333333333, \"#9c179e\"], [0.4444444444444444, \"#bd3786\"], [0.5555555555555556, \"#d8576b\"], [0.6666666666666666, \"#ed7953\"], [0.7777777777777778, \"#fb9f3a\"], [0.8888888888888888, \"#fdca26\"], [1.0, \"#f0f921\"]], \"type\": \"histogram2d\"}], \"histogram2dcontour\": [{\"colorbar\": {\"outlinewidth\": 0, \"ticks\": \"\"}, \"colorscale\": [[0.0, \"#0d0887\"], [0.1111111111111111, \"#46039f\"], [0.2222222222222222, \"#7201a8\"], [0.3333333333333333, \"#9c179e\"], [0.4444444444444444, \"#bd3786\"], [0.5555555555555556, \"#d8576b\"], [0.6666666666666666, \"#ed7953\"], [0.7777777777777778, \"#fb9f3a\"], [0.8888888888888888, \"#fdca26\"], [1.0, \"#f0f921\"]], \"type\": \"histogram2dcontour\"}], \"mesh3d\": [{\"colorbar\": {\"outlinewidth\": 0, \"ticks\": \"\"}, \"type\": \"mesh3d\"}], \"parcoords\": [{\"line\": {\"colorbar\": {\"outlinewidth\": 0, \"ticks\": \"\"}}, \"type\": \"parcoords\"}], \"pie\": [{\"automargin\": true, \"type\": \"pie\"}], \"scatter\": [{\"marker\": {\"colorbar\": {\"outlinewidth\": 0, \"ticks\": \"\"}}, \"type\": \"scatter\"}], \"scatter3d\": [{\"line\": {\"colorbar\": {\"outlinewidth\": 0, \"ticks\": \"\"}}, \"marker\": {\"colorbar\": {\"outlinewidth\": 0, \"ticks\": \"\"}}, \"type\": \"scatter3d\"}], \"scattercarpet\": [{\"marker\": {\"colorbar\": {\"outlinewidth\": 0, \"ticks\": \"\"}}, \"type\": \"scattercarpet\"}], \"scattergeo\": [{\"marker\": {\"colorbar\": {\"outlinewidth\": 0, \"ticks\": \"\"}}, \"type\": \"scattergeo\"}], \"scattergl\": [{\"marker\": {\"colorbar\": {\"outlinewidth\": 0, \"ticks\": \"\"}}, \"type\": \"scattergl\"}], \"scattermapbox\": [{\"marker\": {\"colorbar\": {\"outlinewidth\": 0, \"ticks\": \"\"}}, \"type\": \"scattermapbox\"}], \"scatterpolar\": [{\"marker\": {\"colorbar\": {\"outlinewidth\": 0, \"ticks\": \"\"}}, \"type\": \"scatterpolar\"}], \"scatterpolargl\": [{\"marker\": {\"colorbar\": {\"outlinewidth\": 0, \"ticks\": \"\"}}, \"type\": \"scatterpolargl\"}], \"scatterternary\": [{\"marker\": {\"colorbar\": {\"outlinewidth\": 0, \"ticks\": \"\"}}, \"type\": \"scatterternary\"}], \"surface\": [{\"colorbar\": {\"outlinewidth\": 0, \"ticks\": \"\"}, \"colorscale\": [[0.0, \"#0d0887\"], [0.1111111111111111, \"#46039f\"], [0.2222222222222222, \"#7201a8\"], [0.3333333333333333, \"#9c179e\"], [0.4444444444444444, \"#bd3786\"], [0.5555555555555556, \"#d8576b\"], [0.6666666666666666, \"#ed7953\"], [0.7777777777777778, \"#fb9f3a\"], [0.8888888888888888, \"#fdca26\"], [1.0, \"#f0f921\"]], \"type\": \"surface\"}], \"table\": [{\"cells\": {\"fill\": {\"color\": \"#EBF0F8\"}, \"line\": {\"color\": \"white\"}}, \"header\": {\"fill\": {\"color\": \"#C8D4E3\"}, \"line\": {\"color\": \"white\"}}, \"type\": \"table\"}]}, \"layout\": {\"annotationdefaults\": {\"arrowcolor\": \"#2a3f5f\", \"arrowhead\": 0, \"arrowwidth\": 1}, \"coloraxis\": {\"colorbar\": {\"outlinewidth\": 0, \"ticks\": \"\"}}, \"colorscale\": {\"diverging\": [[0, \"#8e0152\"], [0.1, \"#c51b7d\"], [0.2, \"#de77ae\"], [0.3, \"#f1b6da\"], [0.4, \"#fde0ef\"], [0.5, \"#f7f7f7\"], [0.6, \"#e6f5d0\"], [0.7, \"#b8e186\"], [0.8, \"#7fbc41\"], [0.9, \"#4d9221\"], [1, \"#276419\"]], \"sequential\": [[0.0, \"#0d0887\"], [0.1111111111111111, \"#46039f\"], [0.2222222222222222, \"#7201a8\"], [0.3333333333333333, \"#9c179e\"], [0.4444444444444444, \"#bd3786\"], [0.5555555555555556, \"#d8576b\"], [0.6666666666666666, \"#ed7953\"], [0.7777777777777778, \"#fb9f3a\"], [0.8888888888888888, \"#fdca26\"], [1.0, \"#f0f921\"]], \"sequentialminus\": [[0.0, \"#0d0887\"], [0.1111111111111111, \"#46039f\"], [0.2222222222222222, \"#7201a8\"], [0.3333333333333333, \"#9c179e\"], [0.4444444444444444, \"#bd3786\"], [0.5555555555555556, \"#d8576b\"], [0.6666666666666666, \"#ed7953\"], [0.7777777777777778, \"#fb9f3a\"], [0.8888888888888888, \"#fdca26\"], [1.0, \"#f0f921\"]]}, \"colorway\": [\"#636efa\", \"#EF553B\", \"#00cc96\", \"#ab63fa\", \"#FFA15A\", \"#19d3f3\", \"#FF6692\", \"#B6E880\", \"#FF97FF\", \"#FECB52\"], \"font\": {\"color\": \"#2a3f5f\"}, \"geo\": {\"bgcolor\": \"white\", \"lakecolor\": \"white\", \"landcolor\": \"#E5ECF6\", \"showlakes\": true, \"showland\": true, \"subunitcolor\": \"white\"}, \"hoverlabel\": {\"align\": \"left\"}, \"hovermode\": \"closest\", \"mapbox\": {\"style\": \"light\"}, \"paper_bgcolor\": \"white\", \"plot_bgcolor\": \"#E5ECF6\", \"polar\": {\"angularaxis\": {\"gridcolor\": \"white\", \"linecolor\": \"white\", \"ticks\": \"\"}, \"bgcolor\": \"#E5ECF6\", \"radialaxis\": {\"gridcolor\": \"white\", \"linecolor\": \"white\", \"ticks\": \"\"}}, \"scene\": {\"xaxis\": {\"backgroundcolor\": \"#E5ECF6\", \"gridcolor\": \"white\", \"gridwidth\": 2, \"linecolor\": \"white\", \"showbackground\": true, \"ticks\": \"\", \"zerolinecolor\": \"white\"}, \"yaxis\": {\"backgroundcolor\": \"#E5ECF6\", \"gridcolor\": \"white\", \"gridwidth\": 2, \"linecolor\": \"white\", \"showbackground\": true, \"ticks\": \"\", \"zerolinecolor\": \"white\"}, \"zaxis\": {\"backgroundcolor\": \"#E5ECF6\", \"gridcolor\": \"white\", \"gridwidth\": 2, \"linecolor\": \"white\", \"showbackground\": true, \"ticks\": \"\", \"zerolinecolor\": \"white\"}}, \"shapedefaults\": {\"line\": {\"color\": \"#2a3f5f\"}}, \"ternary\": {\"aaxis\": {\"gridcolor\": \"white\", \"linecolor\": \"white\", \"ticks\": \"\"}, \"baxis\": {\"gridcolor\": \"white\", \"linecolor\": \"white\", \"ticks\": \"\"}, \"bgcolor\": \"#E5ECF6\", \"caxis\": {\"gridcolor\": \"white\", \"linecolor\": \"white\", \"ticks\": \"\"}}, \"title\": {\"x\": 0.05}, \"xaxis\": {\"automargin\": true, \"gridcolor\": \"white\", \"linecolor\": \"white\", \"ticks\": \"\", \"title\": {\"standoff\": 15}, \"zerolinecolor\": \"white\", \"zerolinewidth\": 2}, \"yaxis\": {\"automargin\": true, \"gridcolor\": \"white\", \"linecolor\": \"white\", \"ticks\": \"\", \"title\": {\"standoff\": 15}, \"zerolinecolor\": \"white\", \"zerolinewidth\": 2}}}, \"title\": {\"text\": \"Figure 3 - Top 10 by Time \", \"x\": 0.5}, \"xaxis\": {\"title\": {\"text\": \"Time\"}}, \"yaxis\": {\"title\": {\"text\": \"Number of Incidents\"}}},\n",
       "                        {\"responsive\": true}\n",
       "                    ).then(function(){\n",
       "                            \n",
       "var gd = document.getElementById('5d81ab19-f1a8-4ea5-a5be-b583a5788248');\n",
       "var x = new MutationObserver(function (mutations, observer) {{\n",
       "        var display = window.getComputedStyle(gd).display;\n",
       "        if (!display || display === 'none') {{\n",
       "            console.log([gd, 'removed!']);\n",
       "            Plotly.purge(gd);\n",
       "            observer.disconnect();\n",
       "        }}\n",
       "}});\n",
       "\n",
       "// Listen for the removal of the full notebook cells\n",
       "var notebookContainer = gd.closest('#notebook-container');\n",
       "if (notebookContainer) {{\n",
       "    x.observe(notebookContainer, {childList: true});\n",
       "}}\n",
       "\n",
       "// Listen for the clearing of the current output cell\n",
       "var outputEl = gd.closest('.output');\n",
       "if (outputEl) {{\n",
       "    x.observe(outputEl, {childList: true});\n",
       "}}\n",
       "\n",
       "                        })\n",
       "                };\n",
       "                });\n",
       "            </script>\n",
       "        </div>"
      ]
     },
     "metadata": {},
     "output_type": "display_data"
    },
    {
     "data": {
      "image/png": "[encoded data removed]"
     },
     "metadata": {},
     "output_type": "display_data"
    }
   ],
   "source": [
    "# Plotting Top 10 by Time \n",
    "value = incidents['Time'].value_counts().round(0).nlargest(10)\n",
    "label = value.index\n",
    "trace = go.Bar(y=value, \n",
    "               x=label,text = value,textposition= \"outside\",\n",
    "               marker={'color': value,\n",
    "                   'colorscale': 'Earth'})\n",
    "layout = go.Layout(title=\"Figure 3 - Top 10 by Time \", \n",
    "                   xaxis={'title' : \"Time\"},\n",
    "                  yaxis={'title' : \"Number of Incidents\"},\n",
    "                  title_x=0.5)\n",
    "fig = go.Figure(data=trace, layout=layout)\n",
    "iplot(fig)\n",
    "fig.show('png')"
   ]
  },
  {
   "cell_type": "code",
   "execution_count": 195,
   "metadata": {},
   "outputs": [
    {
     "data": {
      "text/html": [
       "\n",
       "        <script src=\"/static/components/requirejs/require.js\"></script>\n",
       "        <script>\n",
       "          requirejs.config({\n",
       "            paths: {\n",
       "              base: '/static/base',\n",
       "              plotly: 'https://cdn.plot.ly/plotly-latest.min.js?noext',\n",
       "            },\n",
       "          });\n",
       "        </script>\n",
       "        "
      ],
      "text/plain": [
       "<IPython.core.display.HTML object>"
      ]
     },
     "metadata": {},
     "output_type": "display_data"
    },
    {
     "data": {
      "text/html": [
       "\n",
       "        <script src=\"/static/components/requirejs/require.js\"></script>\n",
       "        <script>\n",
       "          requirejs.config({\n",
       "            paths: {\n",
       "              base: '/static/base',\n",
       "              plotly: 'https://cdn.plot.ly/plotly-latest.min.js?noext',\n",
       "            },\n",
       "          });\n",
       "        </script>\n",
       "        "
      ],
      "text/plain": [
       "<IPython.core.display.HTML object>"
      ]
     },
     "metadata": {},
     "output_type": "display_data"
    },
    {
     "data": {
      "text/html": [
       "\n",
       "        <script src=\"/static/components/requirejs/require.js\"></script>\n",
       "        <script>\n",
       "          requirejs.config({\n",
       "            paths: {\n",
       "              base: '/static/base',\n",
       "              plotly: 'https://cdn.plot.ly/plotly-latest.min.js?noext',\n",
       "            },\n",
       "          });\n",
       "        </script>\n",
       "        "
      ],
      "text/plain": [
       "<IPython.core.display.HTML object>"
      ]
     },
     "metadata": {},
     "output_type": "display_data"
    },
    {
     "data": {
      "text/html": [
       "\n",
       "        <script src=\"/static/components/requirejs/require.js\"></script>\n",
       "        <script>\n",
       "          requirejs.config({\n",
       "            paths: {\n",
       "              base: '/static/base',\n",
       "              plotly: 'https://cdn.plot.ly/plotly-latest.min.js?noext',\n",
       "            },\n",
       "          });\n",
       "        </script>\n",
       "        "
      ],
      "text/plain": [
       "<IPython.core.display.HTML object>"
      ]
     },
     "metadata": {},
     "output_type": "display_data"
    },
    {
     "data": {
      "text/html": [
       "\n",
       "        <script src=\"/static/components/requirejs/require.js\"></script>\n",
       "        <script>\n",
       "          requirejs.config({\n",
       "            paths: {\n",
       "              base: '/static/base',\n",
       "              plotly: 'https://cdn.plot.ly/plotly-latest.min.js?noext',\n",
       "            },\n",
       "          });\n",
       "        </script>\n",
       "        "
      ],
      "text/plain": [
       "<IPython.core.display.HTML object>"
      ]
     },
     "metadata": {},
     "output_type": "display_data"
    },
    {
     "data": {
      "text/html": [
       "\n",
       "        <script src=\"/static/components/requirejs/require.js\"></script>\n",
       "        <script>\n",
       "          requirejs.config({\n",
       "            paths: {\n",
       "              base: '/static/base',\n",
       "              plotly: 'https://cdn.plot.ly/plotly-latest.min.js?noext',\n",
       "            },\n",
       "          });\n",
       "        </script>\n",
       "        "
      ],
      "text/plain": [
       "<IPython.core.display.HTML object>"
      ]
     },
     "metadata": {},
     "output_type": "display_data"
    },
    {
     "data": {
      "text/html": [
       "\n",
       "        <script src=\"/static/components/requirejs/require.js\"></script>\n",
       "        <script>\n",
       "          requirejs.config({\n",
       "            paths: {\n",
       "              base: '/static/base',\n",
       "              plotly: 'https://cdn.plot.ly/plotly-latest.min.js?noext',\n",
       "            },\n",
       "          });\n",
       "        </script>\n",
       "        "
      ],
      "text/plain": [
       "<IPython.core.display.HTML object>"
      ]
     },
     "metadata": {},
     "output_type": "display_data"
    },
    {
     "data": {
      "text/html": [
       "\n",
       "        <script src=\"/static/components/requirejs/require.js\"></script>\n",
       "        <script>\n",
       "          requirejs.config({\n",
       "            paths: {\n",
       "              base: '/static/base',\n",
       "              plotly: 'https://cdn.plot.ly/plotly-latest.min.js?noext',\n",
       "            },\n",
       "          });\n",
       "        </script>\n",
       "        "
      ],
      "text/plain": [
       "<IPython.core.display.HTML object>"
      ]
     },
     "metadata": {},
     "output_type": "display_data"
    },
    {
     "data": {
      "text/html": [
       "\n",
       "        <script src=\"/static/components/requirejs/require.js\"></script>\n",
       "        <script>\n",
       "          requirejs.config({\n",
       "            paths: {\n",
       "              base: '/static/base',\n",
       "              plotly: 'https://cdn.plot.ly/plotly-latest.min.js?noext',\n",
       "            },\n",
       "          });\n",
       "        </script>\n",
       "        "
      ],
      "text/plain": [
       "<IPython.core.display.HTML object>"
      ]
     },
     "metadata": {},
     "output_type": "display_data"
    },
    {
     "data": {
      "text/html": [
       "\n",
       "        <script src=\"/static/components/requirejs/require.js\"></script>\n",
       "        <script>\n",
       "          requirejs.config({\n",
       "            paths: {\n",
       "              base: '/static/base',\n",
       "              plotly: 'https://cdn.plot.ly/plotly-latest.min.js?noext',\n",
       "            },\n",
       "          });\n",
       "        </script>\n",
       "        "
      ],
      "text/plain": [
       "<IPython.core.display.HTML object>"
      ]
     },
     "metadata": {},
     "output_type": "display_data"
    },
    {
     "data": {
      "text/html": [
       "\n",
       "        <script src=\"/static/components/requirejs/require.js\"></script>\n",
       "        <script>\n",
       "          requirejs.config({\n",
       "            paths: {\n",
       "              base: '/static/base',\n",
       "              plotly: 'https://cdn.plot.ly/plotly-latest.min.js?noext',\n",
       "            },\n",
       "          });\n",
       "        </script>\n",
       "        "
      ],
      "text/plain": [
       "<IPython.core.display.HTML object>"
      ]
     },
     "metadata": {},
     "output_type": "display_data"
    },
    {
     "data": {
      "text/html": [
       "\n",
       "        <script src=\"/static/components/requirejs/require.js\"></script>\n",
       "        <script>\n",
       "          requirejs.config({\n",
       "            paths: {\n",
       "              base: '/static/base',\n",
       "              plotly: 'https://cdn.plot.ly/plotly-latest.min.js?noext',\n",
       "            },\n",
       "          });\n",
       "        </script>\n",
       "        "
      ],
      "text/plain": [
       "<IPython.core.display.HTML object>"
      ]
     },
     "metadata": {},
     "output_type": "display_data"
    },
    {
     "data": {
      "text/html": [
       "\n",
       "        <script src=\"/static/components/requirejs/require.js\"></script>\n",
       "        <script>\n",
       "          requirejs.config({\n",
       "            paths: {\n",
       "              base: '/static/base',\n",
       "              plotly: 'https://cdn.plot.ly/plotly-latest.min.js?noext',\n",
       "            },\n",
       "          });\n",
       "        </script>\n",
       "        "
      ],
      "text/plain": [
       "<IPython.core.display.HTML object>"
      ]
     },
     "metadata": {},
     "output_type": "display_data"
    },
    {
     "data": {
      "text/plain": [
       "800 Block of BRYANT ST          3561\n",
       "800 Block of MARKET ST          1405\n",
       "1000 Block of POTRERO AV         644\n",
       "900 Block of MARKET ST           547\n",
       "0 Block of UNITEDNATIONS PZ      452\n",
       "500 Block of JOHNFKENNEDY DR     448\n",
       "3200 Block of 20TH AV            431\n",
       "600 Block of VALENCIA ST         399\n",
       "100 Block of OFARRELL ST         389\n",
       "1100 Block of FILLMORE ST        382\n",
       "Name: Address, dtype: int64"
      ]
     },
     "execution_count": 195,
     "metadata": {},
     "output_type": "execute_result"
    }
   ],
   "source": [
    "# Top 10 by Address\n",
    "incidents['Address'].value_counts().nlargest(10)"
   ]
  },
  {
   "cell_type": "code",
   "execution_count": 196,
   "metadata": {},
   "outputs": [
    {
     "data": {
      "text/html": [
       "\n",
       "        <script src=\"/static/components/requirejs/require.js\"></script>\n",
       "        <script>\n",
       "          requirejs.config({\n",
       "            paths: {\n",
       "              base: '/static/base',\n",
       "              plotly: 'https://cdn.plot.ly/plotly-latest.min.js?noext',\n",
       "            },\n",
       "          });\n",
       "        </script>\n",
       "        "
      ],
      "text/plain": [
       "<IPython.core.display.HTML object>"
      ]
     },
     "metadata": {},
     "output_type": "display_data"
    },
    {
     "data": {
      "text/html": [
       "\n",
       "        <script src=\"/static/components/requirejs/require.js\"></script>\n",
       "        <script>\n",
       "          requirejs.config({\n",
       "            paths: {\n",
       "              base: '/static/base',\n",
       "              plotly: 'https://cdn.plot.ly/plotly-latest.min.js?noext',\n",
       "            },\n",
       "          });\n",
       "        </script>\n",
       "        "
      ],
      "text/plain": [
       "<IPython.core.display.HTML object>"
      ]
     },
     "metadata": {},
     "output_type": "display_data"
    },
    {
     "data": {
      "text/html": [
       "\n",
       "        <script src=\"/static/components/requirejs/require.js\"></script>\n",
       "        <script>\n",
       "          requirejs.config({\n",
       "            paths: {\n",
       "              base: '/static/base',\n",
       "              plotly: 'https://cdn.plot.ly/plotly-latest.min.js?noext',\n",
       "            },\n",
       "          });\n",
       "        </script>\n",
       "        "
      ],
      "text/plain": [
       "<IPython.core.display.HTML object>"
      ]
     },
     "metadata": {},
     "output_type": "display_data"
    },
    {
     "data": {
      "text/html": [
       "\n",
       "        <script src=\"/static/components/requirejs/require.js\"></script>\n",
       "        <script>\n",
       "          requirejs.config({\n",
       "            paths: {\n",
       "              base: '/static/base',\n",
       "              plotly: 'https://cdn.plot.ly/plotly-latest.min.js?noext',\n",
       "            },\n",
       "          });\n",
       "        </script>\n",
       "        "
      ],
      "text/plain": [
       "<IPython.core.display.HTML object>"
      ]
     },
     "metadata": {},
     "output_type": "display_data"
    },
    {
     "data": {
      "text/html": [
       "\n",
       "        <script src=\"/static/components/requirejs/require.js\"></script>\n",
       "        <script>\n",
       "          requirejs.config({\n",
       "            paths: {\n",
       "              base: '/static/base',\n",
       "              plotly: 'https://cdn.plot.ly/plotly-latest.min.js?noext',\n",
       "            },\n",
       "          });\n",
       "        </script>\n",
       "        "
      ],
      "text/plain": [
       "<IPython.core.display.HTML object>"
      ]
     },
     "metadata": {},
     "output_type": "display_data"
    },
    {
     "data": {
      "text/html": [
       "\n",
       "        <script src=\"/static/components/requirejs/require.js\"></script>\n",
       "        <script>\n",
       "          requirejs.config({\n",
       "            paths: {\n",
       "              base: '/static/base',\n",
       "              plotly: 'https://cdn.plot.ly/plotly-latest.min.js?noext',\n",
       "            },\n",
       "          });\n",
       "        </script>\n",
       "        "
      ],
      "text/plain": [
       "<IPython.core.display.HTML object>"
      ]
     },
     "metadata": {},
     "output_type": "display_data"
    },
    {
     "data": {
      "text/html": [
       "\n",
       "        <script src=\"/static/components/requirejs/require.js\"></script>\n",
       "        <script>\n",
       "          requirejs.config({\n",
       "            paths: {\n",
       "              base: '/static/base',\n",
       "              plotly: 'https://cdn.plot.ly/plotly-latest.min.js?noext',\n",
       "            },\n",
       "          });\n",
       "        </script>\n",
       "        "
      ],
      "text/plain": [
       "<IPython.core.display.HTML object>"
      ]
     },
     "metadata": {},
     "output_type": "display_data"
    },
    {
     "data": {
      "text/html": [
       "\n",
       "        <script src=\"/static/components/requirejs/require.js\"></script>\n",
       "        <script>\n",
       "          requirejs.config({\n",
       "            paths: {\n",
       "              base: '/static/base',\n",
       "              plotly: 'https://cdn.plot.ly/plotly-latest.min.js?noext',\n",
       "            },\n",
       "          });\n",
       "        </script>\n",
       "        "
      ],
      "text/plain": [
       "<IPython.core.display.HTML object>"
      ]
     },
     "metadata": {},
     "output_type": "display_data"
    },
    {
     "data": {
      "text/html": [
       "\n",
       "        <script src=\"/static/components/requirejs/require.js\"></script>\n",
       "        <script>\n",
       "          requirejs.config({\n",
       "            paths: {\n",
       "              base: '/static/base',\n",
       "              plotly: 'https://cdn.plot.ly/plotly-latest.min.js?noext',\n",
       "            },\n",
       "          });\n",
       "        </script>\n",
       "        "
      ],
      "text/plain": [
       "<IPython.core.display.HTML object>"
      ]
     },
     "metadata": {},
     "output_type": "display_data"
    },
    {
     "data": {
      "text/html": [
       "\n",
       "        <script src=\"/static/components/requirejs/require.js\"></script>\n",
       "        <script>\n",
       "          requirejs.config({\n",
       "            paths: {\n",
       "              base: '/static/base',\n",
       "              plotly: 'https://cdn.plot.ly/plotly-latest.min.js?noext',\n",
       "            },\n",
       "          });\n",
       "        </script>\n",
       "        "
      ],
      "text/plain": [
       "<IPython.core.display.HTML object>"
      ]
     },
     "metadata": {},
     "output_type": "display_data"
    },
    {
     "data": {
      "text/html": [
       "\n",
       "        <script src=\"/static/components/requirejs/require.js\"></script>\n",
       "        <script>\n",
       "          requirejs.config({\n",
       "            paths: {\n",
       "              base: '/static/base',\n",
       "              plotly: 'https://cdn.plot.ly/plotly-latest.min.js?noext',\n",
       "            },\n",
       "          });\n",
       "        </script>\n",
       "        "
      ],
      "text/plain": [
       "<IPython.core.display.HTML object>"
      ]
     },
     "metadata": {},
     "output_type": "display_data"
    },
    {
     "data": {
      "text/html": [
       "\n",
       "        <script src=\"/static/components/requirejs/require.js\"></script>\n",
       "        <script>\n",
       "          requirejs.config({\n",
       "            paths: {\n",
       "              base: '/static/base',\n",
       "              plotly: 'https://cdn.plot.ly/plotly-latest.min.js?noext',\n",
       "            },\n",
       "          });\n",
       "        </script>\n",
       "        "
      ],
      "text/plain": [
       "<IPython.core.display.HTML object>"
      ]
     },
     "metadata": {},
     "output_type": "display_data"
    },
    {
     "data": {
      "text/html": [
       "\n",
       "        <script src=\"/static/components/requirejs/require.js\"></script>\n",
       "        <script>\n",
       "          requirejs.config({\n",
       "            paths: {\n",
       "              base: '/static/base',\n",
       "              plotly: 'https://cdn.plot.ly/plotly-latest.min.js?noext',\n",
       "            },\n",
       "          });\n",
       "        </script>\n",
       "        "
      ],
      "text/plain": [
       "<IPython.core.display.HTML object>"
      ]
     },
     "metadata": {},
     "output_type": "display_data"
    },
    {
     "data": {
      "application/vnd.plotly.v1+json": {
       "config": {
        "linkText": "Export to plot.ly",
        "plotlyServerURL": "https://plot.ly",
        "showLink": false
       },
       "data": [
        {
         "marker": {
          "color": [
           3561,
           1405,
           644,
           547,
           452,
           448,
           431,
           399,
           389,
           382
          ],
          "colorscale": [
           [
            0,
            "rgb(12,51,131)"
           ],
           [
            0.25,
            "rgb(10,136,186)"
           ],
           [
            0.5,
            "rgb(242,211,56)"
           ],
           [
            0.75,
            "rgb(242,143,56)"
           ],
           [
            1,
            "rgb(217,30,30)"
           ]
          ]
         },
         "text": [
          3561,
          1405,
          644,
          547,
          452,
          448,
          431,
          399,
          389,
          382
         ],
         "textposition": "outside",
         "type": "bar",
         "x": [
          "800 Block of BRYANT ST",
          "800 Block of MARKET ST",
          "1000 Block of POTRERO AV",
          "900 Block of MARKET ST",
          "0 Block of UNITEDNATIONS PZ",
          "500 Block of JOHNFKENNEDY DR",
          "3200 Block of 20TH AV",
          "600 Block of VALENCIA ST",
          "100 Block of OFARRELL ST",
          "1100 Block of FILLMORE ST"
         ],
         "y": [
          3561,
          1405,
          644,
          547,
          452,
          448,
          431,
          399,
          389,
          382
         ]
        }
       ],
       "layout": {
        "template": {
         "data": {
          "bar": [
           {
            "error_x": {
             "color": "#2a3f5f"
            },
            "error_y": {
             "color": "#2a3f5f"
            },
            "marker": {
             "line": {
              "color": "#E5ECF6",
              "width": 0.5
             }
            },
            "type": "bar"
           }
          ],
          "barpolar": [
           {
            "marker": {
             "line": {
              "color": "#E5ECF6",
              "width": 0.5
             }
            },
            "type": "barpolar"
           }
          ],
          "carpet": [
           {
            "aaxis": {
             "endlinecolor": "#2a3f5f",
             "gridcolor": "white",
             "linecolor": "white",
             "minorgridcolor": "white",
             "startlinecolor": "#2a3f5f"
            },
            "baxis": {
             "endlinecolor": "#2a3f5f",
             "gridcolor": "white",
             "linecolor": "white",
             "minorgridcolor": "white",
             "startlinecolor": "#2a3f5f"
            },
            "type": "carpet"
           }
          ],
          "choropleth": [
           {
            "colorbar": {
             "outlinewidth": 0,
             "ticks": ""
            },
            "type": "choropleth"
           }
          ],
          "contour": [
           {
            "colorbar": {
             "outlinewidth": 0,
             "ticks": ""
            },
            "colorscale": [
             [
              0,
              "#0d0887"
             ],
             [
              0.1111111111111111,
              "#46039f"
             ],
             [
              0.2222222222222222,
              "#7201a8"
             ],
             [
              0.3333333333333333,
              "#9c179e"
             ],
             [
              0.4444444444444444,
              "#bd3786"
             ],
             [
              0.5555555555555556,
              "#d8576b"
             ],
             [
              0.6666666666666666,
              "#ed7953"
             ],
             [
              0.7777777777777778,
              "#fb9f3a"
             ],
             [
              0.8888888888888888,
              "#fdca26"
             ],
             [
              1,
              "#f0f921"
             ]
            ],
            "type": "contour"
           }
          ],
          "contourcarpet": [
           {
            "colorbar": {
             "outlinewidth": 0,
             "ticks": ""
            },
            "type": "contourcarpet"
           }
          ],
          "heatmap": [
           {
            "colorbar": {
             "outlinewidth": 0,
             "ticks": ""
            },
            "colorscale": [
             [
              0,
              "#0d0887"
             ],
             [
              0.1111111111111111,
              "#46039f"
             ],
             [
              0.2222222222222222,
              "#7201a8"
             ],
             [
              0.3333333333333333,
              "#9c179e"
             ],
             [
              0.4444444444444444,
              "#bd3786"
             ],
             [
              0.5555555555555556,
              "#d8576b"
             ],
             [
              0.6666666666666666,
              "#ed7953"
             ],
             [
              0.7777777777777778,
              "#fb9f3a"
             ],
             [
              0.8888888888888888,
              "#fdca26"
             ],
             [
              1,
              "#f0f921"
             ]
            ],
            "type": "heatmap"
           }
          ],
          "heatmapgl": [
           {
            "colorbar": {
             "outlinewidth": 0,
             "ticks": ""
            },
            "colorscale": [
             [
              0,
              "#0d0887"
             ],
             [
              0.1111111111111111,
              "#46039f"
             ],
             [
              0.2222222222222222,
              "#7201a8"
             ],
             [
              0.3333333333333333,
              "#9c179e"
             ],
             [
              0.4444444444444444,
              "#bd3786"
             ],
             [
              0.5555555555555556,
              "#d8576b"
             ],
             [
              0.6666666666666666,
              "#ed7953"
             ],
             [
              0.7777777777777778,
              "#fb9f3a"
             ],
             [
              0.8888888888888888,
              "#fdca26"
             ],
             [
              1,
              "#f0f921"
             ]
            ],
            "type": "heatmapgl"
           }
          ],
          "histogram": [
           {
            "marker": {
             "colorbar": {
              "outlinewidth": 0,
              "ticks": ""
             }
            },
            "type": "histogram"
           }
          ],
          "histogram2d": [
           {
            "colorbar": {
             "outlinewidth": 0,
             "ticks": ""
            },
            "colorscale": [
             [
              0,
              "#0d0887"
             ],
             [
              0.1111111111111111,
              "#46039f"
             ],
             [
              0.2222222222222222,
              "#7201a8"
             ],
             [
              0.3333333333333333,
              "#9c179e"
             ],
             [
              0.4444444444444444,
              "#bd3786"
             ],
             [
              0.5555555555555556,
              "#d8576b"
             ],
             [
              0.6666666666666666,
              "#ed7953"
             ],
             [
              0.7777777777777778,
              "#fb9f3a"
             ],
             [
              0.8888888888888888,
              "#fdca26"
             ],
             [
              1,
              "#f0f921"
             ]
            ],
            "type": "histogram2d"
           }
          ],
          "histogram2dcontour": [
           {
            "colorbar": {
             "outlinewidth": 0,
             "ticks": ""
            },
            "colorscale": [
             [
              0,
              "#0d0887"
             ],
             [
              0.1111111111111111,
              "#46039f"
             ],
             [
              0.2222222222222222,
              "#7201a8"
             ],
             [
              0.3333333333333333,
              "#9c179e"
             ],
             [
              0.4444444444444444,
              "#bd3786"
             ],
             [
              0.5555555555555556,
              "#d8576b"
             ],
             [
              0.6666666666666666,
              "#ed7953"
             ],
             [
              0.7777777777777778,
              "#fb9f3a"
             ],
             [
              0.8888888888888888,
              "#fdca26"
             ],
             [
              1,
              "#f0f921"
             ]
            ],
            "type": "histogram2dcontour"
           }
          ],
          "mesh3d": [
           {
            "colorbar": {
             "outlinewidth": 0,
             "ticks": ""
            },
            "type": "mesh3d"
           }
          ],
          "parcoords": [
           {
            "line": {
             "colorbar": {
              "outlinewidth": 0,
              "ticks": ""
             }
            },
            "type": "parcoords"
           }
          ],
          "pie": [
           {
            "automargin": true,
            "type": "pie"
           }
          ],
          "scatter": [
           {
            "marker": {
             "colorbar": {
              "outlinewidth": 0,
              "ticks": ""
             }
            },
            "type": "scatter"
           }
          ],
          "scatter3d": [
           {
            "line": {
             "colorbar": {
              "outlinewidth": 0,
              "ticks": ""
             }
            },
            "marker": {
             "colorbar": {
              "outlinewidth": 0,
              "ticks": ""
             }
            },
            "type": "scatter3d"
           }
          ],
          "scattercarpet": [
           {
            "marker": {
             "colorbar": {
              "outlinewidth": 0,
              "ticks": ""
             }
            },
            "type": "scattercarpet"
           }
          ],
          "scattergeo": [
           {
            "marker": {
             "colorbar": {
              "outlinewidth": 0,
              "ticks": ""
             }
            },
            "type": "scattergeo"
           }
          ],
          "scattergl": [
           {
            "marker": {
             "colorbar": {
              "outlinewidth": 0,
              "ticks": ""
             }
            },
            "type": "scattergl"
           }
          ],
          "scattermapbox": [
           {
            "marker": {
             "colorbar": {
              "outlinewidth": 0,
              "ticks": ""
             }
            },
            "type": "scattermapbox"
           }
          ],
          "scatterpolar": [
           {
            "marker": {
             "colorbar": {
              "outlinewidth": 0,
              "ticks": ""
             }
            },
            "type": "scatterpolar"
           }
          ],
          "scatterpolargl": [
           {
            "marker": {
             "colorbar": {
              "outlinewidth": 0,
              "ticks": ""
             }
            },
            "type": "scatterpolargl"
           }
          ],
          "scatterternary": [
           {
            "marker": {
             "colorbar": {
              "outlinewidth": 0,
              "ticks": ""
             }
            },
            "type": "scatterternary"
           }
          ],
          "surface": [
           {
            "colorbar": {
             "outlinewidth": 0,
             "ticks": ""
            },
            "colorscale": [
             [
              0,
              "#0d0887"
             ],
             [
              0.1111111111111111,
              "#46039f"
             ],
             [
              0.2222222222222222,
              "#7201a8"
             ],
             [
              0.3333333333333333,
              "#9c179e"
             ],
             [
              0.4444444444444444,
              "#bd3786"
             ],
             [
              0.5555555555555556,
              "#d8576b"
             ],
             [
              0.6666666666666666,
              "#ed7953"
             ],
             [
              0.7777777777777778,
              "#fb9f3a"
             ],
             [
              0.8888888888888888,
              "#fdca26"
             ],
             [
              1,
              "#f0f921"
             ]
            ],
            "type": "surface"
           }
          ],
          "table": [
           {
            "cells": {
             "fill": {
              "color": "#EBF0F8"
             },
             "line": {
              "color": "white"
             }
            },
            "header": {
             "fill": {
              "color": "#C8D4E3"
             },
             "line": {
              "color": "white"
             }
            },
            "type": "table"
           }
          ]
         },
         "layout": {
          "annotationdefaults": {
           "arrowcolor": "#2a3f5f",
           "arrowhead": 0,
           "arrowwidth": 1
          },
          "coloraxis": {
           "colorbar": {
            "outlinewidth": 0,
            "ticks": ""
           }
          },
          "colorscale": {
           "diverging": [
            [
             0,
             "#8e0152"
            ],
            [
             0.1,
             "#c51b7d"
            ],
            [
             0.2,
             "#de77ae"
            ],
            [
             0.3,
             "#f1b6da"
            ],
            [
             0.4,
             "#fde0ef"
            ],
            [
             0.5,
             "#f7f7f7"
            ],
            [
             0.6,
             "#e6f5d0"
            ],
            [
             0.7,
             "#b8e186"
            ],
            [
             0.8,
             "#7fbc41"
            ],
            [
             0.9,
             "#4d9221"
            ],
            [
             1,
             "#276419"
            ]
           ],
           "sequential": [
            [
             0,
             "#0d0887"
            ],
            [
             0.1111111111111111,
             "#46039f"
            ],
            [
             0.2222222222222222,
             "#7201a8"
            ],
            [
             0.3333333333333333,
             "#9c179e"
            ],
            [
             0.4444444444444444,
             "#bd3786"
            ],
            [
             0.5555555555555556,
             "#d8576b"
            ],
            [
             0.6666666666666666,
             "#ed7953"
            ],
            [
             0.7777777777777778,
             "#fb9f3a"
            ],
            [
             0.8888888888888888,
             "#fdca26"
            ],
            [
             1,
             "#f0f921"
            ]
           ],
           "sequentialminus": [
            [
             0,
             "#0d0887"
            ],
            [
             0.1111111111111111,
             "#46039f"
            ],
            [
             0.2222222222222222,
             "#7201a8"
            ],
            [
             0.3333333333333333,
             "#9c179e"
            ],
            [
             0.4444444444444444,
             "#bd3786"
            ],
            [
             0.5555555555555556,
             "#d8576b"
            ],
            [
             0.6666666666666666,
             "#ed7953"
            ],
            [
             0.7777777777777778,
             "#fb9f3a"
            ],
            [
             0.8888888888888888,
             "#fdca26"
            ],
            [
             1,
             "#f0f921"
            ]
           ]
          },
          "colorway": [
           "#636efa",
           "#EF553B",
           "#00cc96",
           "#ab63fa",
           "#FFA15A",
           "#19d3f3",
           "#FF6692",
           "#B6E880",
           "#FF97FF",
           "#FECB52"
          ],
          "font": {
           "color": "#2a3f5f"
          },
          "geo": {
           "bgcolor": "white",
           "lakecolor": "white",
           "landcolor": "#E5ECF6",
           "showlakes": true,
           "showland": true,
           "subunitcolor": "white"
          },
          "hoverlabel": {
           "align": "left"
          },
          "hovermode": "closest",
          "mapbox": {
           "style": "light"
          },
          "paper_bgcolor": "white",
          "plot_bgcolor": "#E5ECF6",
          "polar": {
           "angularaxis": {
            "gridcolor": "white",
            "linecolor": "white",
            "ticks": ""
           },
           "bgcolor": "#E5ECF6",
           "radialaxis": {
            "gridcolor": "white",
            "linecolor": "white",
            "ticks": ""
           }
          },
          "scene": {
           "xaxis": {
            "backgroundcolor": "#E5ECF6",
            "gridcolor": "white",
            "gridwidth": 2,
            "linecolor": "white",
            "showbackground": true,
            "ticks": "",
            "zerolinecolor": "white"
           },
           "yaxis": {
            "backgroundcolor": "#E5ECF6",
            "gridcolor": "white",
            "gridwidth": 2,
            "linecolor": "white",
            "showbackground": true,
            "ticks": "",
            "zerolinecolor": "white"
           },
           "zaxis": {
            "backgroundcolor": "#E5ECF6",
            "gridcolor": "white",
            "gridwidth": 2,
            "linecolor": "white",
            "showbackground": true,
            "ticks": "",
            "zerolinecolor": "white"
           }
          },
          "shapedefaults": {
           "line": {
            "color": "#2a3f5f"
           }
          },
          "ternary": {
           "aaxis": {
            "gridcolor": "white",
            "linecolor": "white",
            "ticks": ""
           },
           "baxis": {
            "gridcolor": "white",
            "linecolor": "white",
            "ticks": ""
           },
           "bgcolor": "#E5ECF6",
           "caxis": {
            "gridcolor": "white",
            "linecolor": "white",
            "ticks": ""
           }
          },
          "title": {
           "x": 0.05
          },
          "xaxis": {
           "automargin": true,
           "gridcolor": "white",
           "linecolor": "white",
           "ticks": "",
           "title": {
            "standoff": 15
           },
           "zerolinecolor": "white",
           "zerolinewidth": 2
          },
          "yaxis": {
           "automargin": true,
           "gridcolor": "white",
           "linecolor": "white",
           "ticks": "",
           "title": {
            "standoff": 15
           },
           "zerolinecolor": "white",
           "zerolinewidth": 2
          }
         }
        },
        "title": {
         "text": "Figure 4 - Top 10 by Address",
         "x": 0.5
        },
        "xaxis": {
         "title": {
          "text": "Address"
         }
        },
        "yaxis": {
         "title": {
          "text": "Number of Incidents"
         }
        }
       }
      },
      "text/html": [
       "<div>\n",
       "        \n",
       "        \n",
       "            <div id=\"a14c1528-ec7b-4151-b4b5-5029472b3c82\" class=\"plotly-graph-div\" style=\"height:525px; width:100%;\"></div>\n",
       "            <script type=\"text/javascript\">\n",
       "                require([\"plotly\"], function(Plotly) {\n",
       "                    window.PLOTLYENV=window.PLOTLYENV || {};\n",
       "                    \n",
       "                if (document.getElementById(\"a14c1528-ec7b-4151-b4b5-5029472b3c82\")) {\n",
       "                    Plotly.newPlot(\n",
       "                        'a14c1528-ec7b-4151-b4b5-5029472b3c82',\n",
       "                        [{\"marker\": {\"color\": [3561, 1405, 644, 547, 452, 448, 431, 399, 389, 382], \"colorscale\": [[0.0, \"rgb(12,51,131)\"], [0.25, \"rgb(10,136,186)\"], [0.5, \"rgb(242,211,56)\"], [0.75, \"rgb(242,143,56)\"], [1.0, \"rgb(217,30,30)\"]]}, \"text\": [3561.0, 1405.0, 644.0, 547.0, 452.0, 448.0, 431.0, 399.0, 389.0, 382.0], \"textposition\": \"outside\", \"type\": \"bar\", \"x\": [\"800 Block of BRYANT ST\", \"800 Block of MARKET ST\", \"1000 Block of POTRERO AV\", \"900 Block of MARKET ST\", \"0 Block of UNITEDNATIONS PZ\", \"500 Block of JOHNFKENNEDY DR\", \"3200 Block of 20TH AV\", \"600 Block of VALENCIA ST\", \"100 Block of OFARRELL ST\", \"1100 Block of FILLMORE ST\"], \"y\": [3561, 1405, 644, 547, 452, 448, 431, 399, 389, 382]}],\n",
       "                        {\"template\": {\"data\": {\"bar\": [{\"error_x\": {\"color\": \"#2a3f5f\"}, \"error_y\": {\"color\": \"#2a3f5f\"}, \"marker\": {\"line\": {\"color\": \"#E5ECF6\", \"width\": 0.5}}, \"type\": \"bar\"}], \"barpolar\": [{\"marker\": {\"line\": {\"color\": \"#E5ECF6\", \"width\": 0.5}}, \"type\": \"barpolar\"}], \"carpet\": [{\"aaxis\": {\"endlinecolor\": \"#2a3f5f\", \"gridcolor\": \"white\", \"linecolor\": \"white\", \"minorgridcolor\": \"white\", \"startlinecolor\": \"#2a3f5f\"}, \"baxis\": {\"endlinecolor\": \"#2a3f5f\", \"gridcolor\": \"white\", \"linecolor\": \"white\", \"minorgridcolor\": \"white\", \"startlinecolor\": \"#2a3f5f\"}, \"type\": \"carpet\"}], \"choropleth\": [{\"colorbar\": {\"outlinewidth\": 0, \"ticks\": \"\"}, \"type\": \"choropleth\"}], \"contour\": [{\"colorbar\": {\"outlinewidth\": 0, \"ticks\": \"\"}, \"colorscale\": [[0.0, \"#0d0887\"], [0.1111111111111111, \"#46039f\"], [0.2222222222222222, \"#7201a8\"], [0.3333333333333333, \"#9c179e\"], [0.4444444444444444, \"#bd3786\"], [0.5555555555555556, \"#d8576b\"], [0.6666666666666666, \"#ed7953\"], [0.7777777777777778, \"#fb9f3a\"], [0.8888888888888888, \"#fdca26\"], [1.0, \"#f0f921\"]], \"type\": \"contour\"}], \"contourcarpet\": [{\"colorbar\": {\"outlinewidth\": 0, \"ticks\": \"\"}, \"type\": \"contourcarpet\"}], \"heatmap\": [{\"colorbar\": {\"outlinewidth\": 0, \"ticks\": \"\"}, \"colorscale\": [[0.0, \"#0d0887\"], [0.1111111111111111, \"#46039f\"], [0.2222222222222222, \"#7201a8\"], [0.3333333333333333, \"#9c179e\"], [0.4444444444444444, \"#bd3786\"], [0.5555555555555556, \"#d8576b\"], [0.6666666666666666, \"#ed7953\"], [0.7777777777777778, \"#fb9f3a\"], [0.8888888888888888, \"#fdca26\"], [1.0, \"#f0f921\"]], \"type\": \"heatmap\"}], \"heatmapgl\": [{\"colorbar\": {\"outlinewidth\": 0, \"ticks\": \"\"}, \"colorscale\": [[0.0, \"#0d0887\"], [0.1111111111111111, \"#46039f\"], [0.2222222222222222, \"#7201a8\"], [0.3333333333333333, \"#9c179e\"], [0.4444444444444444, \"#bd3786\"], [0.5555555555555556, \"#d8576b\"], [0.6666666666666666, \"#ed7953\"], [0.7777777777777778, \"#fb9f3a\"], [0.8888888888888888, \"#fdca26\"], [1.0, \"#f0f921\"]], \"type\": \"heatmapgl\"}], \"histogram\": [{\"marker\": {\"colorbar\": {\"outlinewidth\": 0, \"ticks\": \"\"}}, \"type\": \"histogram\"}], \"histogram2d\": [{\"colorbar\": {\"outlinewidth\": 0, \"ticks\": \"\"}, \"colorscale\": [[0.0, \"#0d0887\"], [0.1111111111111111, \"#46039f\"], [0.2222222222222222, \"#7201a8\"], [0.3333333333333333, \"#9c179e\"], [0.4444444444444444, \"#bd3786\"], [0.5555555555555556, \"#d8576b\"], [0.6666666666666666, \"#ed7953\"], [0.7777777777777778, \"#fb9f3a\"], [0.8888888888888888, \"#fdca26\"], [1.0, \"#f0f921\"]], \"type\": \"histogram2d\"}], \"histogram2dcontour\": [{\"colorbar\": {\"outlinewidth\": 0, \"ticks\": \"\"}, \"colorscale\": [[0.0, \"#0d0887\"], [0.1111111111111111, \"#46039f\"], [0.2222222222222222, \"#7201a8\"], [0.3333333333333333, \"#9c179e\"], [0.4444444444444444, \"#bd3786\"], [0.5555555555555556, \"#d8576b\"], [0.6666666666666666, \"#ed7953\"], [0.7777777777777778, \"#fb9f3a\"], [0.8888888888888888, \"#fdca26\"], [1.0, \"#f0f921\"]], \"type\": \"histogram2dcontour\"}], \"mesh3d\": [{\"colorbar\": {\"outlinewidth\": 0, \"ticks\": \"\"}, \"type\": \"mesh3d\"}], \"parcoords\": [{\"line\": {\"colorbar\": {\"outlinewidth\": 0, \"ticks\": \"\"}}, \"type\": \"parcoords\"}], \"pie\": [{\"automargin\": true, \"type\": \"pie\"}], \"scatter\": [{\"marker\": {\"colorbar\": {\"outlinewidth\": 0, \"ticks\": \"\"}}, \"type\": \"scatter\"}], \"scatter3d\": [{\"line\": {\"colorbar\": {\"outlinewidth\": 0, \"ticks\": \"\"}}, \"marker\": {\"colorbar\": {\"outlinewidth\": 0, \"ticks\": \"\"}}, \"type\": \"scatter3d\"}], \"scattercarpet\": [{\"marker\": {\"colorbar\": {\"outlinewidth\": 0, \"ticks\": \"\"}}, \"type\": \"scattercarpet\"}], \"scattergeo\": [{\"marker\": {\"colorbar\": {\"outlinewidth\": 0, \"ticks\": \"\"}}, \"type\": \"scattergeo\"}], \"scattergl\": [{\"marker\": {\"colorbar\": {\"outlinewidth\": 0, \"ticks\": \"\"}}, \"type\": \"scattergl\"}], \"scattermapbox\": [{\"marker\": {\"colorbar\": {\"outlinewidth\": 0, \"ticks\": \"\"}}, \"type\": \"scattermapbox\"}], \"scatterpolar\": [{\"marker\": {\"colorbar\": {\"outlinewidth\": 0, \"ticks\": \"\"}}, \"type\": \"scatterpolar\"}], \"scatterpolargl\": [{\"marker\": {\"colorbar\": {\"outlinewidth\": 0, \"ticks\": \"\"}}, \"type\": \"scatterpolargl\"}], \"scatterternary\": [{\"marker\": {\"colorbar\": {\"outlinewidth\": 0, \"ticks\": \"\"}}, \"type\": \"scatterternary\"}], \"surface\": [{\"colorbar\": {\"outlinewidth\": 0, \"ticks\": \"\"}, \"colorscale\": [[0.0, \"#0d0887\"], [0.1111111111111111, \"#46039f\"], [0.2222222222222222, \"#7201a8\"], [0.3333333333333333, \"#9c179e\"], [0.4444444444444444, \"#bd3786\"], [0.5555555555555556, \"#d8576b\"], [0.6666666666666666, \"#ed7953\"], [0.7777777777777778, \"#fb9f3a\"], [0.8888888888888888, \"#fdca26\"], [1.0, \"#f0f921\"]], \"type\": \"surface\"}], \"table\": [{\"cells\": {\"fill\": {\"color\": \"#EBF0F8\"}, \"line\": {\"color\": \"white\"}}, \"header\": {\"fill\": {\"color\": \"#C8D4E3\"}, \"line\": {\"color\": \"white\"}}, \"type\": \"table\"}]}, \"layout\": {\"annotationdefaults\": {\"arrowcolor\": \"#2a3f5f\", \"arrowhead\": 0, \"arrowwidth\": 1}, \"coloraxis\": {\"colorbar\": {\"outlinewidth\": 0, \"ticks\": \"\"}}, \"colorscale\": {\"diverging\": [[0, \"#8e0152\"], [0.1, \"#c51b7d\"], [0.2, \"#de77ae\"], [0.3, \"#f1b6da\"], [0.4, \"#fde0ef\"], [0.5, \"#f7f7f7\"], [0.6, \"#e6f5d0\"], [0.7, \"#b8e186\"], [0.8, \"#7fbc41\"], [0.9, \"#4d9221\"], [1, \"#276419\"]], \"sequential\": [[0.0, \"#0d0887\"], [0.1111111111111111, \"#46039f\"], [0.2222222222222222, \"#7201a8\"], [0.3333333333333333, \"#9c179e\"], [0.4444444444444444, \"#bd3786\"], [0.5555555555555556, \"#d8576b\"], [0.6666666666666666, \"#ed7953\"], [0.7777777777777778, \"#fb9f3a\"], [0.8888888888888888, \"#fdca26\"], [1.0, \"#f0f921\"]], \"sequentialminus\": [[0.0, \"#0d0887\"], [0.1111111111111111, \"#46039f\"], [0.2222222222222222, \"#7201a8\"], [0.3333333333333333, \"#9c179e\"], [0.4444444444444444, \"#bd3786\"], [0.5555555555555556, \"#d8576b\"], [0.6666666666666666, \"#ed7953\"], [0.7777777777777778, \"#fb9f3a\"], [0.8888888888888888, \"#fdca26\"], [1.0, \"#f0f921\"]]}, \"colorway\": [\"#636efa\", \"#EF553B\", \"#00cc96\", \"#ab63fa\", \"#FFA15A\", \"#19d3f3\", \"#FF6692\", \"#B6E880\", \"#FF97FF\", \"#FECB52\"], \"font\": {\"color\": \"#2a3f5f\"}, \"geo\": {\"bgcolor\": \"white\", \"lakecolor\": \"white\", \"landcolor\": \"#E5ECF6\", \"showlakes\": true, \"showland\": true, \"subunitcolor\": \"white\"}, \"hoverlabel\": {\"align\": \"left\"}, \"hovermode\": \"closest\", \"mapbox\": {\"style\": \"light\"}, \"paper_bgcolor\": \"white\", \"plot_bgcolor\": \"#E5ECF6\", \"polar\": {\"angularaxis\": {\"gridcolor\": \"white\", \"linecolor\": \"white\", \"ticks\": \"\"}, \"bgcolor\": \"#E5ECF6\", \"radialaxis\": {\"gridcolor\": \"white\", \"linecolor\": \"white\", \"ticks\": \"\"}}, \"scene\": {\"xaxis\": {\"backgroundcolor\": \"#E5ECF6\", \"gridcolor\": \"white\", \"gridwidth\": 2, \"linecolor\": \"white\", \"showbackground\": true, \"ticks\": \"\", \"zerolinecolor\": \"white\"}, \"yaxis\": {\"backgroundcolor\": \"#E5ECF6\", \"gridcolor\": \"white\", \"gridwidth\": 2, \"linecolor\": \"white\", \"showbackground\": true, \"ticks\": \"\", \"zerolinecolor\": \"white\"}, \"zaxis\": {\"backgroundcolor\": \"#E5ECF6\", \"gridcolor\": \"white\", \"gridwidth\": 2, \"linecolor\": \"white\", \"showbackground\": true, \"ticks\": \"\", \"zerolinecolor\": \"white\"}}, \"shapedefaults\": {\"line\": {\"color\": \"#2a3f5f\"}}, \"ternary\": {\"aaxis\": {\"gridcolor\": \"white\", \"linecolor\": \"white\", \"ticks\": \"\"}, \"baxis\": {\"gridcolor\": \"white\", \"linecolor\": \"white\", \"ticks\": \"\"}, \"bgcolor\": \"#E5ECF6\", \"caxis\": {\"gridcolor\": \"white\", \"linecolor\": \"white\", \"ticks\": \"\"}}, \"title\": {\"x\": 0.05}, \"xaxis\": {\"automargin\": true, \"gridcolor\": \"white\", \"linecolor\": \"white\", \"ticks\": \"\", \"title\": {\"standoff\": 15}, \"zerolinecolor\": \"white\", \"zerolinewidth\": 2}, \"yaxis\": {\"automargin\": true, \"gridcolor\": \"white\", \"linecolor\": \"white\", \"ticks\": \"\", \"title\": {\"standoff\": 15}, \"zerolinecolor\": \"white\", \"zerolinewidth\": 2}}}, \"title\": {\"text\": \"Figure 4 - Top 10 by Address\", \"x\": 0.5}, \"xaxis\": {\"title\": {\"text\": \"Address\"}}, \"yaxis\": {\"title\": {\"text\": \"Number of Incidents\"}}},\n",
       "                        {\"responsive\": true}\n",
       "                    ).then(function(){\n",
       "                            \n",
       "var gd = document.getElementById('a14c1528-ec7b-4151-b4b5-5029472b3c82');\n",
       "var x = new MutationObserver(function (mutations, observer) {{\n",
       "        var display = window.getComputedStyle(gd).display;\n",
       "        if (!display || display === 'none') {{\n",
       "            console.log([gd, 'removed!']);\n",
       "            Plotly.purge(gd);\n",
       "            observer.disconnect();\n",
       "        }}\n",
       "}});\n",
       "\n",
       "// Listen for the removal of the full notebook cells\n",
       "var notebookContainer = gd.closest('#notebook-container');\n",
       "if (notebookContainer) {{\n",
       "    x.observe(notebookContainer, {childList: true});\n",
       "}}\n",
       "\n",
       "// Listen for the clearing of the current output cell\n",
       "var outputEl = gd.closest('.output');\n",
       "if (outputEl) {{\n",
       "    x.observe(outputEl, {childList: true});\n",
       "}}\n",
       "\n",
       "                        })\n",
       "                };\n",
       "                });\n",
       "            </script>\n",
       "        </div>"
      ]
     },
     "metadata": {},
     "output_type": "display_data"
    },
    {
     "data": {
      "image/png": "[encoded data removed]"
     },
     "metadata": {},
     "output_type": "display_data"
    }
   ],
   "source": [
    "# Plotting Top 10 by Time \n",
    "value = incidents['Address'].value_counts().round(0).nlargest(10)\n",
    "label = value.index\n",
    "trace = go.Bar(y=value, \n",
    "               x=label,text = value,textposition= \"outside\",\n",
    "               marker={'color': value,\n",
    "                   'colorscale': 'Portland'})\n",
    "layout = go.Layout(title=\"Figure 4 - Top 10 by Address\", \n",
    "                   xaxis={'title' : \"Address\"},\n",
    "                  yaxis={'title' : \"Number of Incidents\"},\n",
    "                  title_x=0.5)\n",
    "fig = go.Figure(data=trace, layout=layout)\n",
    "iplot(fig)\n",
    "fig.show('png')"
   ]
  },
  {
   "cell_type": "markdown",
   "metadata": {},
   "source": [
    "# Introduction to Folium <a id=\"4\"></a>"
   ]
  },
  {
   "cell_type": "markdown",
   "metadata": {},
   "source": [
    "<img src='folium.png' />"
   ]
  },
  {
   "cell_type": "markdown",
   "metadata": {},
   "source": [
    "Folium is a powerful Python library that helps you create several types of Leaflet maps. The fact that the Folium results are interactive makes this library very useful for dashboard building.\n",
    "\n",
    "From the official Folium documentation page:\n",
    "\n",
    "> Folium builds on the data wrangling strengths of the Python ecosystem and the mapping strengths of the Leaflet.js library. Manipulate your data in Python, then visualize it in on a Leaflet map via Folium.\n",
    "\n",
    "> Folium makes it easy to visualize data that's been manipulated in Python on an interactive Leaflet map. It enables both the binding of data to a map for choropleth visualizations as well as passing Vincent/Vega visualizations as markers on the map.\n",
    "\n",
    "> The library has a number of built-in tilesets from OpenStreetMap, Mapbox, and Stamen, and supports custom tilesets with Mapbox or Cloudmade API keys. Folium supports both GeoJSON and TopoJSON overlays, as well as the binding of data to those overlays to create choropleth maps with color-brewer color schemes."
   ]
  },
  {
   "cell_type": "code",
   "execution_count": 197,
   "metadata": {},
   "outputs": [
    {
     "data": {
      "text/html": [
       "\n",
       "        <script src=\"/static/components/requirejs/require.js\"></script>\n",
       "        <script>\n",
       "          requirejs.config({\n",
       "            paths: {\n",
       "              base: '/static/base',\n",
       "              plotly: 'https://cdn.plot.ly/plotly-latest.min.js?noext',\n",
       "            },\n",
       "          });\n",
       "        </script>\n",
       "        "
      ],
      "text/plain": [
       "<IPython.core.display.HTML object>"
      ]
     },
     "metadata": {},
     "output_type": "display_data"
    },
    {
     "data": {
      "text/html": [
       "\n",
       "        <script src=\"/static/components/requirejs/require.js\"></script>\n",
       "        <script>\n",
       "          requirejs.config({\n",
       "            paths: {\n",
       "              base: '/static/base',\n",
       "              plotly: 'https://cdn.plot.ly/plotly-latest.min.js?noext',\n",
       "            },\n",
       "          });\n",
       "        </script>\n",
       "        "
      ],
      "text/plain": [
       "<IPython.core.display.HTML object>"
      ]
     },
     "metadata": {},
     "output_type": "display_data"
    },
    {
     "data": {
      "text/html": [
       "\n",
       "        <script src=\"/static/components/requirejs/require.js\"></script>\n",
       "        <script>\n",
       "          requirejs.config({\n",
       "            paths: {\n",
       "              base: '/static/base',\n",
       "              plotly: 'https://cdn.plot.ly/plotly-latest.min.js?noext',\n",
       "            },\n",
       "          });\n",
       "        </script>\n",
       "        "
      ],
      "text/plain": [
       "<IPython.core.display.HTML object>"
      ]
     },
     "metadata": {},
     "output_type": "display_data"
    },
    {
     "data": {
      "text/html": [
       "\n",
       "        <script src=\"/static/components/requirejs/require.js\"></script>\n",
       "        <script>\n",
       "          requirejs.config({\n",
       "            paths: {\n",
       "              base: '/static/base',\n",
       "              plotly: 'https://cdn.plot.ly/plotly-latest.min.js?noext',\n",
       "            },\n",
       "          });\n",
       "        </script>\n",
       "        "
      ],
      "text/plain": [
       "<IPython.core.display.HTML object>"
      ]
     },
     "metadata": {},
     "output_type": "display_data"
    },
    {
     "data": {
      "text/html": [
       "\n",
       "        <script src=\"/static/components/requirejs/require.js\"></script>\n",
       "        <script>\n",
       "          requirejs.config({\n",
       "            paths: {\n",
       "              base: '/static/base',\n",
       "              plotly: 'https://cdn.plot.ly/plotly-latest.min.js?noext',\n",
       "            },\n",
       "          });\n",
       "        </script>\n",
       "        "
      ],
      "text/plain": [
       "<IPython.core.display.HTML object>"
      ]
     },
     "metadata": {},
     "output_type": "display_data"
    },
    {
     "data": {
      "text/html": [
       "\n",
       "        <script src=\"/static/components/requirejs/require.js\"></script>\n",
       "        <script>\n",
       "          requirejs.config({\n",
       "            paths: {\n",
       "              base: '/static/base',\n",
       "              plotly: 'https://cdn.plot.ly/plotly-latest.min.js?noext',\n",
       "            },\n",
       "          });\n",
       "        </script>\n",
       "        "
      ],
      "text/plain": [
       "<IPython.core.display.HTML object>"
      ]
     },
     "metadata": {},
     "output_type": "display_data"
    },
    {
     "data": {
      "text/html": [
       "\n",
       "        <script src=\"/static/components/requirejs/require.js\"></script>\n",
       "        <script>\n",
       "          requirejs.config({\n",
       "            paths: {\n",
       "              base: '/static/base',\n",
       "              plotly: 'https://cdn.plot.ly/plotly-latest.min.js?noext',\n",
       "            },\n",
       "          });\n",
       "        </script>\n",
       "        "
      ],
      "text/plain": [
       "<IPython.core.display.HTML object>"
      ]
     },
     "metadata": {},
     "output_type": "display_data"
    },
    {
     "data": {
      "text/html": [
       "\n",
       "        <script src=\"/static/components/requirejs/require.js\"></script>\n",
       "        <script>\n",
       "          requirejs.config({\n",
       "            paths: {\n",
       "              base: '/static/base',\n",
       "              plotly: 'https://cdn.plot.ly/plotly-latest.min.js?noext',\n",
       "            },\n",
       "          });\n",
       "        </script>\n",
       "        "
      ],
      "text/plain": [
       "<IPython.core.display.HTML object>"
      ]
     },
     "metadata": {},
     "output_type": "display_data"
    },
    {
     "data": {
      "text/html": [
       "\n",
       "        <script src=\"/static/components/requirejs/require.js\"></script>\n",
       "        <script>\n",
       "          requirejs.config({\n",
       "            paths: {\n",
       "              base: '/static/base',\n",
       "              plotly: 'https://cdn.plot.ly/plotly-latest.min.js?noext',\n",
       "            },\n",
       "          });\n",
       "        </script>\n",
       "        "
      ],
      "text/plain": [
       "<IPython.core.display.HTML object>"
      ]
     },
     "metadata": {},
     "output_type": "display_data"
    },
    {
     "data": {
      "text/html": [
       "\n",
       "        <script src=\"/static/components/requirejs/require.js\"></script>\n",
       "        <script>\n",
       "          requirejs.config({\n",
       "            paths: {\n",
       "              base: '/static/base',\n",
       "              plotly: 'https://cdn.plot.ly/plotly-latest.min.js?noext',\n",
       "            },\n",
       "          });\n",
       "        </script>\n",
       "        "
      ],
      "text/plain": [
       "<IPython.core.display.HTML object>"
      ]
     },
     "metadata": {},
     "output_type": "display_data"
    },
    {
     "data": {
      "text/html": [
       "\n",
       "        <script src=\"/static/components/requirejs/require.js\"></script>\n",
       "        <script>\n",
       "          requirejs.config({\n",
       "            paths: {\n",
       "              base: '/static/base',\n",
       "              plotly: 'https://cdn.plot.ly/plotly-latest.min.js?noext',\n",
       "            },\n",
       "          });\n",
       "        </script>\n",
       "        "
      ],
      "text/plain": [
       "<IPython.core.display.HTML object>"
      ]
     },
     "metadata": {},
     "output_type": "display_data"
    },
    {
     "data": {
      "text/html": [
       "\n",
       "        <script src=\"/static/components/requirejs/require.js\"></script>\n",
       "        <script>\n",
       "          requirejs.config({\n",
       "            paths: {\n",
       "              base: '/static/base',\n",
       "              plotly: 'https://cdn.plot.ly/plotly-latest.min.js?noext',\n",
       "            },\n",
       "          });\n",
       "        </script>\n",
       "        "
      ],
      "text/plain": [
       "<IPython.core.display.HTML object>"
      ]
     },
     "metadata": {},
     "output_type": "display_data"
    },
    {
     "data": {
      "text/html": [
       "\n",
       "        <script src=\"/static/components/requirejs/require.js\"></script>\n",
       "        <script>\n",
       "          requirejs.config({\n",
       "            paths: {\n",
       "              base: '/static/base',\n",
       "              plotly: 'https://cdn.plot.ly/plotly-latest.min.js?noext',\n",
       "            },\n",
       "          });\n",
       "        </script>\n",
       "        "
      ],
      "text/plain": [
       "<IPython.core.display.HTML object>"
      ]
     },
     "metadata": {},
     "output_type": "display_data"
    }
   ],
   "source": [
    "# San Francisco latitude and longitude values\n",
    "latitude = 37.77\n",
    "longitude = -122.42"
   ]
  },
  {
   "cell_type": "code",
   "execution_count": 198,
   "metadata": {},
   "outputs": [
    {
     "data": {
      "text/html": [
       "\n",
       "        <script src=\"/static/components/requirejs/require.js\"></script>\n",
       "        <script>\n",
       "          requirejs.config({\n",
       "            paths: {\n",
       "              base: '/static/base',\n",
       "              plotly: 'https://cdn.plot.ly/plotly-latest.min.js?noext',\n",
       "            },\n",
       "          });\n",
       "        </script>\n",
       "        "
      ],
      "text/plain": [
       "<IPython.core.display.HTML object>"
      ]
     },
     "metadata": {},
     "output_type": "display_data"
    },
    {
     "data": {
      "text/html": [
       "\n",
       "        <script src=\"/static/components/requirejs/require.js\"></script>\n",
       "        <script>\n",
       "          requirejs.config({\n",
       "            paths: {\n",
       "              base: '/static/base',\n",
       "              plotly: 'https://cdn.plot.ly/plotly-latest.min.js?noext',\n",
       "            },\n",
       "          });\n",
       "        </script>\n",
       "        "
      ],
      "text/plain": [
       "<IPython.core.display.HTML object>"
      ]
     },
     "metadata": {},
     "output_type": "display_data"
    },
    {
     "data": {
      "text/html": [
       "\n",
       "        <script src=\"/static/components/requirejs/require.js\"></script>\n",
       "        <script>\n",
       "          requirejs.config({\n",
       "            paths: {\n",
       "              base: '/static/base',\n",
       "              plotly: 'https://cdn.plot.ly/plotly-latest.min.js?noext',\n",
       "            },\n",
       "          });\n",
       "        </script>\n",
       "        "
      ],
      "text/plain": [
       "<IPython.core.display.HTML object>"
      ]
     },
     "metadata": {},
     "output_type": "display_data"
    },
    {
     "data": {
      "text/html": [
       "\n",
       "        <script src=\"/static/components/requirejs/require.js\"></script>\n",
       "        <script>\n",
       "          requirejs.config({\n",
       "            paths: {\n",
       "              base: '/static/base',\n",
       "              plotly: 'https://cdn.plot.ly/plotly-latest.min.js?noext',\n",
       "            },\n",
       "          });\n",
       "        </script>\n",
       "        "
      ],
      "text/plain": [
       "<IPython.core.display.HTML object>"
      ]
     },
     "metadata": {},
     "output_type": "display_data"
    },
    {
     "data": {
      "text/html": [
       "\n",
       "        <script src=\"/static/components/requirejs/require.js\"></script>\n",
       "        <script>\n",
       "          requirejs.config({\n",
       "            paths: {\n",
       "              base: '/static/base',\n",
       "              plotly: 'https://cdn.plot.ly/plotly-latest.min.js?noext',\n",
       "            },\n",
       "          });\n",
       "        </script>\n",
       "        "
      ],
      "text/plain": [
       "<IPython.core.display.HTML object>"
      ]
     },
     "metadata": {},
     "output_type": "display_data"
    },
    {
     "data": {
      "text/html": [
       "\n",
       "        <script src=\"/static/components/requirejs/require.js\"></script>\n",
       "        <script>\n",
       "          requirejs.config({\n",
       "            paths: {\n",
       "              base: '/static/base',\n",
       "              plotly: 'https://cdn.plot.ly/plotly-latest.min.js?noext',\n",
       "            },\n",
       "          });\n",
       "        </script>\n",
       "        "
      ],
      "text/plain": [
       "<IPython.core.display.HTML object>"
      ]
     },
     "metadata": {},
     "output_type": "display_data"
    },
    {
     "data": {
      "text/html": [
       "\n",
       "        <script src=\"/static/components/requirejs/require.js\"></script>\n",
       "        <script>\n",
       "          requirejs.config({\n",
       "            paths: {\n",
       "              base: '/static/base',\n",
       "              plotly: 'https://cdn.plot.ly/plotly-latest.min.js?noext',\n",
       "            },\n",
       "          });\n",
       "        </script>\n",
       "        "
      ],
      "text/plain": [
       "<IPython.core.display.HTML object>"
      ]
     },
     "metadata": {},
     "output_type": "display_data"
    },
    {
     "data": {
      "text/html": [
       "\n",
       "        <script src=\"/static/components/requirejs/require.js\"></script>\n",
       "        <script>\n",
       "          requirejs.config({\n",
       "            paths: {\n",
       "              base: '/static/base',\n",
       "              plotly: 'https://cdn.plot.ly/plotly-latest.min.js?noext',\n",
       "            },\n",
       "          });\n",
       "        </script>\n",
       "        "
      ],
      "text/plain": [
       "<IPython.core.display.HTML object>"
      ]
     },
     "metadata": {},
     "output_type": "display_data"
    },
    {
     "data": {
      "text/html": [
       "\n",
       "        <script src=\"/static/components/requirejs/require.js\"></script>\n",
       "        <script>\n",
       "          requirejs.config({\n",
       "            paths: {\n",
       "              base: '/static/base',\n",
       "              plotly: 'https://cdn.plot.ly/plotly-latest.min.js?noext',\n",
       "            },\n",
       "          });\n",
       "        </script>\n",
       "        "
      ],
      "text/plain": [
       "<IPython.core.display.HTML object>"
      ]
     },
     "metadata": {},
     "output_type": "display_data"
    },
    {
     "data": {
      "text/html": [
       "\n",
       "        <script src=\"/static/components/requirejs/require.js\"></script>\n",
       "        <script>\n",
       "          requirejs.config({\n",
       "            paths: {\n",
       "              base: '/static/base',\n",
       "              plotly: 'https://cdn.plot.ly/plotly-latest.min.js?noext',\n",
       "            },\n",
       "          });\n",
       "        </script>\n",
       "        "
      ],
      "text/plain": [
       "<IPython.core.display.HTML object>"
      ]
     },
     "metadata": {},
     "output_type": "display_data"
    },
    {
     "data": {
      "text/html": [
       "\n",
       "        <script src=\"/static/components/requirejs/require.js\"></script>\n",
       "        <script>\n",
       "          requirejs.config({\n",
       "            paths: {\n",
       "              base: '/static/base',\n",
       "              plotly: 'https://cdn.plot.ly/plotly-latest.min.js?noext',\n",
       "            },\n",
       "          });\n",
       "        </script>\n",
       "        "
      ],
      "text/plain": [
       "<IPython.core.display.HTML object>"
      ]
     },
     "metadata": {},
     "output_type": "display_data"
    },
    {
     "data": {
      "text/html": [
       "\n",
       "        <script src=\"/static/components/requirejs/require.js\"></script>\n",
       "        <script>\n",
       "          requirejs.config({\n",
       "            paths: {\n",
       "              base: '/static/base',\n",
       "              plotly: 'https://cdn.plot.ly/plotly-latest.min.js?noext',\n",
       "            },\n",
       "          });\n",
       "        </script>\n",
       "        "
      ],
      "text/plain": [
       "<IPython.core.display.HTML object>"
      ]
     },
     "metadata": {},
     "output_type": "display_data"
    },
    {
     "data": {
      "text/html": [
       "\n",
       "        <script src=\"/static/components/requirejs/require.js\"></script>\n",
       "        <script>\n",
       "          requirejs.config({\n",
       "            paths: {\n",
       "              base: '/static/base',\n",
       "              plotly: 'https://cdn.plot.ly/plotly-latest.min.js?noext',\n",
       "            },\n",
       "          });\n",
       "        </script>\n",
       "        "
      ],
      "text/plain": [
       "<IPython.core.display.HTML object>"
      ]
     },
     "metadata": {},
     "output_type": "display_data"
    }
   ],
   "source": [
    "# create map and display it\n",
    "sanfran_map = folium.Map(location=[latitude, longitude], zoom_start=13)\n",
    "\n",
    "# display the map of San Francisco\n",
    "sanfran_map\n",
    "\n",
    "\n",
    "html_string = sanfran_map.get_root (). render ()"
   ]
  },
  {
   "cell_type": "markdown",
   "metadata": {},
   "source": [
    "### Now let's superimpose the locations of the crimes onto the map. The way to do that in Folium is to create a feature group with its own features and style and then add it to the sanfran_map."
   ]
  },
  {
   "cell_type": "code",
   "execution_count": 199,
   "metadata": {},
   "outputs": [
    {
     "data": {
      "text/html": [
       "\n",
       "        <script src=\"/static/components/requirejs/require.js\"></script>\n",
       "        <script>\n",
       "          requirejs.config({\n",
       "            paths: {\n",
       "              base: '/static/base',\n",
       "              plotly: 'https://cdn.plot.ly/plotly-latest.min.js?noext',\n",
       "            },\n",
       "          });\n",
       "        </script>\n",
       "        "
      ],
      "text/plain": [
       "<IPython.core.display.HTML object>"
      ]
     },
     "metadata": {},
     "output_type": "display_data"
    },
    {
     "data": {
      "text/html": [
       "\n",
       "        <script src=\"/static/components/requirejs/require.js\"></script>\n",
       "        <script>\n",
       "          requirejs.config({\n",
       "            paths: {\n",
       "              base: '/static/base',\n",
       "              plotly: 'https://cdn.plot.ly/plotly-latest.min.js?noext',\n",
       "            },\n",
       "          });\n",
       "        </script>\n",
       "        "
      ],
      "text/plain": [
       "<IPython.core.display.HTML object>"
      ]
     },
     "metadata": {},
     "output_type": "display_data"
    },
    {
     "data": {
      "text/html": [
       "\n",
       "        <script src=\"/static/components/requirejs/require.js\"></script>\n",
       "        <script>\n",
       "          requirejs.config({\n",
       "            paths: {\n",
       "              base: '/static/base',\n",
       "              plotly: 'https://cdn.plot.ly/plotly-latest.min.js?noext',\n",
       "            },\n",
       "          });\n",
       "        </script>\n",
       "        "
      ],
      "text/plain": [
       "<IPython.core.display.HTML object>"
      ]
     },
     "metadata": {},
     "output_type": "display_data"
    },
    {
     "data": {
      "text/html": [
       "\n",
       "        <script src=\"/static/components/requirejs/require.js\"></script>\n",
       "        <script>\n",
       "          requirejs.config({\n",
       "            paths: {\n",
       "              base: '/static/base',\n",
       "              plotly: 'https://cdn.plot.ly/plotly-latest.min.js?noext',\n",
       "            },\n",
       "          });\n",
       "        </script>\n",
       "        "
      ],
      "text/plain": [
       "<IPython.core.display.HTML object>"
      ]
     },
     "metadata": {},
     "output_type": "display_data"
    },
    {
     "data": {
      "text/html": [
       "\n",
       "        <script src=\"/static/components/requirejs/require.js\"></script>\n",
       "        <script>\n",
       "          requirejs.config({\n",
       "            paths: {\n",
       "              base: '/static/base',\n",
       "              plotly: 'https://cdn.plot.ly/plotly-latest.min.js?noext',\n",
       "            },\n",
       "          });\n",
       "        </script>\n",
       "        "
      ],
      "text/plain": [
       "<IPython.core.display.HTML object>"
      ]
     },
     "metadata": {},
     "output_type": "display_data"
    },
    {
     "data": {
      "text/html": [
       "\n",
       "        <script src=\"/static/components/requirejs/require.js\"></script>\n",
       "        <script>\n",
       "          requirejs.config({\n",
       "            paths: {\n",
       "              base: '/static/base',\n",
       "              plotly: 'https://cdn.plot.ly/plotly-latest.min.js?noext',\n",
       "            },\n",
       "          });\n",
       "        </script>\n",
       "        "
      ],
      "text/plain": [
       "<IPython.core.display.HTML object>"
      ]
     },
     "metadata": {},
     "output_type": "display_data"
    },
    {
     "data": {
      "text/html": [
       "\n",
       "        <script src=\"/static/components/requirejs/require.js\"></script>\n",
       "        <script>\n",
       "          requirejs.config({\n",
       "            paths: {\n",
       "              base: '/static/base',\n",
       "              plotly: 'https://cdn.plot.ly/plotly-latest.min.js?noext',\n",
       "            },\n",
       "          });\n",
       "        </script>\n",
       "        "
      ],
      "text/plain": [
       "<IPython.core.display.HTML object>"
      ]
     },
     "metadata": {},
     "output_type": "display_data"
    },
    {
     "data": {
      "text/html": [
       "\n",
       "        <script src=\"/static/components/requirejs/require.js\"></script>\n",
       "        <script>\n",
       "          requirejs.config({\n",
       "            paths: {\n",
       "              base: '/static/base',\n",
       "              plotly: 'https://cdn.plot.ly/plotly-latest.min.js?noext',\n",
       "            },\n",
       "          });\n",
       "        </script>\n",
       "        "
      ],
      "text/plain": [
       "<IPython.core.display.HTML object>"
      ]
     },
     "metadata": {},
     "output_type": "display_data"
    },
    {
     "data": {
      "text/html": [
       "\n",
       "        <script src=\"/static/components/requirejs/require.js\"></script>\n",
       "        <script>\n",
       "          requirejs.config({\n",
       "            paths: {\n",
       "              base: '/static/base',\n",
       "              plotly: 'https://cdn.plot.ly/plotly-latest.min.js?noext',\n",
       "            },\n",
       "          });\n",
       "        </script>\n",
       "        "
      ],
      "text/plain": [
       "<IPython.core.display.HTML object>"
      ]
     },
     "metadata": {},
     "output_type": "display_data"
    },
    {
     "data": {
      "text/html": [
       "\n",
       "        <script src=\"/static/components/requirejs/require.js\"></script>\n",
       "        <script>\n",
       "          requirejs.config({\n",
       "            paths: {\n",
       "              base: '/static/base',\n",
       "              plotly: 'https://cdn.plot.ly/plotly-latest.min.js?noext',\n",
       "            },\n",
       "          });\n",
       "        </script>\n",
       "        "
      ],
      "text/plain": [
       "<IPython.core.display.HTML object>"
      ]
     },
     "metadata": {},
     "output_type": "display_data"
    },
    {
     "data": {
      "text/html": [
       "\n",
       "        <script src=\"/static/components/requirejs/require.js\"></script>\n",
       "        <script>\n",
       "          requirejs.config({\n",
       "            paths: {\n",
       "              base: '/static/base',\n",
       "              plotly: 'https://cdn.plot.ly/plotly-latest.min.js?noext',\n",
       "            },\n",
       "          });\n",
       "        </script>\n",
       "        "
      ],
      "text/plain": [
       "<IPython.core.display.HTML object>"
      ]
     },
     "metadata": {},
     "output_type": "display_data"
    },
    {
     "data": {
      "text/html": [
       "\n",
       "        <script src=\"/static/components/requirejs/require.js\"></script>\n",
       "        <script>\n",
       "          requirejs.config({\n",
       "            paths: {\n",
       "              base: '/static/base',\n",
       "              plotly: 'https://cdn.plot.ly/plotly-latest.min.js?noext',\n",
       "            },\n",
       "          });\n",
       "        </script>\n",
       "        "
      ],
      "text/plain": [
       "<IPython.core.display.HTML object>"
      ]
     },
     "metadata": {},
     "output_type": "display_data"
    },
    {
     "data": {
      "text/html": [
       "\n",
       "        <script src=\"/static/components/requirejs/require.js\"></script>\n",
       "        <script>\n",
       "          requirejs.config({\n",
       "            paths: {\n",
       "              base: '/static/base',\n",
       "              plotly: 'https://cdn.plot.ly/plotly-latest.min.js?noext',\n",
       "            },\n",
       "          });\n",
       "        </script>\n",
       "        "
      ],
      "text/plain": [
       "<IPython.core.display.HTML object>"
      ]
     },
     "metadata": {},
     "output_type": "display_data"
    }
   ],
   "source": [
    "# get the first 100 crimes in the df_incidents dataframe\n",
    "limit = 100\n",
    "incidents = incidents.iloc[0:limit, :]"
   ]
  },
  {
   "cell_type": "code",
   "execution_count": 200,
   "metadata": {},
   "outputs": [
    {
     "data": {
      "text/html": [
       "\n",
       "        <script src=\"/static/components/requirejs/require.js\"></script>\n",
       "        <script>\n",
       "          requirejs.config({\n",
       "            paths: {\n",
       "              base: '/static/base',\n",
       "              plotly: 'https://cdn.plot.ly/plotly-latest.min.js?noext',\n",
       "            },\n",
       "          });\n",
       "        </script>\n",
       "        "
      ],
      "text/plain": [
       "<IPython.core.display.HTML object>"
      ]
     },
     "metadata": {},
     "output_type": "display_data"
    },
    {
     "data": {
      "text/html": [
       "\n",
       "        <script src=\"/static/components/requirejs/require.js\"></script>\n",
       "        <script>\n",
       "          requirejs.config({\n",
       "            paths: {\n",
       "              base: '/static/base',\n",
       "              plotly: 'https://cdn.plot.ly/plotly-latest.min.js?noext',\n",
       "            },\n",
       "          });\n",
       "        </script>\n",
       "        "
      ],
      "text/plain": [
       "<IPython.core.display.HTML object>"
      ]
     },
     "metadata": {},
     "output_type": "display_data"
    },
    {
     "data": {
      "text/html": [
       "\n",
       "        <script src=\"/static/components/requirejs/require.js\"></script>\n",
       "        <script>\n",
       "          requirejs.config({\n",
       "            paths: {\n",
       "              base: '/static/base',\n",
       "              plotly: 'https://cdn.plot.ly/plotly-latest.min.js?noext',\n",
       "            },\n",
       "          });\n",
       "        </script>\n",
       "        "
      ],
      "text/plain": [
       "<IPython.core.display.HTML object>"
      ]
     },
     "metadata": {},
     "output_type": "display_data"
    },
    {
     "data": {
      "text/html": [
       "\n",
       "        <script src=\"/static/components/requirejs/require.js\"></script>\n",
       "        <script>\n",
       "          requirejs.config({\n",
       "            paths: {\n",
       "              base: '/static/base',\n",
       "              plotly: 'https://cdn.plot.ly/plotly-latest.min.js?noext',\n",
       "            },\n",
       "          });\n",
       "        </script>\n",
       "        "
      ],
      "text/plain": [
       "<IPython.core.display.HTML object>"
      ]
     },
     "metadata": {},
     "output_type": "display_data"
    },
    {
     "data": {
      "text/html": [
       "\n",
       "        <script src=\"/static/components/requirejs/require.js\"></script>\n",
       "        <script>\n",
       "          requirejs.config({\n",
       "            paths: {\n",
       "              base: '/static/base',\n",
       "              plotly: 'https://cdn.plot.ly/plotly-latest.min.js?noext',\n",
       "            },\n",
       "          });\n",
       "        </script>\n",
       "        "
      ],
      "text/plain": [
       "<IPython.core.display.HTML object>"
      ]
     },
     "metadata": {},
     "output_type": "display_data"
    },
    {
     "data": {
      "text/html": [
       "\n",
       "        <script src=\"/static/components/requirejs/require.js\"></script>\n",
       "        <script>\n",
       "          requirejs.config({\n",
       "            paths: {\n",
       "              base: '/static/base',\n",
       "              plotly: 'https://cdn.plot.ly/plotly-latest.min.js?noext',\n",
       "            },\n",
       "          });\n",
       "        </script>\n",
       "        "
      ],
      "text/plain": [
       "<IPython.core.display.HTML object>"
      ]
     },
     "metadata": {},
     "output_type": "display_data"
    },
    {
     "data": {
      "text/html": [
       "\n",
       "        <script src=\"/static/components/requirejs/require.js\"></script>\n",
       "        <script>\n",
       "          requirejs.config({\n",
       "            paths: {\n",
       "              base: '/static/base',\n",
       "              plotly: 'https://cdn.plot.ly/plotly-latest.min.js?noext',\n",
       "            },\n",
       "          });\n",
       "        </script>\n",
       "        "
      ],
      "text/plain": [
       "<IPython.core.display.HTML object>"
      ]
     },
     "metadata": {},
     "output_type": "display_data"
    },
    {
     "data": {
      "text/html": [
       "\n",
       "        <script src=\"/static/components/requirejs/require.js\"></script>\n",
       "        <script>\n",
       "          requirejs.config({\n",
       "            paths: {\n",
       "              base: '/static/base',\n",
       "              plotly: 'https://cdn.plot.ly/plotly-latest.min.js?noext',\n",
       "            },\n",
       "          });\n",
       "        </script>\n",
       "        "
      ],
      "text/plain": [
       "<IPython.core.display.HTML object>"
      ]
     },
     "metadata": {},
     "output_type": "display_data"
    },
    {
     "data": {
      "text/html": [
       "\n",
       "        <script src=\"/static/components/requirejs/require.js\"></script>\n",
       "        <script>\n",
       "          requirejs.config({\n",
       "            paths: {\n",
       "              base: '/static/base',\n",
       "              plotly: 'https://cdn.plot.ly/plotly-latest.min.js?noext',\n",
       "            },\n",
       "          });\n",
       "        </script>\n",
       "        "
      ],
      "text/plain": [
       "<IPython.core.display.HTML object>"
      ]
     },
     "metadata": {},
     "output_type": "display_data"
    },
    {
     "data": {
      "text/html": [
       "\n",
       "        <script src=\"/static/components/requirejs/require.js\"></script>\n",
       "        <script>\n",
       "          requirejs.config({\n",
       "            paths: {\n",
       "              base: '/static/base',\n",
       "              plotly: 'https://cdn.plot.ly/plotly-latest.min.js?noext',\n",
       "            },\n",
       "          });\n",
       "        </script>\n",
       "        "
      ],
      "text/plain": [
       "<IPython.core.display.HTML object>"
      ]
     },
     "metadata": {},
     "output_type": "display_data"
    },
    {
     "data": {
      "text/html": [
       "\n",
       "        <script src=\"/static/components/requirejs/require.js\"></script>\n",
       "        <script>\n",
       "          requirejs.config({\n",
       "            paths: {\n",
       "              base: '/static/base',\n",
       "              plotly: 'https://cdn.plot.ly/plotly-latest.min.js?noext',\n",
       "            },\n",
       "          });\n",
       "        </script>\n",
       "        "
      ],
      "text/plain": [
       "<IPython.core.display.HTML object>"
      ]
     },
     "metadata": {},
     "output_type": "display_data"
    },
    {
     "data": {
      "text/html": [
       "\n",
       "        <script src=\"/static/components/requirejs/require.js\"></script>\n",
       "        <script>\n",
       "          requirejs.config({\n",
       "            paths: {\n",
       "              base: '/static/base',\n",
       "              plotly: 'https://cdn.plot.ly/plotly-latest.min.js?noext',\n",
       "            },\n",
       "          });\n",
       "        </script>\n",
       "        "
      ],
      "text/plain": [
       "<IPython.core.display.HTML object>"
      ]
     },
     "metadata": {},
     "output_type": "display_data"
    },
    {
     "data": {
      "text/html": [
       "\n",
       "        <script src=\"/static/components/requirejs/require.js\"></script>\n",
       "        <script>\n",
       "          requirejs.config({\n",
       "            paths: {\n",
       "              base: '/static/base',\n",
       "              plotly: 'https://cdn.plot.ly/plotly-latest.min.js?noext',\n",
       "            },\n",
       "          });\n",
       "        </script>\n",
       "        "
      ],
      "text/plain": [
       "<IPython.core.display.HTML object>"
      ]
     },
     "metadata": {},
     "output_type": "display_data"
    },
    {
     "data": {
      "text/html": [
       "<div style=\"width:100%;\"><div style=\"position:relative;width:100%;height:0;padding-bottom:60%;\"><iframe src=\"data:text/html;charset=utf-8;base64,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\" style=\"position:absolute;width:100%;height:100%;left:0;top:0;border:none !important;\" allowfullscreen webkitallowfullscreen mozallowfullscreen></iframe></div></div>"
      ],
      "text/plain": [
       "<folium.folium.Map at 0x1ddcf14ee08>"
      ]
     },
     "execution_count": 200,
     "metadata": {},
     "output_type": "execute_result"
    }
   ],
   "source": [
    "# instantiate a feature group for the incidents in the dataframe\n",
    "incidents_place = folium.map.FeatureGroup()\n",
    "\n",
    "# loop through the 100 crimes and add each to the incidents feature group\n",
    "for lat, lng, in zip(incidents.Y, incidents.X):\n",
    "    incidents_place.add_child(\n",
    "        folium.CircleMarker(\n",
    "            [lat, lng],\n",
    "            radius=5, # define how big you want the circle markers to be\n",
    "            color='yellow',\n",
    "            fill=True,\n",
    "            fill_color='blue',\n",
    "            fill_opacity=0.6\n",
    "        )\n",
    "    )\n",
    "\n",
    "# add incidents to map\n",
    "sanfran_map.add_child(incidents_place)"
   ]
  },
  {
   "cell_type": "markdown",
   "metadata": {},
   "source": [
    "### Adding a pop-up text that will be displayed when we hover over a marker.<br>\n",
    "### Making each marker display the category of the crime when flown over."
   ]
  },
  {
   "cell_type": "code",
   "execution_count": 201,
   "metadata": {},
   "outputs": [
    {
     "data": {
      "text/html": [
       "\n",
       "        <script src=\"/static/components/requirejs/require.js\"></script>\n",
       "        <script>\n",
       "          requirejs.config({\n",
       "            paths: {\n",
       "              base: '/static/base',\n",
       "              plotly: 'https://cdn.plot.ly/plotly-latest.min.js?noext',\n",
       "            },\n",
       "          });\n",
       "        </script>\n",
       "        "
      ],
      "text/plain": [
       "<IPython.core.display.HTML object>"
      ]
     },
     "metadata": {},
     "output_type": "display_data"
    },
    {
     "data": {
      "text/html": [
       "\n",
       "        <script src=\"/static/components/requirejs/require.js\"></script>\n",
       "        <script>\n",
       "          requirejs.config({\n",
       "            paths: {\n",
       "              base: '/static/base',\n",
       "              plotly: 'https://cdn.plot.ly/plotly-latest.min.js?noext',\n",
       "            },\n",
       "          });\n",
       "        </script>\n",
       "        "
      ],
      "text/plain": [
       "<IPython.core.display.HTML object>"
      ]
     },
     "metadata": {},
     "output_type": "display_data"
    },
    {
     "data": {
      "text/html": [
       "\n",
       "        <script src=\"/static/components/requirejs/require.js\"></script>\n",
       "        <script>\n",
       "          requirejs.config({\n",
       "            paths: {\n",
       "              base: '/static/base',\n",
       "              plotly: 'https://cdn.plot.ly/plotly-latest.min.js?noext',\n",
       "            },\n",
       "          });\n",
       "        </script>\n",
       "        "
      ],
      "text/plain": [
       "<IPython.core.display.HTML object>"
      ]
     },
     "metadata": {},
     "output_type": "display_data"
    },
    {
     "data": {
      "text/html": [
       "\n",
       "        <script src=\"/static/components/requirejs/require.js\"></script>\n",
       "        <script>\n",
       "          requirejs.config({\n",
       "            paths: {\n",
       "              base: '/static/base',\n",
       "              plotly: 'https://cdn.plot.ly/plotly-latest.min.js?noext',\n",
       "            },\n",
       "          });\n",
       "        </script>\n",
       "        "
      ],
      "text/plain": [
       "<IPython.core.display.HTML object>"
      ]
     },
     "metadata": {},
     "output_type": "display_data"
    },
    {
     "data": {
      "text/html": [
       "\n",
       "        <script src=\"/static/components/requirejs/require.js\"></script>\n",
       "        <script>\n",
       "          requirejs.config({\n",
       "            paths: {\n",
       "              base: '/static/base',\n",
       "              plotly: 'https://cdn.plot.ly/plotly-latest.min.js?noext',\n",
       "            },\n",
       "          });\n",
       "        </script>\n",
       "        "
      ],
      "text/plain": [
       "<IPython.core.display.HTML object>"
      ]
     },
     "metadata": {},
     "output_type": "display_data"
    },
    {
     "data": {
      "text/html": [
       "\n",
       "        <script src=\"/static/components/requirejs/require.js\"></script>\n",
       "        <script>\n",
       "          requirejs.config({\n",
       "            paths: {\n",
       "              base: '/static/base',\n",
       "              plotly: 'https://cdn.plot.ly/plotly-latest.min.js?noext',\n",
       "            },\n",
       "          });\n",
       "        </script>\n",
       "        "
      ],
      "text/plain": [
       "<IPython.core.display.HTML object>"
      ]
     },
     "metadata": {},
     "output_type": "display_data"
    },
    {
     "data": {
      "text/html": [
       "\n",
       "        <script src=\"/static/components/requirejs/require.js\"></script>\n",
       "        <script>\n",
       "          requirejs.config({\n",
       "            paths: {\n",
       "              base: '/static/base',\n",
       "              plotly: 'https://cdn.plot.ly/plotly-latest.min.js?noext',\n",
       "            },\n",
       "          });\n",
       "        </script>\n",
       "        "
      ],
      "text/plain": [
       "<IPython.core.display.HTML object>"
      ]
     },
     "metadata": {},
     "output_type": "display_data"
    },
    {
     "data": {
      "text/html": [
       "\n",
       "        <script src=\"/static/components/requirejs/require.js\"></script>\n",
       "        <script>\n",
       "          requirejs.config({\n",
       "            paths: {\n",
       "              base: '/static/base',\n",
       "              plotly: 'https://cdn.plot.ly/plotly-latest.min.js?noext',\n",
       "            },\n",
       "          });\n",
       "        </script>\n",
       "        "
      ],
      "text/plain": [
       "<IPython.core.display.HTML object>"
      ]
     },
     "metadata": {},
     "output_type": "display_data"
    },
    {
     "data": {
      "text/html": [
       "\n",
       "        <script src=\"/static/components/requirejs/require.js\"></script>\n",
       "        <script>\n",
       "          requirejs.config({\n",
       "            paths: {\n",
       "              base: '/static/base',\n",
       "              plotly: 'https://cdn.plot.ly/plotly-latest.min.js?noext',\n",
       "            },\n",
       "          });\n",
       "        </script>\n",
       "        "
      ],
      "text/plain": [
       "<IPython.core.display.HTML object>"
      ]
     },
     "metadata": {},
     "output_type": "display_data"
    },
    {
     "data": {
      "text/html": [
       "\n",
       "        <script src=\"/static/components/requirejs/require.js\"></script>\n",
       "        <script>\n",
       "          requirejs.config({\n",
       "            paths: {\n",
       "              base: '/static/base',\n",
       "              plotly: 'https://cdn.plot.ly/plotly-latest.min.js?noext',\n",
       "            },\n",
       "          });\n",
       "        </script>\n",
       "        "
      ],
      "text/plain": [
       "<IPython.core.display.HTML object>"
      ]
     },
     "metadata": {},
     "output_type": "display_data"
    },
    {
     "data": {
      "text/html": [
       "\n",
       "        <script src=\"/static/components/requirejs/require.js\"></script>\n",
       "        <script>\n",
       "          requirejs.config({\n",
       "            paths: {\n",
       "              base: '/static/base',\n",
       "              plotly: 'https://cdn.plot.ly/plotly-latest.min.js?noext',\n",
       "            },\n",
       "          });\n",
       "        </script>\n",
       "        "
      ],
      "text/plain": [
       "<IPython.core.display.HTML object>"
      ]
     },
     "metadata": {},
     "output_type": "display_data"
    },
    {
     "data": {
      "text/html": [
       "\n",
       "        <script src=\"/static/components/requirejs/require.js\"></script>\n",
       "        <script>\n",
       "          requirejs.config({\n",
       "            paths: {\n",
       "              base: '/static/base',\n",
       "              plotly: 'https://cdn.plot.ly/plotly-latest.min.js?noext',\n",
       "            },\n",
       "          });\n",
       "        </script>\n",
       "        "
      ],
      "text/plain": [
       "<IPython.core.display.HTML object>"
      ]
     },
     "metadata": {},
     "output_type": "display_data"
    },
    {
     "data": {
      "text/html": [
       "\n",
       "        <script src=\"/static/components/requirejs/require.js\"></script>\n",
       "        <script>\n",
       "          requirejs.config({\n",
       "            paths: {\n",
       "              base: '/static/base',\n",
       "              plotly: 'https://cdn.plot.ly/plotly-latest.min.js?noext',\n",
       "            },\n",
       "          });\n",
       "        </script>\n",
       "        "
      ],
      "text/plain": [
       "<IPython.core.display.HTML object>"
      ]
     },
     "metadata": {},
     "output_type": "display_data"
    },
    {
     "data": {
      "text/html": [
       "<div style=\"width:100%;\"><div style=\"position:relative;width:100%;height:0;padding-bottom:60%;\"><iframe src=\"data:text/html;charset=utf-8;base64,PCFET0NUWVBFIGh0bWw+CjxoZWFkPiAgICAKICAgIDxtZXRhIGh0dHAtZXF1aXY9ImNvbnRlbnQtdHlwZSIgY29udGVudD0idGV4dC9odG1sOyBjaGFyc2V0PVVURi04IiAvPgogICAgCiAgICAgICAgPHNjcmlwdD4KICAgICAgICAgICAgTF9OT19UT1VDSCA9IGZhbHNlOwogICAgICAgICAgICBMX0RJU0FCTEVfM0QgPSBmYWxzZTsKICAgICAgICA8L3NjcmlwdD4KICAgIAogICAgPHNjcmlwdCBzcmM9Imh0dHBzOi8vY2RuLmpzZGVsaXZyLm5ldC9ucG0vbGVhZmxldEAxLjUuMS9kaXN0L2xlYWZsZXQuanMiPjwvc2NyaXB0PgogICAgPHNjcmlwdCBzcmM9Imh0dHBzOi8vY29kZS5qcXVlcnkuY29tL2pxdWVyeS0xLjEyLjQubWluLmpzIj48L3NjcmlwdD4KICAgIDxzY3JpcHQgc3JjPSJodHRwczovL21heGNkbi5ib290c3RyYXBjZG4uY29tL2Jvb3RzdHJhcC8zLjIuMC9qcy9ib290c3RyYXAubWluLmpzIj48L3NjcmlwdD4KICAgIDxzY3JpcHQgc3JjPSJodHRwczovL2NkbmpzLmNsb3VkZmxhcmUuY29tL2FqYXgvbGlicy9MZWFmbGV0LmF3ZXNvbWUtbWFya2Vycy8yLjAuMi9sZWFmbGV0LmF3ZXNvbWUtbWFya2Vycy5qcyI+PC9zY3JpcHQ+CiAgICA8bGluayByZWw9InN0eWxlc2hlZXQiIGhyZWY9Imh0dHBzOi8vY2RuLmpzZGVsaXZyLm5ldC9ucG0vbGVhZmxldEAxLjUuMS9kaXN0L2xlYWZsZXQuY3NzIi8+CiAgICA8bGluayByZWw9InN0eWxlc2hlZXQiIGhyZWY9Imh0dHBzOi8vbWF4Y2RuLmJvb3RzdHJhcGNkbi5jb20vYm9vdHN0cmFwLzMuMi4wL2Nzcy9ib290c3RyYXAubWluLmNzcyIvPgogICAgPGxpbmsgcmVsPSJzdHlsZXNoZWV0IiBocmVmPSJodHRwczovL21heGNkbi5ib290c3RyYXBjZG4uY29tL2Jvb3RzdHJhcC8zLjIuMC9jc3MvYm9vdHN0cmFwLXRoZW1lLm1pbi5jc3MiLz4KICAgIDxsaW5rIHJlbD0ic3R5bGVzaGVldCIgaHJlZj0iaHR0cHM6Ly9tYXhjZG4uYm9vdHN0cmFwY2RuLmNvbS9mb250LWF3ZXNvbWUvNC42LjMvY3NzL2ZvbnQtYXdlc29tZS5taW4uY3NzIi8+CiAgICA8bGluayByZWw9InN0eWxlc2hlZXQiIGhyZWY9Imh0dHBzOi8vY2RuanMuY2xvdWRmbGFyZS5jb20vYWpheC9saWJzL0xlYWZsZXQuYXdlc29tZS1tYXJrZXJzLzIuMC4yL2xlYWZsZXQuYXdlc29tZS1tYXJrZXJzLmNzcyIvPgogICAgPGxpbmsgcmVsPSJzdHlsZXNoZWV0IiBocmVmPSJodHRwczovL3Jhd2Nkbi5naXRoYWNrLmNvbS9weXRob24tdmlzdWFsaXphdGlvbi9mb2xpdW0vbWFzdGVyL2ZvbGl1bS90ZW1wbGF0ZXMvbGVhZmxldC5hd2Vzb21lLnJvdGF0ZS5jc3MiLz4KICAgIDxzdHlsZT5odG1sLCBib2R5IHt3aWR0aDogMTAwJTtoZWlnaHQ6IDEwMCU7bWFyZ2luOiAwO3BhZGRpbmc6IDA7fTwvc3R5bGU+CiAgICA8c3R5bGU+I21hcCB7cG9zaXRpb246YWJzb2x1dGU7dG9wOjA7Ym90dG9tOjA7cmlnaHQ6MDtsZWZ0OjA7fTwvc3R5bGU+CiAgICAKICAgICAgICAgICAgPG1ldGEgbmFtZT0idmlld3BvcnQiIGNvbnRlbnQ9IndpZHRoPWRldmljZS13aWR0aCwKICAgICAgICAgICAgICAgIGluaXRpYWwtc2NhbGU9MS4wLCBtYXhpbXVtLXNjYWxlPTEuMCwgdXNlci1zY2FsYWJsZT1ubyIgLz4KICAgICAgICAgICAgPHN0eWxlPgogICAgICAgICAgICAgICAgI21hcF8wNGNmMmJjMzc1ODM0YjM5OGZkMzhhNjQwM2IzMWMyZCB7CiAgICAgICAgICAgICAgICAgICAgcG9zaXRpb246IHJlbGF0aXZlOwogICAgICAgICAgICAgICAgICAgIHdpZHRoOiAxMDAuMCU7CiAgICAgICAgICAgICAgICAgICAgaGVpZ2h0OiAxMDAuMCU7CiAgICAgICAgICAgICAgICAgICAgbGVmdDogMC4wJTsKICAgICAgICAgICAgICAgICAgICB0b3A6IDAuMCU7CiAgICAgICAgICAgICAgICB9CiAgICAgICAgICAgIDwvc3R5bGU+CiAgICAgICAgCjwvaGVhZD4KPGJvZHk+ICAgIAogICAgCiAgICAgICAgICAgIDxkaXYgY2xhc3M9ImZvbGl1bS1tYXAiIGlkPSJtYXBfMDRjZjJiYzM3NTgzNGIzOThmZDM4YTY0MDNiMzFjMmQiID48L2Rpdj4KICAgICAgICAKPC9ib2R5Pgo8c2NyaXB0PiAgICAKICAgIAogICAgICAgICAgICB2YXIgbWFwXzA0Y2YyYmMzNzU4MzRiMzk4ZmQzOGE2NDAzYjMxYzJkID0gTC5tYXAoCiAgICAgICAgICAgICAgICAibWFwXzA0Y2YyYmMzNzU4MzRiMzk4ZmQzOGE2NDAzYjMxYzJkIiwKICAgICAgICAgICAgICAgIHsKICAgICAgICAgICAgICAgICAgICBjZW50ZXI6IFszNy43NywgLTEyMi40Ml0sCiAgICAgICAgICAgICAgICAgICAgY3JzOiBMLkNSUy5FUFNHMzg1NywKICAgICAgICAgICAgICAgICAgICB6b29tOiAxMywKICAgICAgICAgICAgICAgICAgICB6b29tQ29udHJvbDogdHJ1ZSwKICAgICAgICAgICAgICAgICAgICBwcmVmZXJDYW52YXM6IGZhbHNlLAogICAgICAgICAgICAgICAgfQogICAgICAgICAgICApOwoKICAgICAgICAgICAgCgogICAgICAgIAogICAgCiAgICAgICAgICAgIHZhciB0aWxlX2xheWVyX2EzNThlYjI1YzgzZTRlYTVhNjZkMzU5ZDRhMDhiMGQzID0gTC50aWxlTGF5ZXIoCiAgICAgICAgICAgICAgICAiaHR0cHM6Ly97c30udGlsZS5vcGVuc3RyZWV0bWFwLm9yZy97en0ve3h9L3t5fS5wbmciLAogICAgICAgICAgICAgICAgeyJhdHRyaWJ1dGlvbiI6ICJEYXRhIGJ5IFx1MDAyNmNvcHk7IFx1MDAzY2EgaHJlZj1cImh0dHA6Ly9vcGVuc3RyZWV0bWFwLm9yZ1wiXHUwMDNlT3BlblN0cmVldE1hcFx1MDAzYy9hXHUwMDNlLCB1bmRlciBcdTAwM2NhIGhyZWY9XCJodHRwOi8vd3d3Lm9wZW5zdHJlZXRtYXAub3JnL2NvcHlyaWdodFwiXHUwMDNlT0RiTFx1MDAzYy9hXHUwMDNlLiIsICJkZXRlY3RSZXRpbmEiOiBmYWxzZSwgIm1heE5hdGl2ZVpvb20iOiAxOCwgIm1heFpvb20iOiAxOCwgIm1pblpvb20iOiAwLCAibm9XcmFwIjogZmFsc2UsICJvcGFjaXR5IjogMSwgInN1YmRvbWFpbnMiOiAiYWJjIiwgInRtcyI6IGZhbHNlfQogICAgICAgICAgICApLmFkZFRvKG1hcF8wNGNmMmJjMzc1ODM0YjM5OGZkMzhhNjQwM2IzMWMyZCk7CiAgICAgICAgCiAgICAKICAgICAgICAgICAgdmFyIGZlYXR1cmVfZ3JvdXBfMTk3NDUyY2Y3MGFlNDY3YzgwNmQ4MWEyMmVjNWI2OWIgPSBMLmZlYXR1cmVHcm91cCgKICAgICAgICAgICAgICAgIHt9CiAgICAgICAgICAgICkuYWRkVG8obWFwXzA0Y2YyYmMzNzU4MzRiMzk4ZmQzOGE2NDAzYjMxYzJkKTsKICAgICAgICAKICAgIAogICAgICAgICAgICB2YXIgY2lyY2xlX21hcmtlcl82NTI1NGZhZDE4ZTU0MjNkYmExZjE1YjE2NDRjYjUzMyA9IEwuY2lyY2xlTWFya2VyKAogICAgICAgICAgICAgICAgWzM3Ljc3NTQyMDcwNjcxMSwgLTEyMi40MDM0MDQ3OTE0Nzg5OV0sCiAgICAgICAgICAgICAgICB7ImJ1YmJsaW5nTW91c2VFdmVudHMiOiB0cnVlLCAiY29sb3IiOiAieWVsbG93IiwgImRhc2hBcnJheSI6IG51bGwsICJkYXNoT2Zmc2V0IjogbnVsbCwgImZpbGwiOiB0cnVlLCAiZmlsbENvbG9yIjogImJsdWUiLCAiZmlsbE9wYWNpdHkiOiAwLjYsICJmaWxsUnVsZSI6ICJldmVub2RkIiwgImxpbmVDYXAiOiAicm91bmQiLCAibGluZUpvaW4iOiAicm91bmQiLCAib3BhY2l0eSI6IDEuMCwgInJhZGl1cyI6IDUsICJzdHJva2UiOiB0cnVlLCAid2VpZ2h0IjogM30KICAgICAgICAgICAgKS5hZGRUbyhmZWF0dXJlX2dyb3VwXzE5NzQ1MmNmNzBhZTQ2N2M4MDZkODFhMjJlYzViNjliKTsKICAgICAgICAKICAgIAogICAgICAgICAgICB2YXIgY2lyY2xlX21hcmtlcl84MGJiYzJhNjBmN2U0YjE2ODNmM2E2MDlkOGZlYmIxMyA9IEwuY2lyY2xlTWFya2VyKAogICAgICAgICAgICAgICAgWzM3Ljc3NTQyMDcwNjcxMSwgLTEyMi40MDM0MDQ3OTE0Nzg5OV0sCiAgICAgICAgICAgICAgICB7ImJ1YmJsaW5nTW91c2VFdmVudHMiOiB0cnVlLCAiY29sb3IiOiAieWVsbG93IiwgImRhc2hBcnJheSI6IG51bGwsICJkYXNoT2Zmc2V0IjogbnVsbCwgImZpbGwiOiB0cnVlLCAiZmlsbENvbG9yIjogImJsdWUiLCAiZmlsbE9wYWNpdHkiOiAwLjYsICJmaWxsUnVsZSI6ICJldmVub2RkIiwgImxpbmVDYXAiOiAicm91bmQiLCAibGluZUpvaW4iOiAicm91bmQiLCAib3BhY2l0eSI6IDEuMCwgInJhZGl1cyI6IDUsICJzdHJva2UiOiB0cnVlLCAid2VpZ2h0IjogM30KICAgICAgICAgICAgKS5hZGRUbyhmZWF0dXJlX2dyb3VwXzE5NzQ1MmNmNzBhZTQ2N2M4MDZkODFhMjJlYzViNjliKTsKICAgICAgICAKICAgIAogICAgICAgICAgICB2YXIgY2lyY2xlX21hcmtlcl85YTljMDRjYjI3NWU0ZWZiODEyYzU0ZmRkYzVkZjc3OSA9IEwuY2lyY2xlTWFya2VyKAogICAgICAgICAgICAgICAgWzM3LjcyOTk4MDk2NzI5OTU5NiwgLTEyMi4zODg4NTYyMDQyOTJdLAogICAgICAgICAgICAgICAgeyJidWJibGluZ01vdXNlRXZlbnRzIjogdHJ1ZSwgImNvbG9yIjogInllbGxvdyIsICJkYXNoQXJyYXkiOiBudWxsLCAiZGFzaE9mZnNldCI6IG51bGwsICJmaWxsIjogdHJ1ZSwgImZpbGxDb2xvciI6ICJibHVlIiwgImZpbGxPcGFjaXR5IjogMC42LCAiZmlsbFJ1bGUiOiAiZXZlbm9kZCIsICJsaW5lQ2FwIjogInJvdW5kIiwgImxpbmVKb2luIjogInJvdW5kIiwgIm9wYWNpdHkiOiAxLjAsICJyYWRpdXMiOiA1LCAic3Ryb2tlIjogdHJ1ZSwgIndlaWdodCI6IDN9CiAgICAgICAgICAgICkuYWRkVG8oZmVhdHVyZV9ncm91cF8xOTc0NTJjZjcwYWU0NjdjODA2ZDgxYTIyZWM1YjY5Yik7CiAgICAgICAgCiAgICAKICAgICAgICAgICAgdmFyIGNpcmNsZV9tYXJrZXJfMmQ0MjAwNTFkNmJhNGJiZGI4NmE5YTc2ZjI4ZmYyZTIgPSBMLmNpcmNsZU1hcmtlcigKICAgICAgICAgICAgICAgIFszNy43ODU3ODgzNzY2ODg3OSwgLTEyMi40MTI5NzA1Mzc1OTFdLAogICAgICAgICAgICAgICAgeyJidWJibGluZ01vdXNlRXZlbnRzIjogdHJ1ZSwgImNvbG9yIjogInllbGxvdyIsICJkYXNoQXJyYXkiOiBudWxsLCAiZGFzaE9mZnNldCI6IG51bGwsICJmaWxsIjogdHJ1ZSwgImZpbGxDb2xvciI6ICJibHVlIiwgImZpbGxPcGFjaXR5IjogMC42LCAiZmlsbFJ1bGUiOiAiZXZlbm9kZCIsICJsaW5lQ2FwIjogInJvdW5kIiwgImxpbmVKb2luIjogInJvdW5kIiwgIm9wYWNpdHkiOiAxLjAsICJyYWRpdXMiOiA1LCAic3Ryb2tlIjogdHJ1ZSwgIndlaWdodCI6IDN9CiAgICAgICAgICAgICkuYWRkVG8oZmVhdHVyZV9ncm91cF8xOTc0NTJjZjcwYWU0NjdjODA2ZDgxYTIyZWM1YjY5Yik7CiAgICAgICAgCiAgICAKICAgICAgICAgICAgdmFyIGNpcmNsZV9tYXJrZXJfNDJhNTAwMTc0Yzg3NDY1YWJkNjE3ODQzZTQ4YTJjZTggPSBMLmNpcmNsZU1hcmtlcigKICAgICAgICAgICAgICAgIFszNy43NjUwNTAxMjE0NjY4LCAtMTIyLjQxOTY3MTc4MDI5Nl0sCiAgICAgICAgICAgICAgICB7ImJ1YmJsaW5nTW91c2VFdmVudHMiOiB0cnVlLCAiY29sb3IiOiAieWVsbG93IiwgImRhc2hBcnJheSI6IG51bGwsICJkYXNoT2Zmc2V0IjogbnVsbCwgImZpbGwiOiB0cnVlLCAiZmlsbENvbG9yIjogImJsdWUiLCAiZmlsbE9wYWNpdHkiOiAwLjYsICJmaWxsUnVsZSI6ICJldmVub2RkIiwgImxpbmVDYXAiOiAicm91bmQiLCAibGluZUpvaW4iOiAicm91bmQiLCAib3BhY2l0eSI6IDEuMCwgInJhZGl1cyI6IDUsICJzdHJva2UiOiB0cnVlLCAid2VpZ2h0IjogM30KICAgICAgICAgICAgKS5hZGRUbyhmZWF0dXJlX2dyb3VwXzE5NzQ1MmNmNzBhZTQ2N2M4MDZkODFhMjJlYzViNjliKTsKICAgICAgICAKICAgIAogICAgICAgICAgICB2YXIgY2lyY2xlX21hcmtlcl9hZTQ2ZjllNzE5OGE0MjMxYWUyMGMwMGQyOWRiZmMxZCA9IEwuY2lyY2xlTWFya2VyKAogICAgICAgICAgICAgICAgWzM3Ljc4ODAxODU1NTgyOSwgLTEyMi40MjYwNzcxNzczNzQ5OV0sCiAgICAgICAgICAgICAgICB7ImJ1YmJsaW5nTW91c2VFdmVudHMiOiB0cnVlLCAiY29sb3IiOiAieWVsbG93IiwgImRhc2hBcnJheSI6IG51bGwsICJkYXNoT2Zmc2V0IjogbnVsbCwgImZpbGwiOiB0cnVlLCAiZmlsbENvbG9yIjogImJsdWUiLCAiZmlsbE9wYWNpdHkiOiAwLjYsICJmaWxsUnVsZSI6ICJldmVub2RkIiwgImxpbmVDYXAiOiAicm91bmQiLCAibGluZUpvaW4iOiAicm91bmQiLCAib3BhY2l0eSI6IDEuMCwgInJhZGl1cyI6IDUsICJzdHJva2UiOiB0cnVlLCAid2VpZ2h0IjogM30KICAgICAgICAgICAgKS5hZGRUbyhmZWF0dXJlX2dyb3VwXzE5NzQ1MmNmNzBhZTQ2N2M4MDZkODFhMjJlYzViNjliKTsKICAgICAgICAKICAgIAogICAgICAgICAgICB2YXIgY2lyY2xlX21hcmtlcl80Y2RhN2JiNGE1OTg0NjBjODNjMzZkMzdiYTVlYWY1MiA9IEwuY2lyY2xlTWFya2VyKAogICAgICAgICAgICAgICAgWzM3Ljc4MDg3ODkzNjAyMTQsIC0xMjIuNDA1NzIxNDU0NTY3XSwKICAgICAgICAgICAgICAgIHsiYnViYmxpbmdNb3VzZUV2ZW50cyI6IHRydWUsICJjb2xvciI6ICJ5ZWxsb3ciLCAiZGFzaEFycmF5IjogbnVsbCwgImRhc2hPZmZzZXQiOiBudWxsLCAiZmlsbCI6IHRydWUsICJmaWxsQ29sb3IiOiAiYmx1ZSIsICJmaWxsT3BhY2l0eSI6IDAuNiwgImZpbGxSdWxlIjogImV2ZW5vZGQiLCAibGluZUNhcCI6ICJyb3VuZCIsICJsaW5lSm9pbiI6ICJyb3VuZCIsICJvcGFjaXR5IjogMS4wLCAicmFkaXVzIjogNSwgInN0cm9rZSI6IHRydWUsICJ3ZWlnaHQiOiAzfQogICAgICAgICAgICApLmFkZFRvKGZlYXR1cmVfZ3JvdXBfMTk3NDUyY2Y3MGFlNDY3YzgwNmQ4MWEyMmVjNWI2OWIpOwogICAgICAgIAogICAgCiAgICAgICAgICAgIHZhciBjaXJjbGVfbWFya2VyX2JiOWNkMGQ3ZmE2NTQ1MGVhN2RlZDI4MzdkMmFjZWIyID0gTC5jaXJjbGVNYXJrZXIoCiAgICAgICAgICAgICAgICBbMzcuNzgzOTgwNTU5MjYzNCwgLTEyMi40MTE3NzgyOTU5OTJdLAogICAgICAgICAgICAgICAgeyJidWJibGluZ01vdXNlRXZlbnRzIjogdHJ1ZSwgImNvbG9yIjogInllbGxvdyIsICJkYXNoQXJyYXkiOiBudWxsLCAiZGFzaE9mZnNldCI6IG51bGwsICJmaWxsIjogdHJ1ZSwgImZpbGxDb2xvciI6ICJibHVlIiwgImZpbGxPcGFjaXR5IjogMC42LCAiZmlsbFJ1bGUiOiAiZXZlbm9kZCIsICJsaW5lQ2FwIjogInJvdW5kIiwgImxpbmVKb2luIjogInJvdW5kIiwgIm9wYWNpdHkiOiAxLjAsICJyYWRpdXMiOiA1LCAic3Ryb2tlIjogdHJ1ZSwgIndlaWdodCI6IDN9CiAgICAgICAgICAgICkuYWRkVG8oZmVhdHVyZV9ncm91cF8xOTc0NTJjZjcwYWU0NjdjODA2ZDgxYTIyZWM1YjY5Yik7CiAgICAgICAgCiAgICAKICAgICAgICAgICAgdmFyIGNpcmNsZV9tYXJrZXJfZWQ1ZDM2YTkyMDRlNDllZGIxNWJjNWU1MmY4ZTFmYTMgPSBMLmNpcmNsZU1hcmtlcigKICAgICAgICAgICAgICAgIFszNy43NzU3ODc2MjE4MjkyOTUsIC0xMjIuMzkzMzU3MjQxNDUxXSwKICAgICAgICAgICAgICAgIHsiYnViYmxpbmdNb3VzZUV2ZW50cyI6IHRydWUsICJjb2xvciI6ICJ5ZWxsb3ciLCAiZGFzaEFycmF5IjogbnVsbCwgImRhc2hPZmZzZXQiOiBudWxsLCAiZmlsbCI6IHRydWUsICJmaWxsQ29sb3IiOiAiYmx1ZSIsICJmaWxsT3BhY2l0eSI6IDAuNiwgImZpbGxSdWxlIjogImV2ZW5vZGQiLCAibGluZUNhcCI6ICJyb3VuZCIsICJsaW5lSm9pbiI6ICJyb3VuZCIsICJvcGFjaXR5IjogMS4wLCAicmFkaXVzIjogNSwgInN0cm9rZSI6IHRydWUsICJ3ZWlnaHQiOiAzfQogICAgICAgICAgICApLmFkZFRvKGZlYXR1cmVfZ3JvdXBfMTk3NDUyY2Y3MGFlNDY3YzgwNmQ4MWEyMmVjNWI2OWIpOwogICAgICAgIAogICAgCiAgICAgICAgICAgIHZhciBjaXJjbGVfbWFya2VyX2NlNGQ4YTBmNzQ3MzRkNDQ5ZjM0Y2EwNThiZWQ1Mzg2ID0gTC5jaXJjbGVNYXJrZXIoCiAgICAgICAgICAgICAgICBbMzcuNzIwOTY2OTYxNTQ5OSwgLTEyMi4zODcxODE2MzU5OTVdLAogICAgICAgICAgICAgICAgeyJidWJibGluZ01vdXNlRXZlbnRzIjogdHJ1ZSwgImNvbG9yIjogInllbGxvdyIsICJkYXNoQXJyYXkiOiBudWxsLCAiZGFzaE9mZnNldCI6IG51bGwsICJmaWxsIjogdHJ1ZSwgImZpbGxDb2xvciI6ICJibHVlIiwgImZpbGxPcGFjaXR5IjogMC42LCAiZmlsbFJ1bGUiOiAiZXZlbm9kZCIsICJsaW5lQ2FwIjogInJvdW5kIiwgImxpbmVKb2luIjogInJvdW5kIiwgIm9wYWNpdHkiOiAxLjAsICJyYWRpdXMiOiA1LCAic3Ryb2tlIjogdHJ1ZSwgIndlaWdodCI6IDN9CiAgICAgICAgICAgICkuYWRkVG8oZmVhdHVyZV9ncm91cF8xOTc0NTJjZjcwYWU0NjdjODA2ZDgxYTIyZWM1YjY5Yik7CiAgICAgICAgCiAgICAKICAgICAgICAgICAgdmFyIGNpcmNsZV9tYXJrZXJfNzMwMTFkNmE2NTg2NDY0MWJhOTU2MWVmODAyZDI5NjcgPSBMLmNpcmNsZU1hcmtlcigKICAgICAgICAgICAgICAgIFszNy43NjQ0NzgxNTc4Njk1MDUsIC0xMjIuNDc3Mzc2NTI0MDAyOTldLAogICAgICAgICAgICAgICAgeyJidWJibGluZ01vdXNlRXZlbnRzIjogdHJ1ZSwgImNvbG9yIjogInllbGxvdyIsICJkYXNoQXJyYXkiOiBudWxsLCAiZGFzaE9mZnNldCI6IG51bGwsICJmaWxsIjogdHJ1ZSwgImZpbGxDb2xvciI6ICJibHVlIiwgImZpbGxPcGFjaXR5IjogMC42LCAiZmlsbFJ1bGUiOiAiZXZlbm9kZCIsICJsaW5lQ2FwIjogInJvdW5kIiwgImxpbmVKb2luIjogInJvdW5kIiwgIm9wYWNpdHkiOiAxLjAsICJyYWRpdXMiOiA1LCAic3Ryb2tlIjogdHJ1ZSwgIndlaWdodCI6IDN9CiAgICAgICAgICAgICkuYWRkVG8oZmVhdHVyZV9ncm91cF8xOTc0NTJjZjcwYWU0NjdjODA2ZDgxYTIyZWM1YjY5Yik7CiAgICAgICAgCiAgICAKICAgICAgICAgICAgdmFyIGNpcmNsZV9tYXJrZXJfMjI4ZjllYzhjYmQyNGQzZWE0NjQ0NjNjM2VlZGFmM2EgPSBMLmNpcmNsZU1hcmtlcigKICAgICAgICAgICAgICAgIFszNy43NDU3Mzg5NDI5NjU0OTUsIC0xMjIuNDc3OTYwMzI3Mjk5XSwKICAgICAgICAgICAgICAgIHsiYnViYmxpbmdNb3VzZUV2ZW50cyI6IHRydWUsICJjb2xvciI6ICJ5ZWxsb3ciLCAiZGFzaEFycmF5IjogbnVsbCwgImRhc2hPZmZzZXQiOiBudWxsLCAiZmlsbCI6IHRydWUsICJmaWxsQ29sb3IiOiAiYmx1ZSIsICJmaWxsT3BhY2l0eSI6IDAuNiwgImZpbGxSdWxlIjogImV2ZW5vZGQiLCAibGluZUNhcCI6ICJyb3VuZCIsICJsaW5lSm9pbiI6ICJyb3VuZCIsICJvcGFjaXR5IjogMS4wLCAicmFkaXVzIjogNSwgInN0cm9rZSI6IHRydWUsICJ3ZWlnaHQiOiAzfQogICAgICAgICAgICApLmFkZFRvKGZlYXR1cmVfZ3JvdXBfMTk3NDUyY2Y3MGFlNDY3YzgwNmQ4MWEyMmVjNWI2OWIpOwogICAgICAgIAogICAgCiAgICAgICAgICAgIHZhciBjaXJjbGVfbWFya2VyX2ZlZDhmZWRjNmQ0MjRjNWFiM2FlYTZmNTkwNjQyMmU5ID0gTC5jaXJjbGVNYXJrZXIoCiAgICAgICAgICAgICAgICBbMzcuNzM1Njk3MDI3NTQ4MjA2LCAtMTIyLjM3Njc1NzY1NTUzMDAxXSwKICAgICAgICAgICAgICAgIHsiYnViYmxpbmdNb3VzZUV2ZW50cyI6IHRydWUsICJjb2xvciI6ICJ5ZWxsb3ciLCAiZGFzaEFycmF5IjogbnVsbCwgImRhc2hPZmZzZXQiOiBudWxsLCAiZmlsbCI6IHRydWUsICJmaWxsQ29sb3IiOiAiYmx1ZSIsICJmaWxsT3BhY2l0eSI6IDAuNiwgImZpbGxSdWxlIjogImV2ZW5vZGQiLCAibGluZUNhcCI6ICJyb3VuZCIsICJsaW5lSm9pbiI6ICJyb3VuZCIsICJvcGFjaXR5IjogMS4wLCAicmFkaXVzIjogNSwgInN0cm9rZSI6IHRydWUsICJ3ZWlnaHQiOiAzfQogICAgICAgICAgICApLmFkZFRvKGZlYXR1cmVfZ3JvdXBfMTk3NDUyY2Y3MGFlNDY3YzgwNmQ4MWEyMmVjNWI2OWIpOwogICAgICAgIAogICAgCiAgICAgICAgICAgIHZhciBjaXJjbGVfbWFya2VyXzg2ZjU4MzIyZmNiYzRkNzg4YzQ4MGFkMDdkNjdiYjkxID0gTC5jaXJjbGVNYXJrZXIoCiAgICAgICAgICAgICAgICBbMzcuNzI5MjcwNTE5OTU5MiwgLTEyMi40MzIzMjU4NzEwMjhdLAogICAgICAgICAgICAgICAgeyJidWJibGluZ01vdXNlRXZlbnRzIjogdHJ1ZSwgImNvbG9yIjogInllbGxvdyIsICJkYXNoQXJyYXkiOiBudWxsLCAiZGFzaE9mZnNldCI6IG51bGwsICJmaWxsIjogdHJ1ZSwgImZpbGxDb2xvciI6ICJibHVlIiwgImZpbGxPcGFjaXR5IjogMC42LCAiZmlsbFJ1bGUiOiAiZXZlbm9kZCIsICJsaW5lQ2FwIjogInJvdW5kIiwgImxpbmVKb2luIjogInJvdW5kIiwgIm9wYWNpdHkiOiAxLjAsICJyYWRpdXMiOiA1LCAic3Ryb2tlIjogdHJ1ZSwgIndlaWdodCI6IDN9CiAgICAgICAgICAgICkuYWRkVG8oZmVhdHVyZV9ncm91cF8xOTc0NTJjZjcwYWU0NjdjODA2ZDgxYTIyZWM1YjY5Yik7CiAgICAgICAgCiAgICAKICAgICAgICAgICAgdmFyIGNpcmNsZV9tYXJrZXJfYjBhZjBkODAwOTUzNDgxODg0NWU1ODcyNGQyMDFkYzUgPSBMLmNpcmNsZU1hcmtlcigKICAgICAgICAgICAgICAgIFszNy43OTE2NDI5ODIzODQsIC0xMjIuNDAwOTA4Njk4ODg5OTldLAogICAgICAgICAgICAgICAgeyJidWJibGluZ01vdXNlRXZlbnRzIjogdHJ1ZSwgImNvbG9yIjogInllbGxvdyIsICJkYXNoQXJyYXkiOiBudWxsLCAiZGFzaE9mZnNldCI6IG51bGwsICJmaWxsIjogdHJ1ZSwgImZpbGxDb2xvciI6ICJibHVlIiwgImZpbGxPcGFjaXR5IjogMC42LCAiZmlsbFJ1bGUiOiAiZXZlbm9kZCIsICJsaW5lQ2FwIjogInJvdW5kIiwgImxpbmVKb2luIjogInJvdW5kIiwgIm9wYWNpdHkiOiAxLjAsICJyYWRpdXMiOiA1LCAic3Ryb2tlIjogdHJ1ZSwgIndlaWdodCI6IDN9CiAgICAgICAgICAgICkuYWRkVG8oZmVhdHVyZV9ncm91cF8xOTc0NTJjZjcwYWU0NjdjODA2ZDgxYTIyZWM1YjY5Yik7CiAgICAgICAgCiAgICAKICAgICAgICAgICAgdmFyIGNpcmNsZV9tYXJrZXJfZDA2OGNkYjczODdhNDc1MDllZGM1YWI5YTdlZDQ3ZDAgPSBMLmNpcmNsZU1hcmtlcigKICAgICAgICAgICAgICAgIFszNy43ODM3MDY5MzAxNTQ1LCAtMTIyLjQwODU5NTExMDg2OV0sCiAgICAgICAgICAgICAgICB7ImJ1YmJsaW5nTW91c2VFdmVudHMiOiB0cnVlLCAiY29sb3IiOiAieWVsbG93IiwgImRhc2hBcnJheSI6IG51bGwsICJkYXNoT2Zmc2V0IjogbnVsbCwgImZpbGwiOiB0cnVlLCAiZmlsbENvbG9yIjogImJsdWUiLCAiZmlsbE9wYWNpdHkiOiAwLjYsICJmaWxsUnVsZSI6ICJldmVub2RkIiwgImxpbmVDYXAiOiAicm91bmQiLCAibGluZUpvaW4iOiAicm91bmQiLCAib3BhY2l0eSI6IDEuMCwgInJhZGl1cyI6IDUsICJzdHJva2UiOiB0cnVlLCAid2VpZ2h0IjogM30KICAgICAgICAgICAgKS5hZGRUbyhmZWF0dXJlX2dyb3VwXzE5NzQ1MmNmNzBhZTQ2N2M4MDZkODFhMjJlYzViNjliKTsKICAgICAgICAKICAgIAogICAgICAgICAgICB2YXIgY2lyY2xlX21hcmtlcl80OGQwMTJmZDY1OWE0MmJlYmVkMWNiOTE3NTk4YzdhMSA9IEwuY2lyY2xlTWFya2VyKAogICAgICAgICAgICAgICAgWzM3Ljc1NzI4OTU5MDQ1Nzc5NSwgLTEyMi40MDY4NzA0MDIwODJdLAogICAgICAgICAgICAgICAgeyJidWJibGluZ01vdXNlRXZlbnRzIjogdHJ1ZSwgImNvbG9yIjogInllbGxvdyIsICJkYXNoQXJyYXkiOiBudWxsLCAiZGFzaE9mZnNldCI6IG51bGwsICJmaWxsIjogdHJ1ZSwgImZpbGxDb2xvciI6ICJibHVlIiwgImZpbGxPcGFjaXR5IjogMC42LCAiZmlsbFJ1bGUiOiAiZXZlbm9kZCIsICJsaW5lQ2FwIjogInJvdW5kIiwgImxpbmVKb2luIjogInJvdW5kIiwgIm9wYWNpdHkiOiAxLjAsICJyYWRpdXMiOiA1LCAic3Ryb2tlIjogdHJ1ZSwgIndlaWdodCI6IDN9CiAgICAgICAgICAgICkuYWRkVG8oZmVhdHVyZV9ncm91cF8xOTc0NTJjZjcwYWU0NjdjODA2ZDgxYTIyZWM1YjY5Yik7CiAgICAgICAgCiAgICAKICAgICAgICAgICAgdmFyIGNpcmNsZV9tYXJrZXJfOWI3NGIxZGY0ZTgyNGQzYmI5YTM0M2Y5YzU5NGFiMzggPSBMLmNpcmNsZU1hcmtlcigKICAgICAgICAgICAgICAgIFszNy43NDg5MDYzMDUxODI5LCAtMTIyLjQyMDM1NDc4MDg2MDk5XSwKICAgICAgICAgICAgICAgIHsiYnViYmxpbmdNb3VzZUV2ZW50cyI6IHRydWUsICJjb2xvciI6ICJ5ZWxsb3ciLCAiZGFzaEFycmF5IjogbnVsbCwgImRhc2hPZmZzZXQiOiBudWxsLCAiZmlsbCI6IHRydWUsICJmaWxsQ29sb3IiOiAiYmx1ZSIsICJmaWxsT3BhY2l0eSI6IDAuNiwgImZpbGxSdWxlIjogImV2ZW5vZGQiLCAibGluZUNhcCI6ICJyb3VuZCIsICJsaW5lSm9pbiI6ICJyb3VuZCIsICJvcGFjaXR5IjogMS4wLCAicmFkaXVzIjogNSwgInN0cm9rZSI6IHRydWUsICJ3ZWlnaHQiOiAzfQogICAgICAgICAgICApLmFkZFRvKGZlYXR1cmVfZ3JvdXBfMTk3NDUyY2Y3MGFlNDY3YzgwNmQ4MWEyMmVjNWI2OWIpOwogICAgICAgIAogICAgCiAgICAgICAgICAgIHZhciBjaXJjbGVfbWFya2VyXzhkMjRlYWU3OTA3MjQ0ZmZiNjA4NmUxMzdkNjEyNzE1ID0gTC5jaXJjbGVNYXJrZXIoCiAgICAgICAgICAgICAgICBbMzcuNzE1NzY1NDI2OTk1LCAtMTIyLjQzOTkwOTc2Njc3Ml0sCiAgICAgICAgICAgICAgICB7ImJ1YmJsaW5nTW91c2VFdmVudHMiOiB0cnVlLCAiY29sb3IiOiAieWVsbG93IiwgImRhc2hBcnJheSI6IG51bGwsICJkYXNoT2Zmc2V0IjogbnVsbCwgImZpbGwiOiB0cnVlLCAiZmlsbENvbG9yIjogImJsdWUiLCAiZmlsbE9wYWNpdHkiOiAwLjYsICJmaWxsUnVsZSI6ICJldmVub2RkIiwgImxpbmVDYXAiOiAicm91bmQiLCAibGluZUpvaW4iOiAicm91bmQiLCAib3BhY2l0eSI6IDEuMCwgInJhZGl1cyI6IDUsICJzdHJva2UiOiB0cnVlLCAid2VpZ2h0IjogM30KICAgICAgICAgICAgKS5hZGRUbyhmZWF0dXJlX2dyb3VwXzE5NzQ1MmNmNzBhZTQ2N2M4MDZkODFhMjJlYzViNjliKTsKICAgICAgICAKICAgIAogICAgICAgICAgICB2YXIgY2lyY2xlX21hcmtlcl8yYmQ5MGI4MDVhNmY0MTQ5YjMxMjhkYzUzMGEwZDllYyA9IEwuY2lyY2xlTWFya2VyKAogICAgICAgICAgICAgICAgWzM3Ljc4MzU2OTkzODY5MTgsIC0xMjIuNDA4NDIxMTE2OTIyXSwKICAgICAgICAgICAgICAgIHsiYnViYmxpbmdNb3VzZUV2ZW50cyI6IHRydWUsICJjb2xvciI6ICJ5ZWxsb3ciLCAiZGFzaEFycmF5IjogbnVsbCwgImRhc2hPZmZzZXQiOiBudWxsLCAiZmlsbCI6IHRydWUsICJmaWxsQ29sb3IiOiAiYmx1ZSIsICJmaWxsT3BhY2l0eSI6IDAuNiwgImZpbGxSdWxlIjogImV2ZW5vZGQiLCAibGluZUNhcCI6ICJyb3VuZCIsICJsaW5lSm9pbiI6ICJyb3VuZCIsICJvcGFjaXR5IjogMS4wLCAicmFkaXVzIjogNSwgInN0cm9rZSI6IHRydWUsICJ3ZWlnaHQiOiAzfQogICAgICAgICAgICApLmFkZFRvKGZlYXR1cmVfZ3JvdXBfMTk3NDUyY2Y3MGFlNDY3YzgwNmQ4MWEyMmVjNWI2OWIpOwogICAgICAgIAogICAgCiAgICAgICAgICAgIHZhciBjaXJjbGVfbWFya2VyX2RiMzVlMGRiNmRhNzQ4YjQ5YTQ2MTRhOTMzODA1ZWIxID0gTC5jaXJjbGVNYXJrZXIoCiAgICAgICAgICAgICAgICBbMzcuNzczNjE4NjI3NjQ1NjA0LCAtMTIyLjQyMjMxNTY3MDc0OV0sCiAgICAgICAgICAgICAgICB7ImJ1YmJsaW5nTW91c2VFdmVudHMiOiB0cnVlLCAiY29sb3IiOiAieWVsbG93IiwgImRhc2hBcnJheSI6IG51bGwsICJkYXNoT2Zmc2V0IjogbnVsbCwgImZpbGwiOiB0cnVlLCAiZmlsbENvbG9yIjogImJsdWUiLCAiZmlsbE9wYWNpdHkiOiAwLjYsICJmaWxsUnVsZSI6ICJldmVub2RkIiwgImxpbmVDYXAiOiAicm91bmQiLCAibGluZUpvaW4iOiAicm91bmQiLCAib3BhY2l0eSI6IDEuMCwgInJhZGl1cyI6IDUsICJzdHJva2UiOiB0cnVlLCAid2VpZ2h0IjogM30KICAgICAgICAgICAgKS5hZGRUbyhmZWF0dXJlX2dyb3VwXzE5NzQ1MmNmNzBhZTQ2N2M4MDZkODFhMjJlYzViNjliKTsKICAgICAgICAKICAgIAogICAgICAgICAgICB2YXIgY2lyY2xlX21hcmtlcl9lZjE3OTZkZDk5MGI0OTVlYmM0OTMwOWQ2YmQ2ZGVmNiA9IEwuY2lyY2xlTWFya2VyKAogICAgICAgICAgICAgICAgWzM3Ljc5Mjg0MTI4NDA0NDcwNSwgLTEyMi40MjQ1MTk4MzUwMDkwMV0sCiAgICAgICAgICAgICAgICB7ImJ1YmJsaW5nTW91c2VFdmVudHMiOiB0cnVlLCAiY29sb3IiOiAieWVsbG93IiwgImRhc2hBcnJheSI6IG51bGwsICJkYXNoT2Zmc2V0IjogbnVsbCwgImZpbGwiOiB0cnVlLCAiZmlsbENvbG9yIjogImJsdWUiLCAiZmlsbE9wYWNpdHkiOiAwLjYsICJmaWxsUnVsZSI6ICJldmVub2RkIiwgImxpbmVDYXAiOiAicm91bmQiLCAibGluZUpvaW4iOiAicm91bmQiLCAib3BhY2l0eSI6IDEuMCwgInJhZGl1cyI6IDUsICJzdHJva2UiOiB0cnVlLCAid2VpZ2h0IjogM30KICAgICAgICAgICAgKS5hZGRUbyhmZWF0dXJlX2dyb3VwXzE5NzQ1MmNmNzBhZTQ2N2M4MDZkODFhMjJlYzViNjliKTsKICAgICAgICAKICAgIAogICAgICAgICAgICB2YXIgY2lyY2xlX21hcmtlcl85MDQxZjE3M2Y3ZWQ0NzgyOGE5MTI2MjE4OTZlMDFjNSA9IEwuY2lyY2xlTWFya2VyKAogICAgICAgICAgICAgICAgWzM3Ljc1NDA5ODY4ODIwNjc5NSwgLTEyMi40MTQyMzM4NDkwMzc5OF0sCiAgICAgICAgICAgICAgICB7ImJ1YmJsaW5nTW91c2VFdmVudHMiOiB0cnVlLCAiY29sb3IiOiAieWVsbG93IiwgImRhc2hBcnJheSI6IG51bGwsICJkYXNoT2Zmc2V0IjogbnVsbCwgImZpbGwiOiB0cnVlLCAiZmlsbENvbG9yIjogImJsdWUiLCAiZmlsbE9wYWNpdHkiOiAwLjYsICJmaWxsUnVsZSI6ICJldmVub2RkIiwgImxpbmVDYXAiOiAicm91bmQiLCAibGluZUpvaW4iOiAicm91bmQiLCAib3BhY2l0eSI6IDEuMCwgInJhZGl1cyI6IDUsICJzdHJva2UiOiB0cnVlLCAid2VpZ2h0IjogM30KICAgICAgICAgICAgKS5hZGRUbyhmZWF0dXJlX2dyb3VwXzE5NzQ1MmNmNzBhZTQ2N2M4MDZkODFhMjJlYzViNjliKTsKICAgICAgICAKICAgIAogICAgICAgICAgICB2YXIgY2lyY2xlX21hcmtlcl9kMDQ1ZWE3YWMyOTc0Mzc1OWVmMmM3MWFkODJlM2I5NCA9IEwuY2lyY2xlTWFya2VyKAogICAgICAgICAgICAgICAgWzM3Ljc1NDA5ODY4ODIwNjc5NSwgLTEyMi40MTQyMzM4NDkwMzc5OF0sCiAgICAgICAgICAgICAgICB7ImJ1YmJsaW5nTW91c2VFdmVudHMiOiB0cnVlLCAiY29sb3IiOiAieWVsbG93IiwgImRhc2hBcnJheSI6IG51bGwsICJkYXNoT2Zmc2V0IjogbnVsbCwgImZpbGwiOiB0cnVlLCAiZmlsbENvbG9yIjogImJsdWUiLCAiZmlsbE9wYWNpdHkiOiAwLjYsICJmaWxsUnVsZSI6ICJldmVub2RkIiwgImxpbmVDYXAiOiAicm91bmQiLCAibGluZUpvaW4iOiAicm91bmQiLCAib3BhY2l0eSI6IDEuMCwgInJhZGl1cyI6IDUsICJzdHJva2UiOiB0cnVlLCAid2VpZ2h0IjogM30KICAgICAgICAgICAgKS5hZGRUbyhmZWF0dXJlX2dyb3VwXzE5NzQ1MmNmNzBhZTQ2N2M4MDZkODFhMjJlYzViNjliKTsKICAgICAgICAKICAgIAogICAgICAgICAgICB2YXIgY2lyY2xlX21hcmtlcl85ODExMjIyNjMwMjM0NzM5ODFmMzg0NWQ0YTllZjllOCA9IEwuY2lyY2xlTWFya2VyKAogICAgICAgICAgICAgICAgWzM3Ljc3MTQ5Mzk5Njk0MTYsIC0xMjIuNTA3NzUwMTMxMDA0MDJdLAogICAgICAgICAgICAgICAgeyJidWJibGluZ01vdXNlRXZlbnRzIjogdHJ1ZSwgImNvbG9yIjogInllbGxvdyIsICJkYXNoQXJyYXkiOiBudWxsLCAiZGFzaE9mZnNldCI6IG51bGwsICJmaWxsIjogdHJ1ZSwgImZpbGxDb2xvciI6ICJibHVlIiwgImZpbGxPcGFjaXR5IjogMC42LCAiZmlsbFJ1bGUiOiAiZXZlbm9kZCIsICJsaW5lQ2FwIjogInJvdW5kIiwgImxpbmVKb2luIjogInJvdW5kIiwgIm9wYWNpdHkiOiAxLjAsICJyYWRpdXMiOiA1LCAic3Ryb2tlIjogdHJ1ZSwgIndlaWdodCI6IDN9CiAgICAgICAgICAgICkuYWRkVG8oZmVhdHVyZV9ncm91cF8xOTc0NTJjZjcwYWU0NjdjODA2ZDgxYTIyZWM1YjY5Yik7CiAgICAgICAgCiAgICAKICAgICAgICAgICAgdmFyIGNpcmNsZV9tYXJrZXJfNWNhMWQ5MzZlNmY3NGI1YmIxMTIwNDk5NTA4NGEwNmYgPSBMLmNpcmNsZU1hcmtlcigKICAgICAgICAgICAgICAgIFszNy43MTgzMDIyMDQ3NjYwMDUsIC0xMjIuNDc0NDQ0NjM5NTk0OTldLAogICAgICAgICAgICAgICAgeyJidWJibGluZ01vdXNlRXZlbnRzIjogdHJ1ZSwgImNvbG9yIjogInllbGxvdyIsICJkYXNoQXJyYXkiOiBudWxsLCAiZGFzaE9mZnNldCI6IG51bGwsICJmaWxsIjogdHJ1ZSwgImZpbGxDb2xvciI6ICJibHVlIiwgImZpbGxPcGFjaXR5IjogMC42LCAiZmlsbFJ1bGUiOiAiZXZlbm9kZCIsICJsaW5lQ2FwIjogInJvdW5kIiwgImxpbmVKb2luIjogInJvdW5kIiwgIm9wYWNpdHkiOiAxLjAsICJyYWRpdXMiOiA1LCAic3Ryb2tlIjogdHJ1ZSwgIndlaWdodCI6IDN9CiAgICAgICAgICAgICkuYWRkVG8oZmVhdHVyZV9ncm91cF8xOTc0NTJjZjcwYWU0NjdjODA2ZDgxYTIyZWM1YjY5Yik7CiAgICAgICAgCiAgICAKICAgICAgICAgICAgdmFyIGNpcmNsZV9tYXJrZXJfMTgyNTEwYTA0MjlmNGZlZTgxYjUzN2YzNDVjZjY5ODAgPSBMLmNpcmNsZU1hcmtlcigKICAgICAgICAgICAgICAgIFszNy43NjQ1NzUyMzE3NjE1LCAtMTIyLjQyNzU2MjU5Njk4NV0sCiAgICAgICAgICAgICAgICB7ImJ1YmJsaW5nTW91c2VFdmVudHMiOiB0cnVlLCAiY29sb3IiOiAieWVsbG93IiwgImRhc2hBcnJheSI6IG51bGwsICJkYXNoT2Zmc2V0IjogbnVsbCwgImZpbGwiOiB0cnVlLCAiZmlsbENvbG9yIjogImJsdWUiLCAiZmlsbE9wYWNpdHkiOiAwLjYsICJmaWxsUnVsZSI6ICJldmVub2RkIiwgImxpbmVDYXAiOiAicm91bmQiLCAibGluZUpvaW4iOiAicm91bmQiLCAib3BhY2l0eSI6IDEuMCwgInJhZGl1cyI6IDUsICJzdHJva2UiOiB0cnVlLCAid2VpZ2h0IjogM30KICAgICAgICAgICAgKS5hZGRUbyhmZWF0dXJlX2dyb3VwXzE5NzQ1MmNmNzBhZTQ2N2M4MDZkODFhMjJlYzViNjliKTsKICAgICAgICAKICAgIAogICAgICAgICAgICB2YXIgY2lyY2xlX21hcmtlcl9kZjNiNjNmMzE0MDE0YWYzYTk0Nzk4OTExNGQxNmY0NCA9IEwuY2lyY2xlTWFya2VyKAogICAgICAgICAgICAgICAgWzM3Ljc4NzQzNzgzMDkxMTIsIC0xMjIuNDE5MjAzMDA0MjY4XSwKICAgICAgICAgICAgICAgIHsiYnViYmxpbmdNb3VzZUV2ZW50cyI6IHRydWUsICJjb2xvciI6ICJ5ZWxsb3ciLCAiZGFzaEFycmF5IjogbnVsbCwgImRhc2hPZmZzZXQiOiBudWxsLCAiZmlsbCI6IHRydWUsICJmaWxsQ29sb3IiOiAiYmx1ZSIsICJmaWxsT3BhY2l0eSI6IDAuNiwgImZpbGxSdWxlIjogImV2ZW5vZGQiLCAibGluZUNhcCI6ICJyb3VuZCIsICJsaW5lSm9pbiI6ICJyb3VuZCIsICJvcGFjaXR5IjogMS4wLCAicmFkaXVzIjogNSwgInN0cm9rZSI6IHRydWUsICJ3ZWlnaHQiOiAzfQogICAgICAgICAgICApLmFkZFRvKGZlYXR1cmVfZ3JvdXBfMTk3NDUyY2Y3MGFlNDY3YzgwNmQ4MWEyMmVjNWI2OWIpOwogICAgICAgIAogICAgCiAgICAgICAgICAgIHZhciBjaXJjbGVfbWFya2VyX2MyNTdjMzA4MzZiNDRmNWY5ZTFhZGNhN2VlMTNhYzA5ID0gTC5jaXJjbGVNYXJrZXIoCiAgICAgICAgICAgICAgICBbMzcuNzQ5MzY4ODI4NDUzMiwgLTEyMi40MTI2OTAxNDIzMDgwMV0sCiAgICAgICAgICAgICAgICB7ImJ1YmJsaW5nTW91c2VFdmVudHMiOiB0cnVlLCAiY29sb3IiOiAieWVsbG93IiwgImRhc2hBcnJheSI6IG51bGwsICJkYXNoT2Zmc2V0IjogbnVsbCwgImZpbGwiOiB0cnVlLCAiZmlsbENvbG9yIjogImJsdWUiLCAiZmlsbE9wYWNpdHkiOiAwLjYsICJmaWxsUnVsZSI6ICJldmVub2RkIiwgImxpbmVDYXAiOiAicm91bmQiLCAibGluZUpvaW4iOiAicm91bmQiLCAib3BhY2l0eSI6IDEuMCwgInJhZGl1cyI6IDUsICJzdHJva2UiOiB0cnVlLCAid2VpZ2h0IjogM30KICAgICAgICAgICAgKS5hZGRUbyhmZWF0dXJlX2dyb3VwXzE5NzQ1MmNmNzBhZTQ2N2M4MDZkODFhMjJlYzViNjliKTsKICAgICAgICAKICAgIAogICAgICAgICAgICB2YXIgY2lyY2xlX21hcmtlcl8xZmQzZWUyYWE4ZDg0YmY0YTIwOGM2YTk1ZmRkYjYyMSA9IEwuY2lyY2xlTWFya2VyKAogICAgICAgICAgICAgICAgWzM3LjcwOTIwMTA0NjIzNzksIC0xMjIuNDM0NjA5MjgwMzUyXSwKICAgICAgICAgICAgICAgIHsiYnViYmxpbmdNb3VzZUV2ZW50cyI6IHRydWUsICJjb2xvciI6ICJ5ZWxsb3ciLCAiZGFzaEFycmF5IjogbnVsbCwgImRhc2hPZmZzZXQiOiBudWxsLCAiZmlsbCI6IHRydWUsICJmaWxsQ29sb3IiOiAiYmx1ZSIsICJmaWxsT3BhY2l0eSI6IDAuNiwgImZpbGxSdWxlIjogImV2ZW5vZGQiLCAibGluZUNhcCI6ICJyb3VuZCIsICJsaW5lSm9pbiI6ICJyb3VuZCIsICJvcGFjaXR5IjogMS4wLCAicmFkaXVzIjogNSwgInN0cm9rZSI6IHRydWUsICJ3ZWlnaHQiOiAzfQogICAgICAgICAgICApLmFkZFRvKGZlYXR1cmVfZ3JvdXBfMTk3NDUyY2Y3MGFlNDY3YzgwNmQ4MWEyMmVjNWI2OWIpOwogICAgICAgIAogICAgCiAgICAgICAgICAgIHZhciBjaXJjbGVfbWFya2VyX2MyMDNlMGU5M2RlMDRlODI5OGYzOTNkYzIwOTY4ODExID0gTC5jaXJjbGVNYXJrZXIoCiAgICAgICAgICAgICAgICBbMzcuNzg3OTIwOTM3NTUzMjk1LCAtMTIyLjQxMDg4MjgyNTU1MV0sCiAgICAgICAgICAgICAgICB7ImJ1YmJsaW5nTW91c2VFdmVudHMiOiB0cnVlLCAiY29sb3IiOiAieWVsbG93IiwgImRhc2hBcnJheSI6IG51bGwsICJkYXNoT2Zmc2V0IjogbnVsbCwgImZpbGwiOiB0cnVlLCAiZmlsbENvbG9yIjogImJsdWUiLCAiZmlsbE9wYWNpdHkiOiAwLjYsICJmaWxsUnVsZSI6ICJldmVub2RkIiwgImxpbmVDYXAiOiAicm91bmQiLCAibGluZUpvaW4iOiAicm91bmQiLCAib3BhY2l0eSI6IDEuMCwgInJhZGl1cyI6IDUsICJzdHJva2UiOiB0cnVlLCAid2VpZ2h0IjogM30KICAgICAgICAgICAgKS5hZGRUbyhmZWF0dXJlX2dyb3VwXzE5NzQ1MmNmNzBhZTQ2N2M4MDZkODFhMjJlYzViNjliKTsKICAgICAgICAKICAgIAogICAgICAgICAgICB2YXIgY2lyY2xlX21hcmtlcl9kMTllNWEyZjViOTY0N2Y2OGVjZTRjNjBmNjUxMTFiYSA9IEwuY2lyY2xlTWFya2VyKAogICAgICAgICAgICAgICAgWzM3LjgwMDQ1NjY0NzEwMzg5LCAtMTIyLjQwMTQzMjc1NDcyMjAxXSwKICAgICAgICAgICAgICAgIHsiYnViYmxpbmdNb3VzZUV2ZW50cyI6IHRydWUsICJjb2xvciI6ICJ5ZWxsb3ciLCAiZGFzaEFycmF5IjogbnVsbCwgImRhc2hPZmZzZXQiOiBudWxsLCAiZmlsbCI6IHRydWUsICJmaWxsQ29sb3IiOiAiYmx1ZSIsICJmaWxsT3BhY2l0eSI6IDAuNiwgImZpbGxSdWxlIjogImV2ZW5vZGQiLCAibGluZUNhcCI6ICJyb3VuZCIsICJsaW5lSm9pbiI6ICJyb3VuZCIsICJvcGFjaXR5IjogMS4wLCAicmFkaXVzIjogNSwgInN0cm9rZSI6IHRydWUsICJ3ZWlnaHQiOiAzfQogICAgICAgICAgICApLmFkZFRvKGZlYXR1cmVfZ3JvdXBfMTk3NDUyY2Y3MGFlNDY3YzgwNmQ4MWEyMmVjNWI2OWIpOwogICAgICAgIAogICAgCiAgICAgICAgICAgIHZhciBjaXJjbGVfbWFya2VyXzcyNThkYTViYjJhYjRjMDU5MTZiMmY3NGQzNmE4YzhlID0gTC5jaXJjbGVNYXJrZXIoCiAgICAgICAgICAgICAgICBbMzcuNzQzNTU1MDU0MjI2NSwgLTEyMi40MjExMjgwMjk1MDVdLAogICAgICAgICAgICAgICAgeyJidWJibGluZ01vdXNlRXZlbnRzIjogdHJ1ZSwgImNvbG9yIjogInllbGxvdyIsICJkYXNoQXJyYXkiOiBudWxsLCAiZGFzaE9mZnNldCI6IG51bGwsICJmaWxsIjogdHJ1ZSwgImZpbGxDb2xvciI6ICJibHVlIiwgImZpbGxPcGFjaXR5IjogMC42LCAiZmlsbFJ1bGUiOiAiZXZlbm9kZCIsICJsaW5lQ2FwIjogInJvdW5kIiwgImxpbmVKb2luIjogInJvdW5kIiwgIm9wYWNpdHkiOiAxLjAsICJyYWRpdXMiOiA1LCAic3Ryb2tlIjogdHJ1ZSwgIndlaWdodCI6IDN9CiAgICAgICAgICAgICkuYWRkVG8oZmVhdHVyZV9ncm91cF8xOTc0NTJjZjcwYWU0NjdjODA2ZDgxYTIyZWM1YjY5Yik7CiAgICAgICAgCiAgICAKICAgICAgICAgICAgdmFyIGNpcmNsZV9tYXJrZXJfMTE2NGZkNDY5Y2EyNGNjZTg0NjA2OWYwNzk5YjE3N2YgPSBMLmNpcmNsZU1hcmtlcigKICAgICAgICAgICAgICAgIFszNy43ODY1NjQ3NjA3Njg1LCAtMTIyLjQwNzI0NDA4NzAzMl0sCiAgICAgICAgICAgICAgICB7ImJ1YmJsaW5nTW91c2VFdmVudHMiOiB0cnVlLCAiY29sb3IiOiAieWVsbG93IiwgImRhc2hBcnJheSI6IG51bGwsICJkYXNoT2Zmc2V0IjogbnVsbCwgImZpbGwiOiB0cnVlLCAiZmlsbENvbG9yIjogImJsdWUiLCAiZmlsbE9wYWNpdHkiOiAwLjYsICJmaWxsUnVsZSI6ICJldmVub2RkIiwgImxpbmVDYXAiOiAicm91bmQiLCAibGluZUpvaW4iOiAicm91bmQiLCAib3BhY2l0eSI6IDEuMCwgInJhZGl1cyI6IDUsICJzdHJva2UiOiB0cnVlLCAid2VpZ2h0IjogM30KICAgICAgICAgICAgKS5hZGRUbyhmZWF0dXJlX2dyb3VwXzE5NzQ1MmNmNzBhZTQ2N2M4MDZkODFhMjJlYzViNjliKTsKICAgICAgICAKICAgIAogICAgICAgICAgICB2YXIgY2lyY2xlX21hcmtlcl82MGUxY2JlZDk3MTE0NjAzYWE4ZWFlZjQ1OTQ0MGEwOCA9IEwuY2lyY2xlTWFya2VyKAogICAgICAgICAgICAgICAgWzM3Ljc2MTU2NTU5MjgwNDUsIC0xMjIuNDIzODAzMDAxOTAwOTldLAogICAgICAgICAgICAgICAgeyJidWJibGluZ01vdXNlRXZlbnRzIjogdHJ1ZSwgImNvbG9yIjogInllbGxvdyIsICJkYXNoQXJyYXkiOiBudWxsLCAiZGFzaE9mZnNldCI6IG51bGwsICJmaWxsIjogdHJ1ZSwgImZpbGxDb2xvciI6ICJibHVlIiwgImZpbGxPcGFjaXR5IjogMC42LCAiZmlsbFJ1bGUiOiAiZXZlbm9kZCIsICJsaW5lQ2FwIjogInJvdW5kIiwgImxpbmVKb2luIjogInJvdW5kIiwgIm9wYWNpdHkiOiAxLjAsICJyYWRpdXMiOiA1LCAic3Ryb2tlIjogdHJ1ZSwgIndlaWdodCI6IDN9CiAgICAgICAgICAgICkuYWRkVG8oZmVhdHVyZV9ncm91cF8xOTc0NTJjZjcwYWU0NjdjODA2ZDgxYTIyZWM1YjY5Yik7CiAgICAgICAgCiAgICAKICAgICAgICAgICAgdmFyIGNpcmNsZV9tYXJrZXJfNzE4OTA3NGM4MzhhNDkwNzk1NGJkMWNhNDI2Y2M0YzMgPSBMLmNpcmNsZU1hcmtlcigKICAgICAgICAgICAgICAgIFszNy43NjE1NjU1OTI4MDQ1LCAtMTIyLjQyMzgwMzAwMTkwMDk5XSwKICAgICAgICAgICAgICAgIHsiYnViYmxpbmdNb3VzZUV2ZW50cyI6IHRydWUsICJjb2xvciI6ICJ5ZWxsb3ciLCAiZGFzaEFycmF5IjogbnVsbCwgImRhc2hPZmZzZXQiOiBudWxsLCAiZmlsbCI6IHRydWUsICJmaWxsQ29sb3IiOiAiYmx1ZSIsICJmaWxsT3BhY2l0eSI6IDAuNiwgImZpbGxSdWxlIjogImV2ZW5vZGQiLCAibGluZUNhcCI6ICJyb3VuZCIsICJsaW5lSm9pbiI6ICJyb3VuZCIsICJvcGFjaXR5IjogMS4wLCAicmFkaXVzIjogNSwgInN0cm9rZSI6IHRydWUsICJ3ZWlnaHQiOiAzfQogICAgICAgICAgICApLmFkZFRvKGZlYXR1cmVfZ3JvdXBfMTk3NDUyY2Y3MGFlNDY3YzgwNmQ4MWEyMmVjNWI2OWIpOwogICAgICAgIAogICAgCiAgICAgICAgICAgIHZhciBjaXJjbGVfbWFya2VyXzcyYTAwMzQ1OWRmMTQ5ZDFhYThmM2U0NmMyYzg4MDUxID0gTC5jaXJjbGVNYXJrZXIoCiAgICAgICAgICAgICAgICBbMzcuNzQ0MTkyNzUwODkzMjA1LCAtMTIyLjQ0NDY4NTQ4MjI3M10sCiAgICAgICAgICAgICAgICB7ImJ1YmJsaW5nTW91c2VFdmVudHMiOiB0cnVlLCAiY29sb3IiOiAieWVsbG93IiwgImRhc2hBcnJheSI6IG51bGwsICJkYXNoT2Zmc2V0IjogbnVsbCwgImZpbGwiOiB0cnVlLCAiZmlsbENvbG9yIjogImJsdWUiLCAiZmlsbE9wYWNpdHkiOiAwLjYsICJmaWxsUnVsZSI6ICJldmVub2RkIiwgImxpbmVDYXAiOiAicm91bmQiLCAibGluZUpvaW4iOiAicm91bmQiLCAib3BhY2l0eSI6IDEuMCwgInJhZGl1cyI6IDUsICJzdHJva2UiOiB0cnVlLCAid2VpZ2h0IjogM30KICAgICAgICAgICAgKS5hZGRUbyhmZWF0dXJlX2dyb3VwXzE5NzQ1MmNmNzBhZTQ2N2M4MDZkODFhMjJlYzViNjliKTsKICAgICAgICAKICAgIAogICAgICAgICAgICB2YXIgY2lyY2xlX21hcmtlcl81Njc3Mjk1ZGE4ZGE0OTRkYjAzZjI4Y2JkNmNiNDAxYSA9IEwuY2lyY2xlTWFya2VyKAogICAgICAgICAgICAgICAgWzM3Ljc3NTQ2OTI4MjAwNDEsIC0xMjIuNDE1NzU3MDM5MTk2XSwKICAgICAgICAgICAgICAgIHsiYnViYmxpbmdNb3VzZUV2ZW50cyI6IHRydWUsICJjb2xvciI6ICJ5ZWxsb3ciLCAiZGFzaEFycmF5IjogbnVsbCwgImRhc2hPZmZzZXQiOiBudWxsLCAiZmlsbCI6IHRydWUsICJmaWxsQ29sb3IiOiAiYmx1ZSIsICJmaWxsT3BhY2l0eSI6IDAuNiwgImZpbGxSdWxlIjogImV2ZW5vZGQiLCAibGluZUNhcCI6ICJyb3VuZCIsICJsaW5lSm9pbiI6ICJyb3VuZCIsICJvcGFjaXR5IjogMS4wLCAicmFkaXVzIjogNSwgInN0cm9rZSI6IHRydWUsICJ3ZWlnaHQiOiAzfQogICAgICAgICAgICApLmFkZFRvKGZlYXR1cmVfZ3JvdXBfMTk3NDUyY2Y3MGFlNDY3YzgwNmQ4MWEyMmVjNWI2OWIpOwogICAgICAgIAogICAgCiAgICAgICAgICAgIHZhciBjaXJjbGVfbWFya2VyXzE4NGRmZTA5ZDg1YzQ5NWU4ODY4MzZhYTgxZTMyNWI3ID0gTC5jaXJjbGVNYXJrZXIoCiAgICAgICAgICAgICAgICBbMzcuNzI4NTI4MDYyNzQ2NSwgLTEyMi40NzU2NDc0NjA3ODU5OV0sCiAgICAgICAgICAgICAgICB7ImJ1YmJsaW5nTW91c2VFdmVudHMiOiB0cnVlLCAiY29sb3IiOiAieWVsbG93IiwgImRhc2hBcnJheSI6IG51bGwsICJkYXNoT2Zmc2V0IjogbnVsbCwgImZpbGwiOiB0cnVlLCAiZmlsbENvbG9yIjogImJsdWUiLCAiZmlsbE9wYWNpdHkiOiAwLjYsICJmaWxsUnVsZSI6ICJldmVub2RkIiwgImxpbmVDYXAiOiAicm91bmQiLCAibGluZUpvaW4iOiAicm91bmQiLCAib3BhY2l0eSI6IDEuMCwgInJhZGl1cyI6IDUsICJzdHJva2UiOiB0cnVlLCAid2VpZ2h0IjogM30KICAgICAgICAgICAgKS5hZGRUbyhmZWF0dXJlX2dyb3VwXzE5NzQ1MmNmNzBhZTQ2N2M4MDZkODFhMjJlYzViNjliKTsKICAgICAgICAKICAgIAogICAgICAgICAgICB2YXIgY2lyY2xlX21hcmtlcl8xNzY0NjI1ZmIzOTU0Nzc4OGEyYWJhNGNjYWQxMTI3MiA9IEwuY2lyY2xlTWFya2VyKAogICAgICAgICAgICAgICAgWzM3Ljc0Mjg1MTczNzQ0NDg5NCwgLTEyMi40MjA5Njc0NDA1NjRdLAogICAgICAgICAgICAgICAgeyJidWJibGluZ01vdXNlRXZlbnRzIjogdHJ1ZSwgImNvbG9yIjogInllbGxvdyIsICJkYXNoQXJyYXkiOiBudWxsLCAiZGFzaE9mZnNldCI6IG51bGwsICJmaWxsIjogdHJ1ZSwgImZpbGxDb2xvciI6ICJibHVlIiwgImZpbGxPcGFjaXR5IjogMC42LCAiZmlsbFJ1bGUiOiAiZXZlbm9kZCIsICJsaW5lQ2FwIjogInJvdW5kIiwgImxpbmVKb2luIjogInJvdW5kIiwgIm9wYWNpdHkiOiAxLjAsICJyYWRpdXMiOiA1LCAic3Ryb2tlIjogdHJ1ZSwgIndlaWdodCI6IDN9CiAgICAgICAgICAgICkuYWRkVG8oZmVhdHVyZV9ncm91cF8xOTc0NTJjZjcwYWU0NjdjODA2ZDgxYTIyZWM1YjY5Yik7CiAgICAgICAgCiAgICAKICAgICAgICAgICAgdmFyIGNpcmNsZV9tYXJrZXJfZjRlMDlhMzcwYzhjNDAxYmEwMWZjMmFhYWFhY2I3ZmYgPSBMLmNpcmNsZU1hcmtlcigKICAgICAgICAgICAgICAgIFszNy43ODIxMTk4NDg4OTMxLCAtMTIyLjQxNTY2OTY2MTQ0M10sCiAgICAgICAgICAgICAgICB7ImJ1YmJsaW5nTW91c2VFdmVudHMiOiB0cnVlLCAiY29sb3IiOiAieWVsbG93IiwgImRhc2hBcnJheSI6IG51bGwsICJkYXNoT2Zmc2V0IjogbnVsbCwgImZpbGwiOiB0cnVlLCAiZmlsbENvbG9yIjogImJsdWUiLCAiZmlsbE9wYWNpdHkiOiAwLjYsICJmaWxsUnVsZSI6ICJldmVub2RkIiwgImxpbmVDYXAiOiAicm91bmQiLCAibGluZUpvaW4iOiAicm91bmQiLCAib3BhY2l0eSI6IDEuMCwgInJhZGl1cyI6IDUsICJzdHJva2UiOiB0cnVlLCAid2VpZ2h0IjogM30KICAgICAgICAgICAgKS5hZGRUbyhmZWF0dXJlX2dyb3VwXzE5NzQ1MmNmNzBhZTQ2N2M4MDZkODFhMjJlYzViNjliKTsKICAgICAgICAKICAgIAogICAgICAgICAgICB2YXIgY2lyY2xlX21hcmtlcl85YTQwNzY2ZTNkYzc0ZTNmYTkzZjQ0MzU2ZGI3M2Q5OCA9IEwuY2lyY2xlTWFya2VyKAogICAgICAgICAgICAgICAgWzM3Ljc3OTE2NzQyMTg5NjMsIC0xMjIuNDA2MzQ2NDI1NjMyXSwKICAgICAgICAgICAgICAgIHsiYnViYmxpbmdNb3VzZUV2ZW50cyI6IHRydWUsICJjb2xvciI6ICJ5ZWxsb3ciLCAiZGFzaEFycmF5IjogbnVsbCwgImRhc2hPZmZzZXQiOiBudWxsLCAiZmlsbCI6IHRydWUsICJmaWxsQ29sb3IiOiAiYmx1ZSIsICJmaWxsT3BhY2l0eSI6IDAuNiwgImZpbGxSdWxlIjogImV2ZW5vZGQiLCAibGluZUNhcCI6ICJyb3VuZCIsICJsaW5lSm9pbiI6ICJyb3VuZCIsICJvcGFjaXR5IjogMS4wLCAicmFkaXVzIjogNSwgInN0cm9rZSI6IHRydWUsICJ3ZWlnaHQiOiAzfQogICAgICAgICAgICApLmFkZFRvKGZlYXR1cmVfZ3JvdXBfMTk3NDUyY2Y3MGFlNDY3YzgwNmQ4MWEyMmVjNWI2OWIpOwogICAgICAgIAogICAgCiAgICAgICAgICAgIHZhciBjaXJjbGVfbWFya2VyXzI1ZWYzYWQzODA2ODRhZTdiYjdmMjkyY2ViZTI2MTViID0gTC5jaXJjbGVNYXJrZXIoCiAgICAgICAgICAgICAgICBbMzcuNzY1NzE4NDM5NTI4MiwgLTEyMi40MDk1Mjk5MTMyNzhdLAogICAgICAgICAgICAgICAgeyJidWJibGluZ01vdXNlRXZlbnRzIjogdHJ1ZSwgImNvbG9yIjogInllbGxvdyIsICJkYXNoQXJyYXkiOiBudWxsLCAiZGFzaE9mZnNldCI6IG51bGwsICJmaWxsIjogdHJ1ZSwgImZpbGxDb2xvciI6ICJibHVlIiwgImZpbGxPcGFjaXR5IjogMC42LCAiZmlsbFJ1bGUiOiAiZXZlbm9kZCIsICJsaW5lQ2FwIjogInJvdW5kIiwgImxpbmVKb2luIjogInJvdW5kIiwgIm9wYWNpdHkiOiAxLjAsICJyYWRpdXMiOiA1LCAic3Ryb2tlIjogdHJ1ZSwgIndlaWdodCI6IDN9CiAgICAgICAgICAgICkuYWRkVG8oZmVhdHVyZV9ncm91cF8xOTc0NTJjZjcwYWU0NjdjODA2ZDgxYTIyZWM1YjY5Yik7CiAgICAgICAgCiAgICAKICAgICAgICAgICAgdmFyIGNpcmNsZV9tYXJrZXJfNTY4YWI2Mjg0N2E4NDljZDkxYTBiYWI2NThjYTAwNmUgPSBMLmNpcmNsZU1hcmtlcigKICAgICAgICAgICAgICAgIFszNy43NzU0MjA3MDY3MTEsIC0xMjIuNDAzNDA0NzkxNDc4OTldLAogICAgICAgICAgICAgICAgeyJidWJibGluZ01vdXNlRXZlbnRzIjogdHJ1ZSwgImNvbG9yIjogInllbGxvdyIsICJkYXNoQXJyYXkiOiBudWxsLCAiZGFzaE9mZnNldCI6IG51bGwsICJmaWxsIjogdHJ1ZSwgImZpbGxDb2xvciI6ICJibHVlIiwgImZpbGxPcGFjaXR5IjogMC42LCAiZmlsbFJ1bGUiOiAiZXZlbm9kZCIsICJsaW5lQ2FwIjogInJvdW5kIiwgImxpbmVKb2luIjogInJvdW5kIiwgIm9wYWNpdHkiOiAxLjAsICJyYWRpdXMiOiA1LCAic3Ryb2tlIjogdHJ1ZSwgIndlaWdodCI6IDN9CiAgICAgICAgICAgICkuYWRkVG8oZmVhdHVyZV9ncm91cF8xOTc0NTJjZjcwYWU0NjdjODA2ZDgxYTIyZWM1YjY5Yik7CiAgICAgICAgCiAgICAKICAgICAgICAgICAgdmFyIGNpcmNsZV9tYXJrZXJfYmE0YjFjOGQzMmI4NDE4YTg4ZWFjNjk0ZTI5NDc1ZmMgPSBMLmNpcmNsZU1hcmtlcigKICAgICAgICAgICAgICAgIFszNy43Njc1MjQzMDg3ODMsIC0xMjIuNDEwNzM4MDk3MzE1XSwKICAgICAgICAgICAgICAgIHsiYnViYmxpbmdNb3VzZUV2ZW50cyI6IHRydWUsICJjb2xvciI6ICJ5ZWxsb3ciLCAiZGFzaEFycmF5IjogbnVsbCwgImRhc2hPZmZzZXQiOiBudWxsLCAiZmlsbCI6IHRydWUsICJmaWxsQ29sb3IiOiAiYmx1ZSIsICJmaWxsT3BhY2l0eSI6IDAuNiwgImZpbGxSdWxlIjogImV2ZW5vZGQiLCAibGluZUNhcCI6ICJyb3VuZCIsICJsaW5lSm9pbiI6ICJyb3VuZCIsICJvcGFjaXR5IjogMS4wLCAicmFkaXVzIjogNSwgInN0cm9rZSI6IHRydWUsICJ3ZWlnaHQiOiAzfQogICAgICAgICAgICApLmFkZFRvKGZlYXR1cmVfZ3JvdXBfMTk3NDUyY2Y3MGFlNDY3YzgwNmQ4MWEyMmVjNWI2OWIpOwogICAgICAgIAogICAgCiAgICAgICAgICAgIHZhciBjaXJjbGVfbWFya2VyX2Q4YWQ0YmIzNDExNTQ5YWE4ODlhODNjZDQxYzJlMDJhID0gTC5jaXJjbGVNYXJrZXIoCiAgICAgICAgICAgICAgICBbMzcuNzY3NTI0MzA4NzgzLCAtMTIyLjQxMDczODA5NzMxNV0sCiAgICAgICAgICAgICAgICB7ImJ1YmJsaW5nTW91c2VFdmVudHMiOiB0cnVlLCAiY29sb3IiOiAieWVsbG93IiwgImRhc2hBcnJheSI6IG51bGwsICJkYXNoT2Zmc2V0IjogbnVsbCwgImZpbGwiOiB0cnVlLCAiZmlsbENvbG9yIjogImJsdWUiLCAiZmlsbE9wYWNpdHkiOiAwLjYsICJmaWxsUnVsZSI6ICJldmVub2RkIiwgImxpbmVDYXAiOiAicm91bmQiLCAibGluZUpvaW4iOiAicm91bmQiLCAib3BhY2l0eSI6IDEuMCwgInJhZGl1cyI6IDUsICJzdHJva2UiOiB0cnVlLCAid2VpZ2h0IjogM30KICAgICAgICAgICAgKS5hZGRUbyhmZWF0dXJlX2dyb3VwXzE5NzQ1MmNmNzBhZTQ2N2M4MDZkODFhMjJlYzViNjliKTsKICAgICAgICAKICAgIAogICAgICAgICAgICB2YXIgY2lyY2xlX21hcmtlcl9mNjFmZDc0MzJmOWM0ZGY4YTBhYmE4MWU1MWYyOWEzYSA9IEwuY2lyY2xlTWFya2VyKAogICAgICAgICAgICAgICAgWzM3LjcxMzEwODM0MzMyNjQsIC0xMjIuNDQ0MzE0MDI1MTg4XSwKICAgICAgICAgICAgICAgIHsiYnViYmxpbmdNb3VzZUV2ZW50cyI6IHRydWUsICJjb2xvciI6ICJ5ZWxsb3ciLCAiZGFzaEFycmF5IjogbnVsbCwgImRhc2hPZmZzZXQiOiBudWxsLCAiZmlsbCI6IHRydWUsICJmaWxsQ29sb3IiOiAiYmx1ZSIsICJmaWxsT3BhY2l0eSI6IDAuNiwgImZpbGxSdWxlIjogImV2ZW5vZGQiLCAibGluZUNhcCI6ICJyb3VuZCIsICJsaW5lSm9pbiI6ICJyb3VuZCIsICJvcGFjaXR5IjogMS4wLCAicmFkaXVzIjogNSwgInN0cm9rZSI6IHRydWUsICJ3ZWlnaHQiOiAzfQogICAgICAgICAgICApLmFkZFRvKGZlYXR1cmVfZ3JvdXBfMTk3NDUyY2Y3MGFlNDY3YzgwNmQ4MWEyMmVjNWI2OWIpOwogICAgICAgIAogICAgCiAgICAgICAgICAgIHZhciBjaXJjbGVfbWFya2VyXzZlOWU3ZGJlYzZhNDQ5NzI5NjZjNWQzNjVhYzA3YzJhID0gTC5jaXJjbGVNYXJrZXIoCiAgICAgICAgICAgICAgICBbMzcuNzEzMTA4MzQzMzI2NCwgLTEyMi40NDQzMTQwMjUxODhdLAogICAgICAgICAgICAgICAgeyJidWJibGluZ01vdXNlRXZlbnRzIjogdHJ1ZSwgImNvbG9yIjogInllbGxvdyIsICJkYXNoQXJyYXkiOiBudWxsLCAiZGFzaE9mZnNldCI6IG51bGwsICJmaWxsIjogdHJ1ZSwgImZpbGxDb2xvciI6ICJibHVlIiwgImZpbGxPcGFjaXR5IjogMC42LCAiZmlsbFJ1bGUiOiAiZXZlbm9kZCIsICJsaW5lQ2FwIjogInJvdW5kIiwgImxpbmVKb2luIjogInJvdW5kIiwgIm9wYWNpdHkiOiAxLjAsICJyYWRpdXMiOiA1LCAic3Ryb2tlIjogdHJ1ZSwgIndlaWdodCI6IDN9CiAgICAgICAgICAgICkuYWRkVG8oZmVhdHVyZV9ncm91cF8xOTc0NTJjZjcwYWU0NjdjODA2ZDgxYTIyZWM1YjY5Yik7CiAgICAgICAgCiAgICAKICAgICAgICAgICAgdmFyIGNpcmNsZV9tYXJrZXJfY2RmOWZkYmIwMDBlNDVmNTk1NjJkMGQ0ZTExNmE3N2QgPSBMLmNpcmNsZU1hcmtlcigKICAgICAgICAgICAgICAgIFszNy43NjYwMTYwMTE0MTAzLCAtMTIyLjQwMzY0NDYyMDQzOV0sCiAgICAgICAgICAgICAgICB7ImJ1YmJsaW5nTW91c2VFdmVudHMiOiB0cnVlLCAiY29sb3IiOiAieWVsbG93IiwgImRhc2hBcnJheSI6IG51bGwsICJkYXNoT2Zmc2V0IjogbnVsbCwgImZpbGwiOiB0cnVlLCAiZmlsbENvbG9yIjogImJsdWUiLCAiZmlsbE9wYWNpdHkiOiAwLjYsICJmaWxsUnVsZSI6ICJldmVub2RkIiwgImxpbmVDYXAiOiAicm91bmQiLCAibGluZUpvaW4iOiAicm91bmQiLCAib3BhY2l0eSI6IDEuMCwgInJhZGl1cyI6IDUsICJzdHJva2UiOiB0cnVlLCAid2VpZ2h0IjogM30KICAgICAgICAgICAgKS5hZGRUbyhmZWF0dXJlX2dyb3VwXzE5NzQ1MmNmNzBhZTQ2N2M4MDZkODFhMjJlYzViNjliKTsKICAgICAgICAKICAgIAogICAgICAgICAgICB2YXIgY2lyY2xlX21hcmtlcl9iZTNkNmQ3MjA2NGU0ZGRlODEzODdhMDZlMTg2MzE4NiA9IEwuY2lyY2xlTWFya2VyKAogICAgICAgICAgICAgICAgWzM3Ljc2NjAxNjAxMTQxMDMsIC0xMjIuNDAzNjQ0NjIwNDM5XSwKICAgICAgICAgICAgICAgIHsiYnViYmxpbmdNb3VzZUV2ZW50cyI6IHRydWUsICJjb2xvciI6ICJ5ZWxsb3ciLCAiZGFzaEFycmF5IjogbnVsbCwgImRhc2hPZmZzZXQiOiBudWxsLCAiZmlsbCI6IHRydWUsICJmaWxsQ29sb3IiOiAiYmx1ZSIsICJmaWxsT3BhY2l0eSI6IDAuNiwgImZpbGxSdWxlIjogImV2ZW5vZGQiLCAibGluZUNhcCI6ICJyb3VuZCIsICJsaW5lSm9pbiI6ICJyb3VuZCIsICJvcGFjaXR5IjogMS4wLCAicmFkaXVzIjogNSwgInN0cm9rZSI6IHRydWUsICJ3ZWlnaHQiOiAzfQogICAgICAgICAgICApLmFkZFRvKGZlYXR1cmVfZ3JvdXBfMTk3NDUyY2Y3MGFlNDY3YzgwNmQ4MWEyMmVjNWI2OWIpOwogICAgICAgIAogICAgCiAgICAgICAgICAgIHZhciBjaXJjbGVfbWFya2VyXzcxODk2Nzc1MTMxZjQ3MDg5NzM5OTgwZjc5ZWEzZDk3ID0gTC5jaXJjbGVNYXJrZXIoCiAgICAgICAgICAgICAgICBbMzcuNzc2MjMxMDQwNDc1OCwgLTEyMi40MTQ3MTQyOTU1Nzg5OV0sCiAgICAgICAgICAgICAgICB7ImJ1YmJsaW5nTW91c2VFdmVudHMiOiB0cnVlLCAiY29sb3IiOiAieWVsbG93IiwgImRhc2hBcnJheSI6IG51bGwsICJkYXNoT2Zmc2V0IjogbnVsbCwgImZpbGwiOiB0cnVlLCAiZmlsbENvbG9yIjogImJsdWUiLCAiZmlsbE9wYWNpdHkiOiAwLjYsICJmaWxsUnVsZSI6ICJldmVub2RkIiwgImxpbmVDYXAiOiAicm91bmQiLCAibGluZUpvaW4iOiAicm91bmQiLCAib3BhY2l0eSI6IDEuMCwgInJhZGl1cyI6IDUsICJzdHJva2UiOiB0cnVlLCAid2VpZ2h0IjogM30KICAgICAgICAgICAgKS5hZGRUbyhmZWF0dXJlX2dyb3VwXzE5NzQ1MmNmNzBhZTQ2N2M4MDZkODFhMjJlYzViNjliKTsKICAgICAgICAKICAgIAogICAgICAgICAgICB2YXIgY2lyY2xlX21hcmtlcl9kN2EwNTk2NGI0YmI0ZmQ5OWExNTI1NDExZWUxZGRhNCA9IEwuY2lyY2xlTWFya2VyKAogICAgICAgICAgICAgICAgWzM3Ljc3NjIzMTA0MDQ3NTgsIC0xMjIuNDE0NzE0Mjk1NTc4OTldLAogICAgICAgICAgICAgICAgeyJidWJibGluZ01vdXNlRXZlbnRzIjogdHJ1ZSwgImNvbG9yIjogInllbGxvdyIsICJkYXNoQXJyYXkiOiBudWxsLCAiZGFzaE9mZnNldCI6IG51bGwsICJmaWxsIjogdHJ1ZSwgImZpbGxDb2xvciI6ICJibHVlIiwgImZpbGxPcGFjaXR5IjogMC42LCAiZmlsbFJ1bGUiOiAiZXZlbm9kZCIsICJsaW5lQ2FwIjogInJvdW5kIiwgImxpbmVKb2luIjogInJvdW5kIiwgIm9wYWNpdHkiOiAxLjAsICJyYWRpdXMiOiA1LCAic3Ryb2tlIjogdHJ1ZSwgIndlaWdodCI6IDN9CiAgICAgICAgICAgICkuYWRkVG8oZmVhdHVyZV9ncm91cF8xOTc0NTJjZjcwYWU0NjdjODA2ZDgxYTIyZWM1YjY5Yik7CiAgICAgICAgCiAgICAKICAgICAgICAgICAgdmFyIGNpcmNsZV9tYXJrZXJfOGI3NzE1ZjIwYjA0NGJlMjhjY2VmODEyYWRhYjI2MDIgPSBMLmNpcmNsZU1hcmtlcigKICAgICAgICAgICAgICAgIFszNy43Nzc1MTE4ODk1Njk1LCAtMTIyLjQxODA0NTQ1Mjc2OF0sCiAgICAgICAgICAgICAgICB7ImJ1YmJsaW5nTW91c2VFdmVudHMiOiB0cnVlLCAiY29sb3IiOiAieWVsbG93IiwgImRhc2hBcnJheSI6IG51bGwsICJkYXNoT2Zmc2V0IjogbnVsbCwgImZpbGwiOiB0cnVlLCAiZmlsbENvbG9yIjogImJsdWUiLCAiZmlsbE9wYWNpdHkiOiAwLjYsICJmaWxsUnVsZSI6ICJldmVub2RkIiwgImxpbmVDYXAiOiAicm91bmQiLCAibGluZUpvaW4iOiAicm91bmQiLCAib3BhY2l0eSI6IDEuMCwgInJhZGl1cyI6IDUsICJzdHJva2UiOiB0cnVlLCAid2VpZ2h0IjogM30KICAgICAgICAgICAgKS5hZGRUbyhmZWF0dXJlX2dyb3VwXzE5NzQ1MmNmNzBhZTQ2N2M4MDZkODFhMjJlYzViNjliKTsKICAgICAgICAKICAgIAogICAgICAgICAgICB2YXIgY2lyY2xlX21hcmtlcl9jZjI0MzJiMDY5NWU0ZDc4YjE5NGFhMmM4NGNhMDVjNSA9IEwuY2lyY2xlTWFya2VyKAogICAgICAgICAgICAgICAgWzM3Ljc4MjAyMzg0Nzg5NzUsIC0xMjIuNDAxMTYxNTU1NjAyXSwKICAgICAgICAgICAgICAgIHsiYnViYmxpbmdNb3VzZUV2ZW50cyI6IHRydWUsICJjb2xvciI6ICJ5ZWxsb3ciLCAiZGFzaEFycmF5IjogbnVsbCwgImRhc2hPZmZzZXQiOiBudWxsLCAiZmlsbCI6IHRydWUsICJmaWxsQ29sb3IiOiAiYmx1ZSIsICJmaWxsT3BhY2l0eSI6IDAuNiwgImZpbGxSdWxlIjogImV2ZW5vZGQiLCAibGluZUNhcCI6ICJyb3VuZCIsICJsaW5lSm9pbiI6ICJyb3VuZCIsICJvcGFjaXR5IjogMS4wLCAicmFkaXVzIjogNSwgInN0cm9rZSI6IHRydWUsICJ3ZWlnaHQiOiAzfQogICAgICAgICAgICApLmFkZFRvKGZlYXR1cmVfZ3JvdXBfMTk3NDUyY2Y3MGFlNDY3YzgwNmQ4MWEyMmVjNWI2OWIpOwogICAgICAgIAogICAgCiAgICAgICAgICAgIHZhciBjaXJjbGVfbWFya2VyXzk5OWM3YzYzMDUyZjQ2YWI4YTcyZjdmMTcxMzA0Y2YyID0gTC5jaXJjbGVNYXJrZXIoCiAgICAgICAgICAgICAgICBbMzcuNzI3MDA1MzE5NjI5OTk1LCAtMTIyLjQwMzQwODY2OTE5MV0sCiAgICAgICAgICAgICAgICB7ImJ1YmJsaW5nTW91c2VFdmVudHMiOiB0cnVlLCAiY29sb3IiOiAieWVsbG93IiwgImRhc2hBcnJheSI6IG51bGwsICJkYXNoT2Zmc2V0IjogbnVsbCwgImZpbGwiOiB0cnVlLCAiZmlsbENvbG9yIjogImJsdWUiLCAiZmlsbE9wYWNpdHkiOiAwLjYsICJmaWxsUnVsZSI6ICJldmVub2RkIiwgImxpbmVDYXAiOiAicm91bmQiLCAibGluZUpvaW4iOiAicm91bmQiLCAib3BhY2l0eSI6IDEuMCwgInJhZGl1cyI6IDUsICJzdHJva2UiOiB0cnVlLCAid2VpZ2h0IjogM30KICAgICAgICAgICAgKS5hZGRUbyhmZWF0dXJlX2dyb3VwXzE5NzQ1MmNmNzBhZTQ2N2M4MDZkODFhMjJlYzViNjliKTsKICAgICAgICAKICAgIAogICAgICAgICAgICB2YXIgY2lyY2xlX21hcmtlcl9mMzcwZGM5NjkwMGY0YmVlYjUzYzYwMjg1OThiZWE2OCA9IEwuY2lyY2xlTWFya2VyKAogICAgICAgICAgICAgICAgWzM3Ljc4MzgzNDQzNzQxNDEsIC0xMjIuNDEyOTMwNTIyMDU5XSwKICAgICAgICAgICAgICAgIHsiYnViYmxpbmdNb3VzZUV2ZW50cyI6IHRydWUsICJjb2xvciI6ICJ5ZWxsb3ciLCAiZGFzaEFycmF5IjogbnVsbCwgImRhc2hPZmZzZXQiOiBudWxsLCAiZmlsbCI6IHRydWUsICJmaWxsQ29sb3IiOiAiYmx1ZSIsICJmaWxsT3BhY2l0eSI6IDAuNiwgImZpbGxSdWxlIjogImV2ZW5vZGQiLCAibGluZUNhcCI6ICJyb3VuZCIsICJsaW5lSm9pbiI6ICJyb3VuZCIsICJvcGFjaXR5IjogMS4wLCAicmFkaXVzIjogNSwgInN0cm9rZSI6IHRydWUsICJ3ZWlnaHQiOiAzfQogICAgICAgICAgICApLmFkZFRvKGZlYXR1cmVfZ3JvdXBfMTk3NDUyY2Y3MGFlNDY3YzgwNmQ4MWEyMmVjNWI2OWIpOwogICAgICAgIAogICAgCiAgICAgICAgICAgIHZhciBjaXJjbGVfbWFya2VyXzBjYmE3ZTAxZWU1ODQ2OTI5MjE3NDljYThkOGIwMjQ2ID0gTC5jaXJjbGVNYXJrZXIoCiAgICAgICAgICAgICAgICBbMzcuNzUzMDE4NjUzNzQ0NjA0LCAtMTIyLjQxODU4NzE3MjIxOV0sCiAgICAgICAgICAgICAgICB7ImJ1YmJsaW5nTW91c2VFdmVudHMiOiB0cnVlLCAiY29sb3IiOiAieWVsbG93IiwgImRhc2hBcnJheSI6IG51bGwsICJkYXNoT2Zmc2V0IjogbnVsbCwgImZpbGwiOiB0cnVlLCAiZmlsbENvbG9yIjogImJsdWUiLCAiZmlsbE9wYWNpdHkiOiAwLjYsICJmaWxsUnVsZSI6ICJldmVub2RkIiwgImxpbmVDYXAiOiAicm91bmQiLCAibGluZUpvaW4iOiAicm91bmQiLCAib3BhY2l0eSI6IDEuMCwgInJhZGl1cyI6IDUsICJzdHJva2UiOiB0cnVlLCAid2VpZ2h0IjogM30KICAgICAgICAgICAgKS5hZGRUbyhmZWF0dXJlX2dyb3VwXzE5NzQ1MmNmNzBhZTQ2N2M4MDZkODFhMjJlYzViNjliKTsKICAgICAgICAKICAgIAogICAgICAgICAgICB2YXIgY2lyY2xlX21hcmtlcl8xNWE3MjQ1OTk0NjU0YTQ1OGQ1Y2RjOWEzNjIyZDc2MSA9IEwuY2lyY2xlTWFya2VyKAogICAgICAgICAgICAgICAgWzM3Ljc3NDA0MTgzODUwNDEsIC0xMjIuNDE0MzcwNjI3NDk1XSwKICAgICAgICAgICAgICAgIHsiYnViYmxpbmdNb3VzZUV2ZW50cyI6IHRydWUsICJjb2xvciI6ICJ5ZWxsb3ciLCAiZGFzaEFycmF5IjogbnVsbCwgImRhc2hPZmZzZXQiOiBudWxsLCAiZmlsbCI6IHRydWUsICJmaWxsQ29sb3IiOiAiYmx1ZSIsICJmaWxsT3BhY2l0eSI6IDAuNiwgImZpbGxSdWxlIjogImV2ZW5vZGQiLCAibGluZUNhcCI6ICJyb3VuZCIsICJsaW5lSm9pbiI6ICJyb3VuZCIsICJvcGFjaXR5IjogMS4wLCAicmFkaXVzIjogNSwgInN0cm9rZSI6IHRydWUsICJ3ZWlnaHQiOiAzfQogICAgICAgICAgICApLmFkZFRvKGZlYXR1cmVfZ3JvdXBfMTk3NDUyY2Y3MGFlNDY3YzgwNmQ4MWEyMmVjNWI2OWIpOwogICAgICAgIAogICAgCiAgICAgICAgICAgIHZhciBjaXJjbGVfbWFya2VyXzdlOWIzNzY5NmI2YjRmZDJhOWJiYzFhYmM4ZmEzNWJiID0gTC5jaXJjbGVNYXJrZXIoCiAgICAgICAgICAgICAgICBbMzcuNzkwNTM4OTkzNzI1LCAtMTIyLjQwMzkxNTY4MTU3MTAxXSwKICAgICAgICAgICAgICAgIHsiYnViYmxpbmdNb3VzZUV2ZW50cyI6IHRydWUsICJjb2xvciI6ICJ5ZWxsb3ciLCAiZGFzaEFycmF5IjogbnVsbCwgImRhc2hPZmZzZXQiOiBudWxsLCAiZmlsbCI6IHRydWUsICJmaWxsQ29sb3IiOiAiYmx1ZSIsICJmaWxsT3BhY2l0eSI6IDAuNiwgImZpbGxSdWxlIjogImV2ZW5vZGQiLCAibGluZUNhcCI6ICJyb3VuZCIsICJsaW5lSm9pbiI6ICJyb3VuZCIsICJvcGFjaXR5IjogMS4wLCAicmFkaXVzIjogNSwgInN0cm9rZSI6IHRydWUsICJ3ZWlnaHQiOiAzfQogICAgICAgICAgICApLmFkZFRvKGZlYXR1cmVfZ3JvdXBfMTk3NDUyY2Y3MGFlNDY3YzgwNmQ4MWEyMmVjNWI2OWIpOwogICAgICAgIAogICAgCiAgICAgICAgICAgIHZhciBjaXJjbGVfbWFya2VyX2NjODI4OWIzMTFhMDQ2ZjRhODk4YWFiODRhMTc3ZmJkID0gTC5jaXJjbGVNYXJrZXIoCiAgICAgICAgICAgICAgICBbMzcuNzgzMDk5ODI0NDU5MjEsIC0xMjIuNDE5MTgzMDk2MzYyXSwKICAgICAgICAgICAgICAgIHsiYnViYmxpbmdNb3VzZUV2ZW50cyI6IHRydWUsICJjb2xvciI6ICJ5ZWxsb3ciLCAiZGFzaEFycmF5IjogbnVsbCwgImRhc2hPZmZzZXQiOiBudWxsLCAiZmlsbCI6IHRydWUsICJmaWxsQ29sb3IiOiAiYmx1ZSIsICJmaWxsT3BhY2l0eSI6IDAuNiwgImZpbGxSdWxlIjogImV2ZW5vZGQiLCAibGluZUNhcCI6ICJyb3VuZCIsICJsaW5lSm9pbiI6ICJyb3VuZCIsICJvcGFjaXR5IjogMS4wLCAicmFkaXVzIjogNSwgInN0cm9rZSI6IHRydWUsICJ3ZWlnaHQiOiAzfQogICAgICAgICAgICApLmFkZFRvKGZlYXR1cmVfZ3JvdXBfMTk3NDUyY2Y3MGFlNDY3YzgwNmQ4MWEyMmVjNWI2OWIpOwogICAgICAgIAogICAgCiAgICAgICAgICAgIHZhciBjaXJjbGVfbWFya2VyX2I2ODNkNjcyYzA2NDQ0MmM4NzQ5ZGE3ZmEyNTliNWQ3ID0gTC5jaXJjbGVNYXJrZXIoCiAgICAgICAgICAgICAgICBbMzcuNzQwNzM2MDU0ODM1NzksIC0xMjIuMzg4NzUzMDQ2OTk3XSwKICAgICAgICAgICAgICAgIHsiYnViYmxpbmdNb3VzZUV2ZW50cyI6IHRydWUsICJjb2xvciI6ICJ5ZWxsb3ciLCAiZGFzaEFycmF5IjogbnVsbCwgImRhc2hPZmZzZXQiOiBudWxsLCAiZmlsbCI6IHRydWUsICJmaWxsQ29sb3IiOiAiYmx1ZSIsICJmaWxsT3BhY2l0eSI6IDAuNiwgImZpbGxSdWxlIjogImV2ZW5vZGQiLCAibGluZUNhcCI6ICJyb3VuZCIsICJsaW5lSm9pbiI6ICJyb3VuZCIsICJvcGFjaXR5IjogMS4wLCAicmFkaXVzIjogNSwgInN0cm9rZSI6IHRydWUsICJ3ZWlnaHQiOiAzfQogICAgICAgICAgICApLmFkZFRvKGZlYXR1cmVfZ3JvdXBfMTk3NDUyY2Y3MGFlNDY3YzgwNmQ4MWEyMmVjNWI2OWIpOwogICAgICAgIAogICAgCiAgICAgICAgICAgIHZhciBjaXJjbGVfbWFya2VyXzAwOGRjZjQyNzI1YjQyMjBhNjEwMWMwYTkzNjA3YTRhID0gTC5jaXJjbGVNYXJrZXIoCiAgICAgICAgICAgICAgICBbMzcuNzc0OTkxMjk0NDM2NiwgLTEyMi40Mzc3OTk3MDM0NjhdLAogICAgICAgICAgICAgICAgeyJidWJibGluZ01vdXNlRXZlbnRzIjogdHJ1ZSwgImNvbG9yIjogInllbGxvdyIsICJkYXNoQXJyYXkiOiBudWxsLCAiZGFzaE9mZnNldCI6IG51bGwsICJmaWxsIjogdHJ1ZSwgImZpbGxDb2xvciI6ICJibHVlIiwgImZpbGxPcGFjaXR5IjogMC42LCAiZmlsbFJ1bGUiOiAiZXZlbm9kZCIsICJsaW5lQ2FwIjogInJvdW5kIiwgImxpbmVKb2luIjogInJvdW5kIiwgIm9wYWNpdHkiOiAxLjAsICJyYWRpdXMiOiA1LCAic3Ryb2tlIjogdHJ1ZSwgIndlaWdodCI6IDN9CiAgICAgICAgICAgICkuYWRkVG8oZmVhdHVyZV9ncm91cF8xOTc0NTJjZjcwYWU0NjdjODA2ZDgxYTIyZWM1YjY5Yik7CiAgICAgICAgCiAgICAKICAgICAgICAgICAgdmFyIGNpcmNsZV9tYXJrZXJfOTMxNGNmZjZlMTc5NGRlODkyODBiZTVkMzY2YmE2YTMgPSBMLmNpcmNsZU1hcmtlcigKICAgICAgICAgICAgICAgIFszNy43NzcwOTAyNzQzNjY5LCAtMTIyLjQyMTMzMjY4NDYzM10sCiAgICAgICAgICAgICAgICB7ImJ1YmJsaW5nTW91c2VFdmVudHMiOiB0cnVlLCAiY29sb3IiOiAieWVsbG93IiwgImRhc2hBcnJheSI6IG51bGwsICJkYXNoT2Zmc2V0IjogbnVsbCwgImZpbGwiOiB0cnVlLCAiZmlsbENvbG9yIjogImJsdWUiLCAiZmlsbE9wYWNpdHkiOiAwLjYsICJmaWxsUnVsZSI6ICJldmVub2RkIiwgImxpbmVDYXAiOiAicm91bmQiLCAibGluZUpvaW4iOiAicm91bmQiLCAib3BhY2l0eSI6IDEuMCwgInJhZGl1cyI6IDUsICJzdHJva2UiOiB0cnVlLCAid2VpZ2h0IjogM30KICAgICAgICAgICAgKS5hZGRUbyhmZWF0dXJlX2dyb3VwXzE5NzQ1MmNmNzBhZTQ2N2M4MDZkODFhMjJlYzViNjliKTsKICAgICAgICAKICAgIAogICAgICAgICAgICB2YXIgY2lyY2xlX21hcmtlcl9iYjEzYWZhNTE4NWM0NTI4OTAyMzE2NjI3MWQ5NzgyZiA9IEwuY2lyY2xlTWFya2VyKAogICAgICAgICAgICAgICAgWzM3Ljc3NzA5MDI3NDM2NjksIC0xMjIuNDIxMzMyNjg0NjMzXSwKICAgICAgICAgICAgICAgIHsiYnViYmxpbmdNb3VzZUV2ZW50cyI6IHRydWUsICJjb2xvciI6ICJ5ZWxsb3ciLCAiZGFzaEFycmF5IjogbnVsbCwgImRhc2hPZmZzZXQiOiBudWxsLCAiZmlsbCI6IHRydWUsICJmaWxsQ29sb3IiOiAiYmx1ZSIsICJmaWxsT3BhY2l0eSI6IDAuNiwgImZpbGxSdWxlIjogImV2ZW5vZGQiLCAibGluZUNhcCI6ICJyb3VuZCIsICJsaW5lSm9pbiI6ICJyb3VuZCIsICJvcGFjaXR5IjogMS4wLCAicmFkaXVzIjogNSwgInN0cm9rZSI6IHRydWUsICJ3ZWlnaHQiOiAzfQogICAgICAgICAgICApLmFkZFRvKGZlYXR1cmVfZ3JvdXBfMTk3NDUyY2Y3MGFlNDY3YzgwNmQ4MWEyMmVjNWI2OWIpOwogICAgICAgIAogICAgCiAgICAgICAgICAgIHZhciBjaXJjbGVfbWFya2VyXzc1NzZkOTZhNjRkNjRlOGE4ZjkwYWJhMTY1NDA4Y2QzID0gTC5jaXJjbGVNYXJrZXIoCiAgICAgICAgICAgICAgICBbMzcuNzgyMjQ1ODIyMzkxNywgLTEyMi40NDY2MTI5Nzg4MzldLAogICAgICAgICAgICAgICAgeyJidWJibGluZ01vdXNlRXZlbnRzIjogdHJ1ZSwgImNvbG9yIjogInllbGxvdyIsICJkYXNoQXJyYXkiOiBudWxsLCAiZGFzaE9mZnNldCI6IG51bGwsICJmaWxsIjogdHJ1ZSwgImZpbGxDb2xvciI6ICJibHVlIiwgImZpbGxPcGFjaXR5IjogMC42LCAiZmlsbFJ1bGUiOiAiZXZlbm9kZCIsICJsaW5lQ2FwIjogInJvdW5kIiwgImxpbmVKb2luIjogInJvdW5kIiwgIm9wYWNpdHkiOiAxLjAsICJyYWRpdXMiOiA1LCAic3Ryb2tlIjogdHJ1ZSwgIndlaWdodCI6IDN9CiAgICAgICAgICAgICkuYWRkVG8oZmVhdHVyZV9ncm91cF8xOTc0NTJjZjcwYWU0NjdjODA2ZDgxYTIyZWM1YjY5Yik7CiAgICAgICAgCiAgICAKICAgICAgICAgICAgdmFyIGNpcmNsZV9tYXJrZXJfNjgyMTBjZDAyNjBjNDA1MDkxMjU5N2NhYjM4ODIzZGQgPSBMLmNpcmNsZU1hcmtlcigKICAgICAgICAgICAgICAgIFszNy43MzAwMzc5OTk1MTI3OTUsIC0xMjIuNDA0NTk0MTQwNjM0XSwKICAgICAgICAgICAgICAgIHsiYnViYmxpbmdNb3VzZUV2ZW50cyI6IHRydWUsICJjb2xvciI6ICJ5ZWxsb3ciLCAiZGFzaEFycmF5IjogbnVsbCwgImRhc2hPZmZzZXQiOiBudWxsLCAiZmlsbCI6IHRydWUsICJmaWxsQ29sb3IiOiAiYmx1ZSIsICJmaWxsT3BhY2l0eSI6IDAuNiwgImZpbGxSdWxlIjogImV2ZW5vZGQiLCAibGluZUNhcCI6ICJyb3VuZCIsICJsaW5lSm9pbiI6ICJyb3VuZCIsICJvcGFjaXR5IjogMS4wLCAicmFkaXVzIjogNSwgInN0cm9rZSI6IHRydWUsICJ3ZWlnaHQiOiAzfQogICAgICAgICAgICApLmFkZFRvKGZlYXR1cmVfZ3JvdXBfMTk3NDUyY2Y3MGFlNDY3YzgwNmQ4MWEyMmVjNWI2OWIpOwogICAgICAgIAogICAgCiAgICAgICAgICAgIHZhciBjaXJjbGVfbWFya2VyXzI0OWFkM2U4NjQzMjQ2MTFiZDcwYjYyMGFmNDA5ZDM0ID0gTC5jaXJjbGVNYXJrZXIoCiAgICAgICAgICAgICAgICBbMzcuNzk1MzMzODI2NzQzNiwgLTEyMi4zOTczNzM3NDAwNjZdLAogICAgICAgICAgICAgICAgeyJidWJibGluZ01vdXNlRXZlbnRzIjogdHJ1ZSwgImNvbG9yIjogInllbGxvdyIsICJkYXNoQXJyYXkiOiBudWxsLCAiZGFzaE9mZnNldCI6IG51bGwsICJmaWxsIjogdHJ1ZSwgImZpbGxDb2xvciI6ICJibHVlIiwgImZpbGxPcGFjaXR5IjogMC42LCAiZmlsbFJ1bGUiOiAiZXZlbm9kZCIsICJsaW5lQ2FwIjogInJvdW5kIiwgImxpbmVKb2luIjogInJvdW5kIiwgIm9wYWNpdHkiOiAxLjAsICJyYWRpdXMiOiA1LCAic3Ryb2tlIjogdHJ1ZSwgIndlaWdodCI6IDN9CiAgICAgICAgICAgICkuYWRkVG8oZmVhdHVyZV9ncm91cF8xOTc0NTJjZjcwYWU0NjdjODA2ZDgxYTIyZWM1YjY5Yik7CiAgICAgICAgCiAgICAKICAgICAgICAgICAgdmFyIGNpcmNsZV9tYXJrZXJfZGNmMWQ5NmViYTdkNDRkOGEyNGRlNDgxN2E5MjNjNjMgPSBMLmNpcmNsZU1hcmtlcigKICAgICAgICAgICAgICAgIFszNy43ODc1MTU4NzQxNjIyOTUsIC0xMjIuNDA3NDM0OTg5NTIzXSwKICAgICAgICAgICAgICAgIHsiYnViYmxpbmdNb3VzZUV2ZW50cyI6IHRydWUsICJjb2xvciI6ICJ5ZWxsb3ciLCAiZGFzaEFycmF5IjogbnVsbCwgImRhc2hPZmZzZXQiOiBudWxsLCAiZmlsbCI6IHRydWUsICJmaWxsQ29sb3IiOiAiYmx1ZSIsICJmaWxsT3BhY2l0eSI6IDAuNiwgImZpbGxSdWxlIjogImV2ZW5vZGQiLCAibGluZUNhcCI6ICJyb3VuZCIsICJsaW5lSm9pbiI6ICJyb3VuZCIsICJvcGFjaXR5IjogMS4wLCAicmFkaXVzIjogNSwgInN0cm9rZSI6IHRydWUsICJ3ZWlnaHQiOiAzfQogICAgICAgICAgICApLmFkZFRvKGZlYXR1cmVfZ3JvdXBfMTk3NDUyY2Y3MGFlNDY3YzgwNmQ4MWEyMmVjNWI2OWIpOwogICAgICAgIAogICAgCiAgICAgICAgICAgIHZhciBjaXJjbGVfbWFya2VyXzM4YzQ4YTExZjU5ODQwNjViNWU5ODExM2E5MmQyYmQ5ID0gTC5jaXJjbGVNYXJrZXIoCiAgICAgICAgICAgICAgICBbMzcuNzc4NTIzMzc3NjAzMiwgLTEyMi40MDM0NjQwODAwMzNdLAogICAgICAgICAgICAgICAgeyJidWJibGluZ01vdXNlRXZlbnRzIjogdHJ1ZSwgImNvbG9yIjogInllbGxvdyIsICJkYXNoQXJyYXkiOiBudWxsLCAiZGFzaE9mZnNldCI6IG51bGwsICJmaWxsIjogdHJ1ZSwgImZpbGxDb2xvciI6ICJibHVlIiwgImZpbGxPcGFjaXR5IjogMC42LCAiZmlsbFJ1bGUiOiAiZXZlbm9kZCIsICJsaW5lQ2FwIjogInJvdW5kIiwgImxpbmVKb2luIjogInJvdW5kIiwgIm9wYWNpdHkiOiAxLjAsICJyYWRpdXMiOiA1LCAic3Ryb2tlIjogdHJ1ZSwgIndlaWdodCI6IDN9CiAgICAgICAgICAgICkuYWRkVG8oZmVhdHVyZV9ncm91cF8xOTc0NTJjZjcwYWU0NjdjODA2ZDgxYTIyZWM1YjY5Yik7CiAgICAgICAgCiAgICAKICAgICAgICAgICAgdmFyIGNpcmNsZV9tYXJrZXJfNmM5YjZhNzBiMzYzNDVkNWI1ZTc0YjdiZTBkM2Q1YzIgPSBMLmNpcmNsZU1hcmtlcigKICAgICAgICAgICAgICAgIFszNy43Nzg1MjMzNzc2MDMyLCAtMTIyLjQwMzQ2NDA4MDAzM10sCiAgICAgICAgICAgICAgICB7ImJ1YmJsaW5nTW91c2VFdmVudHMiOiB0cnVlLCAiY29sb3IiOiAieWVsbG93IiwgImRhc2hBcnJheSI6IG51bGwsICJkYXNoT2Zmc2V0IjogbnVsbCwgImZpbGwiOiB0cnVlLCAiZmlsbENvbG9yIjogImJsdWUiLCAiZmlsbE9wYWNpdHkiOiAwLjYsICJmaWxsUnVsZSI6ICJldmVub2RkIiwgImxpbmVDYXAiOiAicm91bmQiLCAibGluZUpvaW4iOiAicm91bmQiLCAib3BhY2l0eSI6IDEuMCwgInJhZGl1cyI6IDUsICJzdHJva2UiOiB0cnVlLCAid2VpZ2h0IjogM30KICAgICAgICAgICAgKS5hZGRUbyhmZWF0dXJlX2dyb3VwXzE5NzQ1MmNmNzBhZTQ2N2M4MDZkODFhMjJlYzViNjliKTsKICAgICAgICAKICAgIAogICAgICAgICAgICB2YXIgY2lyY2xlX21hcmtlcl8wMTkyNTNlNGY1NDI0MmVkOGNlYzEzYjc0MDlhZmI3MiA9IEwuY2lyY2xlTWFya2VyKAogICAgICAgICAgICAgICAgWzM3Ljc3MzI5MTgwNjkwMjk5NiwgLTEyMi40MzY2MTQxODEzMzEwMV0sCiAgICAgICAgICAgICAgICB7ImJ1YmJsaW5nTW91c2VFdmVudHMiOiB0cnVlLCAiY29sb3IiOiAieWVsbG93IiwgImRhc2hBcnJheSI6IG51bGwsICJkYXNoT2Zmc2V0IjogbnVsbCwgImZpbGwiOiB0cnVlLCAiZmlsbENvbG9yIjogImJsdWUiLCAiZmlsbE9wYWNpdHkiOiAwLjYsICJmaWxsUnVsZSI6ICJldmVub2RkIiwgImxpbmVDYXAiOiAicm91bmQiLCAibGluZUpvaW4iOiAicm91bmQiLCAib3BhY2l0eSI6IDEuMCwgInJhZGl1cyI6IDUsICJzdHJva2UiOiB0cnVlLCAid2VpZ2h0IjogM30KICAgICAgICAgICAgKS5hZGRUbyhmZWF0dXJlX2dyb3VwXzE5NzQ1MmNmNzBhZTQ2N2M4MDZkODFhMjJlYzViNjliKTsKICAgICAgICAKICAgIAogICAgICAgICAgICB2YXIgY2lyY2xlX21hcmtlcl84Zjg4OTIzZDY3NTg0NjBmYTU1M2UyMTFlNDA1YjM4OSA9IEwuY2lyY2xlTWFya2VyKAogICAgICAgICAgICAgICAgWzM3Ljc4MDUyNzU3ODUwOSwgLTEyMi4zOTY4NDkwMTUxNzIwMV0sCiAgICAgICAgICAgICAgICB7ImJ1YmJsaW5nTW91c2VFdmVudHMiOiB0cnVlLCAiY29sb3IiOiAieWVsbG93IiwgImRhc2hBcnJheSI6IG51bGwsICJkYXNoT2Zmc2V0IjogbnVsbCwgImZpbGwiOiB0cnVlLCAiZmlsbENvbG9yIjogImJsdWUiLCAiZmlsbE9wYWNpdHkiOiAwLjYsICJmaWxsUnVsZSI6ICJldmVub2RkIiwgImxpbmVDYXAiOiAicm91bmQiLCAibGluZUpvaW4iOiAicm91bmQiLCAib3BhY2l0eSI6IDEuMCwgInJhZGl1cyI6IDUsICJzdHJva2UiOiB0cnVlLCAid2VpZ2h0IjogM30KICAgICAgICAgICAgKS5hZGRUbyhmZWF0dXJlX2dyb3VwXzE5NzQ1MmNmNzBhZTQ2N2M4MDZkODFhMjJlYzViNjliKTsKICAgICAgICAKICAgIAogICAgICAgICAgICB2YXIgY2lyY2xlX21hcmtlcl83MDJiZDVmNGQ3MzU0MmM2OTY1YmMxNDYzMmY2ZWU1MiA9IEwuY2lyY2xlTWFya2VyKAogICAgICAgICAgICAgICAgWzM3Ljc4MDUyNzU3ODUwOSwgLTEyMi4zOTY4NDkwMTUxNzIwMV0sCiAgICAgICAgICAgICAgICB7ImJ1YmJsaW5nTW91c2VFdmVudHMiOiB0cnVlLCAiY29sb3IiOiAieWVsbG93IiwgImRhc2hBcnJheSI6IG51bGwsICJkYXNoT2Zmc2V0IjogbnVsbCwgImZpbGwiOiB0cnVlLCAiZmlsbENvbG9yIjogImJsdWUiLCAiZmlsbE9wYWNpdHkiOiAwLjYsICJmaWxsUnVsZSI6ICJldmVub2RkIiwgImxpbmVDYXAiOiAicm91bmQiLCAibGluZUpvaW4iOiAicm91bmQiLCAib3BhY2l0eSI6IDEuMCwgInJhZGl1cyI6IDUsICJzdHJva2UiOiB0cnVlLCAid2VpZ2h0IjogM30KICAgICAgICAgICAgKS5hZGRUbyhmZWF0dXJlX2dyb3VwXzE5NzQ1MmNmNzBhZTQ2N2M4MDZkODFhMjJlYzViNjliKTsKICAgICAgICAKICAgIAogICAgICAgICAgICB2YXIgY2lyY2xlX21hcmtlcl84ZmZmM2FmZjk3ZTU0NTI3OGQ2Mzg5MGYxZmY4ZDk4NiA9IEwuY2lyY2xlTWFya2VyKAogICAgICAgICAgICAgICAgWzM3LjcyODQxODA3MDY2MDIwNCwgLTEyMi40NTAwMDA3OTA0NDVdLAogICAgICAgICAgICAgICAgeyJidWJibGluZ01vdXNlRXZlbnRzIjogdHJ1ZSwgImNvbG9yIjogInllbGxvdyIsICJkYXNoQXJyYXkiOiBudWxsLCAiZGFzaE9mZnNldCI6IG51bGwsICJmaWxsIjogdHJ1ZSwgImZpbGxDb2xvciI6ICJibHVlIiwgImZpbGxPcGFjaXR5IjogMC42LCAiZmlsbFJ1bGUiOiAiZXZlbm9kZCIsICJsaW5lQ2FwIjogInJvdW5kIiwgImxpbmVKb2luIjogInJvdW5kIiwgIm9wYWNpdHkiOiAxLjAsICJyYWRpdXMiOiA1LCAic3Ryb2tlIjogdHJ1ZSwgIndlaWdodCI6IDN9CiAgICAgICAgICAgICkuYWRkVG8oZmVhdHVyZV9ncm91cF8xOTc0NTJjZjcwYWU0NjdjODA2ZDgxYTIyZWM1YjY5Yik7CiAgICAgICAgCiAgICAKICAgICAgICAgICAgdmFyIGNpcmNsZV9tYXJrZXJfOTAzYzY1NmFiMDExNDk5ODhiMzAzM2Y5YTliMjU5MzQgPSBMLmNpcmNsZU1hcmtlcigKICAgICAgICAgICAgICAgIFszNy43MjkyMTE0NjQ3MzU5LCAtMTIyLjQwMDgzNDI4MzAzMV0sCiAgICAgICAgICAgICAgICB7ImJ1YmJsaW5nTW91c2VFdmVudHMiOiB0cnVlLCAiY29sb3IiOiAieWVsbG93IiwgImRhc2hBcnJheSI6IG51bGwsICJkYXNoT2Zmc2V0IjogbnVsbCwgImZpbGwiOiB0cnVlLCAiZmlsbENvbG9yIjogImJsdWUiLCAiZmlsbE9wYWNpdHkiOiAwLjYsICJmaWxsUnVsZSI6ICJldmVub2RkIiwgImxpbmVDYXAiOiAicm91bmQiLCAibGluZUpvaW4iOiAicm91bmQiLCAib3BhY2l0eSI6IDEuMCwgInJhZGl1cyI6IDUsICJzdHJva2UiOiB0cnVlLCAid2VpZ2h0IjogM30KICAgICAgICAgICAgKS5hZGRUbyhmZWF0dXJlX2dyb3VwXzE5NzQ1MmNmNzBhZTQ2N2M4MDZkODFhMjJlYzViNjliKTsKICAgICAgICAKICAgIAogICAgICAgICAgICB2YXIgY2lyY2xlX21hcmtlcl9mODFlNWRmZDczMDA0MzFmOTVhMmQ1ZWEzY2U2ZTZiMiA9IEwuY2lyY2xlTWFya2VyKAogICAgICAgICAgICAgICAgWzM3Ljc4ODAwNjUzMjQzOTIwNSwgLTEyMi4zOTk4MDIxNDU3OTldLAogICAgICAgICAgICAgICAgeyJidWJibGluZ01vdXNlRXZlbnRzIjogdHJ1ZSwgImNvbG9yIjogInllbGxvdyIsICJkYXNoQXJyYXkiOiBudWxsLCAiZGFzaE9mZnNldCI6IG51bGwsICJmaWxsIjogdHJ1ZSwgImZpbGxDb2xvciI6ICJibHVlIiwgImZpbGxPcGFjaXR5IjogMC42LCAiZmlsbFJ1bGUiOiAiZXZlbm9kZCIsICJsaW5lQ2FwIjogInJvdW5kIiwgImxpbmVKb2luIjogInJvdW5kIiwgIm9wYWNpdHkiOiAxLjAsICJyYWRpdXMiOiA1LCAic3Ryb2tlIjogdHJ1ZSwgIndlaWdodCI6IDN9CiAgICAgICAgICAgICkuYWRkVG8oZmVhdHVyZV9ncm91cF8xOTc0NTJjZjcwYWU0NjdjODA2ZDgxYTIyZWM1YjY5Yik7CiAgICAgICAgCiAgICAKICAgICAgICAgICAgdmFyIGNpcmNsZV9tYXJrZXJfMjUyOWM3MThhYTg4NGM0NGFmZGY3OTIwMDVkZTE5NDIgPSBMLmNpcmNsZU1hcmtlcigKICAgICAgICAgICAgICAgIFszNy43MjM5NzQ4MjQxNjA5LCAtMTIyLjM5NDkyODQ3NThdLAogICAgICAgICAgICAgICAgeyJidWJibGluZ01vdXNlRXZlbnRzIjogdHJ1ZSwgImNvbG9yIjogInllbGxvdyIsICJkYXNoQXJyYXkiOiBudWxsLCAiZGFzaE9mZnNldCI6IG51bGwsICJmaWxsIjogdHJ1ZSwgImZpbGxDb2xvciI6ICJibHVlIiwgImZpbGxPcGFjaXR5IjogMC42LCAiZmlsbFJ1bGUiOiAiZXZlbm9kZCIsICJsaW5lQ2FwIjogInJvdW5kIiwgImxpbmVKb2luIjogInJvdW5kIiwgIm9wYWNpdHkiOiAxLjAsICJyYWRpdXMiOiA1LCAic3Ryb2tlIjogdHJ1ZSwgIndlaWdodCI6IDN9CiAgICAgICAgICAgICkuYWRkVG8oZmVhdHVyZV9ncm91cF8xOTc0NTJjZjcwYWU0NjdjODA2ZDgxYTIyZWM1YjY5Yik7CiAgICAgICAgCiAgICAKICAgICAgICAgICAgdmFyIGNpcmNsZV9tYXJrZXJfNmI1MTFlMjExMjk5NDQ3YjhjM2QwM2VkYTdmMTQ3NjEgPSBMLmNpcmNsZU1hcmtlcigKICAgICAgICAgICAgICAgIFszNy43MjM5NzQ4MjQxNjA5LCAtMTIyLjM5NDkyODQ3NThdLAogICAgICAgICAgICAgICAgeyJidWJibGluZ01vdXNlRXZlbnRzIjogdHJ1ZSwgImNvbG9yIjogInllbGxvdyIsICJkYXNoQXJyYXkiOiBudWxsLCAiZGFzaE9mZnNldCI6IG51bGwsICJmaWxsIjogdHJ1ZSwgImZpbGxDb2xvciI6ICJibHVlIiwgImZpbGxPcGFjaXR5IjogMC42LCAiZmlsbFJ1bGUiOiAiZXZlbm9kZCIsICJsaW5lQ2FwIjogInJvdW5kIiwgImxpbmVKb2luIjogInJvdW5kIiwgIm9wYWNpdHkiOiAxLjAsICJyYWRpdXMiOiA1LCAic3Ryb2tlIjogdHJ1ZSwgIndlaWdodCI6IDN9CiAgICAgICAgICAgICkuYWRkVG8oZmVhdHVyZV9ncm91cF8xOTc0NTJjZjcwYWU0NjdjODA2ZDgxYTIyZWM1YjY5Yik7CiAgICAgICAgCiAgICAKICAgICAgICAgICAgdmFyIGNpcmNsZV9tYXJrZXJfZGJkMzNhMWIxZDZlNGU4NWFkZWY1MmI0YjA2ZjA2NDUgPSBMLmNpcmNsZU1hcmtlcigKICAgICAgICAgICAgICAgIFszNy43MjM5NzQ4MjQxNjA5LCAtMTIyLjM5NDkyODQ3NThdLAogICAgICAgICAgICAgICAgeyJidWJibGluZ01vdXNlRXZlbnRzIjogdHJ1ZSwgImNvbG9yIjogInllbGxvdyIsICJkYXNoQXJyYXkiOiBudWxsLCAiZGFzaE9mZnNldCI6IG51bGwsICJmaWxsIjogdHJ1ZSwgImZpbGxDb2xvciI6ICJibHVlIiwgImZpbGxPcGFjaXR5IjogMC42LCAiZmlsbFJ1bGUiOiAiZXZlbm9kZCIsICJsaW5lQ2FwIjogInJvdW5kIiwgImxpbmVKb2luIjogInJvdW5kIiwgIm9wYWNpdHkiOiAxLjAsICJyYWRpdXMiOiA1LCAic3Ryb2tlIjogdHJ1ZSwgIndlaWdodCI6IDN9CiAgICAgICAgICAgICkuYWRkVG8oZmVhdHVyZV9ncm91cF8xOTc0NTJjZjcwYWU0NjdjODA2ZDgxYTIyZWM1YjY5Yik7CiAgICAgICAgCiAgICAKICAgICAgICAgICAgdmFyIGNpcmNsZV9tYXJrZXJfNDJkNmRmNTI0YjUyNGI5MmI1YTA3YWUyOWMzZjRiNDYgPSBMLmNpcmNsZU1hcmtlcigKICAgICAgICAgICAgICAgIFszNy43ODgzMjM1NDQ5OTA0LCAtMTIyLjQxMTg1NzAzMjU0XSwKICAgICAgICAgICAgICAgIHsiYnViYmxpbmdNb3VzZUV2ZW50cyI6IHRydWUsICJjb2xvciI6ICJ5ZWxsb3ciLCAiZGFzaEFycmF5IjogbnVsbCwgImRhc2hPZmZzZXQiOiBudWxsLCAiZmlsbCI6IHRydWUsICJmaWxsQ29sb3IiOiAiYmx1ZSIsICJmaWxsT3BhY2l0eSI6IDAuNiwgImZpbGxSdWxlIjogImV2ZW5vZGQiLCAibGluZUNhcCI6ICJyb3VuZCIsICJsaW5lSm9pbiI6ICJyb3VuZCIsICJvcGFjaXR5IjogMS4wLCAicmFkaXVzIjogNSwgInN0cm9rZSI6IHRydWUsICJ3ZWlnaHQiOiAzfQogICAgICAgICAgICApLmFkZFRvKGZlYXR1cmVfZ3JvdXBfMTk3NDUyY2Y3MGFlNDY3YzgwNmQ4MWEyMmVjNWI2OWIpOwogICAgICAgIAogICAgCiAgICAgICAgICAgIHZhciBjaXJjbGVfbWFya2VyXzI0MGM2MzY4ZjhhNTRlNjU4ZmNhMzA1NjgxMjBmM2YxID0gTC5jaXJjbGVNYXJrZXIoCiAgICAgICAgICAgICAgICBbMzcuNzU1OTk3NzMzOTg1NiwgLTEyMi40MDk0MzU2MTcxMDZdLAogICAgICAgICAgICAgICAgeyJidWJibGluZ01vdXNlRXZlbnRzIjogdHJ1ZSwgImNvbG9yIjogInllbGxvdyIsICJkYXNoQXJyYXkiOiBudWxsLCAiZGFzaE9mZnNldCI6IG51bGwsICJmaWxsIjogdHJ1ZSwgImZpbGxDb2xvciI6ICJibHVlIiwgImZpbGxPcGFjaXR5IjogMC42LCAiZmlsbFJ1bGUiOiAiZXZlbm9kZCIsICJsaW5lQ2FwIjogInJvdW5kIiwgImxpbmVKb2luIjogInJvdW5kIiwgIm9wYWNpdHkiOiAxLjAsICJyYWRpdXMiOiA1LCAic3Ryb2tlIjogdHJ1ZSwgIndlaWdodCI6IDN9CiAgICAgICAgICAgICkuYWRkVG8oZmVhdHVyZV9ncm91cF8xOTc0NTJjZjcwYWU0NjdjODA2ZDgxYTIyZWM1YjY5Yik7CiAgICAgICAgCiAgICAKICAgICAgICAgICAgdmFyIGNpcmNsZV9tYXJrZXJfZDdlNWExNDQyZWZmNDc3MmIxZjI0NjJjMGQ2Y2I4YzMgPSBMLmNpcmNsZU1hcmtlcigKICAgICAgICAgICAgICAgIFszNy43ODcwNzk4MTQ0NDQzLCAtMTIyLjQyNTg4MzM1ODE0OF0sCiAgICAgICAgICAgICAgICB7ImJ1YmJsaW5nTW91c2VFdmVudHMiOiB0cnVlLCAiY29sb3IiOiAieWVsbG93IiwgImRhc2hBcnJheSI6IG51bGwsICJkYXNoT2Zmc2V0IjogbnVsbCwgImZpbGwiOiB0cnVlLCAiZmlsbENvbG9yIjogImJsdWUiLCAiZmlsbE9wYWNpdHkiOiAwLjYsICJmaWxsUnVsZSI6ICJldmVub2RkIiwgImxpbmVDYXAiOiAicm91bmQiLCAibGluZUpvaW4iOiAicm91bmQiLCAib3BhY2l0eSI6IDEuMCwgInJhZGl1cyI6IDUsICJzdHJva2UiOiB0cnVlLCAid2VpZ2h0IjogM30KICAgICAgICAgICAgKS5hZGRUbyhmZWF0dXJlX2dyb3VwXzE5NzQ1MmNmNzBhZTQ2N2M4MDZkODFhMjJlYzViNjliKTsKICAgICAgICAKICAgIAogICAgICAgICAgICB2YXIgY2lyY2xlX21hcmtlcl9lZTNlY2E5YmZmM2M0MDAxYmI4NmQxMmIyYTFhOWRlMCA9IEwuY2lyY2xlTWFya2VyKAogICAgICAgICAgICAgICAgWzM3LjczNjAzNzQ0NjY4NjIwNCwgLTEyMi40MTUxMjY1NDMwMDEwMV0sCiAgICAgICAgICAgICAgICB7ImJ1YmJsaW5nTW91c2VFdmVudHMiOiB0cnVlLCAiY29sb3IiOiAieWVsbG93IiwgImRhc2hBcnJheSI6IG51bGwsICJkYXNoT2Zmc2V0IjogbnVsbCwgImZpbGwiOiB0cnVlLCAiZmlsbENvbG9yIjogImJsdWUiLCAiZmlsbE9wYWNpdHkiOiAwLjYsICJmaWxsUnVsZSI6ICJldmVub2RkIiwgImxpbmVDYXAiOiAicm91bmQiLCAibGluZUpvaW4iOiAicm91bmQiLCAib3BhY2l0eSI6IDEuMCwgInJhZGl1cyI6IDUsICJzdHJva2UiOiB0cnVlLCAid2VpZ2h0IjogM30KICAgICAgICAgICAgKS5hZGRUbyhmZWF0dXJlX2dyb3VwXzE5NzQ1MmNmNzBhZTQ2N2M4MDZkODFhMjJlYzViNjliKTsKICAgICAgICAKICAgIAogICAgICAgICAgICB2YXIgY2lyY2xlX21hcmtlcl9iYzgzMzBiNTVmMDE0NjJkODZmYjY4MGRmNzYzMmQ3MSA9IEwuY2lyY2xlTWFya2VyKAogICAgICAgICAgICAgICAgWzM3LjcxMjc2Nzg4NDgyMSwgLTEyMi40MzE5MjgwMTEwODldLAogICAgICAgICAgICAgICAgeyJidWJibGluZ01vdXNlRXZlbnRzIjogdHJ1ZSwgImNvbG9yIjogInllbGxvdyIsICJkYXNoQXJyYXkiOiBudWxsLCAiZGFzaE9mZnNldCI6IG51bGwsICJmaWxsIjogdHJ1ZSwgImZpbGxDb2xvciI6ICJibHVlIiwgImZpbGxPcGFjaXR5IjogMC42LCAiZmlsbFJ1bGUiOiAiZXZlbm9kZCIsICJsaW5lQ2FwIjogInJvdW5kIiwgImxpbmVKb2luIjogInJvdW5kIiwgIm9wYWNpdHkiOiAxLjAsICJyYWRpdXMiOiA1LCAic3Ryb2tlIjogdHJ1ZSwgIndlaWdodCI6IDN9CiAgICAgICAgICAgICkuYWRkVG8oZmVhdHVyZV9ncm91cF8xOTc0NTJjZjcwYWU0NjdjODA2ZDgxYTIyZWM1YjY5Yik7CiAgICAgICAgCiAgICAKICAgICAgICAgICAgdmFyIGNpcmNsZV9tYXJrZXJfNTEwYjdkZDFjNjk4NDllZTkyZDU5NDE0NDRjNGNiODUgPSBMLmNpcmNsZU1hcmtlcigKICAgICAgICAgICAgICAgIFszNy43ODk1NzEwMjU1ODYzLCAtMTIyLjQwMjE2MzcxMzYxOF0sCiAgICAgICAgICAgICAgICB7ImJ1YmJsaW5nTW91c2VFdmVudHMiOiB0cnVlLCAiY29sb3IiOiAieWVsbG93IiwgImRhc2hBcnJheSI6IG51bGwsICJkYXNoT2Zmc2V0IjogbnVsbCwgImZpbGwiOiB0cnVlLCAiZmlsbENvbG9yIjogImJsdWUiLCAiZmlsbE9wYWNpdHkiOiAwLjYsICJmaWxsUnVsZSI6ICJldmVub2RkIiwgImxpbmVDYXAiOiAicm91bmQiLCAibGluZUpvaW4iOiAicm91bmQiLCAib3BhY2l0eSI6IDEuMCwgInJhZGl1cyI6IDUsICJzdHJva2UiOiB0cnVlLCAid2VpZ2h0IjogM30KICAgICAgICAgICAgKS5hZGRUbyhmZWF0dXJlX2dyb3VwXzE5NzQ1MmNmNzBhZTQ2N2M4MDZkODFhMjJlYzViNjliKTsKICAgICAgICAKICAgIAogICAgICAgICAgICB2YXIgY2lyY2xlX21hcmtlcl8yYzMzOTA4YjcwYWI0MGZmOTg2NjgwYmNkNmFhYjkwMiA9IEwuY2lyY2xlTWFya2VyKAogICAgICAgICAgICAgICAgWzM3LjczMDc0MjkxNjk1NTksIC0xMjIuNDI5MzA2NzI4Mzc2XSwKICAgICAgICAgICAgICAgIHsiYnViYmxpbmdNb3VzZUV2ZW50cyI6IHRydWUsICJjb2xvciI6ICJ5ZWxsb3ciLCAiZGFzaEFycmF5IjogbnVsbCwgImRhc2hPZmZzZXQiOiBudWxsLCAiZmlsbCI6IHRydWUsICJmaWxsQ29sb3IiOiAiYmx1ZSIsICJmaWxsT3BhY2l0eSI6IDAuNiwgImZpbGxSdWxlIjogImV2ZW5vZGQiLCAibGluZUNhcCI6ICJyb3VuZCIsICJsaW5lSm9pbiI6ICJyb3VuZCIsICJvcGFjaXR5IjogMS4wLCAicmFkaXVzIjogNSwgInN0cm9rZSI6IHRydWUsICJ3ZWlnaHQiOiAzfQogICAgICAgICAgICApLmFkZFRvKGZlYXR1cmVfZ3JvdXBfMTk3NDUyY2Y3MGFlNDY3YzgwNmQ4MWEyMmVjNWI2OWIpOwogICAgICAgIAogICAgCiAgICAgICAgICAgIHZhciBjaXJjbGVfbWFya2VyXzc3NmE4YzIwZjY4MjRjMWQ5ZWEwNGEzZGYzYTQ0N2FkID0gTC5jaXJjbGVNYXJrZXIoCiAgICAgICAgICAgICAgICBbMzcuNzgzODM2NTU2NTM0Nzk0LCAtMTIyLjQxMzc5MDk3Mjc4MDk5XSwKICAgICAgICAgICAgICAgIHsiYnViYmxpbmdNb3VzZUV2ZW50cyI6IHRydWUsICJjb2xvciI6ICJ5ZWxsb3ciLCAiZGFzaEFycmF5IjogbnVsbCwgImRhc2hPZmZzZXQiOiBudWxsLCAiZmlsbCI6IHRydWUsICJmaWxsQ29sb3IiOiAiYmx1ZSIsICJmaWxsT3BhY2l0eSI6IDAuNiwgImZpbGxSdWxlIjogImV2ZW5vZGQiLCAibGluZUNhcCI6ICJyb3VuZCIsICJsaW5lSm9pbiI6ICJyb3VuZCIsICJvcGFjaXR5IjogMS4wLCAicmFkaXVzIjogNSwgInN0cm9rZSI6IHRydWUsICJ3ZWlnaHQiOiAzfQogICAgICAgICAgICApLmFkZFRvKGZlYXR1cmVfZ3JvdXBfMTk3NDUyY2Y3MGFlNDY3YzgwNmQ4MWEyMmVjNWI2OWIpOwogICAgICAgIAogICAgCiAgICAgICAgICAgIHZhciBjaXJjbGVfbWFya2VyXzliYmJhNDk0ZDBlMzRmZWQ4NzJiOGZmZGQ5ZjBhYTgzID0gTC5jaXJjbGVNYXJrZXIoCiAgICAgICAgICAgICAgICBbMzcuNzMwNzQyOTE2OTU1OSwgLTEyMi40MjkzMDY3MjgzNzZdLAogICAgICAgICAgICAgICAgeyJidWJibGluZ01vdXNlRXZlbnRzIjogdHJ1ZSwgImNvbG9yIjogInllbGxvdyIsICJkYXNoQXJyYXkiOiBudWxsLCAiZGFzaE9mZnNldCI6IG51bGwsICJmaWxsIjogdHJ1ZSwgImZpbGxDb2xvciI6ICJibHVlIiwgImZpbGxPcGFjaXR5IjogMC42LCAiZmlsbFJ1bGUiOiAiZXZlbm9kZCIsICJsaW5lQ2FwIjogInJvdW5kIiwgImxpbmVKb2luIjogInJvdW5kIiwgIm9wYWNpdHkiOiAxLjAsICJyYWRpdXMiOiA1LCAic3Ryb2tlIjogdHJ1ZSwgIndlaWdodCI6IDN9CiAgICAgICAgICAgICkuYWRkVG8oZmVhdHVyZV9ncm91cF8xOTc0NTJjZjcwYWU0NjdjODA2ZDgxYTIyZWM1YjY5Yik7CiAgICAgICAgCiAgICAKICAgICAgICAgICAgdmFyIGNpcmNsZV9tYXJrZXJfYjkyODcyNDAxZTZkNDc2Mzg3YmI5ODBjNDNlY2UzYWMgPSBMLmNpcmNsZU1hcmtlcigKICAgICAgICAgICAgICAgIFszNy43MzczNjIzNjA1MjEyOTYsIC0xMjIuNDIyMDY3MTg0OTM3XSwKICAgICAgICAgICAgICAgIHsiYnViYmxpbmdNb3VzZUV2ZW50cyI6IHRydWUsICJjb2xvciI6ICJ5ZWxsb3ciLCAiZGFzaEFycmF5IjogbnVsbCwgImRhc2hPZmZzZXQiOiBudWxsLCAiZmlsbCI6IHRydWUsICJmaWxsQ29sb3IiOiAiYmx1ZSIsICJmaWxsT3BhY2l0eSI6IDAuNiwgImZpbGxSdWxlIjogImV2ZW5vZGQiLCAibGluZUNhcCI6ICJyb3VuZCIsICJsaW5lSm9pbiI6ICJyb3VuZCIsICJvcGFjaXR5IjogMS4wLCAicmFkaXVzIjogNSwgInN0cm9rZSI6IHRydWUsICJ3ZWlnaHQiOiAzfQogICAgICAgICAgICApLmFkZFRvKGZlYXR1cmVfZ3JvdXBfMTk3NDUyY2Y3MGFlNDY3YzgwNmQ4MWEyMmVjNWI2OWIpOwogICAgICAgIAogICAgCiAgICAgICAgICAgIHZhciBjaXJjbGVfbWFya2VyX2E4MjU5MGNkMmJmZDQ2NTk5YjYyOTBkYTg0ZmE1NjMwID0gTC5jaXJjbGVNYXJrZXIoCiAgICAgICAgICAgICAgICBbMzcuNzM3MzYyMzYwNTIxMjk2LCAtMTIyLjQyMjA2NzE4NDkzN10sCiAgICAgICAgICAgICAgICB7ImJ1YmJsaW5nTW91c2VFdmVudHMiOiB0cnVlLCAiY29sb3IiOiAieWVsbG93IiwgImRhc2hBcnJheSI6IG51bGwsICJkYXNoT2Zmc2V0IjogbnVsbCwgImZpbGwiOiB0cnVlLCAiZmlsbENvbG9yIjogImJsdWUiLCAiZmlsbE9wYWNpdHkiOiAwLjYsICJmaWxsUnVsZSI6ICJldmVub2RkIiwgImxpbmVDYXAiOiAicm91bmQiLCAibGluZUpvaW4iOiAicm91bmQiLCAib3BhY2l0eSI6IDEuMCwgInJhZGl1cyI6IDUsICJzdHJva2UiOiB0cnVlLCAid2VpZ2h0IjogM30KICAgICAgICAgICAgKS5hZGRUbyhmZWF0dXJlX2dyb3VwXzE5NzQ1MmNmNzBhZTQ2N2M4MDZkODFhMjJlYzViNjliKTsKICAgICAgICAKICAgIAogICAgICAgICAgICB2YXIgY2lyY2xlX21hcmtlcl9kNDdiOWNkNjAwNTc0YzhmOTZjNmMzMDcxZDlkZDcyMiA9IEwuY2lyY2xlTWFya2VyKAogICAgICAgICAgICAgICAgWzM3Ljc4NTk5ODgzMjM3OTc5NiwgLTEyMi40MTE3NDczNzE5MjRdLAogICAgICAgICAgICAgICAgeyJidWJibGluZ01vdXNlRXZlbnRzIjogdHJ1ZSwgImNvbG9yIjogInllbGxvdyIsICJkYXNoQXJyYXkiOiBudWxsLCAiZGFzaE9mZnNldCI6IG51bGwsICJmaWxsIjogdHJ1ZSwgImZpbGxDb2xvciI6ICJibHVlIiwgImZpbGxPcGFjaXR5IjogMC42LCAiZmlsbFJ1bGUiOiAiZXZlbm9kZCIsICJsaW5lQ2FwIjogInJvdW5kIiwgImxpbmVKb2luIjogInJvdW5kIiwgIm9wYWNpdHkiOiAxLjAsICJyYWRpdXMiOiA1LCAic3Ryb2tlIjogdHJ1ZSwgIndlaWdodCI6IDN9CiAgICAgICAgICAgICkuYWRkVG8oZmVhdHVyZV9ncm91cF8xOTc0NTJjZjcwYWU0NjdjODA2ZDgxYTIyZWM1YjY5Yik7CiAgICAgICAgCiAgICAKICAgICAgICAgICAgdmFyIGNpcmNsZV9tYXJrZXJfZmViNDFkYjA1ZTNiNDFhYWE1MDBjZjBiMWM4Mzk2OTIgPSBMLmNpcmNsZU1hcmtlcigKICAgICAgICAgICAgICAgIFszNy43NjMzNzU4MDU4MDU5LCAtMTIyLjQyMDQzNDcyNDU1Mjk5XSwKICAgICAgICAgICAgICAgIHsiYnViYmxpbmdNb3VzZUV2ZW50cyI6IHRydWUsICJjb2xvciI6ICJ5ZWxsb3ciLCAiZGFzaEFycmF5IjogbnVsbCwgImRhc2hPZmZzZXQiOiBudWxsLCAiZmlsbCI6IHRydWUsICJmaWxsQ29sb3IiOiAiYmx1ZSIsICJmaWxsT3BhY2l0eSI6IDAuNiwgImZpbGxSdWxlIjogImV2ZW5vZGQiLCAibGluZUNhcCI6ICJyb3VuZCIsICJsaW5lSm9pbiI6ICJyb3VuZCIsICJvcGFjaXR5IjogMS4wLCAicmFkaXVzIjogNSwgInN0cm9rZSI6IHRydWUsICJ3ZWlnaHQiOiAzfQogICAgICAgICAgICApLmFkZFRvKGZlYXR1cmVfZ3JvdXBfMTk3NDUyY2Y3MGFlNDY3YzgwNmQ4MWEyMmVjNWI2OWIpOwogICAgICAgIAogICAgCiAgICAgICAgICAgIHZhciBjaXJjbGVfbWFya2VyX2ViYTEzNjVkMGE2YzQzMWFiZTU0MTMzOGVjYzVlZjk5ID0gTC5jaXJjbGVNYXJrZXIoCiAgICAgICAgICAgICAgICBbMzcuNzg1MDIyNjYyMjc4NiwgLTEyMi40MTE5ODc2NDM1OTUwMV0sCiAgICAgICAgICAgICAgICB7ImJ1YmJsaW5nTW91c2VFdmVudHMiOiB0cnVlLCAiY29sb3IiOiAieWVsbG93IiwgImRhc2hBcnJheSI6IG51bGwsICJkYXNoT2Zmc2V0IjogbnVsbCwgImZpbGwiOiB0cnVlLCAiZmlsbENvbG9yIjogImJsdWUiLCAiZmlsbE9wYWNpdHkiOiAwLjYsICJmaWxsUnVsZSI6ICJldmVub2RkIiwgImxpbmVDYXAiOiAicm91bmQiLCAibGluZUpvaW4iOiAicm91bmQiLCAib3BhY2l0eSI6IDEuMCwgInJhZGl1cyI6IDUsICJzdHJva2UiOiB0cnVlLCAid2VpZ2h0IjogM30KICAgICAgICAgICAgKS5hZGRUbyhmZWF0dXJlX2dyb3VwXzE5NzQ1MmNmNzBhZTQ2N2M4MDZkODFhMjJlYzViNjliKTsKICAgICAgICAKICAgIAogICAgICAgICAgICB2YXIgY2lyY2xlX21hcmtlcl9iYWYxZGQzMWU0NTE0MTIwYmUyNzY2Zjg4Y2Y3YzYwMSA9IEwuY2lyY2xlTWFya2VyKAogICAgICAgICAgICAgICAgWzM3Ljc3NDYyMDY0OTEwNjQ5NSwgLTEyMi41MDAzODA0Mjc5MTVdLAogICAgICAgICAgICAgICAgeyJidWJibGluZ01vdXNlRXZlbnRzIjogdHJ1ZSwgImNvbG9yIjogInllbGxvdyIsICJkYXNoQXJyYXkiOiBudWxsLCAiZGFzaE9mZnNldCI6IG51bGwsICJmaWxsIjogdHJ1ZSwgImZpbGxDb2xvciI6ICJibHVlIiwgImZpbGxPcGFjaXR5IjogMC42LCAiZmlsbFJ1bGUiOiAiZXZlbm9kZCIsICJsaW5lQ2FwIjogInJvdW5kIiwgImxpbmVKb2luIjogInJvdW5kIiwgIm9wYWNpdHkiOiAxLjAsICJyYWRpdXMiOiA1LCAic3Ryb2tlIjogdHJ1ZSwgIndlaWdodCI6IDN9CiAgICAgICAgICAgICkuYWRkVG8oZmVhdHVyZV9ncm91cF8xOTc0NTJjZjcwYWU0NjdjODA2ZDgxYTIyZWM1YjY5Yik7CiAgICAgICAgCiAgICAKICAgICAgICAgICAgdmFyIGNpcmNsZV9tYXJrZXJfMmE4MTk4MDgzY2RmNDdlODhkM2Y4Y2YzNDMyNTVjMjYgPSBMLmNpcmNsZU1hcmtlcigKICAgICAgICAgICAgICAgIFszNy43NzUxOTE4MjY3MjE3LCAtMTIyLjQ2NjU1ODc4MDY4M10sCiAgICAgICAgICAgICAgICB7ImJ1YmJsaW5nTW91c2VFdmVudHMiOiB0cnVlLCAiY29sb3IiOiAieWVsbG93IiwgImRhc2hBcnJheSI6IG51bGwsICJkYXNoT2Zmc2V0IjogbnVsbCwgImZpbGwiOiB0cnVlLCAiZmlsbENvbG9yIjogImJsdWUiLCAiZmlsbE9wYWNpdHkiOiAwLjYsICJmaWxsUnVsZSI6ICJldmVub2RkIiwgImxpbmVDYXAiOiAicm91bmQiLCAibGluZUpvaW4iOiAicm91bmQiLCAib3BhY2l0eSI6IDEuMCwgInJhZGl1cyI6IDUsICJzdHJva2UiOiB0cnVlLCAid2VpZ2h0IjogM30KICAgICAgICAgICAgKS5hZGRUbyhmZWF0dXJlX2dyb3VwXzE5NzQ1MmNmNzBhZTQ2N2M4MDZkODFhMjJlYzViNjliKTsKICAgICAgICAKICAgIAogICAgICAgICAgICB2YXIgY2lyY2xlX21hcmtlcl9mMzc4YmRlY2Y4MTg0NzI1ODYxN2MwODM3ZTU5MTI5MSA9IEwuY2lyY2xlTWFya2VyKAogICAgICAgICAgICAgICAgWzM3Ljc0OTA4NDE3MjkwMjgsIC0xMjIuNDg2OTI1OTYwMTE0MDFdLAogICAgICAgICAgICAgICAgeyJidWJibGluZ01vdXNlRXZlbnRzIjogdHJ1ZSwgImNvbG9yIjogInllbGxvdyIsICJkYXNoQXJyYXkiOiBudWxsLCAiZGFzaE9mZnNldCI6IG51bGwsICJmaWxsIjogdHJ1ZSwgImZpbGxDb2xvciI6ICJibHVlIiwgImZpbGxPcGFjaXR5IjogMC42LCAiZmlsbFJ1bGUiOiAiZXZlbm9kZCIsICJsaW5lQ2FwIjogInJvdW5kIiwgImxpbmVKb2luIjogInJvdW5kIiwgIm9wYWNpdHkiOiAxLjAsICJyYWRpdXMiOiA1LCAic3Ryb2tlIjogdHJ1ZSwgIndlaWdodCI6IDN9CiAgICAgICAgICAgICkuYWRkVG8oZmVhdHVyZV9ncm91cF8xOTc0NTJjZjcwYWU0NjdjODA2ZDgxYTIyZWM1YjY5Yik7CiAgICAgICAgCiAgICAKICAgICAgICAgICAgdmFyIGNpcmNsZV9tYXJrZXJfYTYxOWY4OGM4M2ExNDIyMjlhNTE3MzNkYWYyMTY3NjQgPSBMLmNpcmNsZU1hcmtlcigKICAgICAgICAgICAgICAgIFszNy43Njg1MzYwMTIzNTgzLCAtMTIyLjQxNTYxNjMzODMxOTk5XSwKICAgICAgICAgICAgICAgIHsiYnViYmxpbmdNb3VzZUV2ZW50cyI6IHRydWUsICJjb2xvciI6ICJ5ZWxsb3ciLCAiZGFzaEFycmF5IjogbnVsbCwgImRhc2hPZmZzZXQiOiBudWxsLCAiZmlsbCI6IHRydWUsICJmaWxsQ29sb3IiOiAiYmx1ZSIsICJmaWxsT3BhY2l0eSI6IDAuNiwgImZpbGxSdWxlIjogImV2ZW5vZGQiLCAibGluZUNhcCI6ICJyb3VuZCIsICJsaW5lSm9pbiI6ICJyb3VuZCIsICJvcGFjaXR5IjogMS4wLCAicmFkaXVzIjogNSwgInN0cm9rZSI6IHRydWUsICJ3ZWlnaHQiOiAzfQogICAgICAgICAgICApLmFkZFRvKGZlYXR1cmVfZ3JvdXBfMTk3NDUyY2Y3MGFlNDY3YzgwNmQ4MWEyMmVjNWI2OWIpOwogICAgICAgIAogICAgCiAgICAgICAgICAgIHZhciBjaXJjbGVfbWFya2VyXzQzODY2NTk3NzZmNjQ1Y2Y4OTc0OGY1NGVmZjk0YzM4ID0gTC5jaXJjbGVNYXJrZXIoCiAgICAgICAgICAgICAgICBbMzcuNzY0NDI5NzcxNDA3NCwgLTEyMi40NDk3NTE2NTI1NjNdLAogICAgICAgICAgICAgICAgeyJidWJibGluZ01vdXNlRXZlbnRzIjogdHJ1ZSwgImNvbG9yIjogInllbGxvdyIsICJkYXNoQXJyYXkiOiBudWxsLCAiZGFzaE9mZnNldCI6IG51bGwsICJmaWxsIjogdHJ1ZSwgImZpbGxDb2xvciI6ICJibHVlIiwgImZpbGxPcGFjaXR5IjogMC42LCAiZmlsbFJ1bGUiOiAiZXZlbm9kZCIsICJsaW5lQ2FwIjogInJvdW5kIiwgImxpbmVKb2luIjogInJvdW5kIiwgIm9wYWNpdHkiOiAxLjAsICJyYWRpdXMiOiA1LCAic3Ryb2tlIjogdHJ1ZSwgIndlaWdodCI6IDN9CiAgICAgICAgICAgICkuYWRkVG8oZmVhdHVyZV9ncm91cF8xOTc0NTJjZjcwYWU0NjdjODA2ZDgxYTIyZWM1YjY5Yik7CiAgICAgICAgCiAgICAKICAgICAgICAgICAgdmFyIGNpcmNsZV9tYXJrZXJfNDRhZWJiNmM0YzUzNGFmODlmYWQ5NDQyMzU2ZDkwZmYgPSBMLmNpcmNsZU1hcmtlcigKICAgICAgICAgICAgICAgIFszNy43NjQ0Mjk3NzE0MDc0LCAtMTIyLjQ0OTc1MTY1MjU2M10sCiAgICAgICAgICAgICAgICB7ImJ1YmJsaW5nTW91c2VFdmVudHMiOiB0cnVlLCAiY29sb3IiOiAieWVsbG93IiwgImRhc2hBcnJheSI6IG51bGwsICJkYXNoT2Zmc2V0IjogbnVsbCwgImZpbGwiOiB0cnVlLCAiZmlsbENvbG9yIjogImJsdWUiLCAiZmlsbE9wYWNpdHkiOiAwLjYsICJmaWxsUnVsZSI6ICJldmVub2RkIiwgImxpbmVDYXAiOiAicm91bmQiLCAibGluZUpvaW4iOiAicm91bmQiLCAib3BhY2l0eSI6IDEuMCwgInJhZGl1cyI6IDUsICJzdHJva2UiOiB0cnVlLCAid2VpZ2h0IjogM30KICAgICAgICAgICAgKS5hZGRUbyhmZWF0dXJlX2dyb3VwXzE5NzQ1MmNmNzBhZTQ2N2M4MDZkODFhMjJlYzViNjliKTsKICAgICAgICAKICAgIAogICAgICAgICAgICB2YXIgY2lyY2xlX21hcmtlcl9lNTliYjRlMjY0ZGI0NTA1YTZmYzM2YTFhZWJjMTM4MyA9IEwuY2lyY2xlTWFya2VyKAogICAgICAgICAgICAgICAgWzM3LjczNTI2ODE0NjkwODM5NiwgLTEyMi40NzI3MTU3NTk2MzFdLAogICAgICAgICAgICAgICAgeyJidWJibGluZ01vdXNlRXZlbnRzIjogdHJ1ZSwgImNvbG9yIjogInllbGxvdyIsICJkYXNoQXJyYXkiOiBudWxsLCAiZGFzaE9mZnNldCI6IG51bGwsICJmaWxsIjogdHJ1ZSwgImZpbGxDb2xvciI6ICJibHVlIiwgImZpbGxPcGFjaXR5IjogMC42LCAiZmlsbFJ1bGUiOiAiZXZlbm9kZCIsICJsaW5lQ2FwIjogInJvdW5kIiwgImxpbmVKb2luIjogInJvdW5kIiwgIm9wYWNpdHkiOiAxLjAsICJyYWRpdXMiOiA1LCAic3Ryb2tlIjogdHJ1ZSwgIndlaWdodCI6IDN9CiAgICAgICAgICAgICkuYWRkVG8oZmVhdHVyZV9ncm91cF8xOTc0NTJjZjcwYWU0NjdjODA2ZDgxYTIyZWM1YjY5Yik7CiAgICAgICAgCiAgICAKICAgICAgICAgICAgdmFyIG1hcmtlcl9iZWU5MmJiMmMwZjI0ZDcwYTI5YWZkY2RhYjc4MWYwYyA9IEwubWFya2VyKAogICAgICAgICAgICAgICAgWzM3Ljc3NTQyMDcwNjcxMSwgLTEyMi40MDM0MDQ3OTE0Nzg5OV0sCiAgICAgICAgICAgICAgICB7fQogICAgICAgICAgICApLmFkZFRvKG1hcF8wNGNmMmJjMzc1ODM0YjM5OGZkMzhhNjQwM2IzMWMyZCk7CiAgICAgICAgCiAgICAKICAgICAgICB2YXIgcG9wdXBfZTExMzI4ODQ4YjcxNDM2NDk2YjY5MWE3ZWY0NjMxMTIgPSBMLnBvcHVwKHsibWF4V2lkdGgiOiAiMTAwJSJ9KTsKCiAgICAgICAgCiAgICAgICAgICAgIHZhciBodG1sXzkzYjJhNGFlMjhjYTQzZDhiZTIzYjc4ZjNkMjI1NzU0ID0gJChgPGRpdiBpZD0iaHRtbF85M2IyYTRhZTI4Y2E0M2Q4YmUyM2I3OGYzZDIyNTc1NCIgc3R5bGU9IndpZHRoOiAxMDAuMCU7IGhlaWdodDogMTAwLjAlOyI+V0VBUE9OIExBV1M8L2Rpdj5gKVswXTsKICAgICAgICAgICAgcG9wdXBfZTExMzI4ODQ4YjcxNDM2NDk2YjY5MWE3ZWY0NjMxMTIuc2V0Q29udGVudChodG1sXzkzYjJhNGFlMjhjYTQzZDhiZTIzYjc4ZjNkMjI1NzU0KTsKICAgICAgICAKCiAgICAgICAgbWFya2VyX2JlZTkyYmIyYzBmMjRkNzBhMjlhZmRjZGFiNzgxZjBjLmJpbmRQb3B1cChwb3B1cF9lMTEzMjg4NDhiNzE0MzY0OTZiNjkxYTdlZjQ2MzExMikKICAgICAgICA7CgogICAgICAgIAogICAgCiAgICAKICAgICAgICAgICAgdmFyIG1hcmtlcl84MzhlYjJlZWVmNDk0NDRjYjZhZDRmN2MyMGVhOWFjYyA9IEwubWFya2VyKAogICAgICAgICAgICAgICAgWzM3Ljc3NTQyMDcwNjcxMSwgLTEyMi40MDM0MDQ3OTE0Nzg5OV0sCiAgICAgICAgICAgICAgICB7fQogICAgICAgICAgICApLmFkZFRvKG1hcF8wNGNmMmJjMzc1ODM0YjM5OGZkMzhhNjQwM2IzMWMyZCk7CiAgICAgICAgCiAgICAKICAgICAgICB2YXIgcG9wdXBfM2M1ZDI3ZTE4ODUwNDNmZDkyNzVmOWZlZDE2NTA0ZjMgPSBMLnBvcHVwKHsibWF4V2lkdGgiOiAiMTAwJSJ9KTsKCiAgICAgICAgCiAgICAgICAgICAgIHZhciBodG1sXzZkYjZiYjAzMmI4MzQ0ODlhMjFmZDc1OTJhOTIzOWI2ID0gJChgPGRpdiBpZD0iaHRtbF82ZGI2YmIwMzJiODM0NDg5YTIxZmQ3NTkyYTkyMzliNiIgc3R5bGU9IndpZHRoOiAxMDAuMCU7IGhlaWdodDogMTAwLjAlOyI+V0VBUE9OIExBV1M8L2Rpdj5gKVswXTsKICAgICAgICAgICAgcG9wdXBfM2M1ZDI3ZTE4ODUwNDNmZDkyNzVmOWZlZDE2NTA0ZjMuc2V0Q29udGVudChodG1sXzZkYjZiYjAzMmI4MzQ0ODlhMjFmZDc1OTJhOTIzOWI2KTsKICAgICAgICAKCiAgICAgICAgbWFya2VyXzgzOGViMmVlZWY0OTQ0NGNiNmFkNGY3YzIwZWE5YWNjLmJpbmRQb3B1cChwb3B1cF8zYzVkMjdlMTg4NTA0M2ZkOTI3NWY5ZmVkMTY1MDRmMykKICAgICAgICA7CgogICAgICAgIAogICAgCiAgICAKICAgICAgICAgICAgdmFyIG1hcmtlcl9kZjM1ZGM2MGJjZTE0ZWQ2OGMyYmE5NmNhMjQ2MGU1YiA9IEwubWFya2VyKAogICAgICAgICAgICAgICAgWzM3LjcyOTk4MDk2NzI5OTU5NiwgLTEyMi4zODg4NTYyMDQyOTJdLAogICAgICAgICAgICAgICAge30KICAgICAgICAgICAgKS5hZGRUbyhtYXBfMDRjZjJiYzM3NTgzNGIzOThmZDM4YTY0MDNiMzFjMmQpOwogICAgICAgIAogICAgCiAgICAgICAgdmFyIHBvcHVwX2M5ZTljODAzZTlhMDQ0ZWY4M2EwN2U4MjcyODNlZmI2ID0gTC5wb3B1cCh7Im1heFdpZHRoIjogIjEwMCUifSk7CgogICAgICAgIAogICAgICAgICAgICB2YXIgaHRtbF8xYzk0NDE5YWQ0NDk0ZjY5ODc2Nzg0ODM3NTYyNzBlNSA9ICQoYDxkaXYgaWQ9Imh0bWxfMWM5NDQxOWFkNDQ5NGY2OTg3Njc4NDgzNzU2MjcwZTUiIHN0eWxlPSJ3aWR0aDogMTAwLjAlOyBoZWlnaHQ6IDEwMC4wJTsiPldBUlJBTlRTPC9kaXY+YClbMF07CiAgICAgICAgICAgIHBvcHVwX2M5ZTljODAzZTlhMDQ0ZWY4M2EwN2U4MjcyODNlZmI2LnNldENvbnRlbnQoaHRtbF8xYzk0NDE5YWQ0NDk0ZjY5ODc2Nzg0ODM3NTYyNzBlNSk7CiAgICAgICAgCgogICAgICAgIG1hcmtlcl9kZjM1ZGM2MGJjZTE0ZWQ2OGMyYmE5NmNhMjQ2MGU1Yi5iaW5kUG9wdXAocG9wdXBfYzllOWM4MDNlOWEwNDRlZjgzYTA3ZTgyNzI4M2VmYjYpCiAgICAgICAgOwoKICAgICAgICAKICAgIAogICAgCiAgICAgICAgICAgIHZhciBtYXJrZXJfZmExYjk0N2NmMjYzNDk2NWJmZDhjMTMzMmQ4MjI1ZGYgPSBMLm1hcmtlcigKICAgICAgICAgICAgICAgIFszNy43ODU3ODgzNzY2ODg3OSwgLTEyMi40MTI5NzA1Mzc1OTFdLAogICAgICAgICAgICAgICAge30KICAgICAgICAgICAgKS5hZGRUbyhtYXBfMDRjZjJiYzM3NTgzNGIzOThmZDM4YTY0MDNiMzFjMmQpOwogICAgICAgIAogICAgCiAgICAgICAgdmFyIHBvcHVwXzVlOWYxZWRlMWIxYzRhMDhhNWIyZDk0ZTIwMDUxMTkwID0gTC5wb3B1cCh7Im1heFdpZHRoIjogIjEwMCUifSk7CgogICAgICAgIAogICAgICAgICAgICB2YXIgaHRtbF84ZjE4Zjg5MDk3ZjY0MWUxOTg5ZGQ0N2U2MmM2MDMwOCA9ICQoYDxkaXYgaWQ9Imh0bWxfOGYxOGY4OTA5N2Y2NDFlMTk4OWRkNDdlNjJjNjAzMDgiIHN0eWxlPSJ3aWR0aDogMTAwLjAlOyBoZWlnaHQ6IDEwMC4wJTsiPk5PTi1DUklNSU5BTDwvZGl2PmApWzBdOwogICAgICAgICAgICBwb3B1cF81ZTlmMWVkZTFiMWM0YTA4YTViMmQ5NGUyMDA1MTE5MC5zZXRDb250ZW50KGh0bWxfOGYxOGY4OTA5N2Y2NDFlMTk4OWRkNDdlNjJjNjAzMDgpOwogICAgICAgIAoKICAgICAgICBtYXJrZXJfZmExYjk0N2NmMjYzNDk2NWJmZDhjMTMzMmQ4MjI1ZGYuYmluZFBvcHVwKHBvcHVwXzVlOWYxZWRlMWIxYzRhMDhhNWIyZDk0ZTIwMDUxMTkwKQogICAgICAgIDsKCiAgICAgICAgCiAgICAKICAgIAogICAgICAgICAgICB2YXIgbWFya2VyXzk0NDQxODY3ZTM2NzQxZTU5ZGY4YWRjY2I3N2UxZGQ0ID0gTC5tYXJrZXIoCiAgICAgICAgICAgICAgICBbMzcuNzY1MDUwMTIxNDY2OCwgLTEyMi40MTk2NzE3ODAyOTZdLAogICAgICAgICAgICAgICAge30KICAgICAgICAgICAgKS5hZGRUbyhtYXBfMDRjZjJiYzM3NTgzNGIzOThmZDM4YTY0MDNiMzFjMmQpOwogICAgICAgIAogICAgCiAgICAgICAgdmFyIHBvcHVwXzc4Zjk3YWJhYWVlZDQ1Y2I5YjIzYjZlYWUyMTJiZGQ1ID0gTC5wb3B1cCh7Im1heFdpZHRoIjogIjEwMCUifSk7CgogICAgICAgIAogICAgICAgICAgICB2YXIgaHRtbF82OTI4YjFlYmE0OTA0MGNiODhmZWVlOWIxN2ExMDljYiA9ICQoYDxkaXYgaWQ9Imh0bWxfNjkyOGIxZWJhNDkwNDBjYjg4ZmVlZTliMTdhMTA5Y2IiIHN0eWxlPSJ3aWR0aDogMTAwLjAlOyBoZWlnaHQ6IDEwMC4wJTsiPk5PTi1DUklNSU5BTDwvZGl2PmApWzBdOwogICAgICAgICAgICBwb3B1cF83OGY5N2FiYWFlZWQ0NWNiOWIyM2I2ZWFlMjEyYmRkNS5zZXRDb250ZW50KGh0bWxfNjkyOGIxZWJhNDkwNDBjYjg4ZmVlZTliMTdhMTA5Y2IpOwogICAgICAgIAoKICAgICAgICBtYXJrZXJfOTQ0NDE4NjdlMzY3NDFlNTlkZjhhZGNjYjc3ZTFkZDQuYmluZFBvcHVwKHBvcHVwXzc4Zjk3YWJhYWVlZDQ1Y2I5YjIzYjZlYWUyMTJiZGQ1KQogICAgICAgIDsKCiAgICAgICAgCiAgICAKICAgIAogICAgICAgICAgICB2YXIgbWFya2VyX2Q1ZTM5MTY5ODY2OTQ1YmQ4OGEzYWVlNjdjMGFiMTU4ID0gTC5tYXJrZXIoCiAgICAgICAgICAgICAgICBbMzcuNzg4MDE4NTU1ODI5LCAtMTIyLjQyNjA3NzE3NzM3NDk5XSwKICAgICAgICAgICAgICAgIHt9CiAgICAgICAgICAgICkuYWRkVG8obWFwXzA0Y2YyYmMzNzU4MzRiMzk4ZmQzOGE2NDAzYjMxYzJkKTsKICAgICAgICAKICAgIAogICAgICAgIHZhciBwb3B1cF8yZWJiY2VkYWQxNmE0NDlmYTE5NzIxNmZmOTEwODZlNSA9IEwucG9wdXAoeyJtYXhXaWR0aCI6ICIxMDAlIn0pOwoKICAgICAgICAKICAgICAgICAgICAgdmFyIGh0bWxfMzYzMjQ0MGI0NmViNDZlZmFlMTgyYTNhNTFkOGEwYmEgPSAkKGA8ZGl2IGlkPSJodG1sXzM2MzI0NDBiNDZlYjQ2ZWZhZTE4MmEzYTUxZDhhMGJhIiBzdHlsZT0id2lkdGg6IDEwMC4wJTsgaGVpZ2h0OiAxMDAuMCU7Ij5BU1NBVUxUPC9kaXY+YClbMF07CiAgICAgICAgICAgIHBvcHVwXzJlYmJjZWRhZDE2YTQ0OWZhMTk3MjE2ZmY5MTA4NmU1LnNldENvbnRlbnQoaHRtbF8zNjMyNDQwYjQ2ZWI0NmVmYWUxODJhM2E1MWQ4YTBiYSk7CiAgICAgICAgCgogICAgICAgIG1hcmtlcl9kNWUzOTE2OTg2Njk0NWJkODhhM2FlZTY3YzBhYjE1OC5iaW5kUG9wdXAocG9wdXBfMmViYmNlZGFkMTZhNDQ5ZmExOTcyMTZmZjkxMDg2ZTUpCiAgICAgICAgOwoKICAgICAgICAKICAgIAogICAgCiAgICAgICAgICAgIHZhciBtYXJrZXJfZTE4OTY4ODVlZWJiNDZlYjk5Mzg5MTc4YjI0NTg4ZTcgPSBMLm1hcmtlcigKICAgICAgICAgICAgICAgIFszNy43ODA4Nzg5MzYwMjE0LCAtMTIyLjQwNTcyMTQ1NDU2N10sCiAgICAgICAgICAgICAgICB7fQogICAgICAgICAgICApLmFkZFRvKG1hcF8wNGNmMmJjMzc1ODM0YjM5OGZkMzhhNjQwM2IzMWMyZCk7CiAgICAgICAgCiAgICAKICAgICAgICB2YXIgcG9wdXBfMTU0MjkzYWUzZTI2NDkzZWEyMDJlZDNkOTVlYjUzNzAgPSBMLnBvcHVwKHsibWF4V2lkdGgiOiAiMTAwJSJ9KTsKCiAgICAgICAgCiAgICAgICAgICAgIHZhciBodG1sX2JlMzQ1MjNhYTY3YjQ2MjJiYTM2MTc0NzliMTAzZmNlID0gJChgPGRpdiBpZD0iaHRtbF9iZTM0NTIzYWE2N2I0NjIyYmEzNjE3NDc5YjEwM2ZjZSIgc3R5bGU9IndpZHRoOiAxMDAuMCU7IGhlaWdodDogMTAwLjAlOyI+T1RIRVIgT0ZGRU5TRVM8L2Rpdj5gKVswXTsKICAgICAgICAgICAgcG9wdXBfMTU0MjkzYWUzZTI2NDkzZWEyMDJlZDNkOTVlYjUzNzAuc2V0Q29udGVudChodG1sX2JlMzQ1MjNhYTY3YjQ2MjJiYTM2MTc0NzliMTAzZmNlKTsKICAgICAgICAKCiAgICAgICAgbWFya2VyX2UxODk2ODg1ZWViYjQ2ZWI5OTM4OTE3OGIyNDU4OGU3LmJpbmRQb3B1cChwb3B1cF8xNTQyOTNhZTNlMjY0OTNlYTIwMmVkM2Q5NWViNTM3MCkKICAgICAgICA7CgogICAgICAgIAogICAgCiAgICAKICAgICAgICAgICAgdmFyIG1hcmtlcl8xZTRhNWNkNDVlNDU0NjJiOTIyOTA3MmUzNjM2ZjYwNiA9IEwubWFya2VyKAogICAgICAgICAgICAgICAgWzM3Ljc4Mzk4MDU1OTI2MzQsIC0xMjIuNDExNzc4Mjk1OTkyXSwKICAgICAgICAgICAgICAgIHt9CiAgICAgICAgICAgICkuYWRkVG8obWFwXzA0Y2YyYmMzNzU4MzRiMzk4ZmQzOGE2NDAzYjMxYzJkKTsKICAgICAgICAKICAgIAogICAgICAgIHZhciBwb3B1cF9kMmUzNTRkYzhmYjg0YzVjYmQyOGMyMDZhMjMyN2I3NSA9IEwucG9wdXAoeyJtYXhXaWR0aCI6ICIxMDAlIn0pOwoKICAgICAgICAKICAgICAgICAgICAgdmFyIGh0bWxfZjYyZjdiZDRkYzMzNDU2NGI4ZGY4ZDNjMjkxODAzZDEgPSAkKGA8ZGl2IGlkPSJodG1sX2Y2MmY3YmQ0ZGMzMzQ1NjRiOGRmOGQzYzI5MTgwM2QxIiBzdHlsZT0id2lkdGg6IDEwMC4wJTsgaGVpZ2h0OiAxMDAuMCU7Ij5OT04tQ1JJTUlOQUw8L2Rpdj5gKVswXTsKICAgICAgICAgICAgcG9wdXBfZDJlMzU0ZGM4ZmI4NGM1Y2JkMjhjMjA2YTIzMjdiNzUuc2V0Q29udGVudChodG1sX2Y2MmY3YmQ0ZGMzMzQ1NjRiOGRmOGQzYzI5MTgwM2QxKTsKICAgICAgICAKCiAgICAgICAgbWFya2VyXzFlNGE1Y2Q0NWU0NTQ2MmI5MjI5MDcyZTM2MzZmNjA2LmJpbmRQb3B1cChwb3B1cF9kMmUzNTRkYzhmYjg0YzVjYmQyOGMyMDZhMjMyN2I3NSkKICAgICAgICA7CgogICAgICAgIAogICAgCiAgICAKICAgICAgICAgICAgdmFyIG1hcmtlcl85ZWIyMmZlZWUzMjk0NTdjYTE4NTkzMzg4MDJiOGFiMCA9IEwubWFya2VyKAogICAgICAgICAgICAgICAgWzM3Ljc3NTc4NzYyMTgyOTI5NSwgLTEyMi4zOTMzNTcyNDE0NTFdLAogICAgICAgICAgICAgICAge30KICAgICAgICAgICAgKS5hZGRUbyhtYXBfMDRjZjJiYzM3NTgzNGIzOThmZDM4YTY0MDNiMzFjMmQpOwogICAgICAgIAogICAgCiAgICAgICAgdmFyIHBvcHVwX2QwOWM3M2M3MWI2MTQzNmE5NmJkZWYxZjMzMmMzNjRkID0gTC5wb3B1cCh7Im1heFdpZHRoIjogIjEwMCUifSk7CgogICAgICAgIAogICAgICAgICAgICB2YXIgaHRtbF81MmNkZjEwNzZiMjQ0MjIyOTE5MmRhMjA5Njg1ODk5OSA9ICQoYDxkaXYgaWQ9Imh0bWxfNTJjZGYxMDc2YjI0NDIyMjkxOTJkYTIwOTY4NTg5OTkiIHN0eWxlPSJ3aWR0aDogMTAwLjAlOyBoZWlnaHQ6IDEwMC4wJTsiPldBUlJBTlRTPC9kaXY+YClbMF07CiAgICAgICAgICAgIHBvcHVwX2QwOWM3M2M3MWI2MTQzNmE5NmJkZWYxZjMzMmMzNjRkLnNldENvbnRlbnQoaHRtbF81MmNkZjEwNzZiMjQ0MjIyOTE5MmRhMjA5Njg1ODk5OSk7CiAgICAgICAgCgogICAgICAgIG1hcmtlcl85ZWIyMmZlZWUzMjk0NTdjYTE4NTkzMzg4MDJiOGFiMC5iaW5kUG9wdXAocG9wdXBfZDA5YzczYzcxYjYxNDM2YTk2YmRlZjFmMzMyYzM2NGQpCiAgICAgICAgOwoKICAgICAgICAKICAgIAogICAgCiAgICAgICAgICAgIHZhciBtYXJrZXJfNzc1YTg3NjEyMmM1NDA5YmEzNzQyMDQ2YzJkNDBjYjQgPSBMLm1hcmtlcigKICAgICAgICAgICAgICAgIFszNy43MjA5NjY5NjE1NDk5LCAtMTIyLjM4NzE4MTYzNTk5NV0sCiAgICAgICAgICAgICAgICB7fQogICAgICAgICAgICApLmFkZFRvKG1hcF8wNGNmMmJjMzc1ODM0YjM5OGZkMzhhNjQwM2IzMWMyZCk7CiAgICAgICAgCiAgICAKICAgICAgICB2YXIgcG9wdXBfMThlNGNhZTBiZGYyNDllYWEzYWU1ZmMwY2Y0Y2ZjNDYgPSBMLnBvcHVwKHsibWF4V2lkdGgiOiAiMTAwJSJ9KTsKCiAgICAgICAgCiAgICAgICAgICAgIHZhciBodG1sXzM5NTA0NGEwMjZlYTQ3MWRhZGYyM2Q4MmVmNDVhMGQ4ID0gJChgPGRpdiBpZD0iaHRtbF8zOTUwNDRhMDI2ZWE0NzFkYWRmMjNkODJlZjQ1YTBkOCIgc3R5bGU9IndpZHRoOiAxMDAuMCU7IGhlaWdodDogMTAwLjAlOyI+TUlTU0lORyBQRVJTT048L2Rpdj5gKVswXTsKICAgICAgICAgICAgcG9wdXBfMThlNGNhZTBiZGYyNDllYWEzYWU1ZmMwY2Y0Y2ZjNDYuc2V0Q29udGVudChodG1sXzM5NTA0NGEwMjZlYTQ3MWRhZGYyM2Q4MmVmNDVhMGQ4KTsKICAgICAgICAKCiAgICAgICAgbWFya2VyXzc3NWE4NzYxMjJjNTQwOWJhMzc0MjA0NmMyZDQwY2I0LmJpbmRQb3B1cChwb3B1cF8xOGU0Y2FlMGJkZjI0OWVhYTNhZTVmYzBjZjRjZmM0NikKICAgICAgICA7CgogICAgICAgIAogICAgCiAgICAKICAgICAgICAgICAgdmFyIG1hcmtlcl9mMTg2OGM2MmY0MTA0YzVkOWJlMjc2MGNkNGI3OTgzNCA9IEwubWFya2VyKAogICAgICAgICAgICAgICAgWzM3Ljc2NDQ3ODE1Nzg2OTUwNSwgLTEyMi40NzczNzY1MjQwMDI5OV0sCiAgICAgICAgICAgICAgICB7fQogICAgICAgICAgICApLmFkZFRvKG1hcF8wNGNmMmJjMzc1ODM0YjM5OGZkMzhhNjQwM2IzMWMyZCk7CiAgICAgICAgCiAgICAKICAgICAgICB2YXIgcG9wdXBfNTA1MmQ2NTgyZmI4NDRiNzk0ZjViY2ZkYjIyNDcwZTcgPSBMLnBvcHVwKHsibWF4V2lkdGgiOiAiMTAwJSJ9KTsKCiAgICAgICAgCiAgICAgICAgICAgIHZhciBodG1sXzg1NmZlZGFkMWU2NDRlN2M4ODNhMWI2NDI4NTEzNjAzID0gJChgPGRpdiBpZD0iaHRtbF84NTZmZWRhZDFlNjQ0ZTdjODgzYTFiNjQyODUxMzYwMyIgc3R5bGU9IndpZHRoOiAxMDAuMCU7IGhlaWdodDogMTAwLjAlOyI+TEFSQ0VOWS9USEVGVDwvZGl2PmApWzBdOwogICAgICAgICAgICBwb3B1cF81MDUyZDY1ODJmYjg0NGI3OTRmNWJjZmRiMjI0NzBlNy5zZXRDb250ZW50KGh0bWxfODU2ZmVkYWQxZTY0NGU3Yzg4M2ExYjY0Mjg1MTM2MDMpOwogICAgICAgIAoKICAgICAgICBtYXJrZXJfZjE4NjhjNjJmNDEwNGM1ZDliZTI3NjBjZDRiNzk4MzQuYmluZFBvcHVwKHBvcHVwXzUwNTJkNjU4MmZiODQ0Yjc5NGY1YmNmZGIyMjQ3MGU3KQogICAgICAgIDsKCiAgICAgICAgCiAgICAKICAgIAogICAgICAgICAgICB2YXIgbWFya2VyXzJhNGUxY2RhZDdiMDQ5ZmE4YjIyZWJmMWY1MTgxMzY1ID0gTC5tYXJrZXIoCiAgICAgICAgICAgICAgICBbMzcuNzQ1NzM4OTQyOTY1NDk1LCAtMTIyLjQ3Nzk2MDMyNzI5OV0sCiAgICAgICAgICAgICAgICB7fQogICAgICAgICAgICApLmFkZFRvKG1hcF8wNGNmMmJjMzc1ODM0YjM5OGZkMzhhNjQwM2IzMWMyZCk7CiAgICAgICAgCiAgICAKICAgICAgICB2YXIgcG9wdXBfYzUwYjY0NTlmNjA5NDAzOWFlNTk2NDczNTFhMTQzOWIgPSBMLnBvcHVwKHsibWF4V2lkdGgiOiAiMTAwJSJ9KTsKCiAgICAgICAgCiAgICAgICAgICAgIHZhciBodG1sXzVmODBjOTI2NjVkNzRlNGM4NTFmZjYyOGFjYTQxYzkwID0gJChgPGRpdiBpZD0iaHRtbF81ZjgwYzkyNjY1ZDc0ZTRjODUxZmY2MjhhY2E0MWM5MCIgc3R5bGU9IndpZHRoOiAxMDAuMCU7IGhlaWdodDogMTAwLjAlOyI+Tk9OLUNSSU1JTkFMPC9kaXY+YClbMF07CiAgICAgICAgICAgIHBvcHVwX2M1MGI2NDU5ZjYwOTQwMzlhZTU5NjQ3MzUxYTE0MzliLnNldENvbnRlbnQoaHRtbF81ZjgwYzkyNjY1ZDc0ZTRjODUxZmY2MjhhY2E0MWM5MCk7CiAgICAgICAgCgogICAgICAgIG1hcmtlcl8yYTRlMWNkYWQ3YjA0OWZhOGIyMmViZjFmNTE4MTM2NS5iaW5kUG9wdXAocG9wdXBfYzUwYjY0NTlmNjA5NDAzOWFlNTk2NDczNTFhMTQzOWIpCiAgICAgICAgOwoKICAgICAgICAKICAgIAogICAgCiAgICAgICAgICAgIHZhciBtYXJrZXJfMTRlMzUzN2ZlYTI2NGVkODgwMjk4NDExNmY3MjY5M2MgPSBMLm1hcmtlcigKICAgICAgICAgICAgICAgIFszNy43MzU2OTcwMjc1NDgyMDYsIC0xMjIuMzc2NzU3NjU1NTMwMDFdLAogICAgICAgICAgICAgICAge30KICAgICAgICAgICAgKS5hZGRUbyhtYXBfMDRjZjJiYzM3NTgzNGIzOThmZDM4YTY0MDNiMzFjMmQpOwogICAgICAgIAogICAgCiAgICAgICAgdmFyIHBvcHVwXzcwNDRjYjJmNjNiNzQ5OWQ5ZjJjZWE0N2YwMGQ0OWU4ID0gTC5wb3B1cCh7Im1heFdpZHRoIjogIjEwMCUifSk7CgogICAgICAgIAogICAgICAgICAgICB2YXIgaHRtbF9jYjRjZmUyNGNmZTE0Zjg3OGU5OTdhMTIwOGI5NWFjNSA9ICQoYDxkaXYgaWQ9Imh0bWxfY2I0Y2ZlMjRjZmUxNGY4NzhlOTk3YTEyMDhiOTVhYzUiIHN0eWxlPSJ3aWR0aDogMTAwLjAlOyBoZWlnaHQ6IDEwMC4wJTsiPk9USEVSIE9GRkVOU0VTPC9kaXY+YClbMF07CiAgICAgICAgICAgIHBvcHVwXzcwNDRjYjJmNjNiNzQ5OWQ5ZjJjZWE0N2YwMGQ0OWU4LnNldENvbnRlbnQoaHRtbF9jYjRjZmUyNGNmZTE0Zjg3OGU5OTdhMTIwOGI5NWFjNSk7CiAgICAgICAgCgogICAgICAgIG1hcmtlcl8xNGUzNTM3ZmVhMjY0ZWQ4ODAyOTg0MTE2ZjcyNjkzYy5iaW5kUG9wdXAocG9wdXBfNzA0NGNiMmY2M2I3NDk5ZDlmMmNlYTQ3ZjAwZDQ5ZTgpCiAgICAgICAgOwoKICAgICAgICAKICAgIAogICAgCiAgICAgICAgICAgIHZhciBtYXJrZXJfZTdmZTAzMWI0ZjBkNDUxZDkzNDM1MjI4ZWIzZWU0ODUgPSBMLm1hcmtlcigKICAgICAgICAgICAgICAgIFszNy43MjkyNzA1MTk5NTkyLCAtMTIyLjQzMjMyNTg3MTAyOF0sCiAgICAgICAgICAgICAgICB7fQogICAgICAgICAgICApLmFkZFRvKG1hcF8wNGNmMmJjMzc1ODM0YjM5OGZkMzhhNjQwM2IzMWMyZCk7CiAgICAgICAgCiAgICAKICAgICAgICB2YXIgcG9wdXBfYTRkYTUwYjgyZDFmNDcyYmFjNDZkOGU3OGIzMGEwNGEgPSBMLnBvcHVwKHsibWF4V2lkdGgiOiAiMTAwJSJ9KTsKCiAgICAgICAgCiAgICAgICAgICAgIHZhciBodG1sX2Q5YTU3NmE1YzYyMzQ1MDhhNDNkOWNhODUyMjFkYTU3ID0gJChgPGRpdiBpZD0iaHRtbF9kOWE1NzZhNWM2MjM0NTA4YTQzZDljYTg1MjIxZGE1NyIgc3R5bGU9IndpZHRoOiAxMDAuMCU7IGhlaWdodDogMTAwLjAlOyI+QVNTQVVMVDwvZGl2PmApWzBdOwogICAgICAgICAgICBwb3B1cF9hNGRhNTBiODJkMWY0NzJiYWM0NmQ4ZTc4YjMwYTA0YS5zZXRDb250ZW50KGh0bWxfZDlhNTc2YTVjNjIzNDUwOGE0M2Q5Y2E4NTIyMWRhNTcpOwogICAgICAgIAoKICAgICAgICBtYXJrZXJfZTdmZTAzMWI0ZjBkNDUxZDkzNDM1MjI4ZWIzZWU0ODUuYmluZFBvcHVwKHBvcHVwX2E0ZGE1MGI4MmQxZjQ3MmJhYzQ2ZDhlNzhiMzBhMDRhKQogICAgICAgIDsKCiAgICAgICAgCiAgICAKICAgIAogICAgICAgICAgICB2YXIgbWFya2VyX2NkNTlmYTM3MTViYzQzYjY5NzQxZjk1OGQyNjZmZTIxID0gTC5tYXJrZXIoCiAgICAgICAgICAgICAgICBbMzcuNzkxNjQyOTgyMzg0LCAtMTIyLjQwMDkwODY5ODg4OTk5XSwKICAgICAgICAgICAgICAgIHt9CiAgICAgICAgICAgICkuYWRkVG8obWFwXzA0Y2YyYmMzNzU4MzRiMzk4ZmQzOGE2NDAzYjMxYzJkKTsKICAgICAgICAKICAgIAogICAgICAgIHZhciBwb3B1cF9hY2ZjYzQ2NzllOWM0MDI5OGZhM2JiNmNjYjc5MmI3YiA9IEwucG9wdXAoeyJtYXhXaWR0aCI6ICIxMDAlIn0pOwoKICAgICAgICAKICAgICAgICAgICAgdmFyIGh0bWxfYTY1NTkyODc0ZmY3NDNhM2I3NWM0Y2RkYTVjZjEzMTAgPSAkKGA8ZGl2IGlkPSJodG1sX2E2NTU5Mjg3NGZmNzQzYTNiNzVjNGNkZGE1Y2YxMzEwIiBzdHlsZT0id2lkdGg6IDEwMC4wJTsgaGVpZ2h0OiAxMDAuMCU7Ij5CVVJHTEFSWTwvZGl2PmApWzBdOwogICAgICAgICAgICBwb3B1cF9hY2ZjYzQ2NzllOWM0MDI5OGZhM2JiNmNjYjc5MmI3Yi5zZXRDb250ZW50KGh0bWxfYTY1NTkyODc0ZmY3NDNhM2I3NWM0Y2RkYTVjZjEzMTApOwogICAgICAgIAoKICAgICAgICBtYXJrZXJfY2Q1OWZhMzcxNWJjNDNiNjk3NDFmOTU4ZDI2NmZlMjEuYmluZFBvcHVwKHBvcHVwX2FjZmNjNDY3OWU5YzQwMjk4ZmEzYmI2Y2NiNzkyYjdiKQogICAgICAgIDsKCiAgICAgICAgCiAgICAKICAgIAogICAgICAgICAgICB2YXIgbWFya2VyX2IzOTQ0NTRlODJjYzQxZjhhMTU1MGU0ODY0MDQzNmQ2ID0gTC5tYXJrZXIoCiAgICAgICAgICAgICAgICBbMzcuNzgzNzA2OTMwMTU0NSwgLTEyMi40MDg1OTUxMTA4NjldLAogICAgICAgICAgICAgICAge30KICAgICAgICAgICAgKS5hZGRUbyhtYXBfMDRjZjJiYzM3NTgzNGIzOThmZDM4YTY0MDNiMzFjMmQpOwogICAgICAgIAogICAgCiAgICAgICAgdmFyIHBvcHVwX2IzZDhmYjZkMzlkNjRiZjI5ZjlmNzdkNWY5MWJiNDRkID0gTC5wb3B1cCh7Im1heFdpZHRoIjogIjEwMCUifSk7CgogICAgICAgIAogICAgICAgICAgICB2YXIgaHRtbF83MGQxNWVhM2MwZTc0NDFjOGUwMzdhYzY4MGI1YTg1YSA9ICQoYDxkaXYgaWQ9Imh0bWxfNzBkMTVlYTNjMGU3NDQxYzhlMDM3YWM2ODBiNWE4NWEiIHN0eWxlPSJ3aWR0aDogMTAwLjAlOyBoZWlnaHQ6IDEwMC4wJTsiPlNUT0xFTiBQUk9QRVJUWTwvZGl2PmApWzBdOwogICAgICAgICAgICBwb3B1cF9iM2Q4ZmI2ZDM5ZDY0YmYyOWY5Zjc3ZDVmOTFiYjQ0ZC5zZXRDb250ZW50KGh0bWxfNzBkMTVlYTNjMGU3NDQxYzhlMDM3YWM2ODBiNWE4NWEpOwogICAgICAgIAoKICAgICAgICBtYXJrZXJfYjM5NDQ1NGU4MmNjNDFmOGExNTUwZTQ4NjQwNDM2ZDYuYmluZFBvcHVwKHBvcHVwX2IzZDhmYjZkMzlkNjRiZjI5ZjlmNzdkNWY5MWJiNDRkKQogICAgICAgIDsKCiAgICAgICAgCiAgICAKICAgIAogICAgICAgICAgICB2YXIgbWFya2VyX2JlNGIzMjdmN2VkOTRlZWNhZGJlYjFkMjMwZDQzODZiID0gTC5tYXJrZXIoCiAgICAgICAgICAgICAgICBbMzcuNzU3Mjg5NTkwNDU3Nzk1LCAtMTIyLjQwNjg3MDQwMjA4Ml0sCiAgICAgICAgICAgICAgICB7fQogICAgICAgICAgICApLmFkZFRvKG1hcF8wNGNmMmJjMzc1ODM0YjM5OGZkMzhhNjQwM2IzMWMyZCk7CiAgICAgICAgCiAgICAKICAgICAgICB2YXIgcG9wdXBfNTE1NDMyY2U3YzJmNGU5ZDkzMTZkODdhMmI5MGU5ZTkgPSBMLnBvcHVwKHsibWF4V2lkdGgiOiAiMTAwJSJ9KTsKCiAgICAgICAgCiAgICAgICAgICAgIHZhciBodG1sXzI4NDBiNzc2YTZjZjQyM2JhOWIzOGEwODhmNmMxMDQxID0gJChgPGRpdiBpZD0iaHRtbF8yODQwYjc3NmE2Y2Y0MjNiYTliMzhhMDg4ZjZjMTA0MSIgc3R5bGU9IndpZHRoOiAxMDAuMCU7IGhlaWdodDogMTAwLjAlOyI+Uk9CQkVSWTwvZGl2PmApWzBdOwogICAgICAgICAgICBwb3B1cF81MTU0MzJjZTdjMmY0ZTlkOTMxNmQ4N2EyYjkwZTllOS5zZXRDb250ZW50KGh0bWxfMjg0MGI3NzZhNmNmNDIzYmE5YjM4YTA4OGY2YzEwNDEpOwogICAgICAgIAoKICAgICAgICBtYXJrZXJfYmU0YjMyN2Y3ZWQ5NGVlY2FkYmViMWQyMzBkNDM4NmIuYmluZFBvcHVwKHBvcHVwXzUxNTQzMmNlN2MyZjRlOWQ5MzE2ZDg3YTJiOTBlOWU5KQogICAgICAgIDsKCiAgICAgICAgCiAgICAKICAgIAogICAgICAgICAgICB2YXIgbWFya2VyXzlmYzg4MmRjY2JkMjQ0ZDJiN2QyNzhkNzFiNWJjYTlhID0gTC5tYXJrZXIoCiAgICAgICAgICAgICAgICBbMzcuNzQ4OTA2MzA1MTgyOSwgLTEyMi40MjAzNTQ3ODA4NjA5OV0sCiAgICAgICAgICAgICAgICB7fQogICAgICAgICAgICApLmFkZFRvKG1hcF8wNGNmMmJjMzc1ODM0YjM5OGZkMzhhNjQwM2IzMWMyZCk7CiAgICAgICAgCiAgICAKICAgICAgICB2YXIgcG9wdXBfZjRiMzU1YjIxMzIzNDJkNjgwYzNhYjQ3M2Q0ZmY2YmMgPSBMLnBvcHVwKHsibWF4V2lkdGgiOiAiMTAwJSJ9KTsKCiAgICAgICAgCiAgICAgICAgICAgIHZhciBodG1sXzZiOTEzYmFiOTJjZTQ1MjNhNGRmYTVhY2EzYzBjOWNjID0gJChgPGRpdiBpZD0iaHRtbF82YjkxM2JhYjkyY2U0NTIzYTRkZmE1YWNhM2MwYzljYyIgc3R5bGU9IndpZHRoOiAxMDAuMCU7IGhlaWdodDogMTAwLjAlOyI+QVNTQVVMVDwvZGl2PmApWzBdOwogICAgICAgICAgICBwb3B1cF9mNGIzNTViMjEzMjM0MmQ2ODBjM2FiNDczZDRmZjZiYy5zZXRDb250ZW50KGh0bWxfNmI5MTNiYWI5MmNlNDUyM2E0ZGZhNWFjYTNjMGM5Y2MpOwogICAgICAgIAoKICAgICAgICBtYXJrZXJfOWZjODgyZGNjYmQyNDRkMmI3ZDI3OGQ3MWI1YmNhOWEuYmluZFBvcHVwKHBvcHVwX2Y0YjM1NWIyMTMyMzQyZDY4MGMzYWI0NzNkNGZmNmJjKQogICAgICAgIDsKCiAgICAgICAgCiAgICAKICAgIAogICAgICAgICAgICB2YXIgbWFya2VyXzgzMzA0YjMyNTA2NTRmNWViMzIzZjc0MWUzNTI1M2E3ID0gTC5tYXJrZXIoCiAgICAgICAgICAgICAgICBbMzcuNzE1NzY1NDI2OTk1LCAtMTIyLjQzOTkwOTc2Njc3Ml0sCiAgICAgICAgICAgICAgICB7fQogICAgICAgICAgICApLmFkZFRvKG1hcF8wNGNmMmJjMzc1ODM0YjM5OGZkMzhhNjQwM2IzMWMyZCk7CiAgICAgICAgCiAgICAKICAgICAgICB2YXIgcG9wdXBfNGJhZjgxNmI0MzI5NDE2M2JhM2Q5Y2Y0NjgxYzc0NjYgPSBMLnBvcHVwKHsibWF4V2lkdGgiOiAiMTAwJSJ9KTsKCiAgICAgICAgCiAgICAgICAgICAgIHZhciBodG1sX2RmYWVhYzljYzFjNDRmNjZiMmQxMzBkMjZmMmYyMGM4ID0gJChgPGRpdiBpZD0iaHRtbF9kZmFlYWM5Y2MxYzQ0ZjY2YjJkMTMwZDI2ZjJmMjBjOCIgc3R5bGU9IndpZHRoOiAxMDAuMCU7IGhlaWdodDogMTAwLjAlOyI+QVNTQVVMVDwvZGl2PmApWzBdOwogICAgICAgICAgICBwb3B1cF80YmFmODE2YjQzMjk0MTYzYmEzZDljZjQ2ODFjNzQ2Ni5zZXRDb250ZW50KGh0bWxfZGZhZWFjOWNjMWM0NGY2NmIyZDEzMGQyNmYyZjIwYzgpOwogICAgICAgIAoKICAgICAgICBtYXJrZXJfODMzMDRiMzI1MDY1NGY1ZWIzMjNmNzQxZTM1MjUzYTcuYmluZFBvcHVwKHBvcHVwXzRiYWY4MTZiNDMyOTQxNjNiYTNkOWNmNDY4MWM3NDY2KQogICAgICAgIDsKCiAgICAgICAgCiAgICAKICAgIAogICAgICAgICAgICB2YXIgbWFya2VyXzM2M2VkNzYyMGMzYjQ1Y2Y5YzdjYTFlN2NjNGQ4M2U4ID0gTC5tYXJrZXIoCiAgICAgICAgICAgICAgICBbMzcuNzgzNTY5OTM4NjkxOCwgLTEyMi40MDg0MjExMTY5MjJdLAogICAgICAgICAgICAgICAge30KICAgICAgICAgICAgKS5hZGRUbyhtYXBfMDRjZjJiYzM3NTgzNGIzOThmZDM4YTY0MDNiMzFjMmQpOwogICAgICAgIAogICAgCiAgICAgICAgdmFyIHBvcHVwXzA4NDRkM2U2ZWY0NzQ0MzRhMzI5MDEwZDZkN2QwYmE1ID0gTC5wb3B1cCh7Im1heFdpZHRoIjogIjEwMCUifSk7CgogICAgICAgIAogICAgICAgICAgICB2YXIgaHRtbF85ZDNhNmVjYjNhMzc0M2MzODgxMWI3OGMyYjQ2NDY1YSA9ICQoYDxkaXYgaWQ9Imh0bWxfOWQzYTZlY2IzYTM3NDNjMzg4MTFiNzhjMmI0NjQ2NWEiIHN0eWxlPSJ3aWR0aDogMTAwLjAlOyBoZWlnaHQ6IDEwMC4wJTsiPkxBUkNFTlkvVEhFRlQ8L2Rpdj5gKVswXTsKICAgICAgICAgICAgcG9wdXBfMDg0NGQzZTZlZjQ3NDQzNGEzMjkwMTBkNmQ3ZDBiYTUuc2V0Q29udGVudChodG1sXzlkM2E2ZWNiM2EzNzQzYzM4ODExYjc4YzJiNDY0NjVhKTsKICAgICAgICAKCiAgICAgICAgbWFya2VyXzM2M2VkNzYyMGMzYjQ1Y2Y5YzdjYTFlN2NjNGQ4M2U4LmJpbmRQb3B1cChwb3B1cF8wODQ0ZDNlNmVmNDc0NDM0YTMyOTAxMGQ2ZDdkMGJhNSkKICAgICAgICA7CgogICAgICAgIAogICAgCiAgICAKICAgICAgICAgICAgdmFyIG1hcmtlcl8zZTVkNDZkZDE2N2Y0NGVjYjQ4Mzg2OTE2ODEyMmRkMiA9IEwubWFya2VyKAogICAgICAgICAgICAgICAgWzM3Ljc3MzYxODYyNzY0NTYwNCwgLTEyMi40MjIzMTU2NzA3NDldLAogICAgICAgICAgICAgICAge30KICAgICAgICAgICAgKS5hZGRUbyhtYXBfMDRjZjJiYzM3NTgzNGIzOThmZDM4YTY0MDNiMzFjMmQpOwogICAgICAgIAogICAgCiAgICAgICAgdmFyIHBvcHVwXzlhZTA4NjQ5MDk0YTRlNWI5NjI0OTU3YWYyNDk0NTFmID0gTC5wb3B1cCh7Im1heFdpZHRoIjogIjEwMCUifSk7CgogICAgICAgIAogICAgICAgICAgICB2YXIgaHRtbF80NWUxYzc5Njk0Yjg0MjdjOGM0ZjcxZTllMWJiNzQ5MCA9ICQoYDxkaXYgaWQ9Imh0bWxfNDVlMWM3OTY5NGI4NDI3YzhjNGY3MWU5ZTFiYjc0OTAiIHN0eWxlPSJ3aWR0aDogMTAwLjAlOyBoZWlnaHQ6IDEwMC4wJTsiPkZSQVVEPC9kaXY+YClbMF07CiAgICAgICAgICAgIHBvcHVwXzlhZTA4NjQ5MDk0YTRlNWI5NjI0OTU3YWYyNDk0NTFmLnNldENvbnRlbnQoaHRtbF80NWUxYzc5Njk0Yjg0MjdjOGM0ZjcxZTllMWJiNzQ5MCk7CiAgICAgICAgCgogICAgICAgIG1hcmtlcl8zZTVkNDZkZDE2N2Y0NGVjYjQ4Mzg2OTE2ODEyMmRkMi5iaW5kUG9wdXAocG9wdXBfOWFlMDg2NDkwOTRhNGU1Yjk2MjQ5NTdhZjI0OTQ1MWYpCiAgICAgICAgOwoKICAgICAgICAKICAgIAogICAgCiAgICAgICAgICAgIHZhciBtYXJrZXJfMTNkM2UwZTcyNmY1NDg5OTlmNTJiODgwMDkxYmYyNWIgPSBMLm1hcmtlcigKICAgICAgICAgICAgICAgIFszNy43OTI4NDEyODQwNDQ3MDUsIC0xMjIuNDI0NTE5ODM1MDA5MDFdLAogICAgICAgICAgICAgICAge30KICAgICAgICAgICAgKS5hZGRUbyhtYXBfMDRjZjJiYzM3NTgzNGIzOThmZDM4YTY0MDNiMzFjMmQpOwogICAgICAgIAogICAgCiAgICAgICAgdmFyIHBvcHVwXzliN2EzMzM2ZTdlNDRmZWQ5NDgxZjFmYWZjMDk5NWMyID0gTC5wb3B1cCh7Im1heFdpZHRoIjogIjEwMCUifSk7CgogICAgICAgIAogICAgICAgICAgICB2YXIgaHRtbF84N2U5YmZmOTQ1ZWE0MmY3OTU4YjM1ZDEyYzExNmQzZCA9ICQoYDxkaXYgaWQ9Imh0bWxfODdlOWJmZjk0NWVhNDJmNzk1OGIzNWQxMmMxMTZkM2QiIHN0eWxlPSJ3aWR0aDogMTAwLjAlOyBoZWlnaHQ6IDEwMC4wJTsiPldBUlJBTlRTPC9kaXY+YClbMF07CiAgICAgICAgICAgIHBvcHVwXzliN2EzMzM2ZTdlNDRmZWQ5NDgxZjFmYWZjMDk5NWMyLnNldENvbnRlbnQoaHRtbF84N2U5YmZmOTQ1ZWE0MmY3OTU4YjM1ZDEyYzExNmQzZCk7CiAgICAgICAgCgogICAgICAgIG1hcmtlcl8xM2QzZTBlNzI2ZjU0ODk5OWY1MmI4ODAwOTFiZjI1Yi5iaW5kUG9wdXAocG9wdXBfOWI3YTMzMzZlN2U0NGZlZDk0ODFmMWZhZmMwOTk1YzIpCiAgICAgICAgOwoKICAgICAgICAKICAgIAogICAgCiAgICAgICAgICAgIHZhciBtYXJrZXJfNTc0YjM4ZTcyZDYwNDViM2I2YmJlZGU1N2JjMjEyNzggPSBMLm1hcmtlcigKICAgICAgICAgICAgICAgIFszNy43NTQwOTg2ODgyMDY3OTUsIC0xMjIuNDE0MjMzODQ5MDM3OThdLAogICAgICAgICAgICAgICAge30KICAgICAgICAgICAgKS5hZGRUbyhtYXBfMDRjZjJiYzM3NTgzNGIzOThmZDM4YTY0MDNiMzFjMmQpOwogICAgICAgIAogICAgCiAgICAgICAgdmFyIHBvcHVwX2I3YjVmOWFlN2NiMDRhMmViMmJkN2RkZjZhYTgwYWQ1ID0gTC5wb3B1cCh7Im1heFdpZHRoIjogIjEwMCUifSk7CgogICAgICAgIAogICAgICAgICAgICB2YXIgaHRtbF85ZDRlZmI5MGRkNjY0YTBiYjY1ZGZmMmUwOWQ1NDZmOSA9ICQoYDxkaXYgaWQ9Imh0bWxfOWQ0ZWZiOTBkZDY2NGEwYmI2NWRmZjJlMDlkNTQ2ZjkiIHN0eWxlPSJ3aWR0aDogMTAwLjAlOyBoZWlnaHQ6IDEwMC4wJTsiPkRSVUcvTkFSQ09USUM8L2Rpdj5gKVswXTsKICAgICAgICAgICAgcG9wdXBfYjdiNWY5YWU3Y2IwNGEyZWIyYmQ3ZGRmNmFhODBhZDUuc2V0Q29udGVudChodG1sXzlkNGVmYjkwZGQ2NjRhMGJiNjVkZmYyZTA5ZDU0NmY5KTsKICAgICAgICAKCiAgICAgICAgbWFya2VyXzU3NGIzOGU3MmQ2MDQ1YjNiNmJiZWRlNTdiYzIxMjc4LmJpbmRQb3B1cChwb3B1cF9iN2I1ZjlhZTdjYjA0YTJlYjJiZDdkZGY2YWE4MGFkNSkKICAgICAgICA7CgogICAgICAgIAogICAgCiAgICAKICAgICAgICAgICAgdmFyIG1hcmtlcl85MzYyZWY2NDY5ZWU0Y2EwOGMyM2RmNjg0ZjU2YTc5NSA9IEwubWFya2VyKAogICAgICAgICAgICAgICAgWzM3Ljc1NDA5ODY4ODIwNjc5NSwgLTEyMi40MTQyMzM4NDkwMzc5OF0sCiAgICAgICAgICAgICAgICB7fQogICAgICAgICAgICApLmFkZFRvKG1hcF8wNGNmMmJjMzc1ODM0YjM5OGZkMzhhNjQwM2IzMWMyZCk7CiAgICAgICAgCiAgICAKICAgICAgICB2YXIgcG9wdXBfNWM5ZjY2NzQwMWU3NGU4MWI3ZmM2ZTkxMTkyN2E5YmYgPSBMLnBvcHVwKHsibWF4V2lkdGgiOiAiMTAwJSJ9KTsKCiAgICAgICAgCiAgICAgICAgICAgIHZhciBodG1sX2NkYzg2YmEzMjY5NTQ1NWE5ZmM0YTZiMDU0NTQ0Mzc3ID0gJChgPGRpdiBpZD0iaHRtbF9jZGM4NmJhMzI2OTU0NTVhOWZjNGE2YjA1NDU0NDM3NyIgc3R5bGU9IndpZHRoOiAxMDAuMCU7IGhlaWdodDogMTAwLjAlOyI+T1RIRVIgT0ZGRU5TRVM8L2Rpdj5gKVswXTsKICAgICAgICAgICAgcG9wdXBfNWM5ZjY2NzQwMWU3NGU4MWI3ZmM2ZTkxMTkyN2E5YmYuc2V0Q29udGVudChodG1sX2NkYzg2YmEzMjY5NTQ1NWE5ZmM0YTZiMDU0NTQ0Mzc3KTsKICAgICAgICAKCiAgICAgICAgbWFya2VyXzkzNjJlZjY0NjllZTRjYTA4YzIzZGY2ODRmNTZhNzk1LmJpbmRQb3B1cChwb3B1cF81YzlmNjY3NDAxZTc0ZTgxYjdmYzZlOTExOTI3YTliZikKICAgICAgICA7CgogICAgICAgIAogICAgCiAgICAKICAgICAgICAgICAgdmFyIG1hcmtlcl9hNzY2NGY4OGE5NDQ0ZTAyYjJiYTE2M2U5ZjExNjMyMSA9IEwubWFya2VyKAogICAgICAgICAgICAgICAgWzM3Ljc3MTQ5Mzk5Njk0MTYsIC0xMjIuNTA3NzUwMTMxMDA0MDJdLAogICAgICAgICAgICAgICAge30KICAgICAgICAgICAgKS5hZGRUbyhtYXBfMDRjZjJiYzM3NTgzNGIzOThmZDM4YTY0MDNiMzFjMmQpOwogICAgICAgIAogICAgCiAgICAgICAgdmFyIHBvcHVwXzgwMmQ3N2Y0MWI5NzQ1MDFhMmJkNDIyYzUxMTkyNGM3ID0gTC5wb3B1cCh7Im1heFdpZHRoIjogIjEwMCUifSk7CgogICAgICAgIAogICAgICAgICAgICB2YXIgaHRtbF83OTQzZThmNjM5MWE0ZjU1OTUzZDA5YjQxNTdiOWFiNyA9ICQoYDxkaXYgaWQ9Imh0bWxfNzk0M2U4ZjYzOTFhNGY1NTk1M2QwOWI0MTU3YjlhYjciIHN0eWxlPSJ3aWR0aDogMTAwLjAlOyBoZWlnaHQ6IDEwMC4wJTsiPkFTU0FVTFQ8L2Rpdj5gKVswXTsKICAgICAgICAgICAgcG9wdXBfODAyZDc3ZjQxYjk3NDUwMWEyYmQ0MjJjNTExOTI0Yzcuc2V0Q29udGVudChodG1sXzc5NDNlOGY2MzkxYTRmNTU5NTNkMDliNDE1N2I5YWI3KTsKICAgICAgICAKCiAgICAgICAgbWFya2VyX2E3NjY0Zjg4YTk0NDRlMDJiMmJhMTYzZTlmMTE2MzIxLmJpbmRQb3B1cChwb3B1cF84MDJkNzdmNDFiOTc0NTAxYTJiZDQyMmM1MTE5MjRjNykKICAgICAgICA7CgogICAgICAgIAogICAgCiAgICAKICAgICAgICAgICAgdmFyIG1hcmtlcl9mYTMwNDYyMTA5MGM0M2M0OWQzNWU3NmM3ZjA2ODE5NiA9IEwubWFya2VyKAogICAgICAgICAgICAgICAgWzM3LjcxODMwMjIwNDc2NjAwNSwgLTEyMi40NzQ0NDQ2Mzk1OTQ5OV0sCiAgICAgICAgICAgICAgICB7fQogICAgICAgICAgICApLmFkZFRvKG1hcF8wNGNmMmJjMzc1ODM0YjM5OGZkMzhhNjQwM2IzMWMyZCk7CiAgICAgICAgCiAgICAKICAgICAgICB2YXIgcG9wdXBfZGQ5NDA2MWQzOGY3NDhjNTgwNmMxODYyYmE0OWNlYTQgPSBMLnBvcHVwKHsibWF4V2lkdGgiOiAiMTAwJSJ9KTsKCiAgICAgICAgCiAgICAgICAgICAgIHZhciBodG1sXzU5YzY2MTczNmVlZjQwYzA4NDRlYjczYTlhYTRkZDhjID0gJChgPGRpdiBpZD0iaHRtbF81OWM2NjE3MzZlZWY0MGMwODQ0ZWI3M2E5YWE0ZGQ4YyIgc3R5bGU9IndpZHRoOiAxMDAuMCU7IGhlaWdodDogMTAwLjAlOyI+T1RIRVIgT0ZGRU5TRVM8L2Rpdj5gKVswXTsKICAgICAgICAgICAgcG9wdXBfZGQ5NDA2MWQzOGY3NDhjNTgwNmMxODYyYmE0OWNlYTQuc2V0Q29udGVudChodG1sXzU5YzY2MTczNmVlZjQwYzA4NDRlYjczYTlhYTRkZDhjKTsKICAgICAgICAKCiAgICAgICAgbWFya2VyX2ZhMzA0NjIxMDkwYzQzYzQ5ZDM1ZTc2YzdmMDY4MTk2LmJpbmRQb3B1cChwb3B1cF9kZDk0MDYxZDM4Zjc0OGM1ODA2YzE4NjJiYTQ5Y2VhNCkKICAgICAgICA7CgogICAgICAgIAogICAgCiAgICAKICAgICAgICAgICAgdmFyIG1hcmtlcl9hYTllNmRlOTBkYWM0MmE4ODY4ZTg5YmJjZjkzODQ1MSA9IEwubWFya2VyKAogICAgICAgICAgICAgICAgWzM3Ljc2NDU3NTIzMTc2MTUsIC0xMjIuNDI3NTYyNTk2OTg1XSwKICAgICAgICAgICAgICAgIHt9CiAgICAgICAgICAgICkuYWRkVG8obWFwXzA0Y2YyYmMzNzU4MzRiMzk4ZmQzOGE2NDAzYjMxYzJkKTsKICAgICAgICAKICAgIAogICAgICAgIHZhciBwb3B1cF8wMDZhOWQ1MmQ3NGI0YjVlOGZhZmJjYmU1ZDg3N2JhNCA9IEwucG9wdXAoeyJtYXhXaWR0aCI6ICIxMDAlIn0pOwoKICAgICAgICAKICAgICAgICAgICAgdmFyIGh0bWxfNGYxZThmY2IyMDk4NDQxOGJhYjYyYTNjMmU0YjYzMjkgPSAkKGA8ZGl2IGlkPSJodG1sXzRmMWU4ZmNiMjA5ODQ0MThiYWI2MmEzYzJlNGI2MzI5IiBzdHlsZT0id2lkdGg6IDEwMC4wJTsgaGVpZ2h0OiAxMDAuMCU7Ij5PVEhFUiBPRkZFTlNFUzwvZGl2PmApWzBdOwogICAgICAgICAgICBwb3B1cF8wMDZhOWQ1MmQ3NGI0YjVlOGZhZmJjYmU1ZDg3N2JhNC5zZXRDb250ZW50KGh0bWxfNGYxZThmY2IyMDk4NDQxOGJhYjYyYTNjMmU0YjYzMjkpOwogICAgICAgIAoKICAgICAgICBtYXJrZXJfYWE5ZTZkZTkwZGFjNDJhODg2OGU4OWJiY2Y5Mzg0NTEuYmluZFBvcHVwKHBvcHVwXzAwNmE5ZDUyZDc0YjRiNWU4ZmFmYmNiZTVkODc3YmE0KQogICAgICAgIDsKCiAgICAgICAgCiAgICAKICAgIAogICAgICAgICAgICB2YXIgbWFya2VyXzhjZGZiMjU4M2UxNDRhNDViZTZhNWQ5MTVlM2EzZTM2ID0gTC5tYXJrZXIoCiAgICAgICAgICAgICAgICBbMzcuNzg3NDM3ODMwOTExMiwgLTEyMi40MTkyMDMwMDQyNjhdLAogICAgICAgICAgICAgICAge30KICAgICAgICAgICAgKS5hZGRUbyhtYXBfMDRjZjJiYzM3NTgzNGIzOThmZDM4YTY0MDNiMzFjMmQpOwogICAgICAgIAogICAgCiAgICAgICAgdmFyIHBvcHVwXzUzZTI5ZGQ3MmM2ZDRiMDA4Y2IyMjY4ZjM0ZTdjZGQ3ID0gTC5wb3B1cCh7Im1heFdpZHRoIjogIjEwMCUifSk7CgogICAgICAgIAogICAgICAgICAgICB2YXIgaHRtbF9mMDU1YzQxZTgxMDg0MjdjOTVkYmQ5N2E1NDZiZTRhNSA9ICQoYDxkaXYgaWQ9Imh0bWxfZjA1NWM0MWU4MTA4NDI3Yzk1ZGJkOTdhNTQ2YmU0YTUiIHN0eWxlPSJ3aWR0aDogMTAwLjAlOyBoZWlnaHQ6IDEwMC4wJTsiPkJVUkdMQVJZPC9kaXY+YClbMF07CiAgICAgICAgICAgIHBvcHVwXzUzZTI5ZGQ3MmM2ZDRiMDA4Y2IyMjY4ZjM0ZTdjZGQ3LnNldENvbnRlbnQoaHRtbF9mMDU1YzQxZTgxMDg0MjdjOTVkYmQ5N2E1NDZiZTRhNSk7CiAgICAgICAgCgogICAgICAgIG1hcmtlcl84Y2RmYjI1ODNlMTQ0YTQ1YmU2YTVkOTE1ZTNhM2UzNi5iaW5kUG9wdXAocG9wdXBfNTNlMjlkZDcyYzZkNGIwMDhjYjIyNjhmMzRlN2NkZDcpCiAgICAgICAgOwoKICAgICAgICAKICAgIAogICAgCiAgICAgICAgICAgIHZhciBtYXJrZXJfMDdkZTExZGMwMmZlNGM3YTk2NTkyNTNkYmI3NGZhYzggPSBMLm1hcmtlcigKICAgICAgICAgICAgICAgIFszNy43NDkzNjg4Mjg0NTMyLCAtMTIyLjQxMjY5MDE0MjMwODAxXSwKICAgICAgICAgICAgICAgIHt9CiAgICAgICAgICAgICkuYWRkVG8obWFwXzA0Y2YyYmMzNzU4MzRiMzk4ZmQzOGE2NDAzYjMxYzJkKTsKICAgICAgICAKICAgIAogICAgICAgIHZhciBwb3B1cF8yZjJmYzEwYzY1OTM0NjhmOWI3MjZlMDU3ZDU3Yjc3OSA9IEwucG9wdXAoeyJtYXhXaWR0aCI6ICIxMDAlIn0pOwoKICAgICAgICAKICAgICAgICAgICAgdmFyIGh0bWxfYmUyZDRiZDAyZDczNDE4NWFkOGQ1MWFiZjRjODQ4MWUgPSAkKGA8ZGl2IGlkPSJodG1sX2JlMmQ0YmQwMmQ3MzQxODVhZDhkNTFhYmY0Yzg0ODFlIiBzdHlsZT0id2lkdGg6IDEwMC4wJTsgaGVpZ2h0OiAxMDAuMCU7Ij5PVEhFUiBPRkZFTlNFUzwvZGl2PmApWzBdOwogICAgICAgICAgICBwb3B1cF8yZjJmYzEwYzY1OTM0NjhmOWI3MjZlMDU3ZDU3Yjc3OS5zZXRDb250ZW50KGh0bWxfYmUyZDRiZDAyZDczNDE4NWFkOGQ1MWFiZjRjODQ4MWUpOwogICAgICAgIAoKICAgICAgICBtYXJrZXJfMDdkZTExZGMwMmZlNGM3YTk2NTkyNTNkYmI3NGZhYzguYmluZFBvcHVwKHBvcHVwXzJmMmZjMTBjNjU5MzQ2OGY5YjcyNmUwNTdkNTdiNzc5KQogICAgICAgIDsKCiAgICAgICAgCiAgICAKICAgIAogICAgICAgICAgICB2YXIgbWFya2VyXzcwMDIzNjM4NjhlYjQyYjI5ZDFhNjA4Zjg5OTc4MjA3ID0gTC5tYXJrZXIoCiAgICAgICAgICAgICAgICBbMzcuNzA5MjAxMDQ2MjM3OSwgLTEyMi40MzQ2MDkyODAzNTJdLAogICAgICAgICAgICAgICAge30KICAgICAgICAgICAgKS5hZGRUbyhtYXBfMDRjZjJiYzM3NTgzNGIzOThmZDM4YTY0MDNiMzFjMmQpOwogICAgICAgIAogICAgCiAgICAgICAgdmFyIHBvcHVwX2Y3Mzc3MWJiOGRjMjRkY2NiZGZjY2FjOTgyYzk1Mzc3ID0gTC5wb3B1cCh7Im1heFdpZHRoIjogIjEwMCUifSk7CgogICAgICAgIAogICAgICAgICAgICB2YXIgaHRtbF85ODZjZjJiNTJkZjQ0NTU4YjFjMWVlNjUwZTYzMjc1YyA9ICQoYDxkaXYgaWQ9Imh0bWxfOTg2Y2YyYjUyZGY0NDU1OGIxYzFlZTY1MGU2MzI3NWMiIHN0eWxlPSJ3aWR0aDogMTAwLjAlOyBoZWlnaHQ6IDEwMC4wJTsiPk5PTi1DUklNSU5BTDwvZGl2PmApWzBdOwogICAgICAgICAgICBwb3B1cF9mNzM3NzFiYjhkYzI0ZGNjYmRmY2NhYzk4MmM5NTM3Ny5zZXRDb250ZW50KGh0bWxfOTg2Y2YyYjUyZGY0NDU1OGIxYzFlZTY1MGU2MzI3NWMpOwogICAgICAgIAoKICAgICAgICBtYXJrZXJfNzAwMjM2Mzg2OGViNDJiMjlkMWE2MDhmODk5NzgyMDcuYmluZFBvcHVwKHBvcHVwX2Y3Mzc3MWJiOGRjMjRkY2NiZGZjY2FjOTgyYzk1Mzc3KQogICAgICAgIDsKCiAgICAgICAgCiAgICAKICAgIAogICAgICAgICAgICB2YXIgbWFya2VyX2JiZDU2OWEyYzFiOTRmMmNhZmNjODk4YzBkZWRlMTFmID0gTC5tYXJrZXIoCiAgICAgICAgICAgICAgICBbMzcuNzg3OTIwOTM3NTUzMjk1LCAtMTIyLjQxMDg4MjgyNTU1MV0sCiAgICAgICAgICAgICAgICB7fQogICAgICAgICAgICApLmFkZFRvKG1hcF8wNGNmMmJjMzc1ODM0YjM5OGZkMzhhNjQwM2IzMWMyZCk7CiAgICAgICAgCiAgICAKICAgICAgICB2YXIgcG9wdXBfMzk5OGFhNmRiYzIzNGJmN2IxN2ZkNTQxNDEzNTM2OTcgPSBMLnBvcHVwKHsibWF4V2lkdGgiOiAiMTAwJSJ9KTsKCiAgICAgICAgCiAgICAgICAgICAgIHZhciBodG1sXzVkNTExNDRhNzFlMzRkMGZiYzIxNzZhN2EwZDk0MDA0ID0gJChgPGRpdiBpZD0iaHRtbF81ZDUxMTQ0YTcxZTM0ZDBmYmMyMTc2YTdhMGQ5NDAwNCIgc3R5bGU9IndpZHRoOiAxMDAuMCU7IGhlaWdodDogMTAwLjAlOyI+VkVISUNMRSBUSEVGVDwvZGl2PmApWzBdOwogICAgICAgICAgICBwb3B1cF8zOTk4YWE2ZGJjMjM0YmY3YjE3ZmQ1NDE0MTM1MzY5Ny5zZXRDb250ZW50KGh0bWxfNWQ1MTE0NGE3MWUzNGQwZmJjMjE3NmE3YTBkOTQwMDQpOwogICAgICAgIAoKICAgICAgICBtYXJrZXJfYmJkNTY5YTJjMWI5NGYyY2FmY2M4OThjMGRlZGUxMWYuYmluZFBvcHVwKHBvcHVwXzM5OThhYTZkYmMyMzRiZjdiMTdmZDU0MTQxMzUzNjk3KQogICAgICAgIDsKCiAgICAgICAgCiAgICAKICAgIAogICAgICAgICAgICB2YXIgbWFya2VyXzcxYTJhYjZkNmM0NjRlZDU5OTE0NWUxNGQzZWM0ZDcwID0gTC5tYXJrZXIoCiAgICAgICAgICAgICAgICBbMzcuODAwNDU2NjQ3MTAzODksIC0xMjIuNDAxNDMyNzU0NzIyMDFdLAogICAgICAgICAgICAgICAge30KICAgICAgICAgICAgKS5hZGRUbyhtYXBfMDRjZjJiYzM3NTgzNGIzOThmZDM4YTY0MDNiMzFjMmQpOwogICAgICAgIAogICAgCiAgICAgICAgdmFyIHBvcHVwXzZlNDZhZDkxYjBmMTQ4NWY4YzVjYjU1NmQ0ZGJlMTViID0gTC5wb3B1cCh7Im1heFdpZHRoIjogIjEwMCUifSk7CgogICAgICAgIAogICAgICAgICAgICB2YXIgaHRtbF85ZDRiMzg1YmFmMGU0ZjE0OGEzY2ZmZjQxMmM4YWVhNCA9ICQoYDxkaXYgaWQ9Imh0bWxfOWQ0YjM4NWJhZjBlNGYxNDhhM2NmZmY0MTJjOGFlYTQiIHN0eWxlPSJ3aWR0aDogMTAwLjAlOyBoZWlnaHQ6IDEwMC4wJTsiPlZFSElDTEUgVEhFRlQ8L2Rpdj5gKVswXTsKICAgICAgICAgICAgcG9wdXBfNmU0NmFkOTFiMGYxNDg1ZjhjNWNiNTU2ZDRkYmUxNWIuc2V0Q29udGVudChodG1sXzlkNGIzODViYWYwZTRmMTQ4YTNjZmZmNDEyYzhhZWE0KTsKICAgICAgICAKCiAgICAgICAgbWFya2VyXzcxYTJhYjZkNmM0NjRlZDU5OTE0NWUxNGQzZWM0ZDcwLmJpbmRQb3B1cChwb3B1cF82ZTQ2YWQ5MWIwZjE0ODVmOGM1Y2I1NTZkNGRiZTE1YikKICAgICAgICA7CgogICAgICAgIAogICAgCiAgICAKICAgICAgICAgICAgdmFyIG1hcmtlcl8xYjRlMTY1M2UyZDU0YWEyOTA1NjZhNDVkYjNmOTA3OSA9IEwubWFya2VyKAogICAgICAgICAgICAgICAgWzM3Ljc0MzU1NTA1NDIyNjUsIC0xMjIuNDIxMTI4MDI5NTA1XSwKICAgICAgICAgICAgICAgIHt9CiAgICAgICAgICAgICkuYWRkVG8obWFwXzA0Y2YyYmMzNzU4MzRiMzk4ZmQzOGE2NDAzYjMxYzJkKTsKICAgICAgICAKICAgIAogICAgICAgIHZhciBwb3B1cF9jNzA2OGI3YTFjY2I0N2NhOTJiYTljNTMzY2ZiMTRkMiA9IEwucG9wdXAoeyJtYXhXaWR0aCI6ICIxMDAlIn0pOwoKICAgICAgICAKICAgICAgICAgICAgdmFyIGh0bWxfMmExMGQ0NWVhZjA2NGRjYjhiMjgwNjBkZWFmNzRiODAgPSAkKGA8ZGl2IGlkPSJodG1sXzJhMTBkNDVlYWYwNjRkY2I4YjI4MDYwZGVhZjc0YjgwIiBzdHlsZT0id2lkdGg6IDEwMC4wJTsgaGVpZ2h0OiAxMDAuMCU7Ij5MQVJDRU5ZL1RIRUZUPC9kaXY+YClbMF07CiAgICAgICAgICAgIHBvcHVwX2M3MDY4YjdhMWNjYjQ3Y2E5MmJhOWM1MzNjZmIxNGQyLnNldENvbnRlbnQoaHRtbF8yYTEwZDQ1ZWFmMDY0ZGNiOGIyODA2MGRlYWY3NGI4MCk7CiAgICAgICAgCgogICAgICAgIG1hcmtlcl8xYjRlMTY1M2UyZDU0YWEyOTA1NjZhNDVkYjNmOTA3OS5iaW5kUG9wdXAocG9wdXBfYzcwNjhiN2ExY2NiNDdjYTkyYmE5YzUzM2NmYjE0ZDIpCiAgICAgICAgOwoKICAgICAgICAKICAgIAogICAgCiAgICAgICAgICAgIHZhciBtYXJrZXJfMmU1ZWVmMGZkNGU5NDNiYmExODhiNDU0MTkyMDZhYTUgPSBMLm1hcmtlcigKICAgICAgICAgICAgICAgIFszNy43ODY1NjQ3NjA3Njg1LCAtMTIyLjQwNzI0NDA4NzAzMl0sCiAgICAgICAgICAgICAgICB7fQogICAgICAgICAgICApLmFkZFRvKG1hcF8wNGNmMmJjMzc1ODM0YjM5OGZkMzhhNjQwM2IzMWMyZCk7CiAgICAgICAgCiAgICAKICAgICAgICB2YXIgcG9wdXBfMzRhMzk4NGZlNjkyNDY4NzkzZWNjYWZhYWY1NTEwNWUgPSBMLnBvcHVwKHsibWF4V2lkdGgiOiAiMTAwJSJ9KTsKCiAgICAgICAgCiAgICAgICAgICAgIHZhciBodG1sXzY0MzZhMzQ0NGM2NzRjNWVhMjVkZjljOTZmYmNkZGZlID0gJChgPGRpdiBpZD0iaHRtbF82NDM2YTM0NDRjNjc0YzVlYTI1ZGY5Yzk2ZmJjZGRmZSIgc3R5bGU9IndpZHRoOiAxMDAuMCU7IGhlaWdodDogMTAwLjAlOyI+QVNTQVVMVDwvZGl2PmApWzBdOwogICAgICAgICAgICBwb3B1cF8zNGEzOTg0ZmU2OTI0Njg3OTNlY2NhZmFhZjU1MTA1ZS5zZXRDb250ZW50KGh0bWxfNjQzNmEzNDQ0YzY3NGM1ZWEyNWRmOWM5NmZiY2RkZmUpOwogICAgICAgIAoKICAgICAgICBtYXJrZXJfMmU1ZWVmMGZkNGU5NDNiYmExODhiNDU0MTkyMDZhYTUuYmluZFBvcHVwKHBvcHVwXzM0YTM5ODRmZTY5MjQ2ODc5M2VjY2FmYWFmNTUxMDVlKQogICAgICAgIDsKCiAgICAgICAgCiAgICAKICAgIAogICAgICAgICAgICB2YXIgbWFya2VyXzgzOGZkYzE5YjM1NzQxYTFiNDk1OWQzY2I1MDRhZjg0ID0gTC5tYXJrZXIoCiAgICAgICAgICAgICAgICBbMzcuNzYxNTY1NTkyODA0NSwgLTEyMi40MjM4MDMwMDE5MDA5OV0sCiAgICAgICAgICAgICAgICB7fQogICAgICAgICAgICApLmFkZFRvKG1hcF8wNGNmMmJjMzc1ODM0YjM5OGZkMzhhNjQwM2IzMWMyZCk7CiAgICAgICAgCiAgICAKICAgICAgICB2YXIgcG9wdXBfY2ZlZTVjNjg3MDY3NGIxNjkwYzlkYmY3YTdlNTEzYzQgPSBMLnBvcHVwKHsibWF4V2lkdGgiOiAiMTAwJSJ9KTsKCiAgICAgICAgCiAgICAgICAgICAgIHZhciBodG1sXzNlMDVhZGVmMTdiMzQ2NmRhMzhhYjM1YmQxMzZkZmZlID0gJChgPGRpdiBpZD0iaHRtbF8zZTA1YWRlZjE3YjM0NjZkYTM4YWIzNWJkMTM2ZGZmZSIgc3R5bGU9IndpZHRoOiAxMDAuMCU7IGhlaWdodDogMTAwLjAlOyI+UkVDT1ZFUkVEIFZFSElDTEU8L2Rpdj5gKVswXTsKICAgICAgICAgICAgcG9wdXBfY2ZlZTVjNjg3MDY3NGIxNjkwYzlkYmY3YTdlNTEzYzQuc2V0Q29udGVudChodG1sXzNlMDVhZGVmMTdiMzQ2NmRhMzhhYjM1YmQxMzZkZmZlKTsKICAgICAgICAKCiAgICAgICAgbWFya2VyXzgzOGZkYzE5YjM1NzQxYTFiNDk1OWQzY2I1MDRhZjg0LmJpbmRQb3B1cChwb3B1cF9jZmVlNWM2ODcwNjc0YjE2OTBjOWRiZjdhN2U1MTNjNCkKICAgICAgICA7CgogICAgICAgIAogICAgCiAgICAKICAgICAgICAgICAgdmFyIG1hcmtlcl9jNjU5NDRjM2MxZDY0MDNjYmFlODczZDNlMTNlYjY5YSA9IEwubWFya2VyKAogICAgICAgICAgICAgICAgWzM3Ljc2MTU2NTU5MjgwNDUsIC0xMjIuNDIzODAzMDAxOTAwOTldLAogICAgICAgICAgICAgICAge30KICAgICAgICAgICAgKS5hZGRUbyhtYXBfMDRjZjJiYzM3NTgzNGIzOThmZDM4YTY0MDNiMzFjMmQpOwogICAgICAgIAogICAgCiAgICAgICAgdmFyIHBvcHVwX2YwMDY0NTgwMzY0ZTQ4MzVhMTVhODEyYzVjYTIzYmVhID0gTC5wb3B1cCh7Im1heFdpZHRoIjogIjEwMCUifSk7CgogICAgICAgIAogICAgICAgICAgICB2YXIgaHRtbF84M2ZlZTRmOWFkM2I0MWExOTliZWFlZjBhYzM4N2RhOSA9ICQoYDxkaXYgaWQ9Imh0bWxfODNmZWU0ZjlhZDNiNDFhMTk5YmVhZWYwYWMzODdkYTkiIHN0eWxlPSJ3aWR0aDogMTAwLjAlOyBoZWlnaHQ6IDEwMC4wJTsiPk9USEVSIE9GRkVOU0VTPC9kaXY+YClbMF07CiAgICAgICAgICAgIHBvcHVwX2YwMDY0NTgwMzY0ZTQ4MzVhMTVhODEyYzVjYTIzYmVhLnNldENvbnRlbnQoaHRtbF84M2ZlZTRmOWFkM2I0MWExOTliZWFlZjBhYzM4N2RhOSk7CiAgICAgICAgCgogICAgICAgIG1hcmtlcl9jNjU5NDRjM2MxZDY0MDNjYmFlODczZDNlMTNlYjY5YS5iaW5kUG9wdXAocG9wdXBfZjAwNjQ1ODAzNjRlNDgzNWExNWE4MTJjNWNhMjNiZWEpCiAgICAgICAgOwoKICAgICAgICAKICAgIAogICAgCiAgICAgICAgICAgIHZhciBtYXJrZXJfNTA2NzY5MDRkZWNjNGJjYjhjMjI4OThlZjM3NGU4MDAgPSBMLm1hcmtlcigKICAgICAgICAgICAgICAgIFszNy43NDQxOTI3NTA4OTMyMDUsIC0xMjIuNDQ0Njg1NDgyMjczXSwKICAgICAgICAgICAgICAgIHt9CiAgICAgICAgICAgICkuYWRkVG8obWFwXzA0Y2YyYmMzNzU4MzRiMzk4ZmQzOGE2NDAzYjMxYzJkKTsKICAgICAgICAKICAgIAogICAgICAgIHZhciBwb3B1cF82ZWMyZDJkODA0YTk0NjFiYWE1YTdkZTYzMjk5ZDdjYyA9IEwucG9wdXAoeyJtYXhXaWR0aCI6ICIxMDAlIn0pOwoKICAgICAgICAKICAgICAgICAgICAgdmFyIGh0bWxfYzhlMTgxNmIwNTk2NDQ2ZDhkMzY0NGE2YzdiMGI2YzEgPSAkKGA8ZGl2IGlkPSJodG1sX2M4ZTE4MTZiMDU5NjQ0NmQ4ZDM2NDRhNmM3YjBiNmMxIiBzdHlsZT0id2lkdGg6IDEwMC4wJTsgaGVpZ2h0OiAxMDAuMCU7Ij5OT04tQ1JJTUlOQUw8L2Rpdj5gKVswXTsKICAgICAgICAgICAgcG9wdXBfNmVjMmQyZDgwNGE5NDYxYmFhNWE3ZGU2MzI5OWQ3Y2Muc2V0Q29udGVudChodG1sX2M4ZTE4MTZiMDU5NjQ0NmQ4ZDM2NDRhNmM3YjBiNmMxKTsKICAgICAgICAKCiAgICAgICAgbWFya2VyXzUwNjc2OTA0ZGVjYzRiY2I4YzIyODk4ZWYzNzRlODAwLmJpbmRQb3B1cChwb3B1cF82ZWMyZDJkODA0YTk0NjFiYWE1YTdkZTYzMjk5ZDdjYykKICAgICAgICA7CgogICAgICAgIAogICAgCiAgICAKICAgICAgICAgICAgdmFyIG1hcmtlcl8zMzE5Y2VkZGQ0ODQ0MWViOTAwODhmZjZkMDgwOGJhMiA9IEwubWFya2VyKAogICAgICAgICAgICAgICAgWzM3Ljc3NTQ2OTI4MjAwNDEsIC0xMjIuNDE1NzU3MDM5MTk2XSwKICAgICAgICAgICAgICAgIHt9CiAgICAgICAgICAgICkuYWRkVG8obWFwXzA0Y2YyYmMzNzU4MzRiMzk4ZmQzOGE2NDAzYjMxYzJkKTsKICAgICAgICAKICAgIAogICAgICAgIHZhciBwb3B1cF85NmJhNTVhMzJiYTE0YTA2YTVhZDhmYmY5YWM3Nzg3ZCA9IEwucG9wdXAoeyJtYXhXaWR0aCI6ICIxMDAlIn0pOwoKICAgICAgICAKICAgICAgICAgICAgdmFyIGh0bWxfNDQxYmVkNjNhYjYyNDJlZDkxMGUwZDc5ZDMwYTE0ODUgPSAkKGA8ZGl2IGlkPSJodG1sXzQ0MWJlZDYzYWI2MjQyZWQ5MTBlMGQ3OWQzMGExNDg1IiBzdHlsZT0id2lkdGg6IDEwMC4wJTsgaGVpZ2h0OiAxMDAuMCU7Ij5OT04tQ1JJTUlOQUw8L2Rpdj5gKVswXTsKICAgICAgICAgICAgcG9wdXBfOTZiYTU1YTMyYmExNGEwNmE1YWQ4ZmJmOWFjNzc4N2Quc2V0Q29udGVudChodG1sXzQ0MWJlZDYzYWI2MjQyZWQ5MTBlMGQ3OWQzMGExNDg1KTsKICAgICAgICAKCiAgICAgICAgbWFya2VyXzMzMTljZWRkZDQ4NDQxZWI5MDA4OGZmNmQwODA4YmEyLmJpbmRQb3B1cChwb3B1cF85NmJhNTVhMzJiYTE0YTA2YTVhZDhmYmY5YWM3Nzg3ZCkKICAgICAgICA7CgogICAgICAgIAogICAgCiAgICAKICAgICAgICAgICAgdmFyIG1hcmtlcl80M2M5Y2IzMzU0ZWQ0ZmI1OThiZmI0NDkwY2ExYzVkNCA9IEwubWFya2VyKAogICAgICAgICAgICAgICAgWzM3LjcyODUyODA2Mjc0NjUsIC0xMjIuNDc1NjQ3NDYwNzg1OTldLAogICAgICAgICAgICAgICAge30KICAgICAgICAgICAgKS5hZGRUbyhtYXBfMDRjZjJiYzM3NTgzNGIzOThmZDM4YTY0MDNiMzFjMmQpOwogICAgICAgIAogICAgCiAgICAgICAgdmFyIHBvcHVwXzQ0OTZhNTNjNDYxMDQzNzJhMDg4MTBjYmYyMDgwZDIwID0gTC5wb3B1cCh7Im1heFdpZHRoIjogIjEwMCUifSk7CgogICAgICAgIAogICAgICAgICAgICB2YXIgaHRtbF84ZTRiOTU1OGI0ODU0NzNlYTY2YWZkZTFjZWFmMTYxYiA9ICQoYDxkaXYgaWQ9Imh0bWxfOGU0Yjk1NThiNDg1NDczZWE2NmFmZGUxY2VhZjE2MWIiIHN0eWxlPSJ3aWR0aDogMTAwLjAlOyBoZWlnaHQ6IDEwMC4wJTsiPlJPQkJFUlk8L2Rpdj5gKVswXTsKICAgICAgICAgICAgcG9wdXBfNDQ5NmE1M2M0NjEwNDM3MmEwODgxMGNiZjIwODBkMjAuc2V0Q29udGVudChodG1sXzhlNGI5NTU4YjQ4NTQ3M2VhNjZhZmRlMWNlYWYxNjFiKTsKICAgICAgICAKCiAgICAgICAgbWFya2VyXzQzYzljYjMzNTRlZDRmYjU5OGJmYjQ0OTBjYTFjNWQ0LmJpbmRQb3B1cChwb3B1cF80NDk2YTUzYzQ2MTA0MzcyYTA4ODEwY2JmMjA4MGQyMCkKICAgICAgICA7CgogICAgICAgIAogICAgCiAgICAKICAgICAgICAgICAgdmFyIG1hcmtlcl9mZmM2OGE4OTAyNTM0ZDE2OGFmYjFkNDBjMzI4NmVlZCA9IEwubWFya2VyKAogICAgICAgICAgICAgICAgWzM3Ljc0Mjg1MTczNzQ0NDg5NCwgLTEyMi40MjA5Njc0NDA1NjRdLAogICAgICAgICAgICAgICAge30KICAgICAgICAgICAgKS5hZGRUbyhtYXBfMDRjZjJiYzM3NTgzNGIzOThmZDM4YTY0MDNiMzFjMmQpOwogICAgICAgIAogICAgCiAgICAgICAgdmFyIHBvcHVwXzZlOGQxMjA3NTRhNzRmYzdhNjY1NzJjYjc0NjgwMzQxID0gTC5wb3B1cCh7Im1heFdpZHRoIjogIjEwMCUifSk7CgogICAgICAgIAogICAgICAgICAgICB2YXIgaHRtbF84YjY4MTlkN2Q2NmM0NmMwODQxYzNjMzQxMjBmZGZlNCA9ICQoYDxkaXYgaWQ9Imh0bWxfOGI2ODE5ZDdkNjZjNDZjMDg0MWMzYzM0MTIwZmRmZTQiIHN0eWxlPSJ3aWR0aDogMTAwLjAlOyBoZWlnaHQ6IDEwMC4wJTsiPk9USEVSIE9GRkVOU0VTPC9kaXY+YClbMF07CiAgICAgICAgICAgIHBvcHVwXzZlOGQxMjA3NTRhNzRmYzdhNjY1NzJjYjc0NjgwMzQxLnNldENvbnRlbnQoaHRtbF84YjY4MTlkN2Q2NmM0NmMwODQxYzNjMzQxMjBmZGZlNCk7CiAgICAgICAgCgogICAgICAgIG1hcmtlcl9mZmM2OGE4OTAyNTM0ZDE2OGFmYjFkNDBjMzI4NmVlZC5iaW5kUG9wdXAocG9wdXBfNmU4ZDEyMDc1NGE3NGZjN2E2NjU3MmNiNzQ2ODAzNDEpCiAgICAgICAgOwoKICAgICAgICAKICAgIAogICAgCiAgICAgICAgICAgIHZhciBtYXJrZXJfMjk3ZTg3YTgxZjZlNGQ3YzlhY2QwYWM1ODFlZDBjMjkgPSBMLm1hcmtlcigKICAgICAgICAgICAgICAgIFszNy43ODIxMTk4NDg4OTMxLCAtMTIyLjQxNTY2OTY2MTQ0M10sCiAgICAgICAgICAgICAgICB7fQogICAgICAgICAgICApLmFkZFRvKG1hcF8wNGNmMmJjMzc1ODM0YjM5OGZkMzhhNjQwM2IzMWMyZCk7CiAgICAgICAgCiAgICAKICAgICAgICB2YXIgcG9wdXBfZjhmNDVkNjg2MmFmNDgyNmFhYTY1ZDdiOGU1NDE3MjYgPSBMLnBvcHVwKHsibWF4V2lkdGgiOiAiMTAwJSJ9KTsKCiAgICAgICAgCiAgICAgICAgICAgIHZhciBodG1sXzdlMTMwZjExMjEzMDQzMmFhNzQzZGYxOTY3MmE1ZTA0ID0gJChgPGRpdiBpZD0iaHRtbF83ZTEzMGYxMTIxMzA0MzJhYTc0M2RmMTk2NzJhNWUwNCIgc3R5bGU9IndpZHRoOiAxMDAuMCU7IGhlaWdodDogMTAwLjAlOyI+VkFOREFMSVNNPC9kaXY+YClbMF07CiAgICAgICAgICAgIHBvcHVwX2Y4ZjQ1ZDY4NjJhZjQ4MjZhYWE2NWQ3YjhlNTQxNzI2LnNldENvbnRlbnQoaHRtbF83ZTEzMGYxMTIxMzA0MzJhYTc0M2RmMTk2NzJhNWUwNCk7CiAgICAgICAgCgogICAgICAgIG1hcmtlcl8yOTdlODdhODFmNmU0ZDdjOWFjZDBhYzU4MWVkMGMyOS5iaW5kUG9wdXAocG9wdXBfZjhmNDVkNjg2MmFmNDgyNmFhYTY1ZDdiOGU1NDE3MjYpCiAgICAgICAgOwoKICAgICAgICAKICAgIAogICAgCiAgICAgICAgICAgIHZhciBtYXJrZXJfMzNiNGZlYWMyMDQ2NDA3MDhmOTFkZjA4ODE5NjFkNWMgPSBMLm1hcmtlcigKICAgICAgICAgICAgICAgIFszNy43NzkxNjc0MjE4OTYzLCAtMTIyLjQwNjM0NjQyNTYzMl0sCiAgICAgICAgICAgICAgICB7fQogICAgICAgICAgICApLmFkZFRvKG1hcF8wNGNmMmJjMzc1ODM0YjM5OGZkMzhhNjQwM2IzMWMyZCk7CiAgICAgICAgCiAgICAKICAgICAgICB2YXIgcG9wdXBfNWI2OGU4NGQyYmIxNGZhZmJiY2E0OTFhYmJkNDA1MjggPSBMLnBvcHVwKHsibWF4V2lkdGgiOiAiMTAwJSJ9KTsKCiAgICAgICAgCiAgICAgICAgICAgIHZhciBodG1sXzI2NjQ5MzZhZWMyYTRlZjhhMjBjMGIxNjYyOGZhNzQ3ID0gJChgPGRpdiBpZD0iaHRtbF8yNjY0OTM2YWVjMmE0ZWY4YTIwYzBiMTY2MjhmYTc0NyIgc3R5bGU9IndpZHRoOiAxMDAuMCU7IGhlaWdodDogMTAwLjAlOyI+QVNTQVVMVDwvZGl2PmApWzBdOwogICAgICAgICAgICBwb3B1cF81YjY4ZTg0ZDJiYjE0ZmFmYmJjYTQ5MWFiYmQ0MDUyOC5zZXRDb250ZW50KGh0bWxfMjY2NDkzNmFlYzJhNGVmOGEyMGMwYjE2NjI4ZmE3NDcpOwogICAgICAgIAoKICAgICAgICBtYXJrZXJfMzNiNGZlYWMyMDQ2NDA3MDhmOTFkZjA4ODE5NjFkNWMuYmluZFBvcHVwKHBvcHVwXzViNjhlODRkMmJiMTRmYWZiYmNhNDkxYWJiZDQwNTI4KQogICAgICAgIDsKCiAgICAgICAgCiAgICAKICAgIAogICAgICAgICAgICB2YXIgbWFya2VyXzdhY2FhNzQyYTMzMDQ5YjZhOWQ3NmQ4NThjNzA5NmI1ID0gTC5tYXJrZXIoCiAgICAgICAgICAgICAgICBbMzcuNzY1NzE4NDM5NTI4MiwgLTEyMi40MDk1Mjk5MTMyNzhdLAogICAgICAgICAgICAgICAge30KICAgICAgICAgICAgKS5hZGRUbyhtYXBfMDRjZjJiYzM3NTgzNGIzOThmZDM4YTY0MDNiMzFjMmQpOwogICAgICAgIAogICAgCiAgICAgICAgdmFyIHBvcHVwXzlkN2QwZTIyMDM1MjQ1MTViN2NjM2E4ZGNkM2Q4NzhkID0gTC5wb3B1cCh7Im1heFdpZHRoIjogIjEwMCUifSk7CgogICAgICAgIAogICAgICAgICAgICB2YXIgaHRtbF84MDc1NTJhM2E2MGU0ODU0OWM3MGI5ZDJhNTdlMWQyMSA9ICQoYDxkaXYgaWQ9Imh0bWxfODA3NTUyYTNhNjBlNDg1NDljNzBiOWQyYTU3ZTFkMjEiIHN0eWxlPSJ3aWR0aDogMTAwLjAlOyBoZWlnaHQ6IDEwMC4wJTsiPkxBUkNFTlkvVEhFRlQ8L2Rpdj5gKVswXTsKICAgICAgICAgICAgcG9wdXBfOWQ3ZDBlMjIwMzUyNDUxNWI3Y2MzYThkY2QzZDg3OGQuc2V0Q29udGVudChodG1sXzgwNzU1MmEzYTYwZTQ4NTQ5YzcwYjlkMmE1N2UxZDIxKTsKICAgICAgICAKCiAgICAgICAgbWFya2VyXzdhY2FhNzQyYTMzMDQ5YjZhOWQ3NmQ4NThjNzA5NmI1LmJpbmRQb3B1cChwb3B1cF85ZDdkMGUyMjAzNTI0NTE1YjdjYzNhOGRjZDNkODc4ZCkKICAgICAgICA7CgogICAgICAgIAogICAgCiAgICAKICAgICAgICAgICAgdmFyIG1hcmtlcl8xNWMwM2ExYWIzMDM0OGU0YTc5ZjFkNDFjYWJhOTc4ZiA9IEwubWFya2VyKAogICAgICAgICAgICAgICAgWzM3Ljc3NTQyMDcwNjcxMSwgLTEyMi40MDM0MDQ3OTE0Nzg5OV0sCiAgICAgICAgICAgICAgICB7fQogICAgICAgICAgICApLmFkZFRvKG1hcF8wNGNmMmJjMzc1ODM0YjM5OGZkMzhhNjQwM2IzMWMyZCk7CiAgICAgICAgCiAgICAKICAgICAgICB2YXIgcG9wdXBfMDM3OGYwMDg1OGQzNDljZWFkYWM5MzFmZjk5NDRhMmYgPSBMLnBvcHVwKHsibWF4V2lkdGgiOiAiMTAwJSJ9KTsKCiAgICAgICAgCiAgICAgICAgICAgIHZhciBodG1sX2VkMmEwYmJhMWYwYTQxMjBhNDMzNTU0OWM5MWYxZTJmID0gJChgPGRpdiBpZD0iaHRtbF9lZDJhMGJiYTFmMGE0MTIwYTQzMzU1NDljOTFmMWUyZiIgc3R5bGU9IndpZHRoOiAxMDAuMCU7IGhlaWdodDogMTAwLjAlOyI+Tk9OLUNSSU1JTkFMPC9kaXY+YClbMF07CiAgICAgICAgICAgIHBvcHVwXzAzNzhmMDA4NThkMzQ5Y2VhZGFjOTMxZmY5OTQ0YTJmLnNldENvbnRlbnQoaHRtbF9lZDJhMGJiYTFmMGE0MTIwYTQzMzU1NDljOTFmMWUyZik7CiAgICAgICAgCgogICAgICAgIG1hcmtlcl8xNWMwM2ExYWIzMDM0OGU0YTc5ZjFkNDFjYWJhOTc4Zi5iaW5kUG9wdXAocG9wdXBfMDM3OGYwMDg1OGQzNDljZWFkYWM5MzFmZjk5NDRhMmYpCiAgICAgICAgOwoKICAgICAgICAKICAgIAogICAgCiAgICAgICAgICAgIHZhciBtYXJrZXJfMTNhYThlM2Q0ZjdkNDBkOWIyZDZkODU3ZmFhMDk3NmUgPSBMLm1hcmtlcigKICAgICAgICAgICAgICAgIFszNy43Njc1MjQzMDg3ODMsIC0xMjIuNDEwNzM4MDk3MzE1XSwKICAgICAgICAgICAgICAgIHt9CiAgICAgICAgICAgICkuYWRkVG8obWFwXzA0Y2YyYmMzNzU4MzRiMzk4ZmQzOGE2NDAzYjMxYzJkKTsKICAgICAgICAKICAgIAogICAgICAgIHZhciBwb3B1cF83MDg1MjAyOTM2ZTY0ZTUzYWIyNDA1MGE1YjQxMGI2NSA9IEwucG9wdXAoeyJtYXhXaWR0aCI6ICIxMDAlIn0pOwoKICAgICAgICAKICAgICAgICAgICAgdmFyIGh0bWxfZDIzZWZjOTQ5MTgxNDYyYzk1M2Y4ZTBiZTE4NDYzOGUgPSAkKGA8ZGl2IGlkPSJodG1sX2QyM2VmYzk0OTE4MTQ2MmM5NTNmOGUwYmUxODQ2MzhlIiBzdHlsZT0id2lkdGg6IDEwMC4wJTsgaGVpZ2h0OiAxMDAuMCU7Ij5CVVJHTEFSWTwvZGl2PmApWzBdOwogICAgICAgICAgICBwb3B1cF83MDg1MjAyOTM2ZTY0ZTUzYWIyNDA1MGE1YjQxMGI2NS5zZXRDb250ZW50KGh0bWxfZDIzZWZjOTQ5MTgxNDYyYzk1M2Y4ZTBiZTE4NDYzOGUpOwogICAgICAgIAoKICAgICAgICBtYXJrZXJfMTNhYThlM2Q0ZjdkNDBkOWIyZDZkODU3ZmFhMDk3NmUuYmluZFBvcHVwKHBvcHVwXzcwODUyMDI5MzZlNjRlNTNhYjI0MDUwYTViNDEwYjY1KQogICAgICAgIDsKCiAgICAgICAgCiAgICAKICAgIAogICAgICAgICAgICB2YXIgbWFya2VyXzRiY2YyNGQzNWU0MTRhMGM5ZGQ5MWFjNWJmYWI5ZDcwID0gTC5tYXJrZXIoCiAgICAgICAgICAgICAgICBbMzcuNzY3NTI0MzA4NzgzLCAtMTIyLjQxMDczODA5NzMxNV0sCiAgICAgICAgICAgICAgICB7fQogICAgICAgICAgICApLmFkZFRvKG1hcF8wNGNmMmJjMzc1ODM0YjM5OGZkMzhhNjQwM2IzMWMyZCk7CiAgICAgICAgCiAgICAKICAgICAgICB2YXIgcG9wdXBfMjJjODRmOGZlY2Q1NGI3NTkwOGJmNjIzMTZmYzIwZWYgPSBMLnBvcHVwKHsibWF4V2lkdGgiOiAiMTAwJSJ9KTsKCiAgICAgICAgCiAgICAgICAgICAgIHZhciBodG1sX2M3ZmY1YjNmYmU1NDQ2NzJhNTVjNDhlMmU5OWI3ZWM3ID0gJChgPGRpdiBpZD0iaHRtbF9jN2ZmNWIzZmJlNTQ0NjcyYTU1YzQ4ZTJlOTliN2VjNyIgc3R5bGU9IndpZHRoOiAxMDAuMCU7IGhlaWdodDogMTAwLjAlOyI+QVJTT048L2Rpdj5gKVswXTsKICAgICAgICAgICAgcG9wdXBfMjJjODRmOGZlY2Q1NGI3NTkwOGJmNjIzMTZmYzIwZWYuc2V0Q29udGVudChodG1sX2M3ZmY1YjNmYmU1NDQ2NzJhNTVjNDhlMmU5OWI3ZWM3KTsKICAgICAgICAKCiAgICAgICAgbWFya2VyXzRiY2YyNGQzNWU0MTRhMGM5ZGQ5MWFjNWJmYWI5ZDcwLmJpbmRQb3B1cChwb3B1cF8yMmM4NGY4ZmVjZDU0Yjc1OTA4YmY2MjMxNmZjMjBlZikKICAgICAgICA7CgogICAgICAgIAogICAgCiAgICAKICAgICAgICAgICAgdmFyIG1hcmtlcl85Y2Q5YzQ1NTc5OTU0NDcyYWNhZGI3OTQ3NGZmNzNhZiA9IEwubWFya2VyKAogICAgICAgICAgICAgICAgWzM3LjcxMzEwODM0MzMyNjQsIC0xMjIuNDQ0MzE0MDI1MTg4XSwKICAgICAgICAgICAgICAgIHt9CiAgICAgICAgICAgICkuYWRkVG8obWFwXzA0Y2YyYmMzNzU4MzRiMzk4ZmQzOGE2NDAzYjMxYzJkKTsKICAgICAgICAKICAgIAogICAgICAgIHZhciBwb3B1cF9mZjBiYWU5YWY1MDc0MWFlYWFkNzBmYjg5NDUzZjBjNCA9IEwucG9wdXAoeyJtYXhXaWR0aCI6ICIxMDAlIn0pOwoKICAgICAgICAKICAgICAgICAgICAgdmFyIGh0bWxfMGY2ZTQ1OGZlNjAwNDEwMDllYTk5NWFlM2NjZDRjNDcgPSAkKGA8ZGl2IGlkPSJodG1sXzBmNmU0NThmZTYwMDQxMDA5ZWE5OTVhZTNjY2Q0YzQ3IiBzdHlsZT0id2lkdGg6IDEwMC4wJTsgaGVpZ2h0OiAxMDAuMCU7Ij5CVVJHTEFSWTwvZGl2PmApWzBdOwogICAgICAgICAgICBwb3B1cF9mZjBiYWU5YWY1MDc0MWFlYWFkNzBmYjg5NDUzZjBjNC5zZXRDb250ZW50KGh0bWxfMGY2ZTQ1OGZlNjAwNDEwMDllYTk5NWFlM2NjZDRjNDcpOwogICAgICAgIAoKICAgICAgICBtYXJrZXJfOWNkOWM0NTU3OTk1NDQ3MmFjYWRiNzk0NzRmZjczYWYuYmluZFBvcHVwKHBvcHVwX2ZmMGJhZTlhZjUwNzQxYWVhYWQ3MGZiODk0NTNmMGM0KQogICAgICAgIDsKCiAgICAgICAgCiAgICAKICAgIAogICAgICAgICAgICB2YXIgbWFya2VyXzQ0NTg1OTRlMGFjYTRiYjdhNDczY2I5MGJmMDQ1YWVjID0gTC5tYXJrZXIoCiAgICAgICAgICAgICAgICBbMzcuNzEzMTA4MzQzMzI2NCwgLTEyMi40NDQzMTQwMjUxODhdLAogICAgICAgICAgICAgICAge30KICAgICAgICAgICAgKS5hZGRUbyhtYXBfMDRjZjJiYzM3NTgzNGIzOThmZDM4YTY0MDNiMzFjMmQpOwogICAgICAgIAogICAgCiAgICAgICAgdmFyIHBvcHVwXzU4MTAwOTA3ZjFjZjQ4N2Y5MzJkYmEzZjI2NjE2N2UxID0gTC5wb3B1cCh7Im1heFdpZHRoIjogIjEwMCUifSk7CgogICAgICAgIAogICAgICAgICAgICB2YXIgaHRtbF82NGIzNWU4N2YzYzk0MjkxODk2ODI3ZGRiN2E2YTEzYiA9ICQoYDxkaXYgaWQ9Imh0bWxfNjRiMzVlODdmM2M5NDI5MTg5NjgyN2RkYjdhNmExM2IiIHN0eWxlPSJ3aWR0aDogMTAwLjAlOyBoZWlnaHQ6IDEwMC4wJTsiPkRSVUcvTkFSQ09USUM8L2Rpdj5gKVswXTsKICAgICAgICAgICAgcG9wdXBfNTgxMDA5MDdmMWNmNDg3ZjkzMmRiYTNmMjY2MTY3ZTEuc2V0Q29udGVudChodG1sXzY0YjM1ZTg3ZjNjOTQyOTE4OTY4MjdkZGI3YTZhMTNiKTsKICAgICAgICAKCiAgICAgICAgbWFya2VyXzQ0NTg1OTRlMGFjYTRiYjdhNDczY2I5MGJmMDQ1YWVjLmJpbmRQb3B1cChwb3B1cF81ODEwMDkwN2YxY2Y0ODdmOTMyZGJhM2YyNjYxNjdlMSkKICAgICAgICA7CgogICAgICAgIAogICAgCiAgICAKICAgICAgICAgICAgdmFyIG1hcmtlcl8wM2ViYWQxZGRjMjU0YWQwYjNiNTdkMDRlZmFkMDVkNyA9IEwubWFya2VyKAogICAgICAgICAgICAgICAgWzM3Ljc2NjAxNjAxMTQxMDMsIC0xMjIuNDAzNjQ0NjIwNDM5XSwKICAgICAgICAgICAgICAgIHt9CiAgICAgICAgICAgICkuYWRkVG8obWFwXzA0Y2YyYmMzNzU4MzRiMzk4ZmQzOGE2NDAzYjMxYzJkKTsKICAgICAgICAKICAgIAogICAgICAgIHZhciBwb3B1cF9hZjVjMjZhYWE3MzA0ZWY0YTQwMzE4YTFiZjY1MjVhMiA9IEwucG9wdXAoeyJtYXhXaWR0aCI6ICIxMDAlIn0pOwoKICAgICAgICAKICAgICAgICAgICAgdmFyIGh0bWxfZDQyY2ZlYTZlYjcxNDMyMmExNjY0MTk1YzMxZjAzNjIgPSAkKGA8ZGl2IGlkPSJodG1sX2Q0MmNmZWE2ZWI3MTQzMjJhMTY2NDE5NWMzMWYwMzYyIiBzdHlsZT0id2lkdGg6IDEwMC4wJTsgaGVpZ2h0OiAxMDAuMCU7Ij5NSVNTSU5HIFBFUlNPTjwvZGl2PmApWzBdOwogICAgICAgICAgICBwb3B1cF9hZjVjMjZhYWE3MzA0ZWY0YTQwMzE4YTFiZjY1MjVhMi5zZXRDb250ZW50KGh0bWxfZDQyY2ZlYTZlYjcxNDMyMmExNjY0MTk1YzMxZjAzNjIpOwogICAgICAgIAoKICAgICAgICBtYXJrZXJfMDNlYmFkMWRkYzI1NGFkMGIzYjU3ZDA0ZWZhZDA1ZDcuYmluZFBvcHVwKHBvcHVwX2FmNWMyNmFhYTczMDRlZjRhNDAzMThhMWJmNjUyNWEyKQogICAgICAgIDsKCiAgICAgICAgCiAgICAKICAgIAogICAgICAgICAgICB2YXIgbWFya2VyX2NlYTRkYzcwZmE4OTQ4YTI4MzhiNTg5OGE1ZDBkMzY4ID0gTC5tYXJrZXIoCiAgICAgICAgICAgICAgICBbMzcuNzY2MDE2MDExNDEwMywgLTEyMi40MDM2NDQ2MjA0MzldLAogICAgICAgICAgICAgICAge30KICAgICAgICAgICAgKS5hZGRUbyhtYXBfMDRjZjJiYzM3NTgzNGIzOThmZDM4YTY0MDNiMzFjMmQpOwogICAgICAgIAogICAgCiAgICAgICAgdmFyIHBvcHVwXzZiNjlmODQ4OTg1ODQ1MjliZmViNDAzZDRlYmEwNjkzID0gTC5wb3B1cCh7Im1heFdpZHRoIjogIjEwMCUifSk7CgogICAgICAgIAogICAgICAgICAgICB2YXIgaHRtbF8wODM2YjU1ZmEwZWY0MGVhYmNkYjA4OGYwYTBmZTY0MCA9ICQoYDxkaXYgaWQ9Imh0bWxfMDgzNmI1NWZhMGVmNDBlYWJjZGIwODhmMGEwZmU2NDAiIHN0eWxlPSJ3aWR0aDogMTAwLjAlOyBoZWlnaHQ6IDEwMC4wJTsiPk1JU1NJTkcgUEVSU09OPC9kaXY+YClbMF07CiAgICAgICAgICAgIHBvcHVwXzZiNjlmODQ4OTg1ODQ1MjliZmViNDAzZDRlYmEwNjkzLnNldENvbnRlbnQoaHRtbF8wODM2YjU1ZmEwZWY0MGVhYmNkYjA4OGYwYTBmZTY0MCk7CiAgICAgICAgCgogICAgICAgIG1hcmtlcl9jZWE0ZGM3MGZhODk0OGEyODM4YjU4OThhNWQwZDM2OC5iaW5kUG9wdXAocG9wdXBfNmI2OWY4NDg5ODU4NDUyOWJmZWI0MDNkNGViYTA2OTMpCiAgICAgICAgOwoKICAgICAgICAKICAgIAogICAgCiAgICAgICAgICAgIHZhciBtYXJrZXJfNmFhMmRiZmNhMTEwNDE5OWIxZjg4ZjcxNWY4MzAwNjUgPSBMLm1hcmtlcigKICAgICAgICAgICAgICAgIFszNy43NzYyMzEwNDA0NzU4LCAtMTIyLjQxNDcxNDI5NTU3ODk5XSwKICAgICAgICAgICAgICAgIHt9CiAgICAgICAgICAgICkuYWRkVG8obWFwXzA0Y2YyYmMzNzU4MzRiMzk4ZmQzOGE2NDAzYjMxYzJkKTsKICAgICAgICAKICAgIAogICAgICAgIHZhciBwb3B1cF80ZDQ5NGRiYjc0YjY0MDM2OTc1MWJjYWI4M2E3MzU0NCA9IEwucG9wdXAoeyJtYXhXaWR0aCI6ICIxMDAlIn0pOwoKICAgICAgICAKICAgICAgICAgICAgdmFyIGh0bWxfNjIxN2I0MTIxODJlNDEwNGJmN2E0NDFjMGE1Nzc5OWMgPSAkKGA8ZGl2IGlkPSJodG1sXzYyMTdiNDEyMTgyZTQxMDRiZjdhNDQxYzBhNTc3OTljIiBzdHlsZT0id2lkdGg6IDEwMC4wJTsgaGVpZ2h0OiAxMDAuMCU7Ij5BU1NBVUxUPC9kaXY+YClbMF07CiAgICAgICAgICAgIHBvcHVwXzRkNDk0ZGJiNzRiNjQwMzY5NzUxYmNhYjgzYTczNTQ0LnNldENvbnRlbnQoaHRtbF82MjE3YjQxMjE4MmU0MTA0YmY3YTQ0MWMwYTU3Nzk5Yyk7CiAgICAgICAgCgogICAgICAgIG1hcmtlcl82YWEyZGJmY2ExMTA0MTk5YjFmODhmNzE1ZjgzMDA2NS5iaW5kUG9wdXAocG9wdXBfNGQ0OTRkYmI3NGI2NDAzNjk3NTFiY2FiODNhNzM1NDQpCiAgICAgICAgOwoKICAgICAgICAKICAgIAogICAgCiAgICAgICAgICAgIHZhciBtYXJrZXJfZGNlNWFkZTg4NmNiNGU1ZjgzM2RmN2VjODdlNjMxMmUgPSBMLm1hcmtlcigKICAgICAgICAgICAgICAgIFszNy43NzYyMzEwNDA0NzU4LCAtMTIyLjQxNDcxNDI5NTU3ODk5XSwKICAgICAgICAgICAgICAgIHt9CiAgICAgICAgICAgICkuYWRkVG8obWFwXzA0Y2YyYmMzNzU4MzRiMzk4ZmQzOGE2NDAzYjMxYzJkKTsKICAgICAgICAKICAgIAogICAgICAgIHZhciBwb3B1cF81MmIyZGEwNzE3MWI0ZjIzOTNhOTI1OGIzNTIzYmZjMiA9IEwucG9wdXAoeyJtYXhXaWR0aCI6ICIxMDAlIn0pOwoKICAgICAgICAKICAgICAgICAgICAgdmFyIGh0bWxfZjM0YjEyNjg2OGE0NGMxYjllMTliN2RlZmI1YmJhOTEgPSAkKGA8ZGl2IGlkPSJodG1sX2YzNGIxMjY4NjhhNDRjMWI5ZTE5YjdkZWZiNWJiYTkxIiBzdHlsZT0id2lkdGg6IDEwMC4wJTsgaGVpZ2h0OiAxMDAuMCU7Ij5NSVNTSU5HIFBFUlNPTjwvZGl2PmApWzBdOwogICAgICAgICAgICBwb3B1cF81MmIyZGEwNzE3MWI0ZjIzOTNhOTI1OGIzNTIzYmZjMi5zZXRDb250ZW50KGh0bWxfZjM0YjEyNjg2OGE0NGMxYjllMTliN2RlZmI1YmJhOTEpOwogICAgICAgIAoKICAgICAgICBtYXJrZXJfZGNlNWFkZTg4NmNiNGU1ZjgzM2RmN2VjODdlNjMxMmUuYmluZFBvcHVwKHBvcHVwXzUyYjJkYTA3MTcxYjRmMjM5M2E5MjU4YjM1MjNiZmMyKQogICAgICAgIDsKCiAgICAgICAgCiAgICAKICAgIAogICAgICAgICAgICB2YXIgbWFya2VyX2UyY2Q1MmFlYzllOTQyMWM5MzAzZjIwN2EyNjE4YzkzID0gTC5tYXJrZXIoCiAgICAgICAgICAgICAgICBbMzcuNzc3NTExODg5NTY5NSwgLTEyMi40MTgwNDU0NTI3NjhdLAogICAgICAgICAgICAgICAge30KICAgICAgICAgICAgKS5hZGRUbyhtYXBfMDRjZjJiYzM3NTgzNGIzOThmZDM4YTY0MDNiMzFjMmQpOwogICAgICAgIAogICAgCiAgICAgICAgdmFyIHBvcHVwX2JkYjQ4ZmI1MmYyMzQ2OTM5OTQ0ZjM5NDc2MmQ3ZGNiID0gTC5wb3B1cCh7Im1heFdpZHRoIjogIjEwMCUifSk7CgogICAgICAgIAogICAgICAgICAgICB2YXIgaHRtbF9lMDBjZjg1OGU4MTU0MWQ3YmIyZDUzMDRhMTNhZDBlYSA9ICQoYDxkaXYgaWQ9Imh0bWxfZTAwY2Y4NThlODE1NDFkN2JiMmQ1MzA0YTEzYWQwZWEiIHN0eWxlPSJ3aWR0aDogMTAwLjAlOyBoZWlnaHQ6IDEwMC4wJTsiPlZFSElDTEUgVEhFRlQ8L2Rpdj5gKVswXTsKICAgICAgICAgICAgcG9wdXBfYmRiNDhmYjUyZjIzNDY5Mzk5NDRmMzk0NzYyZDdkY2Iuc2V0Q29udGVudChodG1sX2UwMGNmODU4ZTgxNTQxZDdiYjJkNTMwNGExM2FkMGVhKTsKICAgICAgICAKCiAgICAgICAgbWFya2VyX2UyY2Q1MmFlYzllOTQyMWM5MzAzZjIwN2EyNjE4YzkzLmJpbmRQb3B1cChwb3B1cF9iZGI0OGZiNTJmMjM0NjkzOTk0NGYzOTQ3NjJkN2RjYikKICAgICAgICA7CgogICAgICAgIAogICAgCiAgICAKICAgICAgICAgICAgdmFyIG1hcmtlcl8zZWJkNTM0NzYwZjQ0ZDVmOTk0OTdjMjY4OGMyYzJhOSA9IEwubWFya2VyKAogICAgICAgICAgICAgICAgWzM3Ljc4MjAyMzg0Nzg5NzUsIC0xMjIuNDAxMTYxNTU1NjAyXSwKICAgICAgICAgICAgICAgIHt9CiAgICAgICAgICAgICkuYWRkVG8obWFwXzA0Y2YyYmMzNzU4MzRiMzk4ZmQzOGE2NDAzYjMxYzJkKTsKICAgICAgICAKICAgIAogICAgICAgIHZhciBwb3B1cF8yZGQxZThiYTViMjE0M2RkYWZkYWM3YmQxY2U4YjQ2OCA9IEwucG9wdXAoeyJtYXhXaWR0aCI6ICIxMDAlIn0pOwoKICAgICAgICAKICAgICAgICAgICAgdmFyIGh0bWxfMDYwYTYwMjQ1NTAwNGVmNmE5MGIyOGU0YTFkN2ZiYmUgPSAkKGA8ZGl2IGlkPSJodG1sXzA2MGE2MDI0NTUwMDRlZjZhOTBiMjhlNGExZDdmYmJlIiBzdHlsZT0id2lkdGg6IDEwMC4wJTsgaGVpZ2h0OiAxMDAuMCU7Ij5PVEhFUiBPRkZFTlNFUzwvZGl2PmApWzBdOwogICAgICAgICAgICBwb3B1cF8yZGQxZThiYTViMjE0M2RkYWZkYWM3YmQxY2U4YjQ2OC5zZXRDb250ZW50KGh0bWxfMDYwYTYwMjQ1NTAwNGVmNmE5MGIyOGU0YTFkN2ZiYmUpOwogICAgICAgIAoKICAgICAgICBtYXJrZXJfM2ViZDUzNDc2MGY0NGQ1Zjk5NDk3YzI2ODhjMmMyYTkuYmluZFBvcHVwKHBvcHVwXzJkZDFlOGJhNWIyMTQzZGRhZmRhYzdiZDFjZThiNDY4KQogICAgICAgIDsKCiAgICAgICAgCiAgICAKICAgIAogICAgICAgICAgICB2YXIgbWFya2VyX2U2ZDFjNDM4Mjk3NDQ3NGRhNDBlYWEwMjFkNjU5NzRiID0gTC5tYXJrZXIoCiAgICAgICAgICAgICAgICBbMzcuNzI3MDA1MzE5NjI5OTk1LCAtMTIyLjQwMzQwODY2OTE5MV0sCiAgICAgICAgICAgICAgICB7fQogICAgICAgICAgICApLmFkZFRvKG1hcF8wNGNmMmJjMzc1ODM0YjM5OGZkMzhhNjQwM2IzMWMyZCk7CiAgICAgICAgCiAgICAKICAgICAgICB2YXIgcG9wdXBfOWEzM2U4NTFjNjE2NDA5YTlhMTVhMTkxMGVhY2M1NGQgPSBMLnBvcHVwKHsibWF4V2lkdGgiOiAiMTAwJSJ9KTsKCiAgICAgICAgCiAgICAgICAgICAgIHZhciBodG1sXzA4NDI5NTk0YWI5YTQ2ZTY4OWVlZWU3MjdlZGZkZTc1ID0gJChgPGRpdiBpZD0iaHRtbF8wODQyOTU5NGFiOWE0NmU2ODllZWVlNzI3ZWRmZGU3NSIgc3R5bGU9IndpZHRoOiAxMDAuMCU7IGhlaWdodDogMTAwLjAlOyI+V0FSUkFOVFM8L2Rpdj5gKVswXTsKICAgICAgICAgICAgcG9wdXBfOWEzM2U4NTFjNjE2NDA5YTlhMTVhMTkxMGVhY2M1NGQuc2V0Q29udGVudChodG1sXzA4NDI5NTk0YWI5YTQ2ZTY4OWVlZWU3MjdlZGZkZTc1KTsKICAgICAgICAKCiAgICAgICAgbWFya2VyX2U2ZDFjNDM4Mjk3NDQ3NGRhNDBlYWEwMjFkNjU5NzRiLmJpbmRQb3B1cChwb3B1cF85YTMzZTg1MWM2MTY0MDlhOWExNWExOTEwZWFjYzU0ZCkKICAgICAgICA7CgogICAgICAgIAogICAgCiAgICAKICAgICAgICAgICAgdmFyIG1hcmtlcl82NDRkYWQ2MjI5ZDA0MzY5OTA5N2IwNjNmY2NiZGE4ZSA9IEwubWFya2VyKAogICAgICAgICAgICAgICAgWzM3Ljc4MzgzNDQzNzQxNDEsIC0xMjIuNDEyOTMwNTIyMDU5XSwKICAgICAgICAgICAgICAgIHt9CiAgICAgICAgICAgICkuYWRkVG8obWFwXzA0Y2YyYmMzNzU4MzRiMzk4ZmQzOGE2NDAzYjMxYzJkKTsKICAgICAgICAKICAgIAogICAgICAgIHZhciBwb3B1cF81NDczNGRjYzQ2MjY0ZDQ2OGQyN2I4NDlkM2VlN2JhYSA9IEwucG9wdXAoeyJtYXhXaWR0aCI6ICIxMDAlIn0pOwoKICAgICAgICAKICAgICAgICAgICAgdmFyIGh0bWxfZjRiMjY1ZDczZGM2NDAxOWFhNDUwMmJlZmQ5OGI3ZmEgPSAkKGA8ZGl2IGlkPSJodG1sX2Y0YjI2NWQ3M2RjNjQwMTlhYTQ1MDJiZWZkOThiN2ZhIiBzdHlsZT0id2lkdGg6IDEwMC4wJTsgaGVpZ2h0OiAxMDAuMCU7Ij5WQU5EQUxJU008L2Rpdj5gKVswXTsKICAgICAgICAgICAgcG9wdXBfNTQ3MzRkY2M0NjI2NGQ0NjhkMjdiODQ5ZDNlZTdiYWEuc2V0Q29udGVudChodG1sX2Y0YjI2NWQ3M2RjNjQwMTlhYTQ1MDJiZWZkOThiN2ZhKTsKICAgICAgICAKCiAgICAgICAgbWFya2VyXzY0NGRhZDYyMjlkMDQzNjk5MDk3YjA2M2ZjY2JkYThlLmJpbmRQb3B1cChwb3B1cF81NDczNGRjYzQ2MjY0ZDQ2OGQyN2I4NDlkM2VlN2JhYSkKICAgICAgICA7CgogICAgICAgIAogICAgCiAgICAKICAgICAgICAgICAgdmFyIG1hcmtlcl85OTA3NDQ4ZjgyNjA0NmQxYjhkMzUzMDU5ZDZkZTc2NCA9IEwubWFya2VyKAogICAgICAgICAgICAgICAgWzM3Ljc1MzAxODY1Mzc0NDYwNCwgLTEyMi40MTg1ODcxNzIyMTldLAogICAgICAgICAgICAgICAge30KICAgICAgICAgICAgKS5hZGRUbyhtYXBfMDRjZjJiYzM3NTgzNGIzOThmZDM4YTY0MDNiMzFjMmQpOwogICAgICAgIAogICAgCiAgICAgICAgdmFyIHBvcHVwXzM5ZDg4OTAyM2U2NDQwNTFhZjM4ZGZhMDU1MDU3YWI5ID0gTC5wb3B1cCh7Im1heFdpZHRoIjogIjEwMCUifSk7CgogICAgICAgIAogICAgICAgICAgICB2YXIgaHRtbF84MzE3YmU4M2M5NWI0YjI2YjNhOWRjN2E3ZGNkOWY5NSA9ICQoYDxkaXYgaWQ9Imh0bWxfODMxN2JlODNjOTViNGIyNmIzYTlkYzdhN2RjZDlmOTUiIHN0eWxlPSJ3aWR0aDogMTAwLjAlOyBoZWlnaHQ6IDEwMC4wJTsiPk5PTi1DUklNSU5BTDwvZGl2PmApWzBdOwogICAgICAgICAgICBwb3B1cF8zOWQ4ODkwMjNlNjQ0MDUxYWYzOGRmYTA1NTA1N2FiOS5zZXRDb250ZW50KGh0bWxfODMxN2JlODNjOTViNGIyNmIzYTlkYzdhN2RjZDlmOTUpOwogICAgICAgIAoKICAgICAgICBtYXJrZXJfOTkwNzQ0OGY4MjYwNDZkMWI4ZDM1MzA1OWQ2ZGU3NjQuYmluZFBvcHVwKHBvcHVwXzM5ZDg4OTAyM2U2NDQwNTFhZjM4ZGZhMDU1MDU3YWI5KQogICAgICAgIDsKCiAgICAgICAgCiAgICAKICAgIAogICAgICAgICAgICB2YXIgbWFya2VyXzQxZjhjZGI1NDAyNjQxNjQ4NWU0Y2E1M2IxZWQ5MGJhID0gTC5tYXJrZXIoCiAgICAgICAgICAgICAgICBbMzcuNzc0MDQxODM4NTA0MSwgLTEyMi40MTQzNzA2Mjc0OTVdLAogICAgICAgICAgICAgICAge30KICAgICAgICAgICAgKS5hZGRUbyhtYXBfMDRjZjJiYzM3NTgzNGIzOThmZDM4YTY0MDNiMzFjMmQpOwogICAgICAgIAogICAgCiAgICAgICAgdmFyIHBvcHVwX2NhZmQwNzM5ODIyNTRkMTZhYmUwZDU0ODkwMGEzMTMxID0gTC5wb3B1cCh7Im1heFdpZHRoIjogIjEwMCUifSk7CgogICAgICAgIAogICAgICAgICAgICB2YXIgaHRtbF82NDI2NDNmMGM3YmM0NjdkOWU0NGYyNjdhZWY0ZmFkMiA9ICQoYDxkaXYgaWQ9Imh0bWxfNjQyNjQzZjBjN2JjNDY3ZDllNDRmMjY3YWVmNGZhZDIiIHN0eWxlPSJ3aWR0aDogMTAwLjAlOyBoZWlnaHQ6IDEwMC4wJTsiPkZSQVVEPC9kaXY+YClbMF07CiAgICAgICAgICAgIHBvcHVwX2NhZmQwNzM5ODIyNTRkMTZhYmUwZDU0ODkwMGEzMTMxLnNldENvbnRlbnQoaHRtbF82NDI2NDNmMGM3YmM0NjdkOWU0NGYyNjdhZWY0ZmFkMik7CiAgICAgICAgCgogICAgICAgIG1hcmtlcl80MWY4Y2RiNTQwMjY0MTY0ODVlNGNhNTNiMWVkOTBiYS5iaW5kUG9wdXAocG9wdXBfY2FmZDA3Mzk4MjI1NGQxNmFiZTBkNTQ4OTAwYTMxMzEpCiAgICAgICAgOwoKICAgICAgICAKICAgIAogICAgCiAgICAgICAgICAgIHZhciBtYXJrZXJfZDBmZWMxYjc5MWY2NGM2MzgxZWFhMGE0Mzc5ZjVkZjUgPSBMLm1hcmtlcigKICAgICAgICAgICAgICAgIFszNy43OTA1Mzg5OTM3MjUsIC0xMjIuNDAzOTE1NjgxNTcxMDFdLAogICAgICAgICAgICAgICAge30KICAgICAgICAgICAgKS5hZGRUbyhtYXBfMDRjZjJiYzM3NTgzNGIzOThmZDM4YTY0MDNiMzFjMmQpOwogICAgICAgIAogICAgCiAgICAgICAgdmFyIHBvcHVwXzYwOTE3MTMzMWQ2YjRmNmZhNzNhN2E2ZjViNjBlMTc1ID0gTC5wb3B1cCh7Im1heFdpZHRoIjogIjEwMCUifSk7CgogICAgICAgIAogICAgICAgICAgICB2YXIgaHRtbF80MTFmOTJkNjUzOTc0ZWUzOGRkOWU1NmYxNDFiN2YxYSA9ICQoYDxkaXYgaWQ9Imh0bWxfNDExZjkyZDY1Mzk3NGVlMzhkZDllNTZmMTQxYjdmMWEiIHN0eWxlPSJ3aWR0aDogMTAwLjAlOyBoZWlnaHQ6IDEwMC4wJTsiPkFTU0FVTFQ8L2Rpdj5gKVswXTsKICAgICAgICAgICAgcG9wdXBfNjA5MTcxMzMxZDZiNGY2ZmE3M2E3YTZmNWI2MGUxNzUuc2V0Q29udGVudChodG1sXzQxMWY5MmQ2NTM5NzRlZTM4ZGQ5ZTU2ZjE0MWI3ZjFhKTsKICAgICAgICAKCiAgICAgICAgbWFya2VyX2QwZmVjMWI3OTFmNjRjNjM4MWVhYTBhNDM3OWY1ZGY1LmJpbmRQb3B1cChwb3B1cF82MDkxNzEzMzFkNmI0ZjZmYTczYTdhNmY1YjYwZTE3NSkKICAgICAgICA7CgogICAgICAgIAogICAgCiAgICAKICAgICAgICAgICAgdmFyIG1hcmtlcl82MDZiMDQzNjNiMjY0ZjcxYTVmOGIwNTA3NDE3YTcxNiA9IEwubWFya2VyKAogICAgICAgICAgICAgICAgWzM3Ljc4MzA5OTgyNDQ1OTIxLCAtMTIyLjQxOTE4MzA5NjM2Ml0sCiAgICAgICAgICAgICAgICB7fQogICAgICAgICAgICApLmFkZFRvKG1hcF8wNGNmMmJjMzc1ODM0YjM5OGZkMzhhNjQwM2IzMWMyZCk7CiAgICAgICAgCiAgICAKICAgICAgICB2YXIgcG9wdXBfOWFhODg3ZTM2YmRjNDU5ZmJkZTdkNjgwNjkxNzk2M2QgPSBMLnBvcHVwKHsibWF4V2lkdGgiOiAiMTAwJSJ9KTsKCiAgICAgICAgCiAgICAgICAgICAgIHZhciBodG1sXzY1M2ZiMTZjOTA5NDQwYjFiMjNkMmMwMzhjMThjYTBmID0gJChgPGRpdiBpZD0iaHRtbF82NTNmYjE2YzkwOTQ0MGIxYjIzZDJjMDM4YzE4Y2EwZiIgc3R5bGU9IndpZHRoOiAxMDAuMCU7IGhlaWdodDogMTAwLjAlOyI+T1RIRVIgT0ZGRU5TRVM8L2Rpdj5gKVswXTsKICAgICAgICAgICAgcG9wdXBfOWFhODg3ZTM2YmRjNDU5ZmJkZTdkNjgwNjkxNzk2M2Quc2V0Q29udGVudChodG1sXzY1M2ZiMTZjOTA5NDQwYjFiMjNkMmMwMzhjMThjYTBmKTsKICAgICAgICAKCiAgICAgICAgbWFya2VyXzYwNmIwNDM2M2IyNjRmNzFhNWY4YjA1MDc0MTdhNzE2LmJpbmRQb3B1cChwb3B1cF85YWE4ODdlMzZiZGM0NTlmYmRlN2Q2ODA2OTE3OTYzZCkKICAgICAgICA7CgogICAgICAgIAogICAgCiAgICAKICAgICAgICAgICAgdmFyIG1hcmtlcl9jNTEwMDUyZTY0ZmY0MWNlYjc2OGVlY2M5NWNhZmVkZSA9IEwubWFya2VyKAogICAgICAgICAgICAgICAgWzM3Ljc0MDczNjA1NDgzNTc5LCAtMTIyLjM4ODc1MzA0Njk5N10sCiAgICAgICAgICAgICAgICB7fQogICAgICAgICAgICApLmFkZFRvKG1hcF8wNGNmMmJjMzc1ODM0YjM5OGZkMzhhNjQwM2IzMWMyZCk7CiAgICAgICAgCiAgICAKICAgICAgICB2YXIgcG9wdXBfZWM5NGE4Mzk2OTEwNDRlODk0M2JiOWMxMzgxYTlhMjAgPSBMLnBvcHVwKHsibWF4V2lkdGgiOiAiMTAwJSJ9KTsKCiAgICAgICAgCiAgICAgICAgICAgIHZhciBodG1sX2I3NjI3YTg3NTQyZTRkN2JiMDRkMmYyZTQyNTE1Mzk1ID0gJChgPGRpdiBpZD0iaHRtbF9iNzYyN2E4NzU0MmU0ZDdiYjA0ZDJmMmU0MjUxNTM5NSIgc3R5bGU9IndpZHRoOiAxMDAuMCU7IGhlaWdodDogMTAwLjAlOyI+T1RIRVIgT0ZGRU5TRVM8L2Rpdj5gKVswXTsKICAgICAgICAgICAgcG9wdXBfZWM5NGE4Mzk2OTEwNDRlODk0M2JiOWMxMzgxYTlhMjAuc2V0Q29udGVudChodG1sX2I3NjI3YTg3NTQyZTRkN2JiMDRkMmYyZTQyNTE1Mzk1KTsKICAgICAgICAKCiAgICAgICAgbWFya2VyX2M1MTAwNTJlNjRmZjQxY2ViNzY4ZWVjYzk1Y2FmZWRlLmJpbmRQb3B1cChwb3B1cF9lYzk0YTgzOTY5MTA0NGU4OTQzYmI5YzEzODFhOWEyMCkKICAgICAgICA7CgogICAgICAgIAogICAgCiAgICAKICAgICAgICAgICAgdmFyIG1hcmtlcl9iNjViMTMxMmU0NTE0NjljYTliZDg1NjM5N2RjMDIzZSA9IEwubWFya2VyKAogICAgICAgICAgICAgICAgWzM3Ljc3NDk5MTI5NDQzNjYsIC0xMjIuNDM3Nzk5NzAzNDY4XSwKICAgICAgICAgICAgICAgIHt9CiAgICAgICAgICAgICkuYWRkVG8obWFwXzA0Y2YyYmMzNzU4MzRiMzk4ZmQzOGE2NDAzYjMxYzJkKTsKICAgICAgICAKICAgIAogICAgICAgIHZhciBwb3B1cF9jNjIzNGJhOTUxMzc0ZGM1YTAwOWQ5YjUwMTk3NGMyZiA9IEwucG9wdXAoeyJtYXhXaWR0aCI6ICIxMDAlIn0pOwoKICAgICAgICAKICAgICAgICAgICAgdmFyIGh0bWxfNGM0NmZjZDljYjk5NDIwMDhhNmI1MGUzNmJkMzNkZWUgPSAkKGA8ZGl2IGlkPSJodG1sXzRjNDZmY2Q5Y2I5OTQyMDA4YTZiNTBlMzZiZDMzZGVlIiBzdHlsZT0id2lkdGg6IDEwMC4wJTsgaGVpZ2h0OiAxMDAuMCU7Ij5MQVJDRU5ZL1RIRUZUPC9kaXY+YClbMF07CiAgICAgICAgICAgIHBvcHVwX2M2MjM0YmE5NTEzNzRkYzVhMDA5ZDliNTAxOTc0YzJmLnNldENvbnRlbnQoaHRtbF80YzQ2ZmNkOWNiOTk0MjAwOGE2YjUwZTM2YmQzM2RlZSk7CiAgICAgICAgCgogICAgICAgIG1hcmtlcl9iNjViMTMxMmU0NTE0NjljYTliZDg1NjM5N2RjMDIzZS5iaW5kUG9wdXAocG9wdXBfYzYyMzRiYTk1MTM3NGRjNWEwMDlkOWI1MDE5NzRjMmYpCiAgICAgICAgOwoKICAgICAgICAKICAgIAogICAgCiAgICAgICAgICAgIHZhciBtYXJrZXJfMzQzODc1MDdlNzM2NDQ4ZWI5YmFiMjQwZTk5MjY4ZjIgPSBMLm1hcmtlcigKICAgICAgICAgICAgICAgIFszNy43NzcwOTAyNzQzNjY5LCAtMTIyLjQyMTMzMjY4NDYzM10sCiAgICAgICAgICAgICAgICB7fQogICAgICAgICAgICApLmFkZFRvKG1hcF8wNGNmMmJjMzc1ODM0YjM5OGZkMzhhNjQwM2IzMWMyZCk7CiAgICAgICAgCiAgICAKICAgICAgICB2YXIgcG9wdXBfYzhjZTQxNTAzY2Q0NDI2YjgyYzRmOTYyMGJjYTgyNTMgPSBMLnBvcHVwKHsibWF4V2lkdGgiOiAiMTAwJSJ9KTsKCiAgICAgICAgCiAgICAgICAgICAgIHZhciBodG1sXzMyYWIxZjg3NDAxNjQ3ZDZiN2Y0MjJkNTZlMDkwYzM2ID0gJChgPGRpdiBpZD0iaHRtbF8zMmFiMWY4NzQwMTY0N2Q2YjdmNDIyZDU2ZTA5MGMzNiIgc3R5bGU9IndpZHRoOiAxMDAuMCU7IGhlaWdodDogMTAwLjAlOyI+TUlTU0lORyBQRVJTT048L2Rpdj5gKVswXTsKICAgICAgICAgICAgcG9wdXBfYzhjZTQxNTAzY2Q0NDI2YjgyYzRmOTYyMGJjYTgyNTMuc2V0Q29udGVudChodG1sXzMyYWIxZjg3NDAxNjQ3ZDZiN2Y0MjJkNTZlMDkwYzM2KTsKICAgICAgICAKCiAgICAgICAgbWFya2VyXzM0Mzg3NTA3ZTczNjQ0OGViOWJhYjI0MGU5OTI2OGYyLmJpbmRQb3B1cChwb3B1cF9jOGNlNDE1MDNjZDQ0MjZiODJjNGY5NjIwYmNhODI1MykKICAgICAgICA7CgogICAgICAgIAogICAgCiAgICAKICAgICAgICAgICAgdmFyIG1hcmtlcl9hOTFiMmFmZjIwMzc0MjUwYjY0Y2M2NzM0MDJiOGI1YSA9IEwubWFya2VyKAogICAgICAgICAgICAgICAgWzM3Ljc3NzA5MDI3NDM2NjksIC0xMjIuNDIxMzMyNjg0NjMzXSwKICAgICAgICAgICAgICAgIHt9CiAgICAgICAgICAgICkuYWRkVG8obWFwXzA0Y2YyYmMzNzU4MzRiMzk4ZmQzOGE2NDAzYjMxYzJkKTsKICAgICAgICAKICAgIAogICAgICAgIHZhciBwb3B1cF9kMzZmMWExNTU5OTU0ZTI1YjEyNDNkZDBiMmU1NTk5YyA9IEwucG9wdXAoeyJtYXhXaWR0aCI6ICIxMDAlIn0pOwoKICAgICAgICAKICAgICAgICAgICAgdmFyIGh0bWxfYmY1Njc4ODVmZjhjNDBjZTg2NDE3NDFkM2MxNzMwYzIgPSAkKGA8ZGl2IGlkPSJodG1sX2JmNTY3ODg1ZmY4YzQwY2U4NjQxNzQxZDNjMTczMGMyIiBzdHlsZT0id2lkdGg6IDEwMC4wJTsgaGVpZ2h0OiAxMDAuMCU7Ij5NSVNTSU5HIFBFUlNPTjwvZGl2PmApWzBdOwogICAgICAgICAgICBwb3B1cF9kMzZmMWExNTU5OTU0ZTI1YjEyNDNkZDBiMmU1NTk5Yy5zZXRDb250ZW50KGh0bWxfYmY1Njc4ODVmZjhjNDBjZTg2NDE3NDFkM2MxNzMwYzIpOwogICAgICAgIAoKICAgICAgICBtYXJrZXJfYTkxYjJhZmYyMDM3NDI1MGI2NGNjNjczNDAyYjhiNWEuYmluZFBvcHVwKHBvcHVwX2QzNmYxYTE1NTk5NTRlMjViMTI0M2RkMGIyZTU1OTljKQogICAgICAgIDsKCiAgICAgICAgCiAgICAKICAgIAogICAgICAgICAgICB2YXIgbWFya2VyX2Q3NWYwNWVhNDJlNjQzNjE4NmUyNDExMjQxMDlhNzhlID0gTC5tYXJrZXIoCiAgICAgICAgICAgICAgICBbMzcuNzgyMjQ1ODIyMzkxNywgLTEyMi40NDY2MTI5Nzg4MzldLAogICAgICAgICAgICAgICAge30KICAgICAgICAgICAgKS5hZGRUbyhtYXBfMDRjZjJiYzM3NTgzNGIzOThmZDM4YTY0MDNiMzFjMmQpOwogICAgICAgIAogICAgCiAgICAgICAgdmFyIHBvcHVwXzI4ZDQ1ZjU3NjA5NDQ2OGI5NmY5NjNmYjQxYTIxNzFhID0gTC5wb3B1cCh7Im1heFdpZHRoIjogIjEwMCUifSk7CgogICAgICAgIAogICAgICAgICAgICB2YXIgaHRtbF8yNWQ0NzU1OTkzZGE0NmNlODNhNTlkNmNlNjVkMzI4MCA9ICQoYDxkaXYgaWQ9Imh0bWxfMjVkNDc1NTk5M2RhNDZjZTgzYTU5ZDZjZTY1ZDMyODAiIHN0eWxlPSJ3aWR0aDogMTAwLjAlOyBoZWlnaHQ6IDEwMC4wJTsiPldBUlJBTlRTPC9kaXY+YClbMF07CiAgICAgICAgICAgIHBvcHVwXzI4ZDQ1ZjU3NjA5NDQ2OGI5NmY5NjNmYjQxYTIxNzFhLnNldENvbnRlbnQoaHRtbF8yNWQ0NzU1OTkzZGE0NmNlODNhNTlkNmNlNjVkMzI4MCk7CiAgICAgICAgCgogICAgICAgIG1hcmtlcl9kNzVmMDVlYTQyZTY0MzYxODZlMjQxMTI0MTA5YTc4ZS5iaW5kUG9wdXAocG9wdXBfMjhkNDVmNTc2MDk0NDY4Yjk2Zjk2M2ZiNDFhMjE3MWEpCiAgICAgICAgOwoKICAgICAgICAKICAgIAogICAgCiAgICAgICAgICAgIHZhciBtYXJrZXJfZjNjM2IxMzY0YmYzNDRkZmI2MGM4MjIwYTAyMGM0YTEgPSBMLm1hcmtlcigKICAgICAgICAgICAgICAgIFszNy43MzAwMzc5OTk1MTI3OTUsIC0xMjIuNDA0NTk0MTQwNjM0XSwKICAgICAgICAgICAgICAgIHt9CiAgICAgICAgICAgICkuYWRkVG8obWFwXzA0Y2YyYmMzNzU4MzRiMzk4ZmQzOGE2NDAzYjMxYzJkKTsKICAgICAgICAKICAgIAogICAgICAgIHZhciBwb3B1cF81OWY2YzQ1NzkyODk0M2I0OWMxMmFiZjk5YTkwOTViMCA9IEwucG9wdXAoeyJtYXhXaWR0aCI6ICIxMDAlIn0pOwoKICAgICAgICAKICAgICAgICAgICAgdmFyIGh0bWxfNDVmZjg1Yzg1ZjBhNGYxOGIzYjdjNmE2YTIyMDAzY2QgPSAkKGA8ZGl2IGlkPSJodG1sXzQ1ZmY4NWM4NWYwYTRmMThiM2I3YzZhNmEyMjAwM2NkIiBzdHlsZT0id2lkdGg6IDEwMC4wJTsgaGVpZ2h0OiAxMDAuMCU7Ij5OT04tQ1JJTUlOQUw8L2Rpdj5gKVswXTsKICAgICAgICAgICAgcG9wdXBfNTlmNmM0NTc5Mjg5NDNiNDljMTJhYmY5OWE5MDk1YjAuc2V0Q29udGVudChodG1sXzQ1ZmY4NWM4NWYwYTRmMThiM2I3YzZhNmEyMjAwM2NkKTsKICAgICAgICAKCiAgICAgICAgbWFya2VyX2YzYzNiMTM2NGJmMzQ0ZGZiNjBjODIyMGEwMjBjNGExLmJpbmRQb3B1cChwb3B1cF81OWY2YzQ1NzkyODk0M2I0OWMxMmFiZjk5YTkwOTViMCkKICAgICAgICA7CgogICAgICAgIAogICAgCiAgICAKICAgICAgICAgICAgdmFyIG1hcmtlcl82MGNjY2EwZDRlMTE0NmU0ODJmNTZmYWZiNTNlNGM5MyA9IEwubWFya2VyKAogICAgICAgICAgICAgICAgWzM3Ljc5NTMzMzgyNjc0MzYsIC0xMjIuMzk3MzczNzQwMDY2XSwKICAgICAgICAgICAgICAgIHt9CiAgICAgICAgICAgICkuYWRkVG8obWFwXzA0Y2YyYmMzNzU4MzRiMzk4ZmQzOGE2NDAzYjMxYzJkKTsKICAgICAgICAKICAgIAogICAgICAgIHZhciBwb3B1cF9iYjlmM2MwOTUxMTQ0OTUyYmM4MGMwZmI4NDc1N2Q3ZiA9IEwucG9wdXAoeyJtYXhXaWR0aCI6ICIxMDAlIn0pOwoKICAgICAgICAKICAgICAgICAgICAgdmFyIGh0bWxfNDM0YmNjZTgxZGQwNDQ1OGFhOWVkMDQyMzJkYzViZWIgPSAkKGA8ZGl2IGlkPSJodG1sXzQzNGJjY2U4MWRkMDQ0NThhYTllZDA0MjMyZGM1YmViIiBzdHlsZT0id2lkdGg6IDEwMC4wJTsgaGVpZ2h0OiAxMDAuMCU7Ij5OT04tQ1JJTUlOQUw8L2Rpdj5gKVswXTsKICAgICAgICAgICAgcG9wdXBfYmI5ZjNjMDk1MTE0NDk1MmJjODBjMGZiODQ3NTdkN2Yuc2V0Q29udGVudChodG1sXzQzNGJjY2U4MWRkMDQ0NThhYTllZDA0MjMyZGM1YmViKTsKICAgICAgICAKCiAgICAgICAgbWFya2VyXzYwY2NjYTBkNGUxMTQ2ZTQ4MmY1NmZhZmI1M2U0YzkzLmJpbmRQb3B1cChwb3B1cF9iYjlmM2MwOTUxMTQ0OTUyYmM4MGMwZmI4NDc1N2Q3ZikKICAgICAgICA7CgogICAgICAgIAogICAgCiAgICAKICAgICAgICAgICAgdmFyIG1hcmtlcl85N2MwMzMzZTE4NmY0M2FhOTkzZDEzMmE5MDE0NGE5YiA9IEwubWFya2VyKAogICAgICAgICAgICAgICAgWzM3Ljc4NzUxNTg3NDE2MjI5NSwgLTEyMi40MDc0MzQ5ODk1MjNdLAogICAgICAgICAgICAgICAge30KICAgICAgICAgICAgKS5hZGRUbyhtYXBfMDRjZjJiYzM3NTgzNGIzOThmZDM4YTY0MDNiMzFjMmQpOwogICAgICAgIAogICAgCiAgICAgICAgdmFyIHBvcHVwX2UwODUzNDliMWE2MjRiM2E5OTQ0YjIxNzM2ZDEwNzlhID0gTC5wb3B1cCh7Im1heFdpZHRoIjogIjEwMCUifSk7CgogICAgICAgIAogICAgICAgICAgICB2YXIgaHRtbF84YzgzOGY4NjIzNWE0Y2I4YTJmZGVjNGJjYzNiZjM5MiA9ICQoYDxkaXYgaWQ9Imh0bWxfOGM4MzhmODYyMzVhNGNiOGEyZmRlYzRiY2MzYmYzOTIiIHN0eWxlPSJ3aWR0aDogMTAwLjAlOyBoZWlnaHQ6IDEwMC4wJTsiPldBUlJBTlRTPC9kaXY+YClbMF07CiAgICAgICAgICAgIHBvcHVwX2UwODUzNDliMWE2MjRiM2E5OTQ0YjIxNzM2ZDEwNzlhLnNldENvbnRlbnQoaHRtbF84YzgzOGY4NjIzNWE0Y2I4YTJmZGVjNGJjYzNiZjM5Mik7CiAgICAgICAgCgogICAgICAgIG1hcmtlcl85N2MwMzMzZTE4NmY0M2FhOTkzZDEzMmE5MDE0NGE5Yi5iaW5kUG9wdXAocG9wdXBfZTA4NTM0OWIxYTYyNGIzYTk5NDRiMjE3MzZkMTA3OWEpCiAgICAgICAgOwoKICAgICAgICAKICAgIAogICAgCiAgICAgICAgICAgIHZhciBtYXJrZXJfOGQ1YmEyMDkzNDBjNGUyNWE4ZmI1NjQ1NjdhNmFiODUgPSBMLm1hcmtlcigKICAgICAgICAgICAgICAgIFszNy43Nzg1MjMzNzc2MDMyLCAtMTIyLjQwMzQ2NDA4MDAzM10sCiAgICAgICAgICAgICAgICB7fQogICAgICAgICAgICApLmFkZFRvKG1hcF8wNGNmMmJjMzc1ODM0YjM5OGZkMzhhNjQwM2IzMWMyZCk7CiAgICAgICAgCiAgICAKICAgICAgICB2YXIgcG9wdXBfMmQ1ZWYwNTIzMDNkNGQ5Yzk4ZDlhNWJmZDlhNWY3ZjEgPSBMLnBvcHVwKHsibWF4V2lkdGgiOiAiMTAwJSJ9KTsKCiAgICAgICAgCiAgICAgICAgICAgIHZhciBodG1sX2U0YmMyODEyMjdkNTRjMGRiZTg5ZDI1MDgyZjBiYTVkID0gJChgPGRpdiBpZD0iaHRtbF9lNGJjMjgxMjI3ZDU0YzBkYmU4OWQyNTA4MmYwYmE1ZCIgc3R5bGU9IndpZHRoOiAxMDAuMCU7IGhlaWdodDogMTAwLjAlOyI+UFJPU1RJVFVUSU9OPC9kaXY+YClbMF07CiAgICAgICAgICAgIHBvcHVwXzJkNWVmMDUyMzAzZDRkOWM5OGQ5YTViZmQ5YTVmN2YxLnNldENvbnRlbnQoaHRtbF9lNGJjMjgxMjI3ZDU0YzBkYmU4OWQyNTA4MmYwYmE1ZCk7CiAgICAgICAgCgogICAgICAgIG1hcmtlcl84ZDViYTIwOTM0MGM0ZTI1YThmYjU2NDU2N2E2YWI4NS5iaW5kUG9wdXAocG9wdXBfMmQ1ZWYwNTIzMDNkNGQ5Yzk4ZDlhNWJmZDlhNWY3ZjEpCiAgICAgICAgOwoKICAgICAgICAKICAgIAogICAgCiAgICAgICAgICAgIHZhciBtYXJrZXJfODE3ZTFiYTI5NjNlNDg3Yjg3OWQyOTdjZTY1NTg0NzcgPSBMLm1hcmtlcigKICAgICAgICAgICAgICAgIFszNy43Nzg1MjMzNzc2MDMyLCAtMTIyLjQwMzQ2NDA4MDAzM10sCiAgICAgICAgICAgICAgICB7fQogICAgICAgICAgICApLmFkZFRvKG1hcF8wNGNmMmJjMzc1ODM0YjM5OGZkMzhhNjQwM2IzMWMyZCk7CiAgICAgICAgCiAgICAKICAgICAgICB2YXIgcG9wdXBfMzFjZTNlMGViYzM0NDBkM2FmM2Q2OGE1MjNiNzBjMzUgPSBMLnBvcHVwKHsibWF4V2lkdGgiOiAiMTAwJSJ9KTsKCiAgICAgICAgCiAgICAgICAgICAgIHZhciBodG1sXzIyNmE4OGMxMjdjYzRjMGViOWMyMTdjZWJhMWI0MDJiID0gJChgPGRpdiBpZD0iaHRtbF8yMjZhODhjMTI3Y2M0YzBlYjljMjE3Y2ViYTFiNDAyYiIgc3R5bGU9IndpZHRoOiAxMDAuMCU7IGhlaWdodDogMTAwLjAlOyI+T1RIRVIgT0ZGRU5TRVM8L2Rpdj5gKVswXTsKICAgICAgICAgICAgcG9wdXBfMzFjZTNlMGViYzM0NDBkM2FmM2Q2OGE1MjNiNzBjMzUuc2V0Q29udGVudChodG1sXzIyNmE4OGMxMjdjYzRjMGViOWMyMTdjZWJhMWI0MDJiKTsKICAgICAgICAKCiAgICAgICAgbWFya2VyXzgxN2UxYmEyOTYzZTQ4N2I4NzlkMjk3Y2U2NTU4NDc3LmJpbmRQb3B1cChwb3B1cF8zMWNlM2UwZWJjMzQ0MGQzYWYzZDY4YTUyM2I3MGMzNSkKICAgICAgICA7CgogICAgICAgIAogICAgCiAgICAKICAgICAgICAgICAgdmFyIG1hcmtlcl8xZjViNWQ5OTM2NGY0YzVjYjgwMDIwYzMzNzEyYTg2OCA9IEwubWFya2VyKAogICAgICAgICAgICAgICAgWzM3Ljc3MzI5MTgwNjkwMjk5NiwgLTEyMi40MzY2MTQxODEzMzEwMV0sCiAgICAgICAgICAgICAgICB7fQogICAgICAgICAgICApLmFkZFRvKG1hcF8wNGNmMmJjMzc1ODM0YjM5OGZkMzhhNjQwM2IzMWMyZCk7CiAgICAgICAgCiAgICAKICAgICAgICB2YXIgcG9wdXBfOTc0NTBkZjQ4MmQ4NGM5MjlhZjQ1YzNjNGFjMmJhNzAgPSBMLnBvcHVwKHsibWF4V2lkdGgiOiAiMTAwJSJ9KTsKCiAgICAgICAgCiAgICAgICAgICAgIHZhciBodG1sXzc2ZGJhYzg5Y2RhYTQ5YmRiMGNjMTkyYTQ1MjI1YmYzID0gJChgPGRpdiBpZD0iaHRtbF83NmRiYWM4OWNkYWE0OWJkYjBjYzE5MmE0NTIyNWJmMyIgc3R5bGU9IndpZHRoOiAxMDAuMCU7IGhlaWdodDogMTAwLjAlOyI+Tk9OLUNSSU1JTkFMPC9kaXY+YClbMF07CiAgICAgICAgICAgIHBvcHVwXzk3NDUwZGY0ODJkODRjOTI5YWY0NWMzYzRhYzJiYTcwLnNldENvbnRlbnQoaHRtbF83NmRiYWM4OWNkYWE0OWJkYjBjYzE5MmE0NTIyNWJmMyk7CiAgICAgICAgCgogICAgICAgIG1hcmtlcl8xZjViNWQ5OTM2NGY0YzVjYjgwMDIwYzMzNzEyYTg2OC5iaW5kUG9wdXAocG9wdXBfOTc0NTBkZjQ4MmQ4NGM5MjlhZjQ1YzNjNGFjMmJhNzApCiAgICAgICAgOwoKICAgICAgICAKICAgIAogICAgCiAgICAgICAgICAgIHZhciBtYXJrZXJfMzhiNmQyOGU4ZmFmNDkzYTk4NDEwZWIyZWI4OTkxZDcgPSBMLm1hcmtlcigKICAgICAgICAgICAgICAgIFszNy43ODA1Mjc1Nzg1MDksIC0xMjIuMzk2ODQ5MDE1MTcyMDFdLAogICAgICAgICAgICAgICAge30KICAgICAgICAgICAgKS5hZGRUbyhtYXBfMDRjZjJiYzM3NTgzNGIzOThmZDM4YTY0MDNiMzFjMmQpOwogICAgICAgIAogICAgCiAgICAgICAgdmFyIHBvcHVwX2Q4Yzg3OTgwMGFjOTQwOGM4MTYxYzM0NTg1NzMxZDM2ID0gTC5wb3B1cCh7Im1heFdpZHRoIjogIjEwMCUifSk7CgogICAgICAgIAogICAgICAgICAgICB2YXIgaHRtbF9iMWMwZTE0OTk0NmE0MjEzOTNmNzY1MzQ3ZTg4YzU3NiA9ICQoYDxkaXYgaWQ9Imh0bWxfYjFjMGUxNDk5NDZhNDIxMzkzZjc2NTM0N2U4OGM1NzYiIHN0eWxlPSJ3aWR0aDogMTAwLjAlOyBoZWlnaHQ6IDEwMC4wJTsiPkRSVUcvTkFSQ09USUM8L2Rpdj5gKVswXTsKICAgICAgICAgICAgcG9wdXBfZDhjODc5ODAwYWM5NDA4YzgxNjFjMzQ1ODU3MzFkMzYuc2V0Q29udGVudChodG1sX2IxYzBlMTQ5OTQ2YTQyMTM5M2Y3NjUzNDdlODhjNTc2KTsKICAgICAgICAKCiAgICAgICAgbWFya2VyXzM4YjZkMjhlOGZhZjQ5M2E5ODQxMGViMmViODk5MWQ3LmJpbmRQb3B1cChwb3B1cF9kOGM4Nzk4MDBhYzk0MDhjODE2MWMzNDU4NTczMWQzNikKICAgICAgICA7CgogICAgICAgIAogICAgCiAgICAKICAgICAgICAgICAgdmFyIG1hcmtlcl9mZWQ5MGI2ZWEzZWU0MGYxYjc2OTk0NzY4YTJiMjUyNSA9IEwubWFya2VyKAogICAgICAgICAgICAgICAgWzM3Ljc4MDUyNzU3ODUwOSwgLTEyMi4zOTY4NDkwMTUxNzIwMV0sCiAgICAgICAgICAgICAgICB7fQogICAgICAgICAgICApLmFkZFRvKG1hcF8wNGNmMmJjMzc1ODM0YjM5OGZkMzhhNjQwM2IzMWMyZCk7CiAgICAgICAgCiAgICAKICAgICAgICB2YXIgcG9wdXBfODRiMDc2YjhhMWNkNGMxNjk3ZDE4MjA1MzI1NTVlZTUgPSBMLnBvcHVwKHsibWF4V2lkdGgiOiAiMTAwJSJ9KTsKCiAgICAgICAgCiAgICAgICAgICAgIHZhciBodG1sXzIyNzkwY2U5ODA3NDRkOGZhNTkzOTIyM2ZkM2Q0ZDk3ID0gJChgPGRpdiBpZD0iaHRtbF8yMjc5MGNlOTgwNzQ0ZDhmYTU5MzkyMjNmZDNkNGQ5NyIgc3R5bGU9IndpZHRoOiAxMDAuMCU7IGhlaWdodDogMTAwLjAlOyI+V0FSUkFOVFM8L2Rpdj5gKVswXTsKICAgICAgICAgICAgcG9wdXBfODRiMDc2YjhhMWNkNGMxNjk3ZDE4MjA1MzI1NTVlZTUuc2V0Q29udGVudChodG1sXzIyNzkwY2U5ODA3NDRkOGZhNTkzOTIyM2ZkM2Q0ZDk3KTsKICAgICAgICAKCiAgICAgICAgbWFya2VyX2ZlZDkwYjZlYTNlZTQwZjFiNzY5OTQ3NjhhMmIyNTI1LmJpbmRQb3B1cChwb3B1cF84NGIwNzZiOGExY2Q0YzE2OTdkMTgyMDUzMjU1NWVlNSkKICAgICAgICA7CgogICAgICAgIAogICAgCiAgICAKICAgICAgICAgICAgdmFyIG1hcmtlcl83OWQ2NjFlZmEwZDU0OGVkODU4NjI4MmMzM2I4ODE5ZSA9IEwubWFya2VyKAogICAgICAgICAgICAgICAgWzM3LjcyODQxODA3MDY2MDIwNCwgLTEyMi40NTAwMDA3OTA0NDVdLAogICAgICAgICAgICAgICAge30KICAgICAgICAgICAgKS5hZGRUbyhtYXBfMDRjZjJiYzM3NTgzNGIzOThmZDM4YTY0MDNiMzFjMmQpOwogICAgICAgIAogICAgCiAgICAgICAgdmFyIHBvcHVwXzMxMGJmYjAwZDhmMDQ1NmY5YWFjM2RmODc0OWEwMDgzID0gTC5wb3B1cCh7Im1heFdpZHRoIjogIjEwMCUifSk7CgogICAgICAgIAogICAgICAgICAgICB2YXIgaHRtbF83ZTM0ODQ4MjYyM2E0MzhiYmQ5YWY3YTgzYWFmNDhjYiA9ICQoYDxkaXYgaWQ9Imh0bWxfN2UzNDg0ODI2MjNhNDM4YmJkOWFmN2E4M2FhZjQ4Y2IiIHN0eWxlPSJ3aWR0aDogMTAwLjAlOyBoZWlnaHQ6IDEwMC4wJTsiPkxBUkNFTlkvVEhFRlQ8L2Rpdj5gKVswXTsKICAgICAgICAgICAgcG9wdXBfMzEwYmZiMDBkOGYwNDU2ZjlhYWMzZGY4NzQ5YTAwODMuc2V0Q29udGVudChodG1sXzdlMzQ4NDgyNjIzYTQzOGJiZDlhZjdhODNhYWY0OGNiKTsKICAgICAgICAKCiAgICAgICAgbWFya2VyXzc5ZDY2MWVmYTBkNTQ4ZWQ4NTg2MjgyYzMzYjg4MTllLmJpbmRQb3B1cChwb3B1cF8zMTBiZmIwMGQ4ZjA0NTZmOWFhYzNkZjg3NDlhMDA4MykKICAgICAgICA7CgogICAgICAgIAogICAgCiAgICAKICAgICAgICAgICAgdmFyIG1hcmtlcl8xOTEyYjgwYTg5OWI0MjAzYWI2Y2E4NGQxMGY4MDZjNSA9IEwubWFya2VyKAogICAgICAgICAgICAgICAgWzM3LjcyOTIxMTQ2NDczNTksIC0xMjIuNDAwODM0MjgzMDMxXSwKICAgICAgICAgICAgICAgIHt9CiAgICAgICAgICAgICkuYWRkVG8obWFwXzA0Y2YyYmMzNzU4MzRiMzk4ZmQzOGE2NDAzYjMxYzJkKTsKICAgICAgICAKICAgIAogICAgICAgIHZhciBwb3B1cF9kOGZiNzIzMjM4YjU0NWRmOWNlMjJlM2Y1ODZmZmQxZiA9IEwucG9wdXAoeyJtYXhXaWR0aCI6ICIxMDAlIn0pOwoKICAgICAgICAKICAgICAgICAgICAgdmFyIGh0bWxfZThkYjhlNmVjNjFmNDY4NTk4ZDkwMWQ1ZmQ1YWU5MGUgPSAkKGA8ZGl2IGlkPSJodG1sX2U4ZGI4ZTZlYzYxZjQ2ODU5OGQ5MDFkNWZkNWFlOTBlIiBzdHlsZT0id2lkdGg6IDEwMC4wJTsgaGVpZ2h0OiAxMDAuMCU7Ij5PVEhFUiBPRkZFTlNFUzwvZGl2PmApWzBdOwogICAgICAgICAgICBwb3B1cF9kOGZiNzIzMjM4YjU0NWRmOWNlMjJlM2Y1ODZmZmQxZi5zZXRDb250ZW50KGh0bWxfZThkYjhlNmVjNjFmNDY4NTk4ZDkwMWQ1ZmQ1YWU5MGUpOwogICAgICAgIAoKICAgICAgICBtYXJrZXJfMTkxMmI4MGE4OTliNDIwM2FiNmNhODRkMTBmODA2YzUuYmluZFBvcHVwKHBvcHVwX2Q4ZmI3MjMyMzhiNTQ1ZGY5Y2UyMmUzZjU4NmZmZDFmKQogICAgICAgIDsKCiAgICAgICAgCiAgICAKICAgIAogICAgICAgICAgICB2YXIgbWFya2VyXzJlNzAxMzIwMjdiNTQ2M2NhMzViNmNkYzM0NGJhNThlID0gTC5tYXJrZXIoCiAgICAgICAgICAgICAgICBbMzcuNzg4MDA2NTMyNDM5MjA1LCAtMTIyLjM5OTgwMjE0NTc5OV0sCiAgICAgICAgICAgICAgICB7fQogICAgICAgICAgICApLmFkZFRvKG1hcF8wNGNmMmJjMzc1ODM0YjM5OGZkMzhhNjQwM2IzMWMyZCk7CiAgICAgICAgCiAgICAKICAgICAgICB2YXIgcG9wdXBfZjNhZGY2ZmJlMWNmNDE2NmI0MjJjNGRhYTQ5MTI4NGIgPSBMLnBvcHVwKHsibWF4V2lkdGgiOiAiMTAwJSJ9KTsKCiAgICAgICAgCiAgICAgICAgICAgIHZhciBodG1sX2NlOWQyZjBlY2YxMTQzMjZhYmZkN2Q3OTBmMTQwODM2ID0gJChgPGRpdiBpZD0iaHRtbF9jZTlkMmYwZWNmMTE0MzI2YWJmZDdkNzkwZjE0MDgzNiIgc3R5bGU9IndpZHRoOiAxMDAuMCU7IGhlaWdodDogMTAwLjAlOyI+TEFSQ0VOWS9USEVGVDwvZGl2PmApWzBdOwogICAgICAgICAgICBwb3B1cF9mM2FkZjZmYmUxY2Y0MTY2YjQyMmM0ZGFhNDkxMjg0Yi5zZXRDb250ZW50KGh0bWxfY2U5ZDJmMGVjZjExNDMyNmFiZmQ3ZDc5MGYxNDA4MzYpOwogICAgICAgIAoKICAgICAgICBtYXJrZXJfMmU3MDEzMjAyN2I1NDYzY2EzNWI2Y2RjMzQ0YmE1OGUuYmluZFBvcHVwKHBvcHVwX2YzYWRmNmZiZTFjZjQxNjZiNDIyYzRkYWE0OTEyODRiKQogICAgICAgIDsKCiAgICAgICAgCiAgICAKICAgIAogICAgICAgICAgICB2YXIgbWFya2VyX2JjMGVkN2Q3ZDg0MjRiNjI5NWNhZDdiMWNmZTU1ODJkID0gTC5tYXJrZXIoCiAgICAgICAgICAgICAgICBbMzcuNzIzOTc0ODI0MTYwOSwgLTEyMi4zOTQ5Mjg0NzU4XSwKICAgICAgICAgICAgICAgIHt9CiAgICAgICAgICAgICkuYWRkVG8obWFwXzA0Y2YyYmMzNzU4MzRiMzk4ZmQzOGE2NDAzYjMxYzJkKTsKICAgICAgICAKICAgIAogICAgICAgIHZhciBwb3B1cF83ZTgyM2NkZjcwYmY0YmM1OTJlM2JkOTk2ZmMyMWU3OCA9IEwucG9wdXAoeyJtYXhXaWR0aCI6ICIxMDAlIn0pOwoKICAgICAgICAKICAgICAgICAgICAgdmFyIGh0bWxfNDBjOGNhMWM2NjIzNDlhMmExZjQ3YTU0Zjc0MjA2NzYgPSAkKGA8ZGl2IGlkPSJodG1sXzQwYzhjYTFjNjYyMzQ5YTJhMWY0N2E1NGY3NDIwNjc2IiBzdHlsZT0id2lkdGg6IDEwMC4wJTsgaGVpZ2h0OiAxMDAuMCU7Ij5TRUNPTkRBUlkgQ09ERVM8L2Rpdj5gKVswXTsKICAgICAgICAgICAgcG9wdXBfN2U4MjNjZGY3MGJmNGJjNTkyZTNiZDk5NmZjMjFlNzguc2V0Q29udGVudChodG1sXzQwYzhjYTFjNjYyMzQ5YTJhMWY0N2E1NGY3NDIwNjc2KTsKICAgICAgICAKCiAgICAgICAgbWFya2VyX2JjMGVkN2Q3ZDg0MjRiNjI5NWNhZDdiMWNmZTU1ODJkLmJpbmRQb3B1cChwb3B1cF83ZTgyM2NkZjcwYmY0YmM1OTJlM2JkOTk2ZmMyMWU3OCkKICAgICAgICA7CgogICAgICAgIAogICAgCiAgICAKICAgICAgICAgICAgdmFyIG1hcmtlcl9lYTFhYzU2YjRkMDg0ZjcwYWRkM2EyZWNkZDFhZjVhMCA9IEwubWFya2VyKAogICAgICAgICAgICAgICAgWzM3LjcyMzk3NDgyNDE2MDksIC0xMjIuMzk0OTI4NDc1OF0sCiAgICAgICAgICAgICAgICB7fQogICAgICAgICAgICApLmFkZFRvKG1hcF8wNGNmMmJjMzc1ODM0YjM5OGZkMzhhNjQwM2IzMWMyZCk7CiAgICAgICAgCiAgICAKICAgICAgICB2YXIgcG9wdXBfYjk3NmU3M2NmODNjNDY0NDlmNzM1YWZiZjZhYTYwM2EgPSBMLnBvcHVwKHsibWF4V2lkdGgiOiAiMTAwJSJ9KTsKCiAgICAgICAgCiAgICAgICAgICAgIHZhciBodG1sX2Y2N2RlYzkzMTYxZjQ0NWY4N2E2NjFkMDBkMTlmZGEyID0gJChgPGRpdiBpZD0iaHRtbF9mNjdkZWM5MzE2MWY0NDVmODdhNjYxZDAwZDE5ZmRhMiIgc3R5bGU9IndpZHRoOiAxMDAuMCU7IGhlaWdodDogMTAwLjAlOyI+U1VTUElDSU9VUyBPQ0M8L2Rpdj5gKVswXTsKICAgICAgICAgICAgcG9wdXBfYjk3NmU3M2NmODNjNDY0NDlmNzM1YWZiZjZhYTYwM2Euc2V0Q29udGVudChodG1sX2Y2N2RlYzkzMTYxZjQ0NWY4N2E2NjFkMDBkMTlmZGEyKTsKICAgICAgICAKCiAgICAgICAgbWFya2VyX2VhMWFjNTZiNGQwODRmNzBhZGQzYTJlY2RkMWFmNWEwLmJpbmRQb3B1cChwb3B1cF9iOTc2ZTczY2Y4M2M0NjQ0OWY3MzVhZmJmNmFhNjAzYSkKICAgICAgICA7CgogICAgICAgIAogICAgCiAgICAKICAgICAgICAgICAgdmFyIG1hcmtlcl9jMzRkZTZlNDk2ZDU0MDVlYjM0YTY5M2VkNDU5ZTVjNiA9IEwubWFya2VyKAogICAgICAgICAgICAgICAgWzM3LjcyMzk3NDgyNDE2MDksIC0xMjIuMzk0OTI4NDc1OF0sCiAgICAgICAgICAgICAgICB7fQogICAgICAgICAgICApLmFkZFRvKG1hcF8wNGNmMmJjMzc1ODM0YjM5OGZkMzhhNjQwM2IzMWMyZCk7CiAgICAgICAgCiAgICAKICAgICAgICB2YXIgcG9wdXBfMDM1YzRkNjRhYTY2NDM4MmI4NjExZmFlNmVhZGUyYjQgPSBMLnBvcHVwKHsibWF4V2lkdGgiOiAiMTAwJSJ9KTsKCiAgICAgICAgCiAgICAgICAgICAgIHZhciBodG1sXzg4NmZmNDg3NGM2NzQzMGZhMTY0YjIyNDI3YjNkNDk1ID0gJChgPGRpdiBpZD0iaHRtbF84ODZmZjQ4NzRjNjc0MzBmYTE2NGIyMjQyN2IzZDQ5NSIgc3R5bGU9IndpZHRoOiAxMDAuMCU7IGhlaWdodDogMTAwLjAlOyI+T1RIRVIgT0ZGRU5TRVM8L2Rpdj5gKVswXTsKICAgICAgICAgICAgcG9wdXBfMDM1YzRkNjRhYTY2NDM4MmI4NjExZmFlNmVhZGUyYjQuc2V0Q29udGVudChodG1sXzg4NmZmNDg3NGM2NzQzMGZhMTY0YjIyNDI3YjNkNDk1KTsKICAgICAgICAKCiAgICAgICAgbWFya2VyX2MzNGRlNmU0OTZkNTQwNWViMzRhNjkzZWQ0NTllNWM2LmJpbmRQb3B1cChwb3B1cF8wMzVjNGQ2NGFhNjY0MzgyYjg2MTFmYWU2ZWFkZTJiNCkKICAgICAgICA7CgogICAgICAgIAogICAgCiAgICAKICAgICAgICAgICAgdmFyIG1hcmtlcl9iNjlmOTkwMTE2ZGY0Y2RiOWE5Mzc0Nzg3M2EwYzUwMSA9IEwubWFya2VyKAogICAgICAgICAgICAgICAgWzM3Ljc4ODMyMzU0NDk5MDQsIC0xMjIuNDExODU3MDMyNTRdLAogICAgICAgICAgICAgICAge30KICAgICAgICAgICAgKS5hZGRUbyhtYXBfMDRjZjJiYzM3NTgzNGIzOThmZDM4YTY0MDNiMzFjMmQpOwogICAgICAgIAogICAgCiAgICAgICAgdmFyIHBvcHVwXzAwZTA2OWNkZDUxOTQ2MWM5OTYwYmUxN2VlNTU1NjFmID0gTC5wb3B1cCh7Im1heFdpZHRoIjogIjEwMCUifSk7CgogICAgICAgIAogICAgICAgICAgICB2YXIgaHRtbF8wZDNiN2Q0ZGRhZDg0OTMyYmQ1Y2RjODE3OGJiOTY2YiA9ICQoYDxkaXYgaWQ9Imh0bWxfMGQzYjdkNGRkYWQ4NDkzMmJkNWNkYzgxNzhiYjk2NmIiIHN0eWxlPSJ3aWR0aDogMTAwLjAlOyBoZWlnaHQ6IDEwMC4wJTsiPkxBUkNFTlkvVEhFRlQ8L2Rpdj5gKVswXTsKICAgICAgICAgICAgcG9wdXBfMDBlMDY5Y2RkNTE5NDYxYzk5NjBiZTE3ZWU1NTU2MWYuc2V0Q29udGVudChodG1sXzBkM2I3ZDRkZGFkODQ5MzJiZDVjZGM4MTc4YmI5NjZiKTsKICAgICAgICAKCiAgICAgICAgbWFya2VyX2I2OWY5OTAxMTZkZjRjZGI5YTkzNzQ3ODczYTBjNTAxLmJpbmRQb3B1cChwb3B1cF8wMGUwNjljZGQ1MTk0NjFjOTk2MGJlMTdlZTU1NTYxZikKICAgICAgICA7CgogICAgICAgIAogICAgCiAgICAKICAgICAgICAgICAgdmFyIG1hcmtlcl81ZGM4YWFjNzJkZmU0YWY1YmVjOTcxMGQ1ZTRkYjhhMSA9IEwubWFya2VyKAogICAgICAgICAgICAgICAgWzM3Ljc1NTk5NzczMzk4NTYsIC0xMjIuNDA5NDM1NjE3MTA2XSwKICAgICAgICAgICAgICAgIHt9CiAgICAgICAgICAgICkuYWRkVG8obWFwXzA0Y2YyYmMzNzU4MzRiMzk4ZmQzOGE2NDAzYjMxYzJkKTsKICAgICAgICAKICAgIAogICAgICAgIHZhciBwb3B1cF8wMDkzZDJlMjAyMjY0NjQ1YTQzMzRiYWM2MjY1MmE3ZiA9IEwucG9wdXAoeyJtYXhXaWR0aCI6ICIxMDAlIn0pOwoKICAgICAgICAKICAgICAgICAgICAgdmFyIGh0bWxfNWU3NjhjMDk1ZWJlNDNmYWJlZTcwNzMyNjU1NzZhMzYgPSAkKGA8ZGl2IGlkPSJodG1sXzVlNzY4YzA5NWViZTQzZmFiZWU3MDczMjY1NTc2YTM2IiBzdHlsZT0id2lkdGg6IDEwMC4wJTsgaGVpZ2h0OiAxMDAuMCU7Ij5PVEhFUiBPRkZFTlNFUzwvZGl2PmApWzBdOwogICAgICAgICAgICBwb3B1cF8wMDkzZDJlMjAyMjY0NjQ1YTQzMzRiYWM2MjY1MmE3Zi5zZXRDb250ZW50KGh0bWxfNWU3NjhjMDk1ZWJlNDNmYWJlZTcwNzMyNjU1NzZhMzYpOwogICAgICAgIAoKICAgICAgICBtYXJrZXJfNWRjOGFhYzcyZGZlNGFmNWJlYzk3MTBkNWU0ZGI4YTEuYmluZFBvcHVwKHBvcHVwXzAwOTNkMmUyMDIyNjQ2NDVhNDMzNGJhYzYyNjUyYTdmKQogICAgICAgIDsKCiAgICAgICAgCiAgICAKICAgIAogICAgICAgICAgICB2YXIgbWFya2VyXzA1ODhhN2M1YTc0OTRjNWNhNDI3MzU2ZDYwNzQwY2EzID0gTC5tYXJrZXIoCiAgICAgICAgICAgICAgICBbMzcuNzg3MDc5ODE0NDQ0MywgLTEyMi40MjU4ODMzNTgxNDhdLAogICAgICAgICAgICAgICAge30KICAgICAgICAgICAgKS5hZGRUbyhtYXBfMDRjZjJiYzM3NTgzNGIzOThmZDM4YTY0MDNiMzFjMmQpOwogICAgICAgIAogICAgCiAgICAgICAgdmFyIHBvcHVwX2ZkZDg2YTc3N2FhZDQyYTc5MzI3YWE1YThlY2NjNGI4ID0gTC5wb3B1cCh7Im1heFdpZHRoIjogIjEwMCUifSk7CgogICAgICAgIAogICAgICAgICAgICB2YXIgaHRtbF84ZGE5MTg3NTAwNDY0YjlhODk2ZjJlOTFlYjAxNjcwMyA9ICQoYDxkaXYgaWQ9Imh0bWxfOGRhOTE4NzUwMDQ2NGI5YTg5NmYyZTkxZWIwMTY3MDMiIHN0eWxlPSJ3aWR0aDogMTAwLjAlOyBoZWlnaHQ6IDEwMC4wJTsiPk5PTi1DUklNSU5BTDwvZGl2PmApWzBdOwogICAgICAgICAgICBwb3B1cF9mZGQ4NmE3NzdhYWQ0MmE3OTMyN2FhNWE4ZWNjYzRiOC5zZXRDb250ZW50KGh0bWxfOGRhOTE4NzUwMDQ2NGI5YTg5NmYyZTkxZWIwMTY3MDMpOwogICAgICAgIAoKICAgICAgICBtYXJrZXJfMDU4OGE3YzVhNzQ5NGM1Y2E0MjczNTZkNjA3NDBjYTMuYmluZFBvcHVwKHBvcHVwX2ZkZDg2YTc3N2FhZDQyYTc5MzI3YWE1YThlY2NjNGI4KQogICAgICAgIDsKCiAgICAgICAgCiAgICAKICAgIAogICAgICAgICAgICB2YXIgbWFya2VyX2YzNTA4MjM1MTQ4ODQyZTFhODMzOTA3ZTI0MTg3MDgxID0gTC5tYXJrZXIoCiAgICAgICAgICAgICAgICBbMzcuNzM2MDM3NDQ2Njg2MjA0LCAtMTIyLjQxNTEyNjU0MzAwMTAxXSwKICAgICAgICAgICAgICAgIHt9CiAgICAgICAgICAgICkuYWRkVG8obWFwXzA0Y2YyYmMzNzU4MzRiMzk4ZmQzOGE2NDAzYjMxYzJkKTsKICAgICAgICAKICAgIAogICAgICAgIHZhciBwb3B1cF8zZTA0YzZlYTAwMDM0NzAxYjM4ZGVhYzU5OWMwNzc3MyA9IEwucG9wdXAoeyJtYXhXaWR0aCI6ICIxMDAlIn0pOwoKICAgICAgICAKICAgICAgICAgICAgdmFyIGh0bWxfOGY2OWJhMjM3ZTAxNDNmNDgzMTY1N2Y0YWQ4ZTI0ZGEgPSAkKGA8ZGl2IGlkPSJodG1sXzhmNjliYTIzN2UwMTQzZjQ4MzE2NTdmNGFkOGUyNGRhIiBzdHlsZT0id2lkdGg6IDEwMC4wJTsgaGVpZ2h0OiAxMDAuMCU7Ij5OT04tQ1JJTUlOQUw8L2Rpdj5gKVswXTsKICAgICAgICAgICAgcG9wdXBfM2UwNGM2ZWEwMDAzNDcwMWIzOGRlYWM1OTljMDc3NzMuc2V0Q29udGVudChodG1sXzhmNjliYTIzN2UwMTQzZjQ4MzE2NTdmNGFkOGUyNGRhKTsKICAgICAgICAKCiAgICAgICAgbWFya2VyX2YzNTA4MjM1MTQ4ODQyZTFhODMzOTA3ZTI0MTg3MDgxLmJpbmRQb3B1cChwb3B1cF8zZTA0YzZlYTAwMDM0NzAxYjM4ZGVhYzU5OWMwNzc3MykKICAgICAgICA7CgogICAgICAgIAogICAgCiAgICAKICAgICAgICAgICAgdmFyIG1hcmtlcl9kYWFiMDk5ZWNkNTk0ZDMwOGQ0YTRkYTE4NDE0MDIxOSA9IEwubWFya2VyKAogICAgICAgICAgICAgICAgWzM3LjcxMjc2Nzg4NDgyMSwgLTEyMi40MzE5MjgwMTEwODldLAogICAgICAgICAgICAgICAge30KICAgICAgICAgICAgKS5hZGRUbyhtYXBfMDRjZjJiYzM3NTgzNGIzOThmZDM4YTY0MDNiMzFjMmQpOwogICAgICAgIAogICAgCiAgICAgICAgdmFyIHBvcHVwXzY0ZDk5OTdkZGRlZTQ3OTY5MWQwYWI2ZDdiMDM0M2RkID0gTC5wb3B1cCh7Im1heFdpZHRoIjogIjEwMCUifSk7CgogICAgICAgIAogICAgICAgICAgICB2YXIgaHRtbF85OWE3YzNhMjkxYWQ0NDJlYjhhZDUzMzIxYjNkZDdiNCA9ICQoYDxkaXYgaWQ9Imh0bWxfOTlhN2MzYTI5MWFkNDQyZWI4YWQ1MzMyMWIzZGQ3YjQiIHN0eWxlPSJ3aWR0aDogMTAwLjAlOyBoZWlnaHQ6IDEwMC4wJTsiPk9USEVSIE9GRkVOU0VTPC9kaXY+YClbMF07CiAgICAgICAgICAgIHBvcHVwXzY0ZDk5OTdkZGRlZTQ3OTY5MWQwYWI2ZDdiMDM0M2RkLnNldENvbnRlbnQoaHRtbF85OWE3YzNhMjkxYWQ0NDJlYjhhZDUzMzIxYjNkZDdiNCk7CiAgICAgICAgCgogICAgICAgIG1hcmtlcl9kYWFiMDk5ZWNkNTk0ZDMwOGQ0YTRkYTE4NDE0MDIxOS5iaW5kUG9wdXAocG9wdXBfNjRkOTk5N2RkZGVlNDc5NjkxZDBhYjZkN2IwMzQzZGQpCiAgICAgICAgOwoKICAgICAgICAKICAgIAogICAgCiAgICAgICAgICAgIHZhciBtYXJrZXJfNTJhMmFkNzZhYzg3NDY2NDg3NmRmMjQ5NjY2YTRmNjEgPSBMLm1hcmtlcigKICAgICAgICAgICAgICAgIFszNy43ODk1NzEwMjU1ODYzLCAtMTIyLjQwMjE2MzcxMzYxOF0sCiAgICAgICAgICAgICAgICB7fQogICAgICAgICAgICApLmFkZFRvKG1hcF8wNGNmMmJjMzc1ODM0YjM5OGZkMzhhNjQwM2IzMWMyZCk7CiAgICAgICAgCiAgICAKICAgICAgICB2YXIgcG9wdXBfOWEwYTkyYmMwMzlmNDhjYmFmOTExYTFjODQ4MjUwZmMgPSBMLnBvcHVwKHsibWF4V2lkdGgiOiAiMTAwJSJ9KTsKCiAgICAgICAgCiAgICAgICAgICAgIHZhciBodG1sXzQzYWI4YjY1N2Y0ZTRhYTJhYjk2ZjQ5ZWI0ZmMxMDYyID0gJChgPGRpdiBpZD0iaHRtbF80M2FiOGI2NTdmNGU0YWEyYWI5NmY0OWViNGZjMTA2MiIgc3R5bGU9IndpZHRoOiAxMDAuMCU7IGhlaWdodDogMTAwLjAlOyI+RFJVTktFTk5FU1M8L2Rpdj5gKVswXTsKICAgICAgICAgICAgcG9wdXBfOWEwYTkyYmMwMzlmNDhjYmFmOTExYTFjODQ4MjUwZmMuc2V0Q29udGVudChodG1sXzQzYWI4YjY1N2Y0ZTRhYTJhYjk2ZjQ5ZWI0ZmMxMDYyKTsKICAgICAgICAKCiAgICAgICAgbWFya2VyXzUyYTJhZDc2YWM4NzQ2NjQ4NzZkZjI0OTY2NmE0ZjYxLmJpbmRQb3B1cChwb3B1cF85YTBhOTJiYzAzOWY0OGNiYWY5MTFhMWM4NDgyNTBmYykKICAgICAgICA7CgogICAgICAgIAogICAgCiAgICAKICAgICAgICAgICAgdmFyIG1hcmtlcl8wYWFkNmYwZjRlODk0NjA0OTVmNGU3M2RhNTRiNGQ3YSA9IEwubWFya2VyKAogICAgICAgICAgICAgICAgWzM3LjczMDc0MjkxNjk1NTksIC0xMjIuNDI5MzA2NzI4Mzc2XSwKICAgICAgICAgICAgICAgIHt9CiAgICAgICAgICAgICkuYWRkVG8obWFwXzA0Y2YyYmMzNzU4MzRiMzk4ZmQzOGE2NDAzYjMxYzJkKTsKICAgICAgICAKICAgIAogICAgICAgIHZhciBwb3B1cF83ZDkwZDQ2YzU3YmI0OTI2OTdiMmJlNTIwZDk5ZTI1MiA9IEwucG9wdXAoeyJtYXhXaWR0aCI6ICIxMDAlIn0pOwoKICAgICAgICAKICAgICAgICAgICAgdmFyIGh0bWxfMjBhYjNiMjQyYTljNDVkYjgzZTZjMTE3OTk2ZGJhZmUgPSAkKGA8ZGl2IGlkPSJodG1sXzIwYWIzYjI0MmE5YzQ1ZGI4M2U2YzExNzk5NmRiYWZlIiBzdHlsZT0id2lkdGg6IDEwMC4wJTsgaGVpZ2h0OiAxMDAuMCU7Ij5PVEhFUiBPRkZFTlNFUzwvZGl2PmApWzBdOwogICAgICAgICAgICBwb3B1cF83ZDkwZDQ2YzU3YmI0OTI2OTdiMmJlNTIwZDk5ZTI1Mi5zZXRDb250ZW50KGh0bWxfMjBhYjNiMjQyYTljNDVkYjgzZTZjMTE3OTk2ZGJhZmUpOwogICAgICAgIAoKICAgICAgICBtYXJrZXJfMGFhZDZmMGY0ZTg5NDYwNDk1ZjRlNzNkYTU0YjRkN2EuYmluZFBvcHVwKHBvcHVwXzdkOTBkNDZjNTdiYjQ5MjY5N2IyYmU1MjBkOTllMjUyKQogICAgICAgIDsKCiAgICAgICAgCiAgICAKICAgIAogICAgICAgICAgICB2YXIgbWFya2VyX2YyZGIyYjExYjU4OTRlYzk4MWYzY2MyMTlkMzE3OTVlID0gTC5tYXJrZXIoCiAgICAgICAgICAgICAgICBbMzcuNzgzODM2NTU2NTM0Nzk0LCAtMTIyLjQxMzc5MDk3Mjc4MDk5XSwKICAgICAgICAgICAgICAgIHt9CiAgICAgICAgICAgICkuYWRkVG8obWFwXzA0Y2YyYmMzNzU4MzRiMzk4ZmQzOGE2NDAzYjMxYzJkKTsKICAgICAgICAKICAgIAogICAgICAgIHZhciBwb3B1cF8zMmU3M2Y1ZTU2N2M0ZmM2YjAzZDAyOGZjNGRjN2U4OCA9IEwucG9wdXAoeyJtYXhXaWR0aCI6ICIxMDAlIn0pOwoKICAgICAgICAKICAgICAgICAgICAgdmFyIGh0bWxfYTY2ZGZiZGFkMDJkNDMzMmE2NzI2ZWNlYjM4NjQ0MmYgPSAkKGA8ZGl2IGlkPSJodG1sX2E2NmRmYmRhZDAyZDQzMzJhNjcyNmVjZWIzODY0NDJmIiBzdHlsZT0id2lkdGg6IDEwMC4wJTsgaGVpZ2h0OiAxMDAuMCU7Ij5WQU5EQUxJU008L2Rpdj5gKVswXTsKICAgICAgICAgICAgcG9wdXBfMzJlNzNmNWU1NjdjNGZjNmIwM2QwMjhmYzRkYzdlODguc2V0Q29udGVudChodG1sX2E2NmRmYmRhZDAyZDQzMzJhNjcyNmVjZWIzODY0NDJmKTsKICAgICAgICAKCiAgICAgICAgbWFya2VyX2YyZGIyYjExYjU4OTRlYzk4MWYzY2MyMTlkMzE3OTVlLmJpbmRQb3B1cChwb3B1cF8zMmU3M2Y1ZTU2N2M0ZmM2YjAzZDAyOGZjNGRjN2U4OCkKICAgICAgICA7CgogICAgICAgIAogICAgCiAgICAKICAgICAgICAgICAgdmFyIG1hcmtlcl9lMzFkNGFmZDk0NDI0MDlkOGRlZGM4OGU1NjdmZDkxYSA9IEwubWFya2VyKAogICAgICAgICAgICAgICAgWzM3LjczMDc0MjkxNjk1NTksIC0xMjIuNDI5MzA2NzI4Mzc2XSwKICAgICAgICAgICAgICAgIHt9CiAgICAgICAgICAgICkuYWRkVG8obWFwXzA0Y2YyYmMzNzU4MzRiMzk4ZmQzOGE2NDAzYjMxYzJkKTsKICAgICAgICAKICAgIAogICAgICAgIHZhciBwb3B1cF8yY2ViZDM4YTdlZmI0YTU1OTcxNmNmN2VkNDc5ZjE4ZSA9IEwucG9wdXAoeyJtYXhXaWR0aCI6ICIxMDAlIn0pOwoKICAgICAgICAKICAgICAgICAgICAgdmFyIGh0bWxfNDAyZDMyNzZjYjU2NGFlMmIyYTkxMDAwMDM0NDI4YzYgPSAkKGA8ZGl2IGlkPSJodG1sXzQwMmQzMjc2Y2I1NjRhZTJiMmE5MTAwMDAzNDQyOGM2IiBzdHlsZT0id2lkdGg6IDEwMC4wJTsgaGVpZ2h0OiAxMDAuMCU7Ij5PVEhFUiBPRkZFTlNFUzwvZGl2PmApWzBdOwogICAgICAgICAgICBwb3B1cF8yY2ViZDM4YTdlZmI0YTU1OTcxNmNmN2VkNDc5ZjE4ZS5zZXRDb250ZW50KGh0bWxfNDAyZDMyNzZjYjU2NGFlMmIyYTkxMDAwMDM0NDI4YzYpOwogICAgICAgIAoKICAgICAgICBtYXJrZXJfZTMxZDRhZmQ5NDQyNDA5ZDhkZWRjODhlNTY3ZmQ5MWEuYmluZFBvcHVwKHBvcHVwXzJjZWJkMzhhN2VmYjRhNTU5NzE2Y2Y3ZWQ0NzlmMThlKQogICAgICAgIDsKCiAgICAgICAgCiAgICAKICAgIAogICAgICAgICAgICB2YXIgbWFya2VyXzk3MmQ1YTAxNjA1ODQ3NmM4MTlkYjllZGM3NjIzMzVlID0gTC5tYXJrZXIoCiAgICAgICAgICAgICAgICBbMzcuNzM3MzYyMzYwNTIxMjk2LCAtMTIyLjQyMjA2NzE4NDkzN10sCiAgICAgICAgICAgICAgICB7fQogICAgICAgICAgICApLmFkZFRvKG1hcF8wNGNmMmJjMzc1ODM0YjM5OGZkMzhhNjQwM2IzMWMyZCk7CiAgICAgICAgCiAgICAKICAgICAgICB2YXIgcG9wdXBfMTJlODNmZGNhYzJlNGFjZTk4ZjI2YjdkN2QwZjRjNGYgPSBMLnBvcHVwKHsibWF4V2lkdGgiOiAiMTAwJSJ9KTsKCiAgICAgICAgCiAgICAgICAgICAgIHZhciBodG1sXzlhOWYyNWViODY5OTRjYjQ4NGZhN2IzNWNiMTA0MjdiID0gJChgPGRpdiBpZD0iaHRtbF85YTlmMjVlYjg2OTk0Y2I0ODRmYTdiMzVjYjEwNDI3YiIgc3R5bGU9IndpZHRoOiAxMDAuMCU7IGhlaWdodDogMTAwLjAlOyI+U0VDT05EQVJZIENPREVTPC9kaXY+YClbMF07CiAgICAgICAgICAgIHBvcHVwXzEyZTgzZmRjYWMyZTRhY2U5OGYyNmI3ZDdkMGY0YzRmLnNldENvbnRlbnQoaHRtbF85YTlmMjVlYjg2OTk0Y2I0ODRmYTdiMzVjYjEwNDI3Yik7CiAgICAgICAgCgogICAgICAgIG1hcmtlcl85NzJkNWEwMTYwNTg0NzZjODE5ZGI5ZWRjNzYyMzM1ZS5iaW5kUG9wdXAocG9wdXBfMTJlODNmZGNhYzJlNGFjZTk4ZjI2YjdkN2QwZjRjNGYpCiAgICAgICAgOwoKICAgICAgICAKICAgIAogICAgCiAgICAgICAgICAgIHZhciBtYXJrZXJfOTU0ZjE2ZGI3ODEwNGUyZDg3YWQ5MTc5OWE2OTk5YTkgPSBMLm1hcmtlcigKICAgICAgICAgICAgICAgIFszNy43MzczNjIzNjA1MjEyOTYsIC0xMjIuNDIyMDY3MTg0OTM3XSwKICAgICAgICAgICAgICAgIHt9CiAgICAgICAgICAgICkuYWRkVG8obWFwXzA0Y2YyYmMzNzU4MzRiMzk4ZmQzOGE2NDAzYjMxYzJkKTsKICAgICAgICAKICAgIAogICAgICAgIHZhciBwb3B1cF9lNjVlMmUxNzQwNzg0MzI3YTc4MTAxNzAyNjUwYThlNSA9IEwucG9wdXAoeyJtYXhXaWR0aCI6ICIxMDAlIn0pOwoKICAgICAgICAKICAgICAgICAgICAgdmFyIGh0bWxfZTNlYzc2ZmJlYWYwNGE5M2E3N2FkOGIwNzYwZTZlMjAgPSAkKGA8ZGl2IGlkPSJodG1sX2UzZWM3NmZiZWFmMDRhOTNhNzdhZDhiMDc2MGU2ZTIwIiBzdHlsZT0id2lkdGg6IDEwMC4wJTsgaGVpZ2h0OiAxMDAuMCU7Ij5WQU5EQUxJU008L2Rpdj5gKVswXTsKICAgICAgICAgICAgcG9wdXBfZTY1ZTJlMTc0MDc4NDMyN2E3ODEwMTcwMjY1MGE4ZTUuc2V0Q29udGVudChodG1sX2UzZWM3NmZiZWFmMDRhOTNhNzdhZDhiMDc2MGU2ZTIwKTsKICAgICAgICAKCiAgICAgICAgbWFya2VyXzk1NGYxNmRiNzgxMDRlMmQ4N2FkOTE3OTlhNjk5OWE5LmJpbmRQb3B1cChwb3B1cF9lNjVlMmUxNzQwNzg0MzI3YTc4MTAxNzAyNjUwYThlNSkKICAgICAgICA7CgogICAgICAgIAogICAgCiAgICAKICAgICAgICAgICAgdmFyIG1hcmtlcl9mYmY3ZTIxYjNhOGI0OThmODVjY2U3YjljMWQwNzMyMCA9IEwubWFya2VyKAogICAgICAgICAgICAgICAgWzM3Ljc4NTk5ODgzMjM3OTc5NiwgLTEyMi40MTE3NDczNzE5MjRdLAogICAgICAgICAgICAgICAge30KICAgICAgICAgICAgKS5hZGRUbyhtYXBfMDRjZjJiYzM3NTgzNGIzOThmZDM4YTY0MDNiMzFjMmQpOwogICAgICAgIAogICAgCiAgICAgICAgdmFyIHBvcHVwXzdmNDE2MTFjN2YyZjQ5N2U4YWQ0NTAyZTk5MDc2YTdmID0gTC5wb3B1cCh7Im1heFdpZHRoIjogIjEwMCUifSk7CgogICAgICAgIAogICAgICAgICAgICB2YXIgaHRtbF84MGE2NzM2NWUxNmE0NjI4YTFkZmE0YzcxYzhmODBkNSA9ICQoYDxkaXYgaWQ9Imh0bWxfODBhNjczNjVlMTZhNDYyOGExZGZhNGM3MWM4ZjgwZDUiIHN0eWxlPSJ3aWR0aDogMTAwLjAlOyBoZWlnaHQ6IDEwMC4wJTsiPlNVU1BJQ0lPVVMgT0NDPC9kaXY+YClbMF07CiAgICAgICAgICAgIHBvcHVwXzdmNDE2MTFjN2YyZjQ5N2U4YWQ0NTAyZTk5MDc2YTdmLnNldENvbnRlbnQoaHRtbF84MGE2NzM2NWUxNmE0NjI4YTFkZmE0YzcxYzhmODBkNSk7CiAgICAgICAgCgogICAgICAgIG1hcmtlcl9mYmY3ZTIxYjNhOGI0OThmODVjY2U3YjljMWQwNzMyMC5iaW5kUG9wdXAocG9wdXBfN2Y0MTYxMWM3ZjJmNDk3ZThhZDQ1MDJlOTkwNzZhN2YpCiAgICAgICAgOwoKICAgICAgICAKICAgIAogICAgCiAgICAgICAgICAgIHZhciBtYXJrZXJfZGE5MDM2ODZiM2I0NDJkOWI5YzBhODIxZTQzMTgyMjkgPSBMLm1hcmtlcigKICAgICAgICAgICAgICAgIFszNy43NjMzNzU4MDU4MDU5LCAtMTIyLjQyMDQzNDcyNDU1Mjk5XSwKICAgICAgICAgICAgICAgIHt9CiAgICAgICAgICAgICkuYWRkVG8obWFwXzA0Y2YyYmMzNzU4MzRiMzk4ZmQzOGE2NDAzYjMxYzJkKTsKICAgICAgICAKICAgIAogICAgICAgIHZhciBwb3B1cF8xZTAzY2E2MDJlNjU0MDAyYjc5MTg1ZjA5ZTM2NDZmMyA9IEwucG9wdXAoeyJtYXhXaWR0aCI6ICIxMDAlIn0pOwoKICAgICAgICAKICAgICAgICAgICAgdmFyIGh0bWxfNzM4MDRiOTUwNDY0NGQ3YzhmNTgzNGEyODE0MTVlMmIgPSAkKGA8ZGl2IGlkPSJodG1sXzczODA0Yjk1MDQ2NDRkN2M4ZjU4MzRhMjgxNDE1ZTJiIiBzdHlsZT0id2lkdGg6IDEwMC4wJTsgaGVpZ2h0OiAxMDAuMCU7Ij5PVEhFUiBPRkZFTlNFUzwvZGl2PmApWzBdOwogICAgICAgICAgICBwb3B1cF8xZTAzY2E2MDJlNjU0MDAyYjc5MTg1ZjA5ZTM2NDZmMy5zZXRDb250ZW50KGh0bWxfNzM4MDRiOTUwNDY0NGQ3YzhmNTgzNGEyODE0MTVlMmIpOwogICAgICAgIAoKICAgICAgICBtYXJrZXJfZGE5MDM2ODZiM2I0NDJkOWI5YzBhODIxZTQzMTgyMjkuYmluZFBvcHVwKHBvcHVwXzFlMDNjYTYwMmU2NTQwMDJiNzkxODVmMDllMzY0NmYzKQogICAgICAgIDsKCiAgICAgICAgCiAgICAKICAgIAogICAgICAgICAgICB2YXIgbWFya2VyXzI1NGJkNGYzMTg5MjQyODBhODgyZjZjZGI2M2RmMDVjID0gTC5tYXJrZXIoCiAgICAgICAgICAgICAgICBbMzcuNzg1MDIyNjYyMjc4NiwgLTEyMi40MTE5ODc2NDM1OTUwMV0sCiAgICAgICAgICAgICAgICB7fQogICAgICAgICAgICApLmFkZFRvKG1hcF8wNGNmMmJjMzc1ODM0YjM5OGZkMzhhNjQwM2IzMWMyZCk7CiAgICAgICAgCiAgICAKICAgICAgICB2YXIgcG9wdXBfYWM1OTdmOWY5YmQ1NGIyYjhkMDUxYWFiZTcyZWFlNjkgPSBMLnBvcHVwKHsibWF4V2lkdGgiOiAiMTAwJSJ9KTsKCiAgICAgICAgCiAgICAgICAgICAgIHZhciBodG1sX2Q4NWQzZTZhZmQwZDRkZDE5MGNjMGQ3YTA1Y2RkOTllID0gJChgPGRpdiBpZD0iaHRtbF9kODVkM2U2YWZkMGQ0ZGQxOTBjYzBkN2EwNWNkZDk5ZSIgc3R5bGU9IndpZHRoOiAxMDAuMCU7IGhlaWdodDogMTAwLjAlOyI+Tk9OLUNSSU1JTkFMPC9kaXY+YClbMF07CiAgICAgICAgICAgIHBvcHVwX2FjNTk3ZjlmOWJkNTRiMmI4ZDA1MWFhYmU3MmVhZTY5LnNldENvbnRlbnQoaHRtbF9kODVkM2U2YWZkMGQ0ZGQxOTBjYzBkN2EwNWNkZDk5ZSk7CiAgICAgICAgCgogICAgICAgIG1hcmtlcl8yNTRiZDRmMzE4OTI0MjgwYTg4MmY2Y2RiNjNkZjA1Yy5iaW5kUG9wdXAocG9wdXBfYWM1OTdmOWY5YmQ1NGIyYjhkMDUxYWFiZTcyZWFlNjkpCiAgICAgICAgOwoKICAgICAgICAKICAgIAogICAgCiAgICAgICAgICAgIHZhciBtYXJrZXJfNDI4MzU1M2QxNTY4NDFiMDhhZTAwYjBmYmU2YWIyOTUgPSBMLm1hcmtlcigKICAgICAgICAgICAgICAgIFszNy43NzQ2MjA2NDkxMDY0OTUsIC0xMjIuNTAwMzgwNDI3OTE1XSwKICAgICAgICAgICAgICAgIHt9CiAgICAgICAgICAgICkuYWRkVG8obWFwXzA0Y2YyYmMzNzU4MzRiMzk4ZmQzOGE2NDAzYjMxYzJkKTsKICAgICAgICAKICAgIAogICAgICAgIHZhciBwb3B1cF85ZWE0ZjAzZjcwODc0NmFhYTI3MTM0NWUzOWE2OTJlNCA9IEwucG9wdXAoeyJtYXhXaWR0aCI6ICIxMDAlIn0pOwoKICAgICAgICAKICAgICAgICAgICAgdmFyIGh0bWxfMjAzMDc3MjQ3NjQ3NDA5ZjgyNDg0NTMyNzExYWE3NjEgPSAkKGA8ZGl2IGlkPSJodG1sXzIwMzA3NzI0NzY0NzQwOWY4MjQ4NDUzMjcxMWFhNzYxIiBzdHlsZT0id2lkdGg6IDEwMC4wJTsgaGVpZ2h0OiAxMDAuMCU7Ij5PVEhFUiBPRkZFTlNFUzwvZGl2PmApWzBdOwogICAgICAgICAgICBwb3B1cF85ZWE0ZjAzZjcwODc0NmFhYTI3MTM0NWUzOWE2OTJlNC5zZXRDb250ZW50KGh0bWxfMjAzMDc3MjQ3NjQ3NDA5ZjgyNDg0NTMyNzExYWE3NjEpOwogICAgICAgIAoKICAgICAgICBtYXJrZXJfNDI4MzU1M2QxNTY4NDFiMDhhZTAwYjBmYmU2YWIyOTUuYmluZFBvcHVwKHBvcHVwXzllYTRmMDNmNzA4NzQ2YWFhMjcxMzQ1ZTM5YTY5MmU0KQogICAgICAgIDsKCiAgICAgICAgCiAgICAKICAgIAogICAgICAgICAgICB2YXIgbWFya2VyX2FlZTBjZTZkYzkzYTQyY2M5MDE3ZmZlMTIxOTkzNjY0ID0gTC5tYXJrZXIoCiAgICAgICAgICAgICAgICBbMzcuNzc1MTkxODI2NzIxNywgLTEyMi40NjY1NTg3ODA2ODNdLAogICAgICAgICAgICAgICAge30KICAgICAgICAgICAgKS5hZGRUbyhtYXBfMDRjZjJiYzM3NTgzNGIzOThmZDM4YTY0MDNiMzFjMmQpOwogICAgICAgIAogICAgCiAgICAgICAgdmFyIHBvcHVwXzc5NGM5YTQ4OWQ4ZjQxOGNhN2RiM2JkNjc4MmU1ZWNjID0gTC5wb3B1cCh7Im1heFdpZHRoIjogIjEwMCUifSk7CgogICAgICAgIAogICAgICAgICAgICB2YXIgaHRtbF9hOTIwZWJhOWI2ZDM0ODU0ODI4NzM5NDAwMDAzNjNmZCA9ICQoYDxkaXYgaWQ9Imh0bWxfYTkyMGViYTliNmQzNDg1NDgyODczOTQwMDAwMzYzZmQiIHN0eWxlPSJ3aWR0aDogMTAwLjAlOyBoZWlnaHQ6IDEwMC4wJTsiPlJPQkJFUlk8L2Rpdj5gKVswXTsKICAgICAgICAgICAgcG9wdXBfNzk0YzlhNDg5ZDhmNDE4Y2E3ZGIzYmQ2NzgyZTVlY2Muc2V0Q29udGVudChodG1sX2E5MjBlYmE5YjZkMzQ4NTQ4Mjg3Mzk0MDAwMDM2M2ZkKTsKICAgICAgICAKCiAgICAgICAgbWFya2VyX2FlZTBjZTZkYzkzYTQyY2M5MDE3ZmZlMTIxOTkzNjY0LmJpbmRQb3B1cChwb3B1cF83OTRjOWE0ODlkOGY0MThjYTdkYjNiZDY3ODJlNWVjYykKICAgICAgICA7CgogICAgICAgIAogICAgCiAgICAKICAgICAgICAgICAgdmFyIG1hcmtlcl8xNDlhYTU3NjllYzc0MzA5YmYxYjMyNmRjMjhiNWU1ZiA9IEwubWFya2VyKAogICAgICAgICAgICAgICAgWzM3Ljc0OTA4NDE3MjkwMjgsIC0xMjIuNDg2OTI1OTYwMTE0MDFdLAogICAgICAgICAgICAgICAge30KICAgICAgICAgICAgKS5hZGRUbyhtYXBfMDRjZjJiYzM3NTgzNGIzOThmZDM4YTY0MDNiMzFjMmQpOwogICAgICAgIAogICAgCiAgICAgICAgdmFyIHBvcHVwX2I0YTc0OWY3NzJlYjQ0MjdhMmExOGZkYTJhZTRlMGVlID0gTC5wb3B1cCh7Im1heFdpZHRoIjogIjEwMCUifSk7CgogICAgICAgIAogICAgICAgICAgICB2YXIgaHRtbF8wNTk5NjNhYWUwMjU0MmFlYTE5ZTNjNjgzNzgzNGFmMyA9ICQoYDxkaXYgaWQ9Imh0bWxfMDU5OTYzYWFlMDI1NDJhZWExOWUzYzY4Mzc4MzRhZjMiIHN0eWxlPSJ3aWR0aDogMTAwLjAlOyBoZWlnaHQ6IDEwMC4wJTsiPk9USEVSIE9GRkVOU0VTPC9kaXY+YClbMF07CiAgICAgICAgICAgIHBvcHVwX2I0YTc0OWY3NzJlYjQ0MjdhMmExOGZkYTJhZTRlMGVlLnNldENvbnRlbnQoaHRtbF8wNTk5NjNhYWUwMjU0MmFlYTE5ZTNjNjgzNzgzNGFmMyk7CiAgICAgICAgCgogICAgICAgIG1hcmtlcl8xNDlhYTU3NjllYzc0MzA5YmYxYjMyNmRjMjhiNWU1Zi5iaW5kUG9wdXAocG9wdXBfYjRhNzQ5Zjc3MmViNDQyN2EyYTE4ZmRhMmFlNGUwZWUpCiAgICAgICAgOwoKICAgICAgICAKICAgIAogICAgCiAgICAgICAgICAgIHZhciBtYXJrZXJfZjhiY2JlMTI4MWE5NDlhYWExNDk2OWIzYTBhZDFjYWEgPSBMLm1hcmtlcigKICAgICAgICAgICAgICAgIFszNy43Njg1MzYwMTIzNTgzLCAtMTIyLjQxNTYxNjMzODMxOTk5XSwKICAgICAgICAgICAgICAgIHt9CiAgICAgICAgICAgICkuYWRkVG8obWFwXzA0Y2YyYmMzNzU4MzRiMzk4ZmQzOGE2NDAzYjMxYzJkKTsKICAgICAgICAKICAgIAogICAgICAgIHZhciBwb3B1cF9jNTc0OTM0NTAzNzE0NzFiOTRkYzUzOTVmODYyNTYyMSA9IEwucG9wdXAoeyJtYXhXaWR0aCI6ICIxMDAlIn0pOwoKICAgICAgICAKICAgICAgICAgICAgdmFyIGh0bWxfMGU2YjJhNWE5ZjlhNGZkM2E5ZjU5NDNmODVhODc1ODggPSAkKGA8ZGl2IGlkPSJodG1sXzBlNmIyYTVhOWY5YTRmZDNhOWY1OTQzZjg1YTg3NTg4IiBzdHlsZT0id2lkdGg6IDEwMC4wJTsgaGVpZ2h0OiAxMDAuMCU7Ij5OT04tQ1JJTUlOQUw8L2Rpdj5gKVswXTsKICAgICAgICAgICAgcG9wdXBfYzU3NDkzNDUwMzcxNDcxYjk0ZGM1Mzk1Zjg2MjU2MjEuc2V0Q29udGVudChodG1sXzBlNmIyYTVhOWY5YTRmZDNhOWY1OTQzZjg1YTg3NTg4KTsKICAgICAgICAKCiAgICAgICAgbWFya2VyX2Y4YmNiZTEyODFhOTQ5YWFhMTQ5NjliM2EwYWQxY2FhLmJpbmRQb3B1cChwb3B1cF9jNTc0OTM0NTAzNzE0NzFiOTRkYzUzOTVmODYyNTYyMSkKICAgICAgICA7CgogICAgICAgIAogICAgCiAgICAKICAgICAgICAgICAgdmFyIG1hcmtlcl82OTBkM2Y1ZDNjNWQ0MjkzOWVkZjY5YTVjOGY4NzE4MiA9IEwubWFya2VyKAogICAgICAgICAgICAgICAgWzM3Ljc2NDQyOTc3MTQwNzQsIC0xMjIuNDQ5NzUxNjUyNTYzXSwKICAgICAgICAgICAgICAgIHt9CiAgICAgICAgICAgICkuYWRkVG8obWFwXzA0Y2YyYmMzNzU4MzRiMzk4ZmQzOGE2NDAzYjMxYzJkKTsKICAgICAgICAKICAgIAogICAgICAgIHZhciBwb3B1cF9hMDE3MGI4YTA0ZTM0MzA0YjJhMDBhMTEyNzMyOTFmMSA9IEwucG9wdXAoeyJtYXhXaWR0aCI6ICIxMDAlIn0pOwoKICAgICAgICAKICAgICAgICAgICAgdmFyIGh0bWxfYzU0NTU1ODEyMmE0NGQ4ODhhMzUxY2FlNTAyODc2MzggPSAkKGA8ZGl2IGlkPSJodG1sX2M1NDU1NTgxMjJhNDRkODg4YTM1MWNhZTUwMjg3NjM4IiBzdHlsZT0id2lkdGg6IDEwMC4wJTsgaGVpZ2h0OiAxMDAuMCU7Ij5CVVJHTEFSWTwvZGl2PmApWzBdOwogICAgICAgICAgICBwb3B1cF9hMDE3MGI4YTA0ZTM0MzA0YjJhMDBhMTEyNzMyOTFmMS5zZXRDb250ZW50KGh0bWxfYzU0NTU1ODEyMmE0NGQ4ODhhMzUxY2FlNTAyODc2MzgpOwogICAgICAgIAoKICAgICAgICBtYXJrZXJfNjkwZDNmNWQzYzVkNDI5MzllZGY2OWE1YzhmODcxODIuYmluZFBvcHVwKHBvcHVwX2EwMTcwYjhhMDRlMzQzMDRiMmEwMGExMTI3MzI5MWYxKQogICAgICAgIDsKCiAgICAgICAgCiAgICAKICAgIAogICAgICAgICAgICB2YXIgbWFya2VyX2IyMjE0MzVhYThjNDRhZGViNTVmNDllZDQ4MWEzNDEzID0gTC5tYXJrZXIoCiAgICAgICAgICAgICAgICBbMzcuNzY0NDI5NzcxNDA3NCwgLTEyMi40NDk3NTE2NTI1NjNdLAogICAgICAgICAgICAgICAge30KICAgICAgICAgICAgKS5hZGRUbyhtYXBfMDRjZjJiYzM3NTgzNGIzOThmZDM4YTY0MDNiMzFjMmQpOwogICAgICAgIAogICAgCiAgICAgICAgdmFyIHBvcHVwX2QwZWNlZDE2ODMxZjQ4OTdhZGFkYTBiMTEwODIyYTAyID0gTC5wb3B1cCh7Im1heFdpZHRoIjogIjEwMCUifSk7CgogICAgICAgIAogICAgICAgICAgICB2YXIgaHRtbF82YzNhYjU4NmEwNmY0NjAzODVhMmYzZWYxMGZjZGNjZSA9ICQoYDxkaXYgaWQ9Imh0bWxfNmMzYWI1ODZhMDZmNDYwMzg1YTJmM2VmMTBmY2RjY2UiIHN0eWxlPSJ3aWR0aDogMTAwLjAlOyBoZWlnaHQ6IDEwMC4wJTsiPkxBUkNFTlkvVEhFRlQ8L2Rpdj5gKVswXTsKICAgICAgICAgICAgcG9wdXBfZDBlY2VkMTY4MzFmNDg5N2FkYWRhMGIxMTA4MjJhMDIuc2V0Q29udGVudChodG1sXzZjM2FiNTg2YTA2ZjQ2MDM4NWEyZjNlZjEwZmNkY2NlKTsKICAgICAgICAKCiAgICAgICAgbWFya2VyX2IyMjE0MzVhYThjNDRhZGViNTVmNDllZDQ4MWEzNDEzLmJpbmRQb3B1cChwb3B1cF9kMGVjZWQxNjgzMWY0ODk3YWRhZGEwYjExMDgyMmEwMikKICAgICAgICA7CgogICAgICAgIAogICAgCiAgICAKICAgICAgICAgICAgdmFyIG1hcmtlcl9mNGYyYTVjMjRjYmU0MTIzYjgwYTY4ZGFhOWZlYWMyNyA9IEwubWFya2VyKAogICAgICAgICAgICAgICAgWzM3LjczNTI2ODE0NjkwODM5NiwgLTEyMi40NzI3MTU3NTk2MzFdLAogICAgICAgICAgICAgICAge30KICAgICAgICAgICAgKS5hZGRUbyhtYXBfMDRjZjJiYzM3NTgzNGIzOThmZDM4YTY0MDNiMzFjMmQpOwogICAgICAgIAogICAgCiAgICAgICAgdmFyIHBvcHVwX2E3OGRlN2NkZjBiNDQxMWRiYzk2OTJmZmI3ODdiNDhlID0gTC5wb3B1cCh7Im1heFdpZHRoIjogIjEwMCUifSk7CgogICAgICAgIAogICAgICAgICAgICB2YXIgaHRtbF81ZmIyZWJhMmQyOWU0ZWJiODA5NzE0NDAwZjY2OThmNSA9ICQoYDxkaXYgaWQ9Imh0bWxfNWZiMmViYTJkMjllNGViYjgwOTcxNDQwMGY2Njk4ZjUiIHN0eWxlPSJ3aWR0aDogMTAwLjAlOyBoZWlnaHQ6IDEwMC4wJTsiPkxBUkNFTlkvVEhFRlQ8L2Rpdj5gKVswXTsKICAgICAgICAgICAgcG9wdXBfYTc4ZGU3Y2RmMGI0NDExZGJjOTY5MmZmYjc4N2I0OGUuc2V0Q29udGVudChodG1sXzVmYjJlYmEyZDI5ZTRlYmI4MDk3MTQ0MDBmNjY5OGY1KTsKICAgICAgICAKCiAgICAgICAgbWFya2VyX2Y0ZjJhNWMyNGNiZTQxMjNiODBhNjhkYWE5ZmVhYzI3LmJpbmRQb3B1cChwb3B1cF9hNzhkZTdjZGYwYjQ0MTFkYmM5NjkyZmZiNzg3YjQ4ZSkKICAgICAgICA7CgogICAgICAgIAogICAgCiAgICAKICAgICAgICAgICAgdmFyIGZlYXR1cmVfZ3JvdXBfODNmNzc2ZmZjNDgwNDE5YzkzMWIyMzM3Mzc4ZWFmNGUgPSBMLmZlYXR1cmVHcm91cCgKICAgICAgICAgICAgICAgIHt9CiAgICAgICAgICAgICkuYWRkVG8obWFwXzA0Y2YyYmMzNzU4MzRiMzk4ZmQzOGE2NDAzYjMxYzJkKTsKICAgICAgICAKICAgIAogICAgICAgICAgICB2YXIgY2lyY2xlX21hcmtlcl8zOTIzYjIxMzdhOWM0MjA0YWFiOTQyZGYxNzdiOGVmMCA9IEwuY2lyY2xlTWFya2VyKAogICAgICAgICAgICAgICAgWzM3Ljc3NTQyMDcwNjcxMSwgLTEyMi40MDM0MDQ3OTE0Nzg5OV0sCiAgICAgICAgICAgICAgICB7ImJ1YmJsaW5nTW91c2VFdmVudHMiOiB0cnVlLCAiY29sb3IiOiAieWVsbG93IiwgImRhc2hBcnJheSI6IG51bGwsICJkYXNoT2Zmc2V0IjogbnVsbCwgImZpbGwiOiB0cnVlLCAiZmlsbENvbG9yIjogImJsdWUiLCAiZmlsbE9wYWNpdHkiOiAwLjYsICJmaWxsUnVsZSI6ICJldmVub2RkIiwgImxpbmVDYXAiOiAicm91bmQiLCAibGluZUpvaW4iOiAicm91bmQiLCAib3BhY2l0eSI6IDEuMCwgInJhZGl1cyI6IDUsICJzdHJva2UiOiB0cnVlLCAid2VpZ2h0IjogM30KICAgICAgICAgICAgKS5hZGRUbyhmZWF0dXJlX2dyb3VwXzgzZjc3NmZmYzQ4MDQxOWM5MzFiMjMzNzM3OGVhZjRlKTsKICAgICAgICAKICAgIAogICAgICAgICAgICB2YXIgY2lyY2xlX21hcmtlcl8wYTc3ZDYwZjNhOGI0OTlmOGJkNzEwMzRhOTQ2NjRiZiA9IEwuY2lyY2xlTWFya2VyKAogICAgICAgICAgICAgICAgWzM3Ljc3NTQyMDcwNjcxMSwgLTEyMi40MDM0MDQ3OTE0Nzg5OV0sCiAgICAgICAgICAgICAgICB7ImJ1YmJsaW5nTW91c2VFdmVudHMiOiB0cnVlLCAiY29sb3IiOiAieWVsbG93IiwgImRhc2hBcnJheSI6IG51bGwsICJkYXNoT2Zmc2V0IjogbnVsbCwgImZpbGwiOiB0cnVlLCAiZmlsbENvbG9yIjogImJsdWUiLCAiZmlsbE9wYWNpdHkiOiAwLjYsICJmaWxsUnVsZSI6ICJldmVub2RkIiwgImxpbmVDYXAiOiAicm91bmQiLCAibGluZUpvaW4iOiAicm91bmQiLCAib3BhY2l0eSI6IDEuMCwgInJhZGl1cyI6IDUsICJzdHJva2UiOiB0cnVlLCAid2VpZ2h0IjogM30KICAgICAgICAgICAgKS5hZGRUbyhmZWF0dXJlX2dyb3VwXzgzZjc3NmZmYzQ4MDQxOWM5MzFiMjMzNzM3OGVhZjRlKTsKICAgICAgICAKICAgIAogICAgICAgICAgICB2YXIgY2lyY2xlX21hcmtlcl83ZGQyY2Y1ZGUxMjc0OWU4YmQ2NmMxODUxNDk1MTM4MiA9IEwuY2lyY2xlTWFya2VyKAogICAgICAgICAgICAgICAgWzM3LjcyOTk4MDk2NzI5OTU5NiwgLTEyMi4zODg4NTYyMDQyOTJdLAogICAgICAgICAgICAgICAgeyJidWJibGluZ01vdXNlRXZlbnRzIjogdHJ1ZSwgImNvbG9yIjogInllbGxvdyIsICJkYXNoQXJyYXkiOiBudWxsLCAiZGFzaE9mZnNldCI6IG51bGwsICJmaWxsIjogdHJ1ZSwgImZpbGxDb2xvciI6ICJibHVlIiwgImZpbGxPcGFjaXR5IjogMC42LCAiZmlsbFJ1bGUiOiAiZXZlbm9kZCIsICJsaW5lQ2FwIjogInJvdW5kIiwgImxpbmVKb2luIjogInJvdW5kIiwgIm9wYWNpdHkiOiAxLjAsICJyYWRpdXMiOiA1LCAic3Ryb2tlIjogdHJ1ZSwgIndlaWdodCI6IDN9CiAgICAgICAgICAgICkuYWRkVG8oZmVhdHVyZV9ncm91cF84M2Y3NzZmZmM0ODA0MTljOTMxYjIzMzczNzhlYWY0ZSk7CiAgICAgICAgCiAgICAKICAgICAgICAgICAgdmFyIGNpcmNsZV9tYXJrZXJfN2I3NDY5YjRiYTE3NDY2MWIyMjU0YzY1OWIxMWZhMDcgPSBMLmNpcmNsZU1hcmtlcigKICAgICAgICAgICAgICAgIFszNy43ODU3ODgzNzY2ODg3OSwgLTEyMi40MTI5NzA1Mzc1OTFdLAogICAgICAgICAgICAgICAgeyJidWJibGluZ01vdXNlRXZlbnRzIjogdHJ1ZSwgImNvbG9yIjogInllbGxvdyIsICJkYXNoQXJyYXkiOiBudWxsLCAiZGFzaE9mZnNldCI6IG51bGwsICJmaWxsIjogdHJ1ZSwgImZpbGxDb2xvciI6ICJibHVlIiwgImZpbGxPcGFjaXR5IjogMC42LCAiZmlsbFJ1bGUiOiAiZXZlbm9kZCIsICJsaW5lQ2FwIjogInJvdW5kIiwgImxpbmVKb2luIjogInJvdW5kIiwgIm9wYWNpdHkiOiAxLjAsICJyYWRpdXMiOiA1LCAic3Ryb2tlIjogdHJ1ZSwgIndlaWdodCI6IDN9CiAgICAgICAgICAgICkuYWRkVG8oZmVhdHVyZV9ncm91cF84M2Y3NzZmZmM0ODA0MTljOTMxYjIzMzczNzhlYWY0ZSk7CiAgICAgICAgCiAgICAKICAgICAgICAgICAgdmFyIGNpcmNsZV9tYXJrZXJfZTdmMTE1NTc5MzY0NDAyZDljMDVmNDM1ZTliZTA1OWQgPSBMLmNpcmNsZU1hcmtlcigKICAgICAgICAgICAgICAgIFszNy43NjUwNTAxMjE0NjY4LCAtMTIyLjQxOTY3MTc4MDI5Nl0sCiAgICAgICAgICAgICAgICB7ImJ1YmJsaW5nTW91c2VFdmVudHMiOiB0cnVlLCAiY29sb3IiOiAieWVsbG93IiwgImRhc2hBcnJheSI6IG51bGwsICJkYXNoT2Zmc2V0IjogbnVsbCwgImZpbGwiOiB0cnVlLCAiZmlsbENvbG9yIjogImJsdWUiLCAiZmlsbE9wYWNpdHkiOiAwLjYsICJmaWxsUnVsZSI6ICJldmVub2RkIiwgImxpbmVDYXAiOiAicm91bmQiLCAibGluZUpvaW4iOiAicm91bmQiLCAib3BhY2l0eSI6IDEuMCwgInJhZGl1cyI6IDUsICJzdHJva2UiOiB0cnVlLCAid2VpZ2h0IjogM30KICAgICAgICAgICAgKS5hZGRUbyhmZWF0dXJlX2dyb3VwXzgzZjc3NmZmYzQ4MDQxOWM5MzFiMjMzNzM3OGVhZjRlKTsKICAgICAgICAKICAgIAogICAgICAgICAgICB2YXIgY2lyY2xlX21hcmtlcl82YjJlNDkwYTFiMDc0OWVkOWU3ZTFkZTg1NGQ4ZDQ4NiA9IEwuY2lyY2xlTWFya2VyKAogICAgICAgICAgICAgICAgWzM3Ljc4ODAxODU1NTgyOSwgLTEyMi40MjYwNzcxNzczNzQ5OV0sCiAgICAgICAgICAgICAgICB7ImJ1YmJsaW5nTW91c2VFdmVudHMiOiB0cnVlLCAiY29sb3IiOiAieWVsbG93IiwgImRhc2hBcnJheSI6IG51bGwsICJkYXNoT2Zmc2V0IjogbnVsbCwgImZpbGwiOiB0cnVlLCAiZmlsbENvbG9yIjogImJsdWUiLCAiZmlsbE9wYWNpdHkiOiAwLjYsICJmaWxsUnVsZSI6ICJldmVub2RkIiwgImxpbmVDYXAiOiAicm91bmQiLCAibGluZUpvaW4iOiAicm91bmQiLCAib3BhY2l0eSI6IDEuMCwgInJhZGl1cyI6IDUsICJzdHJva2UiOiB0cnVlLCAid2VpZ2h0IjogM30KICAgICAgICAgICAgKS5hZGRUbyhmZWF0dXJlX2dyb3VwXzgzZjc3NmZmYzQ4MDQxOWM5MzFiMjMzNzM3OGVhZjRlKTsKICAgICAgICAKICAgIAogICAgICAgICAgICB2YXIgY2lyY2xlX21hcmtlcl8wZjkxZGM0OGE2NWQ0OGYxODc5NGY2MWZiYTFiMmY4OCA9IEwuY2lyY2xlTWFya2VyKAogICAgICAgICAgICAgICAgWzM3Ljc4MDg3ODkzNjAyMTQsIC0xMjIuNDA1NzIxNDU0NTY3XSwKICAgICAgICAgICAgICAgIHsiYnViYmxpbmdNb3VzZUV2ZW50cyI6IHRydWUsICJjb2xvciI6ICJ5ZWxsb3ciLCAiZGFzaEFycmF5IjogbnVsbCwgImRhc2hPZmZzZXQiOiBudWxsLCAiZmlsbCI6IHRydWUsICJmaWxsQ29sb3IiOiAiYmx1ZSIsICJmaWxsT3BhY2l0eSI6IDAuNiwgImZpbGxSdWxlIjogImV2ZW5vZGQiLCAibGluZUNhcCI6ICJyb3VuZCIsICJsaW5lSm9pbiI6ICJyb3VuZCIsICJvcGFjaXR5IjogMS4wLCAicmFkaXVzIjogNSwgInN0cm9rZSI6IHRydWUsICJ3ZWlnaHQiOiAzfQogICAgICAgICAgICApLmFkZFRvKGZlYXR1cmVfZ3JvdXBfODNmNzc2ZmZjNDgwNDE5YzkzMWIyMzM3Mzc4ZWFmNGUpOwogICAgICAgIAogICAgCiAgICAgICAgICAgIHZhciBjaXJjbGVfbWFya2VyXzA4YjUyMGU5OTk4MzQ3NGZiY2RkZDA2MzNkNTNmMGFkID0gTC5jaXJjbGVNYXJrZXIoCiAgICAgICAgICAgICAgICBbMzcuNzgzOTgwNTU5MjYzNCwgLTEyMi40MTE3NzgyOTU5OTJdLAogICAgICAgICAgICAgICAgeyJidWJibGluZ01vdXNlRXZlbnRzIjogdHJ1ZSwgImNvbG9yIjogInllbGxvdyIsICJkYXNoQXJyYXkiOiBudWxsLCAiZGFzaE9mZnNldCI6IG51bGwsICJmaWxsIjogdHJ1ZSwgImZpbGxDb2xvciI6ICJibHVlIiwgImZpbGxPcGFjaXR5IjogMC42LCAiZmlsbFJ1bGUiOiAiZXZlbm9kZCIsICJsaW5lQ2FwIjogInJvdW5kIiwgImxpbmVKb2luIjogInJvdW5kIiwgIm9wYWNpdHkiOiAxLjAsICJyYWRpdXMiOiA1LCAic3Ryb2tlIjogdHJ1ZSwgIndlaWdodCI6IDN9CiAgICAgICAgICAgICkuYWRkVG8oZmVhdHVyZV9ncm91cF84M2Y3NzZmZmM0ODA0MTljOTMxYjIzMzczNzhlYWY0ZSk7CiAgICAgICAgCiAgICAKICAgICAgICAgICAgdmFyIGNpcmNsZV9tYXJrZXJfODQ1MTU3ODZhZTNiNDJhMThhMTA4NjlmZTc0NjRiODMgPSBMLmNpcmNsZU1hcmtlcigKICAgICAgICAgICAgICAgIFszNy43NzU3ODc2MjE4MjkyOTUsIC0xMjIuMzkzMzU3MjQxNDUxXSwKICAgICAgICAgICAgICAgIHsiYnViYmxpbmdNb3VzZUV2ZW50cyI6IHRydWUsICJjb2xvciI6ICJ5ZWxsb3ciLCAiZGFzaEFycmF5IjogbnVsbCwgImRhc2hPZmZzZXQiOiBudWxsLCAiZmlsbCI6IHRydWUsICJmaWxsQ29sb3IiOiAiYmx1ZSIsICJmaWxsT3BhY2l0eSI6IDAuNiwgImZpbGxSdWxlIjogImV2ZW5vZGQiLCAibGluZUNhcCI6ICJyb3VuZCIsICJsaW5lSm9pbiI6ICJyb3VuZCIsICJvcGFjaXR5IjogMS4wLCAicmFkaXVzIjogNSwgInN0cm9rZSI6IHRydWUsICJ3ZWlnaHQiOiAzfQogICAgICAgICAgICApLmFkZFRvKGZlYXR1cmVfZ3JvdXBfODNmNzc2ZmZjNDgwNDE5YzkzMWIyMzM3Mzc4ZWFmNGUpOwogICAgICAgIAogICAgCiAgICAgICAgICAgIHZhciBjaXJjbGVfbWFya2VyX2QzZmRlZGMwYWVmNjQ3ZWE4OWZiYWVjZTZmMzAyNWQwID0gTC5jaXJjbGVNYXJrZXIoCiAgICAgICAgICAgICAgICBbMzcuNzIwOTY2OTYxNTQ5OSwgLTEyMi4zODcxODE2MzU5OTVdLAogICAgICAgICAgICAgICAgeyJidWJibGluZ01vdXNlRXZlbnRzIjogdHJ1ZSwgImNvbG9yIjogInllbGxvdyIsICJkYXNoQXJyYXkiOiBudWxsLCAiZGFzaE9mZnNldCI6IG51bGwsICJmaWxsIjogdHJ1ZSwgImZpbGxDb2xvciI6ICJibHVlIiwgImZpbGxPcGFjaXR5IjogMC42LCAiZmlsbFJ1bGUiOiAiZXZlbm9kZCIsICJsaW5lQ2FwIjogInJvdW5kIiwgImxpbmVKb2luIjogInJvdW5kIiwgIm9wYWNpdHkiOiAxLjAsICJyYWRpdXMiOiA1LCAic3Ryb2tlIjogdHJ1ZSwgIndlaWdodCI6IDN9CiAgICAgICAgICAgICkuYWRkVG8oZmVhdHVyZV9ncm91cF84M2Y3NzZmZmM0ODA0MTljOTMxYjIzMzczNzhlYWY0ZSk7CiAgICAgICAgCiAgICAKICAgICAgICAgICAgdmFyIGNpcmNsZV9tYXJrZXJfZjliN2FhY2ZkMjNmNDkxNGJjMDFlYzkwM2JjZWNiMzAgPSBMLmNpcmNsZU1hcmtlcigKICAgICAgICAgICAgICAgIFszNy43NjQ0NzgxNTc4Njk1MDUsIC0xMjIuNDc3Mzc2NTI0MDAyOTldLAogICAgICAgICAgICAgICAgeyJidWJibGluZ01vdXNlRXZlbnRzIjogdHJ1ZSwgImNvbG9yIjogInllbGxvdyIsICJkYXNoQXJyYXkiOiBudWxsLCAiZGFzaE9mZnNldCI6IG51bGwsICJmaWxsIjogdHJ1ZSwgImZpbGxDb2xvciI6ICJibHVlIiwgImZpbGxPcGFjaXR5IjogMC42LCAiZmlsbFJ1bGUiOiAiZXZlbm9kZCIsICJsaW5lQ2FwIjogInJvdW5kIiwgImxpbmVKb2luIjogInJvdW5kIiwgIm9wYWNpdHkiOiAxLjAsICJyYWRpdXMiOiA1LCAic3Ryb2tlIjogdHJ1ZSwgIndlaWdodCI6IDN9CiAgICAgICAgICAgICkuYWRkVG8oZmVhdHVyZV9ncm91cF84M2Y3NzZmZmM0ODA0MTljOTMxYjIzMzczNzhlYWY0ZSk7CiAgICAgICAgCiAgICAKICAgICAgICAgICAgdmFyIGNpcmNsZV9tYXJrZXJfNjRhNjUwM2I0ZTRjNDI0M2E5NmZkNmJhZGVkMDk3YzcgPSBMLmNpcmNsZU1hcmtlcigKICAgICAgICAgICAgICAgIFszNy43NDU3Mzg5NDI5NjU0OTUsIC0xMjIuNDc3OTYwMzI3Mjk5XSwKICAgICAgICAgICAgICAgIHsiYnViYmxpbmdNb3VzZUV2ZW50cyI6IHRydWUsICJjb2xvciI6ICJ5ZWxsb3ciLCAiZGFzaEFycmF5IjogbnVsbCwgImRhc2hPZmZzZXQiOiBudWxsLCAiZmlsbCI6IHRydWUsICJmaWxsQ29sb3IiOiAiYmx1ZSIsICJmaWxsT3BhY2l0eSI6IDAuNiwgImZpbGxSdWxlIjogImV2ZW5vZGQiLCAibGluZUNhcCI6ICJyb3VuZCIsICJsaW5lSm9pbiI6ICJyb3VuZCIsICJvcGFjaXR5IjogMS4wLCAicmFkaXVzIjogNSwgInN0cm9rZSI6IHRydWUsICJ3ZWlnaHQiOiAzfQogICAgICAgICAgICApLmFkZFRvKGZlYXR1cmVfZ3JvdXBfODNmNzc2ZmZjNDgwNDE5YzkzMWIyMzM3Mzc4ZWFmNGUpOwogICAgICAgIAogICAgCiAgICAgICAgICAgIHZhciBjaXJjbGVfbWFya2VyXzMxNDQxMzhmNWVlMTQ4MTQ5NGI1MWIwMzc2NzhkYjkzID0gTC5jaXJjbGVNYXJrZXIoCiAgICAgICAgICAgICAgICBbMzcuNzM1Njk3MDI3NTQ4MjA2LCAtMTIyLjM3Njc1NzY1NTUzMDAxXSwKICAgICAgICAgICAgICAgIHsiYnViYmxpbmdNb3VzZUV2ZW50cyI6IHRydWUsICJjb2xvciI6ICJ5ZWxsb3ciLCAiZGFzaEFycmF5IjogbnVsbCwgImRhc2hPZmZzZXQiOiBudWxsLCAiZmlsbCI6IHRydWUsICJmaWxsQ29sb3IiOiAiYmx1ZSIsICJmaWxsT3BhY2l0eSI6IDAuNiwgImZpbGxSdWxlIjogImV2ZW5vZGQiLCAibGluZUNhcCI6ICJyb3VuZCIsICJsaW5lSm9pbiI6ICJyb3VuZCIsICJvcGFjaXR5IjogMS4wLCAicmFkaXVzIjogNSwgInN0cm9rZSI6IHRydWUsICJ3ZWlnaHQiOiAzfQogICAgICAgICAgICApLmFkZFRvKGZlYXR1cmVfZ3JvdXBfODNmNzc2ZmZjNDgwNDE5YzkzMWIyMzM3Mzc4ZWFmNGUpOwogICAgICAgIAogICAgCiAgICAgICAgICAgIHZhciBjaXJjbGVfbWFya2VyXzE3MjIxMTFkM2I1ZDRmZWE5MGJmYzQ3YzE3ZmYxMWVmID0gTC5jaXJjbGVNYXJrZXIoCiAgICAgICAgICAgICAgICBbMzcuNzI5MjcwNTE5OTU5MiwgLTEyMi40MzIzMjU4NzEwMjhdLAogICAgICAgICAgICAgICAgeyJidWJibGluZ01vdXNlRXZlbnRzIjogdHJ1ZSwgImNvbG9yIjogInllbGxvdyIsICJkYXNoQXJyYXkiOiBudWxsLCAiZGFzaE9mZnNldCI6IG51bGwsICJmaWxsIjogdHJ1ZSwgImZpbGxDb2xvciI6ICJibHVlIiwgImZpbGxPcGFjaXR5IjogMC42LCAiZmlsbFJ1bGUiOiAiZXZlbm9kZCIsICJsaW5lQ2FwIjogInJvdW5kIiwgImxpbmVKb2luIjogInJvdW5kIiwgIm9wYWNpdHkiOiAxLjAsICJyYWRpdXMiOiA1LCAic3Ryb2tlIjogdHJ1ZSwgIndlaWdodCI6IDN9CiAgICAgICAgICAgICkuYWRkVG8oZmVhdHVyZV9ncm91cF84M2Y3NzZmZmM0ODA0MTljOTMxYjIzMzczNzhlYWY0ZSk7CiAgICAgICAgCiAgICAKICAgICAgICAgICAgdmFyIGNpcmNsZV9tYXJrZXJfMTY1MTM1MDM1NWI3NDIwMzlkOTQxNzhkNWE4NjgwMTMgPSBMLmNpcmNsZU1hcmtlcigKICAgICAgICAgICAgICAgIFszNy43OTE2NDI5ODIzODQsIC0xMjIuNDAwOTA4Njk4ODg5OTldLAogICAgICAgICAgICAgICAgeyJidWJibGluZ01vdXNlRXZlbnRzIjogdHJ1ZSwgImNvbG9yIjogInllbGxvdyIsICJkYXNoQXJyYXkiOiBudWxsLCAiZGFzaE9mZnNldCI6IG51bGwsICJmaWxsIjogdHJ1ZSwgImZpbGxDb2xvciI6ICJibHVlIiwgImZpbGxPcGFjaXR5IjogMC42LCAiZmlsbFJ1bGUiOiAiZXZlbm9kZCIsICJsaW5lQ2FwIjogInJvdW5kIiwgImxpbmVKb2luIjogInJvdW5kIiwgIm9wYWNpdHkiOiAxLjAsICJyYWRpdXMiOiA1LCAic3Ryb2tlIjogdHJ1ZSwgIndlaWdodCI6IDN9CiAgICAgICAgICAgICkuYWRkVG8oZmVhdHVyZV9ncm91cF84M2Y3NzZmZmM0ODA0MTljOTMxYjIzMzczNzhlYWY0ZSk7CiAgICAgICAgCiAgICAKICAgICAgICAgICAgdmFyIGNpcmNsZV9tYXJrZXJfZDkyZWYyYWQzY2QyNGYxYmFiMWRmZWIwOGI2M2I0ZTUgPSBMLmNpcmNsZU1hcmtlcigKICAgICAgICAgICAgICAgIFszNy43ODM3MDY5MzAxNTQ1LCAtMTIyLjQwODU5NTExMDg2OV0sCiAgICAgICAgICAgICAgICB7ImJ1YmJsaW5nTW91c2VFdmVudHMiOiB0cnVlLCAiY29sb3IiOiAieWVsbG93IiwgImRhc2hBcnJheSI6IG51bGwsICJkYXNoT2Zmc2V0IjogbnVsbCwgImZpbGwiOiB0cnVlLCAiZmlsbENvbG9yIjogImJsdWUiLCAiZmlsbE9wYWNpdHkiOiAwLjYsICJmaWxsUnVsZSI6ICJldmVub2RkIiwgImxpbmVDYXAiOiAicm91bmQiLCAibGluZUpvaW4iOiAicm91bmQiLCAib3BhY2l0eSI6IDEuMCwgInJhZGl1cyI6IDUsICJzdHJva2UiOiB0cnVlLCAid2VpZ2h0IjogM30KICAgICAgICAgICAgKS5hZGRUbyhmZWF0dXJlX2dyb3VwXzgzZjc3NmZmYzQ4MDQxOWM5MzFiMjMzNzM3OGVhZjRlKTsKICAgICAgICAKICAgIAogICAgICAgICAgICB2YXIgY2lyY2xlX21hcmtlcl9hM2E1NzFkNjAzOTk0YjZkODUyZGYwNTgxZmM1Y2UzOSA9IEwuY2lyY2xlTWFya2VyKAogICAgICAgICAgICAgICAgWzM3Ljc1NzI4OTU5MDQ1Nzc5NSwgLTEyMi40MDY4NzA0MDIwODJdLAogICAgICAgICAgICAgICAgeyJidWJibGluZ01vdXNlRXZlbnRzIjogdHJ1ZSwgImNvbG9yIjogInllbGxvdyIsICJkYXNoQXJyYXkiOiBudWxsLCAiZGFzaE9mZnNldCI6IG51bGwsICJmaWxsIjogdHJ1ZSwgImZpbGxDb2xvciI6ICJibHVlIiwgImZpbGxPcGFjaXR5IjogMC42LCAiZmlsbFJ1bGUiOiAiZXZlbm9kZCIsICJsaW5lQ2FwIjogInJvdW5kIiwgImxpbmVKb2luIjogInJvdW5kIiwgIm9wYWNpdHkiOiAxLjAsICJyYWRpdXMiOiA1LCAic3Ryb2tlIjogdHJ1ZSwgIndlaWdodCI6IDN9CiAgICAgICAgICAgICkuYWRkVG8oZmVhdHVyZV9ncm91cF84M2Y3NzZmZmM0ODA0MTljOTMxYjIzMzczNzhlYWY0ZSk7CiAgICAgICAgCiAgICAKICAgICAgICAgICAgdmFyIGNpcmNsZV9tYXJrZXJfZDUzNTNhNzY3ZmU3NGFiMjhmYTY5Y2E2NzYwMDNlZTkgPSBMLmNpcmNsZU1hcmtlcigKICAgICAgICAgICAgICAgIFszNy43NDg5MDYzMDUxODI5LCAtMTIyLjQyMDM1NDc4MDg2MDk5XSwKICAgICAgICAgICAgICAgIHsiYnViYmxpbmdNb3VzZUV2ZW50cyI6IHRydWUsICJjb2xvciI6ICJ5ZWxsb3ciLCAiZGFzaEFycmF5IjogbnVsbCwgImRhc2hPZmZzZXQiOiBudWxsLCAiZmlsbCI6IHRydWUsICJmaWxsQ29sb3IiOiAiYmx1ZSIsICJmaWxsT3BhY2l0eSI6IDAuNiwgImZpbGxSdWxlIjogImV2ZW5vZGQiLCAibGluZUNhcCI6ICJyb3VuZCIsICJsaW5lSm9pbiI6ICJyb3VuZCIsICJvcGFjaXR5IjogMS4wLCAicmFkaXVzIjogNSwgInN0cm9rZSI6IHRydWUsICJ3ZWlnaHQiOiAzfQogICAgICAgICAgICApLmFkZFRvKGZlYXR1cmVfZ3JvdXBfODNmNzc2ZmZjNDgwNDE5YzkzMWIyMzM3Mzc4ZWFmNGUpOwogICAgICAgIAogICAgCiAgICAgICAgICAgIHZhciBjaXJjbGVfbWFya2VyXzAwMzg4ODJiNDhiZDRiNDA5NWZkOGZjZTM4MzRlNDJmID0gTC5jaXJjbGVNYXJrZXIoCiAgICAgICAgICAgICAgICBbMzcuNzE1NzY1NDI2OTk1LCAtMTIyLjQzOTkwOTc2Njc3Ml0sCiAgICAgICAgICAgICAgICB7ImJ1YmJsaW5nTW91c2VFdmVudHMiOiB0cnVlLCAiY29sb3IiOiAieWVsbG93IiwgImRhc2hBcnJheSI6IG51bGwsICJkYXNoT2Zmc2V0IjogbnVsbCwgImZpbGwiOiB0cnVlLCAiZmlsbENvbG9yIjogImJsdWUiLCAiZmlsbE9wYWNpdHkiOiAwLjYsICJmaWxsUnVsZSI6ICJldmVub2RkIiwgImxpbmVDYXAiOiAicm91bmQiLCAibGluZUpvaW4iOiAicm91bmQiLCAib3BhY2l0eSI6IDEuMCwgInJhZGl1cyI6IDUsICJzdHJva2UiOiB0cnVlLCAid2VpZ2h0IjogM30KICAgICAgICAgICAgKS5hZGRUbyhmZWF0dXJlX2dyb3VwXzgzZjc3NmZmYzQ4MDQxOWM5MzFiMjMzNzM3OGVhZjRlKTsKICAgICAgICAKICAgIAogICAgICAgICAgICB2YXIgY2lyY2xlX21hcmtlcl85OGQwOGM1MGUwMTQ0NmMyYjI0ZDg3MDgxYWEyMGZmMCA9IEwuY2lyY2xlTWFya2VyKAogICAgICAgICAgICAgICAgWzM3Ljc4MzU2OTkzODY5MTgsIC0xMjIuNDA4NDIxMTE2OTIyXSwKICAgICAgICAgICAgICAgIHsiYnViYmxpbmdNb3VzZUV2ZW50cyI6IHRydWUsICJjb2xvciI6ICJ5ZWxsb3ciLCAiZGFzaEFycmF5IjogbnVsbCwgImRhc2hPZmZzZXQiOiBudWxsLCAiZmlsbCI6IHRydWUsICJmaWxsQ29sb3IiOiAiYmx1ZSIsICJmaWxsT3BhY2l0eSI6IDAuNiwgImZpbGxSdWxlIjogImV2ZW5vZGQiLCAibGluZUNhcCI6ICJyb3VuZCIsICJsaW5lSm9pbiI6ICJyb3VuZCIsICJvcGFjaXR5IjogMS4wLCAicmFkaXVzIjogNSwgInN0cm9rZSI6IHRydWUsICJ3ZWlnaHQiOiAzfQogICAgICAgICAgICApLmFkZFRvKGZlYXR1cmVfZ3JvdXBfODNmNzc2ZmZjNDgwNDE5YzkzMWIyMzM3Mzc4ZWFmNGUpOwogICAgICAgIAogICAgCiAgICAgICAgICAgIHZhciBjaXJjbGVfbWFya2VyXzBkZWEzNjY2ZDBkZjRiNWE4NzZjNmU0OTRjMWNjY2NiID0gTC5jaXJjbGVNYXJrZXIoCiAgICAgICAgICAgICAgICBbMzcuNzczNjE4NjI3NjQ1NjA0LCAtMTIyLjQyMjMxNTY3MDc0OV0sCiAgICAgICAgICAgICAgICB7ImJ1YmJsaW5nTW91c2VFdmVudHMiOiB0cnVlLCAiY29sb3IiOiAieWVsbG93IiwgImRhc2hBcnJheSI6IG51bGwsICJkYXNoT2Zmc2V0IjogbnVsbCwgImZpbGwiOiB0cnVlLCAiZmlsbENvbG9yIjogImJsdWUiLCAiZmlsbE9wYWNpdHkiOiAwLjYsICJmaWxsUnVsZSI6ICJldmVub2RkIiwgImxpbmVDYXAiOiAicm91bmQiLCAibGluZUpvaW4iOiAicm91bmQiLCAib3BhY2l0eSI6IDEuMCwgInJhZGl1cyI6IDUsICJzdHJva2UiOiB0cnVlLCAid2VpZ2h0IjogM30KICAgICAgICAgICAgKS5hZGRUbyhmZWF0dXJlX2dyb3VwXzgzZjc3NmZmYzQ4MDQxOWM5MzFiMjMzNzM3OGVhZjRlKTsKICAgICAgICAKICAgIAogICAgICAgICAgICB2YXIgY2lyY2xlX21hcmtlcl9kMzFhMGRjZTE5MTU0MTkxYjJhN2FiN2Y1ZGM1Y2IwZiA9IEwuY2lyY2xlTWFya2VyKAogICAgICAgICAgICAgICAgWzM3Ljc5Mjg0MTI4NDA0NDcwNSwgLTEyMi40MjQ1MTk4MzUwMDkwMV0sCiAgICAgICAgICAgICAgICB7ImJ1YmJsaW5nTW91c2VFdmVudHMiOiB0cnVlLCAiY29sb3IiOiAieWVsbG93IiwgImRhc2hBcnJheSI6IG51bGwsICJkYXNoT2Zmc2V0IjogbnVsbCwgImZpbGwiOiB0cnVlLCAiZmlsbENvbG9yIjogImJsdWUiLCAiZmlsbE9wYWNpdHkiOiAwLjYsICJmaWxsUnVsZSI6ICJldmVub2RkIiwgImxpbmVDYXAiOiAicm91bmQiLCAibGluZUpvaW4iOiAicm91bmQiLCAib3BhY2l0eSI6IDEuMCwgInJhZGl1cyI6IDUsICJzdHJva2UiOiB0cnVlLCAid2VpZ2h0IjogM30KICAgICAgICAgICAgKS5hZGRUbyhmZWF0dXJlX2dyb3VwXzgzZjc3NmZmYzQ4MDQxOWM5MzFiMjMzNzM3OGVhZjRlKTsKICAgICAgICAKICAgIAogICAgICAgICAgICB2YXIgY2lyY2xlX21hcmtlcl85MzU4MjJmZjkzZjI0OGE5YjEyNGE3MzcyYzBlMGEyOSA9IEwuY2lyY2xlTWFya2VyKAogICAgICAgICAgICAgICAgWzM3Ljc1NDA5ODY4ODIwNjc5NSwgLTEyMi40MTQyMzM4NDkwMzc5OF0sCiAgICAgICAgICAgICAgICB7ImJ1YmJsaW5nTW91c2VFdmVudHMiOiB0cnVlLCAiY29sb3IiOiAieWVsbG93IiwgImRhc2hBcnJheSI6IG51bGwsICJkYXNoT2Zmc2V0IjogbnVsbCwgImZpbGwiOiB0cnVlLCAiZmlsbENvbG9yIjogImJsdWUiLCAiZmlsbE9wYWNpdHkiOiAwLjYsICJmaWxsUnVsZSI6ICJldmVub2RkIiwgImxpbmVDYXAiOiAicm91bmQiLCAibGluZUpvaW4iOiAicm91bmQiLCAib3BhY2l0eSI6IDEuMCwgInJhZGl1cyI6IDUsICJzdHJva2UiOiB0cnVlLCAid2VpZ2h0IjogM30KICAgICAgICAgICAgKS5hZGRUbyhmZWF0dXJlX2dyb3VwXzgzZjc3NmZmYzQ4MDQxOWM5MzFiMjMzNzM3OGVhZjRlKTsKICAgICAgICAKICAgIAogICAgICAgICAgICB2YXIgY2lyY2xlX21hcmtlcl83YWE3YzRiOWI0NGM0YmY5YjM4YmE0YWVhNjE3NzBlYyA9IEwuY2lyY2xlTWFya2VyKAogICAgICAgICAgICAgICAgWzM3Ljc1NDA5ODY4ODIwNjc5NSwgLTEyMi40MTQyMzM4NDkwMzc5OF0sCiAgICAgICAgICAgICAgICB7ImJ1YmJsaW5nTW91c2VFdmVudHMiOiB0cnVlLCAiY29sb3IiOiAieWVsbG93IiwgImRhc2hBcnJheSI6IG51bGwsICJkYXNoT2Zmc2V0IjogbnVsbCwgImZpbGwiOiB0cnVlLCAiZmlsbENvbG9yIjogImJsdWUiLCAiZmlsbE9wYWNpdHkiOiAwLjYsICJmaWxsUnVsZSI6ICJldmVub2RkIiwgImxpbmVDYXAiOiAicm91bmQiLCAibGluZUpvaW4iOiAicm91bmQiLCAib3BhY2l0eSI6IDEuMCwgInJhZGl1cyI6IDUsICJzdHJva2UiOiB0cnVlLCAid2VpZ2h0IjogM30KICAgICAgICAgICAgKS5hZGRUbyhmZWF0dXJlX2dyb3VwXzgzZjc3NmZmYzQ4MDQxOWM5MzFiMjMzNzM3OGVhZjRlKTsKICAgICAgICAKICAgIAogICAgICAgICAgICB2YXIgY2lyY2xlX21hcmtlcl9mN2I4ZDVkY2Q5NDM0MWNiODQ3MzRhNGQyYzIwZDYxNyA9IEwuY2lyY2xlTWFya2VyKAogICAgICAgICAgICAgICAgWzM3Ljc3MTQ5Mzk5Njk0MTYsIC0xMjIuNTA3NzUwMTMxMDA0MDJdLAogICAgICAgICAgICAgICAgeyJidWJibGluZ01vdXNlRXZlbnRzIjogdHJ1ZSwgImNvbG9yIjogInllbGxvdyIsICJkYXNoQXJyYXkiOiBudWxsLCAiZGFzaE9mZnNldCI6IG51bGwsICJmaWxsIjogdHJ1ZSwgImZpbGxDb2xvciI6ICJibHVlIiwgImZpbGxPcGFjaXR5IjogMC42LCAiZmlsbFJ1bGUiOiAiZXZlbm9kZCIsICJsaW5lQ2FwIjogInJvdW5kIiwgImxpbmVKb2luIjogInJvdW5kIiwgIm9wYWNpdHkiOiAxLjAsICJyYWRpdXMiOiA1LCAic3Ryb2tlIjogdHJ1ZSwgIndlaWdodCI6IDN9CiAgICAgICAgICAgICkuYWRkVG8oZmVhdHVyZV9ncm91cF84M2Y3NzZmZmM0ODA0MTljOTMxYjIzMzczNzhlYWY0ZSk7CiAgICAgICAgCiAgICAKICAgICAgICAgICAgdmFyIGNpcmNsZV9tYXJrZXJfYzA3ODI3OGVhZmIyNDFlYzg2ZDRlYmRmNzk0YWIyZjMgPSBMLmNpcmNsZU1hcmtlcigKICAgICAgICAgICAgICAgIFszNy43MTgzMDIyMDQ3NjYwMDUsIC0xMjIuNDc0NDQ0NjM5NTk0OTldLAogICAgICAgICAgICAgICAgeyJidWJibGluZ01vdXNlRXZlbnRzIjogdHJ1ZSwgImNvbG9yIjogInllbGxvdyIsICJkYXNoQXJyYXkiOiBudWxsLCAiZGFzaE9mZnNldCI6IG51bGwsICJmaWxsIjogdHJ1ZSwgImZpbGxDb2xvciI6ICJibHVlIiwgImZpbGxPcGFjaXR5IjogMC42LCAiZmlsbFJ1bGUiOiAiZXZlbm9kZCIsICJsaW5lQ2FwIjogInJvdW5kIiwgImxpbmVKb2luIjogInJvdW5kIiwgIm9wYWNpdHkiOiAxLjAsICJyYWRpdXMiOiA1LCAic3Ryb2tlIjogdHJ1ZSwgIndlaWdodCI6IDN9CiAgICAgICAgICAgICkuYWRkVG8oZmVhdHVyZV9ncm91cF84M2Y3NzZmZmM0ODA0MTljOTMxYjIzMzczNzhlYWY0ZSk7CiAgICAgICAgCiAgICAKICAgICAgICAgICAgdmFyIGNpcmNsZV9tYXJrZXJfNjUzNmMzODkzMjE1NGI4ZWI2YWQwMTU2M2Y2MTdhMWYgPSBMLmNpcmNsZU1hcmtlcigKICAgICAgICAgICAgICAgIFszNy43NjQ1NzUyMzE3NjE1LCAtMTIyLjQyNzU2MjU5Njk4NV0sCiAgICAgICAgICAgICAgICB7ImJ1YmJsaW5nTW91c2VFdmVudHMiOiB0cnVlLCAiY29sb3IiOiAieWVsbG93IiwgImRhc2hBcnJheSI6IG51bGwsICJkYXNoT2Zmc2V0IjogbnVsbCwgImZpbGwiOiB0cnVlLCAiZmlsbENvbG9yIjogImJsdWUiLCAiZmlsbE9wYWNpdHkiOiAwLjYsICJmaWxsUnVsZSI6ICJldmVub2RkIiwgImxpbmVDYXAiOiAicm91bmQiLCAibGluZUpvaW4iOiAicm91bmQiLCAib3BhY2l0eSI6IDEuMCwgInJhZGl1cyI6IDUsICJzdHJva2UiOiB0cnVlLCAid2VpZ2h0IjogM30KICAgICAgICAgICAgKS5hZGRUbyhmZWF0dXJlX2dyb3VwXzgzZjc3NmZmYzQ4MDQxOWM5MzFiMjMzNzM3OGVhZjRlKTsKICAgICAgICAKICAgIAogICAgICAgICAgICB2YXIgY2lyY2xlX21hcmtlcl8zNmU5ZDFhMjZhOTE0NDhlYjQ3ZjE2NDQxN2Q2NjQxYyA9IEwuY2lyY2xlTWFya2VyKAogICAgICAgICAgICAgICAgWzM3Ljc4NzQzNzgzMDkxMTIsIC0xMjIuNDE5MjAzMDA0MjY4XSwKICAgICAgICAgICAgICAgIHsiYnViYmxpbmdNb3VzZUV2ZW50cyI6IHRydWUsICJjb2xvciI6ICJ5ZWxsb3ciLCAiZGFzaEFycmF5IjogbnVsbCwgImRhc2hPZmZzZXQiOiBudWxsLCAiZmlsbCI6IHRydWUsICJmaWxsQ29sb3IiOiAiYmx1ZSIsICJmaWxsT3BhY2l0eSI6IDAuNiwgImZpbGxSdWxlIjogImV2ZW5vZGQiLCAibGluZUNhcCI6ICJyb3VuZCIsICJsaW5lSm9pbiI6ICJyb3VuZCIsICJvcGFjaXR5IjogMS4wLCAicmFkaXVzIjogNSwgInN0cm9rZSI6IHRydWUsICJ3ZWlnaHQiOiAzfQogICAgICAgICAgICApLmFkZFRvKGZlYXR1cmVfZ3JvdXBfODNmNzc2ZmZjNDgwNDE5YzkzMWIyMzM3Mzc4ZWFmNGUpOwogICAgICAgIAogICAgCiAgICAgICAgICAgIHZhciBjaXJjbGVfbWFya2VyXzg4OWFiYzY4MGVhOTRkZWU5NDYxMzg4NzI0MWVkYTQ4ID0gTC5jaXJjbGVNYXJrZXIoCiAgICAgICAgICAgICAgICBbMzcuNzQ5MzY4ODI4NDUzMiwgLTEyMi40MTI2OTAxNDIzMDgwMV0sCiAgICAgICAgICAgICAgICB7ImJ1YmJsaW5nTW91c2VFdmVudHMiOiB0cnVlLCAiY29sb3IiOiAieWVsbG93IiwgImRhc2hBcnJheSI6IG51bGwsICJkYXNoT2Zmc2V0IjogbnVsbCwgImZpbGwiOiB0cnVlLCAiZmlsbENvbG9yIjogImJsdWUiLCAiZmlsbE9wYWNpdHkiOiAwLjYsICJmaWxsUnVsZSI6ICJldmVub2RkIiwgImxpbmVDYXAiOiAicm91bmQiLCAibGluZUpvaW4iOiAicm91bmQiLCAib3BhY2l0eSI6IDEuMCwgInJhZGl1cyI6IDUsICJzdHJva2UiOiB0cnVlLCAid2VpZ2h0IjogM30KICAgICAgICAgICAgKS5hZGRUbyhmZWF0dXJlX2dyb3VwXzgzZjc3NmZmYzQ4MDQxOWM5MzFiMjMzNzM3OGVhZjRlKTsKICAgICAgICAKICAgIAogICAgICAgICAgICB2YXIgY2lyY2xlX21hcmtlcl83ZTg5OTk0MzBmODE0MDc1ODBiZjU4YjgwYWQ3NjE1YyA9IEwuY2lyY2xlTWFya2VyKAogICAgICAgICAgICAgICAgWzM3LjcwOTIwMTA0NjIzNzksIC0xMjIuNDM0NjA5MjgwMzUyXSwKICAgICAgICAgICAgICAgIHsiYnViYmxpbmdNb3VzZUV2ZW50cyI6IHRydWUsICJjb2xvciI6ICJ5ZWxsb3ciLCAiZGFzaEFycmF5IjogbnVsbCwgImRhc2hPZmZzZXQiOiBudWxsLCAiZmlsbCI6IHRydWUsICJmaWxsQ29sb3IiOiAiYmx1ZSIsICJmaWxsT3BhY2l0eSI6IDAuNiwgImZpbGxSdWxlIjogImV2ZW5vZGQiLCAibGluZUNhcCI6ICJyb3VuZCIsICJsaW5lSm9pbiI6ICJyb3VuZCIsICJvcGFjaXR5IjogMS4wLCAicmFkaXVzIjogNSwgInN0cm9rZSI6IHRydWUsICJ3ZWlnaHQiOiAzfQogICAgICAgICAgICApLmFkZFRvKGZlYXR1cmVfZ3JvdXBfODNmNzc2ZmZjNDgwNDE5YzkzMWIyMzM3Mzc4ZWFmNGUpOwogICAgICAgIAogICAgCiAgICAgICAgICAgIHZhciBjaXJjbGVfbWFya2VyXzViZGUxNTQzOThiOTQyYTU5MThjNzkzOThiZDc2YTI5ID0gTC5jaXJjbGVNYXJrZXIoCiAgICAgICAgICAgICAgICBbMzcuNzg3OTIwOTM3NTUzMjk1LCAtMTIyLjQxMDg4MjgyNTU1MV0sCiAgICAgICAgICAgICAgICB7ImJ1YmJsaW5nTW91c2VFdmVudHMiOiB0cnVlLCAiY29sb3IiOiAieWVsbG93IiwgImRhc2hBcnJheSI6IG51bGwsICJkYXNoT2Zmc2V0IjogbnVsbCwgImZpbGwiOiB0cnVlLCAiZmlsbENvbG9yIjogImJsdWUiLCAiZmlsbE9wYWNpdHkiOiAwLjYsICJmaWxsUnVsZSI6ICJldmVub2RkIiwgImxpbmVDYXAiOiAicm91bmQiLCAibGluZUpvaW4iOiAicm91bmQiLCAib3BhY2l0eSI6IDEuMCwgInJhZGl1cyI6IDUsICJzdHJva2UiOiB0cnVlLCAid2VpZ2h0IjogM30KICAgICAgICAgICAgKS5hZGRUbyhmZWF0dXJlX2dyb3VwXzgzZjc3NmZmYzQ4MDQxOWM5MzFiMjMzNzM3OGVhZjRlKTsKICAgICAgICAKICAgIAogICAgICAgICAgICB2YXIgY2lyY2xlX21hcmtlcl9iMTE1Zjg3MzdjMmE0Y2VkOTU4NGUyZGJjMGQxMzMzNCA9IEwuY2lyY2xlTWFya2VyKAogICAgICAgICAgICAgICAgWzM3LjgwMDQ1NjY0NzEwMzg5LCAtMTIyLjQwMTQzMjc1NDcyMjAxXSwKICAgICAgICAgICAgICAgIHsiYnViYmxpbmdNb3VzZUV2ZW50cyI6IHRydWUsICJjb2xvciI6ICJ5ZWxsb3ciLCAiZGFzaEFycmF5IjogbnVsbCwgImRhc2hPZmZzZXQiOiBudWxsLCAiZmlsbCI6IHRydWUsICJmaWxsQ29sb3IiOiAiYmx1ZSIsICJmaWxsT3BhY2l0eSI6IDAuNiwgImZpbGxSdWxlIjogImV2ZW5vZGQiLCAibGluZUNhcCI6ICJyb3VuZCIsICJsaW5lSm9pbiI6ICJyb3VuZCIsICJvcGFjaXR5IjogMS4wLCAicmFkaXVzIjogNSwgInN0cm9rZSI6IHRydWUsICJ3ZWlnaHQiOiAzfQogICAgICAgICAgICApLmFkZFRvKGZlYXR1cmVfZ3JvdXBfODNmNzc2ZmZjNDgwNDE5YzkzMWIyMzM3Mzc4ZWFmNGUpOwogICAgICAgIAogICAgCiAgICAgICAgICAgIHZhciBjaXJjbGVfbWFya2VyXzIwM2YyNzZmODI3NzRmNzk5YmIxMzE3OThhYzMzOWRkID0gTC5jaXJjbGVNYXJrZXIoCiAgICAgICAgICAgICAgICBbMzcuNzQzNTU1MDU0MjI2NSwgLTEyMi40MjExMjgwMjk1MDVdLAogICAgICAgICAgICAgICAgeyJidWJibGluZ01vdXNlRXZlbnRzIjogdHJ1ZSwgImNvbG9yIjogInllbGxvdyIsICJkYXNoQXJyYXkiOiBudWxsLCAiZGFzaE9mZnNldCI6IG51bGwsICJmaWxsIjogdHJ1ZSwgImZpbGxDb2xvciI6ICJibHVlIiwgImZpbGxPcGFjaXR5IjogMC42LCAiZmlsbFJ1bGUiOiAiZXZlbm9kZCIsICJsaW5lQ2FwIjogInJvdW5kIiwgImxpbmVKb2luIjogInJvdW5kIiwgIm9wYWNpdHkiOiAxLjAsICJyYWRpdXMiOiA1LCAic3Ryb2tlIjogdHJ1ZSwgIndlaWdodCI6IDN9CiAgICAgICAgICAgICkuYWRkVG8oZmVhdHVyZV9ncm91cF84M2Y3NzZmZmM0ODA0MTljOTMxYjIzMzczNzhlYWY0ZSk7CiAgICAgICAgCiAgICAKICAgICAgICAgICAgdmFyIGNpcmNsZV9tYXJrZXJfMGFjZjcyMDk1OWE5NDM0NWExN2ZjZTM4NDNlYjUxODQgPSBMLmNpcmNsZU1hcmtlcigKICAgICAgICAgICAgICAgIFszNy43ODY1NjQ3NjA3Njg1LCAtMTIyLjQwNzI0NDA4NzAzMl0sCiAgICAgICAgICAgICAgICB7ImJ1YmJsaW5nTW91c2VFdmVudHMiOiB0cnVlLCAiY29sb3IiOiAieWVsbG93IiwgImRhc2hBcnJheSI6IG51bGwsICJkYXNoT2Zmc2V0IjogbnVsbCwgImZpbGwiOiB0cnVlLCAiZmlsbENvbG9yIjogImJsdWUiLCAiZmlsbE9wYWNpdHkiOiAwLjYsICJmaWxsUnVsZSI6ICJldmVub2RkIiwgImxpbmVDYXAiOiAicm91bmQiLCAibGluZUpvaW4iOiAicm91bmQiLCAib3BhY2l0eSI6IDEuMCwgInJhZGl1cyI6IDUsICJzdHJva2UiOiB0cnVlLCAid2VpZ2h0IjogM30KICAgICAgICAgICAgKS5hZGRUbyhmZWF0dXJlX2dyb3VwXzgzZjc3NmZmYzQ4MDQxOWM5MzFiMjMzNzM3OGVhZjRlKTsKICAgICAgICAKICAgIAogICAgICAgICAgICB2YXIgY2lyY2xlX21hcmtlcl8yNDcwYzhlMWRlYjM0NmYxYmI3ZjI0ZDg1Y2ExNjllNiA9IEwuY2lyY2xlTWFya2VyKAogICAgICAgICAgICAgICAgWzM3Ljc2MTU2NTU5MjgwNDUsIC0xMjIuNDIzODAzMDAxOTAwOTldLAogICAgICAgICAgICAgICAgeyJidWJibGluZ01vdXNlRXZlbnRzIjogdHJ1ZSwgImNvbG9yIjogInllbGxvdyIsICJkYXNoQXJyYXkiOiBudWxsLCAiZGFzaE9mZnNldCI6IG51bGwsICJmaWxsIjogdHJ1ZSwgImZpbGxDb2xvciI6ICJibHVlIiwgImZpbGxPcGFjaXR5IjogMC42LCAiZmlsbFJ1bGUiOiAiZXZlbm9kZCIsICJsaW5lQ2FwIjogInJvdW5kIiwgImxpbmVKb2luIjogInJvdW5kIiwgIm9wYWNpdHkiOiAxLjAsICJyYWRpdXMiOiA1LCAic3Ryb2tlIjogdHJ1ZSwgIndlaWdodCI6IDN9CiAgICAgICAgICAgICkuYWRkVG8oZmVhdHVyZV9ncm91cF84M2Y3NzZmZmM0ODA0MTljOTMxYjIzMzczNzhlYWY0ZSk7CiAgICAgICAgCiAgICAKICAgICAgICAgICAgdmFyIGNpcmNsZV9tYXJrZXJfZTE4ZjZjZGI1ODJkNDcxYjk2ODg1MzQwZjA1YTU4YWUgPSBMLmNpcmNsZU1hcmtlcigKICAgICAgICAgICAgICAgIFszNy43NjE1NjU1OTI4MDQ1LCAtMTIyLjQyMzgwMzAwMTkwMDk5XSwKICAgICAgICAgICAgICAgIHsiYnViYmxpbmdNb3VzZUV2ZW50cyI6IHRydWUsICJjb2xvciI6ICJ5ZWxsb3ciLCAiZGFzaEFycmF5IjogbnVsbCwgImRhc2hPZmZzZXQiOiBudWxsLCAiZmlsbCI6IHRydWUsICJmaWxsQ29sb3IiOiAiYmx1ZSIsICJmaWxsT3BhY2l0eSI6IDAuNiwgImZpbGxSdWxlIjogImV2ZW5vZGQiLCAibGluZUNhcCI6ICJyb3VuZCIsICJsaW5lSm9pbiI6ICJyb3VuZCIsICJvcGFjaXR5IjogMS4wLCAicmFkaXVzIjogNSwgInN0cm9rZSI6IHRydWUsICJ3ZWlnaHQiOiAzfQogICAgICAgICAgICApLmFkZFRvKGZlYXR1cmVfZ3JvdXBfODNmNzc2ZmZjNDgwNDE5YzkzMWIyMzM3Mzc4ZWFmNGUpOwogICAgICAgIAogICAgCiAgICAgICAgICAgIHZhciBjaXJjbGVfbWFya2VyXzU1MmUzMTBiNTNlNTRjYjc4MDBjNDBlNTMwMWE5ZWY0ID0gTC5jaXJjbGVNYXJrZXIoCiAgICAgICAgICAgICAgICBbMzcuNzQ0MTkyNzUwODkzMjA1LCAtMTIyLjQ0NDY4NTQ4MjI3M10sCiAgICAgICAgICAgICAgICB7ImJ1YmJsaW5nTW91c2VFdmVudHMiOiB0cnVlLCAiY29sb3IiOiAieWVsbG93IiwgImRhc2hBcnJheSI6IG51bGwsICJkYXNoT2Zmc2V0IjogbnVsbCwgImZpbGwiOiB0cnVlLCAiZmlsbENvbG9yIjogImJsdWUiLCAiZmlsbE9wYWNpdHkiOiAwLjYsICJmaWxsUnVsZSI6ICJldmVub2RkIiwgImxpbmVDYXAiOiAicm91bmQiLCAibGluZUpvaW4iOiAicm91bmQiLCAib3BhY2l0eSI6IDEuMCwgInJhZGl1cyI6IDUsICJzdHJva2UiOiB0cnVlLCAid2VpZ2h0IjogM30KICAgICAgICAgICAgKS5hZGRUbyhmZWF0dXJlX2dyb3VwXzgzZjc3NmZmYzQ4MDQxOWM5MzFiMjMzNzM3OGVhZjRlKTsKICAgICAgICAKICAgIAogICAgICAgICAgICB2YXIgY2lyY2xlX21hcmtlcl9mYWM1OTdmMTdmOTk0NGRhYTRmNzg5ODg1NThiMTQxMiA9IEwuY2lyY2xlTWFya2VyKAogICAgICAgICAgICAgICAgWzM3Ljc3NTQ2OTI4MjAwNDEsIC0xMjIuNDE1NzU3MDM5MTk2XSwKICAgICAgICAgICAgICAgIHsiYnViYmxpbmdNb3VzZUV2ZW50cyI6IHRydWUsICJjb2xvciI6ICJ5ZWxsb3ciLCAiZGFzaEFycmF5IjogbnVsbCwgImRhc2hPZmZzZXQiOiBudWxsLCAiZmlsbCI6IHRydWUsICJmaWxsQ29sb3IiOiAiYmx1ZSIsICJmaWxsT3BhY2l0eSI6IDAuNiwgImZpbGxSdWxlIjogImV2ZW5vZGQiLCAibGluZUNhcCI6ICJyb3VuZCIsICJsaW5lSm9pbiI6ICJyb3VuZCIsICJvcGFjaXR5IjogMS4wLCAicmFkaXVzIjogNSwgInN0cm9rZSI6IHRydWUsICJ3ZWlnaHQiOiAzfQogICAgICAgICAgICApLmFkZFRvKGZlYXR1cmVfZ3JvdXBfODNmNzc2ZmZjNDgwNDE5YzkzMWIyMzM3Mzc4ZWFmNGUpOwogICAgICAgIAogICAgCiAgICAgICAgICAgIHZhciBjaXJjbGVfbWFya2VyX2I3OGRhMTA1OWYzZDQyYzM4ZDJmYzdkZWZmZjE0ZjNmID0gTC5jaXJjbGVNYXJrZXIoCiAgICAgICAgICAgICAgICBbMzcuNzI4NTI4MDYyNzQ2NSwgLTEyMi40NzU2NDc0NjA3ODU5OV0sCiAgICAgICAgICAgICAgICB7ImJ1YmJsaW5nTW91c2VFdmVudHMiOiB0cnVlLCAiY29sb3IiOiAieWVsbG93IiwgImRhc2hBcnJheSI6IG51bGwsICJkYXNoT2Zmc2V0IjogbnVsbCwgImZpbGwiOiB0cnVlLCAiZmlsbENvbG9yIjogImJsdWUiLCAiZmlsbE9wYWNpdHkiOiAwLjYsICJmaWxsUnVsZSI6ICJldmVub2RkIiwgImxpbmVDYXAiOiAicm91bmQiLCAibGluZUpvaW4iOiAicm91bmQiLCAib3BhY2l0eSI6IDEuMCwgInJhZGl1cyI6IDUsICJzdHJva2UiOiB0cnVlLCAid2VpZ2h0IjogM30KICAgICAgICAgICAgKS5hZGRUbyhmZWF0dXJlX2dyb3VwXzgzZjc3NmZmYzQ4MDQxOWM5MzFiMjMzNzM3OGVhZjRlKTsKICAgICAgICAKICAgIAogICAgICAgICAgICB2YXIgY2lyY2xlX21hcmtlcl81YTU0ZTRhNmYzYTc0M2FjYjMxYjhmYzEwYTRhYjViYyA9IEwuY2lyY2xlTWFya2VyKAogICAgICAgICAgICAgICAgWzM3Ljc0Mjg1MTczNzQ0NDg5NCwgLTEyMi40MjA5Njc0NDA1NjRdLAogICAgICAgICAgICAgICAgeyJidWJibGluZ01vdXNlRXZlbnRzIjogdHJ1ZSwgImNvbG9yIjogInllbGxvdyIsICJkYXNoQXJyYXkiOiBudWxsLCAiZGFzaE9mZnNldCI6IG51bGwsICJmaWxsIjogdHJ1ZSwgImZpbGxDb2xvciI6ICJibHVlIiwgImZpbGxPcGFjaXR5IjogMC42LCAiZmlsbFJ1bGUiOiAiZXZlbm9kZCIsICJsaW5lQ2FwIjogInJvdW5kIiwgImxpbmVKb2luIjogInJvdW5kIiwgIm9wYWNpdHkiOiAxLjAsICJyYWRpdXMiOiA1LCAic3Ryb2tlIjogdHJ1ZSwgIndlaWdodCI6IDN9CiAgICAgICAgICAgICkuYWRkVG8oZmVhdHVyZV9ncm91cF84M2Y3NzZmZmM0ODA0MTljOTMxYjIzMzczNzhlYWY0ZSk7CiAgICAgICAgCiAgICAKICAgICAgICAgICAgdmFyIGNpcmNsZV9tYXJrZXJfYjkzZjJlNjQ5ODM1NDYxZWE3ODBhZmI5Nzc1MzNmMGQgPSBMLmNpcmNsZU1hcmtlcigKICAgICAgICAgICAgICAgIFszNy43ODIxMTk4NDg4OTMxLCAtMTIyLjQxNTY2OTY2MTQ0M10sCiAgICAgICAgICAgICAgICB7ImJ1YmJsaW5nTW91c2VFdmVudHMiOiB0cnVlLCAiY29sb3IiOiAieWVsbG93IiwgImRhc2hBcnJheSI6IG51bGwsICJkYXNoT2Zmc2V0IjogbnVsbCwgImZpbGwiOiB0cnVlLCAiZmlsbENvbG9yIjogImJsdWUiLCAiZmlsbE9wYWNpdHkiOiAwLjYsICJmaWxsUnVsZSI6ICJldmVub2RkIiwgImxpbmVDYXAiOiAicm91bmQiLCAibGluZUpvaW4iOiAicm91bmQiLCAib3BhY2l0eSI6IDEuMCwgInJhZGl1cyI6IDUsICJzdHJva2UiOiB0cnVlLCAid2VpZ2h0IjogM30KICAgICAgICAgICAgKS5hZGRUbyhmZWF0dXJlX2dyb3VwXzgzZjc3NmZmYzQ4MDQxOWM5MzFiMjMzNzM3OGVhZjRlKTsKICAgICAgICAKICAgIAogICAgICAgICAgICB2YXIgY2lyY2xlX21hcmtlcl8zYWM2NTdmMjg4ZTU0NmIzODljZGE0ZjU3ZmY0MDJhOSA9IEwuY2lyY2xlTWFya2VyKAogICAgICAgICAgICAgICAgWzM3Ljc3OTE2NzQyMTg5NjMsIC0xMjIuNDA2MzQ2NDI1NjMyXSwKICAgICAgICAgICAgICAgIHsiYnViYmxpbmdNb3VzZUV2ZW50cyI6IHRydWUsICJjb2xvciI6ICJ5ZWxsb3ciLCAiZGFzaEFycmF5IjogbnVsbCwgImRhc2hPZmZzZXQiOiBudWxsLCAiZmlsbCI6IHRydWUsICJmaWxsQ29sb3IiOiAiYmx1ZSIsICJmaWxsT3BhY2l0eSI6IDAuNiwgImZpbGxSdWxlIjogImV2ZW5vZGQiLCAibGluZUNhcCI6ICJyb3VuZCIsICJsaW5lSm9pbiI6ICJyb3VuZCIsICJvcGFjaXR5IjogMS4wLCAicmFkaXVzIjogNSwgInN0cm9rZSI6IHRydWUsICJ3ZWlnaHQiOiAzfQogICAgICAgICAgICApLmFkZFRvKGZlYXR1cmVfZ3JvdXBfODNmNzc2ZmZjNDgwNDE5YzkzMWIyMzM3Mzc4ZWFmNGUpOwogICAgICAgIAogICAgCiAgICAgICAgICAgIHZhciBjaXJjbGVfbWFya2VyXzY3YTZiNDU0YjVjZTQzZWVhN2FkMjI5MTE4OTU4ZDE5ID0gTC5jaXJjbGVNYXJrZXIoCiAgICAgICAgICAgICAgICBbMzcuNzY1NzE4NDM5NTI4MiwgLTEyMi40MDk1Mjk5MTMyNzhdLAogICAgICAgICAgICAgICAgeyJidWJibGluZ01vdXNlRXZlbnRzIjogdHJ1ZSwgImNvbG9yIjogInllbGxvdyIsICJkYXNoQXJyYXkiOiBudWxsLCAiZGFzaE9mZnNldCI6IG51bGwsICJmaWxsIjogdHJ1ZSwgImZpbGxDb2xvciI6ICJibHVlIiwgImZpbGxPcGFjaXR5IjogMC42LCAiZmlsbFJ1bGUiOiAiZXZlbm9kZCIsICJsaW5lQ2FwIjogInJvdW5kIiwgImxpbmVKb2luIjogInJvdW5kIiwgIm9wYWNpdHkiOiAxLjAsICJyYWRpdXMiOiA1LCAic3Ryb2tlIjogdHJ1ZSwgIndlaWdodCI6IDN9CiAgICAgICAgICAgICkuYWRkVG8oZmVhdHVyZV9ncm91cF84M2Y3NzZmZmM0ODA0MTljOTMxYjIzMzczNzhlYWY0ZSk7CiAgICAgICAgCiAgICAKICAgICAgICAgICAgdmFyIGNpcmNsZV9tYXJrZXJfMTQ3YWM5YTliMmFmNDE0OTg3ZGY0ZWFjYWZhNDIxZjMgPSBMLmNpcmNsZU1hcmtlcigKICAgICAgICAgICAgICAgIFszNy43NzU0MjA3MDY3MTEsIC0xMjIuNDAzNDA0NzkxNDc4OTldLAogICAgICAgICAgICAgICAgeyJidWJibGluZ01vdXNlRXZlbnRzIjogdHJ1ZSwgImNvbG9yIjogInllbGxvdyIsICJkYXNoQXJyYXkiOiBudWxsLCAiZGFzaE9mZnNldCI6IG51bGwsICJmaWxsIjogdHJ1ZSwgImZpbGxDb2xvciI6ICJibHVlIiwgImZpbGxPcGFjaXR5IjogMC42LCAiZmlsbFJ1bGUiOiAiZXZlbm9kZCIsICJsaW5lQ2FwIjogInJvdW5kIiwgImxpbmVKb2luIjogInJvdW5kIiwgIm9wYWNpdHkiOiAxLjAsICJyYWRpdXMiOiA1LCAic3Ryb2tlIjogdHJ1ZSwgIndlaWdodCI6IDN9CiAgICAgICAgICAgICkuYWRkVG8oZmVhdHVyZV9ncm91cF84M2Y3NzZmZmM0ODA0MTljOTMxYjIzMzczNzhlYWY0ZSk7CiAgICAgICAgCiAgICAKICAgICAgICAgICAgdmFyIGNpcmNsZV9tYXJrZXJfYmJjYTk1MWM4NDUxNDliYzk2MzU2Y2ExYTRkYWNiODQgPSBMLmNpcmNsZU1hcmtlcigKICAgICAgICAgICAgICAgIFszNy43Njc1MjQzMDg3ODMsIC0xMjIuNDEwNzM4MDk3MzE1XSwKICAgICAgICAgICAgICAgIHsiYnViYmxpbmdNb3VzZUV2ZW50cyI6IHRydWUsICJjb2xvciI6ICJ5ZWxsb3ciLCAiZGFzaEFycmF5IjogbnVsbCwgImRhc2hPZmZzZXQiOiBudWxsLCAiZmlsbCI6IHRydWUsICJmaWxsQ29sb3IiOiAiYmx1ZSIsICJmaWxsT3BhY2l0eSI6IDAuNiwgImZpbGxSdWxlIjogImV2ZW5vZGQiLCAibGluZUNhcCI6ICJyb3VuZCIsICJsaW5lSm9pbiI6ICJyb3VuZCIsICJvcGFjaXR5IjogMS4wLCAicmFkaXVzIjogNSwgInN0cm9rZSI6IHRydWUsICJ3ZWlnaHQiOiAzfQogICAgICAgICAgICApLmFkZFRvKGZlYXR1cmVfZ3JvdXBfODNmNzc2ZmZjNDgwNDE5YzkzMWIyMzM3Mzc4ZWFmNGUpOwogICAgICAgIAogICAgCiAgICAgICAgICAgIHZhciBjaXJjbGVfbWFya2VyXzRiNjBhZTA4Nzg0YzQ5ZTBiZTdhNTJmNmYzMTE5ZmRkID0gTC5jaXJjbGVNYXJrZXIoCiAgICAgICAgICAgICAgICBbMzcuNzY3NTI0MzA4NzgzLCAtMTIyLjQxMDczODA5NzMxNV0sCiAgICAgICAgICAgICAgICB7ImJ1YmJsaW5nTW91c2VFdmVudHMiOiB0cnVlLCAiY29sb3IiOiAieWVsbG93IiwgImRhc2hBcnJheSI6IG51bGwsICJkYXNoT2Zmc2V0IjogbnVsbCwgImZpbGwiOiB0cnVlLCAiZmlsbENvbG9yIjogImJsdWUiLCAiZmlsbE9wYWNpdHkiOiAwLjYsICJmaWxsUnVsZSI6ICJldmVub2RkIiwgImxpbmVDYXAiOiAicm91bmQiLCAibGluZUpvaW4iOiAicm91bmQiLCAib3BhY2l0eSI6IDEuMCwgInJhZGl1cyI6IDUsICJzdHJva2UiOiB0cnVlLCAid2VpZ2h0IjogM30KICAgICAgICAgICAgKS5hZGRUbyhmZWF0dXJlX2dyb3VwXzgzZjc3NmZmYzQ4MDQxOWM5MzFiMjMzNzM3OGVhZjRlKTsKICAgICAgICAKICAgIAogICAgICAgICAgICB2YXIgY2lyY2xlX21hcmtlcl9iMjYwZTA2OGUwOGU0ODNhYWEzMzk0MWRhODcwMmY3NCA9IEwuY2lyY2xlTWFya2VyKAogICAgICAgICAgICAgICAgWzM3LjcxMzEwODM0MzMyNjQsIC0xMjIuNDQ0MzE0MDI1MTg4XSwKICAgICAgICAgICAgICAgIHsiYnViYmxpbmdNb3VzZUV2ZW50cyI6IHRydWUsICJjb2xvciI6ICJ5ZWxsb3ciLCAiZGFzaEFycmF5IjogbnVsbCwgImRhc2hPZmZzZXQiOiBudWxsLCAiZmlsbCI6IHRydWUsICJmaWxsQ29sb3IiOiAiYmx1ZSIsICJmaWxsT3BhY2l0eSI6IDAuNiwgImZpbGxSdWxlIjogImV2ZW5vZGQiLCAibGluZUNhcCI6ICJyb3VuZCIsICJsaW5lSm9pbiI6ICJyb3VuZCIsICJvcGFjaXR5IjogMS4wLCAicmFkaXVzIjogNSwgInN0cm9rZSI6IHRydWUsICJ3ZWlnaHQiOiAzfQogICAgICAgICAgICApLmFkZFRvKGZlYXR1cmVfZ3JvdXBfODNmNzc2ZmZjNDgwNDE5YzkzMWIyMzM3Mzc4ZWFmNGUpOwogICAgICAgIAogICAgCiAgICAgICAgICAgIHZhciBjaXJjbGVfbWFya2VyXzhjNGFhMGUwNjcxMjQyOTI5ZTA4MTZjYWY4MzUwN2EyID0gTC5jaXJjbGVNYXJrZXIoCiAgICAgICAgICAgICAgICBbMzcuNzEzMTA4MzQzMzI2NCwgLTEyMi40NDQzMTQwMjUxODhdLAogICAgICAgICAgICAgICAgeyJidWJibGluZ01vdXNlRXZlbnRzIjogdHJ1ZSwgImNvbG9yIjogInllbGxvdyIsICJkYXNoQXJyYXkiOiBudWxsLCAiZGFzaE9mZnNldCI6IG51bGwsICJmaWxsIjogdHJ1ZSwgImZpbGxDb2xvciI6ICJibHVlIiwgImZpbGxPcGFjaXR5IjogMC42LCAiZmlsbFJ1bGUiOiAiZXZlbm9kZCIsICJsaW5lQ2FwIjogInJvdW5kIiwgImxpbmVKb2luIjogInJvdW5kIiwgIm9wYWNpdHkiOiAxLjAsICJyYWRpdXMiOiA1LCAic3Ryb2tlIjogdHJ1ZSwgIndlaWdodCI6IDN9CiAgICAgICAgICAgICkuYWRkVG8oZmVhdHVyZV9ncm91cF84M2Y3NzZmZmM0ODA0MTljOTMxYjIzMzczNzhlYWY0ZSk7CiAgICAgICAgCiAgICAKICAgICAgICAgICAgdmFyIGNpcmNsZV9tYXJrZXJfMDA3M2Y1ODNkNmZmNDlkZjlkNmI4ZTM2ZGY1NTIzZTcgPSBMLmNpcmNsZU1hcmtlcigKICAgICAgICAgICAgICAgIFszNy43NjYwMTYwMTE0MTAzLCAtMTIyLjQwMzY0NDYyMDQzOV0sCiAgICAgICAgICAgICAgICB7ImJ1YmJsaW5nTW91c2VFdmVudHMiOiB0cnVlLCAiY29sb3IiOiAieWVsbG93IiwgImRhc2hBcnJheSI6IG51bGwsICJkYXNoT2Zmc2V0IjogbnVsbCwgImZpbGwiOiB0cnVlLCAiZmlsbENvbG9yIjogImJsdWUiLCAiZmlsbE9wYWNpdHkiOiAwLjYsICJmaWxsUnVsZSI6ICJldmVub2RkIiwgImxpbmVDYXAiOiAicm91bmQiLCAibGluZUpvaW4iOiAicm91bmQiLCAib3BhY2l0eSI6IDEuMCwgInJhZGl1cyI6IDUsICJzdHJva2UiOiB0cnVlLCAid2VpZ2h0IjogM30KICAgICAgICAgICAgKS5hZGRUbyhmZWF0dXJlX2dyb3VwXzgzZjc3NmZmYzQ4MDQxOWM5MzFiMjMzNzM3OGVhZjRlKTsKICAgICAgICAKICAgIAogICAgICAgICAgICB2YXIgY2lyY2xlX21hcmtlcl84MzFhYjZmNjYxZGY0ZTIyYjE1YjI1OTUwZmVmMDUxMiA9IEwuY2lyY2xlTWFya2VyKAogICAgICAgICAgICAgICAgWzM3Ljc2NjAxNjAxMTQxMDMsIC0xMjIuNDAzNjQ0NjIwNDM5XSwKICAgICAgICAgICAgICAgIHsiYnViYmxpbmdNb3VzZUV2ZW50cyI6IHRydWUsICJjb2xvciI6ICJ5ZWxsb3ciLCAiZGFzaEFycmF5IjogbnVsbCwgImRhc2hPZmZzZXQiOiBudWxsLCAiZmlsbCI6IHRydWUsICJmaWxsQ29sb3IiOiAiYmx1ZSIsICJmaWxsT3BhY2l0eSI6IDAuNiwgImZpbGxSdWxlIjogImV2ZW5vZGQiLCAibGluZUNhcCI6ICJyb3VuZCIsICJsaW5lSm9pbiI6ICJyb3VuZCIsICJvcGFjaXR5IjogMS4wLCAicmFkaXVzIjogNSwgInN0cm9rZSI6IHRydWUsICJ3ZWlnaHQiOiAzfQogICAgICAgICAgICApLmFkZFRvKGZlYXR1cmVfZ3JvdXBfODNmNzc2ZmZjNDgwNDE5YzkzMWIyMzM3Mzc4ZWFmNGUpOwogICAgICAgIAogICAgCiAgICAgICAgICAgIHZhciBjaXJjbGVfbWFya2VyX2E2ZTcxNjlhYTc5YTRmMGU5ZWRmNjk3ODY4NGViZmZlID0gTC5jaXJjbGVNYXJrZXIoCiAgICAgICAgICAgICAgICBbMzcuNzc2MjMxMDQwNDc1OCwgLTEyMi40MTQ3MTQyOTU1Nzg5OV0sCiAgICAgICAgICAgICAgICB7ImJ1YmJsaW5nTW91c2VFdmVudHMiOiB0cnVlLCAiY29sb3IiOiAieWVsbG93IiwgImRhc2hBcnJheSI6IG51bGwsICJkYXNoT2Zmc2V0IjogbnVsbCwgImZpbGwiOiB0cnVlLCAiZmlsbENvbG9yIjogImJsdWUiLCAiZmlsbE9wYWNpdHkiOiAwLjYsICJmaWxsUnVsZSI6ICJldmVub2RkIiwgImxpbmVDYXAiOiAicm91bmQiLCAibGluZUpvaW4iOiAicm91bmQiLCAib3BhY2l0eSI6IDEuMCwgInJhZGl1cyI6IDUsICJzdHJva2UiOiB0cnVlLCAid2VpZ2h0IjogM30KICAgICAgICAgICAgKS5hZGRUbyhmZWF0dXJlX2dyb3VwXzgzZjc3NmZmYzQ4MDQxOWM5MzFiMjMzNzM3OGVhZjRlKTsKICAgICAgICAKICAgIAogICAgICAgICAgICB2YXIgY2lyY2xlX21hcmtlcl9jMGFiY2EyZDhmNDU0ZDNmYTdhNzg3N2M3ZTAxOWQ5NiA9IEwuY2lyY2xlTWFya2VyKAogICAgICAgICAgICAgICAgWzM3Ljc3NjIzMTA0MDQ3NTgsIC0xMjIuNDE0NzE0Mjk1NTc4OTldLAogICAgICAgICAgICAgICAgeyJidWJibGluZ01vdXNlRXZlbnRzIjogdHJ1ZSwgImNvbG9yIjogInllbGxvdyIsICJkYXNoQXJyYXkiOiBudWxsLCAiZGFzaE9mZnNldCI6IG51bGwsICJmaWxsIjogdHJ1ZSwgImZpbGxDb2xvciI6ICJibHVlIiwgImZpbGxPcGFjaXR5IjogMC42LCAiZmlsbFJ1bGUiOiAiZXZlbm9kZCIsICJsaW5lQ2FwIjogInJvdW5kIiwgImxpbmVKb2luIjogInJvdW5kIiwgIm9wYWNpdHkiOiAxLjAsICJyYWRpdXMiOiA1LCAic3Ryb2tlIjogdHJ1ZSwgIndlaWdodCI6IDN9CiAgICAgICAgICAgICkuYWRkVG8oZmVhdHVyZV9ncm91cF84M2Y3NzZmZmM0ODA0MTljOTMxYjIzMzczNzhlYWY0ZSk7CiAgICAgICAgCiAgICAKICAgICAgICAgICAgdmFyIGNpcmNsZV9tYXJrZXJfZjg5ZjUzMzE5NjBmNDBjOGI4MTllMDA2ZDJiODkwZGMgPSBMLmNpcmNsZU1hcmtlcigKICAgICAgICAgICAgICAgIFszNy43Nzc1MTE4ODk1Njk1LCAtMTIyLjQxODA0NTQ1Mjc2OF0sCiAgICAgICAgICAgICAgICB7ImJ1YmJsaW5nTW91c2VFdmVudHMiOiB0cnVlLCAiY29sb3IiOiAieWVsbG93IiwgImRhc2hBcnJheSI6IG51bGwsICJkYXNoT2Zmc2V0IjogbnVsbCwgImZpbGwiOiB0cnVlLCAiZmlsbENvbG9yIjogImJsdWUiLCAiZmlsbE9wYWNpdHkiOiAwLjYsICJmaWxsUnVsZSI6ICJldmVub2RkIiwgImxpbmVDYXAiOiAicm91bmQiLCAibGluZUpvaW4iOiAicm91bmQiLCAib3BhY2l0eSI6IDEuMCwgInJhZGl1cyI6IDUsICJzdHJva2UiOiB0cnVlLCAid2VpZ2h0IjogM30KICAgICAgICAgICAgKS5hZGRUbyhmZWF0dXJlX2dyb3VwXzgzZjc3NmZmYzQ4MDQxOWM5MzFiMjMzNzM3OGVhZjRlKTsKICAgICAgICAKICAgIAogICAgICAgICAgICB2YXIgY2lyY2xlX21hcmtlcl9hZDM3OTZjZmY2ZTE0ZWIyYWFjMTA1MGZkZWIyZWFkOCA9IEwuY2lyY2xlTWFya2VyKAogICAgICAgICAgICAgICAgWzM3Ljc4MjAyMzg0Nzg5NzUsIC0xMjIuNDAxMTYxNTU1NjAyXSwKICAgICAgICAgICAgICAgIHsiYnViYmxpbmdNb3VzZUV2ZW50cyI6IHRydWUsICJjb2xvciI6ICJ5ZWxsb3ciLCAiZGFzaEFycmF5IjogbnVsbCwgImRhc2hPZmZzZXQiOiBudWxsLCAiZmlsbCI6IHRydWUsICJmaWxsQ29sb3IiOiAiYmx1ZSIsICJmaWxsT3BhY2l0eSI6IDAuNiwgImZpbGxSdWxlIjogImV2ZW5vZGQiLCAibGluZUNhcCI6ICJyb3VuZCIsICJsaW5lSm9pbiI6ICJyb3VuZCIsICJvcGFjaXR5IjogMS4wLCAicmFkaXVzIjogNSwgInN0cm9rZSI6IHRydWUsICJ3ZWlnaHQiOiAzfQogICAgICAgICAgICApLmFkZFRvKGZlYXR1cmVfZ3JvdXBfODNmNzc2ZmZjNDgwNDE5YzkzMWIyMzM3Mzc4ZWFmNGUpOwogICAgICAgIAogICAgCiAgICAgICAgICAgIHZhciBjaXJjbGVfbWFya2VyXzI1NWNhYzQ4OTczOTRiMDA4YmVkMTc4OTlhMTZhYWY1ID0gTC5jaXJjbGVNYXJrZXIoCiAgICAgICAgICAgICAgICBbMzcuNzI3MDA1MzE5NjI5OTk1LCAtMTIyLjQwMzQwODY2OTE5MV0sCiAgICAgICAgICAgICAgICB7ImJ1YmJsaW5nTW91c2VFdmVudHMiOiB0cnVlLCAiY29sb3IiOiAieWVsbG93IiwgImRhc2hBcnJheSI6IG51bGwsICJkYXNoT2Zmc2V0IjogbnVsbCwgImZpbGwiOiB0cnVlLCAiZmlsbENvbG9yIjogImJsdWUiLCAiZmlsbE9wYWNpdHkiOiAwLjYsICJmaWxsUnVsZSI6ICJldmVub2RkIiwgImxpbmVDYXAiOiAicm91bmQiLCAibGluZUpvaW4iOiAicm91bmQiLCAib3BhY2l0eSI6IDEuMCwgInJhZGl1cyI6IDUsICJzdHJva2UiOiB0cnVlLCAid2VpZ2h0IjogM30KICAgICAgICAgICAgKS5hZGRUbyhmZWF0dXJlX2dyb3VwXzgzZjc3NmZmYzQ4MDQxOWM5MzFiMjMzNzM3OGVhZjRlKTsKICAgICAgICAKICAgIAogICAgICAgICAgICB2YXIgY2lyY2xlX21hcmtlcl80ODkyNjhjYmFjMzc0MjhjYTBlYmI5YThlYzVkOTBjOCA9IEwuY2lyY2xlTWFya2VyKAogICAgICAgICAgICAgICAgWzM3Ljc4MzgzNDQzNzQxNDEsIC0xMjIuNDEyOTMwNTIyMDU5XSwKICAgICAgICAgICAgICAgIHsiYnViYmxpbmdNb3VzZUV2ZW50cyI6IHRydWUsICJjb2xvciI6ICJ5ZWxsb3ciLCAiZGFzaEFycmF5IjogbnVsbCwgImRhc2hPZmZzZXQiOiBudWxsLCAiZmlsbCI6IHRydWUsICJmaWxsQ29sb3IiOiAiYmx1ZSIsICJmaWxsT3BhY2l0eSI6IDAuNiwgImZpbGxSdWxlIjogImV2ZW5vZGQiLCAibGluZUNhcCI6ICJyb3VuZCIsICJsaW5lSm9pbiI6ICJyb3VuZCIsICJvcGFjaXR5IjogMS4wLCAicmFkaXVzIjogNSwgInN0cm9rZSI6IHRydWUsICJ3ZWlnaHQiOiAzfQogICAgICAgICAgICApLmFkZFRvKGZlYXR1cmVfZ3JvdXBfODNmNzc2ZmZjNDgwNDE5YzkzMWIyMzM3Mzc4ZWFmNGUpOwogICAgICAgIAogICAgCiAgICAgICAgICAgIHZhciBjaXJjbGVfbWFya2VyXzdiNTI1OWZmOWE1ZTQ1ZmI5MTZiNjc5OTE0NGFkOTZjID0gTC5jaXJjbGVNYXJrZXIoCiAgICAgICAgICAgICAgICBbMzcuNzUzMDE4NjUzNzQ0NjA0LCAtMTIyLjQxODU4NzE3MjIxOV0sCiAgICAgICAgICAgICAgICB7ImJ1YmJsaW5nTW91c2VFdmVudHMiOiB0cnVlLCAiY29sb3IiOiAieWVsbG93IiwgImRhc2hBcnJheSI6IG51bGwsICJkYXNoT2Zmc2V0IjogbnVsbCwgImZpbGwiOiB0cnVlLCAiZmlsbENvbG9yIjogImJsdWUiLCAiZmlsbE9wYWNpdHkiOiAwLjYsICJmaWxsUnVsZSI6ICJldmVub2RkIiwgImxpbmVDYXAiOiAicm91bmQiLCAibGluZUpvaW4iOiAicm91bmQiLCAib3BhY2l0eSI6IDEuMCwgInJhZGl1cyI6IDUsICJzdHJva2UiOiB0cnVlLCAid2VpZ2h0IjogM30KICAgICAgICAgICAgKS5hZGRUbyhmZWF0dXJlX2dyb3VwXzgzZjc3NmZmYzQ4MDQxOWM5MzFiMjMzNzM3OGVhZjRlKTsKICAgICAgICAKICAgIAogICAgICAgICAgICB2YXIgY2lyY2xlX21hcmtlcl8yZTI1NTY5MmYyYWI0NTRkYjYwZjFiODM5MjgzMTQ0YiA9IEwuY2lyY2xlTWFya2VyKAogICAgICAgICAgICAgICAgWzM3Ljc3NDA0MTgzODUwNDEsIC0xMjIuNDE0MzcwNjI3NDk1XSwKICAgICAgICAgICAgICAgIHsiYnViYmxpbmdNb3VzZUV2ZW50cyI6IHRydWUsICJjb2xvciI6ICJ5ZWxsb3ciLCAiZGFzaEFycmF5IjogbnVsbCwgImRhc2hPZmZzZXQiOiBudWxsLCAiZmlsbCI6IHRydWUsICJmaWxsQ29sb3IiOiAiYmx1ZSIsICJmaWxsT3BhY2l0eSI6IDAuNiwgImZpbGxSdWxlIjogImV2ZW5vZGQiLCAibGluZUNhcCI6ICJyb3VuZCIsICJsaW5lSm9pbiI6ICJyb3VuZCIsICJvcGFjaXR5IjogMS4wLCAicmFkaXVzIjogNSwgInN0cm9rZSI6IHRydWUsICJ3ZWlnaHQiOiAzfQogICAgICAgICAgICApLmFkZFRvKGZlYXR1cmVfZ3JvdXBfODNmNzc2ZmZjNDgwNDE5YzkzMWIyMzM3Mzc4ZWFmNGUpOwogICAgICAgIAogICAgCiAgICAgICAgICAgIHZhciBjaXJjbGVfbWFya2VyX2EzM2FlY2YyMDdkMzQzYzE4OTNhZWMyODMzYTI4MTViID0gTC5jaXJjbGVNYXJrZXIoCiAgICAgICAgICAgICAgICBbMzcuNzkwNTM4OTkzNzI1LCAtMTIyLjQwMzkxNTY4MTU3MTAxXSwKICAgICAgICAgICAgICAgIHsiYnViYmxpbmdNb3VzZUV2ZW50cyI6IHRydWUsICJjb2xvciI6ICJ5ZWxsb3ciLCAiZGFzaEFycmF5IjogbnVsbCwgImRhc2hPZmZzZXQiOiBudWxsLCAiZmlsbCI6IHRydWUsICJmaWxsQ29sb3IiOiAiYmx1ZSIsICJmaWxsT3BhY2l0eSI6IDAuNiwgImZpbGxSdWxlIjogImV2ZW5vZGQiLCAibGluZUNhcCI6ICJyb3VuZCIsICJsaW5lSm9pbiI6ICJyb3VuZCIsICJvcGFjaXR5IjogMS4wLCAicmFkaXVzIjogNSwgInN0cm9rZSI6IHRydWUsICJ3ZWlnaHQiOiAzfQogICAgICAgICAgICApLmFkZFRvKGZlYXR1cmVfZ3JvdXBfODNmNzc2ZmZjNDgwNDE5YzkzMWIyMzM3Mzc4ZWFmNGUpOwogICAgICAgIAogICAgCiAgICAgICAgICAgIHZhciBjaXJjbGVfbWFya2VyXzQ1ODdhYzI4NmRhMjQ5ODRhOGIyNDc0MGMwM2EyZjE4ID0gTC5jaXJjbGVNYXJrZXIoCiAgICAgICAgICAgICAgICBbMzcuNzgzMDk5ODI0NDU5MjEsIC0xMjIuNDE5MTgzMDk2MzYyXSwKICAgICAgICAgICAgICAgIHsiYnViYmxpbmdNb3VzZUV2ZW50cyI6IHRydWUsICJjb2xvciI6ICJ5ZWxsb3ciLCAiZGFzaEFycmF5IjogbnVsbCwgImRhc2hPZmZzZXQiOiBudWxsLCAiZmlsbCI6IHRydWUsICJmaWxsQ29sb3IiOiAiYmx1ZSIsICJmaWxsT3BhY2l0eSI6IDAuNiwgImZpbGxSdWxlIjogImV2ZW5vZGQiLCAibGluZUNhcCI6ICJyb3VuZCIsICJsaW5lSm9pbiI6ICJyb3VuZCIsICJvcGFjaXR5IjogMS4wLCAicmFkaXVzIjogNSwgInN0cm9rZSI6IHRydWUsICJ3ZWlnaHQiOiAzfQogICAgICAgICAgICApLmFkZFRvKGZlYXR1cmVfZ3JvdXBfODNmNzc2ZmZjNDgwNDE5YzkzMWIyMzM3Mzc4ZWFmNGUpOwogICAgICAgIAogICAgCiAgICAgICAgICAgIHZhciBjaXJjbGVfbWFya2VyXzdlMzVlZmU2NjhiNTRjNmFhMzVjOTkwZTdmMTQwYjRjID0gTC5jaXJjbGVNYXJrZXIoCiAgICAgICAgICAgICAgICBbMzcuNzQwNzM2MDU0ODM1NzksIC0xMjIuMzg4NzUzMDQ2OTk3XSwKICAgICAgICAgICAgICAgIHsiYnViYmxpbmdNb3VzZUV2ZW50cyI6IHRydWUsICJjb2xvciI6ICJ5ZWxsb3ciLCAiZGFzaEFycmF5IjogbnVsbCwgImRhc2hPZmZzZXQiOiBudWxsLCAiZmlsbCI6IHRydWUsICJmaWxsQ29sb3IiOiAiYmx1ZSIsICJmaWxsT3BhY2l0eSI6IDAuNiwgImZpbGxSdWxlIjogImV2ZW5vZGQiLCAibGluZUNhcCI6ICJyb3VuZCIsICJsaW5lSm9pbiI6ICJyb3VuZCIsICJvcGFjaXR5IjogMS4wLCAicmFkaXVzIjogNSwgInN0cm9rZSI6IHRydWUsICJ3ZWlnaHQiOiAzfQogICAgICAgICAgICApLmFkZFRvKGZlYXR1cmVfZ3JvdXBfODNmNzc2ZmZjNDgwNDE5YzkzMWIyMzM3Mzc4ZWFmNGUpOwogICAgICAgIAogICAgCiAgICAgICAgICAgIHZhciBjaXJjbGVfbWFya2VyX2IwNjg5Nzk0MjI4NjQ3NThiNjlmOTZkN2ZmZWQzN2Y3ID0gTC5jaXJjbGVNYXJrZXIoCiAgICAgICAgICAgICAgICBbMzcuNzc0OTkxMjk0NDM2NiwgLTEyMi40Mzc3OTk3MDM0NjhdLAogICAgICAgICAgICAgICAgeyJidWJibGluZ01vdXNlRXZlbnRzIjogdHJ1ZSwgImNvbG9yIjogInllbGxvdyIsICJkYXNoQXJyYXkiOiBudWxsLCAiZGFzaE9mZnNldCI6IG51bGwsICJmaWxsIjogdHJ1ZSwgImZpbGxDb2xvciI6ICJibHVlIiwgImZpbGxPcGFjaXR5IjogMC42LCAiZmlsbFJ1bGUiOiAiZXZlbm9kZCIsICJsaW5lQ2FwIjogInJvdW5kIiwgImxpbmVKb2luIjogInJvdW5kIiwgIm9wYWNpdHkiOiAxLjAsICJyYWRpdXMiOiA1LCAic3Ryb2tlIjogdHJ1ZSwgIndlaWdodCI6IDN9CiAgICAgICAgICAgICkuYWRkVG8oZmVhdHVyZV9ncm91cF84M2Y3NzZmZmM0ODA0MTljOTMxYjIzMzczNzhlYWY0ZSk7CiAgICAgICAgCiAgICAKICAgICAgICAgICAgdmFyIGNpcmNsZV9tYXJrZXJfZTRhZmEyZDIyNzgxNDA3OWI4OGY1MjQ3NDkyYTczNGIgPSBMLmNpcmNsZU1hcmtlcigKICAgICAgICAgICAgICAgIFszNy43NzcwOTAyNzQzNjY5LCAtMTIyLjQyMTMzMjY4NDYzM10sCiAgICAgICAgICAgICAgICB7ImJ1YmJsaW5nTW91c2VFdmVudHMiOiB0cnVlLCAiY29sb3IiOiAieWVsbG93IiwgImRhc2hBcnJheSI6IG51bGwsICJkYXNoT2Zmc2V0IjogbnVsbCwgImZpbGwiOiB0cnVlLCAiZmlsbENvbG9yIjogImJsdWUiLCAiZmlsbE9wYWNpdHkiOiAwLjYsICJmaWxsUnVsZSI6ICJldmVub2RkIiwgImxpbmVDYXAiOiAicm91bmQiLCAibGluZUpvaW4iOiAicm91bmQiLCAib3BhY2l0eSI6IDEuMCwgInJhZGl1cyI6IDUsICJzdHJva2UiOiB0cnVlLCAid2VpZ2h0IjogM30KICAgICAgICAgICAgKS5hZGRUbyhmZWF0dXJlX2dyb3VwXzgzZjc3NmZmYzQ4MDQxOWM5MzFiMjMzNzM3OGVhZjRlKTsKICAgICAgICAKICAgIAogICAgICAgICAgICB2YXIgY2lyY2xlX21hcmtlcl8xYTNhOWQ5ZWRmOGY0N2I2OWU4NDViOTIyYTkwOGViNCA9IEwuY2lyY2xlTWFya2VyKAogICAgICAgICAgICAgICAgWzM3Ljc3NzA5MDI3NDM2NjksIC0xMjIuNDIxMzMyNjg0NjMzXSwKICAgICAgICAgICAgICAgIHsiYnViYmxpbmdNb3VzZUV2ZW50cyI6IHRydWUsICJjb2xvciI6ICJ5ZWxsb3ciLCAiZGFzaEFycmF5IjogbnVsbCwgImRhc2hPZmZzZXQiOiBudWxsLCAiZmlsbCI6IHRydWUsICJmaWxsQ29sb3IiOiAiYmx1ZSIsICJmaWxsT3BhY2l0eSI6IDAuNiwgImZpbGxSdWxlIjogImV2ZW5vZGQiLCAibGluZUNhcCI6ICJyb3VuZCIsICJsaW5lSm9pbiI6ICJyb3VuZCIsICJvcGFjaXR5IjogMS4wLCAicmFkaXVzIjogNSwgInN0cm9rZSI6IHRydWUsICJ3ZWlnaHQiOiAzfQogICAgICAgICAgICApLmFkZFRvKGZlYXR1cmVfZ3JvdXBfODNmNzc2ZmZjNDgwNDE5YzkzMWIyMzM3Mzc4ZWFmNGUpOwogICAgICAgIAogICAgCiAgICAgICAgICAgIHZhciBjaXJjbGVfbWFya2VyX2JmMGVkOTE2NWU3NTQ4NDFhZWM1MTJhMGIxYzI1NzA1ID0gTC5jaXJjbGVNYXJrZXIoCiAgICAgICAgICAgICAgICBbMzcuNzgyMjQ1ODIyMzkxNywgLTEyMi40NDY2MTI5Nzg4MzldLAogICAgICAgICAgICAgICAgeyJidWJibGluZ01vdXNlRXZlbnRzIjogdHJ1ZSwgImNvbG9yIjogInllbGxvdyIsICJkYXNoQXJyYXkiOiBudWxsLCAiZGFzaE9mZnNldCI6IG51bGwsICJmaWxsIjogdHJ1ZSwgImZpbGxDb2xvciI6ICJibHVlIiwgImZpbGxPcGFjaXR5IjogMC42LCAiZmlsbFJ1bGUiOiAiZXZlbm9kZCIsICJsaW5lQ2FwIjogInJvdW5kIiwgImxpbmVKb2luIjogInJvdW5kIiwgIm9wYWNpdHkiOiAxLjAsICJyYWRpdXMiOiA1LCAic3Ryb2tlIjogdHJ1ZSwgIndlaWdodCI6IDN9CiAgICAgICAgICAgICkuYWRkVG8oZmVhdHVyZV9ncm91cF84M2Y3NzZmZmM0ODA0MTljOTMxYjIzMzczNzhlYWY0ZSk7CiAgICAgICAgCiAgICAKICAgICAgICAgICAgdmFyIGNpcmNsZV9tYXJrZXJfYmM4MGRlMmZmN2Y4NGY2NDlkOWRiMDM1ZTI0NWEzNWQgPSBMLmNpcmNsZU1hcmtlcigKICAgICAgICAgICAgICAgIFszNy43MzAwMzc5OTk1MTI3OTUsIC0xMjIuNDA0NTk0MTQwNjM0XSwKICAgICAgICAgICAgICAgIHsiYnViYmxpbmdNb3VzZUV2ZW50cyI6IHRydWUsICJjb2xvciI6ICJ5ZWxsb3ciLCAiZGFzaEFycmF5IjogbnVsbCwgImRhc2hPZmZzZXQiOiBudWxsLCAiZmlsbCI6IHRydWUsICJmaWxsQ29sb3IiOiAiYmx1ZSIsICJmaWxsT3BhY2l0eSI6IDAuNiwgImZpbGxSdWxlIjogImV2ZW5vZGQiLCAibGluZUNhcCI6ICJyb3VuZCIsICJsaW5lSm9pbiI6ICJyb3VuZCIsICJvcGFjaXR5IjogMS4wLCAicmFkaXVzIjogNSwgInN0cm9rZSI6IHRydWUsICJ3ZWlnaHQiOiAzfQogICAgICAgICAgICApLmFkZFRvKGZlYXR1cmVfZ3JvdXBfODNmNzc2ZmZjNDgwNDE5YzkzMWIyMzM3Mzc4ZWFmNGUpOwogICAgICAgIAogICAgCiAgICAgICAgICAgIHZhciBjaXJjbGVfbWFya2VyXzc4NjNlNTFhMmQ0NDQ3ZmNhMzk4MTY0MDJmZDlhMzVmID0gTC5jaXJjbGVNYXJrZXIoCiAgICAgICAgICAgICAgICBbMzcuNzk1MzMzODI2NzQzNiwgLTEyMi4zOTczNzM3NDAwNjZdLAogICAgICAgICAgICAgICAgeyJidWJibGluZ01vdXNlRXZlbnRzIjogdHJ1ZSwgImNvbG9yIjogInllbGxvdyIsICJkYXNoQXJyYXkiOiBudWxsLCAiZGFzaE9mZnNldCI6IG51bGwsICJmaWxsIjogdHJ1ZSwgImZpbGxDb2xvciI6ICJibHVlIiwgImZpbGxPcGFjaXR5IjogMC42LCAiZmlsbFJ1bGUiOiAiZXZlbm9kZCIsICJsaW5lQ2FwIjogInJvdW5kIiwgImxpbmVKb2luIjogInJvdW5kIiwgIm9wYWNpdHkiOiAxLjAsICJyYWRpdXMiOiA1LCAic3Ryb2tlIjogdHJ1ZSwgIndlaWdodCI6IDN9CiAgICAgICAgICAgICkuYWRkVG8oZmVhdHVyZV9ncm91cF84M2Y3NzZmZmM0ODA0MTljOTMxYjIzMzczNzhlYWY0ZSk7CiAgICAgICAgCiAgICAKICAgICAgICAgICAgdmFyIGNpcmNsZV9tYXJrZXJfNTU4MzQ0OTRjYWRjNDlhOWIwMmM0ZjM3OWZhZDc2YjUgPSBMLmNpcmNsZU1hcmtlcigKICAgICAgICAgICAgICAgIFszNy43ODc1MTU4NzQxNjIyOTUsIC0xMjIuNDA3NDM0OTg5NTIzXSwKICAgICAgICAgICAgICAgIHsiYnViYmxpbmdNb3VzZUV2ZW50cyI6IHRydWUsICJjb2xvciI6ICJ5ZWxsb3ciLCAiZGFzaEFycmF5IjogbnVsbCwgImRhc2hPZmZzZXQiOiBudWxsLCAiZmlsbCI6IHRydWUsICJmaWxsQ29sb3IiOiAiYmx1ZSIsICJmaWxsT3BhY2l0eSI6IDAuNiwgImZpbGxSdWxlIjogImV2ZW5vZGQiLCAibGluZUNhcCI6ICJyb3VuZCIsICJsaW5lSm9pbiI6ICJyb3VuZCIsICJvcGFjaXR5IjogMS4wLCAicmFkaXVzIjogNSwgInN0cm9rZSI6IHRydWUsICJ3ZWlnaHQiOiAzfQogICAgICAgICAgICApLmFkZFRvKGZlYXR1cmVfZ3JvdXBfODNmNzc2ZmZjNDgwNDE5YzkzMWIyMzM3Mzc4ZWFmNGUpOwogICAgICAgIAogICAgCiAgICAgICAgICAgIHZhciBjaXJjbGVfbWFya2VyX2Q2NDI1YmM5ZWQyNTRhY2NiZGJkNzJjYTg2MzM3Njg2ID0gTC5jaXJjbGVNYXJrZXIoCiAgICAgICAgICAgICAgICBbMzcuNzc4NTIzMzc3NjAzMiwgLTEyMi40MDM0NjQwODAwMzNdLAogICAgICAgICAgICAgICAgeyJidWJibGluZ01vdXNlRXZlbnRzIjogdHJ1ZSwgImNvbG9yIjogInllbGxvdyIsICJkYXNoQXJyYXkiOiBudWxsLCAiZGFzaE9mZnNldCI6IG51bGwsICJmaWxsIjogdHJ1ZSwgImZpbGxDb2xvciI6ICJibHVlIiwgImZpbGxPcGFjaXR5IjogMC42LCAiZmlsbFJ1bGUiOiAiZXZlbm9kZCIsICJsaW5lQ2FwIjogInJvdW5kIiwgImxpbmVKb2luIjogInJvdW5kIiwgIm9wYWNpdHkiOiAxLjAsICJyYWRpdXMiOiA1LCAic3Ryb2tlIjogdHJ1ZSwgIndlaWdodCI6IDN9CiAgICAgICAgICAgICkuYWRkVG8oZmVhdHVyZV9ncm91cF84M2Y3NzZmZmM0ODA0MTljOTMxYjIzMzczNzhlYWY0ZSk7CiAgICAgICAgCiAgICAKICAgICAgICAgICAgdmFyIGNpcmNsZV9tYXJrZXJfMjYxY2M4ZmVlNGNiNDdmNDg0YWYyYTM4MjkyMDliOTYgPSBMLmNpcmNsZU1hcmtlcigKICAgICAgICAgICAgICAgIFszNy43Nzg1MjMzNzc2MDMyLCAtMTIyLjQwMzQ2NDA4MDAzM10sCiAgICAgICAgICAgICAgICB7ImJ1YmJsaW5nTW91c2VFdmVudHMiOiB0cnVlLCAiY29sb3IiOiAieWVsbG93IiwgImRhc2hBcnJheSI6IG51bGwsICJkYXNoT2Zmc2V0IjogbnVsbCwgImZpbGwiOiB0cnVlLCAiZmlsbENvbG9yIjogImJsdWUiLCAiZmlsbE9wYWNpdHkiOiAwLjYsICJmaWxsUnVsZSI6ICJldmVub2RkIiwgImxpbmVDYXAiOiAicm91bmQiLCAibGluZUpvaW4iOiAicm91bmQiLCAib3BhY2l0eSI6IDEuMCwgInJhZGl1cyI6IDUsICJzdHJva2UiOiB0cnVlLCAid2VpZ2h0IjogM30KICAgICAgICAgICAgKS5hZGRUbyhmZWF0dXJlX2dyb3VwXzgzZjc3NmZmYzQ4MDQxOWM5MzFiMjMzNzM3OGVhZjRlKTsKICAgICAgICAKICAgIAogICAgICAgICAgICB2YXIgY2lyY2xlX21hcmtlcl8yNjE3YjFmNjRmZDk0YTc4YjMzMDFiMTRkNTFjNzk2MSA9IEwuY2lyY2xlTWFya2VyKAogICAgICAgICAgICAgICAgWzM3Ljc3MzI5MTgwNjkwMjk5NiwgLTEyMi40MzY2MTQxODEzMzEwMV0sCiAgICAgICAgICAgICAgICB7ImJ1YmJsaW5nTW91c2VFdmVudHMiOiB0cnVlLCAiY29sb3IiOiAieWVsbG93IiwgImRhc2hBcnJheSI6IG51bGwsICJkYXNoT2Zmc2V0IjogbnVsbCwgImZpbGwiOiB0cnVlLCAiZmlsbENvbG9yIjogImJsdWUiLCAiZmlsbE9wYWNpdHkiOiAwLjYsICJmaWxsUnVsZSI6ICJldmVub2RkIiwgImxpbmVDYXAiOiAicm91bmQiLCAibGluZUpvaW4iOiAicm91bmQiLCAib3BhY2l0eSI6IDEuMCwgInJhZGl1cyI6IDUsICJzdHJva2UiOiB0cnVlLCAid2VpZ2h0IjogM30KICAgICAgICAgICAgKS5hZGRUbyhmZWF0dXJlX2dyb3VwXzgzZjc3NmZmYzQ4MDQxOWM5MzFiMjMzNzM3OGVhZjRlKTsKICAgICAgICAKICAgIAogICAgICAgICAgICB2YXIgY2lyY2xlX21hcmtlcl80ZmI4ZDljM2VmZTU0ODE1YWJmNzM3OTUzYzEwNjEwNyA9IEwuY2lyY2xlTWFya2VyKAogICAgICAgICAgICAgICAgWzM3Ljc4MDUyNzU3ODUwOSwgLTEyMi4zOTY4NDkwMTUxNzIwMV0sCiAgICAgICAgICAgICAgICB7ImJ1YmJsaW5nTW91c2VFdmVudHMiOiB0cnVlLCAiY29sb3IiOiAieWVsbG93IiwgImRhc2hBcnJheSI6IG51bGwsICJkYXNoT2Zmc2V0IjogbnVsbCwgImZpbGwiOiB0cnVlLCAiZmlsbENvbG9yIjogImJsdWUiLCAiZmlsbE9wYWNpdHkiOiAwLjYsICJmaWxsUnVsZSI6ICJldmVub2RkIiwgImxpbmVDYXAiOiAicm91bmQiLCAibGluZUpvaW4iOiAicm91bmQiLCAib3BhY2l0eSI6IDEuMCwgInJhZGl1cyI6IDUsICJzdHJva2UiOiB0cnVlLCAid2VpZ2h0IjogM30KICAgICAgICAgICAgKS5hZGRUbyhmZWF0dXJlX2dyb3VwXzgzZjc3NmZmYzQ4MDQxOWM5MzFiMjMzNzM3OGVhZjRlKTsKICAgICAgICAKICAgIAogICAgICAgICAgICB2YXIgY2lyY2xlX21hcmtlcl81ZGEzMDdmYTM4ODk0NGU4YTAyMzkyZDYyZjI0MDNjMCA9IEwuY2lyY2xlTWFya2VyKAogICAgICAgICAgICAgICAgWzM3Ljc4MDUyNzU3ODUwOSwgLTEyMi4zOTY4NDkwMTUxNzIwMV0sCiAgICAgICAgICAgICAgICB7ImJ1YmJsaW5nTW91c2VFdmVudHMiOiB0cnVlLCAiY29sb3IiOiAieWVsbG93IiwgImRhc2hBcnJheSI6IG51bGwsICJkYXNoT2Zmc2V0IjogbnVsbCwgImZpbGwiOiB0cnVlLCAiZmlsbENvbG9yIjogImJsdWUiLCAiZmlsbE9wYWNpdHkiOiAwLjYsICJmaWxsUnVsZSI6ICJldmVub2RkIiwgImxpbmVDYXAiOiAicm91bmQiLCAibGluZUpvaW4iOiAicm91bmQiLCAib3BhY2l0eSI6IDEuMCwgInJhZGl1cyI6IDUsICJzdHJva2UiOiB0cnVlLCAid2VpZ2h0IjogM30KICAgICAgICAgICAgKS5hZGRUbyhmZWF0dXJlX2dyb3VwXzgzZjc3NmZmYzQ4MDQxOWM5MzFiMjMzNzM3OGVhZjRlKTsKICAgICAgICAKICAgIAogICAgICAgICAgICB2YXIgY2lyY2xlX21hcmtlcl9mZmEwMzVhMWJkYTU0N2Y5YjI4OTI4YzNkNTlhNDUxMCA9IEwuY2lyY2xlTWFya2VyKAogICAgICAgICAgICAgICAgWzM3LjcyODQxODA3MDY2MDIwNCwgLTEyMi40NTAwMDA3OTA0NDVdLAogICAgICAgICAgICAgICAgeyJidWJibGluZ01vdXNlRXZlbnRzIjogdHJ1ZSwgImNvbG9yIjogInllbGxvdyIsICJkYXNoQXJyYXkiOiBudWxsLCAiZGFzaE9mZnNldCI6IG51bGwsICJmaWxsIjogdHJ1ZSwgImZpbGxDb2xvciI6ICJibHVlIiwgImZpbGxPcGFjaXR5IjogMC42LCAiZmlsbFJ1bGUiOiAiZXZlbm9kZCIsICJsaW5lQ2FwIjogInJvdW5kIiwgImxpbmVKb2luIjogInJvdW5kIiwgIm9wYWNpdHkiOiAxLjAsICJyYWRpdXMiOiA1LCAic3Ryb2tlIjogdHJ1ZSwgIndlaWdodCI6IDN9CiAgICAgICAgICAgICkuYWRkVG8oZmVhdHVyZV9ncm91cF84M2Y3NzZmZmM0ODA0MTljOTMxYjIzMzczNzhlYWY0ZSk7CiAgICAgICAgCiAgICAKICAgICAgICAgICAgdmFyIGNpcmNsZV9tYXJrZXJfOTg2MjA5ZGNmNWI5NGQ2Y2IyOWJlZjI0OTUwYjJiNzMgPSBMLmNpcmNsZU1hcmtlcigKICAgICAgICAgICAgICAgIFszNy43MjkyMTE0NjQ3MzU5LCAtMTIyLjQwMDgzNDI4MzAzMV0sCiAgICAgICAgICAgICAgICB7ImJ1YmJsaW5nTW91c2VFdmVudHMiOiB0cnVlLCAiY29sb3IiOiAieWVsbG93IiwgImRhc2hBcnJheSI6IG51bGwsICJkYXNoT2Zmc2V0IjogbnVsbCwgImZpbGwiOiB0cnVlLCAiZmlsbENvbG9yIjogImJsdWUiLCAiZmlsbE9wYWNpdHkiOiAwLjYsICJmaWxsUnVsZSI6ICJldmVub2RkIiwgImxpbmVDYXAiOiAicm91bmQiLCAibGluZUpvaW4iOiAicm91bmQiLCAib3BhY2l0eSI6IDEuMCwgInJhZGl1cyI6IDUsICJzdHJva2UiOiB0cnVlLCAid2VpZ2h0IjogM30KICAgICAgICAgICAgKS5hZGRUbyhmZWF0dXJlX2dyb3VwXzgzZjc3NmZmYzQ4MDQxOWM5MzFiMjMzNzM3OGVhZjRlKTsKICAgICAgICAKICAgIAogICAgICAgICAgICB2YXIgY2lyY2xlX21hcmtlcl81YmViNTA1YzIyNjM0Y2YwOTJmYmI3ZjcyNmVmZTEwZiA9IEwuY2lyY2xlTWFya2VyKAogICAgICAgICAgICAgICAgWzM3Ljc4ODAwNjUzMjQzOTIwNSwgLTEyMi4zOTk4MDIxNDU3OTldLAogICAgICAgICAgICAgICAgeyJidWJibGluZ01vdXNlRXZlbnRzIjogdHJ1ZSwgImNvbG9yIjogInllbGxvdyIsICJkYXNoQXJyYXkiOiBudWxsLCAiZGFzaE9mZnNldCI6IG51bGwsICJmaWxsIjogdHJ1ZSwgImZpbGxDb2xvciI6ICJibHVlIiwgImZpbGxPcGFjaXR5IjogMC42LCAiZmlsbFJ1bGUiOiAiZXZlbm9kZCIsICJsaW5lQ2FwIjogInJvdW5kIiwgImxpbmVKb2luIjogInJvdW5kIiwgIm9wYWNpdHkiOiAxLjAsICJyYWRpdXMiOiA1LCAic3Ryb2tlIjogdHJ1ZSwgIndlaWdodCI6IDN9CiAgICAgICAgICAgICkuYWRkVG8oZmVhdHVyZV9ncm91cF84M2Y3NzZmZmM0ODA0MTljOTMxYjIzMzczNzhlYWY0ZSk7CiAgICAgICAgCiAgICAKICAgICAgICAgICAgdmFyIGNpcmNsZV9tYXJrZXJfZTUwMjA0MDgxMDQzNDc2MzkwMjQ5ZjEzNjliZjE4MjYgPSBMLmNpcmNsZU1hcmtlcigKICAgICAgICAgICAgICAgIFszNy43MjM5NzQ4MjQxNjA5LCAtMTIyLjM5NDkyODQ3NThdLAogICAgICAgICAgICAgICAgeyJidWJibGluZ01vdXNlRXZlbnRzIjogdHJ1ZSwgImNvbG9yIjogInllbGxvdyIsICJkYXNoQXJyYXkiOiBudWxsLCAiZGFzaE9mZnNldCI6IG51bGwsICJmaWxsIjogdHJ1ZSwgImZpbGxDb2xvciI6ICJibHVlIiwgImZpbGxPcGFjaXR5IjogMC42LCAiZmlsbFJ1bGUiOiAiZXZlbm9kZCIsICJsaW5lQ2FwIjogInJvdW5kIiwgImxpbmVKb2luIjogInJvdW5kIiwgIm9wYWNpdHkiOiAxLjAsICJyYWRpdXMiOiA1LCAic3Ryb2tlIjogdHJ1ZSwgIndlaWdodCI6IDN9CiAgICAgICAgICAgICkuYWRkVG8oZmVhdHVyZV9ncm91cF84M2Y3NzZmZmM0ODA0MTljOTMxYjIzMzczNzhlYWY0ZSk7CiAgICAgICAgCiAgICAKICAgICAgICAgICAgdmFyIGNpcmNsZV9tYXJrZXJfYzg1Yjc4M2QzZDAxNDZjNTk4NWMzNGUxZjNlNTExZWMgPSBMLmNpcmNsZU1hcmtlcigKICAgICAgICAgICAgICAgIFszNy43MjM5NzQ4MjQxNjA5LCAtMTIyLjM5NDkyODQ3NThdLAogICAgICAgICAgICAgICAgeyJidWJibGluZ01vdXNlRXZlbnRzIjogdHJ1ZSwgImNvbG9yIjogInllbGxvdyIsICJkYXNoQXJyYXkiOiBudWxsLCAiZGFzaE9mZnNldCI6IG51bGwsICJmaWxsIjogdHJ1ZSwgImZpbGxDb2xvciI6ICJibHVlIiwgImZpbGxPcGFjaXR5IjogMC42LCAiZmlsbFJ1bGUiOiAiZXZlbm9kZCIsICJsaW5lQ2FwIjogInJvdW5kIiwgImxpbmVKb2luIjogInJvdW5kIiwgIm9wYWNpdHkiOiAxLjAsICJyYWRpdXMiOiA1LCAic3Ryb2tlIjogdHJ1ZSwgIndlaWdodCI6IDN9CiAgICAgICAgICAgICkuYWRkVG8oZmVhdHVyZV9ncm91cF84M2Y3NzZmZmM0ODA0MTljOTMxYjIzMzczNzhlYWY0ZSk7CiAgICAgICAgCiAgICAKICAgICAgICAgICAgdmFyIGNpcmNsZV9tYXJrZXJfOGJjYzMwYThhY2FiNDg3NzgwMWI1MWE0Yzg4MGY5MzggPSBMLmNpcmNsZU1hcmtlcigKICAgICAgICAgICAgICAgIFszNy43MjM5NzQ4MjQxNjA5LCAtMTIyLjM5NDkyODQ3NThdLAogICAgICAgICAgICAgICAgeyJidWJibGluZ01vdXNlRXZlbnRzIjogdHJ1ZSwgImNvbG9yIjogInllbGxvdyIsICJkYXNoQXJyYXkiOiBudWxsLCAiZGFzaE9mZnNldCI6IG51bGwsICJmaWxsIjogdHJ1ZSwgImZpbGxDb2xvciI6ICJibHVlIiwgImZpbGxPcGFjaXR5IjogMC42LCAiZmlsbFJ1bGUiOiAiZXZlbm9kZCIsICJsaW5lQ2FwIjogInJvdW5kIiwgImxpbmVKb2luIjogInJvdW5kIiwgIm9wYWNpdHkiOiAxLjAsICJyYWRpdXMiOiA1LCAic3Ryb2tlIjogdHJ1ZSwgIndlaWdodCI6IDN9CiAgICAgICAgICAgICkuYWRkVG8oZmVhdHVyZV9ncm91cF84M2Y3NzZmZmM0ODA0MTljOTMxYjIzMzczNzhlYWY0ZSk7CiAgICAgICAgCiAgICAKICAgICAgICAgICAgdmFyIGNpcmNsZV9tYXJrZXJfYTk0YWMzNjZkMTExNGEzNWIxMWIwODljODI5ZjYzZTggPSBMLmNpcmNsZU1hcmtlcigKICAgICAgICAgICAgICAgIFszNy43ODgzMjM1NDQ5OTA0LCAtMTIyLjQxMTg1NzAzMjU0XSwKICAgICAgICAgICAgICAgIHsiYnViYmxpbmdNb3VzZUV2ZW50cyI6IHRydWUsICJjb2xvciI6ICJ5ZWxsb3ciLCAiZGFzaEFycmF5IjogbnVsbCwgImRhc2hPZmZzZXQiOiBudWxsLCAiZmlsbCI6IHRydWUsICJmaWxsQ29sb3IiOiAiYmx1ZSIsICJmaWxsT3BhY2l0eSI6IDAuNiwgImZpbGxSdWxlIjogImV2ZW5vZGQiLCAibGluZUNhcCI6ICJyb3VuZCIsICJsaW5lSm9pbiI6ICJyb3VuZCIsICJvcGFjaXR5IjogMS4wLCAicmFkaXVzIjogNSwgInN0cm9rZSI6IHRydWUsICJ3ZWlnaHQiOiAzfQogICAgICAgICAgICApLmFkZFRvKGZlYXR1cmVfZ3JvdXBfODNmNzc2ZmZjNDgwNDE5YzkzMWIyMzM3Mzc4ZWFmNGUpOwogICAgICAgIAogICAgCiAgICAgICAgICAgIHZhciBjaXJjbGVfbWFya2VyXzAzMGE1NmJiZDE3NjRjYWRhYTU0M2VhZTQwZGJiNDJmID0gTC5jaXJjbGVNYXJrZXIoCiAgICAgICAgICAgICAgICBbMzcuNzU1OTk3NzMzOTg1NiwgLTEyMi40MDk0MzU2MTcxMDZdLAogICAgICAgICAgICAgICAgeyJidWJibGluZ01vdXNlRXZlbnRzIjogdHJ1ZSwgImNvbG9yIjogInllbGxvdyIsICJkYXNoQXJyYXkiOiBudWxsLCAiZGFzaE9mZnNldCI6IG51bGwsICJmaWxsIjogdHJ1ZSwgImZpbGxDb2xvciI6ICJibHVlIiwgImZpbGxPcGFjaXR5IjogMC42LCAiZmlsbFJ1bGUiOiAiZXZlbm9kZCIsICJsaW5lQ2FwIjogInJvdW5kIiwgImxpbmVKb2luIjogInJvdW5kIiwgIm9wYWNpdHkiOiAxLjAsICJyYWRpdXMiOiA1LCAic3Ryb2tlIjogdHJ1ZSwgIndlaWdodCI6IDN9CiAgICAgICAgICAgICkuYWRkVG8oZmVhdHVyZV9ncm91cF84M2Y3NzZmZmM0ODA0MTljOTMxYjIzMzczNzhlYWY0ZSk7CiAgICAgICAgCiAgICAKICAgICAgICAgICAgdmFyIGNpcmNsZV9tYXJrZXJfZDU3ZTE5M2ZiMTEzNDg0MWE4YTc0MDU1NTdhMjhiOWMgPSBMLmNpcmNsZU1hcmtlcigKICAgICAgICAgICAgICAgIFszNy43ODcwNzk4MTQ0NDQzLCAtMTIyLjQyNTg4MzM1ODE0OF0sCiAgICAgICAgICAgICAgICB7ImJ1YmJsaW5nTW91c2VFdmVudHMiOiB0cnVlLCAiY29sb3IiOiAieWVsbG93IiwgImRhc2hBcnJheSI6IG51bGwsICJkYXNoT2Zmc2V0IjogbnVsbCwgImZpbGwiOiB0cnVlLCAiZmlsbENvbG9yIjogImJsdWUiLCAiZmlsbE9wYWNpdHkiOiAwLjYsICJmaWxsUnVsZSI6ICJldmVub2RkIiwgImxpbmVDYXAiOiAicm91bmQiLCAibGluZUpvaW4iOiAicm91bmQiLCAib3BhY2l0eSI6IDEuMCwgInJhZGl1cyI6IDUsICJzdHJva2UiOiB0cnVlLCAid2VpZ2h0IjogM30KICAgICAgICAgICAgKS5hZGRUbyhmZWF0dXJlX2dyb3VwXzgzZjc3NmZmYzQ4MDQxOWM5MzFiMjMzNzM3OGVhZjRlKTsKICAgICAgICAKICAgIAogICAgICAgICAgICB2YXIgY2lyY2xlX21hcmtlcl81ODIyMGMyODU2ZTg0MWEzYmEyYWIwNGU3MTA4Yzg1OSA9IEwuY2lyY2xlTWFya2VyKAogICAgICAgICAgICAgICAgWzM3LjczNjAzNzQ0NjY4NjIwNCwgLTEyMi40MTUxMjY1NDMwMDEwMV0sCiAgICAgICAgICAgICAgICB7ImJ1YmJsaW5nTW91c2VFdmVudHMiOiB0cnVlLCAiY29sb3IiOiAieWVsbG93IiwgImRhc2hBcnJheSI6IG51bGwsICJkYXNoT2Zmc2V0IjogbnVsbCwgImZpbGwiOiB0cnVlLCAiZmlsbENvbG9yIjogImJsdWUiLCAiZmlsbE9wYWNpdHkiOiAwLjYsICJmaWxsUnVsZSI6ICJldmVub2RkIiwgImxpbmVDYXAiOiAicm91bmQiLCAibGluZUpvaW4iOiAicm91bmQiLCAib3BhY2l0eSI6IDEuMCwgInJhZGl1cyI6IDUsICJzdHJva2UiOiB0cnVlLCAid2VpZ2h0IjogM30KICAgICAgICAgICAgKS5hZGRUbyhmZWF0dXJlX2dyb3VwXzgzZjc3NmZmYzQ4MDQxOWM5MzFiMjMzNzM3OGVhZjRlKTsKICAgICAgICAKICAgIAogICAgICAgICAgICB2YXIgY2lyY2xlX21hcmtlcl9jODllODBjMjk3MmE0ZjA5OGEwNzNjYzI3OWUwNDExYiA9IEwuY2lyY2xlTWFya2VyKAogICAgICAgICAgICAgICAgWzM3LjcxMjc2Nzg4NDgyMSwgLTEyMi40MzE5MjgwMTEwODldLAogICAgICAgICAgICAgICAgeyJidWJibGluZ01vdXNlRXZlbnRzIjogdHJ1ZSwgImNvbG9yIjogInllbGxvdyIsICJkYXNoQXJyYXkiOiBudWxsLCAiZGFzaE9mZnNldCI6IG51bGwsICJmaWxsIjogdHJ1ZSwgImZpbGxDb2xvciI6ICJibHVlIiwgImZpbGxPcGFjaXR5IjogMC42LCAiZmlsbFJ1bGUiOiAiZXZlbm9kZCIsICJsaW5lQ2FwIjogInJvdW5kIiwgImxpbmVKb2luIjogInJvdW5kIiwgIm9wYWNpdHkiOiAxLjAsICJyYWRpdXMiOiA1LCAic3Ryb2tlIjogdHJ1ZSwgIndlaWdodCI6IDN9CiAgICAgICAgICAgICkuYWRkVG8oZmVhdHVyZV9ncm91cF84M2Y3NzZmZmM0ODA0MTljOTMxYjIzMzczNzhlYWY0ZSk7CiAgICAgICAgCiAgICAKICAgICAgICAgICAgdmFyIGNpcmNsZV9tYXJrZXJfNDYxYTJhODkzMjQzNDlkODgyNjI1MTlmNjUxODgzODMgPSBMLmNpcmNsZU1hcmtlcigKICAgICAgICAgICAgICAgIFszNy43ODk1NzEwMjU1ODYzLCAtMTIyLjQwMjE2MzcxMzYxOF0sCiAgICAgICAgICAgICAgICB7ImJ1YmJsaW5nTW91c2VFdmVudHMiOiB0cnVlLCAiY29sb3IiOiAieWVsbG93IiwgImRhc2hBcnJheSI6IG51bGwsICJkYXNoT2Zmc2V0IjogbnVsbCwgImZpbGwiOiB0cnVlLCAiZmlsbENvbG9yIjogImJsdWUiLCAiZmlsbE9wYWNpdHkiOiAwLjYsICJmaWxsUnVsZSI6ICJldmVub2RkIiwgImxpbmVDYXAiOiAicm91bmQiLCAibGluZUpvaW4iOiAicm91bmQiLCAib3BhY2l0eSI6IDEuMCwgInJhZGl1cyI6IDUsICJzdHJva2UiOiB0cnVlLCAid2VpZ2h0IjogM30KICAgICAgICAgICAgKS5hZGRUbyhmZWF0dXJlX2dyb3VwXzgzZjc3NmZmYzQ4MDQxOWM5MzFiMjMzNzM3OGVhZjRlKTsKICAgICAgICAKICAgIAogICAgICAgICAgICB2YXIgY2lyY2xlX21hcmtlcl83NTk4YjBkYzExNzU0ODk5ODc0M2QyNDhhZWI4NTc4YiA9IEwuY2lyY2xlTWFya2VyKAogICAgICAgICAgICAgICAgWzM3LjczMDc0MjkxNjk1NTksIC0xMjIuNDI5MzA2NzI4Mzc2XSwKICAgICAgICAgICAgICAgIHsiYnViYmxpbmdNb3VzZUV2ZW50cyI6IHRydWUsICJjb2xvciI6ICJ5ZWxsb3ciLCAiZGFzaEFycmF5IjogbnVsbCwgImRhc2hPZmZzZXQiOiBudWxsLCAiZmlsbCI6IHRydWUsICJmaWxsQ29sb3IiOiAiYmx1ZSIsICJmaWxsT3BhY2l0eSI6IDAuNiwgImZpbGxSdWxlIjogImV2ZW5vZGQiLCAibGluZUNhcCI6ICJyb3VuZCIsICJsaW5lSm9pbiI6ICJyb3VuZCIsICJvcGFjaXR5IjogMS4wLCAicmFkaXVzIjogNSwgInN0cm9rZSI6IHRydWUsICJ3ZWlnaHQiOiAzfQogICAgICAgICAgICApLmFkZFRvKGZlYXR1cmVfZ3JvdXBfODNmNzc2ZmZjNDgwNDE5YzkzMWIyMzM3Mzc4ZWFmNGUpOwogICAgICAgIAogICAgCiAgICAgICAgICAgIHZhciBjaXJjbGVfbWFya2VyXzRiMWVjYzZiM2NiMzQxN2FhNTQyYTVhNDRmZmUyNjVjID0gTC5jaXJjbGVNYXJrZXIoCiAgICAgICAgICAgICAgICBbMzcuNzgzODM2NTU2NTM0Nzk0LCAtMTIyLjQxMzc5MDk3Mjc4MDk5XSwKICAgICAgICAgICAgICAgIHsiYnViYmxpbmdNb3VzZUV2ZW50cyI6IHRydWUsICJjb2xvciI6ICJ5ZWxsb3ciLCAiZGFzaEFycmF5IjogbnVsbCwgImRhc2hPZmZzZXQiOiBudWxsLCAiZmlsbCI6IHRydWUsICJmaWxsQ29sb3IiOiAiYmx1ZSIsICJmaWxsT3BhY2l0eSI6IDAuNiwgImZpbGxSdWxlIjogImV2ZW5vZGQiLCAibGluZUNhcCI6ICJyb3VuZCIsICJsaW5lSm9pbiI6ICJyb3VuZCIsICJvcGFjaXR5IjogMS4wLCAicmFkaXVzIjogNSwgInN0cm9rZSI6IHRydWUsICJ3ZWlnaHQiOiAzfQogICAgICAgICAgICApLmFkZFRvKGZlYXR1cmVfZ3JvdXBfODNmNzc2ZmZjNDgwNDE5YzkzMWIyMzM3Mzc4ZWFmNGUpOwogICAgICAgIAogICAgCiAgICAgICAgICAgIHZhciBjaXJjbGVfbWFya2VyX2ExYTEwNWVjZmE3ZTRmNDg4ZThmMDFlYjhmMGY1Y2ZmID0gTC5jaXJjbGVNYXJrZXIoCiAgICAgICAgICAgICAgICBbMzcuNzMwNzQyOTE2OTU1OSwgLTEyMi40MjkzMDY3MjgzNzZdLAogICAgICAgICAgICAgICAgeyJidWJibGluZ01vdXNlRXZlbnRzIjogdHJ1ZSwgImNvbG9yIjogInllbGxvdyIsICJkYXNoQXJyYXkiOiBudWxsLCAiZGFzaE9mZnNldCI6IG51bGwsICJmaWxsIjogdHJ1ZSwgImZpbGxDb2xvciI6ICJibHVlIiwgImZpbGxPcGFjaXR5IjogMC42LCAiZmlsbFJ1bGUiOiAiZXZlbm9kZCIsICJsaW5lQ2FwIjogInJvdW5kIiwgImxpbmVKb2luIjogInJvdW5kIiwgIm9wYWNpdHkiOiAxLjAsICJyYWRpdXMiOiA1LCAic3Ryb2tlIjogdHJ1ZSwgIndlaWdodCI6IDN9CiAgICAgICAgICAgICkuYWRkVG8oZmVhdHVyZV9ncm91cF84M2Y3NzZmZmM0ODA0MTljOTMxYjIzMzczNzhlYWY0ZSk7CiAgICAgICAgCiAgICAKICAgICAgICAgICAgdmFyIGNpcmNsZV9tYXJrZXJfMDliNGY4NTk4N2VlNDhiM2I5NjU0YjZhN2VkNDViZTQgPSBMLmNpcmNsZU1hcmtlcigKICAgICAgICAgICAgICAgIFszNy43MzczNjIzNjA1MjEyOTYsIC0xMjIuNDIyMDY3MTg0OTM3XSwKICAgICAgICAgICAgICAgIHsiYnViYmxpbmdNb3VzZUV2ZW50cyI6IHRydWUsICJjb2xvciI6ICJ5ZWxsb3ciLCAiZGFzaEFycmF5IjogbnVsbCwgImRhc2hPZmZzZXQiOiBudWxsLCAiZmlsbCI6IHRydWUsICJmaWxsQ29sb3IiOiAiYmx1ZSIsICJmaWxsT3BhY2l0eSI6IDAuNiwgImZpbGxSdWxlIjogImV2ZW5vZGQiLCAibGluZUNhcCI6ICJyb3VuZCIsICJsaW5lSm9pbiI6ICJyb3VuZCIsICJvcGFjaXR5IjogMS4wLCAicmFkaXVzIjogNSwgInN0cm9rZSI6IHRydWUsICJ3ZWlnaHQiOiAzfQogICAgICAgICAgICApLmFkZFRvKGZlYXR1cmVfZ3JvdXBfODNmNzc2ZmZjNDgwNDE5YzkzMWIyMzM3Mzc4ZWFmNGUpOwogICAgICAgIAogICAgCiAgICAgICAgICAgIHZhciBjaXJjbGVfbWFya2VyXzEwNWJlYTJlYWE3ODRkYjU5ZWRhZTRlYTM1NGQ4NjNjID0gTC5jaXJjbGVNYXJrZXIoCiAgICAgICAgICAgICAgICBbMzcuNzM3MzYyMzYwNTIxMjk2LCAtMTIyLjQyMjA2NzE4NDkzN10sCiAgICAgICAgICAgICAgICB7ImJ1YmJsaW5nTW91c2VFdmVudHMiOiB0cnVlLCAiY29sb3IiOiAieWVsbG93IiwgImRhc2hBcnJheSI6IG51bGwsICJkYXNoT2Zmc2V0IjogbnVsbCwgImZpbGwiOiB0cnVlLCAiZmlsbENvbG9yIjogImJsdWUiLCAiZmlsbE9wYWNpdHkiOiAwLjYsICJmaWxsUnVsZSI6ICJldmVub2RkIiwgImxpbmVDYXAiOiAicm91bmQiLCAibGluZUpvaW4iOiAicm91bmQiLCAib3BhY2l0eSI6IDEuMCwgInJhZGl1cyI6IDUsICJzdHJva2UiOiB0cnVlLCAid2VpZ2h0IjogM30KICAgICAgICAgICAgKS5hZGRUbyhmZWF0dXJlX2dyb3VwXzgzZjc3NmZmYzQ4MDQxOWM5MzFiMjMzNzM3OGVhZjRlKTsKICAgICAgICAKICAgIAogICAgICAgICAgICB2YXIgY2lyY2xlX21hcmtlcl83ZTYyYTliZDhlYzA0YmRlYTZlZmE0ZGE4ODY1MDRjZCA9IEwuY2lyY2xlTWFya2VyKAogICAgICAgICAgICAgICAgWzM3Ljc4NTk5ODgzMjM3OTc5NiwgLTEyMi40MTE3NDczNzE5MjRdLAogICAgICAgICAgICAgICAgeyJidWJibGluZ01vdXNlRXZlbnRzIjogdHJ1ZSwgImNvbG9yIjogInllbGxvdyIsICJkYXNoQXJyYXkiOiBudWxsLCAiZGFzaE9mZnNldCI6IG51bGwsICJmaWxsIjogdHJ1ZSwgImZpbGxDb2xvciI6ICJibHVlIiwgImZpbGxPcGFjaXR5IjogMC42LCAiZmlsbFJ1bGUiOiAiZXZlbm9kZCIsICJsaW5lQ2FwIjogInJvdW5kIiwgImxpbmVKb2luIjogInJvdW5kIiwgIm9wYWNpdHkiOiAxLjAsICJyYWRpdXMiOiA1LCAic3Ryb2tlIjogdHJ1ZSwgIndlaWdodCI6IDN9CiAgICAgICAgICAgICkuYWRkVG8oZmVhdHVyZV9ncm91cF84M2Y3NzZmZmM0ODA0MTljOTMxYjIzMzczNzhlYWY0ZSk7CiAgICAgICAgCiAgICAKICAgICAgICAgICAgdmFyIGNpcmNsZV9tYXJrZXJfODM2OGEyN2Y0ZWYyNDYzMWI5NTMzYmJhNDlkZTRhNzYgPSBMLmNpcmNsZU1hcmtlcigKICAgICAgICAgICAgICAgIFszNy43NjMzNzU4MDU4MDU5LCAtMTIyLjQyMDQzNDcyNDU1Mjk5XSwKICAgICAgICAgICAgICAgIHsiYnViYmxpbmdNb3VzZUV2ZW50cyI6IHRydWUsICJjb2xvciI6ICJ5ZWxsb3ciLCAiZGFzaEFycmF5IjogbnVsbCwgImRhc2hPZmZzZXQiOiBudWxsLCAiZmlsbCI6IHRydWUsICJmaWxsQ29sb3IiOiAiYmx1ZSIsICJmaWxsT3BhY2l0eSI6IDAuNiwgImZpbGxSdWxlIjogImV2ZW5vZGQiLCAibGluZUNhcCI6ICJyb3VuZCIsICJsaW5lSm9pbiI6ICJyb3VuZCIsICJvcGFjaXR5IjogMS4wLCAicmFkaXVzIjogNSwgInN0cm9rZSI6IHRydWUsICJ3ZWlnaHQiOiAzfQogICAgICAgICAgICApLmFkZFRvKGZlYXR1cmVfZ3JvdXBfODNmNzc2ZmZjNDgwNDE5YzkzMWIyMzM3Mzc4ZWFmNGUpOwogICAgICAgIAogICAgCiAgICAgICAgICAgIHZhciBjaXJjbGVfbWFya2VyX2YyYWIzODI2ZmQ2ZTQ5NDlhMTQzNWIwM2EwZTQxYzA0ID0gTC5jaXJjbGVNYXJrZXIoCiAgICAgICAgICAgICAgICBbMzcuNzg1MDIyNjYyMjc4NiwgLTEyMi40MTE5ODc2NDM1OTUwMV0sCiAgICAgICAgICAgICAgICB7ImJ1YmJsaW5nTW91c2VFdmVudHMiOiB0cnVlLCAiY29sb3IiOiAieWVsbG93IiwgImRhc2hBcnJheSI6IG51bGwsICJkYXNoT2Zmc2V0IjogbnVsbCwgImZpbGwiOiB0cnVlLCAiZmlsbENvbG9yIjogImJsdWUiLCAiZmlsbE9wYWNpdHkiOiAwLjYsICJmaWxsUnVsZSI6ICJldmVub2RkIiwgImxpbmVDYXAiOiAicm91bmQiLCAibGluZUpvaW4iOiAicm91bmQiLCAib3BhY2l0eSI6IDEuMCwgInJhZGl1cyI6IDUsICJzdHJva2UiOiB0cnVlLCAid2VpZ2h0IjogM30KICAgICAgICAgICAgKS5hZGRUbyhmZWF0dXJlX2dyb3VwXzgzZjc3NmZmYzQ4MDQxOWM5MzFiMjMzNzM3OGVhZjRlKTsKICAgICAgICAKICAgIAogICAgICAgICAgICB2YXIgY2lyY2xlX21hcmtlcl8wMmFiYTAwODk1Y2I0NjliYjAwOWNmMDhmMTVhMWQwMiA9IEwuY2lyY2xlTWFya2VyKAogICAgICAgICAgICAgICAgWzM3Ljc3NDYyMDY0OTEwNjQ5NSwgLTEyMi41MDAzODA0Mjc5MTVdLAogICAgICAgICAgICAgICAgeyJidWJibGluZ01vdXNlRXZlbnRzIjogdHJ1ZSwgImNvbG9yIjogInllbGxvdyIsICJkYXNoQXJyYXkiOiBudWxsLCAiZGFzaE9mZnNldCI6IG51bGwsICJmaWxsIjogdHJ1ZSwgImZpbGxDb2xvciI6ICJibHVlIiwgImZpbGxPcGFjaXR5IjogMC42LCAiZmlsbFJ1bGUiOiAiZXZlbm9kZCIsICJsaW5lQ2FwIjogInJvdW5kIiwgImxpbmVKb2luIjogInJvdW5kIiwgIm9wYWNpdHkiOiAxLjAsICJyYWRpdXMiOiA1LCAic3Ryb2tlIjogdHJ1ZSwgIndlaWdodCI6IDN9CiAgICAgICAgICAgICkuYWRkVG8oZmVhdHVyZV9ncm91cF84M2Y3NzZmZmM0ODA0MTljOTMxYjIzMzczNzhlYWY0ZSk7CiAgICAgICAgCiAgICAKICAgICAgICAgICAgdmFyIGNpcmNsZV9tYXJrZXJfN2Q3MWY1OTFiZWUxNDA2MmI3YWEzMzc2NWVlYjMwNmYgPSBMLmNpcmNsZU1hcmtlcigKICAgICAgICAgICAgICAgIFszNy43NzUxOTE4MjY3MjE3LCAtMTIyLjQ2NjU1ODc4MDY4M10sCiAgICAgICAgICAgICAgICB7ImJ1YmJsaW5nTW91c2VFdmVudHMiOiB0cnVlLCAiY29sb3IiOiAieWVsbG93IiwgImRhc2hBcnJheSI6IG51bGwsICJkYXNoT2Zmc2V0IjogbnVsbCwgImZpbGwiOiB0cnVlLCAiZmlsbENvbG9yIjogImJsdWUiLCAiZmlsbE9wYWNpdHkiOiAwLjYsICJmaWxsUnVsZSI6ICJldmVub2RkIiwgImxpbmVDYXAiOiAicm91bmQiLCAibGluZUpvaW4iOiAicm91bmQiLCAib3BhY2l0eSI6IDEuMCwgInJhZGl1cyI6IDUsICJzdHJva2UiOiB0cnVlLCAid2VpZ2h0IjogM30KICAgICAgICAgICAgKS5hZGRUbyhmZWF0dXJlX2dyb3VwXzgzZjc3NmZmYzQ4MDQxOWM5MzFiMjMzNzM3OGVhZjRlKTsKICAgICAgICAKICAgIAogICAgICAgICAgICB2YXIgY2lyY2xlX21hcmtlcl83NTMwZGRiNjM4YmU0YmU2OWFiNDgzMzhjZTM2YzdjYSA9IEwuY2lyY2xlTWFya2VyKAogICAgICAgICAgICAgICAgWzM3Ljc0OTA4NDE3MjkwMjgsIC0xMjIuNDg2OTI1OTYwMTE0MDFdLAogICAgICAgICAgICAgICAgeyJidWJibGluZ01vdXNlRXZlbnRzIjogdHJ1ZSwgImNvbG9yIjogInllbGxvdyIsICJkYXNoQXJyYXkiOiBudWxsLCAiZGFzaE9mZnNldCI6IG51bGwsICJmaWxsIjogdHJ1ZSwgImZpbGxDb2xvciI6ICJibHVlIiwgImZpbGxPcGFjaXR5IjogMC42LCAiZmlsbFJ1bGUiOiAiZXZlbm9kZCIsICJsaW5lQ2FwIjogInJvdW5kIiwgImxpbmVKb2luIjogInJvdW5kIiwgIm9wYWNpdHkiOiAxLjAsICJyYWRpdXMiOiA1LCAic3Ryb2tlIjogdHJ1ZSwgIndlaWdodCI6IDN9CiAgICAgICAgICAgICkuYWRkVG8oZmVhdHVyZV9ncm91cF84M2Y3NzZmZmM0ODA0MTljOTMxYjIzMzczNzhlYWY0ZSk7CiAgICAgICAgCiAgICAKICAgICAgICAgICAgdmFyIGNpcmNsZV9tYXJrZXJfMTFhN2I4YjJkNmI1NDRlYTkyNGI4NGI5YzBiNzljZmIgPSBMLmNpcmNsZU1hcmtlcigKICAgICAgICAgICAgICAgIFszNy43Njg1MzYwMTIzNTgzLCAtMTIyLjQxNTYxNjMzODMxOTk5XSwKICAgICAgICAgICAgICAgIHsiYnViYmxpbmdNb3VzZUV2ZW50cyI6IHRydWUsICJjb2xvciI6ICJ5ZWxsb3ciLCAiZGFzaEFycmF5IjogbnVsbCwgImRhc2hPZmZzZXQiOiBudWxsLCAiZmlsbCI6IHRydWUsICJmaWxsQ29sb3IiOiAiYmx1ZSIsICJmaWxsT3BhY2l0eSI6IDAuNiwgImZpbGxSdWxlIjogImV2ZW5vZGQiLCAibGluZUNhcCI6ICJyb3VuZCIsICJsaW5lSm9pbiI6ICJyb3VuZCIsICJvcGFjaXR5IjogMS4wLCAicmFkaXVzIjogNSwgInN0cm9rZSI6IHRydWUsICJ3ZWlnaHQiOiAzfQogICAgICAgICAgICApLmFkZFRvKGZlYXR1cmVfZ3JvdXBfODNmNzc2ZmZjNDgwNDE5YzkzMWIyMzM3Mzc4ZWFmNGUpOwogICAgICAgIAogICAgCiAgICAgICAgICAgIHZhciBjaXJjbGVfbWFya2VyXzJmZTRmZTBkOGJhNTQ0M2E4NmFhMGZlYjM5MjRlN2U4ID0gTC5jaXJjbGVNYXJrZXIoCiAgICAgICAgICAgICAgICBbMzcuNzY0NDI5NzcxNDA3NCwgLTEyMi40NDk3NTE2NTI1NjNdLAogICAgICAgICAgICAgICAgeyJidWJibGluZ01vdXNlRXZlbnRzIjogdHJ1ZSwgImNvbG9yIjogInllbGxvdyIsICJkYXNoQXJyYXkiOiBudWxsLCAiZGFzaE9mZnNldCI6IG51bGwsICJmaWxsIjogdHJ1ZSwgImZpbGxDb2xvciI6ICJibHVlIiwgImZpbGxPcGFjaXR5IjogMC42LCAiZmlsbFJ1bGUiOiAiZXZlbm9kZCIsICJsaW5lQ2FwIjogInJvdW5kIiwgImxpbmVKb2luIjogInJvdW5kIiwgIm9wYWNpdHkiOiAxLjAsICJyYWRpdXMiOiA1LCAic3Ryb2tlIjogdHJ1ZSwgIndlaWdodCI6IDN9CiAgICAgICAgICAgICkuYWRkVG8oZmVhdHVyZV9ncm91cF84M2Y3NzZmZmM0ODA0MTljOTMxYjIzMzczNzhlYWY0ZSk7CiAgICAgICAgCiAgICAKICAgICAgICAgICAgdmFyIGNpcmNsZV9tYXJrZXJfZDM0YzgzYjdhNTRjNDQ0ODk3MDU0MTkxYmJiODNkMWMgPSBMLmNpcmNsZU1hcmtlcigKICAgICAgICAgICAgICAgIFszNy43NjQ0Mjk3NzE0MDc0LCAtMTIyLjQ0OTc1MTY1MjU2M10sCiAgICAgICAgICAgICAgICB7ImJ1YmJsaW5nTW91c2VFdmVudHMiOiB0cnVlLCAiY29sb3IiOiAieWVsbG93IiwgImRhc2hBcnJheSI6IG51bGwsICJkYXNoT2Zmc2V0IjogbnVsbCwgImZpbGwiOiB0cnVlLCAiZmlsbENvbG9yIjogImJsdWUiLCAiZmlsbE9wYWNpdHkiOiAwLjYsICJmaWxsUnVsZSI6ICJldmVub2RkIiwgImxpbmVDYXAiOiAicm91bmQiLCAibGluZUpvaW4iOiAicm91bmQiLCAib3BhY2l0eSI6IDEuMCwgInJhZGl1cyI6IDUsICJzdHJva2UiOiB0cnVlLCAid2VpZ2h0IjogM30KICAgICAgICAgICAgKS5hZGRUbyhmZWF0dXJlX2dyb3VwXzgzZjc3NmZmYzQ4MDQxOWM5MzFiMjMzNzM3OGVhZjRlKTsKICAgICAgICAKICAgIAogICAgICAgICAgICB2YXIgY2lyY2xlX21hcmtlcl85OWI5Yzc1OTUxZTk0MzlhODQyN2RkNmM3ZTBhYmU4OSA9IEwuY2lyY2xlTWFya2VyKAogICAgICAgICAgICAgICAgWzM3LjczNTI2ODE0NjkwODM5NiwgLTEyMi40NzI3MTU3NTk2MzFdLAogICAgICAgICAgICAgICAgeyJidWJibGluZ01vdXNlRXZlbnRzIjogdHJ1ZSwgImNvbG9yIjogInllbGxvdyIsICJkYXNoQXJyYXkiOiBudWxsLCAiZGFzaE9mZnNldCI6IG51bGwsICJmaWxsIjogdHJ1ZSwgImZpbGxDb2xvciI6ICJibHVlIiwgImZpbGxPcGFjaXR5IjogMC42LCAiZmlsbFJ1bGUiOiAiZXZlbm9kZCIsICJsaW5lQ2FwIjogInJvdW5kIiwgImxpbmVKb2luIjogInJvdW5kIiwgIm9wYWNpdHkiOiAxLjAsICJyYWRpdXMiOiA1LCAic3Ryb2tlIjogdHJ1ZSwgIndlaWdodCI6IDN9CiAgICAgICAgICAgICkuYWRkVG8oZmVhdHVyZV9ncm91cF84M2Y3NzZmZmM0ODA0MTljOTMxYjIzMzczNzhlYWY0ZSk7CiAgICAgICAgCjwvc2NyaXB0Pg==\" style=\"position:absolute;width:100%;height:100%;left:0;top:0;border:none !important;\" allowfullscreen webkitallowfullscreen mozallowfullscreen></iframe></div></div>"
      ],
      "text/plain": [
       "<folium.folium.Map at 0x1ddcf14ee08>"
      ]
     },
     "execution_count": 201,
     "metadata": {},
     "output_type": "execute_result"
    }
   ],
   "source": [
    "# instantiate a feature group for the incidents in the dataframe\n",
    "incidents_place = folium.map.FeatureGroup()\n",
    "\n",
    "# loop through the 100 crimes and add each to the incidents feature group\n",
    "for lat, lng, in zip(incidents.Y, incidents.X):\n",
    "    incidents_place.add_child(\n",
    "        folium.CircleMarker(\n",
    "            [lat, lng],\n",
    "            radius=5, # define how big you want the circle markers to be\n",
    "            color='yellow',\n",
    "            fill=True,\n",
    "            fill_color='blue',\n",
    "            fill_opacity=0.6\n",
    "        )\n",
    "    )\n",
    "\n",
    "\n",
    "# add pop-up text to each marker on the map\n",
    "latitudes = list(incidents.Y)\n",
    "longitudes = list(incidents.X)\n",
    "labels = list(incidents.Category)\n",
    "\n",
    "for lat, lng, label in zip(latitudes, longitudes, labels):\n",
    "    folium.Marker([lat, lng], popup=label).add_to(sanfran_map)       \n",
    "\n",
    "# add incidents to map\n",
    "sanfran_map.add_child(incidents_place)"
   ]
  },
  {
   "cell_type": "markdown",
   "metadata": {},
   "source": [
    "### Another visualization method is to group the markers in different clusters.<br>\n",
    "### Each cluster is then represented by the number of crimes in each neighborhood."
   ]
  },
  {
   "cell_type": "code",
   "execution_count": 202,
   "metadata": {},
   "outputs": [
    {
     "data": {
      "text/html": [
       "\n",
       "        <script src=\"/static/components/requirejs/require.js\"></script>\n",
       "        <script>\n",
       "          requirejs.config({\n",
       "            paths: {\n",
       "              base: '/static/base',\n",
       "              plotly: 'https://cdn.plot.ly/plotly-latest.min.js?noext',\n",
       "            },\n",
       "          });\n",
       "        </script>\n",
       "        "
      ],
      "text/plain": [
       "<IPython.core.display.HTML object>"
      ]
     },
     "metadata": {},
     "output_type": "display_data"
    },
    {
     "data": {
      "text/html": [
       "\n",
       "        <script src=\"/static/components/requirejs/require.js\"></script>\n",
       "        <script>\n",
       "          requirejs.config({\n",
       "            paths: {\n",
       "              base: '/static/base',\n",
       "              plotly: 'https://cdn.plot.ly/plotly-latest.min.js?noext',\n",
       "            },\n",
       "          });\n",
       "        </script>\n",
       "        "
      ],
      "text/plain": [
       "<IPython.core.display.HTML object>"
      ]
     },
     "metadata": {},
     "output_type": "display_data"
    },
    {
     "data": {
      "text/html": [
       "\n",
       "        <script src=\"/static/components/requirejs/require.js\"></script>\n",
       "        <script>\n",
       "          requirejs.config({\n",
       "            paths: {\n",
       "              base: '/static/base',\n",
       "              plotly: 'https://cdn.plot.ly/plotly-latest.min.js?noext',\n",
       "            },\n",
       "          });\n",
       "        </script>\n",
       "        "
      ],
      "text/plain": [
       "<IPython.core.display.HTML object>"
      ]
     },
     "metadata": {},
     "output_type": "display_data"
    },
    {
     "data": {
      "text/html": [
       "\n",
       "        <script src=\"/static/components/requirejs/require.js\"></script>\n",
       "        <script>\n",
       "          requirejs.config({\n",
       "            paths: {\n",
       "              base: '/static/base',\n",
       "              plotly: 'https://cdn.plot.ly/plotly-latest.min.js?noext',\n",
       "            },\n",
       "          });\n",
       "        </script>\n",
       "        "
      ],
      "text/plain": [
       "<IPython.core.display.HTML object>"
      ]
     },
     "metadata": {},
     "output_type": "display_data"
    },
    {
     "data": {
      "text/html": [
       "\n",
       "        <script src=\"/static/components/requirejs/require.js\"></script>\n",
       "        <script>\n",
       "          requirejs.config({\n",
       "            paths: {\n",
       "              base: '/static/base',\n",
       "              plotly: 'https://cdn.plot.ly/plotly-latest.min.js?noext',\n",
       "            },\n",
       "          });\n",
       "        </script>\n",
       "        "
      ],
      "text/plain": [
       "<IPython.core.display.HTML object>"
      ]
     },
     "metadata": {},
     "output_type": "display_data"
    },
    {
     "data": {
      "text/html": [
       "\n",
       "        <script src=\"/static/components/requirejs/require.js\"></script>\n",
       "        <script>\n",
       "          requirejs.config({\n",
       "            paths: {\n",
       "              base: '/static/base',\n",
       "              plotly: 'https://cdn.plot.ly/plotly-latest.min.js?noext',\n",
       "            },\n",
       "          });\n",
       "        </script>\n",
       "        "
      ],
      "text/plain": [
       "<IPython.core.display.HTML object>"
      ]
     },
     "metadata": {},
     "output_type": "display_data"
    },
    {
     "data": {
      "text/html": [
       "\n",
       "        <script src=\"/static/components/requirejs/require.js\"></script>\n",
       "        <script>\n",
       "          requirejs.config({\n",
       "            paths: {\n",
       "              base: '/static/base',\n",
       "              plotly: 'https://cdn.plot.ly/plotly-latest.min.js?noext',\n",
       "            },\n",
       "          });\n",
       "        </script>\n",
       "        "
      ],
      "text/plain": [
       "<IPython.core.display.HTML object>"
      ]
     },
     "metadata": {},
     "output_type": "display_data"
    },
    {
     "data": {
      "text/html": [
       "\n",
       "        <script src=\"/static/components/requirejs/require.js\"></script>\n",
       "        <script>\n",
       "          requirejs.config({\n",
       "            paths: {\n",
       "              base: '/static/base',\n",
       "              plotly: 'https://cdn.plot.ly/plotly-latest.min.js?noext',\n",
       "            },\n",
       "          });\n",
       "        </script>\n",
       "        "
      ],
      "text/plain": [
       "<IPython.core.display.HTML object>"
      ]
     },
     "metadata": {},
     "output_type": "display_data"
    },
    {
     "data": {
      "text/html": [
       "\n",
       "        <script src=\"/static/components/requirejs/require.js\"></script>\n",
       "        <script>\n",
       "          requirejs.config({\n",
       "            paths: {\n",
       "              base: '/static/base',\n",
       "              plotly: 'https://cdn.plot.ly/plotly-latest.min.js?noext',\n",
       "            },\n",
       "          });\n",
       "        </script>\n",
       "        "
      ],
      "text/plain": [
       "<IPython.core.display.HTML object>"
      ]
     },
     "metadata": {},
     "output_type": "display_data"
    },
    {
     "data": {
      "text/html": [
       "\n",
       "        <script src=\"/static/components/requirejs/require.js\"></script>\n",
       "        <script>\n",
       "          requirejs.config({\n",
       "            paths: {\n",
       "              base: '/static/base',\n",
       "              plotly: 'https://cdn.plot.ly/plotly-latest.min.js?noext',\n",
       "            },\n",
       "          });\n",
       "        </script>\n",
       "        "
      ],
      "text/plain": [
       "<IPython.core.display.HTML object>"
      ]
     },
     "metadata": {},
     "output_type": "display_data"
    },
    {
     "data": {
      "text/html": [
       "\n",
       "        <script src=\"/static/components/requirejs/require.js\"></script>\n",
       "        <script>\n",
       "          requirejs.config({\n",
       "            paths: {\n",
       "              base: '/static/base',\n",
       "              plotly: 'https://cdn.plot.ly/plotly-latest.min.js?noext',\n",
       "            },\n",
       "          });\n",
       "        </script>\n",
       "        "
      ],
      "text/plain": [
       "<IPython.core.display.HTML object>"
      ]
     },
     "metadata": {},
     "output_type": "display_data"
    },
    {
     "data": {
      "text/html": [
       "\n",
       "        <script src=\"/static/components/requirejs/require.js\"></script>\n",
       "        <script>\n",
       "          requirejs.config({\n",
       "            paths: {\n",
       "              base: '/static/base',\n",
       "              plotly: 'https://cdn.plot.ly/plotly-latest.min.js?noext',\n",
       "            },\n",
       "          });\n",
       "        </script>\n",
       "        "
      ],
      "text/plain": [
       "<IPython.core.display.HTML object>"
      ]
     },
     "metadata": {},
     "output_type": "display_data"
    },
    {
     "data": {
      "text/html": [
       "\n",
       "        <script src=\"/static/components/requirejs/require.js\"></script>\n",
       "        <script>\n",
       "          requirejs.config({\n",
       "            paths: {\n",
       "              base: '/static/base',\n",
       "              plotly: 'https://cdn.plot.ly/plotly-latest.min.js?noext',\n",
       "            },\n",
       "          });\n",
       "        </script>\n",
       "        "
      ],
      "text/plain": [
       "<IPython.core.display.HTML object>"
      ]
     },
     "metadata": {},
     "output_type": "display_data"
    },
    {
     "data": {
      "text/html": [
       "<div style=\"width:100%;\"><div style=\"position:relative;width:100%;height:0;padding-bottom:60%;\"><iframe src=\"data:text/html;charset=utf-8;base64,PCFET0NUWVBFIGh0bWw+CjxoZWFkPiAgICAKICAgIDxtZXRhIGh0dHAtZXF1aXY9ImNvbnRlbnQtdHlwZSIgY29udGVudD0idGV4dC9odG1sOyBjaGFyc2V0PVVURi04IiAvPgogICAgCiAgICAgICAgPHNjcmlwdD4KICAgICAgICAgICAgTF9OT19UT1VDSCA9IGZhbHNlOwogICAgICAgICAgICBMX0RJU0FCTEVfM0QgPSBmYWxzZTsKICAgICAgICA8L3NjcmlwdD4KICAgIAogICAgPHNjcmlwdCBzcmM9Imh0dHBzOi8vY2RuLmpzZGVsaXZyLm5ldC9ucG0vbGVhZmxldEAxLjUuMS9kaXN0L2xlYWZsZXQuanMiPjwvc2NyaXB0PgogICAgPHNjcmlwdCBzcmM9Imh0dHBzOi8vY29kZS5qcXVlcnkuY29tL2pxdWVyeS0xLjEyLjQubWluLmpzIj48L3NjcmlwdD4KICAgIDxzY3JpcHQgc3JjPSJodHRwczovL21heGNkbi5ib290c3RyYXBjZG4uY29tL2Jvb3RzdHJhcC8zLjIuMC9qcy9ib290c3RyYXAubWluLmpzIj48L3NjcmlwdD4KICAgIDxzY3JpcHQgc3JjPSJodHRwczovL2NkbmpzLmNsb3VkZmxhcmUuY29tL2FqYXgvbGlicy9MZWFmbGV0LmF3ZXNvbWUtbWFya2Vycy8yLjAuMi9sZWFmbGV0LmF3ZXNvbWUtbWFya2Vycy5qcyI+PC9zY3JpcHQ+CiAgICA8bGluayByZWw9InN0eWxlc2hlZXQiIGhyZWY9Imh0dHBzOi8vY2RuLmpzZGVsaXZyLm5ldC9ucG0vbGVhZmxldEAxLjUuMS9kaXN0L2xlYWZsZXQuY3NzIi8+CiAgICA8bGluayByZWw9InN0eWxlc2hlZXQiIGhyZWY9Imh0dHBzOi8vbWF4Y2RuLmJvb3RzdHJhcGNkbi5jb20vYm9vdHN0cmFwLzMuMi4wL2Nzcy9ib290c3RyYXAubWluLmNzcyIvPgogICAgPGxpbmsgcmVsPSJzdHlsZXNoZWV0IiBocmVmPSJodHRwczovL21heGNkbi5ib290c3RyYXBjZG4uY29tL2Jvb3RzdHJhcC8zLjIuMC9jc3MvYm9vdHN0cmFwLXRoZW1lLm1pbi5jc3MiLz4KICAgIDxsaW5rIHJlbD0ic3R5bGVzaGVldCIgaHJlZj0iaHR0cHM6Ly9tYXhjZG4uYm9vdHN0cmFwY2RuLmNvbS9mb250LWF3ZXNvbWUvNC42LjMvY3NzL2ZvbnQtYXdlc29tZS5taW4uY3NzIi8+CiAgICA8bGluayByZWw9InN0eWxlc2hlZXQiIGhyZWY9Imh0dHBzOi8vY2RuanMuY2xvdWRmbGFyZS5jb20vYWpheC9saWJzL0xlYWZsZXQuYXdlc29tZS1tYXJrZXJzLzIuMC4yL2xlYWZsZXQuYXdlc29tZS1tYXJrZXJzLmNzcyIvPgogICAgPGxpbmsgcmVsPSJzdHlsZXNoZWV0IiBocmVmPSJodHRwczovL3Jhd2Nkbi5naXRoYWNrLmNvbS9weXRob24tdmlzdWFsaXphdGlvbi9mb2xpdW0vbWFzdGVyL2ZvbGl1bS90ZW1wbGF0ZXMvbGVhZmxldC5hd2Vzb21lLnJvdGF0ZS5jc3MiLz4KICAgIDxzdHlsZT5odG1sLCBib2R5IHt3aWR0aDogMTAwJTtoZWlnaHQ6IDEwMCU7bWFyZ2luOiAwO3BhZGRpbmc6IDA7fTwvc3R5bGU+CiAgICA8c3R5bGU+I21hcCB7cG9zaXRpb246YWJzb2x1dGU7dG9wOjA7Ym90dG9tOjA7cmlnaHQ6MDtsZWZ0OjA7fTwvc3R5bGU+CiAgICAKICAgICAgICAgICAgPG1ldGEgbmFtZT0idmlld3BvcnQiIGNvbnRlbnQ9IndpZHRoPWRldmljZS13aWR0aCwKICAgICAgICAgICAgICAgIGluaXRpYWwtc2NhbGU9MS4wLCBtYXhpbXVtLXNjYWxlPTEuMCwgdXNlci1zY2FsYWJsZT1ubyIgLz4KICAgICAgICAgICAgPHN0eWxlPgogICAgICAgICAgICAgICAgI21hcF84NDZkYjZlYWJjYTM0NTUyYmVlM2YxNGRmMzc1ZDFiMyB7CiAgICAgICAgICAgICAgICAgICAgcG9zaXRpb246IHJlbGF0aXZlOwogICAgICAgICAgICAgICAgICAgIHdpZHRoOiAxMDAuMCU7CiAgICAgICAgICAgICAgICAgICAgaGVpZ2h0OiAxMDAuMCU7CiAgICAgICAgICAgICAgICAgICAgbGVmdDogMC4wJTsKICAgICAgICAgICAgICAgICAgICB0b3A6IDAuMCU7CiAgICAgICAgICAgICAgICB9CiAgICAgICAgICAgIDwvc3R5bGU+CiAgICAgICAgCiAgICA8c2NyaXB0IHNyYz0iaHR0cHM6Ly9jZG5qcy5jbG91ZGZsYXJlLmNvbS9hamF4L2xpYnMvbGVhZmxldC5tYXJrZXJjbHVzdGVyLzEuMS4wL2xlYWZsZXQubWFya2VyY2x1c3Rlci5qcyI+PC9zY3JpcHQ+CiAgICA8bGluayByZWw9InN0eWxlc2hlZXQiIGhyZWY9Imh0dHBzOi8vY2RuanMuY2xvdWRmbGFyZS5jb20vYWpheC9saWJzL2xlYWZsZXQubWFya2VyY2x1c3Rlci8xLjEuMC9NYXJrZXJDbHVzdGVyLmNzcyIvPgogICAgPGxpbmsgcmVsPSJzdHlsZXNoZWV0IiBocmVmPSJodHRwczovL2NkbmpzLmNsb3VkZmxhcmUuY29tL2FqYXgvbGlicy9sZWFmbGV0Lm1hcmtlcmNsdXN0ZXIvMS4xLjAvTWFya2VyQ2x1c3Rlci5EZWZhdWx0LmNzcyIvPgo8L2hlYWQ+Cjxib2R5PiAgICAKICAgIAogICAgICAgICAgICA8ZGl2IGNsYXNzPSJmb2xpdW0tbWFwIiBpZD0ibWFwXzg0NmRiNmVhYmNhMzQ1NTJiZWUzZjE0ZGYzNzVkMWIzIiA+PC9kaXY+CiAgICAgICAgCjwvYm9keT4KPHNjcmlwdD4gICAgCiAgICAKICAgICAgICAgICAgdmFyIG1hcF84NDZkYjZlYWJjYTM0NTUyYmVlM2YxNGRmMzc1ZDFiMyA9IEwubWFwKAogICAgICAgICAgICAgICAgIm1hcF84NDZkYjZlYWJjYTM0NTUyYmVlM2YxNGRmMzc1ZDFiMyIsCiAgICAgICAgICAgICAgICB7CiAgICAgICAgICAgICAgICAgICAgY2VudGVyOiBbMzcuNzcsIC0xMjIuNDJdLAogICAgICAgICAgICAgICAgICAgIGNyczogTC5DUlMuRVBTRzM4NTcsCiAgICAgICAgICAgICAgICAgICAgem9vbTogMTIsCiAgICAgICAgICAgICAgICAgICAgem9vbUNvbnRyb2w6IHRydWUsCiAgICAgICAgICAgICAgICAgICAgcHJlZmVyQ2FudmFzOiBmYWxzZSwKICAgICAgICAgICAgICAgIH0KICAgICAgICAgICAgKTsKCiAgICAgICAgICAgIAoKICAgICAgICAKICAgIAogICAgICAgICAgICB2YXIgdGlsZV9sYXllcl84NTYxMGU0NzQ0ODQ0OTAyOTI1YWI0MjdlMjlmZTJmOSA9IEwudGlsZUxheWVyKAogICAgICAgICAgICAgICAgImh0dHBzOi8ve3N9LnRpbGUub3BlbnN0cmVldG1hcC5vcmcve3p9L3t4fS97eX0ucG5nIiwKICAgICAgICAgICAgICAgIHsiYXR0cmlidXRpb24iOiAiRGF0YSBieSBcdTAwMjZjb3B5OyBcdTAwM2NhIGhyZWY9XCJodHRwOi8vb3BlbnN0cmVldG1hcC5vcmdcIlx1MDAzZU9wZW5TdHJlZXRNYXBcdTAwM2MvYVx1MDAzZSwgdW5kZXIgXHUwMDNjYSBocmVmPVwiaHR0cDovL3d3dy5vcGVuc3RyZWV0bWFwLm9yZy9jb3B5cmlnaHRcIlx1MDAzZU9EYkxcdTAwM2MvYVx1MDAzZS4iLCAiZGV0ZWN0UmV0aW5hIjogZmFsc2UsICJtYXhOYXRpdmVab29tIjogMTgsICJtYXhab29tIjogMTgsICJtaW5ab29tIjogMCwgIm5vV3JhcCI6IGZhbHNlLCAib3BhY2l0eSI6IDEsICJzdWJkb21haW5zIjogImFiYyIsICJ0bXMiOiBmYWxzZX0KICAgICAgICAgICAgKS5hZGRUbyhtYXBfODQ2ZGI2ZWFiY2EzNDU1MmJlZTNmMTRkZjM3NWQxYjMpOwogICAgICAgIAogICAgCiAgICAgICAgICAgIHZhciBtYXJrZXJfY2x1c3Rlcl84OGRiNzJkZmYxM2Q0NjFlODZlMjFlMzljOTQxNjI0YyA9IEwubWFya2VyQ2x1c3Rlckdyb3VwKAogICAgICAgICAgICAgICAge30KICAgICAgICAgICAgKTsKICAgICAgICAgICAgbWFwXzg0NmRiNmVhYmNhMzQ1NTJiZWUzZjE0ZGYzNzVkMWIzLmFkZExheWVyKG1hcmtlcl9jbHVzdGVyXzg4ZGI3MmRmZjEzZDQ2MWU4NmUyMWUzOWM5NDE2MjRjKTsKICAgICAgICAKICAgIAogICAgICAgICAgICB2YXIgbWFya2VyX2ExNzIzNmE4MmFjYTRlYTQ5ZDFlNDdiNDJiNjIwOGY5ID0gTC5tYXJrZXIoCiAgICAgICAgICAgICAgICBbMzcuNzc1NDIwNzA2NzExLCAtMTIyLjQwMzQwNDc5MTQ3ODk5XSwKICAgICAgICAgICAgICAgIHt9CiAgICAgICAgICAgICkuYWRkVG8obWFya2VyX2NsdXN0ZXJfODhkYjcyZGZmMTNkNDYxZTg2ZTIxZTM5Yzk0MTYyNGMpOwogICAgICAgIAogICAgCiAgICAgICAgdmFyIHBvcHVwX2EzNjg3YWQ2OWU4MzQ4ZTg4NGJjM2VmZGZkMTUwNjgyID0gTC5wb3B1cCh7Im1heFdpZHRoIjogIjEwMCUifSk7CgogICAgICAgIAogICAgICAgICAgICB2YXIgaHRtbF8zNjExOGQ1ODIzZTM0ZDNkYTFiMDE1NmUzZGU2OTFjMyA9ICQoYDxkaXYgaWQ9Imh0bWxfMzYxMThkNTgyM2UzNGQzZGExYjAxNTZlM2RlNjkxYzMiIHN0eWxlPSJ3aWR0aDogMTAwLjAlOyBoZWlnaHQ6IDEwMC4wJTsiPldFQVBPTiBMQVdTPC9kaXY+YClbMF07CiAgICAgICAgICAgIHBvcHVwX2EzNjg3YWQ2OWU4MzQ4ZTg4NGJjM2VmZGZkMTUwNjgyLnNldENvbnRlbnQoaHRtbF8zNjExOGQ1ODIzZTM0ZDNkYTFiMDE1NmUzZGU2OTFjMyk7CiAgICAgICAgCgogICAgICAgIG1hcmtlcl9hMTcyMzZhODJhY2E0ZWE0OWQxZTQ3YjQyYjYyMDhmOS5iaW5kUG9wdXAocG9wdXBfYTM2ODdhZDY5ZTgzNDhlODg0YmMzZWZkZmQxNTA2ODIpCiAgICAgICAgOwoKICAgICAgICAKICAgIAogICAgCiAgICAgICAgICAgIHZhciBtYXJrZXJfZjU3OTY5NDQ4MWQ1NGQzNmJmNzMzOWZhNDMxNmNkZjQgPSBMLm1hcmtlcigKICAgICAgICAgICAgICAgIFszNy43NzU0MjA3MDY3MTEsIC0xMjIuNDAzNDA0NzkxNDc4OTldLAogICAgICAgICAgICAgICAge30KICAgICAgICAgICAgKS5hZGRUbyhtYXJrZXJfY2x1c3Rlcl84OGRiNzJkZmYxM2Q0NjFlODZlMjFlMzljOTQxNjI0Yyk7CiAgICAgICAgCiAgICAKICAgICAgICB2YXIgcG9wdXBfOGE4ZmU3NzE0NjQ5NDdlZTg2Mzg1YjA5NjRhNTRhZDQgPSBMLnBvcHVwKHsibWF4V2lkdGgiOiAiMTAwJSJ9KTsKCiAgICAgICAgCiAgICAgICAgICAgIHZhciBodG1sXzI3NzAwZDkwMDQ2NjRiZTZiMjdhMWQ1NDM2MDJhMDUzID0gJChgPGRpdiBpZD0iaHRtbF8yNzcwMGQ5MDA0NjY0YmU2YjI3YTFkNTQzNjAyYTA1MyIgc3R5bGU9IndpZHRoOiAxMDAuMCU7IGhlaWdodDogMTAwLjAlOyI+V0VBUE9OIExBV1M8L2Rpdj5gKVswXTsKICAgICAgICAgICAgcG9wdXBfOGE4ZmU3NzE0NjQ5NDdlZTg2Mzg1YjA5NjRhNTRhZDQuc2V0Q29udGVudChodG1sXzI3NzAwZDkwMDQ2NjRiZTZiMjdhMWQ1NDM2MDJhMDUzKTsKICAgICAgICAKCiAgICAgICAgbWFya2VyX2Y1Nzk2OTQ0ODFkNTRkMzZiZjczMzlmYTQzMTZjZGY0LmJpbmRQb3B1cChwb3B1cF84YThmZTc3MTQ2NDk0N2VlODYzODViMDk2NGE1NGFkNCkKICAgICAgICA7CgogICAgICAgIAogICAgCiAgICAKICAgICAgICAgICAgdmFyIG1hcmtlcl9hZGM5NDM1NjMyODM0OTk3YTg4YmQ0NjVlYmM3Mjg2ZSA9IEwubWFya2VyKAogICAgICAgICAgICAgICAgWzM3LjcyOTk4MDk2NzI5OTU5NiwgLTEyMi4zODg4NTYyMDQyOTJdLAogICAgICAgICAgICAgICAge30KICAgICAgICAgICAgKS5hZGRUbyhtYXJrZXJfY2x1c3Rlcl84OGRiNzJkZmYxM2Q0NjFlODZlMjFlMzljOTQxNjI0Yyk7CiAgICAgICAgCiAgICAKICAgICAgICB2YXIgcG9wdXBfYjRkMTY2YjAzMzEyNDM0MmE4NzZkOWM5MzQxZWI2ODEgPSBMLnBvcHVwKHsibWF4V2lkdGgiOiAiMTAwJSJ9KTsKCiAgICAgICAgCiAgICAgICAgICAgIHZhciBodG1sXzJiMzgxNTk3Y2Q3YjRmYTBhZWJjOGU1MjE2ZGIyYjZkID0gJChgPGRpdiBpZD0iaHRtbF8yYjM4MTU5N2NkN2I0ZmEwYWViYzhlNTIxNmRiMmI2ZCIgc3R5bGU9IndpZHRoOiAxMDAuMCU7IGhlaWdodDogMTAwLjAlOyI+V0FSUkFOVFM8L2Rpdj5gKVswXTsKICAgICAgICAgICAgcG9wdXBfYjRkMTY2YjAzMzEyNDM0MmE4NzZkOWM5MzQxZWI2ODEuc2V0Q29udGVudChodG1sXzJiMzgxNTk3Y2Q3YjRmYTBhZWJjOGU1MjE2ZGIyYjZkKTsKICAgICAgICAKCiAgICAgICAgbWFya2VyX2FkYzk0MzU2MzI4MzQ5OTdhODhiZDQ2NWViYzcyODZlLmJpbmRQb3B1cChwb3B1cF9iNGQxNjZiMDMzMTI0MzQyYTg3NmQ5YzkzNDFlYjY4MSkKICAgICAgICA7CgogICAgICAgIAogICAgCiAgICAKICAgICAgICAgICAgdmFyIG1hcmtlcl9mYWQ5YWE5ZTViMjU0NzZkYmE4YWU3M2I4NmM2NzAzMyA9IEwubWFya2VyKAogICAgICAgICAgICAgICAgWzM3Ljc4NTc4ODM3NjY4ODc5LCAtMTIyLjQxMjk3MDUzNzU5MV0sCiAgICAgICAgICAgICAgICB7fQogICAgICAgICAgICApLmFkZFRvKG1hcmtlcl9jbHVzdGVyXzg4ZGI3MmRmZjEzZDQ2MWU4NmUyMWUzOWM5NDE2MjRjKTsKICAgICAgICAKICAgIAogICAgICAgIHZhciBwb3B1cF9lYTliNWQzYjcyMWE0OGZlOTMxOWM1M2E4ZDg2MjNmMSA9IEwucG9wdXAoeyJtYXhXaWR0aCI6ICIxMDAlIn0pOwoKICAgICAgICAKICAgICAgICAgICAgdmFyIGh0bWxfMjA1ZTUyMzllNGY4NDIxNzgxMmY0NjMxZTJiMDZjYmYgPSAkKGA8ZGl2IGlkPSJodG1sXzIwNWU1MjM5ZTRmODQyMTc4MTJmNDYzMWUyYjA2Y2JmIiBzdHlsZT0id2lkdGg6IDEwMC4wJTsgaGVpZ2h0OiAxMDAuMCU7Ij5OT04tQ1JJTUlOQUw8L2Rpdj5gKVswXTsKICAgICAgICAgICAgcG9wdXBfZWE5YjVkM2I3MjFhNDhmZTkzMTljNTNhOGQ4NjIzZjEuc2V0Q29udGVudChodG1sXzIwNWU1MjM5ZTRmODQyMTc4MTJmNDYzMWUyYjA2Y2JmKTsKICAgICAgICAKCiAgICAgICAgbWFya2VyX2ZhZDlhYTllNWIyNTQ3NmRiYThhZTczYjg2YzY3MDMzLmJpbmRQb3B1cChwb3B1cF9lYTliNWQzYjcyMWE0OGZlOTMxOWM1M2E4ZDg2MjNmMSkKICAgICAgICA7CgogICAgICAgIAogICAgCiAgICAKICAgICAgICAgICAgdmFyIG1hcmtlcl9jMjUwNmNiY2JhNGM0OTg3YjM3MTFhMjE3OTY1Y2IxNyA9IEwubWFya2VyKAogICAgICAgICAgICAgICAgWzM3Ljc2NTA1MDEyMTQ2NjgsIC0xMjIuNDE5NjcxNzgwMjk2XSwKICAgICAgICAgICAgICAgIHt9CiAgICAgICAgICAgICkuYWRkVG8obWFya2VyX2NsdXN0ZXJfODhkYjcyZGZmMTNkNDYxZTg2ZTIxZTM5Yzk0MTYyNGMpOwogICAgICAgIAogICAgCiAgICAgICAgdmFyIHBvcHVwXzIyOGI2ZjBiOTdmYjRkZGVhZjI2YWM2NzNhYWVlN2QyID0gTC5wb3B1cCh7Im1heFdpZHRoIjogIjEwMCUifSk7CgogICAgICAgIAogICAgICAgICAgICB2YXIgaHRtbF81NjY5NmJmYjUxNjY0YTU4YmI5Yzc5MDFkZWIxNjBlYyA9ICQoYDxkaXYgaWQ9Imh0bWxfNTY2OTZiZmI1MTY2NGE1OGJiOWM3OTAxZGViMTYwZWMiIHN0eWxlPSJ3aWR0aDogMTAwLjAlOyBoZWlnaHQ6IDEwMC4wJTsiPk5PTi1DUklNSU5BTDwvZGl2PmApWzBdOwogICAgICAgICAgICBwb3B1cF8yMjhiNmYwYjk3ZmI0ZGRlYWYyNmFjNjczYWFlZTdkMi5zZXRDb250ZW50KGh0bWxfNTY2OTZiZmI1MTY2NGE1OGJiOWM3OTAxZGViMTYwZWMpOwogICAgICAgIAoKICAgICAgICBtYXJrZXJfYzI1MDZjYmNiYTRjNDk4N2IzNzExYTIxNzk2NWNiMTcuYmluZFBvcHVwKHBvcHVwXzIyOGI2ZjBiOTdmYjRkZGVhZjI2YWM2NzNhYWVlN2QyKQogICAgICAgIDsKCiAgICAgICAgCiAgICAKICAgIAogICAgICAgICAgICB2YXIgbWFya2VyX2NhY2MxOWUzMmZjZTQ3MGFhYmEzMDA0OGEyZTVmNDZlID0gTC5tYXJrZXIoCiAgICAgICAgICAgICAgICBbMzcuNzg4MDE4NTU1ODI5LCAtMTIyLjQyNjA3NzE3NzM3NDk5XSwKICAgICAgICAgICAgICAgIHt9CiAgICAgICAgICAgICkuYWRkVG8obWFya2VyX2NsdXN0ZXJfODhkYjcyZGZmMTNkNDYxZTg2ZTIxZTM5Yzk0MTYyNGMpOwogICAgICAgIAogICAgCiAgICAgICAgdmFyIHBvcHVwXzRhNTJmOGE5ZjdiNjQ0OThhMzRkZmE3NjNlMzI3MTc5ID0gTC5wb3B1cCh7Im1heFdpZHRoIjogIjEwMCUifSk7CgogICAgICAgIAogICAgICAgICAgICB2YXIgaHRtbF82Y2E2OTg1Y2I0MGE0OTRkOWI5MzVhOGIwMGM0NzZmOSA9ICQoYDxkaXYgaWQ9Imh0bWxfNmNhNjk4NWNiNDBhNDk0ZDliOTM1YThiMDBjNDc2ZjkiIHN0eWxlPSJ3aWR0aDogMTAwLjAlOyBoZWlnaHQ6IDEwMC4wJTsiPkFTU0FVTFQ8L2Rpdj5gKVswXTsKICAgICAgICAgICAgcG9wdXBfNGE1MmY4YTlmN2I2NDQ5OGEzNGRmYTc2M2UzMjcxNzkuc2V0Q29udGVudChodG1sXzZjYTY5ODVjYjQwYTQ5NGQ5YjkzNWE4YjAwYzQ3NmY5KTsKICAgICAgICAKCiAgICAgICAgbWFya2VyX2NhY2MxOWUzMmZjZTQ3MGFhYmEzMDA0OGEyZTVmNDZlLmJpbmRQb3B1cChwb3B1cF80YTUyZjhhOWY3YjY0NDk4YTM0ZGZhNzYzZTMyNzE3OSkKICAgICAgICA7CgogICAgICAgIAogICAgCiAgICAKICAgICAgICAgICAgdmFyIG1hcmtlcl9mZTg4YjM2Yzg0OTk0MjdhYjc2ODNhY2VmMDE5MDQ4NiA9IEwubWFya2VyKAogICAgICAgICAgICAgICAgWzM3Ljc4MDg3ODkzNjAyMTQsIC0xMjIuNDA1NzIxNDU0NTY3XSwKICAgICAgICAgICAgICAgIHt9CiAgICAgICAgICAgICkuYWRkVG8obWFya2VyX2NsdXN0ZXJfODhkYjcyZGZmMTNkNDYxZTg2ZTIxZTM5Yzk0MTYyNGMpOwogICAgICAgIAogICAgCiAgICAgICAgdmFyIHBvcHVwXzk1ZWJmMWE0YmVjNDRhYzFiMDBjMjgzZDFmZmRjYjBjID0gTC5wb3B1cCh7Im1heFdpZHRoIjogIjEwMCUifSk7CgogICAgICAgIAogICAgICAgICAgICB2YXIgaHRtbF9hZTA3N2IzODNhNzc0NTMwYTM4Nzg0YjkwYzUwYjA2NSA9ICQoYDxkaXYgaWQ9Imh0bWxfYWUwNzdiMzgzYTc3NDUzMGEzODc4NGI5MGM1MGIwNjUiIHN0eWxlPSJ3aWR0aDogMTAwLjAlOyBoZWlnaHQ6IDEwMC4wJTsiPk9USEVSIE9GRkVOU0VTPC9kaXY+YClbMF07CiAgICAgICAgICAgIHBvcHVwXzk1ZWJmMWE0YmVjNDRhYzFiMDBjMjgzZDFmZmRjYjBjLnNldENvbnRlbnQoaHRtbF9hZTA3N2IzODNhNzc0NTMwYTM4Nzg0YjkwYzUwYjA2NSk7CiAgICAgICAgCgogICAgICAgIG1hcmtlcl9mZTg4YjM2Yzg0OTk0MjdhYjc2ODNhY2VmMDE5MDQ4Ni5iaW5kUG9wdXAocG9wdXBfOTVlYmYxYTRiZWM0NGFjMWIwMGMyODNkMWZmZGNiMGMpCiAgICAgICAgOwoKICAgICAgICAKICAgIAogICAgCiAgICAgICAgICAgIHZhciBtYXJrZXJfOGE2YWRmZGY0YWNiNDY4MTliZWU4YmJlNmM5MjMyNTcgPSBMLm1hcmtlcigKICAgICAgICAgICAgICAgIFszNy43ODM5ODA1NTkyNjM0LCAtMTIyLjQxMTc3ODI5NTk5Ml0sCiAgICAgICAgICAgICAgICB7fQogICAgICAgICAgICApLmFkZFRvKG1hcmtlcl9jbHVzdGVyXzg4ZGI3MmRmZjEzZDQ2MWU4NmUyMWUzOWM5NDE2MjRjKTsKICAgICAgICAKICAgIAogICAgICAgIHZhciBwb3B1cF80ZTQwODQ0MjQzYjk0ZWVhODI5OTJkYWEwMGQ4OWE3YyA9IEwucG9wdXAoeyJtYXhXaWR0aCI6ICIxMDAlIn0pOwoKICAgICAgICAKICAgICAgICAgICAgdmFyIGh0bWxfNzgzZjNjMGIyZTcxNDkyOWE4YzAxZjNiNmI4MTVkYTkgPSAkKGA8ZGl2IGlkPSJodG1sXzc4M2YzYzBiMmU3MTQ5MjlhOGMwMWYzYjZiODE1ZGE5IiBzdHlsZT0id2lkdGg6IDEwMC4wJTsgaGVpZ2h0OiAxMDAuMCU7Ij5OT04tQ1JJTUlOQUw8L2Rpdj5gKVswXTsKICAgICAgICAgICAgcG9wdXBfNGU0MDg0NDI0M2I5NGVlYTgyOTkyZGFhMDBkODlhN2Muc2V0Q29udGVudChodG1sXzc4M2YzYzBiMmU3MTQ5MjlhOGMwMWYzYjZiODE1ZGE5KTsKICAgICAgICAKCiAgICAgICAgbWFya2VyXzhhNmFkZmRmNGFjYjQ2ODE5YmVlOGJiZTZjOTIzMjU3LmJpbmRQb3B1cChwb3B1cF80ZTQwODQ0MjQzYjk0ZWVhODI5OTJkYWEwMGQ4OWE3YykKICAgICAgICA7CgogICAgICAgIAogICAgCiAgICAKICAgICAgICAgICAgdmFyIG1hcmtlcl9hMTkzNjlhZjlkMmE0NTg1OTI5MmRlNjMwMTVhOGNlYSA9IEwubWFya2VyKAogICAgICAgICAgICAgICAgWzM3Ljc3NTc4NzYyMTgyOTI5NSwgLTEyMi4zOTMzNTcyNDE0NTFdLAogICAgICAgICAgICAgICAge30KICAgICAgICAgICAgKS5hZGRUbyhtYXJrZXJfY2x1c3Rlcl84OGRiNzJkZmYxM2Q0NjFlODZlMjFlMzljOTQxNjI0Yyk7CiAgICAgICAgCiAgICAKICAgICAgICB2YXIgcG9wdXBfZTM1NmU5OTExY2ZlNGU3NGJiMTFmYzQ5NDE4MDg5YTEgPSBMLnBvcHVwKHsibWF4V2lkdGgiOiAiMTAwJSJ9KTsKCiAgICAgICAgCiAgICAgICAgICAgIHZhciBodG1sX2YxY2UxNTE4ZDMyNTQ3ODJhZDE0M2IxYWEwZjc0ZTU5ID0gJChgPGRpdiBpZD0iaHRtbF9mMWNlMTUxOGQzMjU0NzgyYWQxNDNiMWFhMGY3NGU1OSIgc3R5bGU9IndpZHRoOiAxMDAuMCU7IGhlaWdodDogMTAwLjAlOyI+V0FSUkFOVFM8L2Rpdj5gKVswXTsKICAgICAgICAgICAgcG9wdXBfZTM1NmU5OTExY2ZlNGU3NGJiMTFmYzQ5NDE4MDg5YTEuc2V0Q29udGVudChodG1sX2YxY2UxNTE4ZDMyNTQ3ODJhZDE0M2IxYWEwZjc0ZTU5KTsKICAgICAgICAKCiAgICAgICAgbWFya2VyX2ExOTM2OWFmOWQyYTQ1ODU5MjkyZGU2MzAxNWE4Y2VhLmJpbmRQb3B1cChwb3B1cF9lMzU2ZTk5MTFjZmU0ZTc0YmIxMWZjNDk0MTgwODlhMSkKICAgICAgICA7CgogICAgICAgIAogICAgCiAgICAKICAgICAgICAgICAgdmFyIG1hcmtlcl9mODNmMjgxYTJhZmE0OWYwOGM0OGFmNzk3YmFiNTQ1OSA9IEwubWFya2VyKAogICAgICAgICAgICAgICAgWzM3LjcyMDk2Njk2MTU0OTksIC0xMjIuMzg3MTgxNjM1OTk1XSwKICAgICAgICAgICAgICAgIHt9CiAgICAgICAgICAgICkuYWRkVG8obWFya2VyX2NsdXN0ZXJfODhkYjcyZGZmMTNkNDYxZTg2ZTIxZTM5Yzk0MTYyNGMpOwogICAgICAgIAogICAgCiAgICAgICAgdmFyIHBvcHVwXzY2ZDdlNjJjY2I1ODRhNTI5YzNiMThlMGE5Yzg1NWIwID0gTC5wb3B1cCh7Im1heFdpZHRoIjogIjEwMCUifSk7CgogICAgICAgIAogICAgICAgICAgICB2YXIgaHRtbF80MmU5MGNkODZlNDY0ODEzYmU1YzdlYzE2OGRiZDg4NSA9ICQoYDxkaXYgaWQ9Imh0bWxfNDJlOTBjZDg2ZTQ2NDgxM2JlNWM3ZWMxNjhkYmQ4ODUiIHN0eWxlPSJ3aWR0aDogMTAwLjAlOyBoZWlnaHQ6IDEwMC4wJTsiPk1JU1NJTkcgUEVSU09OPC9kaXY+YClbMF07CiAgICAgICAgICAgIHBvcHVwXzY2ZDdlNjJjY2I1ODRhNTI5YzNiMThlMGE5Yzg1NWIwLnNldENvbnRlbnQoaHRtbF80MmU5MGNkODZlNDY0ODEzYmU1YzdlYzE2OGRiZDg4NSk7CiAgICAgICAgCgogICAgICAgIG1hcmtlcl9mODNmMjgxYTJhZmE0OWYwOGM0OGFmNzk3YmFiNTQ1OS5iaW5kUG9wdXAocG9wdXBfNjZkN2U2MmNjYjU4NGE1MjljM2IxOGUwYTljODU1YjApCiAgICAgICAgOwoKICAgICAgICAKICAgIAogICAgCiAgICAgICAgICAgIHZhciBtYXJrZXJfODI4ZWM5NzVmMDMzNGY4YmJjMjY2ZWU3N2MyM2VmNGEgPSBMLm1hcmtlcigKICAgICAgICAgICAgICAgIFszNy43NjQ0NzgxNTc4Njk1MDUsIC0xMjIuNDc3Mzc2NTI0MDAyOTldLAogICAgICAgICAgICAgICAge30KICAgICAgICAgICAgKS5hZGRUbyhtYXJrZXJfY2x1c3Rlcl84OGRiNzJkZmYxM2Q0NjFlODZlMjFlMzljOTQxNjI0Yyk7CiAgICAgICAgCiAgICAKICAgICAgICB2YXIgcG9wdXBfZTdhYTMxZTM5NWJlNDk3NDliZjMxNDM4YmZhZTkzYTkgPSBMLnBvcHVwKHsibWF4V2lkdGgiOiAiMTAwJSJ9KTsKCiAgICAgICAgCiAgICAgICAgICAgIHZhciBodG1sX2QzOWNmYmQ3NDhlMDQ4YjM5YTA5ZDEzMzg2MDM1YzcwID0gJChgPGRpdiBpZD0iaHRtbF9kMzljZmJkNzQ4ZTA0OGIzOWEwOWQxMzM4NjAzNWM3MCIgc3R5bGU9IndpZHRoOiAxMDAuMCU7IGhlaWdodDogMTAwLjAlOyI+TEFSQ0VOWS9USEVGVDwvZGl2PmApWzBdOwogICAgICAgICAgICBwb3B1cF9lN2FhMzFlMzk1YmU0OTc0OWJmMzE0MzhiZmFlOTNhOS5zZXRDb250ZW50KGh0bWxfZDM5Y2ZiZDc0OGUwNDhiMzlhMDlkMTMzODYwMzVjNzApOwogICAgICAgIAoKICAgICAgICBtYXJrZXJfODI4ZWM5NzVmMDMzNGY4YmJjMjY2ZWU3N2MyM2VmNGEuYmluZFBvcHVwKHBvcHVwX2U3YWEzMWUzOTViZTQ5NzQ5YmYzMTQzOGJmYWU5M2E5KQogICAgICAgIDsKCiAgICAgICAgCiAgICAKICAgIAogICAgICAgICAgICB2YXIgbWFya2VyX2Y0NDBiY2M2NmJmYzQ5OTFhMDI0NDdiNDRkODI2NGE5ID0gTC5tYXJrZXIoCiAgICAgICAgICAgICAgICBbMzcuNzQ1NzM4OTQyOTY1NDk1LCAtMTIyLjQ3Nzk2MDMyNzI5OV0sCiAgICAgICAgICAgICAgICB7fQogICAgICAgICAgICApLmFkZFRvKG1hcmtlcl9jbHVzdGVyXzg4ZGI3MmRmZjEzZDQ2MWU4NmUyMWUzOWM5NDE2MjRjKTsKICAgICAgICAKICAgIAogICAgICAgIHZhciBwb3B1cF9mZWM2YmM2NzI2YTc0OThmYjBmODg5NTNhMzllOTVjMSA9IEwucG9wdXAoeyJtYXhXaWR0aCI6ICIxMDAlIn0pOwoKICAgICAgICAKICAgICAgICAgICAgdmFyIGh0bWxfNGE5ZjVmNjU3Y2JkNDIwNGJiNzcwMmM2MjhiYjU5MWQgPSAkKGA8ZGl2IGlkPSJodG1sXzRhOWY1ZjY1N2NiZDQyMDRiYjc3MDJjNjI4YmI1OTFkIiBzdHlsZT0id2lkdGg6IDEwMC4wJTsgaGVpZ2h0OiAxMDAuMCU7Ij5OT04tQ1JJTUlOQUw8L2Rpdj5gKVswXTsKICAgICAgICAgICAgcG9wdXBfZmVjNmJjNjcyNmE3NDk4ZmIwZjg4OTUzYTM5ZTk1YzEuc2V0Q29udGVudChodG1sXzRhOWY1ZjY1N2NiZDQyMDRiYjc3MDJjNjI4YmI1OTFkKTsKICAgICAgICAKCiAgICAgICAgbWFya2VyX2Y0NDBiY2M2NmJmYzQ5OTFhMDI0NDdiNDRkODI2NGE5LmJpbmRQb3B1cChwb3B1cF9mZWM2YmM2NzI2YTc0OThmYjBmODg5NTNhMzllOTVjMSkKICAgICAgICA7CgogICAgICAgIAogICAgCiAgICAKICAgICAgICAgICAgdmFyIG1hcmtlcl81ZjllNGUxZTBhNzc0MGEzODNlMDk5MDRiZjIwMmU0NiA9IEwubWFya2VyKAogICAgICAgICAgICAgICAgWzM3LjczNTY5NzAyNzU0ODIwNiwgLTEyMi4zNzY3NTc2NTU1MzAwMV0sCiAgICAgICAgICAgICAgICB7fQogICAgICAgICAgICApLmFkZFRvKG1hcmtlcl9jbHVzdGVyXzg4ZGI3MmRmZjEzZDQ2MWU4NmUyMWUzOWM5NDE2MjRjKTsKICAgICAgICAKICAgIAogICAgICAgIHZhciBwb3B1cF84YTRmMjFkZTZiNDA0N2I0ODI5ZWU5MjVlMDMzYjExOSA9IEwucG9wdXAoeyJtYXhXaWR0aCI6ICIxMDAlIn0pOwoKICAgICAgICAKICAgICAgICAgICAgdmFyIGh0bWxfMjM4MmExNjM4MjBhNGI2MWFhNjBmM2RlNjc2YTlkNmUgPSAkKGA8ZGl2IGlkPSJodG1sXzIzODJhMTYzODIwYTRiNjFhYTYwZjNkZTY3NmE5ZDZlIiBzdHlsZT0id2lkdGg6IDEwMC4wJTsgaGVpZ2h0OiAxMDAuMCU7Ij5PVEhFUiBPRkZFTlNFUzwvZGl2PmApWzBdOwogICAgICAgICAgICBwb3B1cF84YTRmMjFkZTZiNDA0N2I0ODI5ZWU5MjVlMDMzYjExOS5zZXRDb250ZW50KGh0bWxfMjM4MmExNjM4MjBhNGI2MWFhNjBmM2RlNjc2YTlkNmUpOwogICAgICAgIAoKICAgICAgICBtYXJrZXJfNWY5ZTRlMWUwYTc3NDBhMzgzZTA5OTA0YmYyMDJlNDYuYmluZFBvcHVwKHBvcHVwXzhhNGYyMWRlNmI0MDQ3YjQ4MjllZTkyNWUwMzNiMTE5KQogICAgICAgIDsKCiAgICAgICAgCiAgICAKICAgIAogICAgICAgICAgICB2YXIgbWFya2VyXzUyMDQzNTIzZTY2ZTQ3MzU4N2RlYWVhMzg5YTkyNjM4ID0gTC5tYXJrZXIoCiAgICAgICAgICAgICAgICBbMzcuNzI5MjcwNTE5OTU5MiwgLTEyMi40MzIzMjU4NzEwMjhdLAogICAgICAgICAgICAgICAge30KICAgICAgICAgICAgKS5hZGRUbyhtYXJrZXJfY2x1c3Rlcl84OGRiNzJkZmYxM2Q0NjFlODZlMjFlMzljOTQxNjI0Yyk7CiAgICAgICAgCiAgICAKICAgICAgICB2YXIgcG9wdXBfMzBmNjA1ZmRhZWIwNDYyMmJlNzhlNzY2ZmFmYzczOTIgPSBMLnBvcHVwKHsibWF4V2lkdGgiOiAiMTAwJSJ9KTsKCiAgICAgICAgCiAgICAgICAgICAgIHZhciBodG1sXzdkZDkyMzE0Y2U4MDQwODQ4ZTc5ZjI1NWFmMTFjM2I2ID0gJChgPGRpdiBpZD0iaHRtbF83ZGQ5MjMxNGNlODA0MDg0OGU3OWYyNTVhZjExYzNiNiIgc3R5bGU9IndpZHRoOiAxMDAuMCU7IGhlaWdodDogMTAwLjAlOyI+QVNTQVVMVDwvZGl2PmApWzBdOwogICAgICAgICAgICBwb3B1cF8zMGY2MDVmZGFlYjA0NjIyYmU3OGU3NjZmYWZjNzM5Mi5zZXRDb250ZW50KGh0bWxfN2RkOTIzMTRjZTgwNDA4NDhlNzlmMjU1YWYxMWMzYjYpOwogICAgICAgIAoKICAgICAgICBtYXJrZXJfNTIwNDM1MjNlNjZlNDczNTg3ZGVhZWEzODlhOTI2MzguYmluZFBvcHVwKHBvcHVwXzMwZjYwNWZkYWViMDQ2MjJiZTc4ZTc2NmZhZmM3MzkyKQogICAgICAgIDsKCiAgICAgICAgCiAgICAKICAgIAogICAgICAgICAgICB2YXIgbWFya2VyXzk1NjZhOWRkNzQ3MzQxM2U4ZmJkODc5NWYzYmU2YzVmID0gTC5tYXJrZXIoCiAgICAgICAgICAgICAgICBbMzcuNzkxNjQyOTgyMzg0LCAtMTIyLjQwMDkwODY5ODg4OTk5XSwKICAgICAgICAgICAgICAgIHt9CiAgICAgICAgICAgICkuYWRkVG8obWFya2VyX2NsdXN0ZXJfODhkYjcyZGZmMTNkNDYxZTg2ZTIxZTM5Yzk0MTYyNGMpOwogICAgICAgIAogICAgCiAgICAgICAgdmFyIHBvcHVwX2JhYzIxNzMyMTI3NjRiMTE5NWI4OWEwNTczZjk3ZTI3ID0gTC5wb3B1cCh7Im1heFdpZHRoIjogIjEwMCUifSk7CgogICAgICAgIAogICAgICAgICAgICB2YXIgaHRtbF9hNDJiNjNhNjExNTc0NWJlYjE2ZWUyN2NkY2ZhNmMzYyA9ICQoYDxkaXYgaWQ9Imh0bWxfYTQyYjYzYTYxMTU3NDViZWIxNmVlMjdjZGNmYTZjM2MiIHN0eWxlPSJ3aWR0aDogMTAwLjAlOyBoZWlnaHQ6IDEwMC4wJTsiPkJVUkdMQVJZPC9kaXY+YClbMF07CiAgICAgICAgICAgIHBvcHVwX2JhYzIxNzMyMTI3NjRiMTE5NWI4OWEwNTczZjk3ZTI3LnNldENvbnRlbnQoaHRtbF9hNDJiNjNhNjExNTc0NWJlYjE2ZWUyN2NkY2ZhNmMzYyk7CiAgICAgICAgCgogICAgICAgIG1hcmtlcl85NTY2YTlkZDc0NzM0MTNlOGZiZDg3OTVmM2JlNmM1Zi5iaW5kUG9wdXAocG9wdXBfYmFjMjE3MzIxMjc2NGIxMTk1Yjg5YTA1NzNmOTdlMjcpCiAgICAgICAgOwoKICAgICAgICAKICAgIAogICAgCiAgICAgICAgICAgIHZhciBtYXJrZXJfMjQxMDk1ZmI2MzJhNDBlNWExZmIzNGQ0YWFlYmNlYzUgPSBMLm1hcmtlcigKICAgICAgICAgICAgICAgIFszNy43ODM3MDY5MzAxNTQ1LCAtMTIyLjQwODU5NTExMDg2OV0sCiAgICAgICAgICAgICAgICB7fQogICAgICAgICAgICApLmFkZFRvKG1hcmtlcl9jbHVzdGVyXzg4ZGI3MmRmZjEzZDQ2MWU4NmUyMWUzOWM5NDE2MjRjKTsKICAgICAgICAKICAgIAogICAgICAgIHZhciBwb3B1cF85YjU0MzE3ZDg5MTI0ZTQwYmJlNWRkNTBhZmZjNDY4NCA9IEwucG9wdXAoeyJtYXhXaWR0aCI6ICIxMDAlIn0pOwoKICAgICAgICAKICAgICAgICAgICAgdmFyIGh0bWxfZmM2ODhkMjM5MmJjNDE4MmI0ODJiZWI3YmM3YjFiMTkgPSAkKGA8ZGl2IGlkPSJodG1sX2ZjNjg4ZDIzOTJiYzQxODJiNDgyYmViN2JjN2IxYjE5IiBzdHlsZT0id2lkdGg6IDEwMC4wJTsgaGVpZ2h0OiAxMDAuMCU7Ij5TVE9MRU4gUFJPUEVSVFk8L2Rpdj5gKVswXTsKICAgICAgICAgICAgcG9wdXBfOWI1NDMxN2Q4OTEyNGU0MGJiZTVkZDUwYWZmYzQ2ODQuc2V0Q29udGVudChodG1sX2ZjNjg4ZDIzOTJiYzQxODJiNDgyYmViN2JjN2IxYjE5KTsKICAgICAgICAKCiAgICAgICAgbWFya2VyXzI0MTA5NWZiNjMyYTQwZTVhMWZiMzRkNGFhZWJjZWM1LmJpbmRQb3B1cChwb3B1cF85YjU0MzE3ZDg5MTI0ZTQwYmJlNWRkNTBhZmZjNDY4NCkKICAgICAgICA7CgogICAgICAgIAogICAgCiAgICAKICAgICAgICAgICAgdmFyIG1hcmtlcl85MzBkOTZjOWMzOTQ0NGViOWFlMzZmNWUwMDIxOGMxMyA9IEwubWFya2VyKAogICAgICAgICAgICAgICAgWzM3Ljc1NzI4OTU5MDQ1Nzc5NSwgLTEyMi40MDY4NzA0MDIwODJdLAogICAgICAgICAgICAgICAge30KICAgICAgICAgICAgKS5hZGRUbyhtYXJrZXJfY2x1c3Rlcl84OGRiNzJkZmYxM2Q0NjFlODZlMjFlMzljOTQxNjI0Yyk7CiAgICAgICAgCiAgICAKICAgICAgICB2YXIgcG9wdXBfOTNmYTRkMDMyMDA1NGUzYWE0ZmY5MDkxNGRlZTU1NTAgPSBMLnBvcHVwKHsibWF4V2lkdGgiOiAiMTAwJSJ9KTsKCiAgICAgICAgCiAgICAgICAgICAgIHZhciBodG1sX2MwYzc1ZDg5Y2M1NTQ1OTc5NGYxZWM4YWRiNDZjZDViID0gJChgPGRpdiBpZD0iaHRtbF9jMGM3NWQ4OWNjNTU0NTk3OTRmMWVjOGFkYjQ2Y2Q1YiIgc3R5bGU9IndpZHRoOiAxMDAuMCU7IGhlaWdodDogMTAwLjAlOyI+Uk9CQkVSWTwvZGl2PmApWzBdOwogICAgICAgICAgICBwb3B1cF85M2ZhNGQwMzIwMDU0ZTNhYTRmZjkwOTE0ZGVlNTU1MC5zZXRDb250ZW50KGh0bWxfYzBjNzVkODljYzU1NDU5Nzk0ZjFlYzhhZGI0NmNkNWIpOwogICAgICAgIAoKICAgICAgICBtYXJrZXJfOTMwZDk2YzljMzk0NDRlYjlhZTM2ZjVlMDAyMThjMTMuYmluZFBvcHVwKHBvcHVwXzkzZmE0ZDAzMjAwNTRlM2FhNGZmOTA5MTRkZWU1NTUwKQogICAgICAgIDsKCiAgICAgICAgCiAgICAKICAgIAogICAgICAgICAgICB2YXIgbWFya2VyX2U5MThmMWQ2ZTEwNzQ0YzZiNGUxNTA2NmE0NzQwZWQxID0gTC5tYXJrZXIoCiAgICAgICAgICAgICAgICBbMzcuNzQ4OTA2MzA1MTgyOSwgLTEyMi40MjAzNTQ3ODA4NjA5OV0sCiAgICAgICAgICAgICAgICB7fQogICAgICAgICAgICApLmFkZFRvKG1hcmtlcl9jbHVzdGVyXzg4ZGI3MmRmZjEzZDQ2MWU4NmUyMWUzOWM5NDE2MjRjKTsKICAgICAgICAKICAgIAogICAgICAgIHZhciBwb3B1cF8zZjgwYWFmYjYyYWU0YzhlOGUxZjI3MjEyMDQzZjQ5OSA9IEwucG9wdXAoeyJtYXhXaWR0aCI6ICIxMDAlIn0pOwoKICAgICAgICAKICAgICAgICAgICAgdmFyIGh0bWxfZGZjMGQ0ZDM3YjJkNDgwNzkwMmNlMzc5NzRjMzA3NTEgPSAkKGA8ZGl2IGlkPSJodG1sX2RmYzBkNGQzN2IyZDQ4MDc5MDJjZTM3OTc0YzMwNzUxIiBzdHlsZT0id2lkdGg6IDEwMC4wJTsgaGVpZ2h0OiAxMDAuMCU7Ij5BU1NBVUxUPC9kaXY+YClbMF07CiAgICAgICAgICAgIHBvcHVwXzNmODBhYWZiNjJhZTRjOGU4ZTFmMjcyMTIwNDNmNDk5LnNldENvbnRlbnQoaHRtbF9kZmMwZDRkMzdiMmQ0ODA3OTAyY2UzNzk3NGMzMDc1MSk7CiAgICAgICAgCgogICAgICAgIG1hcmtlcl9lOTE4ZjFkNmUxMDc0NGM2YjRlMTUwNjZhNDc0MGVkMS5iaW5kUG9wdXAocG9wdXBfM2Y4MGFhZmI2MmFlNGM4ZThlMWYyNzIxMjA0M2Y0OTkpCiAgICAgICAgOwoKICAgICAgICAKICAgIAogICAgCiAgICAgICAgICAgIHZhciBtYXJrZXJfMjVmZmZiNzM0ODBlNDMxMjlhM2ZlYmJjNzZhNTViMTYgPSBMLm1hcmtlcigKICAgICAgICAgICAgICAgIFszNy43MTU3NjU0MjY5OTUsIC0xMjIuNDM5OTA5NzY2NzcyXSwKICAgICAgICAgICAgICAgIHt9CiAgICAgICAgICAgICkuYWRkVG8obWFya2VyX2NsdXN0ZXJfODhkYjcyZGZmMTNkNDYxZTg2ZTIxZTM5Yzk0MTYyNGMpOwogICAgICAgIAogICAgCiAgICAgICAgdmFyIHBvcHVwXzJlZGZmNzljMjFjYzQwOWNhNmVjNmE3ZmQ4NDM4ZjA3ID0gTC5wb3B1cCh7Im1heFdpZHRoIjogIjEwMCUifSk7CgogICAgICAgIAogICAgICAgICAgICB2YXIgaHRtbF9jNTE4OGY0YzU0YTQ0ODQ1YWM3OTVkNTZiNTQ4YWZhYSA9ICQoYDxkaXYgaWQ9Imh0bWxfYzUxODhmNGM1NGE0NDg0NWFjNzk1ZDU2YjU0OGFmYWEiIHN0eWxlPSJ3aWR0aDogMTAwLjAlOyBoZWlnaHQ6IDEwMC4wJTsiPkFTU0FVTFQ8L2Rpdj5gKVswXTsKICAgICAgICAgICAgcG9wdXBfMmVkZmY3OWMyMWNjNDA5Y2E2ZWM2YTdmZDg0MzhmMDcuc2V0Q29udGVudChodG1sX2M1MTg4ZjRjNTRhNDQ4NDVhYzc5NWQ1NmI1NDhhZmFhKTsKICAgICAgICAKCiAgICAgICAgbWFya2VyXzI1ZmZmYjczNDgwZTQzMTI5YTNmZWJiYzc2YTU1YjE2LmJpbmRQb3B1cChwb3B1cF8yZWRmZjc5YzIxY2M0MDljYTZlYzZhN2ZkODQzOGYwNykKICAgICAgICA7CgogICAgICAgIAogICAgCiAgICAKICAgICAgICAgICAgdmFyIG1hcmtlcl9lZmE5ZjJmNWJmZDY0MmJiOGY0ZjUzZmUyMzcyYzVlMCA9IEwubWFya2VyKAogICAgICAgICAgICAgICAgWzM3Ljc4MzU2OTkzODY5MTgsIC0xMjIuNDA4NDIxMTE2OTIyXSwKICAgICAgICAgICAgICAgIHt9CiAgICAgICAgICAgICkuYWRkVG8obWFya2VyX2NsdXN0ZXJfODhkYjcyZGZmMTNkNDYxZTg2ZTIxZTM5Yzk0MTYyNGMpOwogICAgICAgIAogICAgCiAgICAgICAgdmFyIHBvcHVwXzM3YWVhMzQ3OGIxZDQ4M2RhZDdjZTcxMDc0NWQxMWVhID0gTC5wb3B1cCh7Im1heFdpZHRoIjogIjEwMCUifSk7CgogICAgICAgIAogICAgICAgICAgICB2YXIgaHRtbF9kOTNlN2VmZDFkNWE0N2RlYmZkYTdiZGZlMzRiNjlmNSA9ICQoYDxkaXYgaWQ9Imh0bWxfZDkzZTdlZmQxZDVhNDdkZWJmZGE3YmRmZTM0YjY5ZjUiIHN0eWxlPSJ3aWR0aDogMTAwLjAlOyBoZWlnaHQ6IDEwMC4wJTsiPkxBUkNFTlkvVEhFRlQ8L2Rpdj5gKVswXTsKICAgICAgICAgICAgcG9wdXBfMzdhZWEzNDc4YjFkNDgzZGFkN2NlNzEwNzQ1ZDExZWEuc2V0Q29udGVudChodG1sX2Q5M2U3ZWZkMWQ1YTQ3ZGViZmRhN2JkZmUzNGI2OWY1KTsKICAgICAgICAKCiAgICAgICAgbWFya2VyX2VmYTlmMmY1YmZkNjQyYmI4ZjRmNTNmZTIzNzJjNWUwLmJpbmRQb3B1cChwb3B1cF8zN2FlYTM0NzhiMWQ0ODNkYWQ3Y2U3MTA3NDVkMTFlYSkKICAgICAgICA7CgogICAgICAgIAogICAgCiAgICAKICAgICAgICAgICAgdmFyIG1hcmtlcl8wNmU4ZjZhMjYxMzk0MjkyYjUwNjE0YTZiZmI4ODE1NCA9IEwubWFya2VyKAogICAgICAgICAgICAgICAgWzM3Ljc3MzYxODYyNzY0NTYwNCwgLTEyMi40MjIzMTU2NzA3NDldLAogICAgICAgICAgICAgICAge30KICAgICAgICAgICAgKS5hZGRUbyhtYXJrZXJfY2x1c3Rlcl84OGRiNzJkZmYxM2Q0NjFlODZlMjFlMzljOTQxNjI0Yyk7CiAgICAgICAgCiAgICAKICAgICAgICB2YXIgcG9wdXBfOGQ3MGUyZDQzOWY4NGU2Mjk0ZTI0YjIwZjBhMmVmYmIgPSBMLnBvcHVwKHsibWF4V2lkdGgiOiAiMTAwJSJ9KTsKCiAgICAgICAgCiAgICAgICAgICAgIHZhciBodG1sX2ZiMDExM2QzNThmNDQ1NzlhNjJiMTI0ZDU2YzIxZjAxID0gJChgPGRpdiBpZD0iaHRtbF9mYjAxMTNkMzU4ZjQ0NTc5YTYyYjEyNGQ1NmMyMWYwMSIgc3R5bGU9IndpZHRoOiAxMDAuMCU7IGhlaWdodDogMTAwLjAlOyI+RlJBVUQ8L2Rpdj5gKVswXTsKICAgICAgICAgICAgcG9wdXBfOGQ3MGUyZDQzOWY4NGU2Mjk0ZTI0YjIwZjBhMmVmYmIuc2V0Q29udGVudChodG1sX2ZiMDExM2QzNThmNDQ1NzlhNjJiMTI0ZDU2YzIxZjAxKTsKICAgICAgICAKCiAgICAgICAgbWFya2VyXzA2ZThmNmEyNjEzOTQyOTJiNTA2MTRhNmJmYjg4MTU0LmJpbmRQb3B1cChwb3B1cF84ZDcwZTJkNDM5Zjg0ZTYyOTRlMjRiMjBmMGEyZWZiYikKICAgICAgICA7CgogICAgICAgIAogICAgCiAgICAKICAgICAgICAgICAgdmFyIG1hcmtlcl8wZGQ3ODkxZWJiNDY0Yjk0OWJjYWUzOTZjMTc0Y2NkYiA9IEwubWFya2VyKAogICAgICAgICAgICAgICAgWzM3Ljc5Mjg0MTI4NDA0NDcwNSwgLTEyMi40MjQ1MTk4MzUwMDkwMV0sCiAgICAgICAgICAgICAgICB7fQogICAgICAgICAgICApLmFkZFRvKG1hcmtlcl9jbHVzdGVyXzg4ZGI3MmRmZjEzZDQ2MWU4NmUyMWUzOWM5NDE2MjRjKTsKICAgICAgICAKICAgIAogICAgICAgIHZhciBwb3B1cF84NDcyMTY3OTY0OGE0NmU4OTc5NTUwYzU0MjE0MDU5MCA9IEwucG9wdXAoeyJtYXhXaWR0aCI6ICIxMDAlIn0pOwoKICAgICAgICAKICAgICAgICAgICAgdmFyIGh0bWxfOWQzYjE5ODc0NGNmNDM5ZmE5NmI3MWUzZmQ2YTk0Y2MgPSAkKGA8ZGl2IGlkPSJodG1sXzlkM2IxOTg3NDRjZjQzOWZhOTZiNzFlM2ZkNmE5NGNjIiBzdHlsZT0id2lkdGg6IDEwMC4wJTsgaGVpZ2h0OiAxMDAuMCU7Ij5XQVJSQU5UUzwvZGl2PmApWzBdOwogICAgICAgICAgICBwb3B1cF84NDcyMTY3OTY0OGE0NmU4OTc5NTUwYzU0MjE0MDU5MC5zZXRDb250ZW50KGh0bWxfOWQzYjE5ODc0NGNmNDM5ZmE5NmI3MWUzZmQ2YTk0Y2MpOwogICAgICAgIAoKICAgICAgICBtYXJrZXJfMGRkNzg5MWViYjQ2NGI5NDliY2FlMzk2YzE3NGNjZGIuYmluZFBvcHVwKHBvcHVwXzg0NzIxNjc5NjQ4YTQ2ZTg5Nzk1NTBjNTQyMTQwNTkwKQogICAgICAgIDsKCiAgICAgICAgCiAgICAKICAgIAogICAgICAgICAgICB2YXIgbWFya2VyXzQ3ZjU5MGQyMjFjZjQ2NzBhZDI1MDJkYTc0ZmIzYzljID0gTC5tYXJrZXIoCiAgICAgICAgICAgICAgICBbMzcuNzU0MDk4Njg4MjA2Nzk1LCAtMTIyLjQxNDIzMzg0OTAzNzk4XSwKICAgICAgICAgICAgICAgIHt9CiAgICAgICAgICAgICkuYWRkVG8obWFya2VyX2NsdXN0ZXJfODhkYjcyZGZmMTNkNDYxZTg2ZTIxZTM5Yzk0MTYyNGMpOwogICAgICAgIAogICAgCiAgICAgICAgdmFyIHBvcHVwX2Y1MzE2NmVjZmFkMjRhMGI5NGMxMGNkZWM5NWQ0ODQ4ID0gTC5wb3B1cCh7Im1heFdpZHRoIjogIjEwMCUifSk7CgogICAgICAgIAogICAgICAgICAgICB2YXIgaHRtbF9mNjc2ZGI3MjhiYjM0ZmE2ODQxNGI1OGM4MzE4ZDVmZCA9ICQoYDxkaXYgaWQ9Imh0bWxfZjY3NmRiNzI4YmIzNGZhNjg0MTRiNThjODMxOGQ1ZmQiIHN0eWxlPSJ3aWR0aDogMTAwLjAlOyBoZWlnaHQ6IDEwMC4wJTsiPkRSVUcvTkFSQ09USUM8L2Rpdj5gKVswXTsKICAgICAgICAgICAgcG9wdXBfZjUzMTY2ZWNmYWQyNGEwYjk0YzEwY2RlYzk1ZDQ4NDguc2V0Q29udGVudChodG1sX2Y2NzZkYjcyOGJiMzRmYTY4NDE0YjU4YzgzMThkNWZkKTsKICAgICAgICAKCiAgICAgICAgbWFya2VyXzQ3ZjU5MGQyMjFjZjQ2NzBhZDI1MDJkYTc0ZmIzYzljLmJpbmRQb3B1cChwb3B1cF9mNTMxNjZlY2ZhZDI0YTBiOTRjMTBjZGVjOTVkNDg0OCkKICAgICAgICA7CgogICAgICAgIAogICAgCiAgICAKICAgICAgICAgICAgdmFyIG1hcmtlcl81M2VmNjM0OWQyMmM0OTI5YTcxMTM1OWUyNzdjNDIwOSA9IEwubWFya2VyKAogICAgICAgICAgICAgICAgWzM3Ljc1NDA5ODY4ODIwNjc5NSwgLTEyMi40MTQyMzM4NDkwMzc5OF0sCiAgICAgICAgICAgICAgICB7fQogICAgICAgICAgICApLmFkZFRvKG1hcmtlcl9jbHVzdGVyXzg4ZGI3MmRmZjEzZDQ2MWU4NmUyMWUzOWM5NDE2MjRjKTsKICAgICAgICAKICAgIAogICAgICAgIHZhciBwb3B1cF8xZWFiOWIzMDc0OTg0YzgwODFhMmI1MjA3MmRjNGVjZSA9IEwucG9wdXAoeyJtYXhXaWR0aCI6ICIxMDAlIn0pOwoKICAgICAgICAKICAgICAgICAgICAgdmFyIGh0bWxfZTlkOWVkZjEwNDEwNGFkMWJiMzJiYjAxYjBkM2RiODQgPSAkKGA8ZGl2IGlkPSJodG1sX2U5ZDllZGYxMDQxMDRhZDFiYjMyYmIwMWIwZDNkYjg0IiBzdHlsZT0id2lkdGg6IDEwMC4wJTsgaGVpZ2h0OiAxMDAuMCU7Ij5PVEhFUiBPRkZFTlNFUzwvZGl2PmApWzBdOwogICAgICAgICAgICBwb3B1cF8xZWFiOWIzMDc0OTg0YzgwODFhMmI1MjA3MmRjNGVjZS5zZXRDb250ZW50KGh0bWxfZTlkOWVkZjEwNDEwNGFkMWJiMzJiYjAxYjBkM2RiODQpOwogICAgICAgIAoKICAgICAgICBtYXJrZXJfNTNlZjYzNDlkMjJjNDkyOWE3MTEzNTllMjc3YzQyMDkuYmluZFBvcHVwKHBvcHVwXzFlYWI5YjMwNzQ5ODRjODA4MWEyYjUyMDcyZGM0ZWNlKQogICAgICAgIDsKCiAgICAgICAgCiAgICAKICAgIAogICAgICAgICAgICB2YXIgbWFya2VyXzBmNjk3NDk1MmU0ZjQ0ZGZhN2Y1NGM1MDEzOGRkYzMzID0gTC5tYXJrZXIoCiAgICAgICAgICAgICAgICBbMzcuNzcxNDkzOTk2OTQxNiwgLTEyMi41MDc3NTAxMzEwMDQwMl0sCiAgICAgICAgICAgICAgICB7fQogICAgICAgICAgICApLmFkZFRvKG1hcmtlcl9jbHVzdGVyXzg4ZGI3MmRmZjEzZDQ2MWU4NmUyMWUzOWM5NDE2MjRjKTsKICAgICAgICAKICAgIAogICAgICAgIHZhciBwb3B1cF9iNWIxYmI5ZDM0MWE0ZGI3ODFiY2Y0ODUzZjc1YTVjOSA9IEwucG9wdXAoeyJtYXhXaWR0aCI6ICIxMDAlIn0pOwoKICAgICAgICAKICAgICAgICAgICAgdmFyIGh0bWxfZmRjM2QwNWFkZWY2NGE2OTgyY2ZjNDlkMWVjNjU0ZjAgPSAkKGA8ZGl2IGlkPSJodG1sX2ZkYzNkMDVhZGVmNjRhNjk4MmNmYzQ5ZDFlYzY1NGYwIiBzdHlsZT0id2lkdGg6IDEwMC4wJTsgaGVpZ2h0OiAxMDAuMCU7Ij5BU1NBVUxUPC9kaXY+YClbMF07CiAgICAgICAgICAgIHBvcHVwX2I1YjFiYjlkMzQxYTRkYjc4MWJjZjQ4NTNmNzVhNWM5LnNldENvbnRlbnQoaHRtbF9mZGMzZDA1YWRlZjY0YTY5ODJjZmM0OWQxZWM2NTRmMCk7CiAgICAgICAgCgogICAgICAgIG1hcmtlcl8wZjY5NzQ5NTJlNGY0NGRmYTdmNTRjNTAxMzhkZGMzMy5iaW5kUG9wdXAocG9wdXBfYjViMWJiOWQzNDFhNGRiNzgxYmNmNDg1M2Y3NWE1YzkpCiAgICAgICAgOwoKICAgICAgICAKICAgIAogICAgCiAgICAgICAgICAgIHZhciBtYXJrZXJfZmQzNjY0ZTBjMWJhNDQ2MGE5OTdmNTFhYzFmNTVhNjEgPSBMLm1hcmtlcigKICAgICAgICAgICAgICAgIFszNy43MTgzMDIyMDQ3NjYwMDUsIC0xMjIuNDc0NDQ0NjM5NTk0OTldLAogICAgICAgICAgICAgICAge30KICAgICAgICAgICAgKS5hZGRUbyhtYXJrZXJfY2x1c3Rlcl84OGRiNzJkZmYxM2Q0NjFlODZlMjFlMzljOTQxNjI0Yyk7CiAgICAgICAgCiAgICAKICAgICAgICB2YXIgcG9wdXBfN2I5NTkzNmY4YjY3NDJjOGJmYzEzMzQyNzZhNmEzYWEgPSBMLnBvcHVwKHsibWF4V2lkdGgiOiAiMTAwJSJ9KTsKCiAgICAgICAgCiAgICAgICAgICAgIHZhciBodG1sX2E4MWYzNzQ4N2ZjMjQ0NTNiMThhMjViMTA2ZWY3MDg1ID0gJChgPGRpdiBpZD0iaHRtbF9hODFmMzc0ODdmYzI0NDUzYjE4YTI1YjEwNmVmNzA4NSIgc3R5bGU9IndpZHRoOiAxMDAuMCU7IGhlaWdodDogMTAwLjAlOyI+T1RIRVIgT0ZGRU5TRVM8L2Rpdj5gKVswXTsKICAgICAgICAgICAgcG9wdXBfN2I5NTkzNmY4YjY3NDJjOGJmYzEzMzQyNzZhNmEzYWEuc2V0Q29udGVudChodG1sX2E4MWYzNzQ4N2ZjMjQ0NTNiMThhMjViMTA2ZWY3MDg1KTsKICAgICAgICAKCiAgICAgICAgbWFya2VyX2ZkMzY2NGUwYzFiYTQ0NjBhOTk3ZjUxYWMxZjU1YTYxLmJpbmRQb3B1cChwb3B1cF83Yjk1OTM2ZjhiNjc0MmM4YmZjMTMzNDI3NmE2YTNhYSkKICAgICAgICA7CgogICAgICAgIAogICAgCiAgICAKICAgICAgICAgICAgdmFyIG1hcmtlcl8xOWMyZThlOThkM2E0MTAzODM5NzQ5ZTNmODVkMzBlOCA9IEwubWFya2VyKAogICAgICAgICAgICAgICAgWzM3Ljc2NDU3NTIzMTc2MTUsIC0xMjIuNDI3NTYyNTk2OTg1XSwKICAgICAgICAgICAgICAgIHt9CiAgICAgICAgICAgICkuYWRkVG8obWFya2VyX2NsdXN0ZXJfODhkYjcyZGZmMTNkNDYxZTg2ZTIxZTM5Yzk0MTYyNGMpOwogICAgICAgIAogICAgCiAgICAgICAgdmFyIHBvcHVwXzMwYTNkMDVkZGU2YTQzYTc5NTM3YmU2ZjA3ZWQyOGQ1ID0gTC5wb3B1cCh7Im1heFdpZHRoIjogIjEwMCUifSk7CgogICAgICAgIAogICAgICAgICAgICB2YXIgaHRtbF83NTYyMWVmZTk1MzM0YjQ5OGRhYjBkYTRiOGQyZWUyYiA9ICQoYDxkaXYgaWQ9Imh0bWxfNzU2MjFlZmU5NTMzNGI0OThkYWIwZGE0YjhkMmVlMmIiIHN0eWxlPSJ3aWR0aDogMTAwLjAlOyBoZWlnaHQ6IDEwMC4wJTsiPk9USEVSIE9GRkVOU0VTPC9kaXY+YClbMF07CiAgICAgICAgICAgIHBvcHVwXzMwYTNkMDVkZGU2YTQzYTc5NTM3YmU2ZjA3ZWQyOGQ1LnNldENvbnRlbnQoaHRtbF83NTYyMWVmZTk1MzM0YjQ5OGRhYjBkYTRiOGQyZWUyYik7CiAgICAgICAgCgogICAgICAgIG1hcmtlcl8xOWMyZThlOThkM2E0MTAzODM5NzQ5ZTNmODVkMzBlOC5iaW5kUG9wdXAocG9wdXBfMzBhM2QwNWRkZTZhNDNhNzk1MzdiZTZmMDdlZDI4ZDUpCiAgICAgICAgOwoKICAgICAgICAKICAgIAogICAgCiAgICAgICAgICAgIHZhciBtYXJrZXJfZjg1MTMxMDg1ZDQ4NDUxMmI2MjFiY2U0MWYwMDA4NmMgPSBMLm1hcmtlcigKICAgICAgICAgICAgICAgIFszNy43ODc0Mzc4MzA5MTEyLCAtMTIyLjQxOTIwMzAwNDI2OF0sCiAgICAgICAgICAgICAgICB7fQogICAgICAgICAgICApLmFkZFRvKG1hcmtlcl9jbHVzdGVyXzg4ZGI3MmRmZjEzZDQ2MWU4NmUyMWUzOWM5NDE2MjRjKTsKICAgICAgICAKICAgIAogICAgICAgIHZhciBwb3B1cF83ZjIxZTA2OTgxNTg0ODc2OWQ0YjNmMjQwZGY1YjQ1MCA9IEwucG9wdXAoeyJtYXhXaWR0aCI6ICIxMDAlIn0pOwoKICAgICAgICAKICAgICAgICAgICAgdmFyIGh0bWxfODdhODE1YThjYWZiNGU1OGJmYmU0MmFlNzE2ZmExYWUgPSAkKGA8ZGl2IGlkPSJodG1sXzg3YTgxNWE4Y2FmYjRlNThiZmJlNDJhZTcxNmZhMWFlIiBzdHlsZT0id2lkdGg6IDEwMC4wJTsgaGVpZ2h0OiAxMDAuMCU7Ij5CVVJHTEFSWTwvZGl2PmApWzBdOwogICAgICAgICAgICBwb3B1cF83ZjIxZTA2OTgxNTg0ODc2OWQ0YjNmMjQwZGY1YjQ1MC5zZXRDb250ZW50KGh0bWxfODdhODE1YThjYWZiNGU1OGJmYmU0MmFlNzE2ZmExYWUpOwogICAgICAgIAoKICAgICAgICBtYXJrZXJfZjg1MTMxMDg1ZDQ4NDUxMmI2MjFiY2U0MWYwMDA4NmMuYmluZFBvcHVwKHBvcHVwXzdmMjFlMDY5ODE1ODQ4NzY5ZDRiM2YyNDBkZjViNDUwKQogICAgICAgIDsKCiAgICAgICAgCiAgICAKICAgIAogICAgICAgICAgICB2YXIgbWFya2VyXzQ2NzM5MjQ0ZDQ5NzQxZGQ4ZDU2ODFiNmY0OTQyODAxID0gTC5tYXJrZXIoCiAgICAgICAgICAgICAgICBbMzcuNzQ5MzY4ODI4NDUzMiwgLTEyMi40MTI2OTAxNDIzMDgwMV0sCiAgICAgICAgICAgICAgICB7fQogICAgICAgICAgICApLmFkZFRvKG1hcmtlcl9jbHVzdGVyXzg4ZGI3MmRmZjEzZDQ2MWU4NmUyMWUzOWM5NDE2MjRjKTsKICAgICAgICAKICAgIAogICAgICAgIHZhciBwb3B1cF83MDMyZTQ1ODhiZTM0MzkzOTA4YzZiMTU4OWI1N2EzZCA9IEwucG9wdXAoeyJtYXhXaWR0aCI6ICIxMDAlIn0pOwoKICAgICAgICAKICAgICAgICAgICAgdmFyIGh0bWxfZTExZjM5OWVlMTBlNGNiYjlhNGM4MzFlYTZmYWMxMTYgPSAkKGA8ZGl2IGlkPSJodG1sX2UxMWYzOTllZTEwZTRjYmI5YTRjODMxZWE2ZmFjMTE2IiBzdHlsZT0id2lkdGg6IDEwMC4wJTsgaGVpZ2h0OiAxMDAuMCU7Ij5PVEhFUiBPRkZFTlNFUzwvZGl2PmApWzBdOwogICAgICAgICAgICBwb3B1cF83MDMyZTQ1ODhiZTM0MzkzOTA4YzZiMTU4OWI1N2EzZC5zZXRDb250ZW50KGh0bWxfZTExZjM5OWVlMTBlNGNiYjlhNGM4MzFlYTZmYWMxMTYpOwogICAgICAgIAoKICAgICAgICBtYXJrZXJfNDY3MzkyNDRkNDk3NDFkZDhkNTY4MWI2ZjQ5NDI4MDEuYmluZFBvcHVwKHBvcHVwXzcwMzJlNDU4OGJlMzQzOTM5MDhjNmIxNTg5YjU3YTNkKQogICAgICAgIDsKCiAgICAgICAgCiAgICAKICAgIAogICAgICAgICAgICB2YXIgbWFya2VyXzk0MjY5YjMzZTMwNTQyNDNhMDFkNDk2ODJiNzFjODZlID0gTC5tYXJrZXIoCiAgICAgICAgICAgICAgICBbMzcuNzA5MjAxMDQ2MjM3OSwgLTEyMi40MzQ2MDkyODAzNTJdLAogICAgICAgICAgICAgICAge30KICAgICAgICAgICAgKS5hZGRUbyhtYXJrZXJfY2x1c3Rlcl84OGRiNzJkZmYxM2Q0NjFlODZlMjFlMzljOTQxNjI0Yyk7CiAgICAgICAgCiAgICAKICAgICAgICB2YXIgcG9wdXBfMGQyMDFlZTg5YTBiNDI2ZThjYzIyODgwZDYyNjg5YTEgPSBMLnBvcHVwKHsibWF4V2lkdGgiOiAiMTAwJSJ9KTsKCiAgICAgICAgCiAgICAgICAgICAgIHZhciBodG1sX2EwMmM2ODM1OWFhMzQyZGY4NGNlN2U1NTg0ZTg3ZTE3ID0gJChgPGRpdiBpZD0iaHRtbF9hMDJjNjgzNTlhYTM0MmRmODRjZTdlNTU4NGU4N2UxNyIgc3R5bGU9IndpZHRoOiAxMDAuMCU7IGhlaWdodDogMTAwLjAlOyI+Tk9OLUNSSU1JTkFMPC9kaXY+YClbMF07CiAgICAgICAgICAgIHBvcHVwXzBkMjAxZWU4OWEwYjQyNmU4Y2MyMjg4MGQ2MjY4OWExLnNldENvbnRlbnQoaHRtbF9hMDJjNjgzNTlhYTM0MmRmODRjZTdlNTU4NGU4N2UxNyk7CiAgICAgICAgCgogICAgICAgIG1hcmtlcl85NDI2OWIzM2UzMDU0MjQzYTAxZDQ5NjgyYjcxYzg2ZS5iaW5kUG9wdXAocG9wdXBfMGQyMDFlZTg5YTBiNDI2ZThjYzIyODgwZDYyNjg5YTEpCiAgICAgICAgOwoKICAgICAgICAKICAgIAogICAgCiAgICAgICAgICAgIHZhciBtYXJrZXJfZWM0ZTFhZjg3NWRkNDZkNDllM2QwMDFlZjBmZDA0N2UgPSBMLm1hcmtlcigKICAgICAgICAgICAgICAgIFszNy43ODc5MjA5Mzc1NTMyOTUsIC0xMjIuNDEwODgyODI1NTUxXSwKICAgICAgICAgICAgICAgIHt9CiAgICAgICAgICAgICkuYWRkVG8obWFya2VyX2NsdXN0ZXJfODhkYjcyZGZmMTNkNDYxZTg2ZTIxZTM5Yzk0MTYyNGMpOwogICAgICAgIAogICAgCiAgICAgICAgdmFyIHBvcHVwXzI0ZDRiMDU3ZDNlNDRlZWFiOTk2Y2U0M2E0OWNkNDQ1ID0gTC5wb3B1cCh7Im1heFdpZHRoIjogIjEwMCUifSk7CgogICAgICAgIAogICAgICAgICAgICB2YXIgaHRtbF9lYmM3NDIyZTBjNjY0MTZkYjgzZWUwNDFhZDY5NTk3ZCA9ICQoYDxkaXYgaWQ9Imh0bWxfZWJjNzQyMmUwYzY2NDE2ZGI4M2VlMDQxYWQ2OTU5N2QiIHN0eWxlPSJ3aWR0aDogMTAwLjAlOyBoZWlnaHQ6IDEwMC4wJTsiPlZFSElDTEUgVEhFRlQ8L2Rpdj5gKVswXTsKICAgICAgICAgICAgcG9wdXBfMjRkNGIwNTdkM2U0NGVlYWI5OTZjZTQzYTQ5Y2Q0NDUuc2V0Q29udGVudChodG1sX2ViYzc0MjJlMGM2NjQxNmRiODNlZTA0MWFkNjk1OTdkKTsKICAgICAgICAKCiAgICAgICAgbWFya2VyX2VjNGUxYWY4NzVkZDQ2ZDQ5ZTNkMDAxZWYwZmQwNDdlLmJpbmRQb3B1cChwb3B1cF8yNGQ0YjA1N2QzZTQ0ZWVhYjk5NmNlNDNhNDljZDQ0NSkKICAgICAgICA7CgogICAgICAgIAogICAgCiAgICAKICAgICAgICAgICAgdmFyIG1hcmtlcl82OTBjZGRiYjdiN2Y0YTE1OTE5NGExNmZlNjFkYjdhOCA9IEwubWFya2VyKAogICAgICAgICAgICAgICAgWzM3LjgwMDQ1NjY0NzEwMzg5LCAtMTIyLjQwMTQzMjc1NDcyMjAxXSwKICAgICAgICAgICAgICAgIHt9CiAgICAgICAgICAgICkuYWRkVG8obWFya2VyX2NsdXN0ZXJfODhkYjcyZGZmMTNkNDYxZTg2ZTIxZTM5Yzk0MTYyNGMpOwogICAgICAgIAogICAgCiAgICAgICAgdmFyIHBvcHVwXzIwOTNkOTk0OGU0YTQ2MmE4ZmE0NGZjMDRmZmQ4ZmM2ID0gTC5wb3B1cCh7Im1heFdpZHRoIjogIjEwMCUifSk7CgogICAgICAgIAogICAgICAgICAgICB2YXIgaHRtbF84OGM1OGFiMTEyYTA0YTEzYWQ1YTVkY2FkODhkMGZhMyA9ICQoYDxkaXYgaWQ9Imh0bWxfODhjNThhYjExMmEwNGExM2FkNWE1ZGNhZDg4ZDBmYTMiIHN0eWxlPSJ3aWR0aDogMTAwLjAlOyBoZWlnaHQ6IDEwMC4wJTsiPlZFSElDTEUgVEhFRlQ8L2Rpdj5gKVswXTsKICAgICAgICAgICAgcG9wdXBfMjA5M2Q5OTQ4ZTRhNDYyYThmYTQ0ZmMwNGZmZDhmYzYuc2V0Q29udGVudChodG1sXzg4YzU4YWIxMTJhMDRhMTNhZDVhNWRjYWQ4OGQwZmEzKTsKICAgICAgICAKCiAgICAgICAgbWFya2VyXzY5MGNkZGJiN2I3ZjRhMTU5MTk0YTE2ZmU2MWRiN2E4LmJpbmRQb3B1cChwb3B1cF8yMDkzZDk5NDhlNGE0NjJhOGZhNDRmYzA0ZmZkOGZjNikKICAgICAgICA7CgogICAgICAgIAogICAgCiAgICAKICAgICAgICAgICAgdmFyIG1hcmtlcl82NDBmMDIwODA2MWE0NTc1YjYyMjhiMzcyNmNmZTk4YiA9IEwubWFya2VyKAogICAgICAgICAgICAgICAgWzM3Ljc0MzU1NTA1NDIyNjUsIC0xMjIuNDIxMTI4MDI5NTA1XSwKICAgICAgICAgICAgICAgIHt9CiAgICAgICAgICAgICkuYWRkVG8obWFya2VyX2NsdXN0ZXJfODhkYjcyZGZmMTNkNDYxZTg2ZTIxZTM5Yzk0MTYyNGMpOwogICAgICAgIAogICAgCiAgICAgICAgdmFyIHBvcHVwXzJhNGYwMTU2Yzk2MjQyNGVhODk2ZmViNzliMTJkOTVlID0gTC5wb3B1cCh7Im1heFdpZHRoIjogIjEwMCUifSk7CgogICAgICAgIAogICAgICAgICAgICB2YXIgaHRtbF82YmQ4YjBmOGQ4OTY0MGNjODg5MTFlZWY2NTc1NGQwYiA9ICQoYDxkaXYgaWQ9Imh0bWxfNmJkOGIwZjhkODk2NDBjYzg4OTExZWVmNjU3NTRkMGIiIHN0eWxlPSJ3aWR0aDogMTAwLjAlOyBoZWlnaHQ6IDEwMC4wJTsiPkxBUkNFTlkvVEhFRlQ8L2Rpdj5gKVswXTsKICAgICAgICAgICAgcG9wdXBfMmE0ZjAxNTZjOTYyNDI0ZWE4OTZmZWI3OWIxMmQ5NWUuc2V0Q29udGVudChodG1sXzZiZDhiMGY4ZDg5NjQwY2M4ODkxMWVlZjY1NzU0ZDBiKTsKICAgICAgICAKCiAgICAgICAgbWFya2VyXzY0MGYwMjA4MDYxYTQ1NzViNjIyOGIzNzI2Y2ZlOThiLmJpbmRQb3B1cChwb3B1cF8yYTRmMDE1NmM5NjI0MjRlYTg5NmZlYjc5YjEyZDk1ZSkKICAgICAgICA7CgogICAgICAgIAogICAgCiAgICAKICAgICAgICAgICAgdmFyIG1hcmtlcl85MjVhNzFiYTIxMzY0NjA0OWYzMzhkNmViNTdhNGYwYyA9IEwubWFya2VyKAogICAgICAgICAgICAgICAgWzM3Ljc4NjU2NDc2MDc2ODUsIC0xMjIuNDA3MjQ0MDg3MDMyXSwKICAgICAgICAgICAgICAgIHt9CiAgICAgICAgICAgICkuYWRkVG8obWFya2VyX2NsdXN0ZXJfODhkYjcyZGZmMTNkNDYxZTg2ZTIxZTM5Yzk0MTYyNGMpOwogICAgICAgIAogICAgCiAgICAgICAgdmFyIHBvcHVwX2FhNTVjNGIwMjQ5MjRhZjc5ZjNjZDBlMWM1MjMzNjNmID0gTC5wb3B1cCh7Im1heFdpZHRoIjogIjEwMCUifSk7CgogICAgICAgIAogICAgICAgICAgICB2YXIgaHRtbF84MDAzODg2YzkxZDE0OGI0YmZlMzAwZjg5YmUxZDJiYiA9ICQoYDxkaXYgaWQ9Imh0bWxfODAwMzg4NmM5MWQxNDhiNGJmZTMwMGY4OWJlMWQyYmIiIHN0eWxlPSJ3aWR0aDogMTAwLjAlOyBoZWlnaHQ6IDEwMC4wJTsiPkFTU0FVTFQ8L2Rpdj5gKVswXTsKICAgICAgICAgICAgcG9wdXBfYWE1NWM0YjAyNDkyNGFmNzlmM2NkMGUxYzUyMzM2M2Yuc2V0Q29udGVudChodG1sXzgwMDM4ODZjOTFkMTQ4YjRiZmUzMDBmODliZTFkMmJiKTsKICAgICAgICAKCiAgICAgICAgbWFya2VyXzkyNWE3MWJhMjEzNjQ2MDQ5ZjMzOGQ2ZWI1N2E0ZjBjLmJpbmRQb3B1cChwb3B1cF9hYTU1YzRiMDI0OTI0YWY3OWYzY2QwZTFjNTIzMzYzZikKICAgICAgICA7CgogICAgICAgIAogICAgCiAgICAKICAgICAgICAgICAgdmFyIG1hcmtlcl8wZTM5MmVhYWUxYmU0MGUwOTVhZmU2N2IzYmY5ZjhiYSA9IEwubWFya2VyKAogICAgICAgICAgICAgICAgWzM3Ljc2MTU2NTU5MjgwNDUsIC0xMjIuNDIzODAzMDAxOTAwOTldLAogICAgICAgICAgICAgICAge30KICAgICAgICAgICAgKS5hZGRUbyhtYXJrZXJfY2x1c3Rlcl84OGRiNzJkZmYxM2Q0NjFlODZlMjFlMzljOTQxNjI0Yyk7CiAgICAgICAgCiAgICAKICAgICAgICB2YXIgcG9wdXBfNGMwZjI4YmI0NDQwNDhhYThlOGViNzM1ODg2MTJhYTQgPSBMLnBvcHVwKHsibWF4V2lkdGgiOiAiMTAwJSJ9KTsKCiAgICAgICAgCiAgICAgICAgICAgIHZhciBodG1sXzc1NDUzODJhMjVjYTQ2ZGVhMGVmZDJlNzZjYTI0ZWY0ID0gJChgPGRpdiBpZD0iaHRtbF83NTQ1MzgyYTI1Y2E0NmRlYTBlZmQyZTc2Y2EyNGVmNCIgc3R5bGU9IndpZHRoOiAxMDAuMCU7IGhlaWdodDogMTAwLjAlOyI+UkVDT1ZFUkVEIFZFSElDTEU8L2Rpdj5gKVswXTsKICAgICAgICAgICAgcG9wdXBfNGMwZjI4YmI0NDQwNDhhYThlOGViNzM1ODg2MTJhYTQuc2V0Q29udGVudChodG1sXzc1NDUzODJhMjVjYTQ2ZGVhMGVmZDJlNzZjYTI0ZWY0KTsKICAgICAgICAKCiAgICAgICAgbWFya2VyXzBlMzkyZWFhZTFiZTQwZTA5NWFmZTY3YjNiZjlmOGJhLmJpbmRQb3B1cChwb3B1cF80YzBmMjhiYjQ0NDA0OGFhOGU4ZWI3MzU4ODYxMmFhNCkKICAgICAgICA7CgogICAgICAgIAogICAgCiAgICAKICAgICAgICAgICAgdmFyIG1hcmtlcl9hMmFiZjE3NmMwMjQ0YjFhODIwYmJjMjFjODYyNzkzMSA9IEwubWFya2VyKAogICAgICAgICAgICAgICAgWzM3Ljc2MTU2NTU5MjgwNDUsIC0xMjIuNDIzODAzMDAxOTAwOTldLAogICAgICAgICAgICAgICAge30KICAgICAgICAgICAgKS5hZGRUbyhtYXJrZXJfY2x1c3Rlcl84OGRiNzJkZmYxM2Q0NjFlODZlMjFlMzljOTQxNjI0Yyk7CiAgICAgICAgCiAgICAKICAgICAgICB2YXIgcG9wdXBfYTYzODJhMjFkZjQyNGZlOWIzYjUyNDU1NmJkNzA2NGQgPSBMLnBvcHVwKHsibWF4V2lkdGgiOiAiMTAwJSJ9KTsKCiAgICAgICAgCiAgICAgICAgICAgIHZhciBodG1sXzIxYTU4YzRiNDlmZTQ4ZTg4ZmQ2MGJlNTA0ZDM2YWZhID0gJChgPGRpdiBpZD0iaHRtbF8yMWE1OGM0YjQ5ZmU0OGU4OGZkNjBiZTUwNGQzNmFmYSIgc3R5bGU9IndpZHRoOiAxMDAuMCU7IGhlaWdodDogMTAwLjAlOyI+T1RIRVIgT0ZGRU5TRVM8L2Rpdj5gKVswXTsKICAgICAgICAgICAgcG9wdXBfYTYzODJhMjFkZjQyNGZlOWIzYjUyNDU1NmJkNzA2NGQuc2V0Q29udGVudChodG1sXzIxYTU4YzRiNDlmZTQ4ZTg4ZmQ2MGJlNTA0ZDM2YWZhKTsKICAgICAgICAKCiAgICAgICAgbWFya2VyX2EyYWJmMTc2YzAyNDRiMWE4MjBiYmMyMWM4NjI3OTMxLmJpbmRQb3B1cChwb3B1cF9hNjM4MmEyMWRmNDI0ZmU5YjNiNTI0NTU2YmQ3MDY0ZCkKICAgICAgICA7CgogICAgICAgIAogICAgCiAgICAKICAgICAgICAgICAgdmFyIG1hcmtlcl83OWNlN2NhZGJiZWU0ZmY1OGI0MGU3YmJiZDkwZDNlNyA9IEwubWFya2VyKAogICAgICAgICAgICAgICAgWzM3Ljc0NDE5Mjc1MDg5MzIwNSwgLTEyMi40NDQ2ODU0ODIyNzNdLAogICAgICAgICAgICAgICAge30KICAgICAgICAgICAgKS5hZGRUbyhtYXJrZXJfY2x1c3Rlcl84OGRiNzJkZmYxM2Q0NjFlODZlMjFlMzljOTQxNjI0Yyk7CiAgICAgICAgCiAgICAKICAgICAgICB2YXIgcG9wdXBfYjcyNGE2YzNlYTZlNDc5Njk2NDE2ZmYxZjYyM2FmZDMgPSBMLnBvcHVwKHsibWF4V2lkdGgiOiAiMTAwJSJ9KTsKCiAgICAgICAgCiAgICAgICAgICAgIHZhciBodG1sXzcyMmFkYzEyNDc4NDQ3YzE5Zjk1YmFlMDcxYTQ5OTA3ID0gJChgPGRpdiBpZD0iaHRtbF83MjJhZGMxMjQ3ODQ0N2MxOWY5NWJhZTA3MWE0OTkwNyIgc3R5bGU9IndpZHRoOiAxMDAuMCU7IGhlaWdodDogMTAwLjAlOyI+Tk9OLUNSSU1JTkFMPC9kaXY+YClbMF07CiAgICAgICAgICAgIHBvcHVwX2I3MjRhNmMzZWE2ZTQ3OTY5NjQxNmZmMWY2MjNhZmQzLnNldENvbnRlbnQoaHRtbF83MjJhZGMxMjQ3ODQ0N2MxOWY5NWJhZTA3MWE0OTkwNyk7CiAgICAgICAgCgogICAgICAgIG1hcmtlcl83OWNlN2NhZGJiZWU0ZmY1OGI0MGU3YmJiZDkwZDNlNy5iaW5kUG9wdXAocG9wdXBfYjcyNGE2YzNlYTZlNDc5Njk2NDE2ZmYxZjYyM2FmZDMpCiAgICAgICAgOwoKICAgICAgICAKICAgIAogICAgCiAgICAgICAgICAgIHZhciBtYXJrZXJfZjU0YjIzN2VmNDdkNGFhYjgyMTUzODIyNjcxOTEzYmQgPSBMLm1hcmtlcigKICAgICAgICAgICAgICAgIFszNy43NzU0NjkyODIwMDQxLCAtMTIyLjQxNTc1NzAzOTE5Nl0sCiAgICAgICAgICAgICAgICB7fQogICAgICAgICAgICApLmFkZFRvKG1hcmtlcl9jbHVzdGVyXzg4ZGI3MmRmZjEzZDQ2MWU4NmUyMWUzOWM5NDE2MjRjKTsKICAgICAgICAKICAgIAogICAgICAgIHZhciBwb3B1cF9kYzk5NzQ2YmRkOWI0MTFhYTgzOWY4ZTUyMmIwZGIzNiA9IEwucG9wdXAoeyJtYXhXaWR0aCI6ICIxMDAlIn0pOwoKICAgICAgICAKICAgICAgICAgICAgdmFyIGh0bWxfNGFhOWJhYzZiYmNkNDViOWJkNWRmMzA0MGE5OWRhZGMgPSAkKGA8ZGl2IGlkPSJodG1sXzRhYTliYWM2YmJjZDQ1YjliZDVkZjMwNDBhOTlkYWRjIiBzdHlsZT0id2lkdGg6IDEwMC4wJTsgaGVpZ2h0OiAxMDAuMCU7Ij5OT04tQ1JJTUlOQUw8L2Rpdj5gKVswXTsKICAgICAgICAgICAgcG9wdXBfZGM5OTc0NmJkZDliNDExYWE4MzlmOGU1MjJiMGRiMzYuc2V0Q29udGVudChodG1sXzRhYTliYWM2YmJjZDQ1YjliZDVkZjMwNDBhOTlkYWRjKTsKICAgICAgICAKCiAgICAgICAgbWFya2VyX2Y1NGIyMzdlZjQ3ZDRhYWI4MjE1MzgyMjY3MTkxM2JkLmJpbmRQb3B1cChwb3B1cF9kYzk5NzQ2YmRkOWI0MTFhYTgzOWY4ZTUyMmIwZGIzNikKICAgICAgICA7CgogICAgICAgIAogICAgCiAgICAKICAgICAgICAgICAgdmFyIG1hcmtlcl9jM2FhZTI0MmUwYmU0NjEyOGJlYjliMjkzYmE0YzkyZCA9IEwubWFya2VyKAogICAgICAgICAgICAgICAgWzM3LjcyODUyODA2Mjc0NjUsIC0xMjIuNDc1NjQ3NDYwNzg1OTldLAogICAgICAgICAgICAgICAge30KICAgICAgICAgICAgKS5hZGRUbyhtYXJrZXJfY2x1c3Rlcl84OGRiNzJkZmYxM2Q0NjFlODZlMjFlMzljOTQxNjI0Yyk7CiAgICAgICAgCiAgICAKICAgICAgICB2YXIgcG9wdXBfZjgyMmJmOTQxMjE5NDVlMjlhNmViNjcwMzE3M2FmNjQgPSBMLnBvcHVwKHsibWF4V2lkdGgiOiAiMTAwJSJ9KTsKCiAgICAgICAgCiAgICAgICAgICAgIHZhciBodG1sXzkxY2Y2YTlmMmVjODRkNzZhNzU1YTFiZTBjMDEzZTFkID0gJChgPGRpdiBpZD0iaHRtbF85MWNmNmE5ZjJlYzg0ZDc2YTc1NWExYmUwYzAxM2UxZCIgc3R5bGU9IndpZHRoOiAxMDAuMCU7IGhlaWdodDogMTAwLjAlOyI+Uk9CQkVSWTwvZGl2PmApWzBdOwogICAgICAgICAgICBwb3B1cF9mODIyYmY5NDEyMTk0NWUyOWE2ZWI2NzAzMTczYWY2NC5zZXRDb250ZW50KGh0bWxfOTFjZjZhOWYyZWM4NGQ3NmE3NTVhMWJlMGMwMTNlMWQpOwogICAgICAgIAoKICAgICAgICBtYXJrZXJfYzNhYWUyNDJlMGJlNDYxMjhiZWI5YjI5M2JhNGM5MmQuYmluZFBvcHVwKHBvcHVwX2Y4MjJiZjk0MTIxOTQ1ZTI5YTZlYjY3MDMxNzNhZjY0KQogICAgICAgIDsKCiAgICAgICAgCiAgICAKICAgIAogICAgICAgICAgICB2YXIgbWFya2VyX2E0MjQ1NWNkNzBkMTQ3YzVhMmFkOGMxYjdjZjUzMTRhID0gTC5tYXJrZXIoCiAgICAgICAgICAgICAgICBbMzcuNzQyODUxNzM3NDQ0ODk0LCAtMTIyLjQyMDk2NzQ0MDU2NF0sCiAgICAgICAgICAgICAgICB7fQogICAgICAgICAgICApLmFkZFRvKG1hcmtlcl9jbHVzdGVyXzg4ZGI3MmRmZjEzZDQ2MWU4NmUyMWUzOWM5NDE2MjRjKTsKICAgICAgICAKICAgIAogICAgICAgIHZhciBwb3B1cF8wMzk0NmM3MWQ2MzM0Nzc5OTEyZGFkNDg5ZDY3NjZlNiA9IEwucG9wdXAoeyJtYXhXaWR0aCI6ICIxMDAlIn0pOwoKICAgICAgICAKICAgICAgICAgICAgdmFyIGh0bWxfN2Y3YTMwZTUzNTM3NDYyMjg2OWI3NmZkMDNiNzY0NTMgPSAkKGA8ZGl2IGlkPSJodG1sXzdmN2EzMGU1MzUzNzQ2MjI4NjliNzZmZDAzYjc2NDUzIiBzdHlsZT0id2lkdGg6IDEwMC4wJTsgaGVpZ2h0OiAxMDAuMCU7Ij5PVEhFUiBPRkZFTlNFUzwvZGl2PmApWzBdOwogICAgICAgICAgICBwb3B1cF8wMzk0NmM3MWQ2MzM0Nzc5OTEyZGFkNDg5ZDY3NjZlNi5zZXRDb250ZW50KGh0bWxfN2Y3YTMwZTUzNTM3NDYyMjg2OWI3NmZkMDNiNzY0NTMpOwogICAgICAgIAoKICAgICAgICBtYXJrZXJfYTQyNDU1Y2Q3MGQxNDdjNWEyYWQ4YzFiN2NmNTMxNGEuYmluZFBvcHVwKHBvcHVwXzAzOTQ2YzcxZDYzMzQ3Nzk5MTJkYWQ0ODlkNjc2NmU2KQogICAgICAgIDsKCiAgICAgICAgCiAgICAKICAgIAogICAgICAgICAgICB2YXIgbWFya2VyXzRlM2NhOTkwMzY4YTQxYzBhNzY0MDRmYWVmMDJlZjY0ID0gTC5tYXJrZXIoCiAgICAgICAgICAgICAgICBbMzcuNzgyMTE5ODQ4ODkzMSwgLTEyMi40MTU2Njk2NjE0NDNdLAogICAgICAgICAgICAgICAge30KICAgICAgICAgICAgKS5hZGRUbyhtYXJrZXJfY2x1c3Rlcl84OGRiNzJkZmYxM2Q0NjFlODZlMjFlMzljOTQxNjI0Yyk7CiAgICAgICAgCiAgICAKICAgICAgICB2YXIgcG9wdXBfNjg5ZDkyOTY2NjBjNGRhMWI0MjE4MjdiZTQ4YjE0Y2IgPSBMLnBvcHVwKHsibWF4V2lkdGgiOiAiMTAwJSJ9KTsKCiAgICAgICAgCiAgICAgICAgICAgIHZhciBodG1sXzFmMjhhYTAwYjVlZDQxNDQ4ZmJlYjU2MzA5MzZiOWVhID0gJChgPGRpdiBpZD0iaHRtbF8xZjI4YWEwMGI1ZWQ0MTQ0OGZiZWI1NjMwOTM2YjllYSIgc3R5bGU9IndpZHRoOiAxMDAuMCU7IGhlaWdodDogMTAwLjAlOyI+VkFOREFMSVNNPC9kaXY+YClbMF07CiAgICAgICAgICAgIHBvcHVwXzY4OWQ5Mjk2NjYwYzRkYTFiNDIxODI3YmU0OGIxNGNiLnNldENvbnRlbnQoaHRtbF8xZjI4YWEwMGI1ZWQ0MTQ0OGZiZWI1NjMwOTM2YjllYSk7CiAgICAgICAgCgogICAgICAgIG1hcmtlcl80ZTNjYTk5MDM2OGE0MWMwYTc2NDA0ZmFlZjAyZWY2NC5iaW5kUG9wdXAocG9wdXBfNjg5ZDkyOTY2NjBjNGRhMWI0MjE4MjdiZTQ4YjE0Y2IpCiAgICAgICAgOwoKICAgICAgICAKICAgIAogICAgCiAgICAgICAgICAgIHZhciBtYXJrZXJfMmFjNTE5MGYyMDBhNGRlYmIxNDk1MTg2NWU1NTY3Y2MgPSBMLm1hcmtlcigKICAgICAgICAgICAgICAgIFszNy43NzkxNjc0MjE4OTYzLCAtMTIyLjQwNjM0NjQyNTYzMl0sCiAgICAgICAgICAgICAgICB7fQogICAgICAgICAgICApLmFkZFRvKG1hcmtlcl9jbHVzdGVyXzg4ZGI3MmRmZjEzZDQ2MWU4NmUyMWUzOWM5NDE2MjRjKTsKICAgICAgICAKICAgIAogICAgICAgIHZhciBwb3B1cF8wOTQ2OWYyNzg3NTM0YzEzYTM5OTUyYWQzY2QyMmU4OCA9IEwucG9wdXAoeyJtYXhXaWR0aCI6ICIxMDAlIn0pOwoKICAgICAgICAKICAgICAgICAgICAgdmFyIGh0bWxfMTE5MWY4NjYwNWNmNDkzOGI1NTA2MDNiZmU4MzBmZmIgPSAkKGA8ZGl2IGlkPSJodG1sXzExOTFmODY2MDVjZjQ5MzhiNTUwNjAzYmZlODMwZmZiIiBzdHlsZT0id2lkdGg6IDEwMC4wJTsgaGVpZ2h0OiAxMDAuMCU7Ij5BU1NBVUxUPC9kaXY+YClbMF07CiAgICAgICAgICAgIHBvcHVwXzA5NDY5ZjI3ODc1MzRjMTNhMzk5NTJhZDNjZDIyZTg4LnNldENvbnRlbnQoaHRtbF8xMTkxZjg2NjA1Y2Y0OTM4YjU1MDYwM2JmZTgzMGZmYik7CiAgICAgICAgCgogICAgICAgIG1hcmtlcl8yYWM1MTkwZjIwMGE0ZGViYjE0OTUxODY1ZTU1NjdjYy5iaW5kUG9wdXAocG9wdXBfMDk0NjlmMjc4NzUzNGMxM2EzOTk1MmFkM2NkMjJlODgpCiAgICAgICAgOwoKICAgICAgICAKICAgIAogICAgCiAgICAgICAgICAgIHZhciBtYXJrZXJfZjc0MGQ4ZmRlOTAwNDJhN2JiMTg4Yjk1YjVkNTcyMzkgPSBMLm1hcmtlcigKICAgICAgICAgICAgICAgIFszNy43NjU3MTg0Mzk1MjgyLCAtMTIyLjQwOTUyOTkxMzI3OF0sCiAgICAgICAgICAgICAgICB7fQogICAgICAgICAgICApLmFkZFRvKG1hcmtlcl9jbHVzdGVyXzg4ZGI3MmRmZjEzZDQ2MWU4NmUyMWUzOWM5NDE2MjRjKTsKICAgICAgICAKICAgIAogICAgICAgIHZhciBwb3B1cF8zOGQ0MzdhMDY3ZGY0NDI3YTU3M2FjZjRkMjM2OTJlMiA9IEwucG9wdXAoeyJtYXhXaWR0aCI6ICIxMDAlIn0pOwoKICAgICAgICAKICAgICAgICAgICAgdmFyIGh0bWxfMWQ0N2Q0NWY1ZmU0NGIyM2JmODVmOTM2YjQ0MGM0MTkgPSAkKGA8ZGl2IGlkPSJodG1sXzFkNDdkNDVmNWZlNDRiMjNiZjg1ZjkzNmI0NDBjNDE5IiBzdHlsZT0id2lkdGg6IDEwMC4wJTsgaGVpZ2h0OiAxMDAuMCU7Ij5MQVJDRU5ZL1RIRUZUPC9kaXY+YClbMF07CiAgICAgICAgICAgIHBvcHVwXzM4ZDQzN2EwNjdkZjQ0MjdhNTczYWNmNGQyMzY5MmUyLnNldENvbnRlbnQoaHRtbF8xZDQ3ZDQ1ZjVmZTQ0YjIzYmY4NWY5MzZiNDQwYzQxOSk7CiAgICAgICAgCgogICAgICAgIG1hcmtlcl9mNzQwZDhmZGU5MDA0MmE3YmIxODhiOTViNWQ1NzIzOS5iaW5kUG9wdXAocG9wdXBfMzhkNDM3YTA2N2RmNDQyN2E1NzNhY2Y0ZDIzNjkyZTIpCiAgICAgICAgOwoKICAgICAgICAKICAgIAogICAgCiAgICAgICAgICAgIHZhciBtYXJrZXJfNTU5M2IzYjY2N2E2NGVhM2E5ZjM1ZWIxODA3ZmEzMzMgPSBMLm1hcmtlcigKICAgICAgICAgICAgICAgIFszNy43NzU0MjA3MDY3MTEsIC0xMjIuNDAzNDA0NzkxNDc4OTldLAogICAgICAgICAgICAgICAge30KICAgICAgICAgICAgKS5hZGRUbyhtYXJrZXJfY2x1c3Rlcl84OGRiNzJkZmYxM2Q0NjFlODZlMjFlMzljOTQxNjI0Yyk7CiAgICAgICAgCiAgICAKICAgICAgICB2YXIgcG9wdXBfOTg0MTZhNmUwMWU3NDNhNGIyYTRjYzVhODVkNTZjODQgPSBMLnBvcHVwKHsibWF4V2lkdGgiOiAiMTAwJSJ9KTsKCiAgICAgICAgCiAgICAgICAgICAgIHZhciBodG1sXzMwM2E4YWI4MTYxNDQ1M2FiYmYyODA3MzBmNDE5OGI3ID0gJChgPGRpdiBpZD0iaHRtbF8zMDNhOGFiODE2MTQ0NTNhYmJmMjgwNzMwZjQxOThiNyIgc3R5bGU9IndpZHRoOiAxMDAuMCU7IGhlaWdodDogMTAwLjAlOyI+Tk9OLUNSSU1JTkFMPC9kaXY+YClbMF07CiAgICAgICAgICAgIHBvcHVwXzk4NDE2YTZlMDFlNzQzYTRiMmE0Y2M1YTg1ZDU2Yzg0LnNldENvbnRlbnQoaHRtbF8zMDNhOGFiODE2MTQ0NTNhYmJmMjgwNzMwZjQxOThiNyk7CiAgICAgICAgCgogICAgICAgIG1hcmtlcl81NTkzYjNiNjY3YTY0ZWEzYTlmMzVlYjE4MDdmYTMzMy5iaW5kUG9wdXAocG9wdXBfOTg0MTZhNmUwMWU3NDNhNGIyYTRjYzVhODVkNTZjODQpCiAgICAgICAgOwoKICAgICAgICAKICAgIAogICAgCiAgICAgICAgICAgIHZhciBtYXJrZXJfZmEzYjViYjA1NDA2NGQ3NDliN2ZlM2MyYzEyNjgxMzMgPSBMLm1hcmtlcigKICAgICAgICAgICAgICAgIFszNy43Njc1MjQzMDg3ODMsIC0xMjIuNDEwNzM4MDk3MzE1XSwKICAgICAgICAgICAgICAgIHt9CiAgICAgICAgICAgICkuYWRkVG8obWFya2VyX2NsdXN0ZXJfODhkYjcyZGZmMTNkNDYxZTg2ZTIxZTM5Yzk0MTYyNGMpOwogICAgICAgIAogICAgCiAgICAgICAgdmFyIHBvcHVwXzEyZWRlNGIyZjU3NDRmOTBiZTczMTlmNzI5NjQ5OWJjID0gTC5wb3B1cCh7Im1heFdpZHRoIjogIjEwMCUifSk7CgogICAgICAgIAogICAgICAgICAgICB2YXIgaHRtbF80YmU5YTYxNTNlYzI0Y2NjODAyZWJjZTAzMTFiZTg0MiA9ICQoYDxkaXYgaWQ9Imh0bWxfNGJlOWE2MTUzZWMyNGNjYzgwMmViY2UwMzExYmU4NDIiIHN0eWxlPSJ3aWR0aDogMTAwLjAlOyBoZWlnaHQ6IDEwMC4wJTsiPkJVUkdMQVJZPC9kaXY+YClbMF07CiAgICAgICAgICAgIHBvcHVwXzEyZWRlNGIyZjU3NDRmOTBiZTczMTlmNzI5NjQ5OWJjLnNldENvbnRlbnQoaHRtbF80YmU5YTYxNTNlYzI0Y2NjODAyZWJjZTAzMTFiZTg0Mik7CiAgICAgICAgCgogICAgICAgIG1hcmtlcl9mYTNiNWJiMDU0MDY0ZDc0OWI3ZmUzYzJjMTI2ODEzMy5iaW5kUG9wdXAocG9wdXBfMTJlZGU0YjJmNTc0NGY5MGJlNzMxOWY3Mjk2NDk5YmMpCiAgICAgICAgOwoKICAgICAgICAKICAgIAogICAgCiAgICAgICAgICAgIHZhciBtYXJrZXJfYmU0MGU3OTQyMzg1NDBlNTliZjNiMTU3OTZlMjBkYTggPSBMLm1hcmtlcigKICAgICAgICAgICAgICAgIFszNy43Njc1MjQzMDg3ODMsIC0xMjIuNDEwNzM4MDk3MzE1XSwKICAgICAgICAgICAgICAgIHt9CiAgICAgICAgICAgICkuYWRkVG8obWFya2VyX2NsdXN0ZXJfODhkYjcyZGZmMTNkNDYxZTg2ZTIxZTM5Yzk0MTYyNGMpOwogICAgICAgIAogICAgCiAgICAgICAgdmFyIHBvcHVwXzk1YzdmMWRiYjc2ZDQ2Yzk5ZDEyNzdkMjc2ZDI1OWY3ID0gTC5wb3B1cCh7Im1heFdpZHRoIjogIjEwMCUifSk7CgogICAgICAgIAogICAgICAgICAgICB2YXIgaHRtbF8yM2MwY2Y2NWE5ZDQ0NTE2YjM1NTYzNGIxM2RmZDI0NyA9ICQoYDxkaXYgaWQ9Imh0bWxfMjNjMGNmNjVhOWQ0NDUxNmIzNTU2MzRiMTNkZmQyNDciIHN0eWxlPSJ3aWR0aDogMTAwLjAlOyBoZWlnaHQ6IDEwMC4wJTsiPkFSU09OPC9kaXY+YClbMF07CiAgICAgICAgICAgIHBvcHVwXzk1YzdmMWRiYjc2ZDQ2Yzk5ZDEyNzdkMjc2ZDI1OWY3LnNldENvbnRlbnQoaHRtbF8yM2MwY2Y2NWE5ZDQ0NTE2YjM1NTYzNGIxM2RmZDI0Nyk7CiAgICAgICAgCgogICAgICAgIG1hcmtlcl9iZTQwZTc5NDIzODU0MGU1OWJmM2IxNTc5NmUyMGRhOC5iaW5kUG9wdXAocG9wdXBfOTVjN2YxZGJiNzZkNDZjOTlkMTI3N2QyNzZkMjU5ZjcpCiAgICAgICAgOwoKICAgICAgICAKICAgIAogICAgCiAgICAgICAgICAgIHZhciBtYXJrZXJfZjdiYjU4ODIzNmU2NDM3MWFhYWNiZTI1ODA5NDVhNjggPSBMLm1hcmtlcigKICAgICAgICAgICAgICAgIFszNy43MTMxMDgzNDMzMjY0LCAtMTIyLjQ0NDMxNDAyNTE4OF0sCiAgICAgICAgICAgICAgICB7fQogICAgICAgICAgICApLmFkZFRvKG1hcmtlcl9jbHVzdGVyXzg4ZGI3MmRmZjEzZDQ2MWU4NmUyMWUzOWM5NDE2MjRjKTsKICAgICAgICAKICAgIAogICAgICAgIHZhciBwb3B1cF9lYTFiODkzZmQwMTc0Nzg4YWM1OGM0N2NmZjNkYTRlNCA9IEwucG9wdXAoeyJtYXhXaWR0aCI6ICIxMDAlIn0pOwoKICAgICAgICAKICAgICAgICAgICAgdmFyIGh0bWxfOTAzY2RmZTk2YWQ4NDI0ZjhlYWMwODU3MjM3ZDc5NWQgPSAkKGA8ZGl2IGlkPSJodG1sXzkwM2NkZmU5NmFkODQyNGY4ZWFjMDg1NzIzN2Q3OTVkIiBzdHlsZT0id2lkdGg6IDEwMC4wJTsgaGVpZ2h0OiAxMDAuMCU7Ij5CVVJHTEFSWTwvZGl2PmApWzBdOwogICAgICAgICAgICBwb3B1cF9lYTFiODkzZmQwMTc0Nzg4YWM1OGM0N2NmZjNkYTRlNC5zZXRDb250ZW50KGh0bWxfOTAzY2RmZTk2YWQ4NDI0ZjhlYWMwODU3MjM3ZDc5NWQpOwogICAgICAgIAoKICAgICAgICBtYXJrZXJfZjdiYjU4ODIzNmU2NDM3MWFhYWNiZTI1ODA5NDVhNjguYmluZFBvcHVwKHBvcHVwX2VhMWI4OTNmZDAxNzQ3ODhhYzU4YzQ3Y2ZmM2RhNGU0KQogICAgICAgIDsKCiAgICAgICAgCiAgICAKICAgIAogICAgICAgICAgICB2YXIgbWFya2VyXzM3ZWI5ZTk1NmYxMDQwOWZhNzNhZGUwZjIxMGQxZDAxID0gTC5tYXJrZXIoCiAgICAgICAgICAgICAgICBbMzcuNzEzMTA4MzQzMzI2NCwgLTEyMi40NDQzMTQwMjUxODhdLAogICAgICAgICAgICAgICAge30KICAgICAgICAgICAgKS5hZGRUbyhtYXJrZXJfY2x1c3Rlcl84OGRiNzJkZmYxM2Q0NjFlODZlMjFlMzljOTQxNjI0Yyk7CiAgICAgICAgCiAgICAKICAgICAgICB2YXIgcG9wdXBfYjE4NTQ1ZTQwYTMxNGJjNzk5OWFhOGQ4YTg1ZWJjNmYgPSBMLnBvcHVwKHsibWF4V2lkdGgiOiAiMTAwJSJ9KTsKCiAgICAgICAgCiAgICAgICAgICAgIHZhciBodG1sXzU3ODI0NzYyZjRjNTRlZmJhM2NkYTg4NzA0NDQ4MGUzID0gJChgPGRpdiBpZD0iaHRtbF81NzgyNDc2MmY0YzU0ZWZiYTNjZGE4ODcwNDQ0ODBlMyIgc3R5bGU9IndpZHRoOiAxMDAuMCU7IGhlaWdodDogMTAwLjAlOyI+RFJVRy9OQVJDT1RJQzwvZGl2PmApWzBdOwogICAgICAgICAgICBwb3B1cF9iMTg1NDVlNDBhMzE0YmM3OTk5YWE4ZDhhODVlYmM2Zi5zZXRDb250ZW50KGh0bWxfNTc4MjQ3NjJmNGM1NGVmYmEzY2RhODg3MDQ0NDgwZTMpOwogICAgICAgIAoKICAgICAgICBtYXJrZXJfMzdlYjllOTU2ZjEwNDA5ZmE3M2FkZTBmMjEwZDFkMDEuYmluZFBvcHVwKHBvcHVwX2IxODU0NWU0MGEzMTRiYzc5OTlhYThkOGE4NWViYzZmKQogICAgICAgIDsKCiAgICAgICAgCiAgICAKICAgIAogICAgICAgICAgICB2YXIgbWFya2VyX2FmN2M3YmZlMmQ4NTQ1NGNhNjRkZTYxZDlhYWNiZDFhID0gTC5tYXJrZXIoCiAgICAgICAgICAgICAgICBbMzcuNzY2MDE2MDExNDEwMywgLTEyMi40MDM2NDQ2MjA0MzldLAogICAgICAgICAgICAgICAge30KICAgICAgICAgICAgKS5hZGRUbyhtYXJrZXJfY2x1c3Rlcl84OGRiNzJkZmYxM2Q0NjFlODZlMjFlMzljOTQxNjI0Yyk7CiAgICAgICAgCiAgICAKICAgICAgICB2YXIgcG9wdXBfNjNmNmZmZTFkN2E0NDJhZDgxZWQzYjE4MDk4MGYwODEgPSBMLnBvcHVwKHsibWF4V2lkdGgiOiAiMTAwJSJ9KTsKCiAgICAgICAgCiAgICAgICAgICAgIHZhciBodG1sXzAzYTRiZDM3ZGQ3NzRiYzhhYjA4MWJjMzEzM2RhM2QwID0gJChgPGRpdiBpZD0iaHRtbF8wM2E0YmQzN2RkNzc0YmM4YWIwODFiYzMxMzNkYTNkMCIgc3R5bGU9IndpZHRoOiAxMDAuMCU7IGhlaWdodDogMTAwLjAlOyI+TUlTU0lORyBQRVJTT048L2Rpdj5gKVswXTsKICAgICAgICAgICAgcG9wdXBfNjNmNmZmZTFkN2E0NDJhZDgxZWQzYjE4MDk4MGYwODEuc2V0Q29udGVudChodG1sXzAzYTRiZDM3ZGQ3NzRiYzhhYjA4MWJjMzEzM2RhM2QwKTsKICAgICAgICAKCiAgICAgICAgbWFya2VyX2FmN2M3YmZlMmQ4NTQ1NGNhNjRkZTYxZDlhYWNiZDFhLmJpbmRQb3B1cChwb3B1cF82M2Y2ZmZlMWQ3YTQ0MmFkODFlZDNiMTgwOTgwZjA4MSkKICAgICAgICA7CgogICAgICAgIAogICAgCiAgICAKICAgICAgICAgICAgdmFyIG1hcmtlcl9jMTk4YTVmNTIyMjI0YTMyYWU1NWI4OTk5Mzk1MDJkZCA9IEwubWFya2VyKAogICAgICAgICAgICAgICAgWzM3Ljc2NjAxNjAxMTQxMDMsIC0xMjIuNDAzNjQ0NjIwNDM5XSwKICAgICAgICAgICAgICAgIHt9CiAgICAgICAgICAgICkuYWRkVG8obWFya2VyX2NsdXN0ZXJfODhkYjcyZGZmMTNkNDYxZTg2ZTIxZTM5Yzk0MTYyNGMpOwogICAgICAgIAogICAgCiAgICAgICAgdmFyIHBvcHVwX2VjNTFmNDhjYTE0ODQ3ZWViYzUxMjM4YzhhNzg3ZDNjID0gTC5wb3B1cCh7Im1heFdpZHRoIjogIjEwMCUifSk7CgogICAgICAgIAogICAgICAgICAgICB2YXIgaHRtbF80NDgxM2YzMTk1MTQ0MTRlOTMwYzhlMjYzNzc1N2E1OSA9ICQoYDxkaXYgaWQ9Imh0bWxfNDQ4MTNmMzE5NTE0NDE0ZTkzMGM4ZTI2Mzc3NTdhNTkiIHN0eWxlPSJ3aWR0aDogMTAwLjAlOyBoZWlnaHQ6IDEwMC4wJTsiPk1JU1NJTkcgUEVSU09OPC9kaXY+YClbMF07CiAgICAgICAgICAgIHBvcHVwX2VjNTFmNDhjYTE0ODQ3ZWViYzUxMjM4YzhhNzg3ZDNjLnNldENvbnRlbnQoaHRtbF80NDgxM2YzMTk1MTQ0MTRlOTMwYzhlMjYzNzc1N2E1OSk7CiAgICAgICAgCgogICAgICAgIG1hcmtlcl9jMTk4YTVmNTIyMjI0YTMyYWU1NWI4OTk5Mzk1MDJkZC5iaW5kUG9wdXAocG9wdXBfZWM1MWY0OGNhMTQ4NDdlZWJjNTEyMzhjOGE3ODdkM2MpCiAgICAgICAgOwoKICAgICAgICAKICAgIAogICAgCiAgICAgICAgICAgIHZhciBtYXJrZXJfMzNjYTJiNjBhMzEwNDM3MmIxZjU5ZTkxY2NhNWM0NDcgPSBMLm1hcmtlcigKICAgICAgICAgICAgICAgIFszNy43NzYyMzEwNDA0NzU4LCAtMTIyLjQxNDcxNDI5NTU3ODk5XSwKICAgICAgICAgICAgICAgIHt9CiAgICAgICAgICAgICkuYWRkVG8obWFya2VyX2NsdXN0ZXJfODhkYjcyZGZmMTNkNDYxZTg2ZTIxZTM5Yzk0MTYyNGMpOwogICAgICAgIAogICAgCiAgICAgICAgdmFyIHBvcHVwXzc1YzhjZjljOTRhYzQxZmU5MjU1M2I5ZTViMDg0ZjkwID0gTC5wb3B1cCh7Im1heFdpZHRoIjogIjEwMCUifSk7CgogICAgICAgIAogICAgICAgICAgICB2YXIgaHRtbF85YTA2MzVhZWE2OTc0ZTVkODg1OWY0YmNjOTlhMDNhMiA9ICQoYDxkaXYgaWQ9Imh0bWxfOWEwNjM1YWVhNjk3NGU1ZDg4NTlmNGJjYzk5YTAzYTIiIHN0eWxlPSJ3aWR0aDogMTAwLjAlOyBoZWlnaHQ6IDEwMC4wJTsiPkFTU0FVTFQ8L2Rpdj5gKVswXTsKICAgICAgICAgICAgcG9wdXBfNzVjOGNmOWM5NGFjNDFmZTkyNTUzYjllNWIwODRmOTAuc2V0Q29udGVudChodG1sXzlhMDYzNWFlYTY5NzRlNWQ4ODU5ZjRiY2M5OWEwM2EyKTsKICAgICAgICAKCiAgICAgICAgbWFya2VyXzMzY2EyYjYwYTMxMDQzNzJiMWY1OWU5MWNjYTVjNDQ3LmJpbmRQb3B1cChwb3B1cF83NWM4Y2Y5Yzk0YWM0MWZlOTI1NTNiOWU1YjA4NGY5MCkKICAgICAgICA7CgogICAgICAgIAogICAgCiAgICAKICAgICAgICAgICAgdmFyIG1hcmtlcl9kY2ViNjFkOWFjYTY0MTI5OGJlZjE4NWRmNThkYmM2ZCA9IEwubWFya2VyKAogICAgICAgICAgICAgICAgWzM3Ljc3NjIzMTA0MDQ3NTgsIC0xMjIuNDE0NzE0Mjk1NTc4OTldLAogICAgICAgICAgICAgICAge30KICAgICAgICAgICAgKS5hZGRUbyhtYXJrZXJfY2x1c3Rlcl84OGRiNzJkZmYxM2Q0NjFlODZlMjFlMzljOTQxNjI0Yyk7CiAgICAgICAgCiAgICAKICAgICAgICB2YXIgcG9wdXBfNTM1NTJhYjcwNjdkNDQ1YTg4NmQ3MTE0MWZkNzIwNmQgPSBMLnBvcHVwKHsibWF4V2lkdGgiOiAiMTAwJSJ9KTsKCiAgICAgICAgCiAgICAgICAgICAgIHZhciBodG1sXzU3MjQ4YWE1MTI5MDQ5ZDc4MDQ3YWUyNjlkZTNmYTk5ID0gJChgPGRpdiBpZD0iaHRtbF81NzI0OGFhNTEyOTA0OWQ3ODA0N2FlMjY5ZGUzZmE5OSIgc3R5bGU9IndpZHRoOiAxMDAuMCU7IGhlaWdodDogMTAwLjAlOyI+TUlTU0lORyBQRVJTT048L2Rpdj5gKVswXTsKICAgICAgICAgICAgcG9wdXBfNTM1NTJhYjcwNjdkNDQ1YTg4NmQ3MTE0MWZkNzIwNmQuc2V0Q29udGVudChodG1sXzU3MjQ4YWE1MTI5MDQ5ZDc4MDQ3YWUyNjlkZTNmYTk5KTsKICAgICAgICAKCiAgICAgICAgbWFya2VyX2RjZWI2MWQ5YWNhNjQxMjk4YmVmMTg1ZGY1OGRiYzZkLmJpbmRQb3B1cChwb3B1cF81MzU1MmFiNzA2N2Q0NDVhODg2ZDcxMTQxZmQ3MjA2ZCkKICAgICAgICA7CgogICAgICAgIAogICAgCiAgICAKICAgICAgICAgICAgdmFyIG1hcmtlcl85ZjM5ZWJjOWE3MjY0M2ZjYWE1M2Y3NDAxNzI5ZTRhMyA9IEwubWFya2VyKAogICAgICAgICAgICAgICAgWzM3Ljc3NzUxMTg4OTU2OTUsIC0xMjIuNDE4MDQ1NDUyNzY4XSwKICAgICAgICAgICAgICAgIHt9CiAgICAgICAgICAgICkuYWRkVG8obWFya2VyX2NsdXN0ZXJfODhkYjcyZGZmMTNkNDYxZTg2ZTIxZTM5Yzk0MTYyNGMpOwogICAgICAgIAogICAgCiAgICAgICAgdmFyIHBvcHVwXzkyNWNkZGMzZjIyYTRmODRiMzU1ODg2YmZhMjE0ZWMyID0gTC5wb3B1cCh7Im1heFdpZHRoIjogIjEwMCUifSk7CgogICAgICAgIAogICAgICAgICAgICB2YXIgaHRtbF85OTE4ZWEyZmE2YmI0ZWJlOTkzYTM2YzE3ZjNiYTMwMSA9ICQoYDxkaXYgaWQ9Imh0bWxfOTkxOGVhMmZhNmJiNGViZTk5M2EzNmMxN2YzYmEzMDEiIHN0eWxlPSJ3aWR0aDogMTAwLjAlOyBoZWlnaHQ6IDEwMC4wJTsiPlZFSElDTEUgVEhFRlQ8L2Rpdj5gKVswXTsKICAgICAgICAgICAgcG9wdXBfOTI1Y2RkYzNmMjJhNGY4NGIzNTU4ODZiZmEyMTRlYzIuc2V0Q29udGVudChodG1sXzk5MThlYTJmYTZiYjRlYmU5OTNhMzZjMTdmM2JhMzAxKTsKICAgICAgICAKCiAgICAgICAgbWFya2VyXzlmMzllYmM5YTcyNjQzZmNhYTUzZjc0MDE3MjllNGEzLmJpbmRQb3B1cChwb3B1cF85MjVjZGRjM2YyMmE0Zjg0YjM1NTg4NmJmYTIxNGVjMikKICAgICAgICA7CgogICAgICAgIAogICAgCiAgICAKICAgICAgICAgICAgdmFyIG1hcmtlcl9hZjQ5NDczYmNmMjA0YjMzYTBjY2M3ODU3ZTUxNmI1ZiA9IEwubWFya2VyKAogICAgICAgICAgICAgICAgWzM3Ljc4MjAyMzg0Nzg5NzUsIC0xMjIuNDAxMTYxNTU1NjAyXSwKICAgICAgICAgICAgICAgIHt9CiAgICAgICAgICAgICkuYWRkVG8obWFya2VyX2NsdXN0ZXJfODhkYjcyZGZmMTNkNDYxZTg2ZTIxZTM5Yzk0MTYyNGMpOwogICAgICAgIAogICAgCiAgICAgICAgdmFyIHBvcHVwXzJhMjVmZjFlYjBjMDQ0ODY5NDBjZWQ5ZWYzMmEzNzhlID0gTC5wb3B1cCh7Im1heFdpZHRoIjogIjEwMCUifSk7CgogICAgICAgIAogICAgICAgICAgICB2YXIgaHRtbF83OGYyYzlmOTI1NTc0ZjgxOTBhYWJjZWZjZDk1Yjc1YyA9ICQoYDxkaXYgaWQ9Imh0bWxfNzhmMmM5ZjkyNTU3NGY4MTkwYWFiY2VmY2Q5NWI3NWMiIHN0eWxlPSJ3aWR0aDogMTAwLjAlOyBoZWlnaHQ6IDEwMC4wJTsiPk9USEVSIE9GRkVOU0VTPC9kaXY+YClbMF07CiAgICAgICAgICAgIHBvcHVwXzJhMjVmZjFlYjBjMDQ0ODY5NDBjZWQ5ZWYzMmEzNzhlLnNldENvbnRlbnQoaHRtbF83OGYyYzlmOTI1NTc0ZjgxOTBhYWJjZWZjZDk1Yjc1Yyk7CiAgICAgICAgCgogICAgICAgIG1hcmtlcl9hZjQ5NDczYmNmMjA0YjMzYTBjY2M3ODU3ZTUxNmI1Zi5iaW5kUG9wdXAocG9wdXBfMmEyNWZmMWViMGMwNDQ4Njk0MGNlZDllZjMyYTM3OGUpCiAgICAgICAgOwoKICAgICAgICAKICAgIAogICAgCiAgICAgICAgICAgIHZhciBtYXJrZXJfOWJmZWQyNmYwMmU3NGY2YWI3NjBmOWUyNGVlN2U5YWYgPSBMLm1hcmtlcigKICAgICAgICAgICAgICAgIFszNy43MjcwMDUzMTk2Mjk5OTUsIC0xMjIuNDAzNDA4NjY5MTkxXSwKICAgICAgICAgICAgICAgIHt9CiAgICAgICAgICAgICkuYWRkVG8obWFya2VyX2NsdXN0ZXJfODhkYjcyZGZmMTNkNDYxZTg2ZTIxZTM5Yzk0MTYyNGMpOwogICAgICAgIAogICAgCiAgICAgICAgdmFyIHBvcHVwXzczZTljZGQxYzUwMTRkNTA4MGM1NGQxNzQxZmI1MTgyID0gTC5wb3B1cCh7Im1heFdpZHRoIjogIjEwMCUifSk7CgogICAgICAgIAogICAgICAgICAgICB2YXIgaHRtbF83ZDY3MGI4ZjhiZWE0N2JmYWQ5NjQxMWM1YmYxNzEyMyA9ICQoYDxkaXYgaWQ9Imh0bWxfN2Q2NzBiOGY4YmVhNDdiZmFkOTY0MTFjNWJmMTcxMjMiIHN0eWxlPSJ3aWR0aDogMTAwLjAlOyBoZWlnaHQ6IDEwMC4wJTsiPldBUlJBTlRTPC9kaXY+YClbMF07CiAgICAgICAgICAgIHBvcHVwXzczZTljZGQxYzUwMTRkNTA4MGM1NGQxNzQxZmI1MTgyLnNldENvbnRlbnQoaHRtbF83ZDY3MGI4ZjhiZWE0N2JmYWQ5NjQxMWM1YmYxNzEyMyk7CiAgICAgICAgCgogICAgICAgIG1hcmtlcl85YmZlZDI2ZjAyZTc0ZjZhYjc2MGY5ZTI0ZWU3ZTlhZi5iaW5kUG9wdXAocG9wdXBfNzNlOWNkZDFjNTAxNGQ1MDgwYzU0ZDE3NDFmYjUxODIpCiAgICAgICAgOwoKICAgICAgICAKICAgIAogICAgCiAgICAgICAgICAgIHZhciBtYXJrZXJfMGU2MjY0YmFhNjFlNDRmY2IzNmM0ODBiMmI5ZjdlODggPSBMLm1hcmtlcigKICAgICAgICAgICAgICAgIFszNy43ODM4MzQ0Mzc0MTQxLCAtMTIyLjQxMjkzMDUyMjA1OV0sCiAgICAgICAgICAgICAgICB7fQogICAgICAgICAgICApLmFkZFRvKG1hcmtlcl9jbHVzdGVyXzg4ZGI3MmRmZjEzZDQ2MWU4NmUyMWUzOWM5NDE2MjRjKTsKICAgICAgICAKICAgIAogICAgICAgIHZhciBwb3B1cF80ZTkyYzRhNWIyYmM0YjFmOTBhZTI0NDFlMTBlN2M2YiA9IEwucG9wdXAoeyJtYXhXaWR0aCI6ICIxMDAlIn0pOwoKICAgICAgICAKICAgICAgICAgICAgdmFyIGh0bWxfY2FkZDZlNTZhZmMxNGUzYzkyMWM4NDQ4MmNiMzM0N2YgPSAkKGA8ZGl2IGlkPSJodG1sX2NhZGQ2ZTU2YWZjMTRlM2M5MjFjODQ0ODJjYjMzNDdmIiBzdHlsZT0id2lkdGg6IDEwMC4wJTsgaGVpZ2h0OiAxMDAuMCU7Ij5WQU5EQUxJU008L2Rpdj5gKVswXTsKICAgICAgICAgICAgcG9wdXBfNGU5MmM0YTViMmJjNGIxZjkwYWUyNDQxZTEwZTdjNmIuc2V0Q29udGVudChodG1sX2NhZGQ2ZTU2YWZjMTRlM2M5MjFjODQ0ODJjYjMzNDdmKTsKICAgICAgICAKCiAgICAgICAgbWFya2VyXzBlNjI2NGJhYTYxZTQ0ZmNiMzZjNDgwYjJiOWY3ZTg4LmJpbmRQb3B1cChwb3B1cF80ZTkyYzRhNWIyYmM0YjFmOTBhZTI0NDFlMTBlN2M2YikKICAgICAgICA7CgogICAgICAgIAogICAgCiAgICAKICAgICAgICAgICAgdmFyIG1hcmtlcl9jODhhNjZlYzhhMTA0NWJkYjEyOTE4NGZiZDNhNzYyYSA9IEwubWFya2VyKAogICAgICAgICAgICAgICAgWzM3Ljc1MzAxODY1Mzc0NDYwNCwgLTEyMi40MTg1ODcxNzIyMTldLAogICAgICAgICAgICAgICAge30KICAgICAgICAgICAgKS5hZGRUbyhtYXJrZXJfY2x1c3Rlcl84OGRiNzJkZmYxM2Q0NjFlODZlMjFlMzljOTQxNjI0Yyk7CiAgICAgICAgCiAgICAKICAgICAgICB2YXIgcG9wdXBfNzUyNDU1Y2RiMWEwNDZmN2I0M2RmMDAzZWIyMzc0ZTEgPSBMLnBvcHVwKHsibWF4V2lkdGgiOiAiMTAwJSJ9KTsKCiAgICAgICAgCiAgICAgICAgICAgIHZhciBodG1sX2Q1MmRiOWFmM2FlNTRhNGE5NTcwNDczNWI4ZjAyMjk0ID0gJChgPGRpdiBpZD0iaHRtbF9kNTJkYjlhZjNhZTU0YTRhOTU3MDQ3MzViOGYwMjI5NCIgc3R5bGU9IndpZHRoOiAxMDAuMCU7IGhlaWdodDogMTAwLjAlOyI+Tk9OLUNSSU1JTkFMPC9kaXY+YClbMF07CiAgICAgICAgICAgIHBvcHVwXzc1MjQ1NWNkYjFhMDQ2ZjdiNDNkZjAwM2ViMjM3NGUxLnNldENvbnRlbnQoaHRtbF9kNTJkYjlhZjNhZTU0YTRhOTU3MDQ3MzViOGYwMjI5NCk7CiAgICAgICAgCgogICAgICAgIG1hcmtlcl9jODhhNjZlYzhhMTA0NWJkYjEyOTE4NGZiZDNhNzYyYS5iaW5kUG9wdXAocG9wdXBfNzUyNDU1Y2RiMWEwNDZmN2I0M2RmMDAzZWIyMzc0ZTEpCiAgICAgICAgOwoKICAgICAgICAKICAgIAogICAgCiAgICAgICAgICAgIHZhciBtYXJrZXJfNGE0OTkzYWE0MTQyNGEwNDk3MzMzYTQyYjIyMzFlZTcgPSBMLm1hcmtlcigKICAgICAgICAgICAgICAgIFszNy43NzQwNDE4Mzg1MDQxLCAtMTIyLjQxNDM3MDYyNzQ5NV0sCiAgICAgICAgICAgICAgICB7fQogICAgICAgICAgICApLmFkZFRvKG1hcmtlcl9jbHVzdGVyXzg4ZGI3MmRmZjEzZDQ2MWU4NmUyMWUzOWM5NDE2MjRjKTsKICAgICAgICAKICAgIAogICAgICAgIHZhciBwb3B1cF9mNjczNDQ4NThhYjU0YmMxYjdmNTRmNTU0NDE5MDBjNiA9IEwucG9wdXAoeyJtYXhXaWR0aCI6ICIxMDAlIn0pOwoKICAgICAgICAKICAgICAgICAgICAgdmFyIGh0bWxfMTE2MDYwZjY3ODZmNDRlNjg3NzNmZDYzMzE0MjU0NWUgPSAkKGA8ZGl2IGlkPSJodG1sXzExNjA2MGY2Nzg2ZjQ0ZTY4NzczZmQ2MzMxNDI1NDVlIiBzdHlsZT0id2lkdGg6IDEwMC4wJTsgaGVpZ2h0OiAxMDAuMCU7Ij5GUkFVRDwvZGl2PmApWzBdOwogICAgICAgICAgICBwb3B1cF9mNjczNDQ4NThhYjU0YmMxYjdmNTRmNTU0NDE5MDBjNi5zZXRDb250ZW50KGh0bWxfMTE2MDYwZjY3ODZmNDRlNjg3NzNmZDYzMzE0MjU0NWUpOwogICAgICAgIAoKICAgICAgICBtYXJrZXJfNGE0OTkzYWE0MTQyNGEwNDk3MzMzYTQyYjIyMzFlZTcuYmluZFBvcHVwKHBvcHVwX2Y2NzM0NDg1OGFiNTRiYzFiN2Y1NGY1NTQ0MTkwMGM2KQogICAgICAgIDsKCiAgICAgICAgCiAgICAKICAgIAogICAgICAgICAgICB2YXIgbWFya2VyXzc0YjExNzZiOTk3NjQwMzk4YjQzN2Y0N2QxM2Q1ODEwID0gTC5tYXJrZXIoCiAgICAgICAgICAgICAgICBbMzcuNzkwNTM4OTkzNzI1LCAtMTIyLjQwMzkxNTY4MTU3MTAxXSwKICAgICAgICAgICAgICAgIHt9CiAgICAgICAgICAgICkuYWRkVG8obWFya2VyX2NsdXN0ZXJfODhkYjcyZGZmMTNkNDYxZTg2ZTIxZTM5Yzk0MTYyNGMpOwogICAgICAgIAogICAgCiAgICAgICAgdmFyIHBvcHVwXzJkNmY1MzczNDU5OTQxNTk4MjBlYWM1Nzg3MTRmODNlID0gTC5wb3B1cCh7Im1heFdpZHRoIjogIjEwMCUifSk7CgogICAgICAgIAogICAgICAgICAgICB2YXIgaHRtbF8yMTZmM2NiN2Y5YjA0OWE1OTFhOWE1NzQxMjZlYzU2NCA9ICQoYDxkaXYgaWQ9Imh0bWxfMjE2ZjNjYjdmOWIwNDlhNTkxYTlhNTc0MTI2ZWM1NjQiIHN0eWxlPSJ3aWR0aDogMTAwLjAlOyBoZWlnaHQ6IDEwMC4wJTsiPkFTU0FVTFQ8L2Rpdj5gKVswXTsKICAgICAgICAgICAgcG9wdXBfMmQ2ZjUzNzM0NTk5NDE1OTgyMGVhYzU3ODcxNGY4M2Uuc2V0Q29udGVudChodG1sXzIxNmYzY2I3ZjliMDQ5YTU5MWE5YTU3NDEyNmVjNTY0KTsKICAgICAgICAKCiAgICAgICAgbWFya2VyXzc0YjExNzZiOTk3NjQwMzk4YjQzN2Y0N2QxM2Q1ODEwLmJpbmRQb3B1cChwb3B1cF8yZDZmNTM3MzQ1OTk0MTU5ODIwZWFjNTc4NzE0ZjgzZSkKICAgICAgICA7CgogICAgICAgIAogICAgCiAgICAKICAgICAgICAgICAgdmFyIG1hcmtlcl8xZDk4YTZjM2UwZGY0MjQ0YWRjOTZmMzRhMmQ1ZjdkOCA9IEwubWFya2VyKAogICAgICAgICAgICAgICAgWzM3Ljc4MzA5OTgyNDQ1OTIxLCAtMTIyLjQxOTE4MzA5NjM2Ml0sCiAgICAgICAgICAgICAgICB7fQogICAgICAgICAgICApLmFkZFRvKG1hcmtlcl9jbHVzdGVyXzg4ZGI3MmRmZjEzZDQ2MWU4NmUyMWUzOWM5NDE2MjRjKTsKICAgICAgICAKICAgIAogICAgICAgIHZhciBwb3B1cF85NTEwNTAwY2Y4NjM0Y2RlOGMxMGM3MTMzNTBjMmVjZiA9IEwucG9wdXAoeyJtYXhXaWR0aCI6ICIxMDAlIn0pOwoKICAgICAgICAKICAgICAgICAgICAgdmFyIGh0bWxfZjg5Y2JhZmRiZjYwNDZhNWE4M2JjMzQyYzhmODFhYzUgPSAkKGA8ZGl2IGlkPSJodG1sX2Y4OWNiYWZkYmY2MDQ2YTVhODNiYzM0MmM4ZjgxYWM1IiBzdHlsZT0id2lkdGg6IDEwMC4wJTsgaGVpZ2h0OiAxMDAuMCU7Ij5PVEhFUiBPRkZFTlNFUzwvZGl2PmApWzBdOwogICAgICAgICAgICBwb3B1cF85NTEwNTAwY2Y4NjM0Y2RlOGMxMGM3MTMzNTBjMmVjZi5zZXRDb250ZW50KGh0bWxfZjg5Y2JhZmRiZjYwNDZhNWE4M2JjMzQyYzhmODFhYzUpOwogICAgICAgIAoKICAgICAgICBtYXJrZXJfMWQ5OGE2YzNlMGRmNDI0NGFkYzk2ZjM0YTJkNWY3ZDguYmluZFBvcHVwKHBvcHVwXzk1MTA1MDBjZjg2MzRjZGU4YzEwYzcxMzM1MGMyZWNmKQogICAgICAgIDsKCiAgICAgICAgCiAgICAKICAgIAogICAgICAgICAgICB2YXIgbWFya2VyXzA0ODBiMjI5OWJkYzQ2YmNhZjdiNzZiNzlkNzkyMDJiID0gTC5tYXJrZXIoCiAgICAgICAgICAgICAgICBbMzcuNzQwNzM2MDU0ODM1NzksIC0xMjIuMzg4NzUzMDQ2OTk3XSwKICAgICAgICAgICAgICAgIHt9CiAgICAgICAgICAgICkuYWRkVG8obWFya2VyX2NsdXN0ZXJfODhkYjcyZGZmMTNkNDYxZTg2ZTIxZTM5Yzk0MTYyNGMpOwogICAgICAgIAogICAgCiAgICAgICAgdmFyIHBvcHVwXzY1OGU4NDUyNzgwMTQ3ZDNiZTdhMTU0Y2I1OWE3YWI2ID0gTC5wb3B1cCh7Im1heFdpZHRoIjogIjEwMCUifSk7CgogICAgICAgIAogICAgICAgICAgICB2YXIgaHRtbF80YWI2NzM0MDBhOTQ0MDA4ODExYTFjZmNmODUxMjYyYiA9ICQoYDxkaXYgaWQ9Imh0bWxfNGFiNjczNDAwYTk0NDAwODgxMWExY2ZjZjg1MTI2MmIiIHN0eWxlPSJ3aWR0aDogMTAwLjAlOyBoZWlnaHQ6IDEwMC4wJTsiPk9USEVSIE9GRkVOU0VTPC9kaXY+YClbMF07CiAgICAgICAgICAgIHBvcHVwXzY1OGU4NDUyNzgwMTQ3ZDNiZTdhMTU0Y2I1OWE3YWI2LnNldENvbnRlbnQoaHRtbF80YWI2NzM0MDBhOTQ0MDA4ODExYTFjZmNmODUxMjYyYik7CiAgICAgICAgCgogICAgICAgIG1hcmtlcl8wNDgwYjIyOTliZGM0NmJjYWY3Yjc2Yjc5ZDc5MjAyYi5iaW5kUG9wdXAocG9wdXBfNjU4ZTg0NTI3ODAxNDdkM2JlN2ExNTRjYjU5YTdhYjYpCiAgICAgICAgOwoKICAgICAgICAKICAgIAogICAgCiAgICAgICAgICAgIHZhciBtYXJrZXJfNmY1MTBmMGE1N2M3NDEwYmEzMzcxZjkyOTczZDNmN2IgPSBMLm1hcmtlcigKICAgICAgICAgICAgICAgIFszNy43NzQ5OTEyOTQ0MzY2LCAtMTIyLjQzNzc5OTcwMzQ2OF0sCiAgICAgICAgICAgICAgICB7fQogICAgICAgICAgICApLmFkZFRvKG1hcmtlcl9jbHVzdGVyXzg4ZGI3MmRmZjEzZDQ2MWU4NmUyMWUzOWM5NDE2MjRjKTsKICAgICAgICAKICAgIAogICAgICAgIHZhciBwb3B1cF80ZTZjZDU1YmNkYjk0NTliYWYyZmNiNDlhOTMzYTY1YyA9IEwucG9wdXAoeyJtYXhXaWR0aCI6ICIxMDAlIn0pOwoKICAgICAgICAKICAgICAgICAgICAgdmFyIGh0bWxfMTg0Y2Y1YWU0NDRhNDhkYjk3YTYxMDUxZDUxNTMwNWEgPSAkKGA8ZGl2IGlkPSJodG1sXzE4NGNmNWFlNDQ0YTQ4ZGI5N2E2MTA1MWQ1MTUzMDVhIiBzdHlsZT0id2lkdGg6IDEwMC4wJTsgaGVpZ2h0OiAxMDAuMCU7Ij5MQVJDRU5ZL1RIRUZUPC9kaXY+YClbMF07CiAgICAgICAgICAgIHBvcHVwXzRlNmNkNTViY2RiOTQ1OWJhZjJmY2I0OWE5MzNhNjVjLnNldENvbnRlbnQoaHRtbF8xODRjZjVhZTQ0NGE0OGRiOTdhNjEwNTFkNTE1MzA1YSk7CiAgICAgICAgCgogICAgICAgIG1hcmtlcl82ZjUxMGYwYTU3Yzc0MTBiYTMzNzFmOTI5NzNkM2Y3Yi5iaW5kUG9wdXAocG9wdXBfNGU2Y2Q1NWJjZGI5NDU5YmFmMmZjYjQ5YTkzM2E2NWMpCiAgICAgICAgOwoKICAgICAgICAKICAgIAogICAgCiAgICAgICAgICAgIHZhciBtYXJrZXJfYzA4YWRjMjE0MzQ3NDM3ZWEwOTFmYWYxZDA3YWMzYTkgPSBMLm1hcmtlcigKICAgICAgICAgICAgICAgIFszNy43NzcwOTAyNzQzNjY5LCAtMTIyLjQyMTMzMjY4NDYzM10sCiAgICAgICAgICAgICAgICB7fQogICAgICAgICAgICApLmFkZFRvKG1hcmtlcl9jbHVzdGVyXzg4ZGI3MmRmZjEzZDQ2MWU4NmUyMWUzOWM5NDE2MjRjKTsKICAgICAgICAKICAgIAogICAgICAgIHZhciBwb3B1cF9lNzhjODFlNGViMGY0M2ViODFhODZhMjM2ZmI5MjZiYyA9IEwucG9wdXAoeyJtYXhXaWR0aCI6ICIxMDAlIn0pOwoKICAgICAgICAKICAgICAgICAgICAgdmFyIGh0bWxfODZiOGU0OWE2ZjA5NDU2NmI4MGQ1MTU1M2M4NjM2MGIgPSAkKGA8ZGl2IGlkPSJodG1sXzg2YjhlNDlhNmYwOTQ1NjZiODBkNTE1NTNjODYzNjBiIiBzdHlsZT0id2lkdGg6IDEwMC4wJTsgaGVpZ2h0OiAxMDAuMCU7Ij5NSVNTSU5HIFBFUlNPTjwvZGl2PmApWzBdOwogICAgICAgICAgICBwb3B1cF9lNzhjODFlNGViMGY0M2ViODFhODZhMjM2ZmI5MjZiYy5zZXRDb250ZW50KGh0bWxfODZiOGU0OWE2ZjA5NDU2NmI4MGQ1MTU1M2M4NjM2MGIpOwogICAgICAgIAoKICAgICAgICBtYXJrZXJfYzA4YWRjMjE0MzQ3NDM3ZWEwOTFmYWYxZDA3YWMzYTkuYmluZFBvcHVwKHBvcHVwX2U3OGM4MWU0ZWIwZjQzZWI4MWE4NmEyMzZmYjkyNmJjKQogICAgICAgIDsKCiAgICAgICAgCiAgICAKICAgIAogICAgICAgICAgICB2YXIgbWFya2VyXzcxZGU1Y2E3ODc4ODRiYjk4MDcwNWQ4NWQ3NzkwM2E3ID0gTC5tYXJrZXIoCiAgICAgICAgICAgICAgICBbMzcuNzc3MDkwMjc0MzY2OSwgLTEyMi40MjEzMzI2ODQ2MzNdLAogICAgICAgICAgICAgICAge30KICAgICAgICAgICAgKS5hZGRUbyhtYXJrZXJfY2x1c3Rlcl84OGRiNzJkZmYxM2Q0NjFlODZlMjFlMzljOTQxNjI0Yyk7CiAgICAgICAgCiAgICAKICAgICAgICB2YXIgcG9wdXBfMTRiMGM5MThiZjUyNGQwZjliM2FiNzU3YmMxNDE5NjMgPSBMLnBvcHVwKHsibWF4V2lkdGgiOiAiMTAwJSJ9KTsKCiAgICAgICAgCiAgICAgICAgICAgIHZhciBodG1sX2JhYzkwMjY0ZjhlYjRiYjliZjJjNDZiZDZkYTcxMzU5ID0gJChgPGRpdiBpZD0iaHRtbF9iYWM5MDI2NGY4ZWI0YmI5YmYyYzQ2YmQ2ZGE3MTM1OSIgc3R5bGU9IndpZHRoOiAxMDAuMCU7IGhlaWdodDogMTAwLjAlOyI+TUlTU0lORyBQRVJTT048L2Rpdj5gKVswXTsKICAgICAgICAgICAgcG9wdXBfMTRiMGM5MThiZjUyNGQwZjliM2FiNzU3YmMxNDE5NjMuc2V0Q29udGVudChodG1sX2JhYzkwMjY0ZjhlYjRiYjliZjJjNDZiZDZkYTcxMzU5KTsKICAgICAgICAKCiAgICAgICAgbWFya2VyXzcxZGU1Y2E3ODc4ODRiYjk4MDcwNWQ4NWQ3NzkwM2E3LmJpbmRQb3B1cChwb3B1cF8xNGIwYzkxOGJmNTI0ZDBmOWIzYWI3NTdiYzE0MTk2MykKICAgICAgICA7CgogICAgICAgIAogICAgCiAgICAKICAgICAgICAgICAgdmFyIG1hcmtlcl9hYTRkYjE1OGM5MWY0ZjAxOTc2NDZlNTVjMmJiY2ViNiA9IEwubWFya2VyKAogICAgICAgICAgICAgICAgWzM3Ljc4MjI0NTgyMjM5MTcsIC0xMjIuNDQ2NjEyOTc4ODM5XSwKICAgICAgICAgICAgICAgIHt9CiAgICAgICAgICAgICkuYWRkVG8obWFya2VyX2NsdXN0ZXJfODhkYjcyZGZmMTNkNDYxZTg2ZTIxZTM5Yzk0MTYyNGMpOwogICAgICAgIAogICAgCiAgICAgICAgdmFyIHBvcHVwX2Q1ZGIxN2E0YzNjNDRiZmZiOTBhMWFlNjJhYjZmZTgyID0gTC5wb3B1cCh7Im1heFdpZHRoIjogIjEwMCUifSk7CgogICAgICAgIAogICAgICAgICAgICB2YXIgaHRtbF9iZWI0MGIwN2RlMjA0ZDFmYTE1NjYxZTgxZDZmZGNmYiA9ICQoYDxkaXYgaWQ9Imh0bWxfYmViNDBiMDdkZTIwNGQxZmExNTY2MWU4MWQ2ZmRjZmIiIHN0eWxlPSJ3aWR0aDogMTAwLjAlOyBoZWlnaHQ6IDEwMC4wJTsiPldBUlJBTlRTPC9kaXY+YClbMF07CiAgICAgICAgICAgIHBvcHVwX2Q1ZGIxN2E0YzNjNDRiZmZiOTBhMWFlNjJhYjZmZTgyLnNldENvbnRlbnQoaHRtbF9iZWI0MGIwN2RlMjA0ZDFmYTE1NjYxZTgxZDZmZGNmYik7CiAgICAgICAgCgogICAgICAgIG1hcmtlcl9hYTRkYjE1OGM5MWY0ZjAxOTc2NDZlNTVjMmJiY2ViNi5iaW5kUG9wdXAocG9wdXBfZDVkYjE3YTRjM2M0NGJmZmI5MGExYWU2MmFiNmZlODIpCiAgICAgICAgOwoKICAgICAgICAKICAgIAogICAgCiAgICAgICAgICAgIHZhciBtYXJrZXJfYmNhMjljMmVkYTVlNDE1YThkNzg4N2NlMjE3OGYyZjYgPSBMLm1hcmtlcigKICAgICAgICAgICAgICAgIFszNy43MzAwMzc5OTk1MTI3OTUsIC0xMjIuNDA0NTk0MTQwNjM0XSwKICAgICAgICAgICAgICAgIHt9CiAgICAgICAgICAgICkuYWRkVG8obWFya2VyX2NsdXN0ZXJfODhkYjcyZGZmMTNkNDYxZTg2ZTIxZTM5Yzk0MTYyNGMpOwogICAgICAgIAogICAgCiAgICAgICAgdmFyIHBvcHVwX2VlM2ExZDFjZGNjNjQ2NjA4YTFkMzE3ZDgwMDBlZjczID0gTC5wb3B1cCh7Im1heFdpZHRoIjogIjEwMCUifSk7CgogICAgICAgIAogICAgICAgICAgICB2YXIgaHRtbF9jOWFjODNkYThiMmI0N2VmYmY5NmU3M2U2ZmRmNjIwZSA9ICQoYDxkaXYgaWQ9Imh0bWxfYzlhYzgzZGE4YjJiNDdlZmJmOTZlNzNlNmZkZjYyMGUiIHN0eWxlPSJ3aWR0aDogMTAwLjAlOyBoZWlnaHQ6IDEwMC4wJTsiPk5PTi1DUklNSU5BTDwvZGl2PmApWzBdOwogICAgICAgICAgICBwb3B1cF9lZTNhMWQxY2RjYzY0NjYwOGExZDMxN2Q4MDAwZWY3My5zZXRDb250ZW50KGh0bWxfYzlhYzgzZGE4YjJiNDdlZmJmOTZlNzNlNmZkZjYyMGUpOwogICAgICAgIAoKICAgICAgICBtYXJrZXJfYmNhMjljMmVkYTVlNDE1YThkNzg4N2NlMjE3OGYyZjYuYmluZFBvcHVwKHBvcHVwX2VlM2ExZDFjZGNjNjQ2NjA4YTFkMzE3ZDgwMDBlZjczKQogICAgICAgIDsKCiAgICAgICAgCiAgICAKICAgIAogICAgICAgICAgICB2YXIgbWFya2VyXzllMGRkZjgyNWJjMTRjNTliYWY1YjA0MWFiYjFkMjA3ID0gTC5tYXJrZXIoCiAgICAgICAgICAgICAgICBbMzcuNzk1MzMzODI2NzQzNiwgLTEyMi4zOTczNzM3NDAwNjZdLAogICAgICAgICAgICAgICAge30KICAgICAgICAgICAgKS5hZGRUbyhtYXJrZXJfY2x1c3Rlcl84OGRiNzJkZmYxM2Q0NjFlODZlMjFlMzljOTQxNjI0Yyk7CiAgICAgICAgCiAgICAKICAgICAgICB2YXIgcG9wdXBfYmYwZjE0NTlkOTllNDA5NmEyYjk5Nzg5M2JmNWQ1ZDAgPSBMLnBvcHVwKHsibWF4V2lkdGgiOiAiMTAwJSJ9KTsKCiAgICAgICAgCiAgICAgICAgICAgIHZhciBodG1sXzhlNzNhOTAyZjU1MjQwMTE4MWY2NzRhMjY2M2I2YTRkID0gJChgPGRpdiBpZD0iaHRtbF84ZTczYTkwMmY1NTI0MDExODFmNjc0YTI2NjNiNmE0ZCIgc3R5bGU9IndpZHRoOiAxMDAuMCU7IGhlaWdodDogMTAwLjAlOyI+Tk9OLUNSSU1JTkFMPC9kaXY+YClbMF07CiAgICAgICAgICAgIHBvcHVwX2JmMGYxNDU5ZDk5ZTQwOTZhMmI5OTc4OTNiZjVkNWQwLnNldENvbnRlbnQoaHRtbF84ZTczYTkwMmY1NTI0MDExODFmNjc0YTI2NjNiNmE0ZCk7CiAgICAgICAgCgogICAgICAgIG1hcmtlcl85ZTBkZGY4MjViYzE0YzU5YmFmNWIwNDFhYmIxZDIwNy5iaW5kUG9wdXAocG9wdXBfYmYwZjE0NTlkOTllNDA5NmEyYjk5Nzg5M2JmNWQ1ZDApCiAgICAgICAgOwoKICAgICAgICAKICAgIAogICAgCiAgICAgICAgICAgIHZhciBtYXJrZXJfMzU1YWRjMWEzMzgzNDNhZjhkOGM4ZjNkZmJmY2ZjMjggPSBMLm1hcmtlcigKICAgICAgICAgICAgICAgIFszNy43ODc1MTU4NzQxNjIyOTUsIC0xMjIuNDA3NDM0OTg5NTIzXSwKICAgICAgICAgICAgICAgIHt9CiAgICAgICAgICAgICkuYWRkVG8obWFya2VyX2NsdXN0ZXJfODhkYjcyZGZmMTNkNDYxZTg2ZTIxZTM5Yzk0MTYyNGMpOwogICAgICAgIAogICAgCiAgICAgICAgdmFyIHBvcHVwXzEwMzc4NjEzNmUzMzRkNTlhNDY3N2E4ZmZhMGY0YjZhID0gTC5wb3B1cCh7Im1heFdpZHRoIjogIjEwMCUifSk7CgogICAgICAgIAogICAgICAgICAgICB2YXIgaHRtbF80M2IyNjA1NDE1NjQ0ZmZjOWU1NDNiYjAwNjUwNjE2OSA9ICQoYDxkaXYgaWQ9Imh0bWxfNDNiMjYwNTQxNTY0NGZmYzllNTQzYmIwMDY1MDYxNjkiIHN0eWxlPSJ3aWR0aDogMTAwLjAlOyBoZWlnaHQ6IDEwMC4wJTsiPldBUlJBTlRTPC9kaXY+YClbMF07CiAgICAgICAgICAgIHBvcHVwXzEwMzc4NjEzNmUzMzRkNTlhNDY3N2E4ZmZhMGY0YjZhLnNldENvbnRlbnQoaHRtbF80M2IyNjA1NDE1NjQ0ZmZjOWU1NDNiYjAwNjUwNjE2OSk7CiAgICAgICAgCgogICAgICAgIG1hcmtlcl8zNTVhZGMxYTMzODM0M2FmOGQ4YzhmM2RmYmZjZmMyOC5iaW5kUG9wdXAocG9wdXBfMTAzNzg2MTM2ZTMzNGQ1OWE0Njc3YThmZmEwZjRiNmEpCiAgICAgICAgOwoKICAgICAgICAKICAgIAogICAgCiAgICAgICAgICAgIHZhciBtYXJrZXJfOTlmYTVhZDM1NmQ3NDgzYjlmN2RmYTU2MjNkNWZmNDggPSBMLm1hcmtlcigKICAgICAgICAgICAgICAgIFszNy43Nzg1MjMzNzc2MDMyLCAtMTIyLjQwMzQ2NDA4MDAzM10sCiAgICAgICAgICAgICAgICB7fQogICAgICAgICAgICApLmFkZFRvKG1hcmtlcl9jbHVzdGVyXzg4ZGI3MmRmZjEzZDQ2MWU4NmUyMWUzOWM5NDE2MjRjKTsKICAgICAgICAKICAgIAogICAgICAgIHZhciBwb3B1cF9kZWFhYTRmMmQzODk0NzRkYWYyZTNmNmNjMjMwYzNkNyA9IEwucG9wdXAoeyJtYXhXaWR0aCI6ICIxMDAlIn0pOwoKICAgICAgICAKICAgICAgICAgICAgdmFyIGh0bWxfNTVhZTg1MTE3ZWJlNDM3ZGIwMDA0MGQwNzJjYjFlYzcgPSAkKGA8ZGl2IGlkPSJodG1sXzU1YWU4NTExN2ViZTQzN2RiMDAwNDBkMDcyY2IxZWM3IiBzdHlsZT0id2lkdGg6IDEwMC4wJTsgaGVpZ2h0OiAxMDAuMCU7Ij5QUk9TVElUVVRJT048L2Rpdj5gKVswXTsKICAgICAgICAgICAgcG9wdXBfZGVhYWE0ZjJkMzg5NDc0ZGFmMmUzZjZjYzIzMGMzZDcuc2V0Q29udGVudChodG1sXzU1YWU4NTExN2ViZTQzN2RiMDAwNDBkMDcyY2IxZWM3KTsKICAgICAgICAKCiAgICAgICAgbWFya2VyXzk5ZmE1YWQzNTZkNzQ4M2I5ZjdkZmE1NjIzZDVmZjQ4LmJpbmRQb3B1cChwb3B1cF9kZWFhYTRmMmQzODk0NzRkYWYyZTNmNmNjMjMwYzNkNykKICAgICAgICA7CgogICAgICAgIAogICAgCiAgICAKICAgICAgICAgICAgdmFyIG1hcmtlcl9mZWJmZTRlNzk3MTg0ODg1YmQ4NjIxYzBmM2QyOWY3YiA9IEwubWFya2VyKAogICAgICAgICAgICAgICAgWzM3Ljc3ODUyMzM3NzYwMzIsIC0xMjIuNDAzNDY0MDgwMDMzXSwKICAgICAgICAgICAgICAgIHt9CiAgICAgICAgICAgICkuYWRkVG8obWFya2VyX2NsdXN0ZXJfODhkYjcyZGZmMTNkNDYxZTg2ZTIxZTM5Yzk0MTYyNGMpOwogICAgICAgIAogICAgCiAgICAgICAgdmFyIHBvcHVwXzY0MGZiNWQ2YmY0NjQwMGNiNjIxZDc1NDM5NjNmMWZjID0gTC5wb3B1cCh7Im1heFdpZHRoIjogIjEwMCUifSk7CgogICAgICAgIAogICAgICAgICAgICB2YXIgaHRtbF8wMmUxMDU4NDliZDk0Mzg1OTQ4MGNmMDAzMmFhZDM0NiA9ICQoYDxkaXYgaWQ9Imh0bWxfMDJlMTA1ODQ5YmQ5NDM4NTk0ODBjZjAwMzJhYWQzNDYiIHN0eWxlPSJ3aWR0aDogMTAwLjAlOyBoZWlnaHQ6IDEwMC4wJTsiPk9USEVSIE9GRkVOU0VTPC9kaXY+YClbMF07CiAgICAgICAgICAgIHBvcHVwXzY0MGZiNWQ2YmY0NjQwMGNiNjIxZDc1NDM5NjNmMWZjLnNldENvbnRlbnQoaHRtbF8wMmUxMDU4NDliZDk0Mzg1OTQ4MGNmMDAzMmFhZDM0Nik7CiAgICAgICAgCgogICAgICAgIG1hcmtlcl9mZWJmZTRlNzk3MTg0ODg1YmQ4NjIxYzBmM2QyOWY3Yi5iaW5kUG9wdXAocG9wdXBfNjQwZmI1ZDZiZjQ2NDAwY2I2MjFkNzU0Mzk2M2YxZmMpCiAgICAgICAgOwoKICAgICAgICAKICAgIAogICAgCiAgICAgICAgICAgIHZhciBtYXJrZXJfNzY0YjUyMTllOGQ3NGQwODk5ODQ4MmJmNTNjNjljMTQgPSBMLm1hcmtlcigKICAgICAgICAgICAgICAgIFszNy43NzMyOTE4MDY5MDI5OTYsIC0xMjIuNDM2NjE0MTgxMzMxMDFdLAogICAgICAgICAgICAgICAge30KICAgICAgICAgICAgKS5hZGRUbyhtYXJrZXJfY2x1c3Rlcl84OGRiNzJkZmYxM2Q0NjFlODZlMjFlMzljOTQxNjI0Yyk7CiAgICAgICAgCiAgICAKICAgICAgICB2YXIgcG9wdXBfMmQ3ZjEzZTM5YWIwNGYwM2FkODExY2Q4ZjI5NDJmMDIgPSBMLnBvcHVwKHsibWF4V2lkdGgiOiAiMTAwJSJ9KTsKCiAgICAgICAgCiAgICAgICAgICAgIHZhciBodG1sX2VkMmM5ZjFiY2ZhNzQ2MzA4ODg0NGQ4ZTdjMTI5NTY3ID0gJChgPGRpdiBpZD0iaHRtbF9lZDJjOWYxYmNmYTc0NjMwODg4NDRkOGU3YzEyOTU2NyIgc3R5bGU9IndpZHRoOiAxMDAuMCU7IGhlaWdodDogMTAwLjAlOyI+Tk9OLUNSSU1JTkFMPC9kaXY+YClbMF07CiAgICAgICAgICAgIHBvcHVwXzJkN2YxM2UzOWFiMDRmMDNhZDgxMWNkOGYyOTQyZjAyLnNldENvbnRlbnQoaHRtbF9lZDJjOWYxYmNmYTc0NjMwODg4NDRkOGU3YzEyOTU2Nyk7CiAgICAgICAgCgogICAgICAgIG1hcmtlcl83NjRiNTIxOWU4ZDc0ZDA4OTk4NDgyYmY1M2M2OWMxNC5iaW5kUG9wdXAocG9wdXBfMmQ3ZjEzZTM5YWIwNGYwM2FkODExY2Q4ZjI5NDJmMDIpCiAgICAgICAgOwoKICAgICAgICAKICAgIAogICAgCiAgICAgICAgICAgIHZhciBtYXJrZXJfMDM1YTk5ZGYzYzJmNGMzODkxNGQwOGFiOGExMDViMDAgPSBMLm1hcmtlcigKICAgICAgICAgICAgICAgIFszNy43ODA1Mjc1Nzg1MDksIC0xMjIuMzk2ODQ5MDE1MTcyMDFdLAogICAgICAgICAgICAgICAge30KICAgICAgICAgICAgKS5hZGRUbyhtYXJrZXJfY2x1c3Rlcl84OGRiNzJkZmYxM2Q0NjFlODZlMjFlMzljOTQxNjI0Yyk7CiAgICAgICAgCiAgICAKICAgICAgICB2YXIgcG9wdXBfMGZlZGIzYThkNzUzNDYxMzlmODFlNjNiYWU5ZTcwNmQgPSBMLnBvcHVwKHsibWF4V2lkdGgiOiAiMTAwJSJ9KTsKCiAgICAgICAgCiAgICAgICAgICAgIHZhciBodG1sXzgyODYxM2M4MzdhYTQwZWI5ZThhMjIwYzgwNjM0Mjc2ID0gJChgPGRpdiBpZD0iaHRtbF84Mjg2MTNjODM3YWE0MGViOWU4YTIyMGM4MDYzNDI3NiIgc3R5bGU9IndpZHRoOiAxMDAuMCU7IGhlaWdodDogMTAwLjAlOyI+RFJVRy9OQVJDT1RJQzwvZGl2PmApWzBdOwogICAgICAgICAgICBwb3B1cF8wZmVkYjNhOGQ3NTM0NjEzOWY4MWU2M2JhZTllNzA2ZC5zZXRDb250ZW50KGh0bWxfODI4NjEzYzgzN2FhNDBlYjllOGEyMjBjODA2MzQyNzYpOwogICAgICAgIAoKICAgICAgICBtYXJrZXJfMDM1YTk5ZGYzYzJmNGMzODkxNGQwOGFiOGExMDViMDAuYmluZFBvcHVwKHBvcHVwXzBmZWRiM2E4ZDc1MzQ2MTM5ZjgxZTYzYmFlOWU3MDZkKQogICAgICAgIDsKCiAgICAgICAgCiAgICAKICAgIAogICAgICAgICAgICB2YXIgbWFya2VyXzBlMmNjY2E2YjFhOTRiMGM5YmM2OWNmOGE2NTg1MDBkID0gTC5tYXJrZXIoCiAgICAgICAgICAgICAgICBbMzcuNzgwNTI3NTc4NTA5LCAtMTIyLjM5Njg0OTAxNTE3MjAxXSwKICAgICAgICAgICAgICAgIHt9CiAgICAgICAgICAgICkuYWRkVG8obWFya2VyX2NsdXN0ZXJfODhkYjcyZGZmMTNkNDYxZTg2ZTIxZTM5Yzk0MTYyNGMpOwogICAgICAgIAogICAgCiAgICAgICAgdmFyIHBvcHVwXzMzOTc5NmY5ZGJkNjRjMjRhZjdmOTE0NDYyODMxYTdkID0gTC5wb3B1cCh7Im1heFdpZHRoIjogIjEwMCUifSk7CgogICAgICAgIAogICAgICAgICAgICB2YXIgaHRtbF9hNTAzMGY3NzY4ODA0MmI3ODU0MDRjNzdlY2JhMGRlOCA9ICQoYDxkaXYgaWQ9Imh0bWxfYTUwMzBmNzc2ODgwNDJiNzg1NDA0Yzc3ZWNiYTBkZTgiIHN0eWxlPSJ3aWR0aDogMTAwLjAlOyBoZWlnaHQ6IDEwMC4wJTsiPldBUlJBTlRTPC9kaXY+YClbMF07CiAgICAgICAgICAgIHBvcHVwXzMzOTc5NmY5ZGJkNjRjMjRhZjdmOTE0NDYyODMxYTdkLnNldENvbnRlbnQoaHRtbF9hNTAzMGY3NzY4ODA0MmI3ODU0MDRjNzdlY2JhMGRlOCk7CiAgICAgICAgCgogICAgICAgIG1hcmtlcl8wZTJjY2NhNmIxYTk0YjBjOWJjNjljZjhhNjU4NTAwZC5iaW5kUG9wdXAocG9wdXBfMzM5Nzk2ZjlkYmQ2NGMyNGFmN2Y5MTQ0NjI4MzFhN2QpCiAgICAgICAgOwoKICAgICAgICAKICAgIAogICAgCiAgICAgICAgICAgIHZhciBtYXJrZXJfNjFkNzcwYWQwYTljNDZmMWI1ZTA5ZGEyMTljZDAwZjcgPSBMLm1hcmtlcigKICAgICAgICAgICAgICAgIFszNy43Mjg0MTgwNzA2NjAyMDQsIC0xMjIuNDUwMDAwNzkwNDQ1XSwKICAgICAgICAgICAgICAgIHt9CiAgICAgICAgICAgICkuYWRkVG8obWFya2VyX2NsdXN0ZXJfODhkYjcyZGZmMTNkNDYxZTg2ZTIxZTM5Yzk0MTYyNGMpOwogICAgICAgIAogICAgCiAgICAgICAgdmFyIHBvcHVwX2UzZmJkNmJmZTU2ZDRlOWI5MTc3MmZlMTRkOWU2MDhiID0gTC5wb3B1cCh7Im1heFdpZHRoIjogIjEwMCUifSk7CgogICAgICAgIAogICAgICAgICAgICB2YXIgaHRtbF9mMDJlZTQ5MTIzYzM0YjA0YjhmYWEyMDI4ZWQ0YTk4YiA9ICQoYDxkaXYgaWQ9Imh0bWxfZjAyZWU0OTEyM2MzNGIwNGI4ZmFhMjAyOGVkNGE5OGIiIHN0eWxlPSJ3aWR0aDogMTAwLjAlOyBoZWlnaHQ6IDEwMC4wJTsiPkxBUkNFTlkvVEhFRlQ8L2Rpdj5gKVswXTsKICAgICAgICAgICAgcG9wdXBfZTNmYmQ2YmZlNTZkNGU5YjkxNzcyZmUxNGQ5ZTYwOGIuc2V0Q29udGVudChodG1sX2YwMmVlNDkxMjNjMzRiMDRiOGZhYTIwMjhlZDRhOThiKTsKICAgICAgICAKCiAgICAgICAgbWFya2VyXzYxZDc3MGFkMGE5YzQ2ZjFiNWUwOWRhMjE5Y2QwMGY3LmJpbmRQb3B1cChwb3B1cF9lM2ZiZDZiZmU1NmQ0ZTliOTE3NzJmZTE0ZDllNjA4YikKICAgICAgICA7CgogICAgICAgIAogICAgCiAgICAKICAgICAgICAgICAgdmFyIG1hcmtlcl9lNDdkNDc4NGQ3NTQ0NDA2YTFmMDFlYmI3OGE0NTA4OCA9IEwubWFya2VyKAogICAgICAgICAgICAgICAgWzM3LjcyOTIxMTQ2NDczNTksIC0xMjIuNDAwODM0MjgzMDMxXSwKICAgICAgICAgICAgICAgIHt9CiAgICAgICAgICAgICkuYWRkVG8obWFya2VyX2NsdXN0ZXJfODhkYjcyZGZmMTNkNDYxZTg2ZTIxZTM5Yzk0MTYyNGMpOwogICAgICAgIAogICAgCiAgICAgICAgdmFyIHBvcHVwXzFhOWUzNzAyNjQxZjRkZmZiZTBlNWQwZTc3M2Q5YmZhID0gTC5wb3B1cCh7Im1heFdpZHRoIjogIjEwMCUifSk7CgogICAgICAgIAogICAgICAgICAgICB2YXIgaHRtbF81N2U5MTI2OTQxOWI0ZTE2YjFhMzgxZGY2ZDE4ODZmZCA9ICQoYDxkaXYgaWQ9Imh0bWxfNTdlOTEyNjk0MTliNGUxNmIxYTM4MWRmNmQxODg2ZmQiIHN0eWxlPSJ3aWR0aDogMTAwLjAlOyBoZWlnaHQ6IDEwMC4wJTsiPk9USEVSIE9GRkVOU0VTPC9kaXY+YClbMF07CiAgICAgICAgICAgIHBvcHVwXzFhOWUzNzAyNjQxZjRkZmZiZTBlNWQwZTc3M2Q5YmZhLnNldENvbnRlbnQoaHRtbF81N2U5MTI2OTQxOWI0ZTE2YjFhMzgxZGY2ZDE4ODZmZCk7CiAgICAgICAgCgogICAgICAgIG1hcmtlcl9lNDdkNDc4NGQ3NTQ0NDA2YTFmMDFlYmI3OGE0NTA4OC5iaW5kUG9wdXAocG9wdXBfMWE5ZTM3MDI2NDFmNGRmZmJlMGU1ZDBlNzczZDliZmEpCiAgICAgICAgOwoKICAgICAgICAKICAgIAogICAgCiAgICAgICAgICAgIHZhciBtYXJrZXJfMDJjZDk5Yzc4M2RiNGEyMDg0MDUzM2RiMGJjZmUzYTYgPSBMLm1hcmtlcigKICAgICAgICAgICAgICAgIFszNy43ODgwMDY1MzI0MzkyMDUsIC0xMjIuMzk5ODAyMTQ1Nzk5XSwKICAgICAgICAgICAgICAgIHt9CiAgICAgICAgICAgICkuYWRkVG8obWFya2VyX2NsdXN0ZXJfODhkYjcyZGZmMTNkNDYxZTg2ZTIxZTM5Yzk0MTYyNGMpOwogICAgICAgIAogICAgCiAgICAgICAgdmFyIHBvcHVwXzNhMGY4NThmMDM0NzQyMzY4YjE5MGU1ZDk4NTZmMTg4ID0gTC5wb3B1cCh7Im1heFdpZHRoIjogIjEwMCUifSk7CgogICAgICAgIAogICAgICAgICAgICB2YXIgaHRtbF9iMzJlOTZiZDNmODE0NDcwYmJjYmUxMGQyZjFhNTgzYSA9ICQoYDxkaXYgaWQ9Imh0bWxfYjMyZTk2YmQzZjgxNDQ3MGJiY2JlMTBkMmYxYTU4M2EiIHN0eWxlPSJ3aWR0aDogMTAwLjAlOyBoZWlnaHQ6IDEwMC4wJTsiPkxBUkNFTlkvVEhFRlQ8L2Rpdj5gKVswXTsKICAgICAgICAgICAgcG9wdXBfM2EwZjg1OGYwMzQ3NDIzNjhiMTkwZTVkOTg1NmYxODguc2V0Q29udGVudChodG1sX2IzMmU5NmJkM2Y4MTQ0NzBiYmNiZTEwZDJmMWE1ODNhKTsKICAgICAgICAKCiAgICAgICAgbWFya2VyXzAyY2Q5OWM3ODNkYjRhMjA4NDA1MzNkYjBiY2ZlM2E2LmJpbmRQb3B1cChwb3B1cF8zYTBmODU4ZjAzNDc0MjM2OGIxOTBlNWQ5ODU2ZjE4OCkKICAgICAgICA7CgogICAgICAgIAogICAgCiAgICAKICAgICAgICAgICAgdmFyIG1hcmtlcl9iMzBlODFmNDE1NTM0ZDA0OTNmMzgxN2NjMTU4YjMyMSA9IEwubWFya2VyKAogICAgICAgICAgICAgICAgWzM3LjcyMzk3NDgyNDE2MDksIC0xMjIuMzk0OTI4NDc1OF0sCiAgICAgICAgICAgICAgICB7fQogICAgICAgICAgICApLmFkZFRvKG1hcmtlcl9jbHVzdGVyXzg4ZGI3MmRmZjEzZDQ2MWU4NmUyMWUzOWM5NDE2MjRjKTsKICAgICAgICAKICAgIAogICAgICAgIHZhciBwb3B1cF9mZjdiZWRmZmE4ZDQ0Njk2YWQ4ZDBiYmJlMjA3NzRmZSA9IEwucG9wdXAoeyJtYXhXaWR0aCI6ICIxMDAlIn0pOwoKICAgICAgICAKICAgICAgICAgICAgdmFyIGh0bWxfYTU2ZDU4M2QxZWYxNDkzYzg2Njc3YmVlNzY0ZTA0MjIgPSAkKGA8ZGl2IGlkPSJodG1sX2E1NmQ1ODNkMWVmMTQ5M2M4NjY3N2JlZTc2NGUwNDIyIiBzdHlsZT0id2lkdGg6IDEwMC4wJTsgaGVpZ2h0OiAxMDAuMCU7Ij5TRUNPTkRBUlkgQ09ERVM8L2Rpdj5gKVswXTsKICAgICAgICAgICAgcG9wdXBfZmY3YmVkZmZhOGQ0NDY5NmFkOGQwYmJiZTIwNzc0ZmUuc2V0Q29udGVudChodG1sX2E1NmQ1ODNkMWVmMTQ5M2M4NjY3N2JlZTc2NGUwNDIyKTsKICAgICAgICAKCiAgICAgICAgbWFya2VyX2IzMGU4MWY0MTU1MzRkMDQ5M2YzODE3Y2MxNThiMzIxLmJpbmRQb3B1cChwb3B1cF9mZjdiZWRmZmE4ZDQ0Njk2YWQ4ZDBiYmJlMjA3NzRmZSkKICAgICAgICA7CgogICAgICAgIAogICAgCiAgICAKICAgICAgICAgICAgdmFyIG1hcmtlcl9jYmJjN2YxNDE1OTU0OGFhYmFlNmViNWEwZmM5MWEzZiA9IEwubWFya2VyKAogICAgICAgICAgICAgICAgWzM3LjcyMzk3NDgyNDE2MDksIC0xMjIuMzk0OTI4NDc1OF0sCiAgICAgICAgICAgICAgICB7fQogICAgICAgICAgICApLmFkZFRvKG1hcmtlcl9jbHVzdGVyXzg4ZGI3MmRmZjEzZDQ2MWU4NmUyMWUzOWM5NDE2MjRjKTsKICAgICAgICAKICAgIAogICAgICAgIHZhciBwb3B1cF8zMmU5YzIwOWZmNmM0OGRjOGZjMjNkMTdhNTM0M2YwMCA9IEwucG9wdXAoeyJtYXhXaWR0aCI6ICIxMDAlIn0pOwoKICAgICAgICAKICAgICAgICAgICAgdmFyIGh0bWxfZTA5NGQ1ZDdjMGMyNGY2Mjk3YzgyYzcyMGJlNmQwYWMgPSAkKGA8ZGl2IGlkPSJodG1sX2UwOTRkNWQ3YzBjMjRmNjI5N2M4MmM3MjBiZTZkMGFjIiBzdHlsZT0id2lkdGg6IDEwMC4wJTsgaGVpZ2h0OiAxMDAuMCU7Ij5TVVNQSUNJT1VTIE9DQzwvZGl2PmApWzBdOwogICAgICAgICAgICBwb3B1cF8zMmU5YzIwOWZmNmM0OGRjOGZjMjNkMTdhNTM0M2YwMC5zZXRDb250ZW50KGh0bWxfZTA5NGQ1ZDdjMGMyNGY2Mjk3YzgyYzcyMGJlNmQwYWMpOwogICAgICAgIAoKICAgICAgICBtYXJrZXJfY2JiYzdmMTQxNTk1NDhhYWJhZTZlYjVhMGZjOTFhM2YuYmluZFBvcHVwKHBvcHVwXzMyZTljMjA5ZmY2YzQ4ZGM4ZmMyM2QxN2E1MzQzZjAwKQogICAgICAgIDsKCiAgICAgICAgCiAgICAKICAgIAogICAgICAgICAgICB2YXIgbWFya2VyXzY2ODQ2MzE0ZThhYjRiODc4NDFmMjc0ZDUyODY1ZDBmID0gTC5tYXJrZXIoCiAgICAgICAgICAgICAgICBbMzcuNzIzOTc0ODI0MTYwOSwgLTEyMi4zOTQ5Mjg0NzU4XSwKICAgICAgICAgICAgICAgIHt9CiAgICAgICAgICAgICkuYWRkVG8obWFya2VyX2NsdXN0ZXJfODhkYjcyZGZmMTNkNDYxZTg2ZTIxZTM5Yzk0MTYyNGMpOwogICAgICAgIAogICAgCiAgICAgICAgdmFyIHBvcHVwXzY5ODZhMGE2ZmVmZDQ1MzVhMTc3MzhmMTZkZGRkYzQ1ID0gTC5wb3B1cCh7Im1heFdpZHRoIjogIjEwMCUifSk7CgogICAgICAgIAogICAgICAgICAgICB2YXIgaHRtbF8yMTdkMzc1MmNkMTY0ZjczYWM4NDNlMWZhODEyODlhOCA9ICQoYDxkaXYgaWQ9Imh0bWxfMjE3ZDM3NTJjZDE2NGY3M2FjODQzZTFmYTgxMjg5YTgiIHN0eWxlPSJ3aWR0aDogMTAwLjAlOyBoZWlnaHQ6IDEwMC4wJTsiPk9USEVSIE9GRkVOU0VTPC9kaXY+YClbMF07CiAgICAgICAgICAgIHBvcHVwXzY5ODZhMGE2ZmVmZDQ1MzVhMTc3MzhmMTZkZGRkYzQ1LnNldENvbnRlbnQoaHRtbF8yMTdkMzc1MmNkMTY0ZjczYWM4NDNlMWZhODEyODlhOCk7CiAgICAgICAgCgogICAgICAgIG1hcmtlcl82Njg0NjMxNGU4YWI0Yjg3ODQxZjI3NGQ1Mjg2NWQwZi5iaW5kUG9wdXAocG9wdXBfNjk4NmEwYTZmZWZkNDUzNWExNzczOGYxNmRkZGRjNDUpCiAgICAgICAgOwoKICAgICAgICAKICAgIAogICAgCiAgICAgICAgICAgIHZhciBtYXJrZXJfMTFiMTAwOGI5NzNhNDk5YmEzMDNlZGFjZDY4ZjM0YzQgPSBMLm1hcmtlcigKICAgICAgICAgICAgICAgIFszNy43ODgzMjM1NDQ5OTA0LCAtMTIyLjQxMTg1NzAzMjU0XSwKICAgICAgICAgICAgICAgIHt9CiAgICAgICAgICAgICkuYWRkVG8obWFya2VyX2NsdXN0ZXJfODhkYjcyZGZmMTNkNDYxZTg2ZTIxZTM5Yzk0MTYyNGMpOwogICAgICAgIAogICAgCiAgICAgICAgdmFyIHBvcHVwX2IwNTZmYzUzZGJmODQ5MGE5MDUzYTM3MzdlMWMwNzAwID0gTC5wb3B1cCh7Im1heFdpZHRoIjogIjEwMCUifSk7CgogICAgICAgIAogICAgICAgICAgICB2YXIgaHRtbF83MzNlZjIyZGYzZmQ0YjhjODVjZDY4YjJkZWQ3YTFkNCA9ICQoYDxkaXYgaWQ9Imh0bWxfNzMzZWYyMmRmM2ZkNGI4Yzg1Y2Q2OGIyZGVkN2ExZDQiIHN0eWxlPSJ3aWR0aDogMTAwLjAlOyBoZWlnaHQ6IDEwMC4wJTsiPkxBUkNFTlkvVEhFRlQ8L2Rpdj5gKVswXTsKICAgICAgICAgICAgcG9wdXBfYjA1NmZjNTNkYmY4NDkwYTkwNTNhMzczN2UxYzA3MDAuc2V0Q29udGVudChodG1sXzczM2VmMjJkZjNmZDRiOGM4NWNkNjhiMmRlZDdhMWQ0KTsKICAgICAgICAKCiAgICAgICAgbWFya2VyXzExYjEwMDhiOTczYTQ5OWJhMzAzZWRhY2Q2OGYzNGM0LmJpbmRQb3B1cChwb3B1cF9iMDU2ZmM1M2RiZjg0OTBhOTA1M2EzNzM3ZTFjMDcwMCkKICAgICAgICA7CgogICAgICAgIAogICAgCiAgICAKICAgICAgICAgICAgdmFyIG1hcmtlcl8wZjkxZmNiNjRkMzQ0MWZhYmY5MTk4NWVhODNjZjUyYiA9IEwubWFya2VyKAogICAgICAgICAgICAgICAgWzM3Ljc1NTk5NzczMzk4NTYsIC0xMjIuNDA5NDM1NjE3MTA2XSwKICAgICAgICAgICAgICAgIHt9CiAgICAgICAgICAgICkuYWRkVG8obWFya2VyX2NsdXN0ZXJfODhkYjcyZGZmMTNkNDYxZTg2ZTIxZTM5Yzk0MTYyNGMpOwogICAgICAgIAogICAgCiAgICAgICAgdmFyIHBvcHVwXzNjZjE1YTcwYzBkNjRiMGQ5ZGNjNDA4MDkzNTM4MmU0ID0gTC5wb3B1cCh7Im1heFdpZHRoIjogIjEwMCUifSk7CgogICAgICAgIAogICAgICAgICAgICB2YXIgaHRtbF8xOGY0NWEzYWZmY2I0ZjBlYmE4YmQ5OGJlMTFiMmQyZSA9ICQoYDxkaXYgaWQ9Imh0bWxfMThmNDVhM2FmZmNiNGYwZWJhOGJkOThiZTExYjJkMmUiIHN0eWxlPSJ3aWR0aDogMTAwLjAlOyBoZWlnaHQ6IDEwMC4wJTsiPk9USEVSIE9GRkVOU0VTPC9kaXY+YClbMF07CiAgICAgICAgICAgIHBvcHVwXzNjZjE1YTcwYzBkNjRiMGQ5ZGNjNDA4MDkzNTM4MmU0LnNldENvbnRlbnQoaHRtbF8xOGY0NWEzYWZmY2I0ZjBlYmE4YmQ5OGJlMTFiMmQyZSk7CiAgICAgICAgCgogICAgICAgIG1hcmtlcl8wZjkxZmNiNjRkMzQ0MWZhYmY5MTk4NWVhODNjZjUyYi5iaW5kUG9wdXAocG9wdXBfM2NmMTVhNzBjMGQ2NGIwZDlkY2M0MDgwOTM1MzgyZTQpCiAgICAgICAgOwoKICAgICAgICAKICAgIAogICAgCiAgICAgICAgICAgIHZhciBtYXJrZXJfMTIzMmU2ODY1Yzk1NDA1MWEyNDU0NWU2MmU0ZWJiNzYgPSBMLm1hcmtlcigKICAgICAgICAgICAgICAgIFszNy43ODcwNzk4MTQ0NDQzLCAtMTIyLjQyNTg4MzM1ODE0OF0sCiAgICAgICAgICAgICAgICB7fQogICAgICAgICAgICApLmFkZFRvKG1hcmtlcl9jbHVzdGVyXzg4ZGI3MmRmZjEzZDQ2MWU4NmUyMWUzOWM5NDE2MjRjKTsKICAgICAgICAKICAgIAogICAgICAgIHZhciBwb3B1cF9hNWNmZGZjMGVkMDE0MTlkYmVhODE0NzBhY2IwNDgxZSA9IEwucG9wdXAoeyJtYXhXaWR0aCI6ICIxMDAlIn0pOwoKICAgICAgICAKICAgICAgICAgICAgdmFyIGh0bWxfNjU3MzM4OTM1OTEyNGEyYWIzNmVlMzQ3Y2Y4MTM1OGEgPSAkKGA8ZGl2IGlkPSJodG1sXzY1NzMzODkzNTkxMjRhMmFiMzZlZTM0N2NmODEzNThhIiBzdHlsZT0id2lkdGg6IDEwMC4wJTsgaGVpZ2h0OiAxMDAuMCU7Ij5OT04tQ1JJTUlOQUw8L2Rpdj5gKVswXTsKICAgICAgICAgICAgcG9wdXBfYTVjZmRmYzBlZDAxNDE5ZGJlYTgxNDcwYWNiMDQ4MWUuc2V0Q29udGVudChodG1sXzY1NzMzODkzNTkxMjRhMmFiMzZlZTM0N2NmODEzNThhKTsKICAgICAgICAKCiAgICAgICAgbWFya2VyXzEyMzJlNjg2NWM5NTQwNTFhMjQ1NDVlNjJlNGViYjc2LmJpbmRQb3B1cChwb3B1cF9hNWNmZGZjMGVkMDE0MTlkYmVhODE0NzBhY2IwNDgxZSkKICAgICAgICA7CgogICAgICAgIAogICAgCiAgICAKICAgICAgICAgICAgdmFyIG1hcmtlcl9hM2Q2NGVjYjAyOTc0MTRmOWRjY2Y1ZTRkODNiMDNhYyA9IEwubWFya2VyKAogICAgICAgICAgICAgICAgWzM3LjczNjAzNzQ0NjY4NjIwNCwgLTEyMi40MTUxMjY1NDMwMDEwMV0sCiAgICAgICAgICAgICAgICB7fQogICAgICAgICAgICApLmFkZFRvKG1hcmtlcl9jbHVzdGVyXzg4ZGI3MmRmZjEzZDQ2MWU4NmUyMWUzOWM5NDE2MjRjKTsKICAgICAgICAKICAgIAogICAgICAgIHZhciBwb3B1cF9lNTM1YmFhMGZjOWU0ZmYzODRmMTVhMTNhMDIyNThmNiA9IEwucG9wdXAoeyJtYXhXaWR0aCI6ICIxMDAlIn0pOwoKICAgICAgICAKICAgICAgICAgICAgdmFyIGh0bWxfYmZlYmRkYzQzZmFlNGQxM2JkZDA0Y2VjNDk1ZjNkMGEgPSAkKGA8ZGl2IGlkPSJodG1sX2JmZWJkZGM0M2ZhZTRkMTNiZGQwNGNlYzQ5NWYzZDBhIiBzdHlsZT0id2lkdGg6IDEwMC4wJTsgaGVpZ2h0OiAxMDAuMCU7Ij5OT04tQ1JJTUlOQUw8L2Rpdj5gKVswXTsKICAgICAgICAgICAgcG9wdXBfZTUzNWJhYTBmYzllNGZmMzg0ZjE1YTEzYTAyMjU4ZjYuc2V0Q29udGVudChodG1sX2JmZWJkZGM0M2ZhZTRkMTNiZGQwNGNlYzQ5NWYzZDBhKTsKICAgICAgICAKCiAgICAgICAgbWFya2VyX2EzZDY0ZWNiMDI5NzQxNGY5ZGNjZjVlNGQ4M2IwM2FjLmJpbmRQb3B1cChwb3B1cF9lNTM1YmFhMGZjOWU0ZmYzODRmMTVhMTNhMDIyNThmNikKICAgICAgICA7CgogICAgICAgIAogICAgCiAgICAKICAgICAgICAgICAgdmFyIG1hcmtlcl80MDRkOGQxZTA1ZGY0MTBmOTYzYzVkZWRhZWNmYzU2MCA9IEwubWFya2VyKAogICAgICAgICAgICAgICAgWzM3LjcxMjc2Nzg4NDgyMSwgLTEyMi40MzE5MjgwMTEwODldLAogICAgICAgICAgICAgICAge30KICAgICAgICAgICAgKS5hZGRUbyhtYXJrZXJfY2x1c3Rlcl84OGRiNzJkZmYxM2Q0NjFlODZlMjFlMzljOTQxNjI0Yyk7CiAgICAgICAgCiAgICAKICAgICAgICB2YXIgcG9wdXBfNzRmNDcwZTRiOTk5NDBlZWIwZjQyMDZlMTgzOWMyNDggPSBMLnBvcHVwKHsibWF4V2lkdGgiOiAiMTAwJSJ9KTsKCiAgICAgICAgCiAgICAgICAgICAgIHZhciBodG1sXzU4NmEwMGQ1ZTA1ZjRlMjM5ZWQxMTM3MGNhMDAyZTAyID0gJChgPGRpdiBpZD0iaHRtbF81ODZhMDBkNWUwNWY0ZTIzOWVkMTEzNzBjYTAwMmUwMiIgc3R5bGU9IndpZHRoOiAxMDAuMCU7IGhlaWdodDogMTAwLjAlOyI+T1RIRVIgT0ZGRU5TRVM8L2Rpdj5gKVswXTsKICAgICAgICAgICAgcG9wdXBfNzRmNDcwZTRiOTk5NDBlZWIwZjQyMDZlMTgzOWMyNDguc2V0Q29udGVudChodG1sXzU4NmEwMGQ1ZTA1ZjRlMjM5ZWQxMTM3MGNhMDAyZTAyKTsKICAgICAgICAKCiAgICAgICAgbWFya2VyXzQwNGQ4ZDFlMDVkZjQxMGY5NjNjNWRlZGFlY2ZjNTYwLmJpbmRQb3B1cChwb3B1cF83NGY0NzBlNGI5OTk0MGVlYjBmNDIwNmUxODM5YzI0OCkKICAgICAgICA7CgogICAgICAgIAogICAgCiAgICAKICAgICAgICAgICAgdmFyIG1hcmtlcl8wZThkNGExZjFiMjE0Mzk1ODRlNWQ3ODY3NTkwNDgzOSA9IEwubWFya2VyKAogICAgICAgICAgICAgICAgWzM3Ljc4OTU3MTAyNTU4NjMsIC0xMjIuNDAyMTYzNzEzNjE4XSwKICAgICAgICAgICAgICAgIHt9CiAgICAgICAgICAgICkuYWRkVG8obWFya2VyX2NsdXN0ZXJfODhkYjcyZGZmMTNkNDYxZTg2ZTIxZTM5Yzk0MTYyNGMpOwogICAgICAgIAogICAgCiAgICAgICAgdmFyIHBvcHVwX2RmYjEyYjBiMjY1NjQ4NWRhYzAxMDdkNTY3NzE5MDJmID0gTC5wb3B1cCh7Im1heFdpZHRoIjogIjEwMCUifSk7CgogICAgICAgIAogICAgICAgICAgICB2YXIgaHRtbF85MzNmOTU5NTk2ZmY0YWUzOTU4NDY4OTdmNmZkMTA2YSA9ICQoYDxkaXYgaWQ9Imh0bWxfOTMzZjk1OTU5NmZmNGFlMzk1ODQ2ODk3ZjZmZDEwNmEiIHN0eWxlPSJ3aWR0aDogMTAwLjAlOyBoZWlnaHQ6IDEwMC4wJTsiPkRSVU5LRU5ORVNTPC9kaXY+YClbMF07CiAgICAgICAgICAgIHBvcHVwX2RmYjEyYjBiMjY1NjQ4NWRhYzAxMDdkNTY3NzE5MDJmLnNldENvbnRlbnQoaHRtbF85MzNmOTU5NTk2ZmY0YWUzOTU4NDY4OTdmNmZkMTA2YSk7CiAgICAgICAgCgogICAgICAgIG1hcmtlcl8wZThkNGExZjFiMjE0Mzk1ODRlNWQ3ODY3NTkwNDgzOS5iaW5kUG9wdXAocG9wdXBfZGZiMTJiMGIyNjU2NDg1ZGFjMDEwN2Q1Njc3MTkwMmYpCiAgICAgICAgOwoKICAgICAgICAKICAgIAogICAgCiAgICAgICAgICAgIHZhciBtYXJrZXJfM2UyMTM3ZjVmOTg2NDdmNGI0ZjJhZWQwYmJlZGNiY2IgPSBMLm1hcmtlcigKICAgICAgICAgICAgICAgIFszNy43MzA3NDI5MTY5NTU5LCAtMTIyLjQyOTMwNjcyODM3Nl0sCiAgICAgICAgICAgICAgICB7fQogICAgICAgICAgICApLmFkZFRvKG1hcmtlcl9jbHVzdGVyXzg4ZGI3MmRmZjEzZDQ2MWU4NmUyMWUzOWM5NDE2MjRjKTsKICAgICAgICAKICAgIAogICAgICAgIHZhciBwb3B1cF81M2E4NTlkM2E2M2I0OWE3YmI4YjdhOWIxYmEzOTFkMyA9IEwucG9wdXAoeyJtYXhXaWR0aCI6ICIxMDAlIn0pOwoKICAgICAgICAKICAgICAgICAgICAgdmFyIGh0bWxfYWZhNjZiMDA2OTU4NGE5NmE2NGNiODIwODBhNTIwNTAgPSAkKGA8ZGl2IGlkPSJodG1sX2FmYTY2YjAwNjk1ODRhOTZhNjRjYjgyMDgwYTUyMDUwIiBzdHlsZT0id2lkdGg6IDEwMC4wJTsgaGVpZ2h0OiAxMDAuMCU7Ij5PVEhFUiBPRkZFTlNFUzwvZGl2PmApWzBdOwogICAgICAgICAgICBwb3B1cF81M2E4NTlkM2E2M2I0OWE3YmI4YjdhOWIxYmEzOTFkMy5zZXRDb250ZW50KGh0bWxfYWZhNjZiMDA2OTU4NGE5NmE2NGNiODIwODBhNTIwNTApOwogICAgICAgIAoKICAgICAgICBtYXJrZXJfM2UyMTM3ZjVmOTg2NDdmNGI0ZjJhZWQwYmJlZGNiY2IuYmluZFBvcHVwKHBvcHVwXzUzYTg1OWQzYTYzYjQ5YTdiYjhiN2E5YjFiYTM5MWQzKQogICAgICAgIDsKCiAgICAgICAgCiAgICAKICAgIAogICAgICAgICAgICB2YXIgbWFya2VyXzE1NTBjMWI0ZjIzODQ3MTQ5ZWE4ZGVjN2Y3MDA2YjQ1ID0gTC5tYXJrZXIoCiAgICAgICAgICAgICAgICBbMzcuNzgzODM2NTU2NTM0Nzk0LCAtMTIyLjQxMzc5MDk3Mjc4MDk5XSwKICAgICAgICAgICAgICAgIHt9CiAgICAgICAgICAgICkuYWRkVG8obWFya2VyX2NsdXN0ZXJfODhkYjcyZGZmMTNkNDYxZTg2ZTIxZTM5Yzk0MTYyNGMpOwogICAgICAgIAogICAgCiAgICAgICAgdmFyIHBvcHVwX2M0M2U3NTc5ODU2YjQzOTNhMzAwZGMyZWRiY2YwMTRhID0gTC5wb3B1cCh7Im1heFdpZHRoIjogIjEwMCUifSk7CgogICAgICAgIAogICAgICAgICAgICB2YXIgaHRtbF82OTViZDE1NDJlNWI0OGMzOWI5OWM5ZmZlOTNmNzNjOSA9ICQoYDxkaXYgaWQ9Imh0bWxfNjk1YmQxNTQyZTViNDhjMzliOTljOWZmZTkzZjczYzkiIHN0eWxlPSJ3aWR0aDogMTAwLjAlOyBoZWlnaHQ6IDEwMC4wJTsiPlZBTkRBTElTTTwvZGl2PmApWzBdOwogICAgICAgICAgICBwb3B1cF9jNDNlNzU3OTg1NmI0MzkzYTMwMGRjMmVkYmNmMDE0YS5zZXRDb250ZW50KGh0bWxfNjk1YmQxNTQyZTViNDhjMzliOTljOWZmZTkzZjczYzkpOwogICAgICAgIAoKICAgICAgICBtYXJrZXJfMTU1MGMxYjRmMjM4NDcxNDllYThkZWM3ZjcwMDZiNDUuYmluZFBvcHVwKHBvcHVwX2M0M2U3NTc5ODU2YjQzOTNhMzAwZGMyZWRiY2YwMTRhKQogICAgICAgIDsKCiAgICAgICAgCiAgICAKICAgIAogICAgICAgICAgICB2YXIgbWFya2VyXzYyMWZhZDNiNTQ3MzRjMWY5ZjA2NWRjNTVjMjg0ODYyID0gTC5tYXJrZXIoCiAgICAgICAgICAgICAgICBbMzcuNzMwNzQyOTE2OTU1OSwgLTEyMi40MjkzMDY3MjgzNzZdLAogICAgICAgICAgICAgICAge30KICAgICAgICAgICAgKS5hZGRUbyhtYXJrZXJfY2x1c3Rlcl84OGRiNzJkZmYxM2Q0NjFlODZlMjFlMzljOTQxNjI0Yyk7CiAgICAgICAgCiAgICAKICAgICAgICB2YXIgcG9wdXBfYzA5MjVjMjZiNzk4NDBhYzk5NTljOTMxYzMxM2RlOTEgPSBMLnBvcHVwKHsibWF4V2lkdGgiOiAiMTAwJSJ9KTsKCiAgICAgICAgCiAgICAgICAgICAgIHZhciBodG1sX2YxM2UyZGQxMDkwMzRmZWViYzdkNzFmNjI4MDg4ZmI2ID0gJChgPGRpdiBpZD0iaHRtbF9mMTNlMmRkMTA5MDM0ZmVlYmM3ZDcxZjYyODA4OGZiNiIgc3R5bGU9IndpZHRoOiAxMDAuMCU7IGhlaWdodDogMTAwLjAlOyI+T1RIRVIgT0ZGRU5TRVM8L2Rpdj5gKVswXTsKICAgICAgICAgICAgcG9wdXBfYzA5MjVjMjZiNzk4NDBhYzk5NTljOTMxYzMxM2RlOTEuc2V0Q29udGVudChodG1sX2YxM2UyZGQxMDkwMzRmZWViYzdkNzFmNjI4MDg4ZmI2KTsKICAgICAgICAKCiAgICAgICAgbWFya2VyXzYyMWZhZDNiNTQ3MzRjMWY5ZjA2NWRjNTVjMjg0ODYyLmJpbmRQb3B1cChwb3B1cF9jMDkyNWMyNmI3OTg0MGFjOTk1OWM5MzFjMzEzZGU5MSkKICAgICAgICA7CgogICAgICAgIAogICAgCiAgICAKICAgICAgICAgICAgdmFyIG1hcmtlcl81MmJmNzFkNDEyMDk0MGZkOGM4YzFhMDYzYWE2YzBkMCA9IEwubWFya2VyKAogICAgICAgICAgICAgICAgWzM3LjczNzM2MjM2MDUyMTI5NiwgLTEyMi40MjIwNjcxODQ5MzddLAogICAgICAgICAgICAgICAge30KICAgICAgICAgICAgKS5hZGRUbyhtYXJrZXJfY2x1c3Rlcl84OGRiNzJkZmYxM2Q0NjFlODZlMjFlMzljOTQxNjI0Yyk7CiAgICAgICAgCiAgICAKICAgICAgICB2YXIgcG9wdXBfOTI5OTFlYjVjNjM0NGE5OThjMjIwNGZlNjk3ZTAxYzMgPSBMLnBvcHVwKHsibWF4V2lkdGgiOiAiMTAwJSJ9KTsKCiAgICAgICAgCiAgICAgICAgICAgIHZhciBodG1sXzZiYTMxNTM2NjhlNDQzOGY5MDE0YjU2MTQ2Nzc0YTQzID0gJChgPGRpdiBpZD0iaHRtbF82YmEzMTUzNjY4ZTQ0MzhmOTAxNGI1NjE0Njc3NGE0MyIgc3R5bGU9IndpZHRoOiAxMDAuMCU7IGhlaWdodDogMTAwLjAlOyI+U0VDT05EQVJZIENPREVTPC9kaXY+YClbMF07CiAgICAgICAgICAgIHBvcHVwXzkyOTkxZWI1YzYzNDRhOTk4YzIyMDRmZTY5N2UwMWMzLnNldENvbnRlbnQoaHRtbF82YmEzMTUzNjY4ZTQ0MzhmOTAxNGI1NjE0Njc3NGE0Myk7CiAgICAgICAgCgogICAgICAgIG1hcmtlcl81MmJmNzFkNDEyMDk0MGZkOGM4YzFhMDYzYWE2YzBkMC5iaW5kUG9wdXAocG9wdXBfOTI5OTFlYjVjNjM0NGE5OThjMjIwNGZlNjk3ZTAxYzMpCiAgICAgICAgOwoKICAgICAgICAKICAgIAogICAgCiAgICAgICAgICAgIHZhciBtYXJrZXJfOWM0NWE4N2VlYjJjNDg3Y2E3ODhlNzRmNTY1ZjcyYjcgPSBMLm1hcmtlcigKICAgICAgICAgICAgICAgIFszNy43MzczNjIzNjA1MjEyOTYsIC0xMjIuNDIyMDY3MTg0OTM3XSwKICAgICAgICAgICAgICAgIHt9CiAgICAgICAgICAgICkuYWRkVG8obWFya2VyX2NsdXN0ZXJfODhkYjcyZGZmMTNkNDYxZTg2ZTIxZTM5Yzk0MTYyNGMpOwogICAgICAgIAogICAgCiAgICAgICAgdmFyIHBvcHVwXzk3Y2IzMjIzMjJkMjQ3ZDg4NTYyMTZjNTUzZGM0NzEwID0gTC5wb3B1cCh7Im1heFdpZHRoIjogIjEwMCUifSk7CgogICAgICAgIAogICAgICAgICAgICB2YXIgaHRtbF9iOGUwMWVmMGMxZTk0YjlmODJmNTNlYmY1OTNmYTVkYyA9ICQoYDxkaXYgaWQ9Imh0bWxfYjhlMDFlZjBjMWU5NGI5ZjgyZjUzZWJmNTkzZmE1ZGMiIHN0eWxlPSJ3aWR0aDogMTAwLjAlOyBoZWlnaHQ6IDEwMC4wJTsiPlZBTkRBTElTTTwvZGl2PmApWzBdOwogICAgICAgICAgICBwb3B1cF85N2NiMzIyMzIyZDI0N2Q4ODU2MjE2YzU1M2RjNDcxMC5zZXRDb250ZW50KGh0bWxfYjhlMDFlZjBjMWU5NGI5ZjgyZjUzZWJmNTkzZmE1ZGMpOwogICAgICAgIAoKICAgICAgICBtYXJrZXJfOWM0NWE4N2VlYjJjNDg3Y2E3ODhlNzRmNTY1ZjcyYjcuYmluZFBvcHVwKHBvcHVwXzk3Y2IzMjIzMjJkMjQ3ZDg4NTYyMTZjNTUzZGM0NzEwKQogICAgICAgIDsKCiAgICAgICAgCiAgICAKICAgIAogICAgICAgICAgICB2YXIgbWFya2VyX2IzMTNiNWYxYTM1ZTRlMGU4NWJiMGQwYTU1MmY2YmYzID0gTC5tYXJrZXIoCiAgICAgICAgICAgICAgICBbMzcuNzg1OTk4ODMyMzc5Nzk2LCAtMTIyLjQxMTc0NzM3MTkyNF0sCiAgICAgICAgICAgICAgICB7fQogICAgICAgICAgICApLmFkZFRvKG1hcmtlcl9jbHVzdGVyXzg4ZGI3MmRmZjEzZDQ2MWU4NmUyMWUzOWM5NDE2MjRjKTsKICAgICAgICAKICAgIAogICAgICAgIHZhciBwb3B1cF9kZDcwNDZlMmE0Mjg0MzU0OWU3Y2FhNWQ0Y2M2ZWI1ZiA9IEwucG9wdXAoeyJtYXhXaWR0aCI6ICIxMDAlIn0pOwoKICAgICAgICAKICAgICAgICAgICAgdmFyIGh0bWxfMTcyYTkxZjBhOTJjNDQ0ODhkYmJhYmY2NzM5ZTIzMmYgPSAkKGA8ZGl2IGlkPSJodG1sXzE3MmE5MWYwYTkyYzQ0NDg4ZGJiYWJmNjczOWUyMzJmIiBzdHlsZT0id2lkdGg6IDEwMC4wJTsgaGVpZ2h0OiAxMDAuMCU7Ij5TVVNQSUNJT1VTIE9DQzwvZGl2PmApWzBdOwogICAgICAgICAgICBwb3B1cF9kZDcwNDZlMmE0Mjg0MzU0OWU3Y2FhNWQ0Y2M2ZWI1Zi5zZXRDb250ZW50KGh0bWxfMTcyYTkxZjBhOTJjNDQ0ODhkYmJhYmY2NzM5ZTIzMmYpOwogICAgICAgIAoKICAgICAgICBtYXJrZXJfYjMxM2I1ZjFhMzVlNGUwZTg1YmIwZDBhNTUyZjZiZjMuYmluZFBvcHVwKHBvcHVwX2RkNzA0NmUyYTQyODQzNTQ5ZTdjYWE1ZDRjYzZlYjVmKQogICAgICAgIDsKCiAgICAgICAgCiAgICAKICAgIAogICAgICAgICAgICB2YXIgbWFya2VyXzA1YTU0ZWVjZjY2MjQwYTRhMjBiMjNlZjNhZjQ2MWY5ID0gTC5tYXJrZXIoCiAgICAgICAgICAgICAgICBbMzcuNzYzMzc1ODA1ODA1OSwgLTEyMi40MjA0MzQ3MjQ1NTI5OV0sCiAgICAgICAgICAgICAgICB7fQogICAgICAgICAgICApLmFkZFRvKG1hcmtlcl9jbHVzdGVyXzg4ZGI3MmRmZjEzZDQ2MWU4NmUyMWUzOWM5NDE2MjRjKTsKICAgICAgICAKICAgIAogICAgICAgIHZhciBwb3B1cF9lNDJiNWM0Y2QyMWI0YTBhYWJjZjFkM2Y5ZjRiODc1NiA9IEwucG9wdXAoeyJtYXhXaWR0aCI6ICIxMDAlIn0pOwoKICAgICAgICAKICAgICAgICAgICAgdmFyIGh0bWxfNTllNDEzYzFiMDM3NGU0MTlhY2JjMGQ2Zjk3MzBhNGQgPSAkKGA8ZGl2IGlkPSJodG1sXzU5ZTQxM2MxYjAzNzRlNDE5YWNiYzBkNmY5NzMwYTRkIiBzdHlsZT0id2lkdGg6IDEwMC4wJTsgaGVpZ2h0OiAxMDAuMCU7Ij5PVEhFUiBPRkZFTlNFUzwvZGl2PmApWzBdOwogICAgICAgICAgICBwb3B1cF9lNDJiNWM0Y2QyMWI0YTBhYWJjZjFkM2Y5ZjRiODc1Ni5zZXRDb250ZW50KGh0bWxfNTllNDEzYzFiMDM3NGU0MTlhY2JjMGQ2Zjk3MzBhNGQpOwogICAgICAgIAoKICAgICAgICBtYXJrZXJfMDVhNTRlZWNmNjYyNDBhNGEyMGIyM2VmM2FmNDYxZjkuYmluZFBvcHVwKHBvcHVwX2U0MmI1YzRjZDIxYjRhMGFhYmNmMWQzZjlmNGI4NzU2KQogICAgICAgIDsKCiAgICAgICAgCiAgICAKICAgIAogICAgICAgICAgICB2YXIgbWFya2VyXzdmMGM2NThmOTUzMDQ0ZWFiNzRhNmRlMGIzY2Y3YzgzID0gTC5tYXJrZXIoCiAgICAgICAgICAgICAgICBbMzcuNzg1MDIyNjYyMjc4NiwgLTEyMi40MTE5ODc2NDM1OTUwMV0sCiAgICAgICAgICAgICAgICB7fQogICAgICAgICAgICApLmFkZFRvKG1hcmtlcl9jbHVzdGVyXzg4ZGI3MmRmZjEzZDQ2MWU4NmUyMWUzOWM5NDE2MjRjKTsKICAgICAgICAKICAgIAogICAgICAgIHZhciBwb3B1cF9lOThiY2Q3ZGJjMDc0OGIyYjE0MjQ2YTVmOTRlMmVlYSA9IEwucG9wdXAoeyJtYXhXaWR0aCI6ICIxMDAlIn0pOwoKICAgICAgICAKICAgICAgICAgICAgdmFyIGh0bWxfZjEwNDRkYWQ3NTcxNDU5NTgxZWI2OThkY2I3MGFjNWYgPSAkKGA8ZGl2IGlkPSJodG1sX2YxMDQ0ZGFkNzU3MTQ1OTU4MWViNjk4ZGNiNzBhYzVmIiBzdHlsZT0id2lkdGg6IDEwMC4wJTsgaGVpZ2h0OiAxMDAuMCU7Ij5OT04tQ1JJTUlOQUw8L2Rpdj5gKVswXTsKICAgICAgICAgICAgcG9wdXBfZTk4YmNkN2RiYzA3NDhiMmIxNDI0NmE1Zjk0ZTJlZWEuc2V0Q29udGVudChodG1sX2YxMDQ0ZGFkNzU3MTQ1OTU4MWViNjk4ZGNiNzBhYzVmKTsKICAgICAgICAKCiAgICAgICAgbWFya2VyXzdmMGM2NThmOTUzMDQ0ZWFiNzRhNmRlMGIzY2Y3YzgzLmJpbmRQb3B1cChwb3B1cF9lOThiY2Q3ZGJjMDc0OGIyYjE0MjQ2YTVmOTRlMmVlYSkKICAgICAgICA7CgogICAgICAgIAogICAgCiAgICAKICAgICAgICAgICAgdmFyIG1hcmtlcl9iOGNlN2VhZmJjOTU0NDkxOWQ0ZTY1NDBjZTM4YmM4OCA9IEwubWFya2VyKAogICAgICAgICAgICAgICAgWzM3Ljc3NDYyMDY0OTEwNjQ5NSwgLTEyMi41MDAzODA0Mjc5MTVdLAogICAgICAgICAgICAgICAge30KICAgICAgICAgICAgKS5hZGRUbyhtYXJrZXJfY2x1c3Rlcl84OGRiNzJkZmYxM2Q0NjFlODZlMjFlMzljOTQxNjI0Yyk7CiAgICAgICAgCiAgICAKICAgICAgICB2YXIgcG9wdXBfNTNmZDY5OGY1YjlhNGI1ODgwMmRmMmZmZWNhYTk0NGQgPSBMLnBvcHVwKHsibWF4V2lkdGgiOiAiMTAwJSJ9KTsKCiAgICAgICAgCiAgICAgICAgICAgIHZhciBodG1sX2I4NTI0YjY2OTE0MDQxODhhMzQxOTkzZDhmYjk2NTk0ID0gJChgPGRpdiBpZD0iaHRtbF9iODUyNGI2NjkxNDA0MTg4YTM0MTk5M2Q4ZmI5NjU5NCIgc3R5bGU9IndpZHRoOiAxMDAuMCU7IGhlaWdodDogMTAwLjAlOyI+T1RIRVIgT0ZGRU5TRVM8L2Rpdj5gKVswXTsKICAgICAgICAgICAgcG9wdXBfNTNmZDY5OGY1YjlhNGI1ODgwMmRmMmZmZWNhYTk0NGQuc2V0Q29udGVudChodG1sX2I4NTI0YjY2OTE0MDQxODhhMzQxOTkzZDhmYjk2NTk0KTsKICAgICAgICAKCiAgICAgICAgbWFya2VyX2I4Y2U3ZWFmYmM5NTQ0OTE5ZDRlNjU0MGNlMzhiYzg4LmJpbmRQb3B1cChwb3B1cF81M2ZkNjk4ZjViOWE0YjU4ODAyZGYyZmZlY2FhOTQ0ZCkKICAgICAgICA7CgogICAgICAgIAogICAgCiAgICAKICAgICAgICAgICAgdmFyIG1hcmtlcl9mOTBmMDFjYzEzZGM0NDVmOGYwMWQxM2NjZTJlNjYwNyA9IEwubWFya2VyKAogICAgICAgICAgICAgICAgWzM3Ljc3NTE5MTgyNjcyMTcsIC0xMjIuNDY2NTU4NzgwNjgzXSwKICAgICAgICAgICAgICAgIHt9CiAgICAgICAgICAgICkuYWRkVG8obWFya2VyX2NsdXN0ZXJfODhkYjcyZGZmMTNkNDYxZTg2ZTIxZTM5Yzk0MTYyNGMpOwogICAgICAgIAogICAgCiAgICAgICAgdmFyIHBvcHVwX2ZhN2Y0M2ZiYjEwZTRiOGE4NmIyZGE4NjFkYzliOTRkID0gTC5wb3B1cCh7Im1heFdpZHRoIjogIjEwMCUifSk7CgogICAgICAgIAogICAgICAgICAgICB2YXIgaHRtbF9kMWMzZmQ3ZjEzY2M0MzFjYmRmMWNiMjY4ZDM5MmJkNCA9ICQoYDxkaXYgaWQ9Imh0bWxfZDFjM2ZkN2YxM2NjNDMxY2JkZjFjYjI2OGQzOTJiZDQiIHN0eWxlPSJ3aWR0aDogMTAwLjAlOyBoZWlnaHQ6IDEwMC4wJTsiPlJPQkJFUlk8L2Rpdj5gKVswXTsKICAgICAgICAgICAgcG9wdXBfZmE3ZjQzZmJiMTBlNGI4YTg2YjJkYTg2MWRjOWI5NGQuc2V0Q29udGVudChodG1sX2QxYzNmZDdmMTNjYzQzMWNiZGYxY2IyNjhkMzkyYmQ0KTsKICAgICAgICAKCiAgICAgICAgbWFya2VyX2Y5MGYwMWNjMTNkYzQ0NWY4ZjAxZDEzY2NlMmU2NjA3LmJpbmRQb3B1cChwb3B1cF9mYTdmNDNmYmIxMGU0YjhhODZiMmRhODYxZGM5Yjk0ZCkKICAgICAgICA7CgogICAgICAgIAogICAgCiAgICAKICAgICAgICAgICAgdmFyIG1hcmtlcl9hY2MyNDYyYTIwOTU0NWQ3OTk5NzVkMmQ5MWQ0Nzc3OSA9IEwubWFya2VyKAogICAgICAgICAgICAgICAgWzM3Ljc0OTA4NDE3MjkwMjgsIC0xMjIuNDg2OTI1OTYwMTE0MDFdLAogICAgICAgICAgICAgICAge30KICAgICAgICAgICAgKS5hZGRUbyhtYXJrZXJfY2x1c3Rlcl84OGRiNzJkZmYxM2Q0NjFlODZlMjFlMzljOTQxNjI0Yyk7CiAgICAgICAgCiAgICAKICAgICAgICB2YXIgcG9wdXBfZWIzNmRmOWJmMTUwNDIxMGI0ZWRlYTk2OWY4OWEzNDQgPSBMLnBvcHVwKHsibWF4V2lkdGgiOiAiMTAwJSJ9KTsKCiAgICAgICAgCiAgICAgICAgICAgIHZhciBodG1sX2Q4NTgxZjRjZmE4YzQ2MDM4M2NkNTM4Yjc0MTk4NjdmID0gJChgPGRpdiBpZD0iaHRtbF9kODU4MWY0Y2ZhOGM0NjAzODNjZDUzOGI3NDE5ODY3ZiIgc3R5bGU9IndpZHRoOiAxMDAuMCU7IGhlaWdodDogMTAwLjAlOyI+T1RIRVIgT0ZGRU5TRVM8L2Rpdj5gKVswXTsKICAgICAgICAgICAgcG9wdXBfZWIzNmRmOWJmMTUwNDIxMGI0ZWRlYTk2OWY4OWEzNDQuc2V0Q29udGVudChodG1sX2Q4NTgxZjRjZmE4YzQ2MDM4M2NkNTM4Yjc0MTk4NjdmKTsKICAgICAgICAKCiAgICAgICAgbWFya2VyX2FjYzI0NjJhMjA5NTQ1ZDc5OTk3NWQyZDkxZDQ3Nzc5LmJpbmRQb3B1cChwb3B1cF9lYjM2ZGY5YmYxNTA0MjEwYjRlZGVhOTY5Zjg5YTM0NCkKICAgICAgICA7CgogICAgICAgIAogICAgCiAgICAKICAgICAgICAgICAgdmFyIG1hcmtlcl9mN2I2NDM2ODZlMDA0NWJkYTI2MThiYjg1NjJkZGFkYSA9IEwubWFya2VyKAogICAgICAgICAgICAgICAgWzM3Ljc2ODUzNjAxMjM1ODMsIC0xMjIuNDE1NjE2MzM4MzE5OTldLAogICAgICAgICAgICAgICAge30KICAgICAgICAgICAgKS5hZGRUbyhtYXJrZXJfY2x1c3Rlcl84OGRiNzJkZmYxM2Q0NjFlODZlMjFlMzljOTQxNjI0Yyk7CiAgICAgICAgCiAgICAKICAgICAgICB2YXIgcG9wdXBfMDMyYzhlN2U0MDcwNDBhMWIxOTljZWJiNTFjMGM3NTEgPSBMLnBvcHVwKHsibWF4V2lkdGgiOiAiMTAwJSJ9KTsKCiAgICAgICAgCiAgICAgICAgICAgIHZhciBodG1sXzEyYTFlZGEwZjYxYjQzOWZhYjA1ZjZjOWRjZTU4NmY5ID0gJChgPGRpdiBpZD0iaHRtbF8xMmExZWRhMGY2MWI0MzlmYWIwNWY2YzlkY2U1ODZmOSIgc3R5bGU9IndpZHRoOiAxMDAuMCU7IGhlaWdodDogMTAwLjAlOyI+Tk9OLUNSSU1JTkFMPC9kaXY+YClbMF07CiAgICAgICAgICAgIHBvcHVwXzAzMmM4ZTdlNDA3MDQwYTFiMTk5Y2ViYjUxYzBjNzUxLnNldENvbnRlbnQoaHRtbF8xMmExZWRhMGY2MWI0MzlmYWIwNWY2YzlkY2U1ODZmOSk7CiAgICAgICAgCgogICAgICAgIG1hcmtlcl9mN2I2NDM2ODZlMDA0NWJkYTI2MThiYjg1NjJkZGFkYS5iaW5kUG9wdXAocG9wdXBfMDMyYzhlN2U0MDcwNDBhMWIxOTljZWJiNTFjMGM3NTEpCiAgICAgICAgOwoKICAgICAgICAKICAgIAogICAgCiAgICAgICAgICAgIHZhciBtYXJrZXJfYmNiMzY3NTk1NGE4NGM3MmIyNTk0Yzk2MjU5ZDEwZWMgPSBMLm1hcmtlcigKICAgICAgICAgICAgICAgIFszNy43NjQ0Mjk3NzE0MDc0LCAtMTIyLjQ0OTc1MTY1MjU2M10sCiAgICAgICAgICAgICAgICB7fQogICAgICAgICAgICApLmFkZFRvKG1hcmtlcl9jbHVzdGVyXzg4ZGI3MmRmZjEzZDQ2MWU4NmUyMWUzOWM5NDE2MjRjKTsKICAgICAgICAKICAgIAogICAgICAgIHZhciBwb3B1cF9lMWE0OWViNGIxODY0M2NiYWFkOTNkNWM3NzExOTEwYiA9IEwucG9wdXAoeyJtYXhXaWR0aCI6ICIxMDAlIn0pOwoKICAgICAgICAKICAgICAgICAgICAgdmFyIGh0bWxfZGZjYjFiNzkyY2U0NDc1ZjgzYWZiOGU5NTA3NTY0NmUgPSAkKGA8ZGl2IGlkPSJodG1sX2RmY2IxYjc5MmNlNDQ3NWY4M2FmYjhlOTUwNzU2NDZlIiBzdHlsZT0id2lkdGg6IDEwMC4wJTsgaGVpZ2h0OiAxMDAuMCU7Ij5CVVJHTEFSWTwvZGl2PmApWzBdOwogICAgICAgICAgICBwb3B1cF9lMWE0OWViNGIxODY0M2NiYWFkOTNkNWM3NzExOTEwYi5zZXRDb250ZW50KGh0bWxfZGZjYjFiNzkyY2U0NDc1ZjgzYWZiOGU5NTA3NTY0NmUpOwogICAgICAgIAoKICAgICAgICBtYXJrZXJfYmNiMzY3NTk1NGE4NGM3MmIyNTk0Yzk2MjU5ZDEwZWMuYmluZFBvcHVwKHBvcHVwX2UxYTQ5ZWI0YjE4NjQzY2JhYWQ5M2Q1Yzc3MTE5MTBiKQogICAgICAgIDsKCiAgICAgICAgCiAgICAKICAgIAogICAgICAgICAgICB2YXIgbWFya2VyX2ZhODJiMzhjNmY4MDQ0ODRhOTRkMjYzMjQyMjQ5ZDFkID0gTC5tYXJrZXIoCiAgICAgICAgICAgICAgICBbMzcuNzY0NDI5NzcxNDA3NCwgLTEyMi40NDk3NTE2NTI1NjNdLAogICAgICAgICAgICAgICAge30KICAgICAgICAgICAgKS5hZGRUbyhtYXJrZXJfY2x1c3Rlcl84OGRiNzJkZmYxM2Q0NjFlODZlMjFlMzljOTQxNjI0Yyk7CiAgICAgICAgCiAgICAKICAgICAgICB2YXIgcG9wdXBfNzY2MzE0YjRjMWE2NGIyMzkyMzQ3OWFjMWNjNDZkOGYgPSBMLnBvcHVwKHsibWF4V2lkdGgiOiAiMTAwJSJ9KTsKCiAgICAgICAgCiAgICAgICAgICAgIHZhciBodG1sXzhmZjEwZTFkZTJkODRmOTk4NTlhNzI1OTZlZmJkOTFiID0gJChgPGRpdiBpZD0iaHRtbF84ZmYxMGUxZGUyZDg0Zjk5ODU5YTcyNTk2ZWZiZDkxYiIgc3R5bGU9IndpZHRoOiAxMDAuMCU7IGhlaWdodDogMTAwLjAlOyI+TEFSQ0VOWS9USEVGVDwvZGl2PmApWzBdOwogICAgICAgICAgICBwb3B1cF83NjYzMTRiNGMxYTY0YjIzOTIzNDc5YWMxY2M0NmQ4Zi5zZXRDb250ZW50KGh0bWxfOGZmMTBlMWRlMmQ4NGY5OTg1OWE3MjU5NmVmYmQ5MWIpOwogICAgICAgIAoKICAgICAgICBtYXJrZXJfZmE4MmIzOGM2ZjgwNDQ4NGE5NGQyNjMyNDIyNDlkMWQuYmluZFBvcHVwKHBvcHVwXzc2NjMxNGI0YzFhNjRiMjM5MjM0NzlhYzFjYzQ2ZDhmKQogICAgICAgIDsKCiAgICAgICAgCiAgICAKICAgIAogICAgICAgICAgICB2YXIgbWFya2VyX2YwNjNiZDQzYTE2MDRiNGU4YmVkYTYxZWVlMGMyNWNlID0gTC5tYXJrZXIoCiAgICAgICAgICAgICAgICBbMzcuNzM1MjY4MTQ2OTA4Mzk2LCAtMTIyLjQ3MjcxNTc1OTYzMV0sCiAgICAgICAgICAgICAgICB7fQogICAgICAgICAgICApLmFkZFRvKG1hcmtlcl9jbHVzdGVyXzg4ZGI3MmRmZjEzZDQ2MWU4NmUyMWUzOWM5NDE2MjRjKTsKICAgICAgICAKICAgIAogICAgICAgIHZhciBwb3B1cF9hNTFlMzVhODhiNmQ0ZGQwYjI1NzczMDBkZTNlNzIwZCA9IEwucG9wdXAoeyJtYXhXaWR0aCI6ICIxMDAlIn0pOwoKICAgICAgICAKICAgICAgICAgICAgdmFyIGh0bWxfZTk0MDhiZGExMWVkNDE2YzhjZmY0OTQ3YTI3NzYxOWEgPSAkKGA8ZGl2IGlkPSJodG1sX2U5NDA4YmRhMTFlZDQxNmM4Y2ZmNDk0N2EyNzc2MTlhIiBzdHlsZT0id2lkdGg6IDEwMC4wJTsgaGVpZ2h0OiAxMDAuMCU7Ij5MQVJDRU5ZL1RIRUZUPC9kaXY+YClbMF07CiAgICAgICAgICAgIHBvcHVwX2E1MWUzNWE4OGI2ZDRkZDBiMjU3NzMwMGRlM2U3MjBkLnNldENvbnRlbnQoaHRtbF9lOTQwOGJkYTExZWQ0MTZjOGNmZjQ5NDdhMjc3NjE5YSk7CiAgICAgICAgCgogICAgICAgIG1hcmtlcl9mMDYzYmQ0M2ExNjA0YjRlOGJlZGE2MWVlZTBjMjVjZS5iaW5kUG9wdXAocG9wdXBfYTUxZTM1YTg4YjZkNGRkMGIyNTc3MzAwZGUzZTcyMGQpCiAgICAgICAgOwoKICAgICAgICAKICAgIAo8L3NjcmlwdD4=\" style=\"position:absolute;width:100%;height:100%;left:0;top:0;border:none !important;\" allowfullscreen webkitallowfullscreen mozallowfullscreen></iframe></div></div>"
      ],
      "text/plain": [
       "<folium.folium.Map at 0x1ddcf729488>"
      ]
     },
     "execution_count": 202,
     "metadata": {},
     "output_type": "execute_result"
    }
   ],
   "source": [
    "from folium import plugins\n",
    "\n",
    "# let's start again with a clean copy of the map of San Francisco\n",
    "sanfran_map = folium.Map(location = [latitude, longitude], zoom_start = 12)\n",
    "\n",
    "# instantiate a mark cluster object for the incidents in the dataframe\n",
    "incidents_place = plugins.MarkerCluster().add_to(sanfran_map)\n",
    "\n",
    "# loop through the dataframe and add each data point to the mark cluster\n",
    "for lat, lng, label, in zip(incidents.Y, incidents.X, incidents.Category):\n",
    "    folium.Marker(\n",
    "        location=[lat, lng],\n",
    "        icon=None,\n",
    "        popup=label,\n",
    "    ).add_to(incidents_place)\n",
    "\n",
    "# display map\n",
    "sanfran_map"
   ]
  }
 ],
 "metadata": {
  "kernelspec": {
   "display_name": "Python 3",
   "language": "python",
   "name": "python3"
  },
  "language_info": {
   "codemirror_mode": {
    "name": "ipython",
    "version": 3
   },
   "file_extension": ".py",
   "mimetype": "text/x-python",
   "name": "python",
   "nbconvert_exporter": "python",
   "pygments_lexer": "ipython3",
   "version": "3.7.4"
  }
 },
 "nbformat": 4,
 "nbformat_minor": 4
}
