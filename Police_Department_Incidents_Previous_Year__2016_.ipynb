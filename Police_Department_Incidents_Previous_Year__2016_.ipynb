{
 "cells": [
  {
   "cell_type": "markdown",
   "metadata": {},
   "source": [
    "<img src='Departamento.jpg' />"
   ]
  },
  {
   "cell_type": "code",
   "execution_count": 203,
   "metadata": {},
   "outputs": [
    {
     "data": {
      "text/html": [
       "\n",
       "        <script src=\"/static/components/requirejs/require.js\"></script>\n",
       "        <script>\n",
       "          requirejs.config({\n",
       "            paths: {\n",
       "              base: '/static/base',\n",
       "              plotly: 'https://cdn.plot.ly/plotly-latest.min.js?noext',\n",
       "            },\n",
       "          });\n",
       "        </script>\n",
       "        "
      ],
      "text/plain": [
       "<IPython.core.display.HTML object>"
      ]
     },
     "metadata": {},
     "output_type": "display_data"
    },
    {
     "data": {
      "text/html": [
       "\n",
       "        <script src=\"/static/components/requirejs/require.js\"></script>\n",
       "        <script>\n",
       "          requirejs.config({\n",
       "            paths: {\n",
       "              base: '/static/base',\n",
       "              plotly: 'https://cdn.plot.ly/plotly-latest.min.js?noext',\n",
       "            },\n",
       "          });\n",
       "        </script>\n",
       "        "
      ],
      "text/plain": [
       "<IPython.core.display.HTML object>"
      ]
     },
     "metadata": {},
     "output_type": "display_data"
    },
    {
     "data": {
      "text/html": [
       "\n",
       "        <script src=\"/static/components/requirejs/require.js\"></script>\n",
       "        <script>\n",
       "          requirejs.config({\n",
       "            paths: {\n",
       "              base: '/static/base',\n",
       "              plotly: 'https://cdn.plot.ly/plotly-latest.min.js?noext',\n",
       "            },\n",
       "          });\n",
       "        </script>\n",
       "        "
      ],
      "text/plain": [
       "<IPython.core.display.HTML object>"
      ]
     },
     "metadata": {},
     "output_type": "display_data"
    },
    {
     "data": {
      "text/html": [
       "\n",
       "        <script src=\"/static/components/requirejs/require.js\"></script>\n",
       "        <script>\n",
       "          requirejs.config({\n",
       "            paths: {\n",
       "              base: '/static/base',\n",
       "              plotly: 'https://cdn.plot.ly/plotly-latest.min.js?noext',\n",
       "            },\n",
       "          });\n",
       "        </script>\n",
       "        "
      ],
      "text/plain": [
       "<IPython.core.display.HTML object>"
      ]
     },
     "metadata": {},
     "output_type": "display_data"
    },
    {
     "data": {
      "text/html": [
       "\n",
       "        <script src=\"/static/components/requirejs/require.js\"></script>\n",
       "        <script>\n",
       "          requirejs.config({\n",
       "            paths: {\n",
       "              base: '/static/base',\n",
       "              plotly: 'https://cdn.plot.ly/plotly-latest.min.js?noext',\n",
       "            },\n",
       "          });\n",
       "        </script>\n",
       "        "
      ],
      "text/plain": [
       "<IPython.core.display.HTML object>"
      ]
     },
     "metadata": {},
     "output_type": "display_data"
    },
    {
     "data": {
      "text/html": [
       "\n",
       "        <script src=\"/static/components/requirejs/require.js\"></script>\n",
       "        <script>\n",
       "          requirejs.config({\n",
       "            paths: {\n",
       "              base: '/static/base',\n",
       "              plotly: 'https://cdn.plot.ly/plotly-latest.min.js?noext',\n",
       "            },\n",
       "          });\n",
       "        </script>\n",
       "        "
      ],
      "text/plain": [
       "<IPython.core.display.HTML object>"
      ]
     },
     "metadata": {},
     "output_type": "display_data"
    },
    {
     "data": {
      "text/html": [
       "\n",
       "        <script src=\"/static/components/requirejs/require.js\"></script>\n",
       "        <script>\n",
       "          requirejs.config({\n",
       "            paths: {\n",
       "              base: '/static/base',\n",
       "              plotly: 'https://cdn.plot.ly/plotly-latest.min.js?noext',\n",
       "            },\n",
       "          });\n",
       "        </script>\n",
       "        "
      ],
      "text/plain": [
       "<IPython.core.display.HTML object>"
      ]
     },
     "metadata": {},
     "output_type": "display_data"
    },
    {
     "data": {
      "text/html": [
       "\n",
       "        <script src=\"/static/components/requirejs/require.js\"></script>\n",
       "        <script>\n",
       "          requirejs.config({\n",
       "            paths: {\n",
       "              base: '/static/base',\n",
       "              plotly: 'https://cdn.plot.ly/plotly-latest.min.js?noext',\n",
       "            },\n",
       "          });\n",
       "        </script>\n",
       "        "
      ],
      "text/plain": [
       "<IPython.core.display.HTML object>"
      ]
     },
     "metadata": {},
     "output_type": "display_data"
    },
    {
     "data": {
      "text/html": [
       "\n",
       "        <script src=\"/static/components/requirejs/require.js\"></script>\n",
       "        <script>\n",
       "          requirejs.config({\n",
       "            paths: {\n",
       "              base: '/static/base',\n",
       "              plotly: 'https://cdn.plot.ly/plotly-latest.min.js?noext',\n",
       "            },\n",
       "          });\n",
       "        </script>\n",
       "        "
      ],
      "text/plain": [
       "<IPython.core.display.HTML object>"
      ]
     },
     "metadata": {},
     "output_type": "display_data"
    },
    {
     "data": {
      "text/html": [
       "\n",
       "        <script src=\"/static/components/requirejs/require.js\"></script>\n",
       "        <script>\n",
       "          requirejs.config({\n",
       "            paths: {\n",
       "              base: '/static/base',\n",
       "              plotly: 'https://cdn.plot.ly/plotly-latest.min.js?noext',\n",
       "            },\n",
       "          });\n",
       "        </script>\n",
       "        "
      ],
      "text/plain": [
       "<IPython.core.display.HTML object>"
      ]
     },
     "metadata": {},
     "output_type": "display_data"
    },
    {
     "data": {
      "text/html": [
       "\n",
       "        <script src=\"/static/components/requirejs/require.js\"></script>\n",
       "        <script>\n",
       "          requirejs.config({\n",
       "            paths: {\n",
       "              base: '/static/base',\n",
       "              plotly: 'https://cdn.plot.ly/plotly-latest.min.js?noext',\n",
       "            },\n",
       "          });\n",
       "        </script>\n",
       "        "
      ],
      "text/plain": [
       "<IPython.core.display.HTML object>"
      ]
     },
     "metadata": {},
     "output_type": "display_data"
    },
    {
     "data": {
      "text/html": [
       "\n",
       "        <script src=\"/static/components/requirejs/require.js\"></script>\n",
       "        <script>\n",
       "          requirejs.config({\n",
       "            paths: {\n",
       "              base: '/static/base',\n",
       "              plotly: 'https://cdn.plot.ly/plotly-latest.min.js?noext',\n",
       "            },\n",
       "          });\n",
       "        </script>\n",
       "        "
      ],
      "text/plain": [
       "<IPython.core.display.HTML object>"
      ]
     },
     "metadata": {},
     "output_type": "display_data"
    },
    {
     "data": {
      "text/html": [
       "\n",
       "        <script src=\"/static/components/requirejs/require.js\"></script>\n",
       "        <script>\n",
       "          requirejs.config({\n",
       "            paths: {\n",
       "              base: '/static/base',\n",
       "              plotly: 'https://cdn.plot.ly/plotly-latest.min.js?noext',\n",
       "            },\n",
       "          });\n",
       "        </script>\n",
       "        "
      ],
      "text/plain": [
       "<IPython.core.display.HTML object>"
      ]
     },
     "metadata": {},
     "output_type": "display_data"
    },
    {
     "data": {
      "text/html": [
       "        <script type=\"text/javascript\">\n",
       "        window.PlotlyConfig = {MathJaxConfig: 'local'};\n",
       "        if (window.MathJax) {MathJax.Hub.Config({SVG: {font: \"STIX-Web\"}});}\n",
       "        if (typeof require !== 'undefined') {\n",
       "        require.undef(\"plotly\");\n",
       "        requirejs.config({\n",
       "            paths: {\n",
       "                'plotly': ['https://cdn.plot.ly/plotly-latest.min']\n",
       "            }\n",
       "        });\n",
       "        require(['plotly'], function(Plotly) {\n",
       "            window._Plotly = Plotly;\n",
       "        });\n",
       "        }\n",
       "        </script>\n",
       "        "
      ]
     },
     "metadata": {},
     "output_type": "display_data"
    },
    {
     "data": {
      "text/html": [
       "\n",
       "        <script src=\"/static/components/requirejs/require.js\"></script>\n",
       "        <script>\n",
       "          requirejs.config({\n",
       "            paths: {\n",
       "              base: '/static/base',\n",
       "              plotly: 'https://cdn.plot.ly/plotly-latest.min.js?noext',\n",
       "            },\n",
       "          });\n",
       "        </script>\n",
       "        "
      ],
      "text/plain": [
       "<IPython.core.display.HTML object>"
      ]
     },
     "metadata": {},
     "output_type": "display_data"
    }
   ],
   "source": [
    "# importing libraries\n",
    "import pandas as pd\n",
    "import numpy as np\n",
    "import folium\n",
    "import datetime as dt\n",
    "import plotly as py\n",
    "import plotly.express as px\n",
    "import plotly.graph_objs as go\n",
    "from plotly.subplots import make_subplots\n",
    "from plotly.offline import download_plotlyjs\n",
    "from plotly.offline import init_notebook_mode\n",
    "from plotly.offline import plot,iplot\n",
    "init_notebook_mode(connected=True)\n",
    "def configure_plotly_browser_state():\n",
    "    import IPython\n",
    "    display(IPython.core.display.HTML('''\n",
    "        <script src=\"/static/components/requirejs/require.js\"></script>\n",
    "        <script>\n",
    "          requirejs.config({\n",
    "            paths: {\n",
    "              base: '/static/base',\n",
    "              plotly: 'https://cdn.plot.ly/plotly-latest.min.js?noext',\n",
    "            },\n",
    "          });\n",
    "        </script>\n",
    "        '''))\n",
    "configure_plotly_browser_state()\n",
    "import IPython\n",
    "\n",
    "IPython.get_ipython().events.register('pre_run_cell', configure_plotly_browser_state)\n",
    "from IPython.core.display import HTML"
   ]
  },
  {
   "cell_type": "code",
   "execution_count": 204,
   "metadata": {},
   "outputs": [
    {
     "data": {
      "text/html": [
       "\n",
       "        <script src=\"/static/components/requirejs/require.js\"></script>\n",
       "        <script>\n",
       "          requirejs.config({\n",
       "            paths: {\n",
       "              base: '/static/base',\n",
       "              plotly: 'https://cdn.plot.ly/plotly-latest.min.js?noext',\n",
       "            },\n",
       "          });\n",
       "        </script>\n",
       "        "
      ],
      "text/plain": [
       "<IPython.core.display.HTML object>"
      ]
     },
     "metadata": {},
     "output_type": "display_data"
    },
    {
     "data": {
      "text/html": [
       "\n",
       "        <script src=\"/static/components/requirejs/require.js\"></script>\n",
       "        <script>\n",
       "          requirejs.config({\n",
       "            paths: {\n",
       "              base: '/static/base',\n",
       "              plotly: 'https://cdn.plot.ly/plotly-latest.min.js?noext',\n",
       "            },\n",
       "          });\n",
       "        </script>\n",
       "        "
      ],
      "text/plain": [
       "<IPython.core.display.HTML object>"
      ]
     },
     "metadata": {},
     "output_type": "display_data"
    },
    {
     "data": {
      "text/html": [
       "\n",
       "        <script src=\"/static/components/requirejs/require.js\"></script>\n",
       "        <script>\n",
       "          requirejs.config({\n",
       "            paths: {\n",
       "              base: '/static/base',\n",
       "              plotly: 'https://cdn.plot.ly/plotly-latest.min.js?noext',\n",
       "            },\n",
       "          });\n",
       "        </script>\n",
       "        "
      ],
      "text/plain": [
       "<IPython.core.display.HTML object>"
      ]
     },
     "metadata": {},
     "output_type": "display_data"
    },
    {
     "data": {
      "text/html": [
       "\n",
       "        <script src=\"/static/components/requirejs/require.js\"></script>\n",
       "        <script>\n",
       "          requirejs.config({\n",
       "            paths: {\n",
       "              base: '/static/base',\n",
       "              plotly: 'https://cdn.plot.ly/plotly-latest.min.js?noext',\n",
       "            },\n",
       "          });\n",
       "        </script>\n",
       "        "
      ],
      "text/plain": [
       "<IPython.core.display.HTML object>"
      ]
     },
     "metadata": {},
     "output_type": "display_data"
    },
    {
     "data": {
      "text/html": [
       "\n",
       "        <script src=\"/static/components/requirejs/require.js\"></script>\n",
       "        <script>\n",
       "          requirejs.config({\n",
       "            paths: {\n",
       "              base: '/static/base',\n",
       "              plotly: 'https://cdn.plot.ly/plotly-latest.min.js?noext',\n",
       "            },\n",
       "          });\n",
       "        </script>\n",
       "        "
      ],
      "text/plain": [
       "<IPython.core.display.HTML object>"
      ]
     },
     "metadata": {},
     "output_type": "display_data"
    },
    {
     "data": {
      "text/html": [
       "\n",
       "        <script src=\"/static/components/requirejs/require.js\"></script>\n",
       "        <script>\n",
       "          requirejs.config({\n",
       "            paths: {\n",
       "              base: '/static/base',\n",
       "              plotly: 'https://cdn.plot.ly/plotly-latest.min.js?noext',\n",
       "            },\n",
       "          });\n",
       "        </script>\n",
       "        "
      ],
      "text/plain": [
       "<IPython.core.display.HTML object>"
      ]
     },
     "metadata": {},
     "output_type": "display_data"
    },
    {
     "data": {
      "text/html": [
       "\n",
       "        <script src=\"/static/components/requirejs/require.js\"></script>\n",
       "        <script>\n",
       "          requirejs.config({\n",
       "            paths: {\n",
       "              base: '/static/base',\n",
       "              plotly: 'https://cdn.plot.ly/plotly-latest.min.js?noext',\n",
       "            },\n",
       "          });\n",
       "        </script>\n",
       "        "
      ],
      "text/plain": [
       "<IPython.core.display.HTML object>"
      ]
     },
     "metadata": {},
     "output_type": "display_data"
    },
    {
     "data": {
      "text/html": [
       "\n",
       "        <script src=\"/static/components/requirejs/require.js\"></script>\n",
       "        <script>\n",
       "          requirejs.config({\n",
       "            paths: {\n",
       "              base: '/static/base',\n",
       "              plotly: 'https://cdn.plot.ly/plotly-latest.min.js?noext',\n",
       "            },\n",
       "          });\n",
       "        </script>\n",
       "        "
      ],
      "text/plain": [
       "<IPython.core.display.HTML object>"
      ]
     },
     "metadata": {},
     "output_type": "display_data"
    },
    {
     "data": {
      "text/html": [
       "\n",
       "        <script src=\"/static/components/requirejs/require.js\"></script>\n",
       "        <script>\n",
       "          requirejs.config({\n",
       "            paths: {\n",
       "              base: '/static/base',\n",
       "              plotly: 'https://cdn.plot.ly/plotly-latest.min.js?noext',\n",
       "            },\n",
       "          });\n",
       "        </script>\n",
       "        "
      ],
      "text/plain": [
       "<IPython.core.display.HTML object>"
      ]
     },
     "metadata": {},
     "output_type": "display_data"
    },
    {
     "data": {
      "text/html": [
       "\n",
       "        <script src=\"/static/components/requirejs/require.js\"></script>\n",
       "        <script>\n",
       "          requirejs.config({\n",
       "            paths: {\n",
       "              base: '/static/base',\n",
       "              plotly: 'https://cdn.plot.ly/plotly-latest.min.js?noext',\n",
       "            },\n",
       "          });\n",
       "        </script>\n",
       "        "
      ],
      "text/plain": [
       "<IPython.core.display.HTML object>"
      ]
     },
     "metadata": {},
     "output_type": "display_data"
    },
    {
     "data": {
      "text/html": [
       "\n",
       "        <script src=\"/static/components/requirejs/require.js\"></script>\n",
       "        <script>\n",
       "          requirejs.config({\n",
       "            paths: {\n",
       "              base: '/static/base',\n",
       "              plotly: 'https://cdn.plot.ly/plotly-latest.min.js?noext',\n",
       "            },\n",
       "          });\n",
       "        </script>\n",
       "        "
      ],
      "text/plain": [
       "<IPython.core.display.HTML object>"
      ]
     },
     "metadata": {},
     "output_type": "display_data"
    },
    {
     "data": {
      "text/html": [
       "\n",
       "        <script src=\"/static/components/requirejs/require.js\"></script>\n",
       "        <script>\n",
       "          requirejs.config({\n",
       "            paths: {\n",
       "              base: '/static/base',\n",
       "              plotly: 'https://cdn.plot.ly/plotly-latest.min.js?noext',\n",
       "            },\n",
       "          });\n",
       "        </script>\n",
       "        "
      ],
      "text/plain": [
       "<IPython.core.display.HTML object>"
      ]
     },
     "metadata": {},
     "output_type": "display_data"
    },
    {
     "data": {
      "text/html": [
       "\n",
       "        <script src=\"/static/components/requirejs/require.js\"></script>\n",
       "        <script>\n",
       "          requirejs.config({\n",
       "            paths: {\n",
       "              base: '/static/base',\n",
       "              plotly: 'https://cdn.plot.ly/plotly-latest.min.js?noext',\n",
       "            },\n",
       "          });\n",
       "        </script>\n",
       "        "
      ],
      "text/plain": [
       "<IPython.core.display.HTML object>"
      ]
     },
     "metadata": {},
     "output_type": "display_data"
    },
    {
     "data": {
      "text/html": [
       "\n",
       "        <script src=\"/static/components/requirejs/require.js\"></script>\n",
       "        <script>\n",
       "          requirejs.config({\n",
       "            paths: {\n",
       "              base: '/static/base',\n",
       "              plotly: 'https://cdn.plot.ly/plotly-latest.min.js?noext',\n",
       "            },\n",
       "          });\n",
       "        </script>\n",
       "        "
      ],
      "text/plain": [
       "<IPython.core.display.HTML object>"
      ]
     },
     "metadata": {},
     "output_type": "display_data"
    },
    {
     "data": {
      "text/html": [
       "<div>\n",
       "<style scoped>\n",
       "    .dataframe tbody tr th:only-of-type {\n",
       "        vertical-align: middle;\n",
       "    }\n",
       "\n",
       "    .dataframe tbody tr th {\n",
       "        vertical-align: top;\n",
       "    }\n",
       "\n",
       "    .dataframe thead th {\n",
       "        text-align: right;\n",
       "    }\n",
       "</style>\n",
       "<table border=\"1\" class=\"dataframe\">\n",
       "  <thead>\n",
       "    <tr style=\"text-align: right;\">\n",
       "      <th></th>\n",
       "      <th>IncidntNum</th>\n",
       "      <th>Category</th>\n",
       "      <th>Descript</th>\n",
       "      <th>DayOfWeek</th>\n",
       "      <th>Date</th>\n",
       "      <th>Time</th>\n",
       "      <th>PdDistrict</th>\n",
       "      <th>Resolution</th>\n",
       "      <th>Address</th>\n",
       "      <th>X</th>\n",
       "      <th>Y</th>\n",
       "      <th>Location</th>\n",
       "      <th>PdId</th>\n",
       "    </tr>\n",
       "  </thead>\n",
       "  <tbody>\n",
       "    <tr>\n",
       "      <td>0</td>\n",
       "      <td>120058272</td>\n",
       "      <td>WEAPON LAWS</td>\n",
       "      <td>POSS OF PROHIBITED WEAPON</td>\n",
       "      <td>Friday</td>\n",
       "      <td>2016-01-29</td>\n",
       "      <td>11:00</td>\n",
       "      <td>SOUTHERN</td>\n",
       "      <td>ARREST, BOOKED</td>\n",
       "      <td>800 Block of BRYANT ST</td>\n",
       "      <td>-122.403405</td>\n",
       "      <td>37.775421</td>\n",
       "      <td>(37.775420706711, -122.403404791479)</td>\n",
       "      <td>12005827212120</td>\n",
       "    </tr>\n",
       "    <tr>\n",
       "      <td>1</td>\n",
       "      <td>120058272</td>\n",
       "      <td>WEAPON LAWS</td>\n",
       "      <td>FIREARM, LOADED, IN VEHICLE, POSSESSION OR USE</td>\n",
       "      <td>Friday</td>\n",
       "      <td>2016-01-29</td>\n",
       "      <td>11:00</td>\n",
       "      <td>SOUTHERN</td>\n",
       "      <td>ARREST, BOOKED</td>\n",
       "      <td>800 Block of BRYANT ST</td>\n",
       "      <td>-122.403405</td>\n",
       "      <td>37.775421</td>\n",
       "      <td>(37.775420706711, -122.403404791479)</td>\n",
       "      <td>12005827212168</td>\n",
       "    </tr>\n",
       "    <tr>\n",
       "      <td>2</td>\n",
       "      <td>141059263</td>\n",
       "      <td>WARRANTS</td>\n",
       "      <td>WARRANT ARREST</td>\n",
       "      <td>Monday</td>\n",
       "      <td>2016-04-25</td>\n",
       "      <td>14:59</td>\n",
       "      <td>BAYVIEW</td>\n",
       "      <td>ARREST, BOOKED</td>\n",
       "      <td>KEITH ST / SHAFTER AV</td>\n",
       "      <td>-122.388856</td>\n",
       "      <td>37.729981</td>\n",
       "      <td>(37.7299809672996, -122.388856204292)</td>\n",
       "      <td>14105926363010</td>\n",
       "    </tr>\n",
       "    <tr>\n",
       "      <td>3</td>\n",
       "      <td>160013662</td>\n",
       "      <td>NON-CRIMINAL</td>\n",
       "      <td>LOST PROPERTY</td>\n",
       "      <td>Tuesday</td>\n",
       "      <td>2016-01-05</td>\n",
       "      <td>23:50</td>\n",
       "      <td>TENDERLOIN</td>\n",
       "      <td>NONE</td>\n",
       "      <td>JONES ST / OFARRELL ST</td>\n",
       "      <td>-122.412971</td>\n",
       "      <td>37.785788</td>\n",
       "      <td>(37.7857883766888, -122.412970537591)</td>\n",
       "      <td>16001366271000</td>\n",
       "    </tr>\n",
       "    <tr>\n",
       "      <td>4</td>\n",
       "      <td>160002740</td>\n",
       "      <td>NON-CRIMINAL</td>\n",
       "      <td>LOST PROPERTY</td>\n",
       "      <td>Friday</td>\n",
       "      <td>2016-01-01</td>\n",
       "      <td>00:30</td>\n",
       "      <td>MISSION</td>\n",
       "      <td>NONE</td>\n",
       "      <td>16TH ST / MISSION ST</td>\n",
       "      <td>-122.419672</td>\n",
       "      <td>37.765050</td>\n",
       "      <td>(37.7650501214668, -122.419671780296)</td>\n",
       "      <td>16000274071000</td>\n",
       "    </tr>\n",
       "  </tbody>\n",
       "</table>\n",
       "</div>"
      ],
      "text/plain": [
       "   IncidntNum      Category                                        Descript  \\\n",
       "0   120058272   WEAPON LAWS                       POSS OF PROHIBITED WEAPON   \n",
       "1   120058272   WEAPON LAWS  FIREARM, LOADED, IN VEHICLE, POSSESSION OR USE   \n",
       "2   141059263      WARRANTS                                  WARRANT ARREST   \n",
       "3   160013662  NON-CRIMINAL                                   LOST PROPERTY   \n",
       "4   160002740  NON-CRIMINAL                                   LOST PROPERTY   \n",
       "\n",
       "  DayOfWeek       Date   Time  PdDistrict      Resolution  \\\n",
       "0    Friday 2016-01-29  11:00    SOUTHERN  ARREST, BOOKED   \n",
       "1    Friday 2016-01-29  11:00    SOUTHERN  ARREST, BOOKED   \n",
       "2    Monday 2016-04-25  14:59     BAYVIEW  ARREST, BOOKED   \n",
       "3   Tuesday 2016-01-05  23:50  TENDERLOIN            NONE   \n",
       "4    Friday 2016-01-01  00:30     MISSION            NONE   \n",
       "\n",
       "                  Address           X          Y  \\\n",
       "0  800 Block of BRYANT ST -122.403405  37.775421   \n",
       "1  800 Block of BRYANT ST -122.403405  37.775421   \n",
       "2   KEITH ST / SHAFTER AV -122.388856  37.729981   \n",
       "3  JONES ST / OFARRELL ST -122.412971  37.785788   \n",
       "4    16TH ST / MISSION ST -122.419672  37.765050   \n",
       "\n",
       "                                Location            PdId  \n",
       "0   (37.775420706711, -122.403404791479)  12005827212120  \n",
       "1   (37.775420706711, -122.403404791479)  12005827212168  \n",
       "2  (37.7299809672996, -122.388856204292)  14105926363010  \n",
       "3  (37.7857883766888, -122.412970537591)  16001366271000  \n",
       "4  (37.7650501214668, -122.419671780296)  16000274071000  "
      ]
     },
     "execution_count": 204,
     "metadata": {},
     "output_type": "execute_result"
    }
   ],
   "source": [
    "# Loading data\n",
    "incidents = pd.read_csv('Police_Department_Incidents.csv', parse_dates=['Date'])\n",
    "incidents.head()"
   ]
  },
  {
   "cell_type": "markdown",
   "metadata": {},
   "source": [
    "So each row consists of 13 features:\n",
    "> 1. **IncidntNum**: Incident Number\n",
    "> 2. **Category**: Category of crime or incident\n",
    "> 3. **Descript**: Description of the crime or incident\n",
    "> 4. **DayOfWeek**: The day of week on which the incident occurred\n",
    "> 5. **Date**: The Date on which the incident occurred\n",
    "> 6. **Time**: The time of day on which the incident occurred\n",
    "> 7. **PdDistrict**: The police department district\n",
    "> 8. **Resolution**: The resolution of the crime in terms whether the perpetrator was arrested or not\n",
    "> 9. **Address**: The closest address to where the incident took place\n",
    "> 10. **X**: The longitude value of the crime location \n",
    "> 11. **Y**: The latitude value of the crime location\n",
    "> 12. **Location**: A tuple of the latitude and the longitude values\n",
    "> 13. **PdId**: The police department ID"
   ]
  },
  {
   "cell_type": "markdown",
   "metadata": {},
   "source": [
    "# EDA"
   ]
  },
  {
   "cell_type": "code",
   "execution_count": 205,
   "metadata": {},
   "outputs": [
    {
     "data": {
      "text/html": [
       "\n",
       "        <script src=\"/static/components/requirejs/require.js\"></script>\n",
       "        <script>\n",
       "          requirejs.config({\n",
       "            paths: {\n",
       "              base: '/static/base',\n",
       "              plotly: 'https://cdn.plot.ly/plotly-latest.min.js?noext',\n",
       "            },\n",
       "          });\n",
       "        </script>\n",
       "        "
      ],
      "text/plain": [
       "<IPython.core.display.HTML object>"
      ]
     },
     "metadata": {},
     "output_type": "display_data"
    },
    {
     "data": {
      "text/html": [
       "\n",
       "        <script src=\"/static/components/requirejs/require.js\"></script>\n",
       "        <script>\n",
       "          requirejs.config({\n",
       "            paths: {\n",
       "              base: '/static/base',\n",
       "              plotly: 'https://cdn.plot.ly/plotly-latest.min.js?noext',\n",
       "            },\n",
       "          });\n",
       "        </script>\n",
       "        "
      ],
      "text/plain": [
       "<IPython.core.display.HTML object>"
      ]
     },
     "metadata": {},
     "output_type": "display_data"
    },
    {
     "data": {
      "text/html": [
       "\n",
       "        <script src=\"/static/components/requirejs/require.js\"></script>\n",
       "        <script>\n",
       "          requirejs.config({\n",
       "            paths: {\n",
       "              base: '/static/base',\n",
       "              plotly: 'https://cdn.plot.ly/plotly-latest.min.js?noext',\n",
       "            },\n",
       "          });\n",
       "        </script>\n",
       "        "
      ],
      "text/plain": [
       "<IPython.core.display.HTML object>"
      ]
     },
     "metadata": {},
     "output_type": "display_data"
    },
    {
     "data": {
      "text/html": [
       "\n",
       "        <script src=\"/static/components/requirejs/require.js\"></script>\n",
       "        <script>\n",
       "          requirejs.config({\n",
       "            paths: {\n",
       "              base: '/static/base',\n",
       "              plotly: 'https://cdn.plot.ly/plotly-latest.min.js?noext',\n",
       "            },\n",
       "          });\n",
       "        </script>\n",
       "        "
      ],
      "text/plain": [
       "<IPython.core.display.HTML object>"
      ]
     },
     "metadata": {},
     "output_type": "display_data"
    },
    {
     "data": {
      "text/html": [
       "\n",
       "        <script src=\"/static/components/requirejs/require.js\"></script>\n",
       "        <script>\n",
       "          requirejs.config({\n",
       "            paths: {\n",
       "              base: '/static/base',\n",
       "              plotly: 'https://cdn.plot.ly/plotly-latest.min.js?noext',\n",
       "            },\n",
       "          });\n",
       "        </script>\n",
       "        "
      ],
      "text/plain": [
       "<IPython.core.display.HTML object>"
      ]
     },
     "metadata": {},
     "output_type": "display_data"
    },
    {
     "data": {
      "text/html": [
       "\n",
       "        <script src=\"/static/components/requirejs/require.js\"></script>\n",
       "        <script>\n",
       "          requirejs.config({\n",
       "            paths: {\n",
       "              base: '/static/base',\n",
       "              plotly: 'https://cdn.plot.ly/plotly-latest.min.js?noext',\n",
       "            },\n",
       "          });\n",
       "        </script>\n",
       "        "
      ],
      "text/plain": [
       "<IPython.core.display.HTML object>"
      ]
     },
     "metadata": {},
     "output_type": "display_data"
    },
    {
     "data": {
      "text/html": [
       "\n",
       "        <script src=\"/static/components/requirejs/require.js\"></script>\n",
       "        <script>\n",
       "          requirejs.config({\n",
       "            paths: {\n",
       "              base: '/static/base',\n",
       "              plotly: 'https://cdn.plot.ly/plotly-latest.min.js?noext',\n",
       "            },\n",
       "          });\n",
       "        </script>\n",
       "        "
      ],
      "text/plain": [
       "<IPython.core.display.HTML object>"
      ]
     },
     "metadata": {},
     "output_type": "display_data"
    },
    {
     "data": {
      "text/html": [
       "\n",
       "        <script src=\"/static/components/requirejs/require.js\"></script>\n",
       "        <script>\n",
       "          requirejs.config({\n",
       "            paths: {\n",
       "              base: '/static/base',\n",
       "              plotly: 'https://cdn.plot.ly/plotly-latest.min.js?noext',\n",
       "            },\n",
       "          });\n",
       "        </script>\n",
       "        "
      ],
      "text/plain": [
       "<IPython.core.display.HTML object>"
      ]
     },
     "metadata": {},
     "output_type": "display_data"
    },
    {
     "data": {
      "text/html": [
       "\n",
       "        <script src=\"/static/components/requirejs/require.js\"></script>\n",
       "        <script>\n",
       "          requirejs.config({\n",
       "            paths: {\n",
       "              base: '/static/base',\n",
       "              plotly: 'https://cdn.plot.ly/plotly-latest.min.js?noext',\n",
       "            },\n",
       "          });\n",
       "        </script>\n",
       "        "
      ],
      "text/plain": [
       "<IPython.core.display.HTML object>"
      ]
     },
     "metadata": {},
     "output_type": "display_data"
    },
    {
     "data": {
      "text/html": [
       "\n",
       "        <script src=\"/static/components/requirejs/require.js\"></script>\n",
       "        <script>\n",
       "          requirejs.config({\n",
       "            paths: {\n",
       "              base: '/static/base',\n",
       "              plotly: 'https://cdn.plot.ly/plotly-latest.min.js?noext',\n",
       "            },\n",
       "          });\n",
       "        </script>\n",
       "        "
      ],
      "text/plain": [
       "<IPython.core.display.HTML object>"
      ]
     },
     "metadata": {},
     "output_type": "display_data"
    },
    {
     "data": {
      "text/html": [
       "\n",
       "        <script src=\"/static/components/requirejs/require.js\"></script>\n",
       "        <script>\n",
       "          requirejs.config({\n",
       "            paths: {\n",
       "              base: '/static/base',\n",
       "              plotly: 'https://cdn.plot.ly/plotly-latest.min.js?noext',\n",
       "            },\n",
       "          });\n",
       "        </script>\n",
       "        "
      ],
      "text/plain": [
       "<IPython.core.display.HTML object>"
      ]
     },
     "metadata": {},
     "output_type": "display_data"
    },
    {
     "data": {
      "text/html": [
       "\n",
       "        <script src=\"/static/components/requirejs/require.js\"></script>\n",
       "        <script>\n",
       "          requirejs.config({\n",
       "            paths: {\n",
       "              base: '/static/base',\n",
       "              plotly: 'https://cdn.plot.ly/plotly-latest.min.js?noext',\n",
       "            },\n",
       "          });\n",
       "        </script>\n",
       "        "
      ],
      "text/plain": [
       "<IPython.core.display.HTML object>"
      ]
     },
     "metadata": {},
     "output_type": "display_data"
    },
    {
     "data": {
      "text/html": [
       "\n",
       "        <script src=\"/static/components/requirejs/require.js\"></script>\n",
       "        <script>\n",
       "          requirejs.config({\n",
       "            paths: {\n",
       "              base: '/static/base',\n",
       "              plotly: 'https://cdn.plot.ly/plotly-latest.min.js?noext',\n",
       "            },\n",
       "          });\n",
       "        </script>\n",
       "        "
      ],
      "text/plain": [
       "<IPython.core.display.HTML object>"
      ]
     },
     "metadata": {},
     "output_type": "display_data"
    },
    {
     "data": {
      "text/html": [
       "\n",
       "        <script src=\"/static/components/requirejs/require.js\"></script>\n",
       "        <script>\n",
       "          requirejs.config({\n",
       "            paths: {\n",
       "              base: '/static/base',\n",
       "              plotly: 'https://cdn.plot.ly/plotly-latest.min.js?noext',\n",
       "            },\n",
       "          });\n",
       "        </script>\n",
       "        "
      ],
      "text/plain": [
       "<IPython.core.display.HTML object>"
      ]
     },
     "metadata": {},
     "output_type": "display_data"
    },
    {
     "data": {
      "text/plain": [
       "Friday       23371\n",
       "Saturday     22172\n",
       "Thursday     21395\n",
       "Wednesday    21332\n",
       "Tuesday      21242\n",
       "Monday       20783\n",
       "Sunday       20205\n",
       "Name: DayOfWeek, dtype: int64"
      ]
     },
     "execution_count": 205,
     "metadata": {},
     "output_type": "execute_result"
    }
   ],
   "source": [
    "# Number of Incidents per Day od Week\n",
    "incidents['DayOfWeek'].value_counts()"
   ]
  },
  {
   "cell_type": "code",
   "execution_count": 206,
   "metadata": {},
   "outputs": [
    {
     "data": {
      "text/html": [
       "\n",
       "        <script src=\"/static/components/requirejs/require.js\"></script>\n",
       "        <script>\n",
       "          requirejs.config({\n",
       "            paths: {\n",
       "              base: '/static/base',\n",
       "              plotly: 'https://cdn.plot.ly/plotly-latest.min.js?noext',\n",
       "            },\n",
       "          });\n",
       "        </script>\n",
       "        "
      ],
      "text/plain": [
       "<IPython.core.display.HTML object>"
      ]
     },
     "metadata": {},
     "output_type": "display_data"
    },
    {
     "data": {
      "text/html": [
       "\n",
       "        <script src=\"/static/components/requirejs/require.js\"></script>\n",
       "        <script>\n",
       "          requirejs.config({\n",
       "            paths: {\n",
       "              base: '/static/base',\n",
       "              plotly: 'https://cdn.plot.ly/plotly-latest.min.js?noext',\n",
       "            },\n",
       "          });\n",
       "        </script>\n",
       "        "
      ],
      "text/plain": [
       "<IPython.core.display.HTML object>"
      ]
     },
     "metadata": {},
     "output_type": "display_data"
    },
    {
     "data": {
      "text/html": [
       "\n",
       "        <script src=\"/static/components/requirejs/require.js\"></script>\n",
       "        <script>\n",
       "          requirejs.config({\n",
       "            paths: {\n",
       "              base: '/static/base',\n",
       "              plotly: 'https://cdn.plot.ly/plotly-latest.min.js?noext',\n",
       "            },\n",
       "          });\n",
       "        </script>\n",
       "        "
      ],
      "text/plain": [
       "<IPython.core.display.HTML object>"
      ]
     },
     "metadata": {},
     "output_type": "display_data"
    },
    {
     "data": {
      "text/html": [
       "\n",
       "        <script src=\"/static/components/requirejs/require.js\"></script>\n",
       "        <script>\n",
       "          requirejs.config({\n",
       "            paths: {\n",
       "              base: '/static/base',\n",
       "              plotly: 'https://cdn.plot.ly/plotly-latest.min.js?noext',\n",
       "            },\n",
       "          });\n",
       "        </script>\n",
       "        "
      ],
      "text/plain": [
       "<IPython.core.display.HTML object>"
      ]
     },
     "metadata": {},
     "output_type": "display_data"
    },
    {
     "data": {
      "text/html": [
       "\n",
       "        <script src=\"/static/components/requirejs/require.js\"></script>\n",
       "        <script>\n",
       "          requirejs.config({\n",
       "            paths: {\n",
       "              base: '/static/base',\n",
       "              plotly: 'https://cdn.plot.ly/plotly-latest.min.js?noext',\n",
       "            },\n",
       "          });\n",
       "        </script>\n",
       "        "
      ],
      "text/plain": [
       "<IPython.core.display.HTML object>"
      ]
     },
     "metadata": {},
     "output_type": "display_data"
    },
    {
     "data": {
      "text/html": [
       "\n",
       "        <script src=\"/static/components/requirejs/require.js\"></script>\n",
       "        <script>\n",
       "          requirejs.config({\n",
       "            paths: {\n",
       "              base: '/static/base',\n",
       "              plotly: 'https://cdn.plot.ly/plotly-latest.min.js?noext',\n",
       "            },\n",
       "          });\n",
       "        </script>\n",
       "        "
      ],
      "text/plain": [
       "<IPython.core.display.HTML object>"
      ]
     },
     "metadata": {},
     "output_type": "display_data"
    },
    {
     "data": {
      "text/html": [
       "\n",
       "        <script src=\"/static/components/requirejs/require.js\"></script>\n",
       "        <script>\n",
       "          requirejs.config({\n",
       "            paths: {\n",
       "              base: '/static/base',\n",
       "              plotly: 'https://cdn.plot.ly/plotly-latest.min.js?noext',\n",
       "            },\n",
       "          });\n",
       "        </script>\n",
       "        "
      ],
      "text/plain": [
       "<IPython.core.display.HTML object>"
      ]
     },
     "metadata": {},
     "output_type": "display_data"
    },
    {
     "data": {
      "text/html": [
       "\n",
       "        <script src=\"/static/components/requirejs/require.js\"></script>\n",
       "        <script>\n",
       "          requirejs.config({\n",
       "            paths: {\n",
       "              base: '/static/base',\n",
       "              plotly: 'https://cdn.plot.ly/plotly-latest.min.js?noext',\n",
       "            },\n",
       "          });\n",
       "        </script>\n",
       "        "
      ],
      "text/plain": [
       "<IPython.core.display.HTML object>"
      ]
     },
     "metadata": {},
     "output_type": "display_data"
    },
    {
     "data": {
      "text/html": [
       "\n",
       "        <script src=\"/static/components/requirejs/require.js\"></script>\n",
       "        <script>\n",
       "          requirejs.config({\n",
       "            paths: {\n",
       "              base: '/static/base',\n",
       "              plotly: 'https://cdn.plot.ly/plotly-latest.min.js?noext',\n",
       "            },\n",
       "          });\n",
       "        </script>\n",
       "        "
      ],
      "text/plain": [
       "<IPython.core.display.HTML object>"
      ]
     },
     "metadata": {},
     "output_type": "display_data"
    },
    {
     "data": {
      "text/html": [
       "\n",
       "        <script src=\"/static/components/requirejs/require.js\"></script>\n",
       "        <script>\n",
       "          requirejs.config({\n",
       "            paths: {\n",
       "              base: '/static/base',\n",
       "              plotly: 'https://cdn.plot.ly/plotly-latest.min.js?noext',\n",
       "            },\n",
       "          });\n",
       "        </script>\n",
       "        "
      ],
      "text/plain": [
       "<IPython.core.display.HTML object>"
      ]
     },
     "metadata": {},
     "output_type": "display_data"
    },
    {
     "data": {
      "text/html": [
       "\n",
       "        <script src=\"/static/components/requirejs/require.js\"></script>\n",
       "        <script>\n",
       "          requirejs.config({\n",
       "            paths: {\n",
       "              base: '/static/base',\n",
       "              plotly: 'https://cdn.plot.ly/plotly-latest.min.js?noext',\n",
       "            },\n",
       "          });\n",
       "        </script>\n",
       "        "
      ],
      "text/plain": [
       "<IPython.core.display.HTML object>"
      ]
     },
     "metadata": {},
     "output_type": "display_data"
    },
    {
     "data": {
      "text/html": [
       "\n",
       "        <script src=\"/static/components/requirejs/require.js\"></script>\n",
       "        <script>\n",
       "          requirejs.config({\n",
       "            paths: {\n",
       "              base: '/static/base',\n",
       "              plotly: 'https://cdn.plot.ly/plotly-latest.min.js?noext',\n",
       "            },\n",
       "          });\n",
       "        </script>\n",
       "        "
      ],
      "text/plain": [
       "<IPython.core.display.HTML object>"
      ]
     },
     "metadata": {},
     "output_type": "display_data"
    },
    {
     "data": {
      "text/html": [
       "\n",
       "        <script src=\"/static/components/requirejs/require.js\"></script>\n",
       "        <script>\n",
       "          requirejs.config({\n",
       "            paths: {\n",
       "              base: '/static/base',\n",
       "              plotly: 'https://cdn.plot.ly/plotly-latest.min.js?noext',\n",
       "            },\n",
       "          });\n",
       "        </script>\n",
       "        "
      ],
      "text/plain": [
       "<IPython.core.display.HTML object>"
      ]
     },
     "metadata": {},
     "output_type": "display_data"
    },
    {
     "data": {
      "text/html": [
       "\n",
       "        <script src=\"/static/components/requirejs/require.js\"></script>\n",
       "        <script>\n",
       "          requirejs.config({\n",
       "            paths: {\n",
       "              base: '/static/base',\n",
       "              plotly: 'https://cdn.plot.ly/plotly-latest.min.js?noext',\n",
       "            },\n",
       "          });\n",
       "        </script>\n",
       "        "
      ],
      "text/plain": [
       "<IPython.core.display.HTML object>"
      ]
     },
     "metadata": {},
     "output_type": "display_data"
    },
    {
     "data": {
      "application/vnd.plotly.v1+json": {
       "config": {
        "linkText": "Export to plot.ly",
        "plotlyServerURL": "https://plot.ly",
        "showLink": false
       },
       "data": [
        {
         "marker": {
          "color": [
           23371,
           22172,
           21395,
           21332,
           21242,
           20783,
           20205
          ],
          "colorscale": [
           [
            0,
            "#00224e"
           ],
           [
            0.1111111111111111,
            "#123570"
           ],
           [
            0.2222222222222222,
            "#3b496c"
           ],
           [
            0.3333333333333333,
            "#575d6d"
           ],
           [
            0.4444444444444444,
            "#707173"
           ],
           [
            0.5555555555555556,
            "#8a8678"
           ],
           [
            0.6666666666666666,
            "#a59c74"
           ],
           [
            0.7777777777777778,
            "#c3b369"
           ],
           [
            0.8888888888888888,
            "#e1cc55"
           ],
           [
            1,
            "#fee838"
           ]
          ]
         },
         "text": [
          23371,
          22172,
          21395,
          21332,
          21242,
          20783,
          20205
         ],
         "textposition": "outside",
         "type": "bar",
         "x": [
          "Friday",
          "Saturday",
          "Thursday",
          "Wednesday",
          "Tuesday",
          "Monday",
          "Sunday"
         ],
         "y": [
          23371,
          22172,
          21395,
          21332,
          21242,
          20783,
          20205
         ]
        }
       ],
       "layout": {
        "template": {
         "data": {
          "bar": [
           {
            "error_x": {
             "color": "#2a3f5f"
            },
            "error_y": {
             "color": "#2a3f5f"
            },
            "marker": {
             "line": {
              "color": "#E5ECF6",
              "width": 0.5
             }
            },
            "type": "bar"
           }
          ],
          "barpolar": [
           {
            "marker": {
             "line": {
              "color": "#E5ECF6",
              "width": 0.5
             }
            },
            "type": "barpolar"
           }
          ],
          "carpet": [
           {
            "aaxis": {
             "endlinecolor": "#2a3f5f",
             "gridcolor": "white",
             "linecolor": "white",
             "minorgridcolor": "white",
             "startlinecolor": "#2a3f5f"
            },
            "baxis": {
             "endlinecolor": "#2a3f5f",
             "gridcolor": "white",
             "linecolor": "white",
             "minorgridcolor": "white",
             "startlinecolor": "#2a3f5f"
            },
            "type": "carpet"
           }
          ],
          "choropleth": [
           {
            "colorbar": {
             "outlinewidth": 0,
             "ticks": ""
            },
            "type": "choropleth"
           }
          ],
          "contour": [
           {
            "colorbar": {
             "outlinewidth": 0,
             "ticks": ""
            },
            "colorscale": [
             [
              0,
              "#0d0887"
             ],
             [
              0.1111111111111111,
              "#46039f"
             ],
             [
              0.2222222222222222,
              "#7201a8"
             ],
             [
              0.3333333333333333,
              "#9c179e"
             ],
             [
              0.4444444444444444,
              "#bd3786"
             ],
             [
              0.5555555555555556,
              "#d8576b"
             ],
             [
              0.6666666666666666,
              "#ed7953"
             ],
             [
              0.7777777777777778,
              "#fb9f3a"
             ],
             [
              0.8888888888888888,
              "#fdca26"
             ],
             [
              1,
              "#f0f921"
             ]
            ],
            "type": "contour"
           }
          ],
          "contourcarpet": [
           {
            "colorbar": {
             "outlinewidth": 0,
             "ticks": ""
            },
            "type": "contourcarpet"
           }
          ],
          "heatmap": [
           {
            "colorbar": {
             "outlinewidth": 0,
             "ticks": ""
            },
            "colorscale": [
             [
              0,
              "#0d0887"
             ],
             [
              0.1111111111111111,
              "#46039f"
             ],
             [
              0.2222222222222222,
              "#7201a8"
             ],
             [
              0.3333333333333333,
              "#9c179e"
             ],
             [
              0.4444444444444444,
              "#bd3786"
             ],
             [
              0.5555555555555556,
              "#d8576b"
             ],
             [
              0.6666666666666666,
              "#ed7953"
             ],
             [
              0.7777777777777778,
              "#fb9f3a"
             ],
             [
              0.8888888888888888,
              "#fdca26"
             ],
             [
              1,
              "#f0f921"
             ]
            ],
            "type": "heatmap"
           }
          ],
          "heatmapgl": [
           {
            "colorbar": {
             "outlinewidth": 0,
             "ticks": ""
            },
            "colorscale": [
             [
              0,
              "#0d0887"
             ],
             [
              0.1111111111111111,
              "#46039f"
             ],
             [
              0.2222222222222222,
              "#7201a8"
             ],
             [
              0.3333333333333333,
              "#9c179e"
             ],
             [
              0.4444444444444444,
              "#bd3786"
             ],
             [
              0.5555555555555556,
              "#d8576b"
             ],
             [
              0.6666666666666666,
              "#ed7953"
             ],
             [
              0.7777777777777778,
              "#fb9f3a"
             ],
             [
              0.8888888888888888,
              "#fdca26"
             ],
             [
              1,
              "#f0f921"
             ]
            ],
            "type": "heatmapgl"
           }
          ],
          "histogram": [
           {
            "marker": {
             "colorbar": {
              "outlinewidth": 0,
              "ticks": ""
             }
            },
            "type": "histogram"
           }
          ],
          "histogram2d": [
           {
            "colorbar": {
             "outlinewidth": 0,
             "ticks": ""
            },
            "colorscale": [
             [
              0,
              "#0d0887"
             ],
             [
              0.1111111111111111,
              "#46039f"
             ],
             [
              0.2222222222222222,
              "#7201a8"
             ],
             [
              0.3333333333333333,
              "#9c179e"
             ],
             [
              0.4444444444444444,
              "#bd3786"
             ],
             [
              0.5555555555555556,
              "#d8576b"
             ],
             [
              0.6666666666666666,
              "#ed7953"
             ],
             [
              0.7777777777777778,
              "#fb9f3a"
             ],
             [
              0.8888888888888888,
              "#fdca26"
             ],
             [
              1,
              "#f0f921"
             ]
            ],
            "type": "histogram2d"
           }
          ],
          "histogram2dcontour": [
           {
            "colorbar": {
             "outlinewidth": 0,
             "ticks": ""
            },
            "colorscale": [
             [
              0,
              "#0d0887"
             ],
             [
              0.1111111111111111,
              "#46039f"
             ],
             [
              0.2222222222222222,
              "#7201a8"
             ],
             [
              0.3333333333333333,
              "#9c179e"
             ],
             [
              0.4444444444444444,
              "#bd3786"
             ],
             [
              0.5555555555555556,
              "#d8576b"
             ],
             [
              0.6666666666666666,
              "#ed7953"
             ],
             [
              0.7777777777777778,
              "#fb9f3a"
             ],
             [
              0.8888888888888888,
              "#fdca26"
             ],
             [
              1,
              "#f0f921"
             ]
            ],
            "type": "histogram2dcontour"
           }
          ],
          "mesh3d": [
           {
            "colorbar": {
             "outlinewidth": 0,
             "ticks": ""
            },
            "type": "mesh3d"
           }
          ],
          "parcoords": [
           {
            "line": {
             "colorbar": {
              "outlinewidth": 0,
              "ticks": ""
             }
            },
            "type": "parcoords"
           }
          ],
          "pie": [
           {
            "automargin": true,
            "type": "pie"
           }
          ],
          "scatter": [
           {
            "marker": {
             "colorbar": {
              "outlinewidth": 0,
              "ticks": ""
             }
            },
            "type": "scatter"
           }
          ],
          "scatter3d": [
           {
            "line": {
             "colorbar": {
              "outlinewidth": 0,
              "ticks": ""
             }
            },
            "marker": {
             "colorbar": {
              "outlinewidth": 0,
              "ticks": ""
             }
            },
            "type": "scatter3d"
           }
          ],
          "scattercarpet": [
           {
            "marker": {
             "colorbar": {
              "outlinewidth": 0,
              "ticks": ""
             }
            },
            "type": "scattercarpet"
           }
          ],
          "scattergeo": [
           {
            "marker": {
             "colorbar": {
              "outlinewidth": 0,
              "ticks": ""
             }
            },
            "type": "scattergeo"
           }
          ],
          "scattergl": [
           {
            "marker": {
             "colorbar": {
              "outlinewidth": 0,
              "ticks": ""
             }
            },
            "type": "scattergl"
           }
          ],
          "scattermapbox": [
           {
            "marker": {
             "colorbar": {
              "outlinewidth": 0,
              "ticks": ""
             }
            },
            "type": "scattermapbox"
           }
          ],
          "scatterpolar": [
           {
            "marker": {
             "colorbar": {
              "outlinewidth": 0,
              "ticks": ""
             }
            },
            "type": "scatterpolar"
           }
          ],
          "scatterpolargl": [
           {
            "marker": {
             "colorbar": {
              "outlinewidth": 0,
              "ticks": ""
             }
            },
            "type": "scatterpolargl"
           }
          ],
          "scatterternary": [
           {
            "marker": {
             "colorbar": {
              "outlinewidth": 0,
              "ticks": ""
             }
            },
            "type": "scatterternary"
           }
          ],
          "surface": [
           {
            "colorbar": {
             "outlinewidth": 0,
             "ticks": ""
            },
            "colorscale": [
             [
              0,
              "#0d0887"
             ],
             [
              0.1111111111111111,
              "#46039f"
             ],
             [
              0.2222222222222222,
              "#7201a8"
             ],
             [
              0.3333333333333333,
              "#9c179e"
             ],
             [
              0.4444444444444444,
              "#bd3786"
             ],
             [
              0.5555555555555556,
              "#d8576b"
             ],
             [
              0.6666666666666666,
              "#ed7953"
             ],
             [
              0.7777777777777778,
              "#fb9f3a"
             ],
             [
              0.8888888888888888,
              "#fdca26"
             ],
             [
              1,
              "#f0f921"
             ]
            ],
            "type": "surface"
           }
          ],
          "table": [
           {
            "cells": {
             "fill": {
              "color": "#EBF0F8"
             },
             "line": {
              "color": "white"
             }
            },
            "header": {
             "fill": {
              "color": "#C8D4E3"
             },
             "line": {
              "color": "white"
             }
            },
            "type": "table"
           }
          ]
         },
         "layout": {
          "annotationdefaults": {
           "arrowcolor": "#2a3f5f",
           "arrowhead": 0,
           "arrowwidth": 1
          },
          "coloraxis": {
           "colorbar": {
            "outlinewidth": 0,
            "ticks": ""
           }
          },
          "colorscale": {
           "diverging": [
            [
             0,
             "#8e0152"
            ],
            [
             0.1,
             "#c51b7d"
            ],
            [
             0.2,
             "#de77ae"
            ],
            [
             0.3,
             "#f1b6da"
            ],
            [
             0.4,
             "#fde0ef"
            ],
            [
             0.5,
             "#f7f7f7"
            ],
            [
             0.6,
             "#e6f5d0"
            ],
            [
             0.7,
             "#b8e186"
            ],
            [
             0.8,
             "#7fbc41"
            ],
            [
             0.9,
             "#4d9221"
            ],
            [
             1,
             "#276419"
            ]
           ],
           "sequential": [
            [
             0,
             "#0d0887"
            ],
            [
             0.1111111111111111,
             "#46039f"
            ],
            [
             0.2222222222222222,
             "#7201a8"
            ],
            [
             0.3333333333333333,
             "#9c179e"
            ],
            [
             0.4444444444444444,
             "#bd3786"
            ],
            [
             0.5555555555555556,
             "#d8576b"
            ],
            [
             0.6666666666666666,
             "#ed7953"
            ],
            [
             0.7777777777777778,
             "#fb9f3a"
            ],
            [
             0.8888888888888888,
             "#fdca26"
            ],
            [
             1,
             "#f0f921"
            ]
           ],
           "sequentialminus": [
            [
             0,
             "#0d0887"
            ],
            [
             0.1111111111111111,
             "#46039f"
            ],
            [
             0.2222222222222222,
             "#7201a8"
            ],
            [
             0.3333333333333333,
             "#9c179e"
            ],
            [
             0.4444444444444444,
             "#bd3786"
            ],
            [
             0.5555555555555556,
             "#d8576b"
            ],
            [
             0.6666666666666666,
             "#ed7953"
            ],
            [
             0.7777777777777778,
             "#fb9f3a"
            ],
            [
             0.8888888888888888,
             "#fdca26"
            ],
            [
             1,
             "#f0f921"
            ]
           ]
          },
          "colorway": [
           "#636efa",
           "#EF553B",
           "#00cc96",
           "#ab63fa",
           "#FFA15A",
           "#19d3f3",
           "#FF6692",
           "#B6E880",
           "#FF97FF",
           "#FECB52"
          ],
          "font": {
           "color": "#2a3f5f"
          },
          "geo": {
           "bgcolor": "white",
           "lakecolor": "white",
           "landcolor": "#E5ECF6",
           "showlakes": true,
           "showland": true,
           "subunitcolor": "white"
          },
          "hoverlabel": {
           "align": "left"
          },
          "hovermode": "closest",
          "mapbox": {
           "style": "light"
          },
          "paper_bgcolor": "white",
          "plot_bgcolor": "#E5ECF6",
          "polar": {
           "angularaxis": {
            "gridcolor": "white",
            "linecolor": "white",
            "ticks": ""
           },
           "bgcolor": "#E5ECF6",
           "radialaxis": {
            "gridcolor": "white",
            "linecolor": "white",
            "ticks": ""
           }
          },
          "scene": {
           "xaxis": {
            "backgroundcolor": "#E5ECF6",
            "gridcolor": "white",
            "gridwidth": 2,
            "linecolor": "white",
            "showbackground": true,
            "ticks": "",
            "zerolinecolor": "white"
           },
           "yaxis": {
            "backgroundcolor": "#E5ECF6",
            "gridcolor": "white",
            "gridwidth": 2,
            "linecolor": "white",
            "showbackground": true,
            "ticks": "",
            "zerolinecolor": "white"
           },
           "zaxis": {
            "backgroundcolor": "#E5ECF6",
            "gridcolor": "white",
            "gridwidth": 2,
            "linecolor": "white",
            "showbackground": true,
            "ticks": "",
            "zerolinecolor": "white"
           }
          },
          "shapedefaults": {
           "line": {
            "color": "#2a3f5f"
           }
          },
          "ternary": {
           "aaxis": {
            "gridcolor": "white",
            "linecolor": "white",
            "ticks": ""
           },
           "baxis": {
            "gridcolor": "white",
            "linecolor": "white",
            "ticks": ""
           },
           "bgcolor": "#E5ECF6",
           "caxis": {
            "gridcolor": "white",
            "linecolor": "white",
            "ticks": ""
           }
          },
          "title": {
           "x": 0.05
          },
          "xaxis": {
           "automargin": true,
           "gridcolor": "white",
           "linecolor": "white",
           "ticks": "",
           "title": {
            "standoff": 15
           },
           "zerolinecolor": "white",
           "zerolinewidth": 2
          },
          "yaxis": {
           "automargin": true,
           "gridcolor": "white",
           "linecolor": "white",
           "ticks": "",
           "title": {
            "standoff": 15
           },
           "zerolinecolor": "white",
           "zerolinewidth": 2
          }
         }
        },
        "title": {
         "text": "Figure 1 - Number of Incidents per Day od Week",
         "x": 0.5
        },
        "xaxis": {
         "title": {
          "text": "Day of Week"
         }
        },
        "yaxis": {
         "title": {
          "text": "Number of Incidents"
         }
        }
       }
      },
      "text/html": [
       "<div>\n",
       "        \n",
       "        \n",
       "            <div id=\"b2aed95d-b608-4826-8439-b5e8a84c7149\" class=\"plotly-graph-div\" style=\"height:525px; width:100%;\"></div>\n",
       "            <script type=\"text/javascript\">\n",
       "                require([\"plotly\"], function(Plotly) {\n",
       "                    window.PLOTLYENV=window.PLOTLYENV || {};\n",
       "                    \n",
       "                if (document.getElementById(\"b2aed95d-b608-4826-8439-b5e8a84c7149\")) {\n",
       "                    Plotly.newPlot(\n",
       "                        'b2aed95d-b608-4826-8439-b5e8a84c7149',\n",
       "                        [{\"marker\": {\"color\": [23371, 22172, 21395, 21332, 21242, 20783, 20205], \"colorscale\": [[0.0, \"#00224e\"], [0.1111111111111111, \"#123570\"], [0.2222222222222222, \"#3b496c\"], [0.3333333333333333, \"#575d6d\"], [0.4444444444444444, \"#707173\"], [0.5555555555555556, \"#8a8678\"], [0.6666666666666666, \"#a59c74\"], [0.7777777777777778, \"#c3b369\"], [0.8888888888888888, \"#e1cc55\"], [1.0, \"#fee838\"]]}, \"text\": [23371.0, 22172.0, 21395.0, 21332.0, 21242.0, 20783.0, 20205.0], \"textposition\": \"outside\", \"type\": \"bar\", \"x\": [\"Friday\", \"Saturday\", \"Thursday\", \"Wednesday\", \"Tuesday\", \"Monday\", \"Sunday\"], \"y\": [23371, 22172, 21395, 21332, 21242, 20783, 20205]}],\n",
       "                        {\"template\": {\"data\": {\"bar\": [{\"error_x\": {\"color\": \"#2a3f5f\"}, \"error_y\": {\"color\": \"#2a3f5f\"}, \"marker\": {\"line\": {\"color\": \"#E5ECF6\", \"width\": 0.5}}, \"type\": \"bar\"}], \"barpolar\": [{\"marker\": {\"line\": {\"color\": \"#E5ECF6\", \"width\": 0.5}}, \"type\": \"barpolar\"}], \"carpet\": [{\"aaxis\": {\"endlinecolor\": \"#2a3f5f\", \"gridcolor\": \"white\", \"linecolor\": \"white\", \"minorgridcolor\": \"white\", \"startlinecolor\": \"#2a3f5f\"}, \"baxis\": {\"endlinecolor\": \"#2a3f5f\", \"gridcolor\": \"white\", \"linecolor\": \"white\", \"minorgridcolor\": \"white\", \"startlinecolor\": \"#2a3f5f\"}, \"type\": \"carpet\"}], \"choropleth\": [{\"colorbar\": {\"outlinewidth\": 0, \"ticks\": \"\"}, \"type\": \"choropleth\"}], \"contour\": [{\"colorbar\": {\"outlinewidth\": 0, \"ticks\": \"\"}, \"colorscale\": [[0.0, \"#0d0887\"], [0.1111111111111111, \"#46039f\"], [0.2222222222222222, \"#7201a8\"], [0.3333333333333333, \"#9c179e\"], [0.4444444444444444, \"#bd3786\"], [0.5555555555555556, \"#d8576b\"], [0.6666666666666666, \"#ed7953\"], [0.7777777777777778, \"#fb9f3a\"], [0.8888888888888888, \"#fdca26\"], [1.0, \"#f0f921\"]], \"type\": \"contour\"}], \"contourcarpet\": [{\"colorbar\": {\"outlinewidth\": 0, \"ticks\": \"\"}, \"type\": \"contourcarpet\"}], \"heatmap\": [{\"colorbar\": {\"outlinewidth\": 0, \"ticks\": \"\"}, \"colorscale\": [[0.0, \"#0d0887\"], [0.1111111111111111, \"#46039f\"], [0.2222222222222222, \"#7201a8\"], [0.3333333333333333, \"#9c179e\"], [0.4444444444444444, \"#bd3786\"], [0.5555555555555556, \"#d8576b\"], [0.6666666666666666, \"#ed7953\"], [0.7777777777777778, \"#fb9f3a\"], [0.8888888888888888, \"#fdca26\"], [1.0, \"#f0f921\"]], \"type\": \"heatmap\"}], \"heatmapgl\": [{\"colorbar\": {\"outlinewidth\": 0, \"ticks\": \"\"}, \"colorscale\": [[0.0, \"#0d0887\"], [0.1111111111111111, \"#46039f\"], [0.2222222222222222, \"#7201a8\"], [0.3333333333333333, \"#9c179e\"], [0.4444444444444444, \"#bd3786\"], [0.5555555555555556, \"#d8576b\"], [0.6666666666666666, \"#ed7953\"], [0.7777777777777778, \"#fb9f3a\"], [0.8888888888888888, \"#fdca26\"], [1.0, \"#f0f921\"]], \"type\": \"heatmapgl\"}], \"histogram\": [{\"marker\": {\"colorbar\": {\"outlinewidth\": 0, \"ticks\": \"\"}}, \"type\": \"histogram\"}], \"histogram2d\": [{\"colorbar\": {\"outlinewidth\": 0, \"ticks\": \"\"}, \"colorscale\": [[0.0, \"#0d0887\"], [0.1111111111111111, \"#46039f\"], [0.2222222222222222, \"#7201a8\"], [0.3333333333333333, \"#9c179e\"], [0.4444444444444444, \"#bd3786\"], [0.5555555555555556, \"#d8576b\"], [0.6666666666666666, \"#ed7953\"], [0.7777777777777778, \"#fb9f3a\"], [0.8888888888888888, \"#fdca26\"], [1.0, \"#f0f921\"]], \"type\": \"histogram2d\"}], \"histogram2dcontour\": [{\"colorbar\": {\"outlinewidth\": 0, \"ticks\": \"\"}, \"colorscale\": [[0.0, \"#0d0887\"], [0.1111111111111111, \"#46039f\"], [0.2222222222222222, \"#7201a8\"], [0.3333333333333333, \"#9c179e\"], [0.4444444444444444, \"#bd3786\"], [0.5555555555555556, \"#d8576b\"], [0.6666666666666666, \"#ed7953\"], [0.7777777777777778, \"#fb9f3a\"], [0.8888888888888888, \"#fdca26\"], [1.0, \"#f0f921\"]], \"type\": \"histogram2dcontour\"}], \"mesh3d\": [{\"colorbar\": {\"outlinewidth\": 0, \"ticks\": \"\"}, \"type\": \"mesh3d\"}], \"parcoords\": [{\"line\": {\"colorbar\": {\"outlinewidth\": 0, \"ticks\": \"\"}}, \"type\": \"parcoords\"}], \"pie\": [{\"automargin\": true, \"type\": \"pie\"}], \"scatter\": [{\"marker\": {\"colorbar\": {\"outlinewidth\": 0, \"ticks\": \"\"}}, \"type\": \"scatter\"}], \"scatter3d\": [{\"line\": {\"colorbar\": {\"outlinewidth\": 0, \"ticks\": \"\"}}, \"marker\": {\"colorbar\": {\"outlinewidth\": 0, \"ticks\": \"\"}}, \"type\": \"scatter3d\"}], \"scattercarpet\": [{\"marker\": {\"colorbar\": {\"outlinewidth\": 0, \"ticks\": \"\"}}, \"type\": \"scattercarpet\"}], \"scattergeo\": [{\"marker\": {\"colorbar\": {\"outlinewidth\": 0, \"ticks\": \"\"}}, \"type\": \"scattergeo\"}], \"scattergl\": [{\"marker\": {\"colorbar\": {\"outlinewidth\": 0, \"ticks\": \"\"}}, \"type\": \"scattergl\"}], \"scattermapbox\": [{\"marker\": {\"colorbar\": {\"outlinewidth\": 0, \"ticks\": \"\"}}, \"type\": \"scattermapbox\"}], \"scatterpolar\": [{\"marker\": {\"colorbar\": {\"outlinewidth\": 0, \"ticks\": \"\"}}, \"type\": \"scatterpolar\"}], \"scatterpolargl\": [{\"marker\": {\"colorbar\": {\"outlinewidth\": 0, \"ticks\": \"\"}}, \"type\": \"scatterpolargl\"}], \"scatterternary\": [{\"marker\": {\"colorbar\": {\"outlinewidth\": 0, \"ticks\": \"\"}}, \"type\": \"scatterternary\"}], \"surface\": [{\"colorbar\": {\"outlinewidth\": 0, \"ticks\": \"\"}, \"colorscale\": [[0.0, \"#0d0887\"], [0.1111111111111111, \"#46039f\"], [0.2222222222222222, \"#7201a8\"], [0.3333333333333333, \"#9c179e\"], [0.4444444444444444, \"#bd3786\"], [0.5555555555555556, \"#d8576b\"], [0.6666666666666666, \"#ed7953\"], [0.7777777777777778, \"#fb9f3a\"], [0.8888888888888888, \"#fdca26\"], [1.0, \"#f0f921\"]], \"type\": \"surface\"}], \"table\": [{\"cells\": {\"fill\": {\"color\": \"#EBF0F8\"}, \"line\": {\"color\": \"white\"}}, \"header\": {\"fill\": {\"color\": \"#C8D4E3\"}, \"line\": {\"color\": \"white\"}}, \"type\": \"table\"}]}, \"layout\": {\"annotationdefaults\": {\"arrowcolor\": \"#2a3f5f\", \"arrowhead\": 0, \"arrowwidth\": 1}, \"coloraxis\": {\"colorbar\": {\"outlinewidth\": 0, \"ticks\": \"\"}}, \"colorscale\": {\"diverging\": [[0, \"#8e0152\"], [0.1, \"#c51b7d\"], [0.2, \"#de77ae\"], [0.3, \"#f1b6da\"], [0.4, \"#fde0ef\"], [0.5, \"#f7f7f7\"], [0.6, \"#e6f5d0\"], [0.7, \"#b8e186\"], [0.8, \"#7fbc41\"], [0.9, \"#4d9221\"], [1, \"#276419\"]], \"sequential\": [[0.0, \"#0d0887\"], [0.1111111111111111, \"#46039f\"], [0.2222222222222222, \"#7201a8\"], [0.3333333333333333, \"#9c179e\"], [0.4444444444444444, \"#bd3786\"], [0.5555555555555556, \"#d8576b\"], [0.6666666666666666, \"#ed7953\"], [0.7777777777777778, \"#fb9f3a\"], [0.8888888888888888, \"#fdca26\"], [1.0, \"#f0f921\"]], \"sequentialminus\": [[0.0, \"#0d0887\"], [0.1111111111111111, \"#46039f\"], [0.2222222222222222, \"#7201a8\"], [0.3333333333333333, \"#9c179e\"], [0.4444444444444444, \"#bd3786\"], [0.5555555555555556, \"#d8576b\"], [0.6666666666666666, \"#ed7953\"], [0.7777777777777778, \"#fb9f3a\"], [0.8888888888888888, \"#fdca26\"], [1.0, \"#f0f921\"]]}, \"colorway\": [\"#636efa\", \"#EF553B\", \"#00cc96\", \"#ab63fa\", \"#FFA15A\", \"#19d3f3\", \"#FF6692\", \"#B6E880\", \"#FF97FF\", \"#FECB52\"], \"font\": {\"color\": \"#2a3f5f\"}, \"geo\": {\"bgcolor\": \"white\", \"lakecolor\": \"white\", \"landcolor\": \"#E5ECF6\", \"showlakes\": true, \"showland\": true, \"subunitcolor\": \"white\"}, \"hoverlabel\": {\"align\": \"left\"}, \"hovermode\": \"closest\", \"mapbox\": {\"style\": \"light\"}, \"paper_bgcolor\": \"white\", \"plot_bgcolor\": \"#E5ECF6\", \"polar\": {\"angularaxis\": {\"gridcolor\": \"white\", \"linecolor\": \"white\", \"ticks\": \"\"}, \"bgcolor\": \"#E5ECF6\", \"radialaxis\": {\"gridcolor\": \"white\", \"linecolor\": \"white\", \"ticks\": \"\"}}, \"scene\": {\"xaxis\": {\"backgroundcolor\": \"#E5ECF6\", \"gridcolor\": \"white\", \"gridwidth\": 2, \"linecolor\": \"white\", \"showbackground\": true, \"ticks\": \"\", \"zerolinecolor\": \"white\"}, \"yaxis\": {\"backgroundcolor\": \"#E5ECF6\", \"gridcolor\": \"white\", \"gridwidth\": 2, \"linecolor\": \"white\", \"showbackground\": true, \"ticks\": \"\", \"zerolinecolor\": \"white\"}, \"zaxis\": {\"backgroundcolor\": \"#E5ECF6\", \"gridcolor\": \"white\", \"gridwidth\": 2, \"linecolor\": \"white\", \"showbackground\": true, \"ticks\": \"\", \"zerolinecolor\": \"white\"}}, \"shapedefaults\": {\"line\": {\"color\": \"#2a3f5f\"}}, \"ternary\": {\"aaxis\": {\"gridcolor\": \"white\", \"linecolor\": \"white\", \"ticks\": \"\"}, \"baxis\": {\"gridcolor\": \"white\", \"linecolor\": \"white\", \"ticks\": \"\"}, \"bgcolor\": \"#E5ECF6\", \"caxis\": {\"gridcolor\": \"white\", \"linecolor\": \"white\", \"ticks\": \"\"}}, \"title\": {\"x\": 0.05}, \"xaxis\": {\"automargin\": true, \"gridcolor\": \"white\", \"linecolor\": \"white\", \"ticks\": \"\", \"title\": {\"standoff\": 15}, \"zerolinecolor\": \"white\", \"zerolinewidth\": 2}, \"yaxis\": {\"automargin\": true, \"gridcolor\": \"white\", \"linecolor\": \"white\", \"ticks\": \"\", \"title\": {\"standoff\": 15}, \"zerolinecolor\": \"white\", \"zerolinewidth\": 2}}}, \"title\": {\"text\": \"Figure 1 - Number of Incidents per Day od Week\", \"x\": 0.5}, \"xaxis\": {\"title\": {\"text\": \"Day of Week\"}}, \"yaxis\": {\"title\": {\"text\": \"Number of Incidents\"}}},\n",
       "                        {\"responsive\": true}\n",
       "                    ).then(function(){\n",
       "                            \n",
       "var gd = document.getElementById('b2aed95d-b608-4826-8439-b5e8a84c7149');\n",
       "var x = new MutationObserver(function (mutations, observer) {{\n",
       "        var display = window.getComputedStyle(gd).display;\n",
       "        if (!display || display === 'none') {{\n",
       "            console.log([gd, 'removed!']);\n",
       "            Plotly.purge(gd);\n",
       "            observer.disconnect();\n",
       "        }}\n",
       "}});\n",
       "\n",
       "// Listen for the removal of the full notebook cells\n",
       "var notebookContainer = gd.closest('#notebook-container');\n",
       "if (notebookContainer) {{\n",
       "    x.observe(notebookContainer, {childList: true});\n",
       "}}\n",
       "\n",
       "// Listen for the clearing of the current output cell\n",
       "var outputEl = gd.closest('.output');\n",
       "if (outputEl) {{\n",
       "    x.observe(outputEl, {childList: true});\n",
       "}}\n",
       "\n",
       "                        })\n",
       "                };\n",
       "                });\n",
       "            </script>\n",
       "        </div>"
      ]
     },
     "metadata": {},
     "output_type": "display_data"
    },
    {
     "data": {
      "image/png": "[encoded data removed]"
     },
     "metadata": {},
     "output_type": "display_data"
    }
   ],
   "source": [
    "# Plotting Number of Incidents per Day od Week\n",
    "value = incidents['DayOfWeek'].value_counts().round(0)\n",
    "label = value.index\n",
    "trace = go.Bar(y=value, \n",
    "               x=label,text = value,textposition= \"outside\",\n",
    "               marker={'color': value,\n",
    "                   'colorscale': 'Cividis'})\n",
    "layout = go.Layout(title=\"Figure 1 - Number of Incidents per Day od Week\", \n",
    "                   xaxis={'title' : \"Day of Week\"},\n",
    "                  yaxis={'title' : \"Number of Incidents\"},\n",
    "                  title_x=0.5)\n",
    "fig = go.Figure(data=trace, layout=layout)\n",
    "iplot(fig)\n",
    "fig.show('png')"
   ]
  },
  {
   "cell_type": "code",
   "execution_count": 207,
   "metadata": {},
   "outputs": [
    {
     "data": {
      "text/html": [
       "\n",
       "        <script src=\"/static/components/requirejs/require.js\"></script>\n",
       "        <script>\n",
       "          requirejs.config({\n",
       "            paths: {\n",
       "              base: '/static/base',\n",
       "              plotly: 'https://cdn.plot.ly/plotly-latest.min.js?noext',\n",
       "            },\n",
       "          });\n",
       "        </script>\n",
       "        "
      ],
      "text/plain": [
       "<IPython.core.display.HTML object>"
      ]
     },
     "metadata": {},
     "output_type": "display_data"
    },
    {
     "data": {
      "text/html": [
       "\n",
       "        <script src=\"/static/components/requirejs/require.js\"></script>\n",
       "        <script>\n",
       "          requirejs.config({\n",
       "            paths: {\n",
       "              base: '/static/base',\n",
       "              plotly: 'https://cdn.plot.ly/plotly-latest.min.js?noext',\n",
       "            },\n",
       "          });\n",
       "        </script>\n",
       "        "
      ],
      "text/plain": [
       "<IPython.core.display.HTML object>"
      ]
     },
     "metadata": {},
     "output_type": "display_data"
    },
    {
     "data": {
      "text/html": [
       "\n",
       "        <script src=\"/static/components/requirejs/require.js\"></script>\n",
       "        <script>\n",
       "          requirejs.config({\n",
       "            paths: {\n",
       "              base: '/static/base',\n",
       "              plotly: 'https://cdn.plot.ly/plotly-latest.min.js?noext',\n",
       "            },\n",
       "          });\n",
       "        </script>\n",
       "        "
      ],
      "text/plain": [
       "<IPython.core.display.HTML object>"
      ]
     },
     "metadata": {},
     "output_type": "display_data"
    },
    {
     "data": {
      "text/html": [
       "\n",
       "        <script src=\"/static/components/requirejs/require.js\"></script>\n",
       "        <script>\n",
       "          requirejs.config({\n",
       "            paths: {\n",
       "              base: '/static/base',\n",
       "              plotly: 'https://cdn.plot.ly/plotly-latest.min.js?noext',\n",
       "            },\n",
       "          });\n",
       "        </script>\n",
       "        "
      ],
      "text/plain": [
       "<IPython.core.display.HTML object>"
      ]
     },
     "metadata": {},
     "output_type": "display_data"
    },
    {
     "data": {
      "text/html": [
       "\n",
       "        <script src=\"/static/components/requirejs/require.js\"></script>\n",
       "        <script>\n",
       "          requirejs.config({\n",
       "            paths: {\n",
       "              base: '/static/base',\n",
       "              plotly: 'https://cdn.plot.ly/plotly-latest.min.js?noext',\n",
       "            },\n",
       "          });\n",
       "        </script>\n",
       "        "
      ],
      "text/plain": [
       "<IPython.core.display.HTML object>"
      ]
     },
     "metadata": {},
     "output_type": "display_data"
    },
    {
     "data": {
      "text/html": [
       "\n",
       "        <script src=\"/static/components/requirejs/require.js\"></script>\n",
       "        <script>\n",
       "          requirejs.config({\n",
       "            paths: {\n",
       "              base: '/static/base',\n",
       "              plotly: 'https://cdn.plot.ly/plotly-latest.min.js?noext',\n",
       "            },\n",
       "          });\n",
       "        </script>\n",
       "        "
      ],
      "text/plain": [
       "<IPython.core.display.HTML object>"
      ]
     },
     "metadata": {},
     "output_type": "display_data"
    },
    {
     "data": {
      "text/html": [
       "\n",
       "        <script src=\"/static/components/requirejs/require.js\"></script>\n",
       "        <script>\n",
       "          requirejs.config({\n",
       "            paths: {\n",
       "              base: '/static/base',\n",
       "              plotly: 'https://cdn.plot.ly/plotly-latest.min.js?noext',\n",
       "            },\n",
       "          });\n",
       "        </script>\n",
       "        "
      ],
      "text/plain": [
       "<IPython.core.display.HTML object>"
      ]
     },
     "metadata": {},
     "output_type": "display_data"
    },
    {
     "data": {
      "text/html": [
       "\n",
       "        <script src=\"/static/components/requirejs/require.js\"></script>\n",
       "        <script>\n",
       "          requirejs.config({\n",
       "            paths: {\n",
       "              base: '/static/base',\n",
       "              plotly: 'https://cdn.plot.ly/plotly-latest.min.js?noext',\n",
       "            },\n",
       "          });\n",
       "        </script>\n",
       "        "
      ],
      "text/plain": [
       "<IPython.core.display.HTML object>"
      ]
     },
     "metadata": {},
     "output_type": "display_data"
    },
    {
     "data": {
      "text/html": [
       "\n",
       "        <script src=\"/static/components/requirejs/require.js\"></script>\n",
       "        <script>\n",
       "          requirejs.config({\n",
       "            paths: {\n",
       "              base: '/static/base',\n",
       "              plotly: 'https://cdn.plot.ly/plotly-latest.min.js?noext',\n",
       "            },\n",
       "          });\n",
       "        </script>\n",
       "        "
      ],
      "text/plain": [
       "<IPython.core.display.HTML object>"
      ]
     },
     "metadata": {},
     "output_type": "display_data"
    },
    {
     "data": {
      "text/html": [
       "\n",
       "        <script src=\"/static/components/requirejs/require.js\"></script>\n",
       "        <script>\n",
       "          requirejs.config({\n",
       "            paths: {\n",
       "              base: '/static/base',\n",
       "              plotly: 'https://cdn.plot.ly/plotly-latest.min.js?noext',\n",
       "            },\n",
       "          });\n",
       "        </script>\n",
       "        "
      ],
      "text/plain": [
       "<IPython.core.display.HTML object>"
      ]
     },
     "metadata": {},
     "output_type": "display_data"
    },
    {
     "data": {
      "text/html": [
       "\n",
       "        <script src=\"/static/components/requirejs/require.js\"></script>\n",
       "        <script>\n",
       "          requirejs.config({\n",
       "            paths: {\n",
       "              base: '/static/base',\n",
       "              plotly: 'https://cdn.plot.ly/plotly-latest.min.js?noext',\n",
       "            },\n",
       "          });\n",
       "        </script>\n",
       "        "
      ],
      "text/plain": [
       "<IPython.core.display.HTML object>"
      ]
     },
     "metadata": {},
     "output_type": "display_data"
    },
    {
     "data": {
      "text/html": [
       "\n",
       "        <script src=\"/static/components/requirejs/require.js\"></script>\n",
       "        <script>\n",
       "          requirejs.config({\n",
       "            paths: {\n",
       "              base: '/static/base',\n",
       "              plotly: 'https://cdn.plot.ly/plotly-latest.min.js?noext',\n",
       "            },\n",
       "          });\n",
       "        </script>\n",
       "        "
      ],
      "text/plain": [
       "<IPython.core.display.HTML object>"
      ]
     },
     "metadata": {},
     "output_type": "display_data"
    },
    {
     "data": {
      "text/html": [
       "\n",
       "        <script src=\"/static/components/requirejs/require.js\"></script>\n",
       "        <script>\n",
       "          requirejs.config({\n",
       "            paths: {\n",
       "              base: '/static/base',\n",
       "              plotly: 'https://cdn.plot.ly/plotly-latest.min.js?noext',\n",
       "            },\n",
       "          });\n",
       "        </script>\n",
       "        "
      ],
      "text/plain": [
       "<IPython.core.display.HTML object>"
      ]
     },
     "metadata": {},
     "output_type": "display_data"
    },
    {
     "data": {
      "text/html": [
       "\n",
       "        <script src=\"/static/components/requirejs/require.js\"></script>\n",
       "        <script>\n",
       "          requirejs.config({\n",
       "            paths: {\n",
       "              base: '/static/base',\n",
       "              plotly: 'https://cdn.plot.ly/plotly-latest.min.js?noext',\n",
       "            },\n",
       "          });\n",
       "        </script>\n",
       "        "
      ],
      "text/plain": [
       "<IPython.core.display.HTML object>"
      ]
     },
     "metadata": {},
     "output_type": "display_data"
    },
    {
     "data": {
      "text/plain": [
       "LARCENY/THEFT                  40409\n",
       "OTHER OFFENSES                 19599\n",
       "NON-CRIMINAL                   17866\n",
       "ASSAULT                        13577\n",
       "VANDALISM                       8589\n",
       "VEHICLE THEFT                   6419\n",
       "WARRANTS                        5914\n",
       "BURGLARY                        5802\n",
       "SUSPICIOUS OCC                  5782\n",
       "MISSING PERSON                  4338\n",
       "DRUG/NARCOTIC                   4243\n",
       "ROBBERY                         3299\n",
       "FRAUD                           2635\n",
       "SECONDARY CODES                 1841\n",
       "TRESPASS                        1812\n",
       "WEAPON LAWS                     1658\n",
       "SEX OFFENSES, FORCIBLE           940\n",
       "STOLEN PROPERTY                  882\n",
       "RECOVERED VEHICLE                736\n",
       "DISORDERLY CONDUCT               658\n",
       "PROSTITUTION                     641\n",
       "FORGERY/COUNTERFEITING           619\n",
       "DRUNKENNESS                      465\n",
       "DRIVING UNDER THE INFLUENCE      378\n",
       "ARSON                            286\n",
       "KIDNAPPING                       257\n",
       "EMBEZZLEMENT                     168\n",
       "LIQUOR LAWS                      156\n",
       "RUNAWAY                          140\n",
       "SUICIDE                           69\n",
       "BRIBERY                           66\n",
       "EXTORTION                         60\n",
       "FAMILY OFFENSES                   53\n",
       "LOITERING                         42\n",
       "SEX OFFENSES, NON FORCIBLE        40\n",
       "BAD CHECKS                        34\n",
       "GAMBLING                          20\n",
       "PORNOGRAPHY/OBSCENE MAT            4\n",
       "TREA                               3\n",
       "Name: Category, dtype: int64"
      ]
     },
     "execution_count": 207,
     "metadata": {},
     "output_type": "execute_result"
    }
   ],
   "source": [
    "# Number of Incidents per Category\n",
    "incidents['Category'].value_counts()"
   ]
  },
  {
   "cell_type": "code",
   "execution_count": 208,
   "metadata": {},
   "outputs": [
    {
     "data": {
      "text/html": [
       "\n",
       "        <script src=\"/static/components/requirejs/require.js\"></script>\n",
       "        <script>\n",
       "          requirejs.config({\n",
       "            paths: {\n",
       "              base: '/static/base',\n",
       "              plotly: 'https://cdn.plot.ly/plotly-latest.min.js?noext',\n",
       "            },\n",
       "          });\n",
       "        </script>\n",
       "        "
      ],
      "text/plain": [
       "<IPython.core.display.HTML object>"
      ]
     },
     "metadata": {},
     "output_type": "display_data"
    },
    {
     "data": {
      "text/html": [
       "\n",
       "        <script src=\"/static/components/requirejs/require.js\"></script>\n",
       "        <script>\n",
       "          requirejs.config({\n",
       "            paths: {\n",
       "              base: '/static/base',\n",
       "              plotly: 'https://cdn.plot.ly/plotly-latest.min.js?noext',\n",
       "            },\n",
       "          });\n",
       "        </script>\n",
       "        "
      ],
      "text/plain": [
       "<IPython.core.display.HTML object>"
      ]
     },
     "metadata": {},
     "output_type": "display_data"
    },
    {
     "data": {
      "text/html": [
       "\n",
       "        <script src=\"/static/components/requirejs/require.js\"></script>\n",
       "        <script>\n",
       "          requirejs.config({\n",
       "            paths: {\n",
       "              base: '/static/base',\n",
       "              plotly: 'https://cdn.plot.ly/plotly-latest.min.js?noext',\n",
       "            },\n",
       "          });\n",
       "        </script>\n",
       "        "
      ],
      "text/plain": [
       "<IPython.core.display.HTML object>"
      ]
     },
     "metadata": {},
     "output_type": "display_data"
    },
    {
     "data": {
      "text/html": [
       "\n",
       "        <script src=\"/static/components/requirejs/require.js\"></script>\n",
       "        <script>\n",
       "          requirejs.config({\n",
       "            paths: {\n",
       "              base: '/static/base',\n",
       "              plotly: 'https://cdn.plot.ly/plotly-latest.min.js?noext',\n",
       "            },\n",
       "          });\n",
       "        </script>\n",
       "        "
      ],
      "text/plain": [
       "<IPython.core.display.HTML object>"
      ]
     },
     "metadata": {},
     "output_type": "display_data"
    },
    {
     "data": {
      "text/html": [
       "\n",
       "        <script src=\"/static/components/requirejs/require.js\"></script>\n",
       "        <script>\n",
       "          requirejs.config({\n",
       "            paths: {\n",
       "              base: '/static/base',\n",
       "              plotly: 'https://cdn.plot.ly/plotly-latest.min.js?noext',\n",
       "            },\n",
       "          });\n",
       "        </script>\n",
       "        "
      ],
      "text/plain": [
       "<IPython.core.display.HTML object>"
      ]
     },
     "metadata": {},
     "output_type": "display_data"
    },
    {
     "data": {
      "text/html": [
       "\n",
       "        <script src=\"/static/components/requirejs/require.js\"></script>\n",
       "        <script>\n",
       "          requirejs.config({\n",
       "            paths: {\n",
       "              base: '/static/base',\n",
       "              plotly: 'https://cdn.plot.ly/plotly-latest.min.js?noext',\n",
       "            },\n",
       "          });\n",
       "        </script>\n",
       "        "
      ],
      "text/plain": [
       "<IPython.core.display.HTML object>"
      ]
     },
     "metadata": {},
     "output_type": "display_data"
    },
    {
     "data": {
      "text/html": [
       "\n",
       "        <script src=\"/static/components/requirejs/require.js\"></script>\n",
       "        <script>\n",
       "          requirejs.config({\n",
       "            paths: {\n",
       "              base: '/static/base',\n",
       "              plotly: 'https://cdn.plot.ly/plotly-latest.min.js?noext',\n",
       "            },\n",
       "          });\n",
       "        </script>\n",
       "        "
      ],
      "text/plain": [
       "<IPython.core.display.HTML object>"
      ]
     },
     "metadata": {},
     "output_type": "display_data"
    },
    {
     "data": {
      "text/html": [
       "\n",
       "        <script src=\"/static/components/requirejs/require.js\"></script>\n",
       "        <script>\n",
       "          requirejs.config({\n",
       "            paths: {\n",
       "              base: '/static/base',\n",
       "              plotly: 'https://cdn.plot.ly/plotly-latest.min.js?noext',\n",
       "            },\n",
       "          });\n",
       "        </script>\n",
       "        "
      ],
      "text/plain": [
       "<IPython.core.display.HTML object>"
      ]
     },
     "metadata": {},
     "output_type": "display_data"
    },
    {
     "data": {
      "text/html": [
       "\n",
       "        <script src=\"/static/components/requirejs/require.js\"></script>\n",
       "        <script>\n",
       "          requirejs.config({\n",
       "            paths: {\n",
       "              base: '/static/base',\n",
       "              plotly: 'https://cdn.plot.ly/plotly-latest.min.js?noext',\n",
       "            },\n",
       "          });\n",
       "        </script>\n",
       "        "
      ],
      "text/plain": [
       "<IPython.core.display.HTML object>"
      ]
     },
     "metadata": {},
     "output_type": "display_data"
    },
    {
     "data": {
      "text/html": [
       "\n",
       "        <script src=\"/static/components/requirejs/require.js\"></script>\n",
       "        <script>\n",
       "          requirejs.config({\n",
       "            paths: {\n",
       "              base: '/static/base',\n",
       "              plotly: 'https://cdn.plot.ly/plotly-latest.min.js?noext',\n",
       "            },\n",
       "          });\n",
       "        </script>\n",
       "        "
      ],
      "text/plain": [
       "<IPython.core.display.HTML object>"
      ]
     },
     "metadata": {},
     "output_type": "display_data"
    },
    {
     "data": {
      "text/html": [
       "\n",
       "        <script src=\"/static/components/requirejs/require.js\"></script>\n",
       "        <script>\n",
       "          requirejs.config({\n",
       "            paths: {\n",
       "              base: '/static/base',\n",
       "              plotly: 'https://cdn.plot.ly/plotly-latest.min.js?noext',\n",
       "            },\n",
       "          });\n",
       "        </script>\n",
       "        "
      ],
      "text/plain": [
       "<IPython.core.display.HTML object>"
      ]
     },
     "metadata": {},
     "output_type": "display_data"
    },
    {
     "data": {
      "text/html": [
       "\n",
       "        <script src=\"/static/components/requirejs/require.js\"></script>\n",
       "        <script>\n",
       "          requirejs.config({\n",
       "            paths: {\n",
       "              base: '/static/base',\n",
       "              plotly: 'https://cdn.plot.ly/plotly-latest.min.js?noext',\n",
       "            },\n",
       "          });\n",
       "        </script>\n",
       "        "
      ],
      "text/plain": [
       "<IPython.core.display.HTML object>"
      ]
     },
     "metadata": {},
     "output_type": "display_data"
    },
    {
     "data": {
      "text/html": [
       "\n",
       "        <script src=\"/static/components/requirejs/require.js\"></script>\n",
       "        <script>\n",
       "          requirejs.config({\n",
       "            paths: {\n",
       "              base: '/static/base',\n",
       "              plotly: 'https://cdn.plot.ly/plotly-latest.min.js?noext',\n",
       "            },\n",
       "          });\n",
       "        </script>\n",
       "        "
      ],
      "text/plain": [
       "<IPython.core.display.HTML object>"
      ]
     },
     "metadata": {},
     "output_type": "display_data"
    },
    {
     "data": {
      "text/html": [
       "\n",
       "        <script src=\"/static/components/requirejs/require.js\"></script>\n",
       "        <script>\n",
       "          requirejs.config({\n",
       "            paths: {\n",
       "              base: '/static/base',\n",
       "              plotly: 'https://cdn.plot.ly/plotly-latest.min.js?noext',\n",
       "            },\n",
       "          });\n",
       "        </script>\n",
       "        "
      ],
      "text/plain": [
       "<IPython.core.display.HTML object>"
      ]
     },
     "metadata": {},
     "output_type": "display_data"
    },
    {
     "data": {
      "application/vnd.plotly.v1+json": {
       "config": {
        "linkText": "Export to plot.ly",
        "plotlyServerURL": "https://plot.ly",
        "showLink": false
       },
       "data": [
        {
         "marker": {
          "color": [
           40409,
           19599,
           17866,
           13577,
           8589,
           6419,
           5914,
           5802,
           5782,
           4338
          ],
          "colorscale": [
           [
            0,
            "#440154"
           ],
           [
            0.1111111111111111,
            "#482878"
           ],
           [
            0.2222222222222222,
            "#3e4989"
           ],
           [
            0.3333333333333333,
            "#31688e"
           ],
           [
            0.4444444444444444,
            "#26828e"
           ],
           [
            0.5555555555555556,
            "#1f9e89"
           ],
           [
            0.6666666666666666,
            "#35b779"
           ],
           [
            0.7777777777777778,
            "#6ece58"
           ],
           [
            0.8888888888888888,
            "#b5de2b"
           ],
           [
            1,
            "#fde725"
           ]
          ]
         },
         "text": [
          40409,
          19599,
          17866,
          13577,
          8589,
          6419,
          5914,
          5802,
          5782,
          4338
         ],
         "textposition": "outside",
         "type": "bar",
         "x": [
          "LARCENY/THEFT",
          "OTHER OFFENSES",
          "NON-CRIMINAL",
          "ASSAULT",
          "VANDALISM",
          "VEHICLE THEFT",
          "WARRANTS",
          "BURGLARY",
          "SUSPICIOUS OCC",
          "MISSING PERSON"
         ],
         "y": [
          40409,
          19599,
          17866,
          13577,
          8589,
          6419,
          5914,
          5802,
          5782,
          4338
         ]
        }
       ],
       "layout": {
        "template": {
         "data": {
          "bar": [
           {
            "error_x": {
             "color": "#2a3f5f"
            },
            "error_y": {
             "color": "#2a3f5f"
            },
            "marker": {
             "line": {
              "color": "#E5ECF6",
              "width": 0.5
             }
            },
            "type": "bar"
           }
          ],
          "barpolar": [
           {
            "marker": {
             "line": {
              "color": "#E5ECF6",
              "width": 0.5
             }
            },
            "type": "barpolar"
           }
          ],
          "carpet": [
           {
            "aaxis": {
             "endlinecolor": "#2a3f5f",
             "gridcolor": "white",
             "linecolor": "white",
             "minorgridcolor": "white",
             "startlinecolor": "#2a3f5f"
            },
            "baxis": {
             "endlinecolor": "#2a3f5f",
             "gridcolor": "white",
             "linecolor": "white",
             "minorgridcolor": "white",
             "startlinecolor": "#2a3f5f"
            },
            "type": "carpet"
           }
          ],
          "choropleth": [
           {
            "colorbar": {
             "outlinewidth": 0,
             "ticks": ""
            },
            "type": "choropleth"
           }
          ],
          "contour": [
           {
            "colorbar": {
             "outlinewidth": 0,
             "ticks": ""
            },
            "colorscale": [
             [
              0,
              "#0d0887"
             ],
             [
              0.1111111111111111,
              "#46039f"
             ],
             [
              0.2222222222222222,
              "#7201a8"
             ],
             [
              0.3333333333333333,
              "#9c179e"
             ],
             [
              0.4444444444444444,
              "#bd3786"
             ],
             [
              0.5555555555555556,
              "#d8576b"
             ],
             [
              0.6666666666666666,
              "#ed7953"
             ],
             [
              0.7777777777777778,
              "#fb9f3a"
             ],
             [
              0.8888888888888888,
              "#fdca26"
             ],
             [
              1,
              "#f0f921"
             ]
            ],
            "type": "contour"
           }
          ],
          "contourcarpet": [
           {
            "colorbar": {
             "outlinewidth": 0,
             "ticks": ""
            },
            "type": "contourcarpet"
           }
          ],
          "heatmap": [
           {
            "colorbar": {
             "outlinewidth": 0,
             "ticks": ""
            },
            "colorscale": [
             [
              0,
              "#0d0887"
             ],
             [
              0.1111111111111111,
              "#46039f"
             ],
             [
              0.2222222222222222,
              "#7201a8"
             ],
             [
              0.3333333333333333,
              "#9c179e"
             ],
             [
              0.4444444444444444,
              "#bd3786"
             ],
             [
              0.5555555555555556,
              "#d8576b"
             ],
             [
              0.6666666666666666,
              "#ed7953"
             ],
             [
              0.7777777777777778,
              "#fb9f3a"
             ],
             [
              0.8888888888888888,
              "#fdca26"
             ],
             [
              1,
              "#f0f921"
             ]
            ],
            "type": "heatmap"
           }
          ],
          "heatmapgl": [
           {
            "colorbar": {
             "outlinewidth": 0,
             "ticks": ""
            },
            "colorscale": [
             [
              0,
              "#0d0887"
             ],
             [
              0.1111111111111111,
              "#46039f"
             ],
             [
              0.2222222222222222,
              "#7201a8"
             ],
             [
              0.3333333333333333,
              "#9c179e"
             ],
             [
              0.4444444444444444,
              "#bd3786"
             ],
             [
              0.5555555555555556,
              "#d8576b"
             ],
             [
              0.6666666666666666,
              "#ed7953"
             ],
             [
              0.7777777777777778,
              "#fb9f3a"
             ],
             [
              0.8888888888888888,
              "#fdca26"
             ],
             [
              1,
              "#f0f921"
             ]
            ],
            "type": "heatmapgl"
           }
          ],
          "histogram": [
           {
            "marker": {
             "colorbar": {
              "outlinewidth": 0,
              "ticks": ""
             }
            },
            "type": "histogram"
           }
          ],
          "histogram2d": [
           {
            "colorbar": {
             "outlinewidth": 0,
             "ticks": ""
            },
            "colorscale": [
             [
              0,
              "#0d0887"
             ],
             [
              0.1111111111111111,
              "#46039f"
             ],
             [
              0.2222222222222222,
              "#7201a8"
             ],
             [
              0.3333333333333333,
              "#9c179e"
             ],
             [
              0.4444444444444444,
              "#bd3786"
             ],
             [
              0.5555555555555556,
              "#d8576b"
             ],
             [
              0.6666666666666666,
              "#ed7953"
             ],
             [
              0.7777777777777778,
              "#fb9f3a"
             ],
             [
              0.8888888888888888,
              "#fdca26"
             ],
             [
              1,
              "#f0f921"
             ]
            ],
            "type": "histogram2d"
           }
          ],
          "histogram2dcontour": [
           {
            "colorbar": {
             "outlinewidth": 0,
             "ticks": ""
            },
            "colorscale": [
             [
              0,
              "#0d0887"
             ],
             [
              0.1111111111111111,
              "#46039f"
             ],
             [
              0.2222222222222222,
              "#7201a8"
             ],
             [
              0.3333333333333333,
              "#9c179e"
             ],
             [
              0.4444444444444444,
              "#bd3786"
             ],
             [
              0.5555555555555556,
              "#d8576b"
             ],
             [
              0.6666666666666666,
              "#ed7953"
             ],
             [
              0.7777777777777778,
              "#fb9f3a"
             ],
             [
              0.8888888888888888,
              "#fdca26"
             ],
             [
              1,
              "#f0f921"
             ]
            ],
            "type": "histogram2dcontour"
           }
          ],
          "mesh3d": [
           {
            "colorbar": {
             "outlinewidth": 0,
             "ticks": ""
            },
            "type": "mesh3d"
           }
          ],
          "parcoords": [
           {
            "line": {
             "colorbar": {
              "outlinewidth": 0,
              "ticks": ""
             }
            },
            "type": "parcoords"
           }
          ],
          "pie": [
           {
            "automargin": true,
            "type": "pie"
           }
          ],
          "scatter": [
           {
            "marker": {
             "colorbar": {
              "outlinewidth": 0,
              "ticks": ""
             }
            },
            "type": "scatter"
           }
          ],
          "scatter3d": [
           {
            "line": {
             "colorbar": {
              "outlinewidth": 0,
              "ticks": ""
             }
            },
            "marker": {
             "colorbar": {
              "outlinewidth": 0,
              "ticks": ""
             }
            },
            "type": "scatter3d"
           }
          ],
          "scattercarpet": [
           {
            "marker": {
             "colorbar": {
              "outlinewidth": 0,
              "ticks": ""
             }
            },
            "type": "scattercarpet"
           }
          ],
          "scattergeo": [
           {
            "marker": {
             "colorbar": {
              "outlinewidth": 0,
              "ticks": ""
             }
            },
            "type": "scattergeo"
           }
          ],
          "scattergl": [
           {
            "marker": {
             "colorbar": {
              "outlinewidth": 0,
              "ticks": ""
             }
            },
            "type": "scattergl"
           }
          ],
          "scattermapbox": [
           {
            "marker": {
             "colorbar": {
              "outlinewidth": 0,
              "ticks": ""
             }
            },
            "type": "scattermapbox"
           }
          ],
          "scatterpolar": [
           {
            "marker": {
             "colorbar": {
              "outlinewidth": 0,
              "ticks": ""
             }
            },
            "type": "scatterpolar"
           }
          ],
          "scatterpolargl": [
           {
            "marker": {
             "colorbar": {
              "outlinewidth": 0,
              "ticks": ""
             }
            },
            "type": "scatterpolargl"
           }
          ],
          "scatterternary": [
           {
            "marker": {
             "colorbar": {
              "outlinewidth": 0,
              "ticks": ""
             }
            },
            "type": "scatterternary"
           }
          ],
          "surface": [
           {
            "colorbar": {
             "outlinewidth": 0,
             "ticks": ""
            },
            "colorscale": [
             [
              0,
              "#0d0887"
             ],
             [
              0.1111111111111111,
              "#46039f"
             ],
             [
              0.2222222222222222,
              "#7201a8"
             ],
             [
              0.3333333333333333,
              "#9c179e"
             ],
             [
              0.4444444444444444,
              "#bd3786"
             ],
             [
              0.5555555555555556,
              "#d8576b"
             ],
             [
              0.6666666666666666,
              "#ed7953"
             ],
             [
              0.7777777777777778,
              "#fb9f3a"
             ],
             [
              0.8888888888888888,
              "#fdca26"
             ],
             [
              1,
              "#f0f921"
             ]
            ],
            "type": "surface"
           }
          ],
          "table": [
           {
            "cells": {
             "fill": {
              "color": "#EBF0F8"
             },
             "line": {
              "color": "white"
             }
            },
            "header": {
             "fill": {
              "color": "#C8D4E3"
             },
             "line": {
              "color": "white"
             }
            },
            "type": "table"
           }
          ]
         },
         "layout": {
          "annotationdefaults": {
           "arrowcolor": "#2a3f5f",
           "arrowhead": 0,
           "arrowwidth": 1
          },
          "coloraxis": {
           "colorbar": {
            "outlinewidth": 0,
            "ticks": ""
           }
          },
          "colorscale": {
           "diverging": [
            [
             0,
             "#8e0152"
            ],
            [
             0.1,
             "#c51b7d"
            ],
            [
             0.2,
             "#de77ae"
            ],
            [
             0.3,
             "#f1b6da"
            ],
            [
             0.4,
             "#fde0ef"
            ],
            [
             0.5,
             "#f7f7f7"
            ],
            [
             0.6,
             "#e6f5d0"
            ],
            [
             0.7,
             "#b8e186"
            ],
            [
             0.8,
             "#7fbc41"
            ],
            [
             0.9,
             "#4d9221"
            ],
            [
             1,
             "#276419"
            ]
           ],
           "sequential": [
            [
             0,
             "#0d0887"
            ],
            [
             0.1111111111111111,
             "#46039f"
            ],
            [
             0.2222222222222222,
             "#7201a8"
            ],
            [
             0.3333333333333333,
             "#9c179e"
            ],
            [
             0.4444444444444444,
             "#bd3786"
            ],
            [
             0.5555555555555556,
             "#d8576b"
            ],
            [
             0.6666666666666666,
             "#ed7953"
            ],
            [
             0.7777777777777778,
             "#fb9f3a"
            ],
            [
             0.8888888888888888,
             "#fdca26"
            ],
            [
             1,
             "#f0f921"
            ]
           ],
           "sequentialminus": [
            [
             0,
             "#0d0887"
            ],
            [
             0.1111111111111111,
             "#46039f"
            ],
            [
             0.2222222222222222,
             "#7201a8"
            ],
            [
             0.3333333333333333,
             "#9c179e"
            ],
            [
             0.4444444444444444,
             "#bd3786"
            ],
            [
             0.5555555555555556,
             "#d8576b"
            ],
            [
             0.6666666666666666,
             "#ed7953"
            ],
            [
             0.7777777777777778,
             "#fb9f3a"
            ],
            [
             0.8888888888888888,
             "#fdca26"
            ],
            [
             1,
             "#f0f921"
            ]
           ]
          },
          "colorway": [
           "#636efa",
           "#EF553B",
           "#00cc96",
           "#ab63fa",
           "#FFA15A",
           "#19d3f3",
           "#FF6692",
           "#B6E880",
           "#FF97FF",
           "#FECB52"
          ],
          "font": {
           "color": "#2a3f5f"
          },
          "geo": {
           "bgcolor": "white",
           "lakecolor": "white",
           "landcolor": "#E5ECF6",
           "showlakes": true,
           "showland": true,
           "subunitcolor": "white"
          },
          "hoverlabel": {
           "align": "left"
          },
          "hovermode": "closest",
          "mapbox": {
           "style": "light"
          },
          "paper_bgcolor": "white",
          "plot_bgcolor": "#E5ECF6",
          "polar": {
           "angularaxis": {
            "gridcolor": "white",
            "linecolor": "white",
            "ticks": ""
           },
           "bgcolor": "#E5ECF6",
           "radialaxis": {
            "gridcolor": "white",
            "linecolor": "white",
            "ticks": ""
           }
          },
          "scene": {
           "xaxis": {
            "backgroundcolor": "#E5ECF6",
            "gridcolor": "white",
            "gridwidth": 2,
            "linecolor": "white",
            "showbackground": true,
            "ticks": "",
            "zerolinecolor": "white"
           },
           "yaxis": {
            "backgroundcolor": "#E5ECF6",
            "gridcolor": "white",
            "gridwidth": 2,
            "linecolor": "white",
            "showbackground": true,
            "ticks": "",
            "zerolinecolor": "white"
           },
           "zaxis": {
            "backgroundcolor": "#E5ECF6",
            "gridcolor": "white",
            "gridwidth": 2,
            "linecolor": "white",
            "showbackground": true,
            "ticks": "",
            "zerolinecolor": "white"
           }
          },
          "shapedefaults": {
           "line": {
            "color": "#2a3f5f"
           }
          },
          "ternary": {
           "aaxis": {
            "gridcolor": "white",
            "linecolor": "white",
            "ticks": ""
           },
           "baxis": {
            "gridcolor": "white",
            "linecolor": "white",
            "ticks": ""
           },
           "bgcolor": "#E5ECF6",
           "caxis": {
            "gridcolor": "white",
            "linecolor": "white",
            "ticks": ""
           }
          },
          "title": {
           "x": 0.05
          },
          "xaxis": {
           "automargin": true,
           "gridcolor": "white",
           "linecolor": "white",
           "ticks": "",
           "title": {
            "standoff": 15
           },
           "zerolinecolor": "white",
           "zerolinewidth": 2
          },
          "yaxis": {
           "automargin": true,
           "gridcolor": "white",
           "linecolor": "white",
           "ticks": "",
           "title": {
            "standoff": 15
           },
           "zerolinecolor": "white",
           "zerolinewidth": 2
          }
         }
        },
        "title": {
         "text": "Figure 2 - Top 10 by Category ",
         "x": 0.5
        },
        "xaxis": {
         "title": {
          "text": "Category"
         }
        },
        "yaxis": {
         "title": {
          "text": "Number of Incidents"
         }
        }
       }
      },
      "text/html": [
       "<div>\n",
       "        \n",
       "        \n",
       "            <div id=\"32934bc5-3a96-47d9-b3fc-4da986051417\" class=\"plotly-graph-div\" style=\"height:525px; width:100%;\"></div>\n",
       "            <script type=\"text/javascript\">\n",
       "                require([\"plotly\"], function(Plotly) {\n",
       "                    window.PLOTLYENV=window.PLOTLYENV || {};\n",
       "                    \n",
       "                if (document.getElementById(\"32934bc5-3a96-47d9-b3fc-4da986051417\")) {\n",
       "                    Plotly.newPlot(\n",
       "                        '32934bc5-3a96-47d9-b3fc-4da986051417',\n",
       "                        [{\"marker\": {\"color\": [40409, 19599, 17866, 13577, 8589, 6419, 5914, 5802, 5782, 4338], \"colorscale\": [[0.0, \"#440154\"], [0.1111111111111111, \"#482878\"], [0.2222222222222222, \"#3e4989\"], [0.3333333333333333, \"#31688e\"], [0.4444444444444444, \"#26828e\"], [0.5555555555555556, \"#1f9e89\"], [0.6666666666666666, \"#35b779\"], [0.7777777777777778, \"#6ece58\"], [0.8888888888888888, \"#b5de2b\"], [1.0, \"#fde725\"]]}, \"text\": [40409.0, 19599.0, 17866.0, 13577.0, 8589.0, 6419.0, 5914.0, 5802.0, 5782.0, 4338.0], \"textposition\": \"outside\", \"type\": \"bar\", \"x\": [\"LARCENY/THEFT\", \"OTHER OFFENSES\", \"NON-CRIMINAL\", \"ASSAULT\", \"VANDALISM\", \"VEHICLE THEFT\", \"WARRANTS\", \"BURGLARY\", \"SUSPICIOUS OCC\", \"MISSING PERSON\"], \"y\": [40409, 19599, 17866, 13577, 8589, 6419, 5914, 5802, 5782, 4338]}],\n",
       "                        {\"template\": {\"data\": {\"bar\": [{\"error_x\": {\"color\": \"#2a3f5f\"}, \"error_y\": {\"color\": \"#2a3f5f\"}, \"marker\": {\"line\": {\"color\": \"#E5ECF6\", \"width\": 0.5}}, \"type\": \"bar\"}], \"barpolar\": [{\"marker\": {\"line\": {\"color\": \"#E5ECF6\", \"width\": 0.5}}, \"type\": \"barpolar\"}], \"carpet\": [{\"aaxis\": {\"endlinecolor\": \"#2a3f5f\", \"gridcolor\": \"white\", \"linecolor\": \"white\", \"minorgridcolor\": \"white\", \"startlinecolor\": \"#2a3f5f\"}, \"baxis\": {\"endlinecolor\": \"#2a3f5f\", \"gridcolor\": \"white\", \"linecolor\": \"white\", \"minorgridcolor\": \"white\", \"startlinecolor\": \"#2a3f5f\"}, \"type\": \"carpet\"}], \"choropleth\": [{\"colorbar\": {\"outlinewidth\": 0, \"ticks\": \"\"}, \"type\": \"choropleth\"}], \"contour\": [{\"colorbar\": {\"outlinewidth\": 0, \"ticks\": \"\"}, \"colorscale\": [[0.0, \"#0d0887\"], [0.1111111111111111, \"#46039f\"], [0.2222222222222222, \"#7201a8\"], [0.3333333333333333, \"#9c179e\"], [0.4444444444444444, \"#bd3786\"], [0.5555555555555556, \"#d8576b\"], [0.6666666666666666, \"#ed7953\"], [0.7777777777777778, \"#fb9f3a\"], [0.8888888888888888, \"#fdca26\"], [1.0, \"#f0f921\"]], \"type\": \"contour\"}], \"contourcarpet\": [{\"colorbar\": {\"outlinewidth\": 0, \"ticks\": \"\"}, \"type\": \"contourcarpet\"}], \"heatmap\": [{\"colorbar\": {\"outlinewidth\": 0, \"ticks\": \"\"}, \"colorscale\": [[0.0, \"#0d0887\"], [0.1111111111111111, \"#46039f\"], [0.2222222222222222, \"#7201a8\"], [0.3333333333333333, \"#9c179e\"], [0.4444444444444444, \"#bd3786\"], [0.5555555555555556, \"#d8576b\"], [0.6666666666666666, \"#ed7953\"], [0.7777777777777778, \"#fb9f3a\"], [0.8888888888888888, \"#fdca26\"], [1.0, \"#f0f921\"]], \"type\": \"heatmap\"}], \"heatmapgl\": [{\"colorbar\": {\"outlinewidth\": 0, \"ticks\": \"\"}, \"colorscale\": [[0.0, \"#0d0887\"], [0.1111111111111111, \"#46039f\"], [0.2222222222222222, \"#7201a8\"], [0.3333333333333333, \"#9c179e\"], [0.4444444444444444, \"#bd3786\"], [0.5555555555555556, \"#d8576b\"], [0.6666666666666666, \"#ed7953\"], [0.7777777777777778, \"#fb9f3a\"], [0.8888888888888888, \"#fdca26\"], [1.0, \"#f0f921\"]], \"type\": \"heatmapgl\"}], \"histogram\": [{\"marker\": {\"colorbar\": {\"outlinewidth\": 0, \"ticks\": \"\"}}, \"type\": \"histogram\"}], \"histogram2d\": [{\"colorbar\": {\"outlinewidth\": 0, \"ticks\": \"\"}, \"colorscale\": [[0.0, \"#0d0887\"], [0.1111111111111111, \"#46039f\"], [0.2222222222222222, \"#7201a8\"], [0.3333333333333333, \"#9c179e\"], [0.4444444444444444, \"#bd3786\"], [0.5555555555555556, \"#d8576b\"], [0.6666666666666666, \"#ed7953\"], [0.7777777777777778, \"#fb9f3a\"], [0.8888888888888888, \"#fdca26\"], [1.0, \"#f0f921\"]], \"type\": \"histogram2d\"}], \"histogram2dcontour\": [{\"colorbar\": {\"outlinewidth\": 0, \"ticks\": \"\"}, \"colorscale\": [[0.0, \"#0d0887\"], [0.1111111111111111, \"#46039f\"], [0.2222222222222222, \"#7201a8\"], [0.3333333333333333, \"#9c179e\"], [0.4444444444444444, \"#bd3786\"], [0.5555555555555556, \"#d8576b\"], [0.6666666666666666, \"#ed7953\"], [0.7777777777777778, \"#fb9f3a\"], [0.8888888888888888, \"#fdca26\"], [1.0, \"#f0f921\"]], \"type\": \"histogram2dcontour\"}], \"mesh3d\": [{\"colorbar\": {\"outlinewidth\": 0, \"ticks\": \"\"}, \"type\": \"mesh3d\"}], \"parcoords\": [{\"line\": {\"colorbar\": {\"outlinewidth\": 0, \"ticks\": \"\"}}, \"type\": \"parcoords\"}], \"pie\": [{\"automargin\": true, \"type\": \"pie\"}], \"scatter\": [{\"marker\": {\"colorbar\": {\"outlinewidth\": 0, \"ticks\": \"\"}}, \"type\": \"scatter\"}], \"scatter3d\": [{\"line\": {\"colorbar\": {\"outlinewidth\": 0, \"ticks\": \"\"}}, \"marker\": {\"colorbar\": {\"outlinewidth\": 0, \"ticks\": \"\"}}, \"type\": \"scatter3d\"}], \"scattercarpet\": [{\"marker\": {\"colorbar\": {\"outlinewidth\": 0, \"ticks\": \"\"}}, \"type\": \"scattercarpet\"}], \"scattergeo\": [{\"marker\": {\"colorbar\": {\"outlinewidth\": 0, \"ticks\": \"\"}}, \"type\": \"scattergeo\"}], \"scattergl\": [{\"marker\": {\"colorbar\": {\"outlinewidth\": 0, \"ticks\": \"\"}}, \"type\": \"scattergl\"}], \"scattermapbox\": [{\"marker\": {\"colorbar\": {\"outlinewidth\": 0, \"ticks\": \"\"}}, \"type\": \"scattermapbox\"}], \"scatterpolar\": [{\"marker\": {\"colorbar\": {\"outlinewidth\": 0, \"ticks\": \"\"}}, \"type\": \"scatterpolar\"}], \"scatterpolargl\": [{\"marker\": {\"colorbar\": {\"outlinewidth\": 0, \"ticks\": \"\"}}, \"type\": \"scatterpolargl\"}], \"scatterternary\": [{\"marker\": {\"colorbar\": {\"outlinewidth\": 0, \"ticks\": \"\"}}, \"type\": \"scatterternary\"}], \"surface\": [{\"colorbar\": {\"outlinewidth\": 0, \"ticks\": \"\"}, \"colorscale\": [[0.0, \"#0d0887\"], [0.1111111111111111, \"#46039f\"], [0.2222222222222222, \"#7201a8\"], [0.3333333333333333, \"#9c179e\"], [0.4444444444444444, \"#bd3786\"], [0.5555555555555556, \"#d8576b\"], [0.6666666666666666, \"#ed7953\"], [0.7777777777777778, \"#fb9f3a\"], [0.8888888888888888, \"#fdca26\"], [1.0, \"#f0f921\"]], \"type\": \"surface\"}], \"table\": [{\"cells\": {\"fill\": {\"color\": \"#EBF0F8\"}, \"line\": {\"color\": \"white\"}}, \"header\": {\"fill\": {\"color\": \"#C8D4E3\"}, \"line\": {\"color\": \"white\"}}, \"type\": \"table\"}]}, \"layout\": {\"annotationdefaults\": {\"arrowcolor\": \"#2a3f5f\", \"arrowhead\": 0, \"arrowwidth\": 1}, \"coloraxis\": {\"colorbar\": {\"outlinewidth\": 0, \"ticks\": \"\"}}, \"colorscale\": {\"diverging\": [[0, \"#8e0152\"], [0.1, \"#c51b7d\"], [0.2, \"#de77ae\"], [0.3, \"#f1b6da\"], [0.4, \"#fde0ef\"], [0.5, \"#f7f7f7\"], [0.6, \"#e6f5d0\"], [0.7, \"#b8e186\"], [0.8, \"#7fbc41\"], [0.9, \"#4d9221\"], [1, \"#276419\"]], \"sequential\": [[0.0, \"#0d0887\"], [0.1111111111111111, \"#46039f\"], [0.2222222222222222, \"#7201a8\"], [0.3333333333333333, \"#9c179e\"], [0.4444444444444444, \"#bd3786\"], [0.5555555555555556, \"#d8576b\"], [0.6666666666666666, \"#ed7953\"], [0.7777777777777778, \"#fb9f3a\"], [0.8888888888888888, \"#fdca26\"], [1.0, \"#f0f921\"]], \"sequentialminus\": [[0.0, \"#0d0887\"], [0.1111111111111111, \"#46039f\"], [0.2222222222222222, \"#7201a8\"], [0.3333333333333333, \"#9c179e\"], [0.4444444444444444, \"#bd3786\"], [0.5555555555555556, \"#d8576b\"], [0.6666666666666666, \"#ed7953\"], [0.7777777777777778, \"#fb9f3a\"], [0.8888888888888888, \"#fdca26\"], [1.0, \"#f0f921\"]]}, \"colorway\": [\"#636efa\", \"#EF553B\", \"#00cc96\", \"#ab63fa\", \"#FFA15A\", \"#19d3f3\", \"#FF6692\", \"#B6E880\", \"#FF97FF\", \"#FECB52\"], \"font\": {\"color\": \"#2a3f5f\"}, \"geo\": {\"bgcolor\": \"white\", \"lakecolor\": \"white\", \"landcolor\": \"#E5ECF6\", \"showlakes\": true, \"showland\": true, \"subunitcolor\": \"white\"}, \"hoverlabel\": {\"align\": \"left\"}, \"hovermode\": \"closest\", \"mapbox\": {\"style\": \"light\"}, \"paper_bgcolor\": \"white\", \"plot_bgcolor\": \"#E5ECF6\", \"polar\": {\"angularaxis\": {\"gridcolor\": \"white\", \"linecolor\": \"white\", \"ticks\": \"\"}, \"bgcolor\": \"#E5ECF6\", \"radialaxis\": {\"gridcolor\": \"white\", \"linecolor\": \"white\", \"ticks\": \"\"}}, \"scene\": {\"xaxis\": {\"backgroundcolor\": \"#E5ECF6\", \"gridcolor\": \"white\", \"gridwidth\": 2, \"linecolor\": \"white\", \"showbackground\": true, \"ticks\": \"\", \"zerolinecolor\": \"white\"}, \"yaxis\": {\"backgroundcolor\": \"#E5ECF6\", \"gridcolor\": \"white\", \"gridwidth\": 2, \"linecolor\": \"white\", \"showbackground\": true, \"ticks\": \"\", \"zerolinecolor\": \"white\"}, \"zaxis\": {\"backgroundcolor\": \"#E5ECF6\", \"gridcolor\": \"white\", \"gridwidth\": 2, \"linecolor\": \"white\", \"showbackground\": true, \"ticks\": \"\", \"zerolinecolor\": \"white\"}}, \"shapedefaults\": {\"line\": {\"color\": \"#2a3f5f\"}}, \"ternary\": {\"aaxis\": {\"gridcolor\": \"white\", \"linecolor\": \"white\", \"ticks\": \"\"}, \"baxis\": {\"gridcolor\": \"white\", \"linecolor\": \"white\", \"ticks\": \"\"}, \"bgcolor\": \"#E5ECF6\", \"caxis\": {\"gridcolor\": \"white\", \"linecolor\": \"white\", \"ticks\": \"\"}}, \"title\": {\"x\": 0.05}, \"xaxis\": {\"automargin\": true, \"gridcolor\": \"white\", \"linecolor\": \"white\", \"ticks\": \"\", \"title\": {\"standoff\": 15}, \"zerolinecolor\": \"white\", \"zerolinewidth\": 2}, \"yaxis\": {\"automargin\": true, \"gridcolor\": \"white\", \"linecolor\": \"white\", \"ticks\": \"\", \"title\": {\"standoff\": 15}, \"zerolinecolor\": \"white\", \"zerolinewidth\": 2}}}, \"title\": {\"text\": \"Figure 2 - Top 10 by Category \", \"x\": 0.5}, \"xaxis\": {\"title\": {\"text\": \"Category\"}}, \"yaxis\": {\"title\": {\"text\": \"Number of Incidents\"}}},\n",
       "                        {\"responsive\": true}\n",
       "                    ).then(function(){\n",
       "                            \n",
       "var gd = document.getElementById('32934bc5-3a96-47d9-b3fc-4da986051417');\n",
       "var x = new MutationObserver(function (mutations, observer) {{\n",
       "        var display = window.getComputedStyle(gd).display;\n",
       "        if (!display || display === 'none') {{\n",
       "            console.log([gd, 'removed!']);\n",
       "            Plotly.purge(gd);\n",
       "            observer.disconnect();\n",
       "        }}\n",
       "}});\n",
       "\n",
       "// Listen for the removal of the full notebook cells\n",
       "var notebookContainer = gd.closest('#notebook-container');\n",
       "if (notebookContainer) {{\n",
       "    x.observe(notebookContainer, {childList: true});\n",
       "}}\n",
       "\n",
       "// Listen for the clearing of the current output cell\n",
       "var outputEl = gd.closest('.output');\n",
       "if (outputEl) {{\n",
       "    x.observe(outputEl, {childList: true});\n",
       "}}\n",
       "\n",
       "                        })\n",
       "                };\n",
       "                });\n",
       "            </script>\n",
       "        </div>"
      ]
     },
     "metadata": {},
     "output_type": "display_data"
    },
    {
     "data": {
      "image/png": "[encoded data removed]"
     },
     "metadata": {},
     "output_type": "display_data"
    }
   ],
   "source": [
    "# Plotting Top 10 by Category\n",
    "value = incidents['Category'].value_counts().round(0).nlargest(10)\n",
    "label = value.index\n",
    "trace = go.Bar(y=value, \n",
    "               x=label,text = value,textposition= \"outside\",\n",
    "               marker={'color': value,\n",
    "                   'colorscale': 'Viridis'})\n",
    "layout = go.Layout(title=\"Figure 2 - Top 10 by Category \", \n",
    "                   xaxis={'title' : \"Category\"},\n",
    "                  yaxis={'title' : \"Number of Incidents\"},\n",
    "                  title_x=0.5)\n",
    "fig = go.Figure(data=trace, layout=layout)\n",
    "iplot(fig)\n",
    "fig.show('png')"
   ]
  },
  {
   "cell_type": "code",
   "execution_count": 209,
   "metadata": {},
   "outputs": [
    {
     "data": {
      "text/html": [
       "\n",
       "        <script src=\"/static/components/requirejs/require.js\"></script>\n",
       "        <script>\n",
       "          requirejs.config({\n",
       "            paths: {\n",
       "              base: '/static/base',\n",
       "              plotly: 'https://cdn.plot.ly/plotly-latest.min.js?noext',\n",
       "            },\n",
       "          });\n",
       "        </script>\n",
       "        "
      ],
      "text/plain": [
       "<IPython.core.display.HTML object>"
      ]
     },
     "metadata": {},
     "output_type": "display_data"
    },
    {
     "data": {
      "text/html": [
       "\n",
       "        <script src=\"/static/components/requirejs/require.js\"></script>\n",
       "        <script>\n",
       "          requirejs.config({\n",
       "            paths: {\n",
       "              base: '/static/base',\n",
       "              plotly: 'https://cdn.plot.ly/plotly-latest.min.js?noext',\n",
       "            },\n",
       "          });\n",
       "        </script>\n",
       "        "
      ],
      "text/plain": [
       "<IPython.core.display.HTML object>"
      ]
     },
     "metadata": {},
     "output_type": "display_data"
    },
    {
     "data": {
      "text/html": [
       "\n",
       "        <script src=\"/static/components/requirejs/require.js\"></script>\n",
       "        <script>\n",
       "          requirejs.config({\n",
       "            paths: {\n",
       "              base: '/static/base',\n",
       "              plotly: 'https://cdn.plot.ly/plotly-latest.min.js?noext',\n",
       "            },\n",
       "          });\n",
       "        </script>\n",
       "        "
      ],
      "text/plain": [
       "<IPython.core.display.HTML object>"
      ]
     },
     "metadata": {},
     "output_type": "display_data"
    },
    {
     "data": {
      "text/html": [
       "\n",
       "        <script src=\"/static/components/requirejs/require.js\"></script>\n",
       "        <script>\n",
       "          requirejs.config({\n",
       "            paths: {\n",
       "              base: '/static/base',\n",
       "              plotly: 'https://cdn.plot.ly/plotly-latest.min.js?noext',\n",
       "            },\n",
       "          });\n",
       "        </script>\n",
       "        "
      ],
      "text/plain": [
       "<IPython.core.display.HTML object>"
      ]
     },
     "metadata": {},
     "output_type": "display_data"
    },
    {
     "data": {
      "text/html": [
       "\n",
       "        <script src=\"/static/components/requirejs/require.js\"></script>\n",
       "        <script>\n",
       "          requirejs.config({\n",
       "            paths: {\n",
       "              base: '/static/base',\n",
       "              plotly: 'https://cdn.plot.ly/plotly-latest.min.js?noext',\n",
       "            },\n",
       "          });\n",
       "        </script>\n",
       "        "
      ],
      "text/plain": [
       "<IPython.core.display.HTML object>"
      ]
     },
     "metadata": {},
     "output_type": "display_data"
    },
    {
     "data": {
      "text/html": [
       "\n",
       "        <script src=\"/static/components/requirejs/require.js\"></script>\n",
       "        <script>\n",
       "          requirejs.config({\n",
       "            paths: {\n",
       "              base: '/static/base',\n",
       "              plotly: 'https://cdn.plot.ly/plotly-latest.min.js?noext',\n",
       "            },\n",
       "          });\n",
       "        </script>\n",
       "        "
      ],
      "text/plain": [
       "<IPython.core.display.HTML object>"
      ]
     },
     "metadata": {},
     "output_type": "display_data"
    },
    {
     "data": {
      "text/html": [
       "\n",
       "        <script src=\"/static/components/requirejs/require.js\"></script>\n",
       "        <script>\n",
       "          requirejs.config({\n",
       "            paths: {\n",
       "              base: '/static/base',\n",
       "              plotly: 'https://cdn.plot.ly/plotly-latest.min.js?noext',\n",
       "            },\n",
       "          });\n",
       "        </script>\n",
       "        "
      ],
      "text/plain": [
       "<IPython.core.display.HTML object>"
      ]
     },
     "metadata": {},
     "output_type": "display_data"
    },
    {
     "data": {
      "text/html": [
       "\n",
       "        <script src=\"/static/components/requirejs/require.js\"></script>\n",
       "        <script>\n",
       "          requirejs.config({\n",
       "            paths: {\n",
       "              base: '/static/base',\n",
       "              plotly: 'https://cdn.plot.ly/plotly-latest.min.js?noext',\n",
       "            },\n",
       "          });\n",
       "        </script>\n",
       "        "
      ],
      "text/plain": [
       "<IPython.core.display.HTML object>"
      ]
     },
     "metadata": {},
     "output_type": "display_data"
    },
    {
     "data": {
      "text/html": [
       "\n",
       "        <script src=\"/static/components/requirejs/require.js\"></script>\n",
       "        <script>\n",
       "          requirejs.config({\n",
       "            paths: {\n",
       "              base: '/static/base',\n",
       "              plotly: 'https://cdn.plot.ly/plotly-latest.min.js?noext',\n",
       "            },\n",
       "          });\n",
       "        </script>\n",
       "        "
      ],
      "text/plain": [
       "<IPython.core.display.HTML object>"
      ]
     },
     "metadata": {},
     "output_type": "display_data"
    },
    {
     "data": {
      "text/html": [
       "\n",
       "        <script src=\"/static/components/requirejs/require.js\"></script>\n",
       "        <script>\n",
       "          requirejs.config({\n",
       "            paths: {\n",
       "              base: '/static/base',\n",
       "              plotly: 'https://cdn.plot.ly/plotly-latest.min.js?noext',\n",
       "            },\n",
       "          });\n",
       "        </script>\n",
       "        "
      ],
      "text/plain": [
       "<IPython.core.display.HTML object>"
      ]
     },
     "metadata": {},
     "output_type": "display_data"
    },
    {
     "data": {
      "text/html": [
       "\n",
       "        <script src=\"/static/components/requirejs/require.js\"></script>\n",
       "        <script>\n",
       "          requirejs.config({\n",
       "            paths: {\n",
       "              base: '/static/base',\n",
       "              plotly: 'https://cdn.plot.ly/plotly-latest.min.js?noext',\n",
       "            },\n",
       "          });\n",
       "        </script>\n",
       "        "
      ],
      "text/plain": [
       "<IPython.core.display.HTML object>"
      ]
     },
     "metadata": {},
     "output_type": "display_data"
    },
    {
     "data": {
      "text/html": [
       "\n",
       "        <script src=\"/static/components/requirejs/require.js\"></script>\n",
       "        <script>\n",
       "          requirejs.config({\n",
       "            paths: {\n",
       "              base: '/static/base',\n",
       "              plotly: 'https://cdn.plot.ly/plotly-latest.min.js?noext',\n",
       "            },\n",
       "          });\n",
       "        </script>\n",
       "        "
      ],
      "text/plain": [
       "<IPython.core.display.HTML object>"
      ]
     },
     "metadata": {},
     "output_type": "display_data"
    },
    {
     "data": {
      "text/html": [
       "\n",
       "        <script src=\"/static/components/requirejs/require.js\"></script>\n",
       "        <script>\n",
       "          requirejs.config({\n",
       "            paths: {\n",
       "              base: '/static/base',\n",
       "              plotly: 'https://cdn.plot.ly/plotly-latest.min.js?noext',\n",
       "            },\n",
       "          });\n",
       "        </script>\n",
       "        "
      ],
      "text/plain": [
       "<IPython.core.display.HTML object>"
      ]
     },
     "metadata": {},
     "output_type": "display_data"
    },
    {
     "data": {
      "text/html": [
       "\n",
       "        <script src=\"/static/components/requirejs/require.js\"></script>\n",
       "        <script>\n",
       "          requirejs.config({\n",
       "            paths: {\n",
       "              base: '/static/base',\n",
       "              plotly: 'https://cdn.plot.ly/plotly-latest.min.js?noext',\n",
       "            },\n",
       "          });\n",
       "        </script>\n",
       "        "
      ],
      "text/plain": [
       "<IPython.core.display.HTML object>"
      ]
     },
     "metadata": {},
     "output_type": "display_data"
    },
    {
     "data": {
      "text/plain": [
       "12:00    3842\n",
       "00:01    3397\n",
       "18:00    3165\n",
       "19:00    2912\n",
       "20:00    2902\n",
       "17:00    2830\n",
       "21:00    2590\n",
       "22:00    2479\n",
       "16:00    2443\n",
       "15:00    2406\n",
       "Name: Time, dtype: int64"
      ]
     },
     "execution_count": 209,
     "metadata": {},
     "output_type": "execute_result"
    }
   ],
   "source": [
    "# Top 10 by Time\n",
    "incidents['Time'].value_counts().nlargest(10)"
   ]
  },
  {
   "cell_type": "code",
   "execution_count": 210,
   "metadata": {},
   "outputs": [
    {
     "data": {
      "text/html": [
       "\n",
       "        <script src=\"/static/components/requirejs/require.js\"></script>\n",
       "        <script>\n",
       "          requirejs.config({\n",
       "            paths: {\n",
       "              base: '/static/base',\n",
       "              plotly: 'https://cdn.plot.ly/plotly-latest.min.js?noext',\n",
       "            },\n",
       "          });\n",
       "        </script>\n",
       "        "
      ],
      "text/plain": [
       "<IPython.core.display.HTML object>"
      ]
     },
     "metadata": {},
     "output_type": "display_data"
    },
    {
     "data": {
      "text/html": [
       "\n",
       "        <script src=\"/static/components/requirejs/require.js\"></script>\n",
       "        <script>\n",
       "          requirejs.config({\n",
       "            paths: {\n",
       "              base: '/static/base',\n",
       "              plotly: 'https://cdn.plot.ly/plotly-latest.min.js?noext',\n",
       "            },\n",
       "          });\n",
       "        </script>\n",
       "        "
      ],
      "text/plain": [
       "<IPython.core.display.HTML object>"
      ]
     },
     "metadata": {},
     "output_type": "display_data"
    },
    {
     "data": {
      "text/html": [
       "\n",
       "        <script src=\"/static/components/requirejs/require.js\"></script>\n",
       "        <script>\n",
       "          requirejs.config({\n",
       "            paths: {\n",
       "              base: '/static/base',\n",
       "              plotly: 'https://cdn.plot.ly/plotly-latest.min.js?noext',\n",
       "            },\n",
       "          });\n",
       "        </script>\n",
       "        "
      ],
      "text/plain": [
       "<IPython.core.display.HTML object>"
      ]
     },
     "metadata": {},
     "output_type": "display_data"
    },
    {
     "data": {
      "text/html": [
       "\n",
       "        <script src=\"/static/components/requirejs/require.js\"></script>\n",
       "        <script>\n",
       "          requirejs.config({\n",
       "            paths: {\n",
       "              base: '/static/base',\n",
       "              plotly: 'https://cdn.plot.ly/plotly-latest.min.js?noext',\n",
       "            },\n",
       "          });\n",
       "        </script>\n",
       "        "
      ],
      "text/plain": [
       "<IPython.core.display.HTML object>"
      ]
     },
     "metadata": {},
     "output_type": "display_data"
    },
    {
     "data": {
      "text/html": [
       "\n",
       "        <script src=\"/static/components/requirejs/require.js\"></script>\n",
       "        <script>\n",
       "          requirejs.config({\n",
       "            paths: {\n",
       "              base: '/static/base',\n",
       "              plotly: 'https://cdn.plot.ly/plotly-latest.min.js?noext',\n",
       "            },\n",
       "          });\n",
       "        </script>\n",
       "        "
      ],
      "text/plain": [
       "<IPython.core.display.HTML object>"
      ]
     },
     "metadata": {},
     "output_type": "display_data"
    },
    {
     "data": {
      "text/html": [
       "\n",
       "        <script src=\"/static/components/requirejs/require.js\"></script>\n",
       "        <script>\n",
       "          requirejs.config({\n",
       "            paths: {\n",
       "              base: '/static/base',\n",
       "              plotly: 'https://cdn.plot.ly/plotly-latest.min.js?noext',\n",
       "            },\n",
       "          });\n",
       "        </script>\n",
       "        "
      ],
      "text/plain": [
       "<IPython.core.display.HTML object>"
      ]
     },
     "metadata": {},
     "output_type": "display_data"
    },
    {
     "data": {
      "text/html": [
       "\n",
       "        <script src=\"/static/components/requirejs/require.js\"></script>\n",
       "        <script>\n",
       "          requirejs.config({\n",
       "            paths: {\n",
       "              base: '/static/base',\n",
       "              plotly: 'https://cdn.plot.ly/plotly-latest.min.js?noext',\n",
       "            },\n",
       "          });\n",
       "        </script>\n",
       "        "
      ],
      "text/plain": [
       "<IPython.core.display.HTML object>"
      ]
     },
     "metadata": {},
     "output_type": "display_data"
    },
    {
     "data": {
      "text/html": [
       "\n",
       "        <script src=\"/static/components/requirejs/require.js\"></script>\n",
       "        <script>\n",
       "          requirejs.config({\n",
       "            paths: {\n",
       "              base: '/static/base',\n",
       "              plotly: 'https://cdn.plot.ly/plotly-latest.min.js?noext',\n",
       "            },\n",
       "          });\n",
       "        </script>\n",
       "        "
      ],
      "text/plain": [
       "<IPython.core.display.HTML object>"
      ]
     },
     "metadata": {},
     "output_type": "display_data"
    },
    {
     "data": {
      "text/html": [
       "\n",
       "        <script src=\"/static/components/requirejs/require.js\"></script>\n",
       "        <script>\n",
       "          requirejs.config({\n",
       "            paths: {\n",
       "              base: '/static/base',\n",
       "              plotly: 'https://cdn.plot.ly/plotly-latest.min.js?noext',\n",
       "            },\n",
       "          });\n",
       "        </script>\n",
       "        "
      ],
      "text/plain": [
       "<IPython.core.display.HTML object>"
      ]
     },
     "metadata": {},
     "output_type": "display_data"
    },
    {
     "data": {
      "text/html": [
       "\n",
       "        <script src=\"/static/components/requirejs/require.js\"></script>\n",
       "        <script>\n",
       "          requirejs.config({\n",
       "            paths: {\n",
       "              base: '/static/base',\n",
       "              plotly: 'https://cdn.plot.ly/plotly-latest.min.js?noext',\n",
       "            },\n",
       "          });\n",
       "        </script>\n",
       "        "
      ],
      "text/plain": [
       "<IPython.core.display.HTML object>"
      ]
     },
     "metadata": {},
     "output_type": "display_data"
    },
    {
     "data": {
      "text/html": [
       "\n",
       "        <script src=\"/static/components/requirejs/require.js\"></script>\n",
       "        <script>\n",
       "          requirejs.config({\n",
       "            paths: {\n",
       "              base: '/static/base',\n",
       "              plotly: 'https://cdn.plot.ly/plotly-latest.min.js?noext',\n",
       "            },\n",
       "          });\n",
       "        </script>\n",
       "        "
      ],
      "text/plain": [
       "<IPython.core.display.HTML object>"
      ]
     },
     "metadata": {},
     "output_type": "display_data"
    },
    {
     "data": {
      "text/html": [
       "\n",
       "        <script src=\"/static/components/requirejs/require.js\"></script>\n",
       "        <script>\n",
       "          requirejs.config({\n",
       "            paths: {\n",
       "              base: '/static/base',\n",
       "              plotly: 'https://cdn.plot.ly/plotly-latest.min.js?noext',\n",
       "            },\n",
       "          });\n",
       "        </script>\n",
       "        "
      ],
      "text/plain": [
       "<IPython.core.display.HTML object>"
      ]
     },
     "metadata": {},
     "output_type": "display_data"
    },
    {
     "data": {
      "text/html": [
       "\n",
       "        <script src=\"/static/components/requirejs/require.js\"></script>\n",
       "        <script>\n",
       "          requirejs.config({\n",
       "            paths: {\n",
       "              base: '/static/base',\n",
       "              plotly: 'https://cdn.plot.ly/plotly-latest.min.js?noext',\n",
       "            },\n",
       "          });\n",
       "        </script>\n",
       "        "
      ],
      "text/plain": [
       "<IPython.core.display.HTML object>"
      ]
     },
     "metadata": {},
     "output_type": "display_data"
    },
    {
     "data": {
      "text/html": [
       "\n",
       "        <script src=\"/static/components/requirejs/require.js\"></script>\n",
       "        <script>\n",
       "          requirejs.config({\n",
       "            paths: {\n",
       "              base: '/static/base',\n",
       "              plotly: 'https://cdn.plot.ly/plotly-latest.min.js?noext',\n",
       "            },\n",
       "          });\n",
       "        </script>\n",
       "        "
      ],
      "text/plain": [
       "<IPython.core.display.HTML object>"
      ]
     },
     "metadata": {},
     "output_type": "display_data"
    },
    {
     "data": {
      "application/vnd.plotly.v1+json": {
       "config": {
        "linkText": "Export to plot.ly",
        "plotlyServerURL": "https://plot.ly",
        "showLink": false
       },
       "data": [
        {
         "marker": {
          "color": [
           3842,
           3397,
           3165,
           2912,
           2902,
           2830,
           2590,
           2479,
           2443,
           2406
          ],
          "colorscale": [
           [
            0,
            "rgb(161, 105, 40)"
           ],
           [
            0.16666666666666666,
            "rgb(189, 146, 90)"
           ],
           [
            0.3333333333333333,
            "rgb(214, 189, 141)"
           ],
           [
            0.5,
            "rgb(237, 234, 194)"
           ],
           [
            0.6666666666666666,
            "rgb(181, 200, 184)"
           ],
           [
            0.8333333333333334,
            "rgb(121, 167, 172)"
           ],
           [
            1,
            "rgb(40, 135, 161)"
           ]
          ]
         },
         "text": [
          3842,
          3397,
          3165,
          2912,
          2902,
          2830,
          2590,
          2479,
          2443,
          2406
         ],
         "textposition": "outside",
         "type": "bar",
         "x": [
          "12:00",
          "00:01",
          "18:00",
          "19:00",
          "20:00",
          "17:00",
          "21:00",
          "22:00",
          "16:00",
          "15:00"
         ],
         "y": [
          3842,
          3397,
          3165,
          2912,
          2902,
          2830,
          2590,
          2479,
          2443,
          2406
         ]
        }
       ],
       "layout": {
        "template": {
         "data": {
          "bar": [
           {
            "error_x": {
             "color": "#2a3f5f"
            },
            "error_y": {
             "color": "#2a3f5f"
            },
            "marker": {
             "line": {
              "color": "#E5ECF6",
              "width": 0.5
             }
            },
            "type": "bar"
           }
          ],
          "barpolar": [
           {
            "marker": {
             "line": {
              "color": "#E5ECF6",
              "width": 0.5
             }
            },
            "type": "barpolar"
           }
          ],
          "carpet": [
           {
            "aaxis": {
             "endlinecolor": "#2a3f5f",
             "gridcolor": "white",
             "linecolor": "white",
             "minorgridcolor": "white",
             "startlinecolor": "#2a3f5f"
            },
            "baxis": {
             "endlinecolor": "#2a3f5f",
             "gridcolor": "white",
             "linecolor": "white",
             "minorgridcolor": "white",
             "startlinecolor": "#2a3f5f"
            },
            "type": "carpet"
           }
          ],
          "choropleth": [
           {
            "colorbar": {
             "outlinewidth": 0,
             "ticks": ""
            },
            "type": "choropleth"
           }
          ],
          "contour": [
           {
            "colorbar": {
             "outlinewidth": 0,
             "ticks": ""
            },
            "colorscale": [
             [
              0,
              "#0d0887"
             ],
             [
              0.1111111111111111,
              "#46039f"
             ],
             [
              0.2222222222222222,
              "#7201a8"
             ],
             [
              0.3333333333333333,
              "#9c179e"
             ],
             [
              0.4444444444444444,
              "#bd3786"
             ],
             [
              0.5555555555555556,
              "#d8576b"
             ],
             [
              0.6666666666666666,
              "#ed7953"
             ],
             [
              0.7777777777777778,
              "#fb9f3a"
             ],
             [
              0.8888888888888888,
              "#fdca26"
             ],
             [
              1,
              "#f0f921"
             ]
            ],
            "type": "contour"
           }
          ],
          "contourcarpet": [
           {
            "colorbar": {
             "outlinewidth": 0,
             "ticks": ""
            },
            "type": "contourcarpet"
           }
          ],
          "heatmap": [
           {
            "colorbar": {
             "outlinewidth": 0,
             "ticks": ""
            },
            "colorscale": [
             [
              0,
              "#0d0887"
             ],
             [
              0.1111111111111111,
              "#46039f"
             ],
             [
              0.2222222222222222,
              "#7201a8"
             ],
             [
              0.3333333333333333,
              "#9c179e"
             ],
             [
              0.4444444444444444,
              "#bd3786"
             ],
             [
              0.5555555555555556,
              "#d8576b"
             ],
             [
              0.6666666666666666,
              "#ed7953"
             ],
             [
              0.7777777777777778,
              "#fb9f3a"
             ],
             [
              0.8888888888888888,
              "#fdca26"
             ],
             [
              1,
              "#f0f921"
             ]
            ],
            "type": "heatmap"
           }
          ],
          "heatmapgl": [
           {
            "colorbar": {
             "outlinewidth": 0,
             "ticks": ""
            },
            "colorscale": [
             [
              0,
              "#0d0887"
             ],
             [
              0.1111111111111111,
              "#46039f"
             ],
             [
              0.2222222222222222,
              "#7201a8"
             ],
             [
              0.3333333333333333,
              "#9c179e"
             ],
             [
              0.4444444444444444,
              "#bd3786"
             ],
             [
              0.5555555555555556,
              "#d8576b"
             ],
             [
              0.6666666666666666,
              "#ed7953"
             ],
             [
              0.7777777777777778,
              "#fb9f3a"
             ],
             [
              0.8888888888888888,
              "#fdca26"
             ],
             [
              1,
              "#f0f921"
             ]
            ],
            "type": "heatmapgl"
           }
          ],
          "histogram": [
           {
            "marker": {
             "colorbar": {
              "outlinewidth": 0,
              "ticks": ""
             }
            },
            "type": "histogram"
           }
          ],
          "histogram2d": [
           {
            "colorbar": {
             "outlinewidth": 0,
             "ticks": ""
            },
            "colorscale": [
             [
              0,
              "#0d0887"
             ],
             [
              0.1111111111111111,
              "#46039f"
             ],
             [
              0.2222222222222222,
              "#7201a8"
             ],
             [
              0.3333333333333333,
              "#9c179e"
             ],
             [
              0.4444444444444444,
              "#bd3786"
             ],
             [
              0.5555555555555556,
              "#d8576b"
             ],
             [
              0.6666666666666666,
              "#ed7953"
             ],
             [
              0.7777777777777778,
              "#fb9f3a"
             ],
             [
              0.8888888888888888,
              "#fdca26"
             ],
             [
              1,
              "#f0f921"
             ]
            ],
            "type": "histogram2d"
           }
          ],
          "histogram2dcontour": [
           {
            "colorbar": {
             "outlinewidth": 0,
             "ticks": ""
            },
            "colorscale": [
             [
              0,
              "#0d0887"
             ],
             [
              0.1111111111111111,
              "#46039f"
             ],
             [
              0.2222222222222222,
              "#7201a8"
             ],
             [
              0.3333333333333333,
              "#9c179e"
             ],
             [
              0.4444444444444444,
              "#bd3786"
             ],
             [
              0.5555555555555556,
              "#d8576b"
             ],
             [
              0.6666666666666666,
              "#ed7953"
             ],
             [
              0.7777777777777778,
              "#fb9f3a"
             ],
             [
              0.8888888888888888,
              "#fdca26"
             ],
             [
              1,
              "#f0f921"
             ]
            ],
            "type": "histogram2dcontour"
           }
          ],
          "mesh3d": [
           {
            "colorbar": {
             "outlinewidth": 0,
             "ticks": ""
            },
            "type": "mesh3d"
           }
          ],
          "parcoords": [
           {
            "line": {
             "colorbar": {
              "outlinewidth": 0,
              "ticks": ""
             }
            },
            "type": "parcoords"
           }
          ],
          "pie": [
           {
            "automargin": true,
            "type": "pie"
           }
          ],
          "scatter": [
           {
            "marker": {
             "colorbar": {
              "outlinewidth": 0,
              "ticks": ""
             }
            },
            "type": "scatter"
           }
          ],
          "scatter3d": [
           {
            "line": {
             "colorbar": {
              "outlinewidth": 0,
              "ticks": ""
             }
            },
            "marker": {
             "colorbar": {
              "outlinewidth": 0,
              "ticks": ""
             }
            },
            "type": "scatter3d"
           }
          ],
          "scattercarpet": [
           {
            "marker": {
             "colorbar": {
              "outlinewidth": 0,
              "ticks": ""
             }
            },
            "type": "scattercarpet"
           }
          ],
          "scattergeo": [
           {
            "marker": {
             "colorbar": {
              "outlinewidth": 0,
              "ticks": ""
             }
            },
            "type": "scattergeo"
           }
          ],
          "scattergl": [
           {
            "marker": {
             "colorbar": {
              "outlinewidth": 0,
              "ticks": ""
             }
            },
            "type": "scattergl"
           }
          ],
          "scattermapbox": [
           {
            "marker": {
             "colorbar": {
              "outlinewidth": 0,
              "ticks": ""
             }
            },
            "type": "scattermapbox"
           }
          ],
          "scatterpolar": [
           {
            "marker": {
             "colorbar": {
              "outlinewidth": 0,
              "ticks": ""
             }
            },
            "type": "scatterpolar"
           }
          ],
          "scatterpolargl": [
           {
            "marker": {
             "colorbar": {
              "outlinewidth": 0,
              "ticks": ""
             }
            },
            "type": "scatterpolargl"
           }
          ],
          "scatterternary": [
           {
            "marker": {
             "colorbar": {
              "outlinewidth": 0,
              "ticks": ""
             }
            },
            "type": "scatterternary"
           }
          ],
          "surface": [
           {
            "colorbar": {
             "outlinewidth": 0,
             "ticks": ""
            },
            "colorscale": [
             [
              0,
              "#0d0887"
             ],
             [
              0.1111111111111111,
              "#46039f"
             ],
             [
              0.2222222222222222,
              "#7201a8"
             ],
             [
              0.3333333333333333,
              "#9c179e"
             ],
             [
              0.4444444444444444,
              "#bd3786"
             ],
             [
              0.5555555555555556,
              "#d8576b"
             ],
             [
              0.6666666666666666,
              "#ed7953"
             ],
             [
              0.7777777777777778,
              "#fb9f3a"
             ],
             [
              0.8888888888888888,
              "#fdca26"
             ],
             [
              1,
              "#f0f921"
             ]
            ],
            "type": "surface"
           }
          ],
          "table": [
           {
            "cells": {
             "fill": {
              "color": "#EBF0F8"
             },
             "line": {
              "color": "white"
             }
            },
            "header": {
             "fill": {
              "color": "#C8D4E3"
             },
             "line": {
              "color": "white"
             }
            },
            "type": "table"
           }
          ]
         },
         "layout": {
          "annotationdefaults": {
           "arrowcolor": "#2a3f5f",
           "arrowhead": 0,
           "arrowwidth": 1
          },
          "coloraxis": {
           "colorbar": {
            "outlinewidth": 0,
            "ticks": ""
           }
          },
          "colorscale": {
           "diverging": [
            [
             0,
             "#8e0152"
            ],
            [
             0.1,
             "#c51b7d"
            ],
            [
             0.2,
             "#de77ae"
            ],
            [
             0.3,
             "#f1b6da"
            ],
            [
             0.4,
             "#fde0ef"
            ],
            [
             0.5,
             "#f7f7f7"
            ],
            [
             0.6,
             "#e6f5d0"
            ],
            [
             0.7,
             "#b8e186"
            ],
            [
             0.8,
             "#7fbc41"
            ],
            [
             0.9,
             "#4d9221"
            ],
            [
             1,
             "#276419"
            ]
           ],
           "sequential": [
            [
             0,
             "#0d0887"
            ],
            [
             0.1111111111111111,
             "#46039f"
            ],
            [
             0.2222222222222222,
             "#7201a8"
            ],
            [
             0.3333333333333333,
             "#9c179e"
            ],
            [
             0.4444444444444444,
             "#bd3786"
            ],
            [
             0.5555555555555556,
             "#d8576b"
            ],
            [
             0.6666666666666666,
             "#ed7953"
            ],
            [
             0.7777777777777778,
             "#fb9f3a"
            ],
            [
             0.8888888888888888,
             "#fdca26"
            ],
            [
             1,
             "#f0f921"
            ]
           ],
           "sequentialminus": [
            [
             0,
             "#0d0887"
            ],
            [
             0.1111111111111111,
             "#46039f"
            ],
            [
             0.2222222222222222,
             "#7201a8"
            ],
            [
             0.3333333333333333,
             "#9c179e"
            ],
            [
             0.4444444444444444,
             "#bd3786"
            ],
            [
             0.5555555555555556,
             "#d8576b"
            ],
            [
             0.6666666666666666,
             "#ed7953"
            ],
            [
             0.7777777777777778,
             "#fb9f3a"
            ],
            [
             0.8888888888888888,
             "#fdca26"
            ],
            [
             1,
             "#f0f921"
            ]
           ]
          },
          "colorway": [
           "#636efa",
           "#EF553B",
           "#00cc96",
           "#ab63fa",
           "#FFA15A",
           "#19d3f3",
           "#FF6692",
           "#B6E880",
           "#FF97FF",
           "#FECB52"
          ],
          "font": {
           "color": "#2a3f5f"
          },
          "geo": {
           "bgcolor": "white",
           "lakecolor": "white",
           "landcolor": "#E5ECF6",
           "showlakes": true,
           "showland": true,
           "subunitcolor": "white"
          },
          "hoverlabel": {
           "align": "left"
          },
          "hovermode": "closest",
          "mapbox": {
           "style": "light"
          },
          "paper_bgcolor": "white",
          "plot_bgcolor": "#E5ECF6",
          "polar": {
           "angularaxis": {
            "gridcolor": "white",
            "linecolor": "white",
            "ticks": ""
           },
           "bgcolor": "#E5ECF6",
           "radialaxis": {
            "gridcolor": "white",
            "linecolor": "white",
            "ticks": ""
           }
          },
          "scene": {
           "xaxis": {
            "backgroundcolor": "#E5ECF6",
            "gridcolor": "white",
            "gridwidth": 2,
            "linecolor": "white",
            "showbackground": true,
            "ticks": "",
            "zerolinecolor": "white"
           },
           "yaxis": {
            "backgroundcolor": "#E5ECF6",
            "gridcolor": "white",
            "gridwidth": 2,
            "linecolor": "white",
            "showbackground": true,
            "ticks": "",
            "zerolinecolor": "white"
           },
           "zaxis": {
            "backgroundcolor": "#E5ECF6",
            "gridcolor": "white",
            "gridwidth": 2,
            "linecolor": "white",
            "showbackground": true,
            "ticks": "",
            "zerolinecolor": "white"
           }
          },
          "shapedefaults": {
           "line": {
            "color": "#2a3f5f"
           }
          },
          "ternary": {
           "aaxis": {
            "gridcolor": "white",
            "linecolor": "white",
            "ticks": ""
           },
           "baxis": {
            "gridcolor": "white",
            "linecolor": "white",
            "ticks": ""
           },
           "bgcolor": "#E5ECF6",
           "caxis": {
            "gridcolor": "white",
            "linecolor": "white",
            "ticks": ""
           }
          },
          "title": {
           "x": 0.05
          },
          "xaxis": {
           "automargin": true,
           "gridcolor": "white",
           "linecolor": "white",
           "ticks": "",
           "title": {
            "standoff": 15
           },
           "zerolinecolor": "white",
           "zerolinewidth": 2
          },
          "yaxis": {
           "automargin": true,
           "gridcolor": "white",
           "linecolor": "white",
           "ticks": "",
           "title": {
            "standoff": 15
           },
           "zerolinecolor": "white",
           "zerolinewidth": 2
          }
         }
        },
        "title": {
         "text": "Figure 3 - Top 10 by Time ",
         "x": 0.5
        },
        "xaxis": {
         "title": {
          "text": "Time"
         }
        },
        "yaxis": {
         "title": {
          "text": "Number of Incidents"
         }
        }
       }
      },
      "text/html": [
       "<div>\n",
       "        \n",
       "        \n",
       "            <div id=\"bc073513-a206-4d49-9b75-cadefa7526d6\" class=\"plotly-graph-div\" style=\"height:525px; width:100%;\"></div>\n",
       "            <script type=\"text/javascript\">\n",
       "                require([\"plotly\"], function(Plotly) {\n",
       "                    window.PLOTLYENV=window.PLOTLYENV || {};\n",
       "                    \n",
       "                if (document.getElementById(\"bc073513-a206-4d49-9b75-cadefa7526d6\")) {\n",
       "                    Plotly.newPlot(\n",
       "                        'bc073513-a206-4d49-9b75-cadefa7526d6',\n",
       "                        [{\"marker\": {\"color\": [3842, 3397, 3165, 2912, 2902, 2830, 2590, 2479, 2443, 2406], \"colorscale\": [[0.0, \"rgb(161, 105, 40)\"], [0.16666666666666666, \"rgb(189, 146, 90)\"], [0.3333333333333333, \"rgb(214, 189, 141)\"], [0.5, \"rgb(237, 234, 194)\"], [0.6666666666666666, \"rgb(181, 200, 184)\"], [0.8333333333333334, \"rgb(121, 167, 172)\"], [1.0, \"rgb(40, 135, 161)\"]]}, \"text\": [3842.0, 3397.0, 3165.0, 2912.0, 2902.0, 2830.0, 2590.0, 2479.0, 2443.0, 2406.0], \"textposition\": \"outside\", \"type\": \"bar\", \"x\": [\"12:00\", \"00:01\", \"18:00\", \"19:00\", \"20:00\", \"17:00\", \"21:00\", \"22:00\", \"16:00\", \"15:00\"], \"y\": [3842, 3397, 3165, 2912, 2902, 2830, 2590, 2479, 2443, 2406]}],\n",
       "                        {\"template\": {\"data\": {\"bar\": [{\"error_x\": {\"color\": \"#2a3f5f\"}, \"error_y\": {\"color\": \"#2a3f5f\"}, \"marker\": {\"line\": {\"color\": \"#E5ECF6\", \"width\": 0.5}}, \"type\": \"bar\"}], \"barpolar\": [{\"marker\": {\"line\": {\"color\": \"#E5ECF6\", \"width\": 0.5}}, \"type\": \"barpolar\"}], \"carpet\": [{\"aaxis\": {\"endlinecolor\": \"#2a3f5f\", \"gridcolor\": \"white\", \"linecolor\": \"white\", \"minorgridcolor\": \"white\", \"startlinecolor\": \"#2a3f5f\"}, \"baxis\": {\"endlinecolor\": \"#2a3f5f\", \"gridcolor\": \"white\", \"linecolor\": \"white\", \"minorgridcolor\": \"white\", \"startlinecolor\": \"#2a3f5f\"}, \"type\": \"carpet\"}], \"choropleth\": [{\"colorbar\": {\"outlinewidth\": 0, \"ticks\": \"\"}, \"type\": \"choropleth\"}], \"contour\": [{\"colorbar\": {\"outlinewidth\": 0, \"ticks\": \"\"}, \"colorscale\": [[0.0, \"#0d0887\"], [0.1111111111111111, \"#46039f\"], [0.2222222222222222, \"#7201a8\"], [0.3333333333333333, \"#9c179e\"], [0.4444444444444444, \"#bd3786\"], [0.5555555555555556, \"#d8576b\"], [0.6666666666666666, \"#ed7953\"], [0.7777777777777778, \"#fb9f3a\"], [0.8888888888888888, \"#fdca26\"], [1.0, \"#f0f921\"]], \"type\": \"contour\"}], \"contourcarpet\": [{\"colorbar\": {\"outlinewidth\": 0, \"ticks\": \"\"}, \"type\": \"contourcarpet\"}], \"heatmap\": [{\"colorbar\": {\"outlinewidth\": 0, \"ticks\": \"\"}, \"colorscale\": [[0.0, \"#0d0887\"], [0.1111111111111111, \"#46039f\"], [0.2222222222222222, \"#7201a8\"], [0.3333333333333333, \"#9c179e\"], [0.4444444444444444, \"#bd3786\"], [0.5555555555555556, \"#d8576b\"], [0.6666666666666666, \"#ed7953\"], [0.7777777777777778, \"#fb9f3a\"], [0.8888888888888888, \"#fdca26\"], [1.0, \"#f0f921\"]], \"type\": \"heatmap\"}], \"heatmapgl\": [{\"colorbar\": {\"outlinewidth\": 0, \"ticks\": \"\"}, \"colorscale\": [[0.0, \"#0d0887\"], [0.1111111111111111, \"#46039f\"], [0.2222222222222222, \"#7201a8\"], [0.3333333333333333, \"#9c179e\"], [0.4444444444444444, \"#bd3786\"], [0.5555555555555556, \"#d8576b\"], [0.6666666666666666, \"#ed7953\"], [0.7777777777777778, \"#fb9f3a\"], [0.8888888888888888, \"#fdca26\"], [1.0, \"#f0f921\"]], \"type\": \"heatmapgl\"}], \"histogram\": [{\"marker\": {\"colorbar\": {\"outlinewidth\": 0, \"ticks\": \"\"}}, \"type\": \"histogram\"}], \"histogram2d\": [{\"colorbar\": {\"outlinewidth\": 0, \"ticks\": \"\"}, \"colorscale\": [[0.0, \"#0d0887\"], [0.1111111111111111, \"#46039f\"], [0.2222222222222222, \"#7201a8\"], [0.3333333333333333, \"#9c179e\"], [0.4444444444444444, \"#bd3786\"], [0.5555555555555556, \"#d8576b\"], [0.6666666666666666, \"#ed7953\"], [0.7777777777777778, \"#fb9f3a\"], [0.8888888888888888, \"#fdca26\"], [1.0, \"#f0f921\"]], \"type\": \"histogram2d\"}], \"histogram2dcontour\": [{\"colorbar\": {\"outlinewidth\": 0, \"ticks\": \"\"}, \"colorscale\": [[0.0, \"#0d0887\"], [0.1111111111111111, \"#46039f\"], [0.2222222222222222, \"#7201a8\"], [0.3333333333333333, \"#9c179e\"], [0.4444444444444444, \"#bd3786\"], [0.5555555555555556, \"#d8576b\"], [0.6666666666666666, \"#ed7953\"], [0.7777777777777778, \"#fb9f3a\"], [0.8888888888888888, \"#fdca26\"], [1.0, \"#f0f921\"]], \"type\": \"histogram2dcontour\"}], \"mesh3d\": [{\"colorbar\": {\"outlinewidth\": 0, \"ticks\": \"\"}, \"type\": \"mesh3d\"}], \"parcoords\": [{\"line\": {\"colorbar\": {\"outlinewidth\": 0, \"ticks\": \"\"}}, \"type\": \"parcoords\"}], \"pie\": [{\"automargin\": true, \"type\": \"pie\"}], \"scatter\": [{\"marker\": {\"colorbar\": {\"outlinewidth\": 0, \"ticks\": \"\"}}, \"type\": \"scatter\"}], \"scatter3d\": [{\"line\": {\"colorbar\": {\"outlinewidth\": 0, \"ticks\": \"\"}}, \"marker\": {\"colorbar\": {\"outlinewidth\": 0, \"ticks\": \"\"}}, \"type\": \"scatter3d\"}], \"scattercarpet\": [{\"marker\": {\"colorbar\": {\"outlinewidth\": 0, \"ticks\": \"\"}}, \"type\": \"scattercarpet\"}], \"scattergeo\": [{\"marker\": {\"colorbar\": {\"outlinewidth\": 0, \"ticks\": \"\"}}, \"type\": \"scattergeo\"}], \"scattergl\": [{\"marker\": {\"colorbar\": {\"outlinewidth\": 0, \"ticks\": \"\"}}, \"type\": \"scattergl\"}], \"scattermapbox\": [{\"marker\": {\"colorbar\": {\"outlinewidth\": 0, \"ticks\": \"\"}}, \"type\": \"scattermapbox\"}], \"scatterpolar\": [{\"marker\": {\"colorbar\": {\"outlinewidth\": 0, \"ticks\": \"\"}}, \"type\": \"scatterpolar\"}], \"scatterpolargl\": [{\"marker\": {\"colorbar\": {\"outlinewidth\": 0, \"ticks\": \"\"}}, \"type\": \"scatterpolargl\"}], \"scatterternary\": [{\"marker\": {\"colorbar\": {\"outlinewidth\": 0, \"ticks\": \"\"}}, \"type\": \"scatterternary\"}], \"surface\": [{\"colorbar\": {\"outlinewidth\": 0, \"ticks\": \"\"}, \"colorscale\": [[0.0, \"#0d0887\"], [0.1111111111111111, \"#46039f\"], [0.2222222222222222, \"#7201a8\"], [0.3333333333333333, \"#9c179e\"], [0.4444444444444444, \"#bd3786\"], [0.5555555555555556, \"#d8576b\"], [0.6666666666666666, \"#ed7953\"], [0.7777777777777778, \"#fb9f3a\"], [0.8888888888888888, \"#fdca26\"], [1.0, \"#f0f921\"]], \"type\": \"surface\"}], \"table\": [{\"cells\": {\"fill\": {\"color\": \"#EBF0F8\"}, \"line\": {\"color\": \"white\"}}, \"header\": {\"fill\": {\"color\": \"#C8D4E3\"}, \"line\": {\"color\": \"white\"}}, \"type\": \"table\"}]}, \"layout\": {\"annotationdefaults\": {\"arrowcolor\": \"#2a3f5f\", \"arrowhead\": 0, \"arrowwidth\": 1}, \"coloraxis\": {\"colorbar\": {\"outlinewidth\": 0, \"ticks\": \"\"}}, \"colorscale\": {\"diverging\": [[0, \"#8e0152\"], [0.1, \"#c51b7d\"], [0.2, \"#de77ae\"], [0.3, \"#f1b6da\"], [0.4, \"#fde0ef\"], [0.5, \"#f7f7f7\"], [0.6, \"#e6f5d0\"], [0.7, \"#b8e186\"], [0.8, \"#7fbc41\"], [0.9, \"#4d9221\"], [1, \"#276419\"]], \"sequential\": [[0.0, \"#0d0887\"], [0.1111111111111111, \"#46039f\"], [0.2222222222222222, \"#7201a8\"], [0.3333333333333333, \"#9c179e\"], [0.4444444444444444, \"#bd3786\"], [0.5555555555555556, \"#d8576b\"], [0.6666666666666666, \"#ed7953\"], [0.7777777777777778, \"#fb9f3a\"], [0.8888888888888888, \"#fdca26\"], [1.0, \"#f0f921\"]], \"sequentialminus\": [[0.0, \"#0d0887\"], [0.1111111111111111, \"#46039f\"], [0.2222222222222222, \"#7201a8\"], [0.3333333333333333, \"#9c179e\"], [0.4444444444444444, \"#bd3786\"], [0.5555555555555556, \"#d8576b\"], [0.6666666666666666, \"#ed7953\"], [0.7777777777777778, \"#fb9f3a\"], [0.8888888888888888, \"#fdca26\"], [1.0, \"#f0f921\"]]}, \"colorway\": [\"#636efa\", \"#EF553B\", \"#00cc96\", \"#ab63fa\", \"#FFA15A\", \"#19d3f3\", \"#FF6692\", \"#B6E880\", \"#FF97FF\", \"#FECB52\"], \"font\": {\"color\": \"#2a3f5f\"}, \"geo\": {\"bgcolor\": \"white\", \"lakecolor\": \"white\", \"landcolor\": \"#E5ECF6\", \"showlakes\": true, \"showland\": true, \"subunitcolor\": \"white\"}, \"hoverlabel\": {\"align\": \"left\"}, \"hovermode\": \"closest\", \"mapbox\": {\"style\": \"light\"}, \"paper_bgcolor\": \"white\", \"plot_bgcolor\": \"#E5ECF6\", \"polar\": {\"angularaxis\": {\"gridcolor\": \"white\", \"linecolor\": \"white\", \"ticks\": \"\"}, \"bgcolor\": \"#E5ECF6\", \"radialaxis\": {\"gridcolor\": \"white\", \"linecolor\": \"white\", \"ticks\": \"\"}}, \"scene\": {\"xaxis\": {\"backgroundcolor\": \"#E5ECF6\", \"gridcolor\": \"white\", \"gridwidth\": 2, \"linecolor\": \"white\", \"showbackground\": true, \"ticks\": \"\", \"zerolinecolor\": \"white\"}, \"yaxis\": {\"backgroundcolor\": \"#E5ECF6\", \"gridcolor\": \"white\", \"gridwidth\": 2, \"linecolor\": \"white\", \"showbackground\": true, \"ticks\": \"\", \"zerolinecolor\": \"white\"}, \"zaxis\": {\"backgroundcolor\": \"#E5ECF6\", \"gridcolor\": \"white\", \"gridwidth\": 2, \"linecolor\": \"white\", \"showbackground\": true, \"ticks\": \"\", \"zerolinecolor\": \"white\"}}, \"shapedefaults\": {\"line\": {\"color\": \"#2a3f5f\"}}, \"ternary\": {\"aaxis\": {\"gridcolor\": \"white\", \"linecolor\": \"white\", \"ticks\": \"\"}, \"baxis\": {\"gridcolor\": \"white\", \"linecolor\": \"white\", \"ticks\": \"\"}, \"bgcolor\": \"#E5ECF6\", \"caxis\": {\"gridcolor\": \"white\", \"linecolor\": \"white\", \"ticks\": \"\"}}, \"title\": {\"x\": 0.05}, \"xaxis\": {\"automargin\": true, \"gridcolor\": \"white\", \"linecolor\": \"white\", \"ticks\": \"\", \"title\": {\"standoff\": 15}, \"zerolinecolor\": \"white\", \"zerolinewidth\": 2}, \"yaxis\": {\"automargin\": true, \"gridcolor\": \"white\", \"linecolor\": \"white\", \"ticks\": \"\", \"title\": {\"standoff\": 15}, \"zerolinecolor\": \"white\", \"zerolinewidth\": 2}}}, \"title\": {\"text\": \"Figure 3 - Top 10 by Time \", \"x\": 0.5}, \"xaxis\": {\"title\": {\"text\": \"Time\"}}, \"yaxis\": {\"title\": {\"text\": \"Number of Incidents\"}}},\n",
       "                        {\"responsive\": true}\n",
       "                    ).then(function(){\n",
       "                            \n",
       "var gd = document.getElementById('bc073513-a206-4d49-9b75-cadefa7526d6');\n",
       "var x = new MutationObserver(function (mutations, observer) {{\n",
       "        var display = window.getComputedStyle(gd).display;\n",
       "        if (!display || display === 'none') {{\n",
       "            console.log([gd, 'removed!']);\n",
       "            Plotly.purge(gd);\n",
       "            observer.disconnect();\n",
       "        }}\n",
       "}});\n",
       "\n",
       "// Listen for the removal of the full notebook cells\n",
       "var notebookContainer = gd.closest('#notebook-container');\n",
       "if (notebookContainer) {{\n",
       "    x.observe(notebookContainer, {childList: true});\n",
       "}}\n",
       "\n",
       "// Listen for the clearing of the current output cell\n",
       "var outputEl = gd.closest('.output');\n",
       "if (outputEl) {{\n",
       "    x.observe(outputEl, {childList: true});\n",
       "}}\n",
       "\n",
       "                        })\n",
       "                };\n",
       "                });\n",
       "            </script>\n",
       "        </div>"
      ]
     },
     "metadata": {},
     "output_type": "display_data"
    },
    {
     "data": {
      "image/png": "[encoded data removed]"
     },
     "metadata": {},
     "output_type": "display_data"
    }
   ],
   "source": [
    "# Plotting Top 10 by Time \n",
    "value = incidents['Time'].value_counts().round(0).nlargest(10)\n",
    "label = value.index\n",
    "trace = go.Bar(y=value, \n",
    "               x=label,text = value,textposition= \"outside\",\n",
    "               marker={'color': value,\n",
    "                   'colorscale': 'Earth'})\n",
    "layout = go.Layout(title=\"Figure 3 - Top 10 by Time \", \n",
    "                   xaxis={'title' : \"Time\"},\n",
    "                  yaxis={'title' : \"Number of Incidents\"},\n",
    "                  title_x=0.5)\n",
    "fig = go.Figure(data=trace, layout=layout)\n",
    "iplot(fig)\n",
    "fig.show('png')"
   ]
  },
  {
   "cell_type": "code",
   "execution_count": 211,
   "metadata": {},
   "outputs": [
    {
     "data": {
      "text/html": [
       "\n",
       "        <script src=\"/static/components/requirejs/require.js\"></script>\n",
       "        <script>\n",
       "          requirejs.config({\n",
       "            paths: {\n",
       "              base: '/static/base',\n",
       "              plotly: 'https://cdn.plot.ly/plotly-latest.min.js?noext',\n",
       "            },\n",
       "          });\n",
       "        </script>\n",
       "        "
      ],
      "text/plain": [
       "<IPython.core.display.HTML object>"
      ]
     },
     "metadata": {},
     "output_type": "display_data"
    },
    {
     "data": {
      "text/html": [
       "\n",
       "        <script src=\"/static/components/requirejs/require.js\"></script>\n",
       "        <script>\n",
       "          requirejs.config({\n",
       "            paths: {\n",
       "              base: '/static/base',\n",
       "              plotly: 'https://cdn.plot.ly/plotly-latest.min.js?noext',\n",
       "            },\n",
       "          });\n",
       "        </script>\n",
       "        "
      ],
      "text/plain": [
       "<IPython.core.display.HTML object>"
      ]
     },
     "metadata": {},
     "output_type": "display_data"
    },
    {
     "data": {
      "text/html": [
       "\n",
       "        <script src=\"/static/components/requirejs/require.js\"></script>\n",
       "        <script>\n",
       "          requirejs.config({\n",
       "            paths: {\n",
       "              base: '/static/base',\n",
       "              plotly: 'https://cdn.plot.ly/plotly-latest.min.js?noext',\n",
       "            },\n",
       "          });\n",
       "        </script>\n",
       "        "
      ],
      "text/plain": [
       "<IPython.core.display.HTML object>"
      ]
     },
     "metadata": {},
     "output_type": "display_data"
    },
    {
     "data": {
      "text/html": [
       "\n",
       "        <script src=\"/static/components/requirejs/require.js\"></script>\n",
       "        <script>\n",
       "          requirejs.config({\n",
       "            paths: {\n",
       "              base: '/static/base',\n",
       "              plotly: 'https://cdn.plot.ly/plotly-latest.min.js?noext',\n",
       "            },\n",
       "          });\n",
       "        </script>\n",
       "        "
      ],
      "text/plain": [
       "<IPython.core.display.HTML object>"
      ]
     },
     "metadata": {},
     "output_type": "display_data"
    },
    {
     "data": {
      "text/html": [
       "\n",
       "        <script src=\"/static/components/requirejs/require.js\"></script>\n",
       "        <script>\n",
       "          requirejs.config({\n",
       "            paths: {\n",
       "              base: '/static/base',\n",
       "              plotly: 'https://cdn.plot.ly/plotly-latest.min.js?noext',\n",
       "            },\n",
       "          });\n",
       "        </script>\n",
       "        "
      ],
      "text/plain": [
       "<IPython.core.display.HTML object>"
      ]
     },
     "metadata": {},
     "output_type": "display_data"
    },
    {
     "data": {
      "text/html": [
       "\n",
       "        <script src=\"/static/components/requirejs/require.js\"></script>\n",
       "        <script>\n",
       "          requirejs.config({\n",
       "            paths: {\n",
       "              base: '/static/base',\n",
       "              plotly: 'https://cdn.plot.ly/plotly-latest.min.js?noext',\n",
       "            },\n",
       "          });\n",
       "        </script>\n",
       "        "
      ],
      "text/plain": [
       "<IPython.core.display.HTML object>"
      ]
     },
     "metadata": {},
     "output_type": "display_data"
    },
    {
     "data": {
      "text/html": [
       "\n",
       "        <script src=\"/static/components/requirejs/require.js\"></script>\n",
       "        <script>\n",
       "          requirejs.config({\n",
       "            paths: {\n",
       "              base: '/static/base',\n",
       "              plotly: 'https://cdn.plot.ly/plotly-latest.min.js?noext',\n",
       "            },\n",
       "          });\n",
       "        </script>\n",
       "        "
      ],
      "text/plain": [
       "<IPython.core.display.HTML object>"
      ]
     },
     "metadata": {},
     "output_type": "display_data"
    },
    {
     "data": {
      "text/html": [
       "\n",
       "        <script src=\"/static/components/requirejs/require.js\"></script>\n",
       "        <script>\n",
       "          requirejs.config({\n",
       "            paths: {\n",
       "              base: '/static/base',\n",
       "              plotly: 'https://cdn.plot.ly/plotly-latest.min.js?noext',\n",
       "            },\n",
       "          });\n",
       "        </script>\n",
       "        "
      ],
      "text/plain": [
       "<IPython.core.display.HTML object>"
      ]
     },
     "metadata": {},
     "output_type": "display_data"
    },
    {
     "data": {
      "text/html": [
       "\n",
       "        <script src=\"/static/components/requirejs/require.js\"></script>\n",
       "        <script>\n",
       "          requirejs.config({\n",
       "            paths: {\n",
       "              base: '/static/base',\n",
       "              plotly: 'https://cdn.plot.ly/plotly-latest.min.js?noext',\n",
       "            },\n",
       "          });\n",
       "        </script>\n",
       "        "
      ],
      "text/plain": [
       "<IPython.core.display.HTML object>"
      ]
     },
     "metadata": {},
     "output_type": "display_data"
    },
    {
     "data": {
      "text/html": [
       "\n",
       "        <script src=\"/static/components/requirejs/require.js\"></script>\n",
       "        <script>\n",
       "          requirejs.config({\n",
       "            paths: {\n",
       "              base: '/static/base',\n",
       "              plotly: 'https://cdn.plot.ly/plotly-latest.min.js?noext',\n",
       "            },\n",
       "          });\n",
       "        </script>\n",
       "        "
      ],
      "text/plain": [
       "<IPython.core.display.HTML object>"
      ]
     },
     "metadata": {},
     "output_type": "display_data"
    },
    {
     "data": {
      "text/html": [
       "\n",
       "        <script src=\"/static/components/requirejs/require.js\"></script>\n",
       "        <script>\n",
       "          requirejs.config({\n",
       "            paths: {\n",
       "              base: '/static/base',\n",
       "              plotly: 'https://cdn.plot.ly/plotly-latest.min.js?noext',\n",
       "            },\n",
       "          });\n",
       "        </script>\n",
       "        "
      ],
      "text/plain": [
       "<IPython.core.display.HTML object>"
      ]
     },
     "metadata": {},
     "output_type": "display_data"
    },
    {
     "data": {
      "text/html": [
       "\n",
       "        <script src=\"/static/components/requirejs/require.js\"></script>\n",
       "        <script>\n",
       "          requirejs.config({\n",
       "            paths: {\n",
       "              base: '/static/base',\n",
       "              plotly: 'https://cdn.plot.ly/plotly-latest.min.js?noext',\n",
       "            },\n",
       "          });\n",
       "        </script>\n",
       "        "
      ],
      "text/plain": [
       "<IPython.core.display.HTML object>"
      ]
     },
     "metadata": {},
     "output_type": "display_data"
    },
    {
     "data": {
      "text/html": [
       "\n",
       "        <script src=\"/static/components/requirejs/require.js\"></script>\n",
       "        <script>\n",
       "          requirejs.config({\n",
       "            paths: {\n",
       "              base: '/static/base',\n",
       "              plotly: 'https://cdn.plot.ly/plotly-latest.min.js?noext',\n",
       "            },\n",
       "          });\n",
       "        </script>\n",
       "        "
      ],
      "text/plain": [
       "<IPython.core.display.HTML object>"
      ]
     },
     "metadata": {},
     "output_type": "display_data"
    },
    {
     "data": {
      "text/html": [
       "\n",
       "        <script src=\"/static/components/requirejs/require.js\"></script>\n",
       "        <script>\n",
       "          requirejs.config({\n",
       "            paths: {\n",
       "              base: '/static/base',\n",
       "              plotly: 'https://cdn.plot.ly/plotly-latest.min.js?noext',\n",
       "            },\n",
       "          });\n",
       "        </script>\n",
       "        "
      ],
      "text/plain": [
       "<IPython.core.display.HTML object>"
      ]
     },
     "metadata": {},
     "output_type": "display_data"
    },
    {
     "data": {
      "text/plain": [
       "800 Block of BRYANT ST          3561\n",
       "800 Block of MARKET ST          1405\n",
       "1000 Block of POTRERO AV         644\n",
       "900 Block of MARKET ST           547\n",
       "0 Block of UNITEDNATIONS PZ      452\n",
       "500 Block of JOHNFKENNEDY DR     448\n",
       "3200 Block of 20TH AV            431\n",
       "600 Block of VALENCIA ST         399\n",
       "100 Block of OFARRELL ST         389\n",
       "1100 Block of FILLMORE ST        382\n",
       "Name: Address, dtype: int64"
      ]
     },
     "execution_count": 211,
     "metadata": {},
     "output_type": "execute_result"
    }
   ],
   "source": [
    "# Top 10 by Address\n",
    "incidents['Address'].value_counts().nlargest(10)"
   ]
  },
  {
   "cell_type": "code",
   "execution_count": 212,
   "metadata": {},
   "outputs": [
    {
     "data": {
      "text/html": [
       "\n",
       "        <script src=\"/static/components/requirejs/require.js\"></script>\n",
       "        <script>\n",
       "          requirejs.config({\n",
       "            paths: {\n",
       "              base: '/static/base',\n",
       "              plotly: 'https://cdn.plot.ly/plotly-latest.min.js?noext',\n",
       "            },\n",
       "          });\n",
       "        </script>\n",
       "        "
      ],
      "text/plain": [
       "<IPython.core.display.HTML object>"
      ]
     },
     "metadata": {},
     "output_type": "display_data"
    },
    {
     "data": {
      "text/html": [
       "\n",
       "        <script src=\"/static/components/requirejs/require.js\"></script>\n",
       "        <script>\n",
       "          requirejs.config({\n",
       "            paths: {\n",
       "              base: '/static/base',\n",
       "              plotly: 'https://cdn.plot.ly/plotly-latest.min.js?noext',\n",
       "            },\n",
       "          });\n",
       "        </script>\n",
       "        "
      ],
      "text/plain": [
       "<IPython.core.display.HTML object>"
      ]
     },
     "metadata": {},
     "output_type": "display_data"
    },
    {
     "data": {
      "text/html": [
       "\n",
       "        <script src=\"/static/components/requirejs/require.js\"></script>\n",
       "        <script>\n",
       "          requirejs.config({\n",
       "            paths: {\n",
       "              base: '/static/base',\n",
       "              plotly: 'https://cdn.plot.ly/plotly-latest.min.js?noext',\n",
       "            },\n",
       "          });\n",
       "        </script>\n",
       "        "
      ],
      "text/plain": [
       "<IPython.core.display.HTML object>"
      ]
     },
     "metadata": {},
     "output_type": "display_data"
    },
    {
     "data": {
      "text/html": [
       "\n",
       "        <script src=\"/static/components/requirejs/require.js\"></script>\n",
       "        <script>\n",
       "          requirejs.config({\n",
       "            paths: {\n",
       "              base: '/static/base',\n",
       "              plotly: 'https://cdn.plot.ly/plotly-latest.min.js?noext',\n",
       "            },\n",
       "          });\n",
       "        </script>\n",
       "        "
      ],
      "text/plain": [
       "<IPython.core.display.HTML object>"
      ]
     },
     "metadata": {},
     "output_type": "display_data"
    },
    {
     "data": {
      "text/html": [
       "\n",
       "        <script src=\"/static/components/requirejs/require.js\"></script>\n",
       "        <script>\n",
       "          requirejs.config({\n",
       "            paths: {\n",
       "              base: '/static/base',\n",
       "              plotly: 'https://cdn.plot.ly/plotly-latest.min.js?noext',\n",
       "            },\n",
       "          });\n",
       "        </script>\n",
       "        "
      ],
      "text/plain": [
       "<IPython.core.display.HTML object>"
      ]
     },
     "metadata": {},
     "output_type": "display_data"
    },
    {
     "data": {
      "text/html": [
       "\n",
       "        <script src=\"/static/components/requirejs/require.js\"></script>\n",
       "        <script>\n",
       "          requirejs.config({\n",
       "            paths: {\n",
       "              base: '/static/base',\n",
       "              plotly: 'https://cdn.plot.ly/plotly-latest.min.js?noext',\n",
       "            },\n",
       "          });\n",
       "        </script>\n",
       "        "
      ],
      "text/plain": [
       "<IPython.core.display.HTML object>"
      ]
     },
     "metadata": {},
     "output_type": "display_data"
    },
    {
     "data": {
      "text/html": [
       "\n",
       "        <script src=\"/static/components/requirejs/require.js\"></script>\n",
       "        <script>\n",
       "          requirejs.config({\n",
       "            paths: {\n",
       "              base: '/static/base',\n",
       "              plotly: 'https://cdn.plot.ly/plotly-latest.min.js?noext',\n",
       "            },\n",
       "          });\n",
       "        </script>\n",
       "        "
      ],
      "text/plain": [
       "<IPython.core.display.HTML object>"
      ]
     },
     "metadata": {},
     "output_type": "display_data"
    },
    {
     "data": {
      "text/html": [
       "\n",
       "        <script src=\"/static/components/requirejs/require.js\"></script>\n",
       "        <script>\n",
       "          requirejs.config({\n",
       "            paths: {\n",
       "              base: '/static/base',\n",
       "              plotly: 'https://cdn.plot.ly/plotly-latest.min.js?noext',\n",
       "            },\n",
       "          });\n",
       "        </script>\n",
       "        "
      ],
      "text/plain": [
       "<IPython.core.display.HTML object>"
      ]
     },
     "metadata": {},
     "output_type": "display_data"
    },
    {
     "data": {
      "text/html": [
       "\n",
       "        <script src=\"/static/components/requirejs/require.js\"></script>\n",
       "        <script>\n",
       "          requirejs.config({\n",
       "            paths: {\n",
       "              base: '/static/base',\n",
       "              plotly: 'https://cdn.plot.ly/plotly-latest.min.js?noext',\n",
       "            },\n",
       "          });\n",
       "        </script>\n",
       "        "
      ],
      "text/plain": [
       "<IPython.core.display.HTML object>"
      ]
     },
     "metadata": {},
     "output_type": "display_data"
    },
    {
     "data": {
      "text/html": [
       "\n",
       "        <script src=\"/static/components/requirejs/require.js\"></script>\n",
       "        <script>\n",
       "          requirejs.config({\n",
       "            paths: {\n",
       "              base: '/static/base',\n",
       "              plotly: 'https://cdn.plot.ly/plotly-latest.min.js?noext',\n",
       "            },\n",
       "          });\n",
       "        </script>\n",
       "        "
      ],
      "text/plain": [
       "<IPython.core.display.HTML object>"
      ]
     },
     "metadata": {},
     "output_type": "display_data"
    },
    {
     "data": {
      "text/html": [
       "\n",
       "        <script src=\"/static/components/requirejs/require.js\"></script>\n",
       "        <script>\n",
       "          requirejs.config({\n",
       "            paths: {\n",
       "              base: '/static/base',\n",
       "              plotly: 'https://cdn.plot.ly/plotly-latest.min.js?noext',\n",
       "            },\n",
       "          });\n",
       "        </script>\n",
       "        "
      ],
      "text/plain": [
       "<IPython.core.display.HTML object>"
      ]
     },
     "metadata": {},
     "output_type": "display_data"
    },
    {
     "data": {
      "text/html": [
       "\n",
       "        <script src=\"/static/components/requirejs/require.js\"></script>\n",
       "        <script>\n",
       "          requirejs.config({\n",
       "            paths: {\n",
       "              base: '/static/base',\n",
       "              plotly: 'https://cdn.plot.ly/plotly-latest.min.js?noext',\n",
       "            },\n",
       "          });\n",
       "        </script>\n",
       "        "
      ],
      "text/plain": [
       "<IPython.core.display.HTML object>"
      ]
     },
     "metadata": {},
     "output_type": "display_data"
    },
    {
     "data": {
      "text/html": [
       "\n",
       "        <script src=\"/static/components/requirejs/require.js\"></script>\n",
       "        <script>\n",
       "          requirejs.config({\n",
       "            paths: {\n",
       "              base: '/static/base',\n",
       "              plotly: 'https://cdn.plot.ly/plotly-latest.min.js?noext',\n",
       "            },\n",
       "          });\n",
       "        </script>\n",
       "        "
      ],
      "text/plain": [
       "<IPython.core.display.HTML object>"
      ]
     },
     "metadata": {},
     "output_type": "display_data"
    },
    {
     "data": {
      "text/html": [
       "\n",
       "        <script src=\"/static/components/requirejs/require.js\"></script>\n",
       "        <script>\n",
       "          requirejs.config({\n",
       "            paths: {\n",
       "              base: '/static/base',\n",
       "              plotly: 'https://cdn.plot.ly/plotly-latest.min.js?noext',\n",
       "            },\n",
       "          });\n",
       "        </script>\n",
       "        "
      ],
      "text/plain": [
       "<IPython.core.display.HTML object>"
      ]
     },
     "metadata": {},
     "output_type": "display_data"
    },
    {
     "data": {
      "application/vnd.plotly.v1+json": {
       "config": {
        "linkText": "Export to plot.ly",
        "plotlyServerURL": "https://plot.ly",
        "showLink": false
       },
       "data": [
        {
         "marker": {
          "color": [
           3561,
           1405,
           644,
           547,
           452,
           448,
           431,
           399,
           389,
           382
          ],
          "colorscale": [
           [
            0,
            "rgb(12,51,131)"
           ],
           [
            0.25,
            "rgb(10,136,186)"
           ],
           [
            0.5,
            "rgb(242,211,56)"
           ],
           [
            0.75,
            "rgb(242,143,56)"
           ],
           [
            1,
            "rgb(217,30,30)"
           ]
          ]
         },
         "text": [
          3561,
          1405,
          644,
          547,
          452,
          448,
          431,
          399,
          389,
          382
         ],
         "textposition": "outside",
         "type": "bar",
         "x": [
          "800 Block of BRYANT ST",
          "800 Block of MARKET ST",
          "1000 Block of POTRERO AV",
          "900 Block of MARKET ST",
          "0 Block of UNITEDNATIONS PZ",
          "500 Block of JOHNFKENNEDY DR",
          "3200 Block of 20TH AV",
          "600 Block of VALENCIA ST",
          "100 Block of OFARRELL ST",
          "1100 Block of FILLMORE ST"
         ],
         "y": [
          3561,
          1405,
          644,
          547,
          452,
          448,
          431,
          399,
          389,
          382
         ]
        }
       ],
       "layout": {
        "template": {
         "data": {
          "bar": [
           {
            "error_x": {
             "color": "#2a3f5f"
            },
            "error_y": {
             "color": "#2a3f5f"
            },
            "marker": {
             "line": {
              "color": "#E5ECF6",
              "width": 0.5
             }
            },
            "type": "bar"
           }
          ],
          "barpolar": [
           {
            "marker": {
             "line": {
              "color": "#E5ECF6",
              "width": 0.5
             }
            },
            "type": "barpolar"
           }
          ],
          "carpet": [
           {
            "aaxis": {
             "endlinecolor": "#2a3f5f",
             "gridcolor": "white",
             "linecolor": "white",
             "minorgridcolor": "white",
             "startlinecolor": "#2a3f5f"
            },
            "baxis": {
             "endlinecolor": "#2a3f5f",
             "gridcolor": "white",
             "linecolor": "white",
             "minorgridcolor": "white",
             "startlinecolor": "#2a3f5f"
            },
            "type": "carpet"
           }
          ],
          "choropleth": [
           {
            "colorbar": {
             "outlinewidth": 0,
             "ticks": ""
            },
            "type": "choropleth"
           }
          ],
          "contour": [
           {
            "colorbar": {
             "outlinewidth": 0,
             "ticks": ""
            },
            "colorscale": [
             [
              0,
              "#0d0887"
             ],
             [
              0.1111111111111111,
              "#46039f"
             ],
             [
              0.2222222222222222,
              "#7201a8"
             ],
             [
              0.3333333333333333,
              "#9c179e"
             ],
             [
              0.4444444444444444,
              "#bd3786"
             ],
             [
              0.5555555555555556,
              "#d8576b"
             ],
             [
              0.6666666666666666,
              "#ed7953"
             ],
             [
              0.7777777777777778,
              "#fb9f3a"
             ],
             [
              0.8888888888888888,
              "#fdca26"
             ],
             [
              1,
              "#f0f921"
             ]
            ],
            "type": "contour"
           }
          ],
          "contourcarpet": [
           {
            "colorbar": {
             "outlinewidth": 0,
             "ticks": ""
            },
            "type": "contourcarpet"
           }
          ],
          "heatmap": [
           {
            "colorbar": {
             "outlinewidth": 0,
             "ticks": ""
            },
            "colorscale": [
             [
              0,
              "#0d0887"
             ],
             [
              0.1111111111111111,
              "#46039f"
             ],
             [
              0.2222222222222222,
              "#7201a8"
             ],
             [
              0.3333333333333333,
              "#9c179e"
             ],
             [
              0.4444444444444444,
              "#bd3786"
             ],
             [
              0.5555555555555556,
              "#d8576b"
             ],
             [
              0.6666666666666666,
              "#ed7953"
             ],
             [
              0.7777777777777778,
              "#fb9f3a"
             ],
             [
              0.8888888888888888,
              "#fdca26"
             ],
             [
              1,
              "#f0f921"
             ]
            ],
            "type": "heatmap"
           }
          ],
          "heatmapgl": [
           {
            "colorbar": {
             "outlinewidth": 0,
             "ticks": ""
            },
            "colorscale": [
             [
              0,
              "#0d0887"
             ],
             [
              0.1111111111111111,
              "#46039f"
             ],
             [
              0.2222222222222222,
              "#7201a8"
             ],
             [
              0.3333333333333333,
              "#9c179e"
             ],
             [
              0.4444444444444444,
              "#bd3786"
             ],
             [
              0.5555555555555556,
              "#d8576b"
             ],
             [
              0.6666666666666666,
              "#ed7953"
             ],
             [
              0.7777777777777778,
              "#fb9f3a"
             ],
             [
              0.8888888888888888,
              "#fdca26"
             ],
             [
              1,
              "#f0f921"
             ]
            ],
            "type": "heatmapgl"
           }
          ],
          "histogram": [
           {
            "marker": {
             "colorbar": {
              "outlinewidth": 0,
              "ticks": ""
             }
            },
            "type": "histogram"
           }
          ],
          "histogram2d": [
           {
            "colorbar": {
             "outlinewidth": 0,
             "ticks": ""
            },
            "colorscale": [
             [
              0,
              "#0d0887"
             ],
             [
              0.1111111111111111,
              "#46039f"
             ],
             [
              0.2222222222222222,
              "#7201a8"
             ],
             [
              0.3333333333333333,
              "#9c179e"
             ],
             [
              0.4444444444444444,
              "#bd3786"
             ],
             [
              0.5555555555555556,
              "#d8576b"
             ],
             [
              0.6666666666666666,
              "#ed7953"
             ],
             [
              0.7777777777777778,
              "#fb9f3a"
             ],
             [
              0.8888888888888888,
              "#fdca26"
             ],
             [
              1,
              "#f0f921"
             ]
            ],
            "type": "histogram2d"
           }
          ],
          "histogram2dcontour": [
           {
            "colorbar": {
             "outlinewidth": 0,
             "ticks": ""
            },
            "colorscale": [
             [
              0,
              "#0d0887"
             ],
             [
              0.1111111111111111,
              "#46039f"
             ],
             [
              0.2222222222222222,
              "#7201a8"
             ],
             [
              0.3333333333333333,
              "#9c179e"
             ],
             [
              0.4444444444444444,
              "#bd3786"
             ],
             [
              0.5555555555555556,
              "#d8576b"
             ],
             [
              0.6666666666666666,
              "#ed7953"
             ],
             [
              0.7777777777777778,
              "#fb9f3a"
             ],
             [
              0.8888888888888888,
              "#fdca26"
             ],
             [
              1,
              "#f0f921"
             ]
            ],
            "type": "histogram2dcontour"
           }
          ],
          "mesh3d": [
           {
            "colorbar": {
             "outlinewidth": 0,
             "ticks": ""
            },
            "type": "mesh3d"
           }
          ],
          "parcoords": [
           {
            "line": {
             "colorbar": {
              "outlinewidth": 0,
              "ticks": ""
             }
            },
            "type": "parcoords"
           }
          ],
          "pie": [
           {
            "automargin": true,
            "type": "pie"
           }
          ],
          "scatter": [
           {
            "marker": {
             "colorbar": {
              "outlinewidth": 0,
              "ticks": ""
             }
            },
            "type": "scatter"
           }
          ],
          "scatter3d": [
           {
            "line": {
             "colorbar": {
              "outlinewidth": 0,
              "ticks": ""
             }
            },
            "marker": {
             "colorbar": {
              "outlinewidth": 0,
              "ticks": ""
             }
            },
            "type": "scatter3d"
           }
          ],
          "scattercarpet": [
           {
            "marker": {
             "colorbar": {
              "outlinewidth": 0,
              "ticks": ""
             }
            },
            "type": "scattercarpet"
           }
          ],
          "scattergeo": [
           {
            "marker": {
             "colorbar": {
              "outlinewidth": 0,
              "ticks": ""
             }
            },
            "type": "scattergeo"
           }
          ],
          "scattergl": [
           {
            "marker": {
             "colorbar": {
              "outlinewidth": 0,
              "ticks": ""
             }
            },
            "type": "scattergl"
           }
          ],
          "scattermapbox": [
           {
            "marker": {
             "colorbar": {
              "outlinewidth": 0,
              "ticks": ""
             }
            },
            "type": "scattermapbox"
           }
          ],
          "scatterpolar": [
           {
            "marker": {
             "colorbar": {
              "outlinewidth": 0,
              "ticks": ""
             }
            },
            "type": "scatterpolar"
           }
          ],
          "scatterpolargl": [
           {
            "marker": {
             "colorbar": {
              "outlinewidth": 0,
              "ticks": ""
             }
            },
            "type": "scatterpolargl"
           }
          ],
          "scatterternary": [
           {
            "marker": {
             "colorbar": {
              "outlinewidth": 0,
              "ticks": ""
             }
            },
            "type": "scatterternary"
           }
          ],
          "surface": [
           {
            "colorbar": {
             "outlinewidth": 0,
             "ticks": ""
            },
            "colorscale": [
             [
              0,
              "#0d0887"
             ],
             [
              0.1111111111111111,
              "#46039f"
             ],
             [
              0.2222222222222222,
              "#7201a8"
             ],
             [
              0.3333333333333333,
              "#9c179e"
             ],
             [
              0.4444444444444444,
              "#bd3786"
             ],
             [
              0.5555555555555556,
              "#d8576b"
             ],
             [
              0.6666666666666666,
              "#ed7953"
             ],
             [
              0.7777777777777778,
              "#fb9f3a"
             ],
             [
              0.8888888888888888,
              "#fdca26"
             ],
             [
              1,
              "#f0f921"
             ]
            ],
            "type": "surface"
           }
          ],
          "table": [
           {
            "cells": {
             "fill": {
              "color": "#EBF0F8"
             },
             "line": {
              "color": "white"
             }
            },
            "header": {
             "fill": {
              "color": "#C8D4E3"
             },
             "line": {
              "color": "white"
             }
            },
            "type": "table"
           }
          ]
         },
         "layout": {
          "annotationdefaults": {
           "arrowcolor": "#2a3f5f",
           "arrowhead": 0,
           "arrowwidth": 1
          },
          "coloraxis": {
           "colorbar": {
            "outlinewidth": 0,
            "ticks": ""
           }
          },
          "colorscale": {
           "diverging": [
            [
             0,
             "#8e0152"
            ],
            [
             0.1,
             "#c51b7d"
            ],
            [
             0.2,
             "#de77ae"
            ],
            [
             0.3,
             "#f1b6da"
            ],
            [
             0.4,
             "#fde0ef"
            ],
            [
             0.5,
             "#f7f7f7"
            ],
            [
             0.6,
             "#e6f5d0"
            ],
            [
             0.7,
             "#b8e186"
            ],
            [
             0.8,
             "#7fbc41"
            ],
            [
             0.9,
             "#4d9221"
            ],
            [
             1,
             "#276419"
            ]
           ],
           "sequential": [
            [
             0,
             "#0d0887"
            ],
            [
             0.1111111111111111,
             "#46039f"
            ],
            [
             0.2222222222222222,
             "#7201a8"
            ],
            [
             0.3333333333333333,
             "#9c179e"
            ],
            [
             0.4444444444444444,
             "#bd3786"
            ],
            [
             0.5555555555555556,
             "#d8576b"
            ],
            [
             0.6666666666666666,
             "#ed7953"
            ],
            [
             0.7777777777777778,
             "#fb9f3a"
            ],
            [
             0.8888888888888888,
             "#fdca26"
            ],
            [
             1,
             "#f0f921"
            ]
           ],
           "sequentialminus": [
            [
             0,
             "#0d0887"
            ],
            [
             0.1111111111111111,
             "#46039f"
            ],
            [
             0.2222222222222222,
             "#7201a8"
            ],
            [
             0.3333333333333333,
             "#9c179e"
            ],
            [
             0.4444444444444444,
             "#bd3786"
            ],
            [
             0.5555555555555556,
             "#d8576b"
            ],
            [
             0.6666666666666666,
             "#ed7953"
            ],
            [
             0.7777777777777778,
             "#fb9f3a"
            ],
            [
             0.8888888888888888,
             "#fdca26"
            ],
            [
             1,
             "#f0f921"
            ]
           ]
          },
          "colorway": [
           "#636efa",
           "#EF553B",
           "#00cc96",
           "#ab63fa",
           "#FFA15A",
           "#19d3f3",
           "#FF6692",
           "#B6E880",
           "#FF97FF",
           "#FECB52"
          ],
          "font": {
           "color": "#2a3f5f"
          },
          "geo": {
           "bgcolor": "white",
           "lakecolor": "white",
           "landcolor": "#E5ECF6",
           "showlakes": true,
           "showland": true,
           "subunitcolor": "white"
          },
          "hoverlabel": {
           "align": "left"
          },
          "hovermode": "closest",
          "mapbox": {
           "style": "light"
          },
          "paper_bgcolor": "white",
          "plot_bgcolor": "#E5ECF6",
          "polar": {
           "angularaxis": {
            "gridcolor": "white",
            "linecolor": "white",
            "ticks": ""
           },
           "bgcolor": "#E5ECF6",
           "radialaxis": {
            "gridcolor": "white",
            "linecolor": "white",
            "ticks": ""
           }
          },
          "scene": {
           "xaxis": {
            "backgroundcolor": "#E5ECF6",
            "gridcolor": "white",
            "gridwidth": 2,
            "linecolor": "white",
            "showbackground": true,
            "ticks": "",
            "zerolinecolor": "white"
           },
           "yaxis": {
            "backgroundcolor": "#E5ECF6",
            "gridcolor": "white",
            "gridwidth": 2,
            "linecolor": "white",
            "showbackground": true,
            "ticks": "",
            "zerolinecolor": "white"
           },
           "zaxis": {
            "backgroundcolor": "#E5ECF6",
            "gridcolor": "white",
            "gridwidth": 2,
            "linecolor": "white",
            "showbackground": true,
            "ticks": "",
            "zerolinecolor": "white"
           }
          },
          "shapedefaults": {
           "line": {
            "color": "#2a3f5f"
           }
          },
          "ternary": {
           "aaxis": {
            "gridcolor": "white",
            "linecolor": "white",
            "ticks": ""
           },
           "baxis": {
            "gridcolor": "white",
            "linecolor": "white",
            "ticks": ""
           },
           "bgcolor": "#E5ECF6",
           "caxis": {
            "gridcolor": "white",
            "linecolor": "white",
            "ticks": ""
           }
          },
          "title": {
           "x": 0.05
          },
          "xaxis": {
           "automargin": true,
           "gridcolor": "white",
           "linecolor": "white",
           "ticks": "",
           "title": {
            "standoff": 15
           },
           "zerolinecolor": "white",
           "zerolinewidth": 2
          },
          "yaxis": {
           "automargin": true,
           "gridcolor": "white",
           "linecolor": "white",
           "ticks": "",
           "title": {
            "standoff": 15
           },
           "zerolinecolor": "white",
           "zerolinewidth": 2
          }
         }
        },
        "title": {
         "text": "Figure 4 - Top 10 by Address",
         "x": 0.5
        },
        "xaxis": {
         "title": {
          "text": "Address"
         }
        },
        "yaxis": {
         "title": {
          "text": "Number of Incidents"
         }
        }
       }
      },
      "text/html": [
       "<div>\n",
       "        \n",
       "        \n",
       "            <div id=\"9ea2591d-b4d5-4b0c-8055-e3fa7bf836bd\" class=\"plotly-graph-div\" style=\"height:525px; width:100%;\"></div>\n",
       "            <script type=\"text/javascript\">\n",
       "                require([\"plotly\"], function(Plotly) {\n",
       "                    window.PLOTLYENV=window.PLOTLYENV || {};\n",
       "                    \n",
       "                if (document.getElementById(\"9ea2591d-b4d5-4b0c-8055-e3fa7bf836bd\")) {\n",
       "                    Plotly.newPlot(\n",
       "                        '9ea2591d-b4d5-4b0c-8055-e3fa7bf836bd',\n",
       "                        [{\"marker\": {\"color\": [3561, 1405, 644, 547, 452, 448, 431, 399, 389, 382], \"colorscale\": [[0.0, \"rgb(12,51,131)\"], [0.25, \"rgb(10,136,186)\"], [0.5, \"rgb(242,211,56)\"], [0.75, \"rgb(242,143,56)\"], [1.0, \"rgb(217,30,30)\"]]}, \"text\": [3561.0, 1405.0, 644.0, 547.0, 452.0, 448.0, 431.0, 399.0, 389.0, 382.0], \"textposition\": \"outside\", \"type\": \"bar\", \"x\": [\"800 Block of BRYANT ST\", \"800 Block of MARKET ST\", \"1000 Block of POTRERO AV\", \"900 Block of MARKET ST\", \"0 Block of UNITEDNATIONS PZ\", \"500 Block of JOHNFKENNEDY DR\", \"3200 Block of 20TH AV\", \"600 Block of VALENCIA ST\", \"100 Block of OFARRELL ST\", \"1100 Block of FILLMORE ST\"], \"y\": [3561, 1405, 644, 547, 452, 448, 431, 399, 389, 382]}],\n",
       "                        {\"template\": {\"data\": {\"bar\": [{\"error_x\": {\"color\": \"#2a3f5f\"}, \"error_y\": {\"color\": \"#2a3f5f\"}, \"marker\": {\"line\": {\"color\": \"#E5ECF6\", \"width\": 0.5}}, \"type\": \"bar\"}], \"barpolar\": [{\"marker\": {\"line\": {\"color\": \"#E5ECF6\", \"width\": 0.5}}, \"type\": \"barpolar\"}], \"carpet\": [{\"aaxis\": {\"endlinecolor\": \"#2a3f5f\", \"gridcolor\": \"white\", \"linecolor\": \"white\", \"minorgridcolor\": \"white\", \"startlinecolor\": \"#2a3f5f\"}, \"baxis\": {\"endlinecolor\": \"#2a3f5f\", \"gridcolor\": \"white\", \"linecolor\": \"white\", \"minorgridcolor\": \"white\", \"startlinecolor\": \"#2a3f5f\"}, \"type\": \"carpet\"}], \"choropleth\": [{\"colorbar\": {\"outlinewidth\": 0, \"ticks\": \"\"}, \"type\": \"choropleth\"}], \"contour\": [{\"colorbar\": {\"outlinewidth\": 0, \"ticks\": \"\"}, \"colorscale\": [[0.0, \"#0d0887\"], [0.1111111111111111, \"#46039f\"], [0.2222222222222222, \"#7201a8\"], [0.3333333333333333, \"#9c179e\"], [0.4444444444444444, \"#bd3786\"], [0.5555555555555556, \"#d8576b\"], [0.6666666666666666, \"#ed7953\"], [0.7777777777777778, \"#fb9f3a\"], [0.8888888888888888, \"#fdca26\"], [1.0, \"#f0f921\"]], \"type\": \"contour\"}], \"contourcarpet\": [{\"colorbar\": {\"outlinewidth\": 0, \"ticks\": \"\"}, \"type\": \"contourcarpet\"}], \"heatmap\": [{\"colorbar\": {\"outlinewidth\": 0, \"ticks\": \"\"}, \"colorscale\": [[0.0, \"#0d0887\"], [0.1111111111111111, \"#46039f\"], [0.2222222222222222, \"#7201a8\"], [0.3333333333333333, \"#9c179e\"], [0.4444444444444444, \"#bd3786\"], [0.5555555555555556, \"#d8576b\"], [0.6666666666666666, \"#ed7953\"], [0.7777777777777778, \"#fb9f3a\"], [0.8888888888888888, \"#fdca26\"], [1.0, \"#f0f921\"]], \"type\": \"heatmap\"}], \"heatmapgl\": [{\"colorbar\": {\"outlinewidth\": 0, \"ticks\": \"\"}, \"colorscale\": [[0.0, \"#0d0887\"], [0.1111111111111111, \"#46039f\"], [0.2222222222222222, \"#7201a8\"], [0.3333333333333333, \"#9c179e\"], [0.4444444444444444, \"#bd3786\"], [0.5555555555555556, \"#d8576b\"], [0.6666666666666666, \"#ed7953\"], [0.7777777777777778, \"#fb9f3a\"], [0.8888888888888888, \"#fdca26\"], [1.0, \"#f0f921\"]], \"type\": \"heatmapgl\"}], \"histogram\": [{\"marker\": {\"colorbar\": {\"outlinewidth\": 0, \"ticks\": \"\"}}, \"type\": \"histogram\"}], \"histogram2d\": [{\"colorbar\": {\"outlinewidth\": 0, \"ticks\": \"\"}, \"colorscale\": [[0.0, \"#0d0887\"], [0.1111111111111111, \"#46039f\"], [0.2222222222222222, \"#7201a8\"], [0.3333333333333333, \"#9c179e\"], [0.4444444444444444, \"#bd3786\"], [0.5555555555555556, \"#d8576b\"], [0.6666666666666666, \"#ed7953\"], [0.7777777777777778, \"#fb9f3a\"], [0.8888888888888888, \"#fdca26\"], [1.0, \"#f0f921\"]], \"type\": \"histogram2d\"}], \"histogram2dcontour\": [{\"colorbar\": {\"outlinewidth\": 0, \"ticks\": \"\"}, \"colorscale\": [[0.0, \"#0d0887\"], [0.1111111111111111, \"#46039f\"], [0.2222222222222222, \"#7201a8\"], [0.3333333333333333, \"#9c179e\"], [0.4444444444444444, \"#bd3786\"], [0.5555555555555556, \"#d8576b\"], [0.6666666666666666, \"#ed7953\"], [0.7777777777777778, \"#fb9f3a\"], [0.8888888888888888, \"#fdca26\"], [1.0, \"#f0f921\"]], \"type\": \"histogram2dcontour\"}], \"mesh3d\": [{\"colorbar\": {\"outlinewidth\": 0, \"ticks\": \"\"}, \"type\": \"mesh3d\"}], \"parcoords\": [{\"line\": {\"colorbar\": {\"outlinewidth\": 0, \"ticks\": \"\"}}, \"type\": \"parcoords\"}], \"pie\": [{\"automargin\": true, \"type\": \"pie\"}], \"scatter\": [{\"marker\": {\"colorbar\": {\"outlinewidth\": 0, \"ticks\": \"\"}}, \"type\": \"scatter\"}], \"scatter3d\": [{\"line\": {\"colorbar\": {\"outlinewidth\": 0, \"ticks\": \"\"}}, \"marker\": {\"colorbar\": {\"outlinewidth\": 0, \"ticks\": \"\"}}, \"type\": \"scatter3d\"}], \"scattercarpet\": [{\"marker\": {\"colorbar\": {\"outlinewidth\": 0, \"ticks\": \"\"}}, \"type\": \"scattercarpet\"}], \"scattergeo\": [{\"marker\": {\"colorbar\": {\"outlinewidth\": 0, \"ticks\": \"\"}}, \"type\": \"scattergeo\"}], \"scattergl\": [{\"marker\": {\"colorbar\": {\"outlinewidth\": 0, \"ticks\": \"\"}}, \"type\": \"scattergl\"}], \"scattermapbox\": [{\"marker\": {\"colorbar\": {\"outlinewidth\": 0, \"ticks\": \"\"}}, \"type\": \"scattermapbox\"}], \"scatterpolar\": [{\"marker\": {\"colorbar\": {\"outlinewidth\": 0, \"ticks\": \"\"}}, \"type\": \"scatterpolar\"}], \"scatterpolargl\": [{\"marker\": {\"colorbar\": {\"outlinewidth\": 0, \"ticks\": \"\"}}, \"type\": \"scatterpolargl\"}], \"scatterternary\": [{\"marker\": {\"colorbar\": {\"outlinewidth\": 0, \"ticks\": \"\"}}, \"type\": \"scatterternary\"}], \"surface\": [{\"colorbar\": {\"outlinewidth\": 0, \"ticks\": \"\"}, \"colorscale\": [[0.0, \"#0d0887\"], [0.1111111111111111, \"#46039f\"], [0.2222222222222222, \"#7201a8\"], [0.3333333333333333, \"#9c179e\"], [0.4444444444444444, \"#bd3786\"], [0.5555555555555556, \"#d8576b\"], [0.6666666666666666, \"#ed7953\"], [0.7777777777777778, \"#fb9f3a\"], [0.8888888888888888, \"#fdca26\"], [1.0, \"#f0f921\"]], \"type\": \"surface\"}], \"table\": [{\"cells\": {\"fill\": {\"color\": \"#EBF0F8\"}, \"line\": {\"color\": \"white\"}}, \"header\": {\"fill\": {\"color\": \"#C8D4E3\"}, \"line\": {\"color\": \"white\"}}, \"type\": \"table\"}]}, \"layout\": {\"annotationdefaults\": {\"arrowcolor\": \"#2a3f5f\", \"arrowhead\": 0, \"arrowwidth\": 1}, \"coloraxis\": {\"colorbar\": {\"outlinewidth\": 0, \"ticks\": \"\"}}, \"colorscale\": {\"diverging\": [[0, \"#8e0152\"], [0.1, \"#c51b7d\"], [0.2, \"#de77ae\"], [0.3, \"#f1b6da\"], [0.4, \"#fde0ef\"], [0.5, \"#f7f7f7\"], [0.6, \"#e6f5d0\"], [0.7, \"#b8e186\"], [0.8, \"#7fbc41\"], [0.9, \"#4d9221\"], [1, \"#276419\"]], \"sequential\": [[0.0, \"#0d0887\"], [0.1111111111111111, \"#46039f\"], [0.2222222222222222, \"#7201a8\"], [0.3333333333333333, \"#9c179e\"], [0.4444444444444444, \"#bd3786\"], [0.5555555555555556, \"#d8576b\"], [0.6666666666666666, \"#ed7953\"], [0.7777777777777778, \"#fb9f3a\"], [0.8888888888888888, \"#fdca26\"], [1.0, \"#f0f921\"]], \"sequentialminus\": [[0.0, \"#0d0887\"], [0.1111111111111111, \"#46039f\"], [0.2222222222222222, \"#7201a8\"], [0.3333333333333333, \"#9c179e\"], [0.4444444444444444, \"#bd3786\"], [0.5555555555555556, \"#d8576b\"], [0.6666666666666666, \"#ed7953\"], [0.7777777777777778, \"#fb9f3a\"], [0.8888888888888888, \"#fdca26\"], [1.0, \"#f0f921\"]]}, \"colorway\": [\"#636efa\", \"#EF553B\", \"#00cc96\", \"#ab63fa\", \"#FFA15A\", \"#19d3f3\", \"#FF6692\", \"#B6E880\", \"#FF97FF\", \"#FECB52\"], \"font\": {\"color\": \"#2a3f5f\"}, \"geo\": {\"bgcolor\": \"white\", \"lakecolor\": \"white\", \"landcolor\": \"#E5ECF6\", \"showlakes\": true, \"showland\": true, \"subunitcolor\": \"white\"}, \"hoverlabel\": {\"align\": \"left\"}, \"hovermode\": \"closest\", \"mapbox\": {\"style\": \"light\"}, \"paper_bgcolor\": \"white\", \"plot_bgcolor\": \"#E5ECF6\", \"polar\": {\"angularaxis\": {\"gridcolor\": \"white\", \"linecolor\": \"white\", \"ticks\": \"\"}, \"bgcolor\": \"#E5ECF6\", \"radialaxis\": {\"gridcolor\": \"white\", \"linecolor\": \"white\", \"ticks\": \"\"}}, \"scene\": {\"xaxis\": {\"backgroundcolor\": \"#E5ECF6\", \"gridcolor\": \"white\", \"gridwidth\": 2, \"linecolor\": \"white\", \"showbackground\": true, \"ticks\": \"\", \"zerolinecolor\": \"white\"}, \"yaxis\": {\"backgroundcolor\": \"#E5ECF6\", \"gridcolor\": \"white\", \"gridwidth\": 2, \"linecolor\": \"white\", \"showbackground\": true, \"ticks\": \"\", \"zerolinecolor\": \"white\"}, \"zaxis\": {\"backgroundcolor\": \"#E5ECF6\", \"gridcolor\": \"white\", \"gridwidth\": 2, \"linecolor\": \"white\", \"showbackground\": true, \"ticks\": \"\", \"zerolinecolor\": \"white\"}}, \"shapedefaults\": {\"line\": {\"color\": \"#2a3f5f\"}}, \"ternary\": {\"aaxis\": {\"gridcolor\": \"white\", \"linecolor\": \"white\", \"ticks\": \"\"}, \"baxis\": {\"gridcolor\": \"white\", \"linecolor\": \"white\", \"ticks\": \"\"}, \"bgcolor\": \"#E5ECF6\", \"caxis\": {\"gridcolor\": \"white\", \"linecolor\": \"white\", \"ticks\": \"\"}}, \"title\": {\"x\": 0.05}, \"xaxis\": {\"automargin\": true, \"gridcolor\": \"white\", \"linecolor\": \"white\", \"ticks\": \"\", \"title\": {\"standoff\": 15}, \"zerolinecolor\": \"white\", \"zerolinewidth\": 2}, \"yaxis\": {\"automargin\": true, \"gridcolor\": \"white\", \"linecolor\": \"white\", \"ticks\": \"\", \"title\": {\"standoff\": 15}, \"zerolinecolor\": \"white\", \"zerolinewidth\": 2}}}, \"title\": {\"text\": \"Figure 4 - Top 10 by Address\", \"x\": 0.5}, \"xaxis\": {\"title\": {\"text\": \"Address\"}}, \"yaxis\": {\"title\": {\"text\": \"Number of Incidents\"}}},\n",
       "                        {\"responsive\": true}\n",
       "                    ).then(function(){\n",
       "                            \n",
       "var gd = document.getElementById('9ea2591d-b4d5-4b0c-8055-e3fa7bf836bd');\n",
       "var x = new MutationObserver(function (mutations, observer) {{\n",
       "        var display = window.getComputedStyle(gd).display;\n",
       "        if (!display || display === 'none') {{\n",
       "            console.log([gd, 'removed!']);\n",
       "            Plotly.purge(gd);\n",
       "            observer.disconnect();\n",
       "        }}\n",
       "}});\n",
       "\n",
       "// Listen for the removal of the full notebook cells\n",
       "var notebookContainer = gd.closest('#notebook-container');\n",
       "if (notebookContainer) {{\n",
       "    x.observe(notebookContainer, {childList: true});\n",
       "}}\n",
       "\n",
       "// Listen for the clearing of the current output cell\n",
       "var outputEl = gd.closest('.output');\n",
       "if (outputEl) {{\n",
       "    x.observe(outputEl, {childList: true});\n",
       "}}\n",
       "\n",
       "                        })\n",
       "                };\n",
       "                });\n",
       "            </script>\n",
       "        </div>"
      ]
     },
     "metadata": {},
     "output_type": "display_data"
    },
    {
     "data": {
      "image/png": "[encoded data removed]"
     },
     "metadata": {},
     "output_type": "display_data"
    }
   ],
   "source": [
    "# Plotting Top 10 by Time \n",
    "value = incidents['Address'].value_counts().round(0).nlargest(10)\n",
    "label = value.index\n",
    "trace = go.Bar(y=value, \n",
    "               x=label,text = value,textposition= \"outside\",\n",
    "               marker={'color': value,\n",
    "                   'colorscale': 'Portland'})\n",
    "layout = go.Layout(title=\"Figure 4 - Top 10 by Address\", \n",
    "                   xaxis={'title' : \"Address\"},\n",
    "                  yaxis={'title' : \"Number of Incidents\"},\n",
    "                  title_x=0.5)\n",
    "fig = go.Figure(data=trace, layout=layout)\n",
    "iplot(fig)\n",
    "fig.show('png')"
   ]
  },
  {
   "cell_type": "markdown",
   "metadata": {},
   "source": [
    "# Introduction to Folium <a id=\"4\"></a>"
   ]
  },
  {
   "cell_type": "markdown",
   "metadata": {},
   "source": [
    "<img src='folium.png' />"
   ]
  },
  {
   "cell_type": "markdown",
   "metadata": {},
   "source": [
    "Folium is a powerful Python library that helps you create several types of Leaflet maps. The fact that the Folium results are interactive makes this library very useful for dashboard building.\n",
    "\n",
    "From the official Folium documentation page:\n",
    "\n",
    "> Folium builds on the data wrangling strengths of the Python ecosystem and the mapping strengths of the Leaflet.js library. Manipulate your data in Python, then visualize it in on a Leaflet map via Folium.\n",
    "\n",
    "> Folium makes it easy to visualize data that's been manipulated in Python on an interactive Leaflet map. It enables both the binding of data to a map for choropleth visualizations as well as passing Vincent/Vega visualizations as markers on the map.\n",
    "\n",
    "> The library has a number of built-in tilesets from OpenStreetMap, Mapbox, and Stamen, and supports custom tilesets with Mapbox or Cloudmade API keys. Folium supports both GeoJSON and TopoJSON overlays, as well as the binding of data to those overlays to create choropleth maps with color-brewer color schemes."
   ]
  },
  {
   "cell_type": "code",
   "execution_count": 213,
   "metadata": {},
   "outputs": [
    {
     "data": {
      "text/html": [
       "\n",
       "        <script src=\"/static/components/requirejs/require.js\"></script>\n",
       "        <script>\n",
       "          requirejs.config({\n",
       "            paths: {\n",
       "              base: '/static/base',\n",
       "              plotly: 'https://cdn.plot.ly/plotly-latest.min.js?noext',\n",
       "            },\n",
       "          });\n",
       "        </script>\n",
       "        "
      ],
      "text/plain": [
       "<IPython.core.display.HTML object>"
      ]
     },
     "metadata": {},
     "output_type": "display_data"
    },
    {
     "data": {
      "text/html": [
       "\n",
       "        <script src=\"/static/components/requirejs/require.js\"></script>\n",
       "        <script>\n",
       "          requirejs.config({\n",
       "            paths: {\n",
       "              base: '/static/base',\n",
       "              plotly: 'https://cdn.plot.ly/plotly-latest.min.js?noext',\n",
       "            },\n",
       "          });\n",
       "        </script>\n",
       "        "
      ],
      "text/plain": [
       "<IPython.core.display.HTML object>"
      ]
     },
     "metadata": {},
     "output_type": "display_data"
    },
    {
     "data": {
      "text/html": [
       "\n",
       "        <script src=\"/static/components/requirejs/require.js\"></script>\n",
       "        <script>\n",
       "          requirejs.config({\n",
       "            paths: {\n",
       "              base: '/static/base',\n",
       "              plotly: 'https://cdn.plot.ly/plotly-latest.min.js?noext',\n",
       "            },\n",
       "          });\n",
       "        </script>\n",
       "        "
      ],
      "text/plain": [
       "<IPython.core.display.HTML object>"
      ]
     },
     "metadata": {},
     "output_type": "display_data"
    },
    {
     "data": {
      "text/html": [
       "\n",
       "        <script src=\"/static/components/requirejs/require.js\"></script>\n",
       "        <script>\n",
       "          requirejs.config({\n",
       "            paths: {\n",
       "              base: '/static/base',\n",
       "              plotly: 'https://cdn.plot.ly/plotly-latest.min.js?noext',\n",
       "            },\n",
       "          });\n",
       "        </script>\n",
       "        "
      ],
      "text/plain": [
       "<IPython.core.display.HTML object>"
      ]
     },
     "metadata": {},
     "output_type": "display_data"
    },
    {
     "data": {
      "text/html": [
       "\n",
       "        <script src=\"/static/components/requirejs/require.js\"></script>\n",
       "        <script>\n",
       "          requirejs.config({\n",
       "            paths: {\n",
       "              base: '/static/base',\n",
       "              plotly: 'https://cdn.plot.ly/plotly-latest.min.js?noext',\n",
       "            },\n",
       "          });\n",
       "        </script>\n",
       "        "
      ],
      "text/plain": [
       "<IPython.core.display.HTML object>"
      ]
     },
     "metadata": {},
     "output_type": "display_data"
    },
    {
     "data": {
      "text/html": [
       "\n",
       "        <script src=\"/static/components/requirejs/require.js\"></script>\n",
       "        <script>\n",
       "          requirejs.config({\n",
       "            paths: {\n",
       "              base: '/static/base',\n",
       "              plotly: 'https://cdn.plot.ly/plotly-latest.min.js?noext',\n",
       "            },\n",
       "          });\n",
       "        </script>\n",
       "        "
      ],
      "text/plain": [
       "<IPython.core.display.HTML object>"
      ]
     },
     "metadata": {},
     "output_type": "display_data"
    },
    {
     "data": {
      "text/html": [
       "\n",
       "        <script src=\"/static/components/requirejs/require.js\"></script>\n",
       "        <script>\n",
       "          requirejs.config({\n",
       "            paths: {\n",
       "              base: '/static/base',\n",
       "              plotly: 'https://cdn.plot.ly/plotly-latest.min.js?noext',\n",
       "            },\n",
       "          });\n",
       "        </script>\n",
       "        "
      ],
      "text/plain": [
       "<IPython.core.display.HTML object>"
      ]
     },
     "metadata": {},
     "output_type": "display_data"
    },
    {
     "data": {
      "text/html": [
       "\n",
       "        <script src=\"/static/components/requirejs/require.js\"></script>\n",
       "        <script>\n",
       "          requirejs.config({\n",
       "            paths: {\n",
       "              base: '/static/base',\n",
       "              plotly: 'https://cdn.plot.ly/plotly-latest.min.js?noext',\n",
       "            },\n",
       "          });\n",
       "        </script>\n",
       "        "
      ],
      "text/plain": [
       "<IPython.core.display.HTML object>"
      ]
     },
     "metadata": {},
     "output_type": "display_data"
    },
    {
     "data": {
      "text/html": [
       "\n",
       "        <script src=\"/static/components/requirejs/require.js\"></script>\n",
       "        <script>\n",
       "          requirejs.config({\n",
       "            paths: {\n",
       "              base: '/static/base',\n",
       "              plotly: 'https://cdn.plot.ly/plotly-latest.min.js?noext',\n",
       "            },\n",
       "          });\n",
       "        </script>\n",
       "        "
      ],
      "text/plain": [
       "<IPython.core.display.HTML object>"
      ]
     },
     "metadata": {},
     "output_type": "display_data"
    },
    {
     "data": {
      "text/html": [
       "\n",
       "        <script src=\"/static/components/requirejs/require.js\"></script>\n",
       "        <script>\n",
       "          requirejs.config({\n",
       "            paths: {\n",
       "              base: '/static/base',\n",
       "              plotly: 'https://cdn.plot.ly/plotly-latest.min.js?noext',\n",
       "            },\n",
       "          });\n",
       "        </script>\n",
       "        "
      ],
      "text/plain": [
       "<IPython.core.display.HTML object>"
      ]
     },
     "metadata": {},
     "output_type": "display_data"
    },
    {
     "data": {
      "text/html": [
       "\n",
       "        <script src=\"/static/components/requirejs/require.js\"></script>\n",
       "        <script>\n",
       "          requirejs.config({\n",
       "            paths: {\n",
       "              base: '/static/base',\n",
       "              plotly: 'https://cdn.plot.ly/plotly-latest.min.js?noext',\n",
       "            },\n",
       "          });\n",
       "        </script>\n",
       "        "
      ],
      "text/plain": [
       "<IPython.core.display.HTML object>"
      ]
     },
     "metadata": {},
     "output_type": "display_data"
    },
    {
     "data": {
      "text/html": [
       "\n",
       "        <script src=\"/static/components/requirejs/require.js\"></script>\n",
       "        <script>\n",
       "          requirejs.config({\n",
       "            paths: {\n",
       "              base: '/static/base',\n",
       "              plotly: 'https://cdn.plot.ly/plotly-latest.min.js?noext',\n",
       "            },\n",
       "          });\n",
       "        </script>\n",
       "        "
      ],
      "text/plain": [
       "<IPython.core.display.HTML object>"
      ]
     },
     "metadata": {},
     "output_type": "display_data"
    },
    {
     "data": {
      "text/html": [
       "\n",
       "        <script src=\"/static/components/requirejs/require.js\"></script>\n",
       "        <script>\n",
       "          requirejs.config({\n",
       "            paths: {\n",
       "              base: '/static/base',\n",
       "              plotly: 'https://cdn.plot.ly/plotly-latest.min.js?noext',\n",
       "            },\n",
       "          });\n",
       "        </script>\n",
       "        "
      ],
      "text/plain": [
       "<IPython.core.display.HTML object>"
      ]
     },
     "metadata": {},
     "output_type": "display_data"
    },
    {
     "data": {
      "text/html": [
       "\n",
       "        <script src=\"/static/components/requirejs/require.js\"></script>\n",
       "        <script>\n",
       "          requirejs.config({\n",
       "            paths: {\n",
       "              base: '/static/base',\n",
       "              plotly: 'https://cdn.plot.ly/plotly-latest.min.js?noext',\n",
       "            },\n",
       "          });\n",
       "        </script>\n",
       "        "
      ],
      "text/plain": [
       "<IPython.core.display.HTML object>"
      ]
     },
     "metadata": {},
     "output_type": "display_data"
    }
   ],
   "source": [
    "# San Francisco latitude and longitude values\n",
    "latitude = 37.77\n",
    "longitude = -122.42"
   ]
  },
  {
   "cell_type": "code",
   "execution_count": 214,
   "metadata": {},
   "outputs": [
    {
     "data": {
      "text/html": [
       "\n",
       "        <script src=\"/static/components/requirejs/require.js\"></script>\n",
       "        <script>\n",
       "          requirejs.config({\n",
       "            paths: {\n",
       "              base: '/static/base',\n",
       "              plotly: 'https://cdn.plot.ly/plotly-latest.min.js?noext',\n",
       "            },\n",
       "          });\n",
       "        </script>\n",
       "        "
      ],
      "text/plain": [
       "<IPython.core.display.HTML object>"
      ]
     },
     "metadata": {},
     "output_type": "display_data"
    },
    {
     "data": {
      "text/html": [
       "\n",
       "        <script src=\"/static/components/requirejs/require.js\"></script>\n",
       "        <script>\n",
       "          requirejs.config({\n",
       "            paths: {\n",
       "              base: '/static/base',\n",
       "              plotly: 'https://cdn.plot.ly/plotly-latest.min.js?noext',\n",
       "            },\n",
       "          });\n",
       "        </script>\n",
       "        "
      ],
      "text/plain": [
       "<IPython.core.display.HTML object>"
      ]
     },
     "metadata": {},
     "output_type": "display_data"
    },
    {
     "data": {
      "text/html": [
       "\n",
       "        <script src=\"/static/components/requirejs/require.js\"></script>\n",
       "        <script>\n",
       "          requirejs.config({\n",
       "            paths: {\n",
       "              base: '/static/base',\n",
       "              plotly: 'https://cdn.plot.ly/plotly-latest.min.js?noext',\n",
       "            },\n",
       "          });\n",
       "        </script>\n",
       "        "
      ],
      "text/plain": [
       "<IPython.core.display.HTML object>"
      ]
     },
     "metadata": {},
     "output_type": "display_data"
    },
    {
     "data": {
      "text/html": [
       "\n",
       "        <script src=\"/static/components/requirejs/require.js\"></script>\n",
       "        <script>\n",
       "          requirejs.config({\n",
       "            paths: {\n",
       "              base: '/static/base',\n",
       "              plotly: 'https://cdn.plot.ly/plotly-latest.min.js?noext',\n",
       "            },\n",
       "          });\n",
       "        </script>\n",
       "        "
      ],
      "text/plain": [
       "<IPython.core.display.HTML object>"
      ]
     },
     "metadata": {},
     "output_type": "display_data"
    },
    {
     "data": {
      "text/html": [
       "\n",
       "        <script src=\"/static/components/requirejs/require.js\"></script>\n",
       "        <script>\n",
       "          requirejs.config({\n",
       "            paths: {\n",
       "              base: '/static/base',\n",
       "              plotly: 'https://cdn.plot.ly/plotly-latest.min.js?noext',\n",
       "            },\n",
       "          });\n",
       "        </script>\n",
       "        "
      ],
      "text/plain": [
       "<IPython.core.display.HTML object>"
      ]
     },
     "metadata": {},
     "output_type": "display_data"
    },
    {
     "data": {
      "text/html": [
       "\n",
       "        <script src=\"/static/components/requirejs/require.js\"></script>\n",
       "        <script>\n",
       "          requirejs.config({\n",
       "            paths: {\n",
       "              base: '/static/base',\n",
       "              plotly: 'https://cdn.plot.ly/plotly-latest.min.js?noext',\n",
       "            },\n",
       "          });\n",
       "        </script>\n",
       "        "
      ],
      "text/plain": [
       "<IPython.core.display.HTML object>"
      ]
     },
     "metadata": {},
     "output_type": "display_data"
    },
    {
     "data": {
      "text/html": [
       "\n",
       "        <script src=\"/static/components/requirejs/require.js\"></script>\n",
       "        <script>\n",
       "          requirejs.config({\n",
       "            paths: {\n",
       "              base: '/static/base',\n",
       "              plotly: 'https://cdn.plot.ly/plotly-latest.min.js?noext',\n",
       "            },\n",
       "          });\n",
       "        </script>\n",
       "        "
      ],
      "text/plain": [
       "<IPython.core.display.HTML object>"
      ]
     },
     "metadata": {},
     "output_type": "display_data"
    },
    {
     "data": {
      "text/html": [
       "\n",
       "        <script src=\"/static/components/requirejs/require.js\"></script>\n",
       "        <script>\n",
       "          requirejs.config({\n",
       "            paths: {\n",
       "              base: '/static/base',\n",
       "              plotly: 'https://cdn.plot.ly/plotly-latest.min.js?noext',\n",
       "            },\n",
       "          });\n",
       "        </script>\n",
       "        "
      ],
      "text/plain": [
       "<IPython.core.display.HTML object>"
      ]
     },
     "metadata": {},
     "output_type": "display_data"
    },
    {
     "data": {
      "text/html": [
       "\n",
       "        <script src=\"/static/components/requirejs/require.js\"></script>\n",
       "        <script>\n",
       "          requirejs.config({\n",
       "            paths: {\n",
       "              base: '/static/base',\n",
       "              plotly: 'https://cdn.plot.ly/plotly-latest.min.js?noext',\n",
       "            },\n",
       "          });\n",
       "        </script>\n",
       "        "
      ],
      "text/plain": [
       "<IPython.core.display.HTML object>"
      ]
     },
     "metadata": {},
     "output_type": "display_data"
    },
    {
     "data": {
      "text/html": [
       "\n",
       "        <script src=\"/static/components/requirejs/require.js\"></script>\n",
       "        <script>\n",
       "          requirejs.config({\n",
       "            paths: {\n",
       "              base: '/static/base',\n",
       "              plotly: 'https://cdn.plot.ly/plotly-latest.min.js?noext',\n",
       "            },\n",
       "          });\n",
       "        </script>\n",
       "        "
      ],
      "text/plain": [
       "<IPython.core.display.HTML object>"
      ]
     },
     "metadata": {},
     "output_type": "display_data"
    },
    {
     "data": {
      "text/html": [
       "\n",
       "        <script src=\"/static/components/requirejs/require.js\"></script>\n",
       "        <script>\n",
       "          requirejs.config({\n",
       "            paths: {\n",
       "              base: '/static/base',\n",
       "              plotly: 'https://cdn.plot.ly/plotly-latest.min.js?noext',\n",
       "            },\n",
       "          });\n",
       "        </script>\n",
       "        "
      ],
      "text/plain": [
       "<IPython.core.display.HTML object>"
      ]
     },
     "metadata": {},
     "output_type": "display_data"
    },
    {
     "data": {
      "text/html": [
       "\n",
       "        <script src=\"/static/components/requirejs/require.js\"></script>\n",
       "        <script>\n",
       "          requirejs.config({\n",
       "            paths: {\n",
       "              base: '/static/base',\n",
       "              plotly: 'https://cdn.plot.ly/plotly-latest.min.js?noext',\n",
       "            },\n",
       "          });\n",
       "        </script>\n",
       "        "
      ],
      "text/plain": [
       "<IPython.core.display.HTML object>"
      ]
     },
     "metadata": {},
     "output_type": "display_data"
    },
    {
     "data": {
      "text/html": [
       "\n",
       "        <script src=\"/static/components/requirejs/require.js\"></script>\n",
       "        <script>\n",
       "          requirejs.config({\n",
       "            paths: {\n",
       "              base: '/static/base',\n",
       "              plotly: 'https://cdn.plot.ly/plotly-latest.min.js?noext',\n",
       "            },\n",
       "          });\n",
       "        </script>\n",
       "        "
      ],
      "text/plain": [
       "<IPython.core.display.HTML object>"
      ]
     },
     "metadata": {},
     "output_type": "display_data"
    },
    {
     "data": {
      "text/html": [
       "\n",
       "        <script src=\"/static/components/requirejs/require.js\"></script>\n",
       "        <script>\n",
       "          requirejs.config({\n",
       "            paths: {\n",
       "              base: '/static/base',\n",
       "              plotly: 'https://cdn.plot.ly/plotly-latest.min.js?noext',\n",
       "            },\n",
       "          });\n",
       "        </script>\n",
       "        "
      ],
      "text/plain": [
       "<IPython.core.display.HTML object>"
      ]
     },
     "metadata": {},
     "output_type": "display_data"
    },
    {
     "data": {
      "text/html": [
       "<div style=\"width:100%;\"><div style=\"position:relative;width:100%;height:0;padding-bottom:60%;\"><iframe src=\"data:text/html;charset=utf-8;base64,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\" style=\"position:absolute;width:100%;height:100%;left:0;top:0;border:none !important;\" allowfullscreen webkitallowfullscreen mozallowfullscreen></iframe></div></div>"
      ],
      "text/plain": [
       "<folium.folium.Map at 0x1ddd0275488>"
      ]
     },
     "execution_count": 214,
     "metadata": {},
     "output_type": "execute_result"
    }
   ],
   "source": [
    "# create map and display it\n",
    "sanfran_map = folium.Map(location=[latitude, longitude], zoom_start=13)\n",
    "\n",
    "# display the map of San Francisco\n",
    "sanfran_map\n",
    "\n",
    "\n",
    "style_statement = '<style>.leaflet-control{color:#00FF00}</style>'\n",
    "sanfran_map.get_root().html.add_child(folium.Element(style_statement))\n",
    "sanfran_map"
   ]
  },
  {
   "cell_type": "markdown",
   "metadata": {},
   "source": [
    "### Now let's superimpose the locations of the crimes onto the map. The way to do that in Folium is to create a feature group with its own features and style and then add it to the sanfran_map."
   ]
  },
  {
   "cell_type": "code",
   "execution_count": 215,
   "metadata": {},
   "outputs": [
    {
     "data": {
      "text/html": [
       "\n",
       "        <script src=\"/static/components/requirejs/require.js\"></script>\n",
       "        <script>\n",
       "          requirejs.config({\n",
       "            paths: {\n",
       "              base: '/static/base',\n",
       "              plotly: 'https://cdn.plot.ly/plotly-latest.min.js?noext',\n",
       "            },\n",
       "          });\n",
       "        </script>\n",
       "        "
      ],
      "text/plain": [
       "<IPython.core.display.HTML object>"
      ]
     },
     "metadata": {},
     "output_type": "display_data"
    },
    {
     "data": {
      "text/html": [
       "\n",
       "        <script src=\"/static/components/requirejs/require.js\"></script>\n",
       "        <script>\n",
       "          requirejs.config({\n",
       "            paths: {\n",
       "              base: '/static/base',\n",
       "              plotly: 'https://cdn.plot.ly/plotly-latest.min.js?noext',\n",
       "            },\n",
       "          });\n",
       "        </script>\n",
       "        "
      ],
      "text/plain": [
       "<IPython.core.display.HTML object>"
      ]
     },
     "metadata": {},
     "output_type": "display_data"
    },
    {
     "data": {
      "text/html": [
       "\n",
       "        <script src=\"/static/components/requirejs/require.js\"></script>\n",
       "        <script>\n",
       "          requirejs.config({\n",
       "            paths: {\n",
       "              base: '/static/base',\n",
       "              plotly: 'https://cdn.plot.ly/plotly-latest.min.js?noext',\n",
       "            },\n",
       "          });\n",
       "        </script>\n",
       "        "
      ],
      "text/plain": [
       "<IPython.core.display.HTML object>"
      ]
     },
     "metadata": {},
     "output_type": "display_data"
    },
    {
     "data": {
      "text/html": [
       "\n",
       "        <script src=\"/static/components/requirejs/require.js\"></script>\n",
       "        <script>\n",
       "          requirejs.config({\n",
       "            paths: {\n",
       "              base: '/static/base',\n",
       "              plotly: 'https://cdn.plot.ly/plotly-latest.min.js?noext',\n",
       "            },\n",
       "          });\n",
       "        </script>\n",
       "        "
      ],
      "text/plain": [
       "<IPython.core.display.HTML object>"
      ]
     },
     "metadata": {},
     "output_type": "display_data"
    },
    {
     "data": {
      "text/html": [
       "\n",
       "        <script src=\"/static/components/requirejs/require.js\"></script>\n",
       "        <script>\n",
       "          requirejs.config({\n",
       "            paths: {\n",
       "              base: '/static/base',\n",
       "              plotly: 'https://cdn.plot.ly/plotly-latest.min.js?noext',\n",
       "            },\n",
       "          });\n",
       "        </script>\n",
       "        "
      ],
      "text/plain": [
       "<IPython.core.display.HTML object>"
      ]
     },
     "metadata": {},
     "output_type": "display_data"
    },
    {
     "data": {
      "text/html": [
       "\n",
       "        <script src=\"/static/components/requirejs/require.js\"></script>\n",
       "        <script>\n",
       "          requirejs.config({\n",
       "            paths: {\n",
       "              base: '/static/base',\n",
       "              plotly: 'https://cdn.plot.ly/plotly-latest.min.js?noext',\n",
       "            },\n",
       "          });\n",
       "        </script>\n",
       "        "
      ],
      "text/plain": [
       "<IPython.core.display.HTML object>"
      ]
     },
     "metadata": {},
     "output_type": "display_data"
    },
    {
     "data": {
      "text/html": [
       "\n",
       "        <script src=\"/static/components/requirejs/require.js\"></script>\n",
       "        <script>\n",
       "          requirejs.config({\n",
       "            paths: {\n",
       "              base: '/static/base',\n",
       "              plotly: 'https://cdn.plot.ly/plotly-latest.min.js?noext',\n",
       "            },\n",
       "          });\n",
       "        </script>\n",
       "        "
      ],
      "text/plain": [
       "<IPython.core.display.HTML object>"
      ]
     },
     "metadata": {},
     "output_type": "display_data"
    },
    {
     "data": {
      "text/html": [
       "\n",
       "        <script src=\"/static/components/requirejs/require.js\"></script>\n",
       "        <script>\n",
       "          requirejs.config({\n",
       "            paths: {\n",
       "              base: '/static/base',\n",
       "              plotly: 'https://cdn.plot.ly/plotly-latest.min.js?noext',\n",
       "            },\n",
       "          });\n",
       "        </script>\n",
       "        "
      ],
      "text/plain": [
       "<IPython.core.display.HTML object>"
      ]
     },
     "metadata": {},
     "output_type": "display_data"
    },
    {
     "data": {
      "text/html": [
       "\n",
       "        <script src=\"/static/components/requirejs/require.js\"></script>\n",
       "        <script>\n",
       "          requirejs.config({\n",
       "            paths: {\n",
       "              base: '/static/base',\n",
       "              plotly: 'https://cdn.plot.ly/plotly-latest.min.js?noext',\n",
       "            },\n",
       "          });\n",
       "        </script>\n",
       "        "
      ],
      "text/plain": [
       "<IPython.core.display.HTML object>"
      ]
     },
     "metadata": {},
     "output_type": "display_data"
    },
    {
     "data": {
      "text/html": [
       "\n",
       "        <script src=\"/static/components/requirejs/require.js\"></script>\n",
       "        <script>\n",
       "          requirejs.config({\n",
       "            paths: {\n",
       "              base: '/static/base',\n",
       "              plotly: 'https://cdn.plot.ly/plotly-latest.min.js?noext',\n",
       "            },\n",
       "          });\n",
       "        </script>\n",
       "        "
      ],
      "text/plain": [
       "<IPython.core.display.HTML object>"
      ]
     },
     "metadata": {},
     "output_type": "display_data"
    },
    {
     "data": {
      "text/html": [
       "\n",
       "        <script src=\"/static/components/requirejs/require.js\"></script>\n",
       "        <script>\n",
       "          requirejs.config({\n",
       "            paths: {\n",
       "              base: '/static/base',\n",
       "              plotly: 'https://cdn.plot.ly/plotly-latest.min.js?noext',\n",
       "            },\n",
       "          });\n",
       "        </script>\n",
       "        "
      ],
      "text/plain": [
       "<IPython.core.display.HTML object>"
      ]
     },
     "metadata": {},
     "output_type": "display_data"
    },
    {
     "data": {
      "text/html": [
       "\n",
       "        <script src=\"/static/components/requirejs/require.js\"></script>\n",
       "        <script>\n",
       "          requirejs.config({\n",
       "            paths: {\n",
       "              base: '/static/base',\n",
       "              plotly: 'https://cdn.plot.ly/plotly-latest.min.js?noext',\n",
       "            },\n",
       "          });\n",
       "        </script>\n",
       "        "
      ],
      "text/plain": [
       "<IPython.core.display.HTML object>"
      ]
     },
     "metadata": {},
     "output_type": "display_data"
    },
    {
     "data": {
      "text/html": [
       "\n",
       "        <script src=\"/static/components/requirejs/require.js\"></script>\n",
       "        <script>\n",
       "          requirejs.config({\n",
       "            paths: {\n",
       "              base: '/static/base',\n",
       "              plotly: 'https://cdn.plot.ly/plotly-latest.min.js?noext',\n",
       "            },\n",
       "          });\n",
       "        </script>\n",
       "        "
      ],
      "text/plain": [
       "<IPython.core.display.HTML object>"
      ]
     },
     "metadata": {},
     "output_type": "display_data"
    },
    {
     "data": {
      "text/html": [
       "\n",
       "        <script src=\"/static/components/requirejs/require.js\"></script>\n",
       "        <script>\n",
       "          requirejs.config({\n",
       "            paths: {\n",
       "              base: '/static/base',\n",
       "              plotly: 'https://cdn.plot.ly/plotly-latest.min.js?noext',\n",
       "            },\n",
       "          });\n",
       "        </script>\n",
       "        "
      ],
      "text/plain": [
       "<IPython.core.display.HTML object>"
      ]
     },
     "metadata": {},
     "output_type": "display_data"
    }
   ],
   "source": [
    "# get the first 100 crimes in the df_incidents dataframe\n",
    "limit = 100\n",
    "incidents = incidents.iloc[0:limit, :]"
   ]
  },
  {
   "cell_type": "code",
   "execution_count": 216,
   "metadata": {},
   "outputs": [
    {
     "data": {
      "text/html": [
       "\n",
       "        <script src=\"/static/components/requirejs/require.js\"></script>\n",
       "        <script>\n",
       "          requirejs.config({\n",
       "            paths: {\n",
       "              base: '/static/base',\n",
       "              plotly: 'https://cdn.plot.ly/plotly-latest.min.js?noext',\n",
       "            },\n",
       "          });\n",
       "        </script>\n",
       "        "
      ],
      "text/plain": [
       "<IPython.core.display.HTML object>"
      ]
     },
     "metadata": {},
     "output_type": "display_data"
    },
    {
     "data": {
      "text/html": [
       "\n",
       "        <script src=\"/static/components/requirejs/require.js\"></script>\n",
       "        <script>\n",
       "          requirejs.config({\n",
       "            paths: {\n",
       "              base: '/static/base',\n",
       "              plotly: 'https://cdn.plot.ly/plotly-latest.min.js?noext',\n",
       "            },\n",
       "          });\n",
       "        </script>\n",
       "        "
      ],
      "text/plain": [
       "<IPython.core.display.HTML object>"
      ]
     },
     "metadata": {},
     "output_type": "display_data"
    },
    {
     "data": {
      "text/html": [
       "\n",
       "        <script src=\"/static/components/requirejs/require.js\"></script>\n",
       "        <script>\n",
       "          requirejs.config({\n",
       "            paths: {\n",
       "              base: '/static/base',\n",
       "              plotly: 'https://cdn.plot.ly/plotly-latest.min.js?noext',\n",
       "            },\n",
       "          });\n",
       "        </script>\n",
       "        "
      ],
      "text/plain": [
       "<IPython.core.display.HTML object>"
      ]
     },
     "metadata": {},
     "output_type": "display_data"
    },
    {
     "data": {
      "text/html": [
       "\n",
       "        <script src=\"/static/components/requirejs/require.js\"></script>\n",
       "        <script>\n",
       "          requirejs.config({\n",
       "            paths: {\n",
       "              base: '/static/base',\n",
       "              plotly: 'https://cdn.plot.ly/plotly-latest.min.js?noext',\n",
       "            },\n",
       "          });\n",
       "        </script>\n",
       "        "
      ],
      "text/plain": [
       "<IPython.core.display.HTML object>"
      ]
     },
     "metadata": {},
     "output_type": "display_data"
    },
    {
     "data": {
      "text/html": [
       "\n",
       "        <script src=\"/static/components/requirejs/require.js\"></script>\n",
       "        <script>\n",
       "          requirejs.config({\n",
       "            paths: {\n",
       "              base: '/static/base',\n",
       "              plotly: 'https://cdn.plot.ly/plotly-latest.min.js?noext',\n",
       "            },\n",
       "          });\n",
       "        </script>\n",
       "        "
      ],
      "text/plain": [
       "<IPython.core.display.HTML object>"
      ]
     },
     "metadata": {},
     "output_type": "display_data"
    },
    {
     "data": {
      "text/html": [
       "\n",
       "        <script src=\"/static/components/requirejs/require.js\"></script>\n",
       "        <script>\n",
       "          requirejs.config({\n",
       "            paths: {\n",
       "              base: '/static/base',\n",
       "              plotly: 'https://cdn.plot.ly/plotly-latest.min.js?noext',\n",
       "            },\n",
       "          });\n",
       "        </script>\n",
       "        "
      ],
      "text/plain": [
       "<IPython.core.display.HTML object>"
      ]
     },
     "metadata": {},
     "output_type": "display_data"
    },
    {
     "data": {
      "text/html": [
       "\n",
       "        <script src=\"/static/components/requirejs/require.js\"></script>\n",
       "        <script>\n",
       "          requirejs.config({\n",
       "            paths: {\n",
       "              base: '/static/base',\n",
       "              plotly: 'https://cdn.plot.ly/plotly-latest.min.js?noext',\n",
       "            },\n",
       "          });\n",
       "        </script>\n",
       "        "
      ],
      "text/plain": [
       "<IPython.core.display.HTML object>"
      ]
     },
     "metadata": {},
     "output_type": "display_data"
    },
    {
     "data": {
      "text/html": [
       "\n",
       "        <script src=\"/static/components/requirejs/require.js\"></script>\n",
       "        <script>\n",
       "          requirejs.config({\n",
       "            paths: {\n",
       "              base: '/static/base',\n",
       "              plotly: 'https://cdn.plot.ly/plotly-latest.min.js?noext',\n",
       "            },\n",
       "          });\n",
       "        </script>\n",
       "        "
      ],
      "text/plain": [
       "<IPython.core.display.HTML object>"
      ]
     },
     "metadata": {},
     "output_type": "display_data"
    },
    {
     "data": {
      "text/html": [
       "\n",
       "        <script src=\"/static/components/requirejs/require.js\"></script>\n",
       "        <script>\n",
       "          requirejs.config({\n",
       "            paths: {\n",
       "              base: '/static/base',\n",
       "              plotly: 'https://cdn.plot.ly/plotly-latest.min.js?noext',\n",
       "            },\n",
       "          });\n",
       "        </script>\n",
       "        "
      ],
      "text/plain": [
       "<IPython.core.display.HTML object>"
      ]
     },
     "metadata": {},
     "output_type": "display_data"
    },
    {
     "data": {
      "text/html": [
       "\n",
       "        <script src=\"/static/components/requirejs/require.js\"></script>\n",
       "        <script>\n",
       "          requirejs.config({\n",
       "            paths: {\n",
       "              base: '/static/base',\n",
       "              plotly: 'https://cdn.plot.ly/plotly-latest.min.js?noext',\n",
       "            },\n",
       "          });\n",
       "        </script>\n",
       "        "
      ],
      "text/plain": [
       "<IPython.core.display.HTML object>"
      ]
     },
     "metadata": {},
     "output_type": "display_data"
    },
    {
     "data": {
      "text/html": [
       "\n",
       "        <script src=\"/static/components/requirejs/require.js\"></script>\n",
       "        <script>\n",
       "          requirejs.config({\n",
       "            paths: {\n",
       "              base: '/static/base',\n",
       "              plotly: 'https://cdn.plot.ly/plotly-latest.min.js?noext',\n",
       "            },\n",
       "          });\n",
       "        </script>\n",
       "        "
      ],
      "text/plain": [
       "<IPython.core.display.HTML object>"
      ]
     },
     "metadata": {},
     "output_type": "display_data"
    },
    {
     "data": {
      "text/html": [
       "\n",
       "        <script src=\"/static/components/requirejs/require.js\"></script>\n",
       "        <script>\n",
       "          requirejs.config({\n",
       "            paths: {\n",
       "              base: '/static/base',\n",
       "              plotly: 'https://cdn.plot.ly/plotly-latest.min.js?noext',\n",
       "            },\n",
       "          });\n",
       "        </script>\n",
       "        "
      ],
      "text/plain": [
       "<IPython.core.display.HTML object>"
      ]
     },
     "metadata": {},
     "output_type": "display_data"
    },
    {
     "data": {
      "text/html": [
       "\n",
       "        <script src=\"/static/components/requirejs/require.js\"></script>\n",
       "        <script>\n",
       "          requirejs.config({\n",
       "            paths: {\n",
       "              base: '/static/base',\n",
       "              plotly: 'https://cdn.plot.ly/plotly-latest.min.js?noext',\n",
       "            },\n",
       "          });\n",
       "        </script>\n",
       "        "
      ],
      "text/plain": [
       "<IPython.core.display.HTML object>"
      ]
     },
     "metadata": {},
     "output_type": "display_data"
    },
    {
     "data": {
      "text/html": [
       "\n",
       "        <script src=\"/static/components/requirejs/require.js\"></script>\n",
       "        <script>\n",
       "          requirejs.config({\n",
       "            paths: {\n",
       "              base: '/static/base',\n",
       "              plotly: 'https://cdn.plot.ly/plotly-latest.min.js?noext',\n",
       "            },\n",
       "          });\n",
       "        </script>\n",
       "        "
      ],
      "text/plain": [
       "<IPython.core.display.HTML object>"
      ]
     },
     "metadata": {},
     "output_type": "display_data"
    },
    {
     "data": {
      "text/html": [
       "<div style=\"width:100%;\"><div style=\"position:relative;width:100%;height:0;padding-bottom:60%;\"><iframe src=\"data:text/html;charset=utf-8;base64,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\" style=\"position:absolute;width:100%;height:100%;left:0;top:0;border:none !important;\" allowfullscreen webkitallowfullscreen mozallowfullscreen></iframe></div></div>"
      ],
      "text/plain": [
       "<folium.folium.Map at 0x1ddd0275488>"
      ]
     },
     "execution_count": 216,
     "metadata": {},
     "output_type": "execute_result"
    }
   ],
   "source": [
    "# instantiate a feature group for the incidents in the dataframe\n",
    "incidents_place = folium.map.FeatureGroup()\n",
    "\n",
    "# loop through the 100 crimes and add each to the incidents feature group\n",
    "for lat, lng, in zip(incidents.Y, incidents.X):\n",
    "    incidents_place.add_child(\n",
    "        folium.CircleMarker(\n",
    "            [lat, lng],\n",
    "            radius=5, # define how big you want the circle markers to be\n",
    "            color='yellow',\n",
    "            fill=True,\n",
    "            fill_color='blue',\n",
    "            fill_opacity=0.6\n",
    "        )\n",
    "    )\n",
    "\n",
    "# add incidents to map\n",
    "sanfran_map.add_child(incidents_place)"
   ]
  },
  {
   "cell_type": "markdown",
   "metadata": {},
   "source": [
    "### Adding a pop-up text that will be displayed when we hover over a marker.<br>\n",
    "### Making each marker display the category of the crime when flown over."
   ]
  },
  {
   "cell_type": "code",
   "execution_count": 217,
   "metadata": {},
   "outputs": [
    {
     "data": {
      "text/html": [
       "\n",
       "        <script src=\"/static/components/requirejs/require.js\"></script>\n",
       "        <script>\n",
       "          requirejs.config({\n",
       "            paths: {\n",
       "              base: '/static/base',\n",
       "              plotly: 'https://cdn.plot.ly/plotly-latest.min.js?noext',\n",
       "            },\n",
       "          });\n",
       "        </script>\n",
       "        "
      ],
      "text/plain": [
       "<IPython.core.display.HTML object>"
      ]
     },
     "metadata": {},
     "output_type": "display_data"
    },
    {
     "data": {
      "text/html": [
       "\n",
       "        <script src=\"/static/components/requirejs/require.js\"></script>\n",
       "        <script>\n",
       "          requirejs.config({\n",
       "            paths: {\n",
       "              base: '/static/base',\n",
       "              plotly: 'https://cdn.plot.ly/plotly-latest.min.js?noext',\n",
       "            },\n",
       "          });\n",
       "        </script>\n",
       "        "
      ],
      "text/plain": [
       "<IPython.core.display.HTML object>"
      ]
     },
     "metadata": {},
     "output_type": "display_data"
    },
    {
     "data": {
      "text/html": [
       "\n",
       "        <script src=\"/static/components/requirejs/require.js\"></script>\n",
       "        <script>\n",
       "          requirejs.config({\n",
       "            paths: {\n",
       "              base: '/static/base',\n",
       "              plotly: 'https://cdn.plot.ly/plotly-latest.min.js?noext',\n",
       "            },\n",
       "          });\n",
       "        </script>\n",
       "        "
      ],
      "text/plain": [
       "<IPython.core.display.HTML object>"
      ]
     },
     "metadata": {},
     "output_type": "display_data"
    },
    {
     "data": {
      "text/html": [
       "\n",
       "        <script src=\"/static/components/requirejs/require.js\"></script>\n",
       "        <script>\n",
       "          requirejs.config({\n",
       "            paths: {\n",
       "              base: '/static/base',\n",
       "              plotly: 'https://cdn.plot.ly/plotly-latest.min.js?noext',\n",
       "            },\n",
       "          });\n",
       "        </script>\n",
       "        "
      ],
      "text/plain": [
       "<IPython.core.display.HTML object>"
      ]
     },
     "metadata": {},
     "output_type": "display_data"
    },
    {
     "data": {
      "text/html": [
       "\n",
       "        <script src=\"/static/components/requirejs/require.js\"></script>\n",
       "        <script>\n",
       "          requirejs.config({\n",
       "            paths: {\n",
       "              base: '/static/base',\n",
       "              plotly: 'https://cdn.plot.ly/plotly-latest.min.js?noext',\n",
       "            },\n",
       "          });\n",
       "        </script>\n",
       "        "
      ],
      "text/plain": [
       "<IPython.core.display.HTML object>"
      ]
     },
     "metadata": {},
     "output_type": "display_data"
    },
    {
     "data": {
      "text/html": [
       "\n",
       "        <script src=\"/static/components/requirejs/require.js\"></script>\n",
       "        <script>\n",
       "          requirejs.config({\n",
       "            paths: {\n",
       "              base: '/static/base',\n",
       "              plotly: 'https://cdn.plot.ly/plotly-latest.min.js?noext',\n",
       "            },\n",
       "          });\n",
       "        </script>\n",
       "        "
      ],
      "text/plain": [
       "<IPython.core.display.HTML object>"
      ]
     },
     "metadata": {},
     "output_type": "display_data"
    },
    {
     "data": {
      "text/html": [
       "\n",
       "        <script src=\"/static/components/requirejs/require.js\"></script>\n",
       "        <script>\n",
       "          requirejs.config({\n",
       "            paths: {\n",
       "              base: '/static/base',\n",
       "              plotly: 'https://cdn.plot.ly/plotly-latest.min.js?noext',\n",
       "            },\n",
       "          });\n",
       "        </script>\n",
       "        "
      ],
      "text/plain": [
       "<IPython.core.display.HTML object>"
      ]
     },
     "metadata": {},
     "output_type": "display_data"
    },
    {
     "data": {
      "text/html": [
       "\n",
       "        <script src=\"/static/components/requirejs/require.js\"></script>\n",
       "        <script>\n",
       "          requirejs.config({\n",
       "            paths: {\n",
       "              base: '/static/base',\n",
       "              plotly: 'https://cdn.plot.ly/plotly-latest.min.js?noext',\n",
       "            },\n",
       "          });\n",
       "        </script>\n",
       "        "
      ],
      "text/plain": [
       "<IPython.core.display.HTML object>"
      ]
     },
     "metadata": {},
     "output_type": "display_data"
    },
    {
     "data": {
      "text/html": [
       "\n",
       "        <script src=\"/static/components/requirejs/require.js\"></script>\n",
       "        <script>\n",
       "          requirejs.config({\n",
       "            paths: {\n",
       "              base: '/static/base',\n",
       "              plotly: 'https://cdn.plot.ly/plotly-latest.min.js?noext',\n",
       "            },\n",
       "          });\n",
       "        </script>\n",
       "        "
      ],
      "text/plain": [
       "<IPython.core.display.HTML object>"
      ]
     },
     "metadata": {},
     "output_type": "display_data"
    },
    {
     "data": {
      "text/html": [
       "\n",
       "        <script src=\"/static/components/requirejs/require.js\"></script>\n",
       "        <script>\n",
       "          requirejs.config({\n",
       "            paths: {\n",
       "              base: '/static/base',\n",
       "              plotly: 'https://cdn.plot.ly/plotly-latest.min.js?noext',\n",
       "            },\n",
       "          });\n",
       "        </script>\n",
       "        "
      ],
      "text/plain": [
       "<IPython.core.display.HTML object>"
      ]
     },
     "metadata": {},
     "output_type": "display_data"
    },
    {
     "data": {
      "text/html": [
       "\n",
       "        <script src=\"/static/components/requirejs/require.js\"></script>\n",
       "        <script>\n",
       "          requirejs.config({\n",
       "            paths: {\n",
       "              base: '/static/base',\n",
       "              plotly: 'https://cdn.plot.ly/plotly-latest.min.js?noext',\n",
       "            },\n",
       "          });\n",
       "        </script>\n",
       "        "
      ],
      "text/plain": [
       "<IPython.core.display.HTML object>"
      ]
     },
     "metadata": {},
     "output_type": "display_data"
    },
    {
     "data": {
      "text/html": [
       "\n",
       "        <script src=\"/static/components/requirejs/require.js\"></script>\n",
       "        <script>\n",
       "          requirejs.config({\n",
       "            paths: {\n",
       "              base: '/static/base',\n",
       "              plotly: 'https://cdn.plot.ly/plotly-latest.min.js?noext',\n",
       "            },\n",
       "          });\n",
       "        </script>\n",
       "        "
      ],
      "text/plain": [
       "<IPython.core.display.HTML object>"
      ]
     },
     "metadata": {},
     "output_type": "display_data"
    },
    {
     "data": {
      "text/html": [
       "\n",
       "        <script src=\"/static/components/requirejs/require.js\"></script>\n",
       "        <script>\n",
       "          requirejs.config({\n",
       "            paths: {\n",
       "              base: '/static/base',\n",
       "              plotly: 'https://cdn.plot.ly/plotly-latest.min.js?noext',\n",
       "            },\n",
       "          });\n",
       "        </script>\n",
       "        "
      ],
      "text/plain": [
       "<IPython.core.display.HTML object>"
      ]
     },
     "metadata": {},
     "output_type": "display_data"
    },
    {
     "data": {
      "text/html": [
       "\n",
       "        <script src=\"/static/components/requirejs/require.js\"></script>\n",
       "        <script>\n",
       "          requirejs.config({\n",
       "            paths: {\n",
       "              base: '/static/base',\n",
       "              plotly: 'https://cdn.plot.ly/plotly-latest.min.js?noext',\n",
       "            },\n",
       "          });\n",
       "        </script>\n",
       "        "
      ],
      "text/plain": [
       "<IPython.core.display.HTML object>"
      ]
     },
     "metadata": {},
     "output_type": "display_data"
    },
    {
     "data": {
      "text/html": [
       "<div style=\"width:100%;\"><div style=\"position:relative;width:100%;height:0;padding-bottom:60%;\"><iframe src=\"data:text/html;charset=utf-8;base64,PCFET0NUWVBFIGh0bWw+CjxoZWFkPiAgICAKICAgIDxtZXRhIGh0dHAtZXF1aXY9ImNvbnRlbnQtdHlwZSIgY29udGVudD0idGV4dC9odG1sOyBjaGFyc2V0PVVURi04IiAvPgogICAgCiAgICAgICAgPHNjcmlwdD4KICAgICAgICAgICAgTF9OT19UT1VDSCA9IGZhbHNlOwogICAgICAgICAgICBMX0RJU0FCTEVfM0QgPSBmYWxzZTsKICAgICAgICA8L3NjcmlwdD4KICAgIAogICAgPHNjcmlwdCBzcmM9Imh0dHBzOi8vY2RuLmpzZGVsaXZyLm5ldC9ucG0vbGVhZmxldEAxLjUuMS9kaXN0L2xlYWZsZXQuanMiPjwvc2NyaXB0PgogICAgPHNjcmlwdCBzcmM9Imh0dHBzOi8vY29kZS5qcXVlcnkuY29tL2pxdWVyeS0xLjEyLjQubWluLmpzIj48L3NjcmlwdD4KICAgIDxzY3JpcHQgc3JjPSJodHRwczovL21heGNkbi5ib290c3RyYXBjZG4uY29tL2Jvb3RzdHJhcC8zLjIuMC9qcy9ib290c3RyYXAubWluLmpzIj48L3NjcmlwdD4KICAgIDxzY3JpcHQgc3JjPSJodHRwczovL2NkbmpzLmNsb3VkZmxhcmUuY29tL2FqYXgvbGlicy9MZWFmbGV0LmF3ZXNvbWUtbWFya2Vycy8yLjAuMi9sZWFmbGV0LmF3ZXNvbWUtbWFya2Vycy5qcyI+PC9zY3JpcHQ+CiAgICA8bGluayByZWw9InN0eWxlc2hlZXQiIGhyZWY9Imh0dHBzOi8vY2RuLmpzZGVsaXZyLm5ldC9ucG0vbGVhZmxldEAxLjUuMS9kaXN0L2xlYWZsZXQuY3NzIi8+CiAgICA8bGluayByZWw9InN0eWxlc2hlZXQiIGhyZWY9Imh0dHBzOi8vbWF4Y2RuLmJvb3RzdHJhcGNkbi5jb20vYm9vdHN0cmFwLzMuMi4wL2Nzcy9ib290c3RyYXAubWluLmNzcyIvPgogICAgPGxpbmsgcmVsPSJzdHlsZXNoZWV0IiBocmVmPSJodHRwczovL21heGNkbi5ib290c3RyYXBjZG4uY29tL2Jvb3RzdHJhcC8zLjIuMC9jc3MvYm9vdHN0cmFwLXRoZW1lLm1pbi5jc3MiLz4KICAgIDxsaW5rIHJlbD0ic3R5bGVzaGVldCIgaHJlZj0iaHR0cHM6Ly9tYXhjZG4uYm9vdHN0cmFwY2RuLmNvbS9mb250LWF3ZXNvbWUvNC42LjMvY3NzL2ZvbnQtYXdlc29tZS5taW4uY3NzIi8+CiAgICA8bGluayByZWw9InN0eWxlc2hlZXQiIGhyZWY9Imh0dHBzOi8vY2RuanMuY2xvdWRmbGFyZS5jb20vYWpheC9saWJzL0xlYWZsZXQuYXdlc29tZS1tYXJrZXJzLzIuMC4yL2xlYWZsZXQuYXdlc29tZS1tYXJrZXJzLmNzcyIvPgogICAgPGxpbmsgcmVsPSJzdHlsZXNoZWV0IiBocmVmPSJodHRwczovL3Jhd2Nkbi5naXRoYWNrLmNvbS9weXRob24tdmlzdWFsaXphdGlvbi9mb2xpdW0vbWFzdGVyL2ZvbGl1bS90ZW1wbGF0ZXMvbGVhZmxldC5hd2Vzb21lLnJvdGF0ZS5jc3MiLz4KICAgIDxzdHlsZT5odG1sLCBib2R5IHt3aWR0aDogMTAwJTtoZWlnaHQ6IDEwMCU7bWFyZ2luOiAwO3BhZGRpbmc6IDA7fTwvc3R5bGU+CiAgICA8c3R5bGU+I21hcCB7cG9zaXRpb246YWJzb2x1dGU7dG9wOjA7Ym90dG9tOjA7cmlnaHQ6MDtsZWZ0OjA7fTwvc3R5bGU+CiAgICAKICAgICAgICAgICAgPG1ldGEgbmFtZT0idmlld3BvcnQiIGNvbnRlbnQ9IndpZHRoPWRldmljZS13aWR0aCwKICAgICAgICAgICAgICAgIGluaXRpYWwtc2NhbGU9MS4wLCBtYXhpbXVtLXNjYWxlPTEuMCwgdXNlci1zY2FsYWJsZT1ubyIgLz4KICAgICAgICAgICAgPHN0eWxlPgogICAgICAgICAgICAgICAgI21hcF9kOTRjYWU2ZjQ1NzA0ZjBjYmYwMDlkNWUzOWNjYWQxZSB7CiAgICAgICAgICAgICAgICAgICAgcG9zaXRpb246IHJlbGF0aXZlOwogICAgICAgICAgICAgICAgICAgIHdpZHRoOiAxMDAuMCU7CiAgICAgICAgICAgICAgICAgICAgaGVpZ2h0OiAxMDAuMCU7CiAgICAgICAgICAgICAgICAgICAgbGVmdDogMC4wJTsKICAgICAgICAgICAgICAgICAgICB0b3A6IDAuMCU7CiAgICAgICAgICAgICAgICB9CiAgICAgICAgICAgIDwvc3R5bGU+CiAgICAgICAgCjwvaGVhZD4KPGJvZHk+ICAgIAogICAgPHN0eWxlPi5sZWFmbGV0LWNvbnRyb2x7Y29sb3I6IzAwRkYwMH08L3N0eWxlPgogICAgCiAgICAgICAgICAgIDxkaXYgY2xhc3M9ImZvbGl1bS1tYXAiIGlkPSJtYXBfZDk0Y2FlNmY0NTcwNGYwY2JmMDA5ZDVlMzljY2FkMWUiID48L2Rpdj4KICAgICAgICAKPC9ib2R5Pgo8c2NyaXB0PiAgICAKICAgIAogICAgICAgICAgICB2YXIgbWFwX2Q5NGNhZTZmNDU3MDRmMGNiZjAwOWQ1ZTM5Y2NhZDFlID0gTC5tYXAoCiAgICAgICAgICAgICAgICAibWFwX2Q5NGNhZTZmNDU3MDRmMGNiZjAwOWQ1ZTM5Y2NhZDFlIiwKICAgICAgICAgICAgICAgIHsKICAgICAgICAgICAgICAgICAgICBjZW50ZXI6IFszNy43NywgLTEyMi40Ml0sCiAgICAgICAgICAgICAgICAgICAgY3JzOiBMLkNSUy5FUFNHMzg1NywKICAgICAgICAgICAgICAgICAgICB6b29tOiAxMywKICAgICAgICAgICAgICAgICAgICB6b29tQ29udHJvbDogdHJ1ZSwKICAgICAgICAgICAgICAgICAgICBwcmVmZXJDYW52YXM6IGZhbHNlLAogICAgICAgICAgICAgICAgfQogICAgICAgICAgICApOwoKICAgICAgICAgICAgCgogICAgICAgIAogICAgCiAgICAgICAgICAgIHZhciB0aWxlX2xheWVyX2E5NjZmMDU1NmRlYzRkZWNiMDc0N2Y0Mjk4MzBjYmYwID0gTC50aWxlTGF5ZXIoCiAgICAgICAgICAgICAgICAiaHR0cHM6Ly97c30udGlsZS5vcGVuc3RyZWV0bWFwLm9yZy97en0ve3h9L3t5fS5wbmciLAogICAgICAgICAgICAgICAgeyJhdHRyaWJ1dGlvbiI6ICJEYXRhIGJ5IFx1MDAyNmNvcHk7IFx1MDAzY2EgaHJlZj1cImh0dHA6Ly9vcGVuc3RyZWV0bWFwLm9yZ1wiXHUwMDNlT3BlblN0cmVldE1hcFx1MDAzYy9hXHUwMDNlLCB1bmRlciBcdTAwM2NhIGhyZWY9XCJodHRwOi8vd3d3Lm9wZW5zdHJlZXRtYXAub3JnL2NvcHlyaWdodFwiXHUwMDNlT0RiTFx1MDAzYy9hXHUwMDNlLiIsICJkZXRlY3RSZXRpbmEiOiBmYWxzZSwgIm1heE5hdGl2ZVpvb20iOiAxOCwgIm1heFpvb20iOiAxOCwgIm1pblpvb20iOiAwLCAibm9XcmFwIjogZmFsc2UsICJvcGFjaXR5IjogMSwgInN1YmRvbWFpbnMiOiAiYWJjIiwgInRtcyI6IGZhbHNlfQogICAgICAgICAgICApLmFkZFRvKG1hcF9kOTRjYWU2ZjQ1NzA0ZjBjYmYwMDlkNWUzOWNjYWQxZSk7CiAgICAgICAgCiAgICAKICAgICAgICAgICAgdmFyIGZlYXR1cmVfZ3JvdXBfZWRmZTZmOTQ2NzBjNDRiNWI1OWJjNWU2NDU0OGJmZTggPSBMLmZlYXR1cmVHcm91cCgKICAgICAgICAgICAgICAgIHt9CiAgICAgICAgICAgICkuYWRkVG8obWFwX2Q5NGNhZTZmNDU3MDRmMGNiZjAwOWQ1ZTM5Y2NhZDFlKTsKICAgICAgICAKICAgIAogICAgICAgICAgICB2YXIgY2lyY2xlX21hcmtlcl9lNzY5YWIyNzhkZDU0YjZiYWE0ODAxN2NlYTc2ZGY4ZiA9IEwuY2lyY2xlTWFya2VyKAogICAgICAgICAgICAgICAgWzM3Ljc3NTQyMDcwNjcxMSwgLTEyMi40MDM0MDQ3OTE0Nzg5OV0sCiAgICAgICAgICAgICAgICB7ImJ1YmJsaW5nTW91c2VFdmVudHMiOiB0cnVlLCAiY29sb3IiOiAieWVsbG93IiwgImRhc2hBcnJheSI6IG51bGwsICJkYXNoT2Zmc2V0IjogbnVsbCwgImZpbGwiOiB0cnVlLCAiZmlsbENvbG9yIjogImJsdWUiLCAiZmlsbE9wYWNpdHkiOiAwLjYsICJmaWxsUnVsZSI6ICJldmVub2RkIiwgImxpbmVDYXAiOiAicm91bmQiLCAibGluZUpvaW4iOiAicm91bmQiLCAib3BhY2l0eSI6IDEuMCwgInJhZGl1cyI6IDUsICJzdHJva2UiOiB0cnVlLCAid2VpZ2h0IjogM30KICAgICAgICAgICAgKS5hZGRUbyhmZWF0dXJlX2dyb3VwX2VkZmU2Zjk0NjcwYzQ0YjViNTliYzVlNjQ1NDhiZmU4KTsKICAgICAgICAKICAgIAogICAgICAgICAgICB2YXIgY2lyY2xlX21hcmtlcl8xNTNkNDJlZGUzYTU0OTNlOTNhZjQwNWJiYzAyZjE2YyA9IEwuY2lyY2xlTWFya2VyKAogICAgICAgICAgICAgICAgWzM3Ljc3NTQyMDcwNjcxMSwgLTEyMi40MDM0MDQ3OTE0Nzg5OV0sCiAgICAgICAgICAgICAgICB7ImJ1YmJsaW5nTW91c2VFdmVudHMiOiB0cnVlLCAiY29sb3IiOiAieWVsbG93IiwgImRhc2hBcnJheSI6IG51bGwsICJkYXNoT2Zmc2V0IjogbnVsbCwgImZpbGwiOiB0cnVlLCAiZmlsbENvbG9yIjogImJsdWUiLCAiZmlsbE9wYWNpdHkiOiAwLjYsICJmaWxsUnVsZSI6ICJldmVub2RkIiwgImxpbmVDYXAiOiAicm91bmQiLCAibGluZUpvaW4iOiAicm91bmQiLCAib3BhY2l0eSI6IDEuMCwgInJhZGl1cyI6IDUsICJzdHJva2UiOiB0cnVlLCAid2VpZ2h0IjogM30KICAgICAgICAgICAgKS5hZGRUbyhmZWF0dXJlX2dyb3VwX2VkZmU2Zjk0NjcwYzQ0YjViNTliYzVlNjQ1NDhiZmU4KTsKICAgICAgICAKICAgIAogICAgICAgICAgICB2YXIgY2lyY2xlX21hcmtlcl84YWZjZjM2NmNkOTM0OWE3YThmYjJiNzJiYTQzNjgxMiA9IEwuY2lyY2xlTWFya2VyKAogICAgICAgICAgICAgICAgWzM3LjcyOTk4MDk2NzI5OTU5NiwgLTEyMi4zODg4NTYyMDQyOTJdLAogICAgICAgICAgICAgICAgeyJidWJibGluZ01vdXNlRXZlbnRzIjogdHJ1ZSwgImNvbG9yIjogInllbGxvdyIsICJkYXNoQXJyYXkiOiBudWxsLCAiZGFzaE9mZnNldCI6IG51bGwsICJmaWxsIjogdHJ1ZSwgImZpbGxDb2xvciI6ICJibHVlIiwgImZpbGxPcGFjaXR5IjogMC42LCAiZmlsbFJ1bGUiOiAiZXZlbm9kZCIsICJsaW5lQ2FwIjogInJvdW5kIiwgImxpbmVKb2luIjogInJvdW5kIiwgIm9wYWNpdHkiOiAxLjAsICJyYWRpdXMiOiA1LCAic3Ryb2tlIjogdHJ1ZSwgIndlaWdodCI6IDN9CiAgICAgICAgICAgICkuYWRkVG8oZmVhdHVyZV9ncm91cF9lZGZlNmY5NDY3MGM0NGI1YjU5YmM1ZTY0NTQ4YmZlOCk7CiAgICAgICAgCiAgICAKICAgICAgICAgICAgdmFyIGNpcmNsZV9tYXJrZXJfMDY5MjNlZGMzY2UwNGU5ODhmZmEzNjc5ZmJhOTczZTIgPSBMLmNpcmNsZU1hcmtlcigKICAgICAgICAgICAgICAgIFszNy43ODU3ODgzNzY2ODg3OSwgLTEyMi40MTI5NzA1Mzc1OTFdLAogICAgICAgICAgICAgICAgeyJidWJibGluZ01vdXNlRXZlbnRzIjogdHJ1ZSwgImNvbG9yIjogInllbGxvdyIsICJkYXNoQXJyYXkiOiBudWxsLCAiZGFzaE9mZnNldCI6IG51bGwsICJmaWxsIjogdHJ1ZSwgImZpbGxDb2xvciI6ICJibHVlIiwgImZpbGxPcGFjaXR5IjogMC42LCAiZmlsbFJ1bGUiOiAiZXZlbm9kZCIsICJsaW5lQ2FwIjogInJvdW5kIiwgImxpbmVKb2luIjogInJvdW5kIiwgIm9wYWNpdHkiOiAxLjAsICJyYWRpdXMiOiA1LCAic3Ryb2tlIjogdHJ1ZSwgIndlaWdodCI6IDN9CiAgICAgICAgICAgICkuYWRkVG8oZmVhdHVyZV9ncm91cF9lZGZlNmY5NDY3MGM0NGI1YjU5YmM1ZTY0NTQ4YmZlOCk7CiAgICAgICAgCiAgICAKICAgICAgICAgICAgdmFyIGNpcmNsZV9tYXJrZXJfZTcwMTk3NGVlNjJkNGU5NmJkZGM4M2FhOTE5Yjc1ZWUgPSBMLmNpcmNsZU1hcmtlcigKICAgICAgICAgICAgICAgIFszNy43NjUwNTAxMjE0NjY4LCAtMTIyLjQxOTY3MTc4MDI5Nl0sCiAgICAgICAgICAgICAgICB7ImJ1YmJsaW5nTW91c2VFdmVudHMiOiB0cnVlLCAiY29sb3IiOiAieWVsbG93IiwgImRhc2hBcnJheSI6IG51bGwsICJkYXNoT2Zmc2V0IjogbnVsbCwgImZpbGwiOiB0cnVlLCAiZmlsbENvbG9yIjogImJsdWUiLCAiZmlsbE9wYWNpdHkiOiAwLjYsICJmaWxsUnVsZSI6ICJldmVub2RkIiwgImxpbmVDYXAiOiAicm91bmQiLCAibGluZUpvaW4iOiAicm91bmQiLCAib3BhY2l0eSI6IDEuMCwgInJhZGl1cyI6IDUsICJzdHJva2UiOiB0cnVlLCAid2VpZ2h0IjogM30KICAgICAgICAgICAgKS5hZGRUbyhmZWF0dXJlX2dyb3VwX2VkZmU2Zjk0NjcwYzQ0YjViNTliYzVlNjQ1NDhiZmU4KTsKICAgICAgICAKICAgIAogICAgICAgICAgICB2YXIgY2lyY2xlX21hcmtlcl80NmRkNzM2MzE1NWY0MTg4OGQzOTFjYmRiOTI4ZDUxZSA9IEwuY2lyY2xlTWFya2VyKAogICAgICAgICAgICAgICAgWzM3Ljc4ODAxODU1NTgyOSwgLTEyMi40MjYwNzcxNzczNzQ5OV0sCiAgICAgICAgICAgICAgICB7ImJ1YmJsaW5nTW91c2VFdmVudHMiOiB0cnVlLCAiY29sb3IiOiAieWVsbG93IiwgImRhc2hBcnJheSI6IG51bGwsICJkYXNoT2Zmc2V0IjogbnVsbCwgImZpbGwiOiB0cnVlLCAiZmlsbENvbG9yIjogImJsdWUiLCAiZmlsbE9wYWNpdHkiOiAwLjYsICJmaWxsUnVsZSI6ICJldmVub2RkIiwgImxpbmVDYXAiOiAicm91bmQiLCAibGluZUpvaW4iOiAicm91bmQiLCAib3BhY2l0eSI6IDEuMCwgInJhZGl1cyI6IDUsICJzdHJva2UiOiB0cnVlLCAid2VpZ2h0IjogM30KICAgICAgICAgICAgKS5hZGRUbyhmZWF0dXJlX2dyb3VwX2VkZmU2Zjk0NjcwYzQ0YjViNTliYzVlNjQ1NDhiZmU4KTsKICAgICAgICAKICAgIAogICAgICAgICAgICB2YXIgY2lyY2xlX21hcmtlcl9lOGEwYjA3OWZhYWU0YjgxODRjOWExOWU0NWFjMGEzYyA9IEwuY2lyY2xlTWFya2VyKAogICAgICAgICAgICAgICAgWzM3Ljc4MDg3ODkzNjAyMTQsIC0xMjIuNDA1NzIxNDU0NTY3XSwKICAgICAgICAgICAgICAgIHsiYnViYmxpbmdNb3VzZUV2ZW50cyI6IHRydWUsICJjb2xvciI6ICJ5ZWxsb3ciLCAiZGFzaEFycmF5IjogbnVsbCwgImRhc2hPZmZzZXQiOiBudWxsLCAiZmlsbCI6IHRydWUsICJmaWxsQ29sb3IiOiAiYmx1ZSIsICJmaWxsT3BhY2l0eSI6IDAuNiwgImZpbGxSdWxlIjogImV2ZW5vZGQiLCAibGluZUNhcCI6ICJyb3VuZCIsICJsaW5lSm9pbiI6ICJyb3VuZCIsICJvcGFjaXR5IjogMS4wLCAicmFkaXVzIjogNSwgInN0cm9rZSI6IHRydWUsICJ3ZWlnaHQiOiAzfQogICAgICAgICAgICApLmFkZFRvKGZlYXR1cmVfZ3JvdXBfZWRmZTZmOTQ2NzBjNDRiNWI1OWJjNWU2NDU0OGJmZTgpOwogICAgICAgIAogICAgCiAgICAgICAgICAgIHZhciBjaXJjbGVfbWFya2VyXzk2NWYzMTBjMTFmMjQ0YzFiNzk1NTc0Mzg1NTA4N2JkID0gTC5jaXJjbGVNYXJrZXIoCiAgICAgICAgICAgICAgICBbMzcuNzgzOTgwNTU5MjYzNCwgLTEyMi40MTE3NzgyOTU5OTJdLAogICAgICAgICAgICAgICAgeyJidWJibGluZ01vdXNlRXZlbnRzIjogdHJ1ZSwgImNvbG9yIjogInllbGxvdyIsICJkYXNoQXJyYXkiOiBudWxsLCAiZGFzaE9mZnNldCI6IG51bGwsICJmaWxsIjogdHJ1ZSwgImZpbGxDb2xvciI6ICJibHVlIiwgImZpbGxPcGFjaXR5IjogMC42LCAiZmlsbFJ1bGUiOiAiZXZlbm9kZCIsICJsaW5lQ2FwIjogInJvdW5kIiwgImxpbmVKb2luIjogInJvdW5kIiwgIm9wYWNpdHkiOiAxLjAsICJyYWRpdXMiOiA1LCAic3Ryb2tlIjogdHJ1ZSwgIndlaWdodCI6IDN9CiAgICAgICAgICAgICkuYWRkVG8oZmVhdHVyZV9ncm91cF9lZGZlNmY5NDY3MGM0NGI1YjU5YmM1ZTY0NTQ4YmZlOCk7CiAgICAgICAgCiAgICAKICAgICAgICAgICAgdmFyIGNpcmNsZV9tYXJrZXJfZGQ3NGMzMzFiNzE5NDBhZTgxMTQ1ZGRmYzNlNGI4YjkgPSBMLmNpcmNsZU1hcmtlcigKICAgICAgICAgICAgICAgIFszNy43NzU3ODc2MjE4MjkyOTUsIC0xMjIuMzkzMzU3MjQxNDUxXSwKICAgICAgICAgICAgICAgIHsiYnViYmxpbmdNb3VzZUV2ZW50cyI6IHRydWUsICJjb2xvciI6ICJ5ZWxsb3ciLCAiZGFzaEFycmF5IjogbnVsbCwgImRhc2hPZmZzZXQiOiBudWxsLCAiZmlsbCI6IHRydWUsICJmaWxsQ29sb3IiOiAiYmx1ZSIsICJmaWxsT3BhY2l0eSI6IDAuNiwgImZpbGxSdWxlIjogImV2ZW5vZGQiLCAibGluZUNhcCI6ICJyb3VuZCIsICJsaW5lSm9pbiI6ICJyb3VuZCIsICJvcGFjaXR5IjogMS4wLCAicmFkaXVzIjogNSwgInN0cm9rZSI6IHRydWUsICJ3ZWlnaHQiOiAzfQogICAgICAgICAgICApLmFkZFRvKGZlYXR1cmVfZ3JvdXBfZWRmZTZmOTQ2NzBjNDRiNWI1OWJjNWU2NDU0OGJmZTgpOwogICAgICAgIAogICAgCiAgICAgICAgICAgIHZhciBjaXJjbGVfbWFya2VyXzRkZDg5MzFiNzBhMDQzN2JiMGE4MjE5MWU3NmI4MmY2ID0gTC5jaXJjbGVNYXJrZXIoCiAgICAgICAgICAgICAgICBbMzcuNzIwOTY2OTYxNTQ5OSwgLTEyMi4zODcxODE2MzU5OTVdLAogICAgICAgICAgICAgICAgeyJidWJibGluZ01vdXNlRXZlbnRzIjogdHJ1ZSwgImNvbG9yIjogInllbGxvdyIsICJkYXNoQXJyYXkiOiBudWxsLCAiZGFzaE9mZnNldCI6IG51bGwsICJmaWxsIjogdHJ1ZSwgImZpbGxDb2xvciI6ICJibHVlIiwgImZpbGxPcGFjaXR5IjogMC42LCAiZmlsbFJ1bGUiOiAiZXZlbm9kZCIsICJsaW5lQ2FwIjogInJvdW5kIiwgImxpbmVKb2luIjogInJvdW5kIiwgIm9wYWNpdHkiOiAxLjAsICJyYWRpdXMiOiA1LCAic3Ryb2tlIjogdHJ1ZSwgIndlaWdodCI6IDN9CiAgICAgICAgICAgICkuYWRkVG8oZmVhdHVyZV9ncm91cF9lZGZlNmY5NDY3MGM0NGI1YjU5YmM1ZTY0NTQ4YmZlOCk7CiAgICAgICAgCiAgICAKICAgICAgICAgICAgdmFyIGNpcmNsZV9tYXJrZXJfYWEzNTEyZDA3ODYzNGU2MDg3ZWQ5NDVjNDY0MGIzMDggPSBMLmNpcmNsZU1hcmtlcigKICAgICAgICAgICAgICAgIFszNy43NjQ0NzgxNTc4Njk1MDUsIC0xMjIuNDc3Mzc2NTI0MDAyOTldLAogICAgICAgICAgICAgICAgeyJidWJibGluZ01vdXNlRXZlbnRzIjogdHJ1ZSwgImNvbG9yIjogInllbGxvdyIsICJkYXNoQXJyYXkiOiBudWxsLCAiZGFzaE9mZnNldCI6IG51bGwsICJmaWxsIjogdHJ1ZSwgImZpbGxDb2xvciI6ICJibHVlIiwgImZpbGxPcGFjaXR5IjogMC42LCAiZmlsbFJ1bGUiOiAiZXZlbm9kZCIsICJsaW5lQ2FwIjogInJvdW5kIiwgImxpbmVKb2luIjogInJvdW5kIiwgIm9wYWNpdHkiOiAxLjAsICJyYWRpdXMiOiA1LCAic3Ryb2tlIjogdHJ1ZSwgIndlaWdodCI6IDN9CiAgICAgICAgICAgICkuYWRkVG8oZmVhdHVyZV9ncm91cF9lZGZlNmY5NDY3MGM0NGI1YjU5YmM1ZTY0NTQ4YmZlOCk7CiAgICAgICAgCiAgICAKICAgICAgICAgICAgdmFyIGNpcmNsZV9tYXJrZXJfZDI4MTg3YzQ5MjkyNGFhNGIwOGUzNDE3MTY1ZWQ1YjkgPSBMLmNpcmNsZU1hcmtlcigKICAgICAgICAgICAgICAgIFszNy43NDU3Mzg5NDI5NjU0OTUsIC0xMjIuNDc3OTYwMzI3Mjk5XSwKICAgICAgICAgICAgICAgIHsiYnViYmxpbmdNb3VzZUV2ZW50cyI6IHRydWUsICJjb2xvciI6ICJ5ZWxsb3ciLCAiZGFzaEFycmF5IjogbnVsbCwgImRhc2hPZmZzZXQiOiBudWxsLCAiZmlsbCI6IHRydWUsICJmaWxsQ29sb3IiOiAiYmx1ZSIsICJmaWxsT3BhY2l0eSI6IDAuNiwgImZpbGxSdWxlIjogImV2ZW5vZGQiLCAibGluZUNhcCI6ICJyb3VuZCIsICJsaW5lSm9pbiI6ICJyb3VuZCIsICJvcGFjaXR5IjogMS4wLCAicmFkaXVzIjogNSwgInN0cm9rZSI6IHRydWUsICJ3ZWlnaHQiOiAzfQogICAgICAgICAgICApLmFkZFRvKGZlYXR1cmVfZ3JvdXBfZWRmZTZmOTQ2NzBjNDRiNWI1OWJjNWU2NDU0OGJmZTgpOwogICAgICAgIAogICAgCiAgICAgICAgICAgIHZhciBjaXJjbGVfbWFya2VyX2U4NDYyZjg2ZmYwNzQ5OGFhNTM1ODUxZjk0OWI2OWM5ID0gTC5jaXJjbGVNYXJrZXIoCiAgICAgICAgICAgICAgICBbMzcuNzM1Njk3MDI3NTQ4MjA2LCAtMTIyLjM3Njc1NzY1NTUzMDAxXSwKICAgICAgICAgICAgICAgIHsiYnViYmxpbmdNb3VzZUV2ZW50cyI6IHRydWUsICJjb2xvciI6ICJ5ZWxsb3ciLCAiZGFzaEFycmF5IjogbnVsbCwgImRhc2hPZmZzZXQiOiBudWxsLCAiZmlsbCI6IHRydWUsICJmaWxsQ29sb3IiOiAiYmx1ZSIsICJmaWxsT3BhY2l0eSI6IDAuNiwgImZpbGxSdWxlIjogImV2ZW5vZGQiLCAibGluZUNhcCI6ICJyb3VuZCIsICJsaW5lSm9pbiI6ICJyb3VuZCIsICJvcGFjaXR5IjogMS4wLCAicmFkaXVzIjogNSwgInN0cm9rZSI6IHRydWUsICJ3ZWlnaHQiOiAzfQogICAgICAgICAgICApLmFkZFRvKGZlYXR1cmVfZ3JvdXBfZWRmZTZmOTQ2NzBjNDRiNWI1OWJjNWU2NDU0OGJmZTgpOwogICAgICAgIAogICAgCiAgICAgICAgICAgIHZhciBjaXJjbGVfbWFya2VyX2VjZWRiYjZmOTQzYTQ2MjU4ZjgxZTNiMGE0ZmYxY2YyID0gTC5jaXJjbGVNYXJrZXIoCiAgICAgICAgICAgICAgICBbMzcuNzI5MjcwNTE5OTU5MiwgLTEyMi40MzIzMjU4NzEwMjhdLAogICAgICAgICAgICAgICAgeyJidWJibGluZ01vdXNlRXZlbnRzIjogdHJ1ZSwgImNvbG9yIjogInllbGxvdyIsICJkYXNoQXJyYXkiOiBudWxsLCAiZGFzaE9mZnNldCI6IG51bGwsICJmaWxsIjogdHJ1ZSwgImZpbGxDb2xvciI6ICJibHVlIiwgImZpbGxPcGFjaXR5IjogMC42LCAiZmlsbFJ1bGUiOiAiZXZlbm9kZCIsICJsaW5lQ2FwIjogInJvdW5kIiwgImxpbmVKb2luIjogInJvdW5kIiwgIm9wYWNpdHkiOiAxLjAsICJyYWRpdXMiOiA1LCAic3Ryb2tlIjogdHJ1ZSwgIndlaWdodCI6IDN9CiAgICAgICAgICAgICkuYWRkVG8oZmVhdHVyZV9ncm91cF9lZGZlNmY5NDY3MGM0NGI1YjU5YmM1ZTY0NTQ4YmZlOCk7CiAgICAgICAgCiAgICAKICAgICAgICAgICAgdmFyIGNpcmNsZV9tYXJrZXJfYjg1Zjc4ZmE4NDFmNDE5Y2IxNTA4OWJjYzRhNWFmMzggPSBMLmNpcmNsZU1hcmtlcigKICAgICAgICAgICAgICAgIFszNy43OTE2NDI5ODIzODQsIC0xMjIuNDAwOTA4Njk4ODg5OTldLAogICAgICAgICAgICAgICAgeyJidWJibGluZ01vdXNlRXZlbnRzIjogdHJ1ZSwgImNvbG9yIjogInllbGxvdyIsICJkYXNoQXJyYXkiOiBudWxsLCAiZGFzaE9mZnNldCI6IG51bGwsICJmaWxsIjogdHJ1ZSwgImZpbGxDb2xvciI6ICJibHVlIiwgImZpbGxPcGFjaXR5IjogMC42LCAiZmlsbFJ1bGUiOiAiZXZlbm9kZCIsICJsaW5lQ2FwIjogInJvdW5kIiwgImxpbmVKb2luIjogInJvdW5kIiwgIm9wYWNpdHkiOiAxLjAsICJyYWRpdXMiOiA1LCAic3Ryb2tlIjogdHJ1ZSwgIndlaWdodCI6IDN9CiAgICAgICAgICAgICkuYWRkVG8oZmVhdHVyZV9ncm91cF9lZGZlNmY5NDY3MGM0NGI1YjU5YmM1ZTY0NTQ4YmZlOCk7CiAgICAgICAgCiAgICAKICAgICAgICAgICAgdmFyIGNpcmNsZV9tYXJrZXJfY2I2YWM4MThmNGZlNDliOGI2OGU1MmViOWJiMzVmYmYgPSBMLmNpcmNsZU1hcmtlcigKICAgICAgICAgICAgICAgIFszNy43ODM3MDY5MzAxNTQ1LCAtMTIyLjQwODU5NTExMDg2OV0sCiAgICAgICAgICAgICAgICB7ImJ1YmJsaW5nTW91c2VFdmVudHMiOiB0cnVlLCAiY29sb3IiOiAieWVsbG93IiwgImRhc2hBcnJheSI6IG51bGwsICJkYXNoT2Zmc2V0IjogbnVsbCwgImZpbGwiOiB0cnVlLCAiZmlsbENvbG9yIjogImJsdWUiLCAiZmlsbE9wYWNpdHkiOiAwLjYsICJmaWxsUnVsZSI6ICJldmVub2RkIiwgImxpbmVDYXAiOiAicm91bmQiLCAibGluZUpvaW4iOiAicm91bmQiLCAib3BhY2l0eSI6IDEuMCwgInJhZGl1cyI6IDUsICJzdHJva2UiOiB0cnVlLCAid2VpZ2h0IjogM30KICAgICAgICAgICAgKS5hZGRUbyhmZWF0dXJlX2dyb3VwX2VkZmU2Zjk0NjcwYzQ0YjViNTliYzVlNjQ1NDhiZmU4KTsKICAgICAgICAKICAgIAogICAgICAgICAgICB2YXIgY2lyY2xlX21hcmtlcl8yZGJiYWNiMzFhNTg0NzBiOGQwZGYyYjZkYjdkMjZlYyA9IEwuY2lyY2xlTWFya2VyKAogICAgICAgICAgICAgICAgWzM3Ljc1NzI4OTU5MDQ1Nzc5NSwgLTEyMi40MDY4NzA0MDIwODJdLAogICAgICAgICAgICAgICAgeyJidWJibGluZ01vdXNlRXZlbnRzIjogdHJ1ZSwgImNvbG9yIjogInllbGxvdyIsICJkYXNoQXJyYXkiOiBudWxsLCAiZGFzaE9mZnNldCI6IG51bGwsICJmaWxsIjogdHJ1ZSwgImZpbGxDb2xvciI6ICJibHVlIiwgImZpbGxPcGFjaXR5IjogMC42LCAiZmlsbFJ1bGUiOiAiZXZlbm9kZCIsICJsaW5lQ2FwIjogInJvdW5kIiwgImxpbmVKb2luIjogInJvdW5kIiwgIm9wYWNpdHkiOiAxLjAsICJyYWRpdXMiOiA1LCAic3Ryb2tlIjogdHJ1ZSwgIndlaWdodCI6IDN9CiAgICAgICAgICAgICkuYWRkVG8oZmVhdHVyZV9ncm91cF9lZGZlNmY5NDY3MGM0NGI1YjU5YmM1ZTY0NTQ4YmZlOCk7CiAgICAgICAgCiAgICAKICAgICAgICAgICAgdmFyIGNpcmNsZV9tYXJrZXJfYzdhZWVlMWE0OTJlNDZmMWFlNzkzM2JjOTE4ZTcxODMgPSBMLmNpcmNsZU1hcmtlcigKICAgICAgICAgICAgICAgIFszNy43NDg5MDYzMDUxODI5LCAtMTIyLjQyMDM1NDc4MDg2MDk5XSwKICAgICAgICAgICAgICAgIHsiYnViYmxpbmdNb3VzZUV2ZW50cyI6IHRydWUsICJjb2xvciI6ICJ5ZWxsb3ciLCAiZGFzaEFycmF5IjogbnVsbCwgImRhc2hPZmZzZXQiOiBudWxsLCAiZmlsbCI6IHRydWUsICJmaWxsQ29sb3IiOiAiYmx1ZSIsICJmaWxsT3BhY2l0eSI6IDAuNiwgImZpbGxSdWxlIjogImV2ZW5vZGQiLCAibGluZUNhcCI6ICJyb3VuZCIsICJsaW5lSm9pbiI6ICJyb3VuZCIsICJvcGFjaXR5IjogMS4wLCAicmFkaXVzIjogNSwgInN0cm9rZSI6IHRydWUsICJ3ZWlnaHQiOiAzfQogICAgICAgICAgICApLmFkZFRvKGZlYXR1cmVfZ3JvdXBfZWRmZTZmOTQ2NzBjNDRiNWI1OWJjNWU2NDU0OGJmZTgpOwogICAgICAgIAogICAgCiAgICAgICAgICAgIHZhciBjaXJjbGVfbWFya2VyXzBkZGYyMmNmYzllOTQ4YzlhNWQzYmU3ODRhMDhmZDJlID0gTC5jaXJjbGVNYXJrZXIoCiAgICAgICAgICAgICAgICBbMzcuNzE1NzY1NDI2OTk1LCAtMTIyLjQzOTkwOTc2Njc3Ml0sCiAgICAgICAgICAgICAgICB7ImJ1YmJsaW5nTW91c2VFdmVudHMiOiB0cnVlLCAiY29sb3IiOiAieWVsbG93IiwgImRhc2hBcnJheSI6IG51bGwsICJkYXNoT2Zmc2V0IjogbnVsbCwgImZpbGwiOiB0cnVlLCAiZmlsbENvbG9yIjogImJsdWUiLCAiZmlsbE9wYWNpdHkiOiAwLjYsICJmaWxsUnVsZSI6ICJldmVub2RkIiwgImxpbmVDYXAiOiAicm91bmQiLCAibGluZUpvaW4iOiAicm91bmQiLCAib3BhY2l0eSI6IDEuMCwgInJhZGl1cyI6IDUsICJzdHJva2UiOiB0cnVlLCAid2VpZ2h0IjogM30KICAgICAgICAgICAgKS5hZGRUbyhmZWF0dXJlX2dyb3VwX2VkZmU2Zjk0NjcwYzQ0YjViNTliYzVlNjQ1NDhiZmU4KTsKICAgICAgICAKICAgIAogICAgICAgICAgICB2YXIgY2lyY2xlX21hcmtlcl8wNjY2ODBlOWZmNjk0ZDE3YWY0OWViYmViYjIzMGJjMiA9IEwuY2lyY2xlTWFya2VyKAogICAgICAgICAgICAgICAgWzM3Ljc4MzU2OTkzODY5MTgsIC0xMjIuNDA4NDIxMTE2OTIyXSwKICAgICAgICAgICAgICAgIHsiYnViYmxpbmdNb3VzZUV2ZW50cyI6IHRydWUsICJjb2xvciI6ICJ5ZWxsb3ciLCAiZGFzaEFycmF5IjogbnVsbCwgImRhc2hPZmZzZXQiOiBudWxsLCAiZmlsbCI6IHRydWUsICJmaWxsQ29sb3IiOiAiYmx1ZSIsICJmaWxsT3BhY2l0eSI6IDAuNiwgImZpbGxSdWxlIjogImV2ZW5vZGQiLCAibGluZUNhcCI6ICJyb3VuZCIsICJsaW5lSm9pbiI6ICJyb3VuZCIsICJvcGFjaXR5IjogMS4wLCAicmFkaXVzIjogNSwgInN0cm9rZSI6IHRydWUsICJ3ZWlnaHQiOiAzfQogICAgICAgICAgICApLmFkZFRvKGZlYXR1cmVfZ3JvdXBfZWRmZTZmOTQ2NzBjNDRiNWI1OWJjNWU2NDU0OGJmZTgpOwogICAgICAgIAogICAgCiAgICAgICAgICAgIHZhciBjaXJjbGVfbWFya2VyXzljNmU1ZWQ3NzU3ZDQ5MWM5Yzk2YzA1ZjE0MjExZmE2ID0gTC5jaXJjbGVNYXJrZXIoCiAgICAgICAgICAgICAgICBbMzcuNzczNjE4NjI3NjQ1NjA0LCAtMTIyLjQyMjMxNTY3MDc0OV0sCiAgICAgICAgICAgICAgICB7ImJ1YmJsaW5nTW91c2VFdmVudHMiOiB0cnVlLCAiY29sb3IiOiAieWVsbG93IiwgImRhc2hBcnJheSI6IG51bGwsICJkYXNoT2Zmc2V0IjogbnVsbCwgImZpbGwiOiB0cnVlLCAiZmlsbENvbG9yIjogImJsdWUiLCAiZmlsbE9wYWNpdHkiOiAwLjYsICJmaWxsUnVsZSI6ICJldmVub2RkIiwgImxpbmVDYXAiOiAicm91bmQiLCAibGluZUpvaW4iOiAicm91bmQiLCAib3BhY2l0eSI6IDEuMCwgInJhZGl1cyI6IDUsICJzdHJva2UiOiB0cnVlLCAid2VpZ2h0IjogM30KICAgICAgICAgICAgKS5hZGRUbyhmZWF0dXJlX2dyb3VwX2VkZmU2Zjk0NjcwYzQ0YjViNTliYzVlNjQ1NDhiZmU4KTsKICAgICAgICAKICAgIAogICAgICAgICAgICB2YXIgY2lyY2xlX21hcmtlcl80OWVlMWE5MmY1ZTU0OThiOGUwNDBkNjk4ZjhiNGI0MiA9IEwuY2lyY2xlTWFya2VyKAogICAgICAgICAgICAgICAgWzM3Ljc5Mjg0MTI4NDA0NDcwNSwgLTEyMi40MjQ1MTk4MzUwMDkwMV0sCiAgICAgICAgICAgICAgICB7ImJ1YmJsaW5nTW91c2VFdmVudHMiOiB0cnVlLCAiY29sb3IiOiAieWVsbG93IiwgImRhc2hBcnJheSI6IG51bGwsICJkYXNoT2Zmc2V0IjogbnVsbCwgImZpbGwiOiB0cnVlLCAiZmlsbENvbG9yIjogImJsdWUiLCAiZmlsbE9wYWNpdHkiOiAwLjYsICJmaWxsUnVsZSI6ICJldmVub2RkIiwgImxpbmVDYXAiOiAicm91bmQiLCAibGluZUpvaW4iOiAicm91bmQiLCAib3BhY2l0eSI6IDEuMCwgInJhZGl1cyI6IDUsICJzdHJva2UiOiB0cnVlLCAid2VpZ2h0IjogM30KICAgICAgICAgICAgKS5hZGRUbyhmZWF0dXJlX2dyb3VwX2VkZmU2Zjk0NjcwYzQ0YjViNTliYzVlNjQ1NDhiZmU4KTsKICAgICAgICAKICAgIAogICAgICAgICAgICB2YXIgY2lyY2xlX21hcmtlcl8wNjY1NDgzYTBmNTQ0MDYxYTRjZjcyMzdlYTFmNTdjYSA9IEwuY2lyY2xlTWFya2VyKAogICAgICAgICAgICAgICAgWzM3Ljc1NDA5ODY4ODIwNjc5NSwgLTEyMi40MTQyMzM4NDkwMzc5OF0sCiAgICAgICAgICAgICAgICB7ImJ1YmJsaW5nTW91c2VFdmVudHMiOiB0cnVlLCAiY29sb3IiOiAieWVsbG93IiwgImRhc2hBcnJheSI6IG51bGwsICJkYXNoT2Zmc2V0IjogbnVsbCwgImZpbGwiOiB0cnVlLCAiZmlsbENvbG9yIjogImJsdWUiLCAiZmlsbE9wYWNpdHkiOiAwLjYsICJmaWxsUnVsZSI6ICJldmVub2RkIiwgImxpbmVDYXAiOiAicm91bmQiLCAibGluZUpvaW4iOiAicm91bmQiLCAib3BhY2l0eSI6IDEuMCwgInJhZGl1cyI6IDUsICJzdHJva2UiOiB0cnVlLCAid2VpZ2h0IjogM30KICAgICAgICAgICAgKS5hZGRUbyhmZWF0dXJlX2dyb3VwX2VkZmU2Zjk0NjcwYzQ0YjViNTliYzVlNjQ1NDhiZmU4KTsKICAgICAgICAKICAgIAogICAgICAgICAgICB2YXIgY2lyY2xlX21hcmtlcl85NWU1ZGU4YTllZTU0OGMzYmJkYjVlZDBhMjZiM2I2YSA9IEwuY2lyY2xlTWFya2VyKAogICAgICAgICAgICAgICAgWzM3Ljc1NDA5ODY4ODIwNjc5NSwgLTEyMi40MTQyMzM4NDkwMzc5OF0sCiAgICAgICAgICAgICAgICB7ImJ1YmJsaW5nTW91c2VFdmVudHMiOiB0cnVlLCAiY29sb3IiOiAieWVsbG93IiwgImRhc2hBcnJheSI6IG51bGwsICJkYXNoT2Zmc2V0IjogbnVsbCwgImZpbGwiOiB0cnVlLCAiZmlsbENvbG9yIjogImJsdWUiLCAiZmlsbE9wYWNpdHkiOiAwLjYsICJmaWxsUnVsZSI6ICJldmVub2RkIiwgImxpbmVDYXAiOiAicm91bmQiLCAibGluZUpvaW4iOiAicm91bmQiLCAib3BhY2l0eSI6IDEuMCwgInJhZGl1cyI6IDUsICJzdHJva2UiOiB0cnVlLCAid2VpZ2h0IjogM30KICAgICAgICAgICAgKS5hZGRUbyhmZWF0dXJlX2dyb3VwX2VkZmU2Zjk0NjcwYzQ0YjViNTliYzVlNjQ1NDhiZmU4KTsKICAgICAgICAKICAgIAogICAgICAgICAgICB2YXIgY2lyY2xlX21hcmtlcl9iMDg5MzU3YjI5ZDY0MDM0ODk5ZjQ2MjU1ZWI3YjY0NiA9IEwuY2lyY2xlTWFya2VyKAogICAgICAgICAgICAgICAgWzM3Ljc3MTQ5Mzk5Njk0MTYsIC0xMjIuNTA3NzUwMTMxMDA0MDJdLAogICAgICAgICAgICAgICAgeyJidWJibGluZ01vdXNlRXZlbnRzIjogdHJ1ZSwgImNvbG9yIjogInllbGxvdyIsICJkYXNoQXJyYXkiOiBudWxsLCAiZGFzaE9mZnNldCI6IG51bGwsICJmaWxsIjogdHJ1ZSwgImZpbGxDb2xvciI6ICJibHVlIiwgImZpbGxPcGFjaXR5IjogMC42LCAiZmlsbFJ1bGUiOiAiZXZlbm9kZCIsICJsaW5lQ2FwIjogInJvdW5kIiwgImxpbmVKb2luIjogInJvdW5kIiwgIm9wYWNpdHkiOiAxLjAsICJyYWRpdXMiOiA1LCAic3Ryb2tlIjogdHJ1ZSwgIndlaWdodCI6IDN9CiAgICAgICAgICAgICkuYWRkVG8oZmVhdHVyZV9ncm91cF9lZGZlNmY5NDY3MGM0NGI1YjU5YmM1ZTY0NTQ4YmZlOCk7CiAgICAgICAgCiAgICAKICAgICAgICAgICAgdmFyIGNpcmNsZV9tYXJrZXJfOGRhZDRjNWI3NWY0NDZkY2IyNWMzNWJjNDM2NGQ3NWIgPSBMLmNpcmNsZU1hcmtlcigKICAgICAgICAgICAgICAgIFszNy43MTgzMDIyMDQ3NjYwMDUsIC0xMjIuNDc0NDQ0NjM5NTk0OTldLAogICAgICAgICAgICAgICAgeyJidWJibGluZ01vdXNlRXZlbnRzIjogdHJ1ZSwgImNvbG9yIjogInllbGxvdyIsICJkYXNoQXJyYXkiOiBudWxsLCAiZGFzaE9mZnNldCI6IG51bGwsICJmaWxsIjogdHJ1ZSwgImZpbGxDb2xvciI6ICJibHVlIiwgImZpbGxPcGFjaXR5IjogMC42LCAiZmlsbFJ1bGUiOiAiZXZlbm9kZCIsICJsaW5lQ2FwIjogInJvdW5kIiwgImxpbmVKb2luIjogInJvdW5kIiwgIm9wYWNpdHkiOiAxLjAsICJyYWRpdXMiOiA1LCAic3Ryb2tlIjogdHJ1ZSwgIndlaWdodCI6IDN9CiAgICAgICAgICAgICkuYWRkVG8oZmVhdHVyZV9ncm91cF9lZGZlNmY5NDY3MGM0NGI1YjU5YmM1ZTY0NTQ4YmZlOCk7CiAgICAgICAgCiAgICAKICAgICAgICAgICAgdmFyIGNpcmNsZV9tYXJrZXJfYTgwYzAzNzU2ZDRhNGQzODhkOTkxMmIyY2E2NzUzYzQgPSBMLmNpcmNsZU1hcmtlcigKICAgICAgICAgICAgICAgIFszNy43NjQ1NzUyMzE3NjE1LCAtMTIyLjQyNzU2MjU5Njk4NV0sCiAgICAgICAgICAgICAgICB7ImJ1YmJsaW5nTW91c2VFdmVudHMiOiB0cnVlLCAiY29sb3IiOiAieWVsbG93IiwgImRhc2hBcnJheSI6IG51bGwsICJkYXNoT2Zmc2V0IjogbnVsbCwgImZpbGwiOiB0cnVlLCAiZmlsbENvbG9yIjogImJsdWUiLCAiZmlsbE9wYWNpdHkiOiAwLjYsICJmaWxsUnVsZSI6ICJldmVub2RkIiwgImxpbmVDYXAiOiAicm91bmQiLCAibGluZUpvaW4iOiAicm91bmQiLCAib3BhY2l0eSI6IDEuMCwgInJhZGl1cyI6IDUsICJzdHJva2UiOiB0cnVlLCAid2VpZ2h0IjogM30KICAgICAgICAgICAgKS5hZGRUbyhmZWF0dXJlX2dyb3VwX2VkZmU2Zjk0NjcwYzQ0YjViNTliYzVlNjQ1NDhiZmU4KTsKICAgICAgICAKICAgIAogICAgICAgICAgICB2YXIgY2lyY2xlX21hcmtlcl85Y2I2NWIyMDhmM2E0YzQ4OTEwYzJhNTE2ZWZiZTVmYyA9IEwuY2lyY2xlTWFya2VyKAogICAgICAgICAgICAgICAgWzM3Ljc4NzQzNzgzMDkxMTIsIC0xMjIuNDE5MjAzMDA0MjY4XSwKICAgICAgICAgICAgICAgIHsiYnViYmxpbmdNb3VzZUV2ZW50cyI6IHRydWUsICJjb2xvciI6ICJ5ZWxsb3ciLCAiZGFzaEFycmF5IjogbnVsbCwgImRhc2hPZmZzZXQiOiBudWxsLCAiZmlsbCI6IHRydWUsICJmaWxsQ29sb3IiOiAiYmx1ZSIsICJmaWxsT3BhY2l0eSI6IDAuNiwgImZpbGxSdWxlIjogImV2ZW5vZGQiLCAibGluZUNhcCI6ICJyb3VuZCIsICJsaW5lSm9pbiI6ICJyb3VuZCIsICJvcGFjaXR5IjogMS4wLCAicmFkaXVzIjogNSwgInN0cm9rZSI6IHRydWUsICJ3ZWlnaHQiOiAzfQogICAgICAgICAgICApLmFkZFRvKGZlYXR1cmVfZ3JvdXBfZWRmZTZmOTQ2NzBjNDRiNWI1OWJjNWU2NDU0OGJmZTgpOwogICAgICAgIAogICAgCiAgICAgICAgICAgIHZhciBjaXJjbGVfbWFya2VyX2U2YjQwMmU0OWVjZTQ4ZjZhYWU1MWVlNzIyNWZlMzM2ID0gTC5jaXJjbGVNYXJrZXIoCiAgICAgICAgICAgICAgICBbMzcuNzQ5MzY4ODI4NDUzMiwgLTEyMi40MTI2OTAxNDIzMDgwMV0sCiAgICAgICAgICAgICAgICB7ImJ1YmJsaW5nTW91c2VFdmVudHMiOiB0cnVlLCAiY29sb3IiOiAieWVsbG93IiwgImRhc2hBcnJheSI6IG51bGwsICJkYXNoT2Zmc2V0IjogbnVsbCwgImZpbGwiOiB0cnVlLCAiZmlsbENvbG9yIjogImJsdWUiLCAiZmlsbE9wYWNpdHkiOiAwLjYsICJmaWxsUnVsZSI6ICJldmVub2RkIiwgImxpbmVDYXAiOiAicm91bmQiLCAibGluZUpvaW4iOiAicm91bmQiLCAib3BhY2l0eSI6IDEuMCwgInJhZGl1cyI6IDUsICJzdHJva2UiOiB0cnVlLCAid2VpZ2h0IjogM30KICAgICAgICAgICAgKS5hZGRUbyhmZWF0dXJlX2dyb3VwX2VkZmU2Zjk0NjcwYzQ0YjViNTliYzVlNjQ1NDhiZmU4KTsKICAgICAgICAKICAgIAogICAgICAgICAgICB2YXIgY2lyY2xlX21hcmtlcl9jMDJlZjA2ZWJhMzM0YWU3YTEyNzFiYzc1ZTQwOTM1YyA9IEwuY2lyY2xlTWFya2VyKAogICAgICAgICAgICAgICAgWzM3LjcwOTIwMTA0NjIzNzksIC0xMjIuNDM0NjA5MjgwMzUyXSwKICAgICAgICAgICAgICAgIHsiYnViYmxpbmdNb3VzZUV2ZW50cyI6IHRydWUsICJjb2xvciI6ICJ5ZWxsb3ciLCAiZGFzaEFycmF5IjogbnVsbCwgImRhc2hPZmZzZXQiOiBudWxsLCAiZmlsbCI6IHRydWUsICJmaWxsQ29sb3IiOiAiYmx1ZSIsICJmaWxsT3BhY2l0eSI6IDAuNiwgImZpbGxSdWxlIjogImV2ZW5vZGQiLCAibGluZUNhcCI6ICJyb3VuZCIsICJsaW5lSm9pbiI6ICJyb3VuZCIsICJvcGFjaXR5IjogMS4wLCAicmFkaXVzIjogNSwgInN0cm9rZSI6IHRydWUsICJ3ZWlnaHQiOiAzfQogICAgICAgICAgICApLmFkZFRvKGZlYXR1cmVfZ3JvdXBfZWRmZTZmOTQ2NzBjNDRiNWI1OWJjNWU2NDU0OGJmZTgpOwogICAgICAgIAogICAgCiAgICAgICAgICAgIHZhciBjaXJjbGVfbWFya2VyXzE2ZmZhY2ZkZjE0ZjRiYWI4MTc4MGJhNzg3MmMxZGJmID0gTC5jaXJjbGVNYXJrZXIoCiAgICAgICAgICAgICAgICBbMzcuNzg3OTIwOTM3NTUzMjk1LCAtMTIyLjQxMDg4MjgyNTU1MV0sCiAgICAgICAgICAgICAgICB7ImJ1YmJsaW5nTW91c2VFdmVudHMiOiB0cnVlLCAiY29sb3IiOiAieWVsbG93IiwgImRhc2hBcnJheSI6IG51bGwsICJkYXNoT2Zmc2V0IjogbnVsbCwgImZpbGwiOiB0cnVlLCAiZmlsbENvbG9yIjogImJsdWUiLCAiZmlsbE9wYWNpdHkiOiAwLjYsICJmaWxsUnVsZSI6ICJldmVub2RkIiwgImxpbmVDYXAiOiAicm91bmQiLCAibGluZUpvaW4iOiAicm91bmQiLCAib3BhY2l0eSI6IDEuMCwgInJhZGl1cyI6IDUsICJzdHJva2UiOiB0cnVlLCAid2VpZ2h0IjogM30KICAgICAgICAgICAgKS5hZGRUbyhmZWF0dXJlX2dyb3VwX2VkZmU2Zjk0NjcwYzQ0YjViNTliYzVlNjQ1NDhiZmU4KTsKICAgICAgICAKICAgIAogICAgICAgICAgICB2YXIgY2lyY2xlX21hcmtlcl8yZmY5ZDVhZTVjMWI0OWJkYmZmOWRiOGJkMmZkNDdhZiA9IEwuY2lyY2xlTWFya2VyKAogICAgICAgICAgICAgICAgWzM3LjgwMDQ1NjY0NzEwMzg5LCAtMTIyLjQwMTQzMjc1NDcyMjAxXSwKICAgICAgICAgICAgICAgIHsiYnViYmxpbmdNb3VzZUV2ZW50cyI6IHRydWUsICJjb2xvciI6ICJ5ZWxsb3ciLCAiZGFzaEFycmF5IjogbnVsbCwgImRhc2hPZmZzZXQiOiBudWxsLCAiZmlsbCI6IHRydWUsICJmaWxsQ29sb3IiOiAiYmx1ZSIsICJmaWxsT3BhY2l0eSI6IDAuNiwgImZpbGxSdWxlIjogImV2ZW5vZGQiLCAibGluZUNhcCI6ICJyb3VuZCIsICJsaW5lSm9pbiI6ICJyb3VuZCIsICJvcGFjaXR5IjogMS4wLCAicmFkaXVzIjogNSwgInN0cm9rZSI6IHRydWUsICJ3ZWlnaHQiOiAzfQogICAgICAgICAgICApLmFkZFRvKGZlYXR1cmVfZ3JvdXBfZWRmZTZmOTQ2NzBjNDRiNWI1OWJjNWU2NDU0OGJmZTgpOwogICAgICAgIAogICAgCiAgICAgICAgICAgIHZhciBjaXJjbGVfbWFya2VyXzk1MzM5MjkwODNlZjQ3NjU5ZmZmYWQ4NzRmN2U0NmFmID0gTC5jaXJjbGVNYXJrZXIoCiAgICAgICAgICAgICAgICBbMzcuNzQzNTU1MDU0MjI2NSwgLTEyMi40MjExMjgwMjk1MDVdLAogICAgICAgICAgICAgICAgeyJidWJibGluZ01vdXNlRXZlbnRzIjogdHJ1ZSwgImNvbG9yIjogInllbGxvdyIsICJkYXNoQXJyYXkiOiBudWxsLCAiZGFzaE9mZnNldCI6IG51bGwsICJmaWxsIjogdHJ1ZSwgImZpbGxDb2xvciI6ICJibHVlIiwgImZpbGxPcGFjaXR5IjogMC42LCAiZmlsbFJ1bGUiOiAiZXZlbm9kZCIsICJsaW5lQ2FwIjogInJvdW5kIiwgImxpbmVKb2luIjogInJvdW5kIiwgIm9wYWNpdHkiOiAxLjAsICJyYWRpdXMiOiA1LCAic3Ryb2tlIjogdHJ1ZSwgIndlaWdodCI6IDN9CiAgICAgICAgICAgICkuYWRkVG8oZmVhdHVyZV9ncm91cF9lZGZlNmY5NDY3MGM0NGI1YjU5YmM1ZTY0NTQ4YmZlOCk7CiAgICAgICAgCiAgICAKICAgICAgICAgICAgdmFyIGNpcmNsZV9tYXJrZXJfYWM4ODAxNjQ0MWU1NGZlOGI2NTM0YTA5Y2FkOTc0YjAgPSBMLmNpcmNsZU1hcmtlcigKICAgICAgICAgICAgICAgIFszNy43ODY1NjQ3NjA3Njg1LCAtMTIyLjQwNzI0NDA4NzAzMl0sCiAgICAgICAgICAgICAgICB7ImJ1YmJsaW5nTW91c2VFdmVudHMiOiB0cnVlLCAiY29sb3IiOiAieWVsbG93IiwgImRhc2hBcnJheSI6IG51bGwsICJkYXNoT2Zmc2V0IjogbnVsbCwgImZpbGwiOiB0cnVlLCAiZmlsbENvbG9yIjogImJsdWUiLCAiZmlsbE9wYWNpdHkiOiAwLjYsICJmaWxsUnVsZSI6ICJldmVub2RkIiwgImxpbmVDYXAiOiAicm91bmQiLCAibGluZUpvaW4iOiAicm91bmQiLCAib3BhY2l0eSI6IDEuMCwgInJhZGl1cyI6IDUsICJzdHJva2UiOiB0cnVlLCAid2VpZ2h0IjogM30KICAgICAgICAgICAgKS5hZGRUbyhmZWF0dXJlX2dyb3VwX2VkZmU2Zjk0NjcwYzQ0YjViNTliYzVlNjQ1NDhiZmU4KTsKICAgICAgICAKICAgIAogICAgICAgICAgICB2YXIgY2lyY2xlX21hcmtlcl9mY2UzZjAzYmJlNWY0NzE0OTE0NmMzYTAyYzA3NDkwYyA9IEwuY2lyY2xlTWFya2VyKAogICAgICAgICAgICAgICAgWzM3Ljc2MTU2NTU5MjgwNDUsIC0xMjIuNDIzODAzMDAxOTAwOTldLAogICAgICAgICAgICAgICAgeyJidWJibGluZ01vdXNlRXZlbnRzIjogdHJ1ZSwgImNvbG9yIjogInllbGxvdyIsICJkYXNoQXJyYXkiOiBudWxsLCAiZGFzaE9mZnNldCI6IG51bGwsICJmaWxsIjogdHJ1ZSwgImZpbGxDb2xvciI6ICJibHVlIiwgImZpbGxPcGFjaXR5IjogMC42LCAiZmlsbFJ1bGUiOiAiZXZlbm9kZCIsICJsaW5lQ2FwIjogInJvdW5kIiwgImxpbmVKb2luIjogInJvdW5kIiwgIm9wYWNpdHkiOiAxLjAsICJyYWRpdXMiOiA1LCAic3Ryb2tlIjogdHJ1ZSwgIndlaWdodCI6IDN9CiAgICAgICAgICAgICkuYWRkVG8oZmVhdHVyZV9ncm91cF9lZGZlNmY5NDY3MGM0NGI1YjU5YmM1ZTY0NTQ4YmZlOCk7CiAgICAgICAgCiAgICAKICAgICAgICAgICAgdmFyIGNpcmNsZV9tYXJrZXJfNzlmMzU2NDAxN2UyNGE0ODhmMWQ4MmRmMGU0NWQwZWYgPSBMLmNpcmNsZU1hcmtlcigKICAgICAgICAgICAgICAgIFszNy43NjE1NjU1OTI4MDQ1LCAtMTIyLjQyMzgwMzAwMTkwMDk5XSwKICAgICAgICAgICAgICAgIHsiYnViYmxpbmdNb3VzZUV2ZW50cyI6IHRydWUsICJjb2xvciI6ICJ5ZWxsb3ciLCAiZGFzaEFycmF5IjogbnVsbCwgImRhc2hPZmZzZXQiOiBudWxsLCAiZmlsbCI6IHRydWUsICJmaWxsQ29sb3IiOiAiYmx1ZSIsICJmaWxsT3BhY2l0eSI6IDAuNiwgImZpbGxSdWxlIjogImV2ZW5vZGQiLCAibGluZUNhcCI6ICJyb3VuZCIsICJsaW5lSm9pbiI6ICJyb3VuZCIsICJvcGFjaXR5IjogMS4wLCAicmFkaXVzIjogNSwgInN0cm9rZSI6IHRydWUsICJ3ZWlnaHQiOiAzfQogICAgICAgICAgICApLmFkZFRvKGZlYXR1cmVfZ3JvdXBfZWRmZTZmOTQ2NzBjNDRiNWI1OWJjNWU2NDU0OGJmZTgpOwogICAgICAgIAogICAgCiAgICAgICAgICAgIHZhciBjaXJjbGVfbWFya2VyXzM4MmVmMjdhNzJjNzRmNWM4ZGFiMzRhODc5MTRhYmNmID0gTC5jaXJjbGVNYXJrZXIoCiAgICAgICAgICAgICAgICBbMzcuNzQ0MTkyNzUwODkzMjA1LCAtMTIyLjQ0NDY4NTQ4MjI3M10sCiAgICAgICAgICAgICAgICB7ImJ1YmJsaW5nTW91c2VFdmVudHMiOiB0cnVlLCAiY29sb3IiOiAieWVsbG93IiwgImRhc2hBcnJheSI6IG51bGwsICJkYXNoT2Zmc2V0IjogbnVsbCwgImZpbGwiOiB0cnVlLCAiZmlsbENvbG9yIjogImJsdWUiLCAiZmlsbE9wYWNpdHkiOiAwLjYsICJmaWxsUnVsZSI6ICJldmVub2RkIiwgImxpbmVDYXAiOiAicm91bmQiLCAibGluZUpvaW4iOiAicm91bmQiLCAib3BhY2l0eSI6IDEuMCwgInJhZGl1cyI6IDUsICJzdHJva2UiOiB0cnVlLCAid2VpZ2h0IjogM30KICAgICAgICAgICAgKS5hZGRUbyhmZWF0dXJlX2dyb3VwX2VkZmU2Zjk0NjcwYzQ0YjViNTliYzVlNjQ1NDhiZmU4KTsKICAgICAgICAKICAgIAogICAgICAgICAgICB2YXIgY2lyY2xlX21hcmtlcl9kYzk1OTQ5ODg2OGI0YmIyOWZhNWZkYWU2NTdhMjZkNyA9IEwuY2lyY2xlTWFya2VyKAogICAgICAgICAgICAgICAgWzM3Ljc3NTQ2OTI4MjAwNDEsIC0xMjIuNDE1NzU3MDM5MTk2XSwKICAgICAgICAgICAgICAgIHsiYnViYmxpbmdNb3VzZUV2ZW50cyI6IHRydWUsICJjb2xvciI6ICJ5ZWxsb3ciLCAiZGFzaEFycmF5IjogbnVsbCwgImRhc2hPZmZzZXQiOiBudWxsLCAiZmlsbCI6IHRydWUsICJmaWxsQ29sb3IiOiAiYmx1ZSIsICJmaWxsT3BhY2l0eSI6IDAuNiwgImZpbGxSdWxlIjogImV2ZW5vZGQiLCAibGluZUNhcCI6ICJyb3VuZCIsICJsaW5lSm9pbiI6ICJyb3VuZCIsICJvcGFjaXR5IjogMS4wLCAicmFkaXVzIjogNSwgInN0cm9rZSI6IHRydWUsICJ3ZWlnaHQiOiAzfQogICAgICAgICAgICApLmFkZFRvKGZlYXR1cmVfZ3JvdXBfZWRmZTZmOTQ2NzBjNDRiNWI1OWJjNWU2NDU0OGJmZTgpOwogICAgICAgIAogICAgCiAgICAgICAgICAgIHZhciBjaXJjbGVfbWFya2VyXzM3NTM3NTQ3YzYxMTRlNzU4YzIzNmJjYmFjYzI1MzE5ID0gTC5jaXJjbGVNYXJrZXIoCiAgICAgICAgICAgICAgICBbMzcuNzI4NTI4MDYyNzQ2NSwgLTEyMi40NzU2NDc0NjA3ODU5OV0sCiAgICAgICAgICAgICAgICB7ImJ1YmJsaW5nTW91c2VFdmVudHMiOiB0cnVlLCAiY29sb3IiOiAieWVsbG93IiwgImRhc2hBcnJheSI6IG51bGwsICJkYXNoT2Zmc2V0IjogbnVsbCwgImZpbGwiOiB0cnVlLCAiZmlsbENvbG9yIjogImJsdWUiLCAiZmlsbE9wYWNpdHkiOiAwLjYsICJmaWxsUnVsZSI6ICJldmVub2RkIiwgImxpbmVDYXAiOiAicm91bmQiLCAibGluZUpvaW4iOiAicm91bmQiLCAib3BhY2l0eSI6IDEuMCwgInJhZGl1cyI6IDUsICJzdHJva2UiOiB0cnVlLCAid2VpZ2h0IjogM30KICAgICAgICAgICAgKS5hZGRUbyhmZWF0dXJlX2dyb3VwX2VkZmU2Zjk0NjcwYzQ0YjViNTliYzVlNjQ1NDhiZmU4KTsKICAgICAgICAKICAgIAogICAgICAgICAgICB2YXIgY2lyY2xlX21hcmtlcl8yZGQzNGU5ZGQwOGY0OTg4YjViMGYzNTgxYWFhMGQyNSA9IEwuY2lyY2xlTWFya2VyKAogICAgICAgICAgICAgICAgWzM3Ljc0Mjg1MTczNzQ0NDg5NCwgLTEyMi40MjA5Njc0NDA1NjRdLAogICAgICAgICAgICAgICAgeyJidWJibGluZ01vdXNlRXZlbnRzIjogdHJ1ZSwgImNvbG9yIjogInllbGxvdyIsICJkYXNoQXJyYXkiOiBudWxsLCAiZGFzaE9mZnNldCI6IG51bGwsICJmaWxsIjogdHJ1ZSwgImZpbGxDb2xvciI6ICJibHVlIiwgImZpbGxPcGFjaXR5IjogMC42LCAiZmlsbFJ1bGUiOiAiZXZlbm9kZCIsICJsaW5lQ2FwIjogInJvdW5kIiwgImxpbmVKb2luIjogInJvdW5kIiwgIm9wYWNpdHkiOiAxLjAsICJyYWRpdXMiOiA1LCAic3Ryb2tlIjogdHJ1ZSwgIndlaWdodCI6IDN9CiAgICAgICAgICAgICkuYWRkVG8oZmVhdHVyZV9ncm91cF9lZGZlNmY5NDY3MGM0NGI1YjU5YmM1ZTY0NTQ4YmZlOCk7CiAgICAgICAgCiAgICAKICAgICAgICAgICAgdmFyIGNpcmNsZV9tYXJrZXJfMjdhYTQ2YmFiNjA2NDJhZmFmNmFmMmRmYzg3NGQ0OTEgPSBMLmNpcmNsZU1hcmtlcigKICAgICAgICAgICAgICAgIFszNy43ODIxMTk4NDg4OTMxLCAtMTIyLjQxNTY2OTY2MTQ0M10sCiAgICAgICAgICAgICAgICB7ImJ1YmJsaW5nTW91c2VFdmVudHMiOiB0cnVlLCAiY29sb3IiOiAieWVsbG93IiwgImRhc2hBcnJheSI6IG51bGwsICJkYXNoT2Zmc2V0IjogbnVsbCwgImZpbGwiOiB0cnVlLCAiZmlsbENvbG9yIjogImJsdWUiLCAiZmlsbE9wYWNpdHkiOiAwLjYsICJmaWxsUnVsZSI6ICJldmVub2RkIiwgImxpbmVDYXAiOiAicm91bmQiLCAibGluZUpvaW4iOiAicm91bmQiLCAib3BhY2l0eSI6IDEuMCwgInJhZGl1cyI6IDUsICJzdHJva2UiOiB0cnVlLCAid2VpZ2h0IjogM30KICAgICAgICAgICAgKS5hZGRUbyhmZWF0dXJlX2dyb3VwX2VkZmU2Zjk0NjcwYzQ0YjViNTliYzVlNjQ1NDhiZmU4KTsKICAgICAgICAKICAgIAogICAgICAgICAgICB2YXIgY2lyY2xlX21hcmtlcl81NDE4YzgxZmIyNTA0NDMzODc3MDQ1MWVjZmI5MTU2ZSA9IEwuY2lyY2xlTWFya2VyKAogICAgICAgICAgICAgICAgWzM3Ljc3OTE2NzQyMTg5NjMsIC0xMjIuNDA2MzQ2NDI1NjMyXSwKICAgICAgICAgICAgICAgIHsiYnViYmxpbmdNb3VzZUV2ZW50cyI6IHRydWUsICJjb2xvciI6ICJ5ZWxsb3ciLCAiZGFzaEFycmF5IjogbnVsbCwgImRhc2hPZmZzZXQiOiBudWxsLCAiZmlsbCI6IHRydWUsICJmaWxsQ29sb3IiOiAiYmx1ZSIsICJmaWxsT3BhY2l0eSI6IDAuNiwgImZpbGxSdWxlIjogImV2ZW5vZGQiLCAibGluZUNhcCI6ICJyb3VuZCIsICJsaW5lSm9pbiI6ICJyb3VuZCIsICJvcGFjaXR5IjogMS4wLCAicmFkaXVzIjogNSwgInN0cm9rZSI6IHRydWUsICJ3ZWlnaHQiOiAzfQogICAgICAgICAgICApLmFkZFRvKGZlYXR1cmVfZ3JvdXBfZWRmZTZmOTQ2NzBjNDRiNWI1OWJjNWU2NDU0OGJmZTgpOwogICAgICAgIAogICAgCiAgICAgICAgICAgIHZhciBjaXJjbGVfbWFya2VyX2FhNjIzNTUxNGQzZjRiMDA5NWUyNjcyOWZkNjkwZTViID0gTC5jaXJjbGVNYXJrZXIoCiAgICAgICAgICAgICAgICBbMzcuNzY1NzE4NDM5NTI4MiwgLTEyMi40MDk1Mjk5MTMyNzhdLAogICAgICAgICAgICAgICAgeyJidWJibGluZ01vdXNlRXZlbnRzIjogdHJ1ZSwgImNvbG9yIjogInllbGxvdyIsICJkYXNoQXJyYXkiOiBudWxsLCAiZGFzaE9mZnNldCI6IG51bGwsICJmaWxsIjogdHJ1ZSwgImZpbGxDb2xvciI6ICJibHVlIiwgImZpbGxPcGFjaXR5IjogMC42LCAiZmlsbFJ1bGUiOiAiZXZlbm9kZCIsICJsaW5lQ2FwIjogInJvdW5kIiwgImxpbmVKb2luIjogInJvdW5kIiwgIm9wYWNpdHkiOiAxLjAsICJyYWRpdXMiOiA1LCAic3Ryb2tlIjogdHJ1ZSwgIndlaWdodCI6IDN9CiAgICAgICAgICAgICkuYWRkVG8oZmVhdHVyZV9ncm91cF9lZGZlNmY5NDY3MGM0NGI1YjU5YmM1ZTY0NTQ4YmZlOCk7CiAgICAgICAgCiAgICAKICAgICAgICAgICAgdmFyIGNpcmNsZV9tYXJrZXJfMGI4Mzg2YTA4ZjBmNDU4MWEyOGE1ZWZiZWEwMDAxM2IgPSBMLmNpcmNsZU1hcmtlcigKICAgICAgICAgICAgICAgIFszNy43NzU0MjA3MDY3MTEsIC0xMjIuNDAzNDA0NzkxNDc4OTldLAogICAgICAgICAgICAgICAgeyJidWJibGluZ01vdXNlRXZlbnRzIjogdHJ1ZSwgImNvbG9yIjogInllbGxvdyIsICJkYXNoQXJyYXkiOiBudWxsLCAiZGFzaE9mZnNldCI6IG51bGwsICJmaWxsIjogdHJ1ZSwgImZpbGxDb2xvciI6ICJibHVlIiwgImZpbGxPcGFjaXR5IjogMC42LCAiZmlsbFJ1bGUiOiAiZXZlbm9kZCIsICJsaW5lQ2FwIjogInJvdW5kIiwgImxpbmVKb2luIjogInJvdW5kIiwgIm9wYWNpdHkiOiAxLjAsICJyYWRpdXMiOiA1LCAic3Ryb2tlIjogdHJ1ZSwgIndlaWdodCI6IDN9CiAgICAgICAgICAgICkuYWRkVG8oZmVhdHVyZV9ncm91cF9lZGZlNmY5NDY3MGM0NGI1YjU5YmM1ZTY0NTQ4YmZlOCk7CiAgICAgICAgCiAgICAKICAgICAgICAgICAgdmFyIGNpcmNsZV9tYXJrZXJfMmQzN2NlNmI5NmJlNDFmMzk3Zjc3MjQ4Yjc5MTA4MzEgPSBMLmNpcmNsZU1hcmtlcigKICAgICAgICAgICAgICAgIFszNy43Njc1MjQzMDg3ODMsIC0xMjIuNDEwNzM4MDk3MzE1XSwKICAgICAgICAgICAgICAgIHsiYnViYmxpbmdNb3VzZUV2ZW50cyI6IHRydWUsICJjb2xvciI6ICJ5ZWxsb3ciLCAiZGFzaEFycmF5IjogbnVsbCwgImRhc2hPZmZzZXQiOiBudWxsLCAiZmlsbCI6IHRydWUsICJmaWxsQ29sb3IiOiAiYmx1ZSIsICJmaWxsT3BhY2l0eSI6IDAuNiwgImZpbGxSdWxlIjogImV2ZW5vZGQiLCAibGluZUNhcCI6ICJyb3VuZCIsICJsaW5lSm9pbiI6ICJyb3VuZCIsICJvcGFjaXR5IjogMS4wLCAicmFkaXVzIjogNSwgInN0cm9rZSI6IHRydWUsICJ3ZWlnaHQiOiAzfQogICAgICAgICAgICApLmFkZFRvKGZlYXR1cmVfZ3JvdXBfZWRmZTZmOTQ2NzBjNDRiNWI1OWJjNWU2NDU0OGJmZTgpOwogICAgICAgIAogICAgCiAgICAgICAgICAgIHZhciBjaXJjbGVfbWFya2VyX2IwODY1NzhjZGFjODQ0ZTQ4NzkwY2MxNmY3NWRiY2ZhID0gTC5jaXJjbGVNYXJrZXIoCiAgICAgICAgICAgICAgICBbMzcuNzY3NTI0MzA4NzgzLCAtMTIyLjQxMDczODA5NzMxNV0sCiAgICAgICAgICAgICAgICB7ImJ1YmJsaW5nTW91c2VFdmVudHMiOiB0cnVlLCAiY29sb3IiOiAieWVsbG93IiwgImRhc2hBcnJheSI6IG51bGwsICJkYXNoT2Zmc2V0IjogbnVsbCwgImZpbGwiOiB0cnVlLCAiZmlsbENvbG9yIjogImJsdWUiLCAiZmlsbE9wYWNpdHkiOiAwLjYsICJmaWxsUnVsZSI6ICJldmVub2RkIiwgImxpbmVDYXAiOiAicm91bmQiLCAibGluZUpvaW4iOiAicm91bmQiLCAib3BhY2l0eSI6IDEuMCwgInJhZGl1cyI6IDUsICJzdHJva2UiOiB0cnVlLCAid2VpZ2h0IjogM30KICAgICAgICAgICAgKS5hZGRUbyhmZWF0dXJlX2dyb3VwX2VkZmU2Zjk0NjcwYzQ0YjViNTliYzVlNjQ1NDhiZmU4KTsKICAgICAgICAKICAgIAogICAgICAgICAgICB2YXIgY2lyY2xlX21hcmtlcl8wNzkzNWJiMzY4OWQ0NDE5YjgxZWQ5YmEwOGEyODBkZCA9IEwuY2lyY2xlTWFya2VyKAogICAgICAgICAgICAgICAgWzM3LjcxMzEwODM0MzMyNjQsIC0xMjIuNDQ0MzE0MDI1MTg4XSwKICAgICAgICAgICAgICAgIHsiYnViYmxpbmdNb3VzZUV2ZW50cyI6IHRydWUsICJjb2xvciI6ICJ5ZWxsb3ciLCAiZGFzaEFycmF5IjogbnVsbCwgImRhc2hPZmZzZXQiOiBudWxsLCAiZmlsbCI6IHRydWUsICJmaWxsQ29sb3IiOiAiYmx1ZSIsICJmaWxsT3BhY2l0eSI6IDAuNiwgImZpbGxSdWxlIjogImV2ZW5vZGQiLCAibGluZUNhcCI6ICJyb3VuZCIsICJsaW5lSm9pbiI6ICJyb3VuZCIsICJvcGFjaXR5IjogMS4wLCAicmFkaXVzIjogNSwgInN0cm9rZSI6IHRydWUsICJ3ZWlnaHQiOiAzfQogICAgICAgICAgICApLmFkZFRvKGZlYXR1cmVfZ3JvdXBfZWRmZTZmOTQ2NzBjNDRiNWI1OWJjNWU2NDU0OGJmZTgpOwogICAgICAgIAogICAgCiAgICAgICAgICAgIHZhciBjaXJjbGVfbWFya2VyXzlmNTVmYjdlOTc5YTQzZWVhMDBkNmE2NTBjMTU0NmI0ID0gTC5jaXJjbGVNYXJrZXIoCiAgICAgICAgICAgICAgICBbMzcuNzEzMTA4MzQzMzI2NCwgLTEyMi40NDQzMTQwMjUxODhdLAogICAgICAgICAgICAgICAgeyJidWJibGluZ01vdXNlRXZlbnRzIjogdHJ1ZSwgImNvbG9yIjogInllbGxvdyIsICJkYXNoQXJyYXkiOiBudWxsLCAiZGFzaE9mZnNldCI6IG51bGwsICJmaWxsIjogdHJ1ZSwgImZpbGxDb2xvciI6ICJibHVlIiwgImZpbGxPcGFjaXR5IjogMC42LCAiZmlsbFJ1bGUiOiAiZXZlbm9kZCIsICJsaW5lQ2FwIjogInJvdW5kIiwgImxpbmVKb2luIjogInJvdW5kIiwgIm9wYWNpdHkiOiAxLjAsICJyYWRpdXMiOiA1LCAic3Ryb2tlIjogdHJ1ZSwgIndlaWdodCI6IDN9CiAgICAgICAgICAgICkuYWRkVG8oZmVhdHVyZV9ncm91cF9lZGZlNmY5NDY3MGM0NGI1YjU5YmM1ZTY0NTQ4YmZlOCk7CiAgICAgICAgCiAgICAKICAgICAgICAgICAgdmFyIGNpcmNsZV9tYXJrZXJfZmE3ZTI0Y2NiY2U2NGYzMWJhOGY0ODNlOTljNWNjZWIgPSBMLmNpcmNsZU1hcmtlcigKICAgICAgICAgICAgICAgIFszNy43NjYwMTYwMTE0MTAzLCAtMTIyLjQwMzY0NDYyMDQzOV0sCiAgICAgICAgICAgICAgICB7ImJ1YmJsaW5nTW91c2VFdmVudHMiOiB0cnVlLCAiY29sb3IiOiAieWVsbG93IiwgImRhc2hBcnJheSI6IG51bGwsICJkYXNoT2Zmc2V0IjogbnVsbCwgImZpbGwiOiB0cnVlLCAiZmlsbENvbG9yIjogImJsdWUiLCAiZmlsbE9wYWNpdHkiOiAwLjYsICJmaWxsUnVsZSI6ICJldmVub2RkIiwgImxpbmVDYXAiOiAicm91bmQiLCAibGluZUpvaW4iOiAicm91bmQiLCAib3BhY2l0eSI6IDEuMCwgInJhZGl1cyI6IDUsICJzdHJva2UiOiB0cnVlLCAid2VpZ2h0IjogM30KICAgICAgICAgICAgKS5hZGRUbyhmZWF0dXJlX2dyb3VwX2VkZmU2Zjk0NjcwYzQ0YjViNTliYzVlNjQ1NDhiZmU4KTsKICAgICAgICAKICAgIAogICAgICAgICAgICB2YXIgY2lyY2xlX21hcmtlcl8wNzljNTc2Yjc4M2E0NTI2OTI1YThiYzEzYTFhODMxMSA9IEwuY2lyY2xlTWFya2VyKAogICAgICAgICAgICAgICAgWzM3Ljc2NjAxNjAxMTQxMDMsIC0xMjIuNDAzNjQ0NjIwNDM5XSwKICAgICAgICAgICAgICAgIHsiYnViYmxpbmdNb3VzZUV2ZW50cyI6IHRydWUsICJjb2xvciI6ICJ5ZWxsb3ciLCAiZGFzaEFycmF5IjogbnVsbCwgImRhc2hPZmZzZXQiOiBudWxsLCAiZmlsbCI6IHRydWUsICJmaWxsQ29sb3IiOiAiYmx1ZSIsICJmaWxsT3BhY2l0eSI6IDAuNiwgImZpbGxSdWxlIjogImV2ZW5vZGQiLCAibGluZUNhcCI6ICJyb3VuZCIsICJsaW5lSm9pbiI6ICJyb3VuZCIsICJvcGFjaXR5IjogMS4wLCAicmFkaXVzIjogNSwgInN0cm9rZSI6IHRydWUsICJ3ZWlnaHQiOiAzfQogICAgICAgICAgICApLmFkZFRvKGZlYXR1cmVfZ3JvdXBfZWRmZTZmOTQ2NzBjNDRiNWI1OWJjNWU2NDU0OGJmZTgpOwogICAgICAgIAogICAgCiAgICAgICAgICAgIHZhciBjaXJjbGVfbWFya2VyXzUwMDU3YzRmOTgxYTQ3YTZiNGQ0OWQzODVkMTAyNjYwID0gTC5jaXJjbGVNYXJrZXIoCiAgICAgICAgICAgICAgICBbMzcuNzc2MjMxMDQwNDc1OCwgLTEyMi40MTQ3MTQyOTU1Nzg5OV0sCiAgICAgICAgICAgICAgICB7ImJ1YmJsaW5nTW91c2VFdmVudHMiOiB0cnVlLCAiY29sb3IiOiAieWVsbG93IiwgImRhc2hBcnJheSI6IG51bGwsICJkYXNoT2Zmc2V0IjogbnVsbCwgImZpbGwiOiB0cnVlLCAiZmlsbENvbG9yIjogImJsdWUiLCAiZmlsbE9wYWNpdHkiOiAwLjYsICJmaWxsUnVsZSI6ICJldmVub2RkIiwgImxpbmVDYXAiOiAicm91bmQiLCAibGluZUpvaW4iOiAicm91bmQiLCAib3BhY2l0eSI6IDEuMCwgInJhZGl1cyI6IDUsICJzdHJva2UiOiB0cnVlLCAid2VpZ2h0IjogM30KICAgICAgICAgICAgKS5hZGRUbyhmZWF0dXJlX2dyb3VwX2VkZmU2Zjk0NjcwYzQ0YjViNTliYzVlNjQ1NDhiZmU4KTsKICAgICAgICAKICAgIAogICAgICAgICAgICB2YXIgY2lyY2xlX21hcmtlcl85MDE3YWVlODAwZGU0NTdjOWNjZThjOTU0ZDQwNGNmNiA9IEwuY2lyY2xlTWFya2VyKAogICAgICAgICAgICAgICAgWzM3Ljc3NjIzMTA0MDQ3NTgsIC0xMjIuNDE0NzE0Mjk1NTc4OTldLAogICAgICAgICAgICAgICAgeyJidWJibGluZ01vdXNlRXZlbnRzIjogdHJ1ZSwgImNvbG9yIjogInllbGxvdyIsICJkYXNoQXJyYXkiOiBudWxsLCAiZGFzaE9mZnNldCI6IG51bGwsICJmaWxsIjogdHJ1ZSwgImZpbGxDb2xvciI6ICJibHVlIiwgImZpbGxPcGFjaXR5IjogMC42LCAiZmlsbFJ1bGUiOiAiZXZlbm9kZCIsICJsaW5lQ2FwIjogInJvdW5kIiwgImxpbmVKb2luIjogInJvdW5kIiwgIm9wYWNpdHkiOiAxLjAsICJyYWRpdXMiOiA1LCAic3Ryb2tlIjogdHJ1ZSwgIndlaWdodCI6IDN9CiAgICAgICAgICAgICkuYWRkVG8oZmVhdHVyZV9ncm91cF9lZGZlNmY5NDY3MGM0NGI1YjU5YmM1ZTY0NTQ4YmZlOCk7CiAgICAgICAgCiAgICAKICAgICAgICAgICAgdmFyIGNpcmNsZV9tYXJrZXJfOGUwYzU0MzhkYjA5NDk4YjkwMGExYzY5YTNkZWM4ODkgPSBMLmNpcmNsZU1hcmtlcigKICAgICAgICAgICAgICAgIFszNy43Nzc1MTE4ODk1Njk1LCAtMTIyLjQxODA0NTQ1Mjc2OF0sCiAgICAgICAgICAgICAgICB7ImJ1YmJsaW5nTW91c2VFdmVudHMiOiB0cnVlLCAiY29sb3IiOiAieWVsbG93IiwgImRhc2hBcnJheSI6IG51bGwsICJkYXNoT2Zmc2V0IjogbnVsbCwgImZpbGwiOiB0cnVlLCAiZmlsbENvbG9yIjogImJsdWUiLCAiZmlsbE9wYWNpdHkiOiAwLjYsICJmaWxsUnVsZSI6ICJldmVub2RkIiwgImxpbmVDYXAiOiAicm91bmQiLCAibGluZUpvaW4iOiAicm91bmQiLCAib3BhY2l0eSI6IDEuMCwgInJhZGl1cyI6IDUsICJzdHJva2UiOiB0cnVlLCAid2VpZ2h0IjogM30KICAgICAgICAgICAgKS5hZGRUbyhmZWF0dXJlX2dyb3VwX2VkZmU2Zjk0NjcwYzQ0YjViNTliYzVlNjQ1NDhiZmU4KTsKICAgICAgICAKICAgIAogICAgICAgICAgICB2YXIgY2lyY2xlX21hcmtlcl9hY2QxNDI3ODZmYzc0NjI1ODkyZjVkZDQ4MjNkZmM2MyA9IEwuY2lyY2xlTWFya2VyKAogICAgICAgICAgICAgICAgWzM3Ljc4MjAyMzg0Nzg5NzUsIC0xMjIuNDAxMTYxNTU1NjAyXSwKICAgICAgICAgICAgICAgIHsiYnViYmxpbmdNb3VzZUV2ZW50cyI6IHRydWUsICJjb2xvciI6ICJ5ZWxsb3ciLCAiZGFzaEFycmF5IjogbnVsbCwgImRhc2hPZmZzZXQiOiBudWxsLCAiZmlsbCI6IHRydWUsICJmaWxsQ29sb3IiOiAiYmx1ZSIsICJmaWxsT3BhY2l0eSI6IDAuNiwgImZpbGxSdWxlIjogImV2ZW5vZGQiLCAibGluZUNhcCI6ICJyb3VuZCIsICJsaW5lSm9pbiI6ICJyb3VuZCIsICJvcGFjaXR5IjogMS4wLCAicmFkaXVzIjogNSwgInN0cm9rZSI6IHRydWUsICJ3ZWlnaHQiOiAzfQogICAgICAgICAgICApLmFkZFRvKGZlYXR1cmVfZ3JvdXBfZWRmZTZmOTQ2NzBjNDRiNWI1OWJjNWU2NDU0OGJmZTgpOwogICAgICAgIAogICAgCiAgICAgICAgICAgIHZhciBjaXJjbGVfbWFya2VyX2MxNmEyMTk2ODg1MDRkYmE4NzQ0NmMzMzk2MzBmMGU2ID0gTC5jaXJjbGVNYXJrZXIoCiAgICAgICAgICAgICAgICBbMzcuNzI3MDA1MzE5NjI5OTk1LCAtMTIyLjQwMzQwODY2OTE5MV0sCiAgICAgICAgICAgICAgICB7ImJ1YmJsaW5nTW91c2VFdmVudHMiOiB0cnVlLCAiY29sb3IiOiAieWVsbG93IiwgImRhc2hBcnJheSI6IG51bGwsICJkYXNoT2Zmc2V0IjogbnVsbCwgImZpbGwiOiB0cnVlLCAiZmlsbENvbG9yIjogImJsdWUiLCAiZmlsbE9wYWNpdHkiOiAwLjYsICJmaWxsUnVsZSI6ICJldmVub2RkIiwgImxpbmVDYXAiOiAicm91bmQiLCAibGluZUpvaW4iOiAicm91bmQiLCAib3BhY2l0eSI6IDEuMCwgInJhZGl1cyI6IDUsICJzdHJva2UiOiB0cnVlLCAid2VpZ2h0IjogM30KICAgICAgICAgICAgKS5hZGRUbyhmZWF0dXJlX2dyb3VwX2VkZmU2Zjk0NjcwYzQ0YjViNTliYzVlNjQ1NDhiZmU4KTsKICAgICAgICAKICAgIAogICAgICAgICAgICB2YXIgY2lyY2xlX21hcmtlcl84OTBjZWVmM2I0NWI0NWJkYTE3OTkyYmRhZGUxYTllOSA9IEwuY2lyY2xlTWFya2VyKAogICAgICAgICAgICAgICAgWzM3Ljc4MzgzNDQzNzQxNDEsIC0xMjIuNDEyOTMwNTIyMDU5XSwKICAgICAgICAgICAgICAgIHsiYnViYmxpbmdNb3VzZUV2ZW50cyI6IHRydWUsICJjb2xvciI6ICJ5ZWxsb3ciLCAiZGFzaEFycmF5IjogbnVsbCwgImRhc2hPZmZzZXQiOiBudWxsLCAiZmlsbCI6IHRydWUsICJmaWxsQ29sb3IiOiAiYmx1ZSIsICJmaWxsT3BhY2l0eSI6IDAuNiwgImZpbGxSdWxlIjogImV2ZW5vZGQiLCAibGluZUNhcCI6ICJyb3VuZCIsICJsaW5lSm9pbiI6ICJyb3VuZCIsICJvcGFjaXR5IjogMS4wLCAicmFkaXVzIjogNSwgInN0cm9rZSI6IHRydWUsICJ3ZWlnaHQiOiAzfQogICAgICAgICAgICApLmFkZFRvKGZlYXR1cmVfZ3JvdXBfZWRmZTZmOTQ2NzBjNDRiNWI1OWJjNWU2NDU0OGJmZTgpOwogICAgICAgIAogICAgCiAgICAgICAgICAgIHZhciBjaXJjbGVfbWFya2VyXzQzOTkyOGM4M2JmNzQwN2JhNDZmMDY5YzNhMGQ1M2Q0ID0gTC5jaXJjbGVNYXJrZXIoCiAgICAgICAgICAgICAgICBbMzcuNzUzMDE4NjUzNzQ0NjA0LCAtMTIyLjQxODU4NzE3MjIxOV0sCiAgICAgICAgICAgICAgICB7ImJ1YmJsaW5nTW91c2VFdmVudHMiOiB0cnVlLCAiY29sb3IiOiAieWVsbG93IiwgImRhc2hBcnJheSI6IG51bGwsICJkYXNoT2Zmc2V0IjogbnVsbCwgImZpbGwiOiB0cnVlLCAiZmlsbENvbG9yIjogImJsdWUiLCAiZmlsbE9wYWNpdHkiOiAwLjYsICJmaWxsUnVsZSI6ICJldmVub2RkIiwgImxpbmVDYXAiOiAicm91bmQiLCAibGluZUpvaW4iOiAicm91bmQiLCAib3BhY2l0eSI6IDEuMCwgInJhZGl1cyI6IDUsICJzdHJva2UiOiB0cnVlLCAid2VpZ2h0IjogM30KICAgICAgICAgICAgKS5hZGRUbyhmZWF0dXJlX2dyb3VwX2VkZmU2Zjk0NjcwYzQ0YjViNTliYzVlNjQ1NDhiZmU4KTsKICAgICAgICAKICAgIAogICAgICAgICAgICB2YXIgY2lyY2xlX21hcmtlcl9iZGQ1Y2VmY2I2YzE0MzVkYjUwN2ZkYjk2NWEzZmVlZSA9IEwuY2lyY2xlTWFya2VyKAogICAgICAgICAgICAgICAgWzM3Ljc3NDA0MTgzODUwNDEsIC0xMjIuNDE0MzcwNjI3NDk1XSwKICAgICAgICAgICAgICAgIHsiYnViYmxpbmdNb3VzZUV2ZW50cyI6IHRydWUsICJjb2xvciI6ICJ5ZWxsb3ciLCAiZGFzaEFycmF5IjogbnVsbCwgImRhc2hPZmZzZXQiOiBudWxsLCAiZmlsbCI6IHRydWUsICJmaWxsQ29sb3IiOiAiYmx1ZSIsICJmaWxsT3BhY2l0eSI6IDAuNiwgImZpbGxSdWxlIjogImV2ZW5vZGQiLCAibGluZUNhcCI6ICJyb3VuZCIsICJsaW5lSm9pbiI6ICJyb3VuZCIsICJvcGFjaXR5IjogMS4wLCAicmFkaXVzIjogNSwgInN0cm9rZSI6IHRydWUsICJ3ZWlnaHQiOiAzfQogICAgICAgICAgICApLmFkZFRvKGZlYXR1cmVfZ3JvdXBfZWRmZTZmOTQ2NzBjNDRiNWI1OWJjNWU2NDU0OGJmZTgpOwogICAgICAgIAogICAgCiAgICAgICAgICAgIHZhciBjaXJjbGVfbWFya2VyX2YzOWZlYmJlNmZjMzQ1NTY4NDZmNWNlNzY2MDMxMzMzID0gTC5jaXJjbGVNYXJrZXIoCiAgICAgICAgICAgICAgICBbMzcuNzkwNTM4OTkzNzI1LCAtMTIyLjQwMzkxNTY4MTU3MTAxXSwKICAgICAgICAgICAgICAgIHsiYnViYmxpbmdNb3VzZUV2ZW50cyI6IHRydWUsICJjb2xvciI6ICJ5ZWxsb3ciLCAiZGFzaEFycmF5IjogbnVsbCwgImRhc2hPZmZzZXQiOiBudWxsLCAiZmlsbCI6IHRydWUsICJmaWxsQ29sb3IiOiAiYmx1ZSIsICJmaWxsT3BhY2l0eSI6IDAuNiwgImZpbGxSdWxlIjogImV2ZW5vZGQiLCAibGluZUNhcCI6ICJyb3VuZCIsICJsaW5lSm9pbiI6ICJyb3VuZCIsICJvcGFjaXR5IjogMS4wLCAicmFkaXVzIjogNSwgInN0cm9rZSI6IHRydWUsICJ3ZWlnaHQiOiAzfQogICAgICAgICAgICApLmFkZFRvKGZlYXR1cmVfZ3JvdXBfZWRmZTZmOTQ2NzBjNDRiNWI1OWJjNWU2NDU0OGJmZTgpOwogICAgICAgIAogICAgCiAgICAgICAgICAgIHZhciBjaXJjbGVfbWFya2VyXzI2ZWFmYWRiYTY5MDQ3OWI4NDJhNjBjNTdjM2UxMmVhID0gTC5jaXJjbGVNYXJrZXIoCiAgICAgICAgICAgICAgICBbMzcuNzgzMDk5ODI0NDU5MjEsIC0xMjIuNDE5MTgzMDk2MzYyXSwKICAgICAgICAgICAgICAgIHsiYnViYmxpbmdNb3VzZUV2ZW50cyI6IHRydWUsICJjb2xvciI6ICJ5ZWxsb3ciLCAiZGFzaEFycmF5IjogbnVsbCwgImRhc2hPZmZzZXQiOiBudWxsLCAiZmlsbCI6IHRydWUsICJmaWxsQ29sb3IiOiAiYmx1ZSIsICJmaWxsT3BhY2l0eSI6IDAuNiwgImZpbGxSdWxlIjogImV2ZW5vZGQiLCAibGluZUNhcCI6ICJyb3VuZCIsICJsaW5lSm9pbiI6ICJyb3VuZCIsICJvcGFjaXR5IjogMS4wLCAicmFkaXVzIjogNSwgInN0cm9rZSI6IHRydWUsICJ3ZWlnaHQiOiAzfQogICAgICAgICAgICApLmFkZFRvKGZlYXR1cmVfZ3JvdXBfZWRmZTZmOTQ2NzBjNDRiNWI1OWJjNWU2NDU0OGJmZTgpOwogICAgICAgIAogICAgCiAgICAgICAgICAgIHZhciBjaXJjbGVfbWFya2VyXzM0YjVjOGQ2NDIxMjQ1OGZiM2JhMzMzMGEwOTI3YTFhID0gTC5jaXJjbGVNYXJrZXIoCiAgICAgICAgICAgICAgICBbMzcuNzQwNzM2MDU0ODM1NzksIC0xMjIuMzg4NzUzMDQ2OTk3XSwKICAgICAgICAgICAgICAgIHsiYnViYmxpbmdNb3VzZUV2ZW50cyI6IHRydWUsICJjb2xvciI6ICJ5ZWxsb3ciLCAiZGFzaEFycmF5IjogbnVsbCwgImRhc2hPZmZzZXQiOiBudWxsLCAiZmlsbCI6IHRydWUsICJmaWxsQ29sb3IiOiAiYmx1ZSIsICJmaWxsT3BhY2l0eSI6IDAuNiwgImZpbGxSdWxlIjogImV2ZW5vZGQiLCAibGluZUNhcCI6ICJyb3VuZCIsICJsaW5lSm9pbiI6ICJyb3VuZCIsICJvcGFjaXR5IjogMS4wLCAicmFkaXVzIjogNSwgInN0cm9rZSI6IHRydWUsICJ3ZWlnaHQiOiAzfQogICAgICAgICAgICApLmFkZFRvKGZlYXR1cmVfZ3JvdXBfZWRmZTZmOTQ2NzBjNDRiNWI1OWJjNWU2NDU0OGJmZTgpOwogICAgICAgIAogICAgCiAgICAgICAgICAgIHZhciBjaXJjbGVfbWFya2VyXzNjZTdhMjMyYjViOTQwMDZhMTYwMzlhOTM3MWE5NjE3ID0gTC5jaXJjbGVNYXJrZXIoCiAgICAgICAgICAgICAgICBbMzcuNzc0OTkxMjk0NDM2NiwgLTEyMi40Mzc3OTk3MDM0NjhdLAogICAgICAgICAgICAgICAgeyJidWJibGluZ01vdXNlRXZlbnRzIjogdHJ1ZSwgImNvbG9yIjogInllbGxvdyIsICJkYXNoQXJyYXkiOiBudWxsLCAiZGFzaE9mZnNldCI6IG51bGwsICJmaWxsIjogdHJ1ZSwgImZpbGxDb2xvciI6ICJibHVlIiwgImZpbGxPcGFjaXR5IjogMC42LCAiZmlsbFJ1bGUiOiAiZXZlbm9kZCIsICJsaW5lQ2FwIjogInJvdW5kIiwgImxpbmVKb2luIjogInJvdW5kIiwgIm9wYWNpdHkiOiAxLjAsICJyYWRpdXMiOiA1LCAic3Ryb2tlIjogdHJ1ZSwgIndlaWdodCI6IDN9CiAgICAgICAgICAgICkuYWRkVG8oZmVhdHVyZV9ncm91cF9lZGZlNmY5NDY3MGM0NGI1YjU5YmM1ZTY0NTQ4YmZlOCk7CiAgICAgICAgCiAgICAKICAgICAgICAgICAgdmFyIGNpcmNsZV9tYXJrZXJfOTNkMWZlMDViOGE2NDg2NThjNmEwZWY2ZGUzZTMzODEgPSBMLmNpcmNsZU1hcmtlcigKICAgICAgICAgICAgICAgIFszNy43NzcwOTAyNzQzNjY5LCAtMTIyLjQyMTMzMjY4NDYzM10sCiAgICAgICAgICAgICAgICB7ImJ1YmJsaW5nTW91c2VFdmVudHMiOiB0cnVlLCAiY29sb3IiOiAieWVsbG93IiwgImRhc2hBcnJheSI6IG51bGwsICJkYXNoT2Zmc2V0IjogbnVsbCwgImZpbGwiOiB0cnVlLCAiZmlsbENvbG9yIjogImJsdWUiLCAiZmlsbE9wYWNpdHkiOiAwLjYsICJmaWxsUnVsZSI6ICJldmVub2RkIiwgImxpbmVDYXAiOiAicm91bmQiLCAibGluZUpvaW4iOiAicm91bmQiLCAib3BhY2l0eSI6IDEuMCwgInJhZGl1cyI6IDUsICJzdHJva2UiOiB0cnVlLCAid2VpZ2h0IjogM30KICAgICAgICAgICAgKS5hZGRUbyhmZWF0dXJlX2dyb3VwX2VkZmU2Zjk0NjcwYzQ0YjViNTliYzVlNjQ1NDhiZmU4KTsKICAgICAgICAKICAgIAogICAgICAgICAgICB2YXIgY2lyY2xlX21hcmtlcl8zYWRkMjk3MTE2N2M0ODUxOThiMzViNjcyMzg5MDVmOCA9IEwuY2lyY2xlTWFya2VyKAogICAgICAgICAgICAgICAgWzM3Ljc3NzA5MDI3NDM2NjksIC0xMjIuNDIxMzMyNjg0NjMzXSwKICAgICAgICAgICAgICAgIHsiYnViYmxpbmdNb3VzZUV2ZW50cyI6IHRydWUsICJjb2xvciI6ICJ5ZWxsb3ciLCAiZGFzaEFycmF5IjogbnVsbCwgImRhc2hPZmZzZXQiOiBudWxsLCAiZmlsbCI6IHRydWUsICJmaWxsQ29sb3IiOiAiYmx1ZSIsICJmaWxsT3BhY2l0eSI6IDAuNiwgImZpbGxSdWxlIjogImV2ZW5vZGQiLCAibGluZUNhcCI6ICJyb3VuZCIsICJsaW5lSm9pbiI6ICJyb3VuZCIsICJvcGFjaXR5IjogMS4wLCAicmFkaXVzIjogNSwgInN0cm9rZSI6IHRydWUsICJ3ZWlnaHQiOiAzfQogICAgICAgICAgICApLmFkZFRvKGZlYXR1cmVfZ3JvdXBfZWRmZTZmOTQ2NzBjNDRiNWI1OWJjNWU2NDU0OGJmZTgpOwogICAgICAgIAogICAgCiAgICAgICAgICAgIHZhciBjaXJjbGVfbWFya2VyXzRmMjYzYTk2YmRkZTRlMWM4NzRiNDE1NzVmYTg2ZDAxID0gTC5jaXJjbGVNYXJrZXIoCiAgICAgICAgICAgICAgICBbMzcuNzgyMjQ1ODIyMzkxNywgLTEyMi40NDY2MTI5Nzg4MzldLAogICAgICAgICAgICAgICAgeyJidWJibGluZ01vdXNlRXZlbnRzIjogdHJ1ZSwgImNvbG9yIjogInllbGxvdyIsICJkYXNoQXJyYXkiOiBudWxsLCAiZGFzaE9mZnNldCI6IG51bGwsICJmaWxsIjogdHJ1ZSwgImZpbGxDb2xvciI6ICJibHVlIiwgImZpbGxPcGFjaXR5IjogMC42LCAiZmlsbFJ1bGUiOiAiZXZlbm9kZCIsICJsaW5lQ2FwIjogInJvdW5kIiwgImxpbmVKb2luIjogInJvdW5kIiwgIm9wYWNpdHkiOiAxLjAsICJyYWRpdXMiOiA1LCAic3Ryb2tlIjogdHJ1ZSwgIndlaWdodCI6IDN9CiAgICAgICAgICAgICkuYWRkVG8oZmVhdHVyZV9ncm91cF9lZGZlNmY5NDY3MGM0NGI1YjU5YmM1ZTY0NTQ4YmZlOCk7CiAgICAgICAgCiAgICAKICAgICAgICAgICAgdmFyIGNpcmNsZV9tYXJrZXJfZDJiNWEzMWE5NjgxNGYxY2I0MmZkMGY4MDU3NjU0OWIgPSBMLmNpcmNsZU1hcmtlcigKICAgICAgICAgICAgICAgIFszNy43MzAwMzc5OTk1MTI3OTUsIC0xMjIuNDA0NTk0MTQwNjM0XSwKICAgICAgICAgICAgICAgIHsiYnViYmxpbmdNb3VzZUV2ZW50cyI6IHRydWUsICJjb2xvciI6ICJ5ZWxsb3ciLCAiZGFzaEFycmF5IjogbnVsbCwgImRhc2hPZmZzZXQiOiBudWxsLCAiZmlsbCI6IHRydWUsICJmaWxsQ29sb3IiOiAiYmx1ZSIsICJmaWxsT3BhY2l0eSI6IDAuNiwgImZpbGxSdWxlIjogImV2ZW5vZGQiLCAibGluZUNhcCI6ICJyb3VuZCIsICJsaW5lSm9pbiI6ICJyb3VuZCIsICJvcGFjaXR5IjogMS4wLCAicmFkaXVzIjogNSwgInN0cm9rZSI6IHRydWUsICJ3ZWlnaHQiOiAzfQogICAgICAgICAgICApLmFkZFRvKGZlYXR1cmVfZ3JvdXBfZWRmZTZmOTQ2NzBjNDRiNWI1OWJjNWU2NDU0OGJmZTgpOwogICAgICAgIAogICAgCiAgICAgICAgICAgIHZhciBjaXJjbGVfbWFya2VyX2MxYTk0NzE0YzMwZDQ1MTk4NGEzNzc0N2M2YmE5ZDdjID0gTC5jaXJjbGVNYXJrZXIoCiAgICAgICAgICAgICAgICBbMzcuNzk1MzMzODI2NzQzNiwgLTEyMi4zOTczNzM3NDAwNjZdLAogICAgICAgICAgICAgICAgeyJidWJibGluZ01vdXNlRXZlbnRzIjogdHJ1ZSwgImNvbG9yIjogInllbGxvdyIsICJkYXNoQXJyYXkiOiBudWxsLCAiZGFzaE9mZnNldCI6IG51bGwsICJmaWxsIjogdHJ1ZSwgImZpbGxDb2xvciI6ICJibHVlIiwgImZpbGxPcGFjaXR5IjogMC42LCAiZmlsbFJ1bGUiOiAiZXZlbm9kZCIsICJsaW5lQ2FwIjogInJvdW5kIiwgImxpbmVKb2luIjogInJvdW5kIiwgIm9wYWNpdHkiOiAxLjAsICJyYWRpdXMiOiA1LCAic3Ryb2tlIjogdHJ1ZSwgIndlaWdodCI6IDN9CiAgICAgICAgICAgICkuYWRkVG8oZmVhdHVyZV9ncm91cF9lZGZlNmY5NDY3MGM0NGI1YjU5YmM1ZTY0NTQ4YmZlOCk7CiAgICAgICAgCiAgICAKICAgICAgICAgICAgdmFyIGNpcmNsZV9tYXJrZXJfNGJiODZkNDM0YmQwNDZhNWEzNmExZmU5ZDQ1YTUzOWIgPSBMLmNpcmNsZU1hcmtlcigKICAgICAgICAgICAgICAgIFszNy43ODc1MTU4NzQxNjIyOTUsIC0xMjIuNDA3NDM0OTg5NTIzXSwKICAgICAgICAgICAgICAgIHsiYnViYmxpbmdNb3VzZUV2ZW50cyI6IHRydWUsICJjb2xvciI6ICJ5ZWxsb3ciLCAiZGFzaEFycmF5IjogbnVsbCwgImRhc2hPZmZzZXQiOiBudWxsLCAiZmlsbCI6IHRydWUsICJmaWxsQ29sb3IiOiAiYmx1ZSIsICJmaWxsT3BhY2l0eSI6IDAuNiwgImZpbGxSdWxlIjogImV2ZW5vZGQiLCAibGluZUNhcCI6ICJyb3VuZCIsICJsaW5lSm9pbiI6ICJyb3VuZCIsICJvcGFjaXR5IjogMS4wLCAicmFkaXVzIjogNSwgInN0cm9rZSI6IHRydWUsICJ3ZWlnaHQiOiAzfQogICAgICAgICAgICApLmFkZFRvKGZlYXR1cmVfZ3JvdXBfZWRmZTZmOTQ2NzBjNDRiNWI1OWJjNWU2NDU0OGJmZTgpOwogICAgICAgIAogICAgCiAgICAgICAgICAgIHZhciBjaXJjbGVfbWFya2VyXzVkNzIxM2Y2Y2M2YTQ0MTFiY2U5MTk5MDhkZGE0MzEwID0gTC5jaXJjbGVNYXJrZXIoCiAgICAgICAgICAgICAgICBbMzcuNzc4NTIzMzc3NjAzMiwgLTEyMi40MDM0NjQwODAwMzNdLAogICAgICAgICAgICAgICAgeyJidWJibGluZ01vdXNlRXZlbnRzIjogdHJ1ZSwgImNvbG9yIjogInllbGxvdyIsICJkYXNoQXJyYXkiOiBudWxsLCAiZGFzaE9mZnNldCI6IG51bGwsICJmaWxsIjogdHJ1ZSwgImZpbGxDb2xvciI6ICJibHVlIiwgImZpbGxPcGFjaXR5IjogMC42LCAiZmlsbFJ1bGUiOiAiZXZlbm9kZCIsICJsaW5lQ2FwIjogInJvdW5kIiwgImxpbmVKb2luIjogInJvdW5kIiwgIm9wYWNpdHkiOiAxLjAsICJyYWRpdXMiOiA1LCAic3Ryb2tlIjogdHJ1ZSwgIndlaWdodCI6IDN9CiAgICAgICAgICAgICkuYWRkVG8oZmVhdHVyZV9ncm91cF9lZGZlNmY5NDY3MGM0NGI1YjU5YmM1ZTY0NTQ4YmZlOCk7CiAgICAgICAgCiAgICAKICAgICAgICAgICAgdmFyIGNpcmNsZV9tYXJrZXJfNTFhMDIzZTMxMTMyNDYwYmE4ZmNiNjZmMjFjZjgzY2IgPSBMLmNpcmNsZU1hcmtlcigKICAgICAgICAgICAgICAgIFszNy43Nzg1MjMzNzc2MDMyLCAtMTIyLjQwMzQ2NDA4MDAzM10sCiAgICAgICAgICAgICAgICB7ImJ1YmJsaW5nTW91c2VFdmVudHMiOiB0cnVlLCAiY29sb3IiOiAieWVsbG93IiwgImRhc2hBcnJheSI6IG51bGwsICJkYXNoT2Zmc2V0IjogbnVsbCwgImZpbGwiOiB0cnVlLCAiZmlsbENvbG9yIjogImJsdWUiLCAiZmlsbE9wYWNpdHkiOiAwLjYsICJmaWxsUnVsZSI6ICJldmVub2RkIiwgImxpbmVDYXAiOiAicm91bmQiLCAibGluZUpvaW4iOiAicm91bmQiLCAib3BhY2l0eSI6IDEuMCwgInJhZGl1cyI6IDUsICJzdHJva2UiOiB0cnVlLCAid2VpZ2h0IjogM30KICAgICAgICAgICAgKS5hZGRUbyhmZWF0dXJlX2dyb3VwX2VkZmU2Zjk0NjcwYzQ0YjViNTliYzVlNjQ1NDhiZmU4KTsKICAgICAgICAKICAgIAogICAgICAgICAgICB2YXIgY2lyY2xlX21hcmtlcl9iMzMxMTU3ZmNlZTE0YmMzYTJjYjhlNDY1ZWZlN2JkMiA9IEwuY2lyY2xlTWFya2VyKAogICAgICAgICAgICAgICAgWzM3Ljc3MzI5MTgwNjkwMjk5NiwgLTEyMi40MzY2MTQxODEzMzEwMV0sCiAgICAgICAgICAgICAgICB7ImJ1YmJsaW5nTW91c2VFdmVudHMiOiB0cnVlLCAiY29sb3IiOiAieWVsbG93IiwgImRhc2hBcnJheSI6IG51bGwsICJkYXNoT2Zmc2V0IjogbnVsbCwgImZpbGwiOiB0cnVlLCAiZmlsbENvbG9yIjogImJsdWUiLCAiZmlsbE9wYWNpdHkiOiAwLjYsICJmaWxsUnVsZSI6ICJldmVub2RkIiwgImxpbmVDYXAiOiAicm91bmQiLCAibGluZUpvaW4iOiAicm91bmQiLCAib3BhY2l0eSI6IDEuMCwgInJhZGl1cyI6IDUsICJzdHJva2UiOiB0cnVlLCAid2VpZ2h0IjogM30KICAgICAgICAgICAgKS5hZGRUbyhmZWF0dXJlX2dyb3VwX2VkZmU2Zjk0NjcwYzQ0YjViNTliYzVlNjQ1NDhiZmU4KTsKICAgICAgICAKICAgIAogICAgICAgICAgICB2YXIgY2lyY2xlX21hcmtlcl9lOGM2MDQ3OGJiNzg0M2E3YmE4MDA4YzUyNzM2Y2IyOCA9IEwuY2lyY2xlTWFya2VyKAogICAgICAgICAgICAgICAgWzM3Ljc4MDUyNzU3ODUwOSwgLTEyMi4zOTY4NDkwMTUxNzIwMV0sCiAgICAgICAgICAgICAgICB7ImJ1YmJsaW5nTW91c2VFdmVudHMiOiB0cnVlLCAiY29sb3IiOiAieWVsbG93IiwgImRhc2hBcnJheSI6IG51bGwsICJkYXNoT2Zmc2V0IjogbnVsbCwgImZpbGwiOiB0cnVlLCAiZmlsbENvbG9yIjogImJsdWUiLCAiZmlsbE9wYWNpdHkiOiAwLjYsICJmaWxsUnVsZSI6ICJldmVub2RkIiwgImxpbmVDYXAiOiAicm91bmQiLCAibGluZUpvaW4iOiAicm91bmQiLCAib3BhY2l0eSI6IDEuMCwgInJhZGl1cyI6IDUsICJzdHJva2UiOiB0cnVlLCAid2VpZ2h0IjogM30KICAgICAgICAgICAgKS5hZGRUbyhmZWF0dXJlX2dyb3VwX2VkZmU2Zjk0NjcwYzQ0YjViNTliYzVlNjQ1NDhiZmU4KTsKICAgICAgICAKICAgIAogICAgICAgICAgICB2YXIgY2lyY2xlX21hcmtlcl8yOWM3YmQ1NGM4YzU0ZWVhODE0OWUyZjBiYjc2ZGQxNiA9IEwuY2lyY2xlTWFya2VyKAogICAgICAgICAgICAgICAgWzM3Ljc4MDUyNzU3ODUwOSwgLTEyMi4zOTY4NDkwMTUxNzIwMV0sCiAgICAgICAgICAgICAgICB7ImJ1YmJsaW5nTW91c2VFdmVudHMiOiB0cnVlLCAiY29sb3IiOiAieWVsbG93IiwgImRhc2hBcnJheSI6IG51bGwsICJkYXNoT2Zmc2V0IjogbnVsbCwgImZpbGwiOiB0cnVlLCAiZmlsbENvbG9yIjogImJsdWUiLCAiZmlsbE9wYWNpdHkiOiAwLjYsICJmaWxsUnVsZSI6ICJldmVub2RkIiwgImxpbmVDYXAiOiAicm91bmQiLCAibGluZUpvaW4iOiAicm91bmQiLCAib3BhY2l0eSI6IDEuMCwgInJhZGl1cyI6IDUsICJzdHJva2UiOiB0cnVlLCAid2VpZ2h0IjogM30KICAgICAgICAgICAgKS5hZGRUbyhmZWF0dXJlX2dyb3VwX2VkZmU2Zjk0NjcwYzQ0YjViNTliYzVlNjQ1NDhiZmU4KTsKICAgICAgICAKICAgIAogICAgICAgICAgICB2YXIgY2lyY2xlX21hcmtlcl84ZjU5MmI3M2QyZGE0YTA5ODA0MTk5NjBhNjNiZjBkZCA9IEwuY2lyY2xlTWFya2VyKAogICAgICAgICAgICAgICAgWzM3LjcyODQxODA3MDY2MDIwNCwgLTEyMi40NTAwMDA3OTA0NDVdLAogICAgICAgICAgICAgICAgeyJidWJibGluZ01vdXNlRXZlbnRzIjogdHJ1ZSwgImNvbG9yIjogInllbGxvdyIsICJkYXNoQXJyYXkiOiBudWxsLCAiZGFzaE9mZnNldCI6IG51bGwsICJmaWxsIjogdHJ1ZSwgImZpbGxDb2xvciI6ICJibHVlIiwgImZpbGxPcGFjaXR5IjogMC42LCAiZmlsbFJ1bGUiOiAiZXZlbm9kZCIsICJsaW5lQ2FwIjogInJvdW5kIiwgImxpbmVKb2luIjogInJvdW5kIiwgIm9wYWNpdHkiOiAxLjAsICJyYWRpdXMiOiA1LCAic3Ryb2tlIjogdHJ1ZSwgIndlaWdodCI6IDN9CiAgICAgICAgICAgICkuYWRkVG8oZmVhdHVyZV9ncm91cF9lZGZlNmY5NDY3MGM0NGI1YjU5YmM1ZTY0NTQ4YmZlOCk7CiAgICAgICAgCiAgICAKICAgICAgICAgICAgdmFyIGNpcmNsZV9tYXJrZXJfYjJmZDQzZTU2Zjc4NGMyNjk3NTQ1YjVlNjY3ODVmMjQgPSBMLmNpcmNsZU1hcmtlcigKICAgICAgICAgICAgICAgIFszNy43MjkyMTE0NjQ3MzU5LCAtMTIyLjQwMDgzNDI4MzAzMV0sCiAgICAgICAgICAgICAgICB7ImJ1YmJsaW5nTW91c2VFdmVudHMiOiB0cnVlLCAiY29sb3IiOiAieWVsbG93IiwgImRhc2hBcnJheSI6IG51bGwsICJkYXNoT2Zmc2V0IjogbnVsbCwgImZpbGwiOiB0cnVlLCAiZmlsbENvbG9yIjogImJsdWUiLCAiZmlsbE9wYWNpdHkiOiAwLjYsICJmaWxsUnVsZSI6ICJldmVub2RkIiwgImxpbmVDYXAiOiAicm91bmQiLCAibGluZUpvaW4iOiAicm91bmQiLCAib3BhY2l0eSI6IDEuMCwgInJhZGl1cyI6IDUsICJzdHJva2UiOiB0cnVlLCAid2VpZ2h0IjogM30KICAgICAgICAgICAgKS5hZGRUbyhmZWF0dXJlX2dyb3VwX2VkZmU2Zjk0NjcwYzQ0YjViNTliYzVlNjQ1NDhiZmU4KTsKICAgICAgICAKICAgIAogICAgICAgICAgICB2YXIgY2lyY2xlX21hcmtlcl9iNWZhZmQyOGE3YWQ0N2Y2YWUzODVjMmY0OTAxMTljYSA9IEwuY2lyY2xlTWFya2VyKAogICAgICAgICAgICAgICAgWzM3Ljc4ODAwNjUzMjQzOTIwNSwgLTEyMi4zOTk4MDIxNDU3OTldLAogICAgICAgICAgICAgICAgeyJidWJibGluZ01vdXNlRXZlbnRzIjogdHJ1ZSwgImNvbG9yIjogInllbGxvdyIsICJkYXNoQXJyYXkiOiBudWxsLCAiZGFzaE9mZnNldCI6IG51bGwsICJmaWxsIjogdHJ1ZSwgImZpbGxDb2xvciI6ICJibHVlIiwgImZpbGxPcGFjaXR5IjogMC42LCAiZmlsbFJ1bGUiOiAiZXZlbm9kZCIsICJsaW5lQ2FwIjogInJvdW5kIiwgImxpbmVKb2luIjogInJvdW5kIiwgIm9wYWNpdHkiOiAxLjAsICJyYWRpdXMiOiA1LCAic3Ryb2tlIjogdHJ1ZSwgIndlaWdodCI6IDN9CiAgICAgICAgICAgICkuYWRkVG8oZmVhdHVyZV9ncm91cF9lZGZlNmY5NDY3MGM0NGI1YjU5YmM1ZTY0NTQ4YmZlOCk7CiAgICAgICAgCiAgICAKICAgICAgICAgICAgdmFyIGNpcmNsZV9tYXJrZXJfMWNhZTM5NGY5NzEyNGM4MjgzMzM2ODQ3YmRmNWE5NGQgPSBMLmNpcmNsZU1hcmtlcigKICAgICAgICAgICAgICAgIFszNy43MjM5NzQ4MjQxNjA5LCAtMTIyLjM5NDkyODQ3NThdLAogICAgICAgICAgICAgICAgeyJidWJibGluZ01vdXNlRXZlbnRzIjogdHJ1ZSwgImNvbG9yIjogInllbGxvdyIsICJkYXNoQXJyYXkiOiBudWxsLCAiZGFzaE9mZnNldCI6IG51bGwsICJmaWxsIjogdHJ1ZSwgImZpbGxDb2xvciI6ICJibHVlIiwgImZpbGxPcGFjaXR5IjogMC42LCAiZmlsbFJ1bGUiOiAiZXZlbm9kZCIsICJsaW5lQ2FwIjogInJvdW5kIiwgImxpbmVKb2luIjogInJvdW5kIiwgIm9wYWNpdHkiOiAxLjAsICJyYWRpdXMiOiA1LCAic3Ryb2tlIjogdHJ1ZSwgIndlaWdodCI6IDN9CiAgICAgICAgICAgICkuYWRkVG8oZmVhdHVyZV9ncm91cF9lZGZlNmY5NDY3MGM0NGI1YjU5YmM1ZTY0NTQ4YmZlOCk7CiAgICAgICAgCiAgICAKICAgICAgICAgICAgdmFyIGNpcmNsZV9tYXJrZXJfNjIxNGU5ODk2NTY5NDE0YWE4NWYzMjgxOWI0NmNmNmQgPSBMLmNpcmNsZU1hcmtlcigKICAgICAgICAgICAgICAgIFszNy43MjM5NzQ4MjQxNjA5LCAtMTIyLjM5NDkyODQ3NThdLAogICAgICAgICAgICAgICAgeyJidWJibGluZ01vdXNlRXZlbnRzIjogdHJ1ZSwgImNvbG9yIjogInllbGxvdyIsICJkYXNoQXJyYXkiOiBudWxsLCAiZGFzaE9mZnNldCI6IG51bGwsICJmaWxsIjogdHJ1ZSwgImZpbGxDb2xvciI6ICJibHVlIiwgImZpbGxPcGFjaXR5IjogMC42LCAiZmlsbFJ1bGUiOiAiZXZlbm9kZCIsICJsaW5lQ2FwIjogInJvdW5kIiwgImxpbmVKb2luIjogInJvdW5kIiwgIm9wYWNpdHkiOiAxLjAsICJyYWRpdXMiOiA1LCAic3Ryb2tlIjogdHJ1ZSwgIndlaWdodCI6IDN9CiAgICAgICAgICAgICkuYWRkVG8oZmVhdHVyZV9ncm91cF9lZGZlNmY5NDY3MGM0NGI1YjU5YmM1ZTY0NTQ4YmZlOCk7CiAgICAgICAgCiAgICAKICAgICAgICAgICAgdmFyIGNpcmNsZV9tYXJrZXJfZDE0OWRjMGIxODMwNDJmNDllYmNhNGUwNzFiNjliMzIgPSBMLmNpcmNsZU1hcmtlcigKICAgICAgICAgICAgICAgIFszNy43MjM5NzQ4MjQxNjA5LCAtMTIyLjM5NDkyODQ3NThdLAogICAgICAgICAgICAgICAgeyJidWJibGluZ01vdXNlRXZlbnRzIjogdHJ1ZSwgImNvbG9yIjogInllbGxvdyIsICJkYXNoQXJyYXkiOiBudWxsLCAiZGFzaE9mZnNldCI6IG51bGwsICJmaWxsIjogdHJ1ZSwgImZpbGxDb2xvciI6ICJibHVlIiwgImZpbGxPcGFjaXR5IjogMC42LCAiZmlsbFJ1bGUiOiAiZXZlbm9kZCIsICJsaW5lQ2FwIjogInJvdW5kIiwgImxpbmVKb2luIjogInJvdW5kIiwgIm9wYWNpdHkiOiAxLjAsICJyYWRpdXMiOiA1LCAic3Ryb2tlIjogdHJ1ZSwgIndlaWdodCI6IDN9CiAgICAgICAgICAgICkuYWRkVG8oZmVhdHVyZV9ncm91cF9lZGZlNmY5NDY3MGM0NGI1YjU5YmM1ZTY0NTQ4YmZlOCk7CiAgICAgICAgCiAgICAKICAgICAgICAgICAgdmFyIGNpcmNsZV9tYXJrZXJfY2M4MTJlNDQxZDcyNGQyZWEwODIyOTgzNjIwNjcxOGEgPSBMLmNpcmNsZU1hcmtlcigKICAgICAgICAgICAgICAgIFszNy43ODgzMjM1NDQ5OTA0LCAtMTIyLjQxMTg1NzAzMjU0XSwKICAgICAgICAgICAgICAgIHsiYnViYmxpbmdNb3VzZUV2ZW50cyI6IHRydWUsICJjb2xvciI6ICJ5ZWxsb3ciLCAiZGFzaEFycmF5IjogbnVsbCwgImRhc2hPZmZzZXQiOiBudWxsLCAiZmlsbCI6IHRydWUsICJmaWxsQ29sb3IiOiAiYmx1ZSIsICJmaWxsT3BhY2l0eSI6IDAuNiwgImZpbGxSdWxlIjogImV2ZW5vZGQiLCAibGluZUNhcCI6ICJyb3VuZCIsICJsaW5lSm9pbiI6ICJyb3VuZCIsICJvcGFjaXR5IjogMS4wLCAicmFkaXVzIjogNSwgInN0cm9rZSI6IHRydWUsICJ3ZWlnaHQiOiAzfQogICAgICAgICAgICApLmFkZFRvKGZlYXR1cmVfZ3JvdXBfZWRmZTZmOTQ2NzBjNDRiNWI1OWJjNWU2NDU0OGJmZTgpOwogICAgICAgIAogICAgCiAgICAgICAgICAgIHZhciBjaXJjbGVfbWFya2VyX2E1ODc0M2Y3YTYxMzQ1MzliZmE4ZDVlOGE5Njg5ZTgwID0gTC5jaXJjbGVNYXJrZXIoCiAgICAgICAgICAgICAgICBbMzcuNzU1OTk3NzMzOTg1NiwgLTEyMi40MDk0MzU2MTcxMDZdLAogICAgICAgICAgICAgICAgeyJidWJibGluZ01vdXNlRXZlbnRzIjogdHJ1ZSwgImNvbG9yIjogInllbGxvdyIsICJkYXNoQXJyYXkiOiBudWxsLCAiZGFzaE9mZnNldCI6IG51bGwsICJmaWxsIjogdHJ1ZSwgImZpbGxDb2xvciI6ICJibHVlIiwgImZpbGxPcGFjaXR5IjogMC42LCAiZmlsbFJ1bGUiOiAiZXZlbm9kZCIsICJsaW5lQ2FwIjogInJvdW5kIiwgImxpbmVKb2luIjogInJvdW5kIiwgIm9wYWNpdHkiOiAxLjAsICJyYWRpdXMiOiA1LCAic3Ryb2tlIjogdHJ1ZSwgIndlaWdodCI6IDN9CiAgICAgICAgICAgICkuYWRkVG8oZmVhdHVyZV9ncm91cF9lZGZlNmY5NDY3MGM0NGI1YjU5YmM1ZTY0NTQ4YmZlOCk7CiAgICAgICAgCiAgICAKICAgICAgICAgICAgdmFyIGNpcmNsZV9tYXJrZXJfZTViNTFmYjNkOTY4NDg5Njg3NzU4MGViZWJhZGZhNjIgPSBMLmNpcmNsZU1hcmtlcigKICAgICAgICAgICAgICAgIFszNy43ODcwNzk4MTQ0NDQzLCAtMTIyLjQyNTg4MzM1ODE0OF0sCiAgICAgICAgICAgICAgICB7ImJ1YmJsaW5nTW91c2VFdmVudHMiOiB0cnVlLCAiY29sb3IiOiAieWVsbG93IiwgImRhc2hBcnJheSI6IG51bGwsICJkYXNoT2Zmc2V0IjogbnVsbCwgImZpbGwiOiB0cnVlLCAiZmlsbENvbG9yIjogImJsdWUiLCAiZmlsbE9wYWNpdHkiOiAwLjYsICJmaWxsUnVsZSI6ICJldmVub2RkIiwgImxpbmVDYXAiOiAicm91bmQiLCAibGluZUpvaW4iOiAicm91bmQiLCAib3BhY2l0eSI6IDEuMCwgInJhZGl1cyI6IDUsICJzdHJva2UiOiB0cnVlLCAid2VpZ2h0IjogM30KICAgICAgICAgICAgKS5hZGRUbyhmZWF0dXJlX2dyb3VwX2VkZmU2Zjk0NjcwYzQ0YjViNTliYzVlNjQ1NDhiZmU4KTsKICAgICAgICAKICAgIAogICAgICAgICAgICB2YXIgY2lyY2xlX21hcmtlcl8xYTFiOTVkM2EwOWI0NTk2OGQ1Y2Y3MTJkYmIxNjkxNSA9IEwuY2lyY2xlTWFya2VyKAogICAgICAgICAgICAgICAgWzM3LjczNjAzNzQ0NjY4NjIwNCwgLTEyMi40MTUxMjY1NDMwMDEwMV0sCiAgICAgICAgICAgICAgICB7ImJ1YmJsaW5nTW91c2VFdmVudHMiOiB0cnVlLCAiY29sb3IiOiAieWVsbG93IiwgImRhc2hBcnJheSI6IG51bGwsICJkYXNoT2Zmc2V0IjogbnVsbCwgImZpbGwiOiB0cnVlLCAiZmlsbENvbG9yIjogImJsdWUiLCAiZmlsbE9wYWNpdHkiOiAwLjYsICJmaWxsUnVsZSI6ICJldmVub2RkIiwgImxpbmVDYXAiOiAicm91bmQiLCAibGluZUpvaW4iOiAicm91bmQiLCAib3BhY2l0eSI6IDEuMCwgInJhZGl1cyI6IDUsICJzdHJva2UiOiB0cnVlLCAid2VpZ2h0IjogM30KICAgICAgICAgICAgKS5hZGRUbyhmZWF0dXJlX2dyb3VwX2VkZmU2Zjk0NjcwYzQ0YjViNTliYzVlNjQ1NDhiZmU4KTsKICAgICAgICAKICAgIAogICAgICAgICAgICB2YXIgY2lyY2xlX21hcmtlcl9mMjFjZWVhMmIxNDE0MmQ3OWI5MDMxYTI4YzgzZDkyNCA9IEwuY2lyY2xlTWFya2VyKAogICAgICAgICAgICAgICAgWzM3LjcxMjc2Nzg4NDgyMSwgLTEyMi40MzE5MjgwMTEwODldLAogICAgICAgICAgICAgICAgeyJidWJibGluZ01vdXNlRXZlbnRzIjogdHJ1ZSwgImNvbG9yIjogInllbGxvdyIsICJkYXNoQXJyYXkiOiBudWxsLCAiZGFzaE9mZnNldCI6IG51bGwsICJmaWxsIjogdHJ1ZSwgImZpbGxDb2xvciI6ICJibHVlIiwgImZpbGxPcGFjaXR5IjogMC42LCAiZmlsbFJ1bGUiOiAiZXZlbm9kZCIsICJsaW5lQ2FwIjogInJvdW5kIiwgImxpbmVKb2luIjogInJvdW5kIiwgIm9wYWNpdHkiOiAxLjAsICJyYWRpdXMiOiA1LCAic3Ryb2tlIjogdHJ1ZSwgIndlaWdodCI6IDN9CiAgICAgICAgICAgICkuYWRkVG8oZmVhdHVyZV9ncm91cF9lZGZlNmY5NDY3MGM0NGI1YjU5YmM1ZTY0NTQ4YmZlOCk7CiAgICAgICAgCiAgICAKICAgICAgICAgICAgdmFyIGNpcmNsZV9tYXJrZXJfYjliZTI0MDQ2NDNkNDg5Yjg3ZGQ5N2FmN2UwMGFkZmEgPSBMLmNpcmNsZU1hcmtlcigKICAgICAgICAgICAgICAgIFszNy43ODk1NzEwMjU1ODYzLCAtMTIyLjQwMjE2MzcxMzYxOF0sCiAgICAgICAgICAgICAgICB7ImJ1YmJsaW5nTW91c2VFdmVudHMiOiB0cnVlLCAiY29sb3IiOiAieWVsbG93IiwgImRhc2hBcnJheSI6IG51bGwsICJkYXNoT2Zmc2V0IjogbnVsbCwgImZpbGwiOiB0cnVlLCAiZmlsbENvbG9yIjogImJsdWUiLCAiZmlsbE9wYWNpdHkiOiAwLjYsICJmaWxsUnVsZSI6ICJldmVub2RkIiwgImxpbmVDYXAiOiAicm91bmQiLCAibGluZUpvaW4iOiAicm91bmQiLCAib3BhY2l0eSI6IDEuMCwgInJhZGl1cyI6IDUsICJzdHJva2UiOiB0cnVlLCAid2VpZ2h0IjogM30KICAgICAgICAgICAgKS5hZGRUbyhmZWF0dXJlX2dyb3VwX2VkZmU2Zjk0NjcwYzQ0YjViNTliYzVlNjQ1NDhiZmU4KTsKICAgICAgICAKICAgIAogICAgICAgICAgICB2YXIgY2lyY2xlX21hcmtlcl9kMjZlZmZiMDA1ZjI0YzJlYmFjN2FmODlhNzM0YzM2YyA9IEwuY2lyY2xlTWFya2VyKAogICAgICAgICAgICAgICAgWzM3LjczMDc0MjkxNjk1NTksIC0xMjIuNDI5MzA2NzI4Mzc2XSwKICAgICAgICAgICAgICAgIHsiYnViYmxpbmdNb3VzZUV2ZW50cyI6IHRydWUsICJjb2xvciI6ICJ5ZWxsb3ciLCAiZGFzaEFycmF5IjogbnVsbCwgImRhc2hPZmZzZXQiOiBudWxsLCAiZmlsbCI6IHRydWUsICJmaWxsQ29sb3IiOiAiYmx1ZSIsICJmaWxsT3BhY2l0eSI6IDAuNiwgImZpbGxSdWxlIjogImV2ZW5vZGQiLCAibGluZUNhcCI6ICJyb3VuZCIsICJsaW5lSm9pbiI6ICJyb3VuZCIsICJvcGFjaXR5IjogMS4wLCAicmFkaXVzIjogNSwgInN0cm9rZSI6IHRydWUsICJ3ZWlnaHQiOiAzfQogICAgICAgICAgICApLmFkZFRvKGZlYXR1cmVfZ3JvdXBfZWRmZTZmOTQ2NzBjNDRiNWI1OWJjNWU2NDU0OGJmZTgpOwogICAgICAgIAogICAgCiAgICAgICAgICAgIHZhciBjaXJjbGVfbWFya2VyXzgzMTJhMmNkZTg5ZjQ2ZjZhYWIxY2Q3ZDczMTg5NTA5ID0gTC5jaXJjbGVNYXJrZXIoCiAgICAgICAgICAgICAgICBbMzcuNzgzODM2NTU2NTM0Nzk0LCAtMTIyLjQxMzc5MDk3Mjc4MDk5XSwKICAgICAgICAgICAgICAgIHsiYnViYmxpbmdNb3VzZUV2ZW50cyI6IHRydWUsICJjb2xvciI6ICJ5ZWxsb3ciLCAiZGFzaEFycmF5IjogbnVsbCwgImRhc2hPZmZzZXQiOiBudWxsLCAiZmlsbCI6IHRydWUsICJmaWxsQ29sb3IiOiAiYmx1ZSIsICJmaWxsT3BhY2l0eSI6IDAuNiwgImZpbGxSdWxlIjogImV2ZW5vZGQiLCAibGluZUNhcCI6ICJyb3VuZCIsICJsaW5lSm9pbiI6ICJyb3VuZCIsICJvcGFjaXR5IjogMS4wLCAicmFkaXVzIjogNSwgInN0cm9rZSI6IHRydWUsICJ3ZWlnaHQiOiAzfQogICAgICAgICAgICApLmFkZFRvKGZlYXR1cmVfZ3JvdXBfZWRmZTZmOTQ2NzBjNDRiNWI1OWJjNWU2NDU0OGJmZTgpOwogICAgICAgIAogICAgCiAgICAgICAgICAgIHZhciBjaXJjbGVfbWFya2VyX2MzMzllMjVjZmU0MzRmZjZiMGQ1MWMyNDc1NjIxNzI4ID0gTC5jaXJjbGVNYXJrZXIoCiAgICAgICAgICAgICAgICBbMzcuNzMwNzQyOTE2OTU1OSwgLTEyMi40MjkzMDY3MjgzNzZdLAogICAgICAgICAgICAgICAgeyJidWJibGluZ01vdXNlRXZlbnRzIjogdHJ1ZSwgImNvbG9yIjogInllbGxvdyIsICJkYXNoQXJyYXkiOiBudWxsLCAiZGFzaE9mZnNldCI6IG51bGwsICJmaWxsIjogdHJ1ZSwgImZpbGxDb2xvciI6ICJibHVlIiwgImZpbGxPcGFjaXR5IjogMC42LCAiZmlsbFJ1bGUiOiAiZXZlbm9kZCIsICJsaW5lQ2FwIjogInJvdW5kIiwgImxpbmVKb2luIjogInJvdW5kIiwgIm9wYWNpdHkiOiAxLjAsICJyYWRpdXMiOiA1LCAic3Ryb2tlIjogdHJ1ZSwgIndlaWdodCI6IDN9CiAgICAgICAgICAgICkuYWRkVG8oZmVhdHVyZV9ncm91cF9lZGZlNmY5NDY3MGM0NGI1YjU5YmM1ZTY0NTQ4YmZlOCk7CiAgICAgICAgCiAgICAKICAgICAgICAgICAgdmFyIGNpcmNsZV9tYXJrZXJfMzdkYzZjZGQxNTFmNDNhYmEzMWI4YzdjOGEyMGUzNDIgPSBMLmNpcmNsZU1hcmtlcigKICAgICAgICAgICAgICAgIFszNy43MzczNjIzNjA1MjEyOTYsIC0xMjIuNDIyMDY3MTg0OTM3XSwKICAgICAgICAgICAgICAgIHsiYnViYmxpbmdNb3VzZUV2ZW50cyI6IHRydWUsICJjb2xvciI6ICJ5ZWxsb3ciLCAiZGFzaEFycmF5IjogbnVsbCwgImRhc2hPZmZzZXQiOiBudWxsLCAiZmlsbCI6IHRydWUsICJmaWxsQ29sb3IiOiAiYmx1ZSIsICJmaWxsT3BhY2l0eSI6IDAuNiwgImZpbGxSdWxlIjogImV2ZW5vZGQiLCAibGluZUNhcCI6ICJyb3VuZCIsICJsaW5lSm9pbiI6ICJyb3VuZCIsICJvcGFjaXR5IjogMS4wLCAicmFkaXVzIjogNSwgInN0cm9rZSI6IHRydWUsICJ3ZWlnaHQiOiAzfQogICAgICAgICAgICApLmFkZFRvKGZlYXR1cmVfZ3JvdXBfZWRmZTZmOTQ2NzBjNDRiNWI1OWJjNWU2NDU0OGJmZTgpOwogICAgICAgIAogICAgCiAgICAgICAgICAgIHZhciBjaXJjbGVfbWFya2VyXzRmMzRhM2VmY2FmMzQ1Zjk5MGMyZWVjZDAxYjRmY2MzID0gTC5jaXJjbGVNYXJrZXIoCiAgICAgICAgICAgICAgICBbMzcuNzM3MzYyMzYwNTIxMjk2LCAtMTIyLjQyMjA2NzE4NDkzN10sCiAgICAgICAgICAgICAgICB7ImJ1YmJsaW5nTW91c2VFdmVudHMiOiB0cnVlLCAiY29sb3IiOiAieWVsbG93IiwgImRhc2hBcnJheSI6IG51bGwsICJkYXNoT2Zmc2V0IjogbnVsbCwgImZpbGwiOiB0cnVlLCAiZmlsbENvbG9yIjogImJsdWUiLCAiZmlsbE9wYWNpdHkiOiAwLjYsICJmaWxsUnVsZSI6ICJldmVub2RkIiwgImxpbmVDYXAiOiAicm91bmQiLCAibGluZUpvaW4iOiAicm91bmQiLCAib3BhY2l0eSI6IDEuMCwgInJhZGl1cyI6IDUsICJzdHJva2UiOiB0cnVlLCAid2VpZ2h0IjogM30KICAgICAgICAgICAgKS5hZGRUbyhmZWF0dXJlX2dyb3VwX2VkZmU2Zjk0NjcwYzQ0YjViNTliYzVlNjQ1NDhiZmU4KTsKICAgICAgICAKICAgIAogICAgICAgICAgICB2YXIgY2lyY2xlX21hcmtlcl83MGYzYTMzMjI5OTk0Njg2YTc2ZjgxMjlmNmQwMTFiNCA9IEwuY2lyY2xlTWFya2VyKAogICAgICAgICAgICAgICAgWzM3Ljc4NTk5ODgzMjM3OTc5NiwgLTEyMi40MTE3NDczNzE5MjRdLAogICAgICAgICAgICAgICAgeyJidWJibGluZ01vdXNlRXZlbnRzIjogdHJ1ZSwgImNvbG9yIjogInllbGxvdyIsICJkYXNoQXJyYXkiOiBudWxsLCAiZGFzaE9mZnNldCI6IG51bGwsICJmaWxsIjogdHJ1ZSwgImZpbGxDb2xvciI6ICJibHVlIiwgImZpbGxPcGFjaXR5IjogMC42LCAiZmlsbFJ1bGUiOiAiZXZlbm9kZCIsICJsaW5lQ2FwIjogInJvdW5kIiwgImxpbmVKb2luIjogInJvdW5kIiwgIm9wYWNpdHkiOiAxLjAsICJyYWRpdXMiOiA1LCAic3Ryb2tlIjogdHJ1ZSwgIndlaWdodCI6IDN9CiAgICAgICAgICAgICkuYWRkVG8oZmVhdHVyZV9ncm91cF9lZGZlNmY5NDY3MGM0NGI1YjU5YmM1ZTY0NTQ4YmZlOCk7CiAgICAgICAgCiAgICAKICAgICAgICAgICAgdmFyIGNpcmNsZV9tYXJrZXJfYzVlYmQ1YjY3NmJkNDAyMTg4MDNjZDZkOWIzZWUzMTQgPSBMLmNpcmNsZU1hcmtlcigKICAgICAgICAgICAgICAgIFszNy43NjMzNzU4MDU4MDU5LCAtMTIyLjQyMDQzNDcyNDU1Mjk5XSwKICAgICAgICAgICAgICAgIHsiYnViYmxpbmdNb3VzZUV2ZW50cyI6IHRydWUsICJjb2xvciI6ICJ5ZWxsb3ciLCAiZGFzaEFycmF5IjogbnVsbCwgImRhc2hPZmZzZXQiOiBudWxsLCAiZmlsbCI6IHRydWUsICJmaWxsQ29sb3IiOiAiYmx1ZSIsICJmaWxsT3BhY2l0eSI6IDAuNiwgImZpbGxSdWxlIjogImV2ZW5vZGQiLCAibGluZUNhcCI6ICJyb3VuZCIsICJsaW5lSm9pbiI6ICJyb3VuZCIsICJvcGFjaXR5IjogMS4wLCAicmFkaXVzIjogNSwgInN0cm9rZSI6IHRydWUsICJ3ZWlnaHQiOiAzfQogICAgICAgICAgICApLmFkZFRvKGZlYXR1cmVfZ3JvdXBfZWRmZTZmOTQ2NzBjNDRiNWI1OWJjNWU2NDU0OGJmZTgpOwogICAgICAgIAogICAgCiAgICAgICAgICAgIHZhciBjaXJjbGVfbWFya2VyXzViNWRjM2VmZWMxODQ1Yjk4YjZkNmYzYzIxOTNjOWIxID0gTC5jaXJjbGVNYXJrZXIoCiAgICAgICAgICAgICAgICBbMzcuNzg1MDIyNjYyMjc4NiwgLTEyMi40MTE5ODc2NDM1OTUwMV0sCiAgICAgICAgICAgICAgICB7ImJ1YmJsaW5nTW91c2VFdmVudHMiOiB0cnVlLCAiY29sb3IiOiAieWVsbG93IiwgImRhc2hBcnJheSI6IG51bGwsICJkYXNoT2Zmc2V0IjogbnVsbCwgImZpbGwiOiB0cnVlLCAiZmlsbENvbG9yIjogImJsdWUiLCAiZmlsbE9wYWNpdHkiOiAwLjYsICJmaWxsUnVsZSI6ICJldmVub2RkIiwgImxpbmVDYXAiOiAicm91bmQiLCAibGluZUpvaW4iOiAicm91bmQiLCAib3BhY2l0eSI6IDEuMCwgInJhZGl1cyI6IDUsICJzdHJva2UiOiB0cnVlLCAid2VpZ2h0IjogM30KICAgICAgICAgICAgKS5hZGRUbyhmZWF0dXJlX2dyb3VwX2VkZmU2Zjk0NjcwYzQ0YjViNTliYzVlNjQ1NDhiZmU4KTsKICAgICAgICAKICAgIAogICAgICAgICAgICB2YXIgY2lyY2xlX21hcmtlcl8zNDY4Mzg4ODFmNWI0N2UxODczOTU3MGU1OTI1OTk5OSA9IEwuY2lyY2xlTWFya2VyKAogICAgICAgICAgICAgICAgWzM3Ljc3NDYyMDY0OTEwNjQ5NSwgLTEyMi41MDAzODA0Mjc5MTVdLAogICAgICAgICAgICAgICAgeyJidWJibGluZ01vdXNlRXZlbnRzIjogdHJ1ZSwgImNvbG9yIjogInllbGxvdyIsICJkYXNoQXJyYXkiOiBudWxsLCAiZGFzaE9mZnNldCI6IG51bGwsICJmaWxsIjogdHJ1ZSwgImZpbGxDb2xvciI6ICJibHVlIiwgImZpbGxPcGFjaXR5IjogMC42LCAiZmlsbFJ1bGUiOiAiZXZlbm9kZCIsICJsaW5lQ2FwIjogInJvdW5kIiwgImxpbmVKb2luIjogInJvdW5kIiwgIm9wYWNpdHkiOiAxLjAsICJyYWRpdXMiOiA1LCAic3Ryb2tlIjogdHJ1ZSwgIndlaWdodCI6IDN9CiAgICAgICAgICAgICkuYWRkVG8oZmVhdHVyZV9ncm91cF9lZGZlNmY5NDY3MGM0NGI1YjU5YmM1ZTY0NTQ4YmZlOCk7CiAgICAgICAgCiAgICAKICAgICAgICAgICAgdmFyIGNpcmNsZV9tYXJrZXJfNjljYmY0ODczNjU5NDAzMjg0MmUzMzQ4YjgwZDExMjAgPSBMLmNpcmNsZU1hcmtlcigKICAgICAgICAgICAgICAgIFszNy43NzUxOTE4MjY3MjE3LCAtMTIyLjQ2NjU1ODc4MDY4M10sCiAgICAgICAgICAgICAgICB7ImJ1YmJsaW5nTW91c2VFdmVudHMiOiB0cnVlLCAiY29sb3IiOiAieWVsbG93IiwgImRhc2hBcnJheSI6IG51bGwsICJkYXNoT2Zmc2V0IjogbnVsbCwgImZpbGwiOiB0cnVlLCAiZmlsbENvbG9yIjogImJsdWUiLCAiZmlsbE9wYWNpdHkiOiAwLjYsICJmaWxsUnVsZSI6ICJldmVub2RkIiwgImxpbmVDYXAiOiAicm91bmQiLCAibGluZUpvaW4iOiAicm91bmQiLCAib3BhY2l0eSI6IDEuMCwgInJhZGl1cyI6IDUsICJzdHJva2UiOiB0cnVlLCAid2VpZ2h0IjogM30KICAgICAgICAgICAgKS5hZGRUbyhmZWF0dXJlX2dyb3VwX2VkZmU2Zjk0NjcwYzQ0YjViNTliYzVlNjQ1NDhiZmU4KTsKICAgICAgICAKICAgIAogICAgICAgICAgICB2YXIgY2lyY2xlX21hcmtlcl84YzhjMTYyNmJjODQ0YzNmYWJmMGNlZTI2NWEyMGE4MSA9IEwuY2lyY2xlTWFya2VyKAogICAgICAgICAgICAgICAgWzM3Ljc0OTA4NDE3MjkwMjgsIC0xMjIuNDg2OTI1OTYwMTE0MDFdLAogICAgICAgICAgICAgICAgeyJidWJibGluZ01vdXNlRXZlbnRzIjogdHJ1ZSwgImNvbG9yIjogInllbGxvdyIsICJkYXNoQXJyYXkiOiBudWxsLCAiZGFzaE9mZnNldCI6IG51bGwsICJmaWxsIjogdHJ1ZSwgImZpbGxDb2xvciI6ICJibHVlIiwgImZpbGxPcGFjaXR5IjogMC42LCAiZmlsbFJ1bGUiOiAiZXZlbm9kZCIsICJsaW5lQ2FwIjogInJvdW5kIiwgImxpbmVKb2luIjogInJvdW5kIiwgIm9wYWNpdHkiOiAxLjAsICJyYWRpdXMiOiA1LCAic3Ryb2tlIjogdHJ1ZSwgIndlaWdodCI6IDN9CiAgICAgICAgICAgICkuYWRkVG8oZmVhdHVyZV9ncm91cF9lZGZlNmY5NDY3MGM0NGI1YjU5YmM1ZTY0NTQ4YmZlOCk7CiAgICAgICAgCiAgICAKICAgICAgICAgICAgdmFyIGNpcmNsZV9tYXJrZXJfNzljMWU4ZDg5OGIxNDI2ZDhjMGYyMDgxNGJjMGZkZWIgPSBMLmNpcmNsZU1hcmtlcigKICAgICAgICAgICAgICAgIFszNy43Njg1MzYwMTIzNTgzLCAtMTIyLjQxNTYxNjMzODMxOTk5XSwKICAgICAgICAgICAgICAgIHsiYnViYmxpbmdNb3VzZUV2ZW50cyI6IHRydWUsICJjb2xvciI6ICJ5ZWxsb3ciLCAiZGFzaEFycmF5IjogbnVsbCwgImRhc2hPZmZzZXQiOiBudWxsLCAiZmlsbCI6IHRydWUsICJmaWxsQ29sb3IiOiAiYmx1ZSIsICJmaWxsT3BhY2l0eSI6IDAuNiwgImZpbGxSdWxlIjogImV2ZW5vZGQiLCAibGluZUNhcCI6ICJyb3VuZCIsICJsaW5lSm9pbiI6ICJyb3VuZCIsICJvcGFjaXR5IjogMS4wLCAicmFkaXVzIjogNSwgInN0cm9rZSI6IHRydWUsICJ3ZWlnaHQiOiAzfQogICAgICAgICAgICApLmFkZFRvKGZlYXR1cmVfZ3JvdXBfZWRmZTZmOTQ2NzBjNDRiNWI1OWJjNWU2NDU0OGJmZTgpOwogICAgICAgIAogICAgCiAgICAgICAgICAgIHZhciBjaXJjbGVfbWFya2VyXzAyMDA1MDYwMmYxYTQxNWRhYzk5Mjk0ZDRiYTFmNjYyID0gTC5jaXJjbGVNYXJrZXIoCiAgICAgICAgICAgICAgICBbMzcuNzY0NDI5NzcxNDA3NCwgLTEyMi40NDk3NTE2NTI1NjNdLAogICAgICAgICAgICAgICAgeyJidWJibGluZ01vdXNlRXZlbnRzIjogdHJ1ZSwgImNvbG9yIjogInllbGxvdyIsICJkYXNoQXJyYXkiOiBudWxsLCAiZGFzaE9mZnNldCI6IG51bGwsICJmaWxsIjogdHJ1ZSwgImZpbGxDb2xvciI6ICJibHVlIiwgImZpbGxPcGFjaXR5IjogMC42LCAiZmlsbFJ1bGUiOiAiZXZlbm9kZCIsICJsaW5lQ2FwIjogInJvdW5kIiwgImxpbmVKb2luIjogInJvdW5kIiwgIm9wYWNpdHkiOiAxLjAsICJyYWRpdXMiOiA1LCAic3Ryb2tlIjogdHJ1ZSwgIndlaWdodCI6IDN9CiAgICAgICAgICAgICkuYWRkVG8oZmVhdHVyZV9ncm91cF9lZGZlNmY5NDY3MGM0NGI1YjU5YmM1ZTY0NTQ4YmZlOCk7CiAgICAgICAgCiAgICAKICAgICAgICAgICAgdmFyIGNpcmNsZV9tYXJrZXJfNzEyZmU0NGZmODg0NDNkYmEyNmE1YmNjZjBkZGI2NTcgPSBMLmNpcmNsZU1hcmtlcigKICAgICAgICAgICAgICAgIFszNy43NjQ0Mjk3NzE0MDc0LCAtMTIyLjQ0OTc1MTY1MjU2M10sCiAgICAgICAgICAgICAgICB7ImJ1YmJsaW5nTW91c2VFdmVudHMiOiB0cnVlLCAiY29sb3IiOiAieWVsbG93IiwgImRhc2hBcnJheSI6IG51bGwsICJkYXNoT2Zmc2V0IjogbnVsbCwgImZpbGwiOiB0cnVlLCAiZmlsbENvbG9yIjogImJsdWUiLCAiZmlsbE9wYWNpdHkiOiAwLjYsICJmaWxsUnVsZSI6ICJldmVub2RkIiwgImxpbmVDYXAiOiAicm91bmQiLCAibGluZUpvaW4iOiAicm91bmQiLCAib3BhY2l0eSI6IDEuMCwgInJhZGl1cyI6IDUsICJzdHJva2UiOiB0cnVlLCAid2VpZ2h0IjogM30KICAgICAgICAgICAgKS5hZGRUbyhmZWF0dXJlX2dyb3VwX2VkZmU2Zjk0NjcwYzQ0YjViNTliYzVlNjQ1NDhiZmU4KTsKICAgICAgICAKICAgIAogICAgICAgICAgICB2YXIgY2lyY2xlX21hcmtlcl8xODBjZWJhYjZlZTk0MDM3OWVkZWUwNTNmNWRlYzY3ZCA9IEwuY2lyY2xlTWFya2VyKAogICAgICAgICAgICAgICAgWzM3LjczNTI2ODE0NjkwODM5NiwgLTEyMi40NzI3MTU3NTk2MzFdLAogICAgICAgICAgICAgICAgeyJidWJibGluZ01vdXNlRXZlbnRzIjogdHJ1ZSwgImNvbG9yIjogInllbGxvdyIsICJkYXNoQXJyYXkiOiBudWxsLCAiZGFzaE9mZnNldCI6IG51bGwsICJmaWxsIjogdHJ1ZSwgImZpbGxDb2xvciI6ICJibHVlIiwgImZpbGxPcGFjaXR5IjogMC42LCAiZmlsbFJ1bGUiOiAiZXZlbm9kZCIsICJsaW5lQ2FwIjogInJvdW5kIiwgImxpbmVKb2luIjogInJvdW5kIiwgIm9wYWNpdHkiOiAxLjAsICJyYWRpdXMiOiA1LCAic3Ryb2tlIjogdHJ1ZSwgIndlaWdodCI6IDN9CiAgICAgICAgICAgICkuYWRkVG8oZmVhdHVyZV9ncm91cF9lZGZlNmY5NDY3MGM0NGI1YjU5YmM1ZTY0NTQ4YmZlOCk7CiAgICAgICAgCiAgICAKICAgICAgICAgICAgdmFyIG1hcmtlcl82MDliYWUwYmNkZDI0MTIxODI4ZGQzZDI1NTJiNmRjYiA9IEwubWFya2VyKAogICAgICAgICAgICAgICAgWzM3Ljc3NTQyMDcwNjcxMSwgLTEyMi40MDM0MDQ3OTE0Nzg5OV0sCiAgICAgICAgICAgICAgICB7fQogICAgICAgICAgICApLmFkZFRvKG1hcF9kOTRjYWU2ZjQ1NzA0ZjBjYmYwMDlkNWUzOWNjYWQxZSk7CiAgICAgICAgCiAgICAKICAgICAgICB2YXIgcG9wdXBfMjA2MzM3MmVmMTA5NDRkOGE2YjU5Y2EzNTBhYmY1NGEgPSBMLnBvcHVwKHsibWF4V2lkdGgiOiAiMTAwJSJ9KTsKCiAgICAgICAgCiAgICAgICAgICAgIHZhciBodG1sXzI4YzdlYmZiY2EwZjQwMDA4MTkyODg4YzdlMjk2ZmM3ID0gJChgPGRpdiBpZD0iaHRtbF8yOGM3ZWJmYmNhMGY0MDAwODE5Mjg4OGM3ZTI5NmZjNyIgc3R5bGU9IndpZHRoOiAxMDAuMCU7IGhlaWdodDogMTAwLjAlOyI+V0VBUE9OIExBV1M8L2Rpdj5gKVswXTsKICAgICAgICAgICAgcG9wdXBfMjA2MzM3MmVmMTA5NDRkOGE2YjU5Y2EzNTBhYmY1NGEuc2V0Q29udGVudChodG1sXzI4YzdlYmZiY2EwZjQwMDA4MTkyODg4YzdlMjk2ZmM3KTsKICAgICAgICAKCiAgICAgICAgbWFya2VyXzYwOWJhZTBiY2RkMjQxMjE4MjhkZDNkMjU1MmI2ZGNiLmJpbmRQb3B1cChwb3B1cF8yMDYzMzcyZWYxMDk0NGQ4YTZiNTljYTM1MGFiZjU0YSkKICAgICAgICA7CgogICAgICAgIAogICAgCiAgICAKICAgICAgICAgICAgdmFyIG1hcmtlcl81NzUwM2NhZDNlYzc0NzMzYWVlOTczNzQ2ZThiYWQwMiA9IEwubWFya2VyKAogICAgICAgICAgICAgICAgWzM3Ljc3NTQyMDcwNjcxMSwgLTEyMi40MDM0MDQ3OTE0Nzg5OV0sCiAgICAgICAgICAgICAgICB7fQogICAgICAgICAgICApLmFkZFRvKG1hcF9kOTRjYWU2ZjQ1NzA0ZjBjYmYwMDlkNWUzOWNjYWQxZSk7CiAgICAgICAgCiAgICAKICAgICAgICB2YXIgcG9wdXBfYTc1NzJhODQxMDhkNGY0Y2JhODQ5ZmM1NGM2ZTkzMjAgPSBMLnBvcHVwKHsibWF4V2lkdGgiOiAiMTAwJSJ9KTsKCiAgICAgICAgCiAgICAgICAgICAgIHZhciBodG1sXzJlNGJlZTVjMDZmYzQyZmZhOWUyMDU5NzJhZDdhYzMzID0gJChgPGRpdiBpZD0iaHRtbF8yZTRiZWU1YzA2ZmM0MmZmYTllMjA1OTcyYWQ3YWMzMyIgc3R5bGU9IndpZHRoOiAxMDAuMCU7IGhlaWdodDogMTAwLjAlOyI+V0VBUE9OIExBV1M8L2Rpdj5gKVswXTsKICAgICAgICAgICAgcG9wdXBfYTc1NzJhODQxMDhkNGY0Y2JhODQ5ZmM1NGM2ZTkzMjAuc2V0Q29udGVudChodG1sXzJlNGJlZTVjMDZmYzQyZmZhOWUyMDU5NzJhZDdhYzMzKTsKICAgICAgICAKCiAgICAgICAgbWFya2VyXzU3NTAzY2FkM2VjNzQ3MzNhZWU5NzM3NDZlOGJhZDAyLmJpbmRQb3B1cChwb3B1cF9hNzU3MmE4NDEwOGQ0ZjRjYmE4NDlmYzU0YzZlOTMyMCkKICAgICAgICA7CgogICAgICAgIAogICAgCiAgICAKICAgICAgICAgICAgdmFyIG1hcmtlcl8yNDgwNGMzN2M4YjE0YTE0YTEwMzhjYTBiYzM1ZDFiMiA9IEwubWFya2VyKAogICAgICAgICAgICAgICAgWzM3LjcyOTk4MDk2NzI5OTU5NiwgLTEyMi4zODg4NTYyMDQyOTJdLAogICAgICAgICAgICAgICAge30KICAgICAgICAgICAgKS5hZGRUbyhtYXBfZDk0Y2FlNmY0NTcwNGYwY2JmMDA5ZDVlMzljY2FkMWUpOwogICAgICAgIAogICAgCiAgICAgICAgdmFyIHBvcHVwXzk2MzY2MTI5YzVlMzRhZDZiYTU4N2M2ODUzZTQ1YjViID0gTC5wb3B1cCh7Im1heFdpZHRoIjogIjEwMCUifSk7CgogICAgICAgIAogICAgICAgICAgICB2YXIgaHRtbF84ZTM4OWI2YzRkZTg0YzZiYmY3NzI4M2I3YWY2ODg3NyA9ICQoYDxkaXYgaWQ9Imh0bWxfOGUzODliNmM0ZGU4NGM2YmJmNzcyODNiN2FmNjg4NzciIHN0eWxlPSJ3aWR0aDogMTAwLjAlOyBoZWlnaHQ6IDEwMC4wJTsiPldBUlJBTlRTPC9kaXY+YClbMF07CiAgICAgICAgICAgIHBvcHVwXzk2MzY2MTI5YzVlMzRhZDZiYTU4N2M2ODUzZTQ1YjViLnNldENvbnRlbnQoaHRtbF84ZTM4OWI2YzRkZTg0YzZiYmY3NzI4M2I3YWY2ODg3Nyk7CiAgICAgICAgCgogICAgICAgIG1hcmtlcl8yNDgwNGMzN2M4YjE0YTE0YTEwMzhjYTBiYzM1ZDFiMi5iaW5kUG9wdXAocG9wdXBfOTYzNjYxMjljNWUzNGFkNmJhNTg3YzY4NTNlNDViNWIpCiAgICAgICAgOwoKICAgICAgICAKICAgIAogICAgCiAgICAgICAgICAgIHZhciBtYXJrZXJfM2FhNDE2NmI0MWVlNGQxMWExYzllZGRlYjQzYjY2YTkgPSBMLm1hcmtlcigKICAgICAgICAgICAgICAgIFszNy43ODU3ODgzNzY2ODg3OSwgLTEyMi40MTI5NzA1Mzc1OTFdLAogICAgICAgICAgICAgICAge30KICAgICAgICAgICAgKS5hZGRUbyhtYXBfZDk0Y2FlNmY0NTcwNGYwY2JmMDA5ZDVlMzljY2FkMWUpOwogICAgICAgIAogICAgCiAgICAgICAgdmFyIHBvcHVwX2M4MGEwMmQzYzViNDQxODg5ODQ0NTM4NmI0YmQ1NDM4ID0gTC5wb3B1cCh7Im1heFdpZHRoIjogIjEwMCUifSk7CgogICAgICAgIAogICAgICAgICAgICB2YXIgaHRtbF9jZTg1ZmMzOWYzMjk0YmMzODU1NGUxODg1ZWEyYTI4YyA9ICQoYDxkaXYgaWQ9Imh0bWxfY2U4NWZjMzlmMzI5NGJjMzg1NTRlMTg4NWVhMmEyOGMiIHN0eWxlPSJ3aWR0aDogMTAwLjAlOyBoZWlnaHQ6IDEwMC4wJTsiPk5PTi1DUklNSU5BTDwvZGl2PmApWzBdOwogICAgICAgICAgICBwb3B1cF9jODBhMDJkM2M1YjQ0MTg4OTg0NDUzODZiNGJkNTQzOC5zZXRDb250ZW50KGh0bWxfY2U4NWZjMzlmMzI5NGJjMzg1NTRlMTg4NWVhMmEyOGMpOwogICAgICAgIAoKICAgICAgICBtYXJrZXJfM2FhNDE2NmI0MWVlNGQxMWExYzllZGRlYjQzYjY2YTkuYmluZFBvcHVwKHBvcHVwX2M4MGEwMmQzYzViNDQxODg5ODQ0NTM4NmI0YmQ1NDM4KQogICAgICAgIDsKCiAgICAgICAgCiAgICAKICAgIAogICAgICAgICAgICB2YXIgbWFya2VyXzlkNTk3N2IyYWU2ZjRhZmNhNzU4OWQ3Zjc1OWQ1MGYwID0gTC5tYXJrZXIoCiAgICAgICAgICAgICAgICBbMzcuNzY1MDUwMTIxNDY2OCwgLTEyMi40MTk2NzE3ODAyOTZdLAogICAgICAgICAgICAgICAge30KICAgICAgICAgICAgKS5hZGRUbyhtYXBfZDk0Y2FlNmY0NTcwNGYwY2JmMDA5ZDVlMzljY2FkMWUpOwogICAgICAgIAogICAgCiAgICAgICAgdmFyIHBvcHVwXzVjZTcxMjVmYjA4YzQ5ZjY4NmM5ODY1MWVmNmNmNjUzID0gTC5wb3B1cCh7Im1heFdpZHRoIjogIjEwMCUifSk7CgogICAgICAgIAogICAgICAgICAgICB2YXIgaHRtbF84ZTdhZWVjNWU4NGM0YTI1YTU0NzU5ZjY2NzliMjA1ZSA9ICQoYDxkaXYgaWQ9Imh0bWxfOGU3YWVlYzVlODRjNGEyNWE1NDc1OWY2Njc5YjIwNWUiIHN0eWxlPSJ3aWR0aDogMTAwLjAlOyBoZWlnaHQ6IDEwMC4wJTsiPk5PTi1DUklNSU5BTDwvZGl2PmApWzBdOwogICAgICAgICAgICBwb3B1cF81Y2U3MTI1ZmIwOGM0OWY2ODZjOTg2NTFlZjZjZjY1My5zZXRDb250ZW50KGh0bWxfOGU3YWVlYzVlODRjNGEyNWE1NDc1OWY2Njc5YjIwNWUpOwogICAgICAgIAoKICAgICAgICBtYXJrZXJfOWQ1OTc3YjJhZTZmNGFmY2E3NTg5ZDdmNzU5ZDUwZjAuYmluZFBvcHVwKHBvcHVwXzVjZTcxMjVmYjA4YzQ5ZjY4NmM5ODY1MWVmNmNmNjUzKQogICAgICAgIDsKCiAgICAgICAgCiAgICAKICAgIAogICAgICAgICAgICB2YXIgbWFya2VyXzcxNGQxMzgxYjU1NjQwMDRiMzY0M2U4NjlmODNlZDgwID0gTC5tYXJrZXIoCiAgICAgICAgICAgICAgICBbMzcuNzg4MDE4NTU1ODI5LCAtMTIyLjQyNjA3NzE3NzM3NDk5XSwKICAgICAgICAgICAgICAgIHt9CiAgICAgICAgICAgICkuYWRkVG8obWFwX2Q5NGNhZTZmNDU3MDRmMGNiZjAwOWQ1ZTM5Y2NhZDFlKTsKICAgICAgICAKICAgIAogICAgICAgIHZhciBwb3B1cF82ZThlZTMwYzI2MWY0Yjk4ODY4M2Y1NmZhYjE3MTYzZiA9IEwucG9wdXAoeyJtYXhXaWR0aCI6ICIxMDAlIn0pOwoKICAgICAgICAKICAgICAgICAgICAgdmFyIGh0bWxfOWIyOTk3NzRmZjgzNDA3Y2I3ZjU0YmJjMGExMTYyZDUgPSAkKGA8ZGl2IGlkPSJodG1sXzliMjk5Nzc0ZmY4MzQwN2NiN2Y1NGJiYzBhMTE2MmQ1IiBzdHlsZT0id2lkdGg6IDEwMC4wJTsgaGVpZ2h0OiAxMDAuMCU7Ij5BU1NBVUxUPC9kaXY+YClbMF07CiAgICAgICAgICAgIHBvcHVwXzZlOGVlMzBjMjYxZjRiOTg4NjgzZjU2ZmFiMTcxNjNmLnNldENvbnRlbnQoaHRtbF85YjI5OTc3NGZmODM0MDdjYjdmNTRiYmMwYTExNjJkNSk7CiAgICAgICAgCgogICAgICAgIG1hcmtlcl83MTRkMTM4MWI1NTY0MDA0YjM2NDNlODY5ZjgzZWQ4MC5iaW5kUG9wdXAocG9wdXBfNmU4ZWUzMGMyNjFmNGI5ODg2ODNmNTZmYWIxNzE2M2YpCiAgICAgICAgOwoKICAgICAgICAKICAgIAogICAgCiAgICAgICAgICAgIHZhciBtYXJrZXJfMzFjN2Y2MmM2YzQ1NDYzZjk2ODNjMTE1YWQzZmZjYzMgPSBMLm1hcmtlcigKICAgICAgICAgICAgICAgIFszNy43ODA4Nzg5MzYwMjE0LCAtMTIyLjQwNTcyMTQ1NDU2N10sCiAgICAgICAgICAgICAgICB7fQogICAgICAgICAgICApLmFkZFRvKG1hcF9kOTRjYWU2ZjQ1NzA0ZjBjYmYwMDlkNWUzOWNjYWQxZSk7CiAgICAgICAgCiAgICAKICAgICAgICB2YXIgcG9wdXBfYmQ3NmVlMGY2MGJkNDA5YWFjYmUwNjkwMDVhNGQzOWUgPSBMLnBvcHVwKHsibWF4V2lkdGgiOiAiMTAwJSJ9KTsKCiAgICAgICAgCiAgICAgICAgICAgIHZhciBodG1sXzQ5ZjI2YzYxZTJlODQ1NGI4YzQ5N2RkODhlZWE1Zjc4ID0gJChgPGRpdiBpZD0iaHRtbF80OWYyNmM2MWUyZTg0NTRiOGM0OTdkZDg4ZWVhNWY3OCIgc3R5bGU9IndpZHRoOiAxMDAuMCU7IGhlaWdodDogMTAwLjAlOyI+T1RIRVIgT0ZGRU5TRVM8L2Rpdj5gKVswXTsKICAgICAgICAgICAgcG9wdXBfYmQ3NmVlMGY2MGJkNDA5YWFjYmUwNjkwMDVhNGQzOWUuc2V0Q29udGVudChodG1sXzQ5ZjI2YzYxZTJlODQ1NGI4YzQ5N2RkODhlZWE1Zjc4KTsKICAgICAgICAKCiAgICAgICAgbWFya2VyXzMxYzdmNjJjNmM0NTQ2M2Y5NjgzYzExNWFkM2ZmY2MzLmJpbmRQb3B1cChwb3B1cF9iZDc2ZWUwZjYwYmQ0MDlhYWNiZTA2OTAwNWE0ZDM5ZSkKICAgICAgICA7CgogICAgICAgIAogICAgCiAgICAKICAgICAgICAgICAgdmFyIG1hcmtlcl81NGNiNDg4OGM4Zjk0N2JiOWE4YTVkMzRiNjdmMjRiMiA9IEwubWFya2VyKAogICAgICAgICAgICAgICAgWzM3Ljc4Mzk4MDU1OTI2MzQsIC0xMjIuNDExNzc4Mjk1OTkyXSwKICAgICAgICAgICAgICAgIHt9CiAgICAgICAgICAgICkuYWRkVG8obWFwX2Q5NGNhZTZmNDU3MDRmMGNiZjAwOWQ1ZTM5Y2NhZDFlKTsKICAgICAgICAKICAgIAogICAgICAgIHZhciBwb3B1cF9lOGZhOGIyOWUxOTA0MTY4OTE5OGJkMDU1OGEwMTdhMyA9IEwucG9wdXAoeyJtYXhXaWR0aCI6ICIxMDAlIn0pOwoKICAgICAgICAKICAgICAgICAgICAgdmFyIGh0bWxfMmE3NDNkYzZlZDUzNDQ4NmJiMGFiZTU3NDMyZjgyODMgPSAkKGA8ZGl2IGlkPSJodG1sXzJhNzQzZGM2ZWQ1MzQ0ODZiYjBhYmU1NzQzMmY4MjgzIiBzdHlsZT0id2lkdGg6IDEwMC4wJTsgaGVpZ2h0OiAxMDAuMCU7Ij5OT04tQ1JJTUlOQUw8L2Rpdj5gKVswXTsKICAgICAgICAgICAgcG9wdXBfZThmYThiMjllMTkwNDE2ODkxOThiZDA1NThhMDE3YTMuc2V0Q29udGVudChodG1sXzJhNzQzZGM2ZWQ1MzQ0ODZiYjBhYmU1NzQzMmY4MjgzKTsKICAgICAgICAKCiAgICAgICAgbWFya2VyXzU0Y2I0ODg4YzhmOTQ3YmI5YThhNWQzNGI2N2YyNGIyLmJpbmRQb3B1cChwb3B1cF9lOGZhOGIyOWUxOTA0MTY4OTE5OGJkMDU1OGEwMTdhMykKICAgICAgICA7CgogICAgICAgIAogICAgCiAgICAKICAgICAgICAgICAgdmFyIG1hcmtlcl9lZmE4MmVlOTE5NDQ0Y2YwYmJhOWE2ZWQ4NmNhMzYzNiA9IEwubWFya2VyKAogICAgICAgICAgICAgICAgWzM3Ljc3NTc4NzYyMTgyOTI5NSwgLTEyMi4zOTMzNTcyNDE0NTFdLAogICAgICAgICAgICAgICAge30KICAgICAgICAgICAgKS5hZGRUbyhtYXBfZDk0Y2FlNmY0NTcwNGYwY2JmMDA5ZDVlMzljY2FkMWUpOwogICAgICAgIAogICAgCiAgICAgICAgdmFyIHBvcHVwX2Y3OTlhNzBiYmE0YTRmNjQ5Njg4OGM4Zjk5NDQyNzVkID0gTC5wb3B1cCh7Im1heFdpZHRoIjogIjEwMCUifSk7CgogICAgICAgIAogICAgICAgICAgICB2YXIgaHRtbF84ZWRlZTQ3OGVlYjc0MzE4OTBhOWJjODE4OWJiMzFjYSA9ICQoYDxkaXYgaWQ9Imh0bWxfOGVkZWU0NzhlZWI3NDMxODkwYTliYzgxODliYjMxY2EiIHN0eWxlPSJ3aWR0aDogMTAwLjAlOyBoZWlnaHQ6IDEwMC4wJTsiPldBUlJBTlRTPC9kaXY+YClbMF07CiAgICAgICAgICAgIHBvcHVwX2Y3OTlhNzBiYmE0YTRmNjQ5Njg4OGM4Zjk5NDQyNzVkLnNldENvbnRlbnQoaHRtbF84ZWRlZTQ3OGVlYjc0MzE4OTBhOWJjODE4OWJiMzFjYSk7CiAgICAgICAgCgogICAgICAgIG1hcmtlcl9lZmE4MmVlOTE5NDQ0Y2YwYmJhOWE2ZWQ4NmNhMzYzNi5iaW5kUG9wdXAocG9wdXBfZjc5OWE3MGJiYTRhNGY2NDk2ODg4YzhmOTk0NDI3NWQpCiAgICAgICAgOwoKICAgICAgICAKICAgIAogICAgCiAgICAgICAgICAgIHZhciBtYXJrZXJfZTQ0YjhiOWJmYTExNDdiNzlkYjBhMTZlNDBiMWUzYTUgPSBMLm1hcmtlcigKICAgICAgICAgICAgICAgIFszNy43MjA5NjY5NjE1NDk5LCAtMTIyLjM4NzE4MTYzNTk5NV0sCiAgICAgICAgICAgICAgICB7fQogICAgICAgICAgICApLmFkZFRvKG1hcF9kOTRjYWU2ZjQ1NzA0ZjBjYmYwMDlkNWUzOWNjYWQxZSk7CiAgICAgICAgCiAgICAKICAgICAgICB2YXIgcG9wdXBfNWQ4ODRmOWE5YTNlNDMxOWFjM2M1ZDJmMGNjZTU4OWEgPSBMLnBvcHVwKHsibWF4V2lkdGgiOiAiMTAwJSJ9KTsKCiAgICAgICAgCiAgICAgICAgICAgIHZhciBodG1sXzY0YzcyNTc5N2E4OTQxYzA4NGJhZWNiYzI4MDZmMzliID0gJChgPGRpdiBpZD0iaHRtbF82NGM3MjU3OTdhODk0MWMwODRiYWVjYmMyODA2ZjM5YiIgc3R5bGU9IndpZHRoOiAxMDAuMCU7IGhlaWdodDogMTAwLjAlOyI+TUlTU0lORyBQRVJTT048L2Rpdj5gKVswXTsKICAgICAgICAgICAgcG9wdXBfNWQ4ODRmOWE5YTNlNDMxOWFjM2M1ZDJmMGNjZTU4OWEuc2V0Q29udGVudChodG1sXzY0YzcyNTc5N2E4OTQxYzA4NGJhZWNiYzI4MDZmMzliKTsKICAgICAgICAKCiAgICAgICAgbWFya2VyX2U0NGI4YjliZmExMTQ3Yjc5ZGIwYTE2ZTQwYjFlM2E1LmJpbmRQb3B1cChwb3B1cF81ZDg4NGY5YTlhM2U0MzE5YWMzYzVkMmYwY2NlNTg5YSkKICAgICAgICA7CgogICAgICAgIAogICAgCiAgICAKICAgICAgICAgICAgdmFyIG1hcmtlcl9iZDhlMjdmZjZiNzM0YmFkYTBkYzBlNmYyZWRkZWIxMCA9IEwubWFya2VyKAogICAgICAgICAgICAgICAgWzM3Ljc2NDQ3ODE1Nzg2OTUwNSwgLTEyMi40NzczNzY1MjQwMDI5OV0sCiAgICAgICAgICAgICAgICB7fQogICAgICAgICAgICApLmFkZFRvKG1hcF9kOTRjYWU2ZjQ1NzA0ZjBjYmYwMDlkNWUzOWNjYWQxZSk7CiAgICAgICAgCiAgICAKICAgICAgICB2YXIgcG9wdXBfYmM3OTJmNWQ4OWM5NDdhZTg4Y2M1OWRlZjUxZWNjMWUgPSBMLnBvcHVwKHsibWF4V2lkdGgiOiAiMTAwJSJ9KTsKCiAgICAgICAgCiAgICAgICAgICAgIHZhciBodG1sXzU4NTcyYjljYTliYTRiNGFiYzI3M2UyOTFjOTNkMDc1ID0gJChgPGRpdiBpZD0iaHRtbF81ODU3MmI5Y2E5YmE0YjRhYmMyNzNlMjkxYzkzZDA3NSIgc3R5bGU9IndpZHRoOiAxMDAuMCU7IGhlaWdodDogMTAwLjAlOyI+TEFSQ0VOWS9USEVGVDwvZGl2PmApWzBdOwogICAgICAgICAgICBwb3B1cF9iYzc5MmY1ZDg5Yzk0N2FlODhjYzU5ZGVmNTFlY2MxZS5zZXRDb250ZW50KGh0bWxfNTg1NzJiOWNhOWJhNGI0YWJjMjczZTI5MWM5M2QwNzUpOwogICAgICAgIAoKICAgICAgICBtYXJrZXJfYmQ4ZTI3ZmY2YjczNGJhZGEwZGMwZTZmMmVkZGViMTAuYmluZFBvcHVwKHBvcHVwX2JjNzkyZjVkODljOTQ3YWU4OGNjNTlkZWY1MWVjYzFlKQogICAgICAgIDsKCiAgICAgICAgCiAgICAKICAgIAogICAgICAgICAgICB2YXIgbWFya2VyXzE3Mjk4Mjc1ZWNkOTRlY2NiOTM3MmEzZmUzMDdhOGJkID0gTC5tYXJrZXIoCiAgICAgICAgICAgICAgICBbMzcuNzQ1NzM4OTQyOTY1NDk1LCAtMTIyLjQ3Nzk2MDMyNzI5OV0sCiAgICAgICAgICAgICAgICB7fQogICAgICAgICAgICApLmFkZFRvKG1hcF9kOTRjYWU2ZjQ1NzA0ZjBjYmYwMDlkNWUzOWNjYWQxZSk7CiAgICAgICAgCiAgICAKICAgICAgICB2YXIgcG9wdXBfNjZlM2E3ZmI0OTNhNGIxYmJjMjJkNTg5MGNhZGUwM2MgPSBMLnBvcHVwKHsibWF4V2lkdGgiOiAiMTAwJSJ9KTsKCiAgICAgICAgCiAgICAgICAgICAgIHZhciBodG1sXzg3YzE0ZDU4OTRmOTQ1MjNiZTBhYTg3YzI4YzQzNTgyID0gJChgPGRpdiBpZD0iaHRtbF84N2MxNGQ1ODk0Zjk0NTIzYmUwYWE4N2MyOGM0MzU4MiIgc3R5bGU9IndpZHRoOiAxMDAuMCU7IGhlaWdodDogMTAwLjAlOyI+Tk9OLUNSSU1JTkFMPC9kaXY+YClbMF07CiAgICAgICAgICAgIHBvcHVwXzY2ZTNhN2ZiNDkzYTRiMWJiYzIyZDU4OTBjYWRlMDNjLnNldENvbnRlbnQoaHRtbF84N2MxNGQ1ODk0Zjk0NTIzYmUwYWE4N2MyOGM0MzU4Mik7CiAgICAgICAgCgogICAgICAgIG1hcmtlcl8xNzI5ODI3NWVjZDk0ZWNjYjkzNzJhM2ZlMzA3YThiZC5iaW5kUG9wdXAocG9wdXBfNjZlM2E3ZmI0OTNhNGIxYmJjMjJkNTg5MGNhZGUwM2MpCiAgICAgICAgOwoKICAgICAgICAKICAgIAogICAgCiAgICAgICAgICAgIHZhciBtYXJrZXJfY2RmNDI5NDVhOTk0NDk0YTk5ZTk5ODA2YmQyYmU3YjMgPSBMLm1hcmtlcigKICAgICAgICAgICAgICAgIFszNy43MzU2OTcwMjc1NDgyMDYsIC0xMjIuMzc2NzU3NjU1NTMwMDFdLAogICAgICAgICAgICAgICAge30KICAgICAgICAgICAgKS5hZGRUbyhtYXBfZDk0Y2FlNmY0NTcwNGYwY2JmMDA5ZDVlMzljY2FkMWUpOwogICAgICAgIAogICAgCiAgICAgICAgdmFyIHBvcHVwXzU2ZTljZjcwODMwYjQ1MGU4YjNjYjNmOTBmYTc3ZDJmID0gTC5wb3B1cCh7Im1heFdpZHRoIjogIjEwMCUifSk7CgogICAgICAgIAogICAgICAgICAgICB2YXIgaHRtbF81OGM2Y2I1ZGUyZmY0ZTQ0ODc4YmExMjMwYjllZjRlNyA9ICQoYDxkaXYgaWQ9Imh0bWxfNThjNmNiNWRlMmZmNGU0NDg3OGJhMTIzMGI5ZWY0ZTciIHN0eWxlPSJ3aWR0aDogMTAwLjAlOyBoZWlnaHQ6IDEwMC4wJTsiPk9USEVSIE9GRkVOU0VTPC9kaXY+YClbMF07CiAgICAgICAgICAgIHBvcHVwXzU2ZTljZjcwODMwYjQ1MGU4YjNjYjNmOTBmYTc3ZDJmLnNldENvbnRlbnQoaHRtbF81OGM2Y2I1ZGUyZmY0ZTQ0ODc4YmExMjMwYjllZjRlNyk7CiAgICAgICAgCgogICAgICAgIG1hcmtlcl9jZGY0Mjk0NWE5OTQ0OTRhOTllOTk4MDZiZDJiZTdiMy5iaW5kUG9wdXAocG9wdXBfNTZlOWNmNzA4MzBiNDUwZThiM2NiM2Y5MGZhNzdkMmYpCiAgICAgICAgOwoKICAgICAgICAKICAgIAogICAgCiAgICAgICAgICAgIHZhciBtYXJrZXJfYmM5NDAzMmY4NmI1NDFkZGJiYzEzNjAxZjU0MjUwMGYgPSBMLm1hcmtlcigKICAgICAgICAgICAgICAgIFszNy43MjkyNzA1MTk5NTkyLCAtMTIyLjQzMjMyNTg3MTAyOF0sCiAgICAgICAgICAgICAgICB7fQogICAgICAgICAgICApLmFkZFRvKG1hcF9kOTRjYWU2ZjQ1NzA0ZjBjYmYwMDlkNWUzOWNjYWQxZSk7CiAgICAgICAgCiAgICAKICAgICAgICB2YXIgcG9wdXBfNmI0NWU0YjJmYTdmNGE3Yjg5NTVmNDAwNTM1NDNmY2YgPSBMLnBvcHVwKHsibWF4V2lkdGgiOiAiMTAwJSJ9KTsKCiAgICAgICAgCiAgICAgICAgICAgIHZhciBodG1sXzJiNWE5M2E2YzRmNDQyZDBiNWQzM2VkODJmYTczOWYyID0gJChgPGRpdiBpZD0iaHRtbF8yYjVhOTNhNmM0ZjQ0MmQwYjVkMzNlZDgyZmE3MzlmMiIgc3R5bGU9IndpZHRoOiAxMDAuMCU7IGhlaWdodDogMTAwLjAlOyI+QVNTQVVMVDwvZGl2PmApWzBdOwogICAgICAgICAgICBwb3B1cF82YjQ1ZTRiMmZhN2Y0YTdiODk1NWY0MDA1MzU0M2ZjZi5zZXRDb250ZW50KGh0bWxfMmI1YTkzYTZjNGY0NDJkMGI1ZDMzZWQ4MmZhNzM5ZjIpOwogICAgICAgIAoKICAgICAgICBtYXJrZXJfYmM5NDAzMmY4NmI1NDFkZGJiYzEzNjAxZjU0MjUwMGYuYmluZFBvcHVwKHBvcHVwXzZiNDVlNGIyZmE3ZjRhN2I4OTU1ZjQwMDUzNTQzZmNmKQogICAgICAgIDsKCiAgICAgICAgCiAgICAKICAgIAogICAgICAgICAgICB2YXIgbWFya2VyXzM1NzNlYjdmYzRkMDRhMDM4ZTcyNzVlOWYxNjc3YmZjID0gTC5tYXJrZXIoCiAgICAgICAgICAgICAgICBbMzcuNzkxNjQyOTgyMzg0LCAtMTIyLjQwMDkwODY5ODg4OTk5XSwKICAgICAgICAgICAgICAgIHt9CiAgICAgICAgICAgICkuYWRkVG8obWFwX2Q5NGNhZTZmNDU3MDRmMGNiZjAwOWQ1ZTM5Y2NhZDFlKTsKICAgICAgICAKICAgIAogICAgICAgIHZhciBwb3B1cF8yY2EwN2M0NGY4ZDI0YWM3OGEyNDBkY2NmNjU0YWY4OSA9IEwucG9wdXAoeyJtYXhXaWR0aCI6ICIxMDAlIn0pOwoKICAgICAgICAKICAgICAgICAgICAgdmFyIGh0bWxfYWFjYzI5MGZhYjU4NDE1Mzk4YjRlM2Q2MzA5OWUwMTMgPSAkKGA8ZGl2IGlkPSJodG1sX2FhY2MyOTBmYWI1ODQxNTM5OGI0ZTNkNjMwOTllMDEzIiBzdHlsZT0id2lkdGg6IDEwMC4wJTsgaGVpZ2h0OiAxMDAuMCU7Ij5CVVJHTEFSWTwvZGl2PmApWzBdOwogICAgICAgICAgICBwb3B1cF8yY2EwN2M0NGY4ZDI0YWM3OGEyNDBkY2NmNjU0YWY4OS5zZXRDb250ZW50KGh0bWxfYWFjYzI5MGZhYjU4NDE1Mzk4YjRlM2Q2MzA5OWUwMTMpOwogICAgICAgIAoKICAgICAgICBtYXJrZXJfMzU3M2ViN2ZjNGQwNGEwMzhlNzI3NWU5ZjE2NzdiZmMuYmluZFBvcHVwKHBvcHVwXzJjYTA3YzQ0ZjhkMjRhYzc4YTI0MGRjY2Y2NTRhZjg5KQogICAgICAgIDsKCiAgICAgICAgCiAgICAKICAgIAogICAgICAgICAgICB2YXIgbWFya2VyXzEzNzQyZTlmZGQ3MDRiMzM4NThkNWQxZjllMDE0YjY0ID0gTC5tYXJrZXIoCiAgICAgICAgICAgICAgICBbMzcuNzgzNzA2OTMwMTU0NSwgLTEyMi40MDg1OTUxMTA4NjldLAogICAgICAgICAgICAgICAge30KICAgICAgICAgICAgKS5hZGRUbyhtYXBfZDk0Y2FlNmY0NTcwNGYwY2JmMDA5ZDVlMzljY2FkMWUpOwogICAgICAgIAogICAgCiAgICAgICAgdmFyIHBvcHVwX2FmMzI5MTkzZDE0NDQ0OTQ4NjA3NzE5ZmFjMDY5OWU5ID0gTC5wb3B1cCh7Im1heFdpZHRoIjogIjEwMCUifSk7CgogICAgICAgIAogICAgICAgICAgICB2YXIgaHRtbF9kMjA2MGFhNGQzM2Q0NWY3ODY1OGIxYWUwOTcwNWEzYiA9ICQoYDxkaXYgaWQ9Imh0bWxfZDIwNjBhYTRkMzNkNDVmNzg2NThiMWFlMDk3MDVhM2IiIHN0eWxlPSJ3aWR0aDogMTAwLjAlOyBoZWlnaHQ6IDEwMC4wJTsiPlNUT0xFTiBQUk9QRVJUWTwvZGl2PmApWzBdOwogICAgICAgICAgICBwb3B1cF9hZjMyOTE5M2QxNDQ0NDk0ODYwNzcxOWZhYzA2OTllOS5zZXRDb250ZW50KGh0bWxfZDIwNjBhYTRkMzNkNDVmNzg2NThiMWFlMDk3MDVhM2IpOwogICAgICAgIAoKICAgICAgICBtYXJrZXJfMTM3NDJlOWZkZDcwNGIzMzg1OGQ1ZDFmOWUwMTRiNjQuYmluZFBvcHVwKHBvcHVwX2FmMzI5MTkzZDE0NDQ0OTQ4NjA3NzE5ZmFjMDY5OWU5KQogICAgICAgIDsKCiAgICAgICAgCiAgICAKICAgIAogICAgICAgICAgICB2YXIgbWFya2VyXzA2ZDlkNGVmNDgyNjQ2MjA5MWEzNjQ1MDE0ZGRjZGYyID0gTC5tYXJrZXIoCiAgICAgICAgICAgICAgICBbMzcuNzU3Mjg5NTkwNDU3Nzk1LCAtMTIyLjQwNjg3MDQwMjA4Ml0sCiAgICAgICAgICAgICAgICB7fQogICAgICAgICAgICApLmFkZFRvKG1hcF9kOTRjYWU2ZjQ1NzA0ZjBjYmYwMDlkNWUzOWNjYWQxZSk7CiAgICAgICAgCiAgICAKICAgICAgICB2YXIgcG9wdXBfM2RmOWJkZWIxNjBlNDg3ZGJhN2NmMjNlMTgyOWY3MjYgPSBMLnBvcHVwKHsibWF4V2lkdGgiOiAiMTAwJSJ9KTsKCiAgICAgICAgCiAgICAgICAgICAgIHZhciBodG1sXzUxYTY4ODQ5ZjMzNTQwNGNiMTc2YWFhMzc4ODdlYzVkID0gJChgPGRpdiBpZD0iaHRtbF81MWE2ODg0OWYzMzU0MDRjYjE3NmFhYTM3ODg3ZWM1ZCIgc3R5bGU9IndpZHRoOiAxMDAuMCU7IGhlaWdodDogMTAwLjAlOyI+Uk9CQkVSWTwvZGl2PmApWzBdOwogICAgICAgICAgICBwb3B1cF8zZGY5YmRlYjE2MGU0ODdkYmE3Y2YyM2UxODI5ZjcyNi5zZXRDb250ZW50KGh0bWxfNTFhNjg4NDlmMzM1NDA0Y2IxNzZhYWEzNzg4N2VjNWQpOwogICAgICAgIAoKICAgICAgICBtYXJrZXJfMDZkOWQ0ZWY0ODI2NDYyMDkxYTM2NDUwMTRkZGNkZjIuYmluZFBvcHVwKHBvcHVwXzNkZjliZGViMTYwZTQ4N2RiYTdjZjIzZTE4MjlmNzI2KQogICAgICAgIDsKCiAgICAgICAgCiAgICAKICAgIAogICAgICAgICAgICB2YXIgbWFya2VyXzU3OWQ4ZTRlYWE1YzRhNjVhMjE1NDc0YjI1NjFmZGUwID0gTC5tYXJrZXIoCiAgICAgICAgICAgICAgICBbMzcuNzQ4OTA2MzA1MTgyOSwgLTEyMi40MjAzNTQ3ODA4NjA5OV0sCiAgICAgICAgICAgICAgICB7fQogICAgICAgICAgICApLmFkZFRvKG1hcF9kOTRjYWU2ZjQ1NzA0ZjBjYmYwMDlkNWUzOWNjYWQxZSk7CiAgICAgICAgCiAgICAKICAgICAgICB2YXIgcG9wdXBfMjhmNTE5OWI4ODFmNGY2MzhlYTgzYTZmMDEzMWEwNzMgPSBMLnBvcHVwKHsibWF4V2lkdGgiOiAiMTAwJSJ9KTsKCiAgICAgICAgCiAgICAgICAgICAgIHZhciBodG1sXzU4ODhhNzcwMWJjZjQ1M2U4NWMyNmZiNzczMmNmOWYwID0gJChgPGRpdiBpZD0iaHRtbF81ODg4YTc3MDFiY2Y0NTNlODVjMjZmYjc3MzJjZjlmMCIgc3R5bGU9IndpZHRoOiAxMDAuMCU7IGhlaWdodDogMTAwLjAlOyI+QVNTQVVMVDwvZGl2PmApWzBdOwogICAgICAgICAgICBwb3B1cF8yOGY1MTk5Yjg4MWY0ZjYzOGVhODNhNmYwMTMxYTA3My5zZXRDb250ZW50KGh0bWxfNTg4OGE3NzAxYmNmNDUzZTg1YzI2ZmI3NzMyY2Y5ZjApOwogICAgICAgIAoKICAgICAgICBtYXJrZXJfNTc5ZDhlNGVhYTVjNGE2NWEyMTU0NzRiMjU2MWZkZTAuYmluZFBvcHVwKHBvcHVwXzI4ZjUxOTliODgxZjRmNjM4ZWE4M2E2ZjAxMzFhMDczKQogICAgICAgIDsKCiAgICAgICAgCiAgICAKICAgIAogICAgICAgICAgICB2YXIgbWFya2VyX2UyMGUzYWIyZmU1NzQ1MGZiM2ZhOGJjN2ViMDNlZmNjID0gTC5tYXJrZXIoCiAgICAgICAgICAgICAgICBbMzcuNzE1NzY1NDI2OTk1LCAtMTIyLjQzOTkwOTc2Njc3Ml0sCiAgICAgICAgICAgICAgICB7fQogICAgICAgICAgICApLmFkZFRvKG1hcF9kOTRjYWU2ZjQ1NzA0ZjBjYmYwMDlkNWUzOWNjYWQxZSk7CiAgICAgICAgCiAgICAKICAgICAgICB2YXIgcG9wdXBfMjkxMDNjOWFlOGYwNDQ1Nzk1MjZiZWQwZGI4NDliYWQgPSBMLnBvcHVwKHsibWF4V2lkdGgiOiAiMTAwJSJ9KTsKCiAgICAgICAgCiAgICAgICAgICAgIHZhciBodG1sXzE2MDIzYmQ4NzdlMjQ5MTdhNTY0ZTEwNzdmYmYwNWY4ID0gJChgPGRpdiBpZD0iaHRtbF8xNjAyM2JkODc3ZTI0OTE3YTU2NGUxMDc3ZmJmMDVmOCIgc3R5bGU9IndpZHRoOiAxMDAuMCU7IGhlaWdodDogMTAwLjAlOyI+QVNTQVVMVDwvZGl2PmApWzBdOwogICAgICAgICAgICBwb3B1cF8yOTEwM2M5YWU4ZjA0NDU3OTUyNmJlZDBkYjg0OWJhZC5zZXRDb250ZW50KGh0bWxfMTYwMjNiZDg3N2UyNDkxN2E1NjRlMTA3N2ZiZjA1ZjgpOwogICAgICAgIAoKICAgICAgICBtYXJrZXJfZTIwZTNhYjJmZTU3NDUwZmIzZmE4YmM3ZWIwM2VmY2MuYmluZFBvcHVwKHBvcHVwXzI5MTAzYzlhZThmMDQ0NTc5NTI2YmVkMGRiODQ5YmFkKQogICAgICAgIDsKCiAgICAgICAgCiAgICAKICAgIAogICAgICAgICAgICB2YXIgbWFya2VyXzc5NmE1MjkzOTc3ZjQ1MDI4YmQxMDNlODhiMDUzNWY4ID0gTC5tYXJrZXIoCiAgICAgICAgICAgICAgICBbMzcuNzgzNTY5OTM4NjkxOCwgLTEyMi40MDg0MjExMTY5MjJdLAogICAgICAgICAgICAgICAge30KICAgICAgICAgICAgKS5hZGRUbyhtYXBfZDk0Y2FlNmY0NTcwNGYwY2JmMDA5ZDVlMzljY2FkMWUpOwogICAgICAgIAogICAgCiAgICAgICAgdmFyIHBvcHVwX2IwZjg2MGMxN2NhZDQ0MDRhZDlkM2JkODFlYmM5NWRhID0gTC5wb3B1cCh7Im1heFdpZHRoIjogIjEwMCUifSk7CgogICAgICAgIAogICAgICAgICAgICB2YXIgaHRtbF8zNGM5MmRjOTcxMWE0ZmNkODhiNmU5ZTMzNjFlZGY5OCA9ICQoYDxkaXYgaWQ9Imh0bWxfMzRjOTJkYzk3MTFhNGZjZDg4YjZlOWUzMzYxZWRmOTgiIHN0eWxlPSJ3aWR0aDogMTAwLjAlOyBoZWlnaHQ6IDEwMC4wJTsiPkxBUkNFTlkvVEhFRlQ8L2Rpdj5gKVswXTsKICAgICAgICAgICAgcG9wdXBfYjBmODYwYzE3Y2FkNDQwNGFkOWQzYmQ4MWViYzk1ZGEuc2V0Q29udGVudChodG1sXzM0YzkyZGM5NzExYTRmY2Q4OGI2ZTllMzM2MWVkZjk4KTsKICAgICAgICAKCiAgICAgICAgbWFya2VyXzc5NmE1MjkzOTc3ZjQ1MDI4YmQxMDNlODhiMDUzNWY4LmJpbmRQb3B1cChwb3B1cF9iMGY4NjBjMTdjYWQ0NDA0YWQ5ZDNiZDgxZWJjOTVkYSkKICAgICAgICA7CgogICAgICAgIAogICAgCiAgICAKICAgICAgICAgICAgdmFyIG1hcmtlcl81NDg2Yzk1NTM4YmE0NDU0YTBmYWEyNWZhNGVkYzI1MSA9IEwubWFya2VyKAogICAgICAgICAgICAgICAgWzM3Ljc3MzYxODYyNzY0NTYwNCwgLTEyMi40MjIzMTU2NzA3NDldLAogICAgICAgICAgICAgICAge30KICAgICAgICAgICAgKS5hZGRUbyhtYXBfZDk0Y2FlNmY0NTcwNGYwY2JmMDA5ZDVlMzljY2FkMWUpOwogICAgICAgIAogICAgCiAgICAgICAgdmFyIHBvcHVwX2NiNDAxM2E1NjZhMjQ3MGI5NWM5ZTlhMzI2NjBiZTU5ID0gTC5wb3B1cCh7Im1heFdpZHRoIjogIjEwMCUifSk7CgogICAgICAgIAogICAgICAgICAgICB2YXIgaHRtbF80ODEzOWE5ZTliYmU0NjViOWI1NzQ1YjdmODA5NDI5ZiA9ICQoYDxkaXYgaWQ9Imh0bWxfNDgxMzlhOWU5YmJlNDY1YjliNTc0NWI3ZjgwOTQyOWYiIHN0eWxlPSJ3aWR0aDogMTAwLjAlOyBoZWlnaHQ6IDEwMC4wJTsiPkZSQVVEPC9kaXY+YClbMF07CiAgICAgICAgICAgIHBvcHVwX2NiNDAxM2E1NjZhMjQ3MGI5NWM5ZTlhMzI2NjBiZTU5LnNldENvbnRlbnQoaHRtbF80ODEzOWE5ZTliYmU0NjViOWI1NzQ1YjdmODA5NDI5Zik7CiAgICAgICAgCgogICAgICAgIG1hcmtlcl81NDg2Yzk1NTM4YmE0NDU0YTBmYWEyNWZhNGVkYzI1MS5iaW5kUG9wdXAocG9wdXBfY2I0MDEzYTU2NmEyNDcwYjk1YzllOWEzMjY2MGJlNTkpCiAgICAgICAgOwoKICAgICAgICAKICAgIAogICAgCiAgICAgICAgICAgIHZhciBtYXJrZXJfYWE4ODllNjA3OTIwNDRjZWJhY2E5NjQ1YzAzODQyZGMgPSBMLm1hcmtlcigKICAgICAgICAgICAgICAgIFszNy43OTI4NDEyODQwNDQ3MDUsIC0xMjIuNDI0NTE5ODM1MDA5MDFdLAogICAgICAgICAgICAgICAge30KICAgICAgICAgICAgKS5hZGRUbyhtYXBfZDk0Y2FlNmY0NTcwNGYwY2JmMDA5ZDVlMzljY2FkMWUpOwogICAgICAgIAogICAgCiAgICAgICAgdmFyIHBvcHVwX2FkOTAxOTcyYTY3MTQ5MTM4ZTQ1YWRiYjNjYTA1ZTI3ID0gTC5wb3B1cCh7Im1heFdpZHRoIjogIjEwMCUifSk7CgogICAgICAgIAogICAgICAgICAgICB2YXIgaHRtbF85NTg1ODNlMTkzOTk0NWI2YmVjMjQ3ZGJjYTg4MzI5ZCA9ICQoYDxkaXYgaWQ9Imh0bWxfOTU4NTgzZTE5Mzk5NDViNmJlYzI0N2RiY2E4ODMyOWQiIHN0eWxlPSJ3aWR0aDogMTAwLjAlOyBoZWlnaHQ6IDEwMC4wJTsiPldBUlJBTlRTPC9kaXY+YClbMF07CiAgICAgICAgICAgIHBvcHVwX2FkOTAxOTcyYTY3MTQ5MTM4ZTQ1YWRiYjNjYTA1ZTI3LnNldENvbnRlbnQoaHRtbF85NTg1ODNlMTkzOTk0NWI2YmVjMjQ3ZGJjYTg4MzI5ZCk7CiAgICAgICAgCgogICAgICAgIG1hcmtlcl9hYTg4OWU2MDc5MjA0NGNlYmFjYTk2NDVjMDM4NDJkYy5iaW5kUG9wdXAocG9wdXBfYWQ5MDE5NzJhNjcxNDkxMzhlNDVhZGJiM2NhMDVlMjcpCiAgICAgICAgOwoKICAgICAgICAKICAgIAogICAgCiAgICAgICAgICAgIHZhciBtYXJrZXJfNzdhOWJhNThjMjAwNDFhMDgzMzliOTIwYzg4Yjk2ZjAgPSBMLm1hcmtlcigKICAgICAgICAgICAgICAgIFszNy43NTQwOTg2ODgyMDY3OTUsIC0xMjIuNDE0MjMzODQ5MDM3OThdLAogICAgICAgICAgICAgICAge30KICAgICAgICAgICAgKS5hZGRUbyhtYXBfZDk0Y2FlNmY0NTcwNGYwY2JmMDA5ZDVlMzljY2FkMWUpOwogICAgICAgIAogICAgCiAgICAgICAgdmFyIHBvcHVwXzE1NzE2YTk5YTY2MTRmYmJhZGUwNzc0Yzg3YjI4NDdiID0gTC5wb3B1cCh7Im1heFdpZHRoIjogIjEwMCUifSk7CgogICAgICAgIAogICAgICAgICAgICB2YXIgaHRtbF84NGI1YmVkYTk2ZWQ0ZDY4YTc4ODlhZTFkMjVkMzM4ZCA9ICQoYDxkaXYgaWQ9Imh0bWxfODRiNWJlZGE5NmVkNGQ2OGE3ODg5YWUxZDI1ZDMzOGQiIHN0eWxlPSJ3aWR0aDogMTAwLjAlOyBoZWlnaHQ6IDEwMC4wJTsiPkRSVUcvTkFSQ09USUM8L2Rpdj5gKVswXTsKICAgICAgICAgICAgcG9wdXBfMTU3MTZhOTlhNjYxNGZiYmFkZTA3NzRjODdiMjg0N2Iuc2V0Q29udGVudChodG1sXzg0YjViZWRhOTZlZDRkNjhhNzg4OWFlMWQyNWQzMzhkKTsKICAgICAgICAKCiAgICAgICAgbWFya2VyXzc3YTliYTU4YzIwMDQxYTA4MzM5YjkyMGM4OGI5NmYwLmJpbmRQb3B1cChwb3B1cF8xNTcxNmE5OWE2NjE0ZmJiYWRlMDc3NGM4N2IyODQ3YikKICAgICAgICA7CgogICAgICAgIAogICAgCiAgICAKICAgICAgICAgICAgdmFyIG1hcmtlcl9hMjAzZTU4NGNiMTE0N2QwODc1NDVjOThiOWZiYzM4YyA9IEwubWFya2VyKAogICAgICAgICAgICAgICAgWzM3Ljc1NDA5ODY4ODIwNjc5NSwgLTEyMi40MTQyMzM4NDkwMzc5OF0sCiAgICAgICAgICAgICAgICB7fQogICAgICAgICAgICApLmFkZFRvKG1hcF9kOTRjYWU2ZjQ1NzA0ZjBjYmYwMDlkNWUzOWNjYWQxZSk7CiAgICAgICAgCiAgICAKICAgICAgICB2YXIgcG9wdXBfZjFkMmFjNzQ2OGUwNGIzM2I4YjJjZmJkNzFiMTk0NzIgPSBMLnBvcHVwKHsibWF4V2lkdGgiOiAiMTAwJSJ9KTsKCiAgICAgICAgCiAgICAgICAgICAgIHZhciBodG1sXzc2NDg4YWI2MTdkYzRlZTE5YTMxYzI2YjdhZmE3NDUxID0gJChgPGRpdiBpZD0iaHRtbF83NjQ4OGFiNjE3ZGM0ZWUxOWEzMWMyNmI3YWZhNzQ1MSIgc3R5bGU9IndpZHRoOiAxMDAuMCU7IGhlaWdodDogMTAwLjAlOyI+T1RIRVIgT0ZGRU5TRVM8L2Rpdj5gKVswXTsKICAgICAgICAgICAgcG9wdXBfZjFkMmFjNzQ2OGUwNGIzM2I4YjJjZmJkNzFiMTk0NzIuc2V0Q29udGVudChodG1sXzc2NDg4YWI2MTdkYzRlZTE5YTMxYzI2YjdhZmE3NDUxKTsKICAgICAgICAKCiAgICAgICAgbWFya2VyX2EyMDNlNTg0Y2IxMTQ3ZDA4NzU0NWM5OGI5ZmJjMzhjLmJpbmRQb3B1cChwb3B1cF9mMWQyYWM3NDY4ZTA0YjMzYjhiMmNmYmQ3MWIxOTQ3MikKICAgICAgICA7CgogICAgICAgIAogICAgCiAgICAKICAgICAgICAgICAgdmFyIG1hcmtlcl82NWJjN2M5ZDI0YTQ0ZDM1YjE0YzM2OTJmMjNmZWFlNSA9IEwubWFya2VyKAogICAgICAgICAgICAgICAgWzM3Ljc3MTQ5Mzk5Njk0MTYsIC0xMjIuNTA3NzUwMTMxMDA0MDJdLAogICAgICAgICAgICAgICAge30KICAgICAgICAgICAgKS5hZGRUbyhtYXBfZDk0Y2FlNmY0NTcwNGYwY2JmMDA5ZDVlMzljY2FkMWUpOwogICAgICAgIAogICAgCiAgICAgICAgdmFyIHBvcHVwX2ZmMDMzY2Y2NjBmODQyMzBiMzIwZDNmY2Y0YWMwZGUxID0gTC5wb3B1cCh7Im1heFdpZHRoIjogIjEwMCUifSk7CgogICAgICAgIAogICAgICAgICAgICB2YXIgaHRtbF85NDlmNjFlZWU5OGY0NTY0OWEzZWJlYmEyODMzMTgyMSA9ICQoYDxkaXYgaWQ9Imh0bWxfOTQ5ZjYxZWVlOThmNDU2NDlhM2ViZWJhMjgzMzE4MjEiIHN0eWxlPSJ3aWR0aDogMTAwLjAlOyBoZWlnaHQ6IDEwMC4wJTsiPkFTU0FVTFQ8L2Rpdj5gKVswXTsKICAgICAgICAgICAgcG9wdXBfZmYwMzNjZjY2MGY4NDIzMGIzMjBkM2ZjZjRhYzBkZTEuc2V0Q29udGVudChodG1sXzk0OWY2MWVlZTk4ZjQ1NjQ5YTNlYmViYTI4MzMxODIxKTsKICAgICAgICAKCiAgICAgICAgbWFya2VyXzY1YmM3YzlkMjRhNDRkMzViMTRjMzY5MmYyM2ZlYWU1LmJpbmRQb3B1cChwb3B1cF9mZjAzM2NmNjYwZjg0MjMwYjMyMGQzZmNmNGFjMGRlMSkKICAgICAgICA7CgogICAgICAgIAogICAgCiAgICAKICAgICAgICAgICAgdmFyIG1hcmtlcl83ZGJhYzEzZGVkMjc0NzQ4ODg3ZjRjNzMwODI2NDJhNiA9IEwubWFya2VyKAogICAgICAgICAgICAgICAgWzM3LjcxODMwMjIwNDc2NjAwNSwgLTEyMi40NzQ0NDQ2Mzk1OTQ5OV0sCiAgICAgICAgICAgICAgICB7fQogICAgICAgICAgICApLmFkZFRvKG1hcF9kOTRjYWU2ZjQ1NzA0ZjBjYmYwMDlkNWUzOWNjYWQxZSk7CiAgICAgICAgCiAgICAKICAgICAgICB2YXIgcG9wdXBfMGYzNzUzZmQ4ZjYxNDFiNDg0YzgzYTNjMTkzMDA0ZDEgPSBMLnBvcHVwKHsibWF4V2lkdGgiOiAiMTAwJSJ9KTsKCiAgICAgICAgCiAgICAgICAgICAgIHZhciBodG1sX2IwZGM5ODg3ZDMzYTRjODI5OGViMWNmMWFlYjUyNDY3ID0gJChgPGRpdiBpZD0iaHRtbF9iMGRjOTg4N2QzM2E0YzgyOThlYjFjZjFhZWI1MjQ2NyIgc3R5bGU9IndpZHRoOiAxMDAuMCU7IGhlaWdodDogMTAwLjAlOyI+T1RIRVIgT0ZGRU5TRVM8L2Rpdj5gKVswXTsKICAgICAgICAgICAgcG9wdXBfMGYzNzUzZmQ4ZjYxNDFiNDg0YzgzYTNjMTkzMDA0ZDEuc2V0Q29udGVudChodG1sX2IwZGM5ODg3ZDMzYTRjODI5OGViMWNmMWFlYjUyNDY3KTsKICAgICAgICAKCiAgICAgICAgbWFya2VyXzdkYmFjMTNkZWQyNzQ3NDg4ODdmNGM3MzA4MjY0MmE2LmJpbmRQb3B1cChwb3B1cF8wZjM3NTNmZDhmNjE0MWI0ODRjODNhM2MxOTMwMDRkMSkKICAgICAgICA7CgogICAgICAgIAogICAgCiAgICAKICAgICAgICAgICAgdmFyIG1hcmtlcl85ZTQxMmVkNDU4ZGY0NWE5YTZhMTg2ZWU1ZTlkMjVhZCA9IEwubWFya2VyKAogICAgICAgICAgICAgICAgWzM3Ljc2NDU3NTIzMTc2MTUsIC0xMjIuNDI3NTYyNTk2OTg1XSwKICAgICAgICAgICAgICAgIHt9CiAgICAgICAgICAgICkuYWRkVG8obWFwX2Q5NGNhZTZmNDU3MDRmMGNiZjAwOWQ1ZTM5Y2NhZDFlKTsKICAgICAgICAKICAgIAogICAgICAgIHZhciBwb3B1cF9iYWI0OGM2YjJlNzQ0OTgyOGVkN2M5NjY1ZDEwY2E4YiA9IEwucG9wdXAoeyJtYXhXaWR0aCI6ICIxMDAlIn0pOwoKICAgICAgICAKICAgICAgICAgICAgdmFyIGh0bWxfYWI0NzU4YzM1OTdlNGMxYzkyMjQzNzlmNjg3ODhiYmEgPSAkKGA8ZGl2IGlkPSJodG1sX2FiNDc1OGMzNTk3ZTRjMWM5MjI0Mzc5ZjY4Nzg4YmJhIiBzdHlsZT0id2lkdGg6IDEwMC4wJTsgaGVpZ2h0OiAxMDAuMCU7Ij5PVEhFUiBPRkZFTlNFUzwvZGl2PmApWzBdOwogICAgICAgICAgICBwb3B1cF9iYWI0OGM2YjJlNzQ0OTgyOGVkN2M5NjY1ZDEwY2E4Yi5zZXRDb250ZW50KGh0bWxfYWI0NzU4YzM1OTdlNGMxYzkyMjQzNzlmNjg3ODhiYmEpOwogICAgICAgIAoKICAgICAgICBtYXJrZXJfOWU0MTJlZDQ1OGRmNDVhOWE2YTE4NmVlNWU5ZDI1YWQuYmluZFBvcHVwKHBvcHVwX2JhYjQ4YzZiMmU3NDQ5ODI4ZWQ3Yzk2NjVkMTBjYThiKQogICAgICAgIDsKCiAgICAgICAgCiAgICAKICAgIAogICAgICAgICAgICB2YXIgbWFya2VyX2EwMDlmMzU4ZDU2NDQxNzA4NzZjYWM3OTQxYmFiYTcyID0gTC5tYXJrZXIoCiAgICAgICAgICAgICAgICBbMzcuNzg3NDM3ODMwOTExMiwgLTEyMi40MTkyMDMwMDQyNjhdLAogICAgICAgICAgICAgICAge30KICAgICAgICAgICAgKS5hZGRUbyhtYXBfZDk0Y2FlNmY0NTcwNGYwY2JmMDA5ZDVlMzljY2FkMWUpOwogICAgICAgIAogICAgCiAgICAgICAgdmFyIHBvcHVwX2NkOTk5NWI4Yjg0ZDRhNjc5MjE4MDFmZDA2NDUzNjUyID0gTC5wb3B1cCh7Im1heFdpZHRoIjogIjEwMCUifSk7CgogICAgICAgIAogICAgICAgICAgICB2YXIgaHRtbF9jMzBlZjllNmVhNjg0MmM5YjFlMWE0YjlhMjMxZjc1YyA9ICQoYDxkaXYgaWQ9Imh0bWxfYzMwZWY5ZTZlYTY4NDJjOWIxZTFhNGI5YTIzMWY3NWMiIHN0eWxlPSJ3aWR0aDogMTAwLjAlOyBoZWlnaHQ6IDEwMC4wJTsiPkJVUkdMQVJZPC9kaXY+YClbMF07CiAgICAgICAgICAgIHBvcHVwX2NkOTk5NWI4Yjg0ZDRhNjc5MjE4MDFmZDA2NDUzNjUyLnNldENvbnRlbnQoaHRtbF9jMzBlZjllNmVhNjg0MmM5YjFlMWE0YjlhMjMxZjc1Yyk7CiAgICAgICAgCgogICAgICAgIG1hcmtlcl9hMDA5ZjM1OGQ1NjQ0MTcwODc2Y2FjNzk0MWJhYmE3Mi5iaW5kUG9wdXAocG9wdXBfY2Q5OTk1YjhiODRkNGE2NzkyMTgwMWZkMDY0NTM2NTIpCiAgICAgICAgOwoKICAgICAgICAKICAgIAogICAgCiAgICAgICAgICAgIHZhciBtYXJrZXJfZmE5YjE4YmYzNTJkNGNiYmIwNjU2YjkxOTE1Y2MzYWMgPSBMLm1hcmtlcigKICAgICAgICAgICAgICAgIFszNy43NDkzNjg4Mjg0NTMyLCAtMTIyLjQxMjY5MDE0MjMwODAxXSwKICAgICAgICAgICAgICAgIHt9CiAgICAgICAgICAgICkuYWRkVG8obWFwX2Q5NGNhZTZmNDU3MDRmMGNiZjAwOWQ1ZTM5Y2NhZDFlKTsKICAgICAgICAKICAgIAogICAgICAgIHZhciBwb3B1cF8xNDMyZjM1ZTE4NjA0YjVlOTA1MGY4MGRmNTNjZWQxZCA9IEwucG9wdXAoeyJtYXhXaWR0aCI6ICIxMDAlIn0pOwoKICAgICAgICAKICAgICAgICAgICAgdmFyIGh0bWxfMDI3MGM1NzkyNzdmNDQ3MTgwZWNiODMyNTFiMGI1NTYgPSAkKGA8ZGl2IGlkPSJodG1sXzAyNzBjNTc5Mjc3ZjQ0NzE4MGVjYjgzMjUxYjBiNTU2IiBzdHlsZT0id2lkdGg6IDEwMC4wJTsgaGVpZ2h0OiAxMDAuMCU7Ij5PVEhFUiBPRkZFTlNFUzwvZGl2PmApWzBdOwogICAgICAgICAgICBwb3B1cF8xNDMyZjM1ZTE4NjA0YjVlOTA1MGY4MGRmNTNjZWQxZC5zZXRDb250ZW50KGh0bWxfMDI3MGM1NzkyNzdmNDQ3MTgwZWNiODMyNTFiMGI1NTYpOwogICAgICAgIAoKICAgICAgICBtYXJrZXJfZmE5YjE4YmYzNTJkNGNiYmIwNjU2YjkxOTE1Y2MzYWMuYmluZFBvcHVwKHBvcHVwXzE0MzJmMzVlMTg2MDRiNWU5MDUwZjgwZGY1M2NlZDFkKQogICAgICAgIDsKCiAgICAgICAgCiAgICAKICAgIAogICAgICAgICAgICB2YXIgbWFya2VyXzc5YmZkZTczZTlhNTRmNTk4MjljZmJjNmJkNjY0ZDEzID0gTC5tYXJrZXIoCiAgICAgICAgICAgICAgICBbMzcuNzA5MjAxMDQ2MjM3OSwgLTEyMi40MzQ2MDkyODAzNTJdLAogICAgICAgICAgICAgICAge30KICAgICAgICAgICAgKS5hZGRUbyhtYXBfZDk0Y2FlNmY0NTcwNGYwY2JmMDA5ZDVlMzljY2FkMWUpOwogICAgICAgIAogICAgCiAgICAgICAgdmFyIHBvcHVwX2Q1MjlkZDRkZTAwYjQ3Yzg4OTVmMjE3ZDYwMDYyYzZjID0gTC5wb3B1cCh7Im1heFdpZHRoIjogIjEwMCUifSk7CgogICAgICAgIAogICAgICAgICAgICB2YXIgaHRtbF9jNjI4OWQ5ZTVmMTY0ZmZiYTM0ZDM2NzM2ODRmMjkzZiA9ICQoYDxkaXYgaWQ9Imh0bWxfYzYyODlkOWU1ZjE2NGZmYmEzNGQzNjczNjg0ZjI5M2YiIHN0eWxlPSJ3aWR0aDogMTAwLjAlOyBoZWlnaHQ6IDEwMC4wJTsiPk5PTi1DUklNSU5BTDwvZGl2PmApWzBdOwogICAgICAgICAgICBwb3B1cF9kNTI5ZGQ0ZGUwMGI0N2M4ODk1ZjIxN2Q2MDA2MmM2Yy5zZXRDb250ZW50KGh0bWxfYzYyODlkOWU1ZjE2NGZmYmEzNGQzNjczNjg0ZjI5M2YpOwogICAgICAgIAoKICAgICAgICBtYXJrZXJfNzliZmRlNzNlOWE1NGY1OTgyOWNmYmM2YmQ2NjRkMTMuYmluZFBvcHVwKHBvcHVwX2Q1MjlkZDRkZTAwYjQ3Yzg4OTVmMjE3ZDYwMDYyYzZjKQogICAgICAgIDsKCiAgICAgICAgCiAgICAKICAgIAogICAgICAgICAgICB2YXIgbWFya2VyXzIzNjA5MDY2ODQzZDRlNWY4ZDkxZDBmMTVmNzhlNWIxID0gTC5tYXJrZXIoCiAgICAgICAgICAgICAgICBbMzcuNzg3OTIwOTM3NTUzMjk1LCAtMTIyLjQxMDg4MjgyNTU1MV0sCiAgICAgICAgICAgICAgICB7fQogICAgICAgICAgICApLmFkZFRvKG1hcF9kOTRjYWU2ZjQ1NzA0ZjBjYmYwMDlkNWUzOWNjYWQxZSk7CiAgICAgICAgCiAgICAKICAgICAgICB2YXIgcG9wdXBfY2NlZjBmNTVjZmFkNGQzYmFiZDk4NjU1NTNiZDQ3ZDQgPSBMLnBvcHVwKHsibWF4V2lkdGgiOiAiMTAwJSJ9KTsKCiAgICAgICAgCiAgICAgICAgICAgIHZhciBodG1sX2I5ZDU0OGY0Zjc3MjQwOTc4NDUxMTk4ZTk1YjE5NThlID0gJChgPGRpdiBpZD0iaHRtbF9iOWQ1NDhmNGY3NzI0MDk3ODQ1MTE5OGU5NWIxOTU4ZSIgc3R5bGU9IndpZHRoOiAxMDAuMCU7IGhlaWdodDogMTAwLjAlOyI+VkVISUNMRSBUSEVGVDwvZGl2PmApWzBdOwogICAgICAgICAgICBwb3B1cF9jY2VmMGY1NWNmYWQ0ZDNiYWJkOTg2NTU1M2JkNDdkNC5zZXRDb250ZW50KGh0bWxfYjlkNTQ4ZjRmNzcyNDA5Nzg0NTExOThlOTViMTk1OGUpOwogICAgICAgIAoKICAgICAgICBtYXJrZXJfMjM2MDkwNjY4NDNkNGU1ZjhkOTFkMGYxNWY3OGU1YjEuYmluZFBvcHVwKHBvcHVwX2NjZWYwZjU1Y2ZhZDRkM2JhYmQ5ODY1NTUzYmQ0N2Q0KQogICAgICAgIDsKCiAgICAgICAgCiAgICAKICAgIAogICAgICAgICAgICB2YXIgbWFya2VyX2M5MjViZTg1NDYxODRhOTViMzIwZGVkMDk1M2NkNDZhID0gTC5tYXJrZXIoCiAgICAgICAgICAgICAgICBbMzcuODAwNDU2NjQ3MTAzODksIC0xMjIuNDAxNDMyNzU0NzIyMDFdLAogICAgICAgICAgICAgICAge30KICAgICAgICAgICAgKS5hZGRUbyhtYXBfZDk0Y2FlNmY0NTcwNGYwY2JmMDA5ZDVlMzljY2FkMWUpOwogICAgICAgIAogICAgCiAgICAgICAgdmFyIHBvcHVwXzVmOGZlMTA1YTI1NDRlMGJiYWY1MWUzZWI4OTVmNzJlID0gTC5wb3B1cCh7Im1heFdpZHRoIjogIjEwMCUifSk7CgogICAgICAgIAogICAgICAgICAgICB2YXIgaHRtbF9jOGFlZDEyMmU0MjU0MDcwYmM0MjEzZWRiNTk5NDYwMCA9ICQoYDxkaXYgaWQ9Imh0bWxfYzhhZWQxMjJlNDI1NDA3MGJjNDIxM2VkYjU5OTQ2MDAiIHN0eWxlPSJ3aWR0aDogMTAwLjAlOyBoZWlnaHQ6IDEwMC4wJTsiPlZFSElDTEUgVEhFRlQ8L2Rpdj5gKVswXTsKICAgICAgICAgICAgcG9wdXBfNWY4ZmUxMDVhMjU0NGUwYmJhZjUxZTNlYjg5NWY3MmUuc2V0Q29udGVudChodG1sX2M4YWVkMTIyZTQyNTQwNzBiYzQyMTNlZGI1OTk0NjAwKTsKICAgICAgICAKCiAgICAgICAgbWFya2VyX2M5MjViZTg1NDYxODRhOTViMzIwZGVkMDk1M2NkNDZhLmJpbmRQb3B1cChwb3B1cF81ZjhmZTEwNWEyNTQ0ZTBiYmFmNTFlM2ViODk1ZjcyZSkKICAgICAgICA7CgogICAgICAgIAogICAgCiAgICAKICAgICAgICAgICAgdmFyIG1hcmtlcl81MGQ0ZmZiNDY0NDc0OTFhYWU2N2U1Mjg3NjFkMjc1YSA9IEwubWFya2VyKAogICAgICAgICAgICAgICAgWzM3Ljc0MzU1NTA1NDIyNjUsIC0xMjIuNDIxMTI4MDI5NTA1XSwKICAgICAgICAgICAgICAgIHt9CiAgICAgICAgICAgICkuYWRkVG8obWFwX2Q5NGNhZTZmNDU3MDRmMGNiZjAwOWQ1ZTM5Y2NhZDFlKTsKICAgICAgICAKICAgIAogICAgICAgIHZhciBwb3B1cF8yNGU0YjE0M2I1YjE0MThhODg3MGViZmVhOWE4Y2ZjYyA9IEwucG9wdXAoeyJtYXhXaWR0aCI6ICIxMDAlIn0pOwoKICAgICAgICAKICAgICAgICAgICAgdmFyIGh0bWxfMjY2MjNiY2U2OWZiNDVhYjljYWMyNjBjZjg0MTFlZWYgPSAkKGA8ZGl2IGlkPSJodG1sXzI2NjIzYmNlNjlmYjQ1YWI5Y2FjMjYwY2Y4NDExZWVmIiBzdHlsZT0id2lkdGg6IDEwMC4wJTsgaGVpZ2h0OiAxMDAuMCU7Ij5MQVJDRU5ZL1RIRUZUPC9kaXY+YClbMF07CiAgICAgICAgICAgIHBvcHVwXzI0ZTRiMTQzYjViMTQxOGE4ODcwZWJmZWE5YThjZmNjLnNldENvbnRlbnQoaHRtbF8yNjYyM2JjZTY5ZmI0NWFiOWNhYzI2MGNmODQxMWVlZik7CiAgICAgICAgCgogICAgICAgIG1hcmtlcl81MGQ0ZmZiNDY0NDc0OTFhYWU2N2U1Mjg3NjFkMjc1YS5iaW5kUG9wdXAocG9wdXBfMjRlNGIxNDNiNWIxNDE4YTg4NzBlYmZlYTlhOGNmY2MpCiAgICAgICAgOwoKICAgICAgICAKICAgIAogICAgCiAgICAgICAgICAgIHZhciBtYXJrZXJfZjU2ODNjNTJmNTViNDY5OTk5MDgxZGQxMGVmZDNiN2UgPSBMLm1hcmtlcigKICAgICAgICAgICAgICAgIFszNy43ODY1NjQ3NjA3Njg1LCAtMTIyLjQwNzI0NDA4NzAzMl0sCiAgICAgICAgICAgICAgICB7fQogICAgICAgICAgICApLmFkZFRvKG1hcF9kOTRjYWU2ZjQ1NzA0ZjBjYmYwMDlkNWUzOWNjYWQxZSk7CiAgICAgICAgCiAgICAKICAgICAgICB2YXIgcG9wdXBfZDlhYTE3NjVkNGYwNGZkZWJmYzFkYmFiM2ExODM3MGYgPSBMLnBvcHVwKHsibWF4V2lkdGgiOiAiMTAwJSJ9KTsKCiAgICAgICAgCiAgICAgICAgICAgIHZhciBodG1sX2JlOTYxNWQwNWUyNjQwOTE4OTFiMDZjZGY0ODNiOTA3ID0gJChgPGRpdiBpZD0iaHRtbF9iZTk2MTVkMDVlMjY0MDkxODkxYjA2Y2RmNDgzYjkwNyIgc3R5bGU9IndpZHRoOiAxMDAuMCU7IGhlaWdodDogMTAwLjAlOyI+QVNTQVVMVDwvZGl2PmApWzBdOwogICAgICAgICAgICBwb3B1cF9kOWFhMTc2NWQ0ZjA0ZmRlYmZjMWRiYWIzYTE4MzcwZi5zZXRDb250ZW50KGh0bWxfYmU5NjE1ZDA1ZTI2NDA5MTg5MWIwNmNkZjQ4M2I5MDcpOwogICAgICAgIAoKICAgICAgICBtYXJrZXJfZjU2ODNjNTJmNTViNDY5OTk5MDgxZGQxMGVmZDNiN2UuYmluZFBvcHVwKHBvcHVwX2Q5YWExNzY1ZDRmMDRmZGViZmMxZGJhYjNhMTgzNzBmKQogICAgICAgIDsKCiAgICAgICAgCiAgICAKICAgIAogICAgICAgICAgICB2YXIgbWFya2VyXzMxMjg1MmRjMjlmYjQ1NWU4ZGU2MDBmZjdhODg3YTVhID0gTC5tYXJrZXIoCiAgICAgICAgICAgICAgICBbMzcuNzYxNTY1NTkyODA0NSwgLTEyMi40MjM4MDMwMDE5MDA5OV0sCiAgICAgICAgICAgICAgICB7fQogICAgICAgICAgICApLmFkZFRvKG1hcF9kOTRjYWU2ZjQ1NzA0ZjBjYmYwMDlkNWUzOWNjYWQxZSk7CiAgICAgICAgCiAgICAKICAgICAgICB2YXIgcG9wdXBfODMzZDM4NzNmNWI5NGU3ZGFiNTEwMTEzYjE1MWE3OTIgPSBMLnBvcHVwKHsibWF4V2lkdGgiOiAiMTAwJSJ9KTsKCiAgICAgICAgCiAgICAgICAgICAgIHZhciBodG1sXzk4ZTg1YzcwNmQ0YTQ0YjZiMTViNmVkZGM4ZjljMDhmID0gJChgPGRpdiBpZD0iaHRtbF85OGU4NWM3MDZkNGE0NGI2YjE1YjZlZGRjOGY5YzA4ZiIgc3R5bGU9IndpZHRoOiAxMDAuMCU7IGhlaWdodDogMTAwLjAlOyI+UkVDT1ZFUkVEIFZFSElDTEU8L2Rpdj5gKVswXTsKICAgICAgICAgICAgcG9wdXBfODMzZDM4NzNmNWI5NGU3ZGFiNTEwMTEzYjE1MWE3OTIuc2V0Q29udGVudChodG1sXzk4ZTg1YzcwNmQ0YTQ0YjZiMTViNmVkZGM4ZjljMDhmKTsKICAgICAgICAKCiAgICAgICAgbWFya2VyXzMxMjg1MmRjMjlmYjQ1NWU4ZGU2MDBmZjdhODg3YTVhLmJpbmRQb3B1cChwb3B1cF84MzNkMzg3M2Y1Yjk0ZTdkYWI1MTAxMTNiMTUxYTc5MikKICAgICAgICA7CgogICAgICAgIAogICAgCiAgICAKICAgICAgICAgICAgdmFyIG1hcmtlcl9hYTJlOTM4ODIxMzk0NThjODMyMDJlZWI0ODU2Y2ZlYSA9IEwubWFya2VyKAogICAgICAgICAgICAgICAgWzM3Ljc2MTU2NTU5MjgwNDUsIC0xMjIuNDIzODAzMDAxOTAwOTldLAogICAgICAgICAgICAgICAge30KICAgICAgICAgICAgKS5hZGRUbyhtYXBfZDk0Y2FlNmY0NTcwNGYwY2JmMDA5ZDVlMzljY2FkMWUpOwogICAgICAgIAogICAgCiAgICAgICAgdmFyIHBvcHVwXzkyMzYwYmI0ZDczNjQyOWViZDk2YmRhYWM2NDgwMWYwID0gTC5wb3B1cCh7Im1heFdpZHRoIjogIjEwMCUifSk7CgogICAgICAgIAogICAgICAgICAgICB2YXIgaHRtbF85OTRkNDI1NmVmZTA0YjdhYjVkMmQ5NWQ4MGM1MjMyOSA9ICQoYDxkaXYgaWQ9Imh0bWxfOTk0ZDQyNTZlZmUwNGI3YWI1ZDJkOTVkODBjNTIzMjkiIHN0eWxlPSJ3aWR0aDogMTAwLjAlOyBoZWlnaHQ6IDEwMC4wJTsiPk9USEVSIE9GRkVOU0VTPC9kaXY+YClbMF07CiAgICAgICAgICAgIHBvcHVwXzkyMzYwYmI0ZDczNjQyOWViZDk2YmRhYWM2NDgwMWYwLnNldENvbnRlbnQoaHRtbF85OTRkNDI1NmVmZTA0YjdhYjVkMmQ5NWQ4MGM1MjMyOSk7CiAgICAgICAgCgogICAgICAgIG1hcmtlcl9hYTJlOTM4ODIxMzk0NThjODMyMDJlZWI0ODU2Y2ZlYS5iaW5kUG9wdXAocG9wdXBfOTIzNjBiYjRkNzM2NDI5ZWJkOTZiZGFhYzY0ODAxZjApCiAgICAgICAgOwoKICAgICAgICAKICAgIAogICAgCiAgICAgICAgICAgIHZhciBtYXJrZXJfMGY1NDNjZDE4MDgyNDhkNzlhMmY3ODQ4Zjk0YWJiNWIgPSBMLm1hcmtlcigKICAgICAgICAgICAgICAgIFszNy43NDQxOTI3NTA4OTMyMDUsIC0xMjIuNDQ0Njg1NDgyMjczXSwKICAgICAgICAgICAgICAgIHt9CiAgICAgICAgICAgICkuYWRkVG8obWFwX2Q5NGNhZTZmNDU3MDRmMGNiZjAwOWQ1ZTM5Y2NhZDFlKTsKICAgICAgICAKICAgIAogICAgICAgIHZhciBwb3B1cF9lMzM5ODdjYzZlYWI0NzRlOTgyYzYxOThhMGVmOTRlOSA9IEwucG9wdXAoeyJtYXhXaWR0aCI6ICIxMDAlIn0pOwoKICAgICAgICAKICAgICAgICAgICAgdmFyIGh0bWxfYjg1NTNiZmYyZDk3NGUzMmFlZTExMzkxMjI0MTBkMDUgPSAkKGA8ZGl2IGlkPSJodG1sX2I4NTUzYmZmMmQ5NzRlMzJhZWUxMTM5MTIyNDEwZDA1IiBzdHlsZT0id2lkdGg6IDEwMC4wJTsgaGVpZ2h0OiAxMDAuMCU7Ij5OT04tQ1JJTUlOQUw8L2Rpdj5gKVswXTsKICAgICAgICAgICAgcG9wdXBfZTMzOTg3Y2M2ZWFiNDc0ZTk4MmM2MTk4YTBlZjk0ZTkuc2V0Q29udGVudChodG1sX2I4NTUzYmZmMmQ5NzRlMzJhZWUxMTM5MTIyNDEwZDA1KTsKICAgICAgICAKCiAgICAgICAgbWFya2VyXzBmNTQzY2QxODA4MjQ4ZDc5YTJmNzg0OGY5NGFiYjViLmJpbmRQb3B1cChwb3B1cF9lMzM5ODdjYzZlYWI0NzRlOTgyYzYxOThhMGVmOTRlOSkKICAgICAgICA7CgogICAgICAgIAogICAgCiAgICAKICAgICAgICAgICAgdmFyIG1hcmtlcl8xMzJiNzM2YzA5YTE0YjdlYTE4ODFlM2E0Y2UyNTQwYiA9IEwubWFya2VyKAogICAgICAgICAgICAgICAgWzM3Ljc3NTQ2OTI4MjAwNDEsIC0xMjIuNDE1NzU3MDM5MTk2XSwKICAgICAgICAgICAgICAgIHt9CiAgICAgICAgICAgICkuYWRkVG8obWFwX2Q5NGNhZTZmNDU3MDRmMGNiZjAwOWQ1ZTM5Y2NhZDFlKTsKICAgICAgICAKICAgIAogICAgICAgIHZhciBwb3B1cF82N2RiZWU3NTBlM2Y0MGU2ODQ3OGM2YmE5MGIwODYwNSA9IEwucG9wdXAoeyJtYXhXaWR0aCI6ICIxMDAlIn0pOwoKICAgICAgICAKICAgICAgICAgICAgdmFyIGh0bWxfNjA2ZmFkZmZkZTY2NDYyODg0Yzk2ZDlkZjMyYjcxNmMgPSAkKGA8ZGl2IGlkPSJodG1sXzYwNmZhZGZmZGU2NjQ2Mjg4NGM5NmQ5ZGYzMmI3MTZjIiBzdHlsZT0id2lkdGg6IDEwMC4wJTsgaGVpZ2h0OiAxMDAuMCU7Ij5OT04tQ1JJTUlOQUw8L2Rpdj5gKVswXTsKICAgICAgICAgICAgcG9wdXBfNjdkYmVlNzUwZTNmNDBlNjg0NzhjNmJhOTBiMDg2MDUuc2V0Q29udGVudChodG1sXzYwNmZhZGZmZGU2NjQ2Mjg4NGM5NmQ5ZGYzMmI3MTZjKTsKICAgICAgICAKCiAgICAgICAgbWFya2VyXzEzMmI3MzZjMDlhMTRiN2VhMTg4MWUzYTRjZTI1NDBiLmJpbmRQb3B1cChwb3B1cF82N2RiZWU3NTBlM2Y0MGU2ODQ3OGM2YmE5MGIwODYwNSkKICAgICAgICA7CgogICAgICAgIAogICAgCiAgICAKICAgICAgICAgICAgdmFyIG1hcmtlcl83ZjY1MGZmZmFjMDc0YWU5YmRjMDZkMzgxOGJlYzA5NCA9IEwubWFya2VyKAogICAgICAgICAgICAgICAgWzM3LjcyODUyODA2Mjc0NjUsIC0xMjIuNDc1NjQ3NDYwNzg1OTldLAogICAgICAgICAgICAgICAge30KICAgICAgICAgICAgKS5hZGRUbyhtYXBfZDk0Y2FlNmY0NTcwNGYwY2JmMDA5ZDVlMzljY2FkMWUpOwogICAgICAgIAogICAgCiAgICAgICAgdmFyIHBvcHVwX2VkZDllZWI0N2RhYTQ0MzY4MGM4N2M5ZGUzODRkZGI0ID0gTC5wb3B1cCh7Im1heFdpZHRoIjogIjEwMCUifSk7CgogICAgICAgIAogICAgICAgICAgICB2YXIgaHRtbF82N2RlYWM4ZjBjZmY0ZGE3YjZjMjQzNGMzMDk1OTI3MCA9ICQoYDxkaXYgaWQ9Imh0bWxfNjdkZWFjOGYwY2ZmNGRhN2I2YzI0MzRjMzA5NTkyNzAiIHN0eWxlPSJ3aWR0aDogMTAwLjAlOyBoZWlnaHQ6IDEwMC4wJTsiPlJPQkJFUlk8L2Rpdj5gKVswXTsKICAgICAgICAgICAgcG9wdXBfZWRkOWVlYjQ3ZGFhNDQzNjgwYzg3YzlkZTM4NGRkYjQuc2V0Q29udGVudChodG1sXzY3ZGVhYzhmMGNmZjRkYTdiNmMyNDM0YzMwOTU5MjcwKTsKICAgICAgICAKCiAgICAgICAgbWFya2VyXzdmNjUwZmZmYWMwNzRhZTliZGMwNmQzODE4YmVjMDk0LmJpbmRQb3B1cChwb3B1cF9lZGQ5ZWViNDdkYWE0NDM2ODBjODdjOWRlMzg0ZGRiNCkKICAgICAgICA7CgogICAgICAgIAogICAgCiAgICAKICAgICAgICAgICAgdmFyIG1hcmtlcl9hYjgwMGQ0MDIzYmU0NTdhYTdiNTRiMGZlYzQ0YTFkNiA9IEwubWFya2VyKAogICAgICAgICAgICAgICAgWzM3Ljc0Mjg1MTczNzQ0NDg5NCwgLTEyMi40MjA5Njc0NDA1NjRdLAogICAgICAgICAgICAgICAge30KICAgICAgICAgICAgKS5hZGRUbyhtYXBfZDk0Y2FlNmY0NTcwNGYwY2JmMDA5ZDVlMzljY2FkMWUpOwogICAgICAgIAogICAgCiAgICAgICAgdmFyIHBvcHVwXzM1NDExODJjM2IyMTRhMGE4ZjU1YzE3NTgyNzdjYTMxID0gTC5wb3B1cCh7Im1heFdpZHRoIjogIjEwMCUifSk7CgogICAgICAgIAogICAgICAgICAgICB2YXIgaHRtbF9mMGRhOTVmNDQ5YWQ0MmY4YjJkZTI2YjNmODU4Y2MxMyA9ICQoYDxkaXYgaWQ9Imh0bWxfZjBkYTk1ZjQ0OWFkNDJmOGIyZGUyNmIzZjg1OGNjMTMiIHN0eWxlPSJ3aWR0aDogMTAwLjAlOyBoZWlnaHQ6IDEwMC4wJTsiPk9USEVSIE9GRkVOU0VTPC9kaXY+YClbMF07CiAgICAgICAgICAgIHBvcHVwXzM1NDExODJjM2IyMTRhMGE4ZjU1YzE3NTgyNzdjYTMxLnNldENvbnRlbnQoaHRtbF9mMGRhOTVmNDQ5YWQ0MmY4YjJkZTI2YjNmODU4Y2MxMyk7CiAgICAgICAgCgogICAgICAgIG1hcmtlcl9hYjgwMGQ0MDIzYmU0NTdhYTdiNTRiMGZlYzQ0YTFkNi5iaW5kUG9wdXAocG9wdXBfMzU0MTE4MmMzYjIxNGEwYThmNTVjMTc1ODI3N2NhMzEpCiAgICAgICAgOwoKICAgICAgICAKICAgIAogICAgCiAgICAgICAgICAgIHZhciBtYXJrZXJfNGU0YThkOTIyZTRlNDMzYjg5OWQwNjVlOGY1ZTc4YTcgPSBMLm1hcmtlcigKICAgICAgICAgICAgICAgIFszNy43ODIxMTk4NDg4OTMxLCAtMTIyLjQxNTY2OTY2MTQ0M10sCiAgICAgICAgICAgICAgICB7fQogICAgICAgICAgICApLmFkZFRvKG1hcF9kOTRjYWU2ZjQ1NzA0ZjBjYmYwMDlkNWUzOWNjYWQxZSk7CiAgICAgICAgCiAgICAKICAgICAgICB2YXIgcG9wdXBfMTRlNWZlYmVhM2EwNDJmOGExMjMxNDcwYmJkNmMwNTQgPSBMLnBvcHVwKHsibWF4V2lkdGgiOiAiMTAwJSJ9KTsKCiAgICAgICAgCiAgICAgICAgICAgIHZhciBodG1sX2NiZDk4MDhkMTU3NzQ5MjE5ZjhlNzk2MzViZDI1OTllID0gJChgPGRpdiBpZD0iaHRtbF9jYmQ5ODA4ZDE1Nzc0OTIxOWY4ZTc5NjM1YmQyNTk5ZSIgc3R5bGU9IndpZHRoOiAxMDAuMCU7IGhlaWdodDogMTAwLjAlOyI+VkFOREFMSVNNPC9kaXY+YClbMF07CiAgICAgICAgICAgIHBvcHVwXzE0ZTVmZWJlYTNhMDQyZjhhMTIzMTQ3MGJiZDZjMDU0LnNldENvbnRlbnQoaHRtbF9jYmQ5ODA4ZDE1Nzc0OTIxOWY4ZTc5NjM1YmQyNTk5ZSk7CiAgICAgICAgCgogICAgICAgIG1hcmtlcl80ZTRhOGQ5MjJlNGU0MzNiODk5ZDA2NWU4ZjVlNzhhNy5iaW5kUG9wdXAocG9wdXBfMTRlNWZlYmVhM2EwNDJmOGExMjMxNDcwYmJkNmMwNTQpCiAgICAgICAgOwoKICAgICAgICAKICAgIAogICAgCiAgICAgICAgICAgIHZhciBtYXJrZXJfYzgwNDA3ODRmMGY3NDczZGE3NmY2MGMyMGIzNjdiMGUgPSBMLm1hcmtlcigKICAgICAgICAgICAgICAgIFszNy43NzkxNjc0MjE4OTYzLCAtMTIyLjQwNjM0NjQyNTYzMl0sCiAgICAgICAgICAgICAgICB7fQogICAgICAgICAgICApLmFkZFRvKG1hcF9kOTRjYWU2ZjQ1NzA0ZjBjYmYwMDlkNWUzOWNjYWQxZSk7CiAgICAgICAgCiAgICAKICAgICAgICB2YXIgcG9wdXBfYmNiMzQ5ZDNjZGYxNDk2NmE3MzcyMzUzMTk2ZWFkMjkgPSBMLnBvcHVwKHsibWF4V2lkdGgiOiAiMTAwJSJ9KTsKCiAgICAgICAgCiAgICAgICAgICAgIHZhciBodG1sXzQxZDUxNTFiNGQ0NDQ2MWY5YzVkZTQwOTczMDBlY2ZjID0gJChgPGRpdiBpZD0iaHRtbF80MWQ1MTUxYjRkNDQ0NjFmOWM1ZGU0MDk3MzAwZWNmYyIgc3R5bGU9IndpZHRoOiAxMDAuMCU7IGhlaWdodDogMTAwLjAlOyI+QVNTQVVMVDwvZGl2PmApWzBdOwogICAgICAgICAgICBwb3B1cF9iY2IzNDlkM2NkZjE0OTY2YTczNzIzNTMxOTZlYWQyOS5zZXRDb250ZW50KGh0bWxfNDFkNTE1MWI0ZDQ0NDYxZjljNWRlNDA5NzMwMGVjZmMpOwogICAgICAgIAoKICAgICAgICBtYXJrZXJfYzgwNDA3ODRmMGY3NDczZGE3NmY2MGMyMGIzNjdiMGUuYmluZFBvcHVwKHBvcHVwX2JjYjM0OWQzY2RmMTQ5NjZhNzM3MjM1MzE5NmVhZDI5KQogICAgICAgIDsKCiAgICAgICAgCiAgICAKICAgIAogICAgICAgICAgICB2YXIgbWFya2VyXzIyYzI3NzRiYmI4YTQ5NzFiYWY0YWY1MjM5NzMzZTdlID0gTC5tYXJrZXIoCiAgICAgICAgICAgICAgICBbMzcuNzY1NzE4NDM5NTI4MiwgLTEyMi40MDk1Mjk5MTMyNzhdLAogICAgICAgICAgICAgICAge30KICAgICAgICAgICAgKS5hZGRUbyhtYXBfZDk0Y2FlNmY0NTcwNGYwY2JmMDA5ZDVlMzljY2FkMWUpOwogICAgICAgIAogICAgCiAgICAgICAgdmFyIHBvcHVwXzNkYjhkZDFkYjU2ODQ3ZTg5MzI5YTQ5MDVkM2IzZjExID0gTC5wb3B1cCh7Im1heFdpZHRoIjogIjEwMCUifSk7CgogICAgICAgIAogICAgICAgICAgICB2YXIgaHRtbF9hZGRjYzI3ODMwNjI0YjNlOTc1MDcxYWQ3NmRhY2E2MyA9ICQoYDxkaXYgaWQ9Imh0bWxfYWRkY2MyNzgzMDYyNGIzZTk3NTA3MWFkNzZkYWNhNjMiIHN0eWxlPSJ3aWR0aDogMTAwLjAlOyBoZWlnaHQ6IDEwMC4wJTsiPkxBUkNFTlkvVEhFRlQ8L2Rpdj5gKVswXTsKICAgICAgICAgICAgcG9wdXBfM2RiOGRkMWRiNTY4NDdlODkzMjlhNDkwNWQzYjNmMTEuc2V0Q29udGVudChodG1sX2FkZGNjMjc4MzA2MjRiM2U5NzUwNzFhZDc2ZGFjYTYzKTsKICAgICAgICAKCiAgICAgICAgbWFya2VyXzIyYzI3NzRiYmI4YTQ5NzFiYWY0YWY1MjM5NzMzZTdlLmJpbmRQb3B1cChwb3B1cF8zZGI4ZGQxZGI1Njg0N2U4OTMyOWE0OTA1ZDNiM2YxMSkKICAgICAgICA7CgogICAgICAgIAogICAgCiAgICAKICAgICAgICAgICAgdmFyIG1hcmtlcl8xNzhlOGY3N2JiZTU0NTA2YTU1NGE1MzQzMGU2NWNhOSA9IEwubWFya2VyKAogICAgICAgICAgICAgICAgWzM3Ljc3NTQyMDcwNjcxMSwgLTEyMi40MDM0MDQ3OTE0Nzg5OV0sCiAgICAgICAgICAgICAgICB7fQogICAgICAgICAgICApLmFkZFRvKG1hcF9kOTRjYWU2ZjQ1NzA0ZjBjYmYwMDlkNWUzOWNjYWQxZSk7CiAgICAgICAgCiAgICAKICAgICAgICB2YXIgcG9wdXBfMTNhZTE2OTQ3OTgwNGJhMWJhZGQ0NDFkZGExNTYyZmIgPSBMLnBvcHVwKHsibWF4V2lkdGgiOiAiMTAwJSJ9KTsKCiAgICAgICAgCiAgICAgICAgICAgIHZhciBodG1sXzYwYmQ5OTQwODNjZTRjNTFhNDU1MTQ3MThlZTJiYzNmID0gJChgPGRpdiBpZD0iaHRtbF82MGJkOTk0MDgzY2U0YzUxYTQ1NTE0NzE4ZWUyYmMzZiIgc3R5bGU9IndpZHRoOiAxMDAuMCU7IGhlaWdodDogMTAwLjAlOyI+Tk9OLUNSSU1JTkFMPC9kaXY+YClbMF07CiAgICAgICAgICAgIHBvcHVwXzEzYWUxNjk0Nzk4MDRiYTFiYWRkNDQxZGRhMTU2MmZiLnNldENvbnRlbnQoaHRtbF82MGJkOTk0MDgzY2U0YzUxYTQ1NTE0NzE4ZWUyYmMzZik7CiAgICAgICAgCgogICAgICAgIG1hcmtlcl8xNzhlOGY3N2JiZTU0NTA2YTU1NGE1MzQzMGU2NWNhOS5iaW5kUG9wdXAocG9wdXBfMTNhZTE2OTQ3OTgwNGJhMWJhZGQ0NDFkZGExNTYyZmIpCiAgICAgICAgOwoKICAgICAgICAKICAgIAogICAgCiAgICAgICAgICAgIHZhciBtYXJrZXJfMTZiODE3MjAwYTU5NGQxOGE5NzBlODM1ZWJiNzY4NTEgPSBMLm1hcmtlcigKICAgICAgICAgICAgICAgIFszNy43Njc1MjQzMDg3ODMsIC0xMjIuNDEwNzM4MDk3MzE1XSwKICAgICAgICAgICAgICAgIHt9CiAgICAgICAgICAgICkuYWRkVG8obWFwX2Q5NGNhZTZmNDU3MDRmMGNiZjAwOWQ1ZTM5Y2NhZDFlKTsKICAgICAgICAKICAgIAogICAgICAgIHZhciBwb3B1cF9hNDBjZDk0OWYwNmM0YzhmOTRmZDA2ZjJmMmY4OThjNSA9IEwucG9wdXAoeyJtYXhXaWR0aCI6ICIxMDAlIn0pOwoKICAgICAgICAKICAgICAgICAgICAgdmFyIGh0bWxfMzA3ZjM4ODBjOTI0NGI4MmFhZTI1ZDY3ZDYzZDk4ZDcgPSAkKGA8ZGl2IGlkPSJodG1sXzMwN2YzODgwYzkyNDRiODJhYWUyNWQ2N2Q2M2Q5OGQ3IiBzdHlsZT0id2lkdGg6IDEwMC4wJTsgaGVpZ2h0OiAxMDAuMCU7Ij5CVVJHTEFSWTwvZGl2PmApWzBdOwogICAgICAgICAgICBwb3B1cF9hNDBjZDk0OWYwNmM0YzhmOTRmZDA2ZjJmMmY4OThjNS5zZXRDb250ZW50KGh0bWxfMzA3ZjM4ODBjOTI0NGI4MmFhZTI1ZDY3ZDYzZDk4ZDcpOwogICAgICAgIAoKICAgICAgICBtYXJrZXJfMTZiODE3MjAwYTU5NGQxOGE5NzBlODM1ZWJiNzY4NTEuYmluZFBvcHVwKHBvcHVwX2E0MGNkOTQ5ZjA2YzRjOGY5NGZkMDZmMmYyZjg5OGM1KQogICAgICAgIDsKCiAgICAgICAgCiAgICAKICAgIAogICAgICAgICAgICB2YXIgbWFya2VyXzdhNDlmZWI0MTk4YjQwNWM5ZTY0MzQzMWUwMTgzZThhID0gTC5tYXJrZXIoCiAgICAgICAgICAgICAgICBbMzcuNzY3NTI0MzA4NzgzLCAtMTIyLjQxMDczODA5NzMxNV0sCiAgICAgICAgICAgICAgICB7fQogICAgICAgICAgICApLmFkZFRvKG1hcF9kOTRjYWU2ZjQ1NzA0ZjBjYmYwMDlkNWUzOWNjYWQxZSk7CiAgICAgICAgCiAgICAKICAgICAgICB2YXIgcG9wdXBfMzZjYzE1MWY3MTgyNDA4YTlkZWVlOWVmNzVhNTYxMWIgPSBMLnBvcHVwKHsibWF4V2lkdGgiOiAiMTAwJSJ9KTsKCiAgICAgICAgCiAgICAgICAgICAgIHZhciBodG1sX2Y4MzEyMDE5YjRjZTRmNzhiMWEzNWJlZjIyNWVlOTIxID0gJChgPGRpdiBpZD0iaHRtbF9mODMxMjAxOWI0Y2U0Zjc4YjFhMzViZWYyMjVlZTkyMSIgc3R5bGU9IndpZHRoOiAxMDAuMCU7IGhlaWdodDogMTAwLjAlOyI+QVJTT048L2Rpdj5gKVswXTsKICAgICAgICAgICAgcG9wdXBfMzZjYzE1MWY3MTgyNDA4YTlkZWVlOWVmNzVhNTYxMWIuc2V0Q29udGVudChodG1sX2Y4MzEyMDE5YjRjZTRmNzhiMWEzNWJlZjIyNWVlOTIxKTsKICAgICAgICAKCiAgICAgICAgbWFya2VyXzdhNDlmZWI0MTk4YjQwNWM5ZTY0MzQzMWUwMTgzZThhLmJpbmRQb3B1cChwb3B1cF8zNmNjMTUxZjcxODI0MDhhOWRlZWU5ZWY3NWE1NjExYikKICAgICAgICA7CgogICAgICAgIAogICAgCiAgICAKICAgICAgICAgICAgdmFyIG1hcmtlcl9kYjIwNzY0NjQzODg0NjhhOTU5MDhmN2RjMDk0M2M1OCA9IEwubWFya2VyKAogICAgICAgICAgICAgICAgWzM3LjcxMzEwODM0MzMyNjQsIC0xMjIuNDQ0MzE0MDI1MTg4XSwKICAgICAgICAgICAgICAgIHt9CiAgICAgICAgICAgICkuYWRkVG8obWFwX2Q5NGNhZTZmNDU3MDRmMGNiZjAwOWQ1ZTM5Y2NhZDFlKTsKICAgICAgICAKICAgIAogICAgICAgIHZhciBwb3B1cF8wMjJlNDNhZDU5ODA0NmEwODZmOTIyZjMzMjg0M2M5MiA9IEwucG9wdXAoeyJtYXhXaWR0aCI6ICIxMDAlIn0pOwoKICAgICAgICAKICAgICAgICAgICAgdmFyIGh0bWxfZmI4YTU3NmVkNGViNGNhYTgxYTk1MjdjMjJkNjA0M2IgPSAkKGA8ZGl2IGlkPSJodG1sX2ZiOGE1NzZlZDRlYjRjYWE4MWE5NTI3YzIyZDYwNDNiIiBzdHlsZT0id2lkdGg6IDEwMC4wJTsgaGVpZ2h0OiAxMDAuMCU7Ij5CVVJHTEFSWTwvZGl2PmApWzBdOwogICAgICAgICAgICBwb3B1cF8wMjJlNDNhZDU5ODA0NmEwODZmOTIyZjMzMjg0M2M5Mi5zZXRDb250ZW50KGh0bWxfZmI4YTU3NmVkNGViNGNhYTgxYTk1MjdjMjJkNjA0M2IpOwogICAgICAgIAoKICAgICAgICBtYXJrZXJfZGIyMDc2NDY0Mzg4NDY4YTk1OTA4ZjdkYzA5NDNjNTguYmluZFBvcHVwKHBvcHVwXzAyMmU0M2FkNTk4MDQ2YTA4NmY5MjJmMzMyODQzYzkyKQogICAgICAgIDsKCiAgICAgICAgCiAgICAKICAgIAogICAgICAgICAgICB2YXIgbWFya2VyXzA5Y2Y5OTVmYTQxNDQ1ODM5Mjk3MmQwYzUwMmEwZmYzID0gTC5tYXJrZXIoCiAgICAgICAgICAgICAgICBbMzcuNzEzMTA4MzQzMzI2NCwgLTEyMi40NDQzMTQwMjUxODhdLAogICAgICAgICAgICAgICAge30KICAgICAgICAgICAgKS5hZGRUbyhtYXBfZDk0Y2FlNmY0NTcwNGYwY2JmMDA5ZDVlMzljY2FkMWUpOwogICAgICAgIAogICAgCiAgICAgICAgdmFyIHBvcHVwX2IyZDRlMjQzYWE4NjQ5OGY4ZDg4YjFjYmM4MzkwYzk0ID0gTC5wb3B1cCh7Im1heFdpZHRoIjogIjEwMCUifSk7CgogICAgICAgIAogICAgICAgICAgICB2YXIgaHRtbF85MWYxYjMyZTc4MTY0ZGExODQwMzIzNzdkMjdmNWZlNiA9ICQoYDxkaXYgaWQ9Imh0bWxfOTFmMWIzMmU3ODE2NGRhMTg0MDMyMzc3ZDI3ZjVmZTYiIHN0eWxlPSJ3aWR0aDogMTAwLjAlOyBoZWlnaHQ6IDEwMC4wJTsiPkRSVUcvTkFSQ09USUM8L2Rpdj5gKVswXTsKICAgICAgICAgICAgcG9wdXBfYjJkNGUyNDNhYTg2NDk4ZjhkODhiMWNiYzgzOTBjOTQuc2V0Q29udGVudChodG1sXzkxZjFiMzJlNzgxNjRkYTE4NDAzMjM3N2QyN2Y1ZmU2KTsKICAgICAgICAKCiAgICAgICAgbWFya2VyXzA5Y2Y5OTVmYTQxNDQ1ODM5Mjk3MmQwYzUwMmEwZmYzLmJpbmRQb3B1cChwb3B1cF9iMmQ0ZTI0M2FhODY0OThmOGQ4OGIxY2JjODM5MGM5NCkKICAgICAgICA7CgogICAgICAgIAogICAgCiAgICAKICAgICAgICAgICAgdmFyIG1hcmtlcl9jNWNiOThkM2FkMGQ0NmU2YTU4YTQ5NjE5MDNjODA3YiA9IEwubWFya2VyKAogICAgICAgICAgICAgICAgWzM3Ljc2NjAxNjAxMTQxMDMsIC0xMjIuNDAzNjQ0NjIwNDM5XSwKICAgICAgICAgICAgICAgIHt9CiAgICAgICAgICAgICkuYWRkVG8obWFwX2Q5NGNhZTZmNDU3MDRmMGNiZjAwOWQ1ZTM5Y2NhZDFlKTsKICAgICAgICAKICAgIAogICAgICAgIHZhciBwb3B1cF82YzNlYzkyZWM2Yjc0ODZiYmJmOGJmNTAxYTYwNTc0NCA9IEwucG9wdXAoeyJtYXhXaWR0aCI6ICIxMDAlIn0pOwoKICAgICAgICAKICAgICAgICAgICAgdmFyIGh0bWxfMmE1OTRkMWE2Y2QzNDAxYzk0N2ViNmNjYzE1Y2FjOTQgPSAkKGA8ZGl2IGlkPSJodG1sXzJhNTk0ZDFhNmNkMzQwMWM5NDdlYjZjY2MxNWNhYzk0IiBzdHlsZT0id2lkdGg6IDEwMC4wJTsgaGVpZ2h0OiAxMDAuMCU7Ij5NSVNTSU5HIFBFUlNPTjwvZGl2PmApWzBdOwogICAgICAgICAgICBwb3B1cF82YzNlYzkyZWM2Yjc0ODZiYmJmOGJmNTAxYTYwNTc0NC5zZXRDb250ZW50KGh0bWxfMmE1OTRkMWE2Y2QzNDAxYzk0N2ViNmNjYzE1Y2FjOTQpOwogICAgICAgIAoKICAgICAgICBtYXJrZXJfYzVjYjk4ZDNhZDBkNDZlNmE1OGE0OTYxOTAzYzgwN2IuYmluZFBvcHVwKHBvcHVwXzZjM2VjOTJlYzZiNzQ4NmJiYmY4YmY1MDFhNjA1NzQ0KQogICAgICAgIDsKCiAgICAgICAgCiAgICAKICAgIAogICAgICAgICAgICB2YXIgbWFya2VyXzk4ZjA4Yjk0MWJiYTQyZmZiMjhlMWE3NjgwZWJkYTkyID0gTC5tYXJrZXIoCiAgICAgICAgICAgICAgICBbMzcuNzY2MDE2MDExNDEwMywgLTEyMi40MDM2NDQ2MjA0MzldLAogICAgICAgICAgICAgICAge30KICAgICAgICAgICAgKS5hZGRUbyhtYXBfZDk0Y2FlNmY0NTcwNGYwY2JmMDA5ZDVlMzljY2FkMWUpOwogICAgICAgIAogICAgCiAgICAgICAgdmFyIHBvcHVwXzA1MWJkYmZhNzBhMzQzYjNhNzlhMzUzMzA2NzkzZDc5ID0gTC5wb3B1cCh7Im1heFdpZHRoIjogIjEwMCUifSk7CgogICAgICAgIAogICAgICAgICAgICB2YXIgaHRtbF9hZTIzMTUwMzkyYzI0NjQwYWE1NDI2ZWYxYWIxODMwZiA9ICQoYDxkaXYgaWQ9Imh0bWxfYWUyMzE1MDM5MmMyNDY0MGFhNTQyNmVmMWFiMTgzMGYiIHN0eWxlPSJ3aWR0aDogMTAwLjAlOyBoZWlnaHQ6IDEwMC4wJTsiPk1JU1NJTkcgUEVSU09OPC9kaXY+YClbMF07CiAgICAgICAgICAgIHBvcHVwXzA1MWJkYmZhNzBhMzQzYjNhNzlhMzUzMzA2NzkzZDc5LnNldENvbnRlbnQoaHRtbF9hZTIzMTUwMzkyYzI0NjQwYWE1NDI2ZWYxYWIxODMwZik7CiAgICAgICAgCgogICAgICAgIG1hcmtlcl85OGYwOGI5NDFiYmE0MmZmYjI4ZTFhNzY4MGViZGE5Mi5iaW5kUG9wdXAocG9wdXBfMDUxYmRiZmE3MGEzNDNiM2E3OWEzNTMzMDY3OTNkNzkpCiAgICAgICAgOwoKICAgICAgICAKICAgIAogICAgCiAgICAgICAgICAgIHZhciBtYXJrZXJfZDAyYTUyMjBlZDFmNDU4YWI2ODA3ZjkzOTEyNTkxMmQgPSBMLm1hcmtlcigKICAgICAgICAgICAgICAgIFszNy43NzYyMzEwNDA0NzU4LCAtMTIyLjQxNDcxNDI5NTU3ODk5XSwKICAgICAgICAgICAgICAgIHt9CiAgICAgICAgICAgICkuYWRkVG8obWFwX2Q5NGNhZTZmNDU3MDRmMGNiZjAwOWQ1ZTM5Y2NhZDFlKTsKICAgICAgICAKICAgIAogICAgICAgIHZhciBwb3B1cF9lZjY4OTY1ZTllMTY0NGFiYjc2ODYyMjAyZjYwZmY0ZSA9IEwucG9wdXAoeyJtYXhXaWR0aCI6ICIxMDAlIn0pOwoKICAgICAgICAKICAgICAgICAgICAgdmFyIGh0bWxfMTc1ZjI3Zjg1MzNjNDQ2ZWFkYzc1NjdiYjI5M2UxNmEgPSAkKGA8ZGl2IGlkPSJodG1sXzE3NWYyN2Y4NTMzYzQ0NmVhZGM3NTY3YmIyOTNlMTZhIiBzdHlsZT0id2lkdGg6IDEwMC4wJTsgaGVpZ2h0OiAxMDAuMCU7Ij5BU1NBVUxUPC9kaXY+YClbMF07CiAgICAgICAgICAgIHBvcHVwX2VmNjg5NjVlOWUxNjQ0YWJiNzY4NjIyMDJmNjBmZjRlLnNldENvbnRlbnQoaHRtbF8xNzVmMjdmODUzM2M0NDZlYWRjNzU2N2JiMjkzZTE2YSk7CiAgICAgICAgCgogICAgICAgIG1hcmtlcl9kMDJhNTIyMGVkMWY0NThhYjY4MDdmOTM5MTI1OTEyZC5iaW5kUG9wdXAocG9wdXBfZWY2ODk2NWU5ZTE2NDRhYmI3Njg2MjIwMmY2MGZmNGUpCiAgICAgICAgOwoKICAgICAgICAKICAgIAogICAgCiAgICAgICAgICAgIHZhciBtYXJrZXJfMDMzMjUxMmIyZDg2NGFmOWEwNzljMGNmYjNiNmI0ODMgPSBMLm1hcmtlcigKICAgICAgICAgICAgICAgIFszNy43NzYyMzEwNDA0NzU4LCAtMTIyLjQxNDcxNDI5NTU3ODk5XSwKICAgICAgICAgICAgICAgIHt9CiAgICAgICAgICAgICkuYWRkVG8obWFwX2Q5NGNhZTZmNDU3MDRmMGNiZjAwOWQ1ZTM5Y2NhZDFlKTsKICAgICAgICAKICAgIAogICAgICAgIHZhciBwb3B1cF8xZmNiODFkNGYzZGU0NGNhYWM2NjkwZTkyOWRhZmE3MyA9IEwucG9wdXAoeyJtYXhXaWR0aCI6ICIxMDAlIn0pOwoKICAgICAgICAKICAgICAgICAgICAgdmFyIGh0bWxfYzc0NzA1MWM3MTZmNDNhMmE4MGM0MzQwM2RmYWY5YzAgPSAkKGA8ZGl2IGlkPSJodG1sX2M3NDcwNTFjNzE2ZjQzYTJhODBjNDM0MDNkZmFmOWMwIiBzdHlsZT0id2lkdGg6IDEwMC4wJTsgaGVpZ2h0OiAxMDAuMCU7Ij5NSVNTSU5HIFBFUlNPTjwvZGl2PmApWzBdOwogICAgICAgICAgICBwb3B1cF8xZmNiODFkNGYzZGU0NGNhYWM2NjkwZTkyOWRhZmE3My5zZXRDb250ZW50KGh0bWxfYzc0NzA1MWM3MTZmNDNhMmE4MGM0MzQwM2RmYWY5YzApOwogICAgICAgIAoKICAgICAgICBtYXJrZXJfMDMzMjUxMmIyZDg2NGFmOWEwNzljMGNmYjNiNmI0ODMuYmluZFBvcHVwKHBvcHVwXzFmY2I4MWQ0ZjNkZTQ0Y2FhYzY2OTBlOTI5ZGFmYTczKQogICAgICAgIDsKCiAgICAgICAgCiAgICAKICAgIAogICAgICAgICAgICB2YXIgbWFya2VyXzQ1YjJkMDExMjVjNzQyZGFhNGNmYTI5MGJmYzhmMzVkID0gTC5tYXJrZXIoCiAgICAgICAgICAgICAgICBbMzcuNzc3NTExODg5NTY5NSwgLTEyMi40MTgwNDU0NTI3NjhdLAogICAgICAgICAgICAgICAge30KICAgICAgICAgICAgKS5hZGRUbyhtYXBfZDk0Y2FlNmY0NTcwNGYwY2JmMDA5ZDVlMzljY2FkMWUpOwogICAgICAgIAogICAgCiAgICAgICAgdmFyIHBvcHVwXzRkM2ZlMzI4NmJmODRjOGY5YTNlNjJlYzU2MzZlNTQ2ID0gTC5wb3B1cCh7Im1heFdpZHRoIjogIjEwMCUifSk7CgogICAgICAgIAogICAgICAgICAgICB2YXIgaHRtbF9hNGE2ZTQ2NDE3M2M0OTZjYTY0OWFjMTE1NjEwNzRlOSA9ICQoYDxkaXYgaWQ9Imh0bWxfYTRhNmU0NjQxNzNjNDk2Y2E2NDlhYzExNTYxMDc0ZTkiIHN0eWxlPSJ3aWR0aDogMTAwLjAlOyBoZWlnaHQ6IDEwMC4wJTsiPlZFSElDTEUgVEhFRlQ8L2Rpdj5gKVswXTsKICAgICAgICAgICAgcG9wdXBfNGQzZmUzMjg2YmY4NGM4ZjlhM2U2MmVjNTYzNmU1NDYuc2V0Q29udGVudChodG1sX2E0YTZlNDY0MTczYzQ5NmNhNjQ5YWMxMTU2MTA3NGU5KTsKICAgICAgICAKCiAgICAgICAgbWFya2VyXzQ1YjJkMDExMjVjNzQyZGFhNGNmYTI5MGJmYzhmMzVkLmJpbmRQb3B1cChwb3B1cF80ZDNmZTMyODZiZjg0YzhmOWEzZTYyZWM1NjM2ZTU0NikKICAgICAgICA7CgogICAgICAgIAogICAgCiAgICAKICAgICAgICAgICAgdmFyIG1hcmtlcl9kZTYzYTU0NThhY2Y0MDBlYjJkOGY0N2Q0MjYxMWZiMiA9IEwubWFya2VyKAogICAgICAgICAgICAgICAgWzM3Ljc4MjAyMzg0Nzg5NzUsIC0xMjIuNDAxMTYxNTU1NjAyXSwKICAgICAgICAgICAgICAgIHt9CiAgICAgICAgICAgICkuYWRkVG8obWFwX2Q5NGNhZTZmNDU3MDRmMGNiZjAwOWQ1ZTM5Y2NhZDFlKTsKICAgICAgICAKICAgIAogICAgICAgIHZhciBwb3B1cF9lMjBkODRkMzExMmY0YzgzOTk5NTZkN2QzYzgwZTQwMiA9IEwucG9wdXAoeyJtYXhXaWR0aCI6ICIxMDAlIn0pOwoKICAgICAgICAKICAgICAgICAgICAgdmFyIGh0bWxfNDA0NWMwMzg4MWU4NDM5NzhjZDJiZGUwYWY3MTZlZjQgPSAkKGA8ZGl2IGlkPSJodG1sXzQwNDVjMDM4ODFlODQzOTc4Y2QyYmRlMGFmNzE2ZWY0IiBzdHlsZT0id2lkdGg6IDEwMC4wJTsgaGVpZ2h0OiAxMDAuMCU7Ij5PVEhFUiBPRkZFTlNFUzwvZGl2PmApWzBdOwogICAgICAgICAgICBwb3B1cF9lMjBkODRkMzExMmY0YzgzOTk5NTZkN2QzYzgwZTQwMi5zZXRDb250ZW50KGh0bWxfNDA0NWMwMzg4MWU4NDM5NzhjZDJiZGUwYWY3MTZlZjQpOwogICAgICAgIAoKICAgICAgICBtYXJrZXJfZGU2M2E1NDU4YWNmNDAwZWIyZDhmNDdkNDI2MTFmYjIuYmluZFBvcHVwKHBvcHVwX2UyMGQ4NGQzMTEyZjRjODM5OTk1NmQ3ZDNjODBlNDAyKQogICAgICAgIDsKCiAgICAgICAgCiAgICAKICAgIAogICAgICAgICAgICB2YXIgbWFya2VyXzBjZDM3YzJhY2VjMTRiYmJiNzZiM2VkNzA4MmFlMzJkID0gTC5tYXJrZXIoCiAgICAgICAgICAgICAgICBbMzcuNzI3MDA1MzE5NjI5OTk1LCAtMTIyLjQwMzQwODY2OTE5MV0sCiAgICAgICAgICAgICAgICB7fQogICAgICAgICAgICApLmFkZFRvKG1hcF9kOTRjYWU2ZjQ1NzA0ZjBjYmYwMDlkNWUzOWNjYWQxZSk7CiAgICAgICAgCiAgICAKICAgICAgICB2YXIgcG9wdXBfNmI4ZmEyMThlZTYxNDBiY2E0MDFmODMxNDA5NDU0N2EgPSBMLnBvcHVwKHsibWF4V2lkdGgiOiAiMTAwJSJ9KTsKCiAgICAgICAgCiAgICAgICAgICAgIHZhciBodG1sXzYwYzQyNDdlNmNkNjQ0M2FhMTliODU2ZmY2Mzc2YTdjID0gJChgPGRpdiBpZD0iaHRtbF82MGM0MjQ3ZTZjZDY0NDNhYTE5Yjg1NmZmNjM3NmE3YyIgc3R5bGU9IndpZHRoOiAxMDAuMCU7IGhlaWdodDogMTAwLjAlOyI+V0FSUkFOVFM8L2Rpdj5gKVswXTsKICAgICAgICAgICAgcG9wdXBfNmI4ZmEyMThlZTYxNDBiY2E0MDFmODMxNDA5NDU0N2Euc2V0Q29udGVudChodG1sXzYwYzQyNDdlNmNkNjQ0M2FhMTliODU2ZmY2Mzc2YTdjKTsKICAgICAgICAKCiAgICAgICAgbWFya2VyXzBjZDM3YzJhY2VjMTRiYmJiNzZiM2VkNzA4MmFlMzJkLmJpbmRQb3B1cChwb3B1cF82YjhmYTIxOGVlNjE0MGJjYTQwMWY4MzE0MDk0NTQ3YSkKICAgICAgICA7CgogICAgICAgIAogICAgCiAgICAKICAgICAgICAgICAgdmFyIG1hcmtlcl85Zjk1OWY3MzNiOTU0ZDY1ODExNWVhY2RhMzU4NDZiOSA9IEwubWFya2VyKAogICAgICAgICAgICAgICAgWzM3Ljc4MzgzNDQzNzQxNDEsIC0xMjIuNDEyOTMwNTIyMDU5XSwKICAgICAgICAgICAgICAgIHt9CiAgICAgICAgICAgICkuYWRkVG8obWFwX2Q5NGNhZTZmNDU3MDRmMGNiZjAwOWQ1ZTM5Y2NhZDFlKTsKICAgICAgICAKICAgIAogICAgICAgIHZhciBwb3B1cF81YzUyYWNjMGU0YmQ0MjExOGZlZGE3ZGFkNDE2Yjc1MiA9IEwucG9wdXAoeyJtYXhXaWR0aCI6ICIxMDAlIn0pOwoKICAgICAgICAKICAgICAgICAgICAgdmFyIGh0bWxfZjRhMmM1Yjk3ODkzNDA3YWFiYzk3ZTBjNTFhMmY3MDEgPSAkKGA8ZGl2IGlkPSJodG1sX2Y0YTJjNWI5Nzg5MzQwN2FhYmM5N2UwYzUxYTJmNzAxIiBzdHlsZT0id2lkdGg6IDEwMC4wJTsgaGVpZ2h0OiAxMDAuMCU7Ij5WQU5EQUxJU008L2Rpdj5gKVswXTsKICAgICAgICAgICAgcG9wdXBfNWM1MmFjYzBlNGJkNDIxMThmZWRhN2RhZDQxNmI3NTIuc2V0Q29udGVudChodG1sX2Y0YTJjNWI5Nzg5MzQwN2FhYmM5N2UwYzUxYTJmNzAxKTsKICAgICAgICAKCiAgICAgICAgbWFya2VyXzlmOTU5ZjczM2I5NTRkNjU4MTE1ZWFjZGEzNTg0NmI5LmJpbmRQb3B1cChwb3B1cF81YzUyYWNjMGU0YmQ0MjExOGZlZGE3ZGFkNDE2Yjc1MikKICAgICAgICA7CgogICAgICAgIAogICAgCiAgICAKICAgICAgICAgICAgdmFyIG1hcmtlcl8yMmQ3MTMwNzNlZjY0NDE2YTBjMzYzMDM4MDU1MmFlNSA9IEwubWFya2VyKAogICAgICAgICAgICAgICAgWzM3Ljc1MzAxODY1Mzc0NDYwNCwgLTEyMi40MTg1ODcxNzIyMTldLAogICAgICAgICAgICAgICAge30KICAgICAgICAgICAgKS5hZGRUbyhtYXBfZDk0Y2FlNmY0NTcwNGYwY2JmMDA5ZDVlMzljY2FkMWUpOwogICAgICAgIAogICAgCiAgICAgICAgdmFyIHBvcHVwXzkwOGEyMjdhMDQ5NTQwNDJhNDU2Mjg0MjhhYjBjN2U1ID0gTC5wb3B1cCh7Im1heFdpZHRoIjogIjEwMCUifSk7CgogICAgICAgIAogICAgICAgICAgICB2YXIgaHRtbF9mOTJmYjBkNzRkYmU0OTljOWM1NjNiZmY1OTMzZjEyOCA9ICQoYDxkaXYgaWQ9Imh0bWxfZjkyZmIwZDc0ZGJlNDk5YzljNTYzYmZmNTkzM2YxMjgiIHN0eWxlPSJ3aWR0aDogMTAwLjAlOyBoZWlnaHQ6IDEwMC4wJTsiPk5PTi1DUklNSU5BTDwvZGl2PmApWzBdOwogICAgICAgICAgICBwb3B1cF85MDhhMjI3YTA0OTU0MDQyYTQ1NjI4NDI4YWIwYzdlNS5zZXRDb250ZW50KGh0bWxfZjkyZmIwZDc0ZGJlNDk5YzljNTYzYmZmNTkzM2YxMjgpOwogICAgICAgIAoKICAgICAgICBtYXJrZXJfMjJkNzEzMDczZWY2NDQxNmEwYzM2MzAzODA1NTJhZTUuYmluZFBvcHVwKHBvcHVwXzkwOGEyMjdhMDQ5NTQwNDJhNDU2Mjg0MjhhYjBjN2U1KQogICAgICAgIDsKCiAgICAgICAgCiAgICAKICAgIAogICAgICAgICAgICB2YXIgbWFya2VyX2JiNGMyMDA3MmU3MzQ5NzM5YjE5MWE2NTU0M2UyNDlhID0gTC5tYXJrZXIoCiAgICAgICAgICAgICAgICBbMzcuNzc0MDQxODM4NTA0MSwgLTEyMi40MTQzNzA2Mjc0OTVdLAogICAgICAgICAgICAgICAge30KICAgICAgICAgICAgKS5hZGRUbyhtYXBfZDk0Y2FlNmY0NTcwNGYwY2JmMDA5ZDVlMzljY2FkMWUpOwogICAgICAgIAogICAgCiAgICAgICAgdmFyIHBvcHVwXzM4NDc5YTUwMmYwMzQ5OTdhZDFjOGZlY2I4ZDVjZjkzID0gTC5wb3B1cCh7Im1heFdpZHRoIjogIjEwMCUifSk7CgogICAgICAgIAogICAgICAgICAgICB2YXIgaHRtbF81ZTczZThmMGYzMTg0MmIxYWY3NWNiYzEwY2E1NTliZSA9ICQoYDxkaXYgaWQ9Imh0bWxfNWU3M2U4ZjBmMzE4NDJiMWFmNzVjYmMxMGNhNTU5YmUiIHN0eWxlPSJ3aWR0aDogMTAwLjAlOyBoZWlnaHQ6IDEwMC4wJTsiPkZSQVVEPC9kaXY+YClbMF07CiAgICAgICAgICAgIHBvcHVwXzM4NDc5YTUwMmYwMzQ5OTdhZDFjOGZlY2I4ZDVjZjkzLnNldENvbnRlbnQoaHRtbF81ZTczZThmMGYzMTg0MmIxYWY3NWNiYzEwY2E1NTliZSk7CiAgICAgICAgCgogICAgICAgIG1hcmtlcl9iYjRjMjAwNzJlNzM0OTczOWIxOTFhNjU1NDNlMjQ5YS5iaW5kUG9wdXAocG9wdXBfMzg0NzlhNTAyZjAzNDk5N2FkMWM4ZmVjYjhkNWNmOTMpCiAgICAgICAgOwoKICAgICAgICAKICAgIAogICAgCiAgICAgICAgICAgIHZhciBtYXJrZXJfMGVmZjMzM2ZjYzNkNDQzNDgzYjBiMGZjMTZmYzZhMmEgPSBMLm1hcmtlcigKICAgICAgICAgICAgICAgIFszNy43OTA1Mzg5OTM3MjUsIC0xMjIuNDAzOTE1NjgxNTcxMDFdLAogICAgICAgICAgICAgICAge30KICAgICAgICAgICAgKS5hZGRUbyhtYXBfZDk0Y2FlNmY0NTcwNGYwY2JmMDA5ZDVlMzljY2FkMWUpOwogICAgICAgIAogICAgCiAgICAgICAgdmFyIHBvcHVwXzI4MWU2ZWYzMjg5NjRkZDdiYTg0ZDU2YmYyODBmYmU0ID0gTC5wb3B1cCh7Im1heFdpZHRoIjogIjEwMCUifSk7CgogICAgICAgIAogICAgICAgICAgICB2YXIgaHRtbF9mNzg0ZDA0ZTAxYjk0ODk1OWI4NWE5MzZiM2RjODM3YyA9ICQoYDxkaXYgaWQ9Imh0bWxfZjc4NGQwNGUwMWI5NDg5NTliODVhOTM2YjNkYzgzN2MiIHN0eWxlPSJ3aWR0aDogMTAwLjAlOyBoZWlnaHQ6IDEwMC4wJTsiPkFTU0FVTFQ8L2Rpdj5gKVswXTsKICAgICAgICAgICAgcG9wdXBfMjgxZTZlZjMyODk2NGRkN2JhODRkNTZiZjI4MGZiZTQuc2V0Q29udGVudChodG1sX2Y3ODRkMDRlMDFiOTQ4OTU5Yjg1YTkzNmIzZGM4MzdjKTsKICAgICAgICAKCiAgICAgICAgbWFya2VyXzBlZmYzMzNmY2MzZDQ0MzQ4M2IwYjBmYzE2ZmM2YTJhLmJpbmRQb3B1cChwb3B1cF8yODFlNmVmMzI4OTY0ZGQ3YmE4NGQ1NmJmMjgwZmJlNCkKICAgICAgICA7CgogICAgICAgIAogICAgCiAgICAKICAgICAgICAgICAgdmFyIG1hcmtlcl9kZGUyMTI5NjM5OWE0YzY3OWRjMWNkMDFkN2FlNDM2OSA9IEwubWFya2VyKAogICAgICAgICAgICAgICAgWzM3Ljc4MzA5OTgyNDQ1OTIxLCAtMTIyLjQxOTE4MzA5NjM2Ml0sCiAgICAgICAgICAgICAgICB7fQogICAgICAgICAgICApLmFkZFRvKG1hcF9kOTRjYWU2ZjQ1NzA0ZjBjYmYwMDlkNWUzOWNjYWQxZSk7CiAgICAgICAgCiAgICAKICAgICAgICB2YXIgcG9wdXBfMGE5YTEwNDU4Mzc5NGI4NjljMTFkMTA3ZjE4MDAyMTAgPSBMLnBvcHVwKHsibWF4V2lkdGgiOiAiMTAwJSJ9KTsKCiAgICAgICAgCiAgICAgICAgICAgIHZhciBodG1sXzVlY2NjYjVlYzc1ZDRkYzFhZDljYmY4ZDk0ZjlmYjFiID0gJChgPGRpdiBpZD0iaHRtbF81ZWNjY2I1ZWM3NWQ0ZGMxYWQ5Y2JmOGQ5NGY5ZmIxYiIgc3R5bGU9IndpZHRoOiAxMDAuMCU7IGhlaWdodDogMTAwLjAlOyI+T1RIRVIgT0ZGRU5TRVM8L2Rpdj5gKVswXTsKICAgICAgICAgICAgcG9wdXBfMGE5YTEwNDU4Mzc5NGI4NjljMTFkMTA3ZjE4MDAyMTAuc2V0Q29udGVudChodG1sXzVlY2NjYjVlYzc1ZDRkYzFhZDljYmY4ZDk0ZjlmYjFiKTsKICAgICAgICAKCiAgICAgICAgbWFya2VyX2RkZTIxMjk2Mzk5YTRjNjc5ZGMxY2QwMWQ3YWU0MzY5LmJpbmRQb3B1cChwb3B1cF8wYTlhMTA0NTgzNzk0Yjg2OWMxMWQxMDdmMTgwMDIxMCkKICAgICAgICA7CgogICAgICAgIAogICAgCiAgICAKICAgICAgICAgICAgdmFyIG1hcmtlcl80ZWQ3MWY2OWJjODA0MjFkODhkYTE5M2VmYmRlYjM4NSA9IEwubWFya2VyKAogICAgICAgICAgICAgICAgWzM3Ljc0MDczNjA1NDgzNTc5LCAtMTIyLjM4ODc1MzA0Njk5N10sCiAgICAgICAgICAgICAgICB7fQogICAgICAgICAgICApLmFkZFRvKG1hcF9kOTRjYWU2ZjQ1NzA0ZjBjYmYwMDlkNWUzOWNjYWQxZSk7CiAgICAgICAgCiAgICAKICAgICAgICB2YXIgcG9wdXBfYjZkYTMyNTRlZmIxNDFlMGE4MjdkNmI2NTIxYTE1NzAgPSBMLnBvcHVwKHsibWF4V2lkdGgiOiAiMTAwJSJ9KTsKCiAgICAgICAgCiAgICAgICAgICAgIHZhciBodG1sX2NkNmVkZTgyNWQzYTRlMzhiMjk1YzVhNDMzMDZmZTQ5ID0gJChgPGRpdiBpZD0iaHRtbF9jZDZlZGU4MjVkM2E0ZTM4YjI5NWM1YTQzMzA2ZmU0OSIgc3R5bGU9IndpZHRoOiAxMDAuMCU7IGhlaWdodDogMTAwLjAlOyI+T1RIRVIgT0ZGRU5TRVM8L2Rpdj5gKVswXTsKICAgICAgICAgICAgcG9wdXBfYjZkYTMyNTRlZmIxNDFlMGE4MjdkNmI2NTIxYTE1NzAuc2V0Q29udGVudChodG1sX2NkNmVkZTgyNWQzYTRlMzhiMjk1YzVhNDMzMDZmZTQ5KTsKICAgICAgICAKCiAgICAgICAgbWFya2VyXzRlZDcxZjY5YmM4MDQyMWQ4OGRhMTkzZWZiZGViMzg1LmJpbmRQb3B1cChwb3B1cF9iNmRhMzI1NGVmYjE0MWUwYTgyN2Q2YjY1MjFhMTU3MCkKICAgICAgICA7CgogICAgICAgIAogICAgCiAgICAKICAgICAgICAgICAgdmFyIG1hcmtlcl81YzJmZDgwMDg1OWE0OGZhODRiNzRlNjA5MzY1YjBhMCA9IEwubWFya2VyKAogICAgICAgICAgICAgICAgWzM3Ljc3NDk5MTI5NDQzNjYsIC0xMjIuNDM3Nzk5NzAzNDY4XSwKICAgICAgICAgICAgICAgIHt9CiAgICAgICAgICAgICkuYWRkVG8obWFwX2Q5NGNhZTZmNDU3MDRmMGNiZjAwOWQ1ZTM5Y2NhZDFlKTsKICAgICAgICAKICAgIAogICAgICAgIHZhciBwb3B1cF82NWJkYzJiZjU2NTc0NTczYjUyZGJlMGY1ZWJlZWIxMyA9IEwucG9wdXAoeyJtYXhXaWR0aCI6ICIxMDAlIn0pOwoKICAgICAgICAKICAgICAgICAgICAgdmFyIGh0bWxfZjJiMjBjZDU0ODUyNDhmNjhiZjRkM2FjZjk1Nzc1ZDAgPSAkKGA8ZGl2IGlkPSJodG1sX2YyYjIwY2Q1NDg1MjQ4ZjY4YmY0ZDNhY2Y5NTc3NWQwIiBzdHlsZT0id2lkdGg6IDEwMC4wJTsgaGVpZ2h0OiAxMDAuMCU7Ij5MQVJDRU5ZL1RIRUZUPC9kaXY+YClbMF07CiAgICAgICAgICAgIHBvcHVwXzY1YmRjMmJmNTY1NzQ1NzNiNTJkYmUwZjVlYmVlYjEzLnNldENvbnRlbnQoaHRtbF9mMmIyMGNkNTQ4NTI0OGY2OGJmNGQzYWNmOTU3NzVkMCk7CiAgICAgICAgCgogICAgICAgIG1hcmtlcl81YzJmZDgwMDg1OWE0OGZhODRiNzRlNjA5MzY1YjBhMC5iaW5kUG9wdXAocG9wdXBfNjViZGMyYmY1NjU3NDU3M2I1MmRiZTBmNWViZWViMTMpCiAgICAgICAgOwoKICAgICAgICAKICAgIAogICAgCiAgICAgICAgICAgIHZhciBtYXJrZXJfZmY2MWJlZjhkMDU4NGFkMzhkNmU2NTk5YmI1NDM2ZWEgPSBMLm1hcmtlcigKICAgICAgICAgICAgICAgIFszNy43NzcwOTAyNzQzNjY5LCAtMTIyLjQyMTMzMjY4NDYzM10sCiAgICAgICAgICAgICAgICB7fQogICAgICAgICAgICApLmFkZFRvKG1hcF9kOTRjYWU2ZjQ1NzA0ZjBjYmYwMDlkNWUzOWNjYWQxZSk7CiAgICAgICAgCiAgICAKICAgICAgICB2YXIgcG9wdXBfYTY0ZTU4MDMyMDlkNDNjMjlmNzhlNTUyZmZlMGYwMTcgPSBMLnBvcHVwKHsibWF4V2lkdGgiOiAiMTAwJSJ9KTsKCiAgICAgICAgCiAgICAgICAgICAgIHZhciBodG1sX2E0ZDlmNTAwNjE1NDQwMzNiM2ZlYmU5OTQ0YTlhNzI2ID0gJChgPGRpdiBpZD0iaHRtbF9hNGQ5ZjUwMDYxNTQ0MDMzYjNmZWJlOTk0NGE5YTcyNiIgc3R5bGU9IndpZHRoOiAxMDAuMCU7IGhlaWdodDogMTAwLjAlOyI+TUlTU0lORyBQRVJTT048L2Rpdj5gKVswXTsKICAgICAgICAgICAgcG9wdXBfYTY0ZTU4MDMyMDlkNDNjMjlmNzhlNTUyZmZlMGYwMTcuc2V0Q29udGVudChodG1sX2E0ZDlmNTAwNjE1NDQwMzNiM2ZlYmU5OTQ0YTlhNzI2KTsKICAgICAgICAKCiAgICAgICAgbWFya2VyX2ZmNjFiZWY4ZDA1ODRhZDM4ZDZlNjU5OWJiNTQzNmVhLmJpbmRQb3B1cChwb3B1cF9hNjRlNTgwMzIwOWQ0M2MyOWY3OGU1NTJmZmUwZjAxNykKICAgICAgICA7CgogICAgICAgIAogICAgCiAgICAKICAgICAgICAgICAgdmFyIG1hcmtlcl85MjZhZmQ3MzAwMzk0NDUzOWExZmY4MGUwZTQwODc3MCA9IEwubWFya2VyKAogICAgICAgICAgICAgICAgWzM3Ljc3NzA5MDI3NDM2NjksIC0xMjIuNDIxMzMyNjg0NjMzXSwKICAgICAgICAgICAgICAgIHt9CiAgICAgICAgICAgICkuYWRkVG8obWFwX2Q5NGNhZTZmNDU3MDRmMGNiZjAwOWQ1ZTM5Y2NhZDFlKTsKICAgICAgICAKICAgIAogICAgICAgIHZhciBwb3B1cF85MjRkZDk0ZjNhNDg0MGIwOTRkMDAxNGNmNDUzNmNhNSA9IEwucG9wdXAoeyJtYXhXaWR0aCI6ICIxMDAlIn0pOwoKICAgICAgICAKICAgICAgICAgICAgdmFyIGh0bWxfNjZkMzJlNDZmNzQ1NDU2ODk2ZTFhNmUyNDJlNzJhOTYgPSAkKGA8ZGl2IGlkPSJodG1sXzY2ZDMyZTQ2Zjc0NTQ1Njg5NmUxYTZlMjQyZTcyYTk2IiBzdHlsZT0id2lkdGg6IDEwMC4wJTsgaGVpZ2h0OiAxMDAuMCU7Ij5NSVNTSU5HIFBFUlNPTjwvZGl2PmApWzBdOwogICAgICAgICAgICBwb3B1cF85MjRkZDk0ZjNhNDg0MGIwOTRkMDAxNGNmNDUzNmNhNS5zZXRDb250ZW50KGh0bWxfNjZkMzJlNDZmNzQ1NDU2ODk2ZTFhNmUyNDJlNzJhOTYpOwogICAgICAgIAoKICAgICAgICBtYXJrZXJfOTI2YWZkNzMwMDM5NDQ1MzlhMWZmODBlMGU0MDg3NzAuYmluZFBvcHVwKHBvcHVwXzkyNGRkOTRmM2E0ODQwYjA5NGQwMDE0Y2Y0NTM2Y2E1KQogICAgICAgIDsKCiAgICAgICAgCiAgICAKICAgIAogICAgICAgICAgICB2YXIgbWFya2VyXzY1MDQzOGM4MjJiYTRmOTRhMzAyOWJlNTViNjRkNjk0ID0gTC5tYXJrZXIoCiAgICAgICAgICAgICAgICBbMzcuNzgyMjQ1ODIyMzkxNywgLTEyMi40NDY2MTI5Nzg4MzldLAogICAgICAgICAgICAgICAge30KICAgICAgICAgICAgKS5hZGRUbyhtYXBfZDk0Y2FlNmY0NTcwNGYwY2JmMDA5ZDVlMzljY2FkMWUpOwogICAgICAgIAogICAgCiAgICAgICAgdmFyIHBvcHVwX2FjOWQxNThlOWFkODQ4NmJhMWNhNTA0OTU1OWQyZmYxID0gTC5wb3B1cCh7Im1heFdpZHRoIjogIjEwMCUifSk7CgogICAgICAgIAogICAgICAgICAgICB2YXIgaHRtbF80ZmQxMGQ1NTcyOTA0NzRmYTVkYWM2NjU3NDZlYTFmYiA9ICQoYDxkaXYgaWQ9Imh0bWxfNGZkMTBkNTU3MjkwNDc0ZmE1ZGFjNjY1NzQ2ZWExZmIiIHN0eWxlPSJ3aWR0aDogMTAwLjAlOyBoZWlnaHQ6IDEwMC4wJTsiPldBUlJBTlRTPC9kaXY+YClbMF07CiAgICAgICAgICAgIHBvcHVwX2FjOWQxNThlOWFkODQ4NmJhMWNhNTA0OTU1OWQyZmYxLnNldENvbnRlbnQoaHRtbF80ZmQxMGQ1NTcyOTA0NzRmYTVkYWM2NjU3NDZlYTFmYik7CiAgICAgICAgCgogICAgICAgIG1hcmtlcl82NTA0MzhjODIyYmE0Zjk0YTMwMjliZTU1YjY0ZDY5NC5iaW5kUG9wdXAocG9wdXBfYWM5ZDE1OGU5YWQ4NDg2YmExY2E1MDQ5NTU5ZDJmZjEpCiAgICAgICAgOwoKICAgICAgICAKICAgIAogICAgCiAgICAgICAgICAgIHZhciBtYXJrZXJfMWZhNTBhYjM0YzM2NGRiZjhhYzE4ZmE5OTUzZTA1YTIgPSBMLm1hcmtlcigKICAgICAgICAgICAgICAgIFszNy43MzAwMzc5OTk1MTI3OTUsIC0xMjIuNDA0NTk0MTQwNjM0XSwKICAgICAgICAgICAgICAgIHt9CiAgICAgICAgICAgICkuYWRkVG8obWFwX2Q5NGNhZTZmNDU3MDRmMGNiZjAwOWQ1ZTM5Y2NhZDFlKTsKICAgICAgICAKICAgIAogICAgICAgIHZhciBwb3B1cF9kYjg4OWUxOWRjYzM0OGIyODZiYmEyNTdkMjY2NzQzNSA9IEwucG9wdXAoeyJtYXhXaWR0aCI6ICIxMDAlIn0pOwoKICAgICAgICAKICAgICAgICAgICAgdmFyIGh0bWxfMTVkZjRjODRkNDNiNGM3ZWEyYTg3ZTFiZWU4NGJhN2QgPSAkKGA8ZGl2IGlkPSJodG1sXzE1ZGY0Yzg0ZDQzYjRjN2VhMmE4N2UxYmVlODRiYTdkIiBzdHlsZT0id2lkdGg6IDEwMC4wJTsgaGVpZ2h0OiAxMDAuMCU7Ij5OT04tQ1JJTUlOQUw8L2Rpdj5gKVswXTsKICAgICAgICAgICAgcG9wdXBfZGI4ODllMTlkY2MzNDhiMjg2YmJhMjU3ZDI2Njc0MzUuc2V0Q29udGVudChodG1sXzE1ZGY0Yzg0ZDQzYjRjN2VhMmE4N2UxYmVlODRiYTdkKTsKICAgICAgICAKCiAgICAgICAgbWFya2VyXzFmYTUwYWIzNGMzNjRkYmY4YWMxOGZhOTk1M2UwNWEyLmJpbmRQb3B1cChwb3B1cF9kYjg4OWUxOWRjYzM0OGIyODZiYmEyNTdkMjY2NzQzNSkKICAgICAgICA7CgogICAgICAgIAogICAgCiAgICAKICAgICAgICAgICAgdmFyIG1hcmtlcl8wOGM2YzI4MTAzNGE0MDE2OWM5ZmJkZmUxZmM5ZmYwNCA9IEwubWFya2VyKAogICAgICAgICAgICAgICAgWzM3Ljc5NTMzMzgyNjc0MzYsIC0xMjIuMzk3MzczNzQwMDY2XSwKICAgICAgICAgICAgICAgIHt9CiAgICAgICAgICAgICkuYWRkVG8obWFwX2Q5NGNhZTZmNDU3MDRmMGNiZjAwOWQ1ZTM5Y2NhZDFlKTsKICAgICAgICAKICAgIAogICAgICAgIHZhciBwb3B1cF81OGRmNTI5ZTcyNTU0OGUxYWM2MGUxZDRhOTA2MWM4YSA9IEwucG9wdXAoeyJtYXhXaWR0aCI6ICIxMDAlIn0pOwoKICAgICAgICAKICAgICAgICAgICAgdmFyIGh0bWxfNWE2Nzc0Y2RjNjY5NDQ2NWJjNTUxODdiMTk3ZGE5NTYgPSAkKGA8ZGl2IGlkPSJodG1sXzVhNjc3NGNkYzY2OTQ0NjViYzU1MTg3YjE5N2RhOTU2IiBzdHlsZT0id2lkdGg6IDEwMC4wJTsgaGVpZ2h0OiAxMDAuMCU7Ij5OT04tQ1JJTUlOQUw8L2Rpdj5gKVswXTsKICAgICAgICAgICAgcG9wdXBfNThkZjUyOWU3MjU1NDhlMWFjNjBlMWQ0YTkwNjFjOGEuc2V0Q29udGVudChodG1sXzVhNjc3NGNkYzY2OTQ0NjViYzU1MTg3YjE5N2RhOTU2KTsKICAgICAgICAKCiAgICAgICAgbWFya2VyXzA4YzZjMjgxMDM0YTQwMTY5YzlmYmRmZTFmYzlmZjA0LmJpbmRQb3B1cChwb3B1cF81OGRmNTI5ZTcyNTU0OGUxYWM2MGUxZDRhOTA2MWM4YSkKICAgICAgICA7CgogICAgICAgIAogICAgCiAgICAKICAgICAgICAgICAgdmFyIG1hcmtlcl8zNWM4MDEyYWE3N2E0YTRhYjQ5MmJlNzIyZDIxOGEzZCA9IEwubWFya2VyKAogICAgICAgICAgICAgICAgWzM3Ljc4NzUxNTg3NDE2MjI5NSwgLTEyMi40MDc0MzQ5ODk1MjNdLAogICAgICAgICAgICAgICAge30KICAgICAgICAgICAgKS5hZGRUbyhtYXBfZDk0Y2FlNmY0NTcwNGYwY2JmMDA5ZDVlMzljY2FkMWUpOwogICAgICAgIAogICAgCiAgICAgICAgdmFyIHBvcHVwX2E2ZjU4YzdiN2VkZDRjZDRiODczODllNmZjYmE4OTFmID0gTC5wb3B1cCh7Im1heFdpZHRoIjogIjEwMCUifSk7CgogICAgICAgIAogICAgICAgICAgICB2YXIgaHRtbF9mNTE0MTNiNTZkMmY0NmRmYjJjM2ViMjEzMzYyMmQ1ZCA9ICQoYDxkaXYgaWQ9Imh0bWxfZjUxNDEzYjU2ZDJmNDZkZmIyYzNlYjIxMzM2MjJkNWQiIHN0eWxlPSJ3aWR0aDogMTAwLjAlOyBoZWlnaHQ6IDEwMC4wJTsiPldBUlJBTlRTPC9kaXY+YClbMF07CiAgICAgICAgICAgIHBvcHVwX2E2ZjU4YzdiN2VkZDRjZDRiODczODllNmZjYmE4OTFmLnNldENvbnRlbnQoaHRtbF9mNTE0MTNiNTZkMmY0NmRmYjJjM2ViMjEzMzYyMmQ1ZCk7CiAgICAgICAgCgogICAgICAgIG1hcmtlcl8zNWM4MDEyYWE3N2E0YTRhYjQ5MmJlNzIyZDIxOGEzZC5iaW5kUG9wdXAocG9wdXBfYTZmNThjN2I3ZWRkNGNkNGI4NzM4OWU2ZmNiYTg5MWYpCiAgICAgICAgOwoKICAgICAgICAKICAgIAogICAgCiAgICAgICAgICAgIHZhciBtYXJrZXJfZWE3ZDBkMmU3NTE1NDFkZTg5YWFiZWE5ZDlmOGUzNjIgPSBMLm1hcmtlcigKICAgICAgICAgICAgICAgIFszNy43Nzg1MjMzNzc2MDMyLCAtMTIyLjQwMzQ2NDA4MDAzM10sCiAgICAgICAgICAgICAgICB7fQogICAgICAgICAgICApLmFkZFRvKG1hcF9kOTRjYWU2ZjQ1NzA0ZjBjYmYwMDlkNWUzOWNjYWQxZSk7CiAgICAgICAgCiAgICAKICAgICAgICB2YXIgcG9wdXBfODljMjNjNTgzMDRkNGYxYjkyMWRlN2Y4OWU0NTM2MTEgPSBMLnBvcHVwKHsibWF4V2lkdGgiOiAiMTAwJSJ9KTsKCiAgICAgICAgCiAgICAgICAgICAgIHZhciBodG1sX2I4Y2JjMjJmYmM5ZjQxZGQ5NzJhYTNjMzdhNTEzYjAxID0gJChgPGRpdiBpZD0iaHRtbF9iOGNiYzIyZmJjOWY0MWRkOTcyYWEzYzM3YTUxM2IwMSIgc3R5bGU9IndpZHRoOiAxMDAuMCU7IGhlaWdodDogMTAwLjAlOyI+UFJPU1RJVFVUSU9OPC9kaXY+YClbMF07CiAgICAgICAgICAgIHBvcHVwXzg5YzIzYzU4MzA0ZDRmMWI5MjFkZTdmODllNDUzNjExLnNldENvbnRlbnQoaHRtbF9iOGNiYzIyZmJjOWY0MWRkOTcyYWEzYzM3YTUxM2IwMSk7CiAgICAgICAgCgogICAgICAgIG1hcmtlcl9lYTdkMGQyZTc1MTU0MWRlODlhYWJlYTlkOWY4ZTM2Mi5iaW5kUG9wdXAocG9wdXBfODljMjNjNTgzMDRkNGYxYjkyMWRlN2Y4OWU0NTM2MTEpCiAgICAgICAgOwoKICAgICAgICAKICAgIAogICAgCiAgICAgICAgICAgIHZhciBtYXJrZXJfOTY2MmRhZjM4MGI5NDMwNDg3M2Y5ZjI3YWFjZDJiZWUgPSBMLm1hcmtlcigKICAgICAgICAgICAgICAgIFszNy43Nzg1MjMzNzc2MDMyLCAtMTIyLjQwMzQ2NDA4MDAzM10sCiAgICAgICAgICAgICAgICB7fQogICAgICAgICAgICApLmFkZFRvKG1hcF9kOTRjYWU2ZjQ1NzA0ZjBjYmYwMDlkNWUzOWNjYWQxZSk7CiAgICAgICAgCiAgICAKICAgICAgICB2YXIgcG9wdXBfNDI1MDZiYjg2OWE5NDk3Y2E2MzcwYjNlMTM0OGZiOTYgPSBMLnBvcHVwKHsibWF4V2lkdGgiOiAiMTAwJSJ9KTsKCiAgICAgICAgCiAgICAgICAgICAgIHZhciBodG1sX2ZhODIxMTM1YTAwMDQ3ODFhNWMwYjRmNDQ5NTcxODkwID0gJChgPGRpdiBpZD0iaHRtbF9mYTgyMTEzNWEwMDA0NzgxYTVjMGI0ZjQ0OTU3MTg5MCIgc3R5bGU9IndpZHRoOiAxMDAuMCU7IGhlaWdodDogMTAwLjAlOyI+T1RIRVIgT0ZGRU5TRVM8L2Rpdj5gKVswXTsKICAgICAgICAgICAgcG9wdXBfNDI1MDZiYjg2OWE5NDk3Y2E2MzcwYjNlMTM0OGZiOTYuc2V0Q29udGVudChodG1sX2ZhODIxMTM1YTAwMDQ3ODFhNWMwYjRmNDQ5NTcxODkwKTsKICAgICAgICAKCiAgICAgICAgbWFya2VyXzk2NjJkYWYzODBiOTQzMDQ4NzNmOWYyN2FhY2QyYmVlLmJpbmRQb3B1cChwb3B1cF80MjUwNmJiODY5YTk0OTdjYTYzNzBiM2UxMzQ4ZmI5NikKICAgICAgICA7CgogICAgICAgIAogICAgCiAgICAKICAgICAgICAgICAgdmFyIG1hcmtlcl8xOTgyYzA4YzE3NTE0ZTk1YWU4MjhmMGY4ZWM5N2Y0MSA9IEwubWFya2VyKAogICAgICAgICAgICAgICAgWzM3Ljc3MzI5MTgwNjkwMjk5NiwgLTEyMi40MzY2MTQxODEzMzEwMV0sCiAgICAgICAgICAgICAgICB7fQogICAgICAgICAgICApLmFkZFRvKG1hcF9kOTRjYWU2ZjQ1NzA0ZjBjYmYwMDlkNWUzOWNjYWQxZSk7CiAgICAgICAgCiAgICAKICAgICAgICB2YXIgcG9wdXBfNmZmN2ZkYWRiYzFmNDI4Yzg3MTI1Zjc4Y2QwMWU1NmIgPSBMLnBvcHVwKHsibWF4V2lkdGgiOiAiMTAwJSJ9KTsKCiAgICAgICAgCiAgICAgICAgICAgIHZhciBodG1sX2QyZWNkYTZjMTRjMDRjMmY5MTc2ZDcyNTIxZDg0ZDkzID0gJChgPGRpdiBpZD0iaHRtbF9kMmVjZGE2YzE0YzA0YzJmOTE3NmQ3MjUyMWQ4NGQ5MyIgc3R5bGU9IndpZHRoOiAxMDAuMCU7IGhlaWdodDogMTAwLjAlOyI+Tk9OLUNSSU1JTkFMPC9kaXY+YClbMF07CiAgICAgICAgICAgIHBvcHVwXzZmZjdmZGFkYmMxZjQyOGM4NzEyNWY3OGNkMDFlNTZiLnNldENvbnRlbnQoaHRtbF9kMmVjZGE2YzE0YzA0YzJmOTE3NmQ3MjUyMWQ4NGQ5Myk7CiAgICAgICAgCgogICAgICAgIG1hcmtlcl8xOTgyYzA4YzE3NTE0ZTk1YWU4MjhmMGY4ZWM5N2Y0MS5iaW5kUG9wdXAocG9wdXBfNmZmN2ZkYWRiYzFmNDI4Yzg3MTI1Zjc4Y2QwMWU1NmIpCiAgICAgICAgOwoKICAgICAgICAKICAgIAogICAgCiAgICAgICAgICAgIHZhciBtYXJrZXJfNGFjYzM4YjlkYWQ0NDBmYmJlMTMxMzExM2ZiNGI4YmUgPSBMLm1hcmtlcigKICAgICAgICAgICAgICAgIFszNy43ODA1Mjc1Nzg1MDksIC0xMjIuMzk2ODQ5MDE1MTcyMDFdLAogICAgICAgICAgICAgICAge30KICAgICAgICAgICAgKS5hZGRUbyhtYXBfZDk0Y2FlNmY0NTcwNGYwY2JmMDA5ZDVlMzljY2FkMWUpOwogICAgICAgIAogICAgCiAgICAgICAgdmFyIHBvcHVwX2I2NjY3MmZlYzUxNzRjODhiODNhZDAxNGI3YzM1Yjk3ID0gTC5wb3B1cCh7Im1heFdpZHRoIjogIjEwMCUifSk7CgogICAgICAgIAogICAgICAgICAgICB2YXIgaHRtbF84ZTkxYjUwZDdhZDM0N2JkYTRlYTAzYmFhMWEzZjJiNyA9ICQoYDxkaXYgaWQ9Imh0bWxfOGU5MWI1MGQ3YWQzNDdiZGE0ZWEwM2JhYTFhM2YyYjciIHN0eWxlPSJ3aWR0aDogMTAwLjAlOyBoZWlnaHQ6IDEwMC4wJTsiPkRSVUcvTkFSQ09USUM8L2Rpdj5gKVswXTsKICAgICAgICAgICAgcG9wdXBfYjY2NjcyZmVjNTE3NGM4OGI4M2FkMDE0YjdjMzViOTcuc2V0Q29udGVudChodG1sXzhlOTFiNTBkN2FkMzQ3YmRhNGVhMDNiYWExYTNmMmI3KTsKICAgICAgICAKCiAgICAgICAgbWFya2VyXzRhY2MzOGI5ZGFkNDQwZmJiZTEzMTMxMTNmYjRiOGJlLmJpbmRQb3B1cChwb3B1cF9iNjY2NzJmZWM1MTc0Yzg4YjgzYWQwMTRiN2MzNWI5NykKICAgICAgICA7CgogICAgICAgIAogICAgCiAgICAKICAgICAgICAgICAgdmFyIG1hcmtlcl8zYmZiNDFkMGE5MzA0MmU3OTM0MWE3ODgyOWI0OGQwYSA9IEwubWFya2VyKAogICAgICAgICAgICAgICAgWzM3Ljc4MDUyNzU3ODUwOSwgLTEyMi4zOTY4NDkwMTUxNzIwMV0sCiAgICAgICAgICAgICAgICB7fQogICAgICAgICAgICApLmFkZFRvKG1hcF9kOTRjYWU2ZjQ1NzA0ZjBjYmYwMDlkNWUzOWNjYWQxZSk7CiAgICAgICAgCiAgICAKICAgICAgICB2YXIgcG9wdXBfZmJjYmU2YmZkZWY4NDk1ZjgzMThkZWMyOWE0NDhmYzAgPSBMLnBvcHVwKHsibWF4V2lkdGgiOiAiMTAwJSJ9KTsKCiAgICAgICAgCiAgICAgICAgICAgIHZhciBodG1sXzMzMzZjZWRmMDkxNjQyNmRhMmYzOGZhMGRjN2RjZDgwID0gJChgPGRpdiBpZD0iaHRtbF8zMzM2Y2VkZjA5MTY0MjZkYTJmMzhmYTBkYzdkY2Q4MCIgc3R5bGU9IndpZHRoOiAxMDAuMCU7IGhlaWdodDogMTAwLjAlOyI+V0FSUkFOVFM8L2Rpdj5gKVswXTsKICAgICAgICAgICAgcG9wdXBfZmJjYmU2YmZkZWY4NDk1ZjgzMThkZWMyOWE0NDhmYzAuc2V0Q29udGVudChodG1sXzMzMzZjZWRmMDkxNjQyNmRhMmYzOGZhMGRjN2RjZDgwKTsKICAgICAgICAKCiAgICAgICAgbWFya2VyXzNiZmI0MWQwYTkzMDQyZTc5MzQxYTc4ODI5YjQ4ZDBhLmJpbmRQb3B1cChwb3B1cF9mYmNiZTZiZmRlZjg0OTVmODMxOGRlYzI5YTQ0OGZjMCkKICAgICAgICA7CgogICAgICAgIAogICAgCiAgICAKICAgICAgICAgICAgdmFyIG1hcmtlcl9mNTZiNzliZjBhYjc0ODRlOWRmMTMzZjRmNDI1ZDQzMSA9IEwubWFya2VyKAogICAgICAgICAgICAgICAgWzM3LjcyODQxODA3MDY2MDIwNCwgLTEyMi40NTAwMDA3OTA0NDVdLAogICAgICAgICAgICAgICAge30KICAgICAgICAgICAgKS5hZGRUbyhtYXBfZDk0Y2FlNmY0NTcwNGYwY2JmMDA5ZDVlMzljY2FkMWUpOwogICAgICAgIAogICAgCiAgICAgICAgdmFyIHBvcHVwXzRhNWJiNWE4YWFjNTQxYTQ5ZTNjNzcyOGEzYjA5OGMxID0gTC5wb3B1cCh7Im1heFdpZHRoIjogIjEwMCUifSk7CgogICAgICAgIAogICAgICAgICAgICB2YXIgaHRtbF80MzkzNTdkYjc2OWQ0NjVmYTVkNGY1YmU0ODViNzk3ZSA9ICQoYDxkaXYgaWQ9Imh0bWxfNDM5MzU3ZGI3NjlkNDY1ZmE1ZDRmNWJlNDg1Yjc5N2UiIHN0eWxlPSJ3aWR0aDogMTAwLjAlOyBoZWlnaHQ6IDEwMC4wJTsiPkxBUkNFTlkvVEhFRlQ8L2Rpdj5gKVswXTsKICAgICAgICAgICAgcG9wdXBfNGE1YmI1YThhYWM1NDFhNDllM2M3NzI4YTNiMDk4YzEuc2V0Q29udGVudChodG1sXzQzOTM1N2RiNzY5ZDQ2NWZhNWQ0ZjViZTQ4NWI3OTdlKTsKICAgICAgICAKCiAgICAgICAgbWFya2VyX2Y1NmI3OWJmMGFiNzQ4NGU5ZGYxMzNmNGY0MjVkNDMxLmJpbmRQb3B1cChwb3B1cF80YTViYjVhOGFhYzU0MWE0OWUzYzc3MjhhM2IwOThjMSkKICAgICAgICA7CgogICAgICAgIAogICAgCiAgICAKICAgICAgICAgICAgdmFyIG1hcmtlcl80YWQ5NWExZDU1MDg0ZDkzOGNmYTRmMjQxNDYyNDAzOCA9IEwubWFya2VyKAogICAgICAgICAgICAgICAgWzM3LjcyOTIxMTQ2NDczNTksIC0xMjIuNDAwODM0MjgzMDMxXSwKICAgICAgICAgICAgICAgIHt9CiAgICAgICAgICAgICkuYWRkVG8obWFwX2Q5NGNhZTZmNDU3MDRmMGNiZjAwOWQ1ZTM5Y2NhZDFlKTsKICAgICAgICAKICAgIAogICAgICAgIHZhciBwb3B1cF9hYzRhZmIxMmE3OWE0ZTgyYjFlZDM0YmE3NWQwYmRiOSA9IEwucG9wdXAoeyJtYXhXaWR0aCI6ICIxMDAlIn0pOwoKICAgICAgICAKICAgICAgICAgICAgdmFyIGh0bWxfYzk0ODQwM2Y1OWI4NGNhY2IzNDRkODc1NjFmODQ0ODcgPSAkKGA8ZGl2IGlkPSJodG1sX2M5NDg0MDNmNTliODRjYWNiMzQ0ZDg3NTYxZjg0NDg3IiBzdHlsZT0id2lkdGg6IDEwMC4wJTsgaGVpZ2h0OiAxMDAuMCU7Ij5PVEhFUiBPRkZFTlNFUzwvZGl2PmApWzBdOwogICAgICAgICAgICBwb3B1cF9hYzRhZmIxMmE3OWE0ZTgyYjFlZDM0YmE3NWQwYmRiOS5zZXRDb250ZW50KGh0bWxfYzk0ODQwM2Y1OWI4NGNhY2IzNDRkODc1NjFmODQ0ODcpOwogICAgICAgIAoKICAgICAgICBtYXJrZXJfNGFkOTVhMWQ1NTA4NGQ5MzhjZmE0ZjI0MTQ2MjQwMzguYmluZFBvcHVwKHBvcHVwX2FjNGFmYjEyYTc5YTRlODJiMWVkMzRiYTc1ZDBiZGI5KQogICAgICAgIDsKCiAgICAgICAgCiAgICAKICAgIAogICAgICAgICAgICB2YXIgbWFya2VyX2E3MDExODdmMmE2NjQxMGNiM2QyNjJkNzk2OGZjMWI4ID0gTC5tYXJrZXIoCiAgICAgICAgICAgICAgICBbMzcuNzg4MDA2NTMyNDM5MjA1LCAtMTIyLjM5OTgwMjE0NTc5OV0sCiAgICAgICAgICAgICAgICB7fQogICAgICAgICAgICApLmFkZFRvKG1hcF9kOTRjYWU2ZjQ1NzA0ZjBjYmYwMDlkNWUzOWNjYWQxZSk7CiAgICAgICAgCiAgICAKICAgICAgICB2YXIgcG9wdXBfZjhmMjVlNTU4NTg4NDBkMGFiMjAzYWY3MWFjNjVkYTEgPSBMLnBvcHVwKHsibWF4V2lkdGgiOiAiMTAwJSJ9KTsKCiAgICAgICAgCiAgICAgICAgICAgIHZhciBodG1sX2Q2YzBmYzhlNzI5MjRjMGNhMGFkMjQwNzFlMjc1MWUwID0gJChgPGRpdiBpZD0iaHRtbF9kNmMwZmM4ZTcyOTI0YzBjYTBhZDI0MDcxZTI3NTFlMCIgc3R5bGU9IndpZHRoOiAxMDAuMCU7IGhlaWdodDogMTAwLjAlOyI+TEFSQ0VOWS9USEVGVDwvZGl2PmApWzBdOwogICAgICAgICAgICBwb3B1cF9mOGYyNWU1NTg1ODg0MGQwYWIyMDNhZjcxYWM2NWRhMS5zZXRDb250ZW50KGh0bWxfZDZjMGZjOGU3MjkyNGMwY2EwYWQyNDA3MWUyNzUxZTApOwogICAgICAgIAoKICAgICAgICBtYXJrZXJfYTcwMTE4N2YyYTY2NDEwY2IzZDI2MmQ3OTY4ZmMxYjguYmluZFBvcHVwKHBvcHVwX2Y4ZjI1ZTU1ODU4ODQwZDBhYjIwM2FmNzFhYzY1ZGExKQogICAgICAgIDsKCiAgICAgICAgCiAgICAKICAgIAogICAgICAgICAgICB2YXIgbWFya2VyX2EzZjA2NzM2NWRhNTQyZmRiYzQwODM5ZjExYjUyYWQ0ID0gTC5tYXJrZXIoCiAgICAgICAgICAgICAgICBbMzcuNzIzOTc0ODI0MTYwOSwgLTEyMi4zOTQ5Mjg0NzU4XSwKICAgICAgICAgICAgICAgIHt9CiAgICAgICAgICAgICkuYWRkVG8obWFwX2Q5NGNhZTZmNDU3MDRmMGNiZjAwOWQ1ZTM5Y2NhZDFlKTsKICAgICAgICAKICAgIAogICAgICAgIHZhciBwb3B1cF8wNWJlNzhhZjlkZTI0NGE2YjY4NmNiMGI3N2FlZWI1ZSA9IEwucG9wdXAoeyJtYXhXaWR0aCI6ICIxMDAlIn0pOwoKICAgICAgICAKICAgICAgICAgICAgdmFyIGh0bWxfM2Y2MzU2MWMyNTdjNGI1ZWFjMWNhYzVhNmRjZmVhNzcgPSAkKGA8ZGl2IGlkPSJodG1sXzNmNjM1NjFjMjU3YzRiNWVhYzFjYWM1YTZkY2ZlYTc3IiBzdHlsZT0id2lkdGg6IDEwMC4wJTsgaGVpZ2h0OiAxMDAuMCU7Ij5TRUNPTkRBUlkgQ09ERVM8L2Rpdj5gKVswXTsKICAgICAgICAgICAgcG9wdXBfMDViZTc4YWY5ZGUyNDRhNmI2ODZjYjBiNzdhZWViNWUuc2V0Q29udGVudChodG1sXzNmNjM1NjFjMjU3YzRiNWVhYzFjYWM1YTZkY2ZlYTc3KTsKICAgICAgICAKCiAgICAgICAgbWFya2VyX2EzZjA2NzM2NWRhNTQyZmRiYzQwODM5ZjExYjUyYWQ0LmJpbmRQb3B1cChwb3B1cF8wNWJlNzhhZjlkZTI0NGE2YjY4NmNiMGI3N2FlZWI1ZSkKICAgICAgICA7CgogICAgICAgIAogICAgCiAgICAKICAgICAgICAgICAgdmFyIG1hcmtlcl8wMmZlYzM5ODc4ZjU0YWUwYmY1YjNmNzMyODk1YjE1MCA9IEwubWFya2VyKAogICAgICAgICAgICAgICAgWzM3LjcyMzk3NDgyNDE2MDksIC0xMjIuMzk0OTI4NDc1OF0sCiAgICAgICAgICAgICAgICB7fQogICAgICAgICAgICApLmFkZFRvKG1hcF9kOTRjYWU2ZjQ1NzA0ZjBjYmYwMDlkNWUzOWNjYWQxZSk7CiAgICAgICAgCiAgICAKICAgICAgICB2YXIgcG9wdXBfZGFjYzI0YmQ5MmExNDE1NTg0MjBkZWM0YmY5NjY3M2EgPSBMLnBvcHVwKHsibWF4V2lkdGgiOiAiMTAwJSJ9KTsKCiAgICAgICAgCiAgICAgICAgICAgIHZhciBodG1sX2VmZjcyODM5ZWNiYzRjMzZhYjJhNWQ3OTQ3NGQ4NDdkID0gJChgPGRpdiBpZD0iaHRtbF9lZmY3MjgzOWVjYmM0YzM2YWIyYTVkNzk0NzRkODQ3ZCIgc3R5bGU9IndpZHRoOiAxMDAuMCU7IGhlaWdodDogMTAwLjAlOyI+U1VTUElDSU9VUyBPQ0M8L2Rpdj5gKVswXTsKICAgICAgICAgICAgcG9wdXBfZGFjYzI0YmQ5MmExNDE1NTg0MjBkZWM0YmY5NjY3M2Euc2V0Q29udGVudChodG1sX2VmZjcyODM5ZWNiYzRjMzZhYjJhNWQ3OTQ3NGQ4NDdkKTsKICAgICAgICAKCiAgICAgICAgbWFya2VyXzAyZmVjMzk4NzhmNTRhZTBiZjViM2Y3MzI4OTViMTUwLmJpbmRQb3B1cChwb3B1cF9kYWNjMjRiZDkyYTE0MTU1ODQyMGRlYzRiZjk2NjczYSkKICAgICAgICA7CgogICAgICAgIAogICAgCiAgICAKICAgICAgICAgICAgdmFyIG1hcmtlcl80MGYwOGJmMTQ3NGU0ZGViYTdkNDQyYTY2MzM1MDY4YyA9IEwubWFya2VyKAogICAgICAgICAgICAgICAgWzM3LjcyMzk3NDgyNDE2MDksIC0xMjIuMzk0OTI4NDc1OF0sCiAgICAgICAgICAgICAgICB7fQogICAgICAgICAgICApLmFkZFRvKG1hcF9kOTRjYWU2ZjQ1NzA0ZjBjYmYwMDlkNWUzOWNjYWQxZSk7CiAgICAgICAgCiAgICAKICAgICAgICB2YXIgcG9wdXBfNTQzNzgzOWEzNzAwNDQ2MzhjZDMxMTAzZDQ5NjVkZGYgPSBMLnBvcHVwKHsibWF4V2lkdGgiOiAiMTAwJSJ9KTsKCiAgICAgICAgCiAgICAgICAgICAgIHZhciBodG1sX2MwMjRlYTQxZjIwMDQ0YjY4ZmY2ZTUzYmVjODBjZGQyID0gJChgPGRpdiBpZD0iaHRtbF9jMDI0ZWE0MWYyMDA0NGI2OGZmNmU1M2JlYzgwY2RkMiIgc3R5bGU9IndpZHRoOiAxMDAuMCU7IGhlaWdodDogMTAwLjAlOyI+T1RIRVIgT0ZGRU5TRVM8L2Rpdj5gKVswXTsKICAgICAgICAgICAgcG9wdXBfNTQzNzgzOWEzNzAwNDQ2MzhjZDMxMTAzZDQ5NjVkZGYuc2V0Q29udGVudChodG1sX2MwMjRlYTQxZjIwMDQ0YjY4ZmY2ZTUzYmVjODBjZGQyKTsKICAgICAgICAKCiAgICAgICAgbWFya2VyXzQwZjA4YmYxNDc0ZTRkZWJhN2Q0NDJhNjYzMzUwNjhjLmJpbmRQb3B1cChwb3B1cF81NDM3ODM5YTM3MDA0NDYzOGNkMzExMDNkNDk2NWRkZikKICAgICAgICA7CgogICAgICAgIAogICAgCiAgICAKICAgICAgICAgICAgdmFyIG1hcmtlcl9iMWI5ZDBmMzNmNTI0OGRhYWNkYjBiMTI5OGZlZjY0NiA9IEwubWFya2VyKAogICAgICAgICAgICAgICAgWzM3Ljc4ODMyMzU0NDk5MDQsIC0xMjIuNDExODU3MDMyNTRdLAogICAgICAgICAgICAgICAge30KICAgICAgICAgICAgKS5hZGRUbyhtYXBfZDk0Y2FlNmY0NTcwNGYwY2JmMDA5ZDVlMzljY2FkMWUpOwogICAgICAgIAogICAgCiAgICAgICAgdmFyIHBvcHVwX2Y5Y2YwZGE2Njk3ZjRlNGFiMmRiOGIxOWZkNDBmN2I0ID0gTC5wb3B1cCh7Im1heFdpZHRoIjogIjEwMCUifSk7CgogICAgICAgIAogICAgICAgICAgICB2YXIgaHRtbF8xODM5MDU3ZGY2YjI0NzkwYTAyMGRhZDk0MTk4ZmU1MyA9ICQoYDxkaXYgaWQ9Imh0bWxfMTgzOTA1N2RmNmIyNDc5MGEwMjBkYWQ5NDE5OGZlNTMiIHN0eWxlPSJ3aWR0aDogMTAwLjAlOyBoZWlnaHQ6IDEwMC4wJTsiPkxBUkNFTlkvVEhFRlQ8L2Rpdj5gKVswXTsKICAgICAgICAgICAgcG9wdXBfZjljZjBkYTY2OTdmNGU0YWIyZGI4YjE5ZmQ0MGY3YjQuc2V0Q29udGVudChodG1sXzE4MzkwNTdkZjZiMjQ3OTBhMDIwZGFkOTQxOThmZTUzKTsKICAgICAgICAKCiAgICAgICAgbWFya2VyX2IxYjlkMGYzM2Y1MjQ4ZGFhY2RiMGIxMjk4ZmVmNjQ2LmJpbmRQb3B1cChwb3B1cF9mOWNmMGRhNjY5N2Y0ZTRhYjJkYjhiMTlmZDQwZjdiNCkKICAgICAgICA7CgogICAgICAgIAogICAgCiAgICAKICAgICAgICAgICAgdmFyIG1hcmtlcl81NzkwYjAxOTgyYjM0NGYzYjA3NGVlMjlmMGFjZWI2YyA9IEwubWFya2VyKAogICAgICAgICAgICAgICAgWzM3Ljc1NTk5NzczMzk4NTYsIC0xMjIuNDA5NDM1NjE3MTA2XSwKICAgICAgICAgICAgICAgIHt9CiAgICAgICAgICAgICkuYWRkVG8obWFwX2Q5NGNhZTZmNDU3MDRmMGNiZjAwOWQ1ZTM5Y2NhZDFlKTsKICAgICAgICAKICAgIAogICAgICAgIHZhciBwb3B1cF8yOThmZTg5YTdhNmM0MDg4OWYyZTI3NDcyYzg0Yzk5NCA9IEwucG9wdXAoeyJtYXhXaWR0aCI6ICIxMDAlIn0pOwoKICAgICAgICAKICAgICAgICAgICAgdmFyIGh0bWxfMjg2Yzg2MTk4YjhhNDZhOWI2ZWRmNWVlMjA2Mjc0OWUgPSAkKGA8ZGl2IGlkPSJodG1sXzI4NmM4NjE5OGI4YTQ2YTliNmVkZjVlZTIwNjI3NDllIiBzdHlsZT0id2lkdGg6IDEwMC4wJTsgaGVpZ2h0OiAxMDAuMCU7Ij5PVEhFUiBPRkZFTlNFUzwvZGl2PmApWzBdOwogICAgICAgICAgICBwb3B1cF8yOThmZTg5YTdhNmM0MDg4OWYyZTI3NDcyYzg0Yzk5NC5zZXRDb250ZW50KGh0bWxfMjg2Yzg2MTk4YjhhNDZhOWI2ZWRmNWVlMjA2Mjc0OWUpOwogICAgICAgIAoKICAgICAgICBtYXJrZXJfNTc5MGIwMTk4MmIzNDRmM2IwNzRlZTI5ZjBhY2ViNmMuYmluZFBvcHVwKHBvcHVwXzI5OGZlODlhN2E2YzQwODg5ZjJlMjc0NzJjODRjOTk0KQogICAgICAgIDsKCiAgICAgICAgCiAgICAKICAgIAogICAgICAgICAgICB2YXIgbWFya2VyX2Q2MGI4MTMzZjljMTRjYzliZjFkNjU2NmZiNzllNWU0ID0gTC5tYXJrZXIoCiAgICAgICAgICAgICAgICBbMzcuNzg3MDc5ODE0NDQ0MywgLTEyMi40MjU4ODMzNTgxNDhdLAogICAgICAgICAgICAgICAge30KICAgICAgICAgICAgKS5hZGRUbyhtYXBfZDk0Y2FlNmY0NTcwNGYwY2JmMDA5ZDVlMzljY2FkMWUpOwogICAgICAgIAogICAgCiAgICAgICAgdmFyIHBvcHVwXzA2OWE3YzhlOTg5NzQyZDhhY2QyN2JlMzk1ZTY0MzZkID0gTC5wb3B1cCh7Im1heFdpZHRoIjogIjEwMCUifSk7CgogICAgICAgIAogICAgICAgICAgICB2YXIgaHRtbF8wZDEyNjY3MDM2NzE0MDEwOGIxNmRiNWFkZWNmYjhlZCA9ICQoYDxkaXYgaWQ9Imh0bWxfMGQxMjY2NzAzNjcxNDAxMDhiMTZkYjVhZGVjZmI4ZWQiIHN0eWxlPSJ3aWR0aDogMTAwLjAlOyBoZWlnaHQ6IDEwMC4wJTsiPk5PTi1DUklNSU5BTDwvZGl2PmApWzBdOwogICAgICAgICAgICBwb3B1cF8wNjlhN2M4ZTk4OTc0MmQ4YWNkMjdiZTM5NWU2NDM2ZC5zZXRDb250ZW50KGh0bWxfMGQxMjY2NzAzNjcxNDAxMDhiMTZkYjVhZGVjZmI4ZWQpOwogICAgICAgIAoKICAgICAgICBtYXJrZXJfZDYwYjgxMzNmOWMxNGNjOWJmMWQ2NTY2ZmI3OWU1ZTQuYmluZFBvcHVwKHBvcHVwXzA2OWE3YzhlOTg5NzQyZDhhY2QyN2JlMzk1ZTY0MzZkKQogICAgICAgIDsKCiAgICAgICAgCiAgICAKICAgIAogICAgICAgICAgICB2YXIgbWFya2VyXzc5NWE1OTFhYjUzODRiYmM5NTk2ODM5YTQ4ZDQ4ZTczID0gTC5tYXJrZXIoCiAgICAgICAgICAgICAgICBbMzcuNzM2MDM3NDQ2Njg2MjA0LCAtMTIyLjQxNTEyNjU0MzAwMTAxXSwKICAgICAgICAgICAgICAgIHt9CiAgICAgICAgICAgICkuYWRkVG8obWFwX2Q5NGNhZTZmNDU3MDRmMGNiZjAwOWQ1ZTM5Y2NhZDFlKTsKICAgICAgICAKICAgIAogICAgICAgIHZhciBwb3B1cF9hY2Q2ZTZhMTc0MmQ0ZWZiYjE2NTI3ODAxNDIxNTcyNyA9IEwucG9wdXAoeyJtYXhXaWR0aCI6ICIxMDAlIn0pOwoKICAgICAgICAKICAgICAgICAgICAgdmFyIGh0bWxfMzA1MzAwOGIxNjIwNGZhMmE3ZjBhZjVkYmQwNzI3M2YgPSAkKGA8ZGl2IGlkPSJodG1sXzMwNTMwMDhiMTYyMDRmYTJhN2YwYWY1ZGJkMDcyNzNmIiBzdHlsZT0id2lkdGg6IDEwMC4wJTsgaGVpZ2h0OiAxMDAuMCU7Ij5OT04tQ1JJTUlOQUw8L2Rpdj5gKVswXTsKICAgICAgICAgICAgcG9wdXBfYWNkNmU2YTE3NDJkNGVmYmIxNjUyNzgwMTQyMTU3Mjcuc2V0Q29udGVudChodG1sXzMwNTMwMDhiMTYyMDRmYTJhN2YwYWY1ZGJkMDcyNzNmKTsKICAgICAgICAKCiAgICAgICAgbWFya2VyXzc5NWE1OTFhYjUzODRiYmM5NTk2ODM5YTQ4ZDQ4ZTczLmJpbmRQb3B1cChwb3B1cF9hY2Q2ZTZhMTc0MmQ0ZWZiYjE2NTI3ODAxNDIxNTcyNykKICAgICAgICA7CgogICAgICAgIAogICAgCiAgICAKICAgICAgICAgICAgdmFyIG1hcmtlcl8xYzk2NDZhYWU0ZDI0ZjE2YjI3MjQxNzI0ZTMyMTkxYiA9IEwubWFya2VyKAogICAgICAgICAgICAgICAgWzM3LjcxMjc2Nzg4NDgyMSwgLTEyMi40MzE5MjgwMTEwODldLAogICAgICAgICAgICAgICAge30KICAgICAgICAgICAgKS5hZGRUbyhtYXBfZDk0Y2FlNmY0NTcwNGYwY2JmMDA5ZDVlMzljY2FkMWUpOwogICAgICAgIAogICAgCiAgICAgICAgdmFyIHBvcHVwXzQwZmY5ZDQ0ZTE5YTRjNDNiNDBhYjliYjhjNmM3YzA0ID0gTC5wb3B1cCh7Im1heFdpZHRoIjogIjEwMCUifSk7CgogICAgICAgIAogICAgICAgICAgICB2YXIgaHRtbF9kOWMyN2U3OTZlZjQ0MWNhOTc1MTQ3Y2Q5YzA3NGZhYSA9ICQoYDxkaXYgaWQ9Imh0bWxfZDljMjdlNzk2ZWY0NDFjYTk3NTE0N2NkOWMwNzRmYWEiIHN0eWxlPSJ3aWR0aDogMTAwLjAlOyBoZWlnaHQ6IDEwMC4wJTsiPk9USEVSIE9GRkVOU0VTPC9kaXY+YClbMF07CiAgICAgICAgICAgIHBvcHVwXzQwZmY5ZDQ0ZTE5YTRjNDNiNDBhYjliYjhjNmM3YzA0LnNldENvbnRlbnQoaHRtbF9kOWMyN2U3OTZlZjQ0MWNhOTc1MTQ3Y2Q5YzA3NGZhYSk7CiAgICAgICAgCgogICAgICAgIG1hcmtlcl8xYzk2NDZhYWU0ZDI0ZjE2YjI3MjQxNzI0ZTMyMTkxYi5iaW5kUG9wdXAocG9wdXBfNDBmZjlkNDRlMTlhNGM0M2I0MGFiOWJiOGM2YzdjMDQpCiAgICAgICAgOwoKICAgICAgICAKICAgIAogICAgCiAgICAgICAgICAgIHZhciBtYXJrZXJfNDFhOThlMDQ3MzkwNDFiMDgyZjhmNWIwYWEwZDM0OTQgPSBMLm1hcmtlcigKICAgICAgICAgICAgICAgIFszNy43ODk1NzEwMjU1ODYzLCAtMTIyLjQwMjE2MzcxMzYxOF0sCiAgICAgICAgICAgICAgICB7fQogICAgICAgICAgICApLmFkZFRvKG1hcF9kOTRjYWU2ZjQ1NzA0ZjBjYmYwMDlkNWUzOWNjYWQxZSk7CiAgICAgICAgCiAgICAKICAgICAgICB2YXIgcG9wdXBfMTFjMzFhMzM5Mzg4NDlkOTljYzVlOGE4ZWQ2MmM1NjggPSBMLnBvcHVwKHsibWF4V2lkdGgiOiAiMTAwJSJ9KTsKCiAgICAgICAgCiAgICAgICAgICAgIHZhciBodG1sX2NjY2ZiMDA5NTc2YTRiNzZiZTkyYjk0YTIxZmFjMTM3ID0gJChgPGRpdiBpZD0iaHRtbF9jY2NmYjAwOTU3NmE0Yjc2YmU5MmI5NGEyMWZhYzEzNyIgc3R5bGU9IndpZHRoOiAxMDAuMCU7IGhlaWdodDogMTAwLjAlOyI+RFJVTktFTk5FU1M8L2Rpdj5gKVswXTsKICAgICAgICAgICAgcG9wdXBfMTFjMzFhMzM5Mzg4NDlkOTljYzVlOGE4ZWQ2MmM1Njguc2V0Q29udGVudChodG1sX2NjY2ZiMDA5NTc2YTRiNzZiZTkyYjk0YTIxZmFjMTM3KTsKICAgICAgICAKCiAgICAgICAgbWFya2VyXzQxYTk4ZTA0NzM5MDQxYjA4MmY4ZjViMGFhMGQzNDk0LmJpbmRQb3B1cChwb3B1cF8xMWMzMWEzMzkzODg0OWQ5OWNjNWU4YThlZDYyYzU2OCkKICAgICAgICA7CgogICAgICAgIAogICAgCiAgICAKICAgICAgICAgICAgdmFyIG1hcmtlcl8zNGM3ZGVlYjEzYzg0N2ZhOThkMGE0MWEyYzg3NDAwYSA9IEwubWFya2VyKAogICAgICAgICAgICAgICAgWzM3LjczMDc0MjkxNjk1NTksIC0xMjIuNDI5MzA2NzI4Mzc2XSwKICAgICAgICAgICAgICAgIHt9CiAgICAgICAgICAgICkuYWRkVG8obWFwX2Q5NGNhZTZmNDU3MDRmMGNiZjAwOWQ1ZTM5Y2NhZDFlKTsKICAgICAgICAKICAgIAogICAgICAgIHZhciBwb3B1cF8yMDUwMGI0ZjkzZTI0ZjJhOTlhZmQ0NGZlMDA2NGQwYiA9IEwucG9wdXAoeyJtYXhXaWR0aCI6ICIxMDAlIn0pOwoKICAgICAgICAKICAgICAgICAgICAgdmFyIGh0bWxfMDMwY2ZiZWNhZmU3NDI0ODk3N2JjZWI4NDgyY2UwMTUgPSAkKGA8ZGl2IGlkPSJodG1sXzAzMGNmYmVjYWZlNzQyNDg5NzdiY2ViODQ4MmNlMDE1IiBzdHlsZT0id2lkdGg6IDEwMC4wJTsgaGVpZ2h0OiAxMDAuMCU7Ij5PVEhFUiBPRkZFTlNFUzwvZGl2PmApWzBdOwogICAgICAgICAgICBwb3B1cF8yMDUwMGI0ZjkzZTI0ZjJhOTlhZmQ0NGZlMDA2NGQwYi5zZXRDb250ZW50KGh0bWxfMDMwY2ZiZWNhZmU3NDI0ODk3N2JjZWI4NDgyY2UwMTUpOwogICAgICAgIAoKICAgICAgICBtYXJrZXJfMzRjN2RlZWIxM2M4NDdmYTk4ZDBhNDFhMmM4NzQwMGEuYmluZFBvcHVwKHBvcHVwXzIwNTAwYjRmOTNlMjRmMmE5OWFmZDQ0ZmUwMDY0ZDBiKQogICAgICAgIDsKCiAgICAgICAgCiAgICAKICAgIAogICAgICAgICAgICB2YXIgbWFya2VyXzg5YTBiZDQ0ZDUyYTQ2ZjE4MGZjMWU2MzE5YWIzOGZkID0gTC5tYXJrZXIoCiAgICAgICAgICAgICAgICBbMzcuNzgzODM2NTU2NTM0Nzk0LCAtMTIyLjQxMzc5MDk3Mjc4MDk5XSwKICAgICAgICAgICAgICAgIHt9CiAgICAgICAgICAgICkuYWRkVG8obWFwX2Q5NGNhZTZmNDU3MDRmMGNiZjAwOWQ1ZTM5Y2NhZDFlKTsKICAgICAgICAKICAgIAogICAgICAgIHZhciBwb3B1cF8zMmVjYmJjNWEzYTA0ZjlkYjIzNTZkNWI1ZTc3NmM0ZSA9IEwucG9wdXAoeyJtYXhXaWR0aCI6ICIxMDAlIn0pOwoKICAgICAgICAKICAgICAgICAgICAgdmFyIGh0bWxfMjQ2ODU4MTkzOWRhNDU0Mjg0ZWVkYWIyNjQxYTE5N2QgPSAkKGA8ZGl2IGlkPSJodG1sXzI0Njg1ODE5MzlkYTQ1NDI4NGVlZGFiMjY0MWExOTdkIiBzdHlsZT0id2lkdGg6IDEwMC4wJTsgaGVpZ2h0OiAxMDAuMCU7Ij5WQU5EQUxJU008L2Rpdj5gKVswXTsKICAgICAgICAgICAgcG9wdXBfMzJlY2JiYzVhM2EwNGY5ZGIyMzU2ZDViNWU3NzZjNGUuc2V0Q29udGVudChodG1sXzI0Njg1ODE5MzlkYTQ1NDI4NGVlZGFiMjY0MWExOTdkKTsKICAgICAgICAKCiAgICAgICAgbWFya2VyXzg5YTBiZDQ0ZDUyYTQ2ZjE4MGZjMWU2MzE5YWIzOGZkLmJpbmRQb3B1cChwb3B1cF8zMmVjYmJjNWEzYTA0ZjlkYjIzNTZkNWI1ZTc3NmM0ZSkKICAgICAgICA7CgogICAgICAgIAogICAgCiAgICAKICAgICAgICAgICAgdmFyIG1hcmtlcl8xZmZhN2QwZDdmNDk0MTQ5OTNlNDRlY2YxZjkxYjQyOCA9IEwubWFya2VyKAogICAgICAgICAgICAgICAgWzM3LjczMDc0MjkxNjk1NTksIC0xMjIuNDI5MzA2NzI4Mzc2XSwKICAgICAgICAgICAgICAgIHt9CiAgICAgICAgICAgICkuYWRkVG8obWFwX2Q5NGNhZTZmNDU3MDRmMGNiZjAwOWQ1ZTM5Y2NhZDFlKTsKICAgICAgICAKICAgIAogICAgICAgIHZhciBwb3B1cF8zMGY1ZDY0NWI4NWE0NjI4OGUyNzhiNmU1MmVlODVjNSA9IEwucG9wdXAoeyJtYXhXaWR0aCI6ICIxMDAlIn0pOwoKICAgICAgICAKICAgICAgICAgICAgdmFyIGh0bWxfYTg1ZDJiZGFiZjlkNDlhOWEyNTMzNzk3NWUxZWNhMDQgPSAkKGA8ZGl2IGlkPSJodG1sX2E4NWQyYmRhYmY5ZDQ5YTlhMjUzMzc5NzVlMWVjYTA0IiBzdHlsZT0id2lkdGg6IDEwMC4wJTsgaGVpZ2h0OiAxMDAuMCU7Ij5PVEhFUiBPRkZFTlNFUzwvZGl2PmApWzBdOwogICAgICAgICAgICBwb3B1cF8zMGY1ZDY0NWI4NWE0NjI4OGUyNzhiNmU1MmVlODVjNS5zZXRDb250ZW50KGh0bWxfYTg1ZDJiZGFiZjlkNDlhOWEyNTMzNzk3NWUxZWNhMDQpOwogICAgICAgIAoKICAgICAgICBtYXJrZXJfMWZmYTdkMGQ3ZjQ5NDE0OTkzZTQ0ZWNmMWY5MWI0MjguYmluZFBvcHVwKHBvcHVwXzMwZjVkNjQ1Yjg1YTQ2Mjg4ZTI3OGI2ZTUyZWU4NWM1KQogICAgICAgIDsKCiAgICAgICAgCiAgICAKICAgIAogICAgICAgICAgICB2YXIgbWFya2VyXzkyMzE5ZjNjMmQzODRlZWNiZjY5NWE4ZTllMmQ2MTAxID0gTC5tYXJrZXIoCiAgICAgICAgICAgICAgICBbMzcuNzM3MzYyMzYwNTIxMjk2LCAtMTIyLjQyMjA2NzE4NDkzN10sCiAgICAgICAgICAgICAgICB7fQogICAgICAgICAgICApLmFkZFRvKG1hcF9kOTRjYWU2ZjQ1NzA0ZjBjYmYwMDlkNWUzOWNjYWQxZSk7CiAgICAgICAgCiAgICAKICAgICAgICB2YXIgcG9wdXBfZjEzMmEyMTk5N2RmNDdiYmIyNGNiMjA4OGEyOGNlNjggPSBMLnBvcHVwKHsibWF4V2lkdGgiOiAiMTAwJSJ9KTsKCiAgICAgICAgCiAgICAgICAgICAgIHZhciBodG1sXzQwNjNjOTA1MzY4ZDRkMGFiOWNmY2Q1MWFhZTYxZDdhID0gJChgPGRpdiBpZD0iaHRtbF80MDYzYzkwNTM2OGQ0ZDBhYjljZmNkNTFhYWU2MWQ3YSIgc3R5bGU9IndpZHRoOiAxMDAuMCU7IGhlaWdodDogMTAwLjAlOyI+U0VDT05EQVJZIENPREVTPC9kaXY+YClbMF07CiAgICAgICAgICAgIHBvcHVwX2YxMzJhMjE5OTdkZjQ3YmJiMjRjYjIwODhhMjhjZTY4LnNldENvbnRlbnQoaHRtbF80MDYzYzkwNTM2OGQ0ZDBhYjljZmNkNTFhYWU2MWQ3YSk7CiAgICAgICAgCgogICAgICAgIG1hcmtlcl85MjMxOWYzYzJkMzg0ZWVjYmY2OTVhOGU5ZTJkNjEwMS5iaW5kUG9wdXAocG9wdXBfZjEzMmEyMTk5N2RmNDdiYmIyNGNiMjA4OGEyOGNlNjgpCiAgICAgICAgOwoKICAgICAgICAKICAgIAogICAgCiAgICAgICAgICAgIHZhciBtYXJrZXJfMWIyNTBiNWU3MWQzNDlmZDk0OGVkMDMyZjA1NTdhNWMgPSBMLm1hcmtlcigKICAgICAgICAgICAgICAgIFszNy43MzczNjIzNjA1MjEyOTYsIC0xMjIuNDIyMDY3MTg0OTM3XSwKICAgICAgICAgICAgICAgIHt9CiAgICAgICAgICAgICkuYWRkVG8obWFwX2Q5NGNhZTZmNDU3MDRmMGNiZjAwOWQ1ZTM5Y2NhZDFlKTsKICAgICAgICAKICAgIAogICAgICAgIHZhciBwb3B1cF8wZGU5ZDA5NTYyYzE0NGVkYjE2NjI1OTBlZWNmN2ZkNyA9IEwucG9wdXAoeyJtYXhXaWR0aCI6ICIxMDAlIn0pOwoKICAgICAgICAKICAgICAgICAgICAgdmFyIGh0bWxfYmU5ZTk4YjFjZDNkNDUzN2JlYTIxMzQwZThmMDU4ZjMgPSAkKGA8ZGl2IGlkPSJodG1sX2JlOWU5OGIxY2QzZDQ1MzdiZWEyMTM0MGU4ZjA1OGYzIiBzdHlsZT0id2lkdGg6IDEwMC4wJTsgaGVpZ2h0OiAxMDAuMCU7Ij5WQU5EQUxJU008L2Rpdj5gKVswXTsKICAgICAgICAgICAgcG9wdXBfMGRlOWQwOTU2MmMxNDRlZGIxNjYyNTkwZWVjZjdmZDcuc2V0Q29udGVudChodG1sX2JlOWU5OGIxY2QzZDQ1MzdiZWEyMTM0MGU4ZjA1OGYzKTsKICAgICAgICAKCiAgICAgICAgbWFya2VyXzFiMjUwYjVlNzFkMzQ5ZmQ5NDhlZDAzMmYwNTU3YTVjLmJpbmRQb3B1cChwb3B1cF8wZGU5ZDA5NTYyYzE0NGVkYjE2NjI1OTBlZWNmN2ZkNykKICAgICAgICA7CgogICAgICAgIAogICAgCiAgICAKICAgICAgICAgICAgdmFyIG1hcmtlcl9hNDQwNDRmMjY0NTE0M2E5YmYwNWZjNGEyZjM0ZDJhMCA9IEwubWFya2VyKAogICAgICAgICAgICAgICAgWzM3Ljc4NTk5ODgzMjM3OTc5NiwgLTEyMi40MTE3NDczNzE5MjRdLAogICAgICAgICAgICAgICAge30KICAgICAgICAgICAgKS5hZGRUbyhtYXBfZDk0Y2FlNmY0NTcwNGYwY2JmMDA5ZDVlMzljY2FkMWUpOwogICAgICAgIAogICAgCiAgICAgICAgdmFyIHBvcHVwX2U0YTdmMzRhOTZkMjRhMDU4NzFjNmEwYmM0YmQ5ZWExID0gTC5wb3B1cCh7Im1heFdpZHRoIjogIjEwMCUifSk7CgogICAgICAgIAogICAgICAgICAgICB2YXIgaHRtbF9mYzAyNTQ2YmRkYTY0MGZjOWFhZDA0NGE5YjEzMzdlOSA9ICQoYDxkaXYgaWQ9Imh0bWxfZmMwMjU0NmJkZGE2NDBmYzlhYWQwNDRhOWIxMzM3ZTkiIHN0eWxlPSJ3aWR0aDogMTAwLjAlOyBoZWlnaHQ6IDEwMC4wJTsiPlNVU1BJQ0lPVVMgT0NDPC9kaXY+YClbMF07CiAgICAgICAgICAgIHBvcHVwX2U0YTdmMzRhOTZkMjRhMDU4NzFjNmEwYmM0YmQ5ZWExLnNldENvbnRlbnQoaHRtbF9mYzAyNTQ2YmRkYTY0MGZjOWFhZDA0NGE5YjEzMzdlOSk7CiAgICAgICAgCgogICAgICAgIG1hcmtlcl9hNDQwNDRmMjY0NTE0M2E5YmYwNWZjNGEyZjM0ZDJhMC5iaW5kUG9wdXAocG9wdXBfZTRhN2YzNGE5NmQyNGEwNTg3MWM2YTBiYzRiZDllYTEpCiAgICAgICAgOwoKICAgICAgICAKICAgIAogICAgCiAgICAgICAgICAgIHZhciBtYXJrZXJfYTljYTllZjIzMjEyNDIwYzhiYzZlNzE0ZDFiMmQyNjkgPSBMLm1hcmtlcigKICAgICAgICAgICAgICAgIFszNy43NjMzNzU4MDU4MDU5LCAtMTIyLjQyMDQzNDcyNDU1Mjk5XSwKICAgICAgICAgICAgICAgIHt9CiAgICAgICAgICAgICkuYWRkVG8obWFwX2Q5NGNhZTZmNDU3MDRmMGNiZjAwOWQ1ZTM5Y2NhZDFlKTsKICAgICAgICAKICAgIAogICAgICAgIHZhciBwb3B1cF9mYmRlYzhhMmEwNjE0NWI3OWNjNGVjYTViZjBiNTljMiA9IEwucG9wdXAoeyJtYXhXaWR0aCI6ICIxMDAlIn0pOwoKICAgICAgICAKICAgICAgICAgICAgdmFyIGh0bWxfNGUxMTQ3NGQ4ODJmNDQ5YmIwZmUyOTE3Mzg5MDZmODEgPSAkKGA8ZGl2IGlkPSJodG1sXzRlMTE0NzRkODgyZjQ0OWJiMGZlMjkxNzM4OTA2ZjgxIiBzdHlsZT0id2lkdGg6IDEwMC4wJTsgaGVpZ2h0OiAxMDAuMCU7Ij5PVEhFUiBPRkZFTlNFUzwvZGl2PmApWzBdOwogICAgICAgICAgICBwb3B1cF9mYmRlYzhhMmEwNjE0NWI3OWNjNGVjYTViZjBiNTljMi5zZXRDb250ZW50KGh0bWxfNGUxMTQ3NGQ4ODJmNDQ5YmIwZmUyOTE3Mzg5MDZmODEpOwogICAgICAgIAoKICAgICAgICBtYXJrZXJfYTljYTllZjIzMjEyNDIwYzhiYzZlNzE0ZDFiMmQyNjkuYmluZFBvcHVwKHBvcHVwX2ZiZGVjOGEyYTA2MTQ1Yjc5Y2M0ZWNhNWJmMGI1OWMyKQogICAgICAgIDsKCiAgICAgICAgCiAgICAKICAgIAogICAgICAgICAgICB2YXIgbWFya2VyXzAxNmExMjJjOTFhNDQ0YzRiY2Y3ZmUxZjY0N2EzM2M0ID0gTC5tYXJrZXIoCiAgICAgICAgICAgICAgICBbMzcuNzg1MDIyNjYyMjc4NiwgLTEyMi40MTE5ODc2NDM1OTUwMV0sCiAgICAgICAgICAgICAgICB7fQogICAgICAgICAgICApLmFkZFRvKG1hcF9kOTRjYWU2ZjQ1NzA0ZjBjYmYwMDlkNWUzOWNjYWQxZSk7CiAgICAgICAgCiAgICAKICAgICAgICB2YXIgcG9wdXBfNzZiMTI5MmFmZmIxNGU5OGIyYWUwODRlZmMwN2U3NTcgPSBMLnBvcHVwKHsibWF4V2lkdGgiOiAiMTAwJSJ9KTsKCiAgICAgICAgCiAgICAgICAgICAgIHZhciBodG1sXzlkZjdjYTY4MGZhNDQyMTJhYTkwYzQ3MGI3YzBhNTM4ID0gJChgPGRpdiBpZD0iaHRtbF85ZGY3Y2E2ODBmYTQ0MjEyYWE5MGM0NzBiN2MwYTUzOCIgc3R5bGU9IndpZHRoOiAxMDAuMCU7IGhlaWdodDogMTAwLjAlOyI+Tk9OLUNSSU1JTkFMPC9kaXY+YClbMF07CiAgICAgICAgICAgIHBvcHVwXzc2YjEyOTJhZmZiMTRlOThiMmFlMDg0ZWZjMDdlNzU3LnNldENvbnRlbnQoaHRtbF85ZGY3Y2E2ODBmYTQ0MjEyYWE5MGM0NzBiN2MwYTUzOCk7CiAgICAgICAgCgogICAgICAgIG1hcmtlcl8wMTZhMTIyYzkxYTQ0NGM0YmNmN2ZlMWY2NDdhMzNjNC5iaW5kUG9wdXAocG9wdXBfNzZiMTI5MmFmZmIxNGU5OGIyYWUwODRlZmMwN2U3NTcpCiAgICAgICAgOwoKICAgICAgICAKICAgIAogICAgCiAgICAgICAgICAgIHZhciBtYXJrZXJfMzJiYzU0ZDczZjAyNGNmYThhMTRkMGRlYzNlNzQwNTAgPSBMLm1hcmtlcigKICAgICAgICAgICAgICAgIFszNy43NzQ2MjA2NDkxMDY0OTUsIC0xMjIuNTAwMzgwNDI3OTE1XSwKICAgICAgICAgICAgICAgIHt9CiAgICAgICAgICAgICkuYWRkVG8obWFwX2Q5NGNhZTZmNDU3MDRmMGNiZjAwOWQ1ZTM5Y2NhZDFlKTsKICAgICAgICAKICAgIAogICAgICAgIHZhciBwb3B1cF9mODRkYWQ1NmEzZDE0NGY0YWJiYmZiYTA1ZTVhMTE0OCA9IEwucG9wdXAoeyJtYXhXaWR0aCI6ICIxMDAlIn0pOwoKICAgICAgICAKICAgICAgICAgICAgdmFyIGh0bWxfYWNmOGJkYTIzNWJjNDAzY2JlYzFkZWQ0MTU0ZWNkYzIgPSAkKGA8ZGl2IGlkPSJodG1sX2FjZjhiZGEyMzViYzQwM2NiZWMxZGVkNDE1NGVjZGMyIiBzdHlsZT0id2lkdGg6IDEwMC4wJTsgaGVpZ2h0OiAxMDAuMCU7Ij5PVEhFUiBPRkZFTlNFUzwvZGl2PmApWzBdOwogICAgICAgICAgICBwb3B1cF9mODRkYWQ1NmEzZDE0NGY0YWJiYmZiYTA1ZTVhMTE0OC5zZXRDb250ZW50KGh0bWxfYWNmOGJkYTIzNWJjNDAzY2JlYzFkZWQ0MTU0ZWNkYzIpOwogICAgICAgIAoKICAgICAgICBtYXJrZXJfMzJiYzU0ZDczZjAyNGNmYThhMTRkMGRlYzNlNzQwNTAuYmluZFBvcHVwKHBvcHVwX2Y4NGRhZDU2YTNkMTQ0ZjRhYmJiZmJhMDVlNWExMTQ4KQogICAgICAgIDsKCiAgICAgICAgCiAgICAKICAgIAogICAgICAgICAgICB2YXIgbWFya2VyX2FhYzIzZjkxZTAzYTQwMmY4MjdhZDAwYjcyZGFhMzYwID0gTC5tYXJrZXIoCiAgICAgICAgICAgICAgICBbMzcuNzc1MTkxODI2NzIxNywgLTEyMi40NjY1NTg3ODA2ODNdLAogICAgICAgICAgICAgICAge30KICAgICAgICAgICAgKS5hZGRUbyhtYXBfZDk0Y2FlNmY0NTcwNGYwY2JmMDA5ZDVlMzljY2FkMWUpOwogICAgICAgIAogICAgCiAgICAgICAgdmFyIHBvcHVwX2E2MmNmOWY3ODk0ZjQ1ZjE4ZDFhZGQwMmEzZjJhOTE5ID0gTC5wb3B1cCh7Im1heFdpZHRoIjogIjEwMCUifSk7CgogICAgICAgIAogICAgICAgICAgICB2YXIgaHRtbF8zODBmYWI1OGM1OTA0MjE3OTEyY2QwODZlOTA5MWI4MSA9ICQoYDxkaXYgaWQ9Imh0bWxfMzgwZmFiNThjNTkwNDIxNzkxMmNkMDg2ZTkwOTFiODEiIHN0eWxlPSJ3aWR0aDogMTAwLjAlOyBoZWlnaHQ6IDEwMC4wJTsiPlJPQkJFUlk8L2Rpdj5gKVswXTsKICAgICAgICAgICAgcG9wdXBfYTYyY2Y5Zjc4OTRmNDVmMThkMWFkZDAyYTNmMmE5MTkuc2V0Q29udGVudChodG1sXzM4MGZhYjU4YzU5MDQyMTc5MTJjZDA4NmU5MDkxYjgxKTsKICAgICAgICAKCiAgICAgICAgbWFya2VyX2FhYzIzZjkxZTAzYTQwMmY4MjdhZDAwYjcyZGFhMzYwLmJpbmRQb3B1cChwb3B1cF9hNjJjZjlmNzg5NGY0NWYxOGQxYWRkMDJhM2YyYTkxOSkKICAgICAgICA7CgogICAgICAgIAogICAgCiAgICAKICAgICAgICAgICAgdmFyIG1hcmtlcl82MDQwOGM3ZDI2YzQ0ZDc0ODg2NDgyYjVlNWE0NTEwOSA9IEwubWFya2VyKAogICAgICAgICAgICAgICAgWzM3Ljc0OTA4NDE3MjkwMjgsIC0xMjIuNDg2OTI1OTYwMTE0MDFdLAogICAgICAgICAgICAgICAge30KICAgICAgICAgICAgKS5hZGRUbyhtYXBfZDk0Y2FlNmY0NTcwNGYwY2JmMDA5ZDVlMzljY2FkMWUpOwogICAgICAgIAogICAgCiAgICAgICAgdmFyIHBvcHVwX2M4MWExZmRkYzU0MzRiMjJhY2EyNTJmYjJjYWI3MGUzID0gTC5wb3B1cCh7Im1heFdpZHRoIjogIjEwMCUifSk7CgogICAgICAgIAogICAgICAgICAgICB2YXIgaHRtbF9lYWRlOTM5ZDMyZTY0MmZjODVhYjM4YWJlNzZlN2JiYSA9ICQoYDxkaXYgaWQ9Imh0bWxfZWFkZTkzOWQzMmU2NDJmYzg1YWIzOGFiZTc2ZTdiYmEiIHN0eWxlPSJ3aWR0aDogMTAwLjAlOyBoZWlnaHQ6IDEwMC4wJTsiPk9USEVSIE9GRkVOU0VTPC9kaXY+YClbMF07CiAgICAgICAgICAgIHBvcHVwX2M4MWExZmRkYzU0MzRiMjJhY2EyNTJmYjJjYWI3MGUzLnNldENvbnRlbnQoaHRtbF9lYWRlOTM5ZDMyZTY0MmZjODVhYjM4YWJlNzZlN2JiYSk7CiAgICAgICAgCgogICAgICAgIG1hcmtlcl82MDQwOGM3ZDI2YzQ0ZDc0ODg2NDgyYjVlNWE0NTEwOS5iaW5kUG9wdXAocG9wdXBfYzgxYTFmZGRjNTQzNGIyMmFjYTI1MmZiMmNhYjcwZTMpCiAgICAgICAgOwoKICAgICAgICAKICAgIAogICAgCiAgICAgICAgICAgIHZhciBtYXJrZXJfZjI3YzA5MmZjNzI2NGM5M2EyYWE3ZWVjYzg4NjRkMTIgPSBMLm1hcmtlcigKICAgICAgICAgICAgICAgIFszNy43Njg1MzYwMTIzNTgzLCAtMTIyLjQxNTYxNjMzODMxOTk5XSwKICAgICAgICAgICAgICAgIHt9CiAgICAgICAgICAgICkuYWRkVG8obWFwX2Q5NGNhZTZmNDU3MDRmMGNiZjAwOWQ1ZTM5Y2NhZDFlKTsKICAgICAgICAKICAgIAogICAgICAgIHZhciBwb3B1cF9kMTM5YjRjYmJkNDU0M2Q0OTk1NzU0MjZjNjNmMzg2NiA9IEwucG9wdXAoeyJtYXhXaWR0aCI6ICIxMDAlIn0pOwoKICAgICAgICAKICAgICAgICAgICAgdmFyIGh0bWxfYzJjNWJlZjQwZTMwNGFlYmExMjYzY2MwNTdjZGRkNmIgPSAkKGA8ZGl2IGlkPSJodG1sX2MyYzViZWY0MGUzMDRhZWJhMTI2M2NjMDU3Y2RkZDZiIiBzdHlsZT0id2lkdGg6IDEwMC4wJTsgaGVpZ2h0OiAxMDAuMCU7Ij5OT04tQ1JJTUlOQUw8L2Rpdj5gKVswXTsKICAgICAgICAgICAgcG9wdXBfZDEzOWI0Y2JiZDQ1NDNkNDk5NTc1NDI2YzYzZjM4NjYuc2V0Q29udGVudChodG1sX2MyYzViZWY0MGUzMDRhZWJhMTI2M2NjMDU3Y2RkZDZiKTsKICAgICAgICAKCiAgICAgICAgbWFya2VyX2YyN2MwOTJmYzcyNjRjOTNhMmFhN2VlY2M4ODY0ZDEyLmJpbmRQb3B1cChwb3B1cF9kMTM5YjRjYmJkNDU0M2Q0OTk1NzU0MjZjNjNmMzg2NikKICAgICAgICA7CgogICAgICAgIAogICAgCiAgICAKICAgICAgICAgICAgdmFyIG1hcmtlcl9hMTFiNWI0OTc0ZGY0ZTUyOTM1MmZiY2MyNzY1OTE1ZCA9IEwubWFya2VyKAogICAgICAgICAgICAgICAgWzM3Ljc2NDQyOTc3MTQwNzQsIC0xMjIuNDQ5NzUxNjUyNTYzXSwKICAgICAgICAgICAgICAgIHt9CiAgICAgICAgICAgICkuYWRkVG8obWFwX2Q5NGNhZTZmNDU3MDRmMGNiZjAwOWQ1ZTM5Y2NhZDFlKTsKICAgICAgICAKICAgIAogICAgICAgIHZhciBwb3B1cF9lNTAxOTE3NWMwNmY0MzcxYWQ5MzRhMzUwMmI1Mjk1OCA9IEwucG9wdXAoeyJtYXhXaWR0aCI6ICIxMDAlIn0pOwoKICAgICAgICAKICAgICAgICAgICAgdmFyIGh0bWxfZjRlODAxMmJiMTQ2NDkzYzkxYmQ2NjNlNGMyMjMxNjEgPSAkKGA8ZGl2IGlkPSJodG1sX2Y0ZTgwMTJiYjE0NjQ5M2M5MWJkNjYzZTRjMjIzMTYxIiBzdHlsZT0id2lkdGg6IDEwMC4wJTsgaGVpZ2h0OiAxMDAuMCU7Ij5CVVJHTEFSWTwvZGl2PmApWzBdOwogICAgICAgICAgICBwb3B1cF9lNTAxOTE3NWMwNmY0MzcxYWQ5MzRhMzUwMmI1Mjk1OC5zZXRDb250ZW50KGh0bWxfZjRlODAxMmJiMTQ2NDkzYzkxYmQ2NjNlNGMyMjMxNjEpOwogICAgICAgIAoKICAgICAgICBtYXJrZXJfYTExYjViNDk3NGRmNGU1MjkzNTJmYmNjMjc2NTkxNWQuYmluZFBvcHVwKHBvcHVwX2U1MDE5MTc1YzA2ZjQzNzFhZDkzNGEzNTAyYjUyOTU4KQogICAgICAgIDsKCiAgICAgICAgCiAgICAKICAgIAogICAgICAgICAgICB2YXIgbWFya2VyXzA1NmZiMjQ4MGZlOTQ4MDc4NmYzYjY2NmQyOWM3N2EzID0gTC5tYXJrZXIoCiAgICAgICAgICAgICAgICBbMzcuNzY0NDI5NzcxNDA3NCwgLTEyMi40NDk3NTE2NTI1NjNdLAogICAgICAgICAgICAgICAge30KICAgICAgICAgICAgKS5hZGRUbyhtYXBfZDk0Y2FlNmY0NTcwNGYwY2JmMDA5ZDVlMzljY2FkMWUpOwogICAgICAgIAogICAgCiAgICAgICAgdmFyIHBvcHVwX2E1NDUyYTg4MDUxNzRkYjI5NmJkY2VkN2NmMzVhZTk0ID0gTC5wb3B1cCh7Im1heFdpZHRoIjogIjEwMCUifSk7CgogICAgICAgIAogICAgICAgICAgICB2YXIgaHRtbF9iZTg0YTA0YzdiMzA0NTAyOGZjMDAyYjBiY2NmOTczZiA9ICQoYDxkaXYgaWQ9Imh0bWxfYmU4NGEwNGM3YjMwNDUwMjhmYzAwMmIwYmNjZjk3M2YiIHN0eWxlPSJ3aWR0aDogMTAwLjAlOyBoZWlnaHQ6IDEwMC4wJTsiPkxBUkNFTlkvVEhFRlQ8L2Rpdj5gKVswXTsKICAgICAgICAgICAgcG9wdXBfYTU0NTJhODgwNTE3NGRiMjk2YmRjZWQ3Y2YzNWFlOTQuc2V0Q29udGVudChodG1sX2JlODRhMDRjN2IzMDQ1MDI4ZmMwMDJiMGJjY2Y5NzNmKTsKICAgICAgICAKCiAgICAgICAgbWFya2VyXzA1NmZiMjQ4MGZlOTQ4MDc4NmYzYjY2NmQyOWM3N2EzLmJpbmRQb3B1cChwb3B1cF9hNTQ1MmE4ODA1MTc0ZGIyOTZiZGNlZDdjZjM1YWU5NCkKICAgICAgICA7CgogICAgICAgIAogICAgCiAgICAKICAgICAgICAgICAgdmFyIG1hcmtlcl8wNjkyMmQ4YjQ2NGU0YjhlYWNkYmUwZDQ2MWRiMDE0YSA9IEwubWFya2VyKAogICAgICAgICAgICAgICAgWzM3LjczNTI2ODE0NjkwODM5NiwgLTEyMi40NzI3MTU3NTk2MzFdLAogICAgICAgICAgICAgICAge30KICAgICAgICAgICAgKS5hZGRUbyhtYXBfZDk0Y2FlNmY0NTcwNGYwY2JmMDA5ZDVlMzljY2FkMWUpOwogICAgICAgIAogICAgCiAgICAgICAgdmFyIHBvcHVwXzNjYjVkYTE3YWZmMjQzNWRiMzhlNzlkOGRmY2ZhZjE3ID0gTC5wb3B1cCh7Im1heFdpZHRoIjogIjEwMCUifSk7CgogICAgICAgIAogICAgICAgICAgICB2YXIgaHRtbF9hOWRlOGIzMmEzYzc0NzdlOGVlN2VlZGE4OGQ4MzFlMCA9ICQoYDxkaXYgaWQ9Imh0bWxfYTlkZThiMzJhM2M3NDc3ZThlZTdlZWRhODhkODMxZTAiIHN0eWxlPSJ3aWR0aDogMTAwLjAlOyBoZWlnaHQ6IDEwMC4wJTsiPkxBUkNFTlkvVEhFRlQ8L2Rpdj5gKVswXTsKICAgICAgICAgICAgcG9wdXBfM2NiNWRhMTdhZmYyNDM1ZGIzOGU3OWQ4ZGZjZmFmMTcuc2V0Q29udGVudChodG1sX2E5ZGU4YjMyYTNjNzQ3N2U4ZWU3ZWVkYTg4ZDgzMWUwKTsKICAgICAgICAKCiAgICAgICAgbWFya2VyXzA2OTIyZDhiNDY0ZTRiOGVhY2RiZTBkNDYxZGIwMTRhLmJpbmRQb3B1cChwb3B1cF8zY2I1ZGExN2FmZjI0MzVkYjM4ZTc5ZDhkZmNmYWYxNykKICAgICAgICA7CgogICAgICAgIAogICAgCiAgICAKICAgICAgICAgICAgdmFyIGZlYXR1cmVfZ3JvdXBfMjE4OTZiYjI5OTkxNDc3ZDgzN2E4MTZlM2FlYTU2Y2MgPSBMLmZlYXR1cmVHcm91cCgKICAgICAgICAgICAgICAgIHt9CiAgICAgICAgICAgICkuYWRkVG8obWFwX2Q5NGNhZTZmNDU3MDRmMGNiZjAwOWQ1ZTM5Y2NhZDFlKTsKICAgICAgICAKICAgIAogICAgICAgICAgICB2YXIgY2lyY2xlX21hcmtlcl83NWQ0MGIxNDQ5OWM0YTRlYjNmOWUyZTM3OTAwNzA0OCA9IEwuY2lyY2xlTWFya2VyKAogICAgICAgICAgICAgICAgWzM3Ljc3NTQyMDcwNjcxMSwgLTEyMi40MDM0MDQ3OTE0Nzg5OV0sCiAgICAgICAgICAgICAgICB7ImJ1YmJsaW5nTW91c2VFdmVudHMiOiB0cnVlLCAiY29sb3IiOiAieWVsbG93IiwgImRhc2hBcnJheSI6IG51bGwsICJkYXNoT2Zmc2V0IjogbnVsbCwgImZpbGwiOiB0cnVlLCAiZmlsbENvbG9yIjogImJsdWUiLCAiZmlsbE9wYWNpdHkiOiAwLjYsICJmaWxsUnVsZSI6ICJldmVub2RkIiwgImxpbmVDYXAiOiAicm91bmQiLCAibGluZUpvaW4iOiAicm91bmQiLCAib3BhY2l0eSI6IDEuMCwgInJhZGl1cyI6IDUsICJzdHJva2UiOiB0cnVlLCAid2VpZ2h0IjogM30KICAgICAgICAgICAgKS5hZGRUbyhmZWF0dXJlX2dyb3VwXzIxODk2YmIyOTk5MTQ3N2Q4MzdhODE2ZTNhZWE1NmNjKTsKICAgICAgICAKICAgIAogICAgICAgICAgICB2YXIgY2lyY2xlX21hcmtlcl81YmY3MWUyZDQ1YjQ0NjcyODdkMGFlYzkxZDFiMzhjMCA9IEwuY2lyY2xlTWFya2VyKAogICAgICAgICAgICAgICAgWzM3Ljc3NTQyMDcwNjcxMSwgLTEyMi40MDM0MDQ3OTE0Nzg5OV0sCiAgICAgICAgICAgICAgICB7ImJ1YmJsaW5nTW91c2VFdmVudHMiOiB0cnVlLCAiY29sb3IiOiAieWVsbG93IiwgImRhc2hBcnJheSI6IG51bGwsICJkYXNoT2Zmc2V0IjogbnVsbCwgImZpbGwiOiB0cnVlLCAiZmlsbENvbG9yIjogImJsdWUiLCAiZmlsbE9wYWNpdHkiOiAwLjYsICJmaWxsUnVsZSI6ICJldmVub2RkIiwgImxpbmVDYXAiOiAicm91bmQiLCAibGluZUpvaW4iOiAicm91bmQiLCAib3BhY2l0eSI6IDEuMCwgInJhZGl1cyI6IDUsICJzdHJva2UiOiB0cnVlLCAid2VpZ2h0IjogM30KICAgICAgICAgICAgKS5hZGRUbyhmZWF0dXJlX2dyb3VwXzIxODk2YmIyOTk5MTQ3N2Q4MzdhODE2ZTNhZWE1NmNjKTsKICAgICAgICAKICAgIAogICAgICAgICAgICB2YXIgY2lyY2xlX21hcmtlcl9hYWFhZGNiNDVhMGQ0ZjM4YTA2MTRhMzA1NzE5Yzk5NCA9IEwuY2lyY2xlTWFya2VyKAogICAgICAgICAgICAgICAgWzM3LjcyOTk4MDk2NzI5OTU5NiwgLTEyMi4zODg4NTYyMDQyOTJdLAogICAgICAgICAgICAgICAgeyJidWJibGluZ01vdXNlRXZlbnRzIjogdHJ1ZSwgImNvbG9yIjogInllbGxvdyIsICJkYXNoQXJyYXkiOiBudWxsLCAiZGFzaE9mZnNldCI6IG51bGwsICJmaWxsIjogdHJ1ZSwgImZpbGxDb2xvciI6ICJibHVlIiwgImZpbGxPcGFjaXR5IjogMC42LCAiZmlsbFJ1bGUiOiAiZXZlbm9kZCIsICJsaW5lQ2FwIjogInJvdW5kIiwgImxpbmVKb2luIjogInJvdW5kIiwgIm9wYWNpdHkiOiAxLjAsICJyYWRpdXMiOiA1LCAic3Ryb2tlIjogdHJ1ZSwgIndlaWdodCI6IDN9CiAgICAgICAgICAgICkuYWRkVG8oZmVhdHVyZV9ncm91cF8yMTg5NmJiMjk5OTE0NzdkODM3YTgxNmUzYWVhNTZjYyk7CiAgICAgICAgCiAgICAKICAgICAgICAgICAgdmFyIGNpcmNsZV9tYXJrZXJfZDlkMWRkNjcxN2VlNGUwMzg4OTBmMDhkYTVkZjZkZTQgPSBMLmNpcmNsZU1hcmtlcigKICAgICAgICAgICAgICAgIFszNy43ODU3ODgzNzY2ODg3OSwgLTEyMi40MTI5NzA1Mzc1OTFdLAogICAgICAgICAgICAgICAgeyJidWJibGluZ01vdXNlRXZlbnRzIjogdHJ1ZSwgImNvbG9yIjogInllbGxvdyIsICJkYXNoQXJyYXkiOiBudWxsLCAiZGFzaE9mZnNldCI6IG51bGwsICJmaWxsIjogdHJ1ZSwgImZpbGxDb2xvciI6ICJibHVlIiwgImZpbGxPcGFjaXR5IjogMC42LCAiZmlsbFJ1bGUiOiAiZXZlbm9kZCIsICJsaW5lQ2FwIjogInJvdW5kIiwgImxpbmVKb2luIjogInJvdW5kIiwgIm9wYWNpdHkiOiAxLjAsICJyYWRpdXMiOiA1LCAic3Ryb2tlIjogdHJ1ZSwgIndlaWdodCI6IDN9CiAgICAgICAgICAgICkuYWRkVG8oZmVhdHVyZV9ncm91cF8yMTg5NmJiMjk5OTE0NzdkODM3YTgxNmUzYWVhNTZjYyk7CiAgICAgICAgCiAgICAKICAgICAgICAgICAgdmFyIGNpcmNsZV9tYXJrZXJfN2Y3YjdhYWYxYTZmNDJjMzg5M2JhNzNkN2NhNzUxMmIgPSBMLmNpcmNsZU1hcmtlcigKICAgICAgICAgICAgICAgIFszNy43NjUwNTAxMjE0NjY4LCAtMTIyLjQxOTY3MTc4MDI5Nl0sCiAgICAgICAgICAgICAgICB7ImJ1YmJsaW5nTW91c2VFdmVudHMiOiB0cnVlLCAiY29sb3IiOiAieWVsbG93IiwgImRhc2hBcnJheSI6IG51bGwsICJkYXNoT2Zmc2V0IjogbnVsbCwgImZpbGwiOiB0cnVlLCAiZmlsbENvbG9yIjogImJsdWUiLCAiZmlsbE9wYWNpdHkiOiAwLjYsICJmaWxsUnVsZSI6ICJldmVub2RkIiwgImxpbmVDYXAiOiAicm91bmQiLCAibGluZUpvaW4iOiAicm91bmQiLCAib3BhY2l0eSI6IDEuMCwgInJhZGl1cyI6IDUsICJzdHJva2UiOiB0cnVlLCAid2VpZ2h0IjogM30KICAgICAgICAgICAgKS5hZGRUbyhmZWF0dXJlX2dyb3VwXzIxODk2YmIyOTk5MTQ3N2Q4MzdhODE2ZTNhZWE1NmNjKTsKICAgICAgICAKICAgIAogICAgICAgICAgICB2YXIgY2lyY2xlX21hcmtlcl84YmJiZmZmNDMwYzc0Y2EzOGQxM2QzNDczZThiNmRiMSA9IEwuY2lyY2xlTWFya2VyKAogICAgICAgICAgICAgICAgWzM3Ljc4ODAxODU1NTgyOSwgLTEyMi40MjYwNzcxNzczNzQ5OV0sCiAgICAgICAgICAgICAgICB7ImJ1YmJsaW5nTW91c2VFdmVudHMiOiB0cnVlLCAiY29sb3IiOiAieWVsbG93IiwgImRhc2hBcnJheSI6IG51bGwsICJkYXNoT2Zmc2V0IjogbnVsbCwgImZpbGwiOiB0cnVlLCAiZmlsbENvbG9yIjogImJsdWUiLCAiZmlsbE9wYWNpdHkiOiAwLjYsICJmaWxsUnVsZSI6ICJldmVub2RkIiwgImxpbmVDYXAiOiAicm91bmQiLCAibGluZUpvaW4iOiAicm91bmQiLCAib3BhY2l0eSI6IDEuMCwgInJhZGl1cyI6IDUsICJzdHJva2UiOiB0cnVlLCAid2VpZ2h0IjogM30KICAgICAgICAgICAgKS5hZGRUbyhmZWF0dXJlX2dyb3VwXzIxODk2YmIyOTk5MTQ3N2Q4MzdhODE2ZTNhZWE1NmNjKTsKICAgICAgICAKICAgIAogICAgICAgICAgICB2YXIgY2lyY2xlX21hcmtlcl8xOWM1NDM1YTlmYTk0M2I0YjUwNWEwMTdiN2VhODE2NiA9IEwuY2lyY2xlTWFya2VyKAogICAgICAgICAgICAgICAgWzM3Ljc4MDg3ODkzNjAyMTQsIC0xMjIuNDA1NzIxNDU0NTY3XSwKICAgICAgICAgICAgICAgIHsiYnViYmxpbmdNb3VzZUV2ZW50cyI6IHRydWUsICJjb2xvciI6ICJ5ZWxsb3ciLCAiZGFzaEFycmF5IjogbnVsbCwgImRhc2hPZmZzZXQiOiBudWxsLCAiZmlsbCI6IHRydWUsICJmaWxsQ29sb3IiOiAiYmx1ZSIsICJmaWxsT3BhY2l0eSI6IDAuNiwgImZpbGxSdWxlIjogImV2ZW5vZGQiLCAibGluZUNhcCI6ICJyb3VuZCIsICJsaW5lSm9pbiI6ICJyb3VuZCIsICJvcGFjaXR5IjogMS4wLCAicmFkaXVzIjogNSwgInN0cm9rZSI6IHRydWUsICJ3ZWlnaHQiOiAzfQogICAgICAgICAgICApLmFkZFRvKGZlYXR1cmVfZ3JvdXBfMjE4OTZiYjI5OTkxNDc3ZDgzN2E4MTZlM2FlYTU2Y2MpOwogICAgICAgIAogICAgCiAgICAgICAgICAgIHZhciBjaXJjbGVfbWFya2VyX2EyOTdmNDRmZWI5ZDQ3NzBiODI0ZTA2MjE5ZDE0NzViID0gTC5jaXJjbGVNYXJrZXIoCiAgICAgICAgICAgICAgICBbMzcuNzgzOTgwNTU5MjYzNCwgLTEyMi40MTE3NzgyOTU5OTJdLAogICAgICAgICAgICAgICAgeyJidWJibGluZ01vdXNlRXZlbnRzIjogdHJ1ZSwgImNvbG9yIjogInllbGxvdyIsICJkYXNoQXJyYXkiOiBudWxsLCAiZGFzaE9mZnNldCI6IG51bGwsICJmaWxsIjogdHJ1ZSwgImZpbGxDb2xvciI6ICJibHVlIiwgImZpbGxPcGFjaXR5IjogMC42LCAiZmlsbFJ1bGUiOiAiZXZlbm9kZCIsICJsaW5lQ2FwIjogInJvdW5kIiwgImxpbmVKb2luIjogInJvdW5kIiwgIm9wYWNpdHkiOiAxLjAsICJyYWRpdXMiOiA1LCAic3Ryb2tlIjogdHJ1ZSwgIndlaWdodCI6IDN9CiAgICAgICAgICAgICkuYWRkVG8oZmVhdHVyZV9ncm91cF8yMTg5NmJiMjk5OTE0NzdkODM3YTgxNmUzYWVhNTZjYyk7CiAgICAgICAgCiAgICAKICAgICAgICAgICAgdmFyIGNpcmNsZV9tYXJrZXJfZGQzNjIwMmFlMWNmNDFmYjg1OWNkZDU5ZDJlMmIxZDEgPSBMLmNpcmNsZU1hcmtlcigKICAgICAgICAgICAgICAgIFszNy43NzU3ODc2MjE4MjkyOTUsIC0xMjIuMzkzMzU3MjQxNDUxXSwKICAgICAgICAgICAgICAgIHsiYnViYmxpbmdNb3VzZUV2ZW50cyI6IHRydWUsICJjb2xvciI6ICJ5ZWxsb3ciLCAiZGFzaEFycmF5IjogbnVsbCwgImRhc2hPZmZzZXQiOiBudWxsLCAiZmlsbCI6IHRydWUsICJmaWxsQ29sb3IiOiAiYmx1ZSIsICJmaWxsT3BhY2l0eSI6IDAuNiwgImZpbGxSdWxlIjogImV2ZW5vZGQiLCAibGluZUNhcCI6ICJyb3VuZCIsICJsaW5lSm9pbiI6ICJyb3VuZCIsICJvcGFjaXR5IjogMS4wLCAicmFkaXVzIjogNSwgInN0cm9rZSI6IHRydWUsICJ3ZWlnaHQiOiAzfQogICAgICAgICAgICApLmFkZFRvKGZlYXR1cmVfZ3JvdXBfMjE4OTZiYjI5OTkxNDc3ZDgzN2E4MTZlM2FlYTU2Y2MpOwogICAgICAgIAogICAgCiAgICAgICAgICAgIHZhciBjaXJjbGVfbWFya2VyX2IzM2M1YzBiYzk3ZjQ2ZTdhY2ZjMDkxMDAwYWVhNjkwID0gTC5jaXJjbGVNYXJrZXIoCiAgICAgICAgICAgICAgICBbMzcuNzIwOTY2OTYxNTQ5OSwgLTEyMi4zODcxODE2MzU5OTVdLAogICAgICAgICAgICAgICAgeyJidWJibGluZ01vdXNlRXZlbnRzIjogdHJ1ZSwgImNvbG9yIjogInllbGxvdyIsICJkYXNoQXJyYXkiOiBudWxsLCAiZGFzaE9mZnNldCI6IG51bGwsICJmaWxsIjogdHJ1ZSwgImZpbGxDb2xvciI6ICJibHVlIiwgImZpbGxPcGFjaXR5IjogMC42LCAiZmlsbFJ1bGUiOiAiZXZlbm9kZCIsICJsaW5lQ2FwIjogInJvdW5kIiwgImxpbmVKb2luIjogInJvdW5kIiwgIm9wYWNpdHkiOiAxLjAsICJyYWRpdXMiOiA1LCAic3Ryb2tlIjogdHJ1ZSwgIndlaWdodCI6IDN9CiAgICAgICAgICAgICkuYWRkVG8oZmVhdHVyZV9ncm91cF8yMTg5NmJiMjk5OTE0NzdkODM3YTgxNmUzYWVhNTZjYyk7CiAgICAgICAgCiAgICAKICAgICAgICAgICAgdmFyIGNpcmNsZV9tYXJrZXJfZDU3MzBlYTQwYmUwNGQ0Y2I0OWQ5MTI5MmFjMDYyNzIgPSBMLmNpcmNsZU1hcmtlcigKICAgICAgICAgICAgICAgIFszNy43NjQ0NzgxNTc4Njk1MDUsIC0xMjIuNDc3Mzc2NTI0MDAyOTldLAogICAgICAgICAgICAgICAgeyJidWJibGluZ01vdXNlRXZlbnRzIjogdHJ1ZSwgImNvbG9yIjogInllbGxvdyIsICJkYXNoQXJyYXkiOiBudWxsLCAiZGFzaE9mZnNldCI6IG51bGwsICJmaWxsIjogdHJ1ZSwgImZpbGxDb2xvciI6ICJibHVlIiwgImZpbGxPcGFjaXR5IjogMC42LCAiZmlsbFJ1bGUiOiAiZXZlbm9kZCIsICJsaW5lQ2FwIjogInJvdW5kIiwgImxpbmVKb2luIjogInJvdW5kIiwgIm9wYWNpdHkiOiAxLjAsICJyYWRpdXMiOiA1LCAic3Ryb2tlIjogdHJ1ZSwgIndlaWdodCI6IDN9CiAgICAgICAgICAgICkuYWRkVG8oZmVhdHVyZV9ncm91cF8yMTg5NmJiMjk5OTE0NzdkODM3YTgxNmUzYWVhNTZjYyk7CiAgICAgICAgCiAgICAKICAgICAgICAgICAgdmFyIGNpcmNsZV9tYXJrZXJfOWMwMGY1OWY3NzE5NGMyZmE4NjI5MDQxNDA0ZGNlNjEgPSBMLmNpcmNsZU1hcmtlcigKICAgICAgICAgICAgICAgIFszNy43NDU3Mzg5NDI5NjU0OTUsIC0xMjIuNDc3OTYwMzI3Mjk5XSwKICAgICAgICAgICAgICAgIHsiYnViYmxpbmdNb3VzZUV2ZW50cyI6IHRydWUsICJjb2xvciI6ICJ5ZWxsb3ciLCAiZGFzaEFycmF5IjogbnVsbCwgImRhc2hPZmZzZXQiOiBudWxsLCAiZmlsbCI6IHRydWUsICJmaWxsQ29sb3IiOiAiYmx1ZSIsICJmaWxsT3BhY2l0eSI6IDAuNiwgImZpbGxSdWxlIjogImV2ZW5vZGQiLCAibGluZUNhcCI6ICJyb3VuZCIsICJsaW5lSm9pbiI6ICJyb3VuZCIsICJvcGFjaXR5IjogMS4wLCAicmFkaXVzIjogNSwgInN0cm9rZSI6IHRydWUsICJ3ZWlnaHQiOiAzfQogICAgICAgICAgICApLmFkZFRvKGZlYXR1cmVfZ3JvdXBfMjE4OTZiYjI5OTkxNDc3ZDgzN2E4MTZlM2FlYTU2Y2MpOwogICAgICAgIAogICAgCiAgICAgICAgICAgIHZhciBjaXJjbGVfbWFya2VyX2UwYWZhYmI4MzczNTQ5ZGNiNTJiMTA3YzViZTg5NGY0ID0gTC5jaXJjbGVNYXJrZXIoCiAgICAgICAgICAgICAgICBbMzcuNzM1Njk3MDI3NTQ4MjA2LCAtMTIyLjM3Njc1NzY1NTUzMDAxXSwKICAgICAgICAgICAgICAgIHsiYnViYmxpbmdNb3VzZUV2ZW50cyI6IHRydWUsICJjb2xvciI6ICJ5ZWxsb3ciLCAiZGFzaEFycmF5IjogbnVsbCwgImRhc2hPZmZzZXQiOiBudWxsLCAiZmlsbCI6IHRydWUsICJmaWxsQ29sb3IiOiAiYmx1ZSIsICJmaWxsT3BhY2l0eSI6IDAuNiwgImZpbGxSdWxlIjogImV2ZW5vZGQiLCAibGluZUNhcCI6ICJyb3VuZCIsICJsaW5lSm9pbiI6ICJyb3VuZCIsICJvcGFjaXR5IjogMS4wLCAicmFkaXVzIjogNSwgInN0cm9rZSI6IHRydWUsICJ3ZWlnaHQiOiAzfQogICAgICAgICAgICApLmFkZFRvKGZlYXR1cmVfZ3JvdXBfMjE4OTZiYjI5OTkxNDc3ZDgzN2E4MTZlM2FlYTU2Y2MpOwogICAgICAgIAogICAgCiAgICAgICAgICAgIHZhciBjaXJjbGVfbWFya2VyX2Y1OGVmOTc4YzlkMDQwNjM5OTJjNThjZDU4NzY2MWM5ID0gTC5jaXJjbGVNYXJrZXIoCiAgICAgICAgICAgICAgICBbMzcuNzI5MjcwNTE5OTU5MiwgLTEyMi40MzIzMjU4NzEwMjhdLAogICAgICAgICAgICAgICAgeyJidWJibGluZ01vdXNlRXZlbnRzIjogdHJ1ZSwgImNvbG9yIjogInllbGxvdyIsICJkYXNoQXJyYXkiOiBudWxsLCAiZGFzaE9mZnNldCI6IG51bGwsICJmaWxsIjogdHJ1ZSwgImZpbGxDb2xvciI6ICJibHVlIiwgImZpbGxPcGFjaXR5IjogMC42LCAiZmlsbFJ1bGUiOiAiZXZlbm9kZCIsICJsaW5lQ2FwIjogInJvdW5kIiwgImxpbmVKb2luIjogInJvdW5kIiwgIm9wYWNpdHkiOiAxLjAsICJyYWRpdXMiOiA1LCAic3Ryb2tlIjogdHJ1ZSwgIndlaWdodCI6IDN9CiAgICAgICAgICAgICkuYWRkVG8oZmVhdHVyZV9ncm91cF8yMTg5NmJiMjk5OTE0NzdkODM3YTgxNmUzYWVhNTZjYyk7CiAgICAgICAgCiAgICAKICAgICAgICAgICAgdmFyIGNpcmNsZV9tYXJrZXJfMzk2ZmE3MmJkNzUzNDQ3MzhkZjRkYTc5ZGIzZmZlM2YgPSBMLmNpcmNsZU1hcmtlcigKICAgICAgICAgICAgICAgIFszNy43OTE2NDI5ODIzODQsIC0xMjIuNDAwOTA4Njk4ODg5OTldLAogICAgICAgICAgICAgICAgeyJidWJibGluZ01vdXNlRXZlbnRzIjogdHJ1ZSwgImNvbG9yIjogInllbGxvdyIsICJkYXNoQXJyYXkiOiBudWxsLCAiZGFzaE9mZnNldCI6IG51bGwsICJmaWxsIjogdHJ1ZSwgImZpbGxDb2xvciI6ICJibHVlIiwgImZpbGxPcGFjaXR5IjogMC42LCAiZmlsbFJ1bGUiOiAiZXZlbm9kZCIsICJsaW5lQ2FwIjogInJvdW5kIiwgImxpbmVKb2luIjogInJvdW5kIiwgIm9wYWNpdHkiOiAxLjAsICJyYWRpdXMiOiA1LCAic3Ryb2tlIjogdHJ1ZSwgIndlaWdodCI6IDN9CiAgICAgICAgICAgICkuYWRkVG8oZmVhdHVyZV9ncm91cF8yMTg5NmJiMjk5OTE0NzdkODM3YTgxNmUzYWVhNTZjYyk7CiAgICAgICAgCiAgICAKICAgICAgICAgICAgdmFyIGNpcmNsZV9tYXJrZXJfZWQzYmM0Y2E2ZTU5NDZlZTk1ZDkxMWRiNGRhMjE4ZDEgPSBMLmNpcmNsZU1hcmtlcigKICAgICAgICAgICAgICAgIFszNy43ODM3MDY5MzAxNTQ1LCAtMTIyLjQwODU5NTExMDg2OV0sCiAgICAgICAgICAgICAgICB7ImJ1YmJsaW5nTW91c2VFdmVudHMiOiB0cnVlLCAiY29sb3IiOiAieWVsbG93IiwgImRhc2hBcnJheSI6IG51bGwsICJkYXNoT2Zmc2V0IjogbnVsbCwgImZpbGwiOiB0cnVlLCAiZmlsbENvbG9yIjogImJsdWUiLCAiZmlsbE9wYWNpdHkiOiAwLjYsICJmaWxsUnVsZSI6ICJldmVub2RkIiwgImxpbmVDYXAiOiAicm91bmQiLCAibGluZUpvaW4iOiAicm91bmQiLCAib3BhY2l0eSI6IDEuMCwgInJhZGl1cyI6IDUsICJzdHJva2UiOiB0cnVlLCAid2VpZ2h0IjogM30KICAgICAgICAgICAgKS5hZGRUbyhmZWF0dXJlX2dyb3VwXzIxODk2YmIyOTk5MTQ3N2Q4MzdhODE2ZTNhZWE1NmNjKTsKICAgICAgICAKICAgIAogICAgICAgICAgICB2YXIgY2lyY2xlX21hcmtlcl9lZGI3NjQwMjVlMDM0NzA1YjRmY2UzODE4Njg3OGQ5YiA9IEwuY2lyY2xlTWFya2VyKAogICAgICAgICAgICAgICAgWzM3Ljc1NzI4OTU5MDQ1Nzc5NSwgLTEyMi40MDY4NzA0MDIwODJdLAogICAgICAgICAgICAgICAgeyJidWJibGluZ01vdXNlRXZlbnRzIjogdHJ1ZSwgImNvbG9yIjogInllbGxvdyIsICJkYXNoQXJyYXkiOiBudWxsLCAiZGFzaE9mZnNldCI6IG51bGwsICJmaWxsIjogdHJ1ZSwgImZpbGxDb2xvciI6ICJibHVlIiwgImZpbGxPcGFjaXR5IjogMC42LCAiZmlsbFJ1bGUiOiAiZXZlbm9kZCIsICJsaW5lQ2FwIjogInJvdW5kIiwgImxpbmVKb2luIjogInJvdW5kIiwgIm9wYWNpdHkiOiAxLjAsICJyYWRpdXMiOiA1LCAic3Ryb2tlIjogdHJ1ZSwgIndlaWdodCI6IDN9CiAgICAgICAgICAgICkuYWRkVG8oZmVhdHVyZV9ncm91cF8yMTg5NmJiMjk5OTE0NzdkODM3YTgxNmUzYWVhNTZjYyk7CiAgICAgICAgCiAgICAKICAgICAgICAgICAgdmFyIGNpcmNsZV9tYXJrZXJfM2JlZDllNzcxYjIwNDZkODhlZTRmMWFlZjJiMmZhMTEgPSBMLmNpcmNsZU1hcmtlcigKICAgICAgICAgICAgICAgIFszNy43NDg5MDYzMDUxODI5LCAtMTIyLjQyMDM1NDc4MDg2MDk5XSwKICAgICAgICAgICAgICAgIHsiYnViYmxpbmdNb3VzZUV2ZW50cyI6IHRydWUsICJjb2xvciI6ICJ5ZWxsb3ciLCAiZGFzaEFycmF5IjogbnVsbCwgImRhc2hPZmZzZXQiOiBudWxsLCAiZmlsbCI6IHRydWUsICJmaWxsQ29sb3IiOiAiYmx1ZSIsICJmaWxsT3BhY2l0eSI6IDAuNiwgImZpbGxSdWxlIjogImV2ZW5vZGQiLCAibGluZUNhcCI6ICJyb3VuZCIsICJsaW5lSm9pbiI6ICJyb3VuZCIsICJvcGFjaXR5IjogMS4wLCAicmFkaXVzIjogNSwgInN0cm9rZSI6IHRydWUsICJ3ZWlnaHQiOiAzfQogICAgICAgICAgICApLmFkZFRvKGZlYXR1cmVfZ3JvdXBfMjE4OTZiYjI5OTkxNDc3ZDgzN2E4MTZlM2FlYTU2Y2MpOwogICAgICAgIAogICAgCiAgICAgICAgICAgIHZhciBjaXJjbGVfbWFya2VyX2MxYjBlMTRkMTRjZTQ1ODk5MDc1YTM3NjI4NDlhOGNhID0gTC5jaXJjbGVNYXJrZXIoCiAgICAgICAgICAgICAgICBbMzcuNzE1NzY1NDI2OTk1LCAtMTIyLjQzOTkwOTc2Njc3Ml0sCiAgICAgICAgICAgICAgICB7ImJ1YmJsaW5nTW91c2VFdmVudHMiOiB0cnVlLCAiY29sb3IiOiAieWVsbG93IiwgImRhc2hBcnJheSI6IG51bGwsICJkYXNoT2Zmc2V0IjogbnVsbCwgImZpbGwiOiB0cnVlLCAiZmlsbENvbG9yIjogImJsdWUiLCAiZmlsbE9wYWNpdHkiOiAwLjYsICJmaWxsUnVsZSI6ICJldmVub2RkIiwgImxpbmVDYXAiOiAicm91bmQiLCAibGluZUpvaW4iOiAicm91bmQiLCAib3BhY2l0eSI6IDEuMCwgInJhZGl1cyI6IDUsICJzdHJva2UiOiB0cnVlLCAid2VpZ2h0IjogM30KICAgICAgICAgICAgKS5hZGRUbyhmZWF0dXJlX2dyb3VwXzIxODk2YmIyOTk5MTQ3N2Q4MzdhODE2ZTNhZWE1NmNjKTsKICAgICAgICAKICAgIAogICAgICAgICAgICB2YXIgY2lyY2xlX21hcmtlcl85MzM3YTI4ODUzZjc0NDkzYjU1YjE2M2NmNzkxNzVlZiA9IEwuY2lyY2xlTWFya2VyKAogICAgICAgICAgICAgICAgWzM3Ljc4MzU2OTkzODY5MTgsIC0xMjIuNDA4NDIxMTE2OTIyXSwKICAgICAgICAgICAgICAgIHsiYnViYmxpbmdNb3VzZUV2ZW50cyI6IHRydWUsICJjb2xvciI6ICJ5ZWxsb3ciLCAiZGFzaEFycmF5IjogbnVsbCwgImRhc2hPZmZzZXQiOiBudWxsLCAiZmlsbCI6IHRydWUsICJmaWxsQ29sb3IiOiAiYmx1ZSIsICJmaWxsT3BhY2l0eSI6IDAuNiwgImZpbGxSdWxlIjogImV2ZW5vZGQiLCAibGluZUNhcCI6ICJyb3VuZCIsICJsaW5lSm9pbiI6ICJyb3VuZCIsICJvcGFjaXR5IjogMS4wLCAicmFkaXVzIjogNSwgInN0cm9rZSI6IHRydWUsICJ3ZWlnaHQiOiAzfQogICAgICAgICAgICApLmFkZFRvKGZlYXR1cmVfZ3JvdXBfMjE4OTZiYjI5OTkxNDc3ZDgzN2E4MTZlM2FlYTU2Y2MpOwogICAgICAgIAogICAgCiAgICAgICAgICAgIHZhciBjaXJjbGVfbWFya2VyXzVmYmRhN2U3MDllNDQyNWU5YTNiYmE0MWE4NDZlZjg1ID0gTC5jaXJjbGVNYXJrZXIoCiAgICAgICAgICAgICAgICBbMzcuNzczNjE4NjI3NjQ1NjA0LCAtMTIyLjQyMjMxNTY3MDc0OV0sCiAgICAgICAgICAgICAgICB7ImJ1YmJsaW5nTW91c2VFdmVudHMiOiB0cnVlLCAiY29sb3IiOiAieWVsbG93IiwgImRhc2hBcnJheSI6IG51bGwsICJkYXNoT2Zmc2V0IjogbnVsbCwgImZpbGwiOiB0cnVlLCAiZmlsbENvbG9yIjogImJsdWUiLCAiZmlsbE9wYWNpdHkiOiAwLjYsICJmaWxsUnVsZSI6ICJldmVub2RkIiwgImxpbmVDYXAiOiAicm91bmQiLCAibGluZUpvaW4iOiAicm91bmQiLCAib3BhY2l0eSI6IDEuMCwgInJhZGl1cyI6IDUsICJzdHJva2UiOiB0cnVlLCAid2VpZ2h0IjogM30KICAgICAgICAgICAgKS5hZGRUbyhmZWF0dXJlX2dyb3VwXzIxODk2YmIyOTk5MTQ3N2Q4MzdhODE2ZTNhZWE1NmNjKTsKICAgICAgICAKICAgIAogICAgICAgICAgICB2YXIgY2lyY2xlX21hcmtlcl82OTM0ZjgxMjVlOTE0NmNiODExZWUyYjBmZThjZDdlMCA9IEwuY2lyY2xlTWFya2VyKAogICAgICAgICAgICAgICAgWzM3Ljc5Mjg0MTI4NDA0NDcwNSwgLTEyMi40MjQ1MTk4MzUwMDkwMV0sCiAgICAgICAgICAgICAgICB7ImJ1YmJsaW5nTW91c2VFdmVudHMiOiB0cnVlLCAiY29sb3IiOiAieWVsbG93IiwgImRhc2hBcnJheSI6IG51bGwsICJkYXNoT2Zmc2V0IjogbnVsbCwgImZpbGwiOiB0cnVlLCAiZmlsbENvbG9yIjogImJsdWUiLCAiZmlsbE9wYWNpdHkiOiAwLjYsICJmaWxsUnVsZSI6ICJldmVub2RkIiwgImxpbmVDYXAiOiAicm91bmQiLCAibGluZUpvaW4iOiAicm91bmQiLCAib3BhY2l0eSI6IDEuMCwgInJhZGl1cyI6IDUsICJzdHJva2UiOiB0cnVlLCAid2VpZ2h0IjogM30KICAgICAgICAgICAgKS5hZGRUbyhmZWF0dXJlX2dyb3VwXzIxODk2YmIyOTk5MTQ3N2Q4MzdhODE2ZTNhZWE1NmNjKTsKICAgICAgICAKICAgIAogICAgICAgICAgICB2YXIgY2lyY2xlX21hcmtlcl8xMDllZmM2NzU4YTk0OTBiYTU4YzY2ODhkNDQxZTFmOCA9IEwuY2lyY2xlTWFya2VyKAogICAgICAgICAgICAgICAgWzM3Ljc1NDA5ODY4ODIwNjc5NSwgLTEyMi40MTQyMzM4NDkwMzc5OF0sCiAgICAgICAgICAgICAgICB7ImJ1YmJsaW5nTW91c2VFdmVudHMiOiB0cnVlLCAiY29sb3IiOiAieWVsbG93IiwgImRhc2hBcnJheSI6IG51bGwsICJkYXNoT2Zmc2V0IjogbnVsbCwgImZpbGwiOiB0cnVlLCAiZmlsbENvbG9yIjogImJsdWUiLCAiZmlsbE9wYWNpdHkiOiAwLjYsICJmaWxsUnVsZSI6ICJldmVub2RkIiwgImxpbmVDYXAiOiAicm91bmQiLCAibGluZUpvaW4iOiAicm91bmQiLCAib3BhY2l0eSI6IDEuMCwgInJhZGl1cyI6IDUsICJzdHJva2UiOiB0cnVlLCAid2VpZ2h0IjogM30KICAgICAgICAgICAgKS5hZGRUbyhmZWF0dXJlX2dyb3VwXzIxODk2YmIyOTk5MTQ3N2Q4MzdhODE2ZTNhZWE1NmNjKTsKICAgICAgICAKICAgIAogICAgICAgICAgICB2YXIgY2lyY2xlX21hcmtlcl84ZDE5ZDdkNmVkNzc0YzlhYTY2MTMyMTQ4OTQ3NGZhOCA9IEwuY2lyY2xlTWFya2VyKAogICAgICAgICAgICAgICAgWzM3Ljc1NDA5ODY4ODIwNjc5NSwgLTEyMi40MTQyMzM4NDkwMzc5OF0sCiAgICAgICAgICAgICAgICB7ImJ1YmJsaW5nTW91c2VFdmVudHMiOiB0cnVlLCAiY29sb3IiOiAieWVsbG93IiwgImRhc2hBcnJheSI6IG51bGwsICJkYXNoT2Zmc2V0IjogbnVsbCwgImZpbGwiOiB0cnVlLCAiZmlsbENvbG9yIjogImJsdWUiLCAiZmlsbE9wYWNpdHkiOiAwLjYsICJmaWxsUnVsZSI6ICJldmVub2RkIiwgImxpbmVDYXAiOiAicm91bmQiLCAibGluZUpvaW4iOiAicm91bmQiLCAib3BhY2l0eSI6IDEuMCwgInJhZGl1cyI6IDUsICJzdHJva2UiOiB0cnVlLCAid2VpZ2h0IjogM30KICAgICAgICAgICAgKS5hZGRUbyhmZWF0dXJlX2dyb3VwXzIxODk2YmIyOTk5MTQ3N2Q4MzdhODE2ZTNhZWE1NmNjKTsKICAgICAgICAKICAgIAogICAgICAgICAgICB2YXIgY2lyY2xlX21hcmtlcl8yMzI3NjhiYzg5NmY0NDM3OTA4ODUzNWM5OTcxN2NmZCA9IEwuY2lyY2xlTWFya2VyKAogICAgICAgICAgICAgICAgWzM3Ljc3MTQ5Mzk5Njk0MTYsIC0xMjIuNTA3NzUwMTMxMDA0MDJdLAogICAgICAgICAgICAgICAgeyJidWJibGluZ01vdXNlRXZlbnRzIjogdHJ1ZSwgImNvbG9yIjogInllbGxvdyIsICJkYXNoQXJyYXkiOiBudWxsLCAiZGFzaE9mZnNldCI6IG51bGwsICJmaWxsIjogdHJ1ZSwgImZpbGxDb2xvciI6ICJibHVlIiwgImZpbGxPcGFjaXR5IjogMC42LCAiZmlsbFJ1bGUiOiAiZXZlbm9kZCIsICJsaW5lQ2FwIjogInJvdW5kIiwgImxpbmVKb2luIjogInJvdW5kIiwgIm9wYWNpdHkiOiAxLjAsICJyYWRpdXMiOiA1LCAic3Ryb2tlIjogdHJ1ZSwgIndlaWdodCI6IDN9CiAgICAgICAgICAgICkuYWRkVG8oZmVhdHVyZV9ncm91cF8yMTg5NmJiMjk5OTE0NzdkODM3YTgxNmUzYWVhNTZjYyk7CiAgICAgICAgCiAgICAKICAgICAgICAgICAgdmFyIGNpcmNsZV9tYXJrZXJfMjA1NGExNjAzZTQ4NGY5MGIzOGE0YTkwNjBlZmRjNGYgPSBMLmNpcmNsZU1hcmtlcigKICAgICAgICAgICAgICAgIFszNy43MTgzMDIyMDQ3NjYwMDUsIC0xMjIuNDc0NDQ0NjM5NTk0OTldLAogICAgICAgICAgICAgICAgeyJidWJibGluZ01vdXNlRXZlbnRzIjogdHJ1ZSwgImNvbG9yIjogInllbGxvdyIsICJkYXNoQXJyYXkiOiBudWxsLCAiZGFzaE9mZnNldCI6IG51bGwsICJmaWxsIjogdHJ1ZSwgImZpbGxDb2xvciI6ICJibHVlIiwgImZpbGxPcGFjaXR5IjogMC42LCAiZmlsbFJ1bGUiOiAiZXZlbm9kZCIsICJsaW5lQ2FwIjogInJvdW5kIiwgImxpbmVKb2luIjogInJvdW5kIiwgIm9wYWNpdHkiOiAxLjAsICJyYWRpdXMiOiA1LCAic3Ryb2tlIjogdHJ1ZSwgIndlaWdodCI6IDN9CiAgICAgICAgICAgICkuYWRkVG8oZmVhdHVyZV9ncm91cF8yMTg5NmJiMjk5OTE0NzdkODM3YTgxNmUzYWVhNTZjYyk7CiAgICAgICAgCiAgICAKICAgICAgICAgICAgdmFyIGNpcmNsZV9tYXJrZXJfYjY4ZGVkZWE0NzI5NGI0Y2JiMTI1MDE0NzE2ZGNhOTQgPSBMLmNpcmNsZU1hcmtlcigKICAgICAgICAgICAgICAgIFszNy43NjQ1NzUyMzE3NjE1LCAtMTIyLjQyNzU2MjU5Njk4NV0sCiAgICAgICAgICAgICAgICB7ImJ1YmJsaW5nTW91c2VFdmVudHMiOiB0cnVlLCAiY29sb3IiOiAieWVsbG93IiwgImRhc2hBcnJheSI6IG51bGwsICJkYXNoT2Zmc2V0IjogbnVsbCwgImZpbGwiOiB0cnVlLCAiZmlsbENvbG9yIjogImJsdWUiLCAiZmlsbE9wYWNpdHkiOiAwLjYsICJmaWxsUnVsZSI6ICJldmVub2RkIiwgImxpbmVDYXAiOiAicm91bmQiLCAibGluZUpvaW4iOiAicm91bmQiLCAib3BhY2l0eSI6IDEuMCwgInJhZGl1cyI6IDUsICJzdHJva2UiOiB0cnVlLCAid2VpZ2h0IjogM30KICAgICAgICAgICAgKS5hZGRUbyhmZWF0dXJlX2dyb3VwXzIxODk2YmIyOTk5MTQ3N2Q4MzdhODE2ZTNhZWE1NmNjKTsKICAgICAgICAKICAgIAogICAgICAgICAgICB2YXIgY2lyY2xlX21hcmtlcl8yM2E3Yzk0Njg2MjU0NDI3YTk5MGY5NmJjNDhmM2MwZCA9IEwuY2lyY2xlTWFya2VyKAogICAgICAgICAgICAgICAgWzM3Ljc4NzQzNzgzMDkxMTIsIC0xMjIuNDE5MjAzMDA0MjY4XSwKICAgICAgICAgICAgICAgIHsiYnViYmxpbmdNb3VzZUV2ZW50cyI6IHRydWUsICJjb2xvciI6ICJ5ZWxsb3ciLCAiZGFzaEFycmF5IjogbnVsbCwgImRhc2hPZmZzZXQiOiBudWxsLCAiZmlsbCI6IHRydWUsICJmaWxsQ29sb3IiOiAiYmx1ZSIsICJmaWxsT3BhY2l0eSI6IDAuNiwgImZpbGxSdWxlIjogImV2ZW5vZGQiLCAibGluZUNhcCI6ICJyb3VuZCIsICJsaW5lSm9pbiI6ICJyb3VuZCIsICJvcGFjaXR5IjogMS4wLCAicmFkaXVzIjogNSwgInN0cm9rZSI6IHRydWUsICJ3ZWlnaHQiOiAzfQogICAgICAgICAgICApLmFkZFRvKGZlYXR1cmVfZ3JvdXBfMjE4OTZiYjI5OTkxNDc3ZDgzN2E4MTZlM2FlYTU2Y2MpOwogICAgICAgIAogICAgCiAgICAgICAgICAgIHZhciBjaXJjbGVfbWFya2VyXzBmOTYxNTEyMmY0NTQ1MjRhMWMzNzQ3OWU2ZDgwOTgzID0gTC5jaXJjbGVNYXJrZXIoCiAgICAgICAgICAgICAgICBbMzcuNzQ5MzY4ODI4NDUzMiwgLTEyMi40MTI2OTAxNDIzMDgwMV0sCiAgICAgICAgICAgICAgICB7ImJ1YmJsaW5nTW91c2VFdmVudHMiOiB0cnVlLCAiY29sb3IiOiAieWVsbG93IiwgImRhc2hBcnJheSI6IG51bGwsICJkYXNoT2Zmc2V0IjogbnVsbCwgImZpbGwiOiB0cnVlLCAiZmlsbENvbG9yIjogImJsdWUiLCAiZmlsbE9wYWNpdHkiOiAwLjYsICJmaWxsUnVsZSI6ICJldmVub2RkIiwgImxpbmVDYXAiOiAicm91bmQiLCAibGluZUpvaW4iOiAicm91bmQiLCAib3BhY2l0eSI6IDEuMCwgInJhZGl1cyI6IDUsICJzdHJva2UiOiB0cnVlLCAid2VpZ2h0IjogM30KICAgICAgICAgICAgKS5hZGRUbyhmZWF0dXJlX2dyb3VwXzIxODk2YmIyOTk5MTQ3N2Q4MzdhODE2ZTNhZWE1NmNjKTsKICAgICAgICAKICAgIAogICAgICAgICAgICB2YXIgY2lyY2xlX21hcmtlcl8zOTJkNjMyYjNlODY0ZTU2OTZkMjA4ZTU5YjRkNDA5YSA9IEwuY2lyY2xlTWFya2VyKAogICAgICAgICAgICAgICAgWzM3LjcwOTIwMTA0NjIzNzksIC0xMjIuNDM0NjA5MjgwMzUyXSwKICAgICAgICAgICAgICAgIHsiYnViYmxpbmdNb3VzZUV2ZW50cyI6IHRydWUsICJjb2xvciI6ICJ5ZWxsb3ciLCAiZGFzaEFycmF5IjogbnVsbCwgImRhc2hPZmZzZXQiOiBudWxsLCAiZmlsbCI6IHRydWUsICJmaWxsQ29sb3IiOiAiYmx1ZSIsICJmaWxsT3BhY2l0eSI6IDAuNiwgImZpbGxSdWxlIjogImV2ZW5vZGQiLCAibGluZUNhcCI6ICJyb3VuZCIsICJsaW5lSm9pbiI6ICJyb3VuZCIsICJvcGFjaXR5IjogMS4wLCAicmFkaXVzIjogNSwgInN0cm9rZSI6IHRydWUsICJ3ZWlnaHQiOiAzfQogICAgICAgICAgICApLmFkZFRvKGZlYXR1cmVfZ3JvdXBfMjE4OTZiYjI5OTkxNDc3ZDgzN2E4MTZlM2FlYTU2Y2MpOwogICAgICAgIAogICAgCiAgICAgICAgICAgIHZhciBjaXJjbGVfbWFya2VyXzg1MTllZDRmZjdmZDRlNDk5MWEyZGQ2MDEwOGJkMzFlID0gTC5jaXJjbGVNYXJrZXIoCiAgICAgICAgICAgICAgICBbMzcuNzg3OTIwOTM3NTUzMjk1LCAtMTIyLjQxMDg4MjgyNTU1MV0sCiAgICAgICAgICAgICAgICB7ImJ1YmJsaW5nTW91c2VFdmVudHMiOiB0cnVlLCAiY29sb3IiOiAieWVsbG93IiwgImRhc2hBcnJheSI6IG51bGwsICJkYXNoT2Zmc2V0IjogbnVsbCwgImZpbGwiOiB0cnVlLCAiZmlsbENvbG9yIjogImJsdWUiLCAiZmlsbE9wYWNpdHkiOiAwLjYsICJmaWxsUnVsZSI6ICJldmVub2RkIiwgImxpbmVDYXAiOiAicm91bmQiLCAibGluZUpvaW4iOiAicm91bmQiLCAib3BhY2l0eSI6IDEuMCwgInJhZGl1cyI6IDUsICJzdHJva2UiOiB0cnVlLCAid2VpZ2h0IjogM30KICAgICAgICAgICAgKS5hZGRUbyhmZWF0dXJlX2dyb3VwXzIxODk2YmIyOTk5MTQ3N2Q4MzdhODE2ZTNhZWE1NmNjKTsKICAgICAgICAKICAgIAogICAgICAgICAgICB2YXIgY2lyY2xlX21hcmtlcl8zMDcxMjAzYzMyZTk0ZjE2YTE0MGFmMDBiMzA4NWNkYyA9IEwuY2lyY2xlTWFya2VyKAogICAgICAgICAgICAgICAgWzM3LjgwMDQ1NjY0NzEwMzg5LCAtMTIyLjQwMTQzMjc1NDcyMjAxXSwKICAgICAgICAgICAgICAgIHsiYnViYmxpbmdNb3VzZUV2ZW50cyI6IHRydWUsICJjb2xvciI6ICJ5ZWxsb3ciLCAiZGFzaEFycmF5IjogbnVsbCwgImRhc2hPZmZzZXQiOiBudWxsLCAiZmlsbCI6IHRydWUsICJmaWxsQ29sb3IiOiAiYmx1ZSIsICJmaWxsT3BhY2l0eSI6IDAuNiwgImZpbGxSdWxlIjogImV2ZW5vZGQiLCAibGluZUNhcCI6ICJyb3VuZCIsICJsaW5lSm9pbiI6ICJyb3VuZCIsICJvcGFjaXR5IjogMS4wLCAicmFkaXVzIjogNSwgInN0cm9rZSI6IHRydWUsICJ3ZWlnaHQiOiAzfQogICAgICAgICAgICApLmFkZFRvKGZlYXR1cmVfZ3JvdXBfMjE4OTZiYjI5OTkxNDc3ZDgzN2E4MTZlM2FlYTU2Y2MpOwogICAgICAgIAogICAgCiAgICAgICAgICAgIHZhciBjaXJjbGVfbWFya2VyX2M4ZTRhZDU3MDIzYzRmNGZhNTRjZmE2YjI2NWRlNDc2ID0gTC5jaXJjbGVNYXJrZXIoCiAgICAgICAgICAgICAgICBbMzcuNzQzNTU1MDU0MjI2NSwgLTEyMi40MjExMjgwMjk1MDVdLAogICAgICAgICAgICAgICAgeyJidWJibGluZ01vdXNlRXZlbnRzIjogdHJ1ZSwgImNvbG9yIjogInllbGxvdyIsICJkYXNoQXJyYXkiOiBudWxsLCAiZGFzaE9mZnNldCI6IG51bGwsICJmaWxsIjogdHJ1ZSwgImZpbGxDb2xvciI6ICJibHVlIiwgImZpbGxPcGFjaXR5IjogMC42LCAiZmlsbFJ1bGUiOiAiZXZlbm9kZCIsICJsaW5lQ2FwIjogInJvdW5kIiwgImxpbmVKb2luIjogInJvdW5kIiwgIm9wYWNpdHkiOiAxLjAsICJyYWRpdXMiOiA1LCAic3Ryb2tlIjogdHJ1ZSwgIndlaWdodCI6IDN9CiAgICAgICAgICAgICkuYWRkVG8oZmVhdHVyZV9ncm91cF8yMTg5NmJiMjk5OTE0NzdkODM3YTgxNmUzYWVhNTZjYyk7CiAgICAgICAgCiAgICAKICAgICAgICAgICAgdmFyIGNpcmNsZV9tYXJrZXJfMjAwYjNkMmYxYTYxNGNiOWI1OTU2MTJjNGUxMTNhMDMgPSBMLmNpcmNsZU1hcmtlcigKICAgICAgICAgICAgICAgIFszNy43ODY1NjQ3NjA3Njg1LCAtMTIyLjQwNzI0NDA4NzAzMl0sCiAgICAgICAgICAgICAgICB7ImJ1YmJsaW5nTW91c2VFdmVudHMiOiB0cnVlLCAiY29sb3IiOiAieWVsbG93IiwgImRhc2hBcnJheSI6IG51bGwsICJkYXNoT2Zmc2V0IjogbnVsbCwgImZpbGwiOiB0cnVlLCAiZmlsbENvbG9yIjogImJsdWUiLCAiZmlsbE9wYWNpdHkiOiAwLjYsICJmaWxsUnVsZSI6ICJldmVub2RkIiwgImxpbmVDYXAiOiAicm91bmQiLCAibGluZUpvaW4iOiAicm91bmQiLCAib3BhY2l0eSI6IDEuMCwgInJhZGl1cyI6IDUsICJzdHJva2UiOiB0cnVlLCAid2VpZ2h0IjogM30KICAgICAgICAgICAgKS5hZGRUbyhmZWF0dXJlX2dyb3VwXzIxODk2YmIyOTk5MTQ3N2Q4MzdhODE2ZTNhZWE1NmNjKTsKICAgICAgICAKICAgIAogICAgICAgICAgICB2YXIgY2lyY2xlX21hcmtlcl8wMjI4NGE1Mzg3MzQ0MDExYTk5YjQ1MDg0MTgzZTE0NSA9IEwuY2lyY2xlTWFya2VyKAogICAgICAgICAgICAgICAgWzM3Ljc2MTU2NTU5MjgwNDUsIC0xMjIuNDIzODAzMDAxOTAwOTldLAogICAgICAgICAgICAgICAgeyJidWJibGluZ01vdXNlRXZlbnRzIjogdHJ1ZSwgImNvbG9yIjogInllbGxvdyIsICJkYXNoQXJyYXkiOiBudWxsLCAiZGFzaE9mZnNldCI6IG51bGwsICJmaWxsIjogdHJ1ZSwgImZpbGxDb2xvciI6ICJibHVlIiwgImZpbGxPcGFjaXR5IjogMC42LCAiZmlsbFJ1bGUiOiAiZXZlbm9kZCIsICJsaW5lQ2FwIjogInJvdW5kIiwgImxpbmVKb2luIjogInJvdW5kIiwgIm9wYWNpdHkiOiAxLjAsICJyYWRpdXMiOiA1LCAic3Ryb2tlIjogdHJ1ZSwgIndlaWdodCI6IDN9CiAgICAgICAgICAgICkuYWRkVG8oZmVhdHVyZV9ncm91cF8yMTg5NmJiMjk5OTE0NzdkODM3YTgxNmUzYWVhNTZjYyk7CiAgICAgICAgCiAgICAKICAgICAgICAgICAgdmFyIGNpcmNsZV9tYXJrZXJfOWQ3MGY2YTNkNjM3NDRlMjk1MmRhN2Y4ZmI0YWI2N2YgPSBMLmNpcmNsZU1hcmtlcigKICAgICAgICAgICAgICAgIFszNy43NjE1NjU1OTI4MDQ1LCAtMTIyLjQyMzgwMzAwMTkwMDk5XSwKICAgICAgICAgICAgICAgIHsiYnViYmxpbmdNb3VzZUV2ZW50cyI6IHRydWUsICJjb2xvciI6ICJ5ZWxsb3ciLCAiZGFzaEFycmF5IjogbnVsbCwgImRhc2hPZmZzZXQiOiBudWxsLCAiZmlsbCI6IHRydWUsICJmaWxsQ29sb3IiOiAiYmx1ZSIsICJmaWxsT3BhY2l0eSI6IDAuNiwgImZpbGxSdWxlIjogImV2ZW5vZGQiLCAibGluZUNhcCI6ICJyb3VuZCIsICJsaW5lSm9pbiI6ICJyb3VuZCIsICJvcGFjaXR5IjogMS4wLCAicmFkaXVzIjogNSwgInN0cm9rZSI6IHRydWUsICJ3ZWlnaHQiOiAzfQogICAgICAgICAgICApLmFkZFRvKGZlYXR1cmVfZ3JvdXBfMjE4OTZiYjI5OTkxNDc3ZDgzN2E4MTZlM2FlYTU2Y2MpOwogICAgICAgIAogICAgCiAgICAgICAgICAgIHZhciBjaXJjbGVfbWFya2VyX2JlYjk5YmM0NzY5ODQwMDU4NDllNjYyYjcxY2YyMjkzID0gTC5jaXJjbGVNYXJrZXIoCiAgICAgICAgICAgICAgICBbMzcuNzQ0MTkyNzUwODkzMjA1LCAtMTIyLjQ0NDY4NTQ4MjI3M10sCiAgICAgICAgICAgICAgICB7ImJ1YmJsaW5nTW91c2VFdmVudHMiOiB0cnVlLCAiY29sb3IiOiAieWVsbG93IiwgImRhc2hBcnJheSI6IG51bGwsICJkYXNoT2Zmc2V0IjogbnVsbCwgImZpbGwiOiB0cnVlLCAiZmlsbENvbG9yIjogImJsdWUiLCAiZmlsbE9wYWNpdHkiOiAwLjYsICJmaWxsUnVsZSI6ICJldmVub2RkIiwgImxpbmVDYXAiOiAicm91bmQiLCAibGluZUpvaW4iOiAicm91bmQiLCAib3BhY2l0eSI6IDEuMCwgInJhZGl1cyI6IDUsICJzdHJva2UiOiB0cnVlLCAid2VpZ2h0IjogM30KICAgICAgICAgICAgKS5hZGRUbyhmZWF0dXJlX2dyb3VwXzIxODk2YmIyOTk5MTQ3N2Q4MzdhODE2ZTNhZWE1NmNjKTsKICAgICAgICAKICAgIAogICAgICAgICAgICB2YXIgY2lyY2xlX21hcmtlcl8wNTU2OTk3MzE4NDU0ZDU4YjczNzU2MmJjNjJkMzNlYyA9IEwuY2lyY2xlTWFya2VyKAogICAgICAgICAgICAgICAgWzM3Ljc3NTQ2OTI4MjAwNDEsIC0xMjIuNDE1NzU3MDM5MTk2XSwKICAgICAgICAgICAgICAgIHsiYnViYmxpbmdNb3VzZUV2ZW50cyI6IHRydWUsICJjb2xvciI6ICJ5ZWxsb3ciLCAiZGFzaEFycmF5IjogbnVsbCwgImRhc2hPZmZzZXQiOiBudWxsLCAiZmlsbCI6IHRydWUsICJmaWxsQ29sb3IiOiAiYmx1ZSIsICJmaWxsT3BhY2l0eSI6IDAuNiwgImZpbGxSdWxlIjogImV2ZW5vZGQiLCAibGluZUNhcCI6ICJyb3VuZCIsICJsaW5lSm9pbiI6ICJyb3VuZCIsICJvcGFjaXR5IjogMS4wLCAicmFkaXVzIjogNSwgInN0cm9rZSI6IHRydWUsICJ3ZWlnaHQiOiAzfQogICAgICAgICAgICApLmFkZFRvKGZlYXR1cmVfZ3JvdXBfMjE4OTZiYjI5OTkxNDc3ZDgzN2E4MTZlM2FlYTU2Y2MpOwogICAgICAgIAogICAgCiAgICAgICAgICAgIHZhciBjaXJjbGVfbWFya2VyX2UyMjY2MzgwMzhlYjQyNDViZGNjYmY1ZTAxZGVmYWI3ID0gTC5jaXJjbGVNYXJrZXIoCiAgICAgICAgICAgICAgICBbMzcuNzI4NTI4MDYyNzQ2NSwgLTEyMi40NzU2NDc0NjA3ODU5OV0sCiAgICAgICAgICAgICAgICB7ImJ1YmJsaW5nTW91c2VFdmVudHMiOiB0cnVlLCAiY29sb3IiOiAieWVsbG93IiwgImRhc2hBcnJheSI6IG51bGwsICJkYXNoT2Zmc2V0IjogbnVsbCwgImZpbGwiOiB0cnVlLCAiZmlsbENvbG9yIjogImJsdWUiLCAiZmlsbE9wYWNpdHkiOiAwLjYsICJmaWxsUnVsZSI6ICJldmVub2RkIiwgImxpbmVDYXAiOiAicm91bmQiLCAibGluZUpvaW4iOiAicm91bmQiLCAib3BhY2l0eSI6IDEuMCwgInJhZGl1cyI6IDUsICJzdHJva2UiOiB0cnVlLCAid2VpZ2h0IjogM30KICAgICAgICAgICAgKS5hZGRUbyhmZWF0dXJlX2dyb3VwXzIxODk2YmIyOTk5MTQ3N2Q4MzdhODE2ZTNhZWE1NmNjKTsKICAgICAgICAKICAgIAogICAgICAgICAgICB2YXIgY2lyY2xlX21hcmtlcl8xNmJiMjZhM2U0ZmE0Nzc1ODU4ZmRmZWQ0ZDAzMzFjNSA9IEwuY2lyY2xlTWFya2VyKAogICAgICAgICAgICAgICAgWzM3Ljc0Mjg1MTczNzQ0NDg5NCwgLTEyMi40MjA5Njc0NDA1NjRdLAogICAgICAgICAgICAgICAgeyJidWJibGluZ01vdXNlRXZlbnRzIjogdHJ1ZSwgImNvbG9yIjogInllbGxvdyIsICJkYXNoQXJyYXkiOiBudWxsLCAiZGFzaE9mZnNldCI6IG51bGwsICJmaWxsIjogdHJ1ZSwgImZpbGxDb2xvciI6ICJibHVlIiwgImZpbGxPcGFjaXR5IjogMC42LCAiZmlsbFJ1bGUiOiAiZXZlbm9kZCIsICJsaW5lQ2FwIjogInJvdW5kIiwgImxpbmVKb2luIjogInJvdW5kIiwgIm9wYWNpdHkiOiAxLjAsICJyYWRpdXMiOiA1LCAic3Ryb2tlIjogdHJ1ZSwgIndlaWdodCI6IDN9CiAgICAgICAgICAgICkuYWRkVG8oZmVhdHVyZV9ncm91cF8yMTg5NmJiMjk5OTE0NzdkODM3YTgxNmUzYWVhNTZjYyk7CiAgICAgICAgCiAgICAKICAgICAgICAgICAgdmFyIGNpcmNsZV9tYXJrZXJfMDlhNzdmMGUyN2Q4NGQ1NmIyY2IwYmNiMGZiZDQzYzUgPSBMLmNpcmNsZU1hcmtlcigKICAgICAgICAgICAgICAgIFszNy43ODIxMTk4NDg4OTMxLCAtMTIyLjQxNTY2OTY2MTQ0M10sCiAgICAgICAgICAgICAgICB7ImJ1YmJsaW5nTW91c2VFdmVudHMiOiB0cnVlLCAiY29sb3IiOiAieWVsbG93IiwgImRhc2hBcnJheSI6IG51bGwsICJkYXNoT2Zmc2V0IjogbnVsbCwgImZpbGwiOiB0cnVlLCAiZmlsbENvbG9yIjogImJsdWUiLCAiZmlsbE9wYWNpdHkiOiAwLjYsICJmaWxsUnVsZSI6ICJldmVub2RkIiwgImxpbmVDYXAiOiAicm91bmQiLCAibGluZUpvaW4iOiAicm91bmQiLCAib3BhY2l0eSI6IDEuMCwgInJhZGl1cyI6IDUsICJzdHJva2UiOiB0cnVlLCAid2VpZ2h0IjogM30KICAgICAgICAgICAgKS5hZGRUbyhmZWF0dXJlX2dyb3VwXzIxODk2YmIyOTk5MTQ3N2Q4MzdhODE2ZTNhZWE1NmNjKTsKICAgICAgICAKICAgIAogICAgICAgICAgICB2YXIgY2lyY2xlX21hcmtlcl8zNGRhMzU4ZjUyZWY0YWUyODQxOGFmNjJmMzdhZjljNCA9IEwuY2lyY2xlTWFya2VyKAogICAgICAgICAgICAgICAgWzM3Ljc3OTE2NzQyMTg5NjMsIC0xMjIuNDA2MzQ2NDI1NjMyXSwKICAgICAgICAgICAgICAgIHsiYnViYmxpbmdNb3VzZUV2ZW50cyI6IHRydWUsICJjb2xvciI6ICJ5ZWxsb3ciLCAiZGFzaEFycmF5IjogbnVsbCwgImRhc2hPZmZzZXQiOiBudWxsLCAiZmlsbCI6IHRydWUsICJmaWxsQ29sb3IiOiAiYmx1ZSIsICJmaWxsT3BhY2l0eSI6IDAuNiwgImZpbGxSdWxlIjogImV2ZW5vZGQiLCAibGluZUNhcCI6ICJyb3VuZCIsICJsaW5lSm9pbiI6ICJyb3VuZCIsICJvcGFjaXR5IjogMS4wLCAicmFkaXVzIjogNSwgInN0cm9rZSI6IHRydWUsICJ3ZWlnaHQiOiAzfQogICAgICAgICAgICApLmFkZFRvKGZlYXR1cmVfZ3JvdXBfMjE4OTZiYjI5OTkxNDc3ZDgzN2E4MTZlM2FlYTU2Y2MpOwogICAgICAgIAogICAgCiAgICAgICAgICAgIHZhciBjaXJjbGVfbWFya2VyX2RkODU3MmExNzhlMTQ1MjU5MDZkOWQ0ZmQwMmYzZmVhID0gTC5jaXJjbGVNYXJrZXIoCiAgICAgICAgICAgICAgICBbMzcuNzY1NzE4NDM5NTI4MiwgLTEyMi40MDk1Mjk5MTMyNzhdLAogICAgICAgICAgICAgICAgeyJidWJibGluZ01vdXNlRXZlbnRzIjogdHJ1ZSwgImNvbG9yIjogInllbGxvdyIsICJkYXNoQXJyYXkiOiBudWxsLCAiZGFzaE9mZnNldCI6IG51bGwsICJmaWxsIjogdHJ1ZSwgImZpbGxDb2xvciI6ICJibHVlIiwgImZpbGxPcGFjaXR5IjogMC42LCAiZmlsbFJ1bGUiOiAiZXZlbm9kZCIsICJsaW5lQ2FwIjogInJvdW5kIiwgImxpbmVKb2luIjogInJvdW5kIiwgIm9wYWNpdHkiOiAxLjAsICJyYWRpdXMiOiA1LCAic3Ryb2tlIjogdHJ1ZSwgIndlaWdodCI6IDN9CiAgICAgICAgICAgICkuYWRkVG8oZmVhdHVyZV9ncm91cF8yMTg5NmJiMjk5OTE0NzdkODM3YTgxNmUzYWVhNTZjYyk7CiAgICAgICAgCiAgICAKICAgICAgICAgICAgdmFyIGNpcmNsZV9tYXJrZXJfN2E0MGRlZTc1ZjM4NDAxNmJlNmE2MmJjZjNiMTFiNzcgPSBMLmNpcmNsZU1hcmtlcigKICAgICAgICAgICAgICAgIFszNy43NzU0MjA3MDY3MTEsIC0xMjIuNDAzNDA0NzkxNDc4OTldLAogICAgICAgICAgICAgICAgeyJidWJibGluZ01vdXNlRXZlbnRzIjogdHJ1ZSwgImNvbG9yIjogInllbGxvdyIsICJkYXNoQXJyYXkiOiBudWxsLCAiZGFzaE9mZnNldCI6IG51bGwsICJmaWxsIjogdHJ1ZSwgImZpbGxDb2xvciI6ICJibHVlIiwgImZpbGxPcGFjaXR5IjogMC42LCAiZmlsbFJ1bGUiOiAiZXZlbm9kZCIsICJsaW5lQ2FwIjogInJvdW5kIiwgImxpbmVKb2luIjogInJvdW5kIiwgIm9wYWNpdHkiOiAxLjAsICJyYWRpdXMiOiA1LCAic3Ryb2tlIjogdHJ1ZSwgIndlaWdodCI6IDN9CiAgICAgICAgICAgICkuYWRkVG8oZmVhdHVyZV9ncm91cF8yMTg5NmJiMjk5OTE0NzdkODM3YTgxNmUzYWVhNTZjYyk7CiAgICAgICAgCiAgICAKICAgICAgICAgICAgdmFyIGNpcmNsZV9tYXJrZXJfNjk4MzA2OWUzZWMyNDYwYjgwOWQ2NGNjNjE3MzA4ZGMgPSBMLmNpcmNsZU1hcmtlcigKICAgICAgICAgICAgICAgIFszNy43Njc1MjQzMDg3ODMsIC0xMjIuNDEwNzM4MDk3MzE1XSwKICAgICAgICAgICAgICAgIHsiYnViYmxpbmdNb3VzZUV2ZW50cyI6IHRydWUsICJjb2xvciI6ICJ5ZWxsb3ciLCAiZGFzaEFycmF5IjogbnVsbCwgImRhc2hPZmZzZXQiOiBudWxsLCAiZmlsbCI6IHRydWUsICJmaWxsQ29sb3IiOiAiYmx1ZSIsICJmaWxsT3BhY2l0eSI6IDAuNiwgImZpbGxSdWxlIjogImV2ZW5vZGQiLCAibGluZUNhcCI6ICJyb3VuZCIsICJsaW5lSm9pbiI6ICJyb3VuZCIsICJvcGFjaXR5IjogMS4wLCAicmFkaXVzIjogNSwgInN0cm9rZSI6IHRydWUsICJ3ZWlnaHQiOiAzfQogICAgICAgICAgICApLmFkZFRvKGZlYXR1cmVfZ3JvdXBfMjE4OTZiYjI5OTkxNDc3ZDgzN2E4MTZlM2FlYTU2Y2MpOwogICAgICAgIAogICAgCiAgICAgICAgICAgIHZhciBjaXJjbGVfbWFya2VyXzMyMzJmYzI4ZjBmNTQyYTViMDBlZDJjNTEwM2VhM2U5ID0gTC5jaXJjbGVNYXJrZXIoCiAgICAgICAgICAgICAgICBbMzcuNzY3NTI0MzA4NzgzLCAtMTIyLjQxMDczODA5NzMxNV0sCiAgICAgICAgICAgICAgICB7ImJ1YmJsaW5nTW91c2VFdmVudHMiOiB0cnVlLCAiY29sb3IiOiAieWVsbG93IiwgImRhc2hBcnJheSI6IG51bGwsICJkYXNoT2Zmc2V0IjogbnVsbCwgImZpbGwiOiB0cnVlLCAiZmlsbENvbG9yIjogImJsdWUiLCAiZmlsbE9wYWNpdHkiOiAwLjYsICJmaWxsUnVsZSI6ICJldmVub2RkIiwgImxpbmVDYXAiOiAicm91bmQiLCAibGluZUpvaW4iOiAicm91bmQiLCAib3BhY2l0eSI6IDEuMCwgInJhZGl1cyI6IDUsICJzdHJva2UiOiB0cnVlLCAid2VpZ2h0IjogM30KICAgICAgICAgICAgKS5hZGRUbyhmZWF0dXJlX2dyb3VwXzIxODk2YmIyOTk5MTQ3N2Q4MzdhODE2ZTNhZWE1NmNjKTsKICAgICAgICAKICAgIAogICAgICAgICAgICB2YXIgY2lyY2xlX21hcmtlcl80Yzk1YmUyMDkwMjM0NGY4OGY3ZWNjMDk0NGE1YTk2MCA9IEwuY2lyY2xlTWFya2VyKAogICAgICAgICAgICAgICAgWzM3LjcxMzEwODM0MzMyNjQsIC0xMjIuNDQ0MzE0MDI1MTg4XSwKICAgICAgICAgICAgICAgIHsiYnViYmxpbmdNb3VzZUV2ZW50cyI6IHRydWUsICJjb2xvciI6ICJ5ZWxsb3ciLCAiZGFzaEFycmF5IjogbnVsbCwgImRhc2hPZmZzZXQiOiBudWxsLCAiZmlsbCI6IHRydWUsICJmaWxsQ29sb3IiOiAiYmx1ZSIsICJmaWxsT3BhY2l0eSI6IDAuNiwgImZpbGxSdWxlIjogImV2ZW5vZGQiLCAibGluZUNhcCI6ICJyb3VuZCIsICJsaW5lSm9pbiI6ICJyb3VuZCIsICJvcGFjaXR5IjogMS4wLCAicmFkaXVzIjogNSwgInN0cm9rZSI6IHRydWUsICJ3ZWlnaHQiOiAzfQogICAgICAgICAgICApLmFkZFRvKGZlYXR1cmVfZ3JvdXBfMjE4OTZiYjI5OTkxNDc3ZDgzN2E4MTZlM2FlYTU2Y2MpOwogICAgICAgIAogICAgCiAgICAgICAgICAgIHZhciBjaXJjbGVfbWFya2VyX2U5OGM5NDZkNTRjMDRmMDhhYWM0Y2RiMjY5ZWJlZjlkID0gTC5jaXJjbGVNYXJrZXIoCiAgICAgICAgICAgICAgICBbMzcuNzEzMTA4MzQzMzI2NCwgLTEyMi40NDQzMTQwMjUxODhdLAogICAgICAgICAgICAgICAgeyJidWJibGluZ01vdXNlRXZlbnRzIjogdHJ1ZSwgImNvbG9yIjogInllbGxvdyIsICJkYXNoQXJyYXkiOiBudWxsLCAiZGFzaE9mZnNldCI6IG51bGwsICJmaWxsIjogdHJ1ZSwgImZpbGxDb2xvciI6ICJibHVlIiwgImZpbGxPcGFjaXR5IjogMC42LCAiZmlsbFJ1bGUiOiAiZXZlbm9kZCIsICJsaW5lQ2FwIjogInJvdW5kIiwgImxpbmVKb2luIjogInJvdW5kIiwgIm9wYWNpdHkiOiAxLjAsICJyYWRpdXMiOiA1LCAic3Ryb2tlIjogdHJ1ZSwgIndlaWdodCI6IDN9CiAgICAgICAgICAgICkuYWRkVG8oZmVhdHVyZV9ncm91cF8yMTg5NmJiMjk5OTE0NzdkODM3YTgxNmUzYWVhNTZjYyk7CiAgICAgICAgCiAgICAKICAgICAgICAgICAgdmFyIGNpcmNsZV9tYXJrZXJfZmM0OTlkYmEwNzU5NGU3ZGI0MTBjMDE4ZTI1ZmRhZmEgPSBMLmNpcmNsZU1hcmtlcigKICAgICAgICAgICAgICAgIFszNy43NjYwMTYwMTE0MTAzLCAtMTIyLjQwMzY0NDYyMDQzOV0sCiAgICAgICAgICAgICAgICB7ImJ1YmJsaW5nTW91c2VFdmVudHMiOiB0cnVlLCAiY29sb3IiOiAieWVsbG93IiwgImRhc2hBcnJheSI6IG51bGwsICJkYXNoT2Zmc2V0IjogbnVsbCwgImZpbGwiOiB0cnVlLCAiZmlsbENvbG9yIjogImJsdWUiLCAiZmlsbE9wYWNpdHkiOiAwLjYsICJmaWxsUnVsZSI6ICJldmVub2RkIiwgImxpbmVDYXAiOiAicm91bmQiLCAibGluZUpvaW4iOiAicm91bmQiLCAib3BhY2l0eSI6IDEuMCwgInJhZGl1cyI6IDUsICJzdHJva2UiOiB0cnVlLCAid2VpZ2h0IjogM30KICAgICAgICAgICAgKS5hZGRUbyhmZWF0dXJlX2dyb3VwXzIxODk2YmIyOTk5MTQ3N2Q4MzdhODE2ZTNhZWE1NmNjKTsKICAgICAgICAKICAgIAogICAgICAgICAgICB2YXIgY2lyY2xlX21hcmtlcl9kNDZmNTcwYmQ2ZDc0YTUyODZkODYzNDM5OTBjZDMyYiA9IEwuY2lyY2xlTWFya2VyKAogICAgICAgICAgICAgICAgWzM3Ljc2NjAxNjAxMTQxMDMsIC0xMjIuNDAzNjQ0NjIwNDM5XSwKICAgICAgICAgICAgICAgIHsiYnViYmxpbmdNb3VzZUV2ZW50cyI6IHRydWUsICJjb2xvciI6ICJ5ZWxsb3ciLCAiZGFzaEFycmF5IjogbnVsbCwgImRhc2hPZmZzZXQiOiBudWxsLCAiZmlsbCI6IHRydWUsICJmaWxsQ29sb3IiOiAiYmx1ZSIsICJmaWxsT3BhY2l0eSI6IDAuNiwgImZpbGxSdWxlIjogImV2ZW5vZGQiLCAibGluZUNhcCI6ICJyb3VuZCIsICJsaW5lSm9pbiI6ICJyb3VuZCIsICJvcGFjaXR5IjogMS4wLCAicmFkaXVzIjogNSwgInN0cm9rZSI6IHRydWUsICJ3ZWlnaHQiOiAzfQogICAgICAgICAgICApLmFkZFRvKGZlYXR1cmVfZ3JvdXBfMjE4OTZiYjI5OTkxNDc3ZDgzN2E4MTZlM2FlYTU2Y2MpOwogICAgICAgIAogICAgCiAgICAgICAgICAgIHZhciBjaXJjbGVfbWFya2VyXzJhMzliZWYxOGZlNTQ3MjhiYTc2Njg5ZjhiZTk2ZmZhID0gTC5jaXJjbGVNYXJrZXIoCiAgICAgICAgICAgICAgICBbMzcuNzc2MjMxMDQwNDc1OCwgLTEyMi40MTQ3MTQyOTU1Nzg5OV0sCiAgICAgICAgICAgICAgICB7ImJ1YmJsaW5nTW91c2VFdmVudHMiOiB0cnVlLCAiY29sb3IiOiAieWVsbG93IiwgImRhc2hBcnJheSI6IG51bGwsICJkYXNoT2Zmc2V0IjogbnVsbCwgImZpbGwiOiB0cnVlLCAiZmlsbENvbG9yIjogImJsdWUiLCAiZmlsbE9wYWNpdHkiOiAwLjYsICJmaWxsUnVsZSI6ICJldmVub2RkIiwgImxpbmVDYXAiOiAicm91bmQiLCAibGluZUpvaW4iOiAicm91bmQiLCAib3BhY2l0eSI6IDEuMCwgInJhZGl1cyI6IDUsICJzdHJva2UiOiB0cnVlLCAid2VpZ2h0IjogM30KICAgICAgICAgICAgKS5hZGRUbyhmZWF0dXJlX2dyb3VwXzIxODk2YmIyOTk5MTQ3N2Q4MzdhODE2ZTNhZWE1NmNjKTsKICAgICAgICAKICAgIAogICAgICAgICAgICB2YXIgY2lyY2xlX21hcmtlcl8yYjlmOTI1NzdkZjE0NjMzOTgyMTE4ZTY1MjVhMmY1OSA9IEwuY2lyY2xlTWFya2VyKAogICAgICAgICAgICAgICAgWzM3Ljc3NjIzMTA0MDQ3NTgsIC0xMjIuNDE0NzE0Mjk1NTc4OTldLAogICAgICAgICAgICAgICAgeyJidWJibGluZ01vdXNlRXZlbnRzIjogdHJ1ZSwgImNvbG9yIjogInllbGxvdyIsICJkYXNoQXJyYXkiOiBudWxsLCAiZGFzaE9mZnNldCI6IG51bGwsICJmaWxsIjogdHJ1ZSwgImZpbGxDb2xvciI6ICJibHVlIiwgImZpbGxPcGFjaXR5IjogMC42LCAiZmlsbFJ1bGUiOiAiZXZlbm9kZCIsICJsaW5lQ2FwIjogInJvdW5kIiwgImxpbmVKb2luIjogInJvdW5kIiwgIm9wYWNpdHkiOiAxLjAsICJyYWRpdXMiOiA1LCAic3Ryb2tlIjogdHJ1ZSwgIndlaWdodCI6IDN9CiAgICAgICAgICAgICkuYWRkVG8oZmVhdHVyZV9ncm91cF8yMTg5NmJiMjk5OTE0NzdkODM3YTgxNmUzYWVhNTZjYyk7CiAgICAgICAgCiAgICAKICAgICAgICAgICAgdmFyIGNpcmNsZV9tYXJrZXJfYzhkNjE0MWViYTIyNDUxMjk3YThjZGRjZWU0MTc1ZmUgPSBMLmNpcmNsZU1hcmtlcigKICAgICAgICAgICAgICAgIFszNy43Nzc1MTE4ODk1Njk1LCAtMTIyLjQxODA0NTQ1Mjc2OF0sCiAgICAgICAgICAgICAgICB7ImJ1YmJsaW5nTW91c2VFdmVudHMiOiB0cnVlLCAiY29sb3IiOiAieWVsbG93IiwgImRhc2hBcnJheSI6IG51bGwsICJkYXNoT2Zmc2V0IjogbnVsbCwgImZpbGwiOiB0cnVlLCAiZmlsbENvbG9yIjogImJsdWUiLCAiZmlsbE9wYWNpdHkiOiAwLjYsICJmaWxsUnVsZSI6ICJldmVub2RkIiwgImxpbmVDYXAiOiAicm91bmQiLCAibGluZUpvaW4iOiAicm91bmQiLCAib3BhY2l0eSI6IDEuMCwgInJhZGl1cyI6IDUsICJzdHJva2UiOiB0cnVlLCAid2VpZ2h0IjogM30KICAgICAgICAgICAgKS5hZGRUbyhmZWF0dXJlX2dyb3VwXzIxODk2YmIyOTk5MTQ3N2Q4MzdhODE2ZTNhZWE1NmNjKTsKICAgICAgICAKICAgIAogICAgICAgICAgICB2YXIgY2lyY2xlX21hcmtlcl84YmFmZjk4ZDY5ODM0MGIzYTZlYzEwNzFjYTdiNDRlOCA9IEwuY2lyY2xlTWFya2VyKAogICAgICAgICAgICAgICAgWzM3Ljc4MjAyMzg0Nzg5NzUsIC0xMjIuNDAxMTYxNTU1NjAyXSwKICAgICAgICAgICAgICAgIHsiYnViYmxpbmdNb3VzZUV2ZW50cyI6IHRydWUsICJjb2xvciI6ICJ5ZWxsb3ciLCAiZGFzaEFycmF5IjogbnVsbCwgImRhc2hPZmZzZXQiOiBudWxsLCAiZmlsbCI6IHRydWUsICJmaWxsQ29sb3IiOiAiYmx1ZSIsICJmaWxsT3BhY2l0eSI6IDAuNiwgImZpbGxSdWxlIjogImV2ZW5vZGQiLCAibGluZUNhcCI6ICJyb3VuZCIsICJsaW5lSm9pbiI6ICJyb3VuZCIsICJvcGFjaXR5IjogMS4wLCAicmFkaXVzIjogNSwgInN0cm9rZSI6IHRydWUsICJ3ZWlnaHQiOiAzfQogICAgICAgICAgICApLmFkZFRvKGZlYXR1cmVfZ3JvdXBfMjE4OTZiYjI5OTkxNDc3ZDgzN2E4MTZlM2FlYTU2Y2MpOwogICAgICAgIAogICAgCiAgICAgICAgICAgIHZhciBjaXJjbGVfbWFya2VyXzYwNTQ2YjQ0NmNmNzQ5ZGZiYTA4ZTJiYTFmYmJmYmZhID0gTC5jaXJjbGVNYXJrZXIoCiAgICAgICAgICAgICAgICBbMzcuNzI3MDA1MzE5NjI5OTk1LCAtMTIyLjQwMzQwODY2OTE5MV0sCiAgICAgICAgICAgICAgICB7ImJ1YmJsaW5nTW91c2VFdmVudHMiOiB0cnVlLCAiY29sb3IiOiAieWVsbG93IiwgImRhc2hBcnJheSI6IG51bGwsICJkYXNoT2Zmc2V0IjogbnVsbCwgImZpbGwiOiB0cnVlLCAiZmlsbENvbG9yIjogImJsdWUiLCAiZmlsbE9wYWNpdHkiOiAwLjYsICJmaWxsUnVsZSI6ICJldmVub2RkIiwgImxpbmVDYXAiOiAicm91bmQiLCAibGluZUpvaW4iOiAicm91bmQiLCAib3BhY2l0eSI6IDEuMCwgInJhZGl1cyI6IDUsICJzdHJva2UiOiB0cnVlLCAid2VpZ2h0IjogM30KICAgICAgICAgICAgKS5hZGRUbyhmZWF0dXJlX2dyb3VwXzIxODk2YmIyOTk5MTQ3N2Q4MzdhODE2ZTNhZWE1NmNjKTsKICAgICAgICAKICAgIAogICAgICAgICAgICB2YXIgY2lyY2xlX21hcmtlcl8xZDU0NTlhMjUxZTI0MDAxOGZhZDY4NDI4Y2UwMzllZSA9IEwuY2lyY2xlTWFya2VyKAogICAgICAgICAgICAgICAgWzM3Ljc4MzgzNDQzNzQxNDEsIC0xMjIuNDEyOTMwNTIyMDU5XSwKICAgICAgICAgICAgICAgIHsiYnViYmxpbmdNb3VzZUV2ZW50cyI6IHRydWUsICJjb2xvciI6ICJ5ZWxsb3ciLCAiZGFzaEFycmF5IjogbnVsbCwgImRhc2hPZmZzZXQiOiBudWxsLCAiZmlsbCI6IHRydWUsICJmaWxsQ29sb3IiOiAiYmx1ZSIsICJmaWxsT3BhY2l0eSI6IDAuNiwgImZpbGxSdWxlIjogImV2ZW5vZGQiLCAibGluZUNhcCI6ICJyb3VuZCIsICJsaW5lSm9pbiI6ICJyb3VuZCIsICJvcGFjaXR5IjogMS4wLCAicmFkaXVzIjogNSwgInN0cm9rZSI6IHRydWUsICJ3ZWlnaHQiOiAzfQogICAgICAgICAgICApLmFkZFRvKGZlYXR1cmVfZ3JvdXBfMjE4OTZiYjI5OTkxNDc3ZDgzN2E4MTZlM2FlYTU2Y2MpOwogICAgICAgIAogICAgCiAgICAgICAgICAgIHZhciBjaXJjbGVfbWFya2VyX2E1ZTAzMzhhY2QxNTRiYTQ4ZmFmNmI0YWUxMjQxNzdmID0gTC5jaXJjbGVNYXJrZXIoCiAgICAgICAgICAgICAgICBbMzcuNzUzMDE4NjUzNzQ0NjA0LCAtMTIyLjQxODU4NzE3MjIxOV0sCiAgICAgICAgICAgICAgICB7ImJ1YmJsaW5nTW91c2VFdmVudHMiOiB0cnVlLCAiY29sb3IiOiAieWVsbG93IiwgImRhc2hBcnJheSI6IG51bGwsICJkYXNoT2Zmc2V0IjogbnVsbCwgImZpbGwiOiB0cnVlLCAiZmlsbENvbG9yIjogImJsdWUiLCAiZmlsbE9wYWNpdHkiOiAwLjYsICJmaWxsUnVsZSI6ICJldmVub2RkIiwgImxpbmVDYXAiOiAicm91bmQiLCAibGluZUpvaW4iOiAicm91bmQiLCAib3BhY2l0eSI6IDEuMCwgInJhZGl1cyI6IDUsICJzdHJva2UiOiB0cnVlLCAid2VpZ2h0IjogM30KICAgICAgICAgICAgKS5hZGRUbyhmZWF0dXJlX2dyb3VwXzIxODk2YmIyOTk5MTQ3N2Q4MzdhODE2ZTNhZWE1NmNjKTsKICAgICAgICAKICAgIAogICAgICAgICAgICB2YXIgY2lyY2xlX21hcmtlcl84NWNlNzVhOGFmZjc0ZmM1ODkwMmE5ZTBiZmRjZTU1YiA9IEwuY2lyY2xlTWFya2VyKAogICAgICAgICAgICAgICAgWzM3Ljc3NDA0MTgzODUwNDEsIC0xMjIuNDE0MzcwNjI3NDk1XSwKICAgICAgICAgICAgICAgIHsiYnViYmxpbmdNb3VzZUV2ZW50cyI6IHRydWUsICJjb2xvciI6ICJ5ZWxsb3ciLCAiZGFzaEFycmF5IjogbnVsbCwgImRhc2hPZmZzZXQiOiBudWxsLCAiZmlsbCI6IHRydWUsICJmaWxsQ29sb3IiOiAiYmx1ZSIsICJmaWxsT3BhY2l0eSI6IDAuNiwgImZpbGxSdWxlIjogImV2ZW5vZGQiLCAibGluZUNhcCI6ICJyb3VuZCIsICJsaW5lSm9pbiI6ICJyb3VuZCIsICJvcGFjaXR5IjogMS4wLCAicmFkaXVzIjogNSwgInN0cm9rZSI6IHRydWUsICJ3ZWlnaHQiOiAzfQogICAgICAgICAgICApLmFkZFRvKGZlYXR1cmVfZ3JvdXBfMjE4OTZiYjI5OTkxNDc3ZDgzN2E4MTZlM2FlYTU2Y2MpOwogICAgICAgIAogICAgCiAgICAgICAgICAgIHZhciBjaXJjbGVfbWFya2VyXzRlMjkwZDhiYjViOTQxZjU4MzRhNjVkOGJmMTU0NzhmID0gTC5jaXJjbGVNYXJrZXIoCiAgICAgICAgICAgICAgICBbMzcuNzkwNTM4OTkzNzI1LCAtMTIyLjQwMzkxNTY4MTU3MTAxXSwKICAgICAgICAgICAgICAgIHsiYnViYmxpbmdNb3VzZUV2ZW50cyI6IHRydWUsICJjb2xvciI6ICJ5ZWxsb3ciLCAiZGFzaEFycmF5IjogbnVsbCwgImRhc2hPZmZzZXQiOiBudWxsLCAiZmlsbCI6IHRydWUsICJmaWxsQ29sb3IiOiAiYmx1ZSIsICJmaWxsT3BhY2l0eSI6IDAuNiwgImZpbGxSdWxlIjogImV2ZW5vZGQiLCAibGluZUNhcCI6ICJyb3VuZCIsICJsaW5lSm9pbiI6ICJyb3VuZCIsICJvcGFjaXR5IjogMS4wLCAicmFkaXVzIjogNSwgInN0cm9rZSI6IHRydWUsICJ3ZWlnaHQiOiAzfQogICAgICAgICAgICApLmFkZFRvKGZlYXR1cmVfZ3JvdXBfMjE4OTZiYjI5OTkxNDc3ZDgzN2E4MTZlM2FlYTU2Y2MpOwogICAgICAgIAogICAgCiAgICAgICAgICAgIHZhciBjaXJjbGVfbWFya2VyX2M4NjU4M2VjOTRlMTQ2YzE4MjgxODgxY2M4YmFhYWU4ID0gTC5jaXJjbGVNYXJrZXIoCiAgICAgICAgICAgICAgICBbMzcuNzgzMDk5ODI0NDU5MjEsIC0xMjIuNDE5MTgzMDk2MzYyXSwKICAgICAgICAgICAgICAgIHsiYnViYmxpbmdNb3VzZUV2ZW50cyI6IHRydWUsICJjb2xvciI6ICJ5ZWxsb3ciLCAiZGFzaEFycmF5IjogbnVsbCwgImRhc2hPZmZzZXQiOiBudWxsLCAiZmlsbCI6IHRydWUsICJmaWxsQ29sb3IiOiAiYmx1ZSIsICJmaWxsT3BhY2l0eSI6IDAuNiwgImZpbGxSdWxlIjogImV2ZW5vZGQiLCAibGluZUNhcCI6ICJyb3VuZCIsICJsaW5lSm9pbiI6ICJyb3VuZCIsICJvcGFjaXR5IjogMS4wLCAicmFkaXVzIjogNSwgInN0cm9rZSI6IHRydWUsICJ3ZWlnaHQiOiAzfQogICAgICAgICAgICApLmFkZFRvKGZlYXR1cmVfZ3JvdXBfMjE4OTZiYjI5OTkxNDc3ZDgzN2E4MTZlM2FlYTU2Y2MpOwogICAgICAgIAogICAgCiAgICAgICAgICAgIHZhciBjaXJjbGVfbWFya2VyXzJlNGJhNWYzNDcwYjQzZGM5MGE5N2E0NGRmNjA5MjQyID0gTC5jaXJjbGVNYXJrZXIoCiAgICAgICAgICAgICAgICBbMzcuNzQwNzM2MDU0ODM1NzksIC0xMjIuMzg4NzUzMDQ2OTk3XSwKICAgICAgICAgICAgICAgIHsiYnViYmxpbmdNb3VzZUV2ZW50cyI6IHRydWUsICJjb2xvciI6ICJ5ZWxsb3ciLCAiZGFzaEFycmF5IjogbnVsbCwgImRhc2hPZmZzZXQiOiBudWxsLCAiZmlsbCI6IHRydWUsICJmaWxsQ29sb3IiOiAiYmx1ZSIsICJmaWxsT3BhY2l0eSI6IDAuNiwgImZpbGxSdWxlIjogImV2ZW5vZGQiLCAibGluZUNhcCI6ICJyb3VuZCIsICJsaW5lSm9pbiI6ICJyb3VuZCIsICJvcGFjaXR5IjogMS4wLCAicmFkaXVzIjogNSwgInN0cm9rZSI6IHRydWUsICJ3ZWlnaHQiOiAzfQogICAgICAgICAgICApLmFkZFRvKGZlYXR1cmVfZ3JvdXBfMjE4OTZiYjI5OTkxNDc3ZDgzN2E4MTZlM2FlYTU2Y2MpOwogICAgICAgIAogICAgCiAgICAgICAgICAgIHZhciBjaXJjbGVfbWFya2VyX2VmMDg0N2Q3M2M4MDRhNWU5ZDdhOGFjZjNjYTczZGY0ID0gTC5jaXJjbGVNYXJrZXIoCiAgICAgICAgICAgICAgICBbMzcuNzc0OTkxMjk0NDM2NiwgLTEyMi40Mzc3OTk3MDM0NjhdLAogICAgICAgICAgICAgICAgeyJidWJibGluZ01vdXNlRXZlbnRzIjogdHJ1ZSwgImNvbG9yIjogInllbGxvdyIsICJkYXNoQXJyYXkiOiBudWxsLCAiZGFzaE9mZnNldCI6IG51bGwsICJmaWxsIjogdHJ1ZSwgImZpbGxDb2xvciI6ICJibHVlIiwgImZpbGxPcGFjaXR5IjogMC42LCAiZmlsbFJ1bGUiOiAiZXZlbm9kZCIsICJsaW5lQ2FwIjogInJvdW5kIiwgImxpbmVKb2luIjogInJvdW5kIiwgIm9wYWNpdHkiOiAxLjAsICJyYWRpdXMiOiA1LCAic3Ryb2tlIjogdHJ1ZSwgIndlaWdodCI6IDN9CiAgICAgICAgICAgICkuYWRkVG8oZmVhdHVyZV9ncm91cF8yMTg5NmJiMjk5OTE0NzdkODM3YTgxNmUzYWVhNTZjYyk7CiAgICAgICAgCiAgICAKICAgICAgICAgICAgdmFyIGNpcmNsZV9tYXJrZXJfMjI3NDI1Mzk0ODdiNDEwYzhiNWViN2I0OGRmYmNiMzggPSBMLmNpcmNsZU1hcmtlcigKICAgICAgICAgICAgICAgIFszNy43NzcwOTAyNzQzNjY5LCAtMTIyLjQyMTMzMjY4NDYzM10sCiAgICAgICAgICAgICAgICB7ImJ1YmJsaW5nTW91c2VFdmVudHMiOiB0cnVlLCAiY29sb3IiOiAieWVsbG93IiwgImRhc2hBcnJheSI6IG51bGwsICJkYXNoT2Zmc2V0IjogbnVsbCwgImZpbGwiOiB0cnVlLCAiZmlsbENvbG9yIjogImJsdWUiLCAiZmlsbE9wYWNpdHkiOiAwLjYsICJmaWxsUnVsZSI6ICJldmVub2RkIiwgImxpbmVDYXAiOiAicm91bmQiLCAibGluZUpvaW4iOiAicm91bmQiLCAib3BhY2l0eSI6IDEuMCwgInJhZGl1cyI6IDUsICJzdHJva2UiOiB0cnVlLCAid2VpZ2h0IjogM30KICAgICAgICAgICAgKS5hZGRUbyhmZWF0dXJlX2dyb3VwXzIxODk2YmIyOTk5MTQ3N2Q4MzdhODE2ZTNhZWE1NmNjKTsKICAgICAgICAKICAgIAogICAgICAgICAgICB2YXIgY2lyY2xlX21hcmtlcl8yZmQ3ZDYyZTMyYjE0ZWJlOTYwNTFhMTNjMjgwN2VmZiA9IEwuY2lyY2xlTWFya2VyKAogICAgICAgICAgICAgICAgWzM3Ljc3NzA5MDI3NDM2NjksIC0xMjIuNDIxMzMyNjg0NjMzXSwKICAgICAgICAgICAgICAgIHsiYnViYmxpbmdNb3VzZUV2ZW50cyI6IHRydWUsICJjb2xvciI6ICJ5ZWxsb3ciLCAiZGFzaEFycmF5IjogbnVsbCwgImRhc2hPZmZzZXQiOiBudWxsLCAiZmlsbCI6IHRydWUsICJmaWxsQ29sb3IiOiAiYmx1ZSIsICJmaWxsT3BhY2l0eSI6IDAuNiwgImZpbGxSdWxlIjogImV2ZW5vZGQiLCAibGluZUNhcCI6ICJyb3VuZCIsICJsaW5lSm9pbiI6ICJyb3VuZCIsICJvcGFjaXR5IjogMS4wLCAicmFkaXVzIjogNSwgInN0cm9rZSI6IHRydWUsICJ3ZWlnaHQiOiAzfQogICAgICAgICAgICApLmFkZFRvKGZlYXR1cmVfZ3JvdXBfMjE4OTZiYjI5OTkxNDc3ZDgzN2E4MTZlM2FlYTU2Y2MpOwogICAgICAgIAogICAgCiAgICAgICAgICAgIHZhciBjaXJjbGVfbWFya2VyXzA5MTgzYzAwMzQwYjRkZWNhYjdiNDJhZWQ1YTEyODNjID0gTC5jaXJjbGVNYXJrZXIoCiAgICAgICAgICAgICAgICBbMzcuNzgyMjQ1ODIyMzkxNywgLTEyMi40NDY2MTI5Nzg4MzldLAogICAgICAgICAgICAgICAgeyJidWJibGluZ01vdXNlRXZlbnRzIjogdHJ1ZSwgImNvbG9yIjogInllbGxvdyIsICJkYXNoQXJyYXkiOiBudWxsLCAiZGFzaE9mZnNldCI6IG51bGwsICJmaWxsIjogdHJ1ZSwgImZpbGxDb2xvciI6ICJibHVlIiwgImZpbGxPcGFjaXR5IjogMC42LCAiZmlsbFJ1bGUiOiAiZXZlbm9kZCIsICJsaW5lQ2FwIjogInJvdW5kIiwgImxpbmVKb2luIjogInJvdW5kIiwgIm9wYWNpdHkiOiAxLjAsICJyYWRpdXMiOiA1LCAic3Ryb2tlIjogdHJ1ZSwgIndlaWdodCI6IDN9CiAgICAgICAgICAgICkuYWRkVG8oZmVhdHVyZV9ncm91cF8yMTg5NmJiMjk5OTE0NzdkODM3YTgxNmUzYWVhNTZjYyk7CiAgICAgICAgCiAgICAKICAgICAgICAgICAgdmFyIGNpcmNsZV9tYXJrZXJfZDM1NmVlZmJjMmE3NDdkMmFkZmYyY2EyYjI3M2U1ZDkgPSBMLmNpcmNsZU1hcmtlcigKICAgICAgICAgICAgICAgIFszNy43MzAwMzc5OTk1MTI3OTUsIC0xMjIuNDA0NTk0MTQwNjM0XSwKICAgICAgICAgICAgICAgIHsiYnViYmxpbmdNb3VzZUV2ZW50cyI6IHRydWUsICJjb2xvciI6ICJ5ZWxsb3ciLCAiZGFzaEFycmF5IjogbnVsbCwgImRhc2hPZmZzZXQiOiBudWxsLCAiZmlsbCI6IHRydWUsICJmaWxsQ29sb3IiOiAiYmx1ZSIsICJmaWxsT3BhY2l0eSI6IDAuNiwgImZpbGxSdWxlIjogImV2ZW5vZGQiLCAibGluZUNhcCI6ICJyb3VuZCIsICJsaW5lSm9pbiI6ICJyb3VuZCIsICJvcGFjaXR5IjogMS4wLCAicmFkaXVzIjogNSwgInN0cm9rZSI6IHRydWUsICJ3ZWlnaHQiOiAzfQogICAgICAgICAgICApLmFkZFRvKGZlYXR1cmVfZ3JvdXBfMjE4OTZiYjI5OTkxNDc3ZDgzN2E4MTZlM2FlYTU2Y2MpOwogICAgICAgIAogICAgCiAgICAgICAgICAgIHZhciBjaXJjbGVfbWFya2VyXzEyZDhjYTA1MjA5ZDRkYmE5NDBjODNkYjZjYmM2ZDM2ID0gTC5jaXJjbGVNYXJrZXIoCiAgICAgICAgICAgICAgICBbMzcuNzk1MzMzODI2NzQzNiwgLTEyMi4zOTczNzM3NDAwNjZdLAogICAgICAgICAgICAgICAgeyJidWJibGluZ01vdXNlRXZlbnRzIjogdHJ1ZSwgImNvbG9yIjogInllbGxvdyIsICJkYXNoQXJyYXkiOiBudWxsLCAiZGFzaE9mZnNldCI6IG51bGwsICJmaWxsIjogdHJ1ZSwgImZpbGxDb2xvciI6ICJibHVlIiwgImZpbGxPcGFjaXR5IjogMC42LCAiZmlsbFJ1bGUiOiAiZXZlbm9kZCIsICJsaW5lQ2FwIjogInJvdW5kIiwgImxpbmVKb2luIjogInJvdW5kIiwgIm9wYWNpdHkiOiAxLjAsICJyYWRpdXMiOiA1LCAic3Ryb2tlIjogdHJ1ZSwgIndlaWdodCI6IDN9CiAgICAgICAgICAgICkuYWRkVG8oZmVhdHVyZV9ncm91cF8yMTg5NmJiMjk5OTE0NzdkODM3YTgxNmUzYWVhNTZjYyk7CiAgICAgICAgCiAgICAKICAgICAgICAgICAgdmFyIGNpcmNsZV9tYXJrZXJfNzcxYzg2ZTFmZjFlNGU4MmE0YzEwZmQxZjFkZjFlYzAgPSBMLmNpcmNsZU1hcmtlcigKICAgICAgICAgICAgICAgIFszNy43ODc1MTU4NzQxNjIyOTUsIC0xMjIuNDA3NDM0OTg5NTIzXSwKICAgICAgICAgICAgICAgIHsiYnViYmxpbmdNb3VzZUV2ZW50cyI6IHRydWUsICJjb2xvciI6ICJ5ZWxsb3ciLCAiZGFzaEFycmF5IjogbnVsbCwgImRhc2hPZmZzZXQiOiBudWxsLCAiZmlsbCI6IHRydWUsICJmaWxsQ29sb3IiOiAiYmx1ZSIsICJmaWxsT3BhY2l0eSI6IDAuNiwgImZpbGxSdWxlIjogImV2ZW5vZGQiLCAibGluZUNhcCI6ICJyb3VuZCIsICJsaW5lSm9pbiI6ICJyb3VuZCIsICJvcGFjaXR5IjogMS4wLCAicmFkaXVzIjogNSwgInN0cm9rZSI6IHRydWUsICJ3ZWlnaHQiOiAzfQogICAgICAgICAgICApLmFkZFRvKGZlYXR1cmVfZ3JvdXBfMjE4OTZiYjI5OTkxNDc3ZDgzN2E4MTZlM2FlYTU2Y2MpOwogICAgICAgIAogICAgCiAgICAgICAgICAgIHZhciBjaXJjbGVfbWFya2VyXzUwYWM1MjNmYzFkZTQ5NDNhODY2ZjBkYmJmY2U0OWI1ID0gTC5jaXJjbGVNYXJrZXIoCiAgICAgICAgICAgICAgICBbMzcuNzc4NTIzMzc3NjAzMiwgLTEyMi40MDM0NjQwODAwMzNdLAogICAgICAgICAgICAgICAgeyJidWJibGluZ01vdXNlRXZlbnRzIjogdHJ1ZSwgImNvbG9yIjogInllbGxvdyIsICJkYXNoQXJyYXkiOiBudWxsLCAiZGFzaE9mZnNldCI6IG51bGwsICJmaWxsIjogdHJ1ZSwgImZpbGxDb2xvciI6ICJibHVlIiwgImZpbGxPcGFjaXR5IjogMC42LCAiZmlsbFJ1bGUiOiAiZXZlbm9kZCIsICJsaW5lQ2FwIjogInJvdW5kIiwgImxpbmVKb2luIjogInJvdW5kIiwgIm9wYWNpdHkiOiAxLjAsICJyYWRpdXMiOiA1LCAic3Ryb2tlIjogdHJ1ZSwgIndlaWdodCI6IDN9CiAgICAgICAgICAgICkuYWRkVG8oZmVhdHVyZV9ncm91cF8yMTg5NmJiMjk5OTE0NzdkODM3YTgxNmUzYWVhNTZjYyk7CiAgICAgICAgCiAgICAKICAgICAgICAgICAgdmFyIGNpcmNsZV9tYXJrZXJfNWRkMzM5OTM1YTYwNGVhMzk1OWY0NDM1M2Q5MjZkMmQgPSBMLmNpcmNsZU1hcmtlcigKICAgICAgICAgICAgICAgIFszNy43Nzg1MjMzNzc2MDMyLCAtMTIyLjQwMzQ2NDA4MDAzM10sCiAgICAgICAgICAgICAgICB7ImJ1YmJsaW5nTW91c2VFdmVudHMiOiB0cnVlLCAiY29sb3IiOiAieWVsbG93IiwgImRhc2hBcnJheSI6IG51bGwsICJkYXNoT2Zmc2V0IjogbnVsbCwgImZpbGwiOiB0cnVlLCAiZmlsbENvbG9yIjogImJsdWUiLCAiZmlsbE9wYWNpdHkiOiAwLjYsICJmaWxsUnVsZSI6ICJldmVub2RkIiwgImxpbmVDYXAiOiAicm91bmQiLCAibGluZUpvaW4iOiAicm91bmQiLCAib3BhY2l0eSI6IDEuMCwgInJhZGl1cyI6IDUsICJzdHJva2UiOiB0cnVlLCAid2VpZ2h0IjogM30KICAgICAgICAgICAgKS5hZGRUbyhmZWF0dXJlX2dyb3VwXzIxODk2YmIyOTk5MTQ3N2Q4MzdhODE2ZTNhZWE1NmNjKTsKICAgICAgICAKICAgIAogICAgICAgICAgICB2YXIgY2lyY2xlX21hcmtlcl9hN2ZjOTJiZWM1Mjg0YzU5YmY4ODExZWE1MzA4OWJlNSA9IEwuY2lyY2xlTWFya2VyKAogICAgICAgICAgICAgICAgWzM3Ljc3MzI5MTgwNjkwMjk5NiwgLTEyMi40MzY2MTQxODEzMzEwMV0sCiAgICAgICAgICAgICAgICB7ImJ1YmJsaW5nTW91c2VFdmVudHMiOiB0cnVlLCAiY29sb3IiOiAieWVsbG93IiwgImRhc2hBcnJheSI6IG51bGwsICJkYXNoT2Zmc2V0IjogbnVsbCwgImZpbGwiOiB0cnVlLCAiZmlsbENvbG9yIjogImJsdWUiLCAiZmlsbE9wYWNpdHkiOiAwLjYsICJmaWxsUnVsZSI6ICJldmVub2RkIiwgImxpbmVDYXAiOiAicm91bmQiLCAibGluZUpvaW4iOiAicm91bmQiLCAib3BhY2l0eSI6IDEuMCwgInJhZGl1cyI6IDUsICJzdHJva2UiOiB0cnVlLCAid2VpZ2h0IjogM30KICAgICAgICAgICAgKS5hZGRUbyhmZWF0dXJlX2dyb3VwXzIxODk2YmIyOTk5MTQ3N2Q4MzdhODE2ZTNhZWE1NmNjKTsKICAgICAgICAKICAgIAogICAgICAgICAgICB2YXIgY2lyY2xlX21hcmtlcl9iZGM3OGI4NTI0ZWE0YTEwODBiMmM1MDVlYzUwODU4YyA9IEwuY2lyY2xlTWFya2VyKAogICAgICAgICAgICAgICAgWzM3Ljc4MDUyNzU3ODUwOSwgLTEyMi4zOTY4NDkwMTUxNzIwMV0sCiAgICAgICAgICAgICAgICB7ImJ1YmJsaW5nTW91c2VFdmVudHMiOiB0cnVlLCAiY29sb3IiOiAieWVsbG93IiwgImRhc2hBcnJheSI6IG51bGwsICJkYXNoT2Zmc2V0IjogbnVsbCwgImZpbGwiOiB0cnVlLCAiZmlsbENvbG9yIjogImJsdWUiLCAiZmlsbE9wYWNpdHkiOiAwLjYsICJmaWxsUnVsZSI6ICJldmVub2RkIiwgImxpbmVDYXAiOiAicm91bmQiLCAibGluZUpvaW4iOiAicm91bmQiLCAib3BhY2l0eSI6IDEuMCwgInJhZGl1cyI6IDUsICJzdHJva2UiOiB0cnVlLCAid2VpZ2h0IjogM30KICAgICAgICAgICAgKS5hZGRUbyhmZWF0dXJlX2dyb3VwXzIxODk2YmIyOTk5MTQ3N2Q4MzdhODE2ZTNhZWE1NmNjKTsKICAgICAgICAKICAgIAogICAgICAgICAgICB2YXIgY2lyY2xlX21hcmtlcl9jMmEyNTUxN2RhOGM0NzVlYTcxZTZmZTQwODgzNmNiNiA9IEwuY2lyY2xlTWFya2VyKAogICAgICAgICAgICAgICAgWzM3Ljc4MDUyNzU3ODUwOSwgLTEyMi4zOTY4NDkwMTUxNzIwMV0sCiAgICAgICAgICAgICAgICB7ImJ1YmJsaW5nTW91c2VFdmVudHMiOiB0cnVlLCAiY29sb3IiOiAieWVsbG93IiwgImRhc2hBcnJheSI6IG51bGwsICJkYXNoT2Zmc2V0IjogbnVsbCwgImZpbGwiOiB0cnVlLCAiZmlsbENvbG9yIjogImJsdWUiLCAiZmlsbE9wYWNpdHkiOiAwLjYsICJmaWxsUnVsZSI6ICJldmVub2RkIiwgImxpbmVDYXAiOiAicm91bmQiLCAibGluZUpvaW4iOiAicm91bmQiLCAib3BhY2l0eSI6IDEuMCwgInJhZGl1cyI6IDUsICJzdHJva2UiOiB0cnVlLCAid2VpZ2h0IjogM30KICAgICAgICAgICAgKS5hZGRUbyhmZWF0dXJlX2dyb3VwXzIxODk2YmIyOTk5MTQ3N2Q4MzdhODE2ZTNhZWE1NmNjKTsKICAgICAgICAKICAgIAogICAgICAgICAgICB2YXIgY2lyY2xlX21hcmtlcl8wOTNiZWViOGYxYjU0OGI3YTYzZmFlYmQ3N2U1N2M5OSA9IEwuY2lyY2xlTWFya2VyKAogICAgICAgICAgICAgICAgWzM3LjcyODQxODA3MDY2MDIwNCwgLTEyMi40NTAwMDA3OTA0NDVdLAogICAgICAgICAgICAgICAgeyJidWJibGluZ01vdXNlRXZlbnRzIjogdHJ1ZSwgImNvbG9yIjogInllbGxvdyIsICJkYXNoQXJyYXkiOiBudWxsLCAiZGFzaE9mZnNldCI6IG51bGwsICJmaWxsIjogdHJ1ZSwgImZpbGxDb2xvciI6ICJibHVlIiwgImZpbGxPcGFjaXR5IjogMC42LCAiZmlsbFJ1bGUiOiAiZXZlbm9kZCIsICJsaW5lQ2FwIjogInJvdW5kIiwgImxpbmVKb2luIjogInJvdW5kIiwgIm9wYWNpdHkiOiAxLjAsICJyYWRpdXMiOiA1LCAic3Ryb2tlIjogdHJ1ZSwgIndlaWdodCI6IDN9CiAgICAgICAgICAgICkuYWRkVG8oZmVhdHVyZV9ncm91cF8yMTg5NmJiMjk5OTE0NzdkODM3YTgxNmUzYWVhNTZjYyk7CiAgICAgICAgCiAgICAKICAgICAgICAgICAgdmFyIGNpcmNsZV9tYXJrZXJfZTA1MmMwZmQ5MTc2NDE5Njk3ZmZkMzM0NGQ0YmE5M2YgPSBMLmNpcmNsZU1hcmtlcigKICAgICAgICAgICAgICAgIFszNy43MjkyMTE0NjQ3MzU5LCAtMTIyLjQwMDgzNDI4MzAzMV0sCiAgICAgICAgICAgICAgICB7ImJ1YmJsaW5nTW91c2VFdmVudHMiOiB0cnVlLCAiY29sb3IiOiAieWVsbG93IiwgImRhc2hBcnJheSI6IG51bGwsICJkYXNoT2Zmc2V0IjogbnVsbCwgImZpbGwiOiB0cnVlLCAiZmlsbENvbG9yIjogImJsdWUiLCAiZmlsbE9wYWNpdHkiOiAwLjYsICJmaWxsUnVsZSI6ICJldmVub2RkIiwgImxpbmVDYXAiOiAicm91bmQiLCAibGluZUpvaW4iOiAicm91bmQiLCAib3BhY2l0eSI6IDEuMCwgInJhZGl1cyI6IDUsICJzdHJva2UiOiB0cnVlLCAid2VpZ2h0IjogM30KICAgICAgICAgICAgKS5hZGRUbyhmZWF0dXJlX2dyb3VwXzIxODk2YmIyOTk5MTQ3N2Q4MzdhODE2ZTNhZWE1NmNjKTsKICAgICAgICAKICAgIAogICAgICAgICAgICB2YXIgY2lyY2xlX21hcmtlcl9mZDViOTRmZGMxMmQ0YmZiYmEzNTg5YTRlNDJkOTU1MCA9IEwuY2lyY2xlTWFya2VyKAogICAgICAgICAgICAgICAgWzM3Ljc4ODAwNjUzMjQzOTIwNSwgLTEyMi4zOTk4MDIxNDU3OTldLAogICAgICAgICAgICAgICAgeyJidWJibGluZ01vdXNlRXZlbnRzIjogdHJ1ZSwgImNvbG9yIjogInllbGxvdyIsICJkYXNoQXJyYXkiOiBudWxsLCAiZGFzaE9mZnNldCI6IG51bGwsICJmaWxsIjogdHJ1ZSwgImZpbGxDb2xvciI6ICJibHVlIiwgImZpbGxPcGFjaXR5IjogMC42LCAiZmlsbFJ1bGUiOiAiZXZlbm9kZCIsICJsaW5lQ2FwIjogInJvdW5kIiwgImxpbmVKb2luIjogInJvdW5kIiwgIm9wYWNpdHkiOiAxLjAsICJyYWRpdXMiOiA1LCAic3Ryb2tlIjogdHJ1ZSwgIndlaWdodCI6IDN9CiAgICAgICAgICAgICkuYWRkVG8oZmVhdHVyZV9ncm91cF8yMTg5NmJiMjk5OTE0NzdkODM3YTgxNmUzYWVhNTZjYyk7CiAgICAgICAgCiAgICAKICAgICAgICAgICAgdmFyIGNpcmNsZV9tYXJrZXJfOWYwNWYwMmQ4ZTU5NDk3MmFiM2IxN2M2MWEzM2Y0ZjAgPSBMLmNpcmNsZU1hcmtlcigKICAgICAgICAgICAgICAgIFszNy43MjM5NzQ4MjQxNjA5LCAtMTIyLjM5NDkyODQ3NThdLAogICAgICAgICAgICAgICAgeyJidWJibGluZ01vdXNlRXZlbnRzIjogdHJ1ZSwgImNvbG9yIjogInllbGxvdyIsICJkYXNoQXJyYXkiOiBudWxsLCAiZGFzaE9mZnNldCI6IG51bGwsICJmaWxsIjogdHJ1ZSwgImZpbGxDb2xvciI6ICJibHVlIiwgImZpbGxPcGFjaXR5IjogMC42LCAiZmlsbFJ1bGUiOiAiZXZlbm9kZCIsICJsaW5lQ2FwIjogInJvdW5kIiwgImxpbmVKb2luIjogInJvdW5kIiwgIm9wYWNpdHkiOiAxLjAsICJyYWRpdXMiOiA1LCAic3Ryb2tlIjogdHJ1ZSwgIndlaWdodCI6IDN9CiAgICAgICAgICAgICkuYWRkVG8oZmVhdHVyZV9ncm91cF8yMTg5NmJiMjk5OTE0NzdkODM3YTgxNmUzYWVhNTZjYyk7CiAgICAgICAgCiAgICAKICAgICAgICAgICAgdmFyIGNpcmNsZV9tYXJrZXJfNTIxY2M2NWYwNjMwNGQ3M2E1YTA1YTc5Y2EwYTY2NWIgPSBMLmNpcmNsZU1hcmtlcigKICAgICAgICAgICAgICAgIFszNy43MjM5NzQ4MjQxNjA5LCAtMTIyLjM5NDkyODQ3NThdLAogICAgICAgICAgICAgICAgeyJidWJibGluZ01vdXNlRXZlbnRzIjogdHJ1ZSwgImNvbG9yIjogInllbGxvdyIsICJkYXNoQXJyYXkiOiBudWxsLCAiZGFzaE9mZnNldCI6IG51bGwsICJmaWxsIjogdHJ1ZSwgImZpbGxDb2xvciI6ICJibHVlIiwgImZpbGxPcGFjaXR5IjogMC42LCAiZmlsbFJ1bGUiOiAiZXZlbm9kZCIsICJsaW5lQ2FwIjogInJvdW5kIiwgImxpbmVKb2luIjogInJvdW5kIiwgIm9wYWNpdHkiOiAxLjAsICJyYWRpdXMiOiA1LCAic3Ryb2tlIjogdHJ1ZSwgIndlaWdodCI6IDN9CiAgICAgICAgICAgICkuYWRkVG8oZmVhdHVyZV9ncm91cF8yMTg5NmJiMjk5OTE0NzdkODM3YTgxNmUzYWVhNTZjYyk7CiAgICAgICAgCiAgICAKICAgICAgICAgICAgdmFyIGNpcmNsZV9tYXJrZXJfMDkwMzUyNzFlMmRmNDkwYzhhZGI3M2E5NzJlOWYyYmEgPSBMLmNpcmNsZU1hcmtlcigKICAgICAgICAgICAgICAgIFszNy43MjM5NzQ4MjQxNjA5LCAtMTIyLjM5NDkyODQ3NThdLAogICAgICAgICAgICAgICAgeyJidWJibGluZ01vdXNlRXZlbnRzIjogdHJ1ZSwgImNvbG9yIjogInllbGxvdyIsICJkYXNoQXJyYXkiOiBudWxsLCAiZGFzaE9mZnNldCI6IG51bGwsICJmaWxsIjogdHJ1ZSwgImZpbGxDb2xvciI6ICJibHVlIiwgImZpbGxPcGFjaXR5IjogMC42LCAiZmlsbFJ1bGUiOiAiZXZlbm9kZCIsICJsaW5lQ2FwIjogInJvdW5kIiwgImxpbmVKb2luIjogInJvdW5kIiwgIm9wYWNpdHkiOiAxLjAsICJyYWRpdXMiOiA1LCAic3Ryb2tlIjogdHJ1ZSwgIndlaWdodCI6IDN9CiAgICAgICAgICAgICkuYWRkVG8oZmVhdHVyZV9ncm91cF8yMTg5NmJiMjk5OTE0NzdkODM3YTgxNmUzYWVhNTZjYyk7CiAgICAgICAgCiAgICAKICAgICAgICAgICAgdmFyIGNpcmNsZV9tYXJrZXJfMDg3NWNkNmI5Y2MzNGIxZmE2YjQ2NzMzMmUwZjgxNGEgPSBMLmNpcmNsZU1hcmtlcigKICAgICAgICAgICAgICAgIFszNy43ODgzMjM1NDQ5OTA0LCAtMTIyLjQxMTg1NzAzMjU0XSwKICAgICAgICAgICAgICAgIHsiYnViYmxpbmdNb3VzZUV2ZW50cyI6IHRydWUsICJjb2xvciI6ICJ5ZWxsb3ciLCAiZGFzaEFycmF5IjogbnVsbCwgImRhc2hPZmZzZXQiOiBudWxsLCAiZmlsbCI6IHRydWUsICJmaWxsQ29sb3IiOiAiYmx1ZSIsICJmaWxsT3BhY2l0eSI6IDAuNiwgImZpbGxSdWxlIjogImV2ZW5vZGQiLCAibGluZUNhcCI6ICJyb3VuZCIsICJsaW5lSm9pbiI6ICJyb3VuZCIsICJvcGFjaXR5IjogMS4wLCAicmFkaXVzIjogNSwgInN0cm9rZSI6IHRydWUsICJ3ZWlnaHQiOiAzfQogICAgICAgICAgICApLmFkZFRvKGZlYXR1cmVfZ3JvdXBfMjE4OTZiYjI5OTkxNDc3ZDgzN2E4MTZlM2FlYTU2Y2MpOwogICAgICAgIAogICAgCiAgICAgICAgICAgIHZhciBjaXJjbGVfbWFya2VyXzJkMDhjYzZhZGZhMjQ1Nzg4NDg3ZjBmNjFmNzQ1MGM2ID0gTC5jaXJjbGVNYXJrZXIoCiAgICAgICAgICAgICAgICBbMzcuNzU1OTk3NzMzOTg1NiwgLTEyMi40MDk0MzU2MTcxMDZdLAogICAgICAgICAgICAgICAgeyJidWJibGluZ01vdXNlRXZlbnRzIjogdHJ1ZSwgImNvbG9yIjogInllbGxvdyIsICJkYXNoQXJyYXkiOiBudWxsLCAiZGFzaE9mZnNldCI6IG51bGwsICJmaWxsIjogdHJ1ZSwgImZpbGxDb2xvciI6ICJibHVlIiwgImZpbGxPcGFjaXR5IjogMC42LCAiZmlsbFJ1bGUiOiAiZXZlbm9kZCIsICJsaW5lQ2FwIjogInJvdW5kIiwgImxpbmVKb2luIjogInJvdW5kIiwgIm9wYWNpdHkiOiAxLjAsICJyYWRpdXMiOiA1LCAic3Ryb2tlIjogdHJ1ZSwgIndlaWdodCI6IDN9CiAgICAgICAgICAgICkuYWRkVG8oZmVhdHVyZV9ncm91cF8yMTg5NmJiMjk5OTE0NzdkODM3YTgxNmUzYWVhNTZjYyk7CiAgICAgICAgCiAgICAKICAgICAgICAgICAgdmFyIGNpcmNsZV9tYXJrZXJfZmEyNzg4ZDQxZTUyNGUxOTg0MGQ3N2FkMGIwYzEzZmUgPSBMLmNpcmNsZU1hcmtlcigKICAgICAgICAgICAgICAgIFszNy43ODcwNzk4MTQ0NDQzLCAtMTIyLjQyNTg4MzM1ODE0OF0sCiAgICAgICAgICAgICAgICB7ImJ1YmJsaW5nTW91c2VFdmVudHMiOiB0cnVlLCAiY29sb3IiOiAieWVsbG93IiwgImRhc2hBcnJheSI6IG51bGwsICJkYXNoT2Zmc2V0IjogbnVsbCwgImZpbGwiOiB0cnVlLCAiZmlsbENvbG9yIjogImJsdWUiLCAiZmlsbE9wYWNpdHkiOiAwLjYsICJmaWxsUnVsZSI6ICJldmVub2RkIiwgImxpbmVDYXAiOiAicm91bmQiLCAibGluZUpvaW4iOiAicm91bmQiLCAib3BhY2l0eSI6IDEuMCwgInJhZGl1cyI6IDUsICJzdHJva2UiOiB0cnVlLCAid2VpZ2h0IjogM30KICAgICAgICAgICAgKS5hZGRUbyhmZWF0dXJlX2dyb3VwXzIxODk2YmIyOTk5MTQ3N2Q4MzdhODE2ZTNhZWE1NmNjKTsKICAgICAgICAKICAgIAogICAgICAgICAgICB2YXIgY2lyY2xlX21hcmtlcl80ZTljYjU5ZDQyMjg0YjBmOTk3ODFkNGVlZjY2ZjRlNiA9IEwuY2lyY2xlTWFya2VyKAogICAgICAgICAgICAgICAgWzM3LjczNjAzNzQ0NjY4NjIwNCwgLTEyMi40MTUxMjY1NDMwMDEwMV0sCiAgICAgICAgICAgICAgICB7ImJ1YmJsaW5nTW91c2VFdmVudHMiOiB0cnVlLCAiY29sb3IiOiAieWVsbG93IiwgImRhc2hBcnJheSI6IG51bGwsICJkYXNoT2Zmc2V0IjogbnVsbCwgImZpbGwiOiB0cnVlLCAiZmlsbENvbG9yIjogImJsdWUiLCAiZmlsbE9wYWNpdHkiOiAwLjYsICJmaWxsUnVsZSI6ICJldmVub2RkIiwgImxpbmVDYXAiOiAicm91bmQiLCAibGluZUpvaW4iOiAicm91bmQiLCAib3BhY2l0eSI6IDEuMCwgInJhZGl1cyI6IDUsICJzdHJva2UiOiB0cnVlLCAid2VpZ2h0IjogM30KICAgICAgICAgICAgKS5hZGRUbyhmZWF0dXJlX2dyb3VwXzIxODk2YmIyOTk5MTQ3N2Q4MzdhODE2ZTNhZWE1NmNjKTsKICAgICAgICAKICAgIAogICAgICAgICAgICB2YXIgY2lyY2xlX21hcmtlcl85OGY0MmNjY2I5YzE0ZWY5YjA1NWQwOWZkZmFlMWM1MiA9IEwuY2lyY2xlTWFya2VyKAogICAgICAgICAgICAgICAgWzM3LjcxMjc2Nzg4NDgyMSwgLTEyMi40MzE5MjgwMTEwODldLAogICAgICAgICAgICAgICAgeyJidWJibGluZ01vdXNlRXZlbnRzIjogdHJ1ZSwgImNvbG9yIjogInllbGxvdyIsICJkYXNoQXJyYXkiOiBudWxsLCAiZGFzaE9mZnNldCI6IG51bGwsICJmaWxsIjogdHJ1ZSwgImZpbGxDb2xvciI6ICJibHVlIiwgImZpbGxPcGFjaXR5IjogMC42LCAiZmlsbFJ1bGUiOiAiZXZlbm9kZCIsICJsaW5lQ2FwIjogInJvdW5kIiwgImxpbmVKb2luIjogInJvdW5kIiwgIm9wYWNpdHkiOiAxLjAsICJyYWRpdXMiOiA1LCAic3Ryb2tlIjogdHJ1ZSwgIndlaWdodCI6IDN9CiAgICAgICAgICAgICkuYWRkVG8oZmVhdHVyZV9ncm91cF8yMTg5NmJiMjk5OTE0NzdkODM3YTgxNmUzYWVhNTZjYyk7CiAgICAgICAgCiAgICAKICAgICAgICAgICAgdmFyIGNpcmNsZV9tYXJrZXJfZTkyZDcxY2NjNzc0NDUxMjk5ODNjM2RiMWRiYWI1MzggPSBMLmNpcmNsZU1hcmtlcigKICAgICAgICAgICAgICAgIFszNy43ODk1NzEwMjU1ODYzLCAtMTIyLjQwMjE2MzcxMzYxOF0sCiAgICAgICAgICAgICAgICB7ImJ1YmJsaW5nTW91c2VFdmVudHMiOiB0cnVlLCAiY29sb3IiOiAieWVsbG93IiwgImRhc2hBcnJheSI6IG51bGwsICJkYXNoT2Zmc2V0IjogbnVsbCwgImZpbGwiOiB0cnVlLCAiZmlsbENvbG9yIjogImJsdWUiLCAiZmlsbE9wYWNpdHkiOiAwLjYsICJmaWxsUnVsZSI6ICJldmVub2RkIiwgImxpbmVDYXAiOiAicm91bmQiLCAibGluZUpvaW4iOiAicm91bmQiLCAib3BhY2l0eSI6IDEuMCwgInJhZGl1cyI6IDUsICJzdHJva2UiOiB0cnVlLCAid2VpZ2h0IjogM30KICAgICAgICAgICAgKS5hZGRUbyhmZWF0dXJlX2dyb3VwXzIxODk2YmIyOTk5MTQ3N2Q4MzdhODE2ZTNhZWE1NmNjKTsKICAgICAgICAKICAgIAogICAgICAgICAgICB2YXIgY2lyY2xlX21hcmtlcl9jNjFmMzI3ZjZlNWE0ZDFiYWE2ZjFhODczODUzNjk5MSA9IEwuY2lyY2xlTWFya2VyKAogICAgICAgICAgICAgICAgWzM3LjczMDc0MjkxNjk1NTksIC0xMjIuNDI5MzA2NzI4Mzc2XSwKICAgICAgICAgICAgICAgIHsiYnViYmxpbmdNb3VzZUV2ZW50cyI6IHRydWUsICJjb2xvciI6ICJ5ZWxsb3ciLCAiZGFzaEFycmF5IjogbnVsbCwgImRhc2hPZmZzZXQiOiBudWxsLCAiZmlsbCI6IHRydWUsICJmaWxsQ29sb3IiOiAiYmx1ZSIsICJmaWxsT3BhY2l0eSI6IDAuNiwgImZpbGxSdWxlIjogImV2ZW5vZGQiLCAibGluZUNhcCI6ICJyb3VuZCIsICJsaW5lSm9pbiI6ICJyb3VuZCIsICJvcGFjaXR5IjogMS4wLCAicmFkaXVzIjogNSwgInN0cm9rZSI6IHRydWUsICJ3ZWlnaHQiOiAzfQogICAgICAgICAgICApLmFkZFRvKGZlYXR1cmVfZ3JvdXBfMjE4OTZiYjI5OTkxNDc3ZDgzN2E4MTZlM2FlYTU2Y2MpOwogICAgICAgIAogICAgCiAgICAgICAgICAgIHZhciBjaXJjbGVfbWFya2VyXzMwNzhiMGVhN2NlNDQxYjViYzE1MjkyY2U3YTFjYTIxID0gTC5jaXJjbGVNYXJrZXIoCiAgICAgICAgICAgICAgICBbMzcuNzgzODM2NTU2NTM0Nzk0LCAtMTIyLjQxMzc5MDk3Mjc4MDk5XSwKICAgICAgICAgICAgICAgIHsiYnViYmxpbmdNb3VzZUV2ZW50cyI6IHRydWUsICJjb2xvciI6ICJ5ZWxsb3ciLCAiZGFzaEFycmF5IjogbnVsbCwgImRhc2hPZmZzZXQiOiBudWxsLCAiZmlsbCI6IHRydWUsICJmaWxsQ29sb3IiOiAiYmx1ZSIsICJmaWxsT3BhY2l0eSI6IDAuNiwgImZpbGxSdWxlIjogImV2ZW5vZGQiLCAibGluZUNhcCI6ICJyb3VuZCIsICJsaW5lSm9pbiI6ICJyb3VuZCIsICJvcGFjaXR5IjogMS4wLCAicmFkaXVzIjogNSwgInN0cm9rZSI6IHRydWUsICJ3ZWlnaHQiOiAzfQogICAgICAgICAgICApLmFkZFRvKGZlYXR1cmVfZ3JvdXBfMjE4OTZiYjI5OTkxNDc3ZDgzN2E4MTZlM2FlYTU2Y2MpOwogICAgICAgIAogICAgCiAgICAgICAgICAgIHZhciBjaXJjbGVfbWFya2VyX2ZkMTdiYmE4N2E3OTQ2ZDVhYzUzYTNiYzRhOWI1YjI3ID0gTC5jaXJjbGVNYXJrZXIoCiAgICAgICAgICAgICAgICBbMzcuNzMwNzQyOTE2OTU1OSwgLTEyMi40MjkzMDY3MjgzNzZdLAogICAgICAgICAgICAgICAgeyJidWJibGluZ01vdXNlRXZlbnRzIjogdHJ1ZSwgImNvbG9yIjogInllbGxvdyIsICJkYXNoQXJyYXkiOiBudWxsLCAiZGFzaE9mZnNldCI6IG51bGwsICJmaWxsIjogdHJ1ZSwgImZpbGxDb2xvciI6ICJibHVlIiwgImZpbGxPcGFjaXR5IjogMC42LCAiZmlsbFJ1bGUiOiAiZXZlbm9kZCIsICJsaW5lQ2FwIjogInJvdW5kIiwgImxpbmVKb2luIjogInJvdW5kIiwgIm9wYWNpdHkiOiAxLjAsICJyYWRpdXMiOiA1LCAic3Ryb2tlIjogdHJ1ZSwgIndlaWdodCI6IDN9CiAgICAgICAgICAgICkuYWRkVG8oZmVhdHVyZV9ncm91cF8yMTg5NmJiMjk5OTE0NzdkODM3YTgxNmUzYWVhNTZjYyk7CiAgICAgICAgCiAgICAKICAgICAgICAgICAgdmFyIGNpcmNsZV9tYXJrZXJfZGM1N2JhMWQzOGZjNDUxZmFmZjcwOWY4MDQ3NzYyOGYgPSBMLmNpcmNsZU1hcmtlcigKICAgICAgICAgICAgICAgIFszNy43MzczNjIzNjA1MjEyOTYsIC0xMjIuNDIyMDY3MTg0OTM3XSwKICAgICAgICAgICAgICAgIHsiYnViYmxpbmdNb3VzZUV2ZW50cyI6IHRydWUsICJjb2xvciI6ICJ5ZWxsb3ciLCAiZGFzaEFycmF5IjogbnVsbCwgImRhc2hPZmZzZXQiOiBudWxsLCAiZmlsbCI6IHRydWUsICJmaWxsQ29sb3IiOiAiYmx1ZSIsICJmaWxsT3BhY2l0eSI6IDAuNiwgImZpbGxSdWxlIjogImV2ZW5vZGQiLCAibGluZUNhcCI6ICJyb3VuZCIsICJsaW5lSm9pbiI6ICJyb3VuZCIsICJvcGFjaXR5IjogMS4wLCAicmFkaXVzIjogNSwgInN0cm9rZSI6IHRydWUsICJ3ZWlnaHQiOiAzfQogICAgICAgICAgICApLmFkZFRvKGZlYXR1cmVfZ3JvdXBfMjE4OTZiYjI5OTkxNDc3ZDgzN2E4MTZlM2FlYTU2Y2MpOwogICAgICAgIAogICAgCiAgICAgICAgICAgIHZhciBjaXJjbGVfbWFya2VyXzg3MWYyOTAyMjQ0NjQ0YmJhNzE0NTRlZTUzZmMyNmJlID0gTC5jaXJjbGVNYXJrZXIoCiAgICAgICAgICAgICAgICBbMzcuNzM3MzYyMzYwNTIxMjk2LCAtMTIyLjQyMjA2NzE4NDkzN10sCiAgICAgICAgICAgICAgICB7ImJ1YmJsaW5nTW91c2VFdmVudHMiOiB0cnVlLCAiY29sb3IiOiAieWVsbG93IiwgImRhc2hBcnJheSI6IG51bGwsICJkYXNoT2Zmc2V0IjogbnVsbCwgImZpbGwiOiB0cnVlLCAiZmlsbENvbG9yIjogImJsdWUiLCAiZmlsbE9wYWNpdHkiOiAwLjYsICJmaWxsUnVsZSI6ICJldmVub2RkIiwgImxpbmVDYXAiOiAicm91bmQiLCAibGluZUpvaW4iOiAicm91bmQiLCAib3BhY2l0eSI6IDEuMCwgInJhZGl1cyI6IDUsICJzdHJva2UiOiB0cnVlLCAid2VpZ2h0IjogM30KICAgICAgICAgICAgKS5hZGRUbyhmZWF0dXJlX2dyb3VwXzIxODk2YmIyOTk5MTQ3N2Q4MzdhODE2ZTNhZWE1NmNjKTsKICAgICAgICAKICAgIAogICAgICAgICAgICB2YXIgY2lyY2xlX21hcmtlcl82OWVjMzBmNDExNTQ0ODRjYWM1NDRlNDFkZGMyZjQzYyA9IEwuY2lyY2xlTWFya2VyKAogICAgICAgICAgICAgICAgWzM3Ljc4NTk5ODgzMjM3OTc5NiwgLTEyMi40MTE3NDczNzE5MjRdLAogICAgICAgICAgICAgICAgeyJidWJibGluZ01vdXNlRXZlbnRzIjogdHJ1ZSwgImNvbG9yIjogInllbGxvdyIsICJkYXNoQXJyYXkiOiBudWxsLCAiZGFzaE9mZnNldCI6IG51bGwsICJmaWxsIjogdHJ1ZSwgImZpbGxDb2xvciI6ICJibHVlIiwgImZpbGxPcGFjaXR5IjogMC42LCAiZmlsbFJ1bGUiOiAiZXZlbm9kZCIsICJsaW5lQ2FwIjogInJvdW5kIiwgImxpbmVKb2luIjogInJvdW5kIiwgIm9wYWNpdHkiOiAxLjAsICJyYWRpdXMiOiA1LCAic3Ryb2tlIjogdHJ1ZSwgIndlaWdodCI6IDN9CiAgICAgICAgICAgICkuYWRkVG8oZmVhdHVyZV9ncm91cF8yMTg5NmJiMjk5OTE0NzdkODM3YTgxNmUzYWVhNTZjYyk7CiAgICAgICAgCiAgICAKICAgICAgICAgICAgdmFyIGNpcmNsZV9tYXJrZXJfNzFhMTM4MWJhMmJlNDg5NWE3MjBiMTVmNGY4MTYxOWYgPSBMLmNpcmNsZU1hcmtlcigKICAgICAgICAgICAgICAgIFszNy43NjMzNzU4MDU4MDU5LCAtMTIyLjQyMDQzNDcyNDU1Mjk5XSwKICAgICAgICAgICAgICAgIHsiYnViYmxpbmdNb3VzZUV2ZW50cyI6IHRydWUsICJjb2xvciI6ICJ5ZWxsb3ciLCAiZGFzaEFycmF5IjogbnVsbCwgImRhc2hPZmZzZXQiOiBudWxsLCAiZmlsbCI6IHRydWUsICJmaWxsQ29sb3IiOiAiYmx1ZSIsICJmaWxsT3BhY2l0eSI6IDAuNiwgImZpbGxSdWxlIjogImV2ZW5vZGQiLCAibGluZUNhcCI6ICJyb3VuZCIsICJsaW5lSm9pbiI6ICJyb3VuZCIsICJvcGFjaXR5IjogMS4wLCAicmFkaXVzIjogNSwgInN0cm9rZSI6IHRydWUsICJ3ZWlnaHQiOiAzfQogICAgICAgICAgICApLmFkZFRvKGZlYXR1cmVfZ3JvdXBfMjE4OTZiYjI5OTkxNDc3ZDgzN2E4MTZlM2FlYTU2Y2MpOwogICAgICAgIAogICAgCiAgICAgICAgICAgIHZhciBjaXJjbGVfbWFya2VyXzhiMDdiYzEwMzU0ODQzODk5ZWY0MWE5MjIwNTQ5ZTAzID0gTC5jaXJjbGVNYXJrZXIoCiAgICAgICAgICAgICAgICBbMzcuNzg1MDIyNjYyMjc4NiwgLTEyMi40MTE5ODc2NDM1OTUwMV0sCiAgICAgICAgICAgICAgICB7ImJ1YmJsaW5nTW91c2VFdmVudHMiOiB0cnVlLCAiY29sb3IiOiAieWVsbG93IiwgImRhc2hBcnJheSI6IG51bGwsICJkYXNoT2Zmc2V0IjogbnVsbCwgImZpbGwiOiB0cnVlLCAiZmlsbENvbG9yIjogImJsdWUiLCAiZmlsbE9wYWNpdHkiOiAwLjYsICJmaWxsUnVsZSI6ICJldmVub2RkIiwgImxpbmVDYXAiOiAicm91bmQiLCAibGluZUpvaW4iOiAicm91bmQiLCAib3BhY2l0eSI6IDEuMCwgInJhZGl1cyI6IDUsICJzdHJva2UiOiB0cnVlLCAid2VpZ2h0IjogM30KICAgICAgICAgICAgKS5hZGRUbyhmZWF0dXJlX2dyb3VwXzIxODk2YmIyOTk5MTQ3N2Q4MzdhODE2ZTNhZWE1NmNjKTsKICAgICAgICAKICAgIAogICAgICAgICAgICB2YXIgY2lyY2xlX21hcmtlcl9hZWIyMGVhNDJjM2I0NzdhYTI2MGU5Mjg3YmM3ODcyZCA9IEwuY2lyY2xlTWFya2VyKAogICAgICAgICAgICAgICAgWzM3Ljc3NDYyMDY0OTEwNjQ5NSwgLTEyMi41MDAzODA0Mjc5MTVdLAogICAgICAgICAgICAgICAgeyJidWJibGluZ01vdXNlRXZlbnRzIjogdHJ1ZSwgImNvbG9yIjogInllbGxvdyIsICJkYXNoQXJyYXkiOiBudWxsLCAiZGFzaE9mZnNldCI6IG51bGwsICJmaWxsIjogdHJ1ZSwgImZpbGxDb2xvciI6ICJibHVlIiwgImZpbGxPcGFjaXR5IjogMC42LCAiZmlsbFJ1bGUiOiAiZXZlbm9kZCIsICJsaW5lQ2FwIjogInJvdW5kIiwgImxpbmVKb2luIjogInJvdW5kIiwgIm9wYWNpdHkiOiAxLjAsICJyYWRpdXMiOiA1LCAic3Ryb2tlIjogdHJ1ZSwgIndlaWdodCI6IDN9CiAgICAgICAgICAgICkuYWRkVG8oZmVhdHVyZV9ncm91cF8yMTg5NmJiMjk5OTE0NzdkODM3YTgxNmUzYWVhNTZjYyk7CiAgICAgICAgCiAgICAKICAgICAgICAgICAgdmFyIGNpcmNsZV9tYXJrZXJfYTUzZjNlMDNkYWNiNDZhOWFhMzU1NTI4ZTRiOWY2ODkgPSBMLmNpcmNsZU1hcmtlcigKICAgICAgICAgICAgICAgIFszNy43NzUxOTE4MjY3MjE3LCAtMTIyLjQ2NjU1ODc4MDY4M10sCiAgICAgICAgICAgICAgICB7ImJ1YmJsaW5nTW91c2VFdmVudHMiOiB0cnVlLCAiY29sb3IiOiAieWVsbG93IiwgImRhc2hBcnJheSI6IG51bGwsICJkYXNoT2Zmc2V0IjogbnVsbCwgImZpbGwiOiB0cnVlLCAiZmlsbENvbG9yIjogImJsdWUiLCAiZmlsbE9wYWNpdHkiOiAwLjYsICJmaWxsUnVsZSI6ICJldmVub2RkIiwgImxpbmVDYXAiOiAicm91bmQiLCAibGluZUpvaW4iOiAicm91bmQiLCAib3BhY2l0eSI6IDEuMCwgInJhZGl1cyI6IDUsICJzdHJva2UiOiB0cnVlLCAid2VpZ2h0IjogM30KICAgICAgICAgICAgKS5hZGRUbyhmZWF0dXJlX2dyb3VwXzIxODk2YmIyOTk5MTQ3N2Q4MzdhODE2ZTNhZWE1NmNjKTsKICAgICAgICAKICAgIAogICAgICAgICAgICB2YXIgY2lyY2xlX21hcmtlcl80MWI5MDY5MjdiYWY0YjcxOWQ0YjZiZTU1ZTQxOTIzZiA9IEwuY2lyY2xlTWFya2VyKAogICAgICAgICAgICAgICAgWzM3Ljc0OTA4NDE3MjkwMjgsIC0xMjIuNDg2OTI1OTYwMTE0MDFdLAogICAgICAgICAgICAgICAgeyJidWJibGluZ01vdXNlRXZlbnRzIjogdHJ1ZSwgImNvbG9yIjogInllbGxvdyIsICJkYXNoQXJyYXkiOiBudWxsLCAiZGFzaE9mZnNldCI6IG51bGwsICJmaWxsIjogdHJ1ZSwgImZpbGxDb2xvciI6ICJibHVlIiwgImZpbGxPcGFjaXR5IjogMC42LCAiZmlsbFJ1bGUiOiAiZXZlbm9kZCIsICJsaW5lQ2FwIjogInJvdW5kIiwgImxpbmVKb2luIjogInJvdW5kIiwgIm9wYWNpdHkiOiAxLjAsICJyYWRpdXMiOiA1LCAic3Ryb2tlIjogdHJ1ZSwgIndlaWdodCI6IDN9CiAgICAgICAgICAgICkuYWRkVG8oZmVhdHVyZV9ncm91cF8yMTg5NmJiMjk5OTE0NzdkODM3YTgxNmUzYWVhNTZjYyk7CiAgICAgICAgCiAgICAKICAgICAgICAgICAgdmFyIGNpcmNsZV9tYXJrZXJfNGFkODE2NTkwM2M3NDc0NzllYTUyYmU3ODg0M2QzMjEgPSBMLmNpcmNsZU1hcmtlcigKICAgICAgICAgICAgICAgIFszNy43Njg1MzYwMTIzNTgzLCAtMTIyLjQxNTYxNjMzODMxOTk5XSwKICAgICAgICAgICAgICAgIHsiYnViYmxpbmdNb3VzZUV2ZW50cyI6IHRydWUsICJjb2xvciI6ICJ5ZWxsb3ciLCAiZGFzaEFycmF5IjogbnVsbCwgImRhc2hPZmZzZXQiOiBudWxsLCAiZmlsbCI6IHRydWUsICJmaWxsQ29sb3IiOiAiYmx1ZSIsICJmaWxsT3BhY2l0eSI6IDAuNiwgImZpbGxSdWxlIjogImV2ZW5vZGQiLCAibGluZUNhcCI6ICJyb3VuZCIsICJsaW5lSm9pbiI6ICJyb3VuZCIsICJvcGFjaXR5IjogMS4wLCAicmFkaXVzIjogNSwgInN0cm9rZSI6IHRydWUsICJ3ZWlnaHQiOiAzfQogICAgICAgICAgICApLmFkZFRvKGZlYXR1cmVfZ3JvdXBfMjE4OTZiYjI5OTkxNDc3ZDgzN2E4MTZlM2FlYTU2Y2MpOwogICAgICAgIAogICAgCiAgICAgICAgICAgIHZhciBjaXJjbGVfbWFya2VyX2JkZTA4ZGI2ZTRhMTQzODNhYzYzY2EyMDdjNzU3ODkyID0gTC5jaXJjbGVNYXJrZXIoCiAgICAgICAgICAgICAgICBbMzcuNzY0NDI5NzcxNDA3NCwgLTEyMi40NDk3NTE2NTI1NjNdLAogICAgICAgICAgICAgICAgeyJidWJibGluZ01vdXNlRXZlbnRzIjogdHJ1ZSwgImNvbG9yIjogInllbGxvdyIsICJkYXNoQXJyYXkiOiBudWxsLCAiZGFzaE9mZnNldCI6IG51bGwsICJmaWxsIjogdHJ1ZSwgImZpbGxDb2xvciI6ICJibHVlIiwgImZpbGxPcGFjaXR5IjogMC42LCAiZmlsbFJ1bGUiOiAiZXZlbm9kZCIsICJsaW5lQ2FwIjogInJvdW5kIiwgImxpbmVKb2luIjogInJvdW5kIiwgIm9wYWNpdHkiOiAxLjAsICJyYWRpdXMiOiA1LCAic3Ryb2tlIjogdHJ1ZSwgIndlaWdodCI6IDN9CiAgICAgICAgICAgICkuYWRkVG8oZmVhdHVyZV9ncm91cF8yMTg5NmJiMjk5OTE0NzdkODM3YTgxNmUzYWVhNTZjYyk7CiAgICAgICAgCiAgICAKICAgICAgICAgICAgdmFyIGNpcmNsZV9tYXJrZXJfYzg0ZmEzYTkxNDRmNDNjMWIwOGFjZWJkNzUwMzhhNWYgPSBMLmNpcmNsZU1hcmtlcigKICAgICAgICAgICAgICAgIFszNy43NjQ0Mjk3NzE0MDc0LCAtMTIyLjQ0OTc1MTY1MjU2M10sCiAgICAgICAgICAgICAgICB7ImJ1YmJsaW5nTW91c2VFdmVudHMiOiB0cnVlLCAiY29sb3IiOiAieWVsbG93IiwgImRhc2hBcnJheSI6IG51bGwsICJkYXNoT2Zmc2V0IjogbnVsbCwgImZpbGwiOiB0cnVlLCAiZmlsbENvbG9yIjogImJsdWUiLCAiZmlsbE9wYWNpdHkiOiAwLjYsICJmaWxsUnVsZSI6ICJldmVub2RkIiwgImxpbmVDYXAiOiAicm91bmQiLCAibGluZUpvaW4iOiAicm91bmQiLCAib3BhY2l0eSI6IDEuMCwgInJhZGl1cyI6IDUsICJzdHJva2UiOiB0cnVlLCAid2VpZ2h0IjogM30KICAgICAgICAgICAgKS5hZGRUbyhmZWF0dXJlX2dyb3VwXzIxODk2YmIyOTk5MTQ3N2Q4MzdhODE2ZTNhZWE1NmNjKTsKICAgICAgICAKICAgIAogICAgICAgICAgICB2YXIgY2lyY2xlX21hcmtlcl8wNGNjYmMyYzJlNDA0M2FjOWU1YzljMWFkNjJmNmY3NSA9IEwuY2lyY2xlTWFya2VyKAogICAgICAgICAgICAgICAgWzM3LjczNTI2ODE0NjkwODM5NiwgLTEyMi40NzI3MTU3NTk2MzFdLAogICAgICAgICAgICAgICAgeyJidWJibGluZ01vdXNlRXZlbnRzIjogdHJ1ZSwgImNvbG9yIjogInllbGxvdyIsICJkYXNoQXJyYXkiOiBudWxsLCAiZGFzaE9mZnNldCI6IG51bGwsICJmaWxsIjogdHJ1ZSwgImZpbGxDb2xvciI6ICJibHVlIiwgImZpbGxPcGFjaXR5IjogMC42LCAiZmlsbFJ1bGUiOiAiZXZlbm9kZCIsICJsaW5lQ2FwIjogInJvdW5kIiwgImxpbmVKb2luIjogInJvdW5kIiwgIm9wYWNpdHkiOiAxLjAsICJyYWRpdXMiOiA1LCAic3Ryb2tlIjogdHJ1ZSwgIndlaWdodCI6IDN9CiAgICAgICAgICAgICkuYWRkVG8oZmVhdHVyZV9ncm91cF8yMTg5NmJiMjk5OTE0NzdkODM3YTgxNmUzYWVhNTZjYyk7CiAgICAgICAgCjwvc2NyaXB0Pg==\" style=\"position:absolute;width:100%;height:100%;left:0;top:0;border:none !important;\" allowfullscreen webkitallowfullscreen mozallowfullscreen></iframe></div></div>"
      ],
      "text/plain": [
       "<folium.folium.Map at 0x1ddd0275488>"
      ]
     },
     "execution_count": 217,
     "metadata": {},
     "output_type": "execute_result"
    }
   ],
   "source": [
    "# instantiate a feature group for the incidents in the dataframe\n",
    "incidents_place = folium.map.FeatureGroup()\n",
    "\n",
    "# loop through the 100 crimes and add each to the incidents feature group\n",
    "for lat, lng, in zip(incidents.Y, incidents.X):\n",
    "    incidents_place.add_child(\n",
    "        folium.CircleMarker(\n",
    "            [lat, lng],\n",
    "            radius=5, # define how big you want the circle markers to be\n",
    "            color='yellow',\n",
    "            fill=True,\n",
    "            fill_color='blue',\n",
    "            fill_opacity=0.6\n",
    "        )\n",
    "    )\n",
    "\n",
    "\n",
    "# add pop-up text to each marker on the map\n",
    "latitudes = list(incidents.Y)\n",
    "longitudes = list(incidents.X)\n",
    "labels = list(incidents.Category)\n",
    "\n",
    "for lat, lng, label in zip(latitudes, longitudes, labels):\n",
    "    folium.Marker([lat, lng], popup=label).add_to(sanfran_map)       \n",
    "\n",
    "# add incidents to map\n",
    "sanfran_map.add_child(incidents_place)"
   ]
  },
  {
   "cell_type": "markdown",
   "metadata": {},
   "source": [
    "### Another visualization method is to group the markers in different clusters.<br>\n",
    "### Each cluster is then represented by the number of crimes in each neighborhood."
   ]
  },
  {
   "cell_type": "code",
   "execution_count": 218,
   "metadata": {},
   "outputs": [
    {
     "data": {
      "text/html": [
       "\n",
       "        <script src=\"/static/components/requirejs/require.js\"></script>\n",
       "        <script>\n",
       "          requirejs.config({\n",
       "            paths: {\n",
       "              base: '/static/base',\n",
       "              plotly: 'https://cdn.plot.ly/plotly-latest.min.js?noext',\n",
       "            },\n",
       "          });\n",
       "        </script>\n",
       "        "
      ],
      "text/plain": [
       "<IPython.core.display.HTML object>"
      ]
     },
     "metadata": {},
     "output_type": "display_data"
    },
    {
     "data": {
      "text/html": [
       "\n",
       "        <script src=\"/static/components/requirejs/require.js\"></script>\n",
       "        <script>\n",
       "          requirejs.config({\n",
       "            paths: {\n",
       "              base: '/static/base',\n",
       "              plotly: 'https://cdn.plot.ly/plotly-latest.min.js?noext',\n",
       "            },\n",
       "          });\n",
       "        </script>\n",
       "        "
      ],
      "text/plain": [
       "<IPython.core.display.HTML object>"
      ]
     },
     "metadata": {},
     "output_type": "display_data"
    },
    {
     "data": {
      "text/html": [
       "\n",
       "        <script src=\"/static/components/requirejs/require.js\"></script>\n",
       "        <script>\n",
       "          requirejs.config({\n",
       "            paths: {\n",
       "              base: '/static/base',\n",
       "              plotly: 'https://cdn.plot.ly/plotly-latest.min.js?noext',\n",
       "            },\n",
       "          });\n",
       "        </script>\n",
       "        "
      ],
      "text/plain": [
       "<IPython.core.display.HTML object>"
      ]
     },
     "metadata": {},
     "output_type": "display_data"
    },
    {
     "data": {
      "text/html": [
       "\n",
       "        <script src=\"/static/components/requirejs/require.js\"></script>\n",
       "        <script>\n",
       "          requirejs.config({\n",
       "            paths: {\n",
       "              base: '/static/base',\n",
       "              plotly: 'https://cdn.plot.ly/plotly-latest.min.js?noext',\n",
       "            },\n",
       "          });\n",
       "        </script>\n",
       "        "
      ],
      "text/plain": [
       "<IPython.core.display.HTML object>"
      ]
     },
     "metadata": {},
     "output_type": "display_data"
    },
    {
     "data": {
      "text/html": [
       "\n",
       "        <script src=\"/static/components/requirejs/require.js\"></script>\n",
       "        <script>\n",
       "          requirejs.config({\n",
       "            paths: {\n",
       "              base: '/static/base',\n",
       "              plotly: 'https://cdn.plot.ly/plotly-latest.min.js?noext',\n",
       "            },\n",
       "          });\n",
       "        </script>\n",
       "        "
      ],
      "text/plain": [
       "<IPython.core.display.HTML object>"
      ]
     },
     "metadata": {},
     "output_type": "display_data"
    },
    {
     "data": {
      "text/html": [
       "\n",
       "        <script src=\"/static/components/requirejs/require.js\"></script>\n",
       "        <script>\n",
       "          requirejs.config({\n",
       "            paths: {\n",
       "              base: '/static/base',\n",
       "              plotly: 'https://cdn.plot.ly/plotly-latest.min.js?noext',\n",
       "            },\n",
       "          });\n",
       "        </script>\n",
       "        "
      ],
      "text/plain": [
       "<IPython.core.display.HTML object>"
      ]
     },
     "metadata": {},
     "output_type": "display_data"
    },
    {
     "data": {
      "text/html": [
       "\n",
       "        <script src=\"/static/components/requirejs/require.js\"></script>\n",
       "        <script>\n",
       "          requirejs.config({\n",
       "            paths: {\n",
       "              base: '/static/base',\n",
       "              plotly: 'https://cdn.plot.ly/plotly-latest.min.js?noext',\n",
       "            },\n",
       "          });\n",
       "        </script>\n",
       "        "
      ],
      "text/plain": [
       "<IPython.core.display.HTML object>"
      ]
     },
     "metadata": {},
     "output_type": "display_data"
    },
    {
     "data": {
      "text/html": [
       "\n",
       "        <script src=\"/static/components/requirejs/require.js\"></script>\n",
       "        <script>\n",
       "          requirejs.config({\n",
       "            paths: {\n",
       "              base: '/static/base',\n",
       "              plotly: 'https://cdn.plot.ly/plotly-latest.min.js?noext',\n",
       "            },\n",
       "          });\n",
       "        </script>\n",
       "        "
      ],
      "text/plain": [
       "<IPython.core.display.HTML object>"
      ]
     },
     "metadata": {},
     "output_type": "display_data"
    },
    {
     "data": {
      "text/html": [
       "\n",
       "        <script src=\"/static/components/requirejs/require.js\"></script>\n",
       "        <script>\n",
       "          requirejs.config({\n",
       "            paths: {\n",
       "              base: '/static/base',\n",
       "              plotly: 'https://cdn.plot.ly/plotly-latest.min.js?noext',\n",
       "            },\n",
       "          });\n",
       "        </script>\n",
       "        "
      ],
      "text/plain": [
       "<IPython.core.display.HTML object>"
      ]
     },
     "metadata": {},
     "output_type": "display_data"
    },
    {
     "data": {
      "text/html": [
       "\n",
       "        <script src=\"/static/components/requirejs/require.js\"></script>\n",
       "        <script>\n",
       "          requirejs.config({\n",
       "            paths: {\n",
       "              base: '/static/base',\n",
       "              plotly: 'https://cdn.plot.ly/plotly-latest.min.js?noext',\n",
       "            },\n",
       "          });\n",
       "        </script>\n",
       "        "
      ],
      "text/plain": [
       "<IPython.core.display.HTML object>"
      ]
     },
     "metadata": {},
     "output_type": "display_data"
    },
    {
     "data": {
      "text/html": [
       "\n",
       "        <script src=\"/static/components/requirejs/require.js\"></script>\n",
       "        <script>\n",
       "          requirejs.config({\n",
       "            paths: {\n",
       "              base: '/static/base',\n",
       "              plotly: 'https://cdn.plot.ly/plotly-latest.min.js?noext',\n",
       "            },\n",
       "          });\n",
       "        </script>\n",
       "        "
      ],
      "text/plain": [
       "<IPython.core.display.HTML object>"
      ]
     },
     "metadata": {},
     "output_type": "display_data"
    },
    {
     "data": {
      "text/html": [
       "\n",
       "        <script src=\"/static/components/requirejs/require.js\"></script>\n",
       "        <script>\n",
       "          requirejs.config({\n",
       "            paths: {\n",
       "              base: '/static/base',\n",
       "              plotly: 'https://cdn.plot.ly/plotly-latest.min.js?noext',\n",
       "            },\n",
       "          });\n",
       "        </script>\n",
       "        "
      ],
      "text/plain": [
       "<IPython.core.display.HTML object>"
      ]
     },
     "metadata": {},
     "output_type": "display_data"
    },
    {
     "data": {
      "text/html": [
       "\n",
       "        <script src=\"/static/components/requirejs/require.js\"></script>\n",
       "        <script>\n",
       "          requirejs.config({\n",
       "            paths: {\n",
       "              base: '/static/base',\n",
       "              plotly: 'https://cdn.plot.ly/plotly-latest.min.js?noext',\n",
       "            },\n",
       "          });\n",
       "        </script>\n",
       "        "
      ],
      "text/plain": [
       "<IPython.core.display.HTML object>"
      ]
     },
     "metadata": {},
     "output_type": "display_data"
    },
    {
     "data": {
      "text/html": [
       "\n",
       "        <script src=\"/static/components/requirejs/require.js\"></script>\n",
       "        <script>\n",
       "          requirejs.config({\n",
       "            paths: {\n",
       "              base: '/static/base',\n",
       "              plotly: 'https://cdn.plot.ly/plotly-latest.min.js?noext',\n",
       "            },\n",
       "          });\n",
       "        </script>\n",
       "        "
      ],
      "text/plain": [
       "<IPython.core.display.HTML object>"
      ]
     },
     "metadata": {},
     "output_type": "display_data"
    },
    {
     "data": {
      "text/html": [
       "<div style=\"width:100%;\"><div style=\"position:relative;width:100%;height:0;padding-bottom:60%;\"><iframe src=\"data:text/html;charset=utf-8;base64,PCFET0NUWVBFIGh0bWw+CjxoZWFkPiAgICAKICAgIDxtZXRhIGh0dHAtZXF1aXY9ImNvbnRlbnQtdHlwZSIgY29udGVudD0idGV4dC9odG1sOyBjaGFyc2V0PVVURi04IiAvPgogICAgCiAgICAgICAgPHNjcmlwdD4KICAgICAgICAgICAgTF9OT19UT1VDSCA9IGZhbHNlOwogICAgICAgICAgICBMX0RJU0FCTEVfM0QgPSBmYWxzZTsKICAgICAgICA8L3NjcmlwdD4KICAgIAogICAgPHNjcmlwdCBzcmM9Imh0dHBzOi8vY2RuLmpzZGVsaXZyLm5ldC9ucG0vbGVhZmxldEAxLjUuMS9kaXN0L2xlYWZsZXQuanMiPjwvc2NyaXB0PgogICAgPHNjcmlwdCBzcmM9Imh0dHBzOi8vY29kZS5qcXVlcnkuY29tL2pxdWVyeS0xLjEyLjQubWluLmpzIj48L3NjcmlwdD4KICAgIDxzY3JpcHQgc3JjPSJodHRwczovL21heGNkbi5ib290c3RyYXBjZG4uY29tL2Jvb3RzdHJhcC8zLjIuMC9qcy9ib290c3RyYXAubWluLmpzIj48L3NjcmlwdD4KICAgIDxzY3JpcHQgc3JjPSJodHRwczovL2NkbmpzLmNsb3VkZmxhcmUuY29tL2FqYXgvbGlicy9MZWFmbGV0LmF3ZXNvbWUtbWFya2Vycy8yLjAuMi9sZWFmbGV0LmF3ZXNvbWUtbWFya2Vycy5qcyI+PC9zY3JpcHQ+CiAgICA8bGluayByZWw9InN0eWxlc2hlZXQiIGhyZWY9Imh0dHBzOi8vY2RuLmpzZGVsaXZyLm5ldC9ucG0vbGVhZmxldEAxLjUuMS9kaXN0L2xlYWZsZXQuY3NzIi8+CiAgICA8bGluayByZWw9InN0eWxlc2hlZXQiIGhyZWY9Imh0dHBzOi8vbWF4Y2RuLmJvb3RzdHJhcGNkbi5jb20vYm9vdHN0cmFwLzMuMi4wL2Nzcy9ib290c3RyYXAubWluLmNzcyIvPgogICAgPGxpbmsgcmVsPSJzdHlsZXNoZWV0IiBocmVmPSJodHRwczovL21heGNkbi5ib290c3RyYXBjZG4uY29tL2Jvb3RzdHJhcC8zLjIuMC9jc3MvYm9vdHN0cmFwLXRoZW1lLm1pbi5jc3MiLz4KICAgIDxsaW5rIHJlbD0ic3R5bGVzaGVldCIgaHJlZj0iaHR0cHM6Ly9tYXhjZG4uYm9vdHN0cmFwY2RuLmNvbS9mb250LWF3ZXNvbWUvNC42LjMvY3NzL2ZvbnQtYXdlc29tZS5taW4uY3NzIi8+CiAgICA8bGluayByZWw9InN0eWxlc2hlZXQiIGhyZWY9Imh0dHBzOi8vY2RuanMuY2xvdWRmbGFyZS5jb20vYWpheC9saWJzL0xlYWZsZXQuYXdlc29tZS1tYXJrZXJzLzIuMC4yL2xlYWZsZXQuYXdlc29tZS1tYXJrZXJzLmNzcyIvPgogICAgPGxpbmsgcmVsPSJzdHlsZXNoZWV0IiBocmVmPSJodHRwczovL3Jhd2Nkbi5naXRoYWNrLmNvbS9weXRob24tdmlzdWFsaXphdGlvbi9mb2xpdW0vbWFzdGVyL2ZvbGl1bS90ZW1wbGF0ZXMvbGVhZmxldC5hd2Vzb21lLnJvdGF0ZS5jc3MiLz4KICAgIDxzdHlsZT5odG1sLCBib2R5IHt3aWR0aDogMTAwJTtoZWlnaHQ6IDEwMCU7bWFyZ2luOiAwO3BhZGRpbmc6IDA7fTwvc3R5bGU+CiAgICA8c3R5bGU+I21hcCB7cG9zaXRpb246YWJzb2x1dGU7dG9wOjA7Ym90dG9tOjA7cmlnaHQ6MDtsZWZ0OjA7fTwvc3R5bGU+CiAgICAKICAgICAgICAgICAgPG1ldGEgbmFtZT0idmlld3BvcnQiIGNvbnRlbnQ9IndpZHRoPWRldmljZS13aWR0aCwKICAgICAgICAgICAgICAgIGluaXRpYWwtc2NhbGU9MS4wLCBtYXhpbXVtLXNjYWxlPTEuMCwgdXNlci1zY2FsYWJsZT1ubyIgLz4KICAgICAgICAgICAgPHN0eWxlPgogICAgICAgICAgICAgICAgI21hcF84ZGI4MmIwM2NiMGU0YjAzYTAyNmZlOTc0YWVlMGRiNyB7CiAgICAgICAgICAgICAgICAgICAgcG9zaXRpb246IHJlbGF0aXZlOwogICAgICAgICAgICAgICAgICAgIHdpZHRoOiAxMDAuMCU7CiAgICAgICAgICAgICAgICAgICAgaGVpZ2h0OiAxMDAuMCU7CiAgICAgICAgICAgICAgICAgICAgbGVmdDogMC4wJTsKICAgICAgICAgICAgICAgICAgICB0b3A6IDAuMCU7CiAgICAgICAgICAgICAgICB9CiAgICAgICAgICAgIDwvc3R5bGU+CiAgICAgICAgCiAgICA8c2NyaXB0IHNyYz0iaHR0cHM6Ly9jZG5qcy5jbG91ZGZsYXJlLmNvbS9hamF4L2xpYnMvbGVhZmxldC5tYXJrZXJjbHVzdGVyLzEuMS4wL2xlYWZsZXQubWFya2VyY2x1c3Rlci5qcyI+PC9zY3JpcHQ+CiAgICA8bGluayByZWw9InN0eWxlc2hlZXQiIGhyZWY9Imh0dHBzOi8vY2RuanMuY2xvdWRmbGFyZS5jb20vYWpheC9saWJzL2xlYWZsZXQubWFya2VyY2x1c3Rlci8xLjEuMC9NYXJrZXJDbHVzdGVyLmNzcyIvPgogICAgPGxpbmsgcmVsPSJzdHlsZXNoZWV0IiBocmVmPSJodHRwczovL2NkbmpzLmNsb3VkZmxhcmUuY29tL2FqYXgvbGlicy9sZWFmbGV0Lm1hcmtlcmNsdXN0ZXIvMS4xLjAvTWFya2VyQ2x1c3Rlci5EZWZhdWx0LmNzcyIvPgo8L2hlYWQ+Cjxib2R5PiAgICAKICAgIAogICAgICAgICAgICA8ZGl2IGNsYXNzPSJmb2xpdW0tbWFwIiBpZD0ibWFwXzhkYjgyYjAzY2IwZTRiMDNhMDI2ZmU5NzRhZWUwZGI3IiA+PC9kaXY+CiAgICAgICAgCjwvYm9keT4KPHNjcmlwdD4gICAgCiAgICAKICAgICAgICAgICAgdmFyIG1hcF84ZGI4MmIwM2NiMGU0YjAzYTAyNmZlOTc0YWVlMGRiNyA9IEwubWFwKAogICAgICAgICAgICAgICAgIm1hcF84ZGI4MmIwM2NiMGU0YjAzYTAyNmZlOTc0YWVlMGRiNyIsCiAgICAgICAgICAgICAgICB7CiAgICAgICAgICAgICAgICAgICAgY2VudGVyOiBbMzcuNzcsIC0xMjIuNDJdLAogICAgICAgICAgICAgICAgICAgIGNyczogTC5DUlMuRVBTRzM4NTcsCiAgICAgICAgICAgICAgICAgICAgem9vbTogMTIsCiAgICAgICAgICAgICAgICAgICAgem9vbUNvbnRyb2w6IHRydWUsCiAgICAgICAgICAgICAgICAgICAgcHJlZmVyQ2FudmFzOiBmYWxzZSwKICAgICAgICAgICAgICAgIH0KICAgICAgICAgICAgKTsKCiAgICAgICAgICAgIAoKICAgICAgICAKICAgIAogICAgICAgICAgICB2YXIgdGlsZV9sYXllcl9kZjMyMDA0ZmM5MDc0NDIzYmNmMjY4YmY1MmU0ZWVkMyA9IEwudGlsZUxheWVyKAogICAgICAgICAgICAgICAgImh0dHBzOi8ve3N9LnRpbGUub3BlbnN0cmVldG1hcC5vcmcve3p9L3t4fS97eX0ucG5nIiwKICAgICAgICAgICAgICAgIHsiYXR0cmlidXRpb24iOiAiRGF0YSBieSBcdTAwMjZjb3B5OyBcdTAwM2NhIGhyZWY9XCJodHRwOi8vb3BlbnN0cmVldG1hcC5vcmdcIlx1MDAzZU9wZW5TdHJlZXRNYXBcdTAwM2MvYVx1MDAzZSwgdW5kZXIgXHUwMDNjYSBocmVmPVwiaHR0cDovL3d3dy5vcGVuc3RyZWV0bWFwLm9yZy9jb3B5cmlnaHRcIlx1MDAzZU9EYkxcdTAwM2MvYVx1MDAzZS4iLCAiZGV0ZWN0UmV0aW5hIjogZmFsc2UsICJtYXhOYXRpdmVab29tIjogMTgsICJtYXhab29tIjogMTgsICJtaW5ab29tIjogMCwgIm5vV3JhcCI6IGZhbHNlLCAib3BhY2l0eSI6IDEsICJzdWJkb21haW5zIjogImFiYyIsICJ0bXMiOiBmYWxzZX0KICAgICAgICAgICAgKS5hZGRUbyhtYXBfOGRiODJiMDNjYjBlNGIwM2EwMjZmZTk3NGFlZTBkYjcpOwogICAgICAgIAogICAgCiAgICAgICAgICAgIHZhciBtYXJrZXJfY2x1c3Rlcl8xMDI2ZTYzNjYzZjQ0MGYyYTU1ZjYyZTkxZjhmOWI1OCA9IEwubWFya2VyQ2x1c3Rlckdyb3VwKAogICAgICAgICAgICAgICAge30KICAgICAgICAgICAgKTsKICAgICAgICAgICAgbWFwXzhkYjgyYjAzY2IwZTRiMDNhMDI2ZmU5NzRhZWUwZGI3LmFkZExheWVyKG1hcmtlcl9jbHVzdGVyXzEwMjZlNjM2NjNmNDQwZjJhNTVmNjJlOTFmOGY5YjU4KTsKICAgICAgICAKICAgIAogICAgICAgICAgICB2YXIgbWFya2VyXzlhN2RkYWYxNTRkYjQxMTNhZDQ3ODExMjNjM2Q1NWU5ID0gTC5tYXJrZXIoCiAgICAgICAgICAgICAgICBbMzcuNzc1NDIwNzA2NzExLCAtMTIyLjQwMzQwNDc5MTQ3ODk5XSwKICAgICAgICAgICAgICAgIHt9CiAgICAgICAgICAgICkuYWRkVG8obWFya2VyX2NsdXN0ZXJfMTAyNmU2MzY2M2Y0NDBmMmE1NWY2MmU5MWY4ZjliNTgpOwogICAgICAgIAogICAgCiAgICAgICAgdmFyIHBvcHVwX2RjYWM2ODhjMTNiMzQ2OTRiNDE5ZDU1OTcxNmNkYzFiID0gTC5wb3B1cCh7Im1heFdpZHRoIjogIjEwMCUifSk7CgogICAgICAgIAogICAgICAgICAgICB2YXIgaHRtbF81MjhmNjE3MzYwMTA0YWE1YmUwODY0NDAwNmMyYzYyMyA9ICQoYDxkaXYgaWQ9Imh0bWxfNTI4ZjYxNzM2MDEwNGFhNWJlMDg2NDQwMDZjMmM2MjMiIHN0eWxlPSJ3aWR0aDogMTAwLjAlOyBoZWlnaHQ6IDEwMC4wJTsiPldFQVBPTiBMQVdTPC9kaXY+YClbMF07CiAgICAgICAgICAgIHBvcHVwX2RjYWM2ODhjMTNiMzQ2OTRiNDE5ZDU1OTcxNmNkYzFiLnNldENvbnRlbnQoaHRtbF81MjhmNjE3MzYwMTA0YWE1YmUwODY0NDAwNmMyYzYyMyk7CiAgICAgICAgCgogICAgICAgIG1hcmtlcl85YTdkZGFmMTU0ZGI0MTEzYWQ0NzgxMTIzYzNkNTVlOS5iaW5kUG9wdXAocG9wdXBfZGNhYzY4OGMxM2IzNDY5NGI0MTlkNTU5NzE2Y2RjMWIpCiAgICAgICAgOwoKICAgICAgICAKICAgIAogICAgCiAgICAgICAgICAgIHZhciBtYXJrZXJfZmY2YTgxMGRmOTY2NDJjYTkxNGNlMGM1MjZkNGJhNjMgPSBMLm1hcmtlcigKICAgICAgICAgICAgICAgIFszNy43NzU0MjA3MDY3MTEsIC0xMjIuNDAzNDA0NzkxNDc4OTldLAogICAgICAgICAgICAgICAge30KICAgICAgICAgICAgKS5hZGRUbyhtYXJrZXJfY2x1c3Rlcl8xMDI2ZTYzNjYzZjQ0MGYyYTU1ZjYyZTkxZjhmOWI1OCk7CiAgICAgICAgCiAgICAKICAgICAgICB2YXIgcG9wdXBfM2VmNDUzNGFmZWEyNDE0ZjlhMjA5OTExNWJlMmYzNDEgPSBMLnBvcHVwKHsibWF4V2lkdGgiOiAiMTAwJSJ9KTsKCiAgICAgICAgCiAgICAgICAgICAgIHZhciBodG1sXzU5ZTg5OTQ1ZThmZTRlNjE5N2YxY2E2YzM3MjI4YTZlID0gJChgPGRpdiBpZD0iaHRtbF81OWU4OTk0NWU4ZmU0ZTYxOTdmMWNhNmMzNzIyOGE2ZSIgc3R5bGU9IndpZHRoOiAxMDAuMCU7IGhlaWdodDogMTAwLjAlOyI+V0VBUE9OIExBV1M8L2Rpdj5gKVswXTsKICAgICAgICAgICAgcG9wdXBfM2VmNDUzNGFmZWEyNDE0ZjlhMjA5OTExNWJlMmYzNDEuc2V0Q29udGVudChodG1sXzU5ZTg5OTQ1ZThmZTRlNjE5N2YxY2E2YzM3MjI4YTZlKTsKICAgICAgICAKCiAgICAgICAgbWFya2VyX2ZmNmE4MTBkZjk2NjQyY2E5MTRjZTBjNTI2ZDRiYTYzLmJpbmRQb3B1cChwb3B1cF8zZWY0NTM0YWZlYTI0MTRmOWEyMDk5MTE1YmUyZjM0MSkKICAgICAgICA7CgogICAgICAgIAogICAgCiAgICAKICAgICAgICAgICAgdmFyIG1hcmtlcl9lMWViYWE2NjlkYTM0MGE3YWNiNzQ4YzJkZjMwOGNjZCA9IEwubWFya2VyKAogICAgICAgICAgICAgICAgWzM3LjcyOTk4MDk2NzI5OTU5NiwgLTEyMi4zODg4NTYyMDQyOTJdLAogICAgICAgICAgICAgICAge30KICAgICAgICAgICAgKS5hZGRUbyhtYXJrZXJfY2x1c3Rlcl8xMDI2ZTYzNjYzZjQ0MGYyYTU1ZjYyZTkxZjhmOWI1OCk7CiAgICAgICAgCiAgICAKICAgICAgICB2YXIgcG9wdXBfZWQwZGFiZDI1MGY0NDNhNDhmMjYyZWE1ZGUzN2IwMmEgPSBMLnBvcHVwKHsibWF4V2lkdGgiOiAiMTAwJSJ9KTsKCiAgICAgICAgCiAgICAgICAgICAgIHZhciBodG1sXzU2NDNkZjZkNmE3ZjQxNDM4OTk4ZDQwNjdmNzE5NjZiID0gJChgPGRpdiBpZD0iaHRtbF81NjQzZGY2ZDZhN2Y0MTQzODk5OGQ0MDY3ZjcxOTY2YiIgc3R5bGU9IndpZHRoOiAxMDAuMCU7IGhlaWdodDogMTAwLjAlOyI+V0FSUkFOVFM8L2Rpdj5gKVswXTsKICAgICAgICAgICAgcG9wdXBfZWQwZGFiZDI1MGY0NDNhNDhmMjYyZWE1ZGUzN2IwMmEuc2V0Q29udGVudChodG1sXzU2NDNkZjZkNmE3ZjQxNDM4OTk4ZDQwNjdmNzE5NjZiKTsKICAgICAgICAKCiAgICAgICAgbWFya2VyX2UxZWJhYTY2OWRhMzQwYTdhY2I3NDhjMmRmMzA4Y2NkLmJpbmRQb3B1cChwb3B1cF9lZDBkYWJkMjUwZjQ0M2E0OGYyNjJlYTVkZTM3YjAyYSkKICAgICAgICA7CgogICAgICAgIAogICAgCiAgICAKICAgICAgICAgICAgdmFyIG1hcmtlcl8zMGViZjI5ZDRkOGM0MGZiOTQxOTA5ZTRmZjI1NTczOSA9IEwubWFya2VyKAogICAgICAgICAgICAgICAgWzM3Ljc4NTc4ODM3NjY4ODc5LCAtMTIyLjQxMjk3MDUzNzU5MV0sCiAgICAgICAgICAgICAgICB7fQogICAgICAgICAgICApLmFkZFRvKG1hcmtlcl9jbHVzdGVyXzEwMjZlNjM2NjNmNDQwZjJhNTVmNjJlOTFmOGY5YjU4KTsKICAgICAgICAKICAgIAogICAgICAgIHZhciBwb3B1cF8xZGU0MTY4MmY3Njg0ZWU2YTI3YjJlMmQ3YTk2NGNjOSA9IEwucG9wdXAoeyJtYXhXaWR0aCI6ICIxMDAlIn0pOwoKICAgICAgICAKICAgICAgICAgICAgdmFyIGh0bWxfZTEzODY0NjIzNjEzNGI0ZWJmM2QwMzg2ZjY5MjlmMzEgPSAkKGA8ZGl2IGlkPSJodG1sX2UxMzg2NDYyMzYxMzRiNGViZjNkMDM4NmY2OTI5ZjMxIiBzdHlsZT0id2lkdGg6IDEwMC4wJTsgaGVpZ2h0OiAxMDAuMCU7Ij5OT04tQ1JJTUlOQUw8L2Rpdj5gKVswXTsKICAgICAgICAgICAgcG9wdXBfMWRlNDE2ODJmNzY4NGVlNmEyN2IyZTJkN2E5NjRjYzkuc2V0Q29udGVudChodG1sX2UxMzg2NDYyMzYxMzRiNGViZjNkMDM4NmY2OTI5ZjMxKTsKICAgICAgICAKCiAgICAgICAgbWFya2VyXzMwZWJmMjlkNGQ4YzQwZmI5NDE5MDllNGZmMjU1NzM5LmJpbmRQb3B1cChwb3B1cF8xZGU0MTY4MmY3Njg0ZWU2YTI3YjJlMmQ3YTk2NGNjOSkKICAgICAgICA7CgogICAgICAgIAogICAgCiAgICAKICAgICAgICAgICAgdmFyIG1hcmtlcl82NjZlZWU0MDExY2E0YjVmOTk0MmI4NjEzMzcxZGQ0YSA9IEwubWFya2VyKAogICAgICAgICAgICAgICAgWzM3Ljc2NTA1MDEyMTQ2NjgsIC0xMjIuNDE5NjcxNzgwMjk2XSwKICAgICAgICAgICAgICAgIHt9CiAgICAgICAgICAgICkuYWRkVG8obWFya2VyX2NsdXN0ZXJfMTAyNmU2MzY2M2Y0NDBmMmE1NWY2MmU5MWY4ZjliNTgpOwogICAgICAgIAogICAgCiAgICAgICAgdmFyIHBvcHVwX2EzMDQ4YTVmOWFmNDQxZDc5ZDMwMWU2MWE0ZjZiMzI5ID0gTC5wb3B1cCh7Im1heFdpZHRoIjogIjEwMCUifSk7CgogICAgICAgIAogICAgICAgICAgICB2YXIgaHRtbF8wZGViM2Y5MzkwY2I0ZDRjOTNjZWFlMDdlMWQ4ZWQ1YyA9ICQoYDxkaXYgaWQ9Imh0bWxfMGRlYjNmOTM5MGNiNGQ0YzkzY2VhZTA3ZTFkOGVkNWMiIHN0eWxlPSJ3aWR0aDogMTAwLjAlOyBoZWlnaHQ6IDEwMC4wJTsiPk5PTi1DUklNSU5BTDwvZGl2PmApWzBdOwogICAgICAgICAgICBwb3B1cF9hMzA0OGE1ZjlhZjQ0MWQ3OWQzMDFlNjFhNGY2YjMyOS5zZXRDb250ZW50KGh0bWxfMGRlYjNmOTM5MGNiNGQ0YzkzY2VhZTA3ZTFkOGVkNWMpOwogICAgICAgIAoKICAgICAgICBtYXJrZXJfNjY2ZWVlNDAxMWNhNGI1Zjk5NDJiODYxMzM3MWRkNGEuYmluZFBvcHVwKHBvcHVwX2EzMDQ4YTVmOWFmNDQxZDc5ZDMwMWU2MWE0ZjZiMzI5KQogICAgICAgIDsKCiAgICAgICAgCiAgICAKICAgIAogICAgICAgICAgICB2YXIgbWFya2VyX2IwY2JiNmJiNThiODQwMDhhYmJjMTNmMjM1ZWQ2YmRlID0gTC5tYXJrZXIoCiAgICAgICAgICAgICAgICBbMzcuNzg4MDE4NTU1ODI5LCAtMTIyLjQyNjA3NzE3NzM3NDk5XSwKICAgICAgICAgICAgICAgIHt9CiAgICAgICAgICAgICkuYWRkVG8obWFya2VyX2NsdXN0ZXJfMTAyNmU2MzY2M2Y0NDBmMmE1NWY2MmU5MWY4ZjliNTgpOwogICAgICAgIAogICAgCiAgICAgICAgdmFyIHBvcHVwX2M1MWUzMGNkNTljMjQzNGM4YjFlMGY5MGY1MTQ0NzVmID0gTC5wb3B1cCh7Im1heFdpZHRoIjogIjEwMCUifSk7CgogICAgICAgIAogICAgICAgICAgICB2YXIgaHRtbF9iM2EzNTFmMWM5Y2M0ZWFkOTg5ZDE5ZDQwMzI1OTc3NSA9ICQoYDxkaXYgaWQ9Imh0bWxfYjNhMzUxZjFjOWNjNGVhZDk4OWQxOWQ0MDMyNTk3NzUiIHN0eWxlPSJ3aWR0aDogMTAwLjAlOyBoZWlnaHQ6IDEwMC4wJTsiPkFTU0FVTFQ8L2Rpdj5gKVswXTsKICAgICAgICAgICAgcG9wdXBfYzUxZTMwY2Q1OWMyNDM0YzhiMWUwZjkwZjUxNDQ3NWYuc2V0Q29udGVudChodG1sX2IzYTM1MWYxYzljYzRlYWQ5ODlkMTlkNDAzMjU5Nzc1KTsKICAgICAgICAKCiAgICAgICAgbWFya2VyX2IwY2JiNmJiNThiODQwMDhhYmJjMTNmMjM1ZWQ2YmRlLmJpbmRQb3B1cChwb3B1cF9jNTFlMzBjZDU5YzI0MzRjOGIxZTBmOTBmNTE0NDc1ZikKICAgICAgICA7CgogICAgICAgIAogICAgCiAgICAKICAgICAgICAgICAgdmFyIG1hcmtlcl8wM2Q5NDA3NDBiYWE0MWFjYmUyMjg0OTkzZWRhYmQwNSA9IEwubWFya2VyKAogICAgICAgICAgICAgICAgWzM3Ljc4MDg3ODkzNjAyMTQsIC0xMjIuNDA1NzIxNDU0NTY3XSwKICAgICAgICAgICAgICAgIHt9CiAgICAgICAgICAgICkuYWRkVG8obWFya2VyX2NsdXN0ZXJfMTAyNmU2MzY2M2Y0NDBmMmE1NWY2MmU5MWY4ZjliNTgpOwogICAgICAgIAogICAgCiAgICAgICAgdmFyIHBvcHVwXzA5YTc3MDgwMjdjNjRkNmE5YWRjY2MwOGU1NzU5MjNmID0gTC5wb3B1cCh7Im1heFdpZHRoIjogIjEwMCUifSk7CgogICAgICAgIAogICAgICAgICAgICB2YXIgaHRtbF8xZTYyMmQ1Njk0YzM0N2FhYTAzOThkN2I5YzEwMjQyOSA9ICQoYDxkaXYgaWQ9Imh0bWxfMWU2MjJkNTY5NGMzNDdhYWEwMzk4ZDdiOWMxMDI0MjkiIHN0eWxlPSJ3aWR0aDogMTAwLjAlOyBoZWlnaHQ6IDEwMC4wJTsiPk9USEVSIE9GRkVOU0VTPC9kaXY+YClbMF07CiAgICAgICAgICAgIHBvcHVwXzA5YTc3MDgwMjdjNjRkNmE5YWRjY2MwOGU1NzU5MjNmLnNldENvbnRlbnQoaHRtbF8xZTYyMmQ1Njk0YzM0N2FhYTAzOThkN2I5YzEwMjQyOSk7CiAgICAgICAgCgogICAgICAgIG1hcmtlcl8wM2Q5NDA3NDBiYWE0MWFjYmUyMjg0OTkzZWRhYmQwNS5iaW5kUG9wdXAocG9wdXBfMDlhNzcwODAyN2M2NGQ2YTlhZGNjYzA4ZTU3NTkyM2YpCiAgICAgICAgOwoKICAgICAgICAKICAgIAogICAgCiAgICAgICAgICAgIHZhciBtYXJrZXJfZjEzZGNhZTliODZmNDM4YzlmNjRmYzBjZmI4ZTJkYjggPSBMLm1hcmtlcigKICAgICAgICAgICAgICAgIFszNy43ODM5ODA1NTkyNjM0LCAtMTIyLjQxMTc3ODI5NTk5Ml0sCiAgICAgICAgICAgICAgICB7fQogICAgICAgICAgICApLmFkZFRvKG1hcmtlcl9jbHVzdGVyXzEwMjZlNjM2NjNmNDQwZjJhNTVmNjJlOTFmOGY5YjU4KTsKICAgICAgICAKICAgIAogICAgICAgIHZhciBwb3B1cF85NTYzYmFiYzM5MWE0ZThmODgwZWFkYjBjZWE1NTE0YiA9IEwucG9wdXAoeyJtYXhXaWR0aCI6ICIxMDAlIn0pOwoKICAgICAgICAKICAgICAgICAgICAgdmFyIGh0bWxfNjBmNDIyOWU5MWIxNDQ2Y2IyZDVjOWJjMzkxMDA5YjMgPSAkKGA8ZGl2IGlkPSJodG1sXzYwZjQyMjllOTFiMTQ0NmNiMmQ1YzliYzM5MTAwOWIzIiBzdHlsZT0id2lkdGg6IDEwMC4wJTsgaGVpZ2h0OiAxMDAuMCU7Ij5OT04tQ1JJTUlOQUw8L2Rpdj5gKVswXTsKICAgICAgICAgICAgcG9wdXBfOTU2M2JhYmMzOTFhNGU4Zjg4MGVhZGIwY2VhNTUxNGIuc2V0Q29udGVudChodG1sXzYwZjQyMjllOTFiMTQ0NmNiMmQ1YzliYzM5MTAwOWIzKTsKICAgICAgICAKCiAgICAgICAgbWFya2VyX2YxM2RjYWU5Yjg2ZjQzOGM5ZjY0ZmMwY2ZiOGUyZGI4LmJpbmRQb3B1cChwb3B1cF85NTYzYmFiYzM5MWE0ZThmODgwZWFkYjBjZWE1NTE0YikKICAgICAgICA7CgogICAgICAgIAogICAgCiAgICAKICAgICAgICAgICAgdmFyIG1hcmtlcl9iYmIxNzM4NGVmOTY0NjliODJmODc0ODE3ODM5ZWJiOCA9IEwubWFya2VyKAogICAgICAgICAgICAgICAgWzM3Ljc3NTc4NzYyMTgyOTI5NSwgLTEyMi4zOTMzNTcyNDE0NTFdLAogICAgICAgICAgICAgICAge30KICAgICAgICAgICAgKS5hZGRUbyhtYXJrZXJfY2x1c3Rlcl8xMDI2ZTYzNjYzZjQ0MGYyYTU1ZjYyZTkxZjhmOWI1OCk7CiAgICAgICAgCiAgICAKICAgICAgICB2YXIgcG9wdXBfYTdmYzk1OTRkNmE3NGUzOGEzYzE3NWFjMjQyNzQxNTIgPSBMLnBvcHVwKHsibWF4V2lkdGgiOiAiMTAwJSJ9KTsKCiAgICAgICAgCiAgICAgICAgICAgIHZhciBodG1sXzQzNzk1Mjc1ZmUzYjQ3M2NhNzQ5MmU3ODVlNzIwN2E3ID0gJChgPGRpdiBpZD0iaHRtbF80Mzc5NTI3NWZlM2I0NzNjYTc0OTJlNzg1ZTcyMDdhNyIgc3R5bGU9IndpZHRoOiAxMDAuMCU7IGhlaWdodDogMTAwLjAlOyI+V0FSUkFOVFM8L2Rpdj5gKVswXTsKICAgICAgICAgICAgcG9wdXBfYTdmYzk1OTRkNmE3NGUzOGEzYzE3NWFjMjQyNzQxNTIuc2V0Q29udGVudChodG1sXzQzNzk1Mjc1ZmUzYjQ3M2NhNzQ5MmU3ODVlNzIwN2E3KTsKICAgICAgICAKCiAgICAgICAgbWFya2VyX2JiYjE3Mzg0ZWY5NjQ2OWI4MmY4NzQ4MTc4MzllYmI4LmJpbmRQb3B1cChwb3B1cF9hN2ZjOTU5NGQ2YTc0ZTM4YTNjMTc1YWMyNDI3NDE1MikKICAgICAgICA7CgogICAgICAgIAogICAgCiAgICAKICAgICAgICAgICAgdmFyIG1hcmtlcl80YTlmOGI0NmIyNDI0NzlkYTE4OTA5MWZmOWZiZmU1ZSA9IEwubWFya2VyKAogICAgICAgICAgICAgICAgWzM3LjcyMDk2Njk2MTU0OTksIC0xMjIuMzg3MTgxNjM1OTk1XSwKICAgICAgICAgICAgICAgIHt9CiAgICAgICAgICAgICkuYWRkVG8obWFya2VyX2NsdXN0ZXJfMTAyNmU2MzY2M2Y0NDBmMmE1NWY2MmU5MWY4ZjliNTgpOwogICAgICAgIAogICAgCiAgICAgICAgdmFyIHBvcHVwXzAzYjc1NTE5ZDVhZjQ4MGZiNDZmNmQzYjBhM2YzMzQwID0gTC5wb3B1cCh7Im1heFdpZHRoIjogIjEwMCUifSk7CgogICAgICAgIAogICAgICAgICAgICB2YXIgaHRtbF9hNDU1ZmJiZTY5MWU0MWQ0YjYxZjkwMjhiYTVjOGI4MiA9ICQoYDxkaXYgaWQ9Imh0bWxfYTQ1NWZiYmU2OTFlNDFkNGI2MWY5MDI4YmE1YzhiODIiIHN0eWxlPSJ3aWR0aDogMTAwLjAlOyBoZWlnaHQ6IDEwMC4wJTsiPk1JU1NJTkcgUEVSU09OPC9kaXY+YClbMF07CiAgICAgICAgICAgIHBvcHVwXzAzYjc1NTE5ZDVhZjQ4MGZiNDZmNmQzYjBhM2YzMzQwLnNldENvbnRlbnQoaHRtbF9hNDU1ZmJiZTY5MWU0MWQ0YjYxZjkwMjhiYTVjOGI4Mik7CiAgICAgICAgCgogICAgICAgIG1hcmtlcl80YTlmOGI0NmIyNDI0NzlkYTE4OTA5MWZmOWZiZmU1ZS5iaW5kUG9wdXAocG9wdXBfMDNiNzU1MTlkNWFmNDgwZmI0NmY2ZDNiMGEzZjMzNDApCiAgICAgICAgOwoKICAgICAgICAKICAgIAogICAgCiAgICAgICAgICAgIHZhciBtYXJrZXJfNjRkZDM3YWMyNTU5NGE2YmEwZTY1NDgwZDllNzc0MTggPSBMLm1hcmtlcigKICAgICAgICAgICAgICAgIFszNy43NjQ0NzgxNTc4Njk1MDUsIC0xMjIuNDc3Mzc2NTI0MDAyOTldLAogICAgICAgICAgICAgICAge30KICAgICAgICAgICAgKS5hZGRUbyhtYXJrZXJfY2x1c3Rlcl8xMDI2ZTYzNjYzZjQ0MGYyYTU1ZjYyZTkxZjhmOWI1OCk7CiAgICAgICAgCiAgICAKICAgICAgICB2YXIgcG9wdXBfMjIyNjkwZjJiODAwNDI4ZTg1ZTRmNjU3MWNjZDkyZmMgPSBMLnBvcHVwKHsibWF4V2lkdGgiOiAiMTAwJSJ9KTsKCiAgICAgICAgCiAgICAgICAgICAgIHZhciBodG1sX2FiOTlmNTE2YTBlMDRlZjc5MGRkZjExMjZhNjgyZTQxID0gJChgPGRpdiBpZD0iaHRtbF9hYjk5ZjUxNmEwZTA0ZWY3OTBkZGYxMTI2YTY4MmU0MSIgc3R5bGU9IndpZHRoOiAxMDAuMCU7IGhlaWdodDogMTAwLjAlOyI+TEFSQ0VOWS9USEVGVDwvZGl2PmApWzBdOwogICAgICAgICAgICBwb3B1cF8yMjI2OTBmMmI4MDA0MjhlODVlNGY2NTcxY2NkOTJmYy5zZXRDb250ZW50KGh0bWxfYWI5OWY1MTZhMGUwNGVmNzkwZGRmMTEyNmE2ODJlNDEpOwogICAgICAgIAoKICAgICAgICBtYXJrZXJfNjRkZDM3YWMyNTU5NGE2YmEwZTY1NDgwZDllNzc0MTguYmluZFBvcHVwKHBvcHVwXzIyMjY5MGYyYjgwMDQyOGU4NWU0ZjY1NzFjY2Q5MmZjKQogICAgICAgIDsKCiAgICAgICAgCiAgICAKICAgIAogICAgICAgICAgICB2YXIgbWFya2VyX2EzZmVmMGM2OTZiNDQ0NDU5ZjI1NTAwOWFkODY5NmIwID0gTC5tYXJrZXIoCiAgICAgICAgICAgICAgICBbMzcuNzQ1NzM4OTQyOTY1NDk1LCAtMTIyLjQ3Nzk2MDMyNzI5OV0sCiAgICAgICAgICAgICAgICB7fQogICAgICAgICAgICApLmFkZFRvKG1hcmtlcl9jbHVzdGVyXzEwMjZlNjM2NjNmNDQwZjJhNTVmNjJlOTFmOGY5YjU4KTsKICAgICAgICAKICAgIAogICAgICAgIHZhciBwb3B1cF84MmFhNDBjMjA2Nzk0ZThhYWYyNTM1ZmU0NTVkZGI5MiA9IEwucG9wdXAoeyJtYXhXaWR0aCI6ICIxMDAlIn0pOwoKICAgICAgICAKICAgICAgICAgICAgdmFyIGh0bWxfZjMzYTUxYjdlZjgwNGQ5MmI1ZDQ3YTgwNDE2ZTdhN2IgPSAkKGA8ZGl2IGlkPSJodG1sX2YzM2E1MWI3ZWY4MDRkOTJiNWQ0N2E4MDQxNmU3YTdiIiBzdHlsZT0id2lkdGg6IDEwMC4wJTsgaGVpZ2h0OiAxMDAuMCU7Ij5OT04tQ1JJTUlOQUw8L2Rpdj5gKVswXTsKICAgICAgICAgICAgcG9wdXBfODJhYTQwYzIwNjc5NGU4YWFmMjUzNWZlNDU1ZGRiOTIuc2V0Q29udGVudChodG1sX2YzM2E1MWI3ZWY4MDRkOTJiNWQ0N2E4MDQxNmU3YTdiKTsKICAgICAgICAKCiAgICAgICAgbWFya2VyX2EzZmVmMGM2OTZiNDQ0NDU5ZjI1NTAwOWFkODY5NmIwLmJpbmRQb3B1cChwb3B1cF84MmFhNDBjMjA2Nzk0ZThhYWYyNTM1ZmU0NTVkZGI5MikKICAgICAgICA7CgogICAgICAgIAogICAgCiAgICAKICAgICAgICAgICAgdmFyIG1hcmtlcl9mMDBkZjQyOTk5NWQ0MjQ0YWJmOGZhNTVlMWUwODlhNCA9IEwubWFya2VyKAogICAgICAgICAgICAgICAgWzM3LjczNTY5NzAyNzU0ODIwNiwgLTEyMi4zNzY3NTc2NTU1MzAwMV0sCiAgICAgICAgICAgICAgICB7fQogICAgICAgICAgICApLmFkZFRvKG1hcmtlcl9jbHVzdGVyXzEwMjZlNjM2NjNmNDQwZjJhNTVmNjJlOTFmOGY5YjU4KTsKICAgICAgICAKICAgIAogICAgICAgIHZhciBwb3B1cF9jMTc2YmEzNDI1ZTk0MWE3ODgwYzI2MmM5NmQ4ZTBlYyA9IEwucG9wdXAoeyJtYXhXaWR0aCI6ICIxMDAlIn0pOwoKICAgICAgICAKICAgICAgICAgICAgdmFyIGh0bWxfNzllNGI2MzFmYTE2NGI0ODlhZDRhZjY3MDU4YTk4OTkgPSAkKGA8ZGl2IGlkPSJodG1sXzc5ZTRiNjMxZmExNjRiNDg5YWQ0YWY2NzA1OGE5ODk5IiBzdHlsZT0id2lkdGg6IDEwMC4wJTsgaGVpZ2h0OiAxMDAuMCU7Ij5PVEhFUiBPRkZFTlNFUzwvZGl2PmApWzBdOwogICAgICAgICAgICBwb3B1cF9jMTc2YmEzNDI1ZTk0MWE3ODgwYzI2MmM5NmQ4ZTBlYy5zZXRDb250ZW50KGh0bWxfNzllNGI2MzFmYTE2NGI0ODlhZDRhZjY3MDU4YTk4OTkpOwogICAgICAgIAoKICAgICAgICBtYXJrZXJfZjAwZGY0Mjk5OTVkNDI0NGFiZjhmYTU1ZTFlMDg5YTQuYmluZFBvcHVwKHBvcHVwX2MxNzZiYTM0MjVlOTQxYTc4ODBjMjYyYzk2ZDhlMGVjKQogICAgICAgIDsKCiAgICAgICAgCiAgICAKICAgIAogICAgICAgICAgICB2YXIgbWFya2VyXzUxNDBmZjc2ZDA3ZTRiY2E4N2RmZWIzODM2YjBlMGM0ID0gTC5tYXJrZXIoCiAgICAgICAgICAgICAgICBbMzcuNzI5MjcwNTE5OTU5MiwgLTEyMi40MzIzMjU4NzEwMjhdLAogICAgICAgICAgICAgICAge30KICAgICAgICAgICAgKS5hZGRUbyhtYXJrZXJfY2x1c3Rlcl8xMDI2ZTYzNjYzZjQ0MGYyYTU1ZjYyZTkxZjhmOWI1OCk7CiAgICAgICAgCiAgICAKICAgICAgICB2YXIgcG9wdXBfMzNjNTBhYTA5MDUwNGVkNDliNzcxMGQxYjAwZDEyYmEgPSBMLnBvcHVwKHsibWF4V2lkdGgiOiAiMTAwJSJ9KTsKCiAgICAgICAgCiAgICAgICAgICAgIHZhciBodG1sXzdiYTg2MDM4OTRlNzRmZTg5MWZhMWFjYjE3M2NiNzRmID0gJChgPGRpdiBpZD0iaHRtbF83YmE4NjAzODk0ZTc0ZmU4OTFmYTFhY2IxNzNjYjc0ZiIgc3R5bGU9IndpZHRoOiAxMDAuMCU7IGhlaWdodDogMTAwLjAlOyI+QVNTQVVMVDwvZGl2PmApWzBdOwogICAgICAgICAgICBwb3B1cF8zM2M1MGFhMDkwNTA0ZWQ0OWI3NzEwZDFiMDBkMTJiYS5zZXRDb250ZW50KGh0bWxfN2JhODYwMzg5NGU3NGZlODkxZmExYWNiMTczY2I3NGYpOwogICAgICAgIAoKICAgICAgICBtYXJrZXJfNTE0MGZmNzZkMDdlNGJjYTg3ZGZlYjM4MzZiMGUwYzQuYmluZFBvcHVwKHBvcHVwXzMzYzUwYWEwOTA1MDRlZDQ5Yjc3MTBkMWIwMGQxMmJhKQogICAgICAgIDsKCiAgICAgICAgCiAgICAKICAgIAogICAgICAgICAgICB2YXIgbWFya2VyXzU1MTc2OTYzYjA5ZDQwZjdiYjFkYzM4OTQ4NGY4OGU5ID0gTC5tYXJrZXIoCiAgICAgICAgICAgICAgICBbMzcuNzkxNjQyOTgyMzg0LCAtMTIyLjQwMDkwODY5ODg4OTk5XSwKICAgICAgICAgICAgICAgIHt9CiAgICAgICAgICAgICkuYWRkVG8obWFya2VyX2NsdXN0ZXJfMTAyNmU2MzY2M2Y0NDBmMmE1NWY2MmU5MWY4ZjliNTgpOwogICAgICAgIAogICAgCiAgICAgICAgdmFyIHBvcHVwXzk2YzU2Yjc1MGZiZDQzY2JiYTM2ZjA2OTc4MmMwYTE4ID0gTC5wb3B1cCh7Im1heFdpZHRoIjogIjEwMCUifSk7CgogICAgICAgIAogICAgICAgICAgICB2YXIgaHRtbF8zN2NlNWRkYWNmNDM0MjRjOWY2ZDA1ZTEzZWIxMTNkYSA9ICQoYDxkaXYgaWQ9Imh0bWxfMzdjZTVkZGFjZjQzNDI0YzlmNmQwNWUxM2ViMTEzZGEiIHN0eWxlPSJ3aWR0aDogMTAwLjAlOyBoZWlnaHQ6IDEwMC4wJTsiPkJVUkdMQVJZPC9kaXY+YClbMF07CiAgICAgICAgICAgIHBvcHVwXzk2YzU2Yjc1MGZiZDQzY2JiYTM2ZjA2OTc4MmMwYTE4LnNldENvbnRlbnQoaHRtbF8zN2NlNWRkYWNmNDM0MjRjOWY2ZDA1ZTEzZWIxMTNkYSk7CiAgICAgICAgCgogICAgICAgIG1hcmtlcl81NTE3Njk2M2IwOWQ0MGY3YmIxZGMzODk0ODRmODhlOS5iaW5kUG9wdXAocG9wdXBfOTZjNTZiNzUwZmJkNDNjYmJhMzZmMDY5NzgyYzBhMTgpCiAgICAgICAgOwoKICAgICAgICAKICAgIAogICAgCiAgICAgICAgICAgIHZhciBtYXJrZXJfOWE3NWZhMjFhOTY2NGEwMDlkMGFkOGRiOWY1ODc3MzQgPSBMLm1hcmtlcigKICAgICAgICAgICAgICAgIFszNy43ODM3MDY5MzAxNTQ1LCAtMTIyLjQwODU5NTExMDg2OV0sCiAgICAgICAgICAgICAgICB7fQogICAgICAgICAgICApLmFkZFRvKG1hcmtlcl9jbHVzdGVyXzEwMjZlNjM2NjNmNDQwZjJhNTVmNjJlOTFmOGY5YjU4KTsKICAgICAgICAKICAgIAogICAgICAgIHZhciBwb3B1cF83MDdlNDBiOGRhYzA0ZmZmOWM3MGJhYjc1MmNlZmRmOSA9IEwucG9wdXAoeyJtYXhXaWR0aCI6ICIxMDAlIn0pOwoKICAgICAgICAKICAgICAgICAgICAgdmFyIGh0bWxfMTM4Yjg0Nzc5M2Y1NGQ5M2E4YjJkMWUyOTM4YTQzMDkgPSAkKGA8ZGl2IGlkPSJodG1sXzEzOGI4NDc3OTNmNTRkOTNhOGIyZDFlMjkzOGE0MzA5IiBzdHlsZT0id2lkdGg6IDEwMC4wJTsgaGVpZ2h0OiAxMDAuMCU7Ij5TVE9MRU4gUFJPUEVSVFk8L2Rpdj5gKVswXTsKICAgICAgICAgICAgcG9wdXBfNzA3ZTQwYjhkYWMwNGZmZjljNzBiYWI3NTJjZWZkZjkuc2V0Q29udGVudChodG1sXzEzOGI4NDc3OTNmNTRkOTNhOGIyZDFlMjkzOGE0MzA5KTsKICAgICAgICAKCiAgICAgICAgbWFya2VyXzlhNzVmYTIxYTk2NjRhMDA5ZDBhZDhkYjlmNTg3NzM0LmJpbmRQb3B1cChwb3B1cF83MDdlNDBiOGRhYzA0ZmZmOWM3MGJhYjc1MmNlZmRmOSkKICAgICAgICA7CgogICAgICAgIAogICAgCiAgICAKICAgICAgICAgICAgdmFyIG1hcmtlcl8wZWFhZjkwMDMwMzA0MDdlOWJiZGZjZDZlYjhkNmQ3NCA9IEwubWFya2VyKAogICAgICAgICAgICAgICAgWzM3Ljc1NzI4OTU5MDQ1Nzc5NSwgLTEyMi40MDY4NzA0MDIwODJdLAogICAgICAgICAgICAgICAge30KICAgICAgICAgICAgKS5hZGRUbyhtYXJrZXJfY2x1c3Rlcl8xMDI2ZTYzNjYzZjQ0MGYyYTU1ZjYyZTkxZjhmOWI1OCk7CiAgICAgICAgCiAgICAKICAgICAgICB2YXIgcG9wdXBfODZhNzkwY2I1YzY2NDczZmIxMjcxNzRhZDk1OGJiMDcgPSBMLnBvcHVwKHsibWF4V2lkdGgiOiAiMTAwJSJ9KTsKCiAgICAgICAgCiAgICAgICAgICAgIHZhciBodG1sXzE0OGUxNzJhYjZjMzQ1ZGNhYTc0NDExYWU5MDQ0OGE2ID0gJChgPGRpdiBpZD0iaHRtbF8xNDhlMTcyYWI2YzM0NWRjYWE3NDQxMWFlOTA0NDhhNiIgc3R5bGU9IndpZHRoOiAxMDAuMCU7IGhlaWdodDogMTAwLjAlOyI+Uk9CQkVSWTwvZGl2PmApWzBdOwogICAgICAgICAgICBwb3B1cF84NmE3OTBjYjVjNjY0NzNmYjEyNzE3NGFkOTU4YmIwNy5zZXRDb250ZW50KGh0bWxfMTQ4ZTE3MmFiNmMzNDVkY2FhNzQ0MTFhZTkwNDQ4YTYpOwogICAgICAgIAoKICAgICAgICBtYXJrZXJfMGVhYWY5MDAzMDMwNDA3ZTliYmRmY2Q2ZWI4ZDZkNzQuYmluZFBvcHVwKHBvcHVwXzg2YTc5MGNiNWM2NjQ3M2ZiMTI3MTc0YWQ5NThiYjA3KQogICAgICAgIDsKCiAgICAgICAgCiAgICAKICAgIAogICAgICAgICAgICB2YXIgbWFya2VyXzJiOTExODYwMWM0MDQwZDVhZTAwODY3MTMwNjk2NzhjID0gTC5tYXJrZXIoCiAgICAgICAgICAgICAgICBbMzcuNzQ4OTA2MzA1MTgyOSwgLTEyMi40MjAzNTQ3ODA4NjA5OV0sCiAgICAgICAgICAgICAgICB7fQogICAgICAgICAgICApLmFkZFRvKG1hcmtlcl9jbHVzdGVyXzEwMjZlNjM2NjNmNDQwZjJhNTVmNjJlOTFmOGY5YjU4KTsKICAgICAgICAKICAgIAogICAgICAgIHZhciBwb3B1cF9hMzc1ZDFhYjQzMDg0MTcyYWUzNmQwMTk2NjBhZmZkOSA9IEwucG9wdXAoeyJtYXhXaWR0aCI6ICIxMDAlIn0pOwoKICAgICAgICAKICAgICAgICAgICAgdmFyIGh0bWxfODJhMGJjZDIzMWZmNGQwOWExYzBhYjM1OTNiNjFmMjUgPSAkKGA8ZGl2IGlkPSJodG1sXzgyYTBiY2QyMzFmZjRkMDlhMWMwYWIzNTkzYjYxZjI1IiBzdHlsZT0id2lkdGg6IDEwMC4wJTsgaGVpZ2h0OiAxMDAuMCU7Ij5BU1NBVUxUPC9kaXY+YClbMF07CiAgICAgICAgICAgIHBvcHVwX2EzNzVkMWFiNDMwODQxNzJhZTM2ZDAxOTY2MGFmZmQ5LnNldENvbnRlbnQoaHRtbF84MmEwYmNkMjMxZmY0ZDA5YTFjMGFiMzU5M2I2MWYyNSk7CiAgICAgICAgCgogICAgICAgIG1hcmtlcl8yYjkxMTg2MDFjNDA0MGQ1YWUwMDg2NzEzMDY5Njc4Yy5iaW5kUG9wdXAocG9wdXBfYTM3NWQxYWI0MzA4NDE3MmFlMzZkMDE5NjYwYWZmZDkpCiAgICAgICAgOwoKICAgICAgICAKICAgIAogICAgCiAgICAgICAgICAgIHZhciBtYXJrZXJfNGYwMzg3MDg3MTYyNGZhOGFlNWI4NWNlOWZiMGVhOTIgPSBMLm1hcmtlcigKICAgICAgICAgICAgICAgIFszNy43MTU3NjU0MjY5OTUsIC0xMjIuNDM5OTA5NzY2NzcyXSwKICAgICAgICAgICAgICAgIHt9CiAgICAgICAgICAgICkuYWRkVG8obWFya2VyX2NsdXN0ZXJfMTAyNmU2MzY2M2Y0NDBmMmE1NWY2MmU5MWY4ZjliNTgpOwogICAgICAgIAogICAgCiAgICAgICAgdmFyIHBvcHVwXzMyYjY0OTRhOGMyZjQzMjg4ZDkzNmFmOTYzZTQ5NGZkID0gTC5wb3B1cCh7Im1heFdpZHRoIjogIjEwMCUifSk7CgogICAgICAgIAogICAgICAgICAgICB2YXIgaHRtbF80NGI3MGJhYzEwMzY0ZGI2YmIzYWEyMTBiNTAyMzI2MiA9ICQoYDxkaXYgaWQ9Imh0bWxfNDRiNzBiYWMxMDM2NGRiNmJiM2FhMjEwYjUwMjMyNjIiIHN0eWxlPSJ3aWR0aDogMTAwLjAlOyBoZWlnaHQ6IDEwMC4wJTsiPkFTU0FVTFQ8L2Rpdj5gKVswXTsKICAgICAgICAgICAgcG9wdXBfMzJiNjQ5NGE4YzJmNDMyODhkOTM2YWY5NjNlNDk0ZmQuc2V0Q29udGVudChodG1sXzQ0YjcwYmFjMTAzNjRkYjZiYjNhYTIxMGI1MDIzMjYyKTsKICAgICAgICAKCiAgICAgICAgbWFya2VyXzRmMDM4NzA4NzE2MjRmYThhZTViODVjZTlmYjBlYTkyLmJpbmRQb3B1cChwb3B1cF8zMmI2NDk0YThjMmY0MzI4OGQ5MzZhZjk2M2U0OTRmZCkKICAgICAgICA7CgogICAgICAgIAogICAgCiAgICAKICAgICAgICAgICAgdmFyIG1hcmtlcl9jOTI3NWVkYWIzNjU0NTU5YWQ0ZDVjNGU5ZjkxNjc2ZiA9IEwubWFya2VyKAogICAgICAgICAgICAgICAgWzM3Ljc4MzU2OTkzODY5MTgsIC0xMjIuNDA4NDIxMTE2OTIyXSwKICAgICAgICAgICAgICAgIHt9CiAgICAgICAgICAgICkuYWRkVG8obWFya2VyX2NsdXN0ZXJfMTAyNmU2MzY2M2Y0NDBmMmE1NWY2MmU5MWY4ZjliNTgpOwogICAgICAgIAogICAgCiAgICAgICAgdmFyIHBvcHVwXzAwMTE4MTMxMDI1MjQxYjViNTBhMzNmZTdlYWI3NGExID0gTC5wb3B1cCh7Im1heFdpZHRoIjogIjEwMCUifSk7CgogICAgICAgIAogICAgICAgICAgICB2YXIgaHRtbF82ZWZjY2ZmOGU5YTU0MWU0OTdkNmI0MmMxYWJmODIyNiA9ICQoYDxkaXYgaWQ9Imh0bWxfNmVmY2NmZjhlOWE1NDFlNDk3ZDZiNDJjMWFiZjgyMjYiIHN0eWxlPSJ3aWR0aDogMTAwLjAlOyBoZWlnaHQ6IDEwMC4wJTsiPkxBUkNFTlkvVEhFRlQ8L2Rpdj5gKVswXTsKICAgICAgICAgICAgcG9wdXBfMDAxMTgxMzEwMjUyNDFiNWI1MGEzM2ZlN2VhYjc0YTEuc2V0Q29udGVudChodG1sXzZlZmNjZmY4ZTlhNTQxZTQ5N2Q2YjQyYzFhYmY4MjI2KTsKICAgICAgICAKCiAgICAgICAgbWFya2VyX2M5Mjc1ZWRhYjM2NTQ1NTlhZDRkNWM0ZTlmOTE2NzZmLmJpbmRQb3B1cChwb3B1cF8wMDExODEzMTAyNTI0MWI1YjUwYTMzZmU3ZWFiNzRhMSkKICAgICAgICA7CgogICAgICAgIAogICAgCiAgICAKICAgICAgICAgICAgdmFyIG1hcmtlcl82MzMxNTU3YWE4YmQ0ODZiYmIxMTE2NWEyNzRiNWE5NSA9IEwubWFya2VyKAogICAgICAgICAgICAgICAgWzM3Ljc3MzYxODYyNzY0NTYwNCwgLTEyMi40MjIzMTU2NzA3NDldLAogICAgICAgICAgICAgICAge30KICAgICAgICAgICAgKS5hZGRUbyhtYXJrZXJfY2x1c3Rlcl8xMDI2ZTYzNjYzZjQ0MGYyYTU1ZjYyZTkxZjhmOWI1OCk7CiAgICAgICAgCiAgICAKICAgICAgICB2YXIgcG9wdXBfOGI3MjQyNjllYjU3NDJiNTg3NjViYTdiYTQ4Nzk4ZmYgPSBMLnBvcHVwKHsibWF4V2lkdGgiOiAiMTAwJSJ9KTsKCiAgICAgICAgCiAgICAgICAgICAgIHZhciBodG1sX2NkNWIyMzZhMDI0NDQwZThhOWI1NWM2OWZlMjc2MjQxID0gJChgPGRpdiBpZD0iaHRtbF9jZDViMjM2YTAyNDQ0MGU4YTliNTVjNjlmZTI3NjI0MSIgc3R5bGU9IndpZHRoOiAxMDAuMCU7IGhlaWdodDogMTAwLjAlOyI+RlJBVUQ8L2Rpdj5gKVswXTsKICAgICAgICAgICAgcG9wdXBfOGI3MjQyNjllYjU3NDJiNTg3NjViYTdiYTQ4Nzk4ZmYuc2V0Q29udGVudChodG1sX2NkNWIyMzZhMDI0NDQwZThhOWI1NWM2OWZlMjc2MjQxKTsKICAgICAgICAKCiAgICAgICAgbWFya2VyXzYzMzE1NTdhYThiZDQ4NmJiYjExMTY1YTI3NGI1YTk1LmJpbmRQb3B1cChwb3B1cF84YjcyNDI2OWViNTc0MmI1ODc2NWJhN2JhNDg3OThmZikKICAgICAgICA7CgogICAgICAgIAogICAgCiAgICAKICAgICAgICAgICAgdmFyIG1hcmtlcl9jMzRhYmIxNzUwZjM0NDFjYWFjZjBmMWU1Mzk4NmI0MyA9IEwubWFya2VyKAogICAgICAgICAgICAgICAgWzM3Ljc5Mjg0MTI4NDA0NDcwNSwgLTEyMi40MjQ1MTk4MzUwMDkwMV0sCiAgICAgICAgICAgICAgICB7fQogICAgICAgICAgICApLmFkZFRvKG1hcmtlcl9jbHVzdGVyXzEwMjZlNjM2NjNmNDQwZjJhNTVmNjJlOTFmOGY5YjU4KTsKICAgICAgICAKICAgIAogICAgICAgIHZhciBwb3B1cF81YTZmOTJjOGExODM0MjRmYTE0MDRhZTVkNjVkZGEwMiA9IEwucG9wdXAoeyJtYXhXaWR0aCI6ICIxMDAlIn0pOwoKICAgICAgICAKICAgICAgICAgICAgdmFyIGh0bWxfOGY4NjE2NzJhODM4NGY2N2I2NTJkZWQ0ZGZmOTQ5YzkgPSAkKGA8ZGl2IGlkPSJodG1sXzhmODYxNjcyYTgzODRmNjdiNjUyZGVkNGRmZjk0OWM5IiBzdHlsZT0id2lkdGg6IDEwMC4wJTsgaGVpZ2h0OiAxMDAuMCU7Ij5XQVJSQU5UUzwvZGl2PmApWzBdOwogICAgICAgICAgICBwb3B1cF81YTZmOTJjOGExODM0MjRmYTE0MDRhZTVkNjVkZGEwMi5zZXRDb250ZW50KGh0bWxfOGY4NjE2NzJhODM4NGY2N2I2NTJkZWQ0ZGZmOTQ5YzkpOwogICAgICAgIAoKICAgICAgICBtYXJrZXJfYzM0YWJiMTc1MGYzNDQxY2FhY2YwZjFlNTM5ODZiNDMuYmluZFBvcHVwKHBvcHVwXzVhNmY5MmM4YTE4MzQyNGZhMTQwNGFlNWQ2NWRkYTAyKQogICAgICAgIDsKCiAgICAgICAgCiAgICAKICAgIAogICAgICAgICAgICB2YXIgbWFya2VyX2YyM2RlZmJiY2I3MTQ5MWZhZDBkNDgwYzFjZjQ5NmVjID0gTC5tYXJrZXIoCiAgICAgICAgICAgICAgICBbMzcuNzU0MDk4Njg4MjA2Nzk1LCAtMTIyLjQxNDIzMzg0OTAzNzk4XSwKICAgICAgICAgICAgICAgIHt9CiAgICAgICAgICAgICkuYWRkVG8obWFya2VyX2NsdXN0ZXJfMTAyNmU2MzY2M2Y0NDBmMmE1NWY2MmU5MWY4ZjliNTgpOwogICAgICAgIAogICAgCiAgICAgICAgdmFyIHBvcHVwX2VkYTA1YTQ5NjNlNTRlNTJiZjJlYTY2OWVmYjNiMTgzID0gTC5wb3B1cCh7Im1heFdpZHRoIjogIjEwMCUifSk7CgogICAgICAgIAogICAgICAgICAgICB2YXIgaHRtbF8yMDdjOWU5ZTUxOTc0Y2FkOTkzNGU3NDJkNzE3NmEyZCA9ICQoYDxkaXYgaWQ9Imh0bWxfMjA3YzllOWU1MTk3NGNhZDk5MzRlNzQyZDcxNzZhMmQiIHN0eWxlPSJ3aWR0aDogMTAwLjAlOyBoZWlnaHQ6IDEwMC4wJTsiPkRSVUcvTkFSQ09USUM8L2Rpdj5gKVswXTsKICAgICAgICAgICAgcG9wdXBfZWRhMDVhNDk2M2U1NGU1MmJmMmVhNjY5ZWZiM2IxODMuc2V0Q29udGVudChodG1sXzIwN2M5ZTllNTE5NzRjYWQ5OTM0ZTc0MmQ3MTc2YTJkKTsKICAgICAgICAKCiAgICAgICAgbWFya2VyX2YyM2RlZmJiY2I3MTQ5MWZhZDBkNDgwYzFjZjQ5NmVjLmJpbmRQb3B1cChwb3B1cF9lZGEwNWE0OTYzZTU0ZTUyYmYyZWE2NjllZmIzYjE4MykKICAgICAgICA7CgogICAgICAgIAogICAgCiAgICAKICAgICAgICAgICAgdmFyIG1hcmtlcl8wZTFlNzQ4YWQyNDg0OTk4YTJhMmJkMDk2MTU0MDU4MCA9IEwubWFya2VyKAogICAgICAgICAgICAgICAgWzM3Ljc1NDA5ODY4ODIwNjc5NSwgLTEyMi40MTQyMzM4NDkwMzc5OF0sCiAgICAgICAgICAgICAgICB7fQogICAgICAgICAgICApLmFkZFRvKG1hcmtlcl9jbHVzdGVyXzEwMjZlNjM2NjNmNDQwZjJhNTVmNjJlOTFmOGY5YjU4KTsKICAgICAgICAKICAgIAogICAgICAgIHZhciBwb3B1cF85MTJmZjMyMDliOGI0YTUzOTI0NDM1YzcwMGM1MzJlNSA9IEwucG9wdXAoeyJtYXhXaWR0aCI6ICIxMDAlIn0pOwoKICAgICAgICAKICAgICAgICAgICAgdmFyIGh0bWxfMzI0ZjZhYjU2MGEyNGQ5NTkzMmI5MjZkYjEzZTIwNjcgPSAkKGA8ZGl2IGlkPSJodG1sXzMyNGY2YWI1NjBhMjRkOTU5MzJiOTI2ZGIxM2UyMDY3IiBzdHlsZT0id2lkdGg6IDEwMC4wJTsgaGVpZ2h0OiAxMDAuMCU7Ij5PVEhFUiBPRkZFTlNFUzwvZGl2PmApWzBdOwogICAgICAgICAgICBwb3B1cF85MTJmZjMyMDliOGI0YTUzOTI0NDM1YzcwMGM1MzJlNS5zZXRDb250ZW50KGh0bWxfMzI0ZjZhYjU2MGEyNGQ5NTkzMmI5MjZkYjEzZTIwNjcpOwogICAgICAgIAoKICAgICAgICBtYXJrZXJfMGUxZTc0OGFkMjQ4NDk5OGEyYTJiZDA5NjE1NDA1ODAuYmluZFBvcHVwKHBvcHVwXzkxMmZmMzIwOWI4YjRhNTM5MjQ0MzVjNzAwYzUzMmU1KQogICAgICAgIDsKCiAgICAgICAgCiAgICAKICAgIAogICAgICAgICAgICB2YXIgbWFya2VyXzYyYWNjNWZlMGFmOTRiNmFiODQxNTkxMDg1NzE0MTc4ID0gTC5tYXJrZXIoCiAgICAgICAgICAgICAgICBbMzcuNzcxNDkzOTk2OTQxNiwgLTEyMi41MDc3NTAxMzEwMDQwMl0sCiAgICAgICAgICAgICAgICB7fQogICAgICAgICAgICApLmFkZFRvKG1hcmtlcl9jbHVzdGVyXzEwMjZlNjM2NjNmNDQwZjJhNTVmNjJlOTFmOGY5YjU4KTsKICAgICAgICAKICAgIAogICAgICAgIHZhciBwb3B1cF9iZjQxYmVhMDI3OWE0MGNiOTllZWEwNDlmMjVkZDA1OSA9IEwucG9wdXAoeyJtYXhXaWR0aCI6ICIxMDAlIn0pOwoKICAgICAgICAKICAgICAgICAgICAgdmFyIGh0bWxfMzc2YzBiOTFlNDljNDc4ZTkzMGYyNGNjMDc0NmI0MzQgPSAkKGA8ZGl2IGlkPSJodG1sXzM3NmMwYjkxZTQ5YzQ3OGU5MzBmMjRjYzA3NDZiNDM0IiBzdHlsZT0id2lkdGg6IDEwMC4wJTsgaGVpZ2h0OiAxMDAuMCU7Ij5BU1NBVUxUPC9kaXY+YClbMF07CiAgICAgICAgICAgIHBvcHVwX2JmNDFiZWEwMjc5YTQwY2I5OWVlYTA0OWYyNWRkMDU5LnNldENvbnRlbnQoaHRtbF8zNzZjMGI5MWU0OWM0NzhlOTMwZjI0Y2MwNzQ2YjQzNCk7CiAgICAgICAgCgogICAgICAgIG1hcmtlcl82MmFjYzVmZTBhZjk0YjZhYjg0MTU5MTA4NTcxNDE3OC5iaW5kUG9wdXAocG9wdXBfYmY0MWJlYTAyNzlhNDBjYjk5ZWVhMDQ5ZjI1ZGQwNTkpCiAgICAgICAgOwoKICAgICAgICAKICAgIAogICAgCiAgICAgICAgICAgIHZhciBtYXJrZXJfMTI1NTNhMWIzNDY3NGRkMzk3ODJiOTZhMGNjY2E3YjggPSBMLm1hcmtlcigKICAgICAgICAgICAgICAgIFszNy43MTgzMDIyMDQ3NjYwMDUsIC0xMjIuNDc0NDQ0NjM5NTk0OTldLAogICAgICAgICAgICAgICAge30KICAgICAgICAgICAgKS5hZGRUbyhtYXJrZXJfY2x1c3Rlcl8xMDI2ZTYzNjYzZjQ0MGYyYTU1ZjYyZTkxZjhmOWI1OCk7CiAgICAgICAgCiAgICAKICAgICAgICB2YXIgcG9wdXBfOWRhYTUyZTU1NDViNDExMDg2OTMzZDdjZWI1MmIyNDIgPSBMLnBvcHVwKHsibWF4V2lkdGgiOiAiMTAwJSJ9KTsKCiAgICAgICAgCiAgICAgICAgICAgIHZhciBodG1sXzhlMDcwNTkwNmU2NDQwYWI5Mjg0MWExNjA3ZjI5NjAyID0gJChgPGRpdiBpZD0iaHRtbF84ZTA3MDU5MDZlNjQ0MGFiOTI4NDFhMTYwN2YyOTYwMiIgc3R5bGU9IndpZHRoOiAxMDAuMCU7IGhlaWdodDogMTAwLjAlOyI+T1RIRVIgT0ZGRU5TRVM8L2Rpdj5gKVswXTsKICAgICAgICAgICAgcG9wdXBfOWRhYTUyZTU1NDViNDExMDg2OTMzZDdjZWI1MmIyNDIuc2V0Q29udGVudChodG1sXzhlMDcwNTkwNmU2NDQwYWI5Mjg0MWExNjA3ZjI5NjAyKTsKICAgICAgICAKCiAgICAgICAgbWFya2VyXzEyNTUzYTFiMzQ2NzRkZDM5NzgyYjk2YTBjY2NhN2I4LmJpbmRQb3B1cChwb3B1cF85ZGFhNTJlNTU0NWI0MTEwODY5MzNkN2NlYjUyYjI0MikKICAgICAgICA7CgogICAgICAgIAogICAgCiAgICAKICAgICAgICAgICAgdmFyIG1hcmtlcl9kOTkxZmI3MjVjOTk0OTg2OWZmNTNhMmU4NmY2ZDg0YyA9IEwubWFya2VyKAogICAgICAgICAgICAgICAgWzM3Ljc2NDU3NTIzMTc2MTUsIC0xMjIuNDI3NTYyNTk2OTg1XSwKICAgICAgICAgICAgICAgIHt9CiAgICAgICAgICAgICkuYWRkVG8obWFya2VyX2NsdXN0ZXJfMTAyNmU2MzY2M2Y0NDBmMmE1NWY2MmU5MWY4ZjliNTgpOwogICAgICAgIAogICAgCiAgICAgICAgdmFyIHBvcHVwXzQzYzMwYTMwNjhmZTQxMGFhNGRhYjg0YjJkZDQ2OTc3ID0gTC5wb3B1cCh7Im1heFdpZHRoIjogIjEwMCUifSk7CgogICAgICAgIAogICAgICAgICAgICB2YXIgaHRtbF8yYTg1YTFlMTIyM2I0YzllYmRiMzVjODUyODBmMzY1OCA9ICQoYDxkaXYgaWQ9Imh0bWxfMmE4NWExZTEyMjNiNGM5ZWJkYjM1Yzg1MjgwZjM2NTgiIHN0eWxlPSJ3aWR0aDogMTAwLjAlOyBoZWlnaHQ6IDEwMC4wJTsiPk9USEVSIE9GRkVOU0VTPC9kaXY+YClbMF07CiAgICAgICAgICAgIHBvcHVwXzQzYzMwYTMwNjhmZTQxMGFhNGRhYjg0YjJkZDQ2OTc3LnNldENvbnRlbnQoaHRtbF8yYTg1YTFlMTIyM2I0YzllYmRiMzVjODUyODBmMzY1OCk7CiAgICAgICAgCgogICAgICAgIG1hcmtlcl9kOTkxZmI3MjVjOTk0OTg2OWZmNTNhMmU4NmY2ZDg0Yy5iaW5kUG9wdXAocG9wdXBfNDNjMzBhMzA2OGZlNDEwYWE0ZGFiODRiMmRkNDY5NzcpCiAgICAgICAgOwoKICAgICAgICAKICAgIAogICAgCiAgICAgICAgICAgIHZhciBtYXJrZXJfODBiZTBiYzRjNWU0NDg4ODkzY2EzNDdhYjE1YWJhZjIgPSBMLm1hcmtlcigKICAgICAgICAgICAgICAgIFszNy43ODc0Mzc4MzA5MTEyLCAtMTIyLjQxOTIwMzAwNDI2OF0sCiAgICAgICAgICAgICAgICB7fQogICAgICAgICAgICApLmFkZFRvKG1hcmtlcl9jbHVzdGVyXzEwMjZlNjM2NjNmNDQwZjJhNTVmNjJlOTFmOGY5YjU4KTsKICAgICAgICAKICAgIAogICAgICAgIHZhciBwb3B1cF80MjQ0MTM0Njk3YmU0Y2JhODgzZmRiYzQzYzA3NDJlYSA9IEwucG9wdXAoeyJtYXhXaWR0aCI6ICIxMDAlIn0pOwoKICAgICAgICAKICAgICAgICAgICAgdmFyIGh0bWxfZDljYjAyYTc4YTUyNDgwZDk3YjVhNGVlNTQ1OTFkNzkgPSAkKGA8ZGl2IGlkPSJodG1sX2Q5Y2IwMmE3OGE1MjQ4MGQ5N2I1YTRlZTU0NTkxZDc5IiBzdHlsZT0id2lkdGg6IDEwMC4wJTsgaGVpZ2h0OiAxMDAuMCU7Ij5CVVJHTEFSWTwvZGl2PmApWzBdOwogICAgICAgICAgICBwb3B1cF80MjQ0MTM0Njk3YmU0Y2JhODgzZmRiYzQzYzA3NDJlYS5zZXRDb250ZW50KGh0bWxfZDljYjAyYTc4YTUyNDgwZDk3YjVhNGVlNTQ1OTFkNzkpOwogICAgICAgIAoKICAgICAgICBtYXJrZXJfODBiZTBiYzRjNWU0NDg4ODkzY2EzNDdhYjE1YWJhZjIuYmluZFBvcHVwKHBvcHVwXzQyNDQxMzQ2OTdiZTRjYmE4ODNmZGJjNDNjMDc0MmVhKQogICAgICAgIDsKCiAgICAgICAgCiAgICAKICAgIAogICAgICAgICAgICB2YXIgbWFya2VyXzMxOWMyOGU5MmZiZTRhMTQ4ZTljMzExMGQ4ZTEyMTJiID0gTC5tYXJrZXIoCiAgICAgICAgICAgICAgICBbMzcuNzQ5MzY4ODI4NDUzMiwgLTEyMi40MTI2OTAxNDIzMDgwMV0sCiAgICAgICAgICAgICAgICB7fQogICAgICAgICAgICApLmFkZFRvKG1hcmtlcl9jbHVzdGVyXzEwMjZlNjM2NjNmNDQwZjJhNTVmNjJlOTFmOGY5YjU4KTsKICAgICAgICAKICAgIAogICAgICAgIHZhciBwb3B1cF82MTQ1MGUzMzZhYzg0ZGIwOTY1YTg3YTI0M2UxMDYwNiA9IEwucG9wdXAoeyJtYXhXaWR0aCI6ICIxMDAlIn0pOwoKICAgICAgICAKICAgICAgICAgICAgdmFyIGh0bWxfYjg0NDFmZDMwMDM4NGQ3OWFkMTc5YWRlMTMwM2Q2YjkgPSAkKGA8ZGl2IGlkPSJodG1sX2I4NDQxZmQzMDAzODRkNzlhZDE3OWFkZTEzMDNkNmI5IiBzdHlsZT0id2lkdGg6IDEwMC4wJTsgaGVpZ2h0OiAxMDAuMCU7Ij5PVEhFUiBPRkZFTlNFUzwvZGl2PmApWzBdOwogICAgICAgICAgICBwb3B1cF82MTQ1MGUzMzZhYzg0ZGIwOTY1YTg3YTI0M2UxMDYwNi5zZXRDb250ZW50KGh0bWxfYjg0NDFmZDMwMDM4NGQ3OWFkMTc5YWRlMTMwM2Q2YjkpOwogICAgICAgIAoKICAgICAgICBtYXJrZXJfMzE5YzI4ZTkyZmJlNGExNDhlOWMzMTEwZDhlMTIxMmIuYmluZFBvcHVwKHBvcHVwXzYxNDUwZTMzNmFjODRkYjA5NjVhODdhMjQzZTEwNjA2KQogICAgICAgIDsKCiAgICAgICAgCiAgICAKICAgIAogICAgICAgICAgICB2YXIgbWFya2VyXzIzYWU1Mjc5ZjE4NDRkMDU5ZWY1NTdlY2I4NmNkNzlhID0gTC5tYXJrZXIoCiAgICAgICAgICAgICAgICBbMzcuNzA5MjAxMDQ2MjM3OSwgLTEyMi40MzQ2MDkyODAzNTJdLAogICAgICAgICAgICAgICAge30KICAgICAgICAgICAgKS5hZGRUbyhtYXJrZXJfY2x1c3Rlcl8xMDI2ZTYzNjYzZjQ0MGYyYTU1ZjYyZTkxZjhmOWI1OCk7CiAgICAgICAgCiAgICAKICAgICAgICB2YXIgcG9wdXBfODI5MzJhNzc0NmRjNDYwYjhiMjEzNGU0Y2Y1OWUzMTggPSBMLnBvcHVwKHsibWF4V2lkdGgiOiAiMTAwJSJ9KTsKCiAgICAgICAgCiAgICAgICAgICAgIHZhciBodG1sXzc2MjQwOWRlODk3MDQ5MzViYTM2NzgzMmUzODU5NmRiID0gJChgPGRpdiBpZD0iaHRtbF83NjI0MDlkZTg5NzA0OTM1YmEzNjc4MzJlMzg1OTZkYiIgc3R5bGU9IndpZHRoOiAxMDAuMCU7IGhlaWdodDogMTAwLjAlOyI+Tk9OLUNSSU1JTkFMPC9kaXY+YClbMF07CiAgICAgICAgICAgIHBvcHVwXzgyOTMyYTc3NDZkYzQ2MGI4YjIxMzRlNGNmNTllMzE4LnNldENvbnRlbnQoaHRtbF83NjI0MDlkZTg5NzA0OTM1YmEzNjc4MzJlMzg1OTZkYik7CiAgICAgICAgCgogICAgICAgIG1hcmtlcl8yM2FlNTI3OWYxODQ0ZDA1OWVmNTU3ZWNiODZjZDc5YS5iaW5kUG9wdXAocG9wdXBfODI5MzJhNzc0NmRjNDYwYjhiMjEzNGU0Y2Y1OWUzMTgpCiAgICAgICAgOwoKICAgICAgICAKICAgIAogICAgCiAgICAgICAgICAgIHZhciBtYXJrZXJfNWUwOTQxYTRiZDY1NDI0NmJiYTNkZWNjZGNiOTVmYWQgPSBMLm1hcmtlcigKICAgICAgICAgICAgICAgIFszNy43ODc5MjA5Mzc1NTMyOTUsIC0xMjIuNDEwODgyODI1NTUxXSwKICAgICAgICAgICAgICAgIHt9CiAgICAgICAgICAgICkuYWRkVG8obWFya2VyX2NsdXN0ZXJfMTAyNmU2MzY2M2Y0NDBmMmE1NWY2MmU5MWY4ZjliNTgpOwogICAgICAgIAogICAgCiAgICAgICAgdmFyIHBvcHVwXzFjY2RkM2JmN2ZmYzQxYTA4MzkyYzcxNDZmNTU5ZjdiID0gTC5wb3B1cCh7Im1heFdpZHRoIjogIjEwMCUifSk7CgogICAgICAgIAogICAgICAgICAgICB2YXIgaHRtbF80NzAxMmY5MDRkYjA0NjAzOTc4NDRlODBlYThkNDJjMiA9ICQoYDxkaXYgaWQ9Imh0bWxfNDcwMTJmOTA0ZGIwNDYwMzk3ODQ0ZTgwZWE4ZDQyYzIiIHN0eWxlPSJ3aWR0aDogMTAwLjAlOyBoZWlnaHQ6IDEwMC4wJTsiPlZFSElDTEUgVEhFRlQ8L2Rpdj5gKVswXTsKICAgICAgICAgICAgcG9wdXBfMWNjZGQzYmY3ZmZjNDFhMDgzOTJjNzE0NmY1NTlmN2Iuc2V0Q29udGVudChodG1sXzQ3MDEyZjkwNGRiMDQ2MDM5Nzg0NGU4MGVhOGQ0MmMyKTsKICAgICAgICAKCiAgICAgICAgbWFya2VyXzVlMDk0MWE0YmQ2NTQyNDZiYmEzZGVjY2RjYjk1ZmFkLmJpbmRQb3B1cChwb3B1cF8xY2NkZDNiZjdmZmM0MWEwODM5MmM3MTQ2ZjU1OWY3YikKICAgICAgICA7CgogICAgICAgIAogICAgCiAgICAKICAgICAgICAgICAgdmFyIG1hcmtlcl80ZTkwNDU2ZTY1Mzc0NzZlODIxMTUxOTY3ZDg2MDg1YSA9IEwubWFya2VyKAogICAgICAgICAgICAgICAgWzM3LjgwMDQ1NjY0NzEwMzg5LCAtMTIyLjQwMTQzMjc1NDcyMjAxXSwKICAgICAgICAgICAgICAgIHt9CiAgICAgICAgICAgICkuYWRkVG8obWFya2VyX2NsdXN0ZXJfMTAyNmU2MzY2M2Y0NDBmMmE1NWY2MmU5MWY4ZjliNTgpOwogICAgICAgIAogICAgCiAgICAgICAgdmFyIHBvcHVwXzEyNWI2MzI4ZGZmYjRiMjdiYTRmOTc2NmQyMmU4MjZmID0gTC5wb3B1cCh7Im1heFdpZHRoIjogIjEwMCUifSk7CgogICAgICAgIAogICAgICAgICAgICB2YXIgaHRtbF85MzRjY2U4OGZjOTI0Y2ZmYWJiMzJiZmY0YTIwNzA5MyA9ICQoYDxkaXYgaWQ9Imh0bWxfOTM0Y2NlODhmYzkyNGNmZmFiYjMyYmZmNGEyMDcwOTMiIHN0eWxlPSJ3aWR0aDogMTAwLjAlOyBoZWlnaHQ6IDEwMC4wJTsiPlZFSElDTEUgVEhFRlQ8L2Rpdj5gKVswXTsKICAgICAgICAgICAgcG9wdXBfMTI1YjYzMjhkZmZiNGIyN2JhNGY5NzY2ZDIyZTgyNmYuc2V0Q29udGVudChodG1sXzkzNGNjZTg4ZmM5MjRjZmZhYmIzMmJmZjRhMjA3MDkzKTsKICAgICAgICAKCiAgICAgICAgbWFya2VyXzRlOTA0NTZlNjUzNzQ3NmU4MjExNTE5NjdkODYwODVhLmJpbmRQb3B1cChwb3B1cF8xMjViNjMyOGRmZmI0YjI3YmE0Zjk3NjZkMjJlODI2ZikKICAgICAgICA7CgogICAgICAgIAogICAgCiAgICAKICAgICAgICAgICAgdmFyIG1hcmtlcl80M2E5OWVkYTA0MGU0NDYxYWYzN2NiNTY2MDI1NzZhMyA9IEwubWFya2VyKAogICAgICAgICAgICAgICAgWzM3Ljc0MzU1NTA1NDIyNjUsIC0xMjIuNDIxMTI4MDI5NTA1XSwKICAgICAgICAgICAgICAgIHt9CiAgICAgICAgICAgICkuYWRkVG8obWFya2VyX2NsdXN0ZXJfMTAyNmU2MzY2M2Y0NDBmMmE1NWY2MmU5MWY4ZjliNTgpOwogICAgICAgIAogICAgCiAgICAgICAgdmFyIHBvcHVwX2QyYzg1ZTg4N2U0ZjQ2NTM5OGRhZDYyNzY4ZTBhZGNiID0gTC5wb3B1cCh7Im1heFdpZHRoIjogIjEwMCUifSk7CgogICAgICAgIAogICAgICAgICAgICB2YXIgaHRtbF8wNGM4Y2NlNDYyM2I0MzQ2YjEzYjU1ZDZlM2Y5OGVlMiA9ICQoYDxkaXYgaWQ9Imh0bWxfMDRjOGNjZTQ2MjNiNDM0NmIxM2I1NWQ2ZTNmOThlZTIiIHN0eWxlPSJ3aWR0aDogMTAwLjAlOyBoZWlnaHQ6IDEwMC4wJTsiPkxBUkNFTlkvVEhFRlQ8L2Rpdj5gKVswXTsKICAgICAgICAgICAgcG9wdXBfZDJjODVlODg3ZTRmNDY1Mzk4ZGFkNjI3NjhlMGFkY2Iuc2V0Q29udGVudChodG1sXzA0YzhjY2U0NjIzYjQzNDZiMTNiNTVkNmUzZjk4ZWUyKTsKICAgICAgICAKCiAgICAgICAgbWFya2VyXzQzYTk5ZWRhMDQwZTQ0NjFhZjM3Y2I1NjYwMjU3NmEzLmJpbmRQb3B1cChwb3B1cF9kMmM4NWU4ODdlNGY0NjUzOThkYWQ2Mjc2OGUwYWRjYikKICAgICAgICA7CgogICAgICAgIAogICAgCiAgICAKICAgICAgICAgICAgdmFyIG1hcmtlcl85ZWNiOGNjMDUxZTk0NjE1Yjc0YjRkMDVkNGZkNzU4ZSA9IEwubWFya2VyKAogICAgICAgICAgICAgICAgWzM3Ljc4NjU2NDc2MDc2ODUsIC0xMjIuNDA3MjQ0MDg3MDMyXSwKICAgICAgICAgICAgICAgIHt9CiAgICAgICAgICAgICkuYWRkVG8obWFya2VyX2NsdXN0ZXJfMTAyNmU2MzY2M2Y0NDBmMmE1NWY2MmU5MWY4ZjliNTgpOwogICAgICAgIAogICAgCiAgICAgICAgdmFyIHBvcHVwXzJjZmY1NGM3NGM0ZTRlN2JiM2ZkZTJlMzJmYjkzOGU3ID0gTC5wb3B1cCh7Im1heFdpZHRoIjogIjEwMCUifSk7CgogICAgICAgIAogICAgICAgICAgICB2YXIgaHRtbF9kODlmNzMyZGYxZjM0NWRiYjAxMzMzNWQ1ODA5YjQ3NiA9ICQoYDxkaXYgaWQ9Imh0bWxfZDg5ZjczMmRmMWYzNDVkYmIwMTMzMzVkNTgwOWI0NzYiIHN0eWxlPSJ3aWR0aDogMTAwLjAlOyBoZWlnaHQ6IDEwMC4wJTsiPkFTU0FVTFQ8L2Rpdj5gKVswXTsKICAgICAgICAgICAgcG9wdXBfMmNmZjU0Yzc0YzRlNGU3YmIzZmRlMmUzMmZiOTM4ZTcuc2V0Q29udGVudChodG1sX2Q4OWY3MzJkZjFmMzQ1ZGJiMDEzMzM1ZDU4MDliNDc2KTsKICAgICAgICAKCiAgICAgICAgbWFya2VyXzllY2I4Y2MwNTFlOTQ2MTViNzRiNGQwNWQ0ZmQ3NThlLmJpbmRQb3B1cChwb3B1cF8yY2ZmNTRjNzRjNGU0ZTdiYjNmZGUyZTMyZmI5MzhlNykKICAgICAgICA7CgogICAgICAgIAogICAgCiAgICAKICAgICAgICAgICAgdmFyIG1hcmtlcl85YmY4ODk1ZmViNWY0YmUzODM0MjMxMDBmMjUzMTdmMyA9IEwubWFya2VyKAogICAgICAgICAgICAgICAgWzM3Ljc2MTU2NTU5MjgwNDUsIC0xMjIuNDIzODAzMDAxOTAwOTldLAogICAgICAgICAgICAgICAge30KICAgICAgICAgICAgKS5hZGRUbyhtYXJrZXJfY2x1c3Rlcl8xMDI2ZTYzNjYzZjQ0MGYyYTU1ZjYyZTkxZjhmOWI1OCk7CiAgICAgICAgCiAgICAKICAgICAgICB2YXIgcG9wdXBfYjBmYjI0YzJlMmVlNGQxMWI4NDQ3ODY3ZTcxZmU2YzUgPSBMLnBvcHVwKHsibWF4V2lkdGgiOiAiMTAwJSJ9KTsKCiAgICAgICAgCiAgICAgICAgICAgIHZhciBodG1sX2I4OTQyNjM3MTliNTQyYWU4YzBiM2M5ODk2YzViNzVmID0gJChgPGRpdiBpZD0iaHRtbF9iODk0MjYzNzE5YjU0MmFlOGMwYjNjOTg5NmM1Yjc1ZiIgc3R5bGU9IndpZHRoOiAxMDAuMCU7IGhlaWdodDogMTAwLjAlOyI+UkVDT1ZFUkVEIFZFSElDTEU8L2Rpdj5gKVswXTsKICAgICAgICAgICAgcG9wdXBfYjBmYjI0YzJlMmVlNGQxMWI4NDQ3ODY3ZTcxZmU2YzUuc2V0Q29udGVudChodG1sX2I4OTQyNjM3MTliNTQyYWU4YzBiM2M5ODk2YzViNzVmKTsKICAgICAgICAKCiAgICAgICAgbWFya2VyXzliZjg4OTVmZWI1ZjRiZTM4MzQyMzEwMGYyNTMxN2YzLmJpbmRQb3B1cChwb3B1cF9iMGZiMjRjMmUyZWU0ZDExYjg0NDc4NjdlNzFmZTZjNSkKICAgICAgICA7CgogICAgICAgIAogICAgCiAgICAKICAgICAgICAgICAgdmFyIG1hcmtlcl9hZDI1Nzk4NmI3ZjA0MGYzYjViNDIwNDNiY2RhYjkzZiA9IEwubWFya2VyKAogICAgICAgICAgICAgICAgWzM3Ljc2MTU2NTU5MjgwNDUsIC0xMjIuNDIzODAzMDAxOTAwOTldLAogICAgICAgICAgICAgICAge30KICAgICAgICAgICAgKS5hZGRUbyhtYXJrZXJfY2x1c3Rlcl8xMDI2ZTYzNjYzZjQ0MGYyYTU1ZjYyZTkxZjhmOWI1OCk7CiAgICAgICAgCiAgICAKICAgICAgICB2YXIgcG9wdXBfYjg2MDI2Nzc2NmJmNDBlMzgzOTZkOGY2MWE4NjUzODMgPSBMLnBvcHVwKHsibWF4V2lkdGgiOiAiMTAwJSJ9KTsKCiAgICAgICAgCiAgICAgICAgICAgIHZhciBodG1sX2I1ODIwODI2YWRjMDQ3OTJhMWFhOTljN2E3MzE0MjA0ID0gJChgPGRpdiBpZD0iaHRtbF9iNTgyMDgyNmFkYzA0NzkyYTFhYTk5YzdhNzMxNDIwNCIgc3R5bGU9IndpZHRoOiAxMDAuMCU7IGhlaWdodDogMTAwLjAlOyI+T1RIRVIgT0ZGRU5TRVM8L2Rpdj5gKVswXTsKICAgICAgICAgICAgcG9wdXBfYjg2MDI2Nzc2NmJmNDBlMzgzOTZkOGY2MWE4NjUzODMuc2V0Q29udGVudChodG1sX2I1ODIwODI2YWRjMDQ3OTJhMWFhOTljN2E3MzE0MjA0KTsKICAgICAgICAKCiAgICAgICAgbWFya2VyX2FkMjU3OTg2YjdmMDQwZjNiNWI0MjA0M2JjZGFiOTNmLmJpbmRQb3B1cChwb3B1cF9iODYwMjY3NzY2YmY0MGUzODM5NmQ4ZjYxYTg2NTM4MykKICAgICAgICA7CgogICAgICAgIAogICAgCiAgICAKICAgICAgICAgICAgdmFyIG1hcmtlcl8xYzgxZjlkMWQxNjU0MmQzOTJlNWE0Zjc2ZmU0YzE1YSA9IEwubWFya2VyKAogICAgICAgICAgICAgICAgWzM3Ljc0NDE5Mjc1MDg5MzIwNSwgLTEyMi40NDQ2ODU0ODIyNzNdLAogICAgICAgICAgICAgICAge30KICAgICAgICAgICAgKS5hZGRUbyhtYXJrZXJfY2x1c3Rlcl8xMDI2ZTYzNjYzZjQ0MGYyYTU1ZjYyZTkxZjhmOWI1OCk7CiAgICAgICAgCiAgICAKICAgICAgICB2YXIgcG9wdXBfMTEwMzk4MGNlNmUyNGIyOTg0MDFhYWU1NTRlMzliNTggPSBMLnBvcHVwKHsibWF4V2lkdGgiOiAiMTAwJSJ9KTsKCiAgICAgICAgCiAgICAgICAgICAgIHZhciBodG1sXzIyNTQwODQxYTJjOTQ1ZGRiNmZmZjJhMDUyMmQzOGIxID0gJChgPGRpdiBpZD0iaHRtbF8yMjU0MDg0MWEyYzk0NWRkYjZmZmYyYTA1MjJkMzhiMSIgc3R5bGU9IndpZHRoOiAxMDAuMCU7IGhlaWdodDogMTAwLjAlOyI+Tk9OLUNSSU1JTkFMPC9kaXY+YClbMF07CiAgICAgICAgICAgIHBvcHVwXzExMDM5ODBjZTZlMjRiMjk4NDAxYWFlNTU0ZTM5YjU4LnNldENvbnRlbnQoaHRtbF8yMjU0MDg0MWEyYzk0NWRkYjZmZmYyYTA1MjJkMzhiMSk7CiAgICAgICAgCgogICAgICAgIG1hcmtlcl8xYzgxZjlkMWQxNjU0MmQzOTJlNWE0Zjc2ZmU0YzE1YS5iaW5kUG9wdXAocG9wdXBfMTEwMzk4MGNlNmUyNGIyOTg0MDFhYWU1NTRlMzliNTgpCiAgICAgICAgOwoKICAgICAgICAKICAgIAogICAgCiAgICAgICAgICAgIHZhciBtYXJrZXJfZmZkODQ3M2ZjMjBiNDM0OWFlZDRjYzAxNjk4OWI3ZWEgPSBMLm1hcmtlcigKICAgICAgICAgICAgICAgIFszNy43NzU0NjkyODIwMDQxLCAtMTIyLjQxNTc1NzAzOTE5Nl0sCiAgICAgICAgICAgICAgICB7fQogICAgICAgICAgICApLmFkZFRvKG1hcmtlcl9jbHVzdGVyXzEwMjZlNjM2NjNmNDQwZjJhNTVmNjJlOTFmOGY5YjU4KTsKICAgICAgICAKICAgIAogICAgICAgIHZhciBwb3B1cF8wYzAwNGIwMGQyODc0OWMzYWU0Y2EwYzQzYzEzNmUzNCA9IEwucG9wdXAoeyJtYXhXaWR0aCI6ICIxMDAlIn0pOwoKICAgICAgICAKICAgICAgICAgICAgdmFyIGh0bWxfOGU4MDE4NzcwOGYzNDFiZGJjOWQwMTBlNzRlMDljZTEgPSAkKGA8ZGl2IGlkPSJodG1sXzhlODAxODc3MDhmMzQxYmRiYzlkMDEwZTc0ZTA5Y2UxIiBzdHlsZT0id2lkdGg6IDEwMC4wJTsgaGVpZ2h0OiAxMDAuMCU7Ij5OT04tQ1JJTUlOQUw8L2Rpdj5gKVswXTsKICAgICAgICAgICAgcG9wdXBfMGMwMDRiMDBkMjg3NDljM2FlNGNhMGM0M2MxMzZlMzQuc2V0Q29udGVudChodG1sXzhlODAxODc3MDhmMzQxYmRiYzlkMDEwZTc0ZTA5Y2UxKTsKICAgICAgICAKCiAgICAgICAgbWFya2VyX2ZmZDg0NzNmYzIwYjQzNDlhZWQ0Y2MwMTY5ODliN2VhLmJpbmRQb3B1cChwb3B1cF8wYzAwNGIwMGQyODc0OWMzYWU0Y2EwYzQzYzEzNmUzNCkKICAgICAgICA7CgogICAgICAgIAogICAgCiAgICAKICAgICAgICAgICAgdmFyIG1hcmtlcl8zYTc3YWI0NzY0NWY0Yjc3YWZlOThiMzQ5YzUwZDdiOCA9IEwubWFya2VyKAogICAgICAgICAgICAgICAgWzM3LjcyODUyODA2Mjc0NjUsIC0xMjIuNDc1NjQ3NDYwNzg1OTldLAogICAgICAgICAgICAgICAge30KICAgICAgICAgICAgKS5hZGRUbyhtYXJrZXJfY2x1c3Rlcl8xMDI2ZTYzNjYzZjQ0MGYyYTU1ZjYyZTkxZjhmOWI1OCk7CiAgICAgICAgCiAgICAKICAgICAgICB2YXIgcG9wdXBfODM2NDhiMmJkYzk3NDgwNjlkZTY3OTZmODE4ODAxMTIgPSBMLnBvcHVwKHsibWF4V2lkdGgiOiAiMTAwJSJ9KTsKCiAgICAgICAgCiAgICAgICAgICAgIHZhciBodG1sX2M3ZTVlZTlkOWQ4NTQ5MjY5ZmE2NmVmYjBmYThiMzhlID0gJChgPGRpdiBpZD0iaHRtbF9jN2U1ZWU5ZDlkODU0OTI2OWZhNjZlZmIwZmE4YjM4ZSIgc3R5bGU9IndpZHRoOiAxMDAuMCU7IGhlaWdodDogMTAwLjAlOyI+Uk9CQkVSWTwvZGl2PmApWzBdOwogICAgICAgICAgICBwb3B1cF84MzY0OGIyYmRjOTc0ODA2OWRlNjc5NmY4MTg4MDExMi5zZXRDb250ZW50KGh0bWxfYzdlNWVlOWQ5ZDg1NDkyNjlmYTY2ZWZiMGZhOGIzOGUpOwogICAgICAgIAoKICAgICAgICBtYXJrZXJfM2E3N2FiNDc2NDVmNGI3N2FmZTk4YjM0OWM1MGQ3YjguYmluZFBvcHVwKHBvcHVwXzgzNjQ4YjJiZGM5NzQ4MDY5ZGU2Nzk2ZjgxODgwMTEyKQogICAgICAgIDsKCiAgICAgICAgCiAgICAKICAgIAogICAgICAgICAgICB2YXIgbWFya2VyXzkzNjE4MmY4NjUxNDRkNTlhOTZkZDE4Yzk3ZGZhMGI3ID0gTC5tYXJrZXIoCiAgICAgICAgICAgICAgICBbMzcuNzQyODUxNzM3NDQ0ODk0LCAtMTIyLjQyMDk2NzQ0MDU2NF0sCiAgICAgICAgICAgICAgICB7fQogICAgICAgICAgICApLmFkZFRvKG1hcmtlcl9jbHVzdGVyXzEwMjZlNjM2NjNmNDQwZjJhNTVmNjJlOTFmOGY5YjU4KTsKICAgICAgICAKICAgIAogICAgICAgIHZhciBwb3B1cF9kMjJjMDY2MDdjNTk0MTMwYjExZjg3NDE4OGZhZDQyNyA9IEwucG9wdXAoeyJtYXhXaWR0aCI6ICIxMDAlIn0pOwoKICAgICAgICAKICAgICAgICAgICAgdmFyIGh0bWxfNzE4ODFmMzA4NmI5NGE1MDhhMGQ2NjJjZDgyNzM4NWUgPSAkKGA8ZGl2IGlkPSJodG1sXzcxODgxZjMwODZiOTRhNTA4YTBkNjYyY2Q4MjczODVlIiBzdHlsZT0id2lkdGg6IDEwMC4wJTsgaGVpZ2h0OiAxMDAuMCU7Ij5PVEhFUiBPRkZFTlNFUzwvZGl2PmApWzBdOwogICAgICAgICAgICBwb3B1cF9kMjJjMDY2MDdjNTk0MTMwYjExZjg3NDE4OGZhZDQyNy5zZXRDb250ZW50KGh0bWxfNzE4ODFmMzA4NmI5NGE1MDhhMGQ2NjJjZDgyNzM4NWUpOwogICAgICAgIAoKICAgICAgICBtYXJrZXJfOTM2MTgyZjg2NTE0NGQ1OWE5NmRkMThjOTdkZmEwYjcuYmluZFBvcHVwKHBvcHVwX2QyMmMwNjYwN2M1OTQxMzBiMTFmODc0MTg4ZmFkNDI3KQogICAgICAgIDsKCiAgICAgICAgCiAgICAKICAgIAogICAgICAgICAgICB2YXIgbWFya2VyXzFiNWYzN2YyYzIzNDQ1ZTk5NDFhNmZiNmZkYmYxNjMzID0gTC5tYXJrZXIoCiAgICAgICAgICAgICAgICBbMzcuNzgyMTE5ODQ4ODkzMSwgLTEyMi40MTU2Njk2NjE0NDNdLAogICAgICAgICAgICAgICAge30KICAgICAgICAgICAgKS5hZGRUbyhtYXJrZXJfY2x1c3Rlcl8xMDI2ZTYzNjYzZjQ0MGYyYTU1ZjYyZTkxZjhmOWI1OCk7CiAgICAgICAgCiAgICAKICAgICAgICB2YXIgcG9wdXBfNWMyMWY0ODE0NzMzNDY1Zjg1M2YzNzQxMGY0M2NkZTUgPSBMLnBvcHVwKHsibWF4V2lkdGgiOiAiMTAwJSJ9KTsKCiAgICAgICAgCiAgICAgICAgICAgIHZhciBodG1sXzgyMThkNDMzZDk2YjRiZDk4ZjY0M2M4ODRkZTdhMTBmID0gJChgPGRpdiBpZD0iaHRtbF84MjE4ZDQzM2Q5NmI0YmQ5OGY2NDNjODg0ZGU3YTEwZiIgc3R5bGU9IndpZHRoOiAxMDAuMCU7IGhlaWdodDogMTAwLjAlOyI+VkFOREFMSVNNPC9kaXY+YClbMF07CiAgICAgICAgICAgIHBvcHVwXzVjMjFmNDgxNDczMzQ2NWY4NTNmMzc0MTBmNDNjZGU1LnNldENvbnRlbnQoaHRtbF84MjE4ZDQzM2Q5NmI0YmQ5OGY2NDNjODg0ZGU3YTEwZik7CiAgICAgICAgCgogICAgICAgIG1hcmtlcl8xYjVmMzdmMmMyMzQ0NWU5OTQxYTZmYjZmZGJmMTYzMy5iaW5kUG9wdXAocG9wdXBfNWMyMWY0ODE0NzMzNDY1Zjg1M2YzNzQxMGY0M2NkZTUpCiAgICAgICAgOwoKICAgICAgICAKICAgIAogICAgCiAgICAgICAgICAgIHZhciBtYXJrZXJfMTE3NWE1YzY4NGMwNDM3MWI2MmFiOTA2MjU3MDAwNTkgPSBMLm1hcmtlcigKICAgICAgICAgICAgICAgIFszNy43NzkxNjc0MjE4OTYzLCAtMTIyLjQwNjM0NjQyNTYzMl0sCiAgICAgICAgICAgICAgICB7fQogICAgICAgICAgICApLmFkZFRvKG1hcmtlcl9jbHVzdGVyXzEwMjZlNjM2NjNmNDQwZjJhNTVmNjJlOTFmOGY5YjU4KTsKICAgICAgICAKICAgIAogICAgICAgIHZhciBwb3B1cF9lN2M4NzhmYmMyNGY0OGY3ODk2Yjc0YTczNzIyOTUwZCA9IEwucG9wdXAoeyJtYXhXaWR0aCI6ICIxMDAlIn0pOwoKICAgICAgICAKICAgICAgICAgICAgdmFyIGh0bWxfZmNmNzVjYTdjZGVhNDdhNDg1MjNmM2I1YzFmMmI4YTMgPSAkKGA8ZGl2IGlkPSJodG1sX2ZjZjc1Y2E3Y2RlYTQ3YTQ4NTIzZjNiNWMxZjJiOGEzIiBzdHlsZT0id2lkdGg6IDEwMC4wJTsgaGVpZ2h0OiAxMDAuMCU7Ij5BU1NBVUxUPC9kaXY+YClbMF07CiAgICAgICAgICAgIHBvcHVwX2U3Yzg3OGZiYzI0ZjQ4Zjc4OTZiNzRhNzM3MjI5NTBkLnNldENvbnRlbnQoaHRtbF9mY2Y3NWNhN2NkZWE0N2E0ODUyM2YzYjVjMWYyYjhhMyk7CiAgICAgICAgCgogICAgICAgIG1hcmtlcl8xMTc1YTVjNjg0YzA0MzcxYjYyYWI5MDYyNTcwMDA1OS5iaW5kUG9wdXAocG9wdXBfZTdjODc4ZmJjMjRmNDhmNzg5NmI3NGE3MzcyMjk1MGQpCiAgICAgICAgOwoKICAgICAgICAKICAgIAogICAgCiAgICAgICAgICAgIHZhciBtYXJrZXJfYzVlYmUzYThkMmRhNDk5MWE5YjMzODkxYTgxYjljZjYgPSBMLm1hcmtlcigKICAgICAgICAgICAgICAgIFszNy43NjU3MTg0Mzk1MjgyLCAtMTIyLjQwOTUyOTkxMzI3OF0sCiAgICAgICAgICAgICAgICB7fQogICAgICAgICAgICApLmFkZFRvKG1hcmtlcl9jbHVzdGVyXzEwMjZlNjM2NjNmNDQwZjJhNTVmNjJlOTFmOGY5YjU4KTsKICAgICAgICAKICAgIAogICAgICAgIHZhciBwb3B1cF8xN2MzZmExZjA5Yzk0YTBiYTlmYzYxNjZmYjU4OTg5MCA9IEwucG9wdXAoeyJtYXhXaWR0aCI6ICIxMDAlIn0pOwoKICAgICAgICAKICAgICAgICAgICAgdmFyIGh0bWxfYjZlNTUzYjBiODJjNDQ1YmJmMTM1ZDM1MjU4N2U2MDcgPSAkKGA8ZGl2IGlkPSJodG1sX2I2ZTU1M2IwYjgyYzQ0NWJiZjEzNWQzNTI1ODdlNjA3IiBzdHlsZT0id2lkdGg6IDEwMC4wJTsgaGVpZ2h0OiAxMDAuMCU7Ij5MQVJDRU5ZL1RIRUZUPC9kaXY+YClbMF07CiAgICAgICAgICAgIHBvcHVwXzE3YzNmYTFmMDljOTRhMGJhOWZjNjE2NmZiNTg5ODkwLnNldENvbnRlbnQoaHRtbF9iNmU1NTNiMGI4MmM0NDViYmYxMzVkMzUyNTg3ZTYwNyk7CiAgICAgICAgCgogICAgICAgIG1hcmtlcl9jNWViZTNhOGQyZGE0OTkxYTliMzM4OTFhODFiOWNmNi5iaW5kUG9wdXAocG9wdXBfMTdjM2ZhMWYwOWM5NGEwYmE5ZmM2MTY2ZmI1ODk4OTApCiAgICAgICAgOwoKICAgICAgICAKICAgIAogICAgCiAgICAgICAgICAgIHZhciBtYXJrZXJfZDk1MzZkNDhjOWMzNDhmNjkxMzI5NTRlNzEyYzJiYjUgPSBMLm1hcmtlcigKICAgICAgICAgICAgICAgIFszNy43NzU0MjA3MDY3MTEsIC0xMjIuNDAzNDA0NzkxNDc4OTldLAogICAgICAgICAgICAgICAge30KICAgICAgICAgICAgKS5hZGRUbyhtYXJrZXJfY2x1c3Rlcl8xMDI2ZTYzNjYzZjQ0MGYyYTU1ZjYyZTkxZjhmOWI1OCk7CiAgICAgICAgCiAgICAKICAgICAgICB2YXIgcG9wdXBfNGQxNmMyODNhMjcyNDg0NjgxZThkMDJkYTk5Mjk5ZWMgPSBMLnBvcHVwKHsibWF4V2lkdGgiOiAiMTAwJSJ9KTsKCiAgICAgICAgCiAgICAgICAgICAgIHZhciBodG1sX2UxNTdkYzM1OTY5MTQzMTZiZDliY2EwMmE2M2JkMzgzID0gJChgPGRpdiBpZD0iaHRtbF9lMTU3ZGMzNTk2OTE0MzE2YmQ5YmNhMDJhNjNiZDM4MyIgc3R5bGU9IndpZHRoOiAxMDAuMCU7IGhlaWdodDogMTAwLjAlOyI+Tk9OLUNSSU1JTkFMPC9kaXY+YClbMF07CiAgICAgICAgICAgIHBvcHVwXzRkMTZjMjgzYTI3MjQ4NDY4MWU4ZDAyZGE5OTI5OWVjLnNldENvbnRlbnQoaHRtbF9lMTU3ZGMzNTk2OTE0MzE2YmQ5YmNhMDJhNjNiZDM4Myk7CiAgICAgICAgCgogICAgICAgIG1hcmtlcl9kOTUzNmQ0OGM5YzM0OGY2OTEzMjk1NGU3MTJjMmJiNS5iaW5kUG9wdXAocG9wdXBfNGQxNmMyODNhMjcyNDg0NjgxZThkMDJkYTk5Mjk5ZWMpCiAgICAgICAgOwoKICAgICAgICAKICAgIAogICAgCiAgICAgICAgICAgIHZhciBtYXJrZXJfYTYzZmJhOTJhYjFiNGJiNmI1Njk3OTdjNWYwNTVkNzUgPSBMLm1hcmtlcigKICAgICAgICAgICAgICAgIFszNy43Njc1MjQzMDg3ODMsIC0xMjIuNDEwNzM4MDk3MzE1XSwKICAgICAgICAgICAgICAgIHt9CiAgICAgICAgICAgICkuYWRkVG8obWFya2VyX2NsdXN0ZXJfMTAyNmU2MzY2M2Y0NDBmMmE1NWY2MmU5MWY4ZjliNTgpOwogICAgICAgIAogICAgCiAgICAgICAgdmFyIHBvcHVwX2JjNTZjN2VlYjIyZTQzNDFhMDhkNWYyYjNlY2RkMjRlID0gTC5wb3B1cCh7Im1heFdpZHRoIjogIjEwMCUifSk7CgogICAgICAgIAogICAgICAgICAgICB2YXIgaHRtbF8yMzFkNWY2YjI2MjU0YWFiOTJiZDVlM2Q4ZjI3ODA1NyA9ICQoYDxkaXYgaWQ9Imh0bWxfMjMxZDVmNmIyNjI1NGFhYjkyYmQ1ZTNkOGYyNzgwNTciIHN0eWxlPSJ3aWR0aDogMTAwLjAlOyBoZWlnaHQ6IDEwMC4wJTsiPkJVUkdMQVJZPC9kaXY+YClbMF07CiAgICAgICAgICAgIHBvcHVwX2JjNTZjN2VlYjIyZTQzNDFhMDhkNWYyYjNlY2RkMjRlLnNldENvbnRlbnQoaHRtbF8yMzFkNWY2YjI2MjU0YWFiOTJiZDVlM2Q4ZjI3ODA1Nyk7CiAgICAgICAgCgogICAgICAgIG1hcmtlcl9hNjNmYmE5MmFiMWI0YmI2YjU2OTc5N2M1ZjA1NWQ3NS5iaW5kUG9wdXAocG9wdXBfYmM1NmM3ZWViMjJlNDM0MWEwOGQ1ZjJiM2VjZGQyNGUpCiAgICAgICAgOwoKICAgICAgICAKICAgIAogICAgCiAgICAgICAgICAgIHZhciBtYXJrZXJfZmMxMDljZDU1YWRlNDhhZThiYjhiNWJjMTNhNjJkOGQgPSBMLm1hcmtlcigKICAgICAgICAgICAgICAgIFszNy43Njc1MjQzMDg3ODMsIC0xMjIuNDEwNzM4MDk3MzE1XSwKICAgICAgICAgICAgICAgIHt9CiAgICAgICAgICAgICkuYWRkVG8obWFya2VyX2NsdXN0ZXJfMTAyNmU2MzY2M2Y0NDBmMmE1NWY2MmU5MWY4ZjliNTgpOwogICAgICAgIAogICAgCiAgICAgICAgdmFyIHBvcHVwX2IyOTkwMmE0YWYzMDQwNDM4ODQ1YjI2Y2UzYzYxYmJjID0gTC5wb3B1cCh7Im1heFdpZHRoIjogIjEwMCUifSk7CgogICAgICAgIAogICAgICAgICAgICB2YXIgaHRtbF85ZmUxNjRhODkyMDA0ZGZiOWNkNzA1MzY5MDBhNjhiZSA9ICQoYDxkaXYgaWQ9Imh0bWxfOWZlMTY0YTg5MjAwNGRmYjljZDcwNTM2OTAwYTY4YmUiIHN0eWxlPSJ3aWR0aDogMTAwLjAlOyBoZWlnaHQ6IDEwMC4wJTsiPkFSU09OPC9kaXY+YClbMF07CiAgICAgICAgICAgIHBvcHVwX2IyOTkwMmE0YWYzMDQwNDM4ODQ1YjI2Y2UzYzYxYmJjLnNldENvbnRlbnQoaHRtbF85ZmUxNjRhODkyMDA0ZGZiOWNkNzA1MzY5MDBhNjhiZSk7CiAgICAgICAgCgogICAgICAgIG1hcmtlcl9mYzEwOWNkNTVhZGU0OGFlOGJiOGI1YmMxM2E2MmQ4ZC5iaW5kUG9wdXAocG9wdXBfYjI5OTAyYTRhZjMwNDA0Mzg4NDViMjZjZTNjNjFiYmMpCiAgICAgICAgOwoKICAgICAgICAKICAgIAogICAgCiAgICAgICAgICAgIHZhciBtYXJrZXJfOWQzZDllMTUwMThlNDk0M2JhMWU2OWM1YWI5ZTRlODAgPSBMLm1hcmtlcigKICAgICAgICAgICAgICAgIFszNy43MTMxMDgzNDMzMjY0LCAtMTIyLjQ0NDMxNDAyNTE4OF0sCiAgICAgICAgICAgICAgICB7fQogICAgICAgICAgICApLmFkZFRvKG1hcmtlcl9jbHVzdGVyXzEwMjZlNjM2NjNmNDQwZjJhNTVmNjJlOTFmOGY5YjU4KTsKICAgICAgICAKICAgIAogICAgICAgIHZhciBwb3B1cF8xMzJmNWIyZWNkYjk0MTQ5ODYwNDViMWFlNzNiZmVhMSA9IEwucG9wdXAoeyJtYXhXaWR0aCI6ICIxMDAlIn0pOwoKICAgICAgICAKICAgICAgICAgICAgdmFyIGh0bWxfZDg0MTdlMjg2OTQ5NGZjMzg4MDg0MTQ4Y2I3ZDU5NjEgPSAkKGA8ZGl2IGlkPSJodG1sX2Q4NDE3ZTI4Njk0OTRmYzM4ODA4NDE0OGNiN2Q1OTYxIiBzdHlsZT0id2lkdGg6IDEwMC4wJTsgaGVpZ2h0OiAxMDAuMCU7Ij5CVVJHTEFSWTwvZGl2PmApWzBdOwogICAgICAgICAgICBwb3B1cF8xMzJmNWIyZWNkYjk0MTQ5ODYwNDViMWFlNzNiZmVhMS5zZXRDb250ZW50KGh0bWxfZDg0MTdlMjg2OTQ5NGZjMzg4MDg0MTQ4Y2I3ZDU5NjEpOwogICAgICAgIAoKICAgICAgICBtYXJrZXJfOWQzZDllMTUwMThlNDk0M2JhMWU2OWM1YWI5ZTRlODAuYmluZFBvcHVwKHBvcHVwXzEzMmY1YjJlY2RiOTQxNDk4NjA0NWIxYWU3M2JmZWExKQogICAgICAgIDsKCiAgICAgICAgCiAgICAKICAgIAogICAgICAgICAgICB2YXIgbWFya2VyXzhhMDE1MTdkODkxZTQyNWU4MzQ2MWI3ZmZkYjBhMTE5ID0gTC5tYXJrZXIoCiAgICAgICAgICAgICAgICBbMzcuNzEzMTA4MzQzMzI2NCwgLTEyMi40NDQzMTQwMjUxODhdLAogICAgICAgICAgICAgICAge30KICAgICAgICAgICAgKS5hZGRUbyhtYXJrZXJfY2x1c3Rlcl8xMDI2ZTYzNjYzZjQ0MGYyYTU1ZjYyZTkxZjhmOWI1OCk7CiAgICAgICAgCiAgICAKICAgICAgICB2YXIgcG9wdXBfNjBjMTM4YmZmMDEyNGI3ODg0MmZlNGUwYzk4ODRmMzggPSBMLnBvcHVwKHsibWF4V2lkdGgiOiAiMTAwJSJ9KTsKCiAgICAgICAgCiAgICAgICAgICAgIHZhciBodG1sXzNiMzgzMzgyZjZmYjRjM2M5YzJiYjA2NDc3MTc2NTJkID0gJChgPGRpdiBpZD0iaHRtbF8zYjM4MzM4MmY2ZmI0YzNjOWMyYmIwNjQ3NzE3NjUyZCIgc3R5bGU9IndpZHRoOiAxMDAuMCU7IGhlaWdodDogMTAwLjAlOyI+RFJVRy9OQVJDT1RJQzwvZGl2PmApWzBdOwogICAgICAgICAgICBwb3B1cF82MGMxMzhiZmYwMTI0Yjc4ODQyZmU0ZTBjOTg4NGYzOC5zZXRDb250ZW50KGh0bWxfM2IzODMzODJmNmZiNGMzYzljMmJiMDY0NzcxNzY1MmQpOwogICAgICAgIAoKICAgICAgICBtYXJrZXJfOGEwMTUxN2Q4OTFlNDI1ZTgzNDYxYjdmZmRiMGExMTkuYmluZFBvcHVwKHBvcHVwXzYwYzEzOGJmZjAxMjRiNzg4NDJmZTRlMGM5ODg0ZjM4KQogICAgICAgIDsKCiAgICAgICAgCiAgICAKICAgIAogICAgICAgICAgICB2YXIgbWFya2VyXzQxYzY1MjdiYjAwNzRjZWE4NGUxMTE4ZmU3ZWZhMzJkID0gTC5tYXJrZXIoCiAgICAgICAgICAgICAgICBbMzcuNzY2MDE2MDExNDEwMywgLTEyMi40MDM2NDQ2MjA0MzldLAogICAgICAgICAgICAgICAge30KICAgICAgICAgICAgKS5hZGRUbyhtYXJrZXJfY2x1c3Rlcl8xMDI2ZTYzNjYzZjQ0MGYyYTU1ZjYyZTkxZjhmOWI1OCk7CiAgICAgICAgCiAgICAKICAgICAgICB2YXIgcG9wdXBfN2U0Mzg0YTMyZDk1NDU1YTgwMzQwZjNiOTcxN2E3NzQgPSBMLnBvcHVwKHsibWF4V2lkdGgiOiAiMTAwJSJ9KTsKCiAgICAgICAgCiAgICAgICAgICAgIHZhciBodG1sXzY4Y2YzNDBjNzg2NzRlMDg5MWQyNDliNDA1NjcwNWExID0gJChgPGRpdiBpZD0iaHRtbF82OGNmMzQwYzc4Njc0ZTA4OTFkMjQ5YjQwNTY3MDVhMSIgc3R5bGU9IndpZHRoOiAxMDAuMCU7IGhlaWdodDogMTAwLjAlOyI+TUlTU0lORyBQRVJTT048L2Rpdj5gKVswXTsKICAgICAgICAgICAgcG9wdXBfN2U0Mzg0YTMyZDk1NDU1YTgwMzQwZjNiOTcxN2E3NzQuc2V0Q29udGVudChodG1sXzY4Y2YzNDBjNzg2NzRlMDg5MWQyNDliNDA1NjcwNWExKTsKICAgICAgICAKCiAgICAgICAgbWFya2VyXzQxYzY1MjdiYjAwNzRjZWE4NGUxMTE4ZmU3ZWZhMzJkLmJpbmRQb3B1cChwb3B1cF83ZTQzODRhMzJkOTU0NTVhODAzNDBmM2I5NzE3YTc3NCkKICAgICAgICA7CgogICAgICAgIAogICAgCiAgICAKICAgICAgICAgICAgdmFyIG1hcmtlcl9mYTQwZDBiYmRkZDM0NjIwYTE4OWE2MGQxMmNmMzU1MyA9IEwubWFya2VyKAogICAgICAgICAgICAgICAgWzM3Ljc2NjAxNjAxMTQxMDMsIC0xMjIuNDAzNjQ0NjIwNDM5XSwKICAgICAgICAgICAgICAgIHt9CiAgICAgICAgICAgICkuYWRkVG8obWFya2VyX2NsdXN0ZXJfMTAyNmU2MzY2M2Y0NDBmMmE1NWY2MmU5MWY4ZjliNTgpOwogICAgICAgIAogICAgCiAgICAgICAgdmFyIHBvcHVwX2U3YWQ1YjQ5NTc4OTRkMWM5NjliZjQ0ZWJiNTNjOGJiID0gTC5wb3B1cCh7Im1heFdpZHRoIjogIjEwMCUifSk7CgogICAgICAgIAogICAgICAgICAgICB2YXIgaHRtbF82NTkwNjRkMDc5MjM0MzhlYWE4MGI1NjVkMjQwOTFlNiA9ICQoYDxkaXYgaWQ9Imh0bWxfNjU5MDY0ZDA3OTIzNDM4ZWFhODBiNTY1ZDI0MDkxZTYiIHN0eWxlPSJ3aWR0aDogMTAwLjAlOyBoZWlnaHQ6IDEwMC4wJTsiPk1JU1NJTkcgUEVSU09OPC9kaXY+YClbMF07CiAgICAgICAgICAgIHBvcHVwX2U3YWQ1YjQ5NTc4OTRkMWM5NjliZjQ0ZWJiNTNjOGJiLnNldENvbnRlbnQoaHRtbF82NTkwNjRkMDc5MjM0MzhlYWE4MGI1NjVkMjQwOTFlNik7CiAgICAgICAgCgogICAgICAgIG1hcmtlcl9mYTQwZDBiYmRkZDM0NjIwYTE4OWE2MGQxMmNmMzU1My5iaW5kUG9wdXAocG9wdXBfZTdhZDViNDk1Nzg5NGQxYzk2OWJmNDRlYmI1M2M4YmIpCiAgICAgICAgOwoKICAgICAgICAKICAgIAogICAgCiAgICAgICAgICAgIHZhciBtYXJrZXJfYWM3NTI1MWE1NzczNDMwNTk3Njg0ZmUzZDY4ZTEwODAgPSBMLm1hcmtlcigKICAgICAgICAgICAgICAgIFszNy43NzYyMzEwNDA0NzU4LCAtMTIyLjQxNDcxNDI5NTU3ODk5XSwKICAgICAgICAgICAgICAgIHt9CiAgICAgICAgICAgICkuYWRkVG8obWFya2VyX2NsdXN0ZXJfMTAyNmU2MzY2M2Y0NDBmMmE1NWY2MmU5MWY4ZjliNTgpOwogICAgICAgIAogICAgCiAgICAgICAgdmFyIHBvcHVwXzkyYjU5N2ZhZTY0MTQ0YzU4MjlmNjQzMjZhNTM5MjMxID0gTC5wb3B1cCh7Im1heFdpZHRoIjogIjEwMCUifSk7CgogICAgICAgIAogICAgICAgICAgICB2YXIgaHRtbF84YzkzMGQ2NTUxMzA0N2M5YmM4ZGQ1NDUwYzMxYzVhOSA9ICQoYDxkaXYgaWQ9Imh0bWxfOGM5MzBkNjU1MTMwNDdjOWJjOGRkNTQ1MGMzMWM1YTkiIHN0eWxlPSJ3aWR0aDogMTAwLjAlOyBoZWlnaHQ6IDEwMC4wJTsiPkFTU0FVTFQ8L2Rpdj5gKVswXTsKICAgICAgICAgICAgcG9wdXBfOTJiNTk3ZmFlNjQxNDRjNTgyOWY2NDMyNmE1MzkyMzEuc2V0Q29udGVudChodG1sXzhjOTMwZDY1NTEzMDQ3YzliYzhkZDU0NTBjMzFjNWE5KTsKICAgICAgICAKCiAgICAgICAgbWFya2VyX2FjNzUyNTFhNTc3MzQzMDU5NzY4NGZlM2Q2OGUxMDgwLmJpbmRQb3B1cChwb3B1cF85MmI1OTdmYWU2NDE0NGM1ODI5ZjY0MzI2YTUzOTIzMSkKICAgICAgICA7CgogICAgICAgIAogICAgCiAgICAKICAgICAgICAgICAgdmFyIG1hcmtlcl85ODlhNjM0MWMyNjU0MjQ0YmZmMzE4Y2NkNGM0ODFmNCA9IEwubWFya2VyKAogICAgICAgICAgICAgICAgWzM3Ljc3NjIzMTA0MDQ3NTgsIC0xMjIuNDE0NzE0Mjk1NTc4OTldLAogICAgICAgICAgICAgICAge30KICAgICAgICAgICAgKS5hZGRUbyhtYXJrZXJfY2x1c3Rlcl8xMDI2ZTYzNjYzZjQ0MGYyYTU1ZjYyZTkxZjhmOWI1OCk7CiAgICAgICAgCiAgICAKICAgICAgICB2YXIgcG9wdXBfOWJlOTEyYjBmNWZjNDZmNTlmM2I0OTRhZTJhYTA3NGEgPSBMLnBvcHVwKHsibWF4V2lkdGgiOiAiMTAwJSJ9KTsKCiAgICAgICAgCiAgICAgICAgICAgIHZhciBodG1sX2IzOWVjZmNjOTI3ODQxY2FhNmZiODZlNTFkOTJmZThiID0gJChgPGRpdiBpZD0iaHRtbF9iMzllY2ZjYzkyNzg0MWNhYTZmYjg2ZTUxZDkyZmU4YiIgc3R5bGU9IndpZHRoOiAxMDAuMCU7IGhlaWdodDogMTAwLjAlOyI+TUlTU0lORyBQRVJTT048L2Rpdj5gKVswXTsKICAgICAgICAgICAgcG9wdXBfOWJlOTEyYjBmNWZjNDZmNTlmM2I0OTRhZTJhYTA3NGEuc2V0Q29udGVudChodG1sX2IzOWVjZmNjOTI3ODQxY2FhNmZiODZlNTFkOTJmZThiKTsKICAgICAgICAKCiAgICAgICAgbWFya2VyXzk4OWE2MzQxYzI2NTQyNDRiZmYzMThjY2Q0YzQ4MWY0LmJpbmRQb3B1cChwb3B1cF85YmU5MTJiMGY1ZmM0NmY1OWYzYjQ5NGFlMmFhMDc0YSkKICAgICAgICA7CgogICAgICAgIAogICAgCiAgICAKICAgICAgICAgICAgdmFyIG1hcmtlcl9hMGI2MDU1ODQzYmU0NjlmYjRhMGY4MWYyYjBhZTkxNyA9IEwubWFya2VyKAogICAgICAgICAgICAgICAgWzM3Ljc3NzUxMTg4OTU2OTUsIC0xMjIuNDE4MDQ1NDUyNzY4XSwKICAgICAgICAgICAgICAgIHt9CiAgICAgICAgICAgICkuYWRkVG8obWFya2VyX2NsdXN0ZXJfMTAyNmU2MzY2M2Y0NDBmMmE1NWY2MmU5MWY4ZjliNTgpOwogICAgICAgIAogICAgCiAgICAgICAgdmFyIHBvcHVwXzE5MGExZjkzMGI3MTQxMDg4OWUwYzc1NTYzNWJhOWI4ID0gTC5wb3B1cCh7Im1heFdpZHRoIjogIjEwMCUifSk7CgogICAgICAgIAogICAgICAgICAgICB2YXIgaHRtbF9hNGYyMDYzMjEzYTg0OTgwYTU5N2UyNGE1NmM0NGJjMyA9ICQoYDxkaXYgaWQ9Imh0bWxfYTRmMjA2MzIxM2E4NDk4MGE1OTdlMjRhNTZjNDRiYzMiIHN0eWxlPSJ3aWR0aDogMTAwLjAlOyBoZWlnaHQ6IDEwMC4wJTsiPlZFSElDTEUgVEhFRlQ8L2Rpdj5gKVswXTsKICAgICAgICAgICAgcG9wdXBfMTkwYTFmOTMwYjcxNDEwODg5ZTBjNzU1NjM1YmE5Yjguc2V0Q29udGVudChodG1sX2E0ZjIwNjMyMTNhODQ5ODBhNTk3ZTI0YTU2YzQ0YmMzKTsKICAgICAgICAKCiAgICAgICAgbWFya2VyX2EwYjYwNTU4NDNiZTQ2OWZiNGEwZjgxZjJiMGFlOTE3LmJpbmRQb3B1cChwb3B1cF8xOTBhMWY5MzBiNzE0MTA4ODllMGM3NTU2MzViYTliOCkKICAgICAgICA7CgogICAgICAgIAogICAgCiAgICAKICAgICAgICAgICAgdmFyIG1hcmtlcl82YTc4YzVhM2NlMmY0MDE1YjRjYTgxMzgyZDYxMzQyYSA9IEwubWFya2VyKAogICAgICAgICAgICAgICAgWzM3Ljc4MjAyMzg0Nzg5NzUsIC0xMjIuNDAxMTYxNTU1NjAyXSwKICAgICAgICAgICAgICAgIHt9CiAgICAgICAgICAgICkuYWRkVG8obWFya2VyX2NsdXN0ZXJfMTAyNmU2MzY2M2Y0NDBmMmE1NWY2MmU5MWY4ZjliNTgpOwogICAgICAgIAogICAgCiAgICAgICAgdmFyIHBvcHVwXzNhNTViMDUwMjk0MTQ2ZDZhMmRkOGM0YWRmZmVhNzIzID0gTC5wb3B1cCh7Im1heFdpZHRoIjogIjEwMCUifSk7CgogICAgICAgIAogICAgICAgICAgICB2YXIgaHRtbF9jODcxMTg4NTMxZGU0OTFmYjM0ZDVmYTIxZWM0NjQ1NiA9ICQoYDxkaXYgaWQ9Imh0bWxfYzg3MTE4ODUzMWRlNDkxZmIzNGQ1ZmEyMWVjNDY0NTYiIHN0eWxlPSJ3aWR0aDogMTAwLjAlOyBoZWlnaHQ6IDEwMC4wJTsiPk9USEVSIE9GRkVOU0VTPC9kaXY+YClbMF07CiAgICAgICAgICAgIHBvcHVwXzNhNTViMDUwMjk0MTQ2ZDZhMmRkOGM0YWRmZmVhNzIzLnNldENvbnRlbnQoaHRtbF9jODcxMTg4NTMxZGU0OTFmYjM0ZDVmYTIxZWM0NjQ1Nik7CiAgICAgICAgCgogICAgICAgIG1hcmtlcl82YTc4YzVhM2NlMmY0MDE1YjRjYTgxMzgyZDYxMzQyYS5iaW5kUG9wdXAocG9wdXBfM2E1NWIwNTAyOTQxNDZkNmEyZGQ4YzRhZGZmZWE3MjMpCiAgICAgICAgOwoKICAgICAgICAKICAgIAogICAgCiAgICAgICAgICAgIHZhciBtYXJrZXJfODBlNTM4NTQ4ZGM2NDVjOTk1NmJlMjhiMzQ0YTA5NTcgPSBMLm1hcmtlcigKICAgICAgICAgICAgICAgIFszNy43MjcwMDUzMTk2Mjk5OTUsIC0xMjIuNDAzNDA4NjY5MTkxXSwKICAgICAgICAgICAgICAgIHt9CiAgICAgICAgICAgICkuYWRkVG8obWFya2VyX2NsdXN0ZXJfMTAyNmU2MzY2M2Y0NDBmMmE1NWY2MmU5MWY4ZjliNTgpOwogICAgICAgIAogICAgCiAgICAgICAgdmFyIHBvcHVwXzg5Mzg5ZGJhODYyYzRjY2NiNzAyMjNhYzQ1NjNlZDA4ID0gTC5wb3B1cCh7Im1heFdpZHRoIjogIjEwMCUifSk7CgogICAgICAgIAogICAgICAgICAgICB2YXIgaHRtbF80MjZlYjAyMTE2NDI0NjkxYWNiMDY5Zjk2NTRjMDM0NSA9ICQoYDxkaXYgaWQ9Imh0bWxfNDI2ZWIwMjExNjQyNDY5MWFjYjA2OWY5NjU0YzAzNDUiIHN0eWxlPSJ3aWR0aDogMTAwLjAlOyBoZWlnaHQ6IDEwMC4wJTsiPldBUlJBTlRTPC9kaXY+YClbMF07CiAgICAgICAgICAgIHBvcHVwXzg5Mzg5ZGJhODYyYzRjY2NiNzAyMjNhYzQ1NjNlZDA4LnNldENvbnRlbnQoaHRtbF80MjZlYjAyMTE2NDI0NjkxYWNiMDY5Zjk2NTRjMDM0NSk7CiAgICAgICAgCgogICAgICAgIG1hcmtlcl84MGU1Mzg1NDhkYzY0NWM5OTU2YmUyOGIzNDRhMDk1Ny5iaW5kUG9wdXAocG9wdXBfODkzODlkYmE4NjJjNGNjY2I3MDIyM2FjNDU2M2VkMDgpCiAgICAgICAgOwoKICAgICAgICAKICAgIAogICAgCiAgICAgICAgICAgIHZhciBtYXJrZXJfOTE0YTY4OWFhMDZkNDI0OTk0MzMzMjU2MDgzMDYyNmQgPSBMLm1hcmtlcigKICAgICAgICAgICAgICAgIFszNy43ODM4MzQ0Mzc0MTQxLCAtMTIyLjQxMjkzMDUyMjA1OV0sCiAgICAgICAgICAgICAgICB7fQogICAgICAgICAgICApLmFkZFRvKG1hcmtlcl9jbHVzdGVyXzEwMjZlNjM2NjNmNDQwZjJhNTVmNjJlOTFmOGY5YjU4KTsKICAgICAgICAKICAgIAogICAgICAgIHZhciBwb3B1cF8yOWVlMzQyMjNmMDU0MjQzOGViZDk5ZjgwODUyZjQxZSA9IEwucG9wdXAoeyJtYXhXaWR0aCI6ICIxMDAlIn0pOwoKICAgICAgICAKICAgICAgICAgICAgdmFyIGh0bWxfZGEyMGYwOTEwNGVlNDNjYWJkODIwMWEwYzdjNGExYWUgPSAkKGA8ZGl2IGlkPSJodG1sX2RhMjBmMDkxMDRlZTQzY2FiZDgyMDFhMGM3YzRhMWFlIiBzdHlsZT0id2lkdGg6IDEwMC4wJTsgaGVpZ2h0OiAxMDAuMCU7Ij5WQU5EQUxJU008L2Rpdj5gKVswXTsKICAgICAgICAgICAgcG9wdXBfMjllZTM0MjIzZjA1NDI0MzhlYmQ5OWY4MDg1MmY0MWUuc2V0Q29udGVudChodG1sX2RhMjBmMDkxMDRlZTQzY2FiZDgyMDFhMGM3YzRhMWFlKTsKICAgICAgICAKCiAgICAgICAgbWFya2VyXzkxNGE2ODlhYTA2ZDQyNDk5NDMzMzI1NjA4MzA2MjZkLmJpbmRQb3B1cChwb3B1cF8yOWVlMzQyMjNmMDU0MjQzOGViZDk5ZjgwODUyZjQxZSkKICAgICAgICA7CgogICAgICAgIAogICAgCiAgICAKICAgICAgICAgICAgdmFyIG1hcmtlcl8zMDU1ZTdhMWYzYzI0OTA4YjI5MGQyNzEwYTBjMjQ5ZCA9IEwubWFya2VyKAogICAgICAgICAgICAgICAgWzM3Ljc1MzAxODY1Mzc0NDYwNCwgLTEyMi40MTg1ODcxNzIyMTldLAogICAgICAgICAgICAgICAge30KICAgICAgICAgICAgKS5hZGRUbyhtYXJrZXJfY2x1c3Rlcl8xMDI2ZTYzNjYzZjQ0MGYyYTU1ZjYyZTkxZjhmOWI1OCk7CiAgICAgICAgCiAgICAKICAgICAgICB2YXIgcG9wdXBfYjU5YjYxZGQ1MGE2NDgxNmE0YTZlZTFkOGU1MzViNjMgPSBMLnBvcHVwKHsibWF4V2lkdGgiOiAiMTAwJSJ9KTsKCiAgICAgICAgCiAgICAgICAgICAgIHZhciBodG1sX2U1YzcyMTk5MWRjMjRhYjJiMmMyOTY5MTdlYjNlMWJmID0gJChgPGRpdiBpZD0iaHRtbF9lNWM3MjE5OTFkYzI0YWIyYjJjMjk2OTE3ZWIzZTFiZiIgc3R5bGU9IndpZHRoOiAxMDAuMCU7IGhlaWdodDogMTAwLjAlOyI+Tk9OLUNSSU1JTkFMPC9kaXY+YClbMF07CiAgICAgICAgICAgIHBvcHVwX2I1OWI2MWRkNTBhNjQ4MTZhNGE2ZWUxZDhlNTM1YjYzLnNldENvbnRlbnQoaHRtbF9lNWM3MjE5OTFkYzI0YWIyYjJjMjk2OTE3ZWIzZTFiZik7CiAgICAgICAgCgogICAgICAgIG1hcmtlcl8zMDU1ZTdhMWYzYzI0OTA4YjI5MGQyNzEwYTBjMjQ5ZC5iaW5kUG9wdXAocG9wdXBfYjU5YjYxZGQ1MGE2NDgxNmE0YTZlZTFkOGU1MzViNjMpCiAgICAgICAgOwoKICAgICAgICAKICAgIAogICAgCiAgICAgICAgICAgIHZhciBtYXJrZXJfODkxYjJhMTdmNGRlNDljY2ExNDg1MDA4MmI1NzIyYTIgPSBMLm1hcmtlcigKICAgICAgICAgICAgICAgIFszNy43NzQwNDE4Mzg1MDQxLCAtMTIyLjQxNDM3MDYyNzQ5NV0sCiAgICAgICAgICAgICAgICB7fQogICAgICAgICAgICApLmFkZFRvKG1hcmtlcl9jbHVzdGVyXzEwMjZlNjM2NjNmNDQwZjJhNTVmNjJlOTFmOGY5YjU4KTsKICAgICAgICAKICAgIAogICAgICAgIHZhciBwb3B1cF9lNTA2YjI1YzZhNTg0YWEzYTY3NGVlOWJkY2I4MmFmZSA9IEwucG9wdXAoeyJtYXhXaWR0aCI6ICIxMDAlIn0pOwoKICAgICAgICAKICAgICAgICAgICAgdmFyIGh0bWxfN2RhZDVmMGU0YmU1NGVlMDk0ODVlOTY3YjRmZDVlM2EgPSAkKGA8ZGl2IGlkPSJodG1sXzdkYWQ1ZjBlNGJlNTRlZTA5NDg1ZTk2N2I0ZmQ1ZTNhIiBzdHlsZT0id2lkdGg6IDEwMC4wJTsgaGVpZ2h0OiAxMDAuMCU7Ij5GUkFVRDwvZGl2PmApWzBdOwogICAgICAgICAgICBwb3B1cF9lNTA2YjI1YzZhNTg0YWEzYTY3NGVlOWJkY2I4MmFmZS5zZXRDb250ZW50KGh0bWxfN2RhZDVmMGU0YmU1NGVlMDk0ODVlOTY3YjRmZDVlM2EpOwogICAgICAgIAoKICAgICAgICBtYXJrZXJfODkxYjJhMTdmNGRlNDljY2ExNDg1MDA4MmI1NzIyYTIuYmluZFBvcHVwKHBvcHVwX2U1MDZiMjVjNmE1ODRhYTNhNjc0ZWU5YmRjYjgyYWZlKQogICAgICAgIDsKCiAgICAgICAgCiAgICAKICAgIAogICAgICAgICAgICB2YXIgbWFya2VyXzgzZDVlOWJlZjQ3MDQzNTU5MTcwZjk2NDZlZjJlNDJlID0gTC5tYXJrZXIoCiAgICAgICAgICAgICAgICBbMzcuNzkwNTM4OTkzNzI1LCAtMTIyLjQwMzkxNTY4MTU3MTAxXSwKICAgICAgICAgICAgICAgIHt9CiAgICAgICAgICAgICkuYWRkVG8obWFya2VyX2NsdXN0ZXJfMTAyNmU2MzY2M2Y0NDBmMmE1NWY2MmU5MWY4ZjliNTgpOwogICAgICAgIAogICAgCiAgICAgICAgdmFyIHBvcHVwXzFkNWQxMWIyMWM0ZDRmNjRhYjhlNTA1MWYzOTdhNzEyID0gTC5wb3B1cCh7Im1heFdpZHRoIjogIjEwMCUifSk7CgogICAgICAgIAogICAgICAgICAgICB2YXIgaHRtbF8yMzY0ZTVjZDlmNzc0YTUyODEyM2IwZWM0ZDI0OTE3ZSA9ICQoYDxkaXYgaWQ9Imh0bWxfMjM2NGU1Y2Q5Zjc3NGE1MjgxMjNiMGVjNGQyNDkxN2UiIHN0eWxlPSJ3aWR0aDogMTAwLjAlOyBoZWlnaHQ6IDEwMC4wJTsiPkFTU0FVTFQ8L2Rpdj5gKVswXTsKICAgICAgICAgICAgcG9wdXBfMWQ1ZDExYjIxYzRkNGY2NGFiOGU1MDUxZjM5N2E3MTIuc2V0Q29udGVudChodG1sXzIzNjRlNWNkOWY3NzRhNTI4MTIzYjBlYzRkMjQ5MTdlKTsKICAgICAgICAKCiAgICAgICAgbWFya2VyXzgzZDVlOWJlZjQ3MDQzNTU5MTcwZjk2NDZlZjJlNDJlLmJpbmRQb3B1cChwb3B1cF8xZDVkMTFiMjFjNGQ0ZjY0YWI4ZTUwNTFmMzk3YTcxMikKICAgICAgICA7CgogICAgICAgIAogICAgCiAgICAKICAgICAgICAgICAgdmFyIG1hcmtlcl8xZWJhNGQ2OGE1NjM0NzY4YjE0NTEzMjc0YzJjNWM3YSA9IEwubWFya2VyKAogICAgICAgICAgICAgICAgWzM3Ljc4MzA5OTgyNDQ1OTIxLCAtMTIyLjQxOTE4MzA5NjM2Ml0sCiAgICAgICAgICAgICAgICB7fQogICAgICAgICAgICApLmFkZFRvKG1hcmtlcl9jbHVzdGVyXzEwMjZlNjM2NjNmNDQwZjJhNTVmNjJlOTFmOGY5YjU4KTsKICAgICAgICAKICAgIAogICAgICAgIHZhciBwb3B1cF9lN2FjNWI2ZGQxZmE0YTY0YjY2NjU1NzFiYzZiYmNmOSA9IEwucG9wdXAoeyJtYXhXaWR0aCI6ICIxMDAlIn0pOwoKICAgICAgICAKICAgICAgICAgICAgdmFyIGh0bWxfOGQ3NDJkOTEwOGFiNGY4ZmI4YzNlYWIzNzM1MjQ3MGMgPSAkKGA8ZGl2IGlkPSJodG1sXzhkNzQyZDkxMDhhYjRmOGZiOGMzZWFiMzczNTI0NzBjIiBzdHlsZT0id2lkdGg6IDEwMC4wJTsgaGVpZ2h0OiAxMDAuMCU7Ij5PVEhFUiBPRkZFTlNFUzwvZGl2PmApWzBdOwogICAgICAgICAgICBwb3B1cF9lN2FjNWI2ZGQxZmE0YTY0YjY2NjU1NzFiYzZiYmNmOS5zZXRDb250ZW50KGh0bWxfOGQ3NDJkOTEwOGFiNGY4ZmI4YzNlYWIzNzM1MjQ3MGMpOwogICAgICAgIAoKICAgICAgICBtYXJrZXJfMWViYTRkNjhhNTYzNDc2OGIxNDUxMzI3NGMyYzVjN2EuYmluZFBvcHVwKHBvcHVwX2U3YWM1YjZkZDFmYTRhNjRiNjY2NTU3MWJjNmJiY2Y5KQogICAgICAgIDsKCiAgICAgICAgCiAgICAKICAgIAogICAgICAgICAgICB2YXIgbWFya2VyX2JmZDBlNmFjMWUxMjQyMjg5ZWM5ODE2M2I3ZTRiMjk3ID0gTC5tYXJrZXIoCiAgICAgICAgICAgICAgICBbMzcuNzQwNzM2MDU0ODM1NzksIC0xMjIuMzg4NzUzMDQ2OTk3XSwKICAgICAgICAgICAgICAgIHt9CiAgICAgICAgICAgICkuYWRkVG8obWFya2VyX2NsdXN0ZXJfMTAyNmU2MzY2M2Y0NDBmMmE1NWY2MmU5MWY4ZjliNTgpOwogICAgICAgIAogICAgCiAgICAgICAgdmFyIHBvcHVwX2Y4YWNmZDc2OTcyOTQzZTE5MzRlMGE1ZjA4NGM1ZThhID0gTC5wb3B1cCh7Im1heFdpZHRoIjogIjEwMCUifSk7CgogICAgICAgIAogICAgICAgICAgICB2YXIgaHRtbF9jYTIzOGQ3MmFiNDg0MDBlOWIyMzc2NDM4MWU2YThlNiA9ICQoYDxkaXYgaWQ9Imh0bWxfY2EyMzhkNzJhYjQ4NDAwZTliMjM3NjQzODFlNmE4ZTYiIHN0eWxlPSJ3aWR0aDogMTAwLjAlOyBoZWlnaHQ6IDEwMC4wJTsiPk9USEVSIE9GRkVOU0VTPC9kaXY+YClbMF07CiAgICAgICAgICAgIHBvcHVwX2Y4YWNmZDc2OTcyOTQzZTE5MzRlMGE1ZjA4NGM1ZThhLnNldENvbnRlbnQoaHRtbF9jYTIzOGQ3MmFiNDg0MDBlOWIyMzc2NDM4MWU2YThlNik7CiAgICAgICAgCgogICAgICAgIG1hcmtlcl9iZmQwZTZhYzFlMTI0MjI4OWVjOTgxNjNiN2U0YjI5Ny5iaW5kUG9wdXAocG9wdXBfZjhhY2ZkNzY5NzI5NDNlMTkzNGUwYTVmMDg0YzVlOGEpCiAgICAgICAgOwoKICAgICAgICAKICAgIAogICAgCiAgICAgICAgICAgIHZhciBtYXJrZXJfMTM3NWI5NTFlYWI0NDc5ZjhmMjQ4YmFlZTUzNzk1MzIgPSBMLm1hcmtlcigKICAgICAgICAgICAgICAgIFszNy43NzQ5OTEyOTQ0MzY2LCAtMTIyLjQzNzc5OTcwMzQ2OF0sCiAgICAgICAgICAgICAgICB7fQogICAgICAgICAgICApLmFkZFRvKG1hcmtlcl9jbHVzdGVyXzEwMjZlNjM2NjNmNDQwZjJhNTVmNjJlOTFmOGY5YjU4KTsKICAgICAgICAKICAgIAogICAgICAgIHZhciBwb3B1cF82NDFhZjA3YjZkZDA0N2FlOWY2YzM3MjQ3MjJkMmUyMyA9IEwucG9wdXAoeyJtYXhXaWR0aCI6ICIxMDAlIn0pOwoKICAgICAgICAKICAgICAgICAgICAgdmFyIGh0bWxfMTFlNDhjNTM1ODc4NDRjNmEyNTI2ZmEyZDc3MjdjNGIgPSAkKGA8ZGl2IGlkPSJodG1sXzExZTQ4YzUzNTg3ODQ0YzZhMjUyNmZhMmQ3NzI3YzRiIiBzdHlsZT0id2lkdGg6IDEwMC4wJTsgaGVpZ2h0OiAxMDAuMCU7Ij5MQVJDRU5ZL1RIRUZUPC9kaXY+YClbMF07CiAgICAgICAgICAgIHBvcHVwXzY0MWFmMDdiNmRkMDQ3YWU5ZjZjMzcyNDcyMmQyZTIzLnNldENvbnRlbnQoaHRtbF8xMWU0OGM1MzU4Nzg0NGM2YTI1MjZmYTJkNzcyN2M0Yik7CiAgICAgICAgCgogICAgICAgIG1hcmtlcl8xMzc1Yjk1MWVhYjQ0NzlmOGYyNDhiYWVlNTM3OTUzMi5iaW5kUG9wdXAocG9wdXBfNjQxYWYwN2I2ZGQwNDdhZTlmNmMzNzI0NzIyZDJlMjMpCiAgICAgICAgOwoKICAgICAgICAKICAgIAogICAgCiAgICAgICAgICAgIHZhciBtYXJrZXJfNDM1YTUwOWFjZDFlNGU2YjkwNjljZDYxYzYzZThmYjMgPSBMLm1hcmtlcigKICAgICAgICAgICAgICAgIFszNy43NzcwOTAyNzQzNjY5LCAtMTIyLjQyMTMzMjY4NDYzM10sCiAgICAgICAgICAgICAgICB7fQogICAgICAgICAgICApLmFkZFRvKG1hcmtlcl9jbHVzdGVyXzEwMjZlNjM2NjNmNDQwZjJhNTVmNjJlOTFmOGY5YjU4KTsKICAgICAgICAKICAgIAogICAgICAgIHZhciBwb3B1cF80MDQxYmY2MWFiNDA0ODE3YjI4NGUyMWI5MjZjOGE4YiA9IEwucG9wdXAoeyJtYXhXaWR0aCI6ICIxMDAlIn0pOwoKICAgICAgICAKICAgICAgICAgICAgdmFyIGh0bWxfMDcxMzNjMzRkZTk2NDkxYmIxODg3ODE4MjYwY2VlNjggPSAkKGA8ZGl2IGlkPSJodG1sXzA3MTMzYzM0ZGU5NjQ5MWJiMTg4NzgxODI2MGNlZTY4IiBzdHlsZT0id2lkdGg6IDEwMC4wJTsgaGVpZ2h0OiAxMDAuMCU7Ij5NSVNTSU5HIFBFUlNPTjwvZGl2PmApWzBdOwogICAgICAgICAgICBwb3B1cF80MDQxYmY2MWFiNDA0ODE3YjI4NGUyMWI5MjZjOGE4Yi5zZXRDb250ZW50KGh0bWxfMDcxMzNjMzRkZTk2NDkxYmIxODg3ODE4MjYwY2VlNjgpOwogICAgICAgIAoKICAgICAgICBtYXJrZXJfNDM1YTUwOWFjZDFlNGU2YjkwNjljZDYxYzYzZThmYjMuYmluZFBvcHVwKHBvcHVwXzQwNDFiZjYxYWI0MDQ4MTdiMjg0ZTIxYjkyNmM4YThiKQogICAgICAgIDsKCiAgICAgICAgCiAgICAKICAgIAogICAgICAgICAgICB2YXIgbWFya2VyX2U0NGM4YTE4MzVkMDQ4NTY4NmEyODk5MmRjYjMwNjcxID0gTC5tYXJrZXIoCiAgICAgICAgICAgICAgICBbMzcuNzc3MDkwMjc0MzY2OSwgLTEyMi40MjEzMzI2ODQ2MzNdLAogICAgICAgICAgICAgICAge30KICAgICAgICAgICAgKS5hZGRUbyhtYXJrZXJfY2x1c3Rlcl8xMDI2ZTYzNjYzZjQ0MGYyYTU1ZjYyZTkxZjhmOWI1OCk7CiAgICAgICAgCiAgICAKICAgICAgICB2YXIgcG9wdXBfMWIyNGVlMGUyN2UyNGY1YWFmYjc4YzQ1MzdkNDM0ODcgPSBMLnBvcHVwKHsibWF4V2lkdGgiOiAiMTAwJSJ9KTsKCiAgICAgICAgCiAgICAgICAgICAgIHZhciBodG1sX2UwN2RhYzkwNDU3YjQ4ZWZhZGY5NTZiZTgxYzc5ZTk3ID0gJChgPGRpdiBpZD0iaHRtbF9lMDdkYWM5MDQ1N2I0OGVmYWRmOTU2YmU4MWM3OWU5NyIgc3R5bGU9IndpZHRoOiAxMDAuMCU7IGhlaWdodDogMTAwLjAlOyI+TUlTU0lORyBQRVJTT048L2Rpdj5gKVswXTsKICAgICAgICAgICAgcG9wdXBfMWIyNGVlMGUyN2UyNGY1YWFmYjc4YzQ1MzdkNDM0ODcuc2V0Q29udGVudChodG1sX2UwN2RhYzkwNDU3YjQ4ZWZhZGY5NTZiZTgxYzc5ZTk3KTsKICAgICAgICAKCiAgICAgICAgbWFya2VyX2U0NGM4YTE4MzVkMDQ4NTY4NmEyODk5MmRjYjMwNjcxLmJpbmRQb3B1cChwb3B1cF8xYjI0ZWUwZTI3ZTI0ZjVhYWZiNzhjNDUzN2Q0MzQ4NykKICAgICAgICA7CgogICAgICAgIAogICAgCiAgICAKICAgICAgICAgICAgdmFyIG1hcmtlcl85MDA4ZWZkMDNmNmE0MzFmYTY3MTdjZDBkYjQ0ODM2YSA9IEwubWFya2VyKAogICAgICAgICAgICAgICAgWzM3Ljc4MjI0NTgyMjM5MTcsIC0xMjIuNDQ2NjEyOTc4ODM5XSwKICAgICAgICAgICAgICAgIHt9CiAgICAgICAgICAgICkuYWRkVG8obWFya2VyX2NsdXN0ZXJfMTAyNmU2MzY2M2Y0NDBmMmE1NWY2MmU5MWY4ZjliNTgpOwogICAgICAgIAogICAgCiAgICAgICAgdmFyIHBvcHVwX2E1NWNiY2YwN2NhYzQ3ZDNiMmNkOTA3ZjM4MDQ5YzNmID0gTC5wb3B1cCh7Im1heFdpZHRoIjogIjEwMCUifSk7CgogICAgICAgIAogICAgICAgICAgICB2YXIgaHRtbF8zYzgzYzQyNGE0OTg0ZmQ4YjQ5NzI0OTI4NThlMTkzMCA9ICQoYDxkaXYgaWQ9Imh0bWxfM2M4M2M0MjRhNDk4NGZkOGI0OTcyNDkyODU4ZTE5MzAiIHN0eWxlPSJ3aWR0aDogMTAwLjAlOyBoZWlnaHQ6IDEwMC4wJTsiPldBUlJBTlRTPC9kaXY+YClbMF07CiAgICAgICAgICAgIHBvcHVwX2E1NWNiY2YwN2NhYzQ3ZDNiMmNkOTA3ZjM4MDQ5YzNmLnNldENvbnRlbnQoaHRtbF8zYzgzYzQyNGE0OTg0ZmQ4YjQ5NzI0OTI4NThlMTkzMCk7CiAgICAgICAgCgogICAgICAgIG1hcmtlcl85MDA4ZWZkMDNmNmE0MzFmYTY3MTdjZDBkYjQ0ODM2YS5iaW5kUG9wdXAocG9wdXBfYTU1Y2JjZjA3Y2FjNDdkM2IyY2Q5MDdmMzgwNDljM2YpCiAgICAgICAgOwoKICAgICAgICAKICAgIAogICAgCiAgICAgICAgICAgIHZhciBtYXJrZXJfZjJhODcwYTEzMjc1NDIwZjk5NDI2ZDQ3MWFjMjZjODUgPSBMLm1hcmtlcigKICAgICAgICAgICAgICAgIFszNy43MzAwMzc5OTk1MTI3OTUsIC0xMjIuNDA0NTk0MTQwNjM0XSwKICAgICAgICAgICAgICAgIHt9CiAgICAgICAgICAgICkuYWRkVG8obWFya2VyX2NsdXN0ZXJfMTAyNmU2MzY2M2Y0NDBmMmE1NWY2MmU5MWY4ZjliNTgpOwogICAgICAgIAogICAgCiAgICAgICAgdmFyIHBvcHVwX2UxNThkYTA0MGE1YTQyMmZiNDk5ZTc0MGQxNzM5MTEwID0gTC5wb3B1cCh7Im1heFdpZHRoIjogIjEwMCUifSk7CgogICAgICAgIAogICAgICAgICAgICB2YXIgaHRtbF82OGEyMGY5Nzc4MTI0NGQ4OTEwYmNmODE5OTk1M2E5YyA9ICQoYDxkaXYgaWQ9Imh0bWxfNjhhMjBmOTc3ODEyNDRkODkxMGJjZjgxOTk5NTNhOWMiIHN0eWxlPSJ3aWR0aDogMTAwLjAlOyBoZWlnaHQ6IDEwMC4wJTsiPk5PTi1DUklNSU5BTDwvZGl2PmApWzBdOwogICAgICAgICAgICBwb3B1cF9lMTU4ZGEwNDBhNWE0MjJmYjQ5OWU3NDBkMTczOTExMC5zZXRDb250ZW50KGh0bWxfNjhhMjBmOTc3ODEyNDRkODkxMGJjZjgxOTk5NTNhOWMpOwogICAgICAgIAoKICAgICAgICBtYXJrZXJfZjJhODcwYTEzMjc1NDIwZjk5NDI2ZDQ3MWFjMjZjODUuYmluZFBvcHVwKHBvcHVwX2UxNThkYTA0MGE1YTQyMmZiNDk5ZTc0MGQxNzM5MTEwKQogICAgICAgIDsKCiAgICAgICAgCiAgICAKICAgIAogICAgICAgICAgICB2YXIgbWFya2VyX2NhYmMwMzA5MTUxZTQ1Y2E5MDJiNTVjNDM2MWEyZjAwID0gTC5tYXJrZXIoCiAgICAgICAgICAgICAgICBbMzcuNzk1MzMzODI2NzQzNiwgLTEyMi4zOTczNzM3NDAwNjZdLAogICAgICAgICAgICAgICAge30KICAgICAgICAgICAgKS5hZGRUbyhtYXJrZXJfY2x1c3Rlcl8xMDI2ZTYzNjYzZjQ0MGYyYTU1ZjYyZTkxZjhmOWI1OCk7CiAgICAgICAgCiAgICAKICAgICAgICB2YXIgcG9wdXBfNmEyZGE0MTE2NGYwNDJhZmE3MDUwZDQ1ZDNlNjMwNGUgPSBMLnBvcHVwKHsibWF4V2lkdGgiOiAiMTAwJSJ9KTsKCiAgICAgICAgCiAgICAgICAgICAgIHZhciBodG1sXzlkMTBiMDcxZTgyMjQxOGNhZTBiNzY2MTQwYzE3ZTAxID0gJChgPGRpdiBpZD0iaHRtbF85ZDEwYjA3MWU4MjI0MThjYWUwYjc2NjE0MGMxN2UwMSIgc3R5bGU9IndpZHRoOiAxMDAuMCU7IGhlaWdodDogMTAwLjAlOyI+Tk9OLUNSSU1JTkFMPC9kaXY+YClbMF07CiAgICAgICAgICAgIHBvcHVwXzZhMmRhNDExNjRmMDQyYWZhNzA1MGQ0NWQzZTYzMDRlLnNldENvbnRlbnQoaHRtbF85ZDEwYjA3MWU4MjI0MThjYWUwYjc2NjE0MGMxN2UwMSk7CiAgICAgICAgCgogICAgICAgIG1hcmtlcl9jYWJjMDMwOTE1MWU0NWNhOTAyYjU1YzQzNjFhMmYwMC5iaW5kUG9wdXAocG9wdXBfNmEyZGE0MTE2NGYwNDJhZmE3MDUwZDQ1ZDNlNjMwNGUpCiAgICAgICAgOwoKICAgICAgICAKICAgIAogICAgCiAgICAgICAgICAgIHZhciBtYXJrZXJfMTBhNTU5MTQ1ZjA5NDU3YmE1YjM5ZDJlOTAyMzUwMDcgPSBMLm1hcmtlcigKICAgICAgICAgICAgICAgIFszNy43ODc1MTU4NzQxNjIyOTUsIC0xMjIuNDA3NDM0OTg5NTIzXSwKICAgICAgICAgICAgICAgIHt9CiAgICAgICAgICAgICkuYWRkVG8obWFya2VyX2NsdXN0ZXJfMTAyNmU2MzY2M2Y0NDBmMmE1NWY2MmU5MWY4ZjliNTgpOwogICAgICAgIAogICAgCiAgICAgICAgdmFyIHBvcHVwXzg4NDk0MDdlMTkxYjQyN2JhZGRmNjUxYmUyMmZhNWY1ID0gTC5wb3B1cCh7Im1heFdpZHRoIjogIjEwMCUifSk7CgogICAgICAgIAogICAgICAgICAgICB2YXIgaHRtbF83ZjVlMGU2ODczODI0NWEwOTNlZTYxN2UzNzA3MzllOCA9ICQoYDxkaXYgaWQ9Imh0bWxfN2Y1ZTBlNjg3MzgyNDVhMDkzZWU2MTdlMzcwNzM5ZTgiIHN0eWxlPSJ3aWR0aDogMTAwLjAlOyBoZWlnaHQ6IDEwMC4wJTsiPldBUlJBTlRTPC9kaXY+YClbMF07CiAgICAgICAgICAgIHBvcHVwXzg4NDk0MDdlMTkxYjQyN2JhZGRmNjUxYmUyMmZhNWY1LnNldENvbnRlbnQoaHRtbF83ZjVlMGU2ODczODI0NWEwOTNlZTYxN2UzNzA3MzllOCk7CiAgICAgICAgCgogICAgICAgIG1hcmtlcl8xMGE1NTkxNDVmMDk0NTdiYTViMzlkMmU5MDIzNTAwNy5iaW5kUG9wdXAocG9wdXBfODg0OTQwN2UxOTFiNDI3YmFkZGY2NTFiZTIyZmE1ZjUpCiAgICAgICAgOwoKICAgICAgICAKICAgIAogICAgCiAgICAgICAgICAgIHZhciBtYXJrZXJfMDhiYjAwNzRkNDYyNGU4N2I2Yzc3OTZmZmNkYmMxNTUgPSBMLm1hcmtlcigKICAgICAgICAgICAgICAgIFszNy43Nzg1MjMzNzc2MDMyLCAtMTIyLjQwMzQ2NDA4MDAzM10sCiAgICAgICAgICAgICAgICB7fQogICAgICAgICAgICApLmFkZFRvKG1hcmtlcl9jbHVzdGVyXzEwMjZlNjM2NjNmNDQwZjJhNTVmNjJlOTFmOGY5YjU4KTsKICAgICAgICAKICAgIAogICAgICAgIHZhciBwb3B1cF9lZGEwZGNhZWQwY2U0ODA4OTUwNDcyYjFlYTNhZDhmMiA9IEwucG9wdXAoeyJtYXhXaWR0aCI6ICIxMDAlIn0pOwoKICAgICAgICAKICAgICAgICAgICAgdmFyIGh0bWxfM2JlZGJhOTQ5OWZiNDU3ZjgzM2VkMTRhNmQxYjdjMGQgPSAkKGA8ZGl2IGlkPSJodG1sXzNiZWRiYTk0OTlmYjQ1N2Y4MzNlZDE0YTZkMWI3YzBkIiBzdHlsZT0id2lkdGg6IDEwMC4wJTsgaGVpZ2h0OiAxMDAuMCU7Ij5QUk9TVElUVVRJT048L2Rpdj5gKVswXTsKICAgICAgICAgICAgcG9wdXBfZWRhMGRjYWVkMGNlNDgwODk1MDQ3MmIxZWEzYWQ4ZjIuc2V0Q29udGVudChodG1sXzNiZWRiYTk0OTlmYjQ1N2Y4MzNlZDE0YTZkMWI3YzBkKTsKICAgICAgICAKCiAgICAgICAgbWFya2VyXzA4YmIwMDc0ZDQ2MjRlODdiNmM3Nzk2ZmZjZGJjMTU1LmJpbmRQb3B1cChwb3B1cF9lZGEwZGNhZWQwY2U0ODA4OTUwNDcyYjFlYTNhZDhmMikKICAgICAgICA7CgogICAgICAgIAogICAgCiAgICAKICAgICAgICAgICAgdmFyIG1hcmtlcl9iMDc1ZDU1YTkwY2Q0YmZjYWMzOGI0NzE0Y2RmNzA0ZiA9IEwubWFya2VyKAogICAgICAgICAgICAgICAgWzM3Ljc3ODUyMzM3NzYwMzIsIC0xMjIuNDAzNDY0MDgwMDMzXSwKICAgICAgICAgICAgICAgIHt9CiAgICAgICAgICAgICkuYWRkVG8obWFya2VyX2NsdXN0ZXJfMTAyNmU2MzY2M2Y0NDBmMmE1NWY2MmU5MWY4ZjliNTgpOwogICAgICAgIAogICAgCiAgICAgICAgdmFyIHBvcHVwX2VmMzE1MDE3ZmEyOTQ4NDFiMGRkNWMzNzc5NDQ3NWYxID0gTC5wb3B1cCh7Im1heFdpZHRoIjogIjEwMCUifSk7CgogICAgICAgIAogICAgICAgICAgICB2YXIgaHRtbF8wZDAzMjEwMzM4YWU0M2Y2YWZhNmVhODI1ZjVlNDdiNCA9ICQoYDxkaXYgaWQ9Imh0bWxfMGQwMzIxMDMzOGFlNDNmNmFmYTZlYTgyNWY1ZTQ3YjQiIHN0eWxlPSJ3aWR0aDogMTAwLjAlOyBoZWlnaHQ6IDEwMC4wJTsiPk9USEVSIE9GRkVOU0VTPC9kaXY+YClbMF07CiAgICAgICAgICAgIHBvcHVwX2VmMzE1MDE3ZmEyOTQ4NDFiMGRkNWMzNzc5NDQ3NWYxLnNldENvbnRlbnQoaHRtbF8wZDAzMjEwMzM4YWU0M2Y2YWZhNmVhODI1ZjVlNDdiNCk7CiAgICAgICAgCgogICAgICAgIG1hcmtlcl9iMDc1ZDU1YTkwY2Q0YmZjYWMzOGI0NzE0Y2RmNzA0Zi5iaW5kUG9wdXAocG9wdXBfZWYzMTUwMTdmYTI5NDg0MWIwZGQ1YzM3Nzk0NDc1ZjEpCiAgICAgICAgOwoKICAgICAgICAKICAgIAogICAgCiAgICAgICAgICAgIHZhciBtYXJrZXJfMWJiYTI4ZWJjYTk3NDc4MTg3Y2UyNTVlMTJlZWUxOTEgPSBMLm1hcmtlcigKICAgICAgICAgICAgICAgIFszNy43NzMyOTE4MDY5MDI5OTYsIC0xMjIuNDM2NjE0MTgxMzMxMDFdLAogICAgICAgICAgICAgICAge30KICAgICAgICAgICAgKS5hZGRUbyhtYXJrZXJfY2x1c3Rlcl8xMDI2ZTYzNjYzZjQ0MGYyYTU1ZjYyZTkxZjhmOWI1OCk7CiAgICAgICAgCiAgICAKICAgICAgICB2YXIgcG9wdXBfZGZlYjgxZmY1MTFiNDQ1ZTgzYWM2MmQzYThkNWZkNTUgPSBMLnBvcHVwKHsibWF4V2lkdGgiOiAiMTAwJSJ9KTsKCiAgICAgICAgCiAgICAgICAgICAgIHZhciBodG1sX2U1MTU5NzE5ZjUwNTQ4ZThhNGY4ZDZiNzQ3MzQ0ZWU5ID0gJChgPGRpdiBpZD0iaHRtbF9lNTE1OTcxOWY1MDU0OGU4YTRmOGQ2Yjc0NzM0NGVlOSIgc3R5bGU9IndpZHRoOiAxMDAuMCU7IGhlaWdodDogMTAwLjAlOyI+Tk9OLUNSSU1JTkFMPC9kaXY+YClbMF07CiAgICAgICAgICAgIHBvcHVwX2RmZWI4MWZmNTExYjQ0NWU4M2FjNjJkM2E4ZDVmZDU1LnNldENvbnRlbnQoaHRtbF9lNTE1OTcxOWY1MDU0OGU4YTRmOGQ2Yjc0NzM0NGVlOSk7CiAgICAgICAgCgogICAgICAgIG1hcmtlcl8xYmJhMjhlYmNhOTc0NzgxODdjZTI1NWUxMmVlZTE5MS5iaW5kUG9wdXAocG9wdXBfZGZlYjgxZmY1MTFiNDQ1ZTgzYWM2MmQzYThkNWZkNTUpCiAgICAgICAgOwoKICAgICAgICAKICAgIAogICAgCiAgICAgICAgICAgIHZhciBtYXJrZXJfMmM3M2U2YmU3MWQyNDQxMDk1ZWM2MjlkNjdmOGYxOWMgPSBMLm1hcmtlcigKICAgICAgICAgICAgICAgIFszNy43ODA1Mjc1Nzg1MDksIC0xMjIuMzk2ODQ5MDE1MTcyMDFdLAogICAgICAgICAgICAgICAge30KICAgICAgICAgICAgKS5hZGRUbyhtYXJrZXJfY2x1c3Rlcl8xMDI2ZTYzNjYzZjQ0MGYyYTU1ZjYyZTkxZjhmOWI1OCk7CiAgICAgICAgCiAgICAKICAgICAgICB2YXIgcG9wdXBfZWYzMWYwZTBmYTQxNDI5MjkwZmM1OTNlMWNiOGRlNDAgPSBMLnBvcHVwKHsibWF4V2lkdGgiOiAiMTAwJSJ9KTsKCiAgICAgICAgCiAgICAgICAgICAgIHZhciBodG1sXzA0N2Y1YWM4ZWMxMjQ3NGNhNzdjMDJmMDU1YzA2MDA4ID0gJChgPGRpdiBpZD0iaHRtbF8wNDdmNWFjOGVjMTI0NzRjYTc3YzAyZjA1NWMwNjAwOCIgc3R5bGU9IndpZHRoOiAxMDAuMCU7IGhlaWdodDogMTAwLjAlOyI+RFJVRy9OQVJDT1RJQzwvZGl2PmApWzBdOwogICAgICAgICAgICBwb3B1cF9lZjMxZjBlMGZhNDE0MjkyOTBmYzU5M2UxY2I4ZGU0MC5zZXRDb250ZW50KGh0bWxfMDQ3ZjVhYzhlYzEyNDc0Y2E3N2MwMmYwNTVjMDYwMDgpOwogICAgICAgIAoKICAgICAgICBtYXJrZXJfMmM3M2U2YmU3MWQyNDQxMDk1ZWM2MjlkNjdmOGYxOWMuYmluZFBvcHVwKHBvcHVwX2VmMzFmMGUwZmE0MTQyOTI5MGZjNTkzZTFjYjhkZTQwKQogICAgICAgIDsKCiAgICAgICAgCiAgICAKICAgIAogICAgICAgICAgICB2YXIgbWFya2VyX2UzNjg3NDIyN2Q0YjRhYmFiNTMzZTlmNjZkNWEzYjQ3ID0gTC5tYXJrZXIoCiAgICAgICAgICAgICAgICBbMzcuNzgwNTI3NTc4NTA5LCAtMTIyLjM5Njg0OTAxNTE3MjAxXSwKICAgICAgICAgICAgICAgIHt9CiAgICAgICAgICAgICkuYWRkVG8obWFya2VyX2NsdXN0ZXJfMTAyNmU2MzY2M2Y0NDBmMmE1NWY2MmU5MWY4ZjliNTgpOwogICAgICAgIAogICAgCiAgICAgICAgdmFyIHBvcHVwXzRkMWRmZGU0OTQ1ZTQ1ZjM5MGNmZmZiMTJkYWJlOWYxID0gTC5wb3B1cCh7Im1heFdpZHRoIjogIjEwMCUifSk7CgogICAgICAgIAogICAgICAgICAgICB2YXIgaHRtbF81MDMwZGRmOWIxYjQ0NzQ1YWFiMTI3ZmIwMWM1MzA3NSA9ICQoYDxkaXYgaWQ9Imh0bWxfNTAzMGRkZjliMWI0NDc0NWFhYjEyN2ZiMDFjNTMwNzUiIHN0eWxlPSJ3aWR0aDogMTAwLjAlOyBoZWlnaHQ6IDEwMC4wJTsiPldBUlJBTlRTPC9kaXY+YClbMF07CiAgICAgICAgICAgIHBvcHVwXzRkMWRmZGU0OTQ1ZTQ1ZjM5MGNmZmZiMTJkYWJlOWYxLnNldENvbnRlbnQoaHRtbF81MDMwZGRmOWIxYjQ0NzQ1YWFiMTI3ZmIwMWM1MzA3NSk7CiAgICAgICAgCgogICAgICAgIG1hcmtlcl9lMzY4NzQyMjdkNGI0YWJhYjUzM2U5ZjY2ZDVhM2I0Ny5iaW5kUG9wdXAocG9wdXBfNGQxZGZkZTQ5NDVlNDVmMzkwY2ZmZmIxMmRhYmU5ZjEpCiAgICAgICAgOwoKICAgICAgICAKICAgIAogICAgCiAgICAgICAgICAgIHZhciBtYXJrZXJfYTYwZmU2NTM3MDk1NDhmNjg4YmE4MzZmY2Q3ZDhhYWIgPSBMLm1hcmtlcigKICAgICAgICAgICAgICAgIFszNy43Mjg0MTgwNzA2NjAyMDQsIC0xMjIuNDUwMDAwNzkwNDQ1XSwKICAgICAgICAgICAgICAgIHt9CiAgICAgICAgICAgICkuYWRkVG8obWFya2VyX2NsdXN0ZXJfMTAyNmU2MzY2M2Y0NDBmMmE1NWY2MmU5MWY4ZjliNTgpOwogICAgICAgIAogICAgCiAgICAgICAgdmFyIHBvcHVwX2M1YzAxOTdiYTZiMDRhYzhiMGZlMDc5Y2EzZmJiMjE0ID0gTC5wb3B1cCh7Im1heFdpZHRoIjogIjEwMCUifSk7CgogICAgICAgIAogICAgICAgICAgICB2YXIgaHRtbF9iYmQyOGQ3ZjVhMmM0OTlkODNjNmRiYmQxYjJjMjAwZSA9ICQoYDxkaXYgaWQ9Imh0bWxfYmJkMjhkN2Y1YTJjNDk5ZDgzYzZkYmJkMWIyYzIwMGUiIHN0eWxlPSJ3aWR0aDogMTAwLjAlOyBoZWlnaHQ6IDEwMC4wJTsiPkxBUkNFTlkvVEhFRlQ8L2Rpdj5gKVswXTsKICAgICAgICAgICAgcG9wdXBfYzVjMDE5N2JhNmIwNGFjOGIwZmUwNzljYTNmYmIyMTQuc2V0Q29udGVudChodG1sX2JiZDI4ZDdmNWEyYzQ5OWQ4M2M2ZGJiZDFiMmMyMDBlKTsKICAgICAgICAKCiAgICAgICAgbWFya2VyX2E2MGZlNjUzNzA5NTQ4ZjY4OGJhODM2ZmNkN2Q4YWFiLmJpbmRQb3B1cChwb3B1cF9jNWMwMTk3YmE2YjA0YWM4YjBmZTA3OWNhM2ZiYjIxNCkKICAgICAgICA7CgogICAgICAgIAogICAgCiAgICAKICAgICAgICAgICAgdmFyIG1hcmtlcl81OGMxODFjYjZmZWU0MTdiOGQzYTYzMDZjNmUzYzRiYiA9IEwubWFya2VyKAogICAgICAgICAgICAgICAgWzM3LjcyOTIxMTQ2NDczNTksIC0xMjIuNDAwODM0MjgzMDMxXSwKICAgICAgICAgICAgICAgIHt9CiAgICAgICAgICAgICkuYWRkVG8obWFya2VyX2NsdXN0ZXJfMTAyNmU2MzY2M2Y0NDBmMmE1NWY2MmU5MWY4ZjliNTgpOwogICAgICAgIAogICAgCiAgICAgICAgdmFyIHBvcHVwXzZiNDE0YzI0YjNmZTQyNDE4YWQ0YzI3MzEyNGYxMzc5ID0gTC5wb3B1cCh7Im1heFdpZHRoIjogIjEwMCUifSk7CgogICAgICAgIAogICAgICAgICAgICB2YXIgaHRtbF9mNjZjZTcyNjIxMzU0NGE1OGE1ZjA3YjJjYjY1OWE4ZCA9ICQoYDxkaXYgaWQ9Imh0bWxfZjY2Y2U3MjYyMTM1NDRhNThhNWYwN2IyY2I2NTlhOGQiIHN0eWxlPSJ3aWR0aDogMTAwLjAlOyBoZWlnaHQ6IDEwMC4wJTsiPk9USEVSIE9GRkVOU0VTPC9kaXY+YClbMF07CiAgICAgICAgICAgIHBvcHVwXzZiNDE0YzI0YjNmZTQyNDE4YWQ0YzI3MzEyNGYxMzc5LnNldENvbnRlbnQoaHRtbF9mNjZjZTcyNjIxMzU0NGE1OGE1ZjA3YjJjYjY1OWE4ZCk7CiAgICAgICAgCgogICAgICAgIG1hcmtlcl81OGMxODFjYjZmZWU0MTdiOGQzYTYzMDZjNmUzYzRiYi5iaW5kUG9wdXAocG9wdXBfNmI0MTRjMjRiM2ZlNDI0MThhZDRjMjczMTI0ZjEzNzkpCiAgICAgICAgOwoKICAgICAgICAKICAgIAogICAgCiAgICAgICAgICAgIHZhciBtYXJrZXJfMzlhOTBhZmRhNTY5NDRkMjgxMDIwMTYxMzBkM2UyNzUgPSBMLm1hcmtlcigKICAgICAgICAgICAgICAgIFszNy43ODgwMDY1MzI0MzkyMDUsIC0xMjIuMzk5ODAyMTQ1Nzk5XSwKICAgICAgICAgICAgICAgIHt9CiAgICAgICAgICAgICkuYWRkVG8obWFya2VyX2NsdXN0ZXJfMTAyNmU2MzY2M2Y0NDBmMmE1NWY2MmU5MWY4ZjliNTgpOwogICAgICAgIAogICAgCiAgICAgICAgdmFyIHBvcHVwXzZkNmY0Y2IxNTJjMDQxZGU4MDgxMWVkYzNkZGQ1OTRjID0gTC5wb3B1cCh7Im1heFdpZHRoIjogIjEwMCUifSk7CgogICAgICAgIAogICAgICAgICAgICB2YXIgaHRtbF81ZjFhYTBlNjdlZjg0YTdjYTFlNzdkOTVmMDYxM2M3OSA9ICQoYDxkaXYgaWQ9Imh0bWxfNWYxYWEwZTY3ZWY4NGE3Y2ExZTc3ZDk1ZjA2MTNjNzkiIHN0eWxlPSJ3aWR0aDogMTAwLjAlOyBoZWlnaHQ6IDEwMC4wJTsiPkxBUkNFTlkvVEhFRlQ8L2Rpdj5gKVswXTsKICAgICAgICAgICAgcG9wdXBfNmQ2ZjRjYjE1MmMwNDFkZTgwODExZWRjM2RkZDU5NGMuc2V0Q29udGVudChodG1sXzVmMWFhMGU2N2VmODRhN2NhMWU3N2Q5NWYwNjEzYzc5KTsKICAgICAgICAKCiAgICAgICAgbWFya2VyXzM5YTkwYWZkYTU2OTQ0ZDI4MTAyMDE2MTMwZDNlMjc1LmJpbmRQb3B1cChwb3B1cF82ZDZmNGNiMTUyYzA0MWRlODA4MTFlZGMzZGRkNTk0YykKICAgICAgICA7CgogICAgICAgIAogICAgCiAgICAKICAgICAgICAgICAgdmFyIG1hcmtlcl9iYTZjNGE0YjM4ZjM0ODM4YWY0OTMxNzQ3ZTNmMzRkNyA9IEwubWFya2VyKAogICAgICAgICAgICAgICAgWzM3LjcyMzk3NDgyNDE2MDksIC0xMjIuMzk0OTI4NDc1OF0sCiAgICAgICAgICAgICAgICB7fQogICAgICAgICAgICApLmFkZFRvKG1hcmtlcl9jbHVzdGVyXzEwMjZlNjM2NjNmNDQwZjJhNTVmNjJlOTFmOGY5YjU4KTsKICAgICAgICAKICAgIAogICAgICAgIHZhciBwb3B1cF9kMDVmMDQxNGUzZTc0Nzc2YTJiNDc2ZDVkMjgyOTA1ZiA9IEwucG9wdXAoeyJtYXhXaWR0aCI6ICIxMDAlIn0pOwoKICAgICAgICAKICAgICAgICAgICAgdmFyIGh0bWxfYTAxNTAzOGEzZGQ1NGE1ZGJkY2JhNWExMTU0NWRmYTAgPSAkKGA8ZGl2IGlkPSJodG1sX2EwMTUwMzhhM2RkNTRhNWRiZGNiYTVhMTE1NDVkZmEwIiBzdHlsZT0id2lkdGg6IDEwMC4wJTsgaGVpZ2h0OiAxMDAuMCU7Ij5TRUNPTkRBUlkgQ09ERVM8L2Rpdj5gKVswXTsKICAgICAgICAgICAgcG9wdXBfZDA1ZjA0MTRlM2U3NDc3NmEyYjQ3NmQ1ZDI4MjkwNWYuc2V0Q29udGVudChodG1sX2EwMTUwMzhhM2RkNTRhNWRiZGNiYTVhMTE1NDVkZmEwKTsKICAgICAgICAKCiAgICAgICAgbWFya2VyX2JhNmM0YTRiMzhmMzQ4MzhhZjQ5MzE3NDdlM2YzNGQ3LmJpbmRQb3B1cChwb3B1cF9kMDVmMDQxNGUzZTc0Nzc2YTJiNDc2ZDVkMjgyOTA1ZikKICAgICAgICA7CgogICAgICAgIAogICAgCiAgICAKICAgICAgICAgICAgdmFyIG1hcmtlcl9kYTNhMDAxMjg3NGI0MTUyYTBiNDgxZDFlNzllZGFiMSA9IEwubWFya2VyKAogICAgICAgICAgICAgICAgWzM3LjcyMzk3NDgyNDE2MDksIC0xMjIuMzk0OTI4NDc1OF0sCiAgICAgICAgICAgICAgICB7fQogICAgICAgICAgICApLmFkZFRvKG1hcmtlcl9jbHVzdGVyXzEwMjZlNjM2NjNmNDQwZjJhNTVmNjJlOTFmOGY5YjU4KTsKICAgICAgICAKICAgIAogICAgICAgIHZhciBwb3B1cF80NmM0ODA5ZDVhNjk0NzNhOWU0MmQzMmJhYWUyOGZlNSA9IEwucG9wdXAoeyJtYXhXaWR0aCI6ICIxMDAlIn0pOwoKICAgICAgICAKICAgICAgICAgICAgdmFyIGh0bWxfNWJkMzZmZjlkYWYxNDkxNWJiZTEzNWJjNzdhM2Y1YWYgPSAkKGA8ZGl2IGlkPSJodG1sXzViZDM2ZmY5ZGFmMTQ5MTViYmUxMzViYzc3YTNmNWFmIiBzdHlsZT0id2lkdGg6IDEwMC4wJTsgaGVpZ2h0OiAxMDAuMCU7Ij5TVVNQSUNJT1VTIE9DQzwvZGl2PmApWzBdOwogICAgICAgICAgICBwb3B1cF80NmM0ODA5ZDVhNjk0NzNhOWU0MmQzMmJhYWUyOGZlNS5zZXRDb250ZW50KGh0bWxfNWJkMzZmZjlkYWYxNDkxNWJiZTEzNWJjNzdhM2Y1YWYpOwogICAgICAgIAoKICAgICAgICBtYXJrZXJfZGEzYTAwMTI4NzRiNDE1MmEwYjQ4MWQxZTc5ZWRhYjEuYmluZFBvcHVwKHBvcHVwXzQ2YzQ4MDlkNWE2OTQ3M2E5ZTQyZDMyYmFhZTI4ZmU1KQogICAgICAgIDsKCiAgICAgICAgCiAgICAKICAgIAogICAgICAgICAgICB2YXIgbWFya2VyXzg3MDU3ZDFhZTM3ZDQxM2M4M2U4NzA0ZDYzYzRjMTk3ID0gTC5tYXJrZXIoCiAgICAgICAgICAgICAgICBbMzcuNzIzOTc0ODI0MTYwOSwgLTEyMi4zOTQ5Mjg0NzU4XSwKICAgICAgICAgICAgICAgIHt9CiAgICAgICAgICAgICkuYWRkVG8obWFya2VyX2NsdXN0ZXJfMTAyNmU2MzY2M2Y0NDBmMmE1NWY2MmU5MWY4ZjliNTgpOwogICAgICAgIAogICAgCiAgICAgICAgdmFyIHBvcHVwXzNiMTdjNmVkMGE3OTQ1ZjQ4MDlmNTJlYjBhZDcyNDQ5ID0gTC5wb3B1cCh7Im1heFdpZHRoIjogIjEwMCUifSk7CgogICAgICAgIAogICAgICAgICAgICB2YXIgaHRtbF9kMzc0NGI5NTE2ZWM0NGIwYmJhZDBhZmEwM2RjY2IyNiA9ICQoYDxkaXYgaWQ9Imh0bWxfZDM3NDRiOTUxNmVjNDRiMGJiYWQwYWZhMDNkY2NiMjYiIHN0eWxlPSJ3aWR0aDogMTAwLjAlOyBoZWlnaHQ6IDEwMC4wJTsiPk9USEVSIE9GRkVOU0VTPC9kaXY+YClbMF07CiAgICAgICAgICAgIHBvcHVwXzNiMTdjNmVkMGE3OTQ1ZjQ4MDlmNTJlYjBhZDcyNDQ5LnNldENvbnRlbnQoaHRtbF9kMzc0NGI5NTE2ZWM0NGIwYmJhZDBhZmEwM2RjY2IyNik7CiAgICAgICAgCgogICAgICAgIG1hcmtlcl84NzA1N2QxYWUzN2Q0MTNjODNlODcwNGQ2M2M0YzE5Ny5iaW5kUG9wdXAocG9wdXBfM2IxN2M2ZWQwYTc5NDVmNDgwOWY1MmViMGFkNzI0NDkpCiAgICAgICAgOwoKICAgICAgICAKICAgIAogICAgCiAgICAgICAgICAgIHZhciBtYXJrZXJfM2NjNTg0ZjM5NmQ0NGQ0OWI0N2Q3MTg1ZWU1NzQwNjMgPSBMLm1hcmtlcigKICAgICAgICAgICAgICAgIFszNy43ODgzMjM1NDQ5OTA0LCAtMTIyLjQxMTg1NzAzMjU0XSwKICAgICAgICAgICAgICAgIHt9CiAgICAgICAgICAgICkuYWRkVG8obWFya2VyX2NsdXN0ZXJfMTAyNmU2MzY2M2Y0NDBmMmE1NWY2MmU5MWY4ZjliNTgpOwogICAgICAgIAogICAgCiAgICAgICAgdmFyIHBvcHVwX2I4NDdjOWM1YmFjZDRhMzZhYjllZDkxMzZmYjEyZTJmID0gTC5wb3B1cCh7Im1heFdpZHRoIjogIjEwMCUifSk7CgogICAgICAgIAogICAgICAgICAgICB2YXIgaHRtbF8zZDk0MDdkMTQ1MTQ0NjZhYWIyY2NjZTcwMTdkYmQ0ZSA9ICQoYDxkaXYgaWQ9Imh0bWxfM2Q5NDA3ZDE0NTE0NDY2YWFiMmNjY2U3MDE3ZGJkNGUiIHN0eWxlPSJ3aWR0aDogMTAwLjAlOyBoZWlnaHQ6IDEwMC4wJTsiPkxBUkNFTlkvVEhFRlQ8L2Rpdj5gKVswXTsKICAgICAgICAgICAgcG9wdXBfYjg0N2M5YzViYWNkNGEzNmFiOWVkOTEzNmZiMTJlMmYuc2V0Q29udGVudChodG1sXzNkOTQwN2QxNDUxNDQ2NmFhYjJjY2NlNzAxN2RiZDRlKTsKICAgICAgICAKCiAgICAgICAgbWFya2VyXzNjYzU4NGYzOTZkNDRkNDliNDdkNzE4NWVlNTc0MDYzLmJpbmRQb3B1cChwb3B1cF9iODQ3YzljNWJhY2Q0YTM2YWI5ZWQ5MTM2ZmIxMmUyZikKICAgICAgICA7CgogICAgICAgIAogICAgCiAgICAKICAgICAgICAgICAgdmFyIG1hcmtlcl8yMTc5NmM3ZjU2MjQ0NDZkYjc0OWRhZGE5ZGRlMWM2MSA9IEwubWFya2VyKAogICAgICAgICAgICAgICAgWzM3Ljc1NTk5NzczMzk4NTYsIC0xMjIuNDA5NDM1NjE3MTA2XSwKICAgICAgICAgICAgICAgIHt9CiAgICAgICAgICAgICkuYWRkVG8obWFya2VyX2NsdXN0ZXJfMTAyNmU2MzY2M2Y0NDBmMmE1NWY2MmU5MWY4ZjliNTgpOwogICAgICAgIAogICAgCiAgICAgICAgdmFyIHBvcHVwXzJkNzhkMjU4MGQ3YjQzNTM5OWYxNzI5ZjdjYWIwNzkzID0gTC5wb3B1cCh7Im1heFdpZHRoIjogIjEwMCUifSk7CgogICAgICAgIAogICAgICAgICAgICB2YXIgaHRtbF8wNDhkN2FkNWEwYmQ0MjYxYWZlZTA2YmQzOGM2NzZlYSA9ICQoYDxkaXYgaWQ9Imh0bWxfMDQ4ZDdhZDVhMGJkNDI2MWFmZWUwNmJkMzhjNjc2ZWEiIHN0eWxlPSJ3aWR0aDogMTAwLjAlOyBoZWlnaHQ6IDEwMC4wJTsiPk9USEVSIE9GRkVOU0VTPC9kaXY+YClbMF07CiAgICAgICAgICAgIHBvcHVwXzJkNzhkMjU4MGQ3YjQzNTM5OWYxNzI5ZjdjYWIwNzkzLnNldENvbnRlbnQoaHRtbF8wNDhkN2FkNWEwYmQ0MjYxYWZlZTA2YmQzOGM2NzZlYSk7CiAgICAgICAgCgogICAgICAgIG1hcmtlcl8yMTc5NmM3ZjU2MjQ0NDZkYjc0OWRhZGE5ZGRlMWM2MS5iaW5kUG9wdXAocG9wdXBfMmQ3OGQyNTgwZDdiNDM1Mzk5ZjE3MjlmN2NhYjA3OTMpCiAgICAgICAgOwoKICAgICAgICAKICAgIAogICAgCiAgICAgICAgICAgIHZhciBtYXJrZXJfMTdhNzIwM2Q3YjNkNDQxNGI4NWJkYmY1Njk0YzRiNjcgPSBMLm1hcmtlcigKICAgICAgICAgICAgICAgIFszNy43ODcwNzk4MTQ0NDQzLCAtMTIyLjQyNTg4MzM1ODE0OF0sCiAgICAgICAgICAgICAgICB7fQogICAgICAgICAgICApLmFkZFRvKG1hcmtlcl9jbHVzdGVyXzEwMjZlNjM2NjNmNDQwZjJhNTVmNjJlOTFmOGY5YjU4KTsKICAgICAgICAKICAgIAogICAgICAgIHZhciBwb3B1cF8xM2QyN2MxOTQ1ZTk0MDUwOTYxYTNkZTEwNTM1YjkyNCA9IEwucG9wdXAoeyJtYXhXaWR0aCI6ICIxMDAlIn0pOwoKICAgICAgICAKICAgICAgICAgICAgdmFyIGh0bWxfMDc0NGViOTQ3ODM0NDVlY2IzMGRlNzlhNzQxMDg5MmYgPSAkKGA8ZGl2IGlkPSJodG1sXzA3NDRlYjk0NzgzNDQ1ZWNiMzBkZTc5YTc0MTA4OTJmIiBzdHlsZT0id2lkdGg6IDEwMC4wJTsgaGVpZ2h0OiAxMDAuMCU7Ij5OT04tQ1JJTUlOQUw8L2Rpdj5gKVswXTsKICAgICAgICAgICAgcG9wdXBfMTNkMjdjMTk0NWU5NDA1MDk2MWEzZGUxMDUzNWI5MjQuc2V0Q29udGVudChodG1sXzA3NDRlYjk0NzgzNDQ1ZWNiMzBkZTc5YTc0MTA4OTJmKTsKICAgICAgICAKCiAgICAgICAgbWFya2VyXzE3YTcyMDNkN2IzZDQ0MTRiODViZGJmNTY5NGM0YjY3LmJpbmRQb3B1cChwb3B1cF8xM2QyN2MxOTQ1ZTk0MDUwOTYxYTNkZTEwNTM1YjkyNCkKICAgICAgICA7CgogICAgICAgIAogICAgCiAgICAKICAgICAgICAgICAgdmFyIG1hcmtlcl8wODYzZTUwOTc3NWM0YzE2OGU1NWZiNzRkMjJjZDFmYyA9IEwubWFya2VyKAogICAgICAgICAgICAgICAgWzM3LjczNjAzNzQ0NjY4NjIwNCwgLTEyMi40MTUxMjY1NDMwMDEwMV0sCiAgICAgICAgICAgICAgICB7fQogICAgICAgICAgICApLmFkZFRvKG1hcmtlcl9jbHVzdGVyXzEwMjZlNjM2NjNmNDQwZjJhNTVmNjJlOTFmOGY5YjU4KTsKICAgICAgICAKICAgIAogICAgICAgIHZhciBwb3B1cF9jMWNhZmY0NzhkZDQ0ODQ3YjE2OGVkZmZlNGVhYjQ5OCA9IEwucG9wdXAoeyJtYXhXaWR0aCI6ICIxMDAlIn0pOwoKICAgICAgICAKICAgICAgICAgICAgdmFyIGh0bWxfNzkyNWVhMWM0MjIyNGE0M2FkZDY4YTAzOGJmMDdjNjkgPSAkKGA8ZGl2IGlkPSJodG1sXzc5MjVlYTFjNDIyMjRhNDNhZGQ2OGEwMzhiZjA3YzY5IiBzdHlsZT0id2lkdGg6IDEwMC4wJTsgaGVpZ2h0OiAxMDAuMCU7Ij5OT04tQ1JJTUlOQUw8L2Rpdj5gKVswXTsKICAgICAgICAgICAgcG9wdXBfYzFjYWZmNDc4ZGQ0NDg0N2IxNjhlZGZmZTRlYWI0OTguc2V0Q29udGVudChodG1sXzc5MjVlYTFjNDIyMjRhNDNhZGQ2OGEwMzhiZjA3YzY5KTsKICAgICAgICAKCiAgICAgICAgbWFya2VyXzA4NjNlNTA5Nzc1YzRjMTY4ZTU1ZmI3NGQyMmNkMWZjLmJpbmRQb3B1cChwb3B1cF9jMWNhZmY0NzhkZDQ0ODQ3YjE2OGVkZmZlNGVhYjQ5OCkKICAgICAgICA7CgogICAgICAgIAogICAgCiAgICAKICAgICAgICAgICAgdmFyIG1hcmtlcl9hNmQyZTE4ODA0Mjk0ZDA3OTM5Yjg0NDlmOWM2MTUwZCA9IEwubWFya2VyKAogICAgICAgICAgICAgICAgWzM3LjcxMjc2Nzg4NDgyMSwgLTEyMi40MzE5MjgwMTEwODldLAogICAgICAgICAgICAgICAge30KICAgICAgICAgICAgKS5hZGRUbyhtYXJrZXJfY2x1c3Rlcl8xMDI2ZTYzNjYzZjQ0MGYyYTU1ZjYyZTkxZjhmOWI1OCk7CiAgICAgICAgCiAgICAKICAgICAgICB2YXIgcG9wdXBfM2RlOWJmMDk5NTdmNDY4YmJlNTM3ZjIyZmIzNjdlOGYgPSBMLnBvcHVwKHsibWF4V2lkdGgiOiAiMTAwJSJ9KTsKCiAgICAgICAgCiAgICAgICAgICAgIHZhciBodG1sXzA4MTMzZWNkMzNkYTQ4ZDBiNTdmZmEzZmNmMjc1Yzg5ID0gJChgPGRpdiBpZD0iaHRtbF8wODEzM2VjZDMzZGE0OGQwYjU3ZmZhM2ZjZjI3NWM4OSIgc3R5bGU9IndpZHRoOiAxMDAuMCU7IGhlaWdodDogMTAwLjAlOyI+T1RIRVIgT0ZGRU5TRVM8L2Rpdj5gKVswXTsKICAgICAgICAgICAgcG9wdXBfM2RlOWJmMDk5NTdmNDY4YmJlNTM3ZjIyZmIzNjdlOGYuc2V0Q29udGVudChodG1sXzA4MTMzZWNkMzNkYTQ4ZDBiNTdmZmEzZmNmMjc1Yzg5KTsKICAgICAgICAKCiAgICAgICAgbWFya2VyX2E2ZDJlMTg4MDQyOTRkMDc5MzliODQ0OWY5YzYxNTBkLmJpbmRQb3B1cChwb3B1cF8zZGU5YmYwOTk1N2Y0NjhiYmU1MzdmMjJmYjM2N2U4ZikKICAgICAgICA7CgogICAgICAgIAogICAgCiAgICAKICAgICAgICAgICAgdmFyIG1hcmtlcl81ODE3ZTM2YzZjMjA0YzJjOWVlZWJiOTQ2YmUzYzQxOCA9IEwubWFya2VyKAogICAgICAgICAgICAgICAgWzM3Ljc4OTU3MTAyNTU4NjMsIC0xMjIuNDAyMTYzNzEzNjE4XSwKICAgICAgICAgICAgICAgIHt9CiAgICAgICAgICAgICkuYWRkVG8obWFya2VyX2NsdXN0ZXJfMTAyNmU2MzY2M2Y0NDBmMmE1NWY2MmU5MWY4ZjliNTgpOwogICAgICAgIAogICAgCiAgICAgICAgdmFyIHBvcHVwXzc0NjdlN2YwNzlmMjQ0NmRhMzRjZTQ2ZTVkZTI0NDU0ID0gTC5wb3B1cCh7Im1heFdpZHRoIjogIjEwMCUifSk7CgogICAgICAgIAogICAgICAgICAgICB2YXIgaHRtbF85OGYwZWY2ZTQ0Mzc0N2IxODI1YmY3ZGY5OTQyOTVjZSA9ICQoYDxkaXYgaWQ9Imh0bWxfOThmMGVmNmU0NDM3NDdiMTgyNWJmN2RmOTk0Mjk1Y2UiIHN0eWxlPSJ3aWR0aDogMTAwLjAlOyBoZWlnaHQ6IDEwMC4wJTsiPkRSVU5LRU5ORVNTPC9kaXY+YClbMF07CiAgICAgICAgICAgIHBvcHVwXzc0NjdlN2YwNzlmMjQ0NmRhMzRjZTQ2ZTVkZTI0NDU0LnNldENvbnRlbnQoaHRtbF85OGYwZWY2ZTQ0Mzc0N2IxODI1YmY3ZGY5OTQyOTVjZSk7CiAgICAgICAgCgogICAgICAgIG1hcmtlcl81ODE3ZTM2YzZjMjA0YzJjOWVlZWJiOTQ2YmUzYzQxOC5iaW5kUG9wdXAocG9wdXBfNzQ2N2U3ZjA3OWYyNDQ2ZGEzNGNlNDZlNWRlMjQ0NTQpCiAgICAgICAgOwoKICAgICAgICAKICAgIAogICAgCiAgICAgICAgICAgIHZhciBtYXJrZXJfNjQwYmQ4MDExMDI3NGJkZGI2Y2EyZjliZWVlOTM0ZTUgPSBMLm1hcmtlcigKICAgICAgICAgICAgICAgIFszNy43MzA3NDI5MTY5NTU5LCAtMTIyLjQyOTMwNjcyODM3Nl0sCiAgICAgICAgICAgICAgICB7fQogICAgICAgICAgICApLmFkZFRvKG1hcmtlcl9jbHVzdGVyXzEwMjZlNjM2NjNmNDQwZjJhNTVmNjJlOTFmOGY5YjU4KTsKICAgICAgICAKICAgIAogICAgICAgIHZhciBwb3B1cF8yMzVkNjAxMTUzNjU0YTY5YjcxNGE3MDRiNzlhODkxMCA9IEwucG9wdXAoeyJtYXhXaWR0aCI6ICIxMDAlIn0pOwoKICAgICAgICAKICAgICAgICAgICAgdmFyIGh0bWxfZTM0NzM1ODE4YTk1NDk5MzhmZGIzYjY4ZjA3MDJlY2MgPSAkKGA8ZGl2IGlkPSJodG1sX2UzNDczNTgxOGE5NTQ5OTM4ZmRiM2I2OGYwNzAyZWNjIiBzdHlsZT0id2lkdGg6IDEwMC4wJTsgaGVpZ2h0OiAxMDAuMCU7Ij5PVEhFUiBPRkZFTlNFUzwvZGl2PmApWzBdOwogICAgICAgICAgICBwb3B1cF8yMzVkNjAxMTUzNjU0YTY5YjcxNGE3MDRiNzlhODkxMC5zZXRDb250ZW50KGh0bWxfZTM0NzM1ODE4YTk1NDk5MzhmZGIzYjY4ZjA3MDJlY2MpOwogICAgICAgIAoKICAgICAgICBtYXJrZXJfNjQwYmQ4MDExMDI3NGJkZGI2Y2EyZjliZWVlOTM0ZTUuYmluZFBvcHVwKHBvcHVwXzIzNWQ2MDExNTM2NTRhNjliNzE0YTcwNGI3OWE4OTEwKQogICAgICAgIDsKCiAgICAgICAgCiAgICAKICAgIAogICAgICAgICAgICB2YXIgbWFya2VyX2Y2MTFhYTEyOWJhYjRkOTRiNWVlZmFjZjA2NzA3NjcxID0gTC5tYXJrZXIoCiAgICAgICAgICAgICAgICBbMzcuNzgzODM2NTU2NTM0Nzk0LCAtMTIyLjQxMzc5MDk3Mjc4MDk5XSwKICAgICAgICAgICAgICAgIHt9CiAgICAgICAgICAgICkuYWRkVG8obWFya2VyX2NsdXN0ZXJfMTAyNmU2MzY2M2Y0NDBmMmE1NWY2MmU5MWY4ZjliNTgpOwogICAgICAgIAogICAgCiAgICAgICAgdmFyIHBvcHVwX2FhYWJmNzM4NGUxYjQyZWQ4MGE3MjA1NzVmNWE3ZGQ1ID0gTC5wb3B1cCh7Im1heFdpZHRoIjogIjEwMCUifSk7CgogICAgICAgIAogICAgICAgICAgICB2YXIgaHRtbF9jN2IwNjZmOGVjYjE0MmQ3ODk0NDk0Njc0ODMxODVmNSA9ICQoYDxkaXYgaWQ9Imh0bWxfYzdiMDY2ZjhlY2IxNDJkNzg5NDQ5NDY3NDgzMTg1ZjUiIHN0eWxlPSJ3aWR0aDogMTAwLjAlOyBoZWlnaHQ6IDEwMC4wJTsiPlZBTkRBTElTTTwvZGl2PmApWzBdOwogICAgICAgICAgICBwb3B1cF9hYWFiZjczODRlMWI0MmVkODBhNzIwNTc1ZjVhN2RkNS5zZXRDb250ZW50KGh0bWxfYzdiMDY2ZjhlY2IxNDJkNzg5NDQ5NDY3NDgzMTg1ZjUpOwogICAgICAgIAoKICAgICAgICBtYXJrZXJfZjYxMWFhMTI5YmFiNGQ5NGI1ZWVmYWNmMDY3MDc2NzEuYmluZFBvcHVwKHBvcHVwX2FhYWJmNzM4NGUxYjQyZWQ4MGE3MjA1NzVmNWE3ZGQ1KQogICAgICAgIDsKCiAgICAgICAgCiAgICAKICAgIAogICAgICAgICAgICB2YXIgbWFya2VyX2I1YzU4YzkwZjU1MDRjMzRiMDgwMTMwY2YxNjIzNjUwID0gTC5tYXJrZXIoCiAgICAgICAgICAgICAgICBbMzcuNzMwNzQyOTE2OTU1OSwgLTEyMi40MjkzMDY3MjgzNzZdLAogICAgICAgICAgICAgICAge30KICAgICAgICAgICAgKS5hZGRUbyhtYXJrZXJfY2x1c3Rlcl8xMDI2ZTYzNjYzZjQ0MGYyYTU1ZjYyZTkxZjhmOWI1OCk7CiAgICAgICAgCiAgICAKICAgICAgICB2YXIgcG9wdXBfY2U0NzY2YzQ0Mzg2NDYyNzlmZGZhYzM1YjNmYjZlOWUgPSBMLnBvcHVwKHsibWF4V2lkdGgiOiAiMTAwJSJ9KTsKCiAgICAgICAgCiAgICAgICAgICAgIHZhciBodG1sXzg3ZTJmM2U1N2ZkMjQyY2RiY2M5N2I0NjY0Nzk5NDllID0gJChgPGRpdiBpZD0iaHRtbF84N2UyZjNlNTdmZDI0MmNkYmNjOTdiNDY2NDc5OTQ5ZSIgc3R5bGU9IndpZHRoOiAxMDAuMCU7IGhlaWdodDogMTAwLjAlOyI+T1RIRVIgT0ZGRU5TRVM8L2Rpdj5gKVswXTsKICAgICAgICAgICAgcG9wdXBfY2U0NzY2YzQ0Mzg2NDYyNzlmZGZhYzM1YjNmYjZlOWUuc2V0Q29udGVudChodG1sXzg3ZTJmM2U1N2ZkMjQyY2RiY2M5N2I0NjY0Nzk5NDllKTsKICAgICAgICAKCiAgICAgICAgbWFya2VyX2I1YzU4YzkwZjU1MDRjMzRiMDgwMTMwY2YxNjIzNjUwLmJpbmRQb3B1cChwb3B1cF9jZTQ3NjZjNDQzODY0NjI3OWZkZmFjMzViM2ZiNmU5ZSkKICAgICAgICA7CgogICAgICAgIAogICAgCiAgICAKICAgICAgICAgICAgdmFyIG1hcmtlcl8wMWQwOTM0NDFjNjk0ODgxODFlZGQyYzA3OGE4ZDYwZCA9IEwubWFya2VyKAogICAgICAgICAgICAgICAgWzM3LjczNzM2MjM2MDUyMTI5NiwgLTEyMi40MjIwNjcxODQ5MzddLAogICAgICAgICAgICAgICAge30KICAgICAgICAgICAgKS5hZGRUbyhtYXJrZXJfY2x1c3Rlcl8xMDI2ZTYzNjYzZjQ0MGYyYTU1ZjYyZTkxZjhmOWI1OCk7CiAgICAgICAgCiAgICAKICAgICAgICB2YXIgcG9wdXBfZjQ1ODI0OGNkODI3NDgyZmE5M2E4NzdmMDZmMzhlMjUgPSBMLnBvcHVwKHsibWF4V2lkdGgiOiAiMTAwJSJ9KTsKCiAgICAgICAgCiAgICAgICAgICAgIHZhciBodG1sXzliOGZjNTY5MWI0MTRmYTBiYWY5YzgyMjk1NmIyZTA2ID0gJChgPGRpdiBpZD0iaHRtbF85YjhmYzU2OTFiNDE0ZmEwYmFmOWM4MjI5NTZiMmUwNiIgc3R5bGU9IndpZHRoOiAxMDAuMCU7IGhlaWdodDogMTAwLjAlOyI+U0VDT05EQVJZIENPREVTPC9kaXY+YClbMF07CiAgICAgICAgICAgIHBvcHVwX2Y0NTgyNDhjZDgyNzQ4MmZhOTNhODc3ZjA2ZjM4ZTI1LnNldENvbnRlbnQoaHRtbF85YjhmYzU2OTFiNDE0ZmEwYmFmOWM4MjI5NTZiMmUwNik7CiAgICAgICAgCgogICAgICAgIG1hcmtlcl8wMWQwOTM0NDFjNjk0ODgxODFlZGQyYzA3OGE4ZDYwZC5iaW5kUG9wdXAocG9wdXBfZjQ1ODI0OGNkODI3NDgyZmE5M2E4NzdmMDZmMzhlMjUpCiAgICAgICAgOwoKICAgICAgICAKICAgIAogICAgCiAgICAgICAgICAgIHZhciBtYXJrZXJfMWM5ZGVhNWI2NjNlNDhkMTg4Zjk2MTE0ZjgxM2I5MzkgPSBMLm1hcmtlcigKICAgICAgICAgICAgICAgIFszNy43MzczNjIzNjA1MjEyOTYsIC0xMjIuNDIyMDY3MTg0OTM3XSwKICAgICAgICAgICAgICAgIHt9CiAgICAgICAgICAgICkuYWRkVG8obWFya2VyX2NsdXN0ZXJfMTAyNmU2MzY2M2Y0NDBmMmE1NWY2MmU5MWY4ZjliNTgpOwogICAgICAgIAogICAgCiAgICAgICAgdmFyIHBvcHVwXzIxMDk3NTAwNzA5NTRmNmI4MjY3Zjk5MTg0NzNkMDJmID0gTC5wb3B1cCh7Im1heFdpZHRoIjogIjEwMCUifSk7CgogICAgICAgIAogICAgICAgICAgICB2YXIgaHRtbF80NjZmNTc3OTZlMzE0NGZhYjdjNzJlODJjZDdjNjE3MSA9ICQoYDxkaXYgaWQ9Imh0bWxfNDY2ZjU3Nzk2ZTMxNDRmYWI3YzcyZTgyY2Q3YzYxNzEiIHN0eWxlPSJ3aWR0aDogMTAwLjAlOyBoZWlnaHQ6IDEwMC4wJTsiPlZBTkRBTElTTTwvZGl2PmApWzBdOwogICAgICAgICAgICBwb3B1cF8yMTA5NzUwMDcwOTU0ZjZiODI2N2Y5OTE4NDczZDAyZi5zZXRDb250ZW50KGh0bWxfNDY2ZjU3Nzk2ZTMxNDRmYWI3YzcyZTgyY2Q3YzYxNzEpOwogICAgICAgIAoKICAgICAgICBtYXJrZXJfMWM5ZGVhNWI2NjNlNDhkMTg4Zjk2MTE0ZjgxM2I5MzkuYmluZFBvcHVwKHBvcHVwXzIxMDk3NTAwNzA5NTRmNmI4MjY3Zjk5MTg0NzNkMDJmKQogICAgICAgIDsKCiAgICAgICAgCiAgICAKICAgIAogICAgICAgICAgICB2YXIgbWFya2VyXzI5NWZlZWU4ZTk3YzQ5OGQ5MzJlZTYxMjVmZTI1ZjI4ID0gTC5tYXJrZXIoCiAgICAgICAgICAgICAgICBbMzcuNzg1OTk4ODMyMzc5Nzk2LCAtMTIyLjQxMTc0NzM3MTkyNF0sCiAgICAgICAgICAgICAgICB7fQogICAgICAgICAgICApLmFkZFRvKG1hcmtlcl9jbHVzdGVyXzEwMjZlNjM2NjNmNDQwZjJhNTVmNjJlOTFmOGY5YjU4KTsKICAgICAgICAKICAgIAogICAgICAgIHZhciBwb3B1cF9mOGM0MmZjYmI2ODQ0NzIzOWQ5ZDZlNTVlOWEzNDcwNCA9IEwucG9wdXAoeyJtYXhXaWR0aCI6ICIxMDAlIn0pOwoKICAgICAgICAKICAgICAgICAgICAgdmFyIGh0bWxfMjQ3Yzc1ZmFmMDQzNDU4N2JkYzdlMmM2Njc1MDA2MmIgPSAkKGA8ZGl2IGlkPSJodG1sXzI0N2M3NWZhZjA0MzQ1ODdiZGM3ZTJjNjY3NTAwNjJiIiBzdHlsZT0id2lkdGg6IDEwMC4wJTsgaGVpZ2h0OiAxMDAuMCU7Ij5TVVNQSUNJT1VTIE9DQzwvZGl2PmApWzBdOwogICAgICAgICAgICBwb3B1cF9mOGM0MmZjYmI2ODQ0NzIzOWQ5ZDZlNTVlOWEzNDcwNC5zZXRDb250ZW50KGh0bWxfMjQ3Yzc1ZmFmMDQzNDU4N2JkYzdlMmM2Njc1MDA2MmIpOwogICAgICAgIAoKICAgICAgICBtYXJrZXJfMjk1ZmVlZThlOTdjNDk4ZDkzMmVlNjEyNWZlMjVmMjguYmluZFBvcHVwKHBvcHVwX2Y4YzQyZmNiYjY4NDQ3MjM5ZDlkNmU1NWU5YTM0NzA0KQogICAgICAgIDsKCiAgICAgICAgCiAgICAKICAgIAogICAgICAgICAgICB2YXIgbWFya2VyX2JkNDZjMGRkZDc5NzRhZjQ4ODA3NmRmY2Q2YjRiMmQ5ID0gTC5tYXJrZXIoCiAgICAgICAgICAgICAgICBbMzcuNzYzMzc1ODA1ODA1OSwgLTEyMi40MjA0MzQ3MjQ1NTI5OV0sCiAgICAgICAgICAgICAgICB7fQogICAgICAgICAgICApLmFkZFRvKG1hcmtlcl9jbHVzdGVyXzEwMjZlNjM2NjNmNDQwZjJhNTVmNjJlOTFmOGY5YjU4KTsKICAgICAgICAKICAgIAogICAgICAgIHZhciBwb3B1cF83MWM3NGQ5MjA0MGM0ZjJlYTg4Y2Q3ZTFiNGZkYWQ1OSA9IEwucG9wdXAoeyJtYXhXaWR0aCI6ICIxMDAlIn0pOwoKICAgICAgICAKICAgICAgICAgICAgdmFyIGh0bWxfMzEwOGI4MmE4NTc4NDI2ZGJkZWYxNjM0YWRiNmFmMTggPSAkKGA8ZGl2IGlkPSJodG1sXzMxMDhiODJhODU3ODQyNmRiZGVmMTYzNGFkYjZhZjE4IiBzdHlsZT0id2lkdGg6IDEwMC4wJTsgaGVpZ2h0OiAxMDAuMCU7Ij5PVEhFUiBPRkZFTlNFUzwvZGl2PmApWzBdOwogICAgICAgICAgICBwb3B1cF83MWM3NGQ5MjA0MGM0ZjJlYTg4Y2Q3ZTFiNGZkYWQ1OS5zZXRDb250ZW50KGh0bWxfMzEwOGI4MmE4NTc4NDI2ZGJkZWYxNjM0YWRiNmFmMTgpOwogICAgICAgIAoKICAgICAgICBtYXJrZXJfYmQ0NmMwZGRkNzk3NGFmNDg4MDc2ZGZjZDZiNGIyZDkuYmluZFBvcHVwKHBvcHVwXzcxYzc0ZDkyMDQwYzRmMmVhODhjZDdlMWI0ZmRhZDU5KQogICAgICAgIDsKCiAgICAgICAgCiAgICAKICAgIAogICAgICAgICAgICB2YXIgbWFya2VyXzI4MWUxNDhlMjQwMTRjNzE5YzM3ZTA4Nzk5NzEzNGRiID0gTC5tYXJrZXIoCiAgICAgICAgICAgICAgICBbMzcuNzg1MDIyNjYyMjc4NiwgLTEyMi40MTE5ODc2NDM1OTUwMV0sCiAgICAgICAgICAgICAgICB7fQogICAgICAgICAgICApLmFkZFRvKG1hcmtlcl9jbHVzdGVyXzEwMjZlNjM2NjNmNDQwZjJhNTVmNjJlOTFmOGY5YjU4KTsKICAgICAgICAKICAgIAogICAgICAgIHZhciBwb3B1cF9lNjAxOTJjN2M0Zjc0ZGFjOTMwMTVjNzQ5NzUxOTE1NiA9IEwucG9wdXAoeyJtYXhXaWR0aCI6ICIxMDAlIn0pOwoKICAgICAgICAKICAgICAgICAgICAgdmFyIGh0bWxfOWRjZjY0YWY3OTZjNDUyZmFhODkwM2M5NTI3NzE4ZmEgPSAkKGA8ZGl2IGlkPSJodG1sXzlkY2Y2NGFmNzk2YzQ1MmZhYTg5MDNjOTUyNzcxOGZhIiBzdHlsZT0id2lkdGg6IDEwMC4wJTsgaGVpZ2h0OiAxMDAuMCU7Ij5OT04tQ1JJTUlOQUw8L2Rpdj5gKVswXTsKICAgICAgICAgICAgcG9wdXBfZTYwMTkyYzdjNGY3NGRhYzkzMDE1Yzc0OTc1MTkxNTYuc2V0Q29udGVudChodG1sXzlkY2Y2NGFmNzk2YzQ1MmZhYTg5MDNjOTUyNzcxOGZhKTsKICAgICAgICAKCiAgICAgICAgbWFya2VyXzI4MWUxNDhlMjQwMTRjNzE5YzM3ZTA4Nzk5NzEzNGRiLmJpbmRQb3B1cChwb3B1cF9lNjAxOTJjN2M0Zjc0ZGFjOTMwMTVjNzQ5NzUxOTE1NikKICAgICAgICA7CgogICAgICAgIAogICAgCiAgICAKICAgICAgICAgICAgdmFyIG1hcmtlcl9lMmVmMmEzYThiOGU0ZGU3YjY4ZWM3ZDg3NzljMzE3YiA9IEwubWFya2VyKAogICAgICAgICAgICAgICAgWzM3Ljc3NDYyMDY0OTEwNjQ5NSwgLTEyMi41MDAzODA0Mjc5MTVdLAogICAgICAgICAgICAgICAge30KICAgICAgICAgICAgKS5hZGRUbyhtYXJrZXJfY2x1c3Rlcl8xMDI2ZTYzNjYzZjQ0MGYyYTU1ZjYyZTkxZjhmOWI1OCk7CiAgICAgICAgCiAgICAKICAgICAgICB2YXIgcG9wdXBfNDZlMTVkYzg4ODhlNDEwNzg2ZWVmMWUzMjcyNmQ0NTggPSBMLnBvcHVwKHsibWF4V2lkdGgiOiAiMTAwJSJ9KTsKCiAgICAgICAgCiAgICAgICAgICAgIHZhciBodG1sX2YwMGE0YWQyOTM1MDQ1NWViOWU5ODg4ZDNjZTdlNDFlID0gJChgPGRpdiBpZD0iaHRtbF9mMDBhNGFkMjkzNTA0NTVlYjllOTg4OGQzY2U3ZTQxZSIgc3R5bGU9IndpZHRoOiAxMDAuMCU7IGhlaWdodDogMTAwLjAlOyI+T1RIRVIgT0ZGRU5TRVM8L2Rpdj5gKVswXTsKICAgICAgICAgICAgcG9wdXBfNDZlMTVkYzg4ODhlNDEwNzg2ZWVmMWUzMjcyNmQ0NTguc2V0Q29udGVudChodG1sX2YwMGE0YWQyOTM1MDQ1NWViOWU5ODg4ZDNjZTdlNDFlKTsKICAgICAgICAKCiAgICAgICAgbWFya2VyX2UyZWYyYTNhOGI4ZTRkZTdiNjhlYzdkODc3OWMzMTdiLmJpbmRQb3B1cChwb3B1cF80NmUxNWRjODg4OGU0MTA3ODZlZWYxZTMyNzI2ZDQ1OCkKICAgICAgICA7CgogICAgICAgIAogICAgCiAgICAKICAgICAgICAgICAgdmFyIG1hcmtlcl9jODgxZjg2MDFmNDM0YzViOTM3NDBiZDlhYmVhZGY2NSA9IEwubWFya2VyKAogICAgICAgICAgICAgICAgWzM3Ljc3NTE5MTgyNjcyMTcsIC0xMjIuNDY2NTU4NzgwNjgzXSwKICAgICAgICAgICAgICAgIHt9CiAgICAgICAgICAgICkuYWRkVG8obWFya2VyX2NsdXN0ZXJfMTAyNmU2MzY2M2Y0NDBmMmE1NWY2MmU5MWY4ZjliNTgpOwogICAgICAgIAogICAgCiAgICAgICAgdmFyIHBvcHVwXzU5NGYxZmMyNGUxMTQ0YjhiMTMyYjBhMjFlNmI4NjlkID0gTC5wb3B1cCh7Im1heFdpZHRoIjogIjEwMCUifSk7CgogICAgICAgIAogICAgICAgICAgICB2YXIgaHRtbF9jNTJiYWRjZmRmODA0ZWI2OTYzZjA2MDkxNGZiMmI0YSA9ICQoYDxkaXYgaWQ9Imh0bWxfYzUyYmFkY2ZkZjgwNGViNjk2M2YwNjA5MTRmYjJiNGEiIHN0eWxlPSJ3aWR0aDogMTAwLjAlOyBoZWlnaHQ6IDEwMC4wJTsiPlJPQkJFUlk8L2Rpdj5gKVswXTsKICAgICAgICAgICAgcG9wdXBfNTk0ZjFmYzI0ZTExNDRiOGIxMzJiMGEyMWU2Yjg2OWQuc2V0Q29udGVudChodG1sX2M1MmJhZGNmZGY4MDRlYjY5NjNmMDYwOTE0ZmIyYjRhKTsKICAgICAgICAKCiAgICAgICAgbWFya2VyX2M4ODFmODYwMWY0MzRjNWI5Mzc0MGJkOWFiZWFkZjY1LmJpbmRQb3B1cChwb3B1cF81OTRmMWZjMjRlMTE0NGI4YjEzMmIwYTIxZTZiODY5ZCkKICAgICAgICA7CgogICAgICAgIAogICAgCiAgICAKICAgICAgICAgICAgdmFyIG1hcmtlcl85Y2I3YmVkMTBjZTk0OWY5OWMxYzJiZWU5ZGExNmY3YyA9IEwubWFya2VyKAogICAgICAgICAgICAgICAgWzM3Ljc0OTA4NDE3MjkwMjgsIC0xMjIuNDg2OTI1OTYwMTE0MDFdLAogICAgICAgICAgICAgICAge30KICAgICAgICAgICAgKS5hZGRUbyhtYXJrZXJfY2x1c3Rlcl8xMDI2ZTYzNjYzZjQ0MGYyYTU1ZjYyZTkxZjhmOWI1OCk7CiAgICAgICAgCiAgICAKICAgICAgICB2YXIgcG9wdXBfMzI2MmNiN2NmYTJjNGNmNGJkNDE4OTZlZWZhMzEyZTIgPSBMLnBvcHVwKHsibWF4V2lkdGgiOiAiMTAwJSJ9KTsKCiAgICAgICAgCiAgICAgICAgICAgIHZhciBodG1sXzczMWFhM2UxY2Y5MDQzYTliZWE3ZGI4MTRiMWQ3ZjRkID0gJChgPGRpdiBpZD0iaHRtbF83MzFhYTNlMWNmOTA0M2E5YmVhN2RiODE0YjFkN2Y0ZCIgc3R5bGU9IndpZHRoOiAxMDAuMCU7IGhlaWdodDogMTAwLjAlOyI+T1RIRVIgT0ZGRU5TRVM8L2Rpdj5gKVswXTsKICAgICAgICAgICAgcG9wdXBfMzI2MmNiN2NmYTJjNGNmNGJkNDE4OTZlZWZhMzEyZTIuc2V0Q29udGVudChodG1sXzczMWFhM2UxY2Y5MDQzYTliZWE3ZGI4MTRiMWQ3ZjRkKTsKICAgICAgICAKCiAgICAgICAgbWFya2VyXzljYjdiZWQxMGNlOTQ5Zjk5YzFjMmJlZTlkYTE2ZjdjLmJpbmRQb3B1cChwb3B1cF8zMjYyY2I3Y2ZhMmM0Y2Y0YmQ0MTg5NmVlZmEzMTJlMikKICAgICAgICA7CgogICAgICAgIAogICAgCiAgICAKICAgICAgICAgICAgdmFyIG1hcmtlcl9jYjU0NDUyNTk4MTA0MWFkOGJlODQ2MWU4YjcwMThkMCA9IEwubWFya2VyKAogICAgICAgICAgICAgICAgWzM3Ljc2ODUzNjAxMjM1ODMsIC0xMjIuNDE1NjE2MzM4MzE5OTldLAogICAgICAgICAgICAgICAge30KICAgICAgICAgICAgKS5hZGRUbyhtYXJrZXJfY2x1c3Rlcl8xMDI2ZTYzNjYzZjQ0MGYyYTU1ZjYyZTkxZjhmOWI1OCk7CiAgICAgICAgCiAgICAKICAgICAgICB2YXIgcG9wdXBfYmYzYmYxNGQ2YzQxNDFlNTljZDVlNzViMDg4ZGFhMDUgPSBMLnBvcHVwKHsibWF4V2lkdGgiOiAiMTAwJSJ9KTsKCiAgICAgICAgCiAgICAgICAgICAgIHZhciBodG1sX2ExNGIzODNkMWMwODRjYzVhNjQwYTg4M2Q0ZDdhYzAzID0gJChgPGRpdiBpZD0iaHRtbF9hMTRiMzgzZDFjMDg0Y2M1YTY0MGE4ODNkNGQ3YWMwMyIgc3R5bGU9IndpZHRoOiAxMDAuMCU7IGhlaWdodDogMTAwLjAlOyI+Tk9OLUNSSU1JTkFMPC9kaXY+YClbMF07CiAgICAgICAgICAgIHBvcHVwX2JmM2JmMTRkNmM0MTQxZTU5Y2Q1ZTc1YjA4OGRhYTA1LnNldENvbnRlbnQoaHRtbF9hMTRiMzgzZDFjMDg0Y2M1YTY0MGE4ODNkNGQ3YWMwMyk7CiAgICAgICAgCgogICAgICAgIG1hcmtlcl9jYjU0NDUyNTk4MTA0MWFkOGJlODQ2MWU4YjcwMThkMC5iaW5kUG9wdXAocG9wdXBfYmYzYmYxNGQ2YzQxNDFlNTljZDVlNzViMDg4ZGFhMDUpCiAgICAgICAgOwoKICAgICAgICAKICAgIAogICAgCiAgICAgICAgICAgIHZhciBtYXJrZXJfODI1YTE1Zjk3YjA2NDBmMjkwYWFhNGQyZmRiNzMzMjIgPSBMLm1hcmtlcigKICAgICAgICAgICAgICAgIFszNy43NjQ0Mjk3NzE0MDc0LCAtMTIyLjQ0OTc1MTY1MjU2M10sCiAgICAgICAgICAgICAgICB7fQogICAgICAgICAgICApLmFkZFRvKG1hcmtlcl9jbHVzdGVyXzEwMjZlNjM2NjNmNDQwZjJhNTVmNjJlOTFmOGY5YjU4KTsKICAgICAgICAKICAgIAogICAgICAgIHZhciBwb3B1cF8zY2I4OWZmNDViMjk0N2ZkOWJmOWM0NmI3N2M2MTU2OSA9IEwucG9wdXAoeyJtYXhXaWR0aCI6ICIxMDAlIn0pOwoKICAgICAgICAKICAgICAgICAgICAgdmFyIGh0bWxfMzgyNzg4MjUwNzA2NDAwZThkZjc1ZGQwNzdmNDQ0OTQgPSAkKGA8ZGl2IGlkPSJodG1sXzM4Mjc4ODI1MDcwNjQwMGU4ZGY3NWRkMDc3ZjQ0NDk0IiBzdHlsZT0id2lkdGg6IDEwMC4wJTsgaGVpZ2h0OiAxMDAuMCU7Ij5CVVJHTEFSWTwvZGl2PmApWzBdOwogICAgICAgICAgICBwb3B1cF8zY2I4OWZmNDViMjk0N2ZkOWJmOWM0NmI3N2M2MTU2OS5zZXRDb250ZW50KGh0bWxfMzgyNzg4MjUwNzA2NDAwZThkZjc1ZGQwNzdmNDQ0OTQpOwogICAgICAgIAoKICAgICAgICBtYXJrZXJfODI1YTE1Zjk3YjA2NDBmMjkwYWFhNGQyZmRiNzMzMjIuYmluZFBvcHVwKHBvcHVwXzNjYjg5ZmY0NWIyOTQ3ZmQ5YmY5YzQ2Yjc3YzYxNTY5KQogICAgICAgIDsKCiAgICAgICAgCiAgICAKICAgIAogICAgICAgICAgICB2YXIgbWFya2VyX2RlZjkwNmJmNTY1ZjQ1MTNhMWIyMzNiM2I0MzAzMTRkID0gTC5tYXJrZXIoCiAgICAgICAgICAgICAgICBbMzcuNzY0NDI5NzcxNDA3NCwgLTEyMi40NDk3NTE2NTI1NjNdLAogICAgICAgICAgICAgICAge30KICAgICAgICAgICAgKS5hZGRUbyhtYXJrZXJfY2x1c3Rlcl8xMDI2ZTYzNjYzZjQ0MGYyYTU1ZjYyZTkxZjhmOWI1OCk7CiAgICAgICAgCiAgICAKICAgICAgICB2YXIgcG9wdXBfNDM5NWIzYzlmNGNlNGU0M2E2MzVlZTkzNGFhNjUxZmUgPSBMLnBvcHVwKHsibWF4V2lkdGgiOiAiMTAwJSJ9KTsKCiAgICAgICAgCiAgICAgICAgICAgIHZhciBodG1sX2IzMmM0MjczYmU0NzQ3MWM5MzRiYmFjMDU0NjRkZDE5ID0gJChgPGRpdiBpZD0iaHRtbF9iMzJjNDI3M2JlNDc0NzFjOTM0YmJhYzA1NDY0ZGQxOSIgc3R5bGU9IndpZHRoOiAxMDAuMCU7IGhlaWdodDogMTAwLjAlOyI+TEFSQ0VOWS9USEVGVDwvZGl2PmApWzBdOwogICAgICAgICAgICBwb3B1cF80Mzk1YjNjOWY0Y2U0ZTQzYTYzNWVlOTM0YWE2NTFmZS5zZXRDb250ZW50KGh0bWxfYjMyYzQyNzNiZTQ3NDcxYzkzNGJiYWMwNTQ2NGRkMTkpOwogICAgICAgIAoKICAgICAgICBtYXJrZXJfZGVmOTA2YmY1NjVmNDUxM2ExYjIzM2IzYjQzMDMxNGQuYmluZFBvcHVwKHBvcHVwXzQzOTViM2M5ZjRjZTRlNDNhNjM1ZWU5MzRhYTY1MWZlKQogICAgICAgIDsKCiAgICAgICAgCiAgICAKICAgIAogICAgICAgICAgICB2YXIgbWFya2VyXzEzNDdmMWU3MzNlNzQ5Y2M5MTJhYTUyZTUzMzhjNWRmID0gTC5tYXJrZXIoCiAgICAgICAgICAgICAgICBbMzcuNzM1MjY4MTQ2OTA4Mzk2LCAtMTIyLjQ3MjcxNTc1OTYzMV0sCiAgICAgICAgICAgICAgICB7fQogICAgICAgICAgICApLmFkZFRvKG1hcmtlcl9jbHVzdGVyXzEwMjZlNjM2NjNmNDQwZjJhNTVmNjJlOTFmOGY5YjU4KTsKICAgICAgICAKICAgIAogICAgICAgIHZhciBwb3B1cF9iODEzNDMxMzY5NTc0YzFkYjE5Nzk3OGExZjc4ZDc3MCA9IEwucG9wdXAoeyJtYXhXaWR0aCI6ICIxMDAlIn0pOwoKICAgICAgICAKICAgICAgICAgICAgdmFyIGh0bWxfODc2ZjdmMzFhY2UxNGRlNmFkZTMwNmFmZDczYmYxNjAgPSAkKGA8ZGl2IGlkPSJodG1sXzg3NmY3ZjMxYWNlMTRkZTZhZGUzMDZhZmQ3M2JmMTYwIiBzdHlsZT0id2lkdGg6IDEwMC4wJTsgaGVpZ2h0OiAxMDAuMCU7Ij5MQVJDRU5ZL1RIRUZUPC9kaXY+YClbMF07CiAgICAgICAgICAgIHBvcHVwX2I4MTM0MzEzNjk1NzRjMWRiMTk3OTc4YTFmNzhkNzcwLnNldENvbnRlbnQoaHRtbF84NzZmN2YzMWFjZTE0ZGU2YWRlMzA2YWZkNzNiZjE2MCk7CiAgICAgICAgCgogICAgICAgIG1hcmtlcl8xMzQ3ZjFlNzMzZTc0OWNjOTEyYWE1MmU1MzM4YzVkZi5iaW5kUG9wdXAocG9wdXBfYjgxMzQzMTM2OTU3NGMxZGIxOTc5NzhhMWY3OGQ3NzApCiAgICAgICAgOwoKICAgICAgICAKICAgIAo8L3NjcmlwdD4=\" style=\"position:absolute;width:100%;height:100%;left:0;top:0;border:none !important;\" allowfullscreen webkitallowfullscreen mozallowfullscreen></iframe></div></div>"
      ],
      "text/plain": [
       "<folium.folium.Map at 0x1ddd25e1a48>"
      ]
     },
     "execution_count": 218,
     "metadata": {},
     "output_type": "execute_result"
    }
   ],
   "source": [
    "from folium import plugins\n",
    "\n",
    "# let's start again with a clean copy of the map of San Francisco\n",
    "sanfran_map = folium.Map(location = [latitude, longitude], zoom_start = 12)\n",
    "\n",
    "# instantiate a mark cluster object for the incidents in the dataframe\n",
    "incidents_place = plugins.MarkerCluster().add_to(sanfran_map)\n",
    "\n",
    "# loop through the dataframe and add each data point to the mark cluster\n",
    "for lat, lng, label, in zip(incidents.Y, incidents.X, incidents.Category):\n",
    "    folium.Marker(\n",
    "        location=[lat, lng],\n",
    "        icon=None,\n",
    "        popup=label,\n",
    "    ).add_to(incidents_place)\n",
    "\n",
    "# display map\n",
    "sanfran_map"
   ]
  }
 ],
 "metadata": {
  "kernelspec": {
   "display_name": "Python 3",
   "language": "python",
   "name": "python3"
  },
  "language_info": {
   "codemirror_mode": {
    "name": "ipython",
    "version": 3
   },
   "file_extension": ".py",
   "mimetype": "text/x-python",
   "name": "python",
   "nbconvert_exporter": "python",
   "pygments_lexer": "ipython3",
   "version": "3.7.4"
  }
 },
 "nbformat": 4,
 "nbformat_minor": 4
}
