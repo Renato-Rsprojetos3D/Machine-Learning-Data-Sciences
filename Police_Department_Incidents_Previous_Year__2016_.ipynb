{
 "cells": [
  {
   "cell_type": "markdown",
   "metadata": {},
   "source": [
    "<img src='Departamento.jpg' />"
   ]
  },
  {
   "cell_type": "code",
   "execution_count": 94,
   "metadata": {},
   "outputs": [
    {
     "data": {
      "text/html": [
       "\n",
       "        <script src=\"/static/components/requirejs/require.js\"></script>\n",
       "        <script>\n",
       "          requirejs.config({\n",
       "            paths: {\n",
       "              base: '/static/base',\n",
       "              plotly: 'https://cdn.plot.ly/plotly-latest.min.js?noext',\n",
       "            },\n",
       "          });\n",
       "        </script>\n",
       "        "
      ],
      "text/plain": [
       "<IPython.core.display.HTML object>"
      ]
     },
     "metadata": {},
     "output_type": "display_data"
    },
    {
     "data": {
      "text/html": [
       "\n",
       "        <script src=\"/static/components/requirejs/require.js\"></script>\n",
       "        <script>\n",
       "          requirejs.config({\n",
       "            paths: {\n",
       "              base: '/static/base',\n",
       "              plotly: 'https://cdn.plot.ly/plotly-latest.min.js?noext',\n",
       "            },\n",
       "          });\n",
       "        </script>\n",
       "        "
      ],
      "text/plain": [
       "<IPython.core.display.HTML object>"
      ]
     },
     "metadata": {},
     "output_type": "display_data"
    },
    {
     "data": {
      "text/html": [
       "\n",
       "        <script src=\"/static/components/requirejs/require.js\"></script>\n",
       "        <script>\n",
       "          requirejs.config({\n",
       "            paths: {\n",
       "              base: '/static/base',\n",
       "              plotly: 'https://cdn.plot.ly/plotly-latest.min.js?noext',\n",
       "            },\n",
       "          });\n",
       "        </script>\n",
       "        "
      ],
      "text/plain": [
       "<IPython.core.display.HTML object>"
      ]
     },
     "metadata": {},
     "output_type": "display_data"
    },
    {
     "data": {
      "text/html": [
       "\n",
       "        <script src=\"/static/components/requirejs/require.js\"></script>\n",
       "        <script>\n",
       "          requirejs.config({\n",
       "            paths: {\n",
       "              base: '/static/base',\n",
       "              plotly: 'https://cdn.plot.ly/plotly-latest.min.js?noext',\n",
       "            },\n",
       "          });\n",
       "        </script>\n",
       "        "
      ],
      "text/plain": [
       "<IPython.core.display.HTML object>"
      ]
     },
     "metadata": {},
     "output_type": "display_data"
    },
    {
     "data": {
      "text/html": [
       "\n",
       "        <script src=\"/static/components/requirejs/require.js\"></script>\n",
       "        <script>\n",
       "          requirejs.config({\n",
       "            paths: {\n",
       "              base: '/static/base',\n",
       "              plotly: 'https://cdn.plot.ly/plotly-latest.min.js?noext',\n",
       "            },\n",
       "          });\n",
       "        </script>\n",
       "        "
      ],
      "text/plain": [
       "<IPython.core.display.HTML object>"
      ]
     },
     "metadata": {},
     "output_type": "display_data"
    },
    {
     "data": {
      "text/html": [
       "\n",
       "        <script src=\"/static/components/requirejs/require.js\"></script>\n",
       "        <script>\n",
       "          requirejs.config({\n",
       "            paths: {\n",
       "              base: '/static/base',\n",
       "              plotly: 'https://cdn.plot.ly/plotly-latest.min.js?noext',\n",
       "            },\n",
       "          });\n",
       "        </script>\n",
       "        "
      ],
      "text/plain": [
       "<IPython.core.display.HTML object>"
      ]
     },
     "metadata": {},
     "output_type": "display_data"
    },
    {
     "data": {
      "text/html": [
       "        <script type=\"text/javascript\">\n",
       "        window.PlotlyConfig = {MathJaxConfig: 'local'};\n",
       "        if (window.MathJax) {MathJax.Hub.Config({SVG: {font: \"STIX-Web\"}});}\n",
       "        if (typeof require !== 'undefined') {\n",
       "        require.undef(\"plotly\");\n",
       "        requirejs.config({\n",
       "            paths: {\n",
       "                'plotly': ['https://cdn.plot.ly/plotly-latest.min']\n",
       "            }\n",
       "        });\n",
       "        require(['plotly'], function(Plotly) {\n",
       "            window._Plotly = Plotly;\n",
       "        });\n",
       "        }\n",
       "        </script>\n",
       "        "
      ]
     },
     "metadata": {},
     "output_type": "display_data"
    },
    {
     "data": {
      "text/html": [
       "\n",
       "        <script src=\"/static/components/requirejs/require.js\"></script>\n",
       "        <script>\n",
       "          requirejs.config({\n",
       "            paths: {\n",
       "              base: '/static/base',\n",
       "              plotly: 'https://cdn.plot.ly/plotly-latest.min.js?noext',\n",
       "            },\n",
       "          });\n",
       "        </script>\n",
       "        "
      ],
      "text/plain": [
       "<IPython.core.display.HTML object>"
      ]
     },
     "metadata": {},
     "output_type": "display_data"
    }
   ],
   "source": [
    "# importing libraries\n",
    "import pandas as pd\n",
    "import numpy as np\n",
    "import folium\n",
    "import datetime as dt\n",
    "import plotly as py\n",
    "import plotly.express as px\n",
    "import plotly.graph_objs as go\n",
    "from plotly.subplots import make_subplots\n",
    "from plotly.offline import download_plotlyjs\n",
    "from plotly.offline import init_notebook_mode\n",
    "from plotly.offline import plot,iplot\n",
    "init_notebook_mode(connected=True)\n",
    "def configure_plotly_browser_state():\n",
    "    import IPython\n",
    "    display(IPython.core.display.HTML('''\n",
    "        <script src=\"/static/components/requirejs/require.js\"></script>\n",
    "        <script>\n",
    "          requirejs.config({\n",
    "            paths: {\n",
    "              base: '/static/base',\n",
    "              plotly: 'https://cdn.plot.ly/plotly-latest.min.js?noext',\n",
    "            },\n",
    "          });\n",
    "        </script>\n",
    "        '''))\n",
    "configure_plotly_browser_state()\n",
    "import IPython\n",
    "\n",
    "IPython.get_ipython().events.register('pre_run_cell', configure_plotly_browser_state)"
   ]
  },
  {
   "cell_type": "code",
   "execution_count": 95,
   "metadata": {},
   "outputs": [
    {
     "data": {
      "text/html": [
       "\n",
       "        <script src=\"/static/components/requirejs/require.js\"></script>\n",
       "        <script>\n",
       "          requirejs.config({\n",
       "            paths: {\n",
       "              base: '/static/base',\n",
       "              plotly: 'https://cdn.plot.ly/plotly-latest.min.js?noext',\n",
       "            },\n",
       "          });\n",
       "        </script>\n",
       "        "
      ],
      "text/plain": [
       "<IPython.core.display.HTML object>"
      ]
     },
     "metadata": {},
     "output_type": "display_data"
    },
    {
     "data": {
      "text/html": [
       "\n",
       "        <script src=\"/static/components/requirejs/require.js\"></script>\n",
       "        <script>\n",
       "          requirejs.config({\n",
       "            paths: {\n",
       "              base: '/static/base',\n",
       "              plotly: 'https://cdn.plot.ly/plotly-latest.min.js?noext',\n",
       "            },\n",
       "          });\n",
       "        </script>\n",
       "        "
      ],
      "text/plain": [
       "<IPython.core.display.HTML object>"
      ]
     },
     "metadata": {},
     "output_type": "display_data"
    },
    {
     "data": {
      "text/html": [
       "\n",
       "        <script src=\"/static/components/requirejs/require.js\"></script>\n",
       "        <script>\n",
       "          requirejs.config({\n",
       "            paths: {\n",
       "              base: '/static/base',\n",
       "              plotly: 'https://cdn.plot.ly/plotly-latest.min.js?noext',\n",
       "            },\n",
       "          });\n",
       "        </script>\n",
       "        "
      ],
      "text/plain": [
       "<IPython.core.display.HTML object>"
      ]
     },
     "metadata": {},
     "output_type": "display_data"
    },
    {
     "data": {
      "text/html": [
       "\n",
       "        <script src=\"/static/components/requirejs/require.js\"></script>\n",
       "        <script>\n",
       "          requirejs.config({\n",
       "            paths: {\n",
       "              base: '/static/base',\n",
       "              plotly: 'https://cdn.plot.ly/plotly-latest.min.js?noext',\n",
       "            },\n",
       "          });\n",
       "        </script>\n",
       "        "
      ],
      "text/plain": [
       "<IPython.core.display.HTML object>"
      ]
     },
     "metadata": {},
     "output_type": "display_data"
    },
    {
     "data": {
      "text/html": [
       "\n",
       "        <script src=\"/static/components/requirejs/require.js\"></script>\n",
       "        <script>\n",
       "          requirejs.config({\n",
       "            paths: {\n",
       "              base: '/static/base',\n",
       "              plotly: 'https://cdn.plot.ly/plotly-latest.min.js?noext',\n",
       "            },\n",
       "          });\n",
       "        </script>\n",
       "        "
      ],
      "text/plain": [
       "<IPython.core.display.HTML object>"
      ]
     },
     "metadata": {},
     "output_type": "display_data"
    },
    {
     "data": {
      "text/html": [
       "\n",
       "        <script src=\"/static/components/requirejs/require.js\"></script>\n",
       "        <script>\n",
       "          requirejs.config({\n",
       "            paths: {\n",
       "              base: '/static/base',\n",
       "              plotly: 'https://cdn.plot.ly/plotly-latest.min.js?noext',\n",
       "            },\n",
       "          });\n",
       "        </script>\n",
       "        "
      ],
      "text/plain": [
       "<IPython.core.display.HTML object>"
      ]
     },
     "metadata": {},
     "output_type": "display_data"
    },
    {
     "data": {
      "text/html": [
       "\n",
       "        <script src=\"/static/components/requirejs/require.js\"></script>\n",
       "        <script>\n",
       "          requirejs.config({\n",
       "            paths: {\n",
       "              base: '/static/base',\n",
       "              plotly: 'https://cdn.plot.ly/plotly-latest.min.js?noext',\n",
       "            },\n",
       "          });\n",
       "        </script>\n",
       "        "
      ],
      "text/plain": [
       "<IPython.core.display.HTML object>"
      ]
     },
     "metadata": {},
     "output_type": "display_data"
    },
    {
     "data": {
      "text/html": [
       "<div>\n",
       "<style scoped>\n",
       "    .dataframe tbody tr th:only-of-type {\n",
       "        vertical-align: middle;\n",
       "    }\n",
       "\n",
       "    .dataframe tbody tr th {\n",
       "        vertical-align: top;\n",
       "    }\n",
       "\n",
       "    .dataframe thead th {\n",
       "        text-align: right;\n",
       "    }\n",
       "</style>\n",
       "<table border=\"1\" class=\"dataframe\">\n",
       "  <thead>\n",
       "    <tr style=\"text-align: right;\">\n",
       "      <th></th>\n",
       "      <th>IncidntNum</th>\n",
       "      <th>Category</th>\n",
       "      <th>Descript</th>\n",
       "      <th>DayOfWeek</th>\n",
       "      <th>Date</th>\n",
       "      <th>Time</th>\n",
       "      <th>PdDistrict</th>\n",
       "      <th>Resolution</th>\n",
       "      <th>Address</th>\n",
       "      <th>X</th>\n",
       "      <th>Y</th>\n",
       "      <th>Location</th>\n",
       "      <th>PdId</th>\n",
       "    </tr>\n",
       "  </thead>\n",
       "  <tbody>\n",
       "    <tr>\n",
       "      <td>0</td>\n",
       "      <td>120058272</td>\n",
       "      <td>WEAPON LAWS</td>\n",
       "      <td>POSS OF PROHIBITED WEAPON</td>\n",
       "      <td>Friday</td>\n",
       "      <td>2016-01-29</td>\n",
       "      <td>11:00</td>\n",
       "      <td>SOUTHERN</td>\n",
       "      <td>ARREST, BOOKED</td>\n",
       "      <td>800 Block of BRYANT ST</td>\n",
       "      <td>-122.403405</td>\n",
       "      <td>37.775421</td>\n",
       "      <td>(37.775420706711, -122.403404791479)</td>\n",
       "      <td>12005827212120</td>\n",
       "    </tr>\n",
       "    <tr>\n",
       "      <td>1</td>\n",
       "      <td>120058272</td>\n",
       "      <td>WEAPON LAWS</td>\n",
       "      <td>FIREARM, LOADED, IN VEHICLE, POSSESSION OR USE</td>\n",
       "      <td>Friday</td>\n",
       "      <td>2016-01-29</td>\n",
       "      <td>11:00</td>\n",
       "      <td>SOUTHERN</td>\n",
       "      <td>ARREST, BOOKED</td>\n",
       "      <td>800 Block of BRYANT ST</td>\n",
       "      <td>-122.403405</td>\n",
       "      <td>37.775421</td>\n",
       "      <td>(37.775420706711, -122.403404791479)</td>\n",
       "      <td>12005827212168</td>\n",
       "    </tr>\n",
       "    <tr>\n",
       "      <td>2</td>\n",
       "      <td>141059263</td>\n",
       "      <td>WARRANTS</td>\n",
       "      <td>WARRANT ARREST</td>\n",
       "      <td>Monday</td>\n",
       "      <td>2016-04-25</td>\n",
       "      <td>14:59</td>\n",
       "      <td>BAYVIEW</td>\n",
       "      <td>ARREST, BOOKED</td>\n",
       "      <td>KEITH ST / SHAFTER AV</td>\n",
       "      <td>-122.388856</td>\n",
       "      <td>37.729981</td>\n",
       "      <td>(37.7299809672996, -122.388856204292)</td>\n",
       "      <td>14105926363010</td>\n",
       "    </tr>\n",
       "    <tr>\n",
       "      <td>3</td>\n",
       "      <td>160013662</td>\n",
       "      <td>NON-CRIMINAL</td>\n",
       "      <td>LOST PROPERTY</td>\n",
       "      <td>Tuesday</td>\n",
       "      <td>2016-01-05</td>\n",
       "      <td>23:50</td>\n",
       "      <td>TENDERLOIN</td>\n",
       "      <td>NONE</td>\n",
       "      <td>JONES ST / OFARRELL ST</td>\n",
       "      <td>-122.412971</td>\n",
       "      <td>37.785788</td>\n",
       "      <td>(37.7857883766888, -122.412970537591)</td>\n",
       "      <td>16001366271000</td>\n",
       "    </tr>\n",
       "    <tr>\n",
       "      <td>4</td>\n",
       "      <td>160002740</td>\n",
       "      <td>NON-CRIMINAL</td>\n",
       "      <td>LOST PROPERTY</td>\n",
       "      <td>Friday</td>\n",
       "      <td>2016-01-01</td>\n",
       "      <td>00:30</td>\n",
       "      <td>MISSION</td>\n",
       "      <td>NONE</td>\n",
       "      <td>16TH ST / MISSION ST</td>\n",
       "      <td>-122.419672</td>\n",
       "      <td>37.765050</td>\n",
       "      <td>(37.7650501214668, -122.419671780296)</td>\n",
       "      <td>16000274071000</td>\n",
       "    </tr>\n",
       "  </tbody>\n",
       "</table>\n",
       "</div>"
      ],
      "text/plain": [
       "   IncidntNum      Category                                        Descript  \\\n",
       "0   120058272   WEAPON LAWS                       POSS OF PROHIBITED WEAPON   \n",
       "1   120058272   WEAPON LAWS  FIREARM, LOADED, IN VEHICLE, POSSESSION OR USE   \n",
       "2   141059263      WARRANTS                                  WARRANT ARREST   \n",
       "3   160013662  NON-CRIMINAL                                   LOST PROPERTY   \n",
       "4   160002740  NON-CRIMINAL                                   LOST PROPERTY   \n",
       "\n",
       "  DayOfWeek       Date   Time  PdDistrict      Resolution  \\\n",
       "0    Friday 2016-01-29  11:00    SOUTHERN  ARREST, BOOKED   \n",
       "1    Friday 2016-01-29  11:00    SOUTHERN  ARREST, BOOKED   \n",
       "2    Monday 2016-04-25  14:59     BAYVIEW  ARREST, BOOKED   \n",
       "3   Tuesday 2016-01-05  23:50  TENDERLOIN            NONE   \n",
       "4    Friday 2016-01-01  00:30     MISSION            NONE   \n",
       "\n",
       "                  Address           X          Y  \\\n",
       "0  800 Block of BRYANT ST -122.403405  37.775421   \n",
       "1  800 Block of BRYANT ST -122.403405  37.775421   \n",
       "2   KEITH ST / SHAFTER AV -122.388856  37.729981   \n",
       "3  JONES ST / OFARRELL ST -122.412971  37.785788   \n",
       "4    16TH ST / MISSION ST -122.419672  37.765050   \n",
       "\n",
       "                                Location            PdId  \n",
       "0   (37.775420706711, -122.403404791479)  12005827212120  \n",
       "1   (37.775420706711, -122.403404791479)  12005827212168  \n",
       "2  (37.7299809672996, -122.388856204292)  14105926363010  \n",
       "3  (37.7857883766888, -122.412970537591)  16001366271000  \n",
       "4  (37.7650501214668, -122.419671780296)  16000274071000  "
      ]
     },
     "execution_count": 95,
     "metadata": {},
     "output_type": "execute_result"
    }
   ],
   "source": [
    "# Loading data\n",
    "incidents = pd.read_csv('Police_Department_Incidents.csv', parse_dates=['Date'])\n",
    "incidents.head()"
   ]
  },
  {
   "cell_type": "markdown",
   "metadata": {},
   "source": [
    "So each row consists of 13 features:\n",
    "> 1. **IncidntNum**: Incident Number\n",
    "> 2. **Category**: Category of crime or incident\n",
    "> 3. **Descript**: Description of the crime or incident\n",
    "> 4. **DayOfWeek**: The day of week on which the incident occurred\n",
    "> 5. **Date**: The Date on which the incident occurred\n",
    "> 6. **Time**: The time of day on which the incident occurred\n",
    "> 7. **PdDistrict**: The police department district\n",
    "> 8. **Resolution**: The resolution of the crime in terms whether the perpetrator was arrested or not\n",
    "> 9. **Address**: The closest address to where the incident took place\n",
    "> 10. **X**: The longitude value of the crime location \n",
    "> 11. **Y**: The latitude value of the crime location\n",
    "> 12. **Location**: A tuple of the latitude and the longitude values\n",
    "> 13. **PdId**: The police department ID"
   ]
  },
  {
   "cell_type": "markdown",
   "metadata": {},
   "source": [
    "# EDA"
   ]
  },
  {
   "cell_type": "code",
   "execution_count": 96,
   "metadata": {},
   "outputs": [
    {
     "data": {
      "text/html": [
       "\n",
       "        <script src=\"/static/components/requirejs/require.js\"></script>\n",
       "        <script>\n",
       "          requirejs.config({\n",
       "            paths: {\n",
       "              base: '/static/base',\n",
       "              plotly: 'https://cdn.plot.ly/plotly-latest.min.js?noext',\n",
       "            },\n",
       "          });\n",
       "        </script>\n",
       "        "
      ],
      "text/plain": [
       "<IPython.core.display.HTML object>"
      ]
     },
     "metadata": {},
     "output_type": "display_data"
    },
    {
     "data": {
      "text/html": [
       "\n",
       "        <script src=\"/static/components/requirejs/require.js\"></script>\n",
       "        <script>\n",
       "          requirejs.config({\n",
       "            paths: {\n",
       "              base: '/static/base',\n",
       "              plotly: 'https://cdn.plot.ly/plotly-latest.min.js?noext',\n",
       "            },\n",
       "          });\n",
       "        </script>\n",
       "        "
      ],
      "text/plain": [
       "<IPython.core.display.HTML object>"
      ]
     },
     "metadata": {},
     "output_type": "display_data"
    },
    {
     "data": {
      "text/html": [
       "\n",
       "        <script src=\"/static/components/requirejs/require.js\"></script>\n",
       "        <script>\n",
       "          requirejs.config({\n",
       "            paths: {\n",
       "              base: '/static/base',\n",
       "              plotly: 'https://cdn.plot.ly/plotly-latest.min.js?noext',\n",
       "            },\n",
       "          });\n",
       "        </script>\n",
       "        "
      ],
      "text/plain": [
       "<IPython.core.display.HTML object>"
      ]
     },
     "metadata": {},
     "output_type": "display_data"
    },
    {
     "data": {
      "text/html": [
       "\n",
       "        <script src=\"/static/components/requirejs/require.js\"></script>\n",
       "        <script>\n",
       "          requirejs.config({\n",
       "            paths: {\n",
       "              base: '/static/base',\n",
       "              plotly: 'https://cdn.plot.ly/plotly-latest.min.js?noext',\n",
       "            },\n",
       "          });\n",
       "        </script>\n",
       "        "
      ],
      "text/plain": [
       "<IPython.core.display.HTML object>"
      ]
     },
     "metadata": {},
     "output_type": "display_data"
    },
    {
     "data": {
      "text/html": [
       "\n",
       "        <script src=\"/static/components/requirejs/require.js\"></script>\n",
       "        <script>\n",
       "          requirejs.config({\n",
       "            paths: {\n",
       "              base: '/static/base',\n",
       "              plotly: 'https://cdn.plot.ly/plotly-latest.min.js?noext',\n",
       "            },\n",
       "          });\n",
       "        </script>\n",
       "        "
      ],
      "text/plain": [
       "<IPython.core.display.HTML object>"
      ]
     },
     "metadata": {},
     "output_type": "display_data"
    },
    {
     "data": {
      "text/html": [
       "\n",
       "        <script src=\"/static/components/requirejs/require.js\"></script>\n",
       "        <script>\n",
       "          requirejs.config({\n",
       "            paths: {\n",
       "              base: '/static/base',\n",
       "              plotly: 'https://cdn.plot.ly/plotly-latest.min.js?noext',\n",
       "            },\n",
       "          });\n",
       "        </script>\n",
       "        "
      ],
      "text/plain": [
       "<IPython.core.display.HTML object>"
      ]
     },
     "metadata": {},
     "output_type": "display_data"
    },
    {
     "data": {
      "text/html": [
       "\n",
       "        <script src=\"/static/components/requirejs/require.js\"></script>\n",
       "        <script>\n",
       "          requirejs.config({\n",
       "            paths: {\n",
       "              base: '/static/base',\n",
       "              plotly: 'https://cdn.plot.ly/plotly-latest.min.js?noext',\n",
       "            },\n",
       "          });\n",
       "        </script>\n",
       "        "
      ],
      "text/plain": [
       "<IPython.core.display.HTML object>"
      ]
     },
     "metadata": {},
     "output_type": "display_data"
    },
    {
     "data": {
      "text/plain": [
       "Friday       23371\n",
       "Saturday     22172\n",
       "Thursday     21395\n",
       "Wednesday    21332\n",
       "Tuesday      21242\n",
       "Monday       20783\n",
       "Sunday       20205\n",
       "Name: DayOfWeek, dtype: int64"
      ]
     },
     "execution_count": 96,
     "metadata": {},
     "output_type": "execute_result"
    }
   ],
   "source": [
    "# Number of Incidents per Day od Week\n",
    "incidents['DayOfWeek'].value_counts()"
   ]
  },
  {
   "cell_type": "code",
   "execution_count": 97,
   "metadata": {},
   "outputs": [
    {
     "data": {
      "text/html": [
       "\n",
       "        <script src=\"/static/components/requirejs/require.js\"></script>\n",
       "        <script>\n",
       "          requirejs.config({\n",
       "            paths: {\n",
       "              base: '/static/base',\n",
       "              plotly: 'https://cdn.plot.ly/plotly-latest.min.js?noext',\n",
       "            },\n",
       "          });\n",
       "        </script>\n",
       "        "
      ],
      "text/plain": [
       "<IPython.core.display.HTML object>"
      ]
     },
     "metadata": {},
     "output_type": "display_data"
    },
    {
     "data": {
      "text/html": [
       "\n",
       "        <script src=\"/static/components/requirejs/require.js\"></script>\n",
       "        <script>\n",
       "          requirejs.config({\n",
       "            paths: {\n",
       "              base: '/static/base',\n",
       "              plotly: 'https://cdn.plot.ly/plotly-latest.min.js?noext',\n",
       "            },\n",
       "          });\n",
       "        </script>\n",
       "        "
      ],
      "text/plain": [
       "<IPython.core.display.HTML object>"
      ]
     },
     "metadata": {},
     "output_type": "display_data"
    },
    {
     "data": {
      "text/html": [
       "\n",
       "        <script src=\"/static/components/requirejs/require.js\"></script>\n",
       "        <script>\n",
       "          requirejs.config({\n",
       "            paths: {\n",
       "              base: '/static/base',\n",
       "              plotly: 'https://cdn.plot.ly/plotly-latest.min.js?noext',\n",
       "            },\n",
       "          });\n",
       "        </script>\n",
       "        "
      ],
      "text/plain": [
       "<IPython.core.display.HTML object>"
      ]
     },
     "metadata": {},
     "output_type": "display_data"
    },
    {
     "data": {
      "text/html": [
       "\n",
       "        <script src=\"/static/components/requirejs/require.js\"></script>\n",
       "        <script>\n",
       "          requirejs.config({\n",
       "            paths: {\n",
       "              base: '/static/base',\n",
       "              plotly: 'https://cdn.plot.ly/plotly-latest.min.js?noext',\n",
       "            },\n",
       "          });\n",
       "        </script>\n",
       "        "
      ],
      "text/plain": [
       "<IPython.core.display.HTML object>"
      ]
     },
     "metadata": {},
     "output_type": "display_data"
    },
    {
     "data": {
      "text/html": [
       "\n",
       "        <script src=\"/static/components/requirejs/require.js\"></script>\n",
       "        <script>\n",
       "          requirejs.config({\n",
       "            paths: {\n",
       "              base: '/static/base',\n",
       "              plotly: 'https://cdn.plot.ly/plotly-latest.min.js?noext',\n",
       "            },\n",
       "          });\n",
       "        </script>\n",
       "        "
      ],
      "text/plain": [
       "<IPython.core.display.HTML object>"
      ]
     },
     "metadata": {},
     "output_type": "display_data"
    },
    {
     "data": {
      "text/html": [
       "\n",
       "        <script src=\"/static/components/requirejs/require.js\"></script>\n",
       "        <script>\n",
       "          requirejs.config({\n",
       "            paths: {\n",
       "              base: '/static/base',\n",
       "              plotly: 'https://cdn.plot.ly/plotly-latest.min.js?noext',\n",
       "            },\n",
       "          });\n",
       "        </script>\n",
       "        "
      ],
      "text/plain": [
       "<IPython.core.display.HTML object>"
      ]
     },
     "metadata": {},
     "output_type": "display_data"
    },
    {
     "data": {
      "text/html": [
       "\n",
       "        <script src=\"/static/components/requirejs/require.js\"></script>\n",
       "        <script>\n",
       "          requirejs.config({\n",
       "            paths: {\n",
       "              base: '/static/base',\n",
       "              plotly: 'https://cdn.plot.ly/plotly-latest.min.js?noext',\n",
       "            },\n",
       "          });\n",
       "        </script>\n",
       "        "
      ],
      "text/plain": [
       "<IPython.core.display.HTML object>"
      ]
     },
     "metadata": {},
     "output_type": "display_data"
    },
    {
     "data": {
      "application/vnd.plotly.v1+json": {
       "config": {
        "linkText": "Export to plot.ly",
        "plotlyServerURL": "https://plot.ly",
        "showLink": false
       },
       "data": [
        {
         "marker": {
          "color": [
           23371,
           22172,
           21395,
           21332,
           21242,
           20783,
           20205
          ],
          "colorscale": [
           [
            0,
            "#00224e"
           ],
           [
            0.1111111111111111,
            "#123570"
           ],
           [
            0.2222222222222222,
            "#3b496c"
           ],
           [
            0.3333333333333333,
            "#575d6d"
           ],
           [
            0.4444444444444444,
            "#707173"
           ],
           [
            0.5555555555555556,
            "#8a8678"
           ],
           [
            0.6666666666666666,
            "#a59c74"
           ],
           [
            0.7777777777777778,
            "#c3b369"
           ],
           [
            0.8888888888888888,
            "#e1cc55"
           ],
           [
            1,
            "#fee838"
           ]
          ]
         },
         "text": [
          23371,
          22172,
          21395,
          21332,
          21242,
          20783,
          20205
         ],
         "textposition": "outside",
         "type": "bar",
         "x": [
          "Friday",
          "Saturday",
          "Thursday",
          "Wednesday",
          "Tuesday",
          "Monday",
          "Sunday"
         ],
         "y": [
          23371,
          22172,
          21395,
          21332,
          21242,
          20783,
          20205
         ]
        }
       ],
       "layout": {
        "template": {
         "data": {
          "bar": [
           {
            "error_x": {
             "color": "#2a3f5f"
            },
            "error_y": {
             "color": "#2a3f5f"
            },
            "marker": {
             "line": {
              "color": "#E5ECF6",
              "width": 0.5
             }
            },
            "type": "bar"
           }
          ],
          "barpolar": [
           {
            "marker": {
             "line": {
              "color": "#E5ECF6",
              "width": 0.5
             }
            },
            "type": "barpolar"
           }
          ],
          "carpet": [
           {
            "aaxis": {
             "endlinecolor": "#2a3f5f",
             "gridcolor": "white",
             "linecolor": "white",
             "minorgridcolor": "white",
             "startlinecolor": "#2a3f5f"
            },
            "baxis": {
             "endlinecolor": "#2a3f5f",
             "gridcolor": "white",
             "linecolor": "white",
             "minorgridcolor": "white",
             "startlinecolor": "#2a3f5f"
            },
            "type": "carpet"
           }
          ],
          "choropleth": [
           {
            "colorbar": {
             "outlinewidth": 0,
             "ticks": ""
            },
            "type": "choropleth"
           }
          ],
          "contour": [
           {
            "colorbar": {
             "outlinewidth": 0,
             "ticks": ""
            },
            "colorscale": [
             [
              0,
              "#0d0887"
             ],
             [
              0.1111111111111111,
              "#46039f"
             ],
             [
              0.2222222222222222,
              "#7201a8"
             ],
             [
              0.3333333333333333,
              "#9c179e"
             ],
             [
              0.4444444444444444,
              "#bd3786"
             ],
             [
              0.5555555555555556,
              "#d8576b"
             ],
             [
              0.6666666666666666,
              "#ed7953"
             ],
             [
              0.7777777777777778,
              "#fb9f3a"
             ],
             [
              0.8888888888888888,
              "#fdca26"
             ],
             [
              1,
              "#f0f921"
             ]
            ],
            "type": "contour"
           }
          ],
          "contourcarpet": [
           {
            "colorbar": {
             "outlinewidth": 0,
             "ticks": ""
            },
            "type": "contourcarpet"
           }
          ],
          "heatmap": [
           {
            "colorbar": {
             "outlinewidth": 0,
             "ticks": ""
            },
            "colorscale": [
             [
              0,
              "#0d0887"
             ],
             [
              0.1111111111111111,
              "#46039f"
             ],
             [
              0.2222222222222222,
              "#7201a8"
             ],
             [
              0.3333333333333333,
              "#9c179e"
             ],
             [
              0.4444444444444444,
              "#bd3786"
             ],
             [
              0.5555555555555556,
              "#d8576b"
             ],
             [
              0.6666666666666666,
              "#ed7953"
             ],
             [
              0.7777777777777778,
              "#fb9f3a"
             ],
             [
              0.8888888888888888,
              "#fdca26"
             ],
             [
              1,
              "#f0f921"
             ]
            ],
            "type": "heatmap"
           }
          ],
          "heatmapgl": [
           {
            "colorbar": {
             "outlinewidth": 0,
             "ticks": ""
            },
            "colorscale": [
             [
              0,
              "#0d0887"
             ],
             [
              0.1111111111111111,
              "#46039f"
             ],
             [
              0.2222222222222222,
              "#7201a8"
             ],
             [
              0.3333333333333333,
              "#9c179e"
             ],
             [
              0.4444444444444444,
              "#bd3786"
             ],
             [
              0.5555555555555556,
              "#d8576b"
             ],
             [
              0.6666666666666666,
              "#ed7953"
             ],
             [
              0.7777777777777778,
              "#fb9f3a"
             ],
             [
              0.8888888888888888,
              "#fdca26"
             ],
             [
              1,
              "#f0f921"
             ]
            ],
            "type": "heatmapgl"
           }
          ],
          "histogram": [
           {
            "marker": {
             "colorbar": {
              "outlinewidth": 0,
              "ticks": ""
             }
            },
            "type": "histogram"
           }
          ],
          "histogram2d": [
           {
            "colorbar": {
             "outlinewidth": 0,
             "ticks": ""
            },
            "colorscale": [
             [
              0,
              "#0d0887"
             ],
             [
              0.1111111111111111,
              "#46039f"
             ],
             [
              0.2222222222222222,
              "#7201a8"
             ],
             [
              0.3333333333333333,
              "#9c179e"
             ],
             [
              0.4444444444444444,
              "#bd3786"
             ],
             [
              0.5555555555555556,
              "#d8576b"
             ],
             [
              0.6666666666666666,
              "#ed7953"
             ],
             [
              0.7777777777777778,
              "#fb9f3a"
             ],
             [
              0.8888888888888888,
              "#fdca26"
             ],
             [
              1,
              "#f0f921"
             ]
            ],
            "type": "histogram2d"
           }
          ],
          "histogram2dcontour": [
           {
            "colorbar": {
             "outlinewidth": 0,
             "ticks": ""
            },
            "colorscale": [
             [
              0,
              "#0d0887"
             ],
             [
              0.1111111111111111,
              "#46039f"
             ],
             [
              0.2222222222222222,
              "#7201a8"
             ],
             [
              0.3333333333333333,
              "#9c179e"
             ],
             [
              0.4444444444444444,
              "#bd3786"
             ],
             [
              0.5555555555555556,
              "#d8576b"
             ],
             [
              0.6666666666666666,
              "#ed7953"
             ],
             [
              0.7777777777777778,
              "#fb9f3a"
             ],
             [
              0.8888888888888888,
              "#fdca26"
             ],
             [
              1,
              "#f0f921"
             ]
            ],
            "type": "histogram2dcontour"
           }
          ],
          "mesh3d": [
           {
            "colorbar": {
             "outlinewidth": 0,
             "ticks": ""
            },
            "type": "mesh3d"
           }
          ],
          "parcoords": [
           {
            "line": {
             "colorbar": {
              "outlinewidth": 0,
              "ticks": ""
             }
            },
            "type": "parcoords"
           }
          ],
          "pie": [
           {
            "automargin": true,
            "type": "pie"
           }
          ],
          "scatter": [
           {
            "marker": {
             "colorbar": {
              "outlinewidth": 0,
              "ticks": ""
             }
            },
            "type": "scatter"
           }
          ],
          "scatter3d": [
           {
            "line": {
             "colorbar": {
              "outlinewidth": 0,
              "ticks": ""
             }
            },
            "marker": {
             "colorbar": {
              "outlinewidth": 0,
              "ticks": ""
             }
            },
            "type": "scatter3d"
           }
          ],
          "scattercarpet": [
           {
            "marker": {
             "colorbar": {
              "outlinewidth": 0,
              "ticks": ""
             }
            },
            "type": "scattercarpet"
           }
          ],
          "scattergeo": [
           {
            "marker": {
             "colorbar": {
              "outlinewidth": 0,
              "ticks": ""
             }
            },
            "type": "scattergeo"
           }
          ],
          "scattergl": [
           {
            "marker": {
             "colorbar": {
              "outlinewidth": 0,
              "ticks": ""
             }
            },
            "type": "scattergl"
           }
          ],
          "scattermapbox": [
           {
            "marker": {
             "colorbar": {
              "outlinewidth": 0,
              "ticks": ""
             }
            },
            "type": "scattermapbox"
           }
          ],
          "scatterpolar": [
           {
            "marker": {
             "colorbar": {
              "outlinewidth": 0,
              "ticks": ""
             }
            },
            "type": "scatterpolar"
           }
          ],
          "scatterpolargl": [
           {
            "marker": {
             "colorbar": {
              "outlinewidth": 0,
              "ticks": ""
             }
            },
            "type": "scatterpolargl"
           }
          ],
          "scatterternary": [
           {
            "marker": {
             "colorbar": {
              "outlinewidth": 0,
              "ticks": ""
             }
            },
            "type": "scatterternary"
           }
          ],
          "surface": [
           {
            "colorbar": {
             "outlinewidth": 0,
             "ticks": ""
            },
            "colorscale": [
             [
              0,
              "#0d0887"
             ],
             [
              0.1111111111111111,
              "#46039f"
             ],
             [
              0.2222222222222222,
              "#7201a8"
             ],
             [
              0.3333333333333333,
              "#9c179e"
             ],
             [
              0.4444444444444444,
              "#bd3786"
             ],
             [
              0.5555555555555556,
              "#d8576b"
             ],
             [
              0.6666666666666666,
              "#ed7953"
             ],
             [
              0.7777777777777778,
              "#fb9f3a"
             ],
             [
              0.8888888888888888,
              "#fdca26"
             ],
             [
              1,
              "#f0f921"
             ]
            ],
            "type": "surface"
           }
          ],
          "table": [
           {
            "cells": {
             "fill": {
              "color": "#EBF0F8"
             },
             "line": {
              "color": "white"
             }
            },
            "header": {
             "fill": {
              "color": "#C8D4E3"
             },
             "line": {
              "color": "white"
             }
            },
            "type": "table"
           }
          ]
         },
         "layout": {
          "annotationdefaults": {
           "arrowcolor": "#2a3f5f",
           "arrowhead": 0,
           "arrowwidth": 1
          },
          "coloraxis": {
           "colorbar": {
            "outlinewidth": 0,
            "ticks": ""
           }
          },
          "colorscale": {
           "diverging": [
            [
             0,
             "#8e0152"
            ],
            [
             0.1,
             "#c51b7d"
            ],
            [
             0.2,
             "#de77ae"
            ],
            [
             0.3,
             "#f1b6da"
            ],
            [
             0.4,
             "#fde0ef"
            ],
            [
             0.5,
             "#f7f7f7"
            ],
            [
             0.6,
             "#e6f5d0"
            ],
            [
             0.7,
             "#b8e186"
            ],
            [
             0.8,
             "#7fbc41"
            ],
            [
             0.9,
             "#4d9221"
            ],
            [
             1,
             "#276419"
            ]
           ],
           "sequential": [
            [
             0,
             "#0d0887"
            ],
            [
             0.1111111111111111,
             "#46039f"
            ],
            [
             0.2222222222222222,
             "#7201a8"
            ],
            [
             0.3333333333333333,
             "#9c179e"
            ],
            [
             0.4444444444444444,
             "#bd3786"
            ],
            [
             0.5555555555555556,
             "#d8576b"
            ],
            [
             0.6666666666666666,
             "#ed7953"
            ],
            [
             0.7777777777777778,
             "#fb9f3a"
            ],
            [
             0.8888888888888888,
             "#fdca26"
            ],
            [
             1,
             "#f0f921"
            ]
           ],
           "sequentialminus": [
            [
             0,
             "#0d0887"
            ],
            [
             0.1111111111111111,
             "#46039f"
            ],
            [
             0.2222222222222222,
             "#7201a8"
            ],
            [
             0.3333333333333333,
             "#9c179e"
            ],
            [
             0.4444444444444444,
             "#bd3786"
            ],
            [
             0.5555555555555556,
             "#d8576b"
            ],
            [
             0.6666666666666666,
             "#ed7953"
            ],
            [
             0.7777777777777778,
             "#fb9f3a"
            ],
            [
             0.8888888888888888,
             "#fdca26"
            ],
            [
             1,
             "#f0f921"
            ]
           ]
          },
          "colorway": [
           "#636efa",
           "#EF553B",
           "#00cc96",
           "#ab63fa",
           "#FFA15A",
           "#19d3f3",
           "#FF6692",
           "#B6E880",
           "#FF97FF",
           "#FECB52"
          ],
          "font": {
           "color": "#2a3f5f"
          },
          "geo": {
           "bgcolor": "white",
           "lakecolor": "white",
           "landcolor": "#E5ECF6",
           "showlakes": true,
           "showland": true,
           "subunitcolor": "white"
          },
          "hoverlabel": {
           "align": "left"
          },
          "hovermode": "closest",
          "mapbox": {
           "style": "light"
          },
          "paper_bgcolor": "white",
          "plot_bgcolor": "#E5ECF6",
          "polar": {
           "angularaxis": {
            "gridcolor": "white",
            "linecolor": "white",
            "ticks": ""
           },
           "bgcolor": "#E5ECF6",
           "radialaxis": {
            "gridcolor": "white",
            "linecolor": "white",
            "ticks": ""
           }
          },
          "scene": {
           "xaxis": {
            "backgroundcolor": "#E5ECF6",
            "gridcolor": "white",
            "gridwidth": 2,
            "linecolor": "white",
            "showbackground": true,
            "ticks": "",
            "zerolinecolor": "white"
           },
           "yaxis": {
            "backgroundcolor": "#E5ECF6",
            "gridcolor": "white",
            "gridwidth": 2,
            "linecolor": "white",
            "showbackground": true,
            "ticks": "",
            "zerolinecolor": "white"
           },
           "zaxis": {
            "backgroundcolor": "#E5ECF6",
            "gridcolor": "white",
            "gridwidth": 2,
            "linecolor": "white",
            "showbackground": true,
            "ticks": "",
            "zerolinecolor": "white"
           }
          },
          "shapedefaults": {
           "line": {
            "color": "#2a3f5f"
           }
          },
          "ternary": {
           "aaxis": {
            "gridcolor": "white",
            "linecolor": "white",
            "ticks": ""
           },
           "baxis": {
            "gridcolor": "white",
            "linecolor": "white",
            "ticks": ""
           },
           "bgcolor": "#E5ECF6",
           "caxis": {
            "gridcolor": "white",
            "linecolor": "white",
            "ticks": ""
           }
          },
          "title": {
           "x": 0.05
          },
          "xaxis": {
           "automargin": true,
           "gridcolor": "white",
           "linecolor": "white",
           "ticks": "",
           "title": {
            "standoff": 15
           },
           "zerolinecolor": "white",
           "zerolinewidth": 2
          },
          "yaxis": {
           "automargin": true,
           "gridcolor": "white",
           "linecolor": "white",
           "ticks": "",
           "title": {
            "standoff": 15
           },
           "zerolinecolor": "white",
           "zerolinewidth": 2
          }
         }
        },
        "title": {
         "text": "Figure 1 - Number of Incidents per Day od Week",
         "x": 0.5
        },
        "xaxis": {
         "title": {
          "text": "Day of Week"
         }
        },
        "yaxis": {
         "title": {
          "text": "Number of Incidents"
         }
        }
       }
      },
      "text/html": [
       "<div>\n",
       "        \n",
       "        \n",
       "            <div id=\"39e98be6-a298-4ccc-b893-80ff546212fd\" class=\"plotly-graph-div\" style=\"height:525px; width:100%;\"></div>\n",
       "            <script type=\"text/javascript\">\n",
       "                require([\"plotly\"], function(Plotly) {\n",
       "                    window.PLOTLYENV=window.PLOTLYENV || {};\n",
       "                    \n",
       "                if (document.getElementById(\"39e98be6-a298-4ccc-b893-80ff546212fd\")) {\n",
       "                    Plotly.newPlot(\n",
       "                        '39e98be6-a298-4ccc-b893-80ff546212fd',\n",
       "                        [{\"marker\": {\"color\": [23371, 22172, 21395, 21332, 21242, 20783, 20205], \"colorscale\": [[0.0, \"#00224e\"], [0.1111111111111111, \"#123570\"], [0.2222222222222222, \"#3b496c\"], [0.3333333333333333, \"#575d6d\"], [0.4444444444444444, \"#707173\"], [0.5555555555555556, \"#8a8678\"], [0.6666666666666666, \"#a59c74\"], [0.7777777777777778, \"#c3b369\"], [0.8888888888888888, \"#e1cc55\"], [1.0, \"#fee838\"]]}, \"text\": [23371.0, 22172.0, 21395.0, 21332.0, 21242.0, 20783.0, 20205.0], \"textposition\": \"outside\", \"type\": \"bar\", \"x\": [\"Friday\", \"Saturday\", \"Thursday\", \"Wednesday\", \"Tuesday\", \"Monday\", \"Sunday\"], \"y\": [23371, 22172, 21395, 21332, 21242, 20783, 20205]}],\n",
       "                        {\"template\": {\"data\": {\"bar\": [{\"error_x\": {\"color\": \"#2a3f5f\"}, \"error_y\": {\"color\": \"#2a3f5f\"}, \"marker\": {\"line\": {\"color\": \"#E5ECF6\", \"width\": 0.5}}, \"type\": \"bar\"}], \"barpolar\": [{\"marker\": {\"line\": {\"color\": \"#E5ECF6\", \"width\": 0.5}}, \"type\": \"barpolar\"}], \"carpet\": [{\"aaxis\": {\"endlinecolor\": \"#2a3f5f\", \"gridcolor\": \"white\", \"linecolor\": \"white\", \"minorgridcolor\": \"white\", \"startlinecolor\": \"#2a3f5f\"}, \"baxis\": {\"endlinecolor\": \"#2a3f5f\", \"gridcolor\": \"white\", \"linecolor\": \"white\", \"minorgridcolor\": \"white\", \"startlinecolor\": \"#2a3f5f\"}, \"type\": \"carpet\"}], \"choropleth\": [{\"colorbar\": {\"outlinewidth\": 0, \"ticks\": \"\"}, \"type\": \"choropleth\"}], \"contour\": [{\"colorbar\": {\"outlinewidth\": 0, \"ticks\": \"\"}, \"colorscale\": [[0.0, \"#0d0887\"], [0.1111111111111111, \"#46039f\"], [0.2222222222222222, \"#7201a8\"], [0.3333333333333333, \"#9c179e\"], [0.4444444444444444, \"#bd3786\"], [0.5555555555555556, \"#d8576b\"], [0.6666666666666666, \"#ed7953\"], [0.7777777777777778, \"#fb9f3a\"], [0.8888888888888888, \"#fdca26\"], [1.0, \"#f0f921\"]], \"type\": \"contour\"}], \"contourcarpet\": [{\"colorbar\": {\"outlinewidth\": 0, \"ticks\": \"\"}, \"type\": \"contourcarpet\"}], \"heatmap\": [{\"colorbar\": {\"outlinewidth\": 0, \"ticks\": \"\"}, \"colorscale\": [[0.0, \"#0d0887\"], [0.1111111111111111, \"#46039f\"], [0.2222222222222222, \"#7201a8\"], [0.3333333333333333, \"#9c179e\"], [0.4444444444444444, \"#bd3786\"], [0.5555555555555556, \"#d8576b\"], [0.6666666666666666, \"#ed7953\"], [0.7777777777777778, \"#fb9f3a\"], [0.8888888888888888, \"#fdca26\"], [1.0, \"#f0f921\"]], \"type\": \"heatmap\"}], \"heatmapgl\": [{\"colorbar\": {\"outlinewidth\": 0, \"ticks\": \"\"}, \"colorscale\": [[0.0, \"#0d0887\"], [0.1111111111111111, \"#46039f\"], [0.2222222222222222, \"#7201a8\"], [0.3333333333333333, \"#9c179e\"], [0.4444444444444444, \"#bd3786\"], [0.5555555555555556, \"#d8576b\"], [0.6666666666666666, \"#ed7953\"], [0.7777777777777778, \"#fb9f3a\"], [0.8888888888888888, \"#fdca26\"], [1.0, \"#f0f921\"]], \"type\": \"heatmapgl\"}], \"histogram\": [{\"marker\": {\"colorbar\": {\"outlinewidth\": 0, \"ticks\": \"\"}}, \"type\": \"histogram\"}], \"histogram2d\": [{\"colorbar\": {\"outlinewidth\": 0, \"ticks\": \"\"}, \"colorscale\": [[0.0, \"#0d0887\"], [0.1111111111111111, \"#46039f\"], [0.2222222222222222, \"#7201a8\"], [0.3333333333333333, \"#9c179e\"], [0.4444444444444444, \"#bd3786\"], [0.5555555555555556, \"#d8576b\"], [0.6666666666666666, \"#ed7953\"], [0.7777777777777778, \"#fb9f3a\"], [0.8888888888888888, \"#fdca26\"], [1.0, \"#f0f921\"]], \"type\": \"histogram2d\"}], \"histogram2dcontour\": [{\"colorbar\": {\"outlinewidth\": 0, \"ticks\": \"\"}, \"colorscale\": [[0.0, \"#0d0887\"], [0.1111111111111111, \"#46039f\"], [0.2222222222222222, \"#7201a8\"], [0.3333333333333333, \"#9c179e\"], [0.4444444444444444, \"#bd3786\"], [0.5555555555555556, \"#d8576b\"], [0.6666666666666666, \"#ed7953\"], [0.7777777777777778, \"#fb9f3a\"], [0.8888888888888888, \"#fdca26\"], [1.0, \"#f0f921\"]], \"type\": \"histogram2dcontour\"}], \"mesh3d\": [{\"colorbar\": {\"outlinewidth\": 0, \"ticks\": \"\"}, \"type\": \"mesh3d\"}], \"parcoords\": [{\"line\": {\"colorbar\": {\"outlinewidth\": 0, \"ticks\": \"\"}}, \"type\": \"parcoords\"}], \"pie\": [{\"automargin\": true, \"type\": \"pie\"}], \"scatter\": [{\"marker\": {\"colorbar\": {\"outlinewidth\": 0, \"ticks\": \"\"}}, \"type\": \"scatter\"}], \"scatter3d\": [{\"line\": {\"colorbar\": {\"outlinewidth\": 0, \"ticks\": \"\"}}, \"marker\": {\"colorbar\": {\"outlinewidth\": 0, \"ticks\": \"\"}}, \"type\": \"scatter3d\"}], \"scattercarpet\": [{\"marker\": {\"colorbar\": {\"outlinewidth\": 0, \"ticks\": \"\"}}, \"type\": \"scattercarpet\"}], \"scattergeo\": [{\"marker\": {\"colorbar\": {\"outlinewidth\": 0, \"ticks\": \"\"}}, \"type\": \"scattergeo\"}], \"scattergl\": [{\"marker\": {\"colorbar\": {\"outlinewidth\": 0, \"ticks\": \"\"}}, \"type\": \"scattergl\"}], \"scattermapbox\": [{\"marker\": {\"colorbar\": {\"outlinewidth\": 0, \"ticks\": \"\"}}, \"type\": \"scattermapbox\"}], \"scatterpolar\": [{\"marker\": {\"colorbar\": {\"outlinewidth\": 0, \"ticks\": \"\"}}, \"type\": \"scatterpolar\"}], \"scatterpolargl\": [{\"marker\": {\"colorbar\": {\"outlinewidth\": 0, \"ticks\": \"\"}}, \"type\": \"scatterpolargl\"}], \"scatterternary\": [{\"marker\": {\"colorbar\": {\"outlinewidth\": 0, \"ticks\": \"\"}}, \"type\": \"scatterternary\"}], \"surface\": [{\"colorbar\": {\"outlinewidth\": 0, \"ticks\": \"\"}, \"colorscale\": [[0.0, \"#0d0887\"], [0.1111111111111111, \"#46039f\"], [0.2222222222222222, \"#7201a8\"], [0.3333333333333333, \"#9c179e\"], [0.4444444444444444, \"#bd3786\"], [0.5555555555555556, \"#d8576b\"], [0.6666666666666666, \"#ed7953\"], [0.7777777777777778, \"#fb9f3a\"], [0.8888888888888888, \"#fdca26\"], [1.0, \"#f0f921\"]], \"type\": \"surface\"}], \"table\": [{\"cells\": {\"fill\": {\"color\": \"#EBF0F8\"}, \"line\": {\"color\": \"white\"}}, \"header\": {\"fill\": {\"color\": \"#C8D4E3\"}, \"line\": {\"color\": \"white\"}}, \"type\": \"table\"}]}, \"layout\": {\"annotationdefaults\": {\"arrowcolor\": \"#2a3f5f\", \"arrowhead\": 0, \"arrowwidth\": 1}, \"coloraxis\": {\"colorbar\": {\"outlinewidth\": 0, \"ticks\": \"\"}}, \"colorscale\": {\"diverging\": [[0, \"#8e0152\"], [0.1, \"#c51b7d\"], [0.2, \"#de77ae\"], [0.3, \"#f1b6da\"], [0.4, \"#fde0ef\"], [0.5, \"#f7f7f7\"], [0.6, \"#e6f5d0\"], [0.7, \"#b8e186\"], [0.8, \"#7fbc41\"], [0.9, \"#4d9221\"], [1, \"#276419\"]], \"sequential\": [[0.0, \"#0d0887\"], [0.1111111111111111, \"#46039f\"], [0.2222222222222222, \"#7201a8\"], [0.3333333333333333, \"#9c179e\"], [0.4444444444444444, \"#bd3786\"], [0.5555555555555556, \"#d8576b\"], [0.6666666666666666, \"#ed7953\"], [0.7777777777777778, \"#fb9f3a\"], [0.8888888888888888, \"#fdca26\"], [1.0, \"#f0f921\"]], \"sequentialminus\": [[0.0, \"#0d0887\"], [0.1111111111111111, \"#46039f\"], [0.2222222222222222, \"#7201a8\"], [0.3333333333333333, \"#9c179e\"], [0.4444444444444444, \"#bd3786\"], [0.5555555555555556, \"#d8576b\"], [0.6666666666666666, \"#ed7953\"], [0.7777777777777778, \"#fb9f3a\"], [0.8888888888888888, \"#fdca26\"], [1.0, \"#f0f921\"]]}, \"colorway\": [\"#636efa\", \"#EF553B\", \"#00cc96\", \"#ab63fa\", \"#FFA15A\", \"#19d3f3\", \"#FF6692\", \"#B6E880\", \"#FF97FF\", \"#FECB52\"], \"font\": {\"color\": \"#2a3f5f\"}, \"geo\": {\"bgcolor\": \"white\", \"lakecolor\": \"white\", \"landcolor\": \"#E5ECF6\", \"showlakes\": true, \"showland\": true, \"subunitcolor\": \"white\"}, \"hoverlabel\": {\"align\": \"left\"}, \"hovermode\": \"closest\", \"mapbox\": {\"style\": \"light\"}, \"paper_bgcolor\": \"white\", \"plot_bgcolor\": \"#E5ECF6\", \"polar\": {\"angularaxis\": {\"gridcolor\": \"white\", \"linecolor\": \"white\", \"ticks\": \"\"}, \"bgcolor\": \"#E5ECF6\", \"radialaxis\": {\"gridcolor\": \"white\", \"linecolor\": \"white\", \"ticks\": \"\"}}, \"scene\": {\"xaxis\": {\"backgroundcolor\": \"#E5ECF6\", \"gridcolor\": \"white\", \"gridwidth\": 2, \"linecolor\": \"white\", \"showbackground\": true, \"ticks\": \"\", \"zerolinecolor\": \"white\"}, \"yaxis\": {\"backgroundcolor\": \"#E5ECF6\", \"gridcolor\": \"white\", \"gridwidth\": 2, \"linecolor\": \"white\", \"showbackground\": true, \"ticks\": \"\", \"zerolinecolor\": \"white\"}, \"zaxis\": {\"backgroundcolor\": \"#E5ECF6\", \"gridcolor\": \"white\", \"gridwidth\": 2, \"linecolor\": \"white\", \"showbackground\": true, \"ticks\": \"\", \"zerolinecolor\": \"white\"}}, \"shapedefaults\": {\"line\": {\"color\": \"#2a3f5f\"}}, \"ternary\": {\"aaxis\": {\"gridcolor\": \"white\", \"linecolor\": \"white\", \"ticks\": \"\"}, \"baxis\": {\"gridcolor\": \"white\", \"linecolor\": \"white\", \"ticks\": \"\"}, \"bgcolor\": \"#E5ECF6\", \"caxis\": {\"gridcolor\": \"white\", \"linecolor\": \"white\", \"ticks\": \"\"}}, \"title\": {\"x\": 0.05}, \"xaxis\": {\"automargin\": true, \"gridcolor\": \"white\", \"linecolor\": \"white\", \"ticks\": \"\", \"title\": {\"standoff\": 15}, \"zerolinecolor\": \"white\", \"zerolinewidth\": 2}, \"yaxis\": {\"automargin\": true, \"gridcolor\": \"white\", \"linecolor\": \"white\", \"ticks\": \"\", \"title\": {\"standoff\": 15}, \"zerolinecolor\": \"white\", \"zerolinewidth\": 2}}}, \"title\": {\"text\": \"Figure 1 - Number of Incidents per Day od Week\", \"x\": 0.5}, \"xaxis\": {\"title\": {\"text\": \"Day of Week\"}}, \"yaxis\": {\"title\": {\"text\": \"Number of Incidents\"}}},\n",
       "                        {\"responsive\": true}\n",
       "                    ).then(function(){\n",
       "                            \n",
       "var gd = document.getElementById('39e98be6-a298-4ccc-b893-80ff546212fd');\n",
       "var x = new MutationObserver(function (mutations, observer) {{\n",
       "        var display = window.getComputedStyle(gd).display;\n",
       "        if (!display || display === 'none') {{\n",
       "            console.log([gd, 'removed!']);\n",
       "            Plotly.purge(gd);\n",
       "            observer.disconnect();\n",
       "        }}\n",
       "}});\n",
       "\n",
       "// Listen for the removal of the full notebook cells\n",
       "var notebookContainer = gd.closest('#notebook-container');\n",
       "if (notebookContainer) {{\n",
       "    x.observe(notebookContainer, {childList: true});\n",
       "}}\n",
       "\n",
       "// Listen for the clearing of the current output cell\n",
       "var outputEl = gd.closest('.output');\n",
       "if (outputEl) {{\n",
       "    x.observe(outputEl, {childList: true});\n",
       "}}\n",
       "\n",
       "                        })\n",
       "                };\n",
       "                });\n",
       "            </script>\n",
       "        </div>"
      ]
     },
     "metadata": {},
     "output_type": "display_data"
    },
    {
     "data": {
      "image/png": "[encoded data removed]"
     },
     "metadata": {},
     "output_type": "display_data"
    }
   ],
   "source": [
    "# Plotting Number of Incidents per Day od Week\n",
    "value = incidents['DayOfWeek'].value_counts().round(0)\n",
    "label = value.index\n",
    "trace = go.Bar(y=value, \n",
    "               x=label,text = value,textposition= \"outside\",\n",
    "               marker={'color': value,\n",
    "                   'colorscale': 'Cividis'})\n",
    "layout = go.Layout(title=\"Figure 1 - Number of Incidents per Day od Week\", \n",
    "                   xaxis={'title' : \"Day of Week\"},\n",
    "                  yaxis={'title' : \"Number of Incidents\"},\n",
    "                  title_x=0.5)\n",
    "fig = go.Figure(data=trace, layout=layout)\n",
    "iplot(fig)\n",
    "fig.show('png')"
   ]
  },
  {
   "cell_type": "code",
   "execution_count": 98,
   "metadata": {},
   "outputs": [
    {
     "data": {
      "text/html": [
       "\n",
       "        <script src=\"/static/components/requirejs/require.js\"></script>\n",
       "        <script>\n",
       "          requirejs.config({\n",
       "            paths: {\n",
       "              base: '/static/base',\n",
       "              plotly: 'https://cdn.plot.ly/plotly-latest.min.js?noext',\n",
       "            },\n",
       "          });\n",
       "        </script>\n",
       "        "
      ],
      "text/plain": [
       "<IPython.core.display.HTML object>"
      ]
     },
     "metadata": {},
     "output_type": "display_data"
    },
    {
     "data": {
      "text/html": [
       "\n",
       "        <script src=\"/static/components/requirejs/require.js\"></script>\n",
       "        <script>\n",
       "          requirejs.config({\n",
       "            paths: {\n",
       "              base: '/static/base',\n",
       "              plotly: 'https://cdn.plot.ly/plotly-latest.min.js?noext',\n",
       "            },\n",
       "          });\n",
       "        </script>\n",
       "        "
      ],
      "text/plain": [
       "<IPython.core.display.HTML object>"
      ]
     },
     "metadata": {},
     "output_type": "display_data"
    },
    {
     "data": {
      "text/html": [
       "\n",
       "        <script src=\"/static/components/requirejs/require.js\"></script>\n",
       "        <script>\n",
       "          requirejs.config({\n",
       "            paths: {\n",
       "              base: '/static/base',\n",
       "              plotly: 'https://cdn.plot.ly/plotly-latest.min.js?noext',\n",
       "            },\n",
       "          });\n",
       "        </script>\n",
       "        "
      ],
      "text/plain": [
       "<IPython.core.display.HTML object>"
      ]
     },
     "metadata": {},
     "output_type": "display_data"
    },
    {
     "data": {
      "text/html": [
       "\n",
       "        <script src=\"/static/components/requirejs/require.js\"></script>\n",
       "        <script>\n",
       "          requirejs.config({\n",
       "            paths: {\n",
       "              base: '/static/base',\n",
       "              plotly: 'https://cdn.plot.ly/plotly-latest.min.js?noext',\n",
       "            },\n",
       "          });\n",
       "        </script>\n",
       "        "
      ],
      "text/plain": [
       "<IPython.core.display.HTML object>"
      ]
     },
     "metadata": {},
     "output_type": "display_data"
    },
    {
     "data": {
      "text/html": [
       "\n",
       "        <script src=\"/static/components/requirejs/require.js\"></script>\n",
       "        <script>\n",
       "          requirejs.config({\n",
       "            paths: {\n",
       "              base: '/static/base',\n",
       "              plotly: 'https://cdn.plot.ly/plotly-latest.min.js?noext',\n",
       "            },\n",
       "          });\n",
       "        </script>\n",
       "        "
      ],
      "text/plain": [
       "<IPython.core.display.HTML object>"
      ]
     },
     "metadata": {},
     "output_type": "display_data"
    },
    {
     "data": {
      "text/html": [
       "\n",
       "        <script src=\"/static/components/requirejs/require.js\"></script>\n",
       "        <script>\n",
       "          requirejs.config({\n",
       "            paths: {\n",
       "              base: '/static/base',\n",
       "              plotly: 'https://cdn.plot.ly/plotly-latest.min.js?noext',\n",
       "            },\n",
       "          });\n",
       "        </script>\n",
       "        "
      ],
      "text/plain": [
       "<IPython.core.display.HTML object>"
      ]
     },
     "metadata": {},
     "output_type": "display_data"
    },
    {
     "data": {
      "text/html": [
       "\n",
       "        <script src=\"/static/components/requirejs/require.js\"></script>\n",
       "        <script>\n",
       "          requirejs.config({\n",
       "            paths: {\n",
       "              base: '/static/base',\n",
       "              plotly: 'https://cdn.plot.ly/plotly-latest.min.js?noext',\n",
       "            },\n",
       "          });\n",
       "        </script>\n",
       "        "
      ],
      "text/plain": [
       "<IPython.core.display.HTML object>"
      ]
     },
     "metadata": {},
     "output_type": "display_data"
    },
    {
     "data": {
      "text/plain": [
       "LARCENY/THEFT                  40409\n",
       "OTHER OFFENSES                 19599\n",
       "NON-CRIMINAL                   17866\n",
       "ASSAULT                        13577\n",
       "VANDALISM                       8589\n",
       "VEHICLE THEFT                   6419\n",
       "WARRANTS                        5914\n",
       "BURGLARY                        5802\n",
       "SUSPICIOUS OCC                  5782\n",
       "MISSING PERSON                  4338\n",
       "DRUG/NARCOTIC                   4243\n",
       "ROBBERY                         3299\n",
       "FRAUD                           2635\n",
       "SECONDARY CODES                 1841\n",
       "TRESPASS                        1812\n",
       "WEAPON LAWS                     1658\n",
       "SEX OFFENSES, FORCIBLE           940\n",
       "STOLEN PROPERTY                  882\n",
       "RECOVERED VEHICLE                736\n",
       "DISORDERLY CONDUCT               658\n",
       "PROSTITUTION                     641\n",
       "FORGERY/COUNTERFEITING           619\n",
       "DRUNKENNESS                      465\n",
       "DRIVING UNDER THE INFLUENCE      378\n",
       "ARSON                            286\n",
       "KIDNAPPING                       257\n",
       "EMBEZZLEMENT                     168\n",
       "LIQUOR LAWS                      156\n",
       "RUNAWAY                          140\n",
       "SUICIDE                           69\n",
       "BRIBERY                           66\n",
       "EXTORTION                         60\n",
       "FAMILY OFFENSES                   53\n",
       "LOITERING                         42\n",
       "SEX OFFENSES, NON FORCIBLE        40\n",
       "BAD CHECKS                        34\n",
       "GAMBLING                          20\n",
       "PORNOGRAPHY/OBSCENE MAT            4\n",
       "TREA                               3\n",
       "Name: Category, dtype: int64"
      ]
     },
     "execution_count": 98,
     "metadata": {},
     "output_type": "execute_result"
    }
   ],
   "source": [
    "# Number of Incidents per Category\n",
    "incidents['Category'].value_counts()"
   ]
  },
  {
   "cell_type": "code",
   "execution_count": 99,
   "metadata": {},
   "outputs": [
    {
     "data": {
      "text/html": [
       "\n",
       "        <script src=\"/static/components/requirejs/require.js\"></script>\n",
       "        <script>\n",
       "          requirejs.config({\n",
       "            paths: {\n",
       "              base: '/static/base',\n",
       "              plotly: 'https://cdn.plot.ly/plotly-latest.min.js?noext',\n",
       "            },\n",
       "          });\n",
       "        </script>\n",
       "        "
      ],
      "text/plain": [
       "<IPython.core.display.HTML object>"
      ]
     },
     "metadata": {},
     "output_type": "display_data"
    },
    {
     "data": {
      "text/html": [
       "\n",
       "        <script src=\"/static/components/requirejs/require.js\"></script>\n",
       "        <script>\n",
       "          requirejs.config({\n",
       "            paths: {\n",
       "              base: '/static/base',\n",
       "              plotly: 'https://cdn.plot.ly/plotly-latest.min.js?noext',\n",
       "            },\n",
       "          });\n",
       "        </script>\n",
       "        "
      ],
      "text/plain": [
       "<IPython.core.display.HTML object>"
      ]
     },
     "metadata": {},
     "output_type": "display_data"
    },
    {
     "data": {
      "text/html": [
       "\n",
       "        <script src=\"/static/components/requirejs/require.js\"></script>\n",
       "        <script>\n",
       "          requirejs.config({\n",
       "            paths: {\n",
       "              base: '/static/base',\n",
       "              plotly: 'https://cdn.plot.ly/plotly-latest.min.js?noext',\n",
       "            },\n",
       "          });\n",
       "        </script>\n",
       "        "
      ],
      "text/plain": [
       "<IPython.core.display.HTML object>"
      ]
     },
     "metadata": {},
     "output_type": "display_data"
    },
    {
     "data": {
      "text/html": [
       "\n",
       "        <script src=\"/static/components/requirejs/require.js\"></script>\n",
       "        <script>\n",
       "          requirejs.config({\n",
       "            paths: {\n",
       "              base: '/static/base',\n",
       "              plotly: 'https://cdn.plot.ly/plotly-latest.min.js?noext',\n",
       "            },\n",
       "          });\n",
       "        </script>\n",
       "        "
      ],
      "text/plain": [
       "<IPython.core.display.HTML object>"
      ]
     },
     "metadata": {},
     "output_type": "display_data"
    },
    {
     "data": {
      "text/html": [
       "\n",
       "        <script src=\"/static/components/requirejs/require.js\"></script>\n",
       "        <script>\n",
       "          requirejs.config({\n",
       "            paths: {\n",
       "              base: '/static/base',\n",
       "              plotly: 'https://cdn.plot.ly/plotly-latest.min.js?noext',\n",
       "            },\n",
       "          });\n",
       "        </script>\n",
       "        "
      ],
      "text/plain": [
       "<IPython.core.display.HTML object>"
      ]
     },
     "metadata": {},
     "output_type": "display_data"
    },
    {
     "data": {
      "text/html": [
       "\n",
       "        <script src=\"/static/components/requirejs/require.js\"></script>\n",
       "        <script>\n",
       "          requirejs.config({\n",
       "            paths: {\n",
       "              base: '/static/base',\n",
       "              plotly: 'https://cdn.plot.ly/plotly-latest.min.js?noext',\n",
       "            },\n",
       "          });\n",
       "        </script>\n",
       "        "
      ],
      "text/plain": [
       "<IPython.core.display.HTML object>"
      ]
     },
     "metadata": {},
     "output_type": "display_data"
    },
    {
     "data": {
      "text/html": [
       "\n",
       "        <script src=\"/static/components/requirejs/require.js\"></script>\n",
       "        <script>\n",
       "          requirejs.config({\n",
       "            paths: {\n",
       "              base: '/static/base',\n",
       "              plotly: 'https://cdn.plot.ly/plotly-latest.min.js?noext',\n",
       "            },\n",
       "          });\n",
       "        </script>\n",
       "        "
      ],
      "text/plain": [
       "<IPython.core.display.HTML object>"
      ]
     },
     "metadata": {},
     "output_type": "display_data"
    },
    {
     "data": {
      "application/vnd.plotly.v1+json": {
       "config": {
        "linkText": "Export to plot.ly",
        "plotlyServerURL": "https://plot.ly",
        "showLink": false
       },
       "data": [
        {
         "marker": {
          "color": [
           40409,
           19599,
           17866,
           13577,
           8589,
           6419,
           5914,
           5802,
           5782,
           4338
          ],
          "colorscale": [
           [
            0,
            "#440154"
           ],
           [
            0.1111111111111111,
            "#482878"
           ],
           [
            0.2222222222222222,
            "#3e4989"
           ],
           [
            0.3333333333333333,
            "#31688e"
           ],
           [
            0.4444444444444444,
            "#26828e"
           ],
           [
            0.5555555555555556,
            "#1f9e89"
           ],
           [
            0.6666666666666666,
            "#35b779"
           ],
           [
            0.7777777777777778,
            "#6ece58"
           ],
           [
            0.8888888888888888,
            "#b5de2b"
           ],
           [
            1,
            "#fde725"
           ]
          ]
         },
         "text": [
          40409,
          19599,
          17866,
          13577,
          8589,
          6419,
          5914,
          5802,
          5782,
          4338
         ],
         "textposition": "outside",
         "type": "bar",
         "x": [
          "LARCENY/THEFT",
          "OTHER OFFENSES",
          "NON-CRIMINAL",
          "ASSAULT",
          "VANDALISM",
          "VEHICLE THEFT",
          "WARRANTS",
          "BURGLARY",
          "SUSPICIOUS OCC",
          "MISSING PERSON"
         ],
         "y": [
          40409,
          19599,
          17866,
          13577,
          8589,
          6419,
          5914,
          5802,
          5782,
          4338
         ]
        }
       ],
       "layout": {
        "template": {
         "data": {
          "bar": [
           {
            "error_x": {
             "color": "#2a3f5f"
            },
            "error_y": {
             "color": "#2a3f5f"
            },
            "marker": {
             "line": {
              "color": "#E5ECF6",
              "width": 0.5
             }
            },
            "type": "bar"
           }
          ],
          "barpolar": [
           {
            "marker": {
             "line": {
              "color": "#E5ECF6",
              "width": 0.5
             }
            },
            "type": "barpolar"
           }
          ],
          "carpet": [
           {
            "aaxis": {
             "endlinecolor": "#2a3f5f",
             "gridcolor": "white",
             "linecolor": "white",
             "minorgridcolor": "white",
             "startlinecolor": "#2a3f5f"
            },
            "baxis": {
             "endlinecolor": "#2a3f5f",
             "gridcolor": "white",
             "linecolor": "white",
             "minorgridcolor": "white",
             "startlinecolor": "#2a3f5f"
            },
            "type": "carpet"
           }
          ],
          "choropleth": [
           {
            "colorbar": {
             "outlinewidth": 0,
             "ticks": ""
            },
            "type": "choropleth"
           }
          ],
          "contour": [
           {
            "colorbar": {
             "outlinewidth": 0,
             "ticks": ""
            },
            "colorscale": [
             [
              0,
              "#0d0887"
             ],
             [
              0.1111111111111111,
              "#46039f"
             ],
             [
              0.2222222222222222,
              "#7201a8"
             ],
             [
              0.3333333333333333,
              "#9c179e"
             ],
             [
              0.4444444444444444,
              "#bd3786"
             ],
             [
              0.5555555555555556,
              "#d8576b"
             ],
             [
              0.6666666666666666,
              "#ed7953"
             ],
             [
              0.7777777777777778,
              "#fb9f3a"
             ],
             [
              0.8888888888888888,
              "#fdca26"
             ],
             [
              1,
              "#f0f921"
             ]
            ],
            "type": "contour"
           }
          ],
          "contourcarpet": [
           {
            "colorbar": {
             "outlinewidth": 0,
             "ticks": ""
            },
            "type": "contourcarpet"
           }
          ],
          "heatmap": [
           {
            "colorbar": {
             "outlinewidth": 0,
             "ticks": ""
            },
            "colorscale": [
             [
              0,
              "#0d0887"
             ],
             [
              0.1111111111111111,
              "#46039f"
             ],
             [
              0.2222222222222222,
              "#7201a8"
             ],
             [
              0.3333333333333333,
              "#9c179e"
             ],
             [
              0.4444444444444444,
              "#bd3786"
             ],
             [
              0.5555555555555556,
              "#d8576b"
             ],
             [
              0.6666666666666666,
              "#ed7953"
             ],
             [
              0.7777777777777778,
              "#fb9f3a"
             ],
             [
              0.8888888888888888,
              "#fdca26"
             ],
             [
              1,
              "#f0f921"
             ]
            ],
            "type": "heatmap"
           }
          ],
          "heatmapgl": [
           {
            "colorbar": {
             "outlinewidth": 0,
             "ticks": ""
            },
            "colorscale": [
             [
              0,
              "#0d0887"
             ],
             [
              0.1111111111111111,
              "#46039f"
             ],
             [
              0.2222222222222222,
              "#7201a8"
             ],
             [
              0.3333333333333333,
              "#9c179e"
             ],
             [
              0.4444444444444444,
              "#bd3786"
             ],
             [
              0.5555555555555556,
              "#d8576b"
             ],
             [
              0.6666666666666666,
              "#ed7953"
             ],
             [
              0.7777777777777778,
              "#fb9f3a"
             ],
             [
              0.8888888888888888,
              "#fdca26"
             ],
             [
              1,
              "#f0f921"
             ]
            ],
            "type": "heatmapgl"
           }
          ],
          "histogram": [
           {
            "marker": {
             "colorbar": {
              "outlinewidth": 0,
              "ticks": ""
             }
            },
            "type": "histogram"
           }
          ],
          "histogram2d": [
           {
            "colorbar": {
             "outlinewidth": 0,
             "ticks": ""
            },
            "colorscale": [
             [
              0,
              "#0d0887"
             ],
             [
              0.1111111111111111,
              "#46039f"
             ],
             [
              0.2222222222222222,
              "#7201a8"
             ],
             [
              0.3333333333333333,
              "#9c179e"
             ],
             [
              0.4444444444444444,
              "#bd3786"
             ],
             [
              0.5555555555555556,
              "#d8576b"
             ],
             [
              0.6666666666666666,
              "#ed7953"
             ],
             [
              0.7777777777777778,
              "#fb9f3a"
             ],
             [
              0.8888888888888888,
              "#fdca26"
             ],
             [
              1,
              "#f0f921"
             ]
            ],
            "type": "histogram2d"
           }
          ],
          "histogram2dcontour": [
           {
            "colorbar": {
             "outlinewidth": 0,
             "ticks": ""
            },
            "colorscale": [
             [
              0,
              "#0d0887"
             ],
             [
              0.1111111111111111,
              "#46039f"
             ],
             [
              0.2222222222222222,
              "#7201a8"
             ],
             [
              0.3333333333333333,
              "#9c179e"
             ],
             [
              0.4444444444444444,
              "#bd3786"
             ],
             [
              0.5555555555555556,
              "#d8576b"
             ],
             [
              0.6666666666666666,
              "#ed7953"
             ],
             [
              0.7777777777777778,
              "#fb9f3a"
             ],
             [
              0.8888888888888888,
              "#fdca26"
             ],
             [
              1,
              "#f0f921"
             ]
            ],
            "type": "histogram2dcontour"
           }
          ],
          "mesh3d": [
           {
            "colorbar": {
             "outlinewidth": 0,
             "ticks": ""
            },
            "type": "mesh3d"
           }
          ],
          "parcoords": [
           {
            "line": {
             "colorbar": {
              "outlinewidth": 0,
              "ticks": ""
             }
            },
            "type": "parcoords"
           }
          ],
          "pie": [
           {
            "automargin": true,
            "type": "pie"
           }
          ],
          "scatter": [
           {
            "marker": {
             "colorbar": {
              "outlinewidth": 0,
              "ticks": ""
             }
            },
            "type": "scatter"
           }
          ],
          "scatter3d": [
           {
            "line": {
             "colorbar": {
              "outlinewidth": 0,
              "ticks": ""
             }
            },
            "marker": {
             "colorbar": {
              "outlinewidth": 0,
              "ticks": ""
             }
            },
            "type": "scatter3d"
           }
          ],
          "scattercarpet": [
           {
            "marker": {
             "colorbar": {
              "outlinewidth": 0,
              "ticks": ""
             }
            },
            "type": "scattercarpet"
           }
          ],
          "scattergeo": [
           {
            "marker": {
             "colorbar": {
              "outlinewidth": 0,
              "ticks": ""
             }
            },
            "type": "scattergeo"
           }
          ],
          "scattergl": [
           {
            "marker": {
             "colorbar": {
              "outlinewidth": 0,
              "ticks": ""
             }
            },
            "type": "scattergl"
           }
          ],
          "scattermapbox": [
           {
            "marker": {
             "colorbar": {
              "outlinewidth": 0,
              "ticks": ""
             }
            },
            "type": "scattermapbox"
           }
          ],
          "scatterpolar": [
           {
            "marker": {
             "colorbar": {
              "outlinewidth": 0,
              "ticks": ""
             }
            },
            "type": "scatterpolar"
           }
          ],
          "scatterpolargl": [
           {
            "marker": {
             "colorbar": {
              "outlinewidth": 0,
              "ticks": ""
             }
            },
            "type": "scatterpolargl"
           }
          ],
          "scatterternary": [
           {
            "marker": {
             "colorbar": {
              "outlinewidth": 0,
              "ticks": ""
             }
            },
            "type": "scatterternary"
           }
          ],
          "surface": [
           {
            "colorbar": {
             "outlinewidth": 0,
             "ticks": ""
            },
            "colorscale": [
             [
              0,
              "#0d0887"
             ],
             [
              0.1111111111111111,
              "#46039f"
             ],
             [
              0.2222222222222222,
              "#7201a8"
             ],
             [
              0.3333333333333333,
              "#9c179e"
             ],
             [
              0.4444444444444444,
              "#bd3786"
             ],
             [
              0.5555555555555556,
              "#d8576b"
             ],
             [
              0.6666666666666666,
              "#ed7953"
             ],
             [
              0.7777777777777778,
              "#fb9f3a"
             ],
             [
              0.8888888888888888,
              "#fdca26"
             ],
             [
              1,
              "#f0f921"
             ]
            ],
            "type": "surface"
           }
          ],
          "table": [
           {
            "cells": {
             "fill": {
              "color": "#EBF0F8"
             },
             "line": {
              "color": "white"
             }
            },
            "header": {
             "fill": {
              "color": "#C8D4E3"
             },
             "line": {
              "color": "white"
             }
            },
            "type": "table"
           }
          ]
         },
         "layout": {
          "annotationdefaults": {
           "arrowcolor": "#2a3f5f",
           "arrowhead": 0,
           "arrowwidth": 1
          },
          "coloraxis": {
           "colorbar": {
            "outlinewidth": 0,
            "ticks": ""
           }
          },
          "colorscale": {
           "diverging": [
            [
             0,
             "#8e0152"
            ],
            [
             0.1,
             "#c51b7d"
            ],
            [
             0.2,
             "#de77ae"
            ],
            [
             0.3,
             "#f1b6da"
            ],
            [
             0.4,
             "#fde0ef"
            ],
            [
             0.5,
             "#f7f7f7"
            ],
            [
             0.6,
             "#e6f5d0"
            ],
            [
             0.7,
             "#b8e186"
            ],
            [
             0.8,
             "#7fbc41"
            ],
            [
             0.9,
             "#4d9221"
            ],
            [
             1,
             "#276419"
            ]
           ],
           "sequential": [
            [
             0,
             "#0d0887"
            ],
            [
             0.1111111111111111,
             "#46039f"
            ],
            [
             0.2222222222222222,
             "#7201a8"
            ],
            [
             0.3333333333333333,
             "#9c179e"
            ],
            [
             0.4444444444444444,
             "#bd3786"
            ],
            [
             0.5555555555555556,
             "#d8576b"
            ],
            [
             0.6666666666666666,
             "#ed7953"
            ],
            [
             0.7777777777777778,
             "#fb9f3a"
            ],
            [
             0.8888888888888888,
             "#fdca26"
            ],
            [
             1,
             "#f0f921"
            ]
           ],
           "sequentialminus": [
            [
             0,
             "#0d0887"
            ],
            [
             0.1111111111111111,
             "#46039f"
            ],
            [
             0.2222222222222222,
             "#7201a8"
            ],
            [
             0.3333333333333333,
             "#9c179e"
            ],
            [
             0.4444444444444444,
             "#bd3786"
            ],
            [
             0.5555555555555556,
             "#d8576b"
            ],
            [
             0.6666666666666666,
             "#ed7953"
            ],
            [
             0.7777777777777778,
             "#fb9f3a"
            ],
            [
             0.8888888888888888,
             "#fdca26"
            ],
            [
             1,
             "#f0f921"
            ]
           ]
          },
          "colorway": [
           "#636efa",
           "#EF553B",
           "#00cc96",
           "#ab63fa",
           "#FFA15A",
           "#19d3f3",
           "#FF6692",
           "#B6E880",
           "#FF97FF",
           "#FECB52"
          ],
          "font": {
           "color": "#2a3f5f"
          },
          "geo": {
           "bgcolor": "white",
           "lakecolor": "white",
           "landcolor": "#E5ECF6",
           "showlakes": true,
           "showland": true,
           "subunitcolor": "white"
          },
          "hoverlabel": {
           "align": "left"
          },
          "hovermode": "closest",
          "mapbox": {
           "style": "light"
          },
          "paper_bgcolor": "white",
          "plot_bgcolor": "#E5ECF6",
          "polar": {
           "angularaxis": {
            "gridcolor": "white",
            "linecolor": "white",
            "ticks": ""
           },
           "bgcolor": "#E5ECF6",
           "radialaxis": {
            "gridcolor": "white",
            "linecolor": "white",
            "ticks": ""
           }
          },
          "scene": {
           "xaxis": {
            "backgroundcolor": "#E5ECF6",
            "gridcolor": "white",
            "gridwidth": 2,
            "linecolor": "white",
            "showbackground": true,
            "ticks": "",
            "zerolinecolor": "white"
           },
           "yaxis": {
            "backgroundcolor": "#E5ECF6",
            "gridcolor": "white",
            "gridwidth": 2,
            "linecolor": "white",
            "showbackground": true,
            "ticks": "",
            "zerolinecolor": "white"
           },
           "zaxis": {
            "backgroundcolor": "#E5ECF6",
            "gridcolor": "white",
            "gridwidth": 2,
            "linecolor": "white",
            "showbackground": true,
            "ticks": "",
            "zerolinecolor": "white"
           }
          },
          "shapedefaults": {
           "line": {
            "color": "#2a3f5f"
           }
          },
          "ternary": {
           "aaxis": {
            "gridcolor": "white",
            "linecolor": "white",
            "ticks": ""
           },
           "baxis": {
            "gridcolor": "white",
            "linecolor": "white",
            "ticks": ""
           },
           "bgcolor": "#E5ECF6",
           "caxis": {
            "gridcolor": "white",
            "linecolor": "white",
            "ticks": ""
           }
          },
          "title": {
           "x": 0.05
          },
          "xaxis": {
           "automargin": true,
           "gridcolor": "white",
           "linecolor": "white",
           "ticks": "",
           "title": {
            "standoff": 15
           },
           "zerolinecolor": "white",
           "zerolinewidth": 2
          },
          "yaxis": {
           "automargin": true,
           "gridcolor": "white",
           "linecolor": "white",
           "ticks": "",
           "title": {
            "standoff": 15
           },
           "zerolinecolor": "white",
           "zerolinewidth": 2
          }
         }
        },
        "title": {
         "text": "Figure 2 - Top 10 by Category ",
         "x": 0.5
        },
        "xaxis": {
         "title": {
          "text": "Category"
         }
        },
        "yaxis": {
         "title": {
          "text": "Number of Incidents"
         }
        }
       }
      },
      "text/html": [
       "<div>\n",
       "        \n",
       "        \n",
       "            <div id=\"220242aa-2391-4da3-b564-458bb0086ff4\" class=\"plotly-graph-div\" style=\"height:525px; width:100%;\"></div>\n",
       "            <script type=\"text/javascript\">\n",
       "                require([\"plotly\"], function(Plotly) {\n",
       "                    window.PLOTLYENV=window.PLOTLYENV || {};\n",
       "                    \n",
       "                if (document.getElementById(\"220242aa-2391-4da3-b564-458bb0086ff4\")) {\n",
       "                    Plotly.newPlot(\n",
       "                        '220242aa-2391-4da3-b564-458bb0086ff4',\n",
       "                        [{\"marker\": {\"color\": [40409, 19599, 17866, 13577, 8589, 6419, 5914, 5802, 5782, 4338], \"colorscale\": [[0.0, \"#440154\"], [0.1111111111111111, \"#482878\"], [0.2222222222222222, \"#3e4989\"], [0.3333333333333333, \"#31688e\"], [0.4444444444444444, \"#26828e\"], [0.5555555555555556, \"#1f9e89\"], [0.6666666666666666, \"#35b779\"], [0.7777777777777778, \"#6ece58\"], [0.8888888888888888, \"#b5de2b\"], [1.0, \"#fde725\"]]}, \"text\": [40409.0, 19599.0, 17866.0, 13577.0, 8589.0, 6419.0, 5914.0, 5802.0, 5782.0, 4338.0], \"textposition\": \"outside\", \"type\": \"bar\", \"x\": [\"LARCENY/THEFT\", \"OTHER OFFENSES\", \"NON-CRIMINAL\", \"ASSAULT\", \"VANDALISM\", \"VEHICLE THEFT\", \"WARRANTS\", \"BURGLARY\", \"SUSPICIOUS OCC\", \"MISSING PERSON\"], \"y\": [40409, 19599, 17866, 13577, 8589, 6419, 5914, 5802, 5782, 4338]}],\n",
       "                        {\"template\": {\"data\": {\"bar\": [{\"error_x\": {\"color\": \"#2a3f5f\"}, \"error_y\": {\"color\": \"#2a3f5f\"}, \"marker\": {\"line\": {\"color\": \"#E5ECF6\", \"width\": 0.5}}, \"type\": \"bar\"}], \"barpolar\": [{\"marker\": {\"line\": {\"color\": \"#E5ECF6\", \"width\": 0.5}}, \"type\": \"barpolar\"}], \"carpet\": [{\"aaxis\": {\"endlinecolor\": \"#2a3f5f\", \"gridcolor\": \"white\", \"linecolor\": \"white\", \"minorgridcolor\": \"white\", \"startlinecolor\": \"#2a3f5f\"}, \"baxis\": {\"endlinecolor\": \"#2a3f5f\", \"gridcolor\": \"white\", \"linecolor\": \"white\", \"minorgridcolor\": \"white\", \"startlinecolor\": \"#2a3f5f\"}, \"type\": \"carpet\"}], \"choropleth\": [{\"colorbar\": {\"outlinewidth\": 0, \"ticks\": \"\"}, \"type\": \"choropleth\"}], \"contour\": [{\"colorbar\": {\"outlinewidth\": 0, \"ticks\": \"\"}, \"colorscale\": [[0.0, \"#0d0887\"], [0.1111111111111111, \"#46039f\"], [0.2222222222222222, \"#7201a8\"], [0.3333333333333333, \"#9c179e\"], [0.4444444444444444, \"#bd3786\"], [0.5555555555555556, \"#d8576b\"], [0.6666666666666666, \"#ed7953\"], [0.7777777777777778, \"#fb9f3a\"], [0.8888888888888888, \"#fdca26\"], [1.0, \"#f0f921\"]], \"type\": \"contour\"}], \"contourcarpet\": [{\"colorbar\": {\"outlinewidth\": 0, \"ticks\": \"\"}, \"type\": \"contourcarpet\"}], \"heatmap\": [{\"colorbar\": {\"outlinewidth\": 0, \"ticks\": \"\"}, \"colorscale\": [[0.0, \"#0d0887\"], [0.1111111111111111, \"#46039f\"], [0.2222222222222222, \"#7201a8\"], [0.3333333333333333, \"#9c179e\"], [0.4444444444444444, \"#bd3786\"], [0.5555555555555556, \"#d8576b\"], [0.6666666666666666, \"#ed7953\"], [0.7777777777777778, \"#fb9f3a\"], [0.8888888888888888, \"#fdca26\"], [1.0, \"#f0f921\"]], \"type\": \"heatmap\"}], \"heatmapgl\": [{\"colorbar\": {\"outlinewidth\": 0, \"ticks\": \"\"}, \"colorscale\": [[0.0, \"#0d0887\"], [0.1111111111111111, \"#46039f\"], [0.2222222222222222, \"#7201a8\"], [0.3333333333333333, \"#9c179e\"], [0.4444444444444444, \"#bd3786\"], [0.5555555555555556, \"#d8576b\"], [0.6666666666666666, \"#ed7953\"], [0.7777777777777778, \"#fb9f3a\"], [0.8888888888888888, \"#fdca26\"], [1.0, \"#f0f921\"]], \"type\": \"heatmapgl\"}], \"histogram\": [{\"marker\": {\"colorbar\": {\"outlinewidth\": 0, \"ticks\": \"\"}}, \"type\": \"histogram\"}], \"histogram2d\": [{\"colorbar\": {\"outlinewidth\": 0, \"ticks\": \"\"}, \"colorscale\": [[0.0, \"#0d0887\"], [0.1111111111111111, \"#46039f\"], [0.2222222222222222, \"#7201a8\"], [0.3333333333333333, \"#9c179e\"], [0.4444444444444444, \"#bd3786\"], [0.5555555555555556, \"#d8576b\"], [0.6666666666666666, \"#ed7953\"], [0.7777777777777778, \"#fb9f3a\"], [0.8888888888888888, \"#fdca26\"], [1.0, \"#f0f921\"]], \"type\": \"histogram2d\"}], \"histogram2dcontour\": [{\"colorbar\": {\"outlinewidth\": 0, \"ticks\": \"\"}, \"colorscale\": [[0.0, \"#0d0887\"], [0.1111111111111111, \"#46039f\"], [0.2222222222222222, \"#7201a8\"], [0.3333333333333333, \"#9c179e\"], [0.4444444444444444, \"#bd3786\"], [0.5555555555555556, \"#d8576b\"], [0.6666666666666666, \"#ed7953\"], [0.7777777777777778, \"#fb9f3a\"], [0.8888888888888888, \"#fdca26\"], [1.0, \"#f0f921\"]], \"type\": \"histogram2dcontour\"}], \"mesh3d\": [{\"colorbar\": {\"outlinewidth\": 0, \"ticks\": \"\"}, \"type\": \"mesh3d\"}], \"parcoords\": [{\"line\": {\"colorbar\": {\"outlinewidth\": 0, \"ticks\": \"\"}}, \"type\": \"parcoords\"}], \"pie\": [{\"automargin\": true, \"type\": \"pie\"}], \"scatter\": [{\"marker\": {\"colorbar\": {\"outlinewidth\": 0, \"ticks\": \"\"}}, \"type\": \"scatter\"}], \"scatter3d\": [{\"line\": {\"colorbar\": {\"outlinewidth\": 0, \"ticks\": \"\"}}, \"marker\": {\"colorbar\": {\"outlinewidth\": 0, \"ticks\": \"\"}}, \"type\": \"scatter3d\"}], \"scattercarpet\": [{\"marker\": {\"colorbar\": {\"outlinewidth\": 0, \"ticks\": \"\"}}, \"type\": \"scattercarpet\"}], \"scattergeo\": [{\"marker\": {\"colorbar\": {\"outlinewidth\": 0, \"ticks\": \"\"}}, \"type\": \"scattergeo\"}], \"scattergl\": [{\"marker\": {\"colorbar\": {\"outlinewidth\": 0, \"ticks\": \"\"}}, \"type\": \"scattergl\"}], \"scattermapbox\": [{\"marker\": {\"colorbar\": {\"outlinewidth\": 0, \"ticks\": \"\"}}, \"type\": \"scattermapbox\"}], \"scatterpolar\": [{\"marker\": {\"colorbar\": {\"outlinewidth\": 0, \"ticks\": \"\"}}, \"type\": \"scatterpolar\"}], \"scatterpolargl\": [{\"marker\": {\"colorbar\": {\"outlinewidth\": 0, \"ticks\": \"\"}}, \"type\": \"scatterpolargl\"}], \"scatterternary\": [{\"marker\": {\"colorbar\": {\"outlinewidth\": 0, \"ticks\": \"\"}}, \"type\": \"scatterternary\"}], \"surface\": [{\"colorbar\": {\"outlinewidth\": 0, \"ticks\": \"\"}, \"colorscale\": [[0.0, \"#0d0887\"], [0.1111111111111111, \"#46039f\"], [0.2222222222222222, \"#7201a8\"], [0.3333333333333333, \"#9c179e\"], [0.4444444444444444, \"#bd3786\"], [0.5555555555555556, \"#d8576b\"], [0.6666666666666666, \"#ed7953\"], [0.7777777777777778, \"#fb9f3a\"], [0.8888888888888888, \"#fdca26\"], [1.0, \"#f0f921\"]], \"type\": \"surface\"}], \"table\": [{\"cells\": {\"fill\": {\"color\": \"#EBF0F8\"}, \"line\": {\"color\": \"white\"}}, \"header\": {\"fill\": {\"color\": \"#C8D4E3\"}, \"line\": {\"color\": \"white\"}}, \"type\": \"table\"}]}, \"layout\": {\"annotationdefaults\": {\"arrowcolor\": \"#2a3f5f\", \"arrowhead\": 0, \"arrowwidth\": 1}, \"coloraxis\": {\"colorbar\": {\"outlinewidth\": 0, \"ticks\": \"\"}}, \"colorscale\": {\"diverging\": [[0, \"#8e0152\"], [0.1, \"#c51b7d\"], [0.2, \"#de77ae\"], [0.3, \"#f1b6da\"], [0.4, \"#fde0ef\"], [0.5, \"#f7f7f7\"], [0.6, \"#e6f5d0\"], [0.7, \"#b8e186\"], [0.8, \"#7fbc41\"], [0.9, \"#4d9221\"], [1, \"#276419\"]], \"sequential\": [[0.0, \"#0d0887\"], [0.1111111111111111, \"#46039f\"], [0.2222222222222222, \"#7201a8\"], [0.3333333333333333, \"#9c179e\"], [0.4444444444444444, \"#bd3786\"], [0.5555555555555556, \"#d8576b\"], [0.6666666666666666, \"#ed7953\"], [0.7777777777777778, \"#fb9f3a\"], [0.8888888888888888, \"#fdca26\"], [1.0, \"#f0f921\"]], \"sequentialminus\": [[0.0, \"#0d0887\"], [0.1111111111111111, \"#46039f\"], [0.2222222222222222, \"#7201a8\"], [0.3333333333333333, \"#9c179e\"], [0.4444444444444444, \"#bd3786\"], [0.5555555555555556, \"#d8576b\"], [0.6666666666666666, \"#ed7953\"], [0.7777777777777778, \"#fb9f3a\"], [0.8888888888888888, \"#fdca26\"], [1.0, \"#f0f921\"]]}, \"colorway\": [\"#636efa\", \"#EF553B\", \"#00cc96\", \"#ab63fa\", \"#FFA15A\", \"#19d3f3\", \"#FF6692\", \"#B6E880\", \"#FF97FF\", \"#FECB52\"], \"font\": {\"color\": \"#2a3f5f\"}, \"geo\": {\"bgcolor\": \"white\", \"lakecolor\": \"white\", \"landcolor\": \"#E5ECF6\", \"showlakes\": true, \"showland\": true, \"subunitcolor\": \"white\"}, \"hoverlabel\": {\"align\": \"left\"}, \"hovermode\": \"closest\", \"mapbox\": {\"style\": \"light\"}, \"paper_bgcolor\": \"white\", \"plot_bgcolor\": \"#E5ECF6\", \"polar\": {\"angularaxis\": {\"gridcolor\": \"white\", \"linecolor\": \"white\", \"ticks\": \"\"}, \"bgcolor\": \"#E5ECF6\", \"radialaxis\": {\"gridcolor\": \"white\", \"linecolor\": \"white\", \"ticks\": \"\"}}, \"scene\": {\"xaxis\": {\"backgroundcolor\": \"#E5ECF6\", \"gridcolor\": \"white\", \"gridwidth\": 2, \"linecolor\": \"white\", \"showbackground\": true, \"ticks\": \"\", \"zerolinecolor\": \"white\"}, \"yaxis\": {\"backgroundcolor\": \"#E5ECF6\", \"gridcolor\": \"white\", \"gridwidth\": 2, \"linecolor\": \"white\", \"showbackground\": true, \"ticks\": \"\", \"zerolinecolor\": \"white\"}, \"zaxis\": {\"backgroundcolor\": \"#E5ECF6\", \"gridcolor\": \"white\", \"gridwidth\": 2, \"linecolor\": \"white\", \"showbackground\": true, \"ticks\": \"\", \"zerolinecolor\": \"white\"}}, \"shapedefaults\": {\"line\": {\"color\": \"#2a3f5f\"}}, \"ternary\": {\"aaxis\": {\"gridcolor\": \"white\", \"linecolor\": \"white\", \"ticks\": \"\"}, \"baxis\": {\"gridcolor\": \"white\", \"linecolor\": \"white\", \"ticks\": \"\"}, \"bgcolor\": \"#E5ECF6\", \"caxis\": {\"gridcolor\": \"white\", \"linecolor\": \"white\", \"ticks\": \"\"}}, \"title\": {\"x\": 0.05}, \"xaxis\": {\"automargin\": true, \"gridcolor\": \"white\", \"linecolor\": \"white\", \"ticks\": \"\", \"title\": {\"standoff\": 15}, \"zerolinecolor\": \"white\", \"zerolinewidth\": 2}, \"yaxis\": {\"automargin\": true, \"gridcolor\": \"white\", \"linecolor\": \"white\", \"ticks\": \"\", \"title\": {\"standoff\": 15}, \"zerolinecolor\": \"white\", \"zerolinewidth\": 2}}}, \"title\": {\"text\": \"Figure 2 - Top 10 by Category \", \"x\": 0.5}, \"xaxis\": {\"title\": {\"text\": \"Category\"}}, \"yaxis\": {\"title\": {\"text\": \"Number of Incidents\"}}},\n",
       "                        {\"responsive\": true}\n",
       "                    ).then(function(){\n",
       "                            \n",
       "var gd = document.getElementById('220242aa-2391-4da3-b564-458bb0086ff4');\n",
       "var x = new MutationObserver(function (mutations, observer) {{\n",
       "        var display = window.getComputedStyle(gd).display;\n",
       "        if (!display || display === 'none') {{\n",
       "            console.log([gd, 'removed!']);\n",
       "            Plotly.purge(gd);\n",
       "            observer.disconnect();\n",
       "        }}\n",
       "}});\n",
       "\n",
       "// Listen for the removal of the full notebook cells\n",
       "var notebookContainer = gd.closest('#notebook-container');\n",
       "if (notebookContainer) {{\n",
       "    x.observe(notebookContainer, {childList: true});\n",
       "}}\n",
       "\n",
       "// Listen for the clearing of the current output cell\n",
       "var outputEl = gd.closest('.output');\n",
       "if (outputEl) {{\n",
       "    x.observe(outputEl, {childList: true});\n",
       "}}\n",
       "\n",
       "                        })\n",
       "                };\n",
       "                });\n",
       "            </script>\n",
       "        </div>"
      ]
     },
     "metadata": {},
     "output_type": "display_data"
    },
    {
     "data": {
      "image/png": "[encoded data removed]"
     },
     "metadata": {},
     "output_type": "display_data"
    }
   ],
   "source": [
    "# Plotting Top 10 by Category\n",
    "value = incidents['Category'].value_counts().round(0).nlargest(10)\n",
    "label = value.index\n",
    "trace = go.Bar(y=value, \n",
    "               x=label,text = value,textposition= \"outside\",\n",
    "               marker={'color': value,\n",
    "                   'colorscale': 'Viridis'})\n",
    "layout = go.Layout(title=\"Figure 2 - Top 10 by Category \", \n",
    "                   xaxis={'title' : \"Category\"},\n",
    "                  yaxis={'title' : \"Number of Incidents\"},\n",
    "                  title_x=0.5)\n",
    "fig = go.Figure(data=trace, layout=layout)\n",
    "iplot(fig)\n",
    "fig.show('png')"
   ]
  },
  {
   "cell_type": "code",
   "execution_count": 100,
   "metadata": {},
   "outputs": [
    {
     "data": {
      "text/html": [
       "\n",
       "        <script src=\"/static/components/requirejs/require.js\"></script>\n",
       "        <script>\n",
       "          requirejs.config({\n",
       "            paths: {\n",
       "              base: '/static/base',\n",
       "              plotly: 'https://cdn.plot.ly/plotly-latest.min.js?noext',\n",
       "            },\n",
       "          });\n",
       "        </script>\n",
       "        "
      ],
      "text/plain": [
       "<IPython.core.display.HTML object>"
      ]
     },
     "metadata": {},
     "output_type": "display_data"
    },
    {
     "data": {
      "text/html": [
       "\n",
       "        <script src=\"/static/components/requirejs/require.js\"></script>\n",
       "        <script>\n",
       "          requirejs.config({\n",
       "            paths: {\n",
       "              base: '/static/base',\n",
       "              plotly: 'https://cdn.plot.ly/plotly-latest.min.js?noext',\n",
       "            },\n",
       "          });\n",
       "        </script>\n",
       "        "
      ],
      "text/plain": [
       "<IPython.core.display.HTML object>"
      ]
     },
     "metadata": {},
     "output_type": "display_data"
    },
    {
     "data": {
      "text/html": [
       "\n",
       "        <script src=\"/static/components/requirejs/require.js\"></script>\n",
       "        <script>\n",
       "          requirejs.config({\n",
       "            paths: {\n",
       "              base: '/static/base',\n",
       "              plotly: 'https://cdn.plot.ly/plotly-latest.min.js?noext',\n",
       "            },\n",
       "          });\n",
       "        </script>\n",
       "        "
      ],
      "text/plain": [
       "<IPython.core.display.HTML object>"
      ]
     },
     "metadata": {},
     "output_type": "display_data"
    },
    {
     "data": {
      "text/html": [
       "\n",
       "        <script src=\"/static/components/requirejs/require.js\"></script>\n",
       "        <script>\n",
       "          requirejs.config({\n",
       "            paths: {\n",
       "              base: '/static/base',\n",
       "              plotly: 'https://cdn.plot.ly/plotly-latest.min.js?noext',\n",
       "            },\n",
       "          });\n",
       "        </script>\n",
       "        "
      ],
      "text/plain": [
       "<IPython.core.display.HTML object>"
      ]
     },
     "metadata": {},
     "output_type": "display_data"
    },
    {
     "data": {
      "text/html": [
       "\n",
       "        <script src=\"/static/components/requirejs/require.js\"></script>\n",
       "        <script>\n",
       "          requirejs.config({\n",
       "            paths: {\n",
       "              base: '/static/base',\n",
       "              plotly: 'https://cdn.plot.ly/plotly-latest.min.js?noext',\n",
       "            },\n",
       "          });\n",
       "        </script>\n",
       "        "
      ],
      "text/plain": [
       "<IPython.core.display.HTML object>"
      ]
     },
     "metadata": {},
     "output_type": "display_data"
    },
    {
     "data": {
      "text/html": [
       "\n",
       "        <script src=\"/static/components/requirejs/require.js\"></script>\n",
       "        <script>\n",
       "          requirejs.config({\n",
       "            paths: {\n",
       "              base: '/static/base',\n",
       "              plotly: 'https://cdn.plot.ly/plotly-latest.min.js?noext',\n",
       "            },\n",
       "          });\n",
       "        </script>\n",
       "        "
      ],
      "text/plain": [
       "<IPython.core.display.HTML object>"
      ]
     },
     "metadata": {},
     "output_type": "display_data"
    },
    {
     "data": {
      "text/html": [
       "\n",
       "        <script src=\"/static/components/requirejs/require.js\"></script>\n",
       "        <script>\n",
       "          requirejs.config({\n",
       "            paths: {\n",
       "              base: '/static/base',\n",
       "              plotly: 'https://cdn.plot.ly/plotly-latest.min.js?noext',\n",
       "            },\n",
       "          });\n",
       "        </script>\n",
       "        "
      ],
      "text/plain": [
       "<IPython.core.display.HTML object>"
      ]
     },
     "metadata": {},
     "output_type": "display_data"
    },
    {
     "data": {
      "text/plain": [
       "12:00    3842\n",
       "00:01    3397\n",
       "18:00    3165\n",
       "19:00    2912\n",
       "20:00    2902\n",
       "17:00    2830\n",
       "21:00    2590\n",
       "22:00    2479\n",
       "16:00    2443\n",
       "15:00    2406\n",
       "Name: Time, dtype: int64"
      ]
     },
     "execution_count": 100,
     "metadata": {},
     "output_type": "execute_result"
    }
   ],
   "source": [
    "# Top 10 by Time\n",
    "incidents['Time'].value_counts().nlargest(10)"
   ]
  },
  {
   "cell_type": "code",
   "execution_count": 101,
   "metadata": {},
   "outputs": [
    {
     "data": {
      "text/html": [
       "\n",
       "        <script src=\"/static/components/requirejs/require.js\"></script>\n",
       "        <script>\n",
       "          requirejs.config({\n",
       "            paths: {\n",
       "              base: '/static/base',\n",
       "              plotly: 'https://cdn.plot.ly/plotly-latest.min.js?noext',\n",
       "            },\n",
       "          });\n",
       "        </script>\n",
       "        "
      ],
      "text/plain": [
       "<IPython.core.display.HTML object>"
      ]
     },
     "metadata": {},
     "output_type": "display_data"
    },
    {
     "data": {
      "text/html": [
       "\n",
       "        <script src=\"/static/components/requirejs/require.js\"></script>\n",
       "        <script>\n",
       "          requirejs.config({\n",
       "            paths: {\n",
       "              base: '/static/base',\n",
       "              plotly: 'https://cdn.plot.ly/plotly-latest.min.js?noext',\n",
       "            },\n",
       "          });\n",
       "        </script>\n",
       "        "
      ],
      "text/plain": [
       "<IPython.core.display.HTML object>"
      ]
     },
     "metadata": {},
     "output_type": "display_data"
    },
    {
     "data": {
      "text/html": [
       "\n",
       "        <script src=\"/static/components/requirejs/require.js\"></script>\n",
       "        <script>\n",
       "          requirejs.config({\n",
       "            paths: {\n",
       "              base: '/static/base',\n",
       "              plotly: 'https://cdn.plot.ly/plotly-latest.min.js?noext',\n",
       "            },\n",
       "          });\n",
       "        </script>\n",
       "        "
      ],
      "text/plain": [
       "<IPython.core.display.HTML object>"
      ]
     },
     "metadata": {},
     "output_type": "display_data"
    },
    {
     "data": {
      "text/html": [
       "\n",
       "        <script src=\"/static/components/requirejs/require.js\"></script>\n",
       "        <script>\n",
       "          requirejs.config({\n",
       "            paths: {\n",
       "              base: '/static/base',\n",
       "              plotly: 'https://cdn.plot.ly/plotly-latest.min.js?noext',\n",
       "            },\n",
       "          });\n",
       "        </script>\n",
       "        "
      ],
      "text/plain": [
       "<IPython.core.display.HTML object>"
      ]
     },
     "metadata": {},
     "output_type": "display_data"
    },
    {
     "data": {
      "text/html": [
       "\n",
       "        <script src=\"/static/components/requirejs/require.js\"></script>\n",
       "        <script>\n",
       "          requirejs.config({\n",
       "            paths: {\n",
       "              base: '/static/base',\n",
       "              plotly: 'https://cdn.plot.ly/plotly-latest.min.js?noext',\n",
       "            },\n",
       "          });\n",
       "        </script>\n",
       "        "
      ],
      "text/plain": [
       "<IPython.core.display.HTML object>"
      ]
     },
     "metadata": {},
     "output_type": "display_data"
    },
    {
     "data": {
      "text/html": [
       "\n",
       "        <script src=\"/static/components/requirejs/require.js\"></script>\n",
       "        <script>\n",
       "          requirejs.config({\n",
       "            paths: {\n",
       "              base: '/static/base',\n",
       "              plotly: 'https://cdn.plot.ly/plotly-latest.min.js?noext',\n",
       "            },\n",
       "          });\n",
       "        </script>\n",
       "        "
      ],
      "text/plain": [
       "<IPython.core.display.HTML object>"
      ]
     },
     "metadata": {},
     "output_type": "display_data"
    },
    {
     "data": {
      "text/html": [
       "\n",
       "        <script src=\"/static/components/requirejs/require.js\"></script>\n",
       "        <script>\n",
       "          requirejs.config({\n",
       "            paths: {\n",
       "              base: '/static/base',\n",
       "              plotly: 'https://cdn.plot.ly/plotly-latest.min.js?noext',\n",
       "            },\n",
       "          });\n",
       "        </script>\n",
       "        "
      ],
      "text/plain": [
       "<IPython.core.display.HTML object>"
      ]
     },
     "metadata": {},
     "output_type": "display_data"
    },
    {
     "data": {
      "application/vnd.plotly.v1+json": {
       "config": {
        "linkText": "Export to plot.ly",
        "plotlyServerURL": "https://plot.ly",
        "showLink": false
       },
       "data": [
        {
         "marker": {
          "color": [
           3842,
           3397,
           3165,
           2912,
           2902,
           2830,
           2590,
           2479,
           2443,
           2406
          ],
          "colorscale": [
           [
            0,
            "rgb(161, 105, 40)"
           ],
           [
            0.16666666666666666,
            "rgb(189, 146, 90)"
           ],
           [
            0.3333333333333333,
            "rgb(214, 189, 141)"
           ],
           [
            0.5,
            "rgb(237, 234, 194)"
           ],
           [
            0.6666666666666666,
            "rgb(181, 200, 184)"
           ],
           [
            0.8333333333333334,
            "rgb(121, 167, 172)"
           ],
           [
            1,
            "rgb(40, 135, 161)"
           ]
          ]
         },
         "text": [
          3842,
          3397,
          3165,
          2912,
          2902,
          2830,
          2590,
          2479,
          2443,
          2406
         ],
         "textposition": "outside",
         "type": "bar",
         "x": [
          "12:00",
          "00:01",
          "18:00",
          "19:00",
          "20:00",
          "17:00",
          "21:00",
          "22:00",
          "16:00",
          "15:00"
         ],
         "y": [
          3842,
          3397,
          3165,
          2912,
          2902,
          2830,
          2590,
          2479,
          2443,
          2406
         ]
        }
       ],
       "layout": {
        "template": {
         "data": {
          "bar": [
           {
            "error_x": {
             "color": "#2a3f5f"
            },
            "error_y": {
             "color": "#2a3f5f"
            },
            "marker": {
             "line": {
              "color": "#E5ECF6",
              "width": 0.5
             }
            },
            "type": "bar"
           }
          ],
          "barpolar": [
           {
            "marker": {
             "line": {
              "color": "#E5ECF6",
              "width": 0.5
             }
            },
            "type": "barpolar"
           }
          ],
          "carpet": [
           {
            "aaxis": {
             "endlinecolor": "#2a3f5f",
             "gridcolor": "white",
             "linecolor": "white",
             "minorgridcolor": "white",
             "startlinecolor": "#2a3f5f"
            },
            "baxis": {
             "endlinecolor": "#2a3f5f",
             "gridcolor": "white",
             "linecolor": "white",
             "minorgridcolor": "white",
             "startlinecolor": "#2a3f5f"
            },
            "type": "carpet"
           }
          ],
          "choropleth": [
           {
            "colorbar": {
             "outlinewidth": 0,
             "ticks": ""
            },
            "type": "choropleth"
           }
          ],
          "contour": [
           {
            "colorbar": {
             "outlinewidth": 0,
             "ticks": ""
            },
            "colorscale": [
             [
              0,
              "#0d0887"
             ],
             [
              0.1111111111111111,
              "#46039f"
             ],
             [
              0.2222222222222222,
              "#7201a8"
             ],
             [
              0.3333333333333333,
              "#9c179e"
             ],
             [
              0.4444444444444444,
              "#bd3786"
             ],
             [
              0.5555555555555556,
              "#d8576b"
             ],
             [
              0.6666666666666666,
              "#ed7953"
             ],
             [
              0.7777777777777778,
              "#fb9f3a"
             ],
             [
              0.8888888888888888,
              "#fdca26"
             ],
             [
              1,
              "#f0f921"
             ]
            ],
            "type": "contour"
           }
          ],
          "contourcarpet": [
           {
            "colorbar": {
             "outlinewidth": 0,
             "ticks": ""
            },
            "type": "contourcarpet"
           }
          ],
          "heatmap": [
           {
            "colorbar": {
             "outlinewidth": 0,
             "ticks": ""
            },
            "colorscale": [
             [
              0,
              "#0d0887"
             ],
             [
              0.1111111111111111,
              "#46039f"
             ],
             [
              0.2222222222222222,
              "#7201a8"
             ],
             [
              0.3333333333333333,
              "#9c179e"
             ],
             [
              0.4444444444444444,
              "#bd3786"
             ],
             [
              0.5555555555555556,
              "#d8576b"
             ],
             [
              0.6666666666666666,
              "#ed7953"
             ],
             [
              0.7777777777777778,
              "#fb9f3a"
             ],
             [
              0.8888888888888888,
              "#fdca26"
             ],
             [
              1,
              "#f0f921"
             ]
            ],
            "type": "heatmap"
           }
          ],
          "heatmapgl": [
           {
            "colorbar": {
             "outlinewidth": 0,
             "ticks": ""
            },
            "colorscale": [
             [
              0,
              "#0d0887"
             ],
             [
              0.1111111111111111,
              "#46039f"
             ],
             [
              0.2222222222222222,
              "#7201a8"
             ],
             [
              0.3333333333333333,
              "#9c179e"
             ],
             [
              0.4444444444444444,
              "#bd3786"
             ],
             [
              0.5555555555555556,
              "#d8576b"
             ],
             [
              0.6666666666666666,
              "#ed7953"
             ],
             [
              0.7777777777777778,
              "#fb9f3a"
             ],
             [
              0.8888888888888888,
              "#fdca26"
             ],
             [
              1,
              "#f0f921"
             ]
            ],
            "type": "heatmapgl"
           }
          ],
          "histogram": [
           {
            "marker": {
             "colorbar": {
              "outlinewidth": 0,
              "ticks": ""
             }
            },
            "type": "histogram"
           }
          ],
          "histogram2d": [
           {
            "colorbar": {
             "outlinewidth": 0,
             "ticks": ""
            },
            "colorscale": [
             [
              0,
              "#0d0887"
             ],
             [
              0.1111111111111111,
              "#46039f"
             ],
             [
              0.2222222222222222,
              "#7201a8"
             ],
             [
              0.3333333333333333,
              "#9c179e"
             ],
             [
              0.4444444444444444,
              "#bd3786"
             ],
             [
              0.5555555555555556,
              "#d8576b"
             ],
             [
              0.6666666666666666,
              "#ed7953"
             ],
             [
              0.7777777777777778,
              "#fb9f3a"
             ],
             [
              0.8888888888888888,
              "#fdca26"
             ],
             [
              1,
              "#f0f921"
             ]
            ],
            "type": "histogram2d"
           }
          ],
          "histogram2dcontour": [
           {
            "colorbar": {
             "outlinewidth": 0,
             "ticks": ""
            },
            "colorscale": [
             [
              0,
              "#0d0887"
             ],
             [
              0.1111111111111111,
              "#46039f"
             ],
             [
              0.2222222222222222,
              "#7201a8"
             ],
             [
              0.3333333333333333,
              "#9c179e"
             ],
             [
              0.4444444444444444,
              "#bd3786"
             ],
             [
              0.5555555555555556,
              "#d8576b"
             ],
             [
              0.6666666666666666,
              "#ed7953"
             ],
             [
              0.7777777777777778,
              "#fb9f3a"
             ],
             [
              0.8888888888888888,
              "#fdca26"
             ],
             [
              1,
              "#f0f921"
             ]
            ],
            "type": "histogram2dcontour"
           }
          ],
          "mesh3d": [
           {
            "colorbar": {
             "outlinewidth": 0,
             "ticks": ""
            },
            "type": "mesh3d"
           }
          ],
          "parcoords": [
           {
            "line": {
             "colorbar": {
              "outlinewidth": 0,
              "ticks": ""
             }
            },
            "type": "parcoords"
           }
          ],
          "pie": [
           {
            "automargin": true,
            "type": "pie"
           }
          ],
          "scatter": [
           {
            "marker": {
             "colorbar": {
              "outlinewidth": 0,
              "ticks": ""
             }
            },
            "type": "scatter"
           }
          ],
          "scatter3d": [
           {
            "line": {
             "colorbar": {
              "outlinewidth": 0,
              "ticks": ""
             }
            },
            "marker": {
             "colorbar": {
              "outlinewidth": 0,
              "ticks": ""
             }
            },
            "type": "scatter3d"
           }
          ],
          "scattercarpet": [
           {
            "marker": {
             "colorbar": {
              "outlinewidth": 0,
              "ticks": ""
             }
            },
            "type": "scattercarpet"
           }
          ],
          "scattergeo": [
           {
            "marker": {
             "colorbar": {
              "outlinewidth": 0,
              "ticks": ""
             }
            },
            "type": "scattergeo"
           }
          ],
          "scattergl": [
           {
            "marker": {
             "colorbar": {
              "outlinewidth": 0,
              "ticks": ""
             }
            },
            "type": "scattergl"
           }
          ],
          "scattermapbox": [
           {
            "marker": {
             "colorbar": {
              "outlinewidth": 0,
              "ticks": ""
             }
            },
            "type": "scattermapbox"
           }
          ],
          "scatterpolar": [
           {
            "marker": {
             "colorbar": {
              "outlinewidth": 0,
              "ticks": ""
             }
            },
            "type": "scatterpolar"
           }
          ],
          "scatterpolargl": [
           {
            "marker": {
             "colorbar": {
              "outlinewidth": 0,
              "ticks": ""
             }
            },
            "type": "scatterpolargl"
           }
          ],
          "scatterternary": [
           {
            "marker": {
             "colorbar": {
              "outlinewidth": 0,
              "ticks": ""
             }
            },
            "type": "scatterternary"
           }
          ],
          "surface": [
           {
            "colorbar": {
             "outlinewidth": 0,
             "ticks": ""
            },
            "colorscale": [
             [
              0,
              "#0d0887"
             ],
             [
              0.1111111111111111,
              "#46039f"
             ],
             [
              0.2222222222222222,
              "#7201a8"
             ],
             [
              0.3333333333333333,
              "#9c179e"
             ],
             [
              0.4444444444444444,
              "#bd3786"
             ],
             [
              0.5555555555555556,
              "#d8576b"
             ],
             [
              0.6666666666666666,
              "#ed7953"
             ],
             [
              0.7777777777777778,
              "#fb9f3a"
             ],
             [
              0.8888888888888888,
              "#fdca26"
             ],
             [
              1,
              "#f0f921"
             ]
            ],
            "type": "surface"
           }
          ],
          "table": [
           {
            "cells": {
             "fill": {
              "color": "#EBF0F8"
             },
             "line": {
              "color": "white"
             }
            },
            "header": {
             "fill": {
              "color": "#C8D4E3"
             },
             "line": {
              "color": "white"
             }
            },
            "type": "table"
           }
          ]
         },
         "layout": {
          "annotationdefaults": {
           "arrowcolor": "#2a3f5f",
           "arrowhead": 0,
           "arrowwidth": 1
          },
          "coloraxis": {
           "colorbar": {
            "outlinewidth": 0,
            "ticks": ""
           }
          },
          "colorscale": {
           "diverging": [
            [
             0,
             "#8e0152"
            ],
            [
             0.1,
             "#c51b7d"
            ],
            [
             0.2,
             "#de77ae"
            ],
            [
             0.3,
             "#f1b6da"
            ],
            [
             0.4,
             "#fde0ef"
            ],
            [
             0.5,
             "#f7f7f7"
            ],
            [
             0.6,
             "#e6f5d0"
            ],
            [
             0.7,
             "#b8e186"
            ],
            [
             0.8,
             "#7fbc41"
            ],
            [
             0.9,
             "#4d9221"
            ],
            [
             1,
             "#276419"
            ]
           ],
           "sequential": [
            [
             0,
             "#0d0887"
            ],
            [
             0.1111111111111111,
             "#46039f"
            ],
            [
             0.2222222222222222,
             "#7201a8"
            ],
            [
             0.3333333333333333,
             "#9c179e"
            ],
            [
             0.4444444444444444,
             "#bd3786"
            ],
            [
             0.5555555555555556,
             "#d8576b"
            ],
            [
             0.6666666666666666,
             "#ed7953"
            ],
            [
             0.7777777777777778,
             "#fb9f3a"
            ],
            [
             0.8888888888888888,
             "#fdca26"
            ],
            [
             1,
             "#f0f921"
            ]
           ],
           "sequentialminus": [
            [
             0,
             "#0d0887"
            ],
            [
             0.1111111111111111,
             "#46039f"
            ],
            [
             0.2222222222222222,
             "#7201a8"
            ],
            [
             0.3333333333333333,
             "#9c179e"
            ],
            [
             0.4444444444444444,
             "#bd3786"
            ],
            [
             0.5555555555555556,
             "#d8576b"
            ],
            [
             0.6666666666666666,
             "#ed7953"
            ],
            [
             0.7777777777777778,
             "#fb9f3a"
            ],
            [
             0.8888888888888888,
             "#fdca26"
            ],
            [
             1,
             "#f0f921"
            ]
           ]
          },
          "colorway": [
           "#636efa",
           "#EF553B",
           "#00cc96",
           "#ab63fa",
           "#FFA15A",
           "#19d3f3",
           "#FF6692",
           "#B6E880",
           "#FF97FF",
           "#FECB52"
          ],
          "font": {
           "color": "#2a3f5f"
          },
          "geo": {
           "bgcolor": "white",
           "lakecolor": "white",
           "landcolor": "#E5ECF6",
           "showlakes": true,
           "showland": true,
           "subunitcolor": "white"
          },
          "hoverlabel": {
           "align": "left"
          },
          "hovermode": "closest",
          "mapbox": {
           "style": "light"
          },
          "paper_bgcolor": "white",
          "plot_bgcolor": "#E5ECF6",
          "polar": {
           "angularaxis": {
            "gridcolor": "white",
            "linecolor": "white",
            "ticks": ""
           },
           "bgcolor": "#E5ECF6",
           "radialaxis": {
            "gridcolor": "white",
            "linecolor": "white",
            "ticks": ""
           }
          },
          "scene": {
           "xaxis": {
            "backgroundcolor": "#E5ECF6",
            "gridcolor": "white",
            "gridwidth": 2,
            "linecolor": "white",
            "showbackground": true,
            "ticks": "",
            "zerolinecolor": "white"
           },
           "yaxis": {
            "backgroundcolor": "#E5ECF6",
            "gridcolor": "white",
            "gridwidth": 2,
            "linecolor": "white",
            "showbackground": true,
            "ticks": "",
            "zerolinecolor": "white"
           },
           "zaxis": {
            "backgroundcolor": "#E5ECF6",
            "gridcolor": "white",
            "gridwidth": 2,
            "linecolor": "white",
            "showbackground": true,
            "ticks": "",
            "zerolinecolor": "white"
           }
          },
          "shapedefaults": {
           "line": {
            "color": "#2a3f5f"
           }
          },
          "ternary": {
           "aaxis": {
            "gridcolor": "white",
            "linecolor": "white",
            "ticks": ""
           },
           "baxis": {
            "gridcolor": "white",
            "linecolor": "white",
            "ticks": ""
           },
           "bgcolor": "#E5ECF6",
           "caxis": {
            "gridcolor": "white",
            "linecolor": "white",
            "ticks": ""
           }
          },
          "title": {
           "x": 0.05
          },
          "xaxis": {
           "automargin": true,
           "gridcolor": "white",
           "linecolor": "white",
           "ticks": "",
           "title": {
            "standoff": 15
           },
           "zerolinecolor": "white",
           "zerolinewidth": 2
          },
          "yaxis": {
           "automargin": true,
           "gridcolor": "white",
           "linecolor": "white",
           "ticks": "",
           "title": {
            "standoff": 15
           },
           "zerolinecolor": "white",
           "zerolinewidth": 2
          }
         }
        },
        "title": {
         "text": "Figure 3 - Top 10 by Time ",
         "x": 0.5
        },
        "xaxis": {
         "title": {
          "text": "Time"
         }
        },
        "yaxis": {
         "title": {
          "text": "Number of Incidents"
         }
        }
       }
      },
      "text/html": [
       "<div>\n",
       "        \n",
       "        \n",
       "            <div id=\"2112d4c5-a363-4a4f-af75-c522349b3f08\" class=\"plotly-graph-div\" style=\"height:525px; width:100%;\"></div>\n",
       "            <script type=\"text/javascript\">\n",
       "                require([\"plotly\"], function(Plotly) {\n",
       "                    window.PLOTLYENV=window.PLOTLYENV || {};\n",
       "                    \n",
       "                if (document.getElementById(\"2112d4c5-a363-4a4f-af75-c522349b3f08\")) {\n",
       "                    Plotly.newPlot(\n",
       "                        '2112d4c5-a363-4a4f-af75-c522349b3f08',\n",
       "                        [{\"marker\": {\"color\": [3842, 3397, 3165, 2912, 2902, 2830, 2590, 2479, 2443, 2406], \"colorscale\": [[0.0, \"rgb(161, 105, 40)\"], [0.16666666666666666, \"rgb(189, 146, 90)\"], [0.3333333333333333, \"rgb(214, 189, 141)\"], [0.5, \"rgb(237, 234, 194)\"], [0.6666666666666666, \"rgb(181, 200, 184)\"], [0.8333333333333334, \"rgb(121, 167, 172)\"], [1.0, \"rgb(40, 135, 161)\"]]}, \"text\": [3842.0, 3397.0, 3165.0, 2912.0, 2902.0, 2830.0, 2590.0, 2479.0, 2443.0, 2406.0], \"textposition\": \"outside\", \"type\": \"bar\", \"x\": [\"12:00\", \"00:01\", \"18:00\", \"19:00\", \"20:00\", \"17:00\", \"21:00\", \"22:00\", \"16:00\", \"15:00\"], \"y\": [3842, 3397, 3165, 2912, 2902, 2830, 2590, 2479, 2443, 2406]}],\n",
       "                        {\"template\": {\"data\": {\"bar\": [{\"error_x\": {\"color\": \"#2a3f5f\"}, \"error_y\": {\"color\": \"#2a3f5f\"}, \"marker\": {\"line\": {\"color\": \"#E5ECF6\", \"width\": 0.5}}, \"type\": \"bar\"}], \"barpolar\": [{\"marker\": {\"line\": {\"color\": \"#E5ECF6\", \"width\": 0.5}}, \"type\": \"barpolar\"}], \"carpet\": [{\"aaxis\": {\"endlinecolor\": \"#2a3f5f\", \"gridcolor\": \"white\", \"linecolor\": \"white\", \"minorgridcolor\": \"white\", \"startlinecolor\": \"#2a3f5f\"}, \"baxis\": {\"endlinecolor\": \"#2a3f5f\", \"gridcolor\": \"white\", \"linecolor\": \"white\", \"minorgridcolor\": \"white\", \"startlinecolor\": \"#2a3f5f\"}, \"type\": \"carpet\"}], \"choropleth\": [{\"colorbar\": {\"outlinewidth\": 0, \"ticks\": \"\"}, \"type\": \"choropleth\"}], \"contour\": [{\"colorbar\": {\"outlinewidth\": 0, \"ticks\": \"\"}, \"colorscale\": [[0.0, \"#0d0887\"], [0.1111111111111111, \"#46039f\"], [0.2222222222222222, \"#7201a8\"], [0.3333333333333333, \"#9c179e\"], [0.4444444444444444, \"#bd3786\"], [0.5555555555555556, \"#d8576b\"], [0.6666666666666666, \"#ed7953\"], [0.7777777777777778, \"#fb9f3a\"], [0.8888888888888888, \"#fdca26\"], [1.0, \"#f0f921\"]], \"type\": \"contour\"}], \"contourcarpet\": [{\"colorbar\": {\"outlinewidth\": 0, \"ticks\": \"\"}, \"type\": \"contourcarpet\"}], \"heatmap\": [{\"colorbar\": {\"outlinewidth\": 0, \"ticks\": \"\"}, \"colorscale\": [[0.0, \"#0d0887\"], [0.1111111111111111, \"#46039f\"], [0.2222222222222222, \"#7201a8\"], [0.3333333333333333, \"#9c179e\"], [0.4444444444444444, \"#bd3786\"], [0.5555555555555556, \"#d8576b\"], [0.6666666666666666, \"#ed7953\"], [0.7777777777777778, \"#fb9f3a\"], [0.8888888888888888, \"#fdca26\"], [1.0, \"#f0f921\"]], \"type\": \"heatmap\"}], \"heatmapgl\": [{\"colorbar\": {\"outlinewidth\": 0, \"ticks\": \"\"}, \"colorscale\": [[0.0, \"#0d0887\"], [0.1111111111111111, \"#46039f\"], [0.2222222222222222, \"#7201a8\"], [0.3333333333333333, \"#9c179e\"], [0.4444444444444444, \"#bd3786\"], [0.5555555555555556, \"#d8576b\"], [0.6666666666666666, \"#ed7953\"], [0.7777777777777778, \"#fb9f3a\"], [0.8888888888888888, \"#fdca26\"], [1.0, \"#f0f921\"]], \"type\": \"heatmapgl\"}], \"histogram\": [{\"marker\": {\"colorbar\": {\"outlinewidth\": 0, \"ticks\": \"\"}}, \"type\": \"histogram\"}], \"histogram2d\": [{\"colorbar\": {\"outlinewidth\": 0, \"ticks\": \"\"}, \"colorscale\": [[0.0, \"#0d0887\"], [0.1111111111111111, \"#46039f\"], [0.2222222222222222, \"#7201a8\"], [0.3333333333333333, \"#9c179e\"], [0.4444444444444444, \"#bd3786\"], [0.5555555555555556, \"#d8576b\"], [0.6666666666666666, \"#ed7953\"], [0.7777777777777778, \"#fb9f3a\"], [0.8888888888888888, \"#fdca26\"], [1.0, \"#f0f921\"]], \"type\": \"histogram2d\"}], \"histogram2dcontour\": [{\"colorbar\": {\"outlinewidth\": 0, \"ticks\": \"\"}, \"colorscale\": [[0.0, \"#0d0887\"], [0.1111111111111111, \"#46039f\"], [0.2222222222222222, \"#7201a8\"], [0.3333333333333333, \"#9c179e\"], [0.4444444444444444, \"#bd3786\"], [0.5555555555555556, \"#d8576b\"], [0.6666666666666666, \"#ed7953\"], [0.7777777777777778, \"#fb9f3a\"], [0.8888888888888888, \"#fdca26\"], [1.0, \"#f0f921\"]], \"type\": \"histogram2dcontour\"}], \"mesh3d\": [{\"colorbar\": {\"outlinewidth\": 0, \"ticks\": \"\"}, \"type\": \"mesh3d\"}], \"parcoords\": [{\"line\": {\"colorbar\": {\"outlinewidth\": 0, \"ticks\": \"\"}}, \"type\": \"parcoords\"}], \"pie\": [{\"automargin\": true, \"type\": \"pie\"}], \"scatter\": [{\"marker\": {\"colorbar\": {\"outlinewidth\": 0, \"ticks\": \"\"}}, \"type\": \"scatter\"}], \"scatter3d\": [{\"line\": {\"colorbar\": {\"outlinewidth\": 0, \"ticks\": \"\"}}, \"marker\": {\"colorbar\": {\"outlinewidth\": 0, \"ticks\": \"\"}}, \"type\": \"scatter3d\"}], \"scattercarpet\": [{\"marker\": {\"colorbar\": {\"outlinewidth\": 0, \"ticks\": \"\"}}, \"type\": \"scattercarpet\"}], \"scattergeo\": [{\"marker\": {\"colorbar\": {\"outlinewidth\": 0, \"ticks\": \"\"}}, \"type\": \"scattergeo\"}], \"scattergl\": [{\"marker\": {\"colorbar\": {\"outlinewidth\": 0, \"ticks\": \"\"}}, \"type\": \"scattergl\"}], \"scattermapbox\": [{\"marker\": {\"colorbar\": {\"outlinewidth\": 0, \"ticks\": \"\"}}, \"type\": \"scattermapbox\"}], \"scatterpolar\": [{\"marker\": {\"colorbar\": {\"outlinewidth\": 0, \"ticks\": \"\"}}, \"type\": \"scatterpolar\"}], \"scatterpolargl\": [{\"marker\": {\"colorbar\": {\"outlinewidth\": 0, \"ticks\": \"\"}}, \"type\": \"scatterpolargl\"}], \"scatterternary\": [{\"marker\": {\"colorbar\": {\"outlinewidth\": 0, \"ticks\": \"\"}}, \"type\": \"scatterternary\"}], \"surface\": [{\"colorbar\": {\"outlinewidth\": 0, \"ticks\": \"\"}, \"colorscale\": [[0.0, \"#0d0887\"], [0.1111111111111111, \"#46039f\"], [0.2222222222222222, \"#7201a8\"], [0.3333333333333333, \"#9c179e\"], [0.4444444444444444, \"#bd3786\"], [0.5555555555555556, \"#d8576b\"], [0.6666666666666666, \"#ed7953\"], [0.7777777777777778, \"#fb9f3a\"], [0.8888888888888888, \"#fdca26\"], [1.0, \"#f0f921\"]], \"type\": \"surface\"}], \"table\": [{\"cells\": {\"fill\": {\"color\": \"#EBF0F8\"}, \"line\": {\"color\": \"white\"}}, \"header\": {\"fill\": {\"color\": \"#C8D4E3\"}, \"line\": {\"color\": \"white\"}}, \"type\": \"table\"}]}, \"layout\": {\"annotationdefaults\": {\"arrowcolor\": \"#2a3f5f\", \"arrowhead\": 0, \"arrowwidth\": 1}, \"coloraxis\": {\"colorbar\": {\"outlinewidth\": 0, \"ticks\": \"\"}}, \"colorscale\": {\"diverging\": [[0, \"#8e0152\"], [0.1, \"#c51b7d\"], [0.2, \"#de77ae\"], [0.3, \"#f1b6da\"], [0.4, \"#fde0ef\"], [0.5, \"#f7f7f7\"], [0.6, \"#e6f5d0\"], [0.7, \"#b8e186\"], [0.8, \"#7fbc41\"], [0.9, \"#4d9221\"], [1, \"#276419\"]], \"sequential\": [[0.0, \"#0d0887\"], [0.1111111111111111, \"#46039f\"], [0.2222222222222222, \"#7201a8\"], [0.3333333333333333, \"#9c179e\"], [0.4444444444444444, \"#bd3786\"], [0.5555555555555556, \"#d8576b\"], [0.6666666666666666, \"#ed7953\"], [0.7777777777777778, \"#fb9f3a\"], [0.8888888888888888, \"#fdca26\"], [1.0, \"#f0f921\"]], \"sequentialminus\": [[0.0, \"#0d0887\"], [0.1111111111111111, \"#46039f\"], [0.2222222222222222, \"#7201a8\"], [0.3333333333333333, \"#9c179e\"], [0.4444444444444444, \"#bd3786\"], [0.5555555555555556, \"#d8576b\"], [0.6666666666666666, \"#ed7953\"], [0.7777777777777778, \"#fb9f3a\"], [0.8888888888888888, \"#fdca26\"], [1.0, \"#f0f921\"]]}, \"colorway\": [\"#636efa\", \"#EF553B\", \"#00cc96\", \"#ab63fa\", \"#FFA15A\", \"#19d3f3\", \"#FF6692\", \"#B6E880\", \"#FF97FF\", \"#FECB52\"], \"font\": {\"color\": \"#2a3f5f\"}, \"geo\": {\"bgcolor\": \"white\", \"lakecolor\": \"white\", \"landcolor\": \"#E5ECF6\", \"showlakes\": true, \"showland\": true, \"subunitcolor\": \"white\"}, \"hoverlabel\": {\"align\": \"left\"}, \"hovermode\": \"closest\", \"mapbox\": {\"style\": \"light\"}, \"paper_bgcolor\": \"white\", \"plot_bgcolor\": \"#E5ECF6\", \"polar\": {\"angularaxis\": {\"gridcolor\": \"white\", \"linecolor\": \"white\", \"ticks\": \"\"}, \"bgcolor\": \"#E5ECF6\", \"radialaxis\": {\"gridcolor\": \"white\", \"linecolor\": \"white\", \"ticks\": \"\"}}, \"scene\": {\"xaxis\": {\"backgroundcolor\": \"#E5ECF6\", \"gridcolor\": \"white\", \"gridwidth\": 2, \"linecolor\": \"white\", \"showbackground\": true, \"ticks\": \"\", \"zerolinecolor\": \"white\"}, \"yaxis\": {\"backgroundcolor\": \"#E5ECF6\", \"gridcolor\": \"white\", \"gridwidth\": 2, \"linecolor\": \"white\", \"showbackground\": true, \"ticks\": \"\", \"zerolinecolor\": \"white\"}, \"zaxis\": {\"backgroundcolor\": \"#E5ECF6\", \"gridcolor\": \"white\", \"gridwidth\": 2, \"linecolor\": \"white\", \"showbackground\": true, \"ticks\": \"\", \"zerolinecolor\": \"white\"}}, \"shapedefaults\": {\"line\": {\"color\": \"#2a3f5f\"}}, \"ternary\": {\"aaxis\": {\"gridcolor\": \"white\", \"linecolor\": \"white\", \"ticks\": \"\"}, \"baxis\": {\"gridcolor\": \"white\", \"linecolor\": \"white\", \"ticks\": \"\"}, \"bgcolor\": \"#E5ECF6\", \"caxis\": {\"gridcolor\": \"white\", \"linecolor\": \"white\", \"ticks\": \"\"}}, \"title\": {\"x\": 0.05}, \"xaxis\": {\"automargin\": true, \"gridcolor\": \"white\", \"linecolor\": \"white\", \"ticks\": \"\", \"title\": {\"standoff\": 15}, \"zerolinecolor\": \"white\", \"zerolinewidth\": 2}, \"yaxis\": {\"automargin\": true, \"gridcolor\": \"white\", \"linecolor\": \"white\", \"ticks\": \"\", \"title\": {\"standoff\": 15}, \"zerolinecolor\": \"white\", \"zerolinewidth\": 2}}}, \"title\": {\"text\": \"Figure 3 - Top 10 by Time \", \"x\": 0.5}, \"xaxis\": {\"title\": {\"text\": \"Time\"}}, \"yaxis\": {\"title\": {\"text\": \"Number of Incidents\"}}},\n",
       "                        {\"responsive\": true}\n",
       "                    ).then(function(){\n",
       "                            \n",
       "var gd = document.getElementById('2112d4c5-a363-4a4f-af75-c522349b3f08');\n",
       "var x = new MutationObserver(function (mutations, observer) {{\n",
       "        var display = window.getComputedStyle(gd).display;\n",
       "        if (!display || display === 'none') {{\n",
       "            console.log([gd, 'removed!']);\n",
       "            Plotly.purge(gd);\n",
       "            observer.disconnect();\n",
       "        }}\n",
       "}});\n",
       "\n",
       "// Listen for the removal of the full notebook cells\n",
       "var notebookContainer = gd.closest('#notebook-container');\n",
       "if (notebookContainer) {{\n",
       "    x.observe(notebookContainer, {childList: true});\n",
       "}}\n",
       "\n",
       "// Listen for the clearing of the current output cell\n",
       "var outputEl = gd.closest('.output');\n",
       "if (outputEl) {{\n",
       "    x.observe(outputEl, {childList: true});\n",
       "}}\n",
       "\n",
       "                        })\n",
       "                };\n",
       "                });\n",
       "            </script>\n",
       "        </div>"
      ]
     },
     "metadata": {},
     "output_type": "display_data"
    },
    {
     "data": {
      "image/png": "[encoded data removed]"
     },
     "metadata": {},
     "output_type": "display_data"
    }
   ],
   "source": [
    "# Plotting Top 10 by Time \n",
    "value = incidents['Time'].value_counts().round(0).nlargest(10)\n",
    "label = value.index\n",
    "trace = go.Bar(y=value, \n",
    "               x=label,text = value,textposition= \"outside\",\n",
    "               marker={'color': value,\n",
    "                   'colorscale': 'Earth'})\n",
    "layout = go.Layout(title=\"Figure 3 - Top 10 by Time \", \n",
    "                   xaxis={'title' : \"Time\"},\n",
    "                  yaxis={'title' : \"Number of Incidents\"},\n",
    "                  title_x=0.5)\n",
    "fig = go.Figure(data=trace, layout=layout)\n",
    "iplot(fig)\n",
    "fig.show('png')"
   ]
  },
  {
   "cell_type": "code",
   "execution_count": 102,
   "metadata": {},
   "outputs": [
    {
     "data": {
      "text/html": [
       "\n",
       "        <script src=\"/static/components/requirejs/require.js\"></script>\n",
       "        <script>\n",
       "          requirejs.config({\n",
       "            paths: {\n",
       "              base: '/static/base',\n",
       "              plotly: 'https://cdn.plot.ly/plotly-latest.min.js?noext',\n",
       "            },\n",
       "          });\n",
       "        </script>\n",
       "        "
      ],
      "text/plain": [
       "<IPython.core.display.HTML object>"
      ]
     },
     "metadata": {},
     "output_type": "display_data"
    },
    {
     "data": {
      "text/html": [
       "\n",
       "        <script src=\"/static/components/requirejs/require.js\"></script>\n",
       "        <script>\n",
       "          requirejs.config({\n",
       "            paths: {\n",
       "              base: '/static/base',\n",
       "              plotly: 'https://cdn.plot.ly/plotly-latest.min.js?noext',\n",
       "            },\n",
       "          });\n",
       "        </script>\n",
       "        "
      ],
      "text/plain": [
       "<IPython.core.display.HTML object>"
      ]
     },
     "metadata": {},
     "output_type": "display_data"
    },
    {
     "data": {
      "text/html": [
       "\n",
       "        <script src=\"/static/components/requirejs/require.js\"></script>\n",
       "        <script>\n",
       "          requirejs.config({\n",
       "            paths: {\n",
       "              base: '/static/base',\n",
       "              plotly: 'https://cdn.plot.ly/plotly-latest.min.js?noext',\n",
       "            },\n",
       "          });\n",
       "        </script>\n",
       "        "
      ],
      "text/plain": [
       "<IPython.core.display.HTML object>"
      ]
     },
     "metadata": {},
     "output_type": "display_data"
    },
    {
     "data": {
      "text/html": [
       "\n",
       "        <script src=\"/static/components/requirejs/require.js\"></script>\n",
       "        <script>\n",
       "          requirejs.config({\n",
       "            paths: {\n",
       "              base: '/static/base',\n",
       "              plotly: 'https://cdn.plot.ly/plotly-latest.min.js?noext',\n",
       "            },\n",
       "          });\n",
       "        </script>\n",
       "        "
      ],
      "text/plain": [
       "<IPython.core.display.HTML object>"
      ]
     },
     "metadata": {},
     "output_type": "display_data"
    },
    {
     "data": {
      "text/html": [
       "\n",
       "        <script src=\"/static/components/requirejs/require.js\"></script>\n",
       "        <script>\n",
       "          requirejs.config({\n",
       "            paths: {\n",
       "              base: '/static/base',\n",
       "              plotly: 'https://cdn.plot.ly/plotly-latest.min.js?noext',\n",
       "            },\n",
       "          });\n",
       "        </script>\n",
       "        "
      ],
      "text/plain": [
       "<IPython.core.display.HTML object>"
      ]
     },
     "metadata": {},
     "output_type": "display_data"
    },
    {
     "data": {
      "text/html": [
       "\n",
       "        <script src=\"/static/components/requirejs/require.js\"></script>\n",
       "        <script>\n",
       "          requirejs.config({\n",
       "            paths: {\n",
       "              base: '/static/base',\n",
       "              plotly: 'https://cdn.plot.ly/plotly-latest.min.js?noext',\n",
       "            },\n",
       "          });\n",
       "        </script>\n",
       "        "
      ],
      "text/plain": [
       "<IPython.core.display.HTML object>"
      ]
     },
     "metadata": {},
     "output_type": "display_data"
    },
    {
     "data": {
      "text/html": [
       "\n",
       "        <script src=\"/static/components/requirejs/require.js\"></script>\n",
       "        <script>\n",
       "          requirejs.config({\n",
       "            paths: {\n",
       "              base: '/static/base',\n",
       "              plotly: 'https://cdn.plot.ly/plotly-latest.min.js?noext',\n",
       "            },\n",
       "          });\n",
       "        </script>\n",
       "        "
      ],
      "text/plain": [
       "<IPython.core.display.HTML object>"
      ]
     },
     "metadata": {},
     "output_type": "display_data"
    },
    {
     "data": {
      "text/plain": [
       "800 Block of BRYANT ST          3561\n",
       "800 Block of MARKET ST          1405\n",
       "1000 Block of POTRERO AV         644\n",
       "900 Block of MARKET ST           547\n",
       "0 Block of UNITEDNATIONS PZ      452\n",
       "500 Block of JOHNFKENNEDY DR     448\n",
       "3200 Block of 20TH AV            431\n",
       "600 Block of VALENCIA ST         399\n",
       "100 Block of OFARRELL ST         389\n",
       "1100 Block of FILLMORE ST        382\n",
       "Name: Address, dtype: int64"
      ]
     },
     "execution_count": 102,
     "metadata": {},
     "output_type": "execute_result"
    }
   ],
   "source": [
    "# Top 10 by Address\n",
    "incidents['Address'].value_counts().nlargest(10)"
   ]
  },
  {
   "cell_type": "code",
   "execution_count": 103,
   "metadata": {},
   "outputs": [
    {
     "data": {
      "text/html": [
       "\n",
       "        <script src=\"/static/components/requirejs/require.js\"></script>\n",
       "        <script>\n",
       "          requirejs.config({\n",
       "            paths: {\n",
       "              base: '/static/base',\n",
       "              plotly: 'https://cdn.plot.ly/plotly-latest.min.js?noext',\n",
       "            },\n",
       "          });\n",
       "        </script>\n",
       "        "
      ],
      "text/plain": [
       "<IPython.core.display.HTML object>"
      ]
     },
     "metadata": {},
     "output_type": "display_data"
    },
    {
     "data": {
      "text/html": [
       "\n",
       "        <script src=\"/static/components/requirejs/require.js\"></script>\n",
       "        <script>\n",
       "          requirejs.config({\n",
       "            paths: {\n",
       "              base: '/static/base',\n",
       "              plotly: 'https://cdn.plot.ly/plotly-latest.min.js?noext',\n",
       "            },\n",
       "          });\n",
       "        </script>\n",
       "        "
      ],
      "text/plain": [
       "<IPython.core.display.HTML object>"
      ]
     },
     "metadata": {},
     "output_type": "display_data"
    },
    {
     "data": {
      "text/html": [
       "\n",
       "        <script src=\"/static/components/requirejs/require.js\"></script>\n",
       "        <script>\n",
       "          requirejs.config({\n",
       "            paths: {\n",
       "              base: '/static/base',\n",
       "              plotly: 'https://cdn.plot.ly/plotly-latest.min.js?noext',\n",
       "            },\n",
       "          });\n",
       "        </script>\n",
       "        "
      ],
      "text/plain": [
       "<IPython.core.display.HTML object>"
      ]
     },
     "metadata": {},
     "output_type": "display_data"
    },
    {
     "data": {
      "text/html": [
       "\n",
       "        <script src=\"/static/components/requirejs/require.js\"></script>\n",
       "        <script>\n",
       "          requirejs.config({\n",
       "            paths: {\n",
       "              base: '/static/base',\n",
       "              plotly: 'https://cdn.plot.ly/plotly-latest.min.js?noext',\n",
       "            },\n",
       "          });\n",
       "        </script>\n",
       "        "
      ],
      "text/plain": [
       "<IPython.core.display.HTML object>"
      ]
     },
     "metadata": {},
     "output_type": "display_data"
    },
    {
     "data": {
      "text/html": [
       "\n",
       "        <script src=\"/static/components/requirejs/require.js\"></script>\n",
       "        <script>\n",
       "          requirejs.config({\n",
       "            paths: {\n",
       "              base: '/static/base',\n",
       "              plotly: 'https://cdn.plot.ly/plotly-latest.min.js?noext',\n",
       "            },\n",
       "          });\n",
       "        </script>\n",
       "        "
      ],
      "text/plain": [
       "<IPython.core.display.HTML object>"
      ]
     },
     "metadata": {},
     "output_type": "display_data"
    },
    {
     "data": {
      "text/html": [
       "\n",
       "        <script src=\"/static/components/requirejs/require.js\"></script>\n",
       "        <script>\n",
       "          requirejs.config({\n",
       "            paths: {\n",
       "              base: '/static/base',\n",
       "              plotly: 'https://cdn.plot.ly/plotly-latest.min.js?noext',\n",
       "            },\n",
       "          });\n",
       "        </script>\n",
       "        "
      ],
      "text/plain": [
       "<IPython.core.display.HTML object>"
      ]
     },
     "metadata": {},
     "output_type": "display_data"
    },
    {
     "data": {
      "text/html": [
       "\n",
       "        <script src=\"/static/components/requirejs/require.js\"></script>\n",
       "        <script>\n",
       "          requirejs.config({\n",
       "            paths: {\n",
       "              base: '/static/base',\n",
       "              plotly: 'https://cdn.plot.ly/plotly-latest.min.js?noext',\n",
       "            },\n",
       "          });\n",
       "        </script>\n",
       "        "
      ],
      "text/plain": [
       "<IPython.core.display.HTML object>"
      ]
     },
     "metadata": {},
     "output_type": "display_data"
    },
    {
     "data": {
      "application/vnd.plotly.v1+json": {
       "config": {
        "linkText": "Export to plot.ly",
        "plotlyServerURL": "https://plot.ly",
        "showLink": false
       },
       "data": [
        {
         "marker": {
          "color": [
           3561,
           1405,
           644,
           547,
           452,
           448,
           431,
           399,
           389,
           382
          ],
          "colorscale": [
           [
            0,
            "rgb(12,51,131)"
           ],
           [
            0.25,
            "rgb(10,136,186)"
           ],
           [
            0.5,
            "rgb(242,211,56)"
           ],
           [
            0.75,
            "rgb(242,143,56)"
           ],
           [
            1,
            "rgb(217,30,30)"
           ]
          ]
         },
         "text": [
          3561,
          1405,
          644,
          547,
          452,
          448,
          431,
          399,
          389,
          382
         ],
         "textposition": "outside",
         "type": "bar",
         "x": [
          "800 Block of BRYANT ST",
          "800 Block of MARKET ST",
          "1000 Block of POTRERO AV",
          "900 Block of MARKET ST",
          "0 Block of UNITEDNATIONS PZ",
          "500 Block of JOHNFKENNEDY DR",
          "3200 Block of 20TH AV",
          "600 Block of VALENCIA ST",
          "100 Block of OFARRELL ST",
          "1100 Block of FILLMORE ST"
         ],
         "y": [
          3561,
          1405,
          644,
          547,
          452,
          448,
          431,
          399,
          389,
          382
         ]
        }
       ],
       "layout": {
        "template": {
         "data": {
          "bar": [
           {
            "error_x": {
             "color": "#2a3f5f"
            },
            "error_y": {
             "color": "#2a3f5f"
            },
            "marker": {
             "line": {
              "color": "#E5ECF6",
              "width": 0.5
             }
            },
            "type": "bar"
           }
          ],
          "barpolar": [
           {
            "marker": {
             "line": {
              "color": "#E5ECF6",
              "width": 0.5
             }
            },
            "type": "barpolar"
           }
          ],
          "carpet": [
           {
            "aaxis": {
             "endlinecolor": "#2a3f5f",
             "gridcolor": "white",
             "linecolor": "white",
             "minorgridcolor": "white",
             "startlinecolor": "#2a3f5f"
            },
            "baxis": {
             "endlinecolor": "#2a3f5f",
             "gridcolor": "white",
             "linecolor": "white",
             "minorgridcolor": "white",
             "startlinecolor": "#2a3f5f"
            },
            "type": "carpet"
           }
          ],
          "choropleth": [
           {
            "colorbar": {
             "outlinewidth": 0,
             "ticks": ""
            },
            "type": "choropleth"
           }
          ],
          "contour": [
           {
            "colorbar": {
             "outlinewidth": 0,
             "ticks": ""
            },
            "colorscale": [
             [
              0,
              "#0d0887"
             ],
             [
              0.1111111111111111,
              "#46039f"
             ],
             [
              0.2222222222222222,
              "#7201a8"
             ],
             [
              0.3333333333333333,
              "#9c179e"
             ],
             [
              0.4444444444444444,
              "#bd3786"
             ],
             [
              0.5555555555555556,
              "#d8576b"
             ],
             [
              0.6666666666666666,
              "#ed7953"
             ],
             [
              0.7777777777777778,
              "#fb9f3a"
             ],
             [
              0.8888888888888888,
              "#fdca26"
             ],
             [
              1,
              "#f0f921"
             ]
            ],
            "type": "contour"
           }
          ],
          "contourcarpet": [
           {
            "colorbar": {
             "outlinewidth": 0,
             "ticks": ""
            },
            "type": "contourcarpet"
           }
          ],
          "heatmap": [
           {
            "colorbar": {
             "outlinewidth": 0,
             "ticks": ""
            },
            "colorscale": [
             [
              0,
              "#0d0887"
             ],
             [
              0.1111111111111111,
              "#46039f"
             ],
             [
              0.2222222222222222,
              "#7201a8"
             ],
             [
              0.3333333333333333,
              "#9c179e"
             ],
             [
              0.4444444444444444,
              "#bd3786"
             ],
             [
              0.5555555555555556,
              "#d8576b"
             ],
             [
              0.6666666666666666,
              "#ed7953"
             ],
             [
              0.7777777777777778,
              "#fb9f3a"
             ],
             [
              0.8888888888888888,
              "#fdca26"
             ],
             [
              1,
              "#f0f921"
             ]
            ],
            "type": "heatmap"
           }
          ],
          "heatmapgl": [
           {
            "colorbar": {
             "outlinewidth": 0,
             "ticks": ""
            },
            "colorscale": [
             [
              0,
              "#0d0887"
             ],
             [
              0.1111111111111111,
              "#46039f"
             ],
             [
              0.2222222222222222,
              "#7201a8"
             ],
             [
              0.3333333333333333,
              "#9c179e"
             ],
             [
              0.4444444444444444,
              "#bd3786"
             ],
             [
              0.5555555555555556,
              "#d8576b"
             ],
             [
              0.6666666666666666,
              "#ed7953"
             ],
             [
              0.7777777777777778,
              "#fb9f3a"
             ],
             [
              0.8888888888888888,
              "#fdca26"
             ],
             [
              1,
              "#f0f921"
             ]
            ],
            "type": "heatmapgl"
           }
          ],
          "histogram": [
           {
            "marker": {
             "colorbar": {
              "outlinewidth": 0,
              "ticks": ""
             }
            },
            "type": "histogram"
           }
          ],
          "histogram2d": [
           {
            "colorbar": {
             "outlinewidth": 0,
             "ticks": ""
            },
            "colorscale": [
             [
              0,
              "#0d0887"
             ],
             [
              0.1111111111111111,
              "#46039f"
             ],
             [
              0.2222222222222222,
              "#7201a8"
             ],
             [
              0.3333333333333333,
              "#9c179e"
             ],
             [
              0.4444444444444444,
              "#bd3786"
             ],
             [
              0.5555555555555556,
              "#d8576b"
             ],
             [
              0.6666666666666666,
              "#ed7953"
             ],
             [
              0.7777777777777778,
              "#fb9f3a"
             ],
             [
              0.8888888888888888,
              "#fdca26"
             ],
             [
              1,
              "#f0f921"
             ]
            ],
            "type": "histogram2d"
           }
          ],
          "histogram2dcontour": [
           {
            "colorbar": {
             "outlinewidth": 0,
             "ticks": ""
            },
            "colorscale": [
             [
              0,
              "#0d0887"
             ],
             [
              0.1111111111111111,
              "#46039f"
             ],
             [
              0.2222222222222222,
              "#7201a8"
             ],
             [
              0.3333333333333333,
              "#9c179e"
             ],
             [
              0.4444444444444444,
              "#bd3786"
             ],
             [
              0.5555555555555556,
              "#d8576b"
             ],
             [
              0.6666666666666666,
              "#ed7953"
             ],
             [
              0.7777777777777778,
              "#fb9f3a"
             ],
             [
              0.8888888888888888,
              "#fdca26"
             ],
             [
              1,
              "#f0f921"
             ]
            ],
            "type": "histogram2dcontour"
           }
          ],
          "mesh3d": [
           {
            "colorbar": {
             "outlinewidth": 0,
             "ticks": ""
            },
            "type": "mesh3d"
           }
          ],
          "parcoords": [
           {
            "line": {
             "colorbar": {
              "outlinewidth": 0,
              "ticks": ""
             }
            },
            "type": "parcoords"
           }
          ],
          "pie": [
           {
            "automargin": true,
            "type": "pie"
           }
          ],
          "scatter": [
           {
            "marker": {
             "colorbar": {
              "outlinewidth": 0,
              "ticks": ""
             }
            },
            "type": "scatter"
           }
          ],
          "scatter3d": [
           {
            "line": {
             "colorbar": {
              "outlinewidth": 0,
              "ticks": ""
             }
            },
            "marker": {
             "colorbar": {
              "outlinewidth": 0,
              "ticks": ""
             }
            },
            "type": "scatter3d"
           }
          ],
          "scattercarpet": [
           {
            "marker": {
             "colorbar": {
              "outlinewidth": 0,
              "ticks": ""
             }
            },
            "type": "scattercarpet"
           }
          ],
          "scattergeo": [
           {
            "marker": {
             "colorbar": {
              "outlinewidth": 0,
              "ticks": ""
             }
            },
            "type": "scattergeo"
           }
          ],
          "scattergl": [
           {
            "marker": {
             "colorbar": {
              "outlinewidth": 0,
              "ticks": ""
             }
            },
            "type": "scattergl"
           }
          ],
          "scattermapbox": [
           {
            "marker": {
             "colorbar": {
              "outlinewidth": 0,
              "ticks": ""
             }
            },
            "type": "scattermapbox"
           }
          ],
          "scatterpolar": [
           {
            "marker": {
             "colorbar": {
              "outlinewidth": 0,
              "ticks": ""
             }
            },
            "type": "scatterpolar"
           }
          ],
          "scatterpolargl": [
           {
            "marker": {
             "colorbar": {
              "outlinewidth": 0,
              "ticks": ""
             }
            },
            "type": "scatterpolargl"
           }
          ],
          "scatterternary": [
           {
            "marker": {
             "colorbar": {
              "outlinewidth": 0,
              "ticks": ""
             }
            },
            "type": "scatterternary"
           }
          ],
          "surface": [
           {
            "colorbar": {
             "outlinewidth": 0,
             "ticks": ""
            },
            "colorscale": [
             [
              0,
              "#0d0887"
             ],
             [
              0.1111111111111111,
              "#46039f"
             ],
             [
              0.2222222222222222,
              "#7201a8"
             ],
             [
              0.3333333333333333,
              "#9c179e"
             ],
             [
              0.4444444444444444,
              "#bd3786"
             ],
             [
              0.5555555555555556,
              "#d8576b"
             ],
             [
              0.6666666666666666,
              "#ed7953"
             ],
             [
              0.7777777777777778,
              "#fb9f3a"
             ],
             [
              0.8888888888888888,
              "#fdca26"
             ],
             [
              1,
              "#f0f921"
             ]
            ],
            "type": "surface"
           }
          ],
          "table": [
           {
            "cells": {
             "fill": {
              "color": "#EBF0F8"
             },
             "line": {
              "color": "white"
             }
            },
            "header": {
             "fill": {
              "color": "#C8D4E3"
             },
             "line": {
              "color": "white"
             }
            },
            "type": "table"
           }
          ]
         },
         "layout": {
          "annotationdefaults": {
           "arrowcolor": "#2a3f5f",
           "arrowhead": 0,
           "arrowwidth": 1
          },
          "coloraxis": {
           "colorbar": {
            "outlinewidth": 0,
            "ticks": ""
           }
          },
          "colorscale": {
           "diverging": [
            [
             0,
             "#8e0152"
            ],
            [
             0.1,
             "#c51b7d"
            ],
            [
             0.2,
             "#de77ae"
            ],
            [
             0.3,
             "#f1b6da"
            ],
            [
             0.4,
             "#fde0ef"
            ],
            [
             0.5,
             "#f7f7f7"
            ],
            [
             0.6,
             "#e6f5d0"
            ],
            [
             0.7,
             "#b8e186"
            ],
            [
             0.8,
             "#7fbc41"
            ],
            [
             0.9,
             "#4d9221"
            ],
            [
             1,
             "#276419"
            ]
           ],
           "sequential": [
            [
             0,
             "#0d0887"
            ],
            [
             0.1111111111111111,
             "#46039f"
            ],
            [
             0.2222222222222222,
             "#7201a8"
            ],
            [
             0.3333333333333333,
             "#9c179e"
            ],
            [
             0.4444444444444444,
             "#bd3786"
            ],
            [
             0.5555555555555556,
             "#d8576b"
            ],
            [
             0.6666666666666666,
             "#ed7953"
            ],
            [
             0.7777777777777778,
             "#fb9f3a"
            ],
            [
             0.8888888888888888,
             "#fdca26"
            ],
            [
             1,
             "#f0f921"
            ]
           ],
           "sequentialminus": [
            [
             0,
             "#0d0887"
            ],
            [
             0.1111111111111111,
             "#46039f"
            ],
            [
             0.2222222222222222,
             "#7201a8"
            ],
            [
             0.3333333333333333,
             "#9c179e"
            ],
            [
             0.4444444444444444,
             "#bd3786"
            ],
            [
             0.5555555555555556,
             "#d8576b"
            ],
            [
             0.6666666666666666,
             "#ed7953"
            ],
            [
             0.7777777777777778,
             "#fb9f3a"
            ],
            [
             0.8888888888888888,
             "#fdca26"
            ],
            [
             1,
             "#f0f921"
            ]
           ]
          },
          "colorway": [
           "#636efa",
           "#EF553B",
           "#00cc96",
           "#ab63fa",
           "#FFA15A",
           "#19d3f3",
           "#FF6692",
           "#B6E880",
           "#FF97FF",
           "#FECB52"
          ],
          "font": {
           "color": "#2a3f5f"
          },
          "geo": {
           "bgcolor": "white",
           "lakecolor": "white",
           "landcolor": "#E5ECF6",
           "showlakes": true,
           "showland": true,
           "subunitcolor": "white"
          },
          "hoverlabel": {
           "align": "left"
          },
          "hovermode": "closest",
          "mapbox": {
           "style": "light"
          },
          "paper_bgcolor": "white",
          "plot_bgcolor": "#E5ECF6",
          "polar": {
           "angularaxis": {
            "gridcolor": "white",
            "linecolor": "white",
            "ticks": ""
           },
           "bgcolor": "#E5ECF6",
           "radialaxis": {
            "gridcolor": "white",
            "linecolor": "white",
            "ticks": ""
           }
          },
          "scene": {
           "xaxis": {
            "backgroundcolor": "#E5ECF6",
            "gridcolor": "white",
            "gridwidth": 2,
            "linecolor": "white",
            "showbackground": true,
            "ticks": "",
            "zerolinecolor": "white"
           },
           "yaxis": {
            "backgroundcolor": "#E5ECF6",
            "gridcolor": "white",
            "gridwidth": 2,
            "linecolor": "white",
            "showbackground": true,
            "ticks": "",
            "zerolinecolor": "white"
           },
           "zaxis": {
            "backgroundcolor": "#E5ECF6",
            "gridcolor": "white",
            "gridwidth": 2,
            "linecolor": "white",
            "showbackground": true,
            "ticks": "",
            "zerolinecolor": "white"
           }
          },
          "shapedefaults": {
           "line": {
            "color": "#2a3f5f"
           }
          },
          "ternary": {
           "aaxis": {
            "gridcolor": "white",
            "linecolor": "white",
            "ticks": ""
           },
           "baxis": {
            "gridcolor": "white",
            "linecolor": "white",
            "ticks": ""
           },
           "bgcolor": "#E5ECF6",
           "caxis": {
            "gridcolor": "white",
            "linecolor": "white",
            "ticks": ""
           }
          },
          "title": {
           "x": 0.05
          },
          "xaxis": {
           "automargin": true,
           "gridcolor": "white",
           "linecolor": "white",
           "ticks": "",
           "title": {
            "standoff": 15
           },
           "zerolinecolor": "white",
           "zerolinewidth": 2
          },
          "yaxis": {
           "automargin": true,
           "gridcolor": "white",
           "linecolor": "white",
           "ticks": "",
           "title": {
            "standoff": 15
           },
           "zerolinecolor": "white",
           "zerolinewidth": 2
          }
         }
        },
        "title": {
         "text": "Figure 4 - Top 10 by Address",
         "x": 0.5
        },
        "xaxis": {
         "title": {
          "text": "Address"
         }
        },
        "yaxis": {
         "title": {
          "text": "Number of Incidents"
         }
        }
       }
      },
      "text/html": [
       "<div>\n",
       "        \n",
       "        \n",
       "            <div id=\"b1bc78f5-67c7-47ce-b5c2-80790706d359\" class=\"plotly-graph-div\" style=\"height:525px; width:100%;\"></div>\n",
       "            <script type=\"text/javascript\">\n",
       "                require([\"plotly\"], function(Plotly) {\n",
       "                    window.PLOTLYENV=window.PLOTLYENV || {};\n",
       "                    \n",
       "                if (document.getElementById(\"b1bc78f5-67c7-47ce-b5c2-80790706d359\")) {\n",
       "                    Plotly.newPlot(\n",
       "                        'b1bc78f5-67c7-47ce-b5c2-80790706d359',\n",
       "                        [{\"marker\": {\"color\": [3561, 1405, 644, 547, 452, 448, 431, 399, 389, 382], \"colorscale\": [[0.0, \"rgb(12,51,131)\"], [0.25, \"rgb(10,136,186)\"], [0.5, \"rgb(242,211,56)\"], [0.75, \"rgb(242,143,56)\"], [1.0, \"rgb(217,30,30)\"]]}, \"text\": [3561.0, 1405.0, 644.0, 547.0, 452.0, 448.0, 431.0, 399.0, 389.0, 382.0], \"textposition\": \"outside\", \"type\": \"bar\", \"x\": [\"800 Block of BRYANT ST\", \"800 Block of MARKET ST\", \"1000 Block of POTRERO AV\", \"900 Block of MARKET ST\", \"0 Block of UNITEDNATIONS PZ\", \"500 Block of JOHNFKENNEDY DR\", \"3200 Block of 20TH AV\", \"600 Block of VALENCIA ST\", \"100 Block of OFARRELL ST\", \"1100 Block of FILLMORE ST\"], \"y\": [3561, 1405, 644, 547, 452, 448, 431, 399, 389, 382]}],\n",
       "                        {\"template\": {\"data\": {\"bar\": [{\"error_x\": {\"color\": \"#2a3f5f\"}, \"error_y\": {\"color\": \"#2a3f5f\"}, \"marker\": {\"line\": {\"color\": \"#E5ECF6\", \"width\": 0.5}}, \"type\": \"bar\"}], \"barpolar\": [{\"marker\": {\"line\": {\"color\": \"#E5ECF6\", \"width\": 0.5}}, \"type\": \"barpolar\"}], \"carpet\": [{\"aaxis\": {\"endlinecolor\": \"#2a3f5f\", \"gridcolor\": \"white\", \"linecolor\": \"white\", \"minorgridcolor\": \"white\", \"startlinecolor\": \"#2a3f5f\"}, \"baxis\": {\"endlinecolor\": \"#2a3f5f\", \"gridcolor\": \"white\", \"linecolor\": \"white\", \"minorgridcolor\": \"white\", \"startlinecolor\": \"#2a3f5f\"}, \"type\": \"carpet\"}], \"choropleth\": [{\"colorbar\": {\"outlinewidth\": 0, \"ticks\": \"\"}, \"type\": \"choropleth\"}], \"contour\": [{\"colorbar\": {\"outlinewidth\": 0, \"ticks\": \"\"}, \"colorscale\": [[0.0, \"#0d0887\"], [0.1111111111111111, \"#46039f\"], [0.2222222222222222, \"#7201a8\"], [0.3333333333333333, \"#9c179e\"], [0.4444444444444444, \"#bd3786\"], [0.5555555555555556, \"#d8576b\"], [0.6666666666666666, \"#ed7953\"], [0.7777777777777778, \"#fb9f3a\"], [0.8888888888888888, \"#fdca26\"], [1.0, \"#f0f921\"]], \"type\": \"contour\"}], \"contourcarpet\": [{\"colorbar\": {\"outlinewidth\": 0, \"ticks\": \"\"}, \"type\": \"contourcarpet\"}], \"heatmap\": [{\"colorbar\": {\"outlinewidth\": 0, \"ticks\": \"\"}, \"colorscale\": [[0.0, \"#0d0887\"], [0.1111111111111111, \"#46039f\"], [0.2222222222222222, \"#7201a8\"], [0.3333333333333333, \"#9c179e\"], [0.4444444444444444, \"#bd3786\"], [0.5555555555555556, \"#d8576b\"], [0.6666666666666666, \"#ed7953\"], [0.7777777777777778, \"#fb9f3a\"], [0.8888888888888888, \"#fdca26\"], [1.0, \"#f0f921\"]], \"type\": \"heatmap\"}], \"heatmapgl\": [{\"colorbar\": {\"outlinewidth\": 0, \"ticks\": \"\"}, \"colorscale\": [[0.0, \"#0d0887\"], [0.1111111111111111, \"#46039f\"], [0.2222222222222222, \"#7201a8\"], [0.3333333333333333, \"#9c179e\"], [0.4444444444444444, \"#bd3786\"], [0.5555555555555556, \"#d8576b\"], [0.6666666666666666, \"#ed7953\"], [0.7777777777777778, \"#fb9f3a\"], [0.8888888888888888, \"#fdca26\"], [1.0, \"#f0f921\"]], \"type\": \"heatmapgl\"}], \"histogram\": [{\"marker\": {\"colorbar\": {\"outlinewidth\": 0, \"ticks\": \"\"}}, \"type\": \"histogram\"}], \"histogram2d\": [{\"colorbar\": {\"outlinewidth\": 0, \"ticks\": \"\"}, \"colorscale\": [[0.0, \"#0d0887\"], [0.1111111111111111, \"#46039f\"], [0.2222222222222222, \"#7201a8\"], [0.3333333333333333, \"#9c179e\"], [0.4444444444444444, \"#bd3786\"], [0.5555555555555556, \"#d8576b\"], [0.6666666666666666, \"#ed7953\"], [0.7777777777777778, \"#fb9f3a\"], [0.8888888888888888, \"#fdca26\"], [1.0, \"#f0f921\"]], \"type\": \"histogram2d\"}], \"histogram2dcontour\": [{\"colorbar\": {\"outlinewidth\": 0, \"ticks\": \"\"}, \"colorscale\": [[0.0, \"#0d0887\"], [0.1111111111111111, \"#46039f\"], [0.2222222222222222, \"#7201a8\"], [0.3333333333333333, \"#9c179e\"], [0.4444444444444444, \"#bd3786\"], [0.5555555555555556, \"#d8576b\"], [0.6666666666666666, \"#ed7953\"], [0.7777777777777778, \"#fb9f3a\"], [0.8888888888888888, \"#fdca26\"], [1.0, \"#f0f921\"]], \"type\": \"histogram2dcontour\"}], \"mesh3d\": [{\"colorbar\": {\"outlinewidth\": 0, \"ticks\": \"\"}, \"type\": \"mesh3d\"}], \"parcoords\": [{\"line\": {\"colorbar\": {\"outlinewidth\": 0, \"ticks\": \"\"}}, \"type\": \"parcoords\"}], \"pie\": [{\"automargin\": true, \"type\": \"pie\"}], \"scatter\": [{\"marker\": {\"colorbar\": {\"outlinewidth\": 0, \"ticks\": \"\"}}, \"type\": \"scatter\"}], \"scatter3d\": [{\"line\": {\"colorbar\": {\"outlinewidth\": 0, \"ticks\": \"\"}}, \"marker\": {\"colorbar\": {\"outlinewidth\": 0, \"ticks\": \"\"}}, \"type\": \"scatter3d\"}], \"scattercarpet\": [{\"marker\": {\"colorbar\": {\"outlinewidth\": 0, \"ticks\": \"\"}}, \"type\": \"scattercarpet\"}], \"scattergeo\": [{\"marker\": {\"colorbar\": {\"outlinewidth\": 0, \"ticks\": \"\"}}, \"type\": \"scattergeo\"}], \"scattergl\": [{\"marker\": {\"colorbar\": {\"outlinewidth\": 0, \"ticks\": \"\"}}, \"type\": \"scattergl\"}], \"scattermapbox\": [{\"marker\": {\"colorbar\": {\"outlinewidth\": 0, \"ticks\": \"\"}}, \"type\": \"scattermapbox\"}], \"scatterpolar\": [{\"marker\": {\"colorbar\": {\"outlinewidth\": 0, \"ticks\": \"\"}}, \"type\": \"scatterpolar\"}], \"scatterpolargl\": [{\"marker\": {\"colorbar\": {\"outlinewidth\": 0, \"ticks\": \"\"}}, \"type\": \"scatterpolargl\"}], \"scatterternary\": [{\"marker\": {\"colorbar\": {\"outlinewidth\": 0, \"ticks\": \"\"}}, \"type\": \"scatterternary\"}], \"surface\": [{\"colorbar\": {\"outlinewidth\": 0, \"ticks\": \"\"}, \"colorscale\": [[0.0, \"#0d0887\"], [0.1111111111111111, \"#46039f\"], [0.2222222222222222, \"#7201a8\"], [0.3333333333333333, \"#9c179e\"], [0.4444444444444444, \"#bd3786\"], [0.5555555555555556, \"#d8576b\"], [0.6666666666666666, \"#ed7953\"], [0.7777777777777778, \"#fb9f3a\"], [0.8888888888888888, \"#fdca26\"], [1.0, \"#f0f921\"]], \"type\": \"surface\"}], \"table\": [{\"cells\": {\"fill\": {\"color\": \"#EBF0F8\"}, \"line\": {\"color\": \"white\"}}, \"header\": {\"fill\": {\"color\": \"#C8D4E3\"}, \"line\": {\"color\": \"white\"}}, \"type\": \"table\"}]}, \"layout\": {\"annotationdefaults\": {\"arrowcolor\": \"#2a3f5f\", \"arrowhead\": 0, \"arrowwidth\": 1}, \"coloraxis\": {\"colorbar\": {\"outlinewidth\": 0, \"ticks\": \"\"}}, \"colorscale\": {\"diverging\": [[0, \"#8e0152\"], [0.1, \"#c51b7d\"], [0.2, \"#de77ae\"], [0.3, \"#f1b6da\"], [0.4, \"#fde0ef\"], [0.5, \"#f7f7f7\"], [0.6, \"#e6f5d0\"], [0.7, \"#b8e186\"], [0.8, \"#7fbc41\"], [0.9, \"#4d9221\"], [1, \"#276419\"]], \"sequential\": [[0.0, \"#0d0887\"], [0.1111111111111111, \"#46039f\"], [0.2222222222222222, \"#7201a8\"], [0.3333333333333333, \"#9c179e\"], [0.4444444444444444, \"#bd3786\"], [0.5555555555555556, \"#d8576b\"], [0.6666666666666666, \"#ed7953\"], [0.7777777777777778, \"#fb9f3a\"], [0.8888888888888888, \"#fdca26\"], [1.0, \"#f0f921\"]], \"sequentialminus\": [[0.0, \"#0d0887\"], [0.1111111111111111, \"#46039f\"], [0.2222222222222222, \"#7201a8\"], [0.3333333333333333, \"#9c179e\"], [0.4444444444444444, \"#bd3786\"], [0.5555555555555556, \"#d8576b\"], [0.6666666666666666, \"#ed7953\"], [0.7777777777777778, \"#fb9f3a\"], [0.8888888888888888, \"#fdca26\"], [1.0, \"#f0f921\"]]}, \"colorway\": [\"#636efa\", \"#EF553B\", \"#00cc96\", \"#ab63fa\", \"#FFA15A\", \"#19d3f3\", \"#FF6692\", \"#B6E880\", \"#FF97FF\", \"#FECB52\"], \"font\": {\"color\": \"#2a3f5f\"}, \"geo\": {\"bgcolor\": \"white\", \"lakecolor\": \"white\", \"landcolor\": \"#E5ECF6\", \"showlakes\": true, \"showland\": true, \"subunitcolor\": \"white\"}, \"hoverlabel\": {\"align\": \"left\"}, \"hovermode\": \"closest\", \"mapbox\": {\"style\": \"light\"}, \"paper_bgcolor\": \"white\", \"plot_bgcolor\": \"#E5ECF6\", \"polar\": {\"angularaxis\": {\"gridcolor\": \"white\", \"linecolor\": \"white\", \"ticks\": \"\"}, \"bgcolor\": \"#E5ECF6\", \"radialaxis\": {\"gridcolor\": \"white\", \"linecolor\": \"white\", \"ticks\": \"\"}}, \"scene\": {\"xaxis\": {\"backgroundcolor\": \"#E5ECF6\", \"gridcolor\": \"white\", \"gridwidth\": 2, \"linecolor\": \"white\", \"showbackground\": true, \"ticks\": \"\", \"zerolinecolor\": \"white\"}, \"yaxis\": {\"backgroundcolor\": \"#E5ECF6\", \"gridcolor\": \"white\", \"gridwidth\": 2, \"linecolor\": \"white\", \"showbackground\": true, \"ticks\": \"\", \"zerolinecolor\": \"white\"}, \"zaxis\": {\"backgroundcolor\": \"#E5ECF6\", \"gridcolor\": \"white\", \"gridwidth\": 2, \"linecolor\": \"white\", \"showbackground\": true, \"ticks\": \"\", \"zerolinecolor\": \"white\"}}, \"shapedefaults\": {\"line\": {\"color\": \"#2a3f5f\"}}, \"ternary\": {\"aaxis\": {\"gridcolor\": \"white\", \"linecolor\": \"white\", \"ticks\": \"\"}, \"baxis\": {\"gridcolor\": \"white\", \"linecolor\": \"white\", \"ticks\": \"\"}, \"bgcolor\": \"#E5ECF6\", \"caxis\": {\"gridcolor\": \"white\", \"linecolor\": \"white\", \"ticks\": \"\"}}, \"title\": {\"x\": 0.05}, \"xaxis\": {\"automargin\": true, \"gridcolor\": \"white\", \"linecolor\": \"white\", \"ticks\": \"\", \"title\": {\"standoff\": 15}, \"zerolinecolor\": \"white\", \"zerolinewidth\": 2}, \"yaxis\": {\"automargin\": true, \"gridcolor\": \"white\", \"linecolor\": \"white\", \"ticks\": \"\", \"title\": {\"standoff\": 15}, \"zerolinecolor\": \"white\", \"zerolinewidth\": 2}}}, \"title\": {\"text\": \"Figure 4 - Top 10 by Address\", \"x\": 0.5}, \"xaxis\": {\"title\": {\"text\": \"Address\"}}, \"yaxis\": {\"title\": {\"text\": \"Number of Incidents\"}}},\n",
       "                        {\"responsive\": true}\n",
       "                    ).then(function(){\n",
       "                            \n",
       "var gd = document.getElementById('b1bc78f5-67c7-47ce-b5c2-80790706d359');\n",
       "var x = new MutationObserver(function (mutations, observer) {{\n",
       "        var display = window.getComputedStyle(gd).display;\n",
       "        if (!display || display === 'none') {{\n",
       "            console.log([gd, 'removed!']);\n",
       "            Plotly.purge(gd);\n",
       "            observer.disconnect();\n",
       "        }}\n",
       "}});\n",
       "\n",
       "// Listen for the removal of the full notebook cells\n",
       "var notebookContainer = gd.closest('#notebook-container');\n",
       "if (notebookContainer) {{\n",
       "    x.observe(notebookContainer, {childList: true});\n",
       "}}\n",
       "\n",
       "// Listen for the clearing of the current output cell\n",
       "var outputEl = gd.closest('.output');\n",
       "if (outputEl) {{\n",
       "    x.observe(outputEl, {childList: true});\n",
       "}}\n",
       "\n",
       "                        })\n",
       "                };\n",
       "                });\n",
       "            </script>\n",
       "        </div>"
      ]
     },
     "metadata": {},
     "output_type": "display_data"
    },
    {
     "data": {
      "image/png": "[encoded data removed]"
     },
     "metadata": {},
     "output_type": "display_data"
    }
   ],
   "source": [
    "# Plotting Top 10 by Time \n",
    "value = incidents['Address'].value_counts().round(0).nlargest(10)\n",
    "label = value.index\n",
    "trace = go.Bar(y=value, \n",
    "               x=label,text = value,textposition= \"outside\",\n",
    "               marker={'color': value,\n",
    "                   'colorscale': 'Portland'})\n",
    "layout = go.Layout(title=\"Figure 4 - Top 10 by Address\", \n",
    "                   xaxis={'title' : \"Address\"},\n",
    "                  yaxis={'title' : \"Number of Incidents\"},\n",
    "                  title_x=0.5)\n",
    "fig = go.Figure(data=trace, layout=layout)\n",
    "iplot(fig)\n",
    "fig.show('png')"
   ]
  },
  {
   "cell_type": "markdown",
   "metadata": {},
   "source": [
    "# Introduction to Folium <a id=\"4\"></a>"
   ]
  },
  {
   "cell_type": "markdown",
   "metadata": {},
   "source": [
    "<img src='folium.png' />"
   ]
  },
  {
   "cell_type": "markdown",
   "metadata": {},
   "source": [
    "Folium is a powerful Python library that helps you create several types of Leaflet maps. The fact that the Folium results are interactive makes this library very useful for dashboard building.\n",
    "\n",
    "From the official Folium documentation page:\n",
    "\n",
    "> Folium builds on the data wrangling strengths of the Python ecosystem and the mapping strengths of the Leaflet.js library. Manipulate your data in Python, then visualize it in on a Leaflet map via Folium.\n",
    "\n",
    "> Folium makes it easy to visualize data that's been manipulated in Python on an interactive Leaflet map. It enables both the binding of data to a map for choropleth visualizations as well as passing Vincent/Vega visualizations as markers on the map.\n",
    "\n",
    "> The library has a number of built-in tilesets from OpenStreetMap, Mapbox, and Stamen, and supports custom tilesets with Mapbox or Cloudmade API keys. Folium supports both GeoJSON and TopoJSON overlays, as well as the binding of data to those overlays to create choropleth maps with color-brewer color schemes."
   ]
  },
  {
   "cell_type": "code",
   "execution_count": 104,
   "metadata": {},
   "outputs": [
    {
     "data": {
      "text/html": [
       "\n",
       "        <script src=\"/static/components/requirejs/require.js\"></script>\n",
       "        <script>\n",
       "          requirejs.config({\n",
       "            paths: {\n",
       "              base: '/static/base',\n",
       "              plotly: 'https://cdn.plot.ly/plotly-latest.min.js?noext',\n",
       "            },\n",
       "          });\n",
       "        </script>\n",
       "        "
      ],
      "text/plain": [
       "<IPython.core.display.HTML object>"
      ]
     },
     "metadata": {},
     "output_type": "display_data"
    },
    {
     "data": {
      "text/html": [
       "\n",
       "        <script src=\"/static/components/requirejs/require.js\"></script>\n",
       "        <script>\n",
       "          requirejs.config({\n",
       "            paths: {\n",
       "              base: '/static/base',\n",
       "              plotly: 'https://cdn.plot.ly/plotly-latest.min.js?noext',\n",
       "            },\n",
       "          });\n",
       "        </script>\n",
       "        "
      ],
      "text/plain": [
       "<IPython.core.display.HTML object>"
      ]
     },
     "metadata": {},
     "output_type": "display_data"
    },
    {
     "data": {
      "text/html": [
       "\n",
       "        <script src=\"/static/components/requirejs/require.js\"></script>\n",
       "        <script>\n",
       "          requirejs.config({\n",
       "            paths: {\n",
       "              base: '/static/base',\n",
       "              plotly: 'https://cdn.plot.ly/plotly-latest.min.js?noext',\n",
       "            },\n",
       "          });\n",
       "        </script>\n",
       "        "
      ],
      "text/plain": [
       "<IPython.core.display.HTML object>"
      ]
     },
     "metadata": {},
     "output_type": "display_data"
    },
    {
     "data": {
      "text/html": [
       "\n",
       "        <script src=\"/static/components/requirejs/require.js\"></script>\n",
       "        <script>\n",
       "          requirejs.config({\n",
       "            paths: {\n",
       "              base: '/static/base',\n",
       "              plotly: 'https://cdn.plot.ly/plotly-latest.min.js?noext',\n",
       "            },\n",
       "          });\n",
       "        </script>\n",
       "        "
      ],
      "text/plain": [
       "<IPython.core.display.HTML object>"
      ]
     },
     "metadata": {},
     "output_type": "display_data"
    },
    {
     "data": {
      "text/html": [
       "\n",
       "        <script src=\"/static/components/requirejs/require.js\"></script>\n",
       "        <script>\n",
       "          requirejs.config({\n",
       "            paths: {\n",
       "              base: '/static/base',\n",
       "              plotly: 'https://cdn.plot.ly/plotly-latest.min.js?noext',\n",
       "            },\n",
       "          });\n",
       "        </script>\n",
       "        "
      ],
      "text/plain": [
       "<IPython.core.display.HTML object>"
      ]
     },
     "metadata": {},
     "output_type": "display_data"
    },
    {
     "data": {
      "text/html": [
       "\n",
       "        <script src=\"/static/components/requirejs/require.js\"></script>\n",
       "        <script>\n",
       "          requirejs.config({\n",
       "            paths: {\n",
       "              base: '/static/base',\n",
       "              plotly: 'https://cdn.plot.ly/plotly-latest.min.js?noext',\n",
       "            },\n",
       "          });\n",
       "        </script>\n",
       "        "
      ],
      "text/plain": [
       "<IPython.core.display.HTML object>"
      ]
     },
     "metadata": {},
     "output_type": "display_data"
    },
    {
     "data": {
      "text/html": [
       "\n",
       "        <script src=\"/static/components/requirejs/require.js\"></script>\n",
       "        <script>\n",
       "          requirejs.config({\n",
       "            paths: {\n",
       "              base: '/static/base',\n",
       "              plotly: 'https://cdn.plot.ly/plotly-latest.min.js?noext',\n",
       "            },\n",
       "          });\n",
       "        </script>\n",
       "        "
      ],
      "text/plain": [
       "<IPython.core.display.HTML object>"
      ]
     },
     "metadata": {},
     "output_type": "display_data"
    }
   ],
   "source": [
    "# San Francisco latitude and longitude values\n",
    "latitude = 37.77\n",
    "longitude = -122.42"
   ]
  },
  {
   "cell_type": "code",
   "execution_count": 105,
   "metadata": {},
   "outputs": [
    {
     "data": {
      "text/html": [
       "\n",
       "        <script src=\"/static/components/requirejs/require.js\"></script>\n",
       "        <script>\n",
       "          requirejs.config({\n",
       "            paths: {\n",
       "              base: '/static/base',\n",
       "              plotly: 'https://cdn.plot.ly/plotly-latest.min.js?noext',\n",
       "            },\n",
       "          });\n",
       "        </script>\n",
       "        "
      ],
      "text/plain": [
       "<IPython.core.display.HTML object>"
      ]
     },
     "metadata": {},
     "output_type": "display_data"
    },
    {
     "data": {
      "text/html": [
       "\n",
       "        <script src=\"/static/components/requirejs/require.js\"></script>\n",
       "        <script>\n",
       "          requirejs.config({\n",
       "            paths: {\n",
       "              base: '/static/base',\n",
       "              plotly: 'https://cdn.plot.ly/plotly-latest.min.js?noext',\n",
       "            },\n",
       "          });\n",
       "        </script>\n",
       "        "
      ],
      "text/plain": [
       "<IPython.core.display.HTML object>"
      ]
     },
     "metadata": {},
     "output_type": "display_data"
    },
    {
     "data": {
      "text/html": [
       "\n",
       "        <script src=\"/static/components/requirejs/require.js\"></script>\n",
       "        <script>\n",
       "          requirejs.config({\n",
       "            paths: {\n",
       "              base: '/static/base',\n",
       "              plotly: 'https://cdn.plot.ly/plotly-latest.min.js?noext',\n",
       "            },\n",
       "          });\n",
       "        </script>\n",
       "        "
      ],
      "text/plain": [
       "<IPython.core.display.HTML object>"
      ]
     },
     "metadata": {},
     "output_type": "display_data"
    },
    {
     "data": {
      "text/html": [
       "\n",
       "        <script src=\"/static/components/requirejs/require.js\"></script>\n",
       "        <script>\n",
       "          requirejs.config({\n",
       "            paths: {\n",
       "              base: '/static/base',\n",
       "              plotly: 'https://cdn.plot.ly/plotly-latest.min.js?noext',\n",
       "            },\n",
       "          });\n",
       "        </script>\n",
       "        "
      ],
      "text/plain": [
       "<IPython.core.display.HTML object>"
      ]
     },
     "metadata": {},
     "output_type": "display_data"
    },
    {
     "data": {
      "text/html": [
       "\n",
       "        <script src=\"/static/components/requirejs/require.js\"></script>\n",
       "        <script>\n",
       "          requirejs.config({\n",
       "            paths: {\n",
       "              base: '/static/base',\n",
       "              plotly: 'https://cdn.plot.ly/plotly-latest.min.js?noext',\n",
       "            },\n",
       "          });\n",
       "        </script>\n",
       "        "
      ],
      "text/plain": [
       "<IPython.core.display.HTML object>"
      ]
     },
     "metadata": {},
     "output_type": "display_data"
    },
    {
     "data": {
      "text/html": [
       "\n",
       "        <script src=\"/static/components/requirejs/require.js\"></script>\n",
       "        <script>\n",
       "          requirejs.config({\n",
       "            paths: {\n",
       "              base: '/static/base',\n",
       "              plotly: 'https://cdn.plot.ly/plotly-latest.min.js?noext',\n",
       "            },\n",
       "          });\n",
       "        </script>\n",
       "        "
      ],
      "text/plain": [
       "<IPython.core.display.HTML object>"
      ]
     },
     "metadata": {},
     "output_type": "display_data"
    },
    {
     "data": {
      "text/html": [
       "\n",
       "        <script src=\"/static/components/requirejs/require.js\"></script>\n",
       "        <script>\n",
       "          requirejs.config({\n",
       "            paths: {\n",
       "              base: '/static/base',\n",
       "              plotly: 'https://cdn.plot.ly/plotly-latest.min.js?noext',\n",
       "            },\n",
       "          });\n",
       "        </script>\n",
       "        "
      ],
      "text/plain": [
       "<IPython.core.display.HTML object>"
      ]
     },
     "metadata": {},
     "output_type": "display_data"
    },
    {
     "data": {
      "text/html": [
       "<div style=\"width:100%;\"><div style=\"position:relative;width:100%;height:0;padding-bottom:60%;\"><iframe src=\"data:text/html;charset=utf-8;base64,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\" style=\"position:absolute;width:100%;height:100%;left:0;top:0;border:none !important;\" allowfullscreen webkitallowfullscreen mozallowfullscreen></iframe></div></div>"
      ],
      "text/plain": [
       "<folium.folium.Map at 0x1ddbdadd4c8>"
      ]
     },
     "execution_count": 105,
     "metadata": {},
     "output_type": "execute_result"
    }
   ],
   "source": [
    "# create map and display it\n",
    "sanfran_map = folium.Map(location=[latitude, longitude], zoom_start=13)\n",
    "\n",
    "# display the map of San Francisco\n",
    "sanfran_map"
   ]
  },
  {
   "cell_type": "markdown",
   "metadata": {},
   "source": [
    "### Now let's superimpose the locations of the crimes onto the map. The way to do that in Folium is to create a feature group with its own features and style and then add it to the sanfran_map."
   ]
  },
  {
   "cell_type": "code",
   "execution_count": 106,
   "metadata": {},
   "outputs": [
    {
     "data": {
      "text/html": [
       "\n",
       "        <script src=\"/static/components/requirejs/require.js\"></script>\n",
       "        <script>\n",
       "          requirejs.config({\n",
       "            paths: {\n",
       "              base: '/static/base',\n",
       "              plotly: 'https://cdn.plot.ly/plotly-latest.min.js?noext',\n",
       "            },\n",
       "          });\n",
       "        </script>\n",
       "        "
      ],
      "text/plain": [
       "<IPython.core.display.HTML object>"
      ]
     },
     "metadata": {},
     "output_type": "display_data"
    },
    {
     "data": {
      "text/html": [
       "\n",
       "        <script src=\"/static/components/requirejs/require.js\"></script>\n",
       "        <script>\n",
       "          requirejs.config({\n",
       "            paths: {\n",
       "              base: '/static/base',\n",
       "              plotly: 'https://cdn.plot.ly/plotly-latest.min.js?noext',\n",
       "            },\n",
       "          });\n",
       "        </script>\n",
       "        "
      ],
      "text/plain": [
       "<IPython.core.display.HTML object>"
      ]
     },
     "metadata": {},
     "output_type": "display_data"
    },
    {
     "data": {
      "text/html": [
       "\n",
       "        <script src=\"/static/components/requirejs/require.js\"></script>\n",
       "        <script>\n",
       "          requirejs.config({\n",
       "            paths: {\n",
       "              base: '/static/base',\n",
       "              plotly: 'https://cdn.plot.ly/plotly-latest.min.js?noext',\n",
       "            },\n",
       "          });\n",
       "        </script>\n",
       "        "
      ],
      "text/plain": [
       "<IPython.core.display.HTML object>"
      ]
     },
     "metadata": {},
     "output_type": "display_data"
    },
    {
     "data": {
      "text/html": [
       "\n",
       "        <script src=\"/static/components/requirejs/require.js\"></script>\n",
       "        <script>\n",
       "          requirejs.config({\n",
       "            paths: {\n",
       "              base: '/static/base',\n",
       "              plotly: 'https://cdn.plot.ly/plotly-latest.min.js?noext',\n",
       "            },\n",
       "          });\n",
       "        </script>\n",
       "        "
      ],
      "text/plain": [
       "<IPython.core.display.HTML object>"
      ]
     },
     "metadata": {},
     "output_type": "display_data"
    },
    {
     "data": {
      "text/html": [
       "\n",
       "        <script src=\"/static/components/requirejs/require.js\"></script>\n",
       "        <script>\n",
       "          requirejs.config({\n",
       "            paths: {\n",
       "              base: '/static/base',\n",
       "              plotly: 'https://cdn.plot.ly/plotly-latest.min.js?noext',\n",
       "            },\n",
       "          });\n",
       "        </script>\n",
       "        "
      ],
      "text/plain": [
       "<IPython.core.display.HTML object>"
      ]
     },
     "metadata": {},
     "output_type": "display_data"
    },
    {
     "data": {
      "text/html": [
       "\n",
       "        <script src=\"/static/components/requirejs/require.js\"></script>\n",
       "        <script>\n",
       "          requirejs.config({\n",
       "            paths: {\n",
       "              base: '/static/base',\n",
       "              plotly: 'https://cdn.plot.ly/plotly-latest.min.js?noext',\n",
       "            },\n",
       "          });\n",
       "        </script>\n",
       "        "
      ],
      "text/plain": [
       "<IPython.core.display.HTML object>"
      ]
     },
     "metadata": {},
     "output_type": "display_data"
    },
    {
     "data": {
      "text/html": [
       "\n",
       "        <script src=\"/static/components/requirejs/require.js\"></script>\n",
       "        <script>\n",
       "          requirejs.config({\n",
       "            paths: {\n",
       "              base: '/static/base',\n",
       "              plotly: 'https://cdn.plot.ly/plotly-latest.min.js?noext',\n",
       "            },\n",
       "          });\n",
       "        </script>\n",
       "        "
      ],
      "text/plain": [
       "<IPython.core.display.HTML object>"
      ]
     },
     "metadata": {},
     "output_type": "display_data"
    }
   ],
   "source": [
    "# get the first 100 crimes in the df_incidents dataframe\n",
    "limit = 100\n",
    "incidents = incidents.iloc[0:limit, :]"
   ]
  },
  {
   "cell_type": "code",
   "execution_count": 107,
   "metadata": {},
   "outputs": [
    {
     "data": {
      "text/html": [
       "\n",
       "        <script src=\"/static/components/requirejs/require.js\"></script>\n",
       "        <script>\n",
       "          requirejs.config({\n",
       "            paths: {\n",
       "              base: '/static/base',\n",
       "              plotly: 'https://cdn.plot.ly/plotly-latest.min.js?noext',\n",
       "            },\n",
       "          });\n",
       "        </script>\n",
       "        "
      ],
      "text/plain": [
       "<IPython.core.display.HTML object>"
      ]
     },
     "metadata": {},
     "output_type": "display_data"
    },
    {
     "data": {
      "text/html": [
       "\n",
       "        <script src=\"/static/components/requirejs/require.js\"></script>\n",
       "        <script>\n",
       "          requirejs.config({\n",
       "            paths: {\n",
       "              base: '/static/base',\n",
       "              plotly: 'https://cdn.plot.ly/plotly-latest.min.js?noext',\n",
       "            },\n",
       "          });\n",
       "        </script>\n",
       "        "
      ],
      "text/plain": [
       "<IPython.core.display.HTML object>"
      ]
     },
     "metadata": {},
     "output_type": "display_data"
    },
    {
     "data": {
      "text/html": [
       "\n",
       "        <script src=\"/static/components/requirejs/require.js\"></script>\n",
       "        <script>\n",
       "          requirejs.config({\n",
       "            paths: {\n",
       "              base: '/static/base',\n",
       "              plotly: 'https://cdn.plot.ly/plotly-latest.min.js?noext',\n",
       "            },\n",
       "          });\n",
       "        </script>\n",
       "        "
      ],
      "text/plain": [
       "<IPython.core.display.HTML object>"
      ]
     },
     "metadata": {},
     "output_type": "display_data"
    },
    {
     "data": {
      "text/html": [
       "\n",
       "        <script src=\"/static/components/requirejs/require.js\"></script>\n",
       "        <script>\n",
       "          requirejs.config({\n",
       "            paths: {\n",
       "              base: '/static/base',\n",
       "              plotly: 'https://cdn.plot.ly/plotly-latest.min.js?noext',\n",
       "            },\n",
       "          });\n",
       "        </script>\n",
       "        "
      ],
      "text/plain": [
       "<IPython.core.display.HTML object>"
      ]
     },
     "metadata": {},
     "output_type": "display_data"
    },
    {
     "data": {
      "text/html": [
       "\n",
       "        <script src=\"/static/components/requirejs/require.js\"></script>\n",
       "        <script>\n",
       "          requirejs.config({\n",
       "            paths: {\n",
       "              base: '/static/base',\n",
       "              plotly: 'https://cdn.plot.ly/plotly-latest.min.js?noext',\n",
       "            },\n",
       "          });\n",
       "        </script>\n",
       "        "
      ],
      "text/plain": [
       "<IPython.core.display.HTML object>"
      ]
     },
     "metadata": {},
     "output_type": "display_data"
    },
    {
     "data": {
      "text/html": [
       "\n",
       "        <script src=\"/static/components/requirejs/require.js\"></script>\n",
       "        <script>\n",
       "          requirejs.config({\n",
       "            paths: {\n",
       "              base: '/static/base',\n",
       "              plotly: 'https://cdn.plot.ly/plotly-latest.min.js?noext',\n",
       "            },\n",
       "          });\n",
       "        </script>\n",
       "        "
      ],
      "text/plain": [
       "<IPython.core.display.HTML object>"
      ]
     },
     "metadata": {},
     "output_type": "display_data"
    },
    {
     "data": {
      "text/html": [
       "\n",
       "        <script src=\"/static/components/requirejs/require.js\"></script>\n",
       "        <script>\n",
       "          requirejs.config({\n",
       "            paths: {\n",
       "              base: '/static/base',\n",
       "              plotly: 'https://cdn.plot.ly/plotly-latest.min.js?noext',\n",
       "            },\n",
       "          });\n",
       "        </script>\n",
       "        "
      ],
      "text/plain": [
       "<IPython.core.display.HTML object>"
      ]
     },
     "metadata": {},
     "output_type": "display_data"
    },
    {
     "data": {
      "text/html": [
       "<div style=\"width:100%;\"><div style=\"position:relative;width:100%;height:0;padding-bottom:60%;\"><iframe src=\"data:text/html;charset=utf-8;base64,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\" style=\"position:absolute;width:100%;height:100%;left:0;top:0;border:none !important;\" allowfullscreen webkitallowfullscreen mozallowfullscreen></iframe></div></div>"
      ],
      "text/plain": [
       "<folium.folium.Map at 0x1ddbdadd4c8>"
      ]
     },
     "execution_count": 107,
     "metadata": {},
     "output_type": "execute_result"
    }
   ],
   "source": [
    "# instantiate a feature group for the incidents in the dataframe\n",
    "incidents_place = folium.map.FeatureGroup()\n",
    "\n",
    "# loop through the 100 crimes and add each to the incidents feature group\n",
    "for lat, lng, in zip(incidents.Y, incidents.X):\n",
    "    incidents_place.add_child(\n",
    "        folium.CircleMarker(\n",
    "            [lat, lng],\n",
    "            radius=5, # define how big you want the circle markers to be\n",
    "            color='yellow',\n",
    "            fill=True,\n",
    "            fill_color='blue',\n",
    "            fill_opacity=0.6\n",
    "        )\n",
    "    )\n",
    "\n",
    "# add incidents to map\n",
    "sanfran_map.add_child(incidents_place)"
   ]
  },
  {
   "cell_type": "markdown",
   "metadata": {},
   "source": [
    "### Adding a pop-up text that will be displayed when we hover over a marker.<br>\n",
    "### Making each marker display the category of the crime when flown over."
   ]
  },
  {
   "cell_type": "code",
   "execution_count": 108,
   "metadata": {},
   "outputs": [
    {
     "data": {
      "text/html": [
       "\n",
       "        <script src=\"/static/components/requirejs/require.js\"></script>\n",
       "        <script>\n",
       "          requirejs.config({\n",
       "            paths: {\n",
       "              base: '/static/base',\n",
       "              plotly: 'https://cdn.plot.ly/plotly-latest.min.js?noext',\n",
       "            },\n",
       "          });\n",
       "        </script>\n",
       "        "
      ],
      "text/plain": [
       "<IPython.core.display.HTML object>"
      ]
     },
     "metadata": {},
     "output_type": "display_data"
    },
    {
     "data": {
      "text/html": [
       "\n",
       "        <script src=\"/static/components/requirejs/require.js\"></script>\n",
       "        <script>\n",
       "          requirejs.config({\n",
       "            paths: {\n",
       "              base: '/static/base',\n",
       "              plotly: 'https://cdn.plot.ly/plotly-latest.min.js?noext',\n",
       "            },\n",
       "          });\n",
       "        </script>\n",
       "        "
      ],
      "text/plain": [
       "<IPython.core.display.HTML object>"
      ]
     },
     "metadata": {},
     "output_type": "display_data"
    },
    {
     "data": {
      "text/html": [
       "\n",
       "        <script src=\"/static/components/requirejs/require.js\"></script>\n",
       "        <script>\n",
       "          requirejs.config({\n",
       "            paths: {\n",
       "              base: '/static/base',\n",
       "              plotly: 'https://cdn.plot.ly/plotly-latest.min.js?noext',\n",
       "            },\n",
       "          });\n",
       "        </script>\n",
       "        "
      ],
      "text/plain": [
       "<IPython.core.display.HTML object>"
      ]
     },
     "metadata": {},
     "output_type": "display_data"
    },
    {
     "data": {
      "text/html": [
       "\n",
       "        <script src=\"/static/components/requirejs/require.js\"></script>\n",
       "        <script>\n",
       "          requirejs.config({\n",
       "            paths: {\n",
       "              base: '/static/base',\n",
       "              plotly: 'https://cdn.plot.ly/plotly-latest.min.js?noext',\n",
       "            },\n",
       "          });\n",
       "        </script>\n",
       "        "
      ],
      "text/plain": [
       "<IPython.core.display.HTML object>"
      ]
     },
     "metadata": {},
     "output_type": "display_data"
    },
    {
     "data": {
      "text/html": [
       "\n",
       "        <script src=\"/static/components/requirejs/require.js\"></script>\n",
       "        <script>\n",
       "          requirejs.config({\n",
       "            paths: {\n",
       "              base: '/static/base',\n",
       "              plotly: 'https://cdn.plot.ly/plotly-latest.min.js?noext',\n",
       "            },\n",
       "          });\n",
       "        </script>\n",
       "        "
      ],
      "text/plain": [
       "<IPython.core.display.HTML object>"
      ]
     },
     "metadata": {},
     "output_type": "display_data"
    },
    {
     "data": {
      "text/html": [
       "\n",
       "        <script src=\"/static/components/requirejs/require.js\"></script>\n",
       "        <script>\n",
       "          requirejs.config({\n",
       "            paths: {\n",
       "              base: '/static/base',\n",
       "              plotly: 'https://cdn.plot.ly/plotly-latest.min.js?noext',\n",
       "            },\n",
       "          });\n",
       "        </script>\n",
       "        "
      ],
      "text/plain": [
       "<IPython.core.display.HTML object>"
      ]
     },
     "metadata": {},
     "output_type": "display_data"
    },
    {
     "data": {
      "text/html": [
       "\n",
       "        <script src=\"/static/components/requirejs/require.js\"></script>\n",
       "        <script>\n",
       "          requirejs.config({\n",
       "            paths: {\n",
       "              base: '/static/base',\n",
       "              plotly: 'https://cdn.plot.ly/plotly-latest.min.js?noext',\n",
       "            },\n",
       "          });\n",
       "        </script>\n",
       "        "
      ],
      "text/plain": [
       "<IPython.core.display.HTML object>"
      ]
     },
     "metadata": {},
     "output_type": "display_data"
    },
    {
     "data": {
      "text/html": [
       "<div style=\"width:100%;\"><div style=\"position:relative;width:100%;height:0;padding-bottom:60%;\"><iframe src=\"data:text/html;charset=utf-8;base64,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\" style=\"position:absolute;width:100%;height:100%;left:0;top:0;border:none !important;\" allowfullscreen webkitallowfullscreen mozallowfullscreen></iframe></div></div>"
      ],
      "text/plain": [
       "<folium.folium.Map at 0x1ddbdadd4c8>"
      ]
     },
     "execution_count": 108,
     "metadata": {},
     "output_type": "execute_result"
    }
   ],
   "source": [
    "# instantiate a feature group for the incidents in the dataframe\n",
    "incidents_place = folium.map.FeatureGroup()\n",
    "\n",
    "# loop through the 100 crimes and add each to the incidents feature group\n",
    "for lat, lng, in zip(incidents.Y, incidents.X):\n",
    "    incidents_place.add_child(\n",
    "        folium.CircleMarker(\n",
    "            [lat, lng],\n",
    "            radius=5, # define how big you want the circle markers to be\n",
    "            color='yellow',\n",
    "            fill=True,\n",
    "            fill_color='blue',\n",
    "            fill_opacity=0.6\n",
    "        )\n",
    "    )\n",
    "\n",
    "\n",
    "# add pop-up text to each marker on the map\n",
    "latitudes = list(incidents.Y)\n",
    "longitudes = list(incidents.X)\n",
    "labels = list(incidents.Category)\n",
    "\n",
    "for lat, lng, label in zip(latitudes, longitudes, labels):\n",
    "    folium.Marker([lat, lng], popup=label).add_to(sanfran_map)       \n",
    "\n",
    "# add incidents to map\n",
    "sanfran_map.add_child(incidents_place)"
   ]
  },
  {
   "cell_type": "markdown",
   "metadata": {},
   "source": [
    "### Another visualization method is to group the markers in different clusters.<br>\n",
    "### Each cluster is then represented by the number of crimes in each neighborhood."
   ]
  },
  {
   "cell_type": "code",
   "execution_count": 109,
   "metadata": {},
   "outputs": [
    {
     "data": {
      "text/html": [
       "\n",
       "        <script src=\"/static/components/requirejs/require.js\"></script>\n",
       "        <script>\n",
       "          requirejs.config({\n",
       "            paths: {\n",
       "              base: '/static/base',\n",
       "              plotly: 'https://cdn.plot.ly/plotly-latest.min.js?noext',\n",
       "            },\n",
       "          });\n",
       "        </script>\n",
       "        "
      ],
      "text/plain": [
       "<IPython.core.display.HTML object>"
      ]
     },
     "metadata": {},
     "output_type": "display_data"
    },
    {
     "data": {
      "text/html": [
       "\n",
       "        <script src=\"/static/components/requirejs/require.js\"></script>\n",
       "        <script>\n",
       "          requirejs.config({\n",
       "            paths: {\n",
       "              base: '/static/base',\n",
       "              plotly: 'https://cdn.plot.ly/plotly-latest.min.js?noext',\n",
       "            },\n",
       "          });\n",
       "        </script>\n",
       "        "
      ],
      "text/plain": [
       "<IPython.core.display.HTML object>"
      ]
     },
     "metadata": {},
     "output_type": "display_data"
    },
    {
     "data": {
      "text/html": [
       "\n",
       "        <script src=\"/static/components/requirejs/require.js\"></script>\n",
       "        <script>\n",
       "          requirejs.config({\n",
       "            paths: {\n",
       "              base: '/static/base',\n",
       "              plotly: 'https://cdn.plot.ly/plotly-latest.min.js?noext',\n",
       "            },\n",
       "          });\n",
       "        </script>\n",
       "        "
      ],
      "text/plain": [
       "<IPython.core.display.HTML object>"
      ]
     },
     "metadata": {},
     "output_type": "display_data"
    },
    {
     "data": {
      "text/html": [
       "\n",
       "        <script src=\"/static/components/requirejs/require.js\"></script>\n",
       "        <script>\n",
       "          requirejs.config({\n",
       "            paths: {\n",
       "              base: '/static/base',\n",
       "              plotly: 'https://cdn.plot.ly/plotly-latest.min.js?noext',\n",
       "            },\n",
       "          });\n",
       "        </script>\n",
       "        "
      ],
      "text/plain": [
       "<IPython.core.display.HTML object>"
      ]
     },
     "metadata": {},
     "output_type": "display_data"
    },
    {
     "data": {
      "text/html": [
       "\n",
       "        <script src=\"/static/components/requirejs/require.js\"></script>\n",
       "        <script>\n",
       "          requirejs.config({\n",
       "            paths: {\n",
       "              base: '/static/base',\n",
       "              plotly: 'https://cdn.plot.ly/plotly-latest.min.js?noext',\n",
       "            },\n",
       "          });\n",
       "        </script>\n",
       "        "
      ],
      "text/plain": [
       "<IPython.core.display.HTML object>"
      ]
     },
     "metadata": {},
     "output_type": "display_data"
    },
    {
     "data": {
      "text/html": [
       "\n",
       "        <script src=\"/static/components/requirejs/require.js\"></script>\n",
       "        <script>\n",
       "          requirejs.config({\n",
       "            paths: {\n",
       "              base: '/static/base',\n",
       "              plotly: 'https://cdn.plot.ly/plotly-latest.min.js?noext',\n",
       "            },\n",
       "          });\n",
       "        </script>\n",
       "        "
      ],
      "text/plain": [
       "<IPython.core.display.HTML object>"
      ]
     },
     "metadata": {},
     "output_type": "display_data"
    },
    {
     "data": {
      "text/html": [
       "\n",
       "        <script src=\"/static/components/requirejs/require.js\"></script>\n",
       "        <script>\n",
       "          requirejs.config({\n",
       "            paths: {\n",
       "              base: '/static/base',\n",
       "              plotly: 'https://cdn.plot.ly/plotly-latest.min.js?noext',\n",
       "            },\n",
       "          });\n",
       "        </script>\n",
       "        "
      ],
      "text/plain": [
       "<IPython.core.display.HTML object>"
      ]
     },
     "metadata": {},
     "output_type": "display_data"
    },
    {
     "data": {
      "text/html": [
       "<div style=\"width:100%;\"><div style=\"position:relative;width:100%;height:0;padding-bottom:60%;\"><iframe src=\"data:text/html;charset=utf-8;base64,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\" style=\"position:absolute;width:100%;height:100%;left:0;top:0;border:none !important;\" allowfullscreen webkitallowfullscreen mozallowfullscreen></iframe></div></div>"
      ],
      "text/plain": [
       "<folium.folium.Map at 0x1ddc70863c8>"
      ]
     },
     "execution_count": 109,
     "metadata": {},
     "output_type": "execute_result"
    }
   ],
   "source": [
    "from folium import plugins\n",
    "\n",
    "# let's start again with a clean copy of the map of San Francisco\n",
    "sanfran_map = folium.Map(location = [latitude, longitude], zoom_start = 12)\n",
    "\n",
    "# instantiate a mark cluster object for the incidents in the dataframe\n",
    "incidents_place = plugins.MarkerCluster().add_to(sanfran_map)\n",
    "\n",
    "# loop through the dataframe and add each data point to the mark cluster\n",
    "for lat, lng, label, in zip(incidents.Y, incidents.X, incidents.Category):\n",
    "    folium.Marker(\n",
    "        location=[lat, lng],\n",
    "        icon=None,\n",
    "        popup=label,\n",
    "    ).add_to(incidents_place)\n",
    "\n",
    "# display map\n",
    "sanfran_map"
   ]
  }
 ],
 "metadata": {
  "kernelspec": {
   "display_name": "Python 3",
   "language": "python",
   "name": "python3"
  },
  "language_info": {
   "codemirror_mode": {
    "name": "ipython",
    "version": 3
   },
   "file_extension": ".py",
   "mimetype": "text/x-python",
   "name": "python",
   "nbconvert_exporter": "python",
   "pygments_lexer": "ipython3",
   "version": "3.7.4"
  }
 },
 "nbformat": 4,
 "nbformat_minor": 4
}
