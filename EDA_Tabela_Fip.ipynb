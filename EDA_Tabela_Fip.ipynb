{
  "nbformat": 4,
  "nbformat_minor": 0,
  "metadata": {
    "language_info": {
      "codemirror_mode": {
        "name": "ipython",
        "version": 3
      },
      "file_extension": ".py",
      "mimetype": "text/x-python",
      "name": "python",
      "nbconvert_exporter": "python",
      "pygments_lexer": "ipython3",
      "version": "3.6.8-final"
    },
    "orig_nbformat": 2,
    "kernelspec": {
      "name": "python36864bitjupytertoolvenvconda7b5c8cfa9ceb49d8a44b1ff0a67b247f",
      "display_name": "Python 3.6.8 64-bit ('JupyterTool_vEnv': conda)"
    },
    "colab": {
      "name": "EDA - Tabela_Fip.ipynb",
      "provenance": [],
      "collapsed_sections": [],
      "include_colab_link": true
    },
    "accelerator": "GPU"
  },
  "cells": [
    {
      "cell_type": "markdown",
      "metadata": {
        "id": "view-in-github",
        "colab_type": "text"
      },
      "source": [
        "<a href=\"https://colab.research.google.com/github/Renato-Rsprojetos3D/Machine-Learning-Data-Sciences/blob/master/EDA_Tabela_Fip.ipynb\" target=\"_parent\"><img src=\"https://colab.research.google.com/assets/colab-badge.svg\" alt=\"Open In Colab\"/></a>"
      ]
    },
    {
      "cell_type": "markdown",
      "metadata": {
        "id": "Pn2a46j4yHvW",
        "colab_type": "text"
      },
      "source": [
        "![alt text](https://media2.giphy.com/media/pUeXcg80cO8I8/giphy.gif?cid=ecf05e47e2998deecf9d614c58f3c36c533943dc4747b7e8&rid=giphy.gif)\n",
        "# Importando as bibliotecas necessarias\n"
      ]
    },
    {
      "cell_type": "code",
      "metadata": {
        "id": "qe9YS2rREc0n",
        "colab_type": "code",
        "colab": {
          "base_uri": "https://localhost:8080/",
          "height": 34
        },
        "outputId": "7459e777-2c13-48b1-9b48-59f5834e8941"
      },
      "source": [
        "from google.colab import drive\n",
        "drive.mount('/content/drive')"
      ],
      "execution_count": 1,
      "outputs": [
        {
          "output_type": "stream",
          "text": [
            "Drive already mounted at /content/drive; to attempt to forcibly remount, call drive.mount(\"/content/drive\", force_remount=True).\n"
          ],
          "name": "stdout"
        }
      ]
    },
    {
      "cell_type": "code",
      "metadata": {
        "id": "ow_XKSYiwSvw",
        "colab_type": "code",
        "colab": {}
      },
      "source": [
        "import pandas as pd\n",
        "pd.set_option('display.max_rows', 3000)\n",
        "import numpy as np\n",
        "import matplotlib.pyplot as plt\n",
        "import re"
      ],
      "execution_count": 0,
      "outputs": []
    },
    {
      "cell_type": "markdown",
      "metadata": {
        "id": "c0z3-xVozybN",
        "colab_type": "text"
      },
      "source": [
        "![alt text](https://media.giphy.com/media/OiC5BKaPVLl60/giphy.gif)\n",
        "# Carregandos os Dados e Visualizando\n"
      ]
    },
    {
      "cell_type": "code",
      "metadata": {
        "id": "nenYT1gCwSv1",
        "colab_type": "code",
        "outputId": "81dadd7f-3d6f-4b13-9e5a-da2c669998a0",
        "colab": {
          "base_uri": "https://localhost:8080/",
          "height": 204
        }
      },
      "source": [
        "data = pd.read_csv('/content/drive/My Drive/fipe_Jun2018.csv', encoding=\"UTF-8\")\n",
        "\n",
        "# Visualizando os Dados\n",
        "data.head()"
      ],
      "execution_count": 3,
      "outputs": [
        {
          "output_type": "execute_result",
          "data": {
            "text/html": [
              "<div>\n",
              "<style scoped>\n",
              "    .dataframe tbody tr th:only-of-type {\n",
              "        vertical-align: middle;\n",
              "    }\n",
              "\n",
              "    .dataframe tbody tr th {\n",
              "        vertical-align: top;\n",
              "    }\n",
              "\n",
              "    .dataframe thead th {\n",
              "        text-align: right;\n",
              "    }\n",
              "</style>\n",
              "<table border=\"1\" class=\"dataframe\">\n",
              "  <thead>\n",
              "    <tr style=\"text-align: right;\">\n",
              "      <th></th>\n",
              "      <th>Unnamed: 0</th>\n",
              "      <th>brand</th>\n",
              "      <th>vehicle</th>\n",
              "      <th>year_model</th>\n",
              "      <th>fuel</th>\n",
              "      <th>price_reference</th>\n",
              "      <th>price</th>\n",
              "    </tr>\n",
              "  </thead>\n",
              "  <tbody>\n",
              "    <tr>\n",
              "      <th>0</th>\n",
              "      <td>1</td>\n",
              "      <td>Acura</td>\n",
              "      <td>Legend 3.2/3.5</td>\n",
              "      <td>1998</td>\n",
              "      <td>Gasoline</td>\n",
              "      <td>junho de 2018</td>\n",
              "      <td>R$ 27.942,00</td>\n",
              "    </tr>\n",
              "    <tr>\n",
              "      <th>1</th>\n",
              "      <td>2</td>\n",
              "      <td>Acura</td>\n",
              "      <td>Legend 3.2/3.5</td>\n",
              "      <td>1997</td>\n",
              "      <td>Gasoline</td>\n",
              "      <td>junho de 2018</td>\n",
              "      <td>R$ 23.392,00</td>\n",
              "    </tr>\n",
              "    <tr>\n",
              "      <th>2</th>\n",
              "      <td>3</td>\n",
              "      <td>Acura</td>\n",
              "      <td>Legend 3.2/3.5</td>\n",
              "      <td>1996</td>\n",
              "      <td>Gasoline</td>\n",
              "      <td>junho de 2018</td>\n",
              "      <td>R$ 22.682,00</td>\n",
              "    </tr>\n",
              "    <tr>\n",
              "      <th>3</th>\n",
              "      <td>4</td>\n",
              "      <td>Acura</td>\n",
              "      <td>Legend 3.2/3.5</td>\n",
              "      <td>1995</td>\n",
              "      <td>Gasoline</td>\n",
              "      <td>junho de 2018</td>\n",
              "      <td>R$ 20.648,00</td>\n",
              "    </tr>\n",
              "    <tr>\n",
              "      <th>4</th>\n",
              "      <td>5</td>\n",
              "      <td>Acura</td>\n",
              "      <td>Legend 3.2/3.5</td>\n",
              "      <td>1994</td>\n",
              "      <td>Gasoline</td>\n",
              "      <td>junho de 2018</td>\n",
              "      <td>R$ 18.343,00</td>\n",
              "    </tr>\n",
              "  </tbody>\n",
              "</table>\n",
              "</div>"
            ],
            "text/plain": [
              "   Unnamed: 0  brand         vehicle  ...      fuel price_reference         price\n",
              "0           1  Acura  Legend 3.2/3.5  ...  Gasoline   junho de 2018  R$ 27.942,00\n",
              "1           2  Acura  Legend 3.2/3.5  ...  Gasoline   junho de 2018  R$ 23.392,00\n",
              "2           3  Acura  Legend 3.2/3.5  ...  Gasoline   junho de 2018  R$ 22.682,00\n",
              "3           4  Acura  Legend 3.2/3.5  ...  Gasoline   junho de 2018  R$ 20.648,00\n",
              "4           5  Acura  Legend 3.2/3.5  ...  Gasoline   junho de 2018  R$ 18.343,00\n",
              "\n",
              "[5 rows x 7 columns]"
            ]
          },
          "metadata": {
            "tags": []
          },
          "execution_count": 3
        }
      ]
    },
    {
      "cell_type": "markdown",
      "metadata": {
        "id": "TC9dY2q616Hx",
        "colab_type": "text"
      },
      "source": [
        "![alt text](https://media.giphy.com/media/l3q2TxmRrcW1PBcmk/giphy.gif)\n",
        "\n",
        "# Vou começar a preparação dos Dados"
      ]
    },
    {
      "cell_type": "markdown",
      "metadata": {
        "id": "UADLYoN50Mux",
        "colab_type": "text"
      },
      "source": [
        "#### Após visualizar os dados é possivel perceber que as colunas \" \tUnnamed: 0 e price_refence \" não serão necessarias por isso vou remover essas colunas"
      ]
    },
    {
      "cell_type": "code",
      "metadata": {
        "id": "NmOLkIRKwSv6",
        "colab_type": "code",
        "outputId": "6edf7df7-346d-4de3-ed20-19d8ff8375f6",
        "colab": {
          "base_uri": "https://localhost:8080/",
          "height": 204
        }
      },
      "source": [
        "# Removendo as coluunas \" Unnamed: 0  e price_reference \"\n",
        "data.drop([\"Unnamed: 0\",\"price_reference\"], axis =1, inplace= True)\n",
        "\n",
        "#Visualizando o resultado\n",
        "data.head()"
      ],
      "execution_count": 4,
      "outputs": [
        {
          "output_type": "execute_result",
          "data": {
            "text/html": [
              "<div>\n",
              "<style scoped>\n",
              "    .dataframe tbody tr th:only-of-type {\n",
              "        vertical-align: middle;\n",
              "    }\n",
              "\n",
              "    .dataframe tbody tr th {\n",
              "        vertical-align: top;\n",
              "    }\n",
              "\n",
              "    .dataframe thead th {\n",
              "        text-align: right;\n",
              "    }\n",
              "</style>\n",
              "<table border=\"1\" class=\"dataframe\">\n",
              "  <thead>\n",
              "    <tr style=\"text-align: right;\">\n",
              "      <th></th>\n",
              "      <th>brand</th>\n",
              "      <th>vehicle</th>\n",
              "      <th>year_model</th>\n",
              "      <th>fuel</th>\n",
              "      <th>price</th>\n",
              "    </tr>\n",
              "  </thead>\n",
              "  <tbody>\n",
              "    <tr>\n",
              "      <th>0</th>\n",
              "      <td>Acura</td>\n",
              "      <td>Legend 3.2/3.5</td>\n",
              "      <td>1998</td>\n",
              "      <td>Gasoline</td>\n",
              "      <td>R$ 27.942,00</td>\n",
              "    </tr>\n",
              "    <tr>\n",
              "      <th>1</th>\n",
              "      <td>Acura</td>\n",
              "      <td>Legend 3.2/3.5</td>\n",
              "      <td>1997</td>\n",
              "      <td>Gasoline</td>\n",
              "      <td>R$ 23.392,00</td>\n",
              "    </tr>\n",
              "    <tr>\n",
              "      <th>2</th>\n",
              "      <td>Acura</td>\n",
              "      <td>Legend 3.2/3.5</td>\n",
              "      <td>1996</td>\n",
              "      <td>Gasoline</td>\n",
              "      <td>R$ 22.682,00</td>\n",
              "    </tr>\n",
              "    <tr>\n",
              "      <th>3</th>\n",
              "      <td>Acura</td>\n",
              "      <td>Legend 3.2/3.5</td>\n",
              "      <td>1995</td>\n",
              "      <td>Gasoline</td>\n",
              "      <td>R$ 20.648,00</td>\n",
              "    </tr>\n",
              "    <tr>\n",
              "      <th>4</th>\n",
              "      <td>Acura</td>\n",
              "      <td>Legend 3.2/3.5</td>\n",
              "      <td>1994</td>\n",
              "      <td>Gasoline</td>\n",
              "      <td>R$ 18.343,00</td>\n",
              "    </tr>\n",
              "  </tbody>\n",
              "</table>\n",
              "</div>"
            ],
            "text/plain": [
              "   brand         vehicle  year_model      fuel         price\n",
              "0  Acura  Legend 3.2/3.5        1998  Gasoline  R$ 27.942,00\n",
              "1  Acura  Legend 3.2/3.5        1997  Gasoline  R$ 23.392,00\n",
              "2  Acura  Legend 3.2/3.5        1996  Gasoline  R$ 22.682,00\n",
              "3  Acura  Legend 3.2/3.5        1995  Gasoline  R$ 20.648,00\n",
              "4  Acura  Legend 3.2/3.5        1994  Gasoline  R$ 18.343,00"
            ]
          },
          "metadata": {
            "tags": []
          },
          "execution_count": 4
        }
      ]
    },
    {
      "cell_type": "markdown",
      "metadata": {
        "id": "dzTK1W_-1FDy",
        "colab_type": "text"
      },
      "source": [
        "#### Vou também renomear todos nomes das colunas alterando para o idioma português"
      ]
    },
    {
      "cell_type": "code",
      "metadata": {
        "id": "xHjT068ewSv9",
        "colab_type": "code",
        "outputId": "a87b0441-f447-47c6-b9f3-b1cb0638671b",
        "colab": {
          "base_uri": "https://localhost:8080/",
          "height": 204
        }
      },
      "source": [
        "# Renomeando os nomes das colunas\n",
        "data.columns = [\"Marca\",'Carro','Ano_Modelo','Combustivel','Preco']\n",
        "\n",
        "# Visualizando o resultado\n",
        "data.head()"
      ],
      "execution_count": 5,
      "outputs": [
        {
          "output_type": "execute_result",
          "data": {
            "text/html": [
              "<div>\n",
              "<style scoped>\n",
              "    .dataframe tbody tr th:only-of-type {\n",
              "        vertical-align: middle;\n",
              "    }\n",
              "\n",
              "    .dataframe tbody tr th {\n",
              "        vertical-align: top;\n",
              "    }\n",
              "\n",
              "    .dataframe thead th {\n",
              "        text-align: right;\n",
              "    }\n",
              "</style>\n",
              "<table border=\"1\" class=\"dataframe\">\n",
              "  <thead>\n",
              "    <tr style=\"text-align: right;\">\n",
              "      <th></th>\n",
              "      <th>Marca</th>\n",
              "      <th>Carro</th>\n",
              "      <th>Ano_Modelo</th>\n",
              "      <th>Combustivel</th>\n",
              "      <th>Preco</th>\n",
              "    </tr>\n",
              "  </thead>\n",
              "  <tbody>\n",
              "    <tr>\n",
              "      <th>0</th>\n",
              "      <td>Acura</td>\n",
              "      <td>Legend 3.2/3.5</td>\n",
              "      <td>1998</td>\n",
              "      <td>Gasoline</td>\n",
              "      <td>R$ 27.942,00</td>\n",
              "    </tr>\n",
              "    <tr>\n",
              "      <th>1</th>\n",
              "      <td>Acura</td>\n",
              "      <td>Legend 3.2/3.5</td>\n",
              "      <td>1997</td>\n",
              "      <td>Gasoline</td>\n",
              "      <td>R$ 23.392,00</td>\n",
              "    </tr>\n",
              "    <tr>\n",
              "      <th>2</th>\n",
              "      <td>Acura</td>\n",
              "      <td>Legend 3.2/3.5</td>\n",
              "      <td>1996</td>\n",
              "      <td>Gasoline</td>\n",
              "      <td>R$ 22.682,00</td>\n",
              "    </tr>\n",
              "    <tr>\n",
              "      <th>3</th>\n",
              "      <td>Acura</td>\n",
              "      <td>Legend 3.2/3.5</td>\n",
              "      <td>1995</td>\n",
              "      <td>Gasoline</td>\n",
              "      <td>R$ 20.648,00</td>\n",
              "    </tr>\n",
              "    <tr>\n",
              "      <th>4</th>\n",
              "      <td>Acura</td>\n",
              "      <td>Legend 3.2/3.5</td>\n",
              "      <td>1994</td>\n",
              "      <td>Gasoline</td>\n",
              "      <td>R$ 18.343,00</td>\n",
              "    </tr>\n",
              "  </tbody>\n",
              "</table>\n",
              "</div>"
            ],
            "text/plain": [
              "   Marca           Carro  Ano_Modelo Combustivel         Preco\n",
              "0  Acura  Legend 3.2/3.5        1998    Gasoline  R$ 27.942,00\n",
              "1  Acura  Legend 3.2/3.5        1997    Gasoline  R$ 23.392,00\n",
              "2  Acura  Legend 3.2/3.5        1996    Gasoline  R$ 22.682,00\n",
              "3  Acura  Legend 3.2/3.5        1995    Gasoline  R$ 20.648,00\n",
              "4  Acura  Legend 3.2/3.5        1994    Gasoline  R$ 18.343,00"
            ]
          },
          "metadata": {
            "tags": []
          },
          "execution_count": 5
        }
      ]
    },
    {
      "cell_type": "markdown",
      "metadata": {
        "id": "RDCcCuRH2qDi",
        "colab_type": "text"
      },
      "source": [
        "#### Vou começar visualizando os valores unicos da coluna \" Ano_Modelo \""
      ]
    },
    {
      "cell_type": "code",
      "metadata": {
        "id": "dJyj62KfxBW_",
        "colab_type": "code",
        "outputId": "995ade61-752e-455f-9e62-c2eab86a286b",
        "colab": {
          "base_uri": "https://localhost:8080/",
          "height": 85
        }
      },
      "source": [
        "# Obtendo os valores unicos da coluna Ano_Modelo\n",
        "data.Ano_Modelo.unique()"
      ],
      "execution_count": 6,
      "outputs": [
        {
          "output_type": "execute_result",
          "data": {
            "text/plain": [
              "array([ 1998,  1997,  1996,  1995,  1994,  1993,  1992,  1991,  2007,\n",
              "        2006,  2005,  2004,  2015,  2014,  2013,  2012,  2011,  2010,\n",
              "        2009,  2008, 32000,  2018,  2017,  2016,  1999,  2003,  2002,\n",
              "        2001,  2000,  1986,  1985,  1990,  1987,  1989,  1988,  2019])"
            ]
          },
          "metadata": {
            "tags": []
          },
          "execution_count": 6
        }
      ]
    },
    {
      "cell_type": "markdown",
      "metadata": {
        "id": "AlbAk2E03Cod",
        "colab_type": "text"
      },
      "source": [
        "#### Após a visualização pude ver que existe um valor de \" 32000 \" que refere-se a todos os carros que são zero km, por isso vou alterar esse valor para ficar de acordo"
      ]
    },
    {
      "cell_type": "code",
      "metadata": {
        "id": "hIhA43VE3qCa",
        "colab_type": "code",
        "outputId": "c7cea49d-63e1-4caf-c434-34d0239eb1a1",
        "colab": {
          "base_uri": "https://localhost:8080/",
          "height": 85
        }
      },
      "source": [
        "# Filtrando valores iguais \" 32000 \" na coluna Ano_Modelo e substituindo esses valores para \" Zero Km\"\n",
        "data.loc[data.Ano_Modelo == 32000 , 'Ano_Modelo'] = 'Zero KM'\n",
        "\n",
        "# Visualizando o resultado\n",
        "data.Ano_Modelo.unique()"
      ],
      "execution_count": 7,
      "outputs": [
        {
          "output_type": "execute_result",
          "data": {
            "text/plain": [
              "array([1998, 1997, 1996, 1995, 1994, 1993, 1992, 1991, 2007, 2006, 2005,\n",
              "       2004, 2015, 2014, 2013, 2012, 2011, 2010, 2009, 2008, 'Zero KM',\n",
              "       2018, 2017, 2016, 1999, 2003, 2002, 2001, 2000, 1986, 1985, 1990,\n",
              "       1987, 1989, 1988, 2019], dtype=object)"
            ]
          },
          "metadata": {
            "tags": []
          },
          "execution_count": 7
        }
      ]
    },
    {
      "cell_type": "code",
      "metadata": {
        "id": "JCQHw9sE5FMq",
        "colab_type": "code",
        "outputId": "807dbb25-ea8d-4afa-bb00-e19df9879e71",
        "colab": {
          "base_uri": "https://localhost:8080/",
          "height": 221
        }
      },
      "source": [
        "# Obtendo infromação dos tipos dos dados \n",
        "data.info()"
      ],
      "execution_count": 8,
      "outputs": [
        {
          "output_type": "stream",
          "text": [
            "<class 'pandas.core.frame.DataFrame'>\n",
            "RangeIndex: 21797 entries, 0 to 21796\n",
            "Data columns (total 5 columns):\n",
            " #   Column       Non-Null Count  Dtype \n",
            "---  ------       --------------  ----- \n",
            " 0   Marca        21797 non-null  object\n",
            " 1   Carro        21797 non-null  object\n",
            " 2   Ano_Modelo   21797 non-null  object\n",
            " 3   Combustivel  21797 non-null  object\n",
            " 4   Preco        21797 non-null  object\n",
            "dtypes: object(5)\n",
            "memory usage: 851.6+ KB\n"
          ],
          "name": "stdout"
        }
      ]
    },
    {
      "cell_type": "markdown",
      "metadata": {
        "id": "o2mm3k3K5Uy1",
        "colab_type": "text"
      },
      "source": [
        "#### Após verficar o tipo dos dados pude ver que a coluna \" Preco \" é do tipo object , para fazer um previsão de preco de novos carros preciso converter essa coluna para valores numericos , para fazer isso vou precisar remover \"R$\" dela , senão a conversão não sera entendida pelo pandas."
      ]
    },
    {
      "cell_type": "code",
      "metadata": {
        "id": "B9gAos-P6Kcy",
        "colab_type": "code",
        "outputId": "b491eed9-12d3-4810-c354-82c73b23d6e3",
        "colab": {
          "base_uri": "https://localhost:8080/",
          "height": 204
        }
      },
      "source": [
        "data['Preco'] = [re.sub(\"R\\\\$|\\\\.| \", \"\" , x) for x in data.Preco]\n",
        "\n",
        "# Visualizando o resultado\n",
        "data.head()"
      ],
      "execution_count": 9,
      "outputs": [
        {
          "output_type": "execute_result",
          "data": {
            "text/html": [
              "<div>\n",
              "<style scoped>\n",
              "    .dataframe tbody tr th:only-of-type {\n",
              "        vertical-align: middle;\n",
              "    }\n",
              "\n",
              "    .dataframe tbody tr th {\n",
              "        vertical-align: top;\n",
              "    }\n",
              "\n",
              "    .dataframe thead th {\n",
              "        text-align: right;\n",
              "    }\n",
              "</style>\n",
              "<table border=\"1\" class=\"dataframe\">\n",
              "  <thead>\n",
              "    <tr style=\"text-align: right;\">\n",
              "      <th></th>\n",
              "      <th>Marca</th>\n",
              "      <th>Carro</th>\n",
              "      <th>Ano_Modelo</th>\n",
              "      <th>Combustivel</th>\n",
              "      <th>Preco</th>\n",
              "    </tr>\n",
              "  </thead>\n",
              "  <tbody>\n",
              "    <tr>\n",
              "      <th>0</th>\n",
              "      <td>Acura</td>\n",
              "      <td>Legend 3.2/3.5</td>\n",
              "      <td>1998</td>\n",
              "      <td>Gasoline</td>\n",
              "      <td>27942,00</td>\n",
              "    </tr>\n",
              "    <tr>\n",
              "      <th>1</th>\n",
              "      <td>Acura</td>\n",
              "      <td>Legend 3.2/3.5</td>\n",
              "      <td>1997</td>\n",
              "      <td>Gasoline</td>\n",
              "      <td>23392,00</td>\n",
              "    </tr>\n",
              "    <tr>\n",
              "      <th>2</th>\n",
              "      <td>Acura</td>\n",
              "      <td>Legend 3.2/3.5</td>\n",
              "      <td>1996</td>\n",
              "      <td>Gasoline</td>\n",
              "      <td>22682,00</td>\n",
              "    </tr>\n",
              "    <tr>\n",
              "      <th>3</th>\n",
              "      <td>Acura</td>\n",
              "      <td>Legend 3.2/3.5</td>\n",
              "      <td>1995</td>\n",
              "      <td>Gasoline</td>\n",
              "      <td>20648,00</td>\n",
              "    </tr>\n",
              "    <tr>\n",
              "      <th>4</th>\n",
              "      <td>Acura</td>\n",
              "      <td>Legend 3.2/3.5</td>\n",
              "      <td>1994</td>\n",
              "      <td>Gasoline</td>\n",
              "      <td>18343,00</td>\n",
              "    </tr>\n",
              "  </tbody>\n",
              "</table>\n",
              "</div>"
            ],
            "text/plain": [
              "   Marca           Carro Ano_Modelo Combustivel     Preco\n",
              "0  Acura  Legend 3.2/3.5       1998    Gasoline  27942,00\n",
              "1  Acura  Legend 3.2/3.5       1997    Gasoline  23392,00\n",
              "2  Acura  Legend 3.2/3.5       1996    Gasoline  22682,00\n",
              "3  Acura  Legend 3.2/3.5       1995    Gasoline  20648,00\n",
              "4  Acura  Legend 3.2/3.5       1994    Gasoline  18343,00"
            ]
          },
          "metadata": {
            "tags": []
          },
          "execution_count": 9
        }
      ]
    },
    {
      "cell_type": "code",
      "metadata": {
        "id": "MRSQP1Eq7YU1",
        "colab_type": "code",
        "outputId": "dccb64a2-d721-4c23-e25f-2cd8e8f5fbad",
        "colab": {
          "base_uri": "https://localhost:8080/",
          "height": 204
        }
      },
      "source": [
        "# Vou remover ,00 também da coluna \" Preco \"\n",
        "\n",
        "data['Preco']  = [re.sub(\"\\\\,00\",\"\", x) for x in data.Preco]\n",
        "\n",
        "# Visualizando o resultado\n",
        "data.head()"
      ],
      "execution_count": 10,
      "outputs": [
        {
          "output_type": "execute_result",
          "data": {
            "text/html": [
              "<div>\n",
              "<style scoped>\n",
              "    .dataframe tbody tr th:only-of-type {\n",
              "        vertical-align: middle;\n",
              "    }\n",
              "\n",
              "    .dataframe tbody tr th {\n",
              "        vertical-align: top;\n",
              "    }\n",
              "\n",
              "    .dataframe thead th {\n",
              "        text-align: right;\n",
              "    }\n",
              "</style>\n",
              "<table border=\"1\" class=\"dataframe\">\n",
              "  <thead>\n",
              "    <tr style=\"text-align: right;\">\n",
              "      <th></th>\n",
              "      <th>Marca</th>\n",
              "      <th>Carro</th>\n",
              "      <th>Ano_Modelo</th>\n",
              "      <th>Combustivel</th>\n",
              "      <th>Preco</th>\n",
              "    </tr>\n",
              "  </thead>\n",
              "  <tbody>\n",
              "    <tr>\n",
              "      <th>0</th>\n",
              "      <td>Acura</td>\n",
              "      <td>Legend 3.2/3.5</td>\n",
              "      <td>1998</td>\n",
              "      <td>Gasoline</td>\n",
              "      <td>27942</td>\n",
              "    </tr>\n",
              "    <tr>\n",
              "      <th>1</th>\n",
              "      <td>Acura</td>\n",
              "      <td>Legend 3.2/3.5</td>\n",
              "      <td>1997</td>\n",
              "      <td>Gasoline</td>\n",
              "      <td>23392</td>\n",
              "    </tr>\n",
              "    <tr>\n",
              "      <th>2</th>\n",
              "      <td>Acura</td>\n",
              "      <td>Legend 3.2/3.5</td>\n",
              "      <td>1996</td>\n",
              "      <td>Gasoline</td>\n",
              "      <td>22682</td>\n",
              "    </tr>\n",
              "    <tr>\n",
              "      <th>3</th>\n",
              "      <td>Acura</td>\n",
              "      <td>Legend 3.2/3.5</td>\n",
              "      <td>1995</td>\n",
              "      <td>Gasoline</td>\n",
              "      <td>20648</td>\n",
              "    </tr>\n",
              "    <tr>\n",
              "      <th>4</th>\n",
              "      <td>Acura</td>\n",
              "      <td>Legend 3.2/3.5</td>\n",
              "      <td>1994</td>\n",
              "      <td>Gasoline</td>\n",
              "      <td>18343</td>\n",
              "    </tr>\n",
              "  </tbody>\n",
              "</table>\n",
              "</div>"
            ],
            "text/plain": [
              "   Marca           Carro Ano_Modelo Combustivel  Preco\n",
              "0  Acura  Legend 3.2/3.5       1998    Gasoline  27942\n",
              "1  Acura  Legend 3.2/3.5       1997    Gasoline  23392\n",
              "2  Acura  Legend 3.2/3.5       1996    Gasoline  22682\n",
              "3  Acura  Legend 3.2/3.5       1995    Gasoline  20648\n",
              "4  Acura  Legend 3.2/3.5       1994    Gasoline  18343"
            ]
          },
          "metadata": {
            "tags": []
          },
          "execution_count": 10
        }
      ]
    },
    {
      "cell_type": "markdown",
      "metadata": {
        "id": "9jkil2tv8aJ0",
        "colab_type": "text"
      },
      "source": [
        "![alt text](https://media.giphy.com/media/3orif7P2tOrEeO6zIs/giphy.gif)\n",
        "# Feature Engineering ( Extração de novas colunas )"
      ]
    },
    {
      "cell_type": "markdown",
      "metadata": {
        "id": "6MXYoGQx9AM6",
        "colab_type": "text"
      },
      "source": [
        "#### A coluna carro possui algumas informações que podem ser usadas para criar novas colunas e assim aumentar a perfomance dos algoritimos de machine learning , e é isso que farei daqui para frente"
      ]
    },
    {
      "cell_type": "code",
      "metadata": {
        "id": "aSjipSnX92bA",
        "colab_type": "code",
        "outputId": "5078b518-c1e8-4b13-d835-ac312b78430d",
        "colab": {
          "base_uri": "https://localhost:8080/",
          "height": 544
        }
      },
      "source": [
        "# Visualizando as 30 primeiras linhas\n",
        "data.Carro.head(30)"
      ],
      "execution_count": 11,
      "outputs": [
        {
          "output_type": "execute_result",
          "data": {
            "text/plain": [
              "0                       Legend 3.2/3.5\n",
              "1                       Legend 3.2/3.5\n",
              "2                       Legend 3.2/3.5\n",
              "3                       Legend 3.2/3.5\n",
              "4                       Legend 3.2/3.5\n",
              "5                       Legend 3.2/3.5\n",
              "6                       Legend 3.2/3.5\n",
              "7                       Legend 3.2/3.5\n",
              "8                              NSX 3.0\n",
              "9                              NSX 3.0\n",
              "10                             NSX 3.0\n",
              "11                             NSX 3.0\n",
              "12                             NSX 3.0\n",
              "13     MARRUÁ 2.8 12V 132cv TDI Diesel\n",
              "14     MARRUÁ 2.8 12V 132cv TDI Diesel\n",
              "15     MARRUÁ 2.8 12V 132cv TDI Diesel\n",
              "16     MARRUÁ 2.8 12V 132cv TDI Diesel\n",
              "17    MARRUÁ AM 100 2.8  CS TDI Diesel\n",
              "18    MARRUÁ AM 100 2.8  CS TDI Diesel\n",
              "19    MARRUÁ AM 100 2.8  CS TDI Diesel\n",
              "20    MARRUÁ AM 100 2.8  CS TDI Diesel\n",
              "21    MARRUÁ AM 100 2.8  CS TDI Diesel\n",
              "22    MARRUÁ AM 100 2.8  CS TDI Diesel\n",
              "23    MARRUÁ AM 100 2.8  CS TDI Diesel\n",
              "24    MARRUÁ AM 100 2.8  CS TDI Diesel\n",
              "25     MARRUÁ AM 100 2.8 CD TDI Diesel\n",
              "26     MARRUÁ AM 100 2.8 CD TDI Diesel\n",
              "27     MARRUÁ AM 100 2.8 CD TDI Diesel\n",
              "28     MARRUÁ AM 100 2.8 CD TDI Diesel\n",
              "29     MARRUÁ AM 100 2.8 CD TDI Diesel\n",
              "Name: Carro, dtype: object"
            ]
          },
          "metadata": {
            "tags": []
          },
          "execution_count": 11
        }
      ]
    },
    {
      "cell_type": "markdown",
      "metadata": {
        "id": "2SsUzTH0-sn5",
        "colab_type": "text"
      },
      "source": [
        "#### Primeira coisa que vou extrair é nome , acredito que ele possa ser uma boa feature, pois quando falamos de carros somente pelo nome sabemos se ele é bom ou ruim , e consequentemente o nome deve estar atrelado ao preço"
      ]
    },
    {
      "cell_type": "code",
      "metadata": {
        "id": "2x8xKdWM_TS-",
        "colab_type": "code",
        "outputId": "356a6ec5-42a6-4769-e6ed-e42a6e5ddbdd",
        "colab": {
          "base_uri": "https://localhost:8080/",
          "height": 204
        }
      },
      "source": [
        "# new data frame with split value columns  \n",
        "nome = data[\"Carro\"].str.split(\" \", n = 1, expand = True)  \n",
        "    \n",
        "# making seperate first name column from new data frame  \n",
        "data[\"Nome_Carro\"]= nome[0]  \n",
        "\n",
        "# Visualizando o resulatdo\n",
        "data.head()"
      ],
      "execution_count": 12,
      "outputs": [
        {
          "output_type": "execute_result",
          "data": {
            "text/html": [
              "<div>\n",
              "<style scoped>\n",
              "    .dataframe tbody tr th:only-of-type {\n",
              "        vertical-align: middle;\n",
              "    }\n",
              "\n",
              "    .dataframe tbody tr th {\n",
              "        vertical-align: top;\n",
              "    }\n",
              "\n",
              "    .dataframe thead th {\n",
              "        text-align: right;\n",
              "    }\n",
              "</style>\n",
              "<table border=\"1\" class=\"dataframe\">\n",
              "  <thead>\n",
              "    <tr style=\"text-align: right;\">\n",
              "      <th></th>\n",
              "      <th>Marca</th>\n",
              "      <th>Carro</th>\n",
              "      <th>Ano_Modelo</th>\n",
              "      <th>Combustivel</th>\n",
              "      <th>Preco</th>\n",
              "      <th>Nome_Carro</th>\n",
              "    </tr>\n",
              "  </thead>\n",
              "  <tbody>\n",
              "    <tr>\n",
              "      <th>0</th>\n",
              "      <td>Acura</td>\n",
              "      <td>Legend 3.2/3.5</td>\n",
              "      <td>1998</td>\n",
              "      <td>Gasoline</td>\n",
              "      <td>27942</td>\n",
              "      <td>Legend</td>\n",
              "    </tr>\n",
              "    <tr>\n",
              "      <th>1</th>\n",
              "      <td>Acura</td>\n",
              "      <td>Legend 3.2/3.5</td>\n",
              "      <td>1997</td>\n",
              "      <td>Gasoline</td>\n",
              "      <td>23392</td>\n",
              "      <td>Legend</td>\n",
              "    </tr>\n",
              "    <tr>\n",
              "      <th>2</th>\n",
              "      <td>Acura</td>\n",
              "      <td>Legend 3.2/3.5</td>\n",
              "      <td>1996</td>\n",
              "      <td>Gasoline</td>\n",
              "      <td>22682</td>\n",
              "      <td>Legend</td>\n",
              "    </tr>\n",
              "    <tr>\n",
              "      <th>3</th>\n",
              "      <td>Acura</td>\n",
              "      <td>Legend 3.2/3.5</td>\n",
              "      <td>1995</td>\n",
              "      <td>Gasoline</td>\n",
              "      <td>20648</td>\n",
              "      <td>Legend</td>\n",
              "    </tr>\n",
              "    <tr>\n",
              "      <th>4</th>\n",
              "      <td>Acura</td>\n",
              "      <td>Legend 3.2/3.5</td>\n",
              "      <td>1994</td>\n",
              "      <td>Gasoline</td>\n",
              "      <td>18343</td>\n",
              "      <td>Legend</td>\n",
              "    </tr>\n",
              "  </tbody>\n",
              "</table>\n",
              "</div>"
            ],
            "text/plain": [
              "   Marca           Carro Ano_Modelo Combustivel  Preco Nome_Carro\n",
              "0  Acura  Legend 3.2/3.5       1998    Gasoline  27942     Legend\n",
              "1  Acura  Legend 3.2/3.5       1997    Gasoline  23392     Legend\n",
              "2  Acura  Legend 3.2/3.5       1996    Gasoline  22682     Legend\n",
              "3  Acura  Legend 3.2/3.5       1995    Gasoline  20648     Legend\n",
              "4  Acura  Legend 3.2/3.5       1994    Gasoline  18343     Legend"
            ]
          },
          "metadata": {
            "tags": []
          },
          "execution_count": 12
        }
      ]
    },
    {
      "cell_type": "markdown",
      "metadata": {
        "id": "ii0jfZ0SCIJd",
        "colab_type": "text"
      },
      "source": [
        "#### Agora vou extrair as Cilindradas do motor, pois também acredito que irá influenciar preco do carro"
      ]
    },
    {
      "cell_type": "code",
      "metadata": {
        "id": "Hi-WWyVoCcJt",
        "colab_type": "code",
        "outputId": "15ced2c1-1ddd-482b-c418-6a1ed02679d3",
        "colab": {
          "base_uri": "https://localhost:8080/",
          "height": 204
        }
      },
      "source": [
        "# Criando a coluna cilindradas através da extração do padrão (\"\\d\\.\\d\") que irá selecionar qualquer digito seguido de um ponto e outro qualquer digito\n",
        "data['Cilindradas'] = data.Carro.str.extract(\"(\\d\\.\\d)\", expand=True)\n",
        "\n",
        "# Visualizando o resulatdo\n",
        "data.head()"
      ],
      "execution_count": 13,
      "outputs": [
        {
          "output_type": "execute_result",
          "data": {
            "text/html": [
              "<div>\n",
              "<style scoped>\n",
              "    .dataframe tbody tr th:only-of-type {\n",
              "        vertical-align: middle;\n",
              "    }\n",
              "\n",
              "    .dataframe tbody tr th {\n",
              "        vertical-align: top;\n",
              "    }\n",
              "\n",
              "    .dataframe thead th {\n",
              "        text-align: right;\n",
              "    }\n",
              "</style>\n",
              "<table border=\"1\" class=\"dataframe\">\n",
              "  <thead>\n",
              "    <tr style=\"text-align: right;\">\n",
              "      <th></th>\n",
              "      <th>Marca</th>\n",
              "      <th>Carro</th>\n",
              "      <th>Ano_Modelo</th>\n",
              "      <th>Combustivel</th>\n",
              "      <th>Preco</th>\n",
              "      <th>Nome_Carro</th>\n",
              "      <th>Cilindradas</th>\n",
              "    </tr>\n",
              "  </thead>\n",
              "  <tbody>\n",
              "    <tr>\n",
              "      <th>0</th>\n",
              "      <td>Acura</td>\n",
              "      <td>Legend 3.2/3.5</td>\n",
              "      <td>1998</td>\n",
              "      <td>Gasoline</td>\n",
              "      <td>27942</td>\n",
              "      <td>Legend</td>\n",
              "      <td>3.2</td>\n",
              "    </tr>\n",
              "    <tr>\n",
              "      <th>1</th>\n",
              "      <td>Acura</td>\n",
              "      <td>Legend 3.2/3.5</td>\n",
              "      <td>1997</td>\n",
              "      <td>Gasoline</td>\n",
              "      <td>23392</td>\n",
              "      <td>Legend</td>\n",
              "      <td>3.2</td>\n",
              "    </tr>\n",
              "    <tr>\n",
              "      <th>2</th>\n",
              "      <td>Acura</td>\n",
              "      <td>Legend 3.2/3.5</td>\n",
              "      <td>1996</td>\n",
              "      <td>Gasoline</td>\n",
              "      <td>22682</td>\n",
              "      <td>Legend</td>\n",
              "      <td>3.2</td>\n",
              "    </tr>\n",
              "    <tr>\n",
              "      <th>3</th>\n",
              "      <td>Acura</td>\n",
              "      <td>Legend 3.2/3.5</td>\n",
              "      <td>1995</td>\n",
              "      <td>Gasoline</td>\n",
              "      <td>20648</td>\n",
              "      <td>Legend</td>\n",
              "      <td>3.2</td>\n",
              "    </tr>\n",
              "    <tr>\n",
              "      <th>4</th>\n",
              "      <td>Acura</td>\n",
              "      <td>Legend 3.2/3.5</td>\n",
              "      <td>1994</td>\n",
              "      <td>Gasoline</td>\n",
              "      <td>18343</td>\n",
              "      <td>Legend</td>\n",
              "      <td>3.2</td>\n",
              "    </tr>\n",
              "  </tbody>\n",
              "</table>\n",
              "</div>"
            ],
            "text/plain": [
              "   Marca           Carro Ano_Modelo Combustivel  Preco Nome_Carro Cilindradas\n",
              "0  Acura  Legend 3.2/3.5       1998    Gasoline  27942     Legend         3.2\n",
              "1  Acura  Legend 3.2/3.5       1997    Gasoline  23392     Legend         3.2\n",
              "2  Acura  Legend 3.2/3.5       1996    Gasoline  22682     Legend         3.2\n",
              "3  Acura  Legend 3.2/3.5       1995    Gasoline  20648     Legend         3.2\n",
              "4  Acura  Legend 3.2/3.5       1994    Gasoline  18343     Legend         3.2"
            ]
          },
          "metadata": {
            "tags": []
          },
          "execution_count": 13
        }
      ]
    },
    {
      "cell_type": "markdown",
      "metadata": {
        "id": "j8Ofy2X8ETa_",
        "colab_type": "text"
      },
      "source": [
        "#### Outra variavel que pode influenciar no preço do carro é se ele é automático , semi-automatico ou mecânico"
      ]
    },
    {
      "cell_type": "code",
      "metadata": {
        "id": "NDgcmqi-Fz5m",
        "colab_type": "code",
        "colab": {
          "base_uri": "https://localhost:8080/",
          "height": 204
        },
        "outputId": "95354ed8-972a-499e-d432-34502e39aa3b"
      },
      "source": [
        "# Criando uma Coluna somente com valor \" Mec \"\n",
        "data['Cambio'] = 'Mec'\n",
        "data.head()"
      ],
      "execution_count": 14,
      "outputs": [
        {
          "output_type": "execute_result",
          "data": {
            "text/html": [
              "<div>\n",
              "<style scoped>\n",
              "    .dataframe tbody tr th:only-of-type {\n",
              "        vertical-align: middle;\n",
              "    }\n",
              "\n",
              "    .dataframe tbody tr th {\n",
              "        vertical-align: top;\n",
              "    }\n",
              "\n",
              "    .dataframe thead th {\n",
              "        text-align: right;\n",
              "    }\n",
              "</style>\n",
              "<table border=\"1\" class=\"dataframe\">\n",
              "  <thead>\n",
              "    <tr style=\"text-align: right;\">\n",
              "      <th></th>\n",
              "      <th>Marca</th>\n",
              "      <th>Carro</th>\n",
              "      <th>Ano_Modelo</th>\n",
              "      <th>Combustivel</th>\n",
              "      <th>Preco</th>\n",
              "      <th>Nome_Carro</th>\n",
              "      <th>Cilindradas</th>\n",
              "      <th>Cambio</th>\n",
              "    </tr>\n",
              "  </thead>\n",
              "  <tbody>\n",
              "    <tr>\n",
              "      <th>0</th>\n",
              "      <td>Acura</td>\n",
              "      <td>Legend 3.2/3.5</td>\n",
              "      <td>1998</td>\n",
              "      <td>Gasoline</td>\n",
              "      <td>27942</td>\n",
              "      <td>Legend</td>\n",
              "      <td>3.2</td>\n",
              "      <td>Mec</td>\n",
              "    </tr>\n",
              "    <tr>\n",
              "      <th>1</th>\n",
              "      <td>Acura</td>\n",
              "      <td>Legend 3.2/3.5</td>\n",
              "      <td>1997</td>\n",
              "      <td>Gasoline</td>\n",
              "      <td>23392</td>\n",
              "      <td>Legend</td>\n",
              "      <td>3.2</td>\n",
              "      <td>Mec</td>\n",
              "    </tr>\n",
              "    <tr>\n",
              "      <th>2</th>\n",
              "      <td>Acura</td>\n",
              "      <td>Legend 3.2/3.5</td>\n",
              "      <td>1996</td>\n",
              "      <td>Gasoline</td>\n",
              "      <td>22682</td>\n",
              "      <td>Legend</td>\n",
              "      <td>3.2</td>\n",
              "      <td>Mec</td>\n",
              "    </tr>\n",
              "    <tr>\n",
              "      <th>3</th>\n",
              "      <td>Acura</td>\n",
              "      <td>Legend 3.2/3.5</td>\n",
              "      <td>1995</td>\n",
              "      <td>Gasoline</td>\n",
              "      <td>20648</td>\n",
              "      <td>Legend</td>\n",
              "      <td>3.2</td>\n",
              "      <td>Mec</td>\n",
              "    </tr>\n",
              "    <tr>\n",
              "      <th>4</th>\n",
              "      <td>Acura</td>\n",
              "      <td>Legend 3.2/3.5</td>\n",
              "      <td>1994</td>\n",
              "      <td>Gasoline</td>\n",
              "      <td>18343</td>\n",
              "      <td>Legend</td>\n",
              "      <td>3.2</td>\n",
              "      <td>Mec</td>\n",
              "    </tr>\n",
              "  </tbody>\n",
              "</table>\n",
              "</div>"
            ],
            "text/plain": [
              "   Marca           Carro Ano_Modelo  ... Nome_Carro Cilindradas Cambio\n",
              "0  Acura  Legend 3.2/3.5       1998  ...     Legend         3.2    Mec\n",
              "1  Acura  Legend 3.2/3.5       1997  ...     Legend         3.2    Mec\n",
              "2  Acura  Legend 3.2/3.5       1996  ...     Legend         3.2    Mec\n",
              "3  Acura  Legend 3.2/3.5       1995  ...     Legend         3.2    Mec\n",
              "4  Acura  Legend 3.2/3.5       1994  ...     Legend         3.2    Mec\n",
              "\n",
              "[5 rows x 8 columns]"
            ]
          },
          "metadata": {
            "tags": []
          },
          "execution_count": 14
        }
      ]
    },
    {
      "cell_type": "code",
      "metadata": {
        "id": "JLbSAsuVFrGl",
        "colab_type": "code",
        "colab": {
          "base_uri": "https://localhost:8080/",
          "height": 85
        },
        "outputId": "4302e1d0-d802-4519-d37e-93233c778623"
      },
      "source": [
        "# Filtrar todas as linhas que contenham o padrão \"Aut.\" e substituir na coluna Cambio por \" Aut \"\n",
        "data.loc[(data['Carro'].str.contains(\" Aut\\\\.\", regex=True)), \"Cambio\"] = \"Aut\"\n",
        "\n",
        "# Filtrar todas as linhas que contenham o padrão \" Semi-Aut.\" e substituir na coluna Cambio por \" Semi-Aut \"\n",
        "data.loc[(data['Carro'].str.contains(\" Semi-Aut\\\\.\", regex=True)), \"Cambio\"] = \"Semi-Aut\"\n",
        "\n",
        "# Visualizando a quantidade de carros com cambio automatico, semi-automatio e mecânico\n",
        "data.Cambio.value_counts()"
      ],
      "execution_count": 15,
      "outputs": [
        {
          "output_type": "execute_result",
          "data": {
            "text/plain": [
              "Mec         18018\n",
              "Aut          3758\n",
              "Semi-Aut       21\n",
              "Name: Cambio, dtype: int64"
            ]
          },
          "metadata": {
            "tags": []
          },
          "execution_count": 15
        }
      ]
    },
    {
      "cell_type": "markdown",
      "metadata": {
        "id": "d1Ov9i6wIyyO",
        "colab_type": "text"
      },
      "source": [
        "#### Por ultimo vou visualizar os tipos de dados e se necessario irei conveter para o tipo correto, checar se existe valores ausentes e remover a coluna carro , pois não preciso mais dela!\n"
      ]
    },
    {
      "cell_type": "code",
      "metadata": {
        "id": "B_lLQccAJBbo",
        "colab_type": "code",
        "colab": {
          "base_uri": "https://localhost:8080/",
          "height": 272
        },
        "outputId": "fba65908-8d27-498b-942b-88e42a07084b"
      },
      "source": [
        "data.info()"
      ],
      "execution_count": 16,
      "outputs": [
        {
          "output_type": "stream",
          "text": [
            "<class 'pandas.core.frame.DataFrame'>\n",
            "RangeIndex: 21797 entries, 0 to 21796\n",
            "Data columns (total 8 columns):\n",
            " #   Column       Non-Null Count  Dtype \n",
            "---  ------       --------------  ----- \n",
            " 0   Marca        21797 non-null  object\n",
            " 1   Carro        21797 non-null  object\n",
            " 2   Ano_Modelo   21797 non-null  object\n",
            " 3   Combustivel  21797 non-null  object\n",
            " 4   Preco        21797 non-null  object\n",
            " 5   Nome_Carro   21797 non-null  object\n",
            " 6   Cilindradas  19569 non-null  object\n",
            " 7   Cambio       21797 non-null  object\n",
            "dtypes: object(8)\n",
            "memory usage: 1.3+ MB\n"
          ],
          "name": "stdout"
        }
      ]
    },
    {
      "cell_type": "markdown",
      "metadata": {
        "id": "sdlDaXaxJrNJ",
        "colab_type": "text"
      },
      "source": [
        "#### Olhando as informações acima vejo que a coluna Preço precisa ser transformada para o tipo numerico e a coluna Cilindradas contem valores ausentes"
      ]
    },
    {
      "cell_type": "code",
      "metadata": {
        "id": "w-K61vm5KA2K",
        "colab_type": "code",
        "colab": {
          "base_uri": "https://localhost:8080/",
          "height": 272
        },
        "outputId": "f6a02676-63ba-4afd-ab25-52db6518b09c"
      },
      "source": [
        "# Convertendo a coluna Preco de object para int64\n",
        "data['Preco'] = pd.to_numeric(data['Preco'], errors='coerce')\n",
        "\n",
        "# Conferindo o resultado\n",
        "data.info()"
      ],
      "execution_count": 17,
      "outputs": [
        {
          "output_type": "stream",
          "text": [
            "<class 'pandas.core.frame.DataFrame'>\n",
            "RangeIndex: 21797 entries, 0 to 21796\n",
            "Data columns (total 8 columns):\n",
            " #   Column       Non-Null Count  Dtype \n",
            "---  ------       --------------  ----- \n",
            " 0   Marca        21797 non-null  object\n",
            " 1   Carro        21797 non-null  object\n",
            " 2   Ano_Modelo   21797 non-null  object\n",
            " 3   Combustivel  21797 non-null  object\n",
            " 4   Preco        21797 non-null  int64 \n",
            " 5   Nome_Carro   21797 non-null  object\n",
            " 6   Cilindradas  19569 non-null  object\n",
            " 7   Cambio       21797 non-null  object\n",
            "dtypes: int64(1), object(7)\n",
            "memory usage: 1.3+ MB\n"
          ],
          "name": "stdout"
        }
      ]
    },
    {
      "cell_type": "code",
      "metadata": {
        "id": "rlVfXUNWK1hr",
        "colab_type": "code",
        "colab": {
          "base_uri": "https://localhost:8080/",
          "height": 34
        },
        "outputId": "260f53c4-ba1b-45a1-a6f3-0d491deb2416"
      },
      "source": [
        "# Armmazenando o total de registros do dataframe na variavel \" data_total\"\n",
        "data_total = len(data)\n",
        "\n",
        "# Armmazenando o total de registros da na coluna Cilindradas na variavel  \" data_cilindradas_total \"\n",
        "data_cilindradas_total = len(data.Cilindradas) - (data.Cilindradas.isnull().sum())\n",
        "\n",
        "# Calculando a diferença de \" data_total e data_cilindradas_total \"\n",
        "diff = data_total - data_cilindradas_total\n",
        "\n",
        "# Calculando a porcentagem de valores ausentes na coluna \" Cilindradas \"\n",
        "porcentagem = (diff / data_total)*100\n",
        "\n",
        "# Imprimindo a porcentagem de valores ausentes na coluna \" Cilindradas \"\n",
        "print('Porcentagem de valores ausentes na coluna Cilindradas: {:.0f}%'.format(porcentagem.round(0)))"
      ],
      "execution_count": 18,
      "outputs": [
        {
          "output_type": "stream",
          "text": [
            "Porcentagem de valores ausentes na coluna Cilindradas: 10%\n"
          ],
          "name": "stdout"
        }
      ]
    },
    {
      "cell_type": "markdown",
      "metadata": {
        "id": "14VYOkRBRWtd",
        "colab_type": "text"
      },
      "source": [
        "#### Após verificar numero de valores ausentes na coluna Cilindradas cheguei ao valor de 10% , que é um valor a se considerar na vida real, como opção teria que verificar porque os valores não estão disponiveis na tabela , ou até mesmo tentar obter esses valores usando algum meio de coleta de dados, mais como o objetivo desta EDA é didadtico vou optar por excluir os valores ausentes."
      ]
    },
    {
      "cell_type": "code",
      "metadata": {
        "id": "fu2sJiMqSYZI",
        "colab_type": "code",
        "colab": {
          "base_uri": "https://localhost:8080/",
          "height": 34
        },
        "outputId": "0f9d022e-bb5d-4fd5-b7d1-d5b8447634ff"
      },
      "source": [
        "# Excluindo as linhas que contenham valores ausentes\n",
        "data.dropna(axis= 0, inplace= True)\n",
        "\n",
        "# Visualizando novo numero de linhas e colunas\n",
        "data.shape"
      ],
      "execution_count": 19,
      "outputs": [
        {
          "output_type": "execute_result",
          "data": {
            "text/plain": [
              "(19569, 8)"
            ]
          },
          "metadata": {
            "tags": []
          },
          "execution_count": 19
        }
      ]
    },
    {
      "cell_type": "code",
      "metadata": {
        "id": "ykIvVClPTHbn",
        "colab_type": "code",
        "colab": {
          "base_uri": "https://localhost:8080/",
          "height": 204
        },
        "outputId": "a171fb35-04df-4711-c91e-661fdbfb8985"
      },
      "source": [
        "# Excluindo a coluna Carro\n",
        "data.drop('Carro', axis= 1, inplace=True)\n",
        "\n",
        "# Visualizando o resultado\n",
        "data.head()"
      ],
      "execution_count": 20,
      "outputs": [
        {
          "output_type": "execute_result",
          "data": {
            "text/html": [
              "<div>\n",
              "<style scoped>\n",
              "    .dataframe tbody tr th:only-of-type {\n",
              "        vertical-align: middle;\n",
              "    }\n",
              "\n",
              "    .dataframe tbody tr th {\n",
              "        vertical-align: top;\n",
              "    }\n",
              "\n",
              "    .dataframe thead th {\n",
              "        text-align: right;\n",
              "    }\n",
              "</style>\n",
              "<table border=\"1\" class=\"dataframe\">\n",
              "  <thead>\n",
              "    <tr style=\"text-align: right;\">\n",
              "      <th></th>\n",
              "      <th>Marca</th>\n",
              "      <th>Ano_Modelo</th>\n",
              "      <th>Combustivel</th>\n",
              "      <th>Preco</th>\n",
              "      <th>Nome_Carro</th>\n",
              "      <th>Cilindradas</th>\n",
              "      <th>Cambio</th>\n",
              "    </tr>\n",
              "  </thead>\n",
              "  <tbody>\n",
              "    <tr>\n",
              "      <th>0</th>\n",
              "      <td>Acura</td>\n",
              "      <td>1998</td>\n",
              "      <td>Gasoline</td>\n",
              "      <td>27942</td>\n",
              "      <td>Legend</td>\n",
              "      <td>3.2</td>\n",
              "      <td>Mec</td>\n",
              "    </tr>\n",
              "    <tr>\n",
              "      <th>1</th>\n",
              "      <td>Acura</td>\n",
              "      <td>1997</td>\n",
              "      <td>Gasoline</td>\n",
              "      <td>23392</td>\n",
              "      <td>Legend</td>\n",
              "      <td>3.2</td>\n",
              "      <td>Mec</td>\n",
              "    </tr>\n",
              "    <tr>\n",
              "      <th>2</th>\n",
              "      <td>Acura</td>\n",
              "      <td>1996</td>\n",
              "      <td>Gasoline</td>\n",
              "      <td>22682</td>\n",
              "      <td>Legend</td>\n",
              "      <td>3.2</td>\n",
              "      <td>Mec</td>\n",
              "    </tr>\n",
              "    <tr>\n",
              "      <th>3</th>\n",
              "      <td>Acura</td>\n",
              "      <td>1995</td>\n",
              "      <td>Gasoline</td>\n",
              "      <td>20648</td>\n",
              "      <td>Legend</td>\n",
              "      <td>3.2</td>\n",
              "      <td>Mec</td>\n",
              "    </tr>\n",
              "    <tr>\n",
              "      <th>4</th>\n",
              "      <td>Acura</td>\n",
              "      <td>1994</td>\n",
              "      <td>Gasoline</td>\n",
              "      <td>18343</td>\n",
              "      <td>Legend</td>\n",
              "      <td>3.2</td>\n",
              "      <td>Mec</td>\n",
              "    </tr>\n",
              "  </tbody>\n",
              "</table>\n",
              "</div>"
            ],
            "text/plain": [
              "   Marca Ano_Modelo Combustivel  Preco Nome_Carro Cilindradas Cambio\n",
              "0  Acura       1998    Gasoline  27942     Legend         3.2    Mec\n",
              "1  Acura       1997    Gasoline  23392     Legend         3.2    Mec\n",
              "2  Acura       1996    Gasoline  22682     Legend         3.2    Mec\n",
              "3  Acura       1995    Gasoline  20648     Legend         3.2    Mec\n",
              "4  Acura       1994    Gasoline  18343     Legend         3.2    Mec"
            ]
          },
          "metadata": {
            "tags": []
          },
          "execution_count": 20
        }
      ]
    },
    {
      "cell_type": "markdown",
      "metadata": {
        "id": "E0jQf3FgVV9n",
        "colab_type": "text"
      },
      "source": [
        "![alt text](https://media.giphy.com/media/YTbZzCkRQCEJa/giphy.gif)\n",
        "\n",
        "Finalmente alcancei meus objetivos !"
      ]
    }
  ]
}